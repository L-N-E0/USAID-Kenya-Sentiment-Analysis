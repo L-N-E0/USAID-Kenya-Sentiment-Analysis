{
 "cells": [
  {
   "cell_type": "markdown",
   "id": "69f35898",
   "metadata": {},
   "source": [
    "### USAUD FUNDING CUTS SENTIMENT ANALYSIS "
   ]
  },
  {
   "cell_type": "markdown",
   "id": "32b33964",
   "metadata": {},
   "source": [
    "### Introduction"
   ]
  },
  {
   "cell_type": "markdown",
   "id": "4b68823a",
   "metadata": {},
   "source": [
    ".....(light intro text)\n",
    ".....(TBD)"
   ]
  },
  {
   "cell_type": "markdown",
   "id": "7b15690d",
   "metadata": {},
   "source": [
    "### Data "
   ]
  },
  {
   "cell_type": "markdown",
   "id": "77b0c730",
   "metadata": {},
   "source": [
    "This is data preparation phase for the project. The dataset used here is compiled from two primary sources: Reddit (via web scraping) and NewsAPI (via API calls). Each contributor collected data independently from these platforms, targeting relevant topics for analysis. Below, we begin by importing the collected datasets, merging them, and performing initial cleaning steps to prepare the data for further exploration and modeling.\n",
    "\n"
   ]
  },
  {
   "cell_type": "markdown",
   "id": "a3c78cbe",
   "metadata": {},
   "source": [
    "#### Data Importation"
   ]
  },
  {
   "cell_type": "markdown",
   "id": "fd92f453",
   "metadata": {},
   "source": [
    "##### news_data"
   ]
  },
  {
   "cell_type": "code",
   "execution_count": 1,
   "id": "e5fbe550",
   "metadata": {},
   "outputs": [
    {
     "name": "stdout",
     "output_type": "stream",
     "text": [
      "Columns in Agatha_news.csv:\n",
      "['keyword', 'source', 'author', 'title', 'description', 'content', 'publishedAt', 'url']\n",
      "--------------------------------------------------\n",
      "Columns in Agatha_news_fulltext.csv:\n",
      "['keyword', 'source', 'author', 'title', 'publishedAt', 'summary', 'text', 'url']\n",
      "--------------------------------------------------\n",
      "Columns in cecilia.newsapi.csv:\n",
      "['keyword', 'source', 'author', 'title', 'description', 'content', 'url', 'publishedAt', 'urlToImage']\n",
      "--------------------------------------------------\n",
      "Columns in leo_newsapi_articles_enriched.csv:\n",
      "['source', 'author', 'title', 'description', 'content', 'url', 'published_at', 'full_text']\n",
      "--------------------------------------------------\n",
      "Columns in Mbego_news_usaid_kenya_fulltext.csv:\n",
      "['source', 'author', 'title', 'description', 'url', 'publishedAt', 'summary', 'full_text']\n",
      "--------------------------------------------------\n",
      "Columns in Mbego_news_usaid_kenya_recent.csv:\n",
      "['source', 'author', 'title', 'description', 'url', 'publishedAt', 'content']\n",
      "--------------------------------------------------\n",
      "Columns in newsapi_usaid_articles.csv:\n",
      "['title', 'description', 'url', 'publishedAt', 'source', 'content']\n",
      "--------------------------------------------------\n",
      "Columns in ruth_news.csv:\n",
      "['Unnamed: 0', 'source', 'title', 'description', 'content', 'url', 'publishedAt']\n",
      "--------------------------------------------------\n"
     ]
    }
   ],
   "source": [
    "import os\n",
    "import pandas as pd\n",
    "\n",
    "# Set the path to your news_data folder\n",
    "folder_path = r'N:\\Moringa\\afterM\\Leo NLP 004 USAID 01.06.2025\\USAID-Kenya-Sentiment-Analysis\\data\\raw\\news_data'\n",
    "\n",
    "# List all CSV files in the folder\n",
    "csv_files = [f for f in os.listdir(folder_path) if f.endswith('.csv')]\n",
    "\n",
    "# Read and display columns for each CSV file\n",
    "for file in csv_files:\n",
    "    file_path = os.path.join(folder_path, file)\n",
    "    try:\n",
    "        raw_reddit_df = pd.read_csv(file_path, nrows=0)  # Read only headers\n",
    "        print(f\"Columns in {file}:\")\n",
    "        print(list(raw_reddit_df.columns))\n",
    "        print(\"-\" * 50)\n",
    "    except Exception as e:\n",
    "        print(f\"Error reading {file}: {e}\")\n"
   ]
  },
  {
   "cell_type": "markdown",
   "id": "d43cccdc",
   "metadata": {},
   "source": [
    "##### reddit_data"
   ]
  },
  {
   "cell_type": "code",
   "execution_count": 2,
   "id": "7c6b954b",
   "metadata": {},
   "outputs": [
    {
     "name": "stdout",
     "output_type": "stream",
     "text": [
      "Columns in Agatha_reddit.csv:\n",
      "['title', 'selftext', 'subreddit', 'author', 'created_utc', 'url', 'score', 'num_comments', 'keyword']\n",
      "--------------------------------------------------\n",
      "Columns in cecilia.redditsubs.csv:\n",
      "['subreddit', 'keyword', 'title', 'text', 'date_posted', 'upvotes', 'comments', 'url', 'permalink']\n",
      "--------------------------------------------------\n",
      "Columns in cecilia.reddit_nbo_ke_africa.csv:\n",
      "['subreddit', 'keyword', 'title', 'text', 'date_posted', 'upvotes', 'comments', 'url', 'permalink']\n",
      "--------------------------------------------------\n",
      "Columns in leo_reddit_posts.csv:\n",
      "['subreddit', 'search_term', 'title', 'text', 'created_utc', 'created_date', 'score', 'num_comments', 'permalink', 'url']\n",
      "--------------------------------------------------\n",
      "Columns in Mbego_reddit_usaid_kenya.csv:\n",
      "['title', 'score', 'url', 'created', 'subreddit', 'selftext']\n",
      "--------------------------------------------------\n",
      "Columns in Mbego_reddit_usaid_kenya2.csv:\n",
      "['title', 'score', 'url', 'created', 'subreddit', 'selftext']\n",
      "--------------------------------------------------\n",
      "Columns in reddit_usaid_kenya.csv:\n",
      "['title', 'score', 'url', 'created', 'subreddit', 'selftext']\n",
      "--------------------------------------------------\n",
      "Columns in reddit_usaid_sentiment.csv:\n",
      "['subreddit', 'title', 'score', 'url', 'created_utc', 'num_comments', 'selftext']\n",
      "--------------------------------------------------\n",
      "Columns in ruth_reddit.csv:\n",
      "['Unnamed: 0', 'subreddit', 'title', 'score', 'url', 'created_utc', 'num_comments', 'selftext']\n",
      "--------------------------------------------------\n"
     ]
    }
   ],
   "source": [
    "\n",
    "# Set the path to your news_data folder\n",
    "folder_path = r'N:\\Moringa\\afterM\\Leo NLP 004 USAID 01.06.2025\\USAID-Kenya-Sentiment-Analysis\\data\\raw\\reddit_data'\n",
    "\n",
    "# List all CSV files in the folder\n",
    "csv_files = [f for f in os.listdir(folder_path) if f.endswith('.csv')]\n",
    "\n",
    "# Read and display columns for each CSV file\n",
    "for file in csv_files:\n",
    "    file_path = os.path.join(folder_path, file)\n",
    "    try:\n",
    "        raw_reddit_df = pd.read_csv(file_path, nrows=0)  # Read only headers\n",
    "        print(f\"Columns in {file}:\")\n",
    "        print(list(raw_reddit_df.columns))\n",
    "        print(\"-\" * 50)\n",
    "    except Exception as e:\n",
    "        print(f\"Error reading {file}: {e}\")\n"
   ]
  },
  {
   "cell_type": "markdown",
   "id": "5f22927d",
   "metadata": {},
   "source": [
    "#### Data Merging "
   ]
  },
  {
   "cell_type": "markdown",
   "id": "c9da281b",
   "metadata": {},
   "source": [
    "##### news_data\n",
    "\n"
   ]
  },
  {
   "cell_type": "code",
   "execution_count": 3,
   "id": "6702b9df",
   "metadata": {},
   "outputs": [
    {
     "name": "stdout",
     "output_type": "stream",
     "text": [
      "✅ Merged: Agatha_news.csv\n",
      "✅ Merged: Agatha_news_fulltext.csv\n",
      "✅ Merged: cecilia.newsapi.csv\n",
      "✅ Merged: leo_newsapi_articles_enriched.csv\n",
      "✅ Merged: Mbego_news_usaid_kenya_fulltext.csv\n",
      "✅ Merged: Mbego_news_usaid_kenya_recent.csv\n",
      "✅ Merged: newsapi_usaid_articles.csv\n",
      "✅ Merged: ruth_news.csv\n"
     ]
    }
   ],
   "source": [
    "\n",
    "# Folder containing all News CSVs\n",
    "folder_path = r'N:\\Moringa\\afterM\\Leo NLP 004 USAID 01.06.2025\\USAID-Kenya-Sentiment-Analysis\\data\\raw\\news_data'\n",
    "\n",
    "# Final save location\n",
    "save_path = r\"correct path removed\"\n",
    "\n",
    "# All .csv files in the news_data folder\n",
    "news_files = [f for f in os.listdir(folder_path) if f.endswith('.csv')]\n",
    "\n",
    "# Define the final standardized columns\n",
    "standard_news_cols = [\n",
    "    'keyword', 'source', 'author', 'title', 'description', 'content',\n",
    "    'summary', 'full_text', 'publishedAt', 'url', 'language'\n",
    "]\n",
    "\n",
    "# Create empty master DataFrame\n",
    "merged_news_df = pd.DataFrame(columns=standard_news_cols)\n",
    "\n",
    "# Loop through each file\n",
    "for file in news_files:\n",
    "    file_path = os.path.join(folder_path, file)\n",
    "    try:\n",
    "        raw_reddit_df = pd.read_csv(file_path)\n",
    "\n",
    "        # Drop index column if present\n",
    "        if 'Unnamed: 0' in raw_reddit_df.columns:\n",
    "            raw_reddit_df.drop(columns=['Unnamed: 0'], inplace=True)\n",
    "\n",
    "        # Standardize column names\n",
    "        raw_reddit_df.rename(columns={\n",
    "            'published_at': 'publishedAt',\n",
    "            'published_date': 'publishedAt',\n",
    "            'text': 'content'\n",
    "        }, inplace=True)\n",
    "\n",
    "        # Add missing columns\n",
    "        for col in standard_news_cols:\n",
    "            if col not in raw_reddit_df.columns:\n",
    "                raw_reddit_df[col] = pd.NA\n",
    "\n",
    "        # Align column order\n",
    "        raw_reddit_df = raw_reddit_df[standard_news_cols]\n",
    "\n",
    "        # Add to master DataFrame\n",
    "        merged_news_df = pd.concat([merged_news_df, raw_reddit_df], ignore_index=True)\n",
    "\n",
    "        print(f\"✅ Merged: {file}\")\n",
    "    except Exception as e:\n",
    "        print(f\" Error processing {file}: {e}\")\n",
    "\n",
    "# Save merged file\n",
    "#output_path = os.path.join(save_path, 'Mbego_all_news_merged.csv')\n",
    "#merged_news_df.to_csv(output_path, index=False)\n",
    "\n",
    "#print(f\"\\n✅ All News files merged and saved to '{output_path}'\")\n"
   ]
  },
  {
   "cell_type": "code",
   "execution_count": 4,
   "id": "b414361f",
   "metadata": {},
   "outputs": [
    {
     "data": {
      "text/html": [
       "<div>\n",
       "<style scoped>\n",
       "    .dataframe tbody tr th:only-of-type {\n",
       "        vertical-align: middle;\n",
       "    }\n",
       "\n",
       "    .dataframe tbody tr th {\n",
       "        vertical-align: top;\n",
       "    }\n",
       "\n",
       "    .dataframe thead th {\n",
       "        text-align: right;\n",
       "    }\n",
       "</style>\n",
       "<table border=\"1\" class=\"dataframe\">\n",
       "  <thead>\n",
       "    <tr style=\"text-align: right;\">\n",
       "      <th></th>\n",
       "      <th>keyword</th>\n",
       "      <th>source</th>\n",
       "      <th>author</th>\n",
       "      <th>title</th>\n",
       "      <th>description</th>\n",
       "      <th>content</th>\n",
       "      <th>summary</th>\n",
       "      <th>full_text</th>\n",
       "      <th>publishedAt</th>\n",
       "      <th>url</th>\n",
       "      <th>language</th>\n",
       "    </tr>\n",
       "  </thead>\n",
       "  <tbody>\n",
       "    <tr>\n",
       "      <th>0</th>\n",
       "      <td>usaid kenya</td>\n",
       "      <td>Al Jazeera English</td>\n",
       "      <td>Al Jazeera</td>\n",
       "      <td>Has DOGE really saved the US government $180bn?</td>\n",
       "      <td>Elon Musk first claimed the department would m...</td>\n",
       "      <td>President Donald Trump and adviser Elon Musk c...</td>\n",
       "      <td>NaN</td>\n",
       "      <td>NaN</td>\n",
       "      <td>2025-06-06T11:21:51Z</td>\n",
       "      <td>https://www.aljazeera.com/news/2025/6/6/has-do...</td>\n",
       "      <td>NaN</td>\n",
       "    </tr>\n",
       "    <tr>\n",
       "      <th>1</th>\n",
       "      <td>usaid kenya</td>\n",
       "      <td>CleanTechnica</td>\n",
       "      <td>Guest Contributor</td>\n",
       "      <td>The Life Story of Ecomobilus Technologies Limi...</td>\n",
       "      <td>By Prof Geoffrey Gitau Here is a story showcas...</td>\n",
       "      <td>By Prof Geoffrey Gitau\\r\\nHere is a story show...</td>\n",
       "      <td>NaN</td>\n",
       "      <td>NaN</td>\n",
       "      <td>2025-05-26T17:13:41Z</td>\n",
       "      <td>https://cleantechnica.com/2025/05/26/the-life-...</td>\n",
       "      <td>NaN</td>\n",
       "    </tr>\n",
       "    <tr>\n",
       "      <th>2</th>\n",
       "      <td>usaid kenya</td>\n",
       "      <td>ProPublica</td>\n",
       "      <td>by Brett Murphy and Anna Maria Barry-Jester</td>\n",
       "      <td>Death, Sexual Violence and Human Trafficking: ...</td>\n",
       "      <td>by Brett Murphy and Anna Maria Barry-Jester \\n...</td>\n",
       "      <td>ProPublica is a nonprofit newsroom that invest...</td>\n",
       "      <td>NaN</td>\n",
       "      <td>NaN</td>\n",
       "      <td>2025-05-28T18:45:00Z</td>\n",
       "      <td>https://www.propublica.org/article/trump-usaid...</td>\n",
       "      <td>NaN</td>\n",
       "    </tr>\n",
       "  </tbody>\n",
       "</table>\n",
       "</div>"
      ],
      "text/plain": [
       "       keyword              source  \\\n",
       "0  usaid kenya  Al Jazeera English   \n",
       "1  usaid kenya       CleanTechnica   \n",
       "2  usaid kenya          ProPublica   \n",
       "\n",
       "                                        author  \\\n",
       "0                                   Al Jazeera   \n",
       "1                            Guest Contributor   \n",
       "2  by Brett Murphy and Anna Maria Barry-Jester   \n",
       "\n",
       "                                               title  \\\n",
       "0    Has DOGE really saved the US government $180bn?   \n",
       "1  The Life Story of Ecomobilus Technologies Limi...   \n",
       "2  Death, Sexual Violence and Human Trafficking: ...   \n",
       "\n",
       "                                         description  \\\n",
       "0  Elon Musk first claimed the department would m...   \n",
       "1  By Prof Geoffrey Gitau Here is a story showcas...   \n",
       "2  by Brett Murphy and Anna Maria Barry-Jester \\n...   \n",
       "\n",
       "                                             content summary full_text  \\\n",
       "0  President Donald Trump and adviser Elon Musk c...     NaN       NaN   \n",
       "1  By Prof Geoffrey Gitau\\r\\nHere is a story show...     NaN       NaN   \n",
       "2  ProPublica is a nonprofit newsroom that invest...     NaN       NaN   \n",
       "\n",
       "            publishedAt                                                url  \\\n",
       "0  2025-06-06T11:21:51Z  https://www.aljazeera.com/news/2025/6/6/has-do...   \n",
       "1  2025-05-26T17:13:41Z  https://cleantechnica.com/2025/05/26/the-life-...   \n",
       "2  2025-05-28T18:45:00Z  https://www.propublica.org/article/trump-usaid...   \n",
       "\n",
       "   language  \n",
       "0       NaN  \n",
       "1       NaN  \n",
       "2       NaN  "
      ]
     },
     "execution_count": 4,
     "metadata": {},
     "output_type": "execute_result"
    }
   ],
   "source": [
    "\n",
    "news_merged_path = r\"N:\\Moringa\\afterM\\Leo NLP 004 USAID 01.06.2025\\USAID-Kenya-Sentiment-Analysis\\data\\processed\\individual datasets\\Mbego_all_news_merged.csv\"\n",
    "\n",
    "news_mbegoall_df = pd.read_csv(news_merged_path)\n",
    "\n",
    "news_mbegoall_df.head(3)\n"
   ]
  },
  {
   "cell_type": "markdown",
   "id": "0e93497b",
   "metadata": {},
   "source": [
    "##### reddit_data"
   ]
  },
  {
   "cell_type": "code",
   "execution_count": 5,
   "id": "1fce7145",
   "metadata": {},
   "outputs": [
    {
     "name": "stdout",
     "output_type": "stream",
     "text": [
      "✅ Merged: Agatha_reddit.csv\n",
      "✅ Merged: cecilia.redditsubs.csv\n",
      "✅ Merged: cecilia.reddit_nbo_ke_africa.csv\n",
      "✅ Merged: leo_reddit_posts.csv\n",
      "✅ Merged: Mbego_reddit_usaid_kenya.csv\n",
      "✅ Merged: Mbego_reddit_usaid_kenya2.csv\n",
      "✅ Merged: reddit_usaid_kenya.csv\n",
      "✅ Merged: reddit_usaid_sentiment.csv\n",
      "✅ Merged: ruth_reddit.csv\n"
     ]
    }
   ],
   "source": [
    "\n",
    "# Define paths\n",
    "folder_path = r'N:\\Moringa\\afterM\\Leo NLP 004 USAID 01.06.2025\\USAID-Kenya-Sentiment-Analysis\\data\\raw\\reddit_data'\n",
    "save_path = r'N:\\Moringa\\afterM\\Leo NLP 004 USAID 01.06.2025\\USAID-Kenya-Sentiment-Analysis\\data\\processed\\individual datasets'\n",
    "\n",
    "# Define standard columns\n",
    "standard_cols = [\n",
    "    'title', 'selftext', 'subreddit', 'author', 'created_utc',\n",
    "    'created_date', 'score', 'num_comments', 'keyword', 'search_term',\n",
    "    'date_posted', 'upvotes', 'comments', 'url', 'permalink'\n",
    "]\n",
    "\n",
    "# Initialize master DataFrame\n",
    "merged_df = pd.DataFrame(columns=standard_cols)\n",
    "\n",
    "# Get all CSV files in folder\n",
    "reddit_files = [f for f in os.listdir(folder_path) if f.endswith('.csv')]\n",
    "\n",
    "# Loop through each CSV file\n",
    "for file in reddit_files:\n",
    "    file_path = os.path.join(folder_path, file)\n",
    "    try:\n",
    "        raw_reddit_df = pd.read_csv(file_path)\n",
    "\n",
    "        # Drop any unnamed index column\n",
    "        if 'Unnamed: 0' in raw_reddit_df.columns:\n",
    "            raw_reddit_df.drop(columns=['Unnamed: 0'], inplace=True)\n",
    "\n",
    "        # Rename common variations\n",
    "        raw_reddit_df.rename(columns={\n",
    "            'text': 'selftext',\n",
    "            'created': 'created_utc'\n",
    "        }, inplace=True)\n",
    "\n",
    "        # Add missing columns as empty (NA)\n",
    "        for col in standard_cols:\n",
    "            if col not in raw_reddit_df.columns:\n",
    "                raw_reddit_df[col] = pd.NA\n",
    "\n",
    "        # Reorder columns to match standard\n",
    "        raw_reddit_df = raw_reddit_df[standard_cols]\n",
    "\n",
    "        # Append to the master DataFrame\n",
    "        merged_df = pd.concat([merged_df, raw_reddit_df], ignore_index=True)\n",
    "\n",
    "        print(f\"✅ Merged: {file}\")\n",
    "    except Exception as e:\n",
    "        print(f\" Error processing {file}: {e}\")\n",
    "\n",
    "# Save merged result\n",
    "#output_file = os.path.join(save_path, 'mbego_all_reddit_merged.csv')\n",
    "#merged_df.to_csv(output_file, index=False)\n",
    "#print(f\"\\n✅ All Reddit files merged and saved to '{output_file}'\")\n"
   ]
  },
  {
   "cell_type": "code",
   "execution_count": 6,
   "id": "e7c67efe",
   "metadata": {},
   "outputs": [
    {
     "data": {
      "text/html": [
       "<div>\n",
       "<style scoped>\n",
       "    .dataframe tbody tr th:only-of-type {\n",
       "        vertical-align: middle;\n",
       "    }\n",
       "\n",
       "    .dataframe tbody tr th {\n",
       "        vertical-align: top;\n",
       "    }\n",
       "\n",
       "    .dataframe thead th {\n",
       "        text-align: right;\n",
       "    }\n",
       "</style>\n",
       "<table border=\"1\" class=\"dataframe\">\n",
       "  <thead>\n",
       "    <tr style=\"text-align: right;\">\n",
       "      <th></th>\n",
       "      <th>title</th>\n",
       "      <th>selftext</th>\n",
       "      <th>subreddit</th>\n",
       "      <th>author</th>\n",
       "      <th>created_utc</th>\n",
       "      <th>created_date</th>\n",
       "      <th>score</th>\n",
       "      <th>num_comments</th>\n",
       "      <th>keyword</th>\n",
       "      <th>search_term</th>\n",
       "      <th>date_posted</th>\n",
       "      <th>upvotes</th>\n",
       "      <th>comments</th>\n",
       "      <th>url</th>\n",
       "      <th>permalink</th>\n",
       "    </tr>\n",
       "  </thead>\n",
       "  <tbody>\n",
       "    <tr>\n",
       "      <th>0</th>\n",
       "      <td>USAID left a month ago, do we have ARVs in Kenya?</td>\n",
       "      <td>Someone on a different group (different websit...</td>\n",
       "      <td>Kenya</td>\n",
       "      <td>muerki</td>\n",
       "      <td>2025-04-15 13:16:53</td>\n",
       "      <td>NaN</td>\n",
       "      <td>3.0</td>\n",
       "      <td>5.0</td>\n",
       "      <td>usaid kenya</td>\n",
       "      <td>NaN</td>\n",
       "      <td>NaN</td>\n",
       "      <td>NaN</td>\n",
       "      <td>NaN</td>\n",
       "      <td>https://www.reddit.com/r/Kenya/comments/1jzrn2...</td>\n",
       "      <td>NaN</td>\n",
       "    </tr>\n",
       "    <tr>\n",
       "      <th>1</th>\n",
       "      <td>Classism in r/Kenya and r/nairobi</td>\n",
       "      <td>The classism I'm seeing in both subs is a good...</td>\n",
       "      <td>Kenya</td>\n",
       "      <td>Morio_anzenza</td>\n",
       "      <td>2025-04-07 04:21:12</td>\n",
       "      <td>NaN</td>\n",
       "      <td>169.0</td>\n",
       "      <td>95.0</td>\n",
       "      <td>usaid kenya</td>\n",
       "      <td>NaN</td>\n",
       "      <td>NaN</td>\n",
       "      <td>NaN</td>\n",
       "      <td>NaN</td>\n",
       "      <td>https://www.reddit.com/r/Kenya/comments/1jtcvb...</td>\n",
       "      <td>NaN</td>\n",
       "    </tr>\n",
       "    <tr>\n",
       "      <th>2</th>\n",
       "      <td>EX-USAID people!! Let's talk</td>\n",
       "      <td>Are you still in contact with the organisation...</td>\n",
       "      <td>Kenya</td>\n",
       "      <td>vindtar</td>\n",
       "      <td>2025-04-05 19:09:10</td>\n",
       "      <td>NaN</td>\n",
       "      <td>2.0</td>\n",
       "      <td>2.0</td>\n",
       "      <td>usaid kenya</td>\n",
       "      <td>NaN</td>\n",
       "      <td>NaN</td>\n",
       "      <td>NaN</td>\n",
       "      <td>NaN</td>\n",
       "      <td>https://www.reddit.com/r/Kenya/comments/1jsb14...</td>\n",
       "      <td>NaN</td>\n",
       "    </tr>\n",
       "  </tbody>\n",
       "</table>\n",
       "</div>"
      ],
      "text/plain": [
       "                                               title  \\\n",
       "0  USAID left a month ago, do we have ARVs in Kenya?   \n",
       "1                  Classism in r/Kenya and r/nairobi   \n",
       "2                       EX-USAID people!! Let's talk   \n",
       "\n",
       "                                            selftext subreddit         author  \\\n",
       "0  Someone on a different group (different websit...     Kenya         muerki   \n",
       "1  The classism I'm seeing in both subs is a good...     Kenya  Morio_anzenza   \n",
       "2  Are you still in contact with the organisation...     Kenya        vindtar   \n",
       "\n",
       "           created_utc created_date  score  num_comments      keyword  \\\n",
       "0  2025-04-15 13:16:53          NaN    3.0           5.0  usaid kenya   \n",
       "1  2025-04-07 04:21:12          NaN  169.0          95.0  usaid kenya   \n",
       "2  2025-04-05 19:09:10          NaN    2.0           2.0  usaid kenya   \n",
       "\n",
       "  search_term date_posted  upvotes  comments  \\\n",
       "0         NaN         NaN      NaN       NaN   \n",
       "1         NaN         NaN      NaN       NaN   \n",
       "2         NaN         NaN      NaN       NaN   \n",
       "\n",
       "                                                 url permalink  \n",
       "0  https://www.reddit.com/r/Kenya/comments/1jzrn2...       NaN  \n",
       "1  https://www.reddit.com/r/Kenya/comments/1jtcvb...       NaN  \n",
       "2  https://www.reddit.com/r/Kenya/comments/1jsb14...       NaN  "
      ]
     },
     "execution_count": 6,
     "metadata": {},
     "output_type": "execute_result"
    }
   ],
   "source": [
    "\n",
    "reddit_merged_path = r\"N:\\Moringa\\afterM\\Leo NLP 004 USAID 01.06.2025\\USAID-Kenya-Sentiment-Analysis\\data\\processed\\reddit_data\\reddit_data.csv\"\n",
    "\n",
    "raw_reddit_df = pd.read_csv(reddit_merged_path)\n",
    "\n",
    "raw_reddit_df.head(3)"
   ]
  },
  {
   "cell_type": "markdown",
   "id": "eeb97fef",
   "metadata": {},
   "source": [
    "---"
   ]
  },
  {
   "cell_type": "markdown",
   "id": "5b314281",
   "metadata": {},
   "source": [
    "#### Data Understanding "
   ]
  },
  {
   "cell_type": "markdown",
   "id": "8a4bcb57",
   "metadata": {},
   "source": [
    "##### News Data"
   ]
  },
  {
   "cell_type": "markdown",
   "id": "04f287e1",
   "metadata": {},
   "source": [
    "Basic Overview"
   ]
  },
  {
   "cell_type": "code",
   "execution_count": 7,
   "id": "8b97ad94",
   "metadata": {},
   "outputs": [],
   "source": [
    "proccessed_final_path = r\"N:\\Moringa\\afterM\\Leo NLP 004 USAID 01.06.2025\\USAID-Kenya-Sentiment-Analysis\\data\\processed\\news_data\\news_data.csv\" \n",
    "\n",
    "news_df = pd.read_csv(proccessed_final_path)"
   ]
  },
  {
   "cell_type": "code",
   "execution_count": 8,
   "id": "3cddc290",
   "metadata": {},
   "outputs": [
    {
     "data": {
      "text/html": [
       "<div>\n",
       "<style scoped>\n",
       "    .dataframe tbody tr th:only-of-type {\n",
       "        vertical-align: middle;\n",
       "    }\n",
       "\n",
       "    .dataframe tbody tr th {\n",
       "        vertical-align: top;\n",
       "    }\n",
       "\n",
       "    .dataframe thead th {\n",
       "        text-align: right;\n",
       "    }\n",
       "</style>\n",
       "<table border=\"1\" class=\"dataframe\">\n",
       "  <thead>\n",
       "    <tr style=\"text-align: right;\">\n",
       "      <th></th>\n",
       "      <th>title</th>\n",
       "      <th>description</th>\n",
       "      <th>text</th>\n",
       "      <th>url</th>\n",
       "      <th>keyword</th>\n",
       "      <th>published_date</th>\n",
       "      <th>source_file</th>\n",
       "    </tr>\n",
       "  </thead>\n",
       "  <tbody>\n",
       "    <tr>\n",
       "      <th>0</th>\n",
       "      <td>Has DOGE really saved the US government $180bn?</td>\n",
       "      <td>Elon Musk first claimed the department would m...</td>\n",
       "      <td>President Donald Trump and adviser Elon Musk c...</td>\n",
       "      <td>https://www.aljazeera.com/news/2025/6/6/has-do...</td>\n",
       "      <td>usaid kenya</td>\n",
       "      <td>2025-06-06</td>\n",
       "      <td>Agatha_news.csv</td>\n",
       "    </tr>\n",
       "    <tr>\n",
       "      <th>1</th>\n",
       "      <td>The Life Story of Ecomobilus Technologies Limi...</td>\n",
       "      <td>By Prof Geoffrey Gitau Here is a story showcas...</td>\n",
       "      <td>By Prof Geoffrey Gitau\\r\\nHere is a story show...</td>\n",
       "      <td>https://cleantechnica.com/2025/05/26/the-life-...</td>\n",
       "      <td>usaid kenya</td>\n",
       "      <td>2025-05-26</td>\n",
       "      <td>Agatha_news.csv</td>\n",
       "    </tr>\n",
       "    <tr>\n",
       "      <th>2</th>\n",
       "      <td>Death, Sexual Violence and Human Trafficking: ...</td>\n",
       "      <td>by Brett Murphy and Anna Maria Barry-Jester \\n...</td>\n",
       "      <td>ProPublica is a nonprofit newsroom that invest...</td>\n",
       "      <td>https://www.propublica.org/article/trump-usaid...</td>\n",
       "      <td>usaid kenya</td>\n",
       "      <td>2025-05-28</td>\n",
       "      <td>Agatha_news.csv</td>\n",
       "    </tr>\n",
       "    <tr>\n",
       "      <th>3</th>\n",
       "      <td>Congress Should Quickly Approve Trump’s Rescis...</td>\n",
       "      <td>President Donald Trump‘s rescission legislatio...</td>\n",
       "      <td>President Donald Trumps rescission legislation...</td>\n",
       "      <td>https://www.dailysignal.com/2025/06/10/congres...</td>\n",
       "      <td>usaid kenya</td>\n",
       "      <td>2025-06-10</td>\n",
       "      <td>Agatha_news.csv</td>\n",
       "    </tr>\n",
       "    <tr>\n",
       "      <th>4</th>\n",
       "      <td>Food Safety Depends On Every Link In The Suppl...</td>\n",
       "      <td>Almost 1 in 10 people globally fall ill from c...</td>\n",
       "      <td>Colorful fish and vegetables can be purchased ...</td>\n",
       "      <td>https://www.forbes.com/sites/daniellenierenber...</td>\n",
       "      <td>usaid kenya</td>\n",
       "      <td>2025-06-06</td>\n",
       "      <td>Agatha_news.csv</td>\n",
       "    </tr>\n",
       "  </tbody>\n",
       "</table>\n",
       "</div>"
      ],
      "text/plain": [
       "                                               title  \\\n",
       "0    Has DOGE really saved the US government $180bn?   \n",
       "1  The Life Story of Ecomobilus Technologies Limi...   \n",
       "2  Death, Sexual Violence and Human Trafficking: ...   \n",
       "3  Congress Should Quickly Approve Trump’s Rescis...   \n",
       "4  Food Safety Depends On Every Link In The Suppl...   \n",
       "\n",
       "                                         description  \\\n",
       "0  Elon Musk first claimed the department would m...   \n",
       "1  By Prof Geoffrey Gitau Here is a story showcas...   \n",
       "2  by Brett Murphy and Anna Maria Barry-Jester \\n...   \n",
       "3  President Donald Trump‘s rescission legislatio...   \n",
       "4  Almost 1 in 10 people globally fall ill from c...   \n",
       "\n",
       "                                                text  \\\n",
       "0  President Donald Trump and adviser Elon Musk c...   \n",
       "1  By Prof Geoffrey Gitau\\r\\nHere is a story show...   \n",
       "2  ProPublica is a nonprofit newsroom that invest...   \n",
       "3  President Donald Trumps rescission legislation...   \n",
       "4  Colorful fish and vegetables can be purchased ...   \n",
       "\n",
       "                                                 url      keyword  \\\n",
       "0  https://www.aljazeera.com/news/2025/6/6/has-do...  usaid kenya   \n",
       "1  https://cleantechnica.com/2025/05/26/the-life-...  usaid kenya   \n",
       "2  https://www.propublica.org/article/trump-usaid...  usaid kenya   \n",
       "3  https://www.dailysignal.com/2025/06/10/congres...  usaid kenya   \n",
       "4  https://www.forbes.com/sites/daniellenierenber...  usaid kenya   \n",
       "\n",
       "  published_date      source_file  \n",
       "0     2025-06-06  Agatha_news.csv  \n",
       "1     2025-05-26  Agatha_news.csv  \n",
       "2     2025-05-28  Agatha_news.csv  \n",
       "3     2025-06-10  Agatha_news.csv  \n",
       "4     2025-06-06  Agatha_news.csv  "
      ]
     },
     "execution_count": 8,
     "metadata": {},
     "output_type": "execute_result"
    }
   ],
   "source": [
    "news_df.head(5)"
   ]
  },
  {
   "cell_type": "code",
   "execution_count": 9,
   "id": "6728eeb1",
   "metadata": {},
   "outputs": [
    {
     "name": "stdout",
     "output_type": "stream",
     "text": [
      "(2549, 7)\n",
      "title             object\n",
      "description       object\n",
      "text              object\n",
      "url               object\n",
      "keyword           object\n",
      "published_date    object\n",
      "source_file       object\n",
      "dtype: object\n"
     ]
    }
   ],
   "source": [
    "print(news_df.shape)             # Rows and columns\n",
    "print(news_df.dtypes)           # Data types                \n"
   ]
  },
  {
   "cell_type": "code",
   "execution_count": 10,
   "id": "44e8f1f9",
   "metadata": {},
   "outputs": [],
   "source": [
    "news_df = news_df.drop(columns= ['source_file','url'])"
   ]
  },
  {
   "cell_type": "markdown",
   "id": "ebf4b0f2",
   "metadata": {},
   "source": [
    "Unique Values per Key Column"
   ]
  },
  {
   "cell_type": "code",
   "execution_count": 11,
   "id": "08e0aea7",
   "metadata": {},
   "outputs": [
    {
     "name": "stdout",
     "output_type": "stream",
     "text": [
      "1. Sample keywords: ['usaid kenya' 'usaid funding' 'usaid budget cut' 'kenya foreign aid'\n",
      " 'usaid suspended funding']\n",
      "2. Unique text: 1401\n",
      "3. Unique description: 1411\n",
      "4. Unique title: 1410\n"
     ]
    }
   ],
   "source": [
    "print(\"1. Sample keywords:\", news_df['keyword'].dropna().unique()[:5])\n",
    "print(\"2. Unique text:\", news_df['text'].nunique())\n",
    "print(\"3. Unique description:\", news_df['description'].nunique())\n",
    "print(\"4. Unique title:\", news_df['title'].dropna().nunique())\n"
   ]
  },
  {
   "cell_type": "markdown",
   "id": "01467e8f",
   "metadata": {},
   "source": [
    "Date Range"
   ]
  },
  {
   "cell_type": "code",
   "execution_count": 12,
   "id": "c09a5607",
   "metadata": {},
   "outputs": [
    {
     "name": "stdout",
     "output_type": "stream",
     "text": [
      "Date range: 2025-05-09 00:00:00 to 2025-06-23 00:00:00\n"
     ]
    }
   ],
   "source": [
    "news_df['published_date'] = pd.to_datetime(news_df['published_date'], errors='coerce')\n",
    "print(\"Date range:\", news_df['published_date'].min(), \"to\", news_df['published_date'].max())"
   ]
  },
  {
   "cell_type": "markdown",
   "id": "07dfbcea",
   "metadata": {},
   "source": [
    "Sample Full Article Text"
   ]
  },
  {
   "cell_type": "code",
   "execution_count": 13,
   "id": "dad6de43",
   "metadata": {},
   "outputs": [
    {
     "name": "stdout",
     "output_type": "stream",
     "text": [
      "                                                  title  \\\n",
      "797   Alarming Conditions and Federal Chaos Could Sp...   \n",
      "1091  Why ‘old people smell’ happens — and the super...   \n",
      "45    Debunking Vance, Rubio claim that only 12 cent...   \n",
      "\n",
      "                                            description  \\\n",
      "797   Experts say California is primed for a brutal ...   \n",
      "1091  Eau du elderly is characterized by top notes o...   \n",
      "45    U.S. President Donald Trump's allies often cit...   \n",
      "\n",
      "                                                   text  \n",
      "797   In January, destructive wildfires devastated L...  \n",
      "1091  There are few odors more immediately recogniza...  \n",
      "45    Claim:\\r\\nPeople in need have received only 12...  \n"
     ]
    }
   ],
   "source": [
    "sample = news_df[['title', 'description', 'text']].dropna().sample(3)\n",
    "print(sample)"
   ]
  },
  {
   "cell_type": "markdown",
   "id": "38885d94",
   "metadata": {},
   "source": [
    "`Columns Importance`"
   ]
  },
  {
   "cell_type": "code",
   "execution_count": 14,
   "id": "1efdeed7",
   "metadata": {},
   "outputs": [
    {
     "name": "stdout",
     "output_type": "stream",
     "text": [
      "['title', 'description', 'text', 'keyword', 'published_date']\n"
     ]
    }
   ],
   "source": [
    "print(news_df.columns.tolist()) "
   ]
  },
  {
   "cell_type": "code",
   "execution_count": 15,
   "id": "eb98592a",
   "metadata": {},
   "outputs": [],
   "source": [
    "#column_name:   brief info'\n",
    "\n",
    "# title:        Useful for headline analysis, summarization, keyword extraction, or sentiment approximation\n",
    "# description:  concise summary of the article\n",
    "# keyword:      metadata for filtering or guiding classification topics\n",
    "#*published_date:  Useful for temporal analysis, trend detection, or filtering by date (keeping at now if incase we tailor some visualizations as well)\n",
    "\n",
    "#missing after impt after group merge#\n",
    "# content:      Main body of the article. Crucial for any text-based NLP\n",
    "# source:       Helps identify bias or clustering by publisher; useful in framing analysis\n",
    "\n",
    "important_cols = ['title', 'description', 'published_date', 'text', 'keyword']\n",
    "news_df = news_df[important_cols] \n"
   ]
  },
  {
   "cell_type": "markdown",
   "id": "1f29d321",
   "metadata": {},
   "source": [
    "`Data cleaning (minor_ for quick cleaning)`"
   ]
  },
  {
   "cell_type": "markdown",
   "id": "1b09882a",
   "metadata": {},
   "source": [
    "Missing Data"
   ]
  },
  {
   "cell_type": "code",
   "execution_count": 16,
   "id": "c20e8f80",
   "metadata": {},
   "outputs": [
    {
     "name": "stdout",
     "output_type": "stream",
     "text": [
      "Missing values per column:\n",
      " keyword           170\n",
      "published_date     99\n",
      "text               25\n",
      "description        16\n",
      "title               0\n",
      "dtype: int64\n"
     ]
    }
   ],
   "source": [
    "missing = news_df.isna().sum().sort_values(ascending=False)\n",
    "print(\"Missing values per column:\\n\", missing)"
   ]
  },
  {
   "cell_type": "markdown",
   "id": "54b7a3d3",
   "metadata": {},
   "source": [
    "Filling missing text columns with empty strings"
   ]
  },
  {
   "cell_type": "code",
   "execution_count": 17,
   "id": "4b9da146",
   "metadata": {},
   "outputs": [],
   "source": [
    "news_df['text'] = news_df['text'].fillna('')\n",
    "news_df['description'] = news_df['description'].fillna('')\n",
    "news_df['keyword'] = news_df['keyword'].fillna('')\n",
    "\n",
    "# Drop rows where published_date is missing (NaT)\n",
    "news_df = news_df.dropna(subset=['published_date'])"
   ]
  },
  {
   "cell_type": "markdown",
   "id": "b64d8967",
   "metadata": {},
   "source": [
    "creating a new column to enrich NLP"
   ]
  },
  {
   "cell_type": "code",
   "execution_count": 18,
   "id": "ca5fafb4",
   "metadata": {},
   "outputs": [],
   "source": [
    "# Create the new combined column\n",
    "news_df['news_content'] = news_df['description'] + ' ' + news_df['text']"
   ]
  },
  {
   "cell_type": "markdown",
   "id": "c2b48915",
   "metadata": {},
   "source": [
    "drop the two merged columns and retain new column `news_content`"
   ]
  },
  {
   "cell_type": "code",
   "execution_count": 19,
   "id": "08f9272e",
   "metadata": {},
   "outputs": [],
   "source": [
    "news_df = news_df.drop(columns=['text','description'])"
   ]
  },
  {
   "cell_type": "markdown",
   "id": "59e2be95",
   "metadata": {},
   "source": [
    "> TBD on news data begin from cell blocks before this so after this is the last step and it is pre included as it is important for data viewing"
   ]
  },
  {
   "cell_type": "code",
   "execution_count": 20,
   "id": "0c7ada36",
   "metadata": {},
   "outputs": [
    {
     "data": {
      "text/html": [
       "<div>\n",
       "<style scoped>\n",
       "    .dataframe tbody tr th:only-of-type {\n",
       "        vertical-align: middle;\n",
       "    }\n",
       "\n",
       "    .dataframe tbody tr th {\n",
       "        vertical-align: top;\n",
       "    }\n",
       "\n",
       "    .dataframe thead th {\n",
       "        text-align: right;\n",
       "    }\n",
       "</style>\n",
       "<table border=\"1\" class=\"dataframe\">\n",
       "  <thead>\n",
       "    <tr style=\"text-align: right;\">\n",
       "      <th></th>\n",
       "      <th>title</th>\n",
       "      <th>published_date</th>\n",
       "      <th>keyword</th>\n",
       "      <th>news_content</th>\n",
       "    </tr>\n",
       "  </thead>\n",
       "  <tbody>\n",
       "    <tr>\n",
       "      <th>0</th>\n",
       "      <td>Has DOGE really saved the US government $180bn?</td>\n",
       "      <td>2025-06-06</td>\n",
       "      <td>usaid kenya</td>\n",
       "      <td>Elon Musk first claimed the department would m...</td>\n",
       "    </tr>\n",
       "    <tr>\n",
       "      <th>1</th>\n",
       "      <td>The Life Story of Ecomobilus Technologies Limi...</td>\n",
       "      <td>2025-05-26</td>\n",
       "      <td>usaid kenya</td>\n",
       "      <td>By Prof Geoffrey Gitau Here is a story showcas...</td>\n",
       "    </tr>\n",
       "    <tr>\n",
       "      <th>2</th>\n",
       "      <td>Death, Sexual Violence and Human Trafficking: ...</td>\n",
       "      <td>2025-05-28</td>\n",
       "      <td>usaid kenya</td>\n",
       "      <td>by Brett Murphy and Anna Maria Barry-Jester \\n...</td>\n",
       "    </tr>\n",
       "    <tr>\n",
       "      <th>3</th>\n",
       "      <td>Congress Should Quickly Approve Trump’s Rescis...</td>\n",
       "      <td>2025-06-10</td>\n",
       "      <td>usaid kenya</td>\n",
       "      <td>President Donald Trump‘s rescission legislatio...</td>\n",
       "    </tr>\n",
       "  </tbody>\n",
       "</table>\n",
       "</div>"
      ],
      "text/plain": [
       "                                               title published_date  \\\n",
       "0    Has DOGE really saved the US government $180bn?     2025-06-06   \n",
       "1  The Life Story of Ecomobilus Technologies Limi...     2025-05-26   \n",
       "2  Death, Sexual Violence and Human Trafficking: ...     2025-05-28   \n",
       "3  Congress Should Quickly Approve Trump’s Rescis...     2025-06-10   \n",
       "\n",
       "       keyword                                       news_content  \n",
       "0  usaid kenya  Elon Musk first claimed the department would m...  \n",
       "1  usaid kenya  By Prof Geoffrey Gitau Here is a story showcas...  \n",
       "2  usaid kenya  by Brett Murphy and Anna Maria Barry-Jester \\n...  \n",
       "3  usaid kenya  President Donald Trump‘s rescission legislatio...  "
      ]
     },
     "execution_count": 20,
     "metadata": {},
     "output_type": "execute_result"
    }
   ],
   "source": [
    "#assign my data to avoid re_runs\n",
    "temp_clean_newsdata = news_df\n",
    "temp_clean_newsdata.head(4)"
   ]
  },
  {
   "cell_type": "markdown",
   "id": "716825c9",
   "metadata": {},
   "source": [
    "Text processing"
   ]
  },
  {
   "cell_type": "code",
   "execution_count": 21,
   "id": "69e85865",
   "metadata": {},
   "outputs": [],
   "source": [
    "import pandas as pd\n",
    "import spacy\n",
    "from spacy.lang.en.stop_words import STOP_WORDS\n",
    "import string\n"
   ]
  },
  {
   "cell_type": "markdown",
   "id": "809a5d4c",
   "metadata": {},
   "source": [
    "Load dataset"
   ]
  },
  {
   "cell_type": "code",
   "execution_count": 22,
   "id": "f72cc03b",
   "metadata": {},
   "outputs": [],
   "source": [
    "# news_df is already available\n",
    "texts = news_df['news_content']\n"
   ]
  },
  {
   "cell_type": "markdown",
   "id": "62112df2",
   "metadata": {},
   "source": [
    "Load spaCy English model"
   ]
  },
  {
   "cell_type": "code",
   "execution_count": 23,
   "id": "907be505",
   "metadata": {},
   "outputs": [],
   "source": [
    "nlp = spacy.load(\"en_core_web_sm\")\n"
   ]
  },
  {
   "cell_type": "markdown",
   "id": "9be8ff89",
   "metadata": {},
   "source": [
    "Define cleaning function Steps inside: Lowercase Tokenize using spaCy Remove punctuation Remove stopwords, Lemmatize"
   ]
  },
  {
   "cell_type": "code",
   "execution_count": 24,
   "id": "62c0d378",
   "metadata": {},
   "outputs": [],
   "source": [
    "def clean_text(doc):\n",
    "    doc = nlp(doc.lower())  # lowercasing + tokenization\n",
    "    tokens = []\n",
    "    for token in doc:\n",
    "        # remove punctuation, stopwords, non-alphabetic\n",
    "        if token.text in string.punctuation:\n",
    "            continue\n",
    "        if token.is_stop:\n",
    "            continue\n",
    "        if not token.is_alpha:\n",
    "            continue\n",
    "        # lemmatize\n",
    "        tokens.append(token.lemma_)\n",
    "    return \" \".join(tokens)\n"
   ]
  },
  {
   "cell_type": "markdown",
   "id": "14f2c4d2",
   "metadata": {},
   "source": [
    "Cleaning to the column and rename "
   ]
  },
  {
   "cell_type": "code",
   "execution_count": 25,
   "id": "2415d504",
   "metadata": {},
   "outputs": [],
   "source": [
    "news_df['cleaned_content'] = news_df['news_content'].apply(clean_text)\n"
   ]
  },
  {
   "cell_type": "markdown",
   "id": "058872a9",
   "metadata": {},
   "source": [
    "Remove duplicates or empty entries"
   ]
  },
  {
   "cell_type": "code",
   "execution_count": 26,
   "id": "3a0c995b",
   "metadata": {},
   "outputs": [],
   "source": [
    "news_df.drop_duplicates(subset='cleaned_content', inplace=True)\n",
    "news_df.dropna(subset=['cleaned_content'], inplace=True)"
   ]
  },
  {
   "cell_type": "code",
   "execution_count": 27,
   "id": "aeee7693",
   "metadata": {},
   "outputs": [
    {
     "data": {
      "text/html": [
       "<div>\n",
       "<style scoped>\n",
       "    .dataframe tbody tr th:only-of-type {\n",
       "        vertical-align: middle;\n",
       "    }\n",
       "\n",
       "    .dataframe tbody tr th {\n",
       "        vertical-align: top;\n",
       "    }\n",
       "\n",
       "    .dataframe thead th {\n",
       "        text-align: right;\n",
       "    }\n",
       "</style>\n",
       "<table border=\"1\" class=\"dataframe\">\n",
       "  <thead>\n",
       "    <tr style=\"text-align: right;\">\n",
       "      <th></th>\n",
       "      <th>title</th>\n",
       "      <th>published_date</th>\n",
       "      <th>keyword</th>\n",
       "      <th>news_content</th>\n",
       "      <th>cleaned_content</th>\n",
       "    </tr>\n",
       "  </thead>\n",
       "  <tbody>\n",
       "    <tr>\n",
       "      <th>0</th>\n",
       "      <td>Has DOGE really saved the US government $180bn?</td>\n",
       "      <td>2025-06-06</td>\n",
       "      <td>usaid kenya</td>\n",
       "      <td>Elon Musk first claimed the department would m...</td>\n",
       "      <td>elon musk claim department saving trillion fig...</td>\n",
       "    </tr>\n",
       "    <tr>\n",
       "      <th>1</th>\n",
       "      <td>The Life Story of Ecomobilus Technologies Limi...</td>\n",
       "      <td>2025-05-26</td>\n",
       "      <td>usaid kenya</td>\n",
       "      <td>By Prof Geoffrey Gitau Here is a story showcas...</td>\n",
       "      <td>prof geoffrey gitau story showcase innovation ...</td>\n",
       "    </tr>\n",
       "    <tr>\n",
       "      <th>2</th>\n",
       "      <td>Death, Sexual Violence and Human Trafficking: ...</td>\n",
       "      <td>2025-05-28</td>\n",
       "      <td>usaid kenya</td>\n",
       "      <td>by Brett Murphy and Anna Maria Barry-Jester \\n...</td>\n",
       "      <td>brett murphy anna maria barry jester propublic...</td>\n",
       "    </tr>\n",
       "    <tr>\n",
       "      <th>3</th>\n",
       "      <td>Congress Should Quickly Approve Trump’s Rescis...</td>\n",
       "      <td>2025-06-10</td>\n",
       "      <td>usaid kenya</td>\n",
       "      <td>President Donald Trump‘s rescission legislatio...</td>\n",
       "      <td>president donald rescission legislation finall...</td>\n",
       "    </tr>\n",
       "    <tr>\n",
       "      <th>4</th>\n",
       "      <td>Food Safety Depends On Every Link In The Suppl...</td>\n",
       "      <td>2025-06-06</td>\n",
       "      <td>usaid kenya</td>\n",
       "      <td>Almost 1 in 10 people globally fall ill from c...</td>\n",
       "      <td>people globally fall ill contaminate food year...</td>\n",
       "    </tr>\n",
       "    <tr>\n",
       "      <th>5</th>\n",
       "      <td>AFRICOM asks for help deterring terrorism, aft...</td>\n",
       "      <td>2025-05-29</td>\n",
       "      <td>usaid kenya</td>\n",
       "      <td>Groups like al-Shabaab see USAID withdrawal as...</td>\n",
       "      <td>group like al shabaab usaid withdrawal opportu...</td>\n",
       "    </tr>\n",
       "    <tr>\n",
       "      <th>6</th>\n",
       "      <td>Africa Needs More Renewables, So Why Is It Inv...</td>\n",
       "      <td>2025-05-20</td>\n",
       "      <td>usaid kenya</td>\n",
       "      <td>Sub-Saharan Africa has an energy funding defic...</td>\n",
       "      <td>sub saharan africa energy funding deficit lich...</td>\n",
       "    </tr>\n",
       "    <tr>\n",
       "      <th>7</th>\n",
       "      <td>How USAID cuts are impacting the fight against...</td>\n",
       "      <td>2025-06-12</td>\n",
       "      <td>usaid kenya</td>\n",
       "      <td>The Trump administration's cuts to the U.S. Ag...</td>\n",
       "      <td>trump administration cut agency international ...</td>\n",
       "    </tr>\n",
       "    <tr>\n",
       "      <th>8</th>\n",
       "      <td>The women of No Sex for Fish are survivors — b...</td>\n",
       "      <td>2025-06-01</td>\n",
       "      <td>usaid kenya</td>\n",
       "      <td>A group of women in Kenya rebelled against tra...</td>\n",
       "      <td>group woman kenya rebel trading sex fisherman ...</td>\n",
       "    </tr>\n",
       "    <tr>\n",
       "      <th>9</th>\n",
       "      <td>Tanzania Dials Up Repression Ahead of Elections</td>\n",
       "      <td>2025-06-04</td>\n",
       "      <td>usaid kenya</td>\n",
       "      <td>Two foreign activists allege that security for...</td>\n",
       "      <td>foreign activist allege security force carry u...</td>\n",
       "    </tr>\n",
       "  </tbody>\n",
       "</table>\n",
       "</div>"
      ],
      "text/plain": [
       "                                               title published_date  \\\n",
       "0    Has DOGE really saved the US government $180bn?     2025-06-06   \n",
       "1  The Life Story of Ecomobilus Technologies Limi...     2025-05-26   \n",
       "2  Death, Sexual Violence and Human Trafficking: ...     2025-05-28   \n",
       "3  Congress Should Quickly Approve Trump’s Rescis...     2025-06-10   \n",
       "4  Food Safety Depends On Every Link In The Suppl...     2025-06-06   \n",
       "5  AFRICOM asks for help deterring terrorism, aft...     2025-05-29   \n",
       "6  Africa Needs More Renewables, So Why Is It Inv...     2025-05-20   \n",
       "7  How USAID cuts are impacting the fight against...     2025-06-12   \n",
       "8  The women of No Sex for Fish are survivors — b...     2025-06-01   \n",
       "9    Tanzania Dials Up Repression Ahead of Elections     2025-06-04   \n",
       "\n",
       "       keyword                                       news_content  \\\n",
       "0  usaid kenya  Elon Musk first claimed the department would m...   \n",
       "1  usaid kenya  By Prof Geoffrey Gitau Here is a story showcas...   \n",
       "2  usaid kenya  by Brett Murphy and Anna Maria Barry-Jester \\n...   \n",
       "3  usaid kenya  President Donald Trump‘s rescission legislatio...   \n",
       "4  usaid kenya  Almost 1 in 10 people globally fall ill from c...   \n",
       "5  usaid kenya  Groups like al-Shabaab see USAID withdrawal as...   \n",
       "6  usaid kenya  Sub-Saharan Africa has an energy funding defic...   \n",
       "7  usaid kenya  The Trump administration's cuts to the U.S. Ag...   \n",
       "8  usaid kenya  A group of women in Kenya rebelled against tra...   \n",
       "9  usaid kenya  Two foreign activists allege that security for...   \n",
       "\n",
       "                                     cleaned_content  \n",
       "0  elon musk claim department saving trillion fig...  \n",
       "1  prof geoffrey gitau story showcase innovation ...  \n",
       "2  brett murphy anna maria barry jester propublic...  \n",
       "3  president donald rescission legislation finall...  \n",
       "4  people globally fall ill contaminate food year...  \n",
       "5  group like al shabaab usaid withdrawal opportu...  \n",
       "6  sub saharan africa energy funding deficit lich...  \n",
       "7  trump administration cut agency international ...  \n",
       "8  group woman kenya rebel trading sex fisherman ...  \n",
       "9  foreign activist allege security force carry u...  "
      ]
     },
     "execution_count": 27,
     "metadata": {},
     "output_type": "execute_result"
    }
   ],
   "source": [
    "news_df.head(10)"
   ]
  },
  {
   "cell_type": "markdown",
   "id": "274873fc",
   "metadata": {},
   "source": [
    "---"
   ]
  },
  {
   "cell_type": "markdown",
   "id": "382cc9bc",
   "metadata": {},
   "source": [
    "##### Reddit Data"
   ]
  },
  {
   "cell_type": "markdown",
   "id": "eee533ae",
   "metadata": {},
   "source": [
    "---"
   ]
  },
  {
   "cell_type": "code",
   "execution_count": 28,
   "id": "6638882b",
   "metadata": {},
   "outputs": [
    {
     "name": "stdout",
     "output_type": "stream",
     "text": [
      "['title', 'selftext', 'subreddit', 'author', 'created_utc', 'created_date', 'score', 'num_comments', 'keyword', 'search_term', 'date_posted', 'upvotes', 'comments', 'url', 'permalink']\n"
     ]
    }
   ],
   "source": [
    "print(raw_reddit_df.columns.tolist()) "
   ]
  },
  {
   "cell_type": "markdown",
   "id": "aab1e954",
   "metadata": {},
   "source": [
    "Drop unneeded columns for modeling"
   ]
  },
  {
   "cell_type": "code",
   "execution_count": 29,
   "id": "539671b3",
   "metadata": {},
   "outputs": [
    {
     "name": "stdout",
     "output_type": "stream",
     "text": [
      "Remaining columns:\n",
      "Index(['title', 'selftext', 'subreddit', 'score', 'num_comments', 'keyword',\n",
      "       'search_term', 'comments'],\n",
      "      dtype='object')\n"
     ]
    }
   ],
   "source": [
    "\n",
    "columns_to_drop = ['created_utc', 'date_posted', 'upvotes', 'url', 'permalink', 'author','created_date']\n",
    "raw_reddit_df = raw_reddit_df.drop(columns=columns_to_drop, errors='ignore')  # errors='ignore' ensures it won’t crash if a column is missing\n",
    "\n",
    "#remaining columns\n",
    "print(\"Remaining columns:\")\n",
    "print(raw_reddit_df.columns)\n"
   ]
  },
  {
   "cell_type": "markdown",
   "id": "48ed6eec",
   "metadata": {},
   "source": [
    "Null values check to determine how handle for NLP"
   ]
  },
  {
   "cell_type": "code",
   "execution_count": 30,
   "id": "9957efd8",
   "metadata": {},
   "outputs": [
    {
     "data": {
      "text/plain": [
       "search_term     1139\n",
       "comments        1013\n",
       "keyword          547\n",
       "num_comments     456\n",
       "selftext         388\n",
       "score            276\n",
       "subreddit          0\n",
       "title              0\n",
       "dtype: int64"
      ]
     },
     "execution_count": 30,
     "metadata": {},
     "output_type": "execute_result"
    }
   ],
   "source": [
    "raw_reddit_df.isnull().sum().sort_values(ascending=False)"
   ]
  },
  {
   "cell_type": "markdown",
   "id": "df19b4e7",
   "metadata": {},
   "source": [
    "Cleaning Code for null values "
   ]
  },
  {
   "cell_type": "code",
   "execution_count": 31,
   "id": "105f2af6",
   "metadata": {},
   "outputs": [],
   "source": [
    "# Drop rows where 'created_date' is missing\n",
    "#reddit_df = reddit_df.dropna(subset=['created_date'])\n",
    "\n",
    "# Drop 'search_term' if not needed\n",
    "raw_reddit_df = raw_reddit_df.drop(columns=['search_term'], errors='ignore')\n",
    "\n",
    "# Fill missing text fields with empty strings\n",
    "raw_reddit_df['selftext'] = raw_reddit_df['selftext'].fillna('')\n",
    "raw_reddit_df['comments'] = raw_reddit_df['comments'].fillna('')\n",
    "\n",
    "# Fill numeric fields with 0\n",
    "raw_reddit_df['score'] = raw_reddit_df['score'].fillna(0)\n",
    "raw_reddit_df['num_comments'] = raw_reddit_df['num_comments'].fillna(0)\n",
    "\n",
    "# Fill missing 'keyword' with 'subreddit' before dropping subreddit\n",
    "raw_reddit_df['keyword'] = raw_reddit_df['keyword'].fillna(raw_reddit_df['subreddit'])\n",
    "\n",
    "# Normalize 'keyword' by stripping whitespace and lowercasing\n",
    "raw_reddit_df['keyword'] = raw_reddit_df['keyword'].str.strip().str.lower()\n",
    "\n",
    "# Drop 'subreddit' since it's now redundant\n",
    "raw_reddit_df = raw_reddit_df.drop(columns=['subreddit'], errors='ignore')\n",
    "\n",
    "# Create unified text field for NLP modeling\n",
    "raw_reddit_df['full_text'] = raw_reddit_df['title'] + ' ' + raw_reddit_df['selftext']\n"
   ]
  },
  {
   "cell_type": "code",
   "execution_count": 32,
   "id": "1d4fec5f",
   "metadata": {},
   "outputs": [
    {
     "data": {
      "text/plain": [
       "keyword          31\n",
       "comments         77\n",
       "num_comments    112\n",
       "score           235\n",
       "selftext        544\n",
       "title           828\n",
       "full_text       833\n",
       "dtype: int64"
      ]
     },
     "execution_count": 32,
     "metadata": {},
     "output_type": "execute_result"
    }
   ],
   "source": [
    "raw_reddit_df.nunique().sort_values()\n"
   ]
  },
  {
   "cell_type": "code",
   "execution_count": 33,
   "id": "96c156d8",
   "metadata": {},
   "outputs": [
    {
     "data": {
      "text/html": [
       "<div>\n",
       "<style scoped>\n",
       "    .dataframe tbody tr th:only-of-type {\n",
       "        vertical-align: middle;\n",
       "    }\n",
       "\n",
       "    .dataframe tbody tr th {\n",
       "        vertical-align: top;\n",
       "    }\n",
       "\n",
       "    .dataframe thead th {\n",
       "        text-align: right;\n",
       "    }\n",
       "</style>\n",
       "<table border=\"1\" class=\"dataframe\">\n",
       "  <thead>\n",
       "    <tr style=\"text-align: right;\">\n",
       "      <th></th>\n",
       "      <th>title</th>\n",
       "      <th>selftext</th>\n",
       "      <th>score</th>\n",
       "      <th>num_comments</th>\n",
       "      <th>keyword</th>\n",
       "      <th>comments</th>\n",
       "      <th>full_text</th>\n",
       "    </tr>\n",
       "  </thead>\n",
       "  <tbody>\n",
       "    <tr>\n",
       "      <th>1284</th>\n",
       "      <td>Weekly Sub-Saharan Africa Security Situation a...</td>\n",
       "      <td>#Somalia 🇸🇴\\r\\n#Sudan 🇸🇩\\r\\nDemocratic Republi...</td>\n",
       "      <td>3.0</td>\n",
       "      <td>2.0</td>\n",
       "      <td>africa</td>\n",
       "      <td></td>\n",
       "      <td>Weekly Sub-Saharan Africa Security Situation a...</td>\n",
       "    </tr>\n",
       "    <tr>\n",
       "      <th>1285</th>\n",
       "      <td>No evidence that Burkina Faso paid off all its...</td>\n",
       "      <td></td>\n",
       "      <td>52.0</td>\n",
       "      <td>25.0</td>\n",
       "      <td>africa</td>\n",
       "      <td></td>\n",
       "      <td>No evidence that Burkina Faso paid off all its...</td>\n",
       "    </tr>\n",
       "    <tr>\n",
       "      <th>1286</th>\n",
       "      <td>Ghana orders foreigners to exit gold market by...</td>\n",
       "      <td>Ghana has ordered foreigners to exit its gold ...</td>\n",
       "      <td>101.0</td>\n",
       "      <td>12.0</td>\n",
       "      <td>africa</td>\n",
       "      <td></td>\n",
       "      <td>Ghana orders foreigners to exit gold market by...</td>\n",
       "    </tr>\n",
       "    <tr>\n",
       "      <th>1287</th>\n",
       "      <td>Unending Frustration Regarding Sudan War.</td>\n",
       "      <td>https://www.reuters.com/world/britain-boosts-a...</td>\n",
       "      <td>11.0</td>\n",
       "      <td>8.0</td>\n",
       "      <td>africa</td>\n",
       "      <td></td>\n",
       "      <td>Unending Frustration Regarding Sudan War. http...</td>\n",
       "    </tr>\n",
       "    <tr>\n",
       "      <th>1288</th>\n",
       "      <td>Tanzania's Authoritarian Government Has Just B...</td>\n",
       "      <td>Tanzania's main opposition party has been barr...</td>\n",
       "      <td>52.0</td>\n",
       "      <td>14.0</td>\n",
       "      <td>africa</td>\n",
       "      <td></td>\n",
       "      <td>Tanzania's Authoritarian Government Has Just B...</td>\n",
       "    </tr>\n",
       "  </tbody>\n",
       "</table>\n",
       "</div>"
      ],
      "text/plain": [
       "                                                  title  \\\n",
       "1284  Weekly Sub-Saharan Africa Security Situation a...   \n",
       "1285  No evidence that Burkina Faso paid off all its...   \n",
       "1286  Ghana orders foreigners to exit gold market by...   \n",
       "1287          Unending Frustration Regarding Sudan War.   \n",
       "1288  Tanzania's Authoritarian Government Has Just B...   \n",
       "\n",
       "                                               selftext  score  num_comments  \\\n",
       "1284  #Somalia 🇸🇴\\r\\n#Sudan 🇸🇩\\r\\nDemocratic Republi...    3.0           2.0   \n",
       "1285                                                      52.0          25.0   \n",
       "1286  Ghana has ordered foreigners to exit its gold ...  101.0          12.0   \n",
       "1287  https://www.reuters.com/world/britain-boosts-a...   11.0           8.0   \n",
       "1288  Tanzania's main opposition party has been barr...   52.0          14.0   \n",
       "\n",
       "     keyword comments                                          full_text  \n",
       "1284  africa           Weekly Sub-Saharan Africa Security Situation a...  \n",
       "1285  africa           No evidence that Burkina Faso paid off all its...  \n",
       "1286  africa           Ghana orders foreigners to exit gold market by...  \n",
       "1287  africa           Unending Frustration Regarding Sudan War. http...  \n",
       "1288  africa           Tanzania's Authoritarian Government Has Just B...  "
      ]
     },
     "execution_count": 33,
     "metadata": {},
     "output_type": "execute_result"
    }
   ],
   "source": [
    "raw_reddit_df.tail(5)"
   ]
  },
  {
   "cell_type": "code",
   "execution_count": 34,
   "id": "acd09237",
   "metadata": {},
   "outputs": [
    {
     "data": {
      "text/plain": [
       "(1289, 7)"
      ]
     },
     "execution_count": 34,
     "metadata": {},
     "output_type": "execute_result"
    }
   ],
   "source": [
    "raw_reddit_df.shape"
   ]
  },
  {
   "cell_type": "markdown",
   "id": "9bcba6dc",
   "metadata": {},
   "source": [
    "Top 20 most frequent keywords (after normalization)"
   ]
  },
  {
   "cell_type": "code",
   "execution_count": 35,
   "id": "c98cf151",
   "metadata": {},
   "outputs": [
    {
     "data": {
      "text/plain": [
       "keyword\n",
       "kenya                                    335\n",
       "foreign aid, foreign aid                 157\n",
       "usaid kenya funding cut                  129\n",
       "worldnews                                128\n",
       "kenya foreign aid                        105\n",
       "development aid kenya                     99\n",
       "africa                                    81\n",
       "usaid                                     66\n",
       "kenya donor funding                       56\n",
       "usaid budget cut                          27\n",
       "usaid, foreign aid, foreign aid           24\n",
       "usaid suspended funding                   22\n",
       "usaid funding                             18\n",
       "usaid kenya                               10\n",
       "usaid, usaid money                         3\n",
       "internationaldev                           3\n",
       "aid withdrawal                             3\n",
       "usaid, usaid money, donors, ngos           3\n",
       "foreign aid, foreign aid, trump cuts       3\n",
       "usaid, foreign aid, foreign aid, ngos      2\n",
       "Name: count, dtype: int64"
      ]
     },
     "execution_count": 35,
     "metadata": {},
     "output_type": "execute_result"
    }
   ],
   "source": [
    "raw_reddit_df['keyword'].value_counts().head(20)\n"
   ]
  },
  {
   "cell_type": "markdown",
   "id": "a1c2644e",
   "metadata": {},
   "source": [
    "clean reddit_df"
   ]
  },
  {
   "cell_type": "code",
   "execution_count": 36,
   "id": "f5de16d7",
   "metadata": {},
   "outputs": [
    {
     "data": {
      "text/html": [
       "<div>\n",
       "<style scoped>\n",
       "    .dataframe tbody tr th:only-of-type {\n",
       "        vertical-align: middle;\n",
       "    }\n",
       "\n",
       "    .dataframe tbody tr th {\n",
       "        vertical-align: top;\n",
       "    }\n",
       "\n",
       "    .dataframe thead th {\n",
       "        text-align: right;\n",
       "    }\n",
       "</style>\n",
       "<table border=\"1\" class=\"dataframe\">\n",
       "  <thead>\n",
       "    <tr style=\"text-align: right;\">\n",
       "      <th></th>\n",
       "      <th>title</th>\n",
       "      <th>selftext</th>\n",
       "      <th>score</th>\n",
       "      <th>num_comments</th>\n",
       "      <th>keyword</th>\n",
       "      <th>comments</th>\n",
       "      <th>full_text</th>\n",
       "    </tr>\n",
       "  </thead>\n",
       "  <tbody>\n",
       "    <tr>\n",
       "      <th>67</th>\n",
       "      <td>Weekly Sub-Saharan Africa Security Situation a...</td>\n",
       "      <td>#Somalia 🇸🇴\\r\\n#Sudan 🇸🇩\\r\\nDemocratic Republi...</td>\n",
       "      <td>3.0</td>\n",
       "      <td>2.0</td>\n",
       "      <td>africa</td>\n",
       "      <td></td>\n",
       "      <td>Weekly Sub-Saharan Africa Security Situation a...</td>\n",
       "    </tr>\n",
       "    <tr>\n",
       "      <th>68</th>\n",
       "      <td>No evidence that Burkina Faso paid off all its...</td>\n",
       "      <td></td>\n",
       "      <td>52.0</td>\n",
       "      <td>25.0</td>\n",
       "      <td>africa</td>\n",
       "      <td></td>\n",
       "      <td>No evidence that Burkina Faso paid off all its...</td>\n",
       "    </tr>\n",
       "    <tr>\n",
       "      <th>69</th>\n",
       "      <td>Ghana orders foreigners to exit gold market by...</td>\n",
       "      <td>Ghana has ordered foreigners to exit its gold ...</td>\n",
       "      <td>101.0</td>\n",
       "      <td>12.0</td>\n",
       "      <td>africa</td>\n",
       "      <td></td>\n",
       "      <td>Ghana orders foreigners to exit gold market by...</td>\n",
       "    </tr>\n",
       "    <tr>\n",
       "      <th>70</th>\n",
       "      <td>Unending Frustration Regarding Sudan War.</td>\n",
       "      <td>https://www.reuters.com/world/britain-boosts-a...</td>\n",
       "      <td>11.0</td>\n",
       "      <td>8.0</td>\n",
       "      <td>africa</td>\n",
       "      <td></td>\n",
       "      <td>Unending Frustration Regarding Sudan War. http...</td>\n",
       "    </tr>\n",
       "    <tr>\n",
       "      <th>71</th>\n",
       "      <td>Tanzania's Authoritarian Government Has Just B...</td>\n",
       "      <td>Tanzania's main opposition party has been barr...</td>\n",
       "      <td>52.0</td>\n",
       "      <td>14.0</td>\n",
       "      <td>africa</td>\n",
       "      <td></td>\n",
       "      <td>Tanzania's Authoritarian Government Has Just B...</td>\n",
       "    </tr>\n",
       "  </tbody>\n",
       "</table>\n",
       "</div>"
      ],
      "text/plain": [
       "                                                title  \\\n",
       "67  Weekly Sub-Saharan Africa Security Situation a...   \n",
       "68  No evidence that Burkina Faso paid off all its...   \n",
       "69  Ghana orders foreigners to exit gold market by...   \n",
       "70          Unending Frustration Regarding Sudan War.   \n",
       "71  Tanzania's Authoritarian Government Has Just B...   \n",
       "\n",
       "                                             selftext  score  num_comments  \\\n",
       "67  #Somalia 🇸🇴\\r\\n#Sudan 🇸🇩\\r\\nDemocratic Republi...    3.0           2.0   \n",
       "68                                                      52.0          25.0   \n",
       "69  Ghana has ordered foreigners to exit its gold ...  101.0          12.0   \n",
       "70  https://www.reuters.com/world/britain-boosts-a...   11.0           8.0   \n",
       "71  Tanzania's main opposition party has been barr...   52.0          14.0   \n",
       "\n",
       "   keyword comments                                          full_text  \n",
       "67  africa           Weekly Sub-Saharan Africa Security Situation a...  \n",
       "68  africa           No evidence that Burkina Faso paid off all its...  \n",
       "69  africa           Ghana orders foreigners to exit gold market by...  \n",
       "70  africa           Unending Frustration Regarding Sudan War. http...  \n",
       "71  africa           Tanzania's Authoritarian Government Has Just B...  "
      ]
     },
     "execution_count": 36,
     "metadata": {},
     "output_type": "execute_result"
    }
   ],
   "source": [
    "# Drop rows with missing important fields (title or selftext)\n",
    "raw_reddit_df = raw_reddit_df.dropna(subset=['title', 'selftext'])\n",
    "\n",
    "# Remove duplicates based on title or full_text\n",
    "raw_reddit_df = raw_reddit_df.drop_duplicates(subset=['full_text'])\n",
    "\n",
    "# Filter only posts with keyword 'africa'\n",
    "raw_reddit_df = raw_reddit_df[raw_reddit_df['keyword'] == 'africa']\n",
    "\n",
    "# Remove rows with very low engagement (optional)\n",
    "# For example, keep posts with score > 0 and at least 1 comment\n",
    "raw_reddit_df = raw_reddit_df[(raw_reddit_df['score'] > 0) & (raw_reddit_df['num_comments'] > 0)]\n",
    "\n",
    "# Remove rows with very short text (less than 10 characters in full_text)\n",
    "raw_reddit_df = raw_reddit_df[raw_reddit_df['full_text'].str.len() > 10]\n",
    "\n",
    "# Reset index\n",
    "raw_reddit_df = raw_reddit_df.reset_index(drop=True)\n",
    "\n",
    "# Preview the cleaned data\n",
    "raw_reddit_df.tail()\n"
   ]
  },
  {
   "cell_type": "markdown",
   "id": "fc1467b0",
   "metadata": {},
   "source": [
    "filter stopwords, punctuation, and lemmatize."
   ]
  },
  {
   "cell_type": "code",
   "execution_count": 37,
   "id": "bf794eaa",
   "metadata": {},
   "outputs": [],
   "source": [
    "def preprocess_text_spacy(text):\n",
    "    doc = nlp(text)  # process with spaCy\n",
    "    tokens = []\n",
    "    for token in doc:\n",
    "        # Keep only alphabetic tokens, not stopwords or punctuation\n",
    "        if token.is_alpha and not token.is_stop:\n",
    "            tokens.append(token.lemma_.lower())  # lemma and lowercase\n",
    "    return \" \".join(tokens)\n"
   ]
  },
  {
   "cell_type": "markdown",
   "id": "0d6d4a43",
   "metadata": {},
   "source": [
    "full_text column"
   ]
  },
  {
   "cell_type": "code",
   "execution_count": 38,
   "id": "82b1fca8",
   "metadata": {},
   "outputs": [
    {
     "name": "stderr",
     "output_type": "stream",
     "text": [
      "100%|██████████| 72/72 [00:10<00:00,  6.83it/s]\n"
     ]
    }
   ],
   "source": [
    "from tqdm import tqdm\n",
    "tqdm.pandas()\n",
    "\n",
    "raw_reddit_df['processed_text'] = raw_reddit_df['full_text'].progress_apply(preprocess_text_spacy)\n"
   ]
  },
  {
   "cell_type": "markdown",
   "id": "8f578eec",
   "metadata": {},
   "source": [
    "Save file to avoid reruns during the next steps"
   ]
  },
  {
   "cell_type": "code",
   "execution_count": 39,
   "id": "12c743ea",
   "metadata": {},
   "outputs": [
    {
     "name": "stdout",
     "output_type": "stream",
     "text": [
      "File with selected columns saved to: N:\\Moringa\\afterM\\Leo NLP 004 USAID 01.06.2025\\USAID-Kenya-Sentiment-Analysis\\data\\processed\\individual datasets\\Mbego_cleaned_reddit.csv\n"
     ]
    }
   ],
   "source": [
    "df_to_save = raw_reddit_df[['keyword', 'score' , 'num_comments' , 'full_text' , 'processed_text']]\n",
    "\n",
    "# Your desired path\n",
    "save_path = r\"N:\\Moringa\\afterM\\Leo NLP 004 USAID 01.06.2025\\USAID-Kenya-Sentiment-Analysis\\data\\processed\\individual datasets\\Mbego_cleaned_reddit.csv\"\n",
    "\n",
    "import os\n",
    "os.makedirs(os.path.dirname(save_path), exist_ok=True)\n",
    "\n",
    "# Save just those columns\n",
    "df_to_save.to_csv(save_path, index=False)\n",
    "print(f\"File with selected columns saved to: {save_path}\")\n"
   ]
  },
  {
   "cell_type": "markdown",
   "id": "e2308416",
   "metadata": {},
   "source": [
    "Call and Preview the final soft data ready "
   ]
  },
  {
   "cell_type": "code",
   "execution_count": 1,
   "id": "451d350d",
   "metadata": {},
   "outputs": [
    {
     "data": {
      "text/html": [
       "<div>\n",
       "<style scoped>\n",
       "    .dataframe tbody tr th:only-of-type {\n",
       "        vertical-align: middle;\n",
       "    }\n",
       "\n",
       "    .dataframe tbody tr th {\n",
       "        vertical-align: top;\n",
       "    }\n",
       "\n",
       "    .dataframe thead th {\n",
       "        text-align: right;\n",
       "    }\n",
       "</style>\n",
       "<table border=\"1\" class=\"dataframe\">\n",
       "  <thead>\n",
       "    <tr style=\"text-align: right;\">\n",
       "      <th></th>\n",
       "      <th>keyword</th>\n",
       "      <th>score</th>\n",
       "      <th>num_comments</th>\n",
       "      <th>full_text</th>\n",
       "      <th>processed_text</th>\n",
       "    </tr>\n",
       "  </thead>\n",
       "  <tbody>\n",
       "    <tr>\n",
       "      <th>0</th>\n",
       "      <td>africa</td>\n",
       "      <td>42.0</td>\n",
       "      <td>2.0</td>\n",
       "      <td>Planning an Outreach to an Internally Displace...</td>\n",
       "      <td>plan outreach internally displaced persons cam...</td>\n",
       "    </tr>\n",
       "    <tr>\n",
       "      <th>1</th>\n",
       "      <td>africa</td>\n",
       "      <td>8.0</td>\n",
       "      <td>4.0</td>\n",
       "      <td>I don't know how to title this but... Is it on...</td>\n",
       "      <td>know title search intellectually inclune relat...</td>\n",
       "    </tr>\n",
       "    <tr>\n",
       "      <th>2</th>\n",
       "      <td>africa</td>\n",
       "      <td>35.0</td>\n",
       "      <td>22.0</td>\n",
       "      <td>Canadian mining company stripped of gold mine ...</td>\n",
       "      <td>canadian mining company strip gold operation m...</td>\n",
       "    </tr>\n",
       "    <tr>\n",
       "      <th>3</th>\n",
       "      <td>africa</td>\n",
       "      <td>121.0</td>\n",
       "      <td>10.0</td>\n",
       "      <td>At least 100 people killed in gunmen attack in...</td>\n",
       "      <td>people kill gunman attack nigeria rights group...</td>\n",
       "    </tr>\n",
       "    <tr>\n",
       "      <th>4</th>\n",
       "      <td>africa</td>\n",
       "      <td>3.0</td>\n",
       "      <td>1.0</td>\n",
       "      <td>Sub Saharan Africa Security Situation and Key ...</td>\n",
       "      <td>sub saharan africa security situation key deve...</td>\n",
       "    </tr>\n",
       "  </tbody>\n",
       "</table>\n",
       "</div>"
      ],
      "text/plain": [
       "  keyword  score  num_comments  \\\n",
       "0  africa   42.0           2.0   \n",
       "1  africa    8.0           4.0   \n",
       "2  africa   35.0          22.0   \n",
       "3  africa  121.0          10.0   \n",
       "4  africa    3.0           1.0   \n",
       "\n",
       "                                           full_text  \\\n",
       "0  Planning an Outreach to an Internally Displace...   \n",
       "1  I don't know how to title this but... Is it on...   \n",
       "2  Canadian mining company stripped of gold mine ...   \n",
       "3  At least 100 people killed in gunmen attack in...   \n",
       "4  Sub Saharan Africa Security Situation and Key ...   \n",
       "\n",
       "                                      processed_text  \n",
       "0  plan outreach internally displaced persons cam...  \n",
       "1  know title search intellectually inclune relat...  \n",
       "2  canadian mining company strip gold operation m...  \n",
       "3  people kill gunman attack nigeria rights group...  \n",
       "4  sub saharan africa security situation key deve...  "
      ]
     },
     "execution_count": 1,
     "metadata": {},
     "output_type": "execute_result"
    }
   ],
   "source": [
    "import pandas as pd\n",
    "reddit_clean_path = r\"N:\\Moringa\\afterM\\Leo NLP 004 USAID 01.06.2025\\USAID-Kenya-Sentiment-Analysis\\data\\processed\\individual datasets\\Mbego_cleaned_reddit.csv\"\n",
    "\n",
    "reddit_df = pd.read_csv(reddit_clean_path)\n",
    "\n",
    "reddit_df.head(5)"
   ]
  },
  {
   "cell_type": "markdown",
   "id": "c388ad5e",
   "metadata": {},
   "source": [
    "---"
   ]
  },
  {
   "cell_type": "markdown",
   "id": "c3864da1",
   "metadata": {},
   "source": [
    "---"
   ]
  },
  {
   "cell_type": "markdown",
   "id": "19e339c7",
   "metadata": {},
   "source": [
    "#### Exploratory data analysis (EDA) and visualization"
   ]
  },
  {
   "cell_type": "markdown",
   "id": "f4596f06",
   "metadata": {},
   "source": [
    "Reddit"
   ]
  },
  {
   "cell_type": "markdown",
   "id": "dbd26a75",
   "metadata": {},
   "source": [
    "Text-related visualizations\n",
    "- Most frequent words in processed_text"
   ]
  },
  {
   "cell_type": "code",
   "execution_count": 2,
   "id": "da4c60f9",
   "metadata": {},
   "outputs": [
    {
     "data": {
      "image/png": "[encoded data removed]",
      "text/plain": [
       "<Figure size 1000x500 with 1 Axes>"
      ]
     },
     "metadata": {},
     "output_type": "display_data"
    }
   ],
   "source": [
    "from wordcloud import WordCloud\n",
    "import matplotlib.pyplot as plt\n",
    "\n",
    "reddit_df = reddit_df.head(1000)  # limit to first 1000 rows for testing\n",
    "\n",
    "all_words = \" \".join(reddit_df['processed_text'])\n",
    "wordcloud = WordCloud(width=800, height=400, background_color='white').generate(all_words)\n",
    "plt.figure(figsize=(10,5))\n",
    "plt.imshow(wordcloud, interpolation='bilinear')\n",
    "plt.axis(\"off\")\n",
    "plt.show()\n"
   ]
  },
  {
   "cell_type": "markdown",
   "id": "1c89a17f",
   "metadata": {},
   "source": [
    "Metadata visualizations\n",
    "- Score distribution"
   ]
  },
  {
   "cell_type": "code",
   "execution_count": 3,
   "id": "65a94e9d",
   "metadata": {},
   "outputs": [
    {
     "data": {
      "text/plain": [
       "<Axes: xlabel='score', ylabel='Count'>"
      ]
     },
     "execution_count": 3,
     "metadata": {},
     "output_type": "execute_result"
    },
    {
     "data": {
      "image/png": "[encoded data removed]",
      "text/plain": [
       "<Figure size 640x480 with 1 Axes>"
      ]
     },
     "metadata": {},
     "output_type": "display_data"
    }
   ],
   "source": [
    "import seaborn as sns\n",
    "sns.histplot(reddit_df['score'], bins=30)\n"
   ]
  },
  {
   "cell_type": "markdown",
   "id": "1cd6565d",
   "metadata": {},
   "source": [
    "Engagement analysis"
   ]
  },
  {
   "cell_type": "markdown",
   "id": "52b2a956",
   "metadata": {},
   "source": [
    "- Correlation between score and comments (engagement scatterplot)\n",
    "\n",
    "Shows whether high-scoring posts also tend to have more comments."
   ]
  },
  {
   "cell_type": "code",
   "execution_count": 4,
   "id": "012420ba",
   "metadata": {},
   "outputs": [
    {
     "data": {
      "image/png": "[encoded data removed]",
      "text/plain": [
       "<Figure size 640x480 with 1 Axes>"
      ]
     },
     "metadata": {},
     "output_type": "display_data"
    }
   ],
   "source": [
    "sns.scatterplot(data=reddit_df, x='score', y='num_comments')\n",
    "plt.title(\"Score vs Number of Comments\")\n",
    "plt.show()"
   ]
  },
  {
   "cell_type": "markdown",
   "id": "f97b1954",
   "metadata": {},
   "source": []
  },
  {
   "cell_type": "markdown",
   "id": "3930f9e9",
   "metadata": {},
   "source": [
    "monotonic relationships beyond scatterplots"
   ]
  },
  {
   "cell_type": "code",
   "execution_count": 5,
   "id": "56696896",
   "metadata": {},
   "outputs": [
    {
     "name": "stdout",
     "output_type": "stream",
     "text": [
      "                 score  num_comments\n",
      "score         1.000000      0.749881\n",
      "num_comments  0.749881      1.000000\n"
     ]
    }
   ],
   "source": [
    "print(reddit_df[['score','num_comments']].corr(method='spearman'))"
   ]
  },
  {
   "cell_type": "markdown",
   "id": "6f08e848",
   "metadata": {},
   "source": [
    "Text length vs engagement"
   ]
  },
  {
   "cell_type": "code",
   "execution_count": 6,
   "id": "54b1c7aa",
   "metadata": {},
   "outputs": [],
   "source": [
    "# Add a column for text length\n",
    "reddit_df['text_length'] = reddit_df['full_text'].str.len()"
   ]
  },
  {
   "cell_type": "markdown",
   "id": "43b0a0e0",
   "metadata": {},
   "source": [
    "Scatterplot: text length vs score\n",
    "\n",
    "- to find out if longer posts tend to get more upvotes."
   ]
  },
  {
   "cell_type": "code",
   "execution_count": 7,
   "id": "e9b96d69",
   "metadata": {},
   "outputs": [
    {
     "data": {
      "image/png": "[encoded data removed]",
      "text/plain": [
       "<Figure size 640x480 with 1 Axes>"
      ]
     },
     "metadata": {},
     "output_type": "display_data"
    }
   ],
   "source": [
    "sns.scatterplot(data=reddit_df, x='text_length', y='score')\n",
    "plt.xlim(0, reddit_df['text_length'].quantile(0.95)) # trim outliers\n",
    "plt.title(\"Text Length vs Score\")\n",
    "plt.show()"
   ]
  },
  {
   "cell_type": "markdown",
   "id": "c700994f",
   "metadata": {},
   "source": [
    "Keyword-level patterns\n",
    "- Group by keyword (if you have more than one keyword in your dataset)\n",
    "\n",
    "- Compare engagement metrics across keywords."
   ]
  },
  {
   "cell_type": "code",
   "execution_count": 8,
   "id": "825b4c39",
   "metadata": {},
   "outputs": [
    {
     "name": "stdout",
     "output_type": "stream",
     "text": [
      "          avg_score  avg_comments  post_count\n",
      "keyword                                      \n",
      "africa   178.027778     20.763889          72\n"
     ]
    }
   ],
   "source": [
    "keyword_stats = reddit_df.groupby('keyword').agg(\n",
    "    avg_score=('score','mean'),\n",
    "    avg_comments=('num_comments','mean'),\n",
    "    post_count=('keyword','count')\n",
    ").sort_values(by='avg_score', ascending=False)\n",
    "\n",
    "print(keyword_stats.head())\n"
   ]
  },
  {
   "cell_type": "markdown",
   "id": "6386df88",
   "metadata": {},
   "source": [
    "Top frequent terms"
   ]
  },
  {
   "cell_type": "code",
   "execution_count": 9,
   "id": "0967b5ee",
   "metadata": {},
   "outputs": [
    {
     "name": "stdout",
     "output_type": "stream",
     "text": [
      "[('africa', 89), ('people', 78), ('african', 77), ('woman', 56), ('south', 53), ('say', 45), ('like', 42), ('country', 41), ('child', 41), ('know', 35), ('life', 35), ('man', 34), ('year', 28), ('africans', 24), ('time', 24), ('need', 23), ('state', 22), ('government', 22), ('group', 21), ('think', 20)]\n"
     ]
    }
   ],
   "source": [
    "from collections import Counter\n",
    "all_words = \" \".join(reddit_df['processed_text']).split()\n",
    "common_words = Counter(all_words).most_common(20)\n",
    "print(common_words)\n"
   ]
  },
  {
   "cell_type": "code",
   "execution_count": 10,
   "id": "b35f26d5",
   "metadata": {},
   "outputs": [
    {
     "data": {
      "image/png": "[encoded data removed]",
      "text/plain": [
       "<Figure size 640x480 with 1 Axes>"
      ]
     },
     "metadata": {},
     "output_type": "display_data"
    }
   ],
   "source": [
    "import pandas as pd\n",
    "freq_df = pd.DataFrame(common_words, columns=['word','count'])\n",
    "sns.barplot(data=freq_df, x='count', y='word')\n",
    "plt.title(\"Top 20 Words\")\n",
    "plt.show()\n"
   ]
  },
  {
   "cell_type": "markdown",
   "id": "61748f63",
   "metadata": {},
   "source": [
    "Engagement buckets\n",
    "\n",
    "- idea of how posts are distributed across score ranges."
   ]
  },
  {
   "cell_type": "code",
   "execution_count": 11,
   "id": "54c4c427",
   "metadata": {},
   "outputs": [
    {
     "data": {
      "text/plain": [
       "<Axes: title={'center': 'Distribution of Score Buckets'}, xlabel='score_bucket'>"
      ]
     },
     "execution_count": 11,
     "metadata": {},
     "output_type": "execute_result"
    },
    {
     "data": {
      "image/png": "[encoded data removed]",
      "text/plain": [
       "<Figure size 640x480 with 1 Axes>"
      ]
     },
     "metadata": {},
     "output_type": "display_data"
    }
   ],
   "source": [
    "reddit_df['score_bucket'] = pd.cut(reddit_df['score'],\n",
    "                                   bins=[-1,0,10,50,100,500,reddit_df['score'].max()],\n",
    "                                   labels=['0','1-10','11-50','51-100','101-500','500+'])\n",
    "score_dist = reddit_df['score_bucket'].value_counts().sort_index()\n",
    "score_dist.plot(kind='bar', title=\"Distribution of Score Buckets\")\n"
   ]
  },
  {
   "cell_type": "markdown",
   "id": "756fcebf",
   "metadata": {},
   "source": [
    "**Advanced NLP-driven EDA**\n",
    "\n",
    "* quick sentiment using VADER"
   ]
  },
  {
   "cell_type": "code",
   "execution_count": 12,
   "id": "f1f03936",
   "metadata": {},
   "outputs": [
    {
     "data": {
      "text/plain": [
       "<Axes: xlabel='sentiment', ylabel='Count'>"
      ]
     },
     "execution_count": 12,
     "metadata": {},
     "output_type": "execute_result"
    },
    {
     "data": {
      "image/png": "[encoded data removed]",
      "text/plain": [
       "<Figure size 640x480 with 1 Axes>"
      ]
     },
     "metadata": {},
     "output_type": "display_data"
    }
   ],
   "source": [
    "from vaderSentiment.vaderSentiment import SentimentIntensityAnalyzer\n",
    "analyzer = SentimentIntensityAnalyzer() #Initializing the analyzer\n",
    "reddit_df['sentiment'] = reddit_df['full_text'].apply(lambda x: analyzer.polarity_scores(x)['compound'])\n",
    "sns.histplot(reddit_df['sentiment'], bins=30)\n"
   ]
  },
  {
   "cell_type": "markdown",
   "id": "81dfc8f5",
   "metadata": {},
   "source": [
    "how sentiment varies with score:"
   ]
  },
  {
   "cell_type": "code",
   "execution_count": 13,
   "id": "f98c2e5a",
   "metadata": {},
   "outputs": [
    {
     "data": {
      "text/plain": [
       "<Axes: xlabel='sentiment', ylabel='score'>"
      ]
     },
     "execution_count": 13,
     "metadata": {},
     "output_type": "execute_result"
    },
    {
     "data": {
      "image/png": "[encoded data removed]",
      "text/plain": [
       "<Figure size 640x480 with 1 Axes>"
      ]
     },
     "metadata": {},
     "output_type": "display_data"
    }
   ],
   "source": [
    "sns.scatterplot(x='sentiment', y='score', data=reddit_df)\n"
   ]
  },
  {
   "cell_type": "markdown",
   "id": "a8495efa",
   "metadata": {},
   "source": [
    "---"
   ]
  },
  {
   "cell_type": "markdown",
   "id": "daba0dbd",
   "metadata": {},
   "source": [
    "two sets is getting wider at this stage , Eda on news data and other steps after will remain pending and TBD as I focus on reddit, and best alternatives to work on two datasets separately "
   ]
  },
  {
   "cell_type": "markdown",
   "id": "0f0d3892",
   "metadata": {},
   "source": [
    "---"
   ]
  },
  {
   "cell_type": "markdown",
   "id": "788901f5",
   "metadata": {},
   "source": [
    "### Sentiment Analysis"
   ]
  },
  {
   "cell_type": "markdown",
   "id": "d498687a",
   "metadata": {},
   "source": [
    "Using VADER sentiment analysis because it’s lightweight, tuned for social media text, and easy to apply."
   ]
  },
  {
   "cell_type": "markdown",
   "id": "71e9ee5d",
   "metadata": {},
   "source": [
    "* sentiment analyzer already called above \n",
    "* full_text (more natural for sentiment):\n",
    "* below defining function to apply and introdustion of a sentiment column"
   ]
  },
  {
   "cell_type": "code",
   "execution_count": 14,
   "id": "e7c3c354",
   "metadata": {},
   "outputs": [],
   "source": [
    "def get_sentiment(text):\n",
    "    scores = analyzer.polarity_scores(text)\n",
    "    return scores['compound']  # overall sentiment score from -1 (neg) to +1 (pos)\n",
    "\n",
    "reddit_df['sentiment'] = reddit_df['full_text'].apply(get_sentiment)\n"
   ]
  },
  {
   "cell_type": "markdown",
   "id": "d386a20c",
   "metadata": {},
   "source": [
    "Sentiment Interpretation "
   ]
  },
  {
   "cell_type": "code",
   "execution_count": 15,
   "id": "107bddbd",
   "metadata": {},
   "outputs": [],
   "source": [
    "def categorize_sentiment(score):\n",
    "    if score >= 0.05:\n",
    "        return 'positive'\n",
    "    elif score <= -0.05:\n",
    "        return 'negative'\n",
    "    else:\n",
    "        return 'neutral'\n",
    "\n",
    "reddit_df['sentiment_label'] = reddit_df['sentiment'].apply(categorize_sentiment)\n"
   ]
  },
  {
   "cell_type": "markdown",
   "id": "c6426234",
   "metadata": {},
   "source": [
    "sentiment distribution"
   ]
  },
  {
   "cell_type": "code",
   "execution_count": 16,
   "id": "2aaa86c7",
   "metadata": {},
   "outputs": [
    {
     "data": {
      "image/png": "[encoded data removed]",
      "text/plain": [
       "<Figure size 640x480 with 1 Axes>"
      ]
     },
     "metadata": {},
     "output_type": "display_data"
    }
   ],
   "source": [
    "import seaborn as sns\n",
    "import matplotlib.pyplot as plt\n",
    "\n",
    "sns.countplot(data=reddit_df, x='sentiment_label', order=['positive','neutral','negative'])\n",
    "plt.title(\"Sentiment Distribution\")\n",
    "plt.show()\n"
   ]
  },
  {
   "cell_type": "markdown",
   "id": "15658986",
   "metadata": {},
   "source": [
    "sentiment vs engagement"
   ]
  },
  {
   "cell_type": "code",
   "execution_count": 17,
   "id": "40d393a2",
   "metadata": {},
   "outputs": [
    {
     "data": {
      "image/png": "[encoded data removed]",
      "text/plain": [
       "<Figure size 640x480 with 1 Axes>"
      ]
     },
     "metadata": {},
     "output_type": "display_data"
    }
   ],
   "source": [
    "sns.boxplot(data=reddit_df, x='sentiment_label', y='score',\n",
    "            order=['positive','neutral','negative'])\n",
    "plt.title(\"Score by Sentiment\")\n",
    "plt.show()\n"
   ]
  },
  {
   "cell_type": "markdown",
   "id": "2f0a2710",
   "metadata": {},
   "source": [
    "---"
   ]
  },
  {
   "cell_type": "markdown",
   "id": "0a100006",
   "metadata": {},
   "source": [
    "### Topic modeling"
   ]
  },
  {
   "cell_type": "markdown",
   "id": "e0eb8f86",
   "metadata": {},
   "source": [
    "To discover hidden themes or topics within posts without labels."
   ]
  },
  {
   "cell_type": "code",
   "execution_count": 18,
   "id": "7f9a7c7f",
   "metadata": {},
   "outputs": [],
   "source": [
    "from sklearn.feature_extraction.text import CountVectorizer\n",
    "from sklearn.decomposition import LatentDirichletAllocation"
   ]
  },
  {
   "cell_type": "markdown",
   "id": "6b1f6f5b",
   "metadata": {},
   "source": [
    "Vectorize your text\n",
    "\n",
    "* Latent Dirichlet Allocation (LDA) with a CountVectorizer or TF‑IDF (For LDA, CountVectorizer (word counts) works better than TF‑IDF.)"
   ]
  },
  {
   "cell_type": "code",
   "execution_count": 19,
   "id": "72b1413d",
   "metadata": {},
   "outputs": [],
   "source": [
    "vectorizer = CountVectorizer(max_df=0.95, min_df=2, stop_words='english') \n",
    "# max_df=0.95: ignore very common words\n",
    "# min_df=2: ignore rare words that appear only once\n",
    "\n",
    "dtm = vectorizer.fit_transform(reddit_df['processed_text'])\n"
   ]
  },
  {
   "cell_type": "code",
   "execution_count": 20,
   "id": "e9c535ff",
   "metadata": {},
   "outputs": [
    {
     "data": {
      "text/html": [
       "<style>#sk-container-id-1 {\n",
       "  /* Definition of color scheme common for light and dark mode */\n",
       "  --sklearn-color-text: black;\n",
       "  --sklearn-color-line: gray;\n",
       "  /* Definition of color scheme for unfitted estimators */\n",
       "  --sklearn-color-unfitted-level-0: #fff5e6;\n",
       "  --sklearn-color-unfitted-level-1: #f6e4d2;\n",
       "  --sklearn-color-unfitted-level-2: #ffe0b3;\n",
       "  --sklearn-color-unfitted-level-3: chocolate;\n",
       "  /* Definition of color scheme for fitted estimators */\n",
       "  --sklearn-color-fitted-level-0: #f0f8ff;\n",
       "  --sklearn-color-fitted-level-1: #d4ebff;\n",
       "  --sklearn-color-fitted-level-2: #b3dbfd;\n",
       "  --sklearn-color-fitted-level-3: cornflowerblue;\n",
       "\n",
       "  /* Specific color for light theme */\n",
       "  --sklearn-color-text-on-default-background: var(--sg-text-color, var(--theme-code-foreground, var(--jp-content-font-color1, black)));\n",
       "  --sklearn-color-background: var(--sg-background-color, var(--theme-background, var(--jp-layout-color0, white)));\n",
       "  --sklearn-color-border-box: var(--sg-text-color, var(--theme-code-foreground, var(--jp-content-font-color1, black)));\n",
       "  --sklearn-color-icon: #696969;\n",
       "\n",
       "  @media (prefers-color-scheme: dark) {\n",
       "    /* Redefinition of color scheme for dark theme */\n",
       "    --sklearn-color-text-on-default-background: var(--sg-text-color, var(--theme-code-foreground, var(--jp-content-font-color1, white)));\n",
       "    --sklearn-color-background: var(--sg-background-color, var(--theme-background, var(--jp-layout-color0, #111)));\n",
       "    --sklearn-color-border-box: var(--sg-text-color, var(--theme-code-foreground, var(--jp-content-font-color1, white)));\n",
       "    --sklearn-color-icon: #878787;\n",
       "  }\n",
       "}\n",
       "\n",
       "#sk-container-id-1 {\n",
       "  color: var(--sklearn-color-text);\n",
       "}\n",
       "\n",
       "#sk-container-id-1 pre {\n",
       "  padding: 0;\n",
       "}\n",
       "\n",
       "#sk-container-id-1 input.sk-hidden--visually {\n",
       "  border: 0;\n",
       "  clip: rect(1px 1px 1px 1px);\n",
       "  clip: rect(1px, 1px, 1px, 1px);\n",
       "  height: 1px;\n",
       "  margin: -1px;\n",
       "  overflow: hidden;\n",
       "  padding: 0;\n",
       "  position: absolute;\n",
       "  width: 1px;\n",
       "}\n",
       "\n",
       "#sk-container-id-1 div.sk-dashed-wrapped {\n",
       "  border: 1px dashed var(--sklearn-color-line);\n",
       "  margin: 0 0.4em 0.5em 0.4em;\n",
       "  box-sizing: border-box;\n",
       "  padding-bottom: 0.4em;\n",
       "  background-color: var(--sklearn-color-background);\n",
       "}\n",
       "\n",
       "#sk-container-id-1 div.sk-container {\n",
       "  /* jupyter's `normalize.less` sets `[hidden] { display: none; }`\n",
       "     but bootstrap.min.css set `[hidden] { display: none !important; }`\n",
       "     so we also need the `!important` here to be able to override the\n",
       "     default hidden behavior on the sphinx rendered scikit-learn.org.\n",
       "     See: https://github.com/scikit-learn/scikit-learn/issues/21755 */\n",
       "  display: inline-block !important;\n",
       "  position: relative;\n",
       "}\n",
       "\n",
       "#sk-container-id-1 div.sk-text-repr-fallback {\n",
       "  display: none;\n",
       "}\n",
       "\n",
       "div.sk-parallel-item,\n",
       "div.sk-serial,\n",
       "div.sk-item {\n",
       "  /* draw centered vertical line to link estimators */\n",
       "  background-image: linear-gradient(var(--sklearn-color-text-on-default-background), var(--sklearn-color-text-on-default-background));\n",
       "  background-size: 2px 100%;\n",
       "  background-repeat: no-repeat;\n",
       "  background-position: center center;\n",
       "}\n",
       "\n",
       "/* Parallel-specific style estimator block */\n",
       "\n",
       "#sk-container-id-1 div.sk-parallel-item::after {\n",
       "  content: \"\";\n",
       "  width: 100%;\n",
       "  border-bottom: 2px solid var(--sklearn-color-text-on-default-background);\n",
       "  flex-grow: 1;\n",
       "}\n",
       "\n",
       "#sk-container-id-1 div.sk-parallel {\n",
       "  display: flex;\n",
       "  align-items: stretch;\n",
       "  justify-content: center;\n",
       "  background-color: var(--sklearn-color-background);\n",
       "  position: relative;\n",
       "}\n",
       "\n",
       "#sk-container-id-1 div.sk-parallel-item {\n",
       "  display: flex;\n",
       "  flex-direction: column;\n",
       "}\n",
       "\n",
       "#sk-container-id-1 div.sk-parallel-item:first-child::after {\n",
       "  align-self: flex-end;\n",
       "  width: 50%;\n",
       "}\n",
       "\n",
       "#sk-container-id-1 div.sk-parallel-item:last-child::after {\n",
       "  align-self: flex-start;\n",
       "  width: 50%;\n",
       "}\n",
       "\n",
       "#sk-container-id-1 div.sk-parallel-item:only-child::after {\n",
       "  width: 0;\n",
       "}\n",
       "\n",
       "/* Serial-specific style estimator block */\n",
       "\n",
       "#sk-container-id-1 div.sk-serial {\n",
       "  display: flex;\n",
       "  flex-direction: column;\n",
       "  align-items: center;\n",
       "  background-color: var(--sklearn-color-background);\n",
       "  padding-right: 1em;\n",
       "  padding-left: 1em;\n",
       "}\n",
       "\n",
       "\n",
       "/* Toggleable style: style used for estimator/Pipeline/ColumnTransformer box that is\n",
       "clickable and can be expanded/collapsed.\n",
       "- Pipeline and ColumnTransformer use this feature and define the default style\n",
       "- Estimators will overwrite some part of the style using the `sk-estimator` class\n",
       "*/\n",
       "\n",
       "/* Pipeline and ColumnTransformer style (default) */\n",
       "\n",
       "#sk-container-id-1 div.sk-toggleable {\n",
       "  /* Default theme specific background. It is overwritten whether we have a\n",
       "  specific estimator or a Pipeline/ColumnTransformer */\n",
       "  background-color: var(--sklearn-color-background);\n",
       "}\n",
       "\n",
       "/* Toggleable label */\n",
       "#sk-container-id-1 label.sk-toggleable__label {\n",
       "  cursor: pointer;\n",
       "  display: block;\n",
       "  width: 100%;\n",
       "  margin-bottom: 0;\n",
       "  padding: 0.5em;\n",
       "  box-sizing: border-box;\n",
       "  text-align: center;\n",
       "}\n",
       "\n",
       "#sk-container-id-1 label.sk-toggleable__label-arrow:before {\n",
       "  /* Arrow on the left of the label */\n",
       "  content: \"▸\";\n",
       "  float: left;\n",
       "  margin-right: 0.25em;\n",
       "  color: var(--sklearn-color-icon);\n",
       "}\n",
       "\n",
       "#sk-container-id-1 label.sk-toggleable__label-arrow:hover:before {\n",
       "  color: var(--sklearn-color-text);\n",
       "}\n",
       "\n",
       "/* Toggleable content - dropdown */\n",
       "\n",
       "#sk-container-id-1 div.sk-toggleable__content {\n",
       "  max-height: 0;\n",
       "  max-width: 0;\n",
       "  overflow: hidden;\n",
       "  text-align: left;\n",
       "  /* unfitted */\n",
       "  background-color: var(--sklearn-color-unfitted-level-0);\n",
       "}\n",
       "\n",
       "#sk-container-id-1 div.sk-toggleable__content.fitted {\n",
       "  /* fitted */\n",
       "  background-color: var(--sklearn-color-fitted-level-0);\n",
       "}\n",
       "\n",
       "#sk-container-id-1 div.sk-toggleable__content pre {\n",
       "  margin: 0.2em;\n",
       "  border-radius: 0.25em;\n",
       "  color: var(--sklearn-color-text);\n",
       "  /* unfitted */\n",
       "  background-color: var(--sklearn-color-unfitted-level-0);\n",
       "}\n",
       "\n",
       "#sk-container-id-1 div.sk-toggleable__content.fitted pre {\n",
       "  /* unfitted */\n",
       "  background-color: var(--sklearn-color-fitted-level-0);\n",
       "}\n",
       "\n",
       "#sk-container-id-1 input.sk-toggleable__control:checked~div.sk-toggleable__content {\n",
       "  /* Expand drop-down */\n",
       "  max-height: 200px;\n",
       "  max-width: 100%;\n",
       "  overflow: auto;\n",
       "}\n",
       "\n",
       "#sk-container-id-1 input.sk-toggleable__control:checked~label.sk-toggleable__label-arrow:before {\n",
       "  content: \"▾\";\n",
       "}\n",
       "\n",
       "/* Pipeline/ColumnTransformer-specific style */\n",
       "\n",
       "#sk-container-id-1 div.sk-label input.sk-toggleable__control:checked~label.sk-toggleable__label {\n",
       "  color: var(--sklearn-color-text);\n",
       "  background-color: var(--sklearn-color-unfitted-level-2);\n",
       "}\n",
       "\n",
       "#sk-container-id-1 div.sk-label.fitted input.sk-toggleable__control:checked~label.sk-toggleable__label {\n",
       "  background-color: var(--sklearn-color-fitted-level-2);\n",
       "}\n",
       "\n",
       "/* Estimator-specific style */\n",
       "\n",
       "/* Colorize estimator box */\n",
       "#sk-container-id-1 div.sk-estimator input.sk-toggleable__control:checked~label.sk-toggleable__label {\n",
       "  /* unfitted */\n",
       "  background-color: var(--sklearn-color-unfitted-level-2);\n",
       "}\n",
       "\n",
       "#sk-container-id-1 div.sk-estimator.fitted input.sk-toggleable__control:checked~label.sk-toggleable__label {\n",
       "  /* fitted */\n",
       "  background-color: var(--sklearn-color-fitted-level-2);\n",
       "}\n",
       "\n",
       "#sk-container-id-1 div.sk-label label.sk-toggleable__label,\n",
       "#sk-container-id-1 div.sk-label label {\n",
       "  /* The background is the default theme color */\n",
       "  color: var(--sklearn-color-text-on-default-background);\n",
       "}\n",
       "\n",
       "/* On hover, darken the color of the background */\n",
       "#sk-container-id-1 div.sk-label:hover label.sk-toggleable__label {\n",
       "  color: var(--sklearn-color-text);\n",
       "  background-color: var(--sklearn-color-unfitted-level-2);\n",
       "}\n",
       "\n",
       "/* Label box, darken color on hover, fitted */\n",
       "#sk-container-id-1 div.sk-label.fitted:hover label.sk-toggleable__label.fitted {\n",
       "  color: var(--sklearn-color-text);\n",
       "  background-color: var(--sklearn-color-fitted-level-2);\n",
       "}\n",
       "\n",
       "/* Estimator label */\n",
       "\n",
       "#sk-container-id-1 div.sk-label label {\n",
       "  font-family: monospace;\n",
       "  font-weight: bold;\n",
       "  display: inline-block;\n",
       "  line-height: 1.2em;\n",
       "}\n",
       "\n",
       "#sk-container-id-1 div.sk-label-container {\n",
       "  text-align: center;\n",
       "}\n",
       "\n",
       "/* Estimator-specific */\n",
       "#sk-container-id-1 div.sk-estimator {\n",
       "  font-family: monospace;\n",
       "  border: 1px dotted var(--sklearn-color-border-box);\n",
       "  border-radius: 0.25em;\n",
       "  box-sizing: border-box;\n",
       "  margin-bottom: 0.5em;\n",
       "  /* unfitted */\n",
       "  background-color: var(--sklearn-color-unfitted-level-0);\n",
       "}\n",
       "\n",
       "#sk-container-id-1 div.sk-estimator.fitted {\n",
       "  /* fitted */\n",
       "  background-color: var(--sklearn-color-fitted-level-0);\n",
       "}\n",
       "\n",
       "/* on hover */\n",
       "#sk-container-id-1 div.sk-estimator:hover {\n",
       "  /* unfitted */\n",
       "  background-color: var(--sklearn-color-unfitted-level-2);\n",
       "}\n",
       "\n",
       "#sk-container-id-1 div.sk-estimator.fitted:hover {\n",
       "  /* fitted */\n",
       "  background-color: var(--sklearn-color-fitted-level-2);\n",
       "}\n",
       "\n",
       "/* Specification for estimator info (e.g. \"i\" and \"?\") */\n",
       "\n",
       "/* Common style for \"i\" and \"?\" */\n",
       "\n",
       ".sk-estimator-doc-link,\n",
       "a:link.sk-estimator-doc-link,\n",
       "a:visited.sk-estimator-doc-link {\n",
       "  float: right;\n",
       "  font-size: smaller;\n",
       "  line-height: 1em;\n",
       "  font-family: monospace;\n",
       "  background-color: var(--sklearn-color-background);\n",
       "  border-radius: 1em;\n",
       "  height: 1em;\n",
       "  width: 1em;\n",
       "  text-decoration: none !important;\n",
       "  margin-left: 1ex;\n",
       "  /* unfitted */\n",
       "  border: var(--sklearn-color-unfitted-level-1) 1pt solid;\n",
       "  color: var(--sklearn-color-unfitted-level-1);\n",
       "}\n",
       "\n",
       ".sk-estimator-doc-link.fitted,\n",
       "a:link.sk-estimator-doc-link.fitted,\n",
       "a:visited.sk-estimator-doc-link.fitted {\n",
       "  /* fitted */\n",
       "  border: var(--sklearn-color-fitted-level-1) 1pt solid;\n",
       "  color: var(--sklearn-color-fitted-level-1);\n",
       "}\n",
       "\n",
       "/* On hover */\n",
       "div.sk-estimator:hover .sk-estimator-doc-link:hover,\n",
       ".sk-estimator-doc-link:hover,\n",
       "div.sk-label-container:hover .sk-estimator-doc-link:hover,\n",
       ".sk-estimator-doc-link:hover {\n",
       "  /* unfitted */\n",
       "  background-color: var(--sklearn-color-unfitted-level-3);\n",
       "  color: var(--sklearn-color-background);\n",
       "  text-decoration: none;\n",
       "}\n",
       "\n",
       "div.sk-estimator.fitted:hover .sk-estimator-doc-link.fitted:hover,\n",
       ".sk-estimator-doc-link.fitted:hover,\n",
       "div.sk-label-container:hover .sk-estimator-doc-link.fitted:hover,\n",
       ".sk-estimator-doc-link.fitted:hover {\n",
       "  /* fitted */\n",
       "  background-color: var(--sklearn-color-fitted-level-3);\n",
       "  color: var(--sklearn-color-background);\n",
       "  text-decoration: none;\n",
       "}\n",
       "\n",
       "/* Span, style for the box shown on hovering the info icon */\n",
       ".sk-estimator-doc-link span {\n",
       "  display: none;\n",
       "  z-index: 9999;\n",
       "  position: relative;\n",
       "  font-weight: normal;\n",
       "  right: .2ex;\n",
       "  padding: .5ex;\n",
       "  margin: .5ex;\n",
       "  width: min-content;\n",
       "  min-width: 20ex;\n",
       "  max-width: 50ex;\n",
       "  color: var(--sklearn-color-text);\n",
       "  box-shadow: 2pt 2pt 4pt #999;\n",
       "  /* unfitted */\n",
       "  background: var(--sklearn-color-unfitted-level-0);\n",
       "  border: .5pt solid var(--sklearn-color-unfitted-level-3);\n",
       "}\n",
       "\n",
       ".sk-estimator-doc-link.fitted span {\n",
       "  /* fitted */\n",
       "  background: var(--sklearn-color-fitted-level-0);\n",
       "  border: var(--sklearn-color-fitted-level-3);\n",
       "}\n",
       "\n",
       ".sk-estimator-doc-link:hover span {\n",
       "  display: block;\n",
       "}\n",
       "\n",
       "/* \"?\"-specific style due to the `<a>` HTML tag */\n",
       "\n",
       "#sk-container-id-1 a.estimator_doc_link {\n",
       "  float: right;\n",
       "  font-size: 1rem;\n",
       "  line-height: 1em;\n",
       "  font-family: monospace;\n",
       "  background-color: var(--sklearn-color-background);\n",
       "  border-radius: 1rem;\n",
       "  height: 1rem;\n",
       "  width: 1rem;\n",
       "  text-decoration: none;\n",
       "  /* unfitted */\n",
       "  color: var(--sklearn-color-unfitted-level-1);\n",
       "  border: var(--sklearn-color-unfitted-level-1) 1pt solid;\n",
       "}\n",
       "\n",
       "#sk-container-id-1 a.estimator_doc_link.fitted {\n",
       "  /* fitted */\n",
       "  border: var(--sklearn-color-fitted-level-1) 1pt solid;\n",
       "  color: var(--sklearn-color-fitted-level-1);\n",
       "}\n",
       "\n",
       "/* On hover */\n",
       "#sk-container-id-1 a.estimator_doc_link:hover {\n",
       "  /* unfitted */\n",
       "  background-color: var(--sklearn-color-unfitted-level-3);\n",
       "  color: var(--sklearn-color-background);\n",
       "  text-decoration: none;\n",
       "}\n",
       "\n",
       "#sk-container-id-1 a.estimator_doc_link.fitted:hover {\n",
       "  /* fitted */\n",
       "  background-color: var(--sklearn-color-fitted-level-3);\n",
       "}\n",
       "</style><div id=\"sk-container-id-1\" class=\"sk-top-container\"><div class=\"sk-text-repr-fallback\"><pre>LatentDirichletAllocation(n_components=5, random_state=42)</pre><b>In a Jupyter environment, please rerun this cell to show the HTML representation or trust the notebook. <br />On GitHub, the HTML representation is unable to render, please try loading this page with nbviewer.org.</b></div><div class=\"sk-container\" hidden><div class=\"sk-item\"><div class=\"sk-estimator fitted sk-toggleable\"><input class=\"sk-toggleable__control sk-hidden--visually\" id=\"sk-estimator-id-1\" type=\"checkbox\" checked><label for=\"sk-estimator-id-1\" class=\"sk-toggleable__label fitted sk-toggleable__label-arrow fitted\">&nbsp;&nbsp;LatentDirichletAllocation<a class=\"sk-estimator-doc-link fitted\" rel=\"noreferrer\" target=\"_blank\" href=\"https://scikit-learn.org/1.5/modules/generated/sklearn.decomposition.LatentDirichletAllocation.html\">?<span>Documentation for LatentDirichletAllocation</span></a><span class=\"sk-estimator-doc-link fitted\">i<span>Fitted</span></span></label><div class=\"sk-toggleable__content fitted\"><pre>LatentDirichletAllocation(n_components=5, random_state=42)</pre></div> </div></div></div></div>"
      ],
      "text/plain": [
       "LatentDirichletAllocation(n_components=5, random_state=42)"
      ]
     },
     "execution_count": 20,
     "metadata": {},
     "output_type": "execute_result"
    }
   ],
   "source": [
    "#Fit LDA\n",
    "lda = LatentDirichletAllocation(n_components=5, random_state=42) #Choose number of topics\n",
    "lda.fit(dtm)"
   ]
  },
  {
   "cell_type": "code",
   "execution_count": 21,
   "id": "445324ce",
   "metadata": {},
   "outputs": [
    {
     "name": "stdout",
     "output_type": "stream",
     "text": [
      "Topic 1: african, south, life, africa, people, child, state, need, say, like\n",
      "Topic 2: africa, african, south, gold, hair, know, like, people, uae, aid\n",
      "Topic 3: woman, man, multiple, africa, wife, child, country, people, like, algeria\n",
      "Topic 4: people, africans, spiritual, say, village, attack, country, opposition, religion, leader\n",
      "Topic 5: car, border, child, music, south, development, financial, cross, township, burkina\n"
     ]
    }
   ],
   "source": [
    "#Topics\n",
    "\n",
    "# Get the words\n",
    "words = vectorizer.get_feature_names_out()\n",
    "\n",
    "# Print top words per topic\n",
    "for topic_idx, topic in enumerate(lda.components_):\n",
    "    top_words_idx = topic.argsort()[-10:][::-1]  # top 10 words\n",
    "    top_words = [words[i] for i in top_words_idx]\n",
    "    print(f\"Topic {topic_idx+1}: {', '.join(top_words)}\")\n"
   ]
  },
  {
   "cell_type": "code",
   "execution_count": 22,
   "id": "d642f729",
   "metadata": {},
   "outputs": [
    {
     "data": {
      "text/html": [
       "<div>\n",
       "<style scoped>\n",
       "    .dataframe tbody tr th:only-of-type {\n",
       "        vertical-align: middle;\n",
       "    }\n",
       "\n",
       "    .dataframe tbody tr th {\n",
       "        vertical-align: top;\n",
       "    }\n",
       "\n",
       "    .dataframe thead th {\n",
       "        text-align: right;\n",
       "    }\n",
       "</style>\n",
       "<table border=\"1\" class=\"dataframe\">\n",
       "  <thead>\n",
       "    <tr style=\"text-align: right;\">\n",
       "      <th></th>\n",
       "      <th>full_text</th>\n",
       "      <th>dominant_topic</th>\n",
       "    </tr>\n",
       "  </thead>\n",
       "  <tbody>\n",
       "    <tr>\n",
       "      <th>0</th>\n",
       "      <td>Planning an Outreach to an Internally Displace...</td>\n",
       "      <td>0</td>\n",
       "    </tr>\n",
       "    <tr>\n",
       "      <th>1</th>\n",
       "      <td>I don't know how to title this but... Is it on...</td>\n",
       "      <td>1</td>\n",
       "    </tr>\n",
       "    <tr>\n",
       "      <th>2</th>\n",
       "      <td>Canadian mining company stripped of gold mine ...</td>\n",
       "      <td>4</td>\n",
       "    </tr>\n",
       "    <tr>\n",
       "      <th>3</th>\n",
       "      <td>At least 100 people killed in gunmen attack in...</td>\n",
       "      <td>3</td>\n",
       "    </tr>\n",
       "    <tr>\n",
       "      <th>4</th>\n",
       "      <td>Sub Saharan Africa Security Situation and Key ...</td>\n",
       "      <td>2</td>\n",
       "    </tr>\n",
       "  </tbody>\n",
       "</table>\n",
       "</div>"
      ],
      "text/plain": [
       "                                           full_text  dominant_topic\n",
       "0  Planning an Outreach to an Internally Displace...               0\n",
       "1  I don't know how to title this but... Is it on...               1\n",
       "2  Canadian mining company stripped of gold mine ...               4\n",
       "3  At least 100 people killed in gunmen attack in...               3\n",
       "4  Sub Saharan Africa Security Situation and Key ...               2"
      ]
     },
     "execution_count": 22,
     "metadata": {},
     "output_type": "execute_result"
    }
   ],
   "source": [
    "#Assigning dominant topic to each document\n",
    "topic_values = lda.transform(dtm)\n",
    "reddit_df['dominant_topic'] = topic_values.argmax(axis=1)\n",
    "reddit_df[['full_text', 'dominant_topic']].head()\n"
   ]
  },
  {
   "cell_type": "code",
   "execution_count": 23,
   "id": "9771c628",
   "metadata": {},
   "outputs": [
    {
     "data": {
      "image/png": "[encoded data removed]",
      "text/plain": [
       "<Figure size 640x480 with 1 Axes>"
      ]
     },
     "metadata": {},
     "output_type": "display_data"
    }
   ],
   "source": [
    "#Topic distribution\n",
    "\n",
    "import seaborn as sns\n",
    "import matplotlib.pyplot as plt\n",
    "\n",
    "sns.countplot(x='dominant_topic', data=reddit_df)\n",
    "plt.title(\"Number of posts per topic\")\n",
    "plt.show()"
   ]
  },
  {
   "cell_type": "markdown",
   "id": "6ab19ede",
   "metadata": {},
   "source": [
    "Bigramas\n",
    " * Using ngram_range=(1, 2) allows the model to capture common phrases (e.g., \"climate change\", \"african union\") instead of just single words. This gives more meaningful topics."
   ]
  },
  {
   "cell_type": "code",
   "execution_count": 24,
   "id": "c874f306",
   "metadata": {},
   "outputs": [],
   "source": [
    "# Vectorize with bigrams\n",
    "\n",
    "from sklearn.feature_extraction.text import CountVectorizer\n",
    "\n",
    "vectorizer = CountVectorizer(\n",
    "    max_df=0.95,\n",
    "    min_df=2,\n",
    "    stop_words='english',\n",
    "    ngram_range=(1, 2)  # THIS enables bigrams\n",
    ")\n",
    "\n",
    "dtm = vectorizer.fit_transform(reddit_df['processed_text'])\n"
   ]
  },
  {
   "cell_type": "code",
   "execution_count": 27,
   "id": "3b841759",
   "metadata": {},
   "outputs": [
    {
     "name": "stdout",
     "output_type": "stream",
     "text": [
      "\n",
      " LDA with 5 topics:\n",
      "----------------------------------------\n",
      "Topic #1: gold, hair, cut, animal, african, immigrant, spiritual, tunisia, like, say\n",
      "\n",
      "Topic #2: africa, need, sub, country, company, security, sub saharan, saharan, saharan africa, situation\n",
      "\n",
      "Topic #3: south, african, africa, south africa, south african, know, woman, history, group, series\n",
      "\n",
      "Topic #4: say, algeria, opposition, country, tanzania, activist, election, lissu, south, leader\n",
      "\n",
      "Topic #5: people, woman, africa, child, man, life, like, africans, african, believe\n",
      "\n",
      "\n",
      " LDA with 10 topics:\n",
      "----------------------------------------\n",
      "Topic #1: animal, man, cut, ancient, fall, head, right, make, hold, force\n",
      "\n",
      "Topic #2: africa, tanzania, lissu, leader, opposition, country, say, activist, charge, arrest\n",
      "\n",
      "Topic #3: african, south, africa, south african, woman, group, south africa, president, traditional, southern\n",
      "\n",
      "Topic #4: africa, algeria, mali, situation, saharan, saharan africa, sub saharan, key, key developments, africa security\n",
      "\n",
      "Topic #5: people, africans, village, spiritual, life, religion, poverty, world, child, believe\n",
      "\n",
      "Topic #6: woman, man, child, multiple, wife, like, love, time, expect, try\n",
      "\n",
      "Topic #7: africa, african, people, south, south africa, state, culture, say, attack, like\n",
      "\n",
      "Topic #8: hair, aid, uae, cut, like, war, spiritual, send, style, government\n",
      "\n",
      "Topic #9: gold, series, say, zulu, know, child, queen, military, history, king\n",
      "\n",
      "Topic #10: camp, foreign, resource, help, like, country, company, condition, state, public\n",
      "\n",
      "\n",
      " LDA with 15 topics:\n",
      "----------------------------------------\n",
      "Topic #1: zambia, vote, citizen, mozambique, new president, judge, administration, african nation, burkina, faso\n",
      "\n",
      "Topic #2: sub, security, africa, sub saharan, saharan africa, saharan, situation, developments, security situation, key developments\n",
      "\n",
      "Topic #3: president, government, bank, development, new, say, year, rule, code, statement\n",
      "\n",
      "Topic #4: algeria, food, sudan, country, africa, people, south, france, tension, article\n",
      "\n",
      "Topic #5: people, village, spiritual, force, thing, stop, africa, child, kenya, ignore\n",
      "\n",
      "Topic #6: woman, man, multiple, wife, child, like, time, people, love, try\n",
      "\n",
      "Topic #7: africa, south, african, people, south africa, culture, state, company, trade, like\n",
      "\n",
      "Topic #8: hair, aid, uae, cut, like, war, spiritual, sudan, style, uk\n",
      "\n",
      "Topic #9: gold, series, say, zulu, military, know, child, queen, mali, history\n",
      "\n",
      "Topic #10: camp, foreign, resource, like, country, company, medical, help, offer, hear\n",
      "\n",
      "Topic #11: ghana, africa, uae, government, country, ai, innovation, project, use, tech\n",
      "\n",
      "Topic #12: attack, financial, africa, state, development, kill, african, public, people, government\n",
      "\n",
      "Topic #13: south, african, south african, africa, animal, south africa, woman, work, school, university\n",
      "\n",
      "Topic #14: life, child, african, like, people, think, minister, woman, bear, school\n",
      "\n",
      "Topic #15: africans, religion, people, africa, traditional, group, religious, poverty, southern, clothing\n",
      "\n"
     ]
    }
   ],
   "source": [
    "#Fiting LDA with different n_components values\n",
    "# 5, 10, and 15 topics to print top terms for each:\n",
    "\n",
    "from sklearn.decomposition import LatentDirichletAllocation\n",
    "\n",
    "def display_topics(model, feature_names, n_top_words=10):\n",
    "    for topic_idx, topic in enumerate(model.components_):\n",
    "        top_indices = topic.argsort()[-n_top_words:][::-1]\n",
    "        top_words = [feature_names[i] for i in top_indices]\n",
    "        print(f\"Topic #{topic_idx+1}: {', '.join(top_words)}\\n\")\n",
    "\n",
    "# Loop through topic numbers\n",
    "for n_topics in [5, 10, 15]:\n",
    "    print(f\"\\n LDA with {n_topics} topics:\\n\" + \"-\"*40)\n",
    "    lda = LatentDirichletAllocation(n_components=n_topics, random_state=42)\n",
    "    lda.fit(dtm)\n",
    "    \n",
    "    feature_names = vectorizer.get_feature_names_out()\n",
    "    display_topics(lda, feature_names)\n"
   ]
  }
 ],
 "metadata": {
  "kernelspec": {
   "display_name": "dtascnce",
   "language": "python",
   "name": "python3"
  },
  "language_info": {
   "codemirror_mode": {
    "name": "ipython",
    "version": 3
   },
   "file_extension": ".py",
   "mimetype": "text/x-python",
   "name": "python",
   "nbconvert_exporter": "python",
   "pygments_lexer": "ipython3",
   "version": "3.9.20"
  }
 },
 "nbformat": 4,
 "nbformat_minor": 5
}
