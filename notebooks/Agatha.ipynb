{
 "cells": [
  {
   "cell_type": "code",
   "execution_count": 4,
   "id": "5e7a041d",
   "metadata": {},
   "outputs": [
    {
     "data": {
      "text/html": [
       "<div>\n",
       "<style scoped>\n",
       "    .dataframe tbody tr th:only-of-type {\n",
       "        vertical-align: middle;\n",
       "    }\n",
       "\n",
       "    .dataframe tbody tr th {\n",
       "        vertical-align: top;\n",
       "    }\n",
       "\n",
       "    .dataframe thead th {\n",
       "        text-align: right;\n",
       "    }\n",
       "</style>\n",
       "<table border=\"1\" class=\"dataframe\">\n",
       "  <thead>\n",
       "    <tr style=\"text-align: right;\">\n",
       "      <th></th>\n",
       "      <th>text_id</th>\n",
       "      <th>title</th>\n",
       "      <th>text_content</th>\n",
       "      <th>created_utc</th>\n",
       "      <th>score</th>\n",
       "      <th>subreddit</th>\n",
       "      <th>type</th>\n",
       "      <th>parent_id</th>\n",
       "      <th>submission_id</th>\n",
       "      <th>cleaned_text</th>\n",
       "    </tr>\n",
       "  </thead>\n",
       "  <tbody>\n",
       "    <tr>\n",
       "      <th>0</th>\n",
       "      <td>1jbx4c2</td>\n",
       "      <td>Funding cut for team tracking Ukrainian abduct...</td>\n",
       "      <td>Funding cut for team tracking Ukrainian abduct...</td>\n",
       "      <td>1.742051e+09</td>\n",
       "      <td>271</td>\n",
       "      <td>worldnews</td>\n",
       "      <td>post</td>\n",
       "      <td>NaN</td>\n",
       "      <td>1jbx4c2</td>\n",
       "      <td>funding cut team tracking ukrainian abduction ...</td>\n",
       "    </tr>\n",
       "    <tr>\n",
       "      <th>1</th>\n",
       "      <td>1izejoh</td>\n",
       "      <td>Trump’s USAID cuts are anti-Christian at the c...</td>\n",
       "      <td>Trump’s USAID cuts are anti-Christian at the c...</td>\n",
       "      <td>1.740659e+09</td>\n",
       "      <td>1199</td>\n",
       "      <td>politics</td>\n",
       "      <td>post</td>\n",
       "      <td>NaN</td>\n",
       "      <td>1izejoh</td>\n",
       "      <td>trump usaid cut antichristian core evangelical...</td>\n",
       "    </tr>\n",
       "    <tr>\n",
       "      <th>2</th>\n",
       "      <td>1imjqkc</td>\n",
       "      <td>US Funding Cuts Are Helping Criminals Get Away...</td>\n",
       "      <td>US Funding Cuts Are Helping Criminals Get Away...</td>\n",
       "      <td>1.739228e+09</td>\n",
       "      <td>208</td>\n",
       "      <td>politics</td>\n",
       "      <td>post</td>\n",
       "      <td>NaN</td>\n",
       "      <td>1imjqkc</td>\n",
       "      <td>u funding cut helping criminal get away child ...</td>\n",
       "    </tr>\n",
       "    <tr>\n",
       "      <th>3</th>\n",
       "      <td>1jzcy60</td>\n",
       "      <td>White House to ask Congress to cut $9B in fund...</td>\n",
       "      <td>White House to ask Congress to cut $9B in fund...</td>\n",
       "      <td>1.744673e+09</td>\n",
       "      <td>181</td>\n",
       "      <td>politics</td>\n",
       "      <td>post</td>\n",
       "      <td>NaN</td>\n",
       "      <td>1jzcy60</td>\n",
       "      <td>white house ask congress cut b fund including ...</td>\n",
       "    </tr>\n",
       "    <tr>\n",
       "      <th>4</th>\n",
       "      <td>1j2r3w9</td>\n",
       "      <td>USAID official put on leave for memos saying f...</td>\n",
       "      <td>USAID official put on leave for memos saying f...</td>\n",
       "      <td>1.741030e+09</td>\n",
       "      <td>362</td>\n",
       "      <td>politics</td>\n",
       "      <td>post</td>\n",
       "      <td>NaN</td>\n",
       "      <td>1j2r3w9</td>\n",
       "      <td>usaid official put leave memo saying funding c...</td>\n",
       "    </tr>\n",
       "  </tbody>\n",
       "</table>\n",
       "</div>"
      ],
      "text/plain": [
       "   text_id                                              title  \\\n",
       "0  1jbx4c2  Funding cut for team tracking Ukrainian abduct...   \n",
       "1  1izejoh  Trump’s USAID cuts are anti-Christian at the c...   \n",
       "2  1imjqkc  US Funding Cuts Are Helping Criminals Get Away...   \n",
       "3  1jzcy60  White House to ask Congress to cut $9B in fund...   \n",
       "4  1j2r3w9  USAID official put on leave for memos saying f...   \n",
       "\n",
       "                                        text_content   created_utc  score  \\\n",
       "0  Funding cut for team tracking Ukrainian abduct...  1.742051e+09    271   \n",
       "1  Trump’s USAID cuts are anti-Christian at the c...  1.740659e+09   1199   \n",
       "2  US Funding Cuts Are Helping Criminals Get Away...  1.739228e+09    208   \n",
       "3  White House to ask Congress to cut $9B in fund...  1.744673e+09    181   \n",
       "4  USAID official put on leave for memos saying f...  1.741030e+09    362   \n",
       "\n",
       "   subreddit  type parent_id submission_id  \\\n",
       "0  worldnews  post       NaN       1jbx4c2   \n",
       "1   politics  post       NaN       1izejoh   \n",
       "2   politics  post       NaN       1imjqkc   \n",
       "3   politics  post       NaN       1jzcy60   \n",
       "4   politics  post       NaN       1j2r3w9   \n",
       "\n",
       "                                        cleaned_text  \n",
       "0  funding cut team tracking ukrainian abduction ...  \n",
       "1  trump usaid cut antichristian core evangelical...  \n",
       "2  u funding cut helping criminal get away child ...  \n",
       "3  white house ask congress cut b fund including ...  \n",
       "4  usaid official put leave memo saying funding c...  "
      ]
     },
     "execution_count": 4,
     "metadata": {},
     "output_type": "execute_result"
    }
   ],
   "source": [
    "import pandas as pd\n",
    "\n",
    "df = pd.read_csv('../data/processed/Agatha_reddit_processed_data_20250606_151437.csv')\n",
    "df.head()"
   ]
  },
  {
   "cell_type": "code",
   "execution_count": 5,
   "id": "27442a0a",
   "metadata": {},
   "outputs": [
    {
     "data": {
      "text/plain": [
       "(41848, 10)"
      ]
     },
     "execution_count": 5,
     "metadata": {},
     "output_type": "execute_result"
    }
   ],
   "source": [
    "df.shape"
   ]
  }
 ],
 "metadata": {
  "kernelspec": {
   "display_name": "learn-env",
   "language": "python",
   "name": "python3"
  },
  "language_info": {
   "codemirror_mode": {
    "name": "ipython",
    "version": 3
   },
   "file_extension": ".py",
   "mimetype": "text/x-python",
   "name": "python",
   "nbconvert_exporter": "python",
   "pygments_lexer": "ipython3",
   "version": "3.8.5"
  }
 },
 "nbformat": 4,
 "nbformat_minor": 5
}
