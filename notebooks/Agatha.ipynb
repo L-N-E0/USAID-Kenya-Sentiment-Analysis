{
 "cells": [
  {
   "cell_type": "markdown",
   "id": "844fe40a",
   "metadata": {},
   "source": [
    "### Merge Reddit Data"
   ]
  },
  {
   "cell_type": "code",
   "execution_count": null,
   "id": "de3fb297",
   "metadata": {},
   "outputs": [
    {
     "name": "stderr",
     "output_type": "stream",
     "text": [
      "<ipython-input-12-728bcec0ffc3>:47: UserWarning: Could not infer format, so each element will be parsed individually, falling back to `dateutil`. To ensure parsing is consistent and as-expected, please specify a format.\n",
      "  df['published_date'] = pd.to_datetime(df['published_date'], errors='coerce')\n",
      "<ipython-input-12-728bcec0ffc3>:47: UserWarning: Could not infer format, so each element will be parsed individually, falling back to `dateutil`. To ensure parsing is consistent and as-expected, please specify a format.\n",
      "  df['published_date'] = pd.to_datetime(df['published_date'], errors='coerce')\n",
      "<ipython-input-12-728bcec0ffc3>:47: UserWarning: Could not infer format, so each element will be parsed individually, falling back to `dateutil`. To ensure parsing is consistent and as-expected, please specify a format.\n",
      "  df['published_date'] = pd.to_datetime(df['published_date'], errors='coerce')\n"
     ]
    },
    {
     "data": {
      "text/html": [
       "<div>\n",
       "<style scoped>\n",
       "    .dataframe tbody tr th:only-of-type {\n",
       "        vertical-align: middle;\n",
       "    }\n",
       "\n",
       "    .dataframe tbody tr th {\n",
       "        vertical-align: top;\n",
       "    }\n",
       "\n",
       "    .dataframe thead th {\n",
       "        text-align: right;\n",
       "    }\n",
       "</style>\n",
       "<table border=\"1\" class=\"dataframe\">\n",
       "  <thead>\n",
       "    <tr style=\"text-align: right;\">\n",
       "      <th></th>\n",
       "      <th>source</th>\n",
       "      <th>subreddit</th>\n",
       "      <th>post_title</th>\n",
       "      <th>text</th>\n",
       "      <th>author</th>\n",
       "      <th>keyword</th>\n",
       "      <th>published_date</th>\n",
       "      <th>url</th>\n",
       "    </tr>\n",
       "  </thead>\n",
       "  <tbody>\n",
       "    <tr>\n",
       "      <th>0</th>\n",
       "      <td>Reddit</td>\n",
       "      <td>Kenya</td>\n",
       "      <td>USAID left a month ago, do we have ARVs in Kenya?</td>\n",
       "      <td>Someone on a different group (different websit...</td>\n",
       "      <td>muerki</td>\n",
       "      <td>usaid kenya</td>\n",
       "      <td>2025-04-15 13:16:53</td>\n",
       "      <td>https://www.reddit.com/r/Kenya/comments/1jzrn2...</td>\n",
       "    </tr>\n",
       "    <tr>\n",
       "      <th>1</th>\n",
       "      <td>Reddit</td>\n",
       "      <td>Kenya</td>\n",
       "      <td>Classism in r/Kenya and r/nairobi</td>\n",
       "      <td>The classism I'm seeing in both subs is a good...</td>\n",
       "      <td>Morio_anzenza</td>\n",
       "      <td>usaid kenya</td>\n",
       "      <td>2025-04-07 04:21:12</td>\n",
       "      <td>https://www.reddit.com/r/Kenya/comments/1jtcvb...</td>\n",
       "    </tr>\n",
       "    <tr>\n",
       "      <th>2</th>\n",
       "      <td>Reddit</td>\n",
       "      <td>Kenya</td>\n",
       "      <td>EX-USAID people!! Let's talk</td>\n",
       "      <td>Are you still in contact with the organisation...</td>\n",
       "      <td>vindtar</td>\n",
       "      <td>usaid kenya</td>\n",
       "      <td>2025-04-05 19:09:10</td>\n",
       "      <td>https://www.reddit.com/r/Kenya/comments/1jsb14...</td>\n",
       "    </tr>\n",
       "    <tr>\n",
       "      <th>3</th>\n",
       "      <td>Reddit</td>\n",
       "      <td>Kenya</td>\n",
       "      <td>Why western powers back Israel no matter what ...</td>\n",
       "      <td>I don't care what good book you read, but it's...</td>\n",
       "      <td>Gold_Smart</td>\n",
       "      <td>usaid kenya</td>\n",
       "      <td>2025-03-25 08:18:04</td>\n",
       "      <td>https://www.reddit.com/r/Kenya/comments/1jjehw...</td>\n",
       "    </tr>\n",
       "    <tr>\n",
       "      <th>4</th>\n",
       "      <td>Reddit</td>\n",
       "      <td>Kenya</td>\n",
       "      <td>Is kenya capable of funding its needs now that...</td>\n",
       "      <td>How is kenya prepared to fill the vacuum of US...</td>\n",
       "      <td>westmaxia</td>\n",
       "      <td>usaid kenya</td>\n",
       "      <td>2025-03-08 08:08:58</td>\n",
       "      <td>https://www.reddit.com/r/Kenya/comments/1j6cjz...</td>\n",
       "    </tr>\n",
       "  </tbody>\n",
       "</table>\n",
       "</div>"
      ],
      "text/plain": [
       "   source subreddit                                         post_title  \\\n",
       "0  Reddit     Kenya  USAID left a month ago, do we have ARVs in Kenya?   \n",
       "1  Reddit     Kenya                  Classism in r/Kenya and r/nairobi   \n",
       "2  Reddit     Kenya                       EX-USAID people!! Let's talk   \n",
       "3  Reddit     Kenya  Why western powers back Israel no matter what ...   \n",
       "4  Reddit     Kenya  Is kenya capable of funding its needs now that...   \n",
       "\n",
       "                                                text         author  \\\n",
       "0  Someone on a different group (different websit...         muerki   \n",
       "1  The classism I'm seeing in both subs is a good...  Morio_anzenza   \n",
       "2  Are you still in contact with the organisation...        vindtar   \n",
       "3  I don't care what good book you read, but it's...     Gold_Smart   \n",
       "4  How is kenya prepared to fill the vacuum of US...      westmaxia   \n",
       "\n",
       "       keyword      published_date  \\\n",
       "0  usaid kenya 2025-04-15 13:16:53   \n",
       "1  usaid kenya 2025-04-07 04:21:12   \n",
       "2  usaid kenya 2025-04-05 19:09:10   \n",
       "3  usaid kenya 2025-03-25 08:18:04   \n",
       "4  usaid kenya 2025-03-08 08:08:58   \n",
       "\n",
       "                                                 url  \n",
       "0  https://www.reddit.com/r/Kenya/comments/1jzrn2...  \n",
       "1  https://www.reddit.com/r/Kenya/comments/1jtcvb...  \n",
       "2  https://www.reddit.com/r/Kenya/comments/1jsb14...  \n",
       "3  https://www.reddit.com/r/Kenya/comments/1jjehw...  \n",
       "4  https://www.reddit.com/r/Kenya/comments/1j6cjz...  "
      ]
     },
     "execution_count": 12,
     "metadata": {},
     "output_type": "execute_result"
    }
   ],
   "source": [
    "import pandas as pd\n",
    "import os\n",
    "import glob\n",
    "\n",
    "# Define paths\n",
    "reddit_raw_path = r\"C:\\Users\\user\\Desktop\\USAID-Kenya-Sentiment-Analysis\\USAID-Kenya-Sentiment-Analysis\\data\\raw\\reddit_data\"\n",
    "output_file = r\"C:\\Users\\user\\Desktop\\USAID-Kenya-Sentiment-Analysis\\USAID-Kenya-Sentiment-Analysis\\data\\processed\\Agatha_merged_reddit_dataset.csv\"\n",
    "os.makedirs(os.path.dirname(output_file), exist_ok=True)\n",
    "\n",
    "# Define final Reddit column structure\n",
    "final_columns = [\n",
    "    \"source\", \"subreddit\", \"post_title\", \"text\", \"author\",\n",
    "    \"keyword\", \"published_date\", \"url\"\n",
    "]\n",
    "\n",
    "# Load and normalize all Reddit files\n",
    "reddit_files = glob.glob(os.path.join(reddit_raw_path, \"*.csv\"))\n",
    "reddit_dfs = []\n",
    "\n",
    "for file in reddit_files:\n",
    "    df = pd.read_csv(file)\n",
    "\n",
    "    # ==== Rename columns as needed ====\n",
    "    if 'title' in df.columns:\n",
    "        df.rename(columns={'title': 'post_title'}, inplace=True)\n",
    "\n",
    "    # Handle published_date\n",
    "    if 'date_posted' in df.columns:\n",
    "        df['published_date'] = df['date_posted']\n",
    "    elif 'created_utc' in df.columns:\n",
    "        df['published_date'] = df['created_utc']\n",
    "\n",
    "    # Handle text column\n",
    "    if 'text' not in df.columns and 'selftext' in df.columns:\n",
    "        df.rename(columns={'selftext': 'text'}, inplace=True)\n",
    "\n",
    "    # Add static source column\n",
    "    df['source'] = 'Reddit'\n",
    "\n",
    "    # Add missing final columns with None\n",
    "    for col in final_columns:\n",
    "        if col not in df.columns:\n",
    "            df[col] = None\n",
    "\n",
    "    # Format published_date to datetime\n",
    "    df['published_date'] = df['published_date'].astype(str).str.strip().replace('', pd.NA)\n",
    "    df['published_date'] = pd.to_datetime(df['published_date'], errors='coerce')\n",
    "\n",
    "    # Keep only final standardized columns\n",
    "    df = df[final_columns]\n",
    "    reddit_dfs.append(df)\n",
    "\n",
    "#  Combine all rows\n",
    "reddit_df = pd.concat(reddit_dfs, ignore_index=True)\n",
    "\n",
    "# Save to the output location\n",
    "reddit_df.to_csv(output_file, index=False)\n",
    "\n",
    "# print the five rows of the dataset\n",
    "reddit_df.head()\n"
   ]
  },
  {
   "cell_type": "code",
   "execution_count": 13,
   "id": "c8c57c01",
   "metadata": {},
   "outputs": [
    {
     "data": {
      "text/plain": [
       "(1293, 8)"
      ]
     },
     "execution_count": 13,
     "metadata": {},
     "output_type": "execute_result"
    }
   ],
   "source": [
    "reddit_df.shape"
   ]
  },
  {
   "cell_type": "code",
   "execution_count": 22,
   "id": "4687bc46",
   "metadata": {},
   "outputs": [
    {
     "data": {
      "text/plain": [
       "source              0\n",
       "subreddit           0\n",
       "post_title          0\n",
       "text              389\n",
       "author            827\n",
       "keyword           547\n",
       "published_date    347\n",
       "url                 0\n",
       "dtype: int64"
      ]
     },
     "execution_count": 22,
     "metadata": {},
     "output_type": "execute_result"
    }
   ],
   "source": [
    "# Shows the number of missing (NaN) values in each column\n",
    "reddit_df.isna().sum()\n"
   ]
  }
 ],
 "metadata": {
  "kernelspec": {
   "display_name": "learn-env",
   "language": "python",
   "name": "python3"
  },
  "language_info": {
   "codemirror_mode": {
    "name": "ipython",
    "version": 3
   },
   "file_extension": ".py",
   "mimetype": "text/x-python",
   "name": "python",
   "nbconvert_exporter": "python",
   "pygments_lexer": "ipython3",
   "version": "3.8.5"
  }
 },
 "nbformat": 4,
 "nbformat_minor": 5
}
