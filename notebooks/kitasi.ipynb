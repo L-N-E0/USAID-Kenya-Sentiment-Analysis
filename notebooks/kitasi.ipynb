{
 "cells": [
  {
   "cell_type": "markdown",
   "id": "942c2a9a",
   "metadata": {},
   "source": [
    "# USAID FUNDING SENTIMENTAL ANALYSIS"
   ]
  },
  {
   "cell_type": "markdown",
   "id": "9c0638ff",
   "metadata": {},
   "source": [
    "## Merging the Reddit dataset"
   ]
  },
  {
   "cell_type": "code",
   "execution_count": 163,
   "id": "d7606e32",
   "metadata": {},
   "outputs": [
    {
     "data": {
      "text/html": [
       "<div>\n",
       "<style scoped>\n",
       "    .dataframe tbody tr th:only-of-type {\n",
       "        vertical-align: middle;\n",
       "    }\n",
       "\n",
       "    .dataframe tbody tr th {\n",
       "        vertical-align: top;\n",
       "    }\n",
       "\n",
       "    .dataframe thead th {\n",
       "        text-align: right;\n",
       "    }\n",
       "</style>\n",
       "<table border=\"1\" class=\"dataframe\">\n",
       "  <thead>\n",
       "    <tr style=\"text-align: right;\">\n",
       "      <th></th>\n",
       "      <th>title</th>\n",
       "      <th>selftext</th>\n",
       "      <th>subreddit</th>\n",
       "      <th>author</th>\n",
       "      <th>created_utc</th>\n",
       "      <th>url</th>\n",
       "      <th>score</th>\n",
       "      <th>num_comments</th>\n",
       "      <th>keyword</th>\n",
       "      <th>text</th>\n",
       "      <th>date_posted</th>\n",
       "      <th>upvotes</th>\n",
       "      <th>comments</th>\n",
       "      <th>permalink</th>\n",
       "      <th>search_term</th>\n",
       "      <th>created_date</th>\n",
       "      <th>created</th>\n",
       "      <th>Unnamed: 0</th>\n",
       "    </tr>\n",
       "  </thead>\n",
       "  <tbody>\n",
       "    <tr>\n",
       "      <th>0</th>\n",
       "      <td>USAID left a month ago, do we have ARVs in Kenya?</td>\n",
       "      <td>Someone on a different group (different websit...</td>\n",
       "      <td>Kenya</td>\n",
       "      <td>muerki</td>\n",
       "      <td>2025-04-15 13:16:53</td>\n",
       "      <td>https://www.reddit.com/r/Kenya/comments/1jzrn2...</td>\n",
       "      <td>3.0</td>\n",
       "      <td>5.0</td>\n",
       "      <td>usaid kenya</td>\n",
       "      <td>NaN</td>\n",
       "      <td>NaN</td>\n",
       "      <td>NaN</td>\n",
       "      <td>NaN</td>\n",
       "      <td>NaN</td>\n",
       "      <td>NaN</td>\n",
       "      <td>NaN</td>\n",
       "      <td>NaN</td>\n",
       "      <td>NaN</td>\n",
       "    </tr>\n",
       "    <tr>\n",
       "      <th>1</th>\n",
       "      <td>Classism in r/Kenya and r/nairobi</td>\n",
       "      <td>The classism I'm seeing in both subs is a good...</td>\n",
       "      <td>Kenya</td>\n",
       "      <td>Morio_anzenza</td>\n",
       "      <td>2025-04-07 04:21:12</td>\n",
       "      <td>https://www.reddit.com/r/Kenya/comments/1jtcvb...</td>\n",
       "      <td>169.0</td>\n",
       "      <td>95.0</td>\n",
       "      <td>usaid kenya</td>\n",
       "      <td>NaN</td>\n",
       "      <td>NaN</td>\n",
       "      <td>NaN</td>\n",
       "      <td>NaN</td>\n",
       "      <td>NaN</td>\n",
       "      <td>NaN</td>\n",
       "      <td>NaN</td>\n",
       "      <td>NaN</td>\n",
       "      <td>NaN</td>\n",
       "    </tr>\n",
       "    <tr>\n",
       "      <th>2</th>\n",
       "      <td>EX-USAID people!! Let's talk</td>\n",
       "      <td>Are you still in contact with the organisation...</td>\n",
       "      <td>Kenya</td>\n",
       "      <td>vindtar</td>\n",
       "      <td>2025-04-05 19:09:10</td>\n",
       "      <td>https://www.reddit.com/r/Kenya/comments/1jsb14...</td>\n",
       "      <td>2.0</td>\n",
       "      <td>2.0</td>\n",
       "      <td>usaid kenya</td>\n",
       "      <td>NaN</td>\n",
       "      <td>NaN</td>\n",
       "      <td>NaN</td>\n",
       "      <td>NaN</td>\n",
       "      <td>NaN</td>\n",
       "      <td>NaN</td>\n",
       "      <td>NaN</td>\n",
       "      <td>NaN</td>\n",
       "      <td>NaN</td>\n",
       "    </tr>\n",
       "    <tr>\n",
       "      <th>3</th>\n",
       "      <td>Why western powers back Israel no matter what ...</td>\n",
       "      <td>I don't care what good book you read, but it's...</td>\n",
       "      <td>Kenya</td>\n",
       "      <td>Gold_Smart</td>\n",
       "      <td>2025-03-25 08:18:04</td>\n",
       "      <td>https://www.reddit.com/r/Kenya/comments/1jjehw...</td>\n",
       "      <td>13.0</td>\n",
       "      <td>20.0</td>\n",
       "      <td>usaid kenya</td>\n",
       "      <td>NaN</td>\n",
       "      <td>NaN</td>\n",
       "      <td>NaN</td>\n",
       "      <td>NaN</td>\n",
       "      <td>NaN</td>\n",
       "      <td>NaN</td>\n",
       "      <td>NaN</td>\n",
       "      <td>NaN</td>\n",
       "      <td>NaN</td>\n",
       "    </tr>\n",
       "    <tr>\n",
       "      <th>4</th>\n",
       "      <td>Is kenya capable of funding its needs now that...</td>\n",
       "      <td>How is kenya prepared to fill the vacuum of US...</td>\n",
       "      <td>Kenya</td>\n",
       "      <td>westmaxia</td>\n",
       "      <td>2025-03-08 08:08:58</td>\n",
       "      <td>https://www.reddit.com/r/Kenya/comments/1j6cjz...</td>\n",
       "      <td>1.0</td>\n",
       "      <td>6.0</td>\n",
       "      <td>usaid kenya</td>\n",
       "      <td>NaN</td>\n",
       "      <td>NaN</td>\n",
       "      <td>NaN</td>\n",
       "      <td>NaN</td>\n",
       "      <td>NaN</td>\n",
       "      <td>NaN</td>\n",
       "      <td>NaN</td>\n",
       "      <td>NaN</td>\n",
       "      <td>NaN</td>\n",
       "    </tr>\n",
       "  </tbody>\n",
       "</table>\n",
       "</div>"
      ],
      "text/plain": [
       "                                               title  \\\n",
       "0  USAID left a month ago, do we have ARVs in Kenya?   \n",
       "1                  Classism in r/Kenya and r/nairobi   \n",
       "2                       EX-USAID people!! Let's talk   \n",
       "3  Why western powers back Israel no matter what ...   \n",
       "4  Is kenya capable of funding its needs now that...   \n",
       "\n",
       "                                            selftext subreddit         author  \\\n",
       "0  Someone on a different group (different websit...     Kenya         muerki   \n",
       "1  The classism I'm seeing in both subs is a good...     Kenya  Morio_anzenza   \n",
       "2  Are you still in contact with the organisation...     Kenya        vindtar   \n",
       "3  I don't care what good book you read, but it's...     Kenya     Gold_Smart   \n",
       "4  How is kenya prepared to fill the vacuum of US...     Kenya      westmaxia   \n",
       "\n",
       "           created_utc                                                url  \\\n",
       "0  2025-04-15 13:16:53  https://www.reddit.com/r/Kenya/comments/1jzrn2...   \n",
       "1  2025-04-07 04:21:12  https://www.reddit.com/r/Kenya/comments/1jtcvb...   \n",
       "2  2025-04-05 19:09:10  https://www.reddit.com/r/Kenya/comments/1jsb14...   \n",
       "3  2025-03-25 08:18:04  https://www.reddit.com/r/Kenya/comments/1jjehw...   \n",
       "4  2025-03-08 08:08:58  https://www.reddit.com/r/Kenya/comments/1j6cjz...   \n",
       "\n",
       "   score  num_comments      keyword text date_posted  upvotes  comments  \\\n",
       "0    3.0           5.0  usaid kenya  NaN         NaN      NaN       NaN   \n",
       "1  169.0          95.0  usaid kenya  NaN         NaN      NaN       NaN   \n",
       "2    2.0           2.0  usaid kenya  NaN         NaN      NaN       NaN   \n",
       "3   13.0          20.0  usaid kenya  NaN         NaN      NaN       NaN   \n",
       "4    1.0           6.0  usaid kenya  NaN         NaN      NaN       NaN   \n",
       "\n",
       "  permalink search_term created_date created  Unnamed: 0  \n",
       "0       NaN         NaN          NaN     NaN         NaN  \n",
       "1       NaN         NaN          NaN     NaN         NaN  \n",
       "2       NaN         NaN          NaN     NaN         NaN  \n",
       "3       NaN         NaN          NaN     NaN         NaN  \n",
       "4       NaN         NaN          NaN     NaN         NaN  "
      ]
     },
     "execution_count": 163,
     "metadata": {},
     "output_type": "execute_result"
    }
   ],
   "source": [
    "\n",
    "import os\n",
    "import glob\n",
    "import pandas as pd\n",
    "\n",
    "# Path to your directory containing the CSV files\n",
    "path = r'C:\\Users\\AHB\\Desktop\\my_quick_acess\\3.Projects\\projects pipeline\\2025\\USAID-Kenya-Sentiment-Analysis\\data\\raw\\reddit_data'  \n",
    "\n",
    "# Get a list of all .csv files in the directory\n",
    "ruth_reddit_files = glob.glob(os.path.join(path, \"*.csv\"))\n",
    "\n",
    "# Read and combine them into a single DataFrame\n",
    "dfs = []\n",
    "for filename in ruth_reddit_files:\n",
    "    df = pd.read_csv(filename)\n",
    "    dfs.append(df)\n",
    "\n",
    "# Concatenate all into one big DataFrame\n",
    "ruth_reddt_final= pd.concat(dfs, ignore_index=True)\n",
    "\n",
    "# Inspect the combined dataset\n",
    "ruth_reddt_final.head()\n"
   ]
  },
  {
   "cell_type": "code",
   "execution_count": 164,
   "id": "678cef86",
   "metadata": {},
   "outputs": [
    {
     "name": "stdout",
     "output_type": "stream",
     "text": [
      "number of rows = 1289\n",
      "number of rows = 18\n"
     ]
    }
   ],
   "source": [
    "#listing numbe of rows and columns\n",
    "rows, columns = ruth_reddt_final.shape\n",
    "\n",
    "print(f'number of rows = {rows}')\n",
    "print(f'number of rows = {columns}')"
   ]
  },
  {
   "cell_type": "code",
   "execution_count": 165,
   "id": "2a8467f0",
   "metadata": {},
   "outputs": [
    {
     "data": {
      "text/plain": [
       "Index(['title', 'selftext', 'subreddit', 'author', 'created_utc', 'url',\n",
       "       'score', 'num_comments', 'keyword', 'text', 'date_posted', 'upvotes',\n",
       "       'comments', 'permalink', 'search_term', 'created_date', 'created',\n",
       "       'Unnamed: 0'],\n",
       "      dtype='object')"
      ]
     },
     "execution_count": 165,
     "metadata": {},
     "output_type": "execute_result"
    }
   ],
   "source": [
    "#listing columns in the dataset\n",
    "ruth_reddt_final.columns"
   ]
  },
  {
   "cell_type": "code",
   "execution_count": 166,
   "id": "01887919",
   "metadata": {},
   "outputs": [
    {
     "name": "stdout",
     "output_type": "stream",
     "text": [
      "<class 'pandas.core.frame.DataFrame'>\n",
      "RangeIndex: 1289 entries, 0 to 1288\n",
      "Data columns (total 18 columns):\n",
      " #   Column        Non-Null Count  Dtype  \n",
      "---  ------        --------------  -----  \n",
      " 0   title         1289 non-null   object \n",
      " 1   selftext      624 non-null    object \n",
      " 2   subreddit     1289 non-null   object \n",
      " 3   author        466 non-null    object \n",
      " 4   created_utc   833 non-null    object \n",
      " 5   url           1289 non-null   object \n",
      " 6   score         1013 non-null   float64\n",
      " 7   num_comments  833 non-null    float64\n",
      " 8   keyword       742 non-null    object \n",
      " 9   text          277 non-null    object \n",
      " 10  date_posted   276 non-null    object \n",
      " 11  upvotes       276 non-null    float64\n",
      " 12  comments      276 non-null    float64\n",
      " 13  permalink     426 non-null    object \n",
      " 14  search_term   150 non-null    object \n",
      " 15  created_date  150 non-null    object \n",
      " 16  created       180 non-null    object \n",
      " 17  Unnamed: 0    200 non-null    float64\n",
      "dtypes: float64(5), object(13)\n",
      "memory usage: 181.4+ KB\n"
     ]
    }
   ],
   "source": [
    "ruth_reddt_final.info()"
   ]
  },
  {
   "cell_type": "code",
   "execution_count": 167,
   "id": "e56c8ece",
   "metadata": {},
   "outputs": [],
   "source": [
    "#deleting unnecessary cols\n",
    "ruth_reddt_final.drop(columns=['subreddit', 'author','url',\n",
    "       'score', 'num_comments', 'keyword', 'upvotes',\n",
    "       'comments', 'permalink', 'search_term',\n",
    "       'Unnamed: 0'],inplace=True)"
   ]
  },
  {
   "cell_type": "code",
   "execution_count": 168,
   "id": "04da77cd",
   "metadata": {},
   "outputs": [
    {
     "data": {
      "text/html": [
       "<div>\n",
       "<style scoped>\n",
       "    .dataframe tbody tr th:only-of-type {\n",
       "        vertical-align: middle;\n",
       "    }\n",
       "\n",
       "    .dataframe tbody tr th {\n",
       "        vertical-align: top;\n",
       "    }\n",
       "\n",
       "    .dataframe thead th {\n",
       "        text-align: right;\n",
       "    }\n",
       "</style>\n",
       "<table border=\"1\" class=\"dataframe\">\n",
       "  <thead>\n",
       "    <tr style=\"text-align: right;\">\n",
       "      <th></th>\n",
       "      <th>title</th>\n",
       "      <th>selftext</th>\n",
       "      <th>created_utc</th>\n",
       "      <th>text</th>\n",
       "      <th>date_posted</th>\n",
       "      <th>created_date</th>\n",
       "      <th>created</th>\n",
       "    </tr>\n",
       "  </thead>\n",
       "  <tbody>\n",
       "    <tr>\n",
       "      <th>92</th>\n",
       "      <td>Foreign policy under kasongo</td>\n",
       "      <td>Kenya's diplomatic standing is taking hit afte...</td>\n",
       "      <td>2025-02-18 11:21:10</td>\n",
       "      <td>NaN</td>\n",
       "      <td>NaN</td>\n",
       "      <td>NaN</td>\n",
       "      <td>NaN</td>\n",
       "    </tr>\n",
       "    <tr>\n",
       "      <th>357</th>\n",
       "      <td>Kwani kenyans support Democrats?</td>\n",
       "      <td>Somebody wrote this on the USAID situation and...</td>\n",
       "      <td>2025-02-07 10:14:35</td>\n",
       "      <td>NaN</td>\n",
       "      <td>NaN</td>\n",
       "      <td>NaN</td>\n",
       "      <td>NaN</td>\n",
       "    </tr>\n",
       "    <tr>\n",
       "      <th>227</th>\n",
       "      <td>Kenyans in Diaspora</td>\n",
       "      <td>I have recently been digging into challenges t...</td>\n",
       "      <td>2025-06-03 13:43:38</td>\n",
       "      <td>NaN</td>\n",
       "      <td>NaN</td>\n",
       "      <td>NaN</td>\n",
       "      <td>NaN</td>\n",
       "    </tr>\n",
       "    <tr>\n",
       "      <th>690</th>\n",
       "      <td>Stop-Work Order on US Foreign Aid Puts China F...</td>\n",
       "      <td>NaN</td>\n",
       "      <td>NaN</td>\n",
       "      <td>NaN</td>\n",
       "      <td>2025-01-27</td>\n",
       "      <td>NaN</td>\n",
       "      <td>NaN</td>\n",
       "    </tr>\n",
       "    <tr>\n",
       "      <th>1065</th>\n",
       "      <td>Watchdog Tries to Verify Coordinates of Afghan...</td>\n",
       "      <td>NaN</td>\n",
       "      <td>NaN</td>\n",
       "      <td>NaN</td>\n",
       "      <td>NaN</td>\n",
       "      <td>NaN</td>\n",
       "      <td>2015-07-01 21:28:37</td>\n",
       "    </tr>\n",
       "  </tbody>\n",
       "</table>\n",
       "</div>"
      ],
      "text/plain": [
       "                                                  title  \\\n",
       "92                         Foreign policy under kasongo   \n",
       "357                    Kwani kenyans support Democrats?   \n",
       "227                                 Kenyans in Diaspora   \n",
       "690   Stop-Work Order on US Foreign Aid Puts China F...   \n",
       "1065  Watchdog Tries to Verify Coordinates of Afghan...   \n",
       "\n",
       "                                               selftext          created_utc  \\\n",
       "92    Kenya's diplomatic standing is taking hit afte...  2025-02-18 11:21:10   \n",
       "357   Somebody wrote this on the USAID situation and...  2025-02-07 10:14:35   \n",
       "227   I have recently been digging into challenges t...  2025-06-03 13:43:38   \n",
       "690                                                 NaN                  NaN   \n",
       "1065                                                NaN                  NaN   \n",
       "\n",
       "     text date_posted created_date              created  \n",
       "92    NaN         NaN          NaN                  NaN  \n",
       "357   NaN         NaN          NaN                  NaN  \n",
       "227   NaN         NaN          NaN                  NaN  \n",
       "690   NaN  2025-01-27          NaN                  NaN  \n",
       "1065  NaN         NaN          NaN  2015-07-01 21:28:37  "
      ]
     },
     "execution_count": 168,
     "metadata": {},
     "output_type": "execute_result"
    }
   ],
   "source": [
    "ruth_reddt_final.sample(n=5)"
   ]
  },
  {
   "cell_type": "code",
   "execution_count": 169,
   "id": "166c1f10",
   "metadata": {},
   "outputs": [],
   "source": [
    "\n",
    "# # Example dataset\n",
    "# # df = pd.read_csv('your_file.csv')\n",
    "\n",
    "# # Combine into one column\n",
    "# ruth_reddt_final[\"date\"] = ruth_reddt_final[\"created_date\"].combine_first(ruth_reddt_final[\"date_posted\"])\\\n",
    "#                                .combine_first(ruth_reddt_final[\"created_utc\"])\\\n",
    "#                                .combine_first(ruth_reddt_final[\"created\"])\n",
    "# # Drop the original columns if you want\n",
    "# ruth_reddt_final.drop([\"created_utc\",\"date_posted\", \"created_date\", \"created\"], axis=1, inplace=True)\n",
    "\n",
    "# # Inspect\n",
    "# ruth_reddt_final.head()\n"
   ]
  },
  {
   "cell_type": "code",
   "execution_count": 170,
   "id": "9cc427f0",
   "metadata": {},
   "outputs": [
    {
     "data": {
      "text/plain": [
       "Index(['title', 'selftext', 'created_utc', 'text', 'date_posted',\n",
       "       'created_date', 'created'],\n",
       "      dtype='object')"
      ]
     },
     "execution_count": 170,
     "metadata": {},
     "output_type": "execute_result"
    }
   ],
   "source": [
    "ruth_reddt_final.columns"
   ]
  },
  {
   "cell_type": "markdown",
   "id": "d3363333",
   "metadata": {},
   "source": [
    "### Dropping unnecessary cols to work with a narrower dataset"
   ]
  },
  {
   "cell_type": "code",
   "execution_count": 171,
   "id": "4af82cda",
   "metadata": {},
   "outputs": [
    {
     "data": {
      "text/html": [
       "<div>\n",
       "<style scoped>\n",
       "    .dataframe tbody tr th:only-of-type {\n",
       "        vertical-align: middle;\n",
       "    }\n",
       "\n",
       "    .dataframe tbody tr th {\n",
       "        vertical-align: top;\n",
       "    }\n",
       "\n",
       "    .dataframe thead th {\n",
       "        text-align: right;\n",
       "    }\n",
       "</style>\n",
       "<table border=\"1\" class=\"dataframe\">\n",
       "  <thead>\n",
       "    <tr style=\"text-align: right;\">\n",
       "      <th></th>\n",
       "      <th>title</th>\n",
       "      <th>selftext</th>\n",
       "      <th>text</th>\n",
       "    </tr>\n",
       "  </thead>\n",
       "  <tbody>\n",
       "    <tr>\n",
       "      <th>0</th>\n",
       "      <td>USAID left a month ago, do we have ARVs in Kenya?</td>\n",
       "      <td>Someone on a different group (different websit...</td>\n",
       "      <td>NaN</td>\n",
       "    </tr>\n",
       "    <tr>\n",
       "      <th>1</th>\n",
       "      <td>Classism in r/Kenya and r/nairobi</td>\n",
       "      <td>The classism I'm seeing in both subs is a good...</td>\n",
       "      <td>NaN</td>\n",
       "    </tr>\n",
       "    <tr>\n",
       "      <th>2</th>\n",
       "      <td>EX-USAID people!! Let's talk</td>\n",
       "      <td>Are you still in contact with the organisation...</td>\n",
       "      <td>NaN</td>\n",
       "    </tr>\n",
       "    <tr>\n",
       "      <th>3</th>\n",
       "      <td>Why western powers back Israel no matter what ...</td>\n",
       "      <td>I don't care what good book you read, but it's...</td>\n",
       "      <td>NaN</td>\n",
       "    </tr>\n",
       "    <tr>\n",
       "      <th>4</th>\n",
       "      <td>Is kenya capable of funding its needs now that...</td>\n",
       "      <td>How is kenya prepared to fill the vacuum of US...</td>\n",
       "      <td>NaN</td>\n",
       "    </tr>\n",
       "  </tbody>\n",
       "</table>\n",
       "</div>"
      ],
      "text/plain": [
       "                                               title  \\\n",
       "0  USAID left a month ago, do we have ARVs in Kenya?   \n",
       "1                  Classism in r/Kenya and r/nairobi   \n",
       "2                       EX-USAID people!! Let's talk   \n",
       "3  Why western powers back Israel no matter what ...   \n",
       "4  Is kenya capable of funding its needs now that...   \n",
       "\n",
       "                                            selftext text  \n",
       "0  Someone on a different group (different websit...  NaN  \n",
       "1  The classism I'm seeing in both subs is a good...  NaN  \n",
       "2  Are you still in contact with the organisation...  NaN  \n",
       "3  I don't care what good book you read, but it's...  NaN  \n",
       "4  How is kenya prepared to fill the vacuum of US...  NaN  "
      ]
     },
     "execution_count": 171,
     "metadata": {},
     "output_type": "execute_result"
    }
   ],
   "source": [
    "#dropping unnecessary columns\n",
    "ruth_reddt_final.drop(columns=['created_utc', 'date_posted',\n",
    "       'created_date', 'created'],inplace=True)\n",
    "\n",
    "ruth_reddt_final.head()"
   ]
  },
  {
   "cell_type": "markdown",
   "id": "f76d2e3f",
   "metadata": {},
   "source": [
    "### Getting the number of empty values in both text and selftext them filling the col with less empty values "
   ]
  },
  {
   "cell_type": "code",
   "execution_count": 172,
   "id": "f2492e07",
   "metadata": {},
   "outputs": [
    {
     "name": "stdout",
     "output_type": "stream",
     "text": [
      "The number of empty values in txt cols is:\n",
      "\n",
      "1012\n"
     ]
    }
   ],
   "source": [
    "#Number of empty values in text col\n",
    "print(f'The number of empty values in txt cols is:\\n')\n",
    "print(ruth_reddt_final['text'].isnull().sum())"
   ]
  },
  {
   "cell_type": "code",
   "execution_count": 173,
   "id": "2bd348a4",
   "metadata": {},
   "outputs": [
    {
     "name": "stdout",
     "output_type": "stream",
     "text": [
      "The number of empty values in txt cols is:\n",
      "\n",
      "665\n"
     ]
    }
   ],
   "source": [
    "#Number of empty values in selftxt col\n",
    "print(f'The number of empty values in txt cols is:\\n')\n",
    "print(ruth_reddt_final['selftext'].isnull().sum())"
   ]
  },
  {
   "cell_type": "markdown",
   "id": "88a2a4fe",
   "metadata": {},
   "source": [
    "#### Replacing the empty values in the selftext with the correcsponding values in the text col"
   ]
  },
  {
   "cell_type": "code",
   "execution_count": 174,
   "id": "b1d5cbbb",
   "metadata": {},
   "outputs": [],
   "source": [
    "# Now since selftext has less values, we will proceed and fill this cells with values from the txt col\n",
    "# Fill selftext with text where selftext is NaN\n",
    "ruth_reddt_final[\"selftext\"] = ruth_reddt_final[\"selftext\"].fillna(ruth_reddt_final[\"text\"])"
   ]
  },
  {
   "cell_type": "code",
   "execution_count": 175,
   "id": "1b28fa6a",
   "metadata": {},
   "outputs": [
    {
     "name": "stdout",
     "output_type": "stream",
     "text": [
      "The number of empty values in txt cols is:\n",
      "\n",
      "388\n"
     ]
    }
   ],
   "source": [
    "#checking now for the number of empty values in the selftxt\n",
    "\n",
    "#Number of empty values in selftxt col\n",
    "print(f'The number of empty values in txt cols is:\\n')\n",
    "print(ruth_reddt_final['selftext'].isnull().sum())"
   ]
  },
  {
   "cell_type": "markdown",
   "id": "ec638abd",
   "metadata": {},
   "source": [
    "The number of empty value has reduced from 665 to 338"
   ]
  },
  {
   "cell_type": "markdown",
   "id": "74758f2c",
   "metadata": {},
   "source": [
    "### Dropping the Txt col since now it has more empty values"
   ]
  },
  {
   "cell_type": "code",
   "execution_count": 176,
   "id": "69dbc968",
   "metadata": {},
   "outputs": [
    {
     "data": {
      "text/html": [
       "<div>\n",
       "<style scoped>\n",
       "    .dataframe tbody tr th:only-of-type {\n",
       "        vertical-align: middle;\n",
       "    }\n",
       "\n",
       "    .dataframe tbody tr th {\n",
       "        vertical-align: top;\n",
       "    }\n",
       "\n",
       "    .dataframe thead th {\n",
       "        text-align: right;\n",
       "    }\n",
       "</style>\n",
       "<table border=\"1\" class=\"dataframe\">\n",
       "  <thead>\n",
       "    <tr style=\"text-align: right;\">\n",
       "      <th></th>\n",
       "      <th>title</th>\n",
       "      <th>selftext</th>\n",
       "    </tr>\n",
       "  </thead>\n",
       "  <tbody>\n",
       "    <tr>\n",
       "      <th>0</th>\n",
       "      <td>USAID left a month ago, do we have ARVs in Kenya?</td>\n",
       "      <td>Someone on a different group (different websit...</td>\n",
       "    </tr>\n",
       "    <tr>\n",
       "      <th>1</th>\n",
       "      <td>Classism in r/Kenya and r/nairobi</td>\n",
       "      <td>The classism I'm seeing in both subs is a good...</td>\n",
       "    </tr>\n",
       "    <tr>\n",
       "      <th>2</th>\n",
       "      <td>EX-USAID people!! Let's talk</td>\n",
       "      <td>Are you still in contact with the organisation...</td>\n",
       "    </tr>\n",
       "    <tr>\n",
       "      <th>3</th>\n",
       "      <td>Why western powers back Israel no matter what ...</td>\n",
       "      <td>I don't care what good book you read, but it's...</td>\n",
       "    </tr>\n",
       "    <tr>\n",
       "      <th>4</th>\n",
       "      <td>Is kenya capable of funding its needs now that...</td>\n",
       "      <td>How is kenya prepared to fill the vacuum of US...</td>\n",
       "    </tr>\n",
       "  </tbody>\n",
       "</table>\n",
       "</div>"
      ],
      "text/plain": [
       "                                               title  \\\n",
       "0  USAID left a month ago, do we have ARVs in Kenya?   \n",
       "1                  Classism in r/Kenya and r/nairobi   \n",
       "2                       EX-USAID people!! Let's talk   \n",
       "3  Why western powers back Israel no matter what ...   \n",
       "4  Is kenya capable of funding its needs now that...   \n",
       "\n",
       "                                            selftext  \n",
       "0  Someone on a different group (different websit...  \n",
       "1  The classism I'm seeing in both subs is a good...  \n",
       "2  Are you still in contact with the organisation...  \n",
       "3  I don't care what good book you read, but it's...  \n",
       "4  How is kenya prepared to fill the vacuum of US...  "
      ]
     },
     "execution_count": 176,
     "metadata": {},
     "output_type": "execute_result"
    }
   ],
   "source": [
    "# drppoing the text col\n",
    "ruth_reddt_final.drop(columns='text', inplace=True)\n",
    "\n",
    "ruth_reddt_final.head()"
   ]
  },
  {
   "cell_type": "markdown",
   "id": "e24c1128",
   "metadata": {},
   "source": [
    "#### Case conversion for col headers"
   ]
  },
  {
   "cell_type": "code",
   "execution_count": 177,
   "id": "5d00e0ba",
   "metadata": {},
   "outputs": [
    {
     "data": {
      "text/html": [
       "<div>\n",
       "<style scoped>\n",
       "    .dataframe tbody tr th:only-of-type {\n",
       "        vertical-align: middle;\n",
       "    }\n",
       "\n",
       "    .dataframe tbody tr th {\n",
       "        vertical-align: top;\n",
       "    }\n",
       "\n",
       "    .dataframe thead th {\n",
       "        text-align: right;\n",
       "    }\n",
       "</style>\n",
       "<table border=\"1\" class=\"dataframe\">\n",
       "  <thead>\n",
       "    <tr style=\"text-align: right;\">\n",
       "      <th></th>\n",
       "      <th>Title</th>\n",
       "      <th>Selftext</th>\n",
       "    </tr>\n",
       "  </thead>\n",
       "  <tbody>\n",
       "    <tr>\n",
       "      <th>0</th>\n",
       "      <td>USAID left a month ago, do we have ARVs in Kenya?</td>\n",
       "      <td>Someone on a different group (different websit...</td>\n",
       "    </tr>\n",
       "    <tr>\n",
       "      <th>1</th>\n",
       "      <td>Classism in r/Kenya and r/nairobi</td>\n",
       "      <td>The classism I'm seeing in both subs is a good...</td>\n",
       "    </tr>\n",
       "    <tr>\n",
       "      <th>2</th>\n",
       "      <td>EX-USAID people!! Let's talk</td>\n",
       "      <td>Are you still in contact with the organisation...</td>\n",
       "    </tr>\n",
       "    <tr>\n",
       "      <th>3</th>\n",
       "      <td>Why western powers back Israel no matter what ...</td>\n",
       "      <td>I don't care what good book you read, but it's...</td>\n",
       "    </tr>\n",
       "    <tr>\n",
       "      <th>4</th>\n",
       "      <td>Is kenya capable of funding its needs now that...</td>\n",
       "      <td>How is kenya prepared to fill the vacuum of US...</td>\n",
       "    </tr>\n",
       "  </tbody>\n",
       "</table>\n",
       "</div>"
      ],
      "text/plain": [
       "                                               Title  \\\n",
       "0  USAID left a month ago, do we have ARVs in Kenya?   \n",
       "1                  Classism in r/Kenya and r/nairobi   \n",
       "2                       EX-USAID people!! Let's talk   \n",
       "3  Why western powers back Israel no matter what ...   \n",
       "4  Is kenya capable of funding its needs now that...   \n",
       "\n",
       "                                            Selftext  \n",
       "0  Someone on a different group (different websit...  \n",
       "1  The classism I'm seeing in both subs is a good...  \n",
       "2  Are you still in contact with the organisation...  \n",
       "3  I don't care what good book you read, but it's...  \n",
       "4  How is kenya prepared to fill the vacuum of US...  "
      ]
     },
     "execution_count": 177,
     "metadata": {},
     "output_type": "execute_result"
    }
   ],
   "source": [
    "ruth_reddt_final.rename(columns={'title': 'Title', 'selftext': 'Selftext'}, inplace=True)\n",
    "\n",
    "ruth_reddt_final.head()\n"
   ]
  },
  {
   "cell_type": "code",
   "execution_count": 178,
   "id": "c83298bf",
   "metadata": {},
   "outputs": [
    {
     "name": "stdout",
     "output_type": "stream",
     "text": [
      "<class 'pandas.core.frame.DataFrame'>\n",
      "RangeIndex: 1289 entries, 0 to 1288\n",
      "Data columns (total 2 columns):\n",
      " #   Column    Non-Null Count  Dtype \n",
      "---  ------    --------------  ----- \n",
      " 0   Title     1289 non-null   object\n",
      " 1   Selftext  901 non-null    object\n",
      "dtypes: object(2)\n",
      "memory usage: 20.3+ KB\n"
     ]
    }
   ],
   "source": [
    "#### Final summary of the dataset\n",
    "\n",
    "ruth_reddt_final.info()"
   ]
  },
  {
   "cell_type": "code",
   "execution_count": 179,
   "id": "b849c0be",
   "metadata": {},
   "outputs": [
    {
     "data": {
      "image/png": "[encoded data removed]",
      "text/plain": [
       "<Figure size 600x400 with 1 Axes>"
      ]
     },
     "metadata": {},
     "output_type": "display_data"
    }
   ],
   "source": [
    "import matplotlib.pyplot as plt\n",
    "\n",
    "# Count empty and not empty values for both columns\n",
    "title_empty = ruth_reddt_final[\"Title\"].isnull().sum()\n",
    "title_not_empty = ruth_reddt_final[\"Title\"].notnull().sum()\n",
    "\n",
    "selftext_empty = ruth_reddt_final[\"Selftext\"].isnull().sum()\n",
    "selftext_not_empty = ruth_reddt_final[\"Selftext\"].notnull().sum()\n",
    "\n",
    "# Prepare the data\n",
    "categories = [\"Title - Not Empty\", \"Title - Empty\",\n",
    "              \"Selftext - Not Empty\", \"Selftext - Empty\"]\n",
    "values = [title_not_empty, title_empty,\n",
    "          selftext_not_empty, selftext_empty]\n",
    "\n",
    "# Plot\n",
    "plt.figure(figsize=(6, 4))\n",
    "bars = plt.bar(categories, values, color=[\"green\", \"red\", \"green\", \"red\"])\n",
    "plt.ylabel(\"Number of Entries\")\n",
    "plt.title(\"Empty vs Not Empty Entries for 'Title' and 'Selftext'\")\n",
    "plt.xticks(rotation=30)\n",
    "\n",
    "# Adding labels on top of bars\n",
    "for bar in bars:\n",
    "    height = bar.get_height()\n",
    "    plt.text(bar.get_x() + bar.get_width()/2, height-50, str(height),\n",
    "             ha='center', va='top', fontsize=10, color=\"white\")\n",
    "\n",
    "plt.show()\n"
   ]
  },
  {
   "cell_type": "code",
   "execution_count": 191,
   "id": "d36fb0ab",
   "metadata": {},
   "outputs": [],
   "source": [
    "ruth_reddt_final.to_csv(r\"C:\\Users\\AHB\\Desktop\\my_quick_acess\\3.Projects\\projects pipeline\\2025\\USAID-Kenya-Sentiment-Analysis\\data\\processed\\Kitasi_merged_reddit.csv\")"
   ]
  },
  {
   "cell_type": "markdown",
   "id": "0d803fd1",
   "metadata": {},
   "source": [
    "## Merging the News dataset"
   ]
  },
  {
   "cell_type": "code",
   "execution_count": 162,
   "id": "4f87d653",
   "metadata": {},
   "outputs": [
    {
     "data": {
      "text/html": [
       "<div>\n",
       "<style scoped>\n",
       "    .dataframe tbody tr th:only-of-type {\n",
       "        vertical-align: middle;\n",
       "    }\n",
       "\n",
       "    .dataframe tbody tr th {\n",
       "        vertical-align: top;\n",
       "    }\n",
       "\n",
       "    .dataframe thead th {\n",
       "        text-align: right;\n",
       "    }\n",
       "</style>\n",
       "<table border=\"1\" class=\"dataframe\">\n",
       "  <thead>\n",
       "    <tr style=\"text-align: right;\">\n",
       "      <th></th>\n",
       "      <th>keyword</th>\n",
       "      <th>source</th>\n",
       "      <th>author</th>\n",
       "      <th>title</th>\n",
       "      <th>description</th>\n",
       "      <th>content</th>\n",
       "      <th>publishedAt</th>\n",
       "      <th>url</th>\n",
       "      <th>urlToImage</th>\n",
       "      <th>published_at</th>\n",
       "      <th>full_text</th>\n",
       "      <th>summary</th>\n",
       "      <th>Unnamed: 0</th>\n",
       "    </tr>\n",
       "  </thead>\n",
       "  <tbody>\n",
       "    <tr>\n",
       "      <th>0</th>\n",
       "      <td>usaid kenya</td>\n",
       "      <td>Al Jazeera English</td>\n",
       "      <td>Al Jazeera</td>\n",
       "      <td>Has DOGE really saved the US government $180bn?</td>\n",
       "      <td>Elon Musk first claimed the department would m...</td>\n",
       "      <td>President Donald Trump and adviser Elon Musk c...</td>\n",
       "      <td>2025-06-06T11:21:51Z</td>\n",
       "      <td>https://www.aljazeera.com/news/2025/6/6/has-do...</td>\n",
       "      <td>NaN</td>\n",
       "      <td>NaN</td>\n",
       "      <td>NaN</td>\n",
       "      <td>NaN</td>\n",
       "      <td>NaN</td>\n",
       "    </tr>\n",
       "    <tr>\n",
       "      <th>1</th>\n",
       "      <td>usaid kenya</td>\n",
       "      <td>CleanTechnica</td>\n",
       "      <td>Guest Contributor</td>\n",
       "      <td>The Life Story of Ecomobilus Technologies Limi...</td>\n",
       "      <td>By Prof Geoffrey Gitau Here is a story showcas...</td>\n",
       "      <td>By Prof Geoffrey Gitau\\r\\nHere is a story show...</td>\n",
       "      <td>2025-05-26T17:13:41Z</td>\n",
       "      <td>https://cleantechnica.com/2025/05/26/the-life-...</td>\n",
       "      <td>NaN</td>\n",
       "      <td>NaN</td>\n",
       "      <td>NaN</td>\n",
       "      <td>NaN</td>\n",
       "      <td>NaN</td>\n",
       "    </tr>\n",
       "    <tr>\n",
       "      <th>2</th>\n",
       "      <td>usaid kenya</td>\n",
       "      <td>ProPublica</td>\n",
       "      <td>by Brett Murphy and Anna Maria Barry-Jester</td>\n",
       "      <td>Death, Sexual Violence and Human Trafficking: ...</td>\n",
       "      <td>by Brett Murphy and Anna Maria Barry-Jester \\n...</td>\n",
       "      <td>ProPublica is a nonprofit newsroom that invest...</td>\n",
       "      <td>2025-05-28T18:45:00Z</td>\n",
       "      <td>https://www.propublica.org/article/trump-usaid...</td>\n",
       "      <td>NaN</td>\n",
       "      <td>NaN</td>\n",
       "      <td>NaN</td>\n",
       "      <td>NaN</td>\n",
       "      <td>NaN</td>\n",
       "    </tr>\n",
       "    <tr>\n",
       "      <th>3</th>\n",
       "      <td>usaid kenya</td>\n",
       "      <td>Daily Signal</td>\n",
       "      <td>Mike Gonzalez</td>\n",
       "      <td>Congress Should Quickly Approve Trump’s Rescis...</td>\n",
       "      <td>President Donald Trump‘s rescission legislatio...</td>\n",
       "      <td>President Donald Trumps rescission legislation...</td>\n",
       "      <td>2025-06-10T12:00:00Z</td>\n",
       "      <td>https://www.dailysignal.com/2025/06/10/congres...</td>\n",
       "      <td>NaN</td>\n",
       "      <td>NaN</td>\n",
       "      <td>NaN</td>\n",
       "      <td>NaN</td>\n",
       "      <td>NaN</td>\n",
       "    </tr>\n",
       "    <tr>\n",
       "      <th>4</th>\n",
       "      <td>usaid kenya</td>\n",
       "      <td>Forbes</td>\n",
       "      <td>Danielle Nierenberg, Contributor, \\n Danielle ...</td>\n",
       "      <td>Food Safety Depends On Every Link In The Suppl...</td>\n",
       "      <td>Almost 1 in 10 people globally fall ill from c...</td>\n",
       "      <td>Colorful fish and vegetables can be purchased ...</td>\n",
       "      <td>2025-06-06T13:55:41Z</td>\n",
       "      <td>https://www.forbes.com/sites/daniellenierenber...</td>\n",
       "      <td>NaN</td>\n",
       "      <td>NaN</td>\n",
       "      <td>NaN</td>\n",
       "      <td>NaN</td>\n",
       "      <td>NaN</td>\n",
       "    </tr>\n",
       "  </tbody>\n",
       "</table>\n",
       "</div>"
      ],
      "text/plain": [
       "       keyword              source  \\\n",
       "0  usaid kenya  Al Jazeera English   \n",
       "1  usaid kenya       CleanTechnica   \n",
       "2  usaid kenya          ProPublica   \n",
       "3  usaid kenya        Daily Signal   \n",
       "4  usaid kenya              Forbes   \n",
       "\n",
       "                                              author  \\\n",
       "0                                         Al Jazeera   \n",
       "1                                  Guest Contributor   \n",
       "2        by Brett Murphy and Anna Maria Barry-Jester   \n",
       "3                                      Mike Gonzalez   \n",
       "4  Danielle Nierenberg, Contributor, \\n Danielle ...   \n",
       "\n",
       "                                               title  \\\n",
       "0    Has DOGE really saved the US government $180bn?   \n",
       "1  The Life Story of Ecomobilus Technologies Limi...   \n",
       "2  Death, Sexual Violence and Human Trafficking: ...   \n",
       "3  Congress Should Quickly Approve Trump’s Rescis...   \n",
       "4  Food Safety Depends On Every Link In The Suppl...   \n",
       "\n",
       "                                         description  \\\n",
       "0  Elon Musk first claimed the department would m...   \n",
       "1  By Prof Geoffrey Gitau Here is a story showcas...   \n",
       "2  by Brett Murphy and Anna Maria Barry-Jester \\n...   \n",
       "3  President Donald Trump‘s rescission legislatio...   \n",
       "4  Almost 1 in 10 people globally fall ill from c...   \n",
       "\n",
       "                                             content           publishedAt  \\\n",
       "0  President Donald Trump and adviser Elon Musk c...  2025-06-06T11:21:51Z   \n",
       "1  By Prof Geoffrey Gitau\\r\\nHere is a story show...  2025-05-26T17:13:41Z   \n",
       "2  ProPublica is a nonprofit newsroom that invest...  2025-05-28T18:45:00Z   \n",
       "3  President Donald Trumps rescission legislation...  2025-06-10T12:00:00Z   \n",
       "4  Colorful fish and vegetables can be purchased ...  2025-06-06T13:55:41Z   \n",
       "\n",
       "                                                 url urlToImage published_at  \\\n",
       "0  https://www.aljazeera.com/news/2025/6/6/has-do...        NaN          NaN   \n",
       "1  https://cleantechnica.com/2025/05/26/the-life-...        NaN          NaN   \n",
       "2  https://www.propublica.org/article/trump-usaid...        NaN          NaN   \n",
       "3  https://www.dailysignal.com/2025/06/10/congres...        NaN          NaN   \n",
       "4  https://www.forbes.com/sites/daniellenierenber...        NaN          NaN   \n",
       "\n",
       "  full_text summary  Unnamed: 0  \n",
       "0       NaN     NaN         NaN  \n",
       "1       NaN     NaN         NaN  \n",
       "2       NaN     NaN         NaN  \n",
       "3       NaN     NaN         NaN  \n",
       "4       NaN     NaN         NaN  "
      ]
     },
     "execution_count": 162,
     "metadata": {},
     "output_type": "execute_result"
    }
   ],
   "source": [
    "\n",
    "import os\n",
    "import glob\n",
    "import pandas as pd\n",
    "\n",
    "# Path to your directory containing the CSV files\n",
    "path = r'C:\\Users\\AHB\\Desktop\\my_quick_acess\\3.Projects\\projects pipeline\\2025\\USAID-Kenya-Sentiment-Analysis\\data\\raw\\news_data'  \n",
    "\n",
    "# Get a list of all .csv files in the directory\n",
    "ruth_reddit_files = glob.glob(os.path.join(path, \"*.csv\"))\n",
    "\n",
    "# Read and combine them into a single DataFrame\n",
    "dfs = []\n",
    "for filename in ruth_reddit_files:\n",
    "    df = pd.read_csv(filename)\n",
    "    dfs.append(df)\n",
    "\n",
    "# Concatenate all into one big DataFrame\n",
    "ruth_news_final= pd.concat(dfs, ignore_index=True)\n",
    "\n",
    "# Inspect the combined dataset\n",
    "ruth_news_final.head()"
   ]
  },
  {
   "cell_type": "markdown",
   "id": "a2a746f9",
   "metadata": {},
   "source": [
    "#### Dropping unnecessary cols"
   ]
  },
  {
   "cell_type": "code",
   "execution_count": 184,
   "id": "0bf1e2a5",
   "metadata": {},
   "outputs": [
    {
     "data": {
      "text/plain": [
       "Index(['keyword', 'source', 'author', 'title', 'description', 'content',\n",
       "       'publishedAt', 'url', 'urlToImage', 'published_at', 'full_text',\n",
       "       'summary', 'Unnamed: 0'],\n",
       "      dtype='object')"
      ]
     },
     "execution_count": 184,
     "metadata": {},
     "output_type": "execute_result"
    }
   ],
   "source": [
    "ruth_news_final.columns"
   ]
  },
  {
   "cell_type": "code",
   "execution_count": 185,
   "id": "5a949dc6",
   "metadata": {},
   "outputs": [
    {
     "data": {
      "text/html": [
       "<div>\n",
       "<style scoped>\n",
       "    .dataframe tbody tr th:only-of-type {\n",
       "        vertical-align: middle;\n",
       "    }\n",
       "\n",
       "    .dataframe tbody tr th {\n",
       "        vertical-align: top;\n",
       "    }\n",
       "\n",
       "    .dataframe thead th {\n",
       "        text-align: right;\n",
       "    }\n",
       "</style>\n",
       "<table border=\"1\" class=\"dataframe\">\n",
       "  <thead>\n",
       "    <tr style=\"text-align: right;\">\n",
       "      <th></th>\n",
       "      <th>title</th>\n",
       "      <th>description</th>\n",
       "      <th>content</th>\n",
       "    </tr>\n",
       "  </thead>\n",
       "  <tbody>\n",
       "    <tr>\n",
       "      <th>0</th>\n",
       "      <td>Has DOGE really saved the US government $180bn?</td>\n",
       "      <td>Elon Musk first claimed the department would m...</td>\n",
       "      <td>President Donald Trump and adviser Elon Musk c...</td>\n",
       "    </tr>\n",
       "    <tr>\n",
       "      <th>1</th>\n",
       "      <td>The Life Story of Ecomobilus Technologies Limi...</td>\n",
       "      <td>By Prof Geoffrey Gitau Here is a story showcas...</td>\n",
       "      <td>By Prof Geoffrey Gitau\\r\\nHere is a story show...</td>\n",
       "    </tr>\n",
       "    <tr>\n",
       "      <th>2</th>\n",
       "      <td>Death, Sexual Violence and Human Trafficking: ...</td>\n",
       "      <td>by Brett Murphy and Anna Maria Barry-Jester \\n...</td>\n",
       "      <td>ProPublica is a nonprofit newsroom that invest...</td>\n",
       "    </tr>\n",
       "  </tbody>\n",
       "</table>\n",
       "</div>"
      ],
      "text/plain": [
       "                                               title  \\\n",
       "0    Has DOGE really saved the US government $180bn?   \n",
       "1  The Life Story of Ecomobilus Technologies Limi...   \n",
       "2  Death, Sexual Violence and Human Trafficking: ...   \n",
       "\n",
       "                                         description  \\\n",
       "0  Elon Musk first claimed the department would m...   \n",
       "1  By Prof Geoffrey Gitau Here is a story showcas...   \n",
       "2  by Brett Murphy and Anna Maria Barry-Jester \\n...   \n",
       "\n",
       "                                             content  \n",
       "0  President Donald Trump and adviser Elon Musk c...  \n",
       "1  By Prof Geoffrey Gitau\\r\\nHere is a story show...  \n",
       "2  ProPublica is a nonprofit newsroom that invest...  "
      ]
     },
     "execution_count": 185,
     "metadata": {},
     "output_type": "execute_result"
    }
   ],
   "source": [
    "ruth_news_final.drop(columns=['keyword', 'source', 'author',\n",
    "       'publishedAt', 'url', 'urlToImage', 'published_at', 'full_text',\n",
    "       'summary', 'Unnamed: 0'],inplace=True)\n",
    "\n",
    "ruth_news_final.head(3)"
   ]
  },
  {
   "cell_type": "code",
   "execution_count": 187,
   "id": "8ce62a58",
   "metadata": {},
   "outputs": [
    {
     "name": "stdout",
     "output_type": "stream",
     "text": [
      "title           0\n",
      "description    16\n",
      "content        25\n",
      "dtype: int64\n"
     ]
    }
   ],
   "source": [
    "# Count the number of null values for each column\n",
    "null_counts = ruth_news_final[[\"title\", \"description\", \"content\"]].isnull().sum()\n",
    "\n",
    "# Print results\n",
    "print(null_counts)\n"
   ]
  },
  {
   "cell_type": "code",
   "execution_count": 192,
   "id": "83b0b90c",
   "metadata": {},
   "outputs": [],
   "source": [
    "ruth_news_final.to_csv(r\"C:\\Users\\AHB\\Desktop\\my_quick_acess\\3.Projects\\projects pipeline\\2025\\USAID-Kenya-Sentiment-Analysis\\data\\processed\\Kitasi_merged_news.csv\")"
   ]
  }
 ],
 "metadata": {
  "kernelspec": {
   "display_name": "base",
   "language": "python",
   "name": "python3"
  },
  "language_info": {
   "codemirror_mode": {
    "name": "ipython",
    "version": 3
   },
   "file_extension": ".py",
   "mimetype": "text/x-python",
   "name": "python",
   "nbconvert_exporter": "python",
   "pygments_lexer": "ipython3",
   "version": "3.11.7"
  }
 },
 "nbformat": 4,
 "nbformat_minor": 5
}
