{
 "cells": [
  {
   "cell_type": "markdown",
   "id": "962045ac",
   "metadata": {},
   "source": [
    "# USAID-Kenya-Sentiment-Analysis"
   ]
  },
  {
   "cell_type": "code",
   "execution_count": 1,
   "id": "d54b44fc",
   "metadata": {},
   "outputs": [],
   "source": [
    "# import pandas as pd\n"
   ]
  },
  {
   "cell_type": "code",
   "execution_count": 2,
   "id": "956d9b55",
   "metadata": {},
   "outputs": [],
   "source": [
    "# reddit_df = pd.read_csv('C:/Users/hp/Desktop/DATA NEXUS PROJECTS/USAID-Kenya-Sentiment-Analysis/data/raw/reddit_data/cecilia.redditsubs.csv')\n",
    "# reddit_df.head()"
   ]
  },
  {
   "cell_type": "code",
   "execution_count": 3,
   "id": "0f15ce52",
   "metadata": {},
   "outputs": [],
   "source": [
    "# reddit_df.tail()"
   ]
  },
  {
   "cell_type": "code",
   "execution_count": 4,
   "id": "821fedde",
   "metadata": {},
   "outputs": [],
   "source": [
    "# reddit_df.info()"
   ]
  },
  {
   "cell_type": "code",
   "execution_count": 5,
   "id": "35a594ac",
   "metadata": {},
   "outputs": [],
   "source": [
    "# reddit_df.columns"
   ]
  },
  {
   "cell_type": "markdown",
   "id": "1fb0fece",
   "metadata": {},
   "source": [
    "<!-- **Column description**\n",
    "\n",
    "subreddit: The community name \n",
    "\n",
    "keyword: Topic keywords\n",
    "\n",
    "title: Post title\n",
    "\n",
    "text: Main post content \n",
    "\n",
    "date_posted: When it was posted\n",
    "\n",
    "upvotes: Number of upvotes\n",
    "\n",
    "comments: Number of comments\n",
    "\n",
    "url: Link to external content\n",
    "\n",
    "permalink: Link to the Reddit post -->"
   ]
  },
  {
   "cell_type": "code",
   "execution_count": 6,
   "id": "468714ba",
   "metadata": {},
   "outputs": [],
   "source": [
    "# reddit_df.shape"
   ]
  },
  {
   "cell_type": "code",
   "execution_count": 7,
   "id": "96b6cb5f",
   "metadata": {},
   "outputs": [],
   "source": [
    "# reddit_df['text'].sample(20)"
   ]
  },
  {
   "cell_type": "code",
   "execution_count": 8,
   "id": "e28c4d0c",
   "metadata": {},
   "outputs": [],
   "source": [
    "# example = reddit_df['text'][4]\n",
    "# print(example)"
   ]
  },
  {
   "cell_type": "code",
   "execution_count": 9,
   "id": "84be1972",
   "metadata": {},
   "outputs": [],
   "source": [
    "# #fill in missing text with 'missing' instead of dropping NaN\n",
    "# reddit_df['text'] = reddit_df['text'].fillna('MISSING')\n",
    "# reddit_df['text'].head(40)"
   ]
  },
  {
   "cell_type": "code",
   "execution_count": 10,
   "id": "cb6b3e52",
   "metadata": {},
   "outputs": [],
   "source": [
    "# #check for duplicates\n",
    "# reddit_df.duplicated().value_counts()"
   ]
  },
  {
   "cell_type": "code",
   "execution_count": 11,
   "id": "f1aeae95",
   "metadata": {},
   "outputs": [],
   "source": [
    "# def clean_text(text):\n",
    "#     if not isinstance(text, str):\n",
    "#         return text\n",
    "    \n",
    "#     # Remove extra whitespace\n",
    "#     text = ' '.join(text.split())\n",
    "    \n",
    "#     # Replace line breaks with space\n",
    "#     text = text.replace('\\n', ' ')\n",
    "    \n",
    "#     # Remove special Reddit characters\n",
    "#     text = text.replace('&amp;', '&')\n",
    "#     text = text.replace('&gt;', '>')\n",
    "#     text = text.replace('&lt;', '<')\n",
    "    \n",
    "#     return text.strip()\n",
    "\n",
    "# # Apply to both title and text columns\n",
    "# reddit_df['title'] = reddit_df['title'].apply(clean_text)\n",
    "# reddit_df['text'] = reddit_df['text'].apply(clean_text)"
   ]
  },
  {
   "cell_type": "code",
   "execution_count": 12,
   "id": "327496db",
   "metadata": {},
   "outputs": [],
   "source": [
    "# reddit_df['text'].head(40)"
   ]
  },
  {
   "cell_type": "code",
   "execution_count": 13,
   "id": "b71446c5",
   "metadata": {},
   "outputs": [],
   "source": [
    "# reddit_df['date_posted'] = pd.to_datetime(reddit_df['date_posted'])\n",
    "# reddit_df.head()"
   ]
  },
  {
   "cell_type": "code",
   "execution_count": 14,
   "id": "2f302c1a",
   "metadata": {},
   "outputs": [],
   "source": [
    "# example = reddit_df['text'][4]\n",
    "# print(example)"
   ]
  },
  {
   "cell_type": "code",
   "execution_count": 15,
   "id": "2445a9f7",
   "metadata": {},
   "outputs": [],
   "source": [
    "# import nltk"
   ]
  },
  {
   "cell_type": "code",
   "execution_count": 16,
   "id": "cd2602ec",
   "metadata": {},
   "outputs": [],
   "source": [
    "# reddit_df2 = pd.read_csv('C:/Users/hp/Desktop/DATA NEXUS PROJECTS/USAID-Kenya-Sentiment-Analysis/data/raw/reddit_data/Agatha_reddit.csv')\n",
    "# reddit_df2.head()"
   ]
  },
  {
   "cell_type": "code",
   "execution_count": 17,
   "id": "1b91a200",
   "metadata": {},
   "outputs": [],
   "source": [
    "# reddit_df3 = pd.read_csv('C:/Users/hp/Desktop/DATA NEXUS PROJECTS/USAID-Kenya-Sentiment-Analysis/data/raw/reddit_data/leo_reddit_posts.csv')\n",
    "# reddit_df3.head()"
   ]
  },
  {
   "cell_type": "code",
   "execution_count": 18,
   "id": "d9943d60",
   "metadata": {},
   "outputs": [],
   "source": [
    "# reddit_df4 = pd.read_csv('C:/Users/hp/Desktop/DATA NEXUS PROJECTS/USAID-Kenya-Sentiment-Analysis/data/raw/reddit_data/Mbego_reddit_usaid_kenya2.csv')\n",
    "# reddit_df4.head()"
   ]
  },
  {
   "cell_type": "code",
   "execution_count": 19,
   "id": "46f3d609",
   "metadata": {},
   "outputs": [],
   "source": [
    "# reddit_df3 = pd.read_csv('C:/Users/hp/Desktop/DATA NEXUS PROJECTS/USAID-Kenya-Sentiment-Analysis/data/raw/reddit_data/ruth_reddit.csv')\n",
    "# reddit_df3.head()"
   ]
  },
  {
   "cell_type": "markdown",
   "id": "108c8d0e",
   "metadata": {},
   "source": [
    "#    Merging Reddit Files"
   ]
  },
  {
   "cell_type": "markdown",
   "id": "ed5ea780",
   "metadata": {},
   "source": [
    "### Import neccessary libraries"
   ]
  },
  {
   "cell_type": "code",
   "execution_count": 20,
   "id": "73516454",
   "metadata": {},
   "outputs": [],
   "source": [
    "import pandas as pd\n",
    "import glob\n",
    "import os\n"
   ]
  },
  {
   "cell_type": "markdown",
   "id": "ad1bc471",
   "metadata": {},
   "source": [
    "### Folder path"
   ]
  },
  {
   "cell_type": "code",
   "execution_count": 21,
   "id": "faf6aa46",
   "metadata": {},
   "outputs": [],
   "source": [
    "folder_path = 'C:/Users/hp/Desktop/DATA NEXUS PROJECTS/USAID-Kenya-Sentiment-Analysis/data/raw/reddit_data'\n"
   ]
  },
  {
   "cell_type": "markdown",
   "id": "81bfb742",
   "metadata": {},
   "source": [
    "### CSV file paths"
   ]
  },
  {
   "cell_type": "code",
   "execution_count": 22,
   "id": "4414027b",
   "metadata": {},
   "outputs": [
    {
     "data": {
      "text/plain": [
       "['C:/Users/hp/Desktop/DATA NEXUS PROJECTS/USAID-Kenya-Sentiment-Analysis/data/raw/reddit_data\\\\Agatha_reddit.csv',\n",
       " 'C:/Users/hp/Desktop/DATA NEXUS PROJECTS/USAID-Kenya-Sentiment-Analysis/data/raw/reddit_data\\\\cecilia.redditsubs.csv',\n",
       " 'C:/Users/hp/Desktop/DATA NEXUS PROJECTS/USAID-Kenya-Sentiment-Analysis/data/raw/reddit_data\\\\cecilia.reddit_nbo_ke_africa.csv',\n",
       " 'C:/Users/hp/Desktop/DATA NEXUS PROJECTS/USAID-Kenya-Sentiment-Analysis/data/raw/reddit_data\\\\leo_reddit_posts.csv',\n",
       " 'C:/Users/hp/Desktop/DATA NEXUS PROJECTS/USAID-Kenya-Sentiment-Analysis/data/raw/reddit_data\\\\Mbego_reddit_usaid_kenya.csv',\n",
       " 'C:/Users/hp/Desktop/DATA NEXUS PROJECTS/USAID-Kenya-Sentiment-Analysis/data/raw/reddit_data\\\\Mbego_reddit_usaid_kenya2.csv',\n",
       " 'C:/Users/hp/Desktop/DATA NEXUS PROJECTS/USAID-Kenya-Sentiment-Analysis/data/raw/reddit_data\\\\reddit_usaid_sentiment.csv',\n",
       " 'C:/Users/hp/Desktop/DATA NEXUS PROJECTS/USAID-Kenya-Sentiment-Analysis/data/raw/reddit_data\\\\ruth_reddit.csv']"
      ]
     },
     "execution_count": 22,
     "metadata": {},
     "output_type": "execute_result"
    }
   ],
   "source": [
    "csv_files = glob.glob(os.path.join(folder_path, '*.csv'))\n",
    "csv_files"
   ]
  },
  {
   "cell_type": "markdown",
   "id": "dc497b0b",
   "metadata": {},
   "source": [
    "### Reading the files and combining them into one dataframe"
   ]
  },
  {
   "cell_type": "code",
   "execution_count": 51,
   "id": "055d6ac6",
   "metadata": {},
   "outputs": [
    {
     "data": {
      "text/html": [
       "<div>\n",
       "<style scoped>\n",
       "    .dataframe tbody tr th:only-of-type {\n",
       "        vertical-align: middle;\n",
       "    }\n",
       "\n",
       "    .dataframe tbody tr th {\n",
       "        vertical-align: top;\n",
       "    }\n",
       "\n",
       "    .dataframe thead th {\n",
       "        text-align: right;\n",
       "    }\n",
       "</style>\n",
       "<table border=\"1\" class=\"dataframe\">\n",
       "  <thead>\n",
       "    <tr style=\"text-align: right;\">\n",
       "      <th></th>\n",
       "      <th>post_title</th>\n",
       "      <th>text</th>\n",
       "      <th>keyword</th>\n",
       "      <th>published_date</th>\n",
       "      <th>url</th>\n",
       "      <th>source_file</th>\n",
       "    </tr>\n",
       "  </thead>\n",
       "  <tbody>\n",
       "    <tr>\n",
       "      <th>0</th>\n",
       "      <td>USAID left a month ago, do we have ARVs in Kenya?</td>\n",
       "      <td>Someone on a different group (different websit...</td>\n",
       "      <td>usaid kenya</td>\n",
       "      <td>2025-04-15 13:16:53</td>\n",
       "      <td>https://www.reddit.com/r/Kenya/comments/1jzrn2...</td>\n",
       "      <td>Agatha_reddit.csv</td>\n",
       "    </tr>\n",
       "    <tr>\n",
       "      <th>1</th>\n",
       "      <td>Classism in r/Kenya and r/nairobi</td>\n",
       "      <td>The classism I'm seeing in both subs is a good...</td>\n",
       "      <td>usaid kenya</td>\n",
       "      <td>2025-04-07 04:21:12</td>\n",
       "      <td>https://www.reddit.com/r/Kenya/comments/1jtcvb...</td>\n",
       "      <td>Agatha_reddit.csv</td>\n",
       "    </tr>\n",
       "    <tr>\n",
       "      <th>2</th>\n",
       "      <td>EX-USAID people!! Let's talk</td>\n",
       "      <td>Are you still in contact with the organisation...</td>\n",
       "      <td>usaid kenya</td>\n",
       "      <td>2025-04-05 19:09:10</td>\n",
       "      <td>https://www.reddit.com/r/Kenya/comments/1jsb14...</td>\n",
       "      <td>Agatha_reddit.csv</td>\n",
       "    </tr>\n",
       "    <tr>\n",
       "      <th>3</th>\n",
       "      <td>Why western powers back Israel no matter what ...</td>\n",
       "      <td>I don't care what good book you read, but it's...</td>\n",
       "      <td>usaid kenya</td>\n",
       "      <td>2025-03-25 08:18:04</td>\n",
       "      <td>https://www.reddit.com/r/Kenya/comments/1jjehw...</td>\n",
       "      <td>Agatha_reddit.csv</td>\n",
       "    </tr>\n",
       "    <tr>\n",
       "      <th>4</th>\n",
       "      <td>Is kenya capable of funding its needs now that...</td>\n",
       "      <td>How is kenya prepared to fill the vacuum of US...</td>\n",
       "      <td>usaid kenya</td>\n",
       "      <td>2025-03-08 08:08:58</td>\n",
       "      <td>https://www.reddit.com/r/Kenya/comments/1j6cjz...</td>\n",
       "      <td>Agatha_reddit.csv</td>\n",
       "    </tr>\n",
       "  </tbody>\n",
       "</table>\n",
       "</div>"
      ],
      "text/plain": [
       "                                          post_title  \\\n",
       "0  USAID left a month ago, do we have ARVs in Kenya?   \n",
       "1                  Classism in r/Kenya and r/nairobi   \n",
       "2                       EX-USAID people!! Let's talk   \n",
       "3  Why western powers back Israel no matter what ...   \n",
       "4  Is kenya capable of funding its needs now that...   \n",
       "\n",
       "                                                text      keyword  \\\n",
       "0  Someone on a different group (different websit...  usaid kenya   \n",
       "1  The classism I'm seeing in both subs is a good...  usaid kenya   \n",
       "2  Are you still in contact with the organisation...  usaid kenya   \n",
       "3  I don't care what good book you read, but it's...  usaid kenya   \n",
       "4  How is kenya prepared to fill the vacuum of US...  usaid kenya   \n",
       "\n",
       "       published_date                                                url  \\\n",
       "0 2025-04-15 13:16:53  https://www.reddit.com/r/Kenya/comments/1jzrn2...   \n",
       "1 2025-04-07 04:21:12  https://www.reddit.com/r/Kenya/comments/1jtcvb...   \n",
       "2 2025-04-05 19:09:10  https://www.reddit.com/r/Kenya/comments/1jsb14...   \n",
       "3 2025-03-25 08:18:04  https://www.reddit.com/r/Kenya/comments/1jjehw...   \n",
       "4 2025-03-08 08:08:58  https://www.reddit.com/r/Kenya/comments/1j6cjz...   \n",
       "\n",
       "         source_file  \n",
       "0  Agatha_reddit.csv  \n",
       "1  Agatha_reddit.csv  \n",
       "2  Agatha_reddit.csv  \n",
       "3  Agatha_reddit.csv  \n",
       "4  Agatha_reddit.csv  "
      ]
     },
     "execution_count": 51,
     "metadata": {},
     "output_type": "execute_result"
    }
   ],
   "source": [
    "import pandas as pd\n",
    "import os\n",
    "\n",
    "preferred_columns = ['post_title', 'text', 'keyword', 'published_date', 'url']\n",
    "all_dfs = []\n",
    "\n",
    "for file in csv_files:\n",
    "    df = pd.read_csv(file)\n",
    "    \n",
    "    # Rename common column variants\n",
    "    if 'title' in df.columns:\n",
    "        df.rename(columns={'title': 'post_title'}, inplace=True)\n",
    "    if 'selftext' in df.columns and 'text' not in df.columns:\n",
    "        df.rename(columns={'selftext': 'text'}, inplace=True)\n",
    "    if 'date_posted' in df.columns:\n",
    "        df.rename(columns={'date_posted': 'published_date'}, inplace=True)\n",
    "    elif 'created_utc' in df.columns:\n",
    "        df.rename(columns={'created_utc': 'published_date'}, inplace=True)\n",
    "    \n",
    "    # Add missing columns\n",
    "    for col in preferred_columns:\n",
    "        if col not in df.columns:\n",
    "            df[col] = None\n",
    "\n",
    "    # Convert published_date to datetime\n",
    "    df['published_date'] = pd.to_datetime(df['published_date'], errors='coerce')\n",
    "\n",
    "    # Track file source\n",
    "    df['source_file'] = os.path.basename(file)\n",
    "    \n",
    "    # Keep only standardized columns\n",
    "    df = df[final_columns + ['source_file']]\n",
    "\n",
    "    all_dfs.append(df)\n",
    "\n",
    "# Combine all\n",
    "combined_df = pd.concat(all_dfs, ignore_index=True)\n",
    "combined_df.head()\n"
   ]
  },
  {
   "cell_type": "code",
   "execution_count": 53,
   "id": "f914b4c5",
   "metadata": {},
   "outputs": [
    {
     "data": {
      "text/plain": [
       "(1289, 6)"
      ]
     },
     "execution_count": 53,
     "metadata": {},
     "output_type": "execute_result"
    }
   ],
   "source": [
    "combined_df.shape #check the shape of the dataset"
   ]
  },
  {
   "cell_type": "code",
   "execution_count": 54,
   "id": "5b91a5db",
   "metadata": {},
   "outputs": [
    {
     "data": {
      "text/plain": [
       "post_title          0\n",
       "text              388\n",
       "keyword           547\n",
       "published_date    180\n",
       "url                 0\n",
       "source_file         0\n",
       "dtype: int64"
      ]
     },
     "execution_count": 54,
     "metadata": {},
     "output_type": "execute_result"
    }
   ],
   "source": [
    "combined_df.isna().sum() #check for missing values"
   ]
  },
  {
   "cell_type": "code",
   "execution_count": 56,
   "id": "cd7eb723",
   "metadata": {},
   "outputs": [
    {
     "data": {
      "text/plain": [
       "Index(['post_title', 'text', 'keyword', 'published_date', 'url',\n",
       "       'source_file'],\n",
       "      dtype='object')"
      ]
     },
     "execution_count": 56,
     "metadata": {},
     "output_type": "execute_result"
    }
   ],
   "source": [
    "combined_df.columns"
   ]
  },
  {
   "cell_type": "code",
   "execution_count": 57,
   "id": "731e0c6f",
   "metadata": {},
   "outputs": [
    {
     "data": {
      "text/html": [
       "<div>\n",
       "<style scoped>\n",
       "    .dataframe tbody tr th:only-of-type {\n",
       "        vertical-align: middle;\n",
       "    }\n",
       "\n",
       "    .dataframe tbody tr th {\n",
       "        vertical-align: top;\n",
       "    }\n",
       "\n",
       "    .dataframe thead th {\n",
       "        text-align: right;\n",
       "    }\n",
       "</style>\n",
       "<table border=\"1\" class=\"dataframe\">\n",
       "  <thead>\n",
       "    <tr style=\"text-align: right;\">\n",
       "      <th></th>\n",
       "      <th>post_title</th>\n",
       "      <th>text</th>\n",
       "      <th>keyword</th>\n",
       "      <th>published_date</th>\n",
       "      <th>url</th>\n",
       "      <th>source_file</th>\n",
       "    </tr>\n",
       "  </thead>\n",
       "  <tbody>\n",
       "    <tr>\n",
       "      <th>0</th>\n",
       "      <td>USAID left a month ago, do we have ARVs in Kenya?</td>\n",
       "      <td>Someone on a different group (different websit...</td>\n",
       "      <td>usaid kenya</td>\n",
       "      <td>2025-04-15</td>\n",
       "      <td>https://www.reddit.com/r/Kenya/comments/1jzrn2...</td>\n",
       "      <td>Agatha_reddit.csv</td>\n",
       "    </tr>\n",
       "    <tr>\n",
       "      <th>1</th>\n",
       "      <td>Classism in r/Kenya and r/nairobi</td>\n",
       "      <td>The classism I'm seeing in both subs is a good...</td>\n",
       "      <td>usaid kenya</td>\n",
       "      <td>2025-04-07</td>\n",
       "      <td>https://www.reddit.com/r/Kenya/comments/1jtcvb...</td>\n",
       "      <td>Agatha_reddit.csv</td>\n",
       "    </tr>\n",
       "    <tr>\n",
       "      <th>2</th>\n",
       "      <td>EX-USAID people!! Let's talk</td>\n",
       "      <td>Are you still in contact with the organisation...</td>\n",
       "      <td>usaid kenya</td>\n",
       "      <td>2025-04-05</td>\n",
       "      <td>https://www.reddit.com/r/Kenya/comments/1jsb14...</td>\n",
       "      <td>Agatha_reddit.csv</td>\n",
       "    </tr>\n",
       "    <tr>\n",
       "      <th>3</th>\n",
       "      <td>Why western powers back Israel no matter what ...</td>\n",
       "      <td>I don't care what good book you read, but it's...</td>\n",
       "      <td>usaid kenya</td>\n",
       "      <td>2025-03-25</td>\n",
       "      <td>https://www.reddit.com/r/Kenya/comments/1jjehw...</td>\n",
       "      <td>Agatha_reddit.csv</td>\n",
       "    </tr>\n",
       "    <tr>\n",
       "      <th>4</th>\n",
       "      <td>Is kenya capable of funding its needs now that...</td>\n",
       "      <td>How is kenya prepared to fill the vacuum of US...</td>\n",
       "      <td>usaid kenya</td>\n",
       "      <td>2025-03-08</td>\n",
       "      <td>https://www.reddit.com/r/Kenya/comments/1j6cjz...</td>\n",
       "      <td>Agatha_reddit.csv</td>\n",
       "    </tr>\n",
       "  </tbody>\n",
       "</table>\n",
       "</div>"
      ],
      "text/plain": [
       "                                          post_title  \\\n",
       "0  USAID left a month ago, do we have ARVs in Kenya?   \n",
       "1                  Classism in r/Kenya and r/nairobi   \n",
       "2                       EX-USAID people!! Let's talk   \n",
       "3  Why western powers back Israel no matter what ...   \n",
       "4  Is kenya capable of funding its needs now that...   \n",
       "\n",
       "                                                text      keyword  \\\n",
       "0  Someone on a different group (different websit...  usaid kenya   \n",
       "1  The classism I'm seeing in both subs is a good...  usaid kenya   \n",
       "2  Are you still in contact with the organisation...  usaid kenya   \n",
       "3  I don't care what good book you read, but it's...  usaid kenya   \n",
       "4  How is kenya prepared to fill the vacuum of US...  usaid kenya   \n",
       "\n",
       "  published_date                                                url  \\\n",
       "0     2025-04-15  https://www.reddit.com/r/Kenya/comments/1jzrn2...   \n",
       "1     2025-04-07  https://www.reddit.com/r/Kenya/comments/1jtcvb...   \n",
       "2     2025-04-05  https://www.reddit.com/r/Kenya/comments/1jsb14...   \n",
       "3     2025-03-25  https://www.reddit.com/r/Kenya/comments/1jjehw...   \n",
       "4     2025-03-08  https://www.reddit.com/r/Kenya/comments/1j6cjz...   \n",
       "\n",
       "         source_file  \n",
       "0  Agatha_reddit.csv  \n",
       "1  Agatha_reddit.csv  \n",
       "2  Agatha_reddit.csv  \n",
       "3  Agatha_reddit.csv  \n",
       "4  Agatha_reddit.csv  "
      ]
     },
     "execution_count": 57,
     "metadata": {},
     "output_type": "execute_result"
    }
   ],
   "source": [
    "# Extract date and time\n",
    "combined_df['time'] = combined_df['published_date'].dt.time\n",
    "combined_df['published_date'] = combined_df['published_date'].dt.date\n",
    "\n",
    "#drop the time column\n",
    "combined_df.drop(columns='time', inplace=True)\n",
    "combined_df.head()"
   ]
  },
  {
   "cell_type": "code",
   "execution_count": 58,
   "id": "7192bc36",
   "metadata": {},
   "outputs": [
    {
     "data": {
      "text/html": [
       "<div>\n",
       "<style scoped>\n",
       "    .dataframe tbody tr th:only-of-type {\n",
       "        vertical-align: middle;\n",
       "    }\n",
       "\n",
       "    .dataframe tbody tr th {\n",
       "        vertical-align: top;\n",
       "    }\n",
       "\n",
       "    .dataframe thead th {\n",
       "        text-align: right;\n",
       "    }\n",
       "</style>\n",
       "<table border=\"1\" class=\"dataframe\">\n",
       "  <thead>\n",
       "    <tr style=\"text-align: right;\">\n",
       "      <th></th>\n",
       "      <th>post_title</th>\n",
       "      <th>text</th>\n",
       "      <th>keyword</th>\n",
       "      <th>published_date</th>\n",
       "      <th>url</th>\n",
       "      <th>source_file</th>\n",
       "    </tr>\n",
       "  </thead>\n",
       "  <tbody>\n",
       "    <tr>\n",
       "      <th>376</th>\n",
       "      <td>Africa Needs Its Own Research &amp; Innovation. No...</td>\n",
       "      <td>In many African countries, we use almost every...</td>\n",
       "      <td>kenya foreign aid</td>\n",
       "      <td>2025-03-10</td>\n",
       "      <td>https://www.reddit.com/r/Africa/comments/1j85g...</td>\n",
       "      <td>Agatha_reddit.csv</td>\n",
       "    </tr>\n",
       "    <tr>\n",
       "      <th>79</th>\n",
       "      <td>Kenya’s Foreign Policy: Vibes or Strategy?</td>\n",
       "      <td>High folks, long time Reddit lurker over here....</td>\n",
       "      <td>kenya foreign aid</td>\n",
       "      <td>2025-03-25</td>\n",
       "      <td>https://youtu.be/n2vX71nH-8s?si=0h3QIjA_WM5I4k8A</td>\n",
       "      <td>Agatha_reddit.csv</td>\n",
       "    </tr>\n",
       "    <tr>\n",
       "      <th>1223</th>\n",
       "      <td>Weekly Sub-Saharan Africa Security Situation a...</td>\n",
       "      <td>NaN</td>\n",
       "      <td>None</td>\n",
       "      <td>2025-06-06</td>\n",
       "      <td>https://open.substack.com/pub/hasretkargin/p/w...</td>\n",
       "      <td>ruth_reddit.csv</td>\n",
       "    </tr>\n",
       "    <tr>\n",
       "      <th>490</th>\n",
       "      <td>Is kenya capable of funding its needs now that...</td>\n",
       "      <td>How is kenya prepared to fill the vacuum of US...</td>\n",
       "      <td>USAID</td>\n",
       "      <td>2025-03-08</td>\n",
       "      <td>https://www.reddit.com/r/Kenya/comments/1j6cjz...</td>\n",
       "      <td>cecilia.redditsubs.csv</td>\n",
       "    </tr>\n",
       "    <tr>\n",
       "      <th>437</th>\n",
       "      <td>Iran welcomes Trump’s move to cut foreign aid ...</td>\n",
       "      <td>NaN</td>\n",
       "      <td>kenya foreign aid</td>\n",
       "      <td>2025-02-05</td>\n",
       "      <td>https://www.pbs.org/newshour/world/iran-welcom...</td>\n",
       "      <td>Agatha_reddit.csv</td>\n",
       "    </tr>\n",
       "    <tr>\n",
       "      <th>461</th>\n",
       "      <td>Nigerian lawmakers probe USAID-funded non-prof...</td>\n",
       "      <td>NaN</td>\n",
       "      <td>usaid suspended funding</td>\n",
       "      <td>2025-03-19</td>\n",
       "      <td>https://www.reuters.com/world/africa/nigerian-...</td>\n",
       "      <td>Agatha_reddit.csv</td>\n",
       "    </tr>\n",
       "    <tr>\n",
       "      <th>553</th>\n",
       "      <td>The Govt. Appeals Order Preventing Impoundment...</td>\n",
       "      <td>[https://storage.courtlistener.com/recap/gov.u...</td>\n",
       "      <td>foreign aid, foreign aid</td>\n",
       "      <td>2025-04-02</td>\n",
       "      <td>https://www.reddit.com/r/InternationalDev/comm...</td>\n",
       "      <td>cecilia.redditsubs.csv</td>\n",
       "    </tr>\n",
       "    <tr>\n",
       "      <th>88</th>\n",
       "      <td>Kenyan social media app ??</td>\n",
       "      <td>This came to mind this morning in the shower s...</td>\n",
       "      <td>kenya foreign aid</td>\n",
       "      <td>2025-02-24</td>\n",
       "      <td>https://www.reddit.com/r/Kenya/comments/1iwokg...</td>\n",
       "      <td>Agatha_reddit.csv</td>\n",
       "    </tr>\n",
       "    <tr>\n",
       "      <th>752</th>\n",
       "      <td>Foreign aid/Philanthropy</td>\n",
       "      <td>I see the aid or philanthropic activities that...</td>\n",
       "      <td>None</td>\n",
       "      <td>1970-01-01</td>\n",
       "      <td>https://www.reddit.com/r/Kenya/comments/1k91v5...</td>\n",
       "      <td>leo_reddit_posts.csv</td>\n",
       "    </tr>\n",
       "    <tr>\n",
       "      <th>275</th>\n",
       "      <td>Chinese firms are stakeholders in more than a ...</td>\n",
       "      <td>NaN</td>\n",
       "      <td>development aid kenya</td>\n",
       "      <td>2025-03-13</td>\n",
       "      <td>https://i.redd.it/pwb1ngmongoe1.jpeg</td>\n",
       "      <td>Agatha_reddit.csv</td>\n",
       "    </tr>\n",
       "  </tbody>\n",
       "</table>\n",
       "</div>"
      ],
      "text/plain": [
       "                                             post_title  \\\n",
       "376   Africa Needs Its Own Research & Innovation. No...   \n",
       "79           Kenya’s Foreign Policy: Vibes or Strategy?   \n",
       "1223  Weekly Sub-Saharan Africa Security Situation a...   \n",
       "490   Is kenya capable of funding its needs now that...   \n",
       "437   Iran welcomes Trump’s move to cut foreign aid ...   \n",
       "461   Nigerian lawmakers probe USAID-funded non-prof...   \n",
       "553   The Govt. Appeals Order Preventing Impoundment...   \n",
       "88                           Kenyan social media app ??   \n",
       "752                            Foreign aid/Philanthropy   \n",
       "275   Chinese firms are stakeholders in more than a ...   \n",
       "\n",
       "                                                   text  \\\n",
       "376   In many African countries, we use almost every...   \n",
       "79    High folks, long time Reddit lurker over here....   \n",
       "1223                                                NaN   \n",
       "490   How is kenya prepared to fill the vacuum of US...   \n",
       "437                                                 NaN   \n",
       "461                                                 NaN   \n",
       "553   [https://storage.courtlistener.com/recap/gov.u...   \n",
       "88    This came to mind this morning in the shower s...   \n",
       "752   I see the aid or philanthropic activities that...   \n",
       "275                                                 NaN   \n",
       "\n",
       "                       keyword published_date  \\\n",
       "376          kenya foreign aid     2025-03-10   \n",
       "79           kenya foreign aid     2025-03-25   \n",
       "1223                      None     2025-06-06   \n",
       "490                      USAID     2025-03-08   \n",
       "437          kenya foreign aid     2025-02-05   \n",
       "461    usaid suspended funding     2025-03-19   \n",
       "553   foreign aid, foreign aid     2025-04-02   \n",
       "88           kenya foreign aid     2025-02-24   \n",
       "752                       None     1970-01-01   \n",
       "275      development aid kenya     2025-03-13   \n",
       "\n",
       "                                                    url  \\\n",
       "376   https://www.reddit.com/r/Africa/comments/1j85g...   \n",
       "79     https://youtu.be/n2vX71nH-8s?si=0h3QIjA_WM5I4k8A   \n",
       "1223  https://open.substack.com/pub/hasretkargin/p/w...   \n",
       "490   https://www.reddit.com/r/Kenya/comments/1j6cjz...   \n",
       "437   https://www.pbs.org/newshour/world/iran-welcom...   \n",
       "461   https://www.reuters.com/world/africa/nigerian-...   \n",
       "553   https://www.reddit.com/r/InternationalDev/comm...   \n",
       "88    https://www.reddit.com/r/Kenya/comments/1iwokg...   \n",
       "752   https://www.reddit.com/r/Kenya/comments/1k91v5...   \n",
       "275                https://i.redd.it/pwb1ngmongoe1.jpeg   \n",
       "\n",
       "                 source_file  \n",
       "376        Agatha_reddit.csv  \n",
       "79         Agatha_reddit.csv  \n",
       "1223         ruth_reddit.csv  \n",
       "490   cecilia.redditsubs.csv  \n",
       "437        Agatha_reddit.csv  \n",
       "461        Agatha_reddit.csv  \n",
       "553   cecilia.redditsubs.csv  \n",
       "88         Agatha_reddit.csv  \n",
       "752     leo_reddit_posts.csv  \n",
       "275        Agatha_reddit.csv  "
      ]
     },
     "execution_count": 58,
     "metadata": {},
     "output_type": "execute_result"
    }
   ],
   "source": [
    "combined_df.sample(10) #random sample of 10 rows"
   ]
  },
  {
   "cell_type": "markdown",
   "id": "763f705c",
   "metadata": {},
   "source": [
    "### Save the final merged dataframe to csv"
   ]
  },
  {
   "cell_type": "code",
   "execution_count": 61,
   "id": "a35088c3",
   "metadata": {},
   "outputs": [
    {
     "name": "stdout",
     "output_type": "stream",
     "text": [
      " Results successfully saved to:\n",
      "C:/Users/hp/Desktop/DATA NEXUS PROJECTS/USAID-Kenya-Sentiment-Analysis/data/processed/Cecilia_merged_reddit_dataset.csv\n"
     ]
    }
   ],
   "source": [
    "# Save to CSV \n",
    "if not combined_df.empty:\n",
    "    output_filename = \"C:/Users/hp/Desktop/DATA NEXUS PROJECTS/USAID-Kenya-Sentiment-Analysis/data/processed/Cecilia_merged_reddit_dataset.csv\"\n",
    "    combined_df.to_csv(output_filename, index=False, encoding='utf-8')\n",
    "    print(f\" Results successfully saved to:\\n{output_filename}\")\n",
    "else:\n",
    "    print(\" No data to save. The DataFrame is empty.\")\n"
   ]
  },
  {
   "cell_type": "code",
   "execution_count": null,
   "id": "62f2d434",
   "metadata": {},
   "outputs": [],
   "source": []
  }
 ],
 "metadata": {
  "kernelspec": {
   "display_name": "Python 3 (ipykernel)",
   "language": "python",
   "name": "python3"
  },
  "language_info": {
   "codemirror_mode": {
    "name": "ipython",
    "version": 3
   },
   "file_extension": ".py",
   "mimetype": "text/x-python",
   "name": "python",
   "nbconvert_exporter": "python",
   "pygments_lexer": "ipython3",
   "version": "3.9.7"
  }
 },
 "nbformat": 4,
 "nbformat_minor": 5
}
