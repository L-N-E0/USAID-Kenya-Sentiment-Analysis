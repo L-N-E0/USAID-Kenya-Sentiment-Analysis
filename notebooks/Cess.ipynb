{
 "cells": [
  {
   "cell_type": "markdown",
   "id": "962045ac",
   "metadata": {},
   "source": [
    "# USAID-Kenya-Sentiment-Analysis"
   ]
  },
  {
   "cell_type": "code",
   "execution_count": 1,
   "id": "d54b44fc",
   "metadata": {},
   "outputs": [],
   "source": [
    "# import pandas as pd\n"
   ]
  },
  {
   "cell_type": "code",
   "execution_count": 2,
   "id": "956d9b55",
   "metadata": {},
   "outputs": [],
   "source": [
    "# reddit_df = pd.read_csv('C:/Users/hp/Desktop/DATA NEXUS PROJECTS/USAID-Kenya-Sentiment-Analysis/data/raw/reddit_data/cecilia.redditsubs.csv')\n",
    "# reddit_df.head()"
   ]
  },
  {
   "cell_type": "code",
   "execution_count": 3,
   "id": "0f15ce52",
   "metadata": {},
   "outputs": [],
   "source": [
    "# reddit_df.tail()"
   ]
  },
  {
   "cell_type": "code",
   "execution_count": 4,
   "id": "821fedde",
   "metadata": {},
   "outputs": [],
   "source": [
    "# reddit_df.info()"
   ]
  },
  {
   "cell_type": "code",
   "execution_count": 5,
   "id": "35a594ac",
   "metadata": {},
   "outputs": [],
   "source": [
    "# reddit_df.columns"
   ]
  },
  {
   "cell_type": "markdown",
   "id": "1fb0fece",
   "metadata": {},
   "source": [
    "<!-- **Column description**\n",
    "\n",
    "subreddit: The community name \n",
    "\n",
    "keyword: Topic keywords\n",
    "\n",
    "title: Post title\n",
    "\n",
    "text: Main post content \n",
    "\n",
    "date_posted: When it was posted\n",
    "\n",
    "upvotes: Number of upvotes\n",
    "\n",
    "comments: Number of comments\n",
    "\n",
    "url: Link to external content\n",
    "\n",
    "permalink: Link to the Reddit post -->"
   ]
  },
  {
   "cell_type": "code",
   "execution_count": 6,
   "id": "468714ba",
   "metadata": {},
   "outputs": [],
   "source": [
    "# reddit_df.shape"
   ]
  },
  {
   "cell_type": "code",
   "execution_count": 7,
   "id": "96b6cb5f",
   "metadata": {},
   "outputs": [],
   "source": [
    "# reddit_df['text'].sample(20)"
   ]
  },
  {
   "cell_type": "code",
   "execution_count": 8,
   "id": "e28c4d0c",
   "metadata": {},
   "outputs": [],
   "source": [
    "# example = reddit_df['text'][4]\n",
    "# print(example)"
   ]
  },
  {
   "cell_type": "code",
   "execution_count": 9,
   "id": "84be1972",
   "metadata": {},
   "outputs": [],
   "source": [
    "# #fill in missing text with 'missing' instead of dropping NaN\n",
    "# reddit_df['text'] = reddit_df['text'].fillna('MISSING')\n",
    "# reddit_df['text'].head(40)"
   ]
  },
  {
   "cell_type": "code",
   "execution_count": 10,
   "id": "cb6b3e52",
   "metadata": {},
   "outputs": [],
   "source": [
    "# #check for duplicates\n",
    "# reddit_df.duplicated().value_counts()"
   ]
  },
  {
   "cell_type": "code",
   "execution_count": 11,
   "id": "f1aeae95",
   "metadata": {},
   "outputs": [],
   "source": [
    "# def clean_text(text):\n",
    "#     if not isinstance(text, str):\n",
    "#         return text\n",
    "    \n",
    "#     # Remove extra whitespace\n",
    "#     text = ' '.join(text.split())\n",
    "    \n",
    "#     # Replace line breaks with space\n",
    "#     text = text.replace('\\n', ' ')\n",
    "    \n",
    "#     # Remove special Reddit characters\n",
    "#     text = text.replace('&amp;', '&')\n",
    "#     text = text.replace('&gt;', '>')\n",
    "#     text = text.replace('&lt;', '<')\n",
    "    \n",
    "#     return text.strip()\n",
    "\n",
    "# # Apply to both title and text columns\n",
    "# reddit_df['title'] = reddit_df['title'].apply(clean_text)\n",
    "# reddit_df['text'] = reddit_df['text'].apply(clean_text)"
   ]
  },
  {
   "cell_type": "code",
   "execution_count": 12,
   "id": "327496db",
   "metadata": {},
   "outputs": [],
   "source": [
    "# reddit_df['text'].head(40)"
   ]
  },
  {
   "cell_type": "code",
   "execution_count": 13,
   "id": "b71446c5",
   "metadata": {},
   "outputs": [],
   "source": [
    "# reddit_df['date_posted'] = pd.to_datetime(reddit_df['date_posted'])\n",
    "# reddit_df.head()"
   ]
  },
  {
   "cell_type": "code",
   "execution_count": 14,
   "id": "2f302c1a",
   "metadata": {},
   "outputs": [],
   "source": [
    "# example = reddit_df['text'][4]\n",
    "# print(example)"
   ]
  },
  {
   "cell_type": "code",
   "execution_count": 15,
   "id": "2445a9f7",
   "metadata": {},
   "outputs": [],
   "source": [
    "# import nltk"
   ]
  },
  {
   "cell_type": "code",
   "execution_count": 16,
   "id": "cd2602ec",
   "metadata": {},
   "outputs": [],
   "source": [
    "# reddit_df2 = pd.read_csv('C:/Users/hp/Desktop/DATA NEXUS PROJECTS/USAID-Kenya-Sentiment-Analysis/data/raw/reddit_data/Agatha_reddit.csv')\n",
    "# reddit_df2.head()"
   ]
  },
  {
   "cell_type": "code",
   "execution_count": 17,
   "id": "1b91a200",
   "metadata": {},
   "outputs": [],
   "source": [
    "# reddit_df3 = pd.read_csv('C:/Users/hp/Desktop/DATA NEXUS PROJECTS/USAID-Kenya-Sentiment-Analysis/data/raw/reddit_data/leo_reddit_posts.csv')\n",
    "# reddit_df3.head()"
   ]
  },
  {
   "cell_type": "code",
   "execution_count": 18,
   "id": "d9943d60",
   "metadata": {},
   "outputs": [],
   "source": [
    "# reddit_df4 = pd.read_csv('C:/Users/hp/Desktop/DATA NEXUS PROJECTS/USAID-Kenya-Sentiment-Analysis/data/raw/reddit_data/Mbego_reddit_usaid_kenya2.csv')\n",
    "# reddit_df4.head()"
   ]
  },
  {
   "cell_type": "code",
   "execution_count": 19,
   "id": "46f3d609",
   "metadata": {},
   "outputs": [],
   "source": [
    "# reddit_df3 = pd.read_csv('C:/Users/hp/Desktop/DATA NEXUS PROJECTS/USAID-Kenya-Sentiment-Analysis/data/raw/reddit_data/ruth_reddit.csv')\n",
    "# reddit_df3.head()"
   ]
  },
  {
   "cell_type": "markdown",
   "id": "6acc0606",
   "metadata": {},
   "source": [
    "#    Merging Reddit CSV Files"
   ]
  },
  {
   "cell_type": "markdown",
   "id": "b99dd2b5",
   "metadata": {},
   "source": [
    "### Import neccessary libraries"
   ]
  },
  {
   "cell_type": "code",
   "execution_count": 20,
   "id": "2605d0a6",
   "metadata": {},
   "outputs": [],
   "source": [
    "import pandas as pd\n",
    "import glob\n",
    "import os\n"
   ]
  },
  {
   "cell_type": "markdown",
   "id": "5e1cd992",
   "metadata": {},
   "source": [
    "### Folder path"
   ]
  },
  {
   "cell_type": "code",
   "execution_count": 21,
   "id": "df600c9e",
   "metadata": {},
   "outputs": [],
   "source": [
    "folder_path = 'C:/Users/hp/Desktop/DATA NEXUS PROJECTS/USAID-Kenya-Sentiment-Analysis/data/raw/reddit_data'\n"
   ]
  },
  {
   "cell_type": "markdown",
   "id": "7fcb97c1",
   "metadata": {},
   "source": [
    "### CSV file paths"
   ]
  },
  {
   "cell_type": "code",
   "execution_count": 22,
   "id": "b50625d4",
   "metadata": {},
   "outputs": [
    {
     "data": {
      "text/plain": [
       "['C:/Users/hp/Desktop/DATA NEXUS PROJECTS/USAID-Kenya-Sentiment-Analysis/data/raw/reddit_data\\\\Agatha_reddit.csv',\n",
       " 'C:/Users/hp/Desktop/DATA NEXUS PROJECTS/USAID-Kenya-Sentiment-Analysis/data/raw/reddit_data\\\\cecilia.redditsubs.csv',\n",
       " 'C:/Users/hp/Desktop/DATA NEXUS PROJECTS/USAID-Kenya-Sentiment-Analysis/data/raw/reddit_data\\\\cecilia.reddit_nbo_ke_africa.csv',\n",
       " 'C:/Users/hp/Desktop/DATA NEXUS PROJECTS/USAID-Kenya-Sentiment-Analysis/data/raw/reddit_data\\\\leo_reddit_posts.csv',\n",
       " 'C:/Users/hp/Desktop/DATA NEXUS PROJECTS/USAID-Kenya-Sentiment-Analysis/data/raw/reddit_data\\\\Mbego_reddit_usaid_kenya.csv',\n",
       " 'C:/Users/hp/Desktop/DATA NEXUS PROJECTS/USAID-Kenya-Sentiment-Analysis/data/raw/reddit_data\\\\Mbego_reddit_usaid_kenya2.csv',\n",
       " 'C:/Users/hp/Desktop/DATA NEXUS PROJECTS/USAID-Kenya-Sentiment-Analysis/data/raw/reddit_data\\\\reddit_usaid_kenya.csv',\n",
       " 'C:/Users/hp/Desktop/DATA NEXUS PROJECTS/USAID-Kenya-Sentiment-Analysis/data/raw/reddit_data\\\\reddit_usaid_sentiment.csv',\n",
       " 'C:/Users/hp/Desktop/DATA NEXUS PROJECTS/USAID-Kenya-Sentiment-Analysis/data/raw/reddit_data\\\\ruth_reddit.csv']"
      ]
     },
     "execution_count": 22,
     "metadata": {},
     "output_type": "execute_result"
    }
   ],
   "source": [
    "csv_files = glob.glob(os.path.join(folder_path, '*.csv'))\n",
    "csv_files"
   ]
  },
  {
   "cell_type": "markdown",
   "id": "c37cff96",
   "metadata": {},
   "source": [
    "### Reading the files and combining them into one dataframe"
   ]
  },
  {
   "cell_type": "code",
   "execution_count": 23,
   "id": "f874996c",
   "metadata": {},
   "outputs": [
    {
     "data": {
      "text/html": [
       "<div>\n",
       "<style scoped>\n",
       "    .dataframe tbody tr th:only-of-type {\n",
       "        vertical-align: middle;\n",
       "    }\n",
       "\n",
       "    .dataframe tbody tr th {\n",
       "        vertical-align: top;\n",
       "    }\n",
       "\n",
       "    .dataframe thead th {\n",
       "        text-align: right;\n",
       "    }\n",
       "</style>\n",
       "<table border=\"1\" class=\"dataframe\">\n",
       "  <thead>\n",
       "    <tr style=\"text-align: right;\">\n",
       "      <th></th>\n",
       "      <th>post_title</th>\n",
       "      <th>text</th>\n",
       "      <th>keyword</th>\n",
       "      <th>published_date</th>\n",
       "      <th>url</th>\n",
       "      <th>source_file</th>\n",
       "    </tr>\n",
       "  </thead>\n",
       "  <tbody>\n",
       "    <tr>\n",
       "      <th>0</th>\n",
       "      <td>USAID left a month ago, do we have ARVs in Kenya?</td>\n",
       "      <td>Someone on a different group (different websit...</td>\n",
       "      <td>usaid kenya</td>\n",
       "      <td>2025-04-15 13:16:53</td>\n",
       "      <td>https://www.reddit.com/r/Kenya/comments/1jzrn2...</td>\n",
       "      <td>Agatha_reddit.csv</td>\n",
       "    </tr>\n",
       "    <tr>\n",
       "      <th>1</th>\n",
       "      <td>Classism in r/Kenya and r/nairobi</td>\n",
       "      <td>The classism I'm seeing in both subs is a good...</td>\n",
       "      <td>usaid kenya</td>\n",
       "      <td>2025-04-07 04:21:12</td>\n",
       "      <td>https://www.reddit.com/r/Kenya/comments/1jtcvb...</td>\n",
       "      <td>Agatha_reddit.csv</td>\n",
       "    </tr>\n",
       "    <tr>\n",
       "      <th>2</th>\n",
       "      <td>EX-USAID people!! Let's talk</td>\n",
       "      <td>Are you still in contact with the organisation...</td>\n",
       "      <td>usaid kenya</td>\n",
       "      <td>2025-04-05 19:09:10</td>\n",
       "      <td>https://www.reddit.com/r/Kenya/comments/1jsb14...</td>\n",
       "      <td>Agatha_reddit.csv</td>\n",
       "    </tr>\n",
       "    <tr>\n",
       "      <th>3</th>\n",
       "      <td>Why western powers back Israel no matter what ...</td>\n",
       "      <td>I don't care what good book you read, but it's...</td>\n",
       "      <td>usaid kenya</td>\n",
       "      <td>2025-03-25 08:18:04</td>\n",
       "      <td>https://www.reddit.com/r/Kenya/comments/1jjehw...</td>\n",
       "      <td>Agatha_reddit.csv</td>\n",
       "    </tr>\n",
       "    <tr>\n",
       "      <th>4</th>\n",
       "      <td>Is kenya capable of funding its needs now that...</td>\n",
       "      <td>How is kenya prepared to fill the vacuum of US...</td>\n",
       "      <td>usaid kenya</td>\n",
       "      <td>2025-03-08 08:08:58</td>\n",
       "      <td>https://www.reddit.com/r/Kenya/comments/1j6cjz...</td>\n",
       "      <td>Agatha_reddit.csv</td>\n",
       "    </tr>\n",
       "  </tbody>\n",
       "</table>\n",
       "</div>"
      ],
      "text/plain": [
       "                                          post_title  \\\n",
       "0  USAID left a month ago, do we have ARVs in Kenya?   \n",
       "1                  Classism in r/Kenya and r/nairobi   \n",
       "2                       EX-USAID people!! Let's talk   \n",
       "3  Why western powers back Israel no matter what ...   \n",
       "4  Is kenya capable of funding its needs now that...   \n",
       "\n",
       "                                                text      keyword  \\\n",
       "0  Someone on a different group (different websit...  usaid kenya   \n",
       "1  The classism I'm seeing in both subs is a good...  usaid kenya   \n",
       "2  Are you still in contact with the organisation...  usaid kenya   \n",
       "3  I don't care what good book you read, but it's...  usaid kenya   \n",
       "4  How is kenya prepared to fill the vacuum of US...  usaid kenya   \n",
       "\n",
       "       published_date                                                url  \\\n",
       "0 2025-04-15 13:16:53  https://www.reddit.com/r/Kenya/comments/1jzrn2...   \n",
       "1 2025-04-07 04:21:12  https://www.reddit.com/r/Kenya/comments/1jtcvb...   \n",
       "2 2025-04-05 19:09:10  https://www.reddit.com/r/Kenya/comments/1jsb14...   \n",
       "3 2025-03-25 08:18:04  https://www.reddit.com/r/Kenya/comments/1jjehw...   \n",
       "4 2025-03-08 08:08:58  https://www.reddit.com/r/Kenya/comments/1j6cjz...   \n",
       "\n",
       "         source_file  \n",
       "0  Agatha_reddit.csv  \n",
       "1  Agatha_reddit.csv  \n",
       "2  Agatha_reddit.csv  \n",
       "3  Agatha_reddit.csv  \n",
       "4  Agatha_reddit.csv  "
      ]
     },
     "execution_count": 23,
     "metadata": {},
     "output_type": "execute_result"
    }
   ],
   "source": [
    "\n",
    "preferred_columns = ['post_title', 'text', 'keyword', 'published_date', 'url']\n",
    "all_dfs = []\n",
    "\n",
    "for file in csv_files:\n",
    "    df = pd.read_csv(file)\n",
    "    \n",
    "    # Rename common column variants\n",
    "    if 'title' in df.columns:\n",
    "        df.rename(columns={'title': 'post_title'}, inplace=True)\n",
    "    if 'selftext' in df.columns and 'text' not in df.columns:\n",
    "        df.rename(columns={'selftext': 'text'}, inplace=True)\n",
    "    if 'date_posted' in df.columns:\n",
    "        df.rename(columns={'date_posted': 'published_date'}, inplace=True)\n",
    "    elif 'created_utc' in df.columns:\n",
    "        df.rename(columns={'created_utc': 'published_date'}, inplace=True)\n",
    "    \n",
    "    # Add missing columns\n",
    "    for col in preferred_columns:\n",
    "        if col not in df.columns:\n",
    "            df[col] = None\n",
    "\n",
    "    # Convert published_date to datetime\n",
    "    df['published_date'] = pd.to_datetime(df['published_date'], errors='coerce')\n",
    "\n",
    "    # Track file source\n",
    "    df['source_file'] = os.path.basename(file)\n",
    "    \n",
    "    # Keep only standardized columns\n",
    "    df = df[preferred_columns + ['source_file']]\n",
    "\n",
    "    all_dfs.append(df)\n",
    "\n",
    "# Combine all\n",
    "combined_df = pd.concat(all_dfs, ignore_index=True)\n",
    "combined_df.head()\n"
   ]
  },
  {
   "cell_type": "code",
   "execution_count": 24,
   "id": "83d5b9f6",
   "metadata": {},
   "outputs": [
    {
     "data": {
      "text/plain": [
       "(1306, 6)"
      ]
     },
     "execution_count": 24,
     "metadata": {},
     "output_type": "execute_result"
    }
   ],
   "source": [
    "combined_df.shape #check the shape of the dataset"
   ]
  },
  {
   "cell_type": "code",
   "execution_count": 25,
   "id": "b896c819",
   "metadata": {},
   "outputs": [
    {
     "data": {
      "text/plain": [
       "post_title          0\n",
       "text              398\n",
       "keyword           564\n",
       "published_date    197\n",
       "url                 0\n",
       "source_file         0\n",
       "dtype: int64"
      ]
     },
     "execution_count": 25,
     "metadata": {},
     "output_type": "execute_result"
    }
   ],
   "source": [
    "combined_df.isna().sum() #check for missing values"
   ]
  },
  {
   "cell_type": "code",
   "execution_count": 26,
   "id": "6cbb0b58",
   "metadata": {},
   "outputs": [
    {
     "data": {
      "text/plain": [
       "Index(['post_title', 'text', 'keyword', 'published_date', 'url',\n",
       "       'source_file'],\n",
       "      dtype='object')"
      ]
     },
     "execution_count": 26,
     "metadata": {},
     "output_type": "execute_result"
    }
   ],
   "source": [
    "combined_df.columns"
   ]
  },
  {
   "cell_type": "code",
   "execution_count": 27,
   "id": "f8a79603",
   "metadata": {},
   "outputs": [
    {
     "data": {
      "text/html": [
       "<div>\n",
       "<style scoped>\n",
       "    .dataframe tbody tr th:only-of-type {\n",
       "        vertical-align: middle;\n",
       "    }\n",
       "\n",
       "    .dataframe tbody tr th {\n",
       "        vertical-align: top;\n",
       "    }\n",
       "\n",
       "    .dataframe thead th {\n",
       "        text-align: right;\n",
       "    }\n",
       "</style>\n",
       "<table border=\"1\" class=\"dataframe\">\n",
       "  <thead>\n",
       "    <tr style=\"text-align: right;\">\n",
       "      <th></th>\n",
       "      <th>post_title</th>\n",
       "      <th>text</th>\n",
       "      <th>keyword</th>\n",
       "      <th>published_date</th>\n",
       "      <th>url</th>\n",
       "      <th>source_file</th>\n",
       "    </tr>\n",
       "  </thead>\n",
       "  <tbody>\n",
       "    <tr>\n",
       "      <th>0</th>\n",
       "      <td>USAID left a month ago, do we have ARVs in Kenya?</td>\n",
       "      <td>Someone on a different group (different websit...</td>\n",
       "      <td>usaid kenya</td>\n",
       "      <td>2025-04-15</td>\n",
       "      <td>https://www.reddit.com/r/Kenya/comments/1jzrn2...</td>\n",
       "      <td>Agatha_reddit.csv</td>\n",
       "    </tr>\n",
       "    <tr>\n",
       "      <th>1</th>\n",
       "      <td>Classism in r/Kenya and r/nairobi</td>\n",
       "      <td>The classism I'm seeing in both subs is a good...</td>\n",
       "      <td>usaid kenya</td>\n",
       "      <td>2025-04-07</td>\n",
       "      <td>https://www.reddit.com/r/Kenya/comments/1jtcvb...</td>\n",
       "      <td>Agatha_reddit.csv</td>\n",
       "    </tr>\n",
       "    <tr>\n",
       "      <th>2</th>\n",
       "      <td>EX-USAID people!! Let's talk</td>\n",
       "      <td>Are you still in contact with the organisation...</td>\n",
       "      <td>usaid kenya</td>\n",
       "      <td>2025-04-05</td>\n",
       "      <td>https://www.reddit.com/r/Kenya/comments/1jsb14...</td>\n",
       "      <td>Agatha_reddit.csv</td>\n",
       "    </tr>\n",
       "    <tr>\n",
       "      <th>3</th>\n",
       "      <td>Why western powers back Israel no matter what ...</td>\n",
       "      <td>I don't care what good book you read, but it's...</td>\n",
       "      <td>usaid kenya</td>\n",
       "      <td>2025-03-25</td>\n",
       "      <td>https://www.reddit.com/r/Kenya/comments/1jjehw...</td>\n",
       "      <td>Agatha_reddit.csv</td>\n",
       "    </tr>\n",
       "    <tr>\n",
       "      <th>4</th>\n",
       "      <td>Is kenya capable of funding its needs now that...</td>\n",
       "      <td>How is kenya prepared to fill the vacuum of US...</td>\n",
       "      <td>usaid kenya</td>\n",
       "      <td>2025-03-08</td>\n",
       "      <td>https://www.reddit.com/r/Kenya/comments/1j6cjz...</td>\n",
       "      <td>Agatha_reddit.csv</td>\n",
       "    </tr>\n",
       "  </tbody>\n",
       "</table>\n",
       "</div>"
      ],
      "text/plain": [
       "                                          post_title  \\\n",
       "0  USAID left a month ago, do we have ARVs in Kenya?   \n",
       "1                  Classism in r/Kenya and r/nairobi   \n",
       "2                       EX-USAID people!! Let's talk   \n",
       "3  Why western powers back Israel no matter what ...   \n",
       "4  Is kenya capable of funding its needs now that...   \n",
       "\n",
       "                                                text      keyword  \\\n",
       "0  Someone on a different group (different websit...  usaid kenya   \n",
       "1  The classism I'm seeing in both subs is a good...  usaid kenya   \n",
       "2  Are you still in contact with the organisation...  usaid kenya   \n",
       "3  I don't care what good book you read, but it's...  usaid kenya   \n",
       "4  How is kenya prepared to fill the vacuum of US...  usaid kenya   \n",
       "\n",
       "  published_date                                                url  \\\n",
       "0     2025-04-15  https://www.reddit.com/r/Kenya/comments/1jzrn2...   \n",
       "1     2025-04-07  https://www.reddit.com/r/Kenya/comments/1jtcvb...   \n",
       "2     2025-04-05  https://www.reddit.com/r/Kenya/comments/1jsb14...   \n",
       "3     2025-03-25  https://www.reddit.com/r/Kenya/comments/1jjehw...   \n",
       "4     2025-03-08  https://www.reddit.com/r/Kenya/comments/1j6cjz...   \n",
       "\n",
       "         source_file  \n",
       "0  Agatha_reddit.csv  \n",
       "1  Agatha_reddit.csv  \n",
       "2  Agatha_reddit.csv  \n",
       "3  Agatha_reddit.csv  \n",
       "4  Agatha_reddit.csv  "
      ]
     },
     "execution_count": 27,
     "metadata": {},
     "output_type": "execute_result"
    }
   ],
   "source": [
    "# Extract date and time\n",
    "combined_df['time'] = combined_df['published_date'].dt.time\n",
    "combined_df['published_date'] = combined_df['published_date'].dt.date\n",
    "\n",
    "#Drop the time column\n",
    "combined_df.drop(columns='time', inplace=True)\n",
    "combined_df.head()"
   ]
  },
  {
   "cell_type": "code",
   "execution_count": 28,
   "id": "203cd407",
   "metadata": {},
   "outputs": [
    {
     "data": {
      "text/html": [
       "<div>\n",
       "<style scoped>\n",
       "    .dataframe tbody tr th:only-of-type {\n",
       "        vertical-align: middle;\n",
       "    }\n",
       "\n",
       "    .dataframe tbody tr th {\n",
       "        vertical-align: top;\n",
       "    }\n",
       "\n",
       "    .dataframe thead th {\n",
       "        text-align: right;\n",
       "    }\n",
       "</style>\n",
       "<table border=\"1\" class=\"dataframe\">\n",
       "  <thead>\n",
       "    <tr style=\"text-align: right;\">\n",
       "      <th></th>\n",
       "      <th>post_title</th>\n",
       "      <th>text</th>\n",
       "      <th>keyword</th>\n",
       "      <th>published_date</th>\n",
       "      <th>url</th>\n",
       "      <th>source_file</th>\n",
       "    </tr>\n",
       "  </thead>\n",
       "  <tbody>\n",
       "    <tr>\n",
       "      <th>193</th>\n",
       "      <td>USAID woes</td>\n",
       "      <td>many people don't know how USAID made many Ken...</td>\n",
       "      <td>usaid kenya funding cut</td>\n",
       "      <td>2025-02-07</td>\n",
       "      <td>https://www.reddit.com/r/Kenya/comments/1ijyka...</td>\n",
       "      <td>Agatha_reddit.csv</td>\n",
       "    </tr>\n",
       "    <tr>\n",
       "      <th>1220</th>\n",
       "      <td>Incubators- The Infamous Startup Support Racket</td>\n",
       "      <td>Anyone else notice there’s a whole swarm of th...</td>\n",
       "      <td>None</td>\n",
       "      <td>2025-06-09</td>\n",
       "      <td>https://www.reddit.com/r/Kenya/comments/1l7367...</td>\n",
       "      <td>ruth_reddit.csv</td>\n",
       "    </tr>\n",
       "    <tr>\n",
       "      <th>614</th>\n",
       "      <td>As Trump guts foreign aid, China and others le...</td>\n",
       "      <td>NaN</td>\n",
       "      <td>foreign aid, foreign aid</td>\n",
       "      <td>2025-03-31</td>\n",
       "      <td>https://www.nbcnews.com/news/world/myanmar-ear...</td>\n",
       "      <td>cecilia.redditsubs.csv</td>\n",
       "    </tr>\n",
       "    <tr>\n",
       "      <th>242</th>\n",
       "      <td>Remember Vision 2030?</td>\n",
       "      <td>Man, nilikuwa like 10 years old when that thin...</td>\n",
       "      <td>development aid kenya</td>\n",
       "      <td>2025-05-10</td>\n",
       "      <td>https://www.reddit.com/r/Kenya/comments/1kjhsh...</td>\n",
       "      <td>Agatha_reddit.csv</td>\n",
       "    </tr>\n",
       "    <tr>\n",
       "      <th>62</th>\n",
       "      <td>Is There a Better Way to Fund Africa’s Infrast...</td>\n",
       "      <td>I'm researching a fintech concept rooted in a ...</td>\n",
       "      <td>kenya foreign aid</td>\n",
       "      <td>2025-04-20</td>\n",
       "      <td>https://www.reddit.com/r/Kenya/comments/1k3o7t...</td>\n",
       "      <td>Agatha_reddit.csv</td>\n",
       "    </tr>\n",
       "    <tr>\n",
       "      <th>1252</th>\n",
       "      <td>Why are Black boys still being forced to cut t...</td>\n",
       "      <td>I’ve been thinking about something deeply pers...</td>\n",
       "      <td>None</td>\n",
       "      <td>2025-05-22</td>\n",
       "      <td>https://www.reddit.com/r/Africa/comments/1ksxl...</td>\n",
       "      <td>ruth_reddit.csv</td>\n",
       "    </tr>\n",
       "    <tr>\n",
       "      <th>836</th>\n",
       "      <td>The Star today</td>\n",
       "      <td>Eh!</td>\n",
       "      <td>None</td>\n",
       "      <td>1970-01-01</td>\n",
       "      <td>https://i.redd.it/j5ws7z3sfa3f1.jpeg</td>\n",
       "      <td>leo_reddit_posts.csv</td>\n",
       "    </tr>\n",
       "    <tr>\n",
       "      <th>572</th>\n",
       "      <td>February 5 Foreign Aid Rally in DC - updated w...</td>\n",
       "      <td>https://www.usaidstopwork.com/rallyinformation...</td>\n",
       "      <td>USAID, foreign aid, foreign aid</td>\n",
       "      <td>2025-02-04</td>\n",
       "      <td>https://i.redd.it/8tn24iuit0he1.jpeg</td>\n",
       "      <td>cecilia.redditsubs.csv</td>\n",
       "    </tr>\n",
       "    <tr>\n",
       "      <th>479</th>\n",
       "      <td>USAID HIV FUND CUTS</td>\n",
       "      <td>Guys with the recent halting of funds for HIV,...</td>\n",
       "      <td>USAID</td>\n",
       "      <td>2025-02-28</td>\n",
       "      <td>https://www.reddit.com/r/Kenya/comments/1j0am0...</td>\n",
       "      <td>cecilia.redditsubs.csv</td>\n",
       "    </tr>\n",
       "    <tr>\n",
       "      <th>528</th>\n",
       "      <td>UK fast-tracks defence spending boost by cutti...</td>\n",
       "      <td>NaN</td>\n",
       "      <td>foreign aid, foreign aid</td>\n",
       "      <td>2025-02-25</td>\n",
       "      <td>https://news.sky.com/story/politics-latest-liv...</td>\n",
       "      <td>cecilia.redditsubs.csv</td>\n",
       "    </tr>\n",
       "  </tbody>\n",
       "</table>\n",
       "</div>"
      ],
      "text/plain": [
       "                                             post_title  \\\n",
       "193                                          USAID woes   \n",
       "1220    Incubators- The Infamous Startup Support Racket   \n",
       "614   As Trump guts foreign aid, China and others le...   \n",
       "242                               Remember Vision 2030?   \n",
       "62    Is There a Better Way to Fund Africa’s Infrast...   \n",
       "1252  Why are Black boys still being forced to cut t...   \n",
       "836                                      The Star today   \n",
       "572   February 5 Foreign Aid Rally in DC - updated w...   \n",
       "479                                 USAID HIV FUND CUTS   \n",
       "528   UK fast-tracks defence spending boost by cutti...   \n",
       "\n",
       "                                                   text  \\\n",
       "193   many people don't know how USAID made many Ken...   \n",
       "1220  Anyone else notice there’s a whole swarm of th...   \n",
       "614                                                 NaN   \n",
       "242   Man, nilikuwa like 10 years old when that thin...   \n",
       "62    I'm researching a fintech concept rooted in a ...   \n",
       "1252  I’ve been thinking about something deeply pers...   \n",
       "836                                                Eh!    \n",
       "572   https://www.usaidstopwork.com/rallyinformation...   \n",
       "479   Guys with the recent halting of funds for HIV,...   \n",
       "528                                                 NaN   \n",
       "\n",
       "                              keyword published_date  \\\n",
       "193           usaid kenya funding cut     2025-02-07   \n",
       "1220                             None     2025-06-09   \n",
       "614          foreign aid, foreign aid     2025-03-31   \n",
       "242             development aid kenya     2025-05-10   \n",
       "62                  kenya foreign aid     2025-04-20   \n",
       "1252                             None     2025-05-22   \n",
       "836                              None     1970-01-01   \n",
       "572   USAID, foreign aid, foreign aid     2025-02-04   \n",
       "479                             USAID     2025-02-28   \n",
       "528          foreign aid, foreign aid     2025-02-25   \n",
       "\n",
       "                                                    url  \\\n",
       "193   https://www.reddit.com/r/Kenya/comments/1ijyka...   \n",
       "1220  https://www.reddit.com/r/Kenya/comments/1l7367...   \n",
       "614   https://www.nbcnews.com/news/world/myanmar-ear...   \n",
       "242   https://www.reddit.com/r/Kenya/comments/1kjhsh...   \n",
       "62    https://www.reddit.com/r/Kenya/comments/1k3o7t...   \n",
       "1252  https://www.reddit.com/r/Africa/comments/1ksxl...   \n",
       "836                https://i.redd.it/j5ws7z3sfa3f1.jpeg   \n",
       "572                https://i.redd.it/8tn24iuit0he1.jpeg   \n",
       "479   https://www.reddit.com/r/Kenya/comments/1j0am0...   \n",
       "528   https://news.sky.com/story/politics-latest-liv...   \n",
       "\n",
       "                 source_file  \n",
       "193        Agatha_reddit.csv  \n",
       "1220         ruth_reddit.csv  \n",
       "614   cecilia.redditsubs.csv  \n",
       "242        Agatha_reddit.csv  \n",
       "62         Agatha_reddit.csv  \n",
       "1252         ruth_reddit.csv  \n",
       "836     leo_reddit_posts.csv  \n",
       "572   cecilia.redditsubs.csv  \n",
       "479   cecilia.redditsubs.csv  \n",
       "528   cecilia.redditsubs.csv  "
      ]
     },
     "execution_count": 28,
     "metadata": {},
     "output_type": "execute_result"
    }
   ],
   "source": [
    "combined_df.sample(10) #random sample of 10 rows"
   ]
  },
  {
   "cell_type": "markdown",
   "id": "9db6c968",
   "metadata": {},
   "source": [
    "### Save the final merged dataframe to csv"
   ]
  },
  {
   "cell_type": "code",
   "execution_count": 29,
   "id": "be3f73dc",
   "metadata": {},
   "outputs": [
    {
     "name": "stdout",
     "output_type": "stream",
     "text": [
      " Results successfully saved to:\n",
      "C:/Users/hp/Desktop/DATA NEXUS PROJECTS/USAID-Kenya-Sentiment-Analysis/data/processed/Cecilia_merged_reddit_dataset.csv\n"
     ]
    }
   ],
   "source": [
    "# Save to CSV \n",
    "if not combined_df.empty:\n",
    "    output_filename = \"C:/Users/hp/Desktop/DATA NEXUS PROJECTS/USAID-Kenya-Sentiment-Analysis/data/processed/Cecilia_merged_reddit_dataset.csv\"\n",
    "    combined_df.to_csv(output_filename, index=False, encoding='utf-8')\n",
    "    print(f\" Results successfully saved to:\\n{output_filename}\")\n",
    "else:\n",
    "    print(\" No data to save. The DataFrame is empty.\")\n"
   ]
  },
  {
   "cell_type": "code",
   "execution_count": null,
   "id": "4313f5e3",
   "metadata": {},
   "outputs": [],
   "source": []
  },
  {
   "cell_type": "markdown",
   "id": "a05bf2ed",
   "metadata": {},
   "source": [
    "# Merging News CSV Files"
   ]
  },
  {
   "cell_type": "markdown",
   "id": "2e616e2e",
   "metadata": {},
   "source": [
    "### Import necessary libraries"
   ]
  },
  {
   "cell_type": "code",
   "execution_count": 30,
   "id": "350238dc",
   "metadata": {},
   "outputs": [],
   "source": [
    "import pandas as pd\n",
    "import glob\n",
    "import os\n"
   ]
  },
  {
   "cell_type": "markdown",
   "id": "a18c8d34",
   "metadata": {},
   "source": [
    "### Folder path"
   ]
  },
  {
   "cell_type": "code",
   "execution_count": 31,
   "id": "f0bc11b4",
   "metadata": {},
   "outputs": [],
   "source": [
    "folder_path = 'C:/Users/hp/Desktop/DATA NEXUS PROJECTS/USAID-Kenya-Sentiment-Analysis/data/raw/news_data'\n"
   ]
  },
  {
   "cell_type": "markdown",
   "id": "0394822b",
   "metadata": {},
   "source": [
    "### CSV file paths"
   ]
  },
  {
   "cell_type": "code",
   "execution_count": 32,
   "id": "015bbad0",
   "metadata": {},
   "outputs": [
    {
     "data": {
      "text/plain": [
       "['C:/Users/hp/Desktop/DATA NEXUS PROJECTS/USAID-Kenya-Sentiment-Analysis/data/raw/news_data\\\\Agatha_news_fulltext.csv',\n",
       " 'C:/Users/hp/Desktop/DATA NEXUS PROJECTS/USAID-Kenya-Sentiment-Analysis/data/raw/news_data\\\\cecilia.newsapi.csv',\n",
       " 'C:/Users/hp/Desktop/DATA NEXUS PROJECTS/USAID-Kenya-Sentiment-Analysis/data/raw/news_data\\\\leo_newsapi_articles_enriched.csv',\n",
       " 'C:/Users/hp/Desktop/DATA NEXUS PROJECTS/USAID-Kenya-Sentiment-Analysis/data/raw/news_data\\\\Mbego_news_usaid_kenya_fulltext.csv',\n",
       " 'C:/Users/hp/Desktop/DATA NEXUS PROJECTS/USAID-Kenya-Sentiment-Analysis/data/raw/news_data\\\\Mbego_news_usaid_kenya_recent.csv',\n",
       " 'C:/Users/hp/Desktop/DATA NEXUS PROJECTS/USAID-Kenya-Sentiment-Analysis/data/raw/news_data\\\\newsapi_usaid_articles.csv',\n",
       " 'C:/Users/hp/Desktop/DATA NEXUS PROJECTS/USAID-Kenya-Sentiment-Analysis/data/raw/news_data\\\\ruth_news.csv']"
      ]
     },
     "execution_count": 32,
     "metadata": {},
     "output_type": "execute_result"
    }
   ],
   "source": [
    "folder_path = 'C:/Users/hp/Desktop/DATA NEXUS PROJECTS/USAID-Kenya-Sentiment-Analysis/data/raw/news_data'\n",
    "omit_file = os.path.join(folder_path, 'Agatha_news.csv')\n",
    "\n",
    "news_csv_files = glob.glob(os.path.join(folder_path, '*.csv'))\n",
    "news_csv_files = [f for f in news_csv_files if os.path.normpath(f) != os.path.normpath(omit_file)]\n",
    "\n",
    "news_csv_files\n"
   ]
  },
  {
   "cell_type": "markdown",
   "id": "74983ad8",
   "metadata": {},
   "source": [
    "### Reading the files and combining them into one dataframe"
   ]
  },
  {
   "cell_type": "code",
   "execution_count": 40,
   "id": "02b6885f",
   "metadata": {},
   "outputs": [
    {
     "name": "stdout",
     "output_type": "stream",
     "text": [
      "NewsAPI data saved to:\n",
      "C:/Users/hp/Desktop/DATA NEXUS PROJECTS/USAID-Kenya-Sentiment-Analysis/data/processed/Cecilia_merged_news_dataset.csv\n"
     ]
    }
   ],
   "source": [
    "import pandas as pd\n",
    "import os\n",
    "\n",
    "news_columns = ['title', 'description', 'text', 'url', 'keyword', 'published_date', 'source_file']\n",
    "all_news_dfs = []\n",
    "\n",
    "for file in news_csv_files:  \n",
    "    df = pd.read_csv(file)\n",
    "\n",
    "    # Rename content to text \n",
    "    if 'content' in df.columns and 'text' not in df.columns:\n",
    "        df.rename(columns={'content': 'text'}, inplace=True)\n",
    "\n",
    "    # Rename publishedAt to published_date\n",
    "    if 'publishedAt' in df.columns:\n",
    "        df.rename(columns={'publishedAt': 'published_date'}, inplace=True)\n",
    "\n",
    "    # Add missing columns\n",
    "    for col in news_columns:\n",
    "        if col not in df.columns:\n",
    "            df[col] = None\n",
    "\n",
    "    # Convert published_date to datetime\n",
    "    df['published_date'] = pd.to_datetime(df['published_date'], errors='coerce')\n",
    "\n",
    "#     # Extract time from published_date, then drop it\n",
    "#     df['time'] = df['published_date'].dt.time\n",
    "#     df['published_date'] = df['published_date'].dt.date\n",
    "#     df.drop(columns='time', inplace=True)\n",
    "\n",
    "    # source file info\n",
    "    df['source_file'] = os.path.basename(file)\n",
    "\n",
    "    # standardized columns\n",
    "    df = df[news_columns]\n",
    "    all_news_dfs.append(df)\n",
    "\n",
    "# Combine all\n",
    "news_combined_df = pd.concat(all_news_dfs, ignore_index=True)\n",
    "\n",
    "# Save to CSV\n",
    "output_path = \"C:/Users/hp/Desktop/DATA NEXUS PROJECTS/USAID-Kenya-Sentiment-Analysis/data/processed/Cecilia_merged_news_dataset.csv\"\n",
    "if not news_combined_df.empty:\n",
    "    news_combined_df.to_csv(output_path, index=False, encoding='utf-8')\n",
    "    print(f\"NewsAPI data saved to:\\n{output_path}\")\n",
    "else:\n",
    "    print(\"No NewsAPI data to save. DataFrame is empty.\")\n"
   ]
  },
  {
   "cell_type": "code",
   "execution_count": 35,
   "id": "faed2a11",
   "metadata": {},
   "outputs": [
    {
     "data": {
      "text/plain": [
       "(2608, 7)"
      ]
     },
     "execution_count": 35,
     "metadata": {},
     "output_type": "execute_result"
    }
   ],
   "source": [
    "news_combined_df.shape"
   ]
  },
  {
   "cell_type": "code",
   "execution_count": 36,
   "id": "f6465239",
   "metadata": {},
   "outputs": [
    {
     "data": {
      "text/html": [
       "<div>\n",
       "<style scoped>\n",
       "    .dataframe tbody tr th:only-of-type {\n",
       "        vertical-align: middle;\n",
       "    }\n",
       "\n",
       "    .dataframe tbody tr th {\n",
       "        vertical-align: top;\n",
       "    }\n",
       "\n",
       "    .dataframe thead th {\n",
       "        text-align: right;\n",
       "    }\n",
       "</style>\n",
       "<table border=\"1\" class=\"dataframe\">\n",
       "  <thead>\n",
       "    <tr style=\"text-align: right;\">\n",
       "      <th></th>\n",
       "      <th>title</th>\n",
       "      <th>description</th>\n",
       "      <th>text</th>\n",
       "      <th>url</th>\n",
       "      <th>keyword</th>\n",
       "      <th>published_date</th>\n",
       "      <th>source_file</th>\n",
       "    </tr>\n",
       "  </thead>\n",
       "  <tbody>\n",
       "    <tr>\n",
       "      <th>719</th>\n",
       "      <td>House Votes To Rescind PBS, NPR And Public Bro...</td>\n",
       "      <td>The House of Representatives put the future of...</td>\n",
       "      <td>The House of Representatives put the future of...</td>\n",
       "      <td>http://deadline.com/2025/06/house-cuts-pbs-npr...</td>\n",
       "      <td>foreign aid</td>\n",
       "      <td>2025-06-12 19:54:56+00:00</td>\n",
       "      <td>cecilia.newsapi.csv</td>\n",
       "    </tr>\n",
       "    <tr>\n",
       "      <th>1084</th>\n",
       "      <td>UN demands probe as Israeli forces kill more p...</td>\n",
       "      <td>UN Secretary-General Antonio Guterres calls fo...</td>\n",
       "      <td>Israeli forces have opened fire again on Pales...</td>\n",
       "      <td>https://www.aljazeera.com/news/2025/6/2/israel...</td>\n",
       "      <td>cut aid</td>\n",
       "      <td>2025-06-02 20:59:03+00:00</td>\n",
       "      <td>cecilia.newsapi.csv</td>\n",
       "    </tr>\n",
       "    <tr>\n",
       "      <th>835</th>\n",
       "      <td>18 Research Universities Back Harvard’s Lawsui...</td>\n",
       "      <td>18 research universities have requested permis...</td>\n",
       "      <td>Harvard University receives new backing from 1...</td>\n",
       "      <td>https://www.forbes.com/sites/michaeltnietzel/2...</td>\n",
       "      <td>funding cuts</td>\n",
       "      <td>2025-06-07 13:08:27+00:00</td>\n",
       "      <td>cecilia.newsapi.csv</td>\n",
       "    </tr>\n",
       "    <tr>\n",
       "      <th>13</th>\n",
       "      <td>Between Washington and Beijing</td>\n",
       "      <td>None</td>\n",
       "      <td>The global economic balance of power is shifti...</td>\n",
       "      <td>https://africasacountry.com/2025/06/between-wa...</td>\n",
       "      <td>usaid kenya</td>\n",
       "      <td>NaN</td>\n",
       "      <td>Agatha_news_fulltext.csv</td>\n",
       "    </tr>\n",
       "    <tr>\n",
       "      <th>12</th>\n",
       "      <td>How Trump Is Transforming Higher Education: Th...</td>\n",
       "      <td>None</td>\n",
       "      <td>At universities in California, Illinois, Louis...</td>\n",
       "      <td>https://www.thenation.com/article/society/trum...</td>\n",
       "      <td>usaid kenya</td>\n",
       "      <td>2025-06-15 08:45:00+00:00</td>\n",
       "      <td>Agatha_news_fulltext.csv</td>\n",
       "    </tr>\n",
       "    <tr>\n",
       "      <th>1195</th>\n",
       "      <td>Elon Musk Says Trump’s ‘Big, Beautiful’ Bill ‘...</td>\n",
       "      <td>The billionaire presidential adviser said he w...</td>\n",
       "      <td>Elon Musk, the billionaire tech mogul who had ...</td>\n",
       "      <td>https://time.com/7289045/musk-trump-big-beauti...</td>\n",
       "      <td>budget cuts</td>\n",
       "      <td>2025-05-28 06:00:00+00:00</td>\n",
       "      <td>cecilia.newsapi.csv</td>\n",
       "    </tr>\n",
       "    <tr>\n",
       "      <th>138</th>\n",
       "      <td>Trump's plan to make Elon Musk's DOGE cuts leg...</td>\n",
       "      <td>None</td>\n",
       "      <td>President Donald Trump sent Congress a memo Tu...</td>\n",
       "      <td>https://www.msnbc.com/opinion/msnbc-opinion/tr...</td>\n",
       "      <td>usaid budget cut</td>\n",
       "      <td>2025-06-05 10:00:41+00:00</td>\n",
       "      <td>Agatha_news_fulltext.csv</td>\n",
       "    </tr>\n",
       "    <tr>\n",
       "      <th>2439</th>\n",
       "      <td>Bono tells Joe Rogan US global aid cuts have l...</td>\n",
       "      <td>U2 frontman Bono has said 300,000 people have ...</td>\n",
       "      <td>U2 frontman Bono has said 300,000 people have ...</td>\n",
       "      <td>https://www.independent.ie/irish-news/bono-tel...</td>\n",
       "      <td>None</td>\n",
       "      <td>NaN</td>\n",
       "      <td>leo_newsapi_articles_enriched.csv</td>\n",
       "    </tr>\n",
       "    <tr>\n",
       "      <th>533</th>\n",
       "      <td>Predictive Capital – Roads to terminal alienat...</td>\n",
       "      <td>None</td>\n",
       "      <td>Prologue\\r\\n\\r\\nFor my family &amp; in loving memo...</td>\n",
       "      <td>https://www.creativeapplications.net/theory/pr...</td>\n",
       "      <td>funding reduction kenya</td>\n",
       "      <td>2025-06-09 13:20:37+01:00</td>\n",
       "      <td>Agatha_news_fulltext.csv</td>\n",
       "    </tr>\n",
       "    <tr>\n",
       "      <th>405</th>\n",
       "      <td>Trump says he had 'good' call with Putin but p...</td>\n",
       "      <td>None</td>\n",
       "      <td>The call comes as Ukraine is pushing for U.S. ...</td>\n",
       "      <td>https://abcnews.go.com/International/ukraine-s...</td>\n",
       "      <td>foreign aid withdrawal</td>\n",
       "      <td>NaN</td>\n",
       "      <td>Agatha_news_fulltext.csv</td>\n",
       "    </tr>\n",
       "  </tbody>\n",
       "</table>\n",
       "</div>"
      ],
      "text/plain": [
       "                                                  title  \\\n",
       "719   House Votes To Rescind PBS, NPR And Public Bro...   \n",
       "1084  UN demands probe as Israeli forces kill more p...   \n",
       "835   18 Research Universities Back Harvard’s Lawsui...   \n",
       "13                       Between Washington and Beijing   \n",
       "12    How Trump Is Transforming Higher Education: Th...   \n",
       "1195  Elon Musk Says Trump’s ‘Big, Beautiful’ Bill ‘...   \n",
       "138   Trump's plan to make Elon Musk's DOGE cuts leg...   \n",
       "2439  Bono tells Joe Rogan US global aid cuts have l...   \n",
       "533   Predictive Capital – Roads to terminal alienat...   \n",
       "405   Trump says he had 'good' call with Putin but p...   \n",
       "\n",
       "                                            description  \\\n",
       "719   The House of Representatives put the future of...   \n",
       "1084  UN Secretary-General Antonio Guterres calls fo...   \n",
       "835   18 research universities have requested permis...   \n",
       "13                                                 None   \n",
       "12                                                 None   \n",
       "1195  The billionaire presidential adviser said he w...   \n",
       "138                                                None   \n",
       "2439  U2 frontman Bono has said 300,000 people have ...   \n",
       "533                                                None   \n",
       "405                                                None   \n",
       "\n",
       "                                                   text  \\\n",
       "719   The House of Representatives put the future of...   \n",
       "1084  Israeli forces have opened fire again on Pales...   \n",
       "835   Harvard University receives new backing from 1...   \n",
       "13    The global economic balance of power is shifti...   \n",
       "12    At universities in California, Illinois, Louis...   \n",
       "1195  Elon Musk, the billionaire tech mogul who had ...   \n",
       "138   President Donald Trump sent Congress a memo Tu...   \n",
       "2439  U2 frontman Bono has said 300,000 people have ...   \n",
       "533   Prologue\\r\\n\\r\\nFor my family & in loving memo...   \n",
       "405   The call comes as Ukraine is pushing for U.S. ...   \n",
       "\n",
       "                                                    url  \\\n",
       "719   http://deadline.com/2025/06/house-cuts-pbs-npr...   \n",
       "1084  https://www.aljazeera.com/news/2025/6/2/israel...   \n",
       "835   https://www.forbes.com/sites/michaeltnietzel/2...   \n",
       "13    https://africasacountry.com/2025/06/between-wa...   \n",
       "12    https://www.thenation.com/article/society/trum...   \n",
       "1195  https://time.com/7289045/musk-trump-big-beauti...   \n",
       "138   https://www.msnbc.com/opinion/msnbc-opinion/tr...   \n",
       "2439  https://www.independent.ie/irish-news/bono-tel...   \n",
       "533   https://www.creativeapplications.net/theory/pr...   \n",
       "405   https://abcnews.go.com/International/ukraine-s...   \n",
       "\n",
       "                      keyword             published_date  \\\n",
       "719               foreign aid  2025-06-12 19:54:56+00:00   \n",
       "1084                  cut aid  2025-06-02 20:59:03+00:00   \n",
       "835              funding cuts  2025-06-07 13:08:27+00:00   \n",
       "13                usaid kenya                        NaN   \n",
       "12                usaid kenya  2025-06-15 08:45:00+00:00   \n",
       "1195              budget cuts  2025-05-28 06:00:00+00:00   \n",
       "138          usaid budget cut  2025-06-05 10:00:41+00:00   \n",
       "2439                     None                        NaN   \n",
       "533   funding reduction kenya  2025-06-09 13:20:37+01:00   \n",
       "405    foreign aid withdrawal                        NaN   \n",
       "\n",
       "                            source_file  \n",
       "719                 cecilia.newsapi.csv  \n",
       "1084                cecilia.newsapi.csv  \n",
       "835                 cecilia.newsapi.csv  \n",
       "13             Agatha_news_fulltext.csv  \n",
       "12             Agatha_news_fulltext.csv  \n",
       "1195                cecilia.newsapi.csv  \n",
       "138            Agatha_news_fulltext.csv  \n",
       "2439  leo_newsapi_articles_enriched.csv  \n",
       "533            Agatha_news_fulltext.csv  \n",
       "405            Agatha_news_fulltext.csv  "
      ]
     },
     "execution_count": 36,
     "metadata": {},
     "output_type": "execute_result"
    }
   ],
   "source": [
    "news_combined_df.sample(10)"
   ]
  },
  {
   "cell_type": "code",
   "execution_count": 37,
   "id": "93b5781e",
   "metadata": {},
   "outputs": [
    {
     "data": {
      "text/plain": [
       "title               0\n",
       "description       577\n",
       "text               29\n",
       "url                 2\n",
       "keyword           259\n",
       "published_date    317\n",
       "source_file         0\n",
       "dtype: int64"
      ]
     },
     "execution_count": 37,
     "metadata": {},
     "output_type": "execute_result"
    }
   ],
   "source": [
    "news_combined_df.isna().sum()"
   ]
  },
  {
   "cell_type": "code",
   "execution_count": 38,
   "id": "2a953749",
   "metadata": {},
   "outputs": [],
   "source": [
    "import pandas as pd"
   ]
  },
  {
   "cell_type": "code",
   "execution_count": 39,
   "id": "736094ac",
   "metadata": {},
   "outputs": [
    {
     "data": {
      "text/html": [
       "<div>\n",
       "<style scoped>\n",
       "    .dataframe tbody tr th:only-of-type {\n",
       "        vertical-align: middle;\n",
       "    }\n",
       "\n",
       "    .dataframe tbody tr th {\n",
       "        vertical-align: top;\n",
       "    }\n",
       "\n",
       "    .dataframe thead th {\n",
       "        text-align: right;\n",
       "    }\n",
       "</style>\n",
       "<table border=\"1\" class=\"dataframe\">\n",
       "  <thead>\n",
       "    <tr style=\"text-align: right;\">\n",
       "      <th></th>\n",
       "      <th>title</th>\n",
       "      <th>description</th>\n",
       "      <th>text</th>\n",
       "      <th>url</th>\n",
       "      <th>keyword</th>\n",
       "      <th>published_date</th>\n",
       "      <th>source_file</th>\n",
       "    </tr>\n",
       "  </thead>\n",
       "  <tbody>\n",
       "    <tr>\n",
       "      <th>240</th>\n",
       "      <td>How El Salvador’s Government Impeded a Probe o...</td>\n",
       "      <td>NaN</td>\n",
       "      <td>Get your news from a source that’s not owned a...</td>\n",
       "      <td>https://www.motherjones.com/politics/2025/06/h...</td>\n",
       "      <td>usaid suspended funding</td>\n",
       "      <td>2025-06-13 16:05:30</td>\n",
       "      <td>Agatha_news_fulltext.csv</td>\n",
       "    </tr>\n",
       "    <tr>\n",
       "      <th>241</th>\n",
       "      <td>Global Health Governance in the Age of AI</td>\n",
       "      <td>NaN</td>\n",
       "      <td>The systems designed to shield the world from ...</td>\n",
       "      <td>https://www.thinkglobalhealth.org/article/glob...</td>\n",
       "      <td>usaid suspended funding</td>\n",
       "      <td>NaN</td>\n",
       "      <td>Agatha_news_fulltext.csv</td>\n",
       "    </tr>\n",
       "    <tr>\n",
       "      <th>242</th>\n",
       "      <td>Corporates Bail Out of LGBTQIA+ Pride, DEI &amp; ‘...</td>\n",
       "      <td>NaN</td>\n",
       "      <td>Corporates Bail Out of LGBTQIA+ Pride, DEI &amp; ‘...</td>\n",
       "      <td>https://www.sinhalanet.net/corporates-bail-out...</td>\n",
       "      <td>usaid suspended funding</td>\n",
       "      <td>NaN</td>\n",
       "      <td>Agatha_news_fulltext.csv</td>\n",
       "    </tr>\n",
       "    <tr>\n",
       "      <th>243</th>\n",
       "      <td>Sorry, Mr Gates, your billions won’t save Africa</td>\n",
       "      <td>NaN</td>\n",
       "      <td>On June 2 while addressing an audience in the ...</td>\n",
       "      <td>https://www.aljazeera.com/opinions/2025/6/13/s...</td>\n",
       "      <td>development aid kenya</td>\n",
       "      <td>2025-06-13 00:00:00</td>\n",
       "      <td>Agatha_news_fulltext.csv</td>\n",
       "    </tr>\n",
       "    <tr>\n",
       "      <th>244</th>\n",
       "      <td>Africa’s Creative Boom</td>\n",
       "      <td>NaN</td>\n",
       "      <td>Africa’s creative industries are expanding rap...</td>\n",
       "      <td>https://www.project-syndicate.org/commentary/h...</td>\n",
       "      <td>development aid kenya</td>\n",
       "      <td>NaN</td>\n",
       "      <td>Agatha_news_fulltext.csv</td>\n",
       "    </tr>\n",
       "    <tr>\n",
       "      <th>...</th>\n",
       "      <td>...</td>\n",
       "      <td>...</td>\n",
       "      <td>...</td>\n",
       "      <td>...</td>\n",
       "      <td>...</td>\n",
       "      <td>...</td>\n",
       "      <td>...</td>\n",
       "    </tr>\n",
       "    <tr>\n",
       "      <th>2595</th>\n",
       "      <td>Has DOGE really saved the US government $180bn?</td>\n",
       "      <td>Elon Musk first claimed the department would m...</td>\n",
       "      <td>President Donald Trump and adviser Elon Musk c...</td>\n",
       "      <td>https://www.aljazeera.com/news/2025/6/6/has-do...</td>\n",
       "      <td>NaN</td>\n",
       "      <td>2025-06-06 11:21:51+00:00</td>\n",
       "      <td>ruth_news.csv</td>\n",
       "    </tr>\n",
       "    <tr>\n",
       "      <th>2596</th>\n",
       "      <td>Reimagining Antimicrobial Resistance (AMR) fin...</td>\n",
       "      <td>By guest contributors Sherin Paul and Mirfin M...</td>\n",
       "      <td>By guest contributors Sherin Paul and Mirfin M...</td>\n",
       "      <td>https://speakingofmedicine.plos.org/2025/06/05...</td>\n",
       "      <td>NaN</td>\n",
       "      <td>2025-06-05 20:02:02+00:00</td>\n",
       "      <td>ruth_news.csv</td>\n",
       "    </tr>\n",
       "    <tr>\n",
       "      <th>2597</th>\n",
       "      <td>Integrating Nature-based Solutions for urban w...</td>\n",
       "      <td>Nature-based solutions (NbS) leverage the powe...</td>\n",
       "      <td>Abstract\\r\\nNature-based solutions (NbS) lever...</td>\n",
       "      <td>https://journals.plos.org/water/article?id=10....</td>\n",
       "      <td>NaN</td>\n",
       "      <td>2025-06-05 14:00:00+00:00</td>\n",
       "      <td>ruth_news.csv</td>\n",
       "    </tr>\n",
       "    <tr>\n",
       "      <th>2598</th>\n",
       "      <td>Between Washington and Beijing</td>\n",
       "      <td>Amid Trump’s tariffs, Africa faces trade disru...</td>\n",
       "      <td>Amid Trump’s tariffs, Africa faces trade disru...</td>\n",
       "      <td>https://africasacountry.com/2025/06/between-wa...</td>\n",
       "      <td>NaN</td>\n",
       "      <td>2025-06-04 12:14:54+00:00</td>\n",
       "      <td>ruth_news.csv</td>\n",
       "    </tr>\n",
       "    <tr>\n",
       "      <th>2599</th>\n",
       "      <td>Bill Gates to give most of $200 billion fund t...</td>\n",
       "      <td>Bill Gates has urged African leaders to join h...</td>\n",
       "      <td>US billionaire Bill Gates on Tuesday announced...</td>\n",
       "      <td>https://www.dw.com/en/bill-gates-to-give-most-...</td>\n",
       "      <td>NaN</td>\n",
       "      <td>2025-06-03 07:09:00+00:00</td>\n",
       "      <td>ruth_news.csv</td>\n",
       "    </tr>\n",
       "  </tbody>\n",
       "</table>\n",
       "<p>2360 rows × 7 columns</p>\n",
       "</div>"
      ],
      "text/plain": [
       "                                                  title  \\\n",
       "240   How El Salvador’s Government Impeded a Probe o...   \n",
       "241           Global Health Governance in the Age of AI   \n",
       "242   Corporates Bail Out of LGBTQIA+ Pride, DEI & ‘...   \n",
       "243    Sorry, Mr Gates, your billions won’t save Africa   \n",
       "244                              Africa’s Creative Boom   \n",
       "...                                                 ...   \n",
       "2595    Has DOGE really saved the US government $180bn?   \n",
       "2596  Reimagining Antimicrobial Resistance (AMR) fin...   \n",
       "2597  Integrating Nature-based Solutions for urban w...   \n",
       "2598                     Between Washington and Beijing   \n",
       "2599  Bill Gates to give most of $200 billion fund t...   \n",
       "\n",
       "                                            description  \\\n",
       "240                                                 NaN   \n",
       "241                                                 NaN   \n",
       "242                                                 NaN   \n",
       "243                                                 NaN   \n",
       "244                                                 NaN   \n",
       "...                                                 ...   \n",
       "2595  Elon Musk first claimed the department would m...   \n",
       "2596  By guest contributors Sherin Paul and Mirfin M...   \n",
       "2597  Nature-based solutions (NbS) leverage the powe...   \n",
       "2598  Amid Trump’s tariffs, Africa faces trade disru...   \n",
       "2599  Bill Gates has urged African leaders to join h...   \n",
       "\n",
       "                                                   text  \\\n",
       "240   Get your news from a source that’s not owned a...   \n",
       "241   The systems designed to shield the world from ...   \n",
       "242   Corporates Bail Out of LGBTQIA+ Pride, DEI & ‘...   \n",
       "243   On June 2 while addressing an audience in the ...   \n",
       "244   Africa’s creative industries are expanding rap...   \n",
       "...                                                 ...   \n",
       "2595  President Donald Trump and adviser Elon Musk c...   \n",
       "2596  By guest contributors Sherin Paul and Mirfin M...   \n",
       "2597  Abstract\\r\\nNature-based solutions (NbS) lever...   \n",
       "2598  Amid Trump’s tariffs, Africa faces trade disru...   \n",
       "2599  US billionaire Bill Gates on Tuesday announced...   \n",
       "\n",
       "                                                    url  \\\n",
       "240   https://www.motherjones.com/politics/2025/06/h...   \n",
       "241   https://www.thinkglobalhealth.org/article/glob...   \n",
       "242   https://www.sinhalanet.net/corporates-bail-out...   \n",
       "243   https://www.aljazeera.com/opinions/2025/6/13/s...   \n",
       "244   https://www.project-syndicate.org/commentary/h...   \n",
       "...                                                 ...   \n",
       "2595  https://www.aljazeera.com/news/2025/6/6/has-do...   \n",
       "2596  https://speakingofmedicine.plos.org/2025/06/05...   \n",
       "2597  https://journals.plos.org/water/article?id=10....   \n",
       "2598  https://africasacountry.com/2025/06/between-wa...   \n",
       "2599  https://www.dw.com/en/bill-gates-to-give-most-...   \n",
       "\n",
       "                      keyword             published_date  \\\n",
       "240   usaid suspended funding        2025-06-13 16:05:30   \n",
       "241   usaid suspended funding                        NaN   \n",
       "242   usaid suspended funding                        NaN   \n",
       "243     development aid kenya        2025-06-13 00:00:00   \n",
       "244     development aid kenya                        NaN   \n",
       "...                       ...                        ...   \n",
       "2595                      NaN  2025-06-06 11:21:51+00:00   \n",
       "2596                      NaN  2025-06-05 20:02:02+00:00   \n",
       "2597                      NaN  2025-06-05 14:00:00+00:00   \n",
       "2598                      NaN  2025-06-04 12:14:54+00:00   \n",
       "2599                      NaN  2025-06-03 07:09:00+00:00   \n",
       "\n",
       "                   source_file  \n",
       "240   Agatha_news_fulltext.csv  \n",
       "241   Agatha_news_fulltext.csv  \n",
       "242   Agatha_news_fulltext.csv  \n",
       "243   Agatha_news_fulltext.csv  \n",
       "244   Agatha_news_fulltext.csv  \n",
       "...                        ...  \n",
       "2595             ruth_news.csv  \n",
       "2596             ruth_news.csv  \n",
       "2597             ruth_news.csv  \n",
       "2598             ruth_news.csv  \n",
       "2599             ruth_news.csv  \n",
       "\n",
       "[2360 rows x 7 columns]"
      ]
     },
     "execution_count": 39,
     "metadata": {},
     "output_type": "execute_result"
    }
   ],
   "source": [
    "df = pd.read_csv('C:/Users/hp/Desktop/DATA NEXUS PROJECTS/USAID-Kenya-Sentiment-Analysis/data/processed/Cecilia_merged_news_datasets.csv')\n",
    "sample_df = df.iloc[240:2600]\n",
    "sample_df"
   ]
  },
  {
   "cell_type": "code",
   "execution_count": null,
   "id": "ed586089",
   "metadata": {},
   "outputs": [],
   "source": []
  }
 ],
 "metadata": {
  "kernelspec": {
   "display_name": "Python 3 (ipykernel)",
   "language": "python",
   "name": "python3"
  },
  "language_info": {
   "codemirror_mode": {
    "name": "ipython",
    "version": 3
   },
   "file_extension": ".py",
   "mimetype": "text/x-python",
   "name": "python",
   "nbconvert_exporter": "python",
   "pygments_lexer": "ipython3",
   "version": "3.9.7"
  }
 },
 "nbformat": 4,
 "nbformat_minor": 5
}
