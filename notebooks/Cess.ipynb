{
 "cells": [
  {
   "cell_type": "markdown",
   "id": "962045ac",
   "metadata": {},
   "source": [
    "# USAID-Kenya-Sentiment-Analysis"
   ]
  },
  {
   "cell_type": "markdown",
   "id": "6acc0606",
   "metadata": {},
   "source": [
    "#    Merging Reddit CSV Files"
   ]
  },
  {
   "cell_type": "markdown",
   "id": "b99dd2b5",
   "metadata": {},
   "source": [
    "### Import neccessary libraries"
   ]
  },
  {
   "cell_type": "code",
   "execution_count": 1,
   "id": "2605d0a6",
   "metadata": {},
   "outputs": [],
   "source": [
    "import pandas as pd\n",
    "import glob\n",
    "import os\n"
   ]
  },
  {
   "cell_type": "markdown",
   "id": "5e1cd992",
   "metadata": {},
   "source": [
    "### Folder path"
   ]
  },
  {
   "cell_type": "code",
   "execution_count": 2,
   "id": "df600c9e",
   "metadata": {},
   "outputs": [],
   "source": [
    "folder_path = 'C:/Users/hp/Desktop/DATA NEXUS PROJECTS/USAID-Kenya-Sentiment-Analysis/data/raw/reddit_data'\n"
   ]
  },
  {
   "cell_type": "markdown",
   "id": "7fcb97c1",
   "metadata": {},
   "source": [
    "### CSV file paths"
   ]
  },
  {
   "cell_type": "code",
   "execution_count": 3,
   "id": "b50625d4",
   "metadata": {},
   "outputs": [
    {
     "data": {
      "text/plain": [
       "['C:/Users/hp/Desktop/DATA NEXUS PROJECTS/USAID-Kenya-Sentiment-Analysis/data/raw/reddit_data\\\\Agatha_reddit.csv',\n",
       " 'C:/Users/hp/Desktop/DATA NEXUS PROJECTS/USAID-Kenya-Sentiment-Analysis/data/raw/reddit_data\\\\cecilia.redditsubs.csv',\n",
       " 'C:/Users/hp/Desktop/DATA NEXUS PROJECTS/USAID-Kenya-Sentiment-Analysis/data/raw/reddit_data\\\\cecilia.reddit_nbo_ke_africa.csv',\n",
       " 'C:/Users/hp/Desktop/DATA NEXUS PROJECTS/USAID-Kenya-Sentiment-Analysis/data/raw/reddit_data\\\\leo_reddit_posts.csv',\n",
       " 'C:/Users/hp/Desktop/DATA NEXUS PROJECTS/USAID-Kenya-Sentiment-Analysis/data/raw/reddit_data\\\\Mbego_reddit_usaid_kenya.csv',\n",
       " 'C:/Users/hp/Desktop/DATA NEXUS PROJECTS/USAID-Kenya-Sentiment-Analysis/data/raw/reddit_data\\\\Mbego_reddit_usaid_kenya2.csv',\n",
       " 'C:/Users/hp/Desktop/DATA NEXUS PROJECTS/USAID-Kenya-Sentiment-Analysis/data/raw/reddit_data\\\\reddit_usaid_kenya.csv',\n",
       " 'C:/Users/hp/Desktop/DATA NEXUS PROJECTS/USAID-Kenya-Sentiment-Analysis/data/raw/reddit_data\\\\reddit_usaid_sentiment.csv',\n",
       " 'C:/Users/hp/Desktop/DATA NEXUS PROJECTS/USAID-Kenya-Sentiment-Analysis/data/raw/reddit_data\\\\ruth_reddit.csv']"
      ]
     },
     "execution_count": 3,
     "metadata": {},
     "output_type": "execute_result"
    }
   ],
   "source": [
    "csv_files = glob.glob(os.path.join(folder_path, '*.csv'))\n",
    "csv_files"
   ]
  },
  {
   "cell_type": "markdown",
   "id": "c37cff96",
   "metadata": {},
   "source": [
    "### Reading the files and combining them into one dataframe"
   ]
  },
  {
   "cell_type": "code",
   "execution_count": 4,
   "id": "f874996c",
   "metadata": {},
   "outputs": [
    {
     "data": {
      "text/html": [
       "<div>\n",
       "<style scoped>\n",
       "    .dataframe tbody tr th:only-of-type {\n",
       "        vertical-align: middle;\n",
       "    }\n",
       "\n",
       "    .dataframe tbody tr th {\n",
       "        vertical-align: top;\n",
       "    }\n",
       "\n",
       "    .dataframe thead th {\n",
       "        text-align: right;\n",
       "    }\n",
       "</style>\n",
       "<table border=\"1\" class=\"dataframe\">\n",
       "  <thead>\n",
       "    <tr style=\"text-align: right;\">\n",
       "      <th></th>\n",
       "      <th>post_title</th>\n",
       "      <th>text</th>\n",
       "      <th>keyword</th>\n",
       "      <th>published_date</th>\n",
       "      <th>url</th>\n",
       "      <th>source_file</th>\n",
       "    </tr>\n",
       "  </thead>\n",
       "  <tbody>\n",
       "    <tr>\n",
       "      <th>0</th>\n",
       "      <td>USAID left a month ago, do we have ARVs in Kenya?</td>\n",
       "      <td>Someone on a different group (different websit...</td>\n",
       "      <td>usaid kenya</td>\n",
       "      <td>2025-04-15 13:16:53</td>\n",
       "      <td>https://www.reddit.com/r/Kenya/comments/1jzrn2...</td>\n",
       "      <td>Agatha_reddit.csv</td>\n",
       "    </tr>\n",
       "    <tr>\n",
       "      <th>1</th>\n",
       "      <td>Classism in r/Kenya and r/nairobi</td>\n",
       "      <td>The classism I'm seeing in both subs is a good...</td>\n",
       "      <td>usaid kenya</td>\n",
       "      <td>2025-04-07 04:21:12</td>\n",
       "      <td>https://www.reddit.com/r/Kenya/comments/1jtcvb...</td>\n",
       "      <td>Agatha_reddit.csv</td>\n",
       "    </tr>\n",
       "    <tr>\n",
       "      <th>2</th>\n",
       "      <td>EX-USAID people!! Let's talk</td>\n",
       "      <td>Are you still in contact with the organisation...</td>\n",
       "      <td>usaid kenya</td>\n",
       "      <td>2025-04-05 19:09:10</td>\n",
       "      <td>https://www.reddit.com/r/Kenya/comments/1jsb14...</td>\n",
       "      <td>Agatha_reddit.csv</td>\n",
       "    </tr>\n",
       "    <tr>\n",
       "      <th>3</th>\n",
       "      <td>Why western powers back Israel no matter what ...</td>\n",
       "      <td>I don't care what good book you read, but it's...</td>\n",
       "      <td>usaid kenya</td>\n",
       "      <td>2025-03-25 08:18:04</td>\n",
       "      <td>https://www.reddit.com/r/Kenya/comments/1jjehw...</td>\n",
       "      <td>Agatha_reddit.csv</td>\n",
       "    </tr>\n",
       "    <tr>\n",
       "      <th>4</th>\n",
       "      <td>Is kenya capable of funding its needs now that...</td>\n",
       "      <td>How is kenya prepared to fill the vacuum of US...</td>\n",
       "      <td>usaid kenya</td>\n",
       "      <td>2025-03-08 08:08:58</td>\n",
       "      <td>https://www.reddit.com/r/Kenya/comments/1j6cjz...</td>\n",
       "      <td>Agatha_reddit.csv</td>\n",
       "    </tr>\n",
       "  </tbody>\n",
       "</table>\n",
       "</div>"
      ],
      "text/plain": [
       "                                          post_title  \\\n",
       "0  USAID left a month ago, do we have ARVs in Kenya?   \n",
       "1                  Classism in r/Kenya and r/nairobi   \n",
       "2                       EX-USAID people!! Let's talk   \n",
       "3  Why western powers back Israel no matter what ...   \n",
       "4  Is kenya capable of funding its needs now that...   \n",
       "\n",
       "                                                text      keyword  \\\n",
       "0  Someone on a different group (different websit...  usaid kenya   \n",
       "1  The classism I'm seeing in both subs is a good...  usaid kenya   \n",
       "2  Are you still in contact with the organisation...  usaid kenya   \n",
       "3  I don't care what good book you read, but it's...  usaid kenya   \n",
       "4  How is kenya prepared to fill the vacuum of US...  usaid kenya   \n",
       "\n",
       "       published_date                                                url  \\\n",
       "0 2025-04-15 13:16:53  https://www.reddit.com/r/Kenya/comments/1jzrn2...   \n",
       "1 2025-04-07 04:21:12  https://www.reddit.com/r/Kenya/comments/1jtcvb...   \n",
       "2 2025-04-05 19:09:10  https://www.reddit.com/r/Kenya/comments/1jsb14...   \n",
       "3 2025-03-25 08:18:04  https://www.reddit.com/r/Kenya/comments/1jjehw...   \n",
       "4 2025-03-08 08:08:58  https://www.reddit.com/r/Kenya/comments/1j6cjz...   \n",
       "\n",
       "         source_file  \n",
       "0  Agatha_reddit.csv  \n",
       "1  Agatha_reddit.csv  \n",
       "2  Agatha_reddit.csv  \n",
       "3  Agatha_reddit.csv  \n",
       "4  Agatha_reddit.csv  "
      ]
     },
     "execution_count": 4,
     "metadata": {},
     "output_type": "execute_result"
    }
   ],
   "source": [
    "\n",
    "preferred_columns = ['post_title', 'text', 'keyword', 'published_date', 'url']\n",
    "all_dfs = []\n",
    "\n",
    "for file in csv_files:\n",
    "    df = pd.read_csv(file)\n",
    "    \n",
    "    # Rename common column variants\n",
    "    if 'title' in df.columns:\n",
    "        df.rename(columns={'title': 'post_title'}, inplace=True)\n",
    "    if 'selftext' in df.columns and 'text' not in df.columns:\n",
    "        df.rename(columns={'selftext': 'text'}, inplace=True)\n",
    "    if 'date_posted' in df.columns:\n",
    "        df.rename(columns={'date_posted': 'published_date'}, inplace=True)\n",
    "    elif 'created_utc' in df.columns:\n",
    "        df.rename(columns={'created_utc': 'published_date'}, inplace=True)\n",
    "    \n",
    "    # Add missing columns\n",
    "    for col in preferred_columns:\n",
    "        if col not in df.columns:\n",
    "            df[col] = None\n",
    "\n",
    "    # Convert published_date to datetime\n",
    "    df['published_date'] = pd.to_datetime(df['published_date'], errors='coerce')\n",
    "\n",
    "    # Track file source\n",
    "    df['source_file'] = os.path.basename(file)\n",
    "    \n",
    "    # Keep only standardized columns\n",
    "    df = df[preferred_columns + ['source_file']]\n",
    "\n",
    "    all_dfs.append(df)\n",
    "\n",
    "# Combine all\n",
    "combined_df = pd.concat(all_dfs, ignore_index=True)\n",
    "combined_df.head()\n"
   ]
  },
  {
   "cell_type": "code",
   "execution_count": 5,
   "id": "83d5b9f6",
   "metadata": {},
   "outputs": [
    {
     "data": {
      "text/plain": [
       "(1306, 6)"
      ]
     },
     "execution_count": 5,
     "metadata": {},
     "output_type": "execute_result"
    }
   ],
   "source": [
    "combined_df.shape #check the shape of the dataset"
   ]
  },
  {
   "cell_type": "code",
   "execution_count": 6,
   "id": "b896c819",
   "metadata": {},
   "outputs": [
    {
     "data": {
      "text/plain": [
       "post_title          0\n",
       "text              398\n",
       "keyword           564\n",
       "published_date    197\n",
       "url                 0\n",
       "source_file         0\n",
       "dtype: int64"
      ]
     },
     "execution_count": 6,
     "metadata": {},
     "output_type": "execute_result"
    }
   ],
   "source": [
    "combined_df.isna().sum() #check for missing values"
   ]
  },
  {
   "cell_type": "code",
   "execution_count": 7,
   "id": "6cbb0b58",
   "metadata": {},
   "outputs": [
    {
     "data": {
      "text/plain": [
       "Index(['post_title', 'text', 'keyword', 'published_date', 'url',\n",
       "       'source_file'],\n",
       "      dtype='object')"
      ]
     },
     "execution_count": 7,
     "metadata": {},
     "output_type": "execute_result"
    }
   ],
   "source": [
    "combined_df.columns"
   ]
  },
  {
   "cell_type": "code",
   "execution_count": 8,
   "id": "f8a79603",
   "metadata": {},
   "outputs": [
    {
     "data": {
      "text/html": [
       "<div>\n",
       "<style scoped>\n",
       "    .dataframe tbody tr th:only-of-type {\n",
       "        vertical-align: middle;\n",
       "    }\n",
       "\n",
       "    .dataframe tbody tr th {\n",
       "        vertical-align: top;\n",
       "    }\n",
       "\n",
       "    .dataframe thead th {\n",
       "        text-align: right;\n",
       "    }\n",
       "</style>\n",
       "<table border=\"1\" class=\"dataframe\">\n",
       "  <thead>\n",
       "    <tr style=\"text-align: right;\">\n",
       "      <th></th>\n",
       "      <th>post_title</th>\n",
       "      <th>text</th>\n",
       "      <th>keyword</th>\n",
       "      <th>published_date</th>\n",
       "      <th>url</th>\n",
       "      <th>source_file</th>\n",
       "    </tr>\n",
       "  </thead>\n",
       "  <tbody>\n",
       "    <tr>\n",
       "      <th>0</th>\n",
       "      <td>USAID left a month ago, do we have ARVs in Kenya?</td>\n",
       "      <td>Someone on a different group (different websit...</td>\n",
       "      <td>usaid kenya</td>\n",
       "      <td>2025-04-15</td>\n",
       "      <td>https://www.reddit.com/r/Kenya/comments/1jzrn2...</td>\n",
       "      <td>Agatha_reddit.csv</td>\n",
       "    </tr>\n",
       "    <tr>\n",
       "      <th>1</th>\n",
       "      <td>Classism in r/Kenya and r/nairobi</td>\n",
       "      <td>The classism I'm seeing in both subs is a good...</td>\n",
       "      <td>usaid kenya</td>\n",
       "      <td>2025-04-07</td>\n",
       "      <td>https://www.reddit.com/r/Kenya/comments/1jtcvb...</td>\n",
       "      <td>Agatha_reddit.csv</td>\n",
       "    </tr>\n",
       "    <tr>\n",
       "      <th>2</th>\n",
       "      <td>EX-USAID people!! Let's talk</td>\n",
       "      <td>Are you still in contact with the organisation...</td>\n",
       "      <td>usaid kenya</td>\n",
       "      <td>2025-04-05</td>\n",
       "      <td>https://www.reddit.com/r/Kenya/comments/1jsb14...</td>\n",
       "      <td>Agatha_reddit.csv</td>\n",
       "    </tr>\n",
       "    <tr>\n",
       "      <th>3</th>\n",
       "      <td>Why western powers back Israel no matter what ...</td>\n",
       "      <td>I don't care what good book you read, but it's...</td>\n",
       "      <td>usaid kenya</td>\n",
       "      <td>2025-03-25</td>\n",
       "      <td>https://www.reddit.com/r/Kenya/comments/1jjehw...</td>\n",
       "      <td>Agatha_reddit.csv</td>\n",
       "    </tr>\n",
       "    <tr>\n",
       "      <th>4</th>\n",
       "      <td>Is kenya capable of funding its needs now that...</td>\n",
       "      <td>How is kenya prepared to fill the vacuum of US...</td>\n",
       "      <td>usaid kenya</td>\n",
       "      <td>2025-03-08</td>\n",
       "      <td>https://www.reddit.com/r/Kenya/comments/1j6cjz...</td>\n",
       "      <td>Agatha_reddit.csv</td>\n",
       "    </tr>\n",
       "  </tbody>\n",
       "</table>\n",
       "</div>"
      ],
      "text/plain": [
       "                                          post_title  \\\n",
       "0  USAID left a month ago, do we have ARVs in Kenya?   \n",
       "1                  Classism in r/Kenya and r/nairobi   \n",
       "2                       EX-USAID people!! Let's talk   \n",
       "3  Why western powers back Israel no matter what ...   \n",
       "4  Is kenya capable of funding its needs now that...   \n",
       "\n",
       "                                                text      keyword  \\\n",
       "0  Someone on a different group (different websit...  usaid kenya   \n",
       "1  The classism I'm seeing in both subs is a good...  usaid kenya   \n",
       "2  Are you still in contact with the organisation...  usaid kenya   \n",
       "3  I don't care what good book you read, but it's...  usaid kenya   \n",
       "4  How is kenya prepared to fill the vacuum of US...  usaid kenya   \n",
       "\n",
       "  published_date                                                url  \\\n",
       "0     2025-04-15  https://www.reddit.com/r/Kenya/comments/1jzrn2...   \n",
       "1     2025-04-07  https://www.reddit.com/r/Kenya/comments/1jtcvb...   \n",
       "2     2025-04-05  https://www.reddit.com/r/Kenya/comments/1jsb14...   \n",
       "3     2025-03-25  https://www.reddit.com/r/Kenya/comments/1jjehw...   \n",
       "4     2025-03-08  https://www.reddit.com/r/Kenya/comments/1j6cjz...   \n",
       "\n",
       "         source_file  \n",
       "0  Agatha_reddit.csv  \n",
       "1  Agatha_reddit.csv  \n",
       "2  Agatha_reddit.csv  \n",
       "3  Agatha_reddit.csv  \n",
       "4  Agatha_reddit.csv  "
      ]
     },
     "execution_count": 8,
     "metadata": {},
     "output_type": "execute_result"
    }
   ],
   "source": [
    "# Extract date and time\n",
    "combined_df['time'] = combined_df['published_date'].dt.time\n",
    "combined_df['published_date'] = combined_df['published_date'].dt.date\n",
    "\n",
    "#Drop the time column\n",
    "combined_df.drop(columns='time', inplace=True)\n",
    "combined_df.head()"
   ]
  },
  {
   "cell_type": "code",
   "execution_count": 9,
   "id": "203cd407",
   "metadata": {},
   "outputs": [
    {
     "data": {
      "text/html": [
       "<div>\n",
       "<style scoped>\n",
       "    .dataframe tbody tr th:only-of-type {\n",
       "        vertical-align: middle;\n",
       "    }\n",
       "\n",
       "    .dataframe tbody tr th {\n",
       "        vertical-align: top;\n",
       "    }\n",
       "\n",
       "    .dataframe thead th {\n",
       "        text-align: right;\n",
       "    }\n",
       "</style>\n",
       "<table border=\"1\" class=\"dataframe\">\n",
       "  <thead>\n",
       "    <tr style=\"text-align: right;\">\n",
       "      <th></th>\n",
       "      <th>post_title</th>\n",
       "      <th>text</th>\n",
       "      <th>keyword</th>\n",
       "      <th>published_date</th>\n",
       "      <th>url</th>\n",
       "      <th>source_file</th>\n",
       "    </tr>\n",
       "  </thead>\n",
       "  <tbody>\n",
       "    <tr>\n",
       "      <th>652</th>\n",
       "      <td>Federal judge rules Trump administration has t...</td>\n",
       "      <td>NaN</td>\n",
       "      <td>foreign aid, foreign aid</td>\n",
       "      <td>2025-02-25</td>\n",
       "      <td>https://abcnews.go.com/amp/Politics/federal-ju...</td>\n",
       "      <td>cecilia.redditsubs.csv</td>\n",
       "    </tr>\n",
       "    <tr>\n",
       "      <th>707</th>\n",
       "      <td>What is the point of America rebuilding Gaza i...</td>\n",
       "      <td>I am against all foreign aid unless there is s...</td>\n",
       "      <td>foreign aid, foreign aid</td>\n",
       "      <td>2025-02-06</td>\n",
       "      <td>https://www.reddit.com/r/AskConservatives/comm...</td>\n",
       "      <td>cecilia.redditsubs.csv</td>\n",
       "    </tr>\n",
       "    <tr>\n",
       "      <th>684</th>\n",
       "      <td>Elon Musk's DOGE Is Still Blocking HIV/AIDS Re...</td>\n",
       "      <td>NaN</td>\n",
       "      <td>foreign aid, foreign aid</td>\n",
       "      <td>2025-02-04</td>\n",
       "      <td>https://www.wired.com/story/usaid-researchers-...</td>\n",
       "      <td>cecilia.redditsubs.csv</td>\n",
       "    </tr>\n",
       "    <tr>\n",
       "      <th>60</th>\n",
       "      <td>Africa doesn’t lack potential—it lacks a minds...</td>\n",
       "      <td>\"Kenya’s real problem is not a lack of money o...</td>\n",
       "      <td>kenya foreign aid</td>\n",
       "      <td>2025-04-25</td>\n",
       "      <td>https://www.reddit.com/r/Kenya/comments/1k7je9...</td>\n",
       "      <td>Agatha_reddit.csv</td>\n",
       "    </tr>\n",
       "    <tr>\n",
       "      <th>1071</th>\n",
       "      <td>China investigates Canadian couple suspected o...</td>\n",
       "      <td>NaN</td>\n",
       "      <td>None</td>\n",
       "      <td>NaT</td>\n",
       "      <td>http://www.cnn.com/2014/08/05/world/asia/china...</td>\n",
       "      <td>Mbego_reddit_usaid_kenya2.csv</td>\n",
       "    </tr>\n",
       "    <tr>\n",
       "      <th>1126</th>\n",
       "      <td>Me and ChatGPT</td>\n",
       "      <td>**Me:** **We seek the same type of love we wer...</td>\n",
       "      <td>None</td>\n",
       "      <td>2025-06-17</td>\n",
       "      <td>https://www.reddit.com/r/Kenya/comments/1lduqq...</td>\n",
       "      <td>ruth_reddit.csv</td>\n",
       "    </tr>\n",
       "    <tr>\n",
       "      <th>520</th>\n",
       "      <td>So sad😂😬</td>\n",
       "      <td>It just hit me...our brave men and women in un...</td>\n",
       "      <td>foreign aid, foreign aid</td>\n",
       "      <td>2025-01-24</td>\n",
       "      <td>https://www.reddit.com/r/nairobi/comments/1i8z...</td>\n",
       "      <td>cecilia.redditsubs.csv</td>\n",
       "    </tr>\n",
       "    <tr>\n",
       "      <th>264</th>\n",
       "      <td>Why western powers back Israel no matter what ...</td>\n",
       "      <td>I don't care what good book you read, but it's...</td>\n",
       "      <td>development aid kenya</td>\n",
       "      <td>2025-03-25</td>\n",
       "      <td>https://www.reddit.com/r/Kenya/comments/1jjehw...</td>\n",
       "      <td>Agatha_reddit.csv</td>\n",
       "    </tr>\n",
       "    <tr>\n",
       "      <th>662</th>\n",
       "      <td>U.S. farmers face uncertainty from USAID forei...</td>\n",
       "      <td>NaN</td>\n",
       "      <td>USAID, foreign aid, foreign aid</td>\n",
       "      <td>2025-02-14</td>\n",
       "      <td>https://www.marketplace.org/2025/02/12/usaid-f...</td>\n",
       "      <td>cecilia.redditsubs.csv</td>\n",
       "    </tr>\n",
       "    <tr>\n",
       "      <th>804</th>\n",
       "      <td>Tech bros &amp; sis! What’s the best path now? Mor...</td>\n",
       "      <td>Hey fam! So I’ve been diving into tech lately ...</td>\n",
       "      <td>None</td>\n",
       "      <td>1970-01-01</td>\n",
       "      <td>https://www.reddit.com/r/Kenya/comments/1jrx4b...</td>\n",
       "      <td>leo_reddit_posts.csv</td>\n",
       "    </tr>\n",
       "  </tbody>\n",
       "</table>\n",
       "</div>"
      ],
      "text/plain": [
       "                                             post_title  \\\n",
       "652   Federal judge rules Trump administration has t...   \n",
       "707   What is the point of America rebuilding Gaza i...   \n",
       "684   Elon Musk's DOGE Is Still Blocking HIV/AIDS Re...   \n",
       "60    Africa doesn’t lack potential—it lacks a minds...   \n",
       "1071  China investigates Canadian couple suspected o...   \n",
       "1126                                     Me and ChatGPT   \n",
       "520                                            So sad😂😬   \n",
       "264   Why western powers back Israel no matter what ...   \n",
       "662   U.S. farmers face uncertainty from USAID forei...   \n",
       "804   Tech bros & sis! What’s the best path now? Mor...   \n",
       "\n",
       "                                                   text  \\\n",
       "652                                                 NaN   \n",
       "707   I am against all foreign aid unless there is s...   \n",
       "684                                                 NaN   \n",
       "60    \"Kenya’s real problem is not a lack of money o...   \n",
       "1071                                                NaN   \n",
       "1126  **Me:** **We seek the same type of love we wer...   \n",
       "520   It just hit me...our brave men and women in un...   \n",
       "264   I don't care what good book you read, but it's...   \n",
       "662                                                 NaN   \n",
       "804   Hey fam! So I’ve been diving into tech lately ...   \n",
       "\n",
       "                              keyword published_date  \\\n",
       "652          foreign aid, foreign aid     2025-02-25   \n",
       "707          foreign aid, foreign aid     2025-02-06   \n",
       "684          foreign aid, foreign aid     2025-02-04   \n",
       "60                  kenya foreign aid     2025-04-25   \n",
       "1071                             None            NaT   \n",
       "1126                             None     2025-06-17   \n",
       "520          foreign aid, foreign aid     2025-01-24   \n",
       "264             development aid kenya     2025-03-25   \n",
       "662   USAID, foreign aid, foreign aid     2025-02-14   \n",
       "804                              None     1970-01-01   \n",
       "\n",
       "                                                    url  \\\n",
       "652   https://abcnews.go.com/amp/Politics/federal-ju...   \n",
       "707   https://www.reddit.com/r/AskConservatives/comm...   \n",
       "684   https://www.wired.com/story/usaid-researchers-...   \n",
       "60    https://www.reddit.com/r/Kenya/comments/1k7je9...   \n",
       "1071  http://www.cnn.com/2014/08/05/world/asia/china...   \n",
       "1126  https://www.reddit.com/r/Kenya/comments/1lduqq...   \n",
       "520   https://www.reddit.com/r/nairobi/comments/1i8z...   \n",
       "264   https://www.reddit.com/r/Kenya/comments/1jjehw...   \n",
       "662   https://www.marketplace.org/2025/02/12/usaid-f...   \n",
       "804   https://www.reddit.com/r/Kenya/comments/1jrx4b...   \n",
       "\n",
       "                        source_file  \n",
       "652          cecilia.redditsubs.csv  \n",
       "707          cecilia.redditsubs.csv  \n",
       "684          cecilia.redditsubs.csv  \n",
       "60                Agatha_reddit.csv  \n",
       "1071  Mbego_reddit_usaid_kenya2.csv  \n",
       "1126                ruth_reddit.csv  \n",
       "520          cecilia.redditsubs.csv  \n",
       "264               Agatha_reddit.csv  \n",
       "662          cecilia.redditsubs.csv  \n",
       "804            leo_reddit_posts.csv  "
      ]
     },
     "execution_count": 9,
     "metadata": {},
     "output_type": "execute_result"
    }
   ],
   "source": [
    "combined_df.sample(10) #random sample of 10 rows"
   ]
  },
  {
   "cell_type": "markdown",
   "id": "9db6c968",
   "metadata": {},
   "source": [
    "### Save the final merged dataframe to csv"
   ]
  },
  {
   "cell_type": "code",
   "execution_count": 10,
   "id": "be3f73dc",
   "metadata": {},
   "outputs": [
    {
     "name": "stdout",
     "output_type": "stream",
     "text": [
      " Results successfully saved to:\n",
      "C:/Users/hp/Desktop/DATA NEXUS PROJECTS/USAID-Kenya-Sentiment-Analysis/data/processed/individual datasets/Cecilia_merged_reddit_dataset.csv\n"
     ]
    }
   ],
   "source": [
    "# Save to CSV \n",
    "if not combined_df.empty:\n",
    "    output_filename = \"C:/Users/hp/Desktop/DATA NEXUS PROJECTS/USAID-Kenya-Sentiment-Analysis/data/processed/individual datasets/Cecilia_merged_reddit_dataset.csv\"\n",
    "    combined_df.to_csv(output_filename, index=False, encoding='utf-8')\n",
    "    print(f\" Results successfully saved to:\\n{output_filename}\")\n",
    "else:\n",
    "    print(\" No data to save. The DataFrame is empty.\")\n"
   ]
  },
  {
   "cell_type": "code",
   "execution_count": null,
   "id": "4313f5e3",
   "metadata": {},
   "outputs": [],
   "source": []
  },
  {
   "cell_type": "markdown",
   "id": "a05bf2ed",
   "metadata": {},
   "source": [
    "# Merging News CSV Files"
   ]
  },
  {
   "cell_type": "markdown",
   "id": "2e616e2e",
   "metadata": {},
   "source": [
    "### Import necessary libraries"
   ]
  },
  {
   "cell_type": "code",
   "execution_count": 11,
   "id": "350238dc",
   "metadata": {},
   "outputs": [],
   "source": [
    "import pandas as pd\n",
    "import glob\n",
    "import os\n"
   ]
  },
  {
   "cell_type": "markdown",
   "id": "a18c8d34",
   "metadata": {},
   "source": [
    "### Folder path"
   ]
  },
  {
   "cell_type": "code",
   "execution_count": 12,
   "id": "f0bc11b4",
   "metadata": {},
   "outputs": [],
   "source": [
    "folder_path = 'C:/Users/hp/Desktop/DATA NEXUS PROJECTS/USAID-Kenya-Sentiment-Analysis/data/raw/news_data'\n"
   ]
  },
  {
   "cell_type": "markdown",
   "id": "0394822b",
   "metadata": {},
   "source": [
    "### CSV file paths"
   ]
  },
  {
   "cell_type": "code",
   "execution_count": 13,
   "id": "015bbad0",
   "metadata": {},
   "outputs": [
    {
     "data": {
      "text/plain": [
       "['C:/Users/hp/Desktop/DATA NEXUS PROJECTS/USAID-Kenya-Sentiment-Analysis/data/raw/news_data\\\\Agatha_news.csv',\n",
       " 'C:/Users/hp/Desktop/DATA NEXUS PROJECTS/USAID-Kenya-Sentiment-Analysis/data/raw/news_data\\\\cecilia.newsapi.csv',\n",
       " 'C:/Users/hp/Desktop/DATA NEXUS PROJECTS/USAID-Kenya-Sentiment-Analysis/data/raw/news_data\\\\leo_newsapi_articles_enriched.csv',\n",
       " 'C:/Users/hp/Desktop/DATA NEXUS PROJECTS/USAID-Kenya-Sentiment-Analysis/data/raw/news_data\\\\Mbego_news_usaid_kenya_fulltext.csv',\n",
       " 'C:/Users/hp/Desktop/DATA NEXUS PROJECTS/USAID-Kenya-Sentiment-Analysis/data/raw/news_data\\\\Mbego_news_usaid_kenya_recent.csv',\n",
       " 'C:/Users/hp/Desktop/DATA NEXUS PROJECTS/USAID-Kenya-Sentiment-Analysis/data/raw/news_data\\\\newsapi_usaid_articles.csv',\n",
       " 'C:/Users/hp/Desktop/DATA NEXUS PROJECTS/USAID-Kenya-Sentiment-Analysis/data/raw/news_data\\\\ruth_news.csv']"
      ]
     },
     "execution_count": 13,
     "metadata": {},
     "output_type": "execute_result"
    }
   ],
   "source": [
    "folder_path = 'C:/Users/hp/Desktop/DATA NEXUS PROJECTS/USAID-Kenya-Sentiment-Analysis/data/raw/news_data'\n",
    "omit_file = os.path.join(folder_path, 'Agatha_news_fulltext.csv')\n",
    "\n",
    "news_csv_files = glob.glob(os.path.join(folder_path, '*.csv'))\n",
    "news_csv_files = [f for f in news_csv_files if os.path.normpath(f) != os.path.normpath(omit_file)]\n",
    "\n",
    "news_csv_files\n"
   ]
  },
  {
   "cell_type": "markdown",
   "id": "74983ad8",
   "metadata": {},
   "source": [
    "### Reading the files and combining them into one dataframe"
   ]
  },
  {
   "cell_type": "code",
   "execution_count": 14,
   "id": "02b6885f",
   "metadata": {},
   "outputs": [
    {
     "name": "stdout",
     "output_type": "stream",
     "text": [
      "NewsAPI data saved to:\n",
      "C:/Users/hp/Desktop/DATA NEXUS PROJECTS/USAID-Kenya-Sentiment-Analysis/data/processed/individual datasets/Cecilia_merged_news_dataset.csv\n"
     ]
    }
   ],
   "source": [
    "import pandas as pd\n",
    "import os\n",
    "\n",
    "news_columns = ['title', 'description', 'text', 'url', 'keyword', 'published_date', 'source_file']\n",
    "all_news_dfs = []\n",
    "\n",
    "for file in news_csv_files:  \n",
    "    df = pd.read_csv(file)\n",
    "\n",
    "    # Rename content to text \n",
    "    if 'content' in df.columns and 'text' not in df.columns:\n",
    "        df.rename(columns={'content': 'text'}, inplace=True)\n",
    "\n",
    "    # Rename publishedAt to published_date\n",
    "    if 'publishedAt' in df.columns:\n",
    "        df.rename(columns={'publishedAt': 'published_date'}, inplace=True)\n",
    "\n",
    "    # Add missing columns\n",
    "    for col in news_columns:\n",
    "        if col not in df.columns:\n",
    "            df[col] = None\n",
    "\n",
    "    # Convert published_date to datetime\n",
    "    df['published_date'] = pd.to_datetime(df['published_date'], errors='coerce')\n",
    "\n",
    "\n",
    "\n",
    "    # source file info\n",
    "    df['source_file'] = os.path.basename(file)\n",
    "\n",
    "    # standardized columns\n",
    "    df = df[news_columns]\n",
    "    all_news_dfs.append(df)\n",
    "\n",
    "# Combine all\n",
    "news_combined_df = pd.concat(all_news_dfs, ignore_index=True)\n",
    "\n",
    "# Save to CSV\n",
    "output_path = \"C:/Users/hp/Desktop/DATA NEXUS PROJECTS/USAID-Kenya-Sentiment-Analysis/data/processed/individual datasets/Cecilia_merged_news_dataset.csv\"\n",
    "if not news_combined_df.empty:\n",
    "    news_combined_df.to_csv(output_path, index=False, encoding='utf-8')\n",
    "    print(f\"NewsAPI data saved to:\\n{output_path}\")\n",
    "else:\n",
    "    print(\"No NewsAPI data to save. DataFrame is empty.\")\n"
   ]
  },
  {
   "cell_type": "code",
   "execution_count": 15,
   "id": "faed2a11",
   "metadata": {},
   "outputs": [
    {
     "data": {
      "text/plain": [
       "(2638, 7)"
      ]
     },
     "execution_count": 15,
     "metadata": {},
     "output_type": "execute_result"
    }
   ],
   "source": [
    "news_combined_df.shape"
   ]
  },
  {
   "cell_type": "code",
   "execution_count": 16,
   "id": "f6465239",
   "metadata": {},
   "outputs": [
    {
     "data": {
      "text/html": [
       "<div>\n",
       "<style scoped>\n",
       "    .dataframe tbody tr th:only-of-type {\n",
       "        vertical-align: middle;\n",
       "    }\n",
       "\n",
       "    .dataframe tbody tr th {\n",
       "        vertical-align: top;\n",
       "    }\n",
       "\n",
       "    .dataframe thead th {\n",
       "        text-align: right;\n",
       "    }\n",
       "</style>\n",
       "<table border=\"1\" class=\"dataframe\">\n",
       "  <thead>\n",
       "    <tr style=\"text-align: right;\">\n",
       "      <th></th>\n",
       "      <th>title</th>\n",
       "      <th>description</th>\n",
       "      <th>text</th>\n",
       "      <th>url</th>\n",
       "      <th>keyword</th>\n",
       "      <th>published_date</th>\n",
       "      <th>source_file</th>\n",
       "    </tr>\n",
       "  </thead>\n",
       "  <tbody>\n",
       "    <tr>\n",
       "      <th>838</th>\n",
       "      <td>Massive Tech Layoffs May Be the Fault of a 201...</td>\n",
       "      <td>A new theory of the tech industry's economic w...</td>\n",
       "      <td>The good times in Silicon Valley are overat le...</td>\n",
       "      <td>https://gizmodo.com/massive-tech-layoffs-may-b...</td>\n",
       "      <td>funding cuts</td>\n",
       "      <td>2025-06-09 20:50:46+00:00</td>\n",
       "      <td>cecilia.newsapi.csv</td>\n",
       "    </tr>\n",
       "    <tr>\n",
       "      <th>1522</th>\n",
       "      <td>Trump’s Liquidation of U.S Global Leadership</td>\n",
       "      <td>Some geopolitical aspects of how Trump's mazim...</td>\n",
       "      <td>Yves here, It is striking to see the degree to...</td>\n",
       "      <td>https://www.nakedcapitalism.com/2025/05/trumps...</td>\n",
       "      <td>USAID funding</td>\n",
       "      <td>2025-05-27 07:00:05+00:00</td>\n",
       "      <td>cecilia.newsapi.csv</td>\n",
       "    </tr>\n",
       "    <tr>\n",
       "      <th>65</th>\n",
       "      <td>MEPs urge Brussels to cut all funding for Buda...</td>\n",
       "      <td>Members of the European Parliament have urged ...</td>\n",
       "      <td>Over 20 members of the European Parliament hav...</td>\n",
       "      <td>https://www.rt.com/news/618035-hungary-eu-fund...</td>\n",
       "      <td>usaid funding</td>\n",
       "      <td>2025-05-23 09:30:13+00:00</td>\n",
       "      <td>Agatha_news.csv</td>\n",
       "    </tr>\n",
       "    <tr>\n",
       "      <th>1358</th>\n",
       "      <td>LGBT+ in Hungary: ‘I never went to the Pride M...</td>\n",
       "      <td>The attack on democracy in Hungary continues. ...</td>\n",
       "      <td>For many years now, the government of Viktor O...</td>\n",
       "      <td>https://voxeurop.eu/en/lgbt-hungary-pride/</td>\n",
       "      <td>NGO funding</td>\n",
       "      <td>2025-05-30 08:07:08+00:00</td>\n",
       "      <td>cecilia.newsapi.csv</td>\n",
       "    </tr>\n",
       "    <tr>\n",
       "      <th>2154</th>\n",
       "      <td>6/10/25 ☀️ AM: ... But the reconciliation figh...</td>\n",
       "      <td>Punchbowl News:\\n6/10/25 ☀️ AM: … But the reco...</td>\n",
       "      <td>memeorandum is an auto-generated summary of th...</td>\n",
       "      <td>https://www.memeorandum.com/250610/p9</td>\n",
       "      <td>end of USAID</td>\n",
       "      <td>2025-06-10 10:10:02+00:00</td>\n",
       "      <td>cecilia.newsapi.csv</td>\n",
       "    </tr>\n",
       "    <tr>\n",
       "      <th>694</th>\n",
       "      <td>Israeli forces seize Gaza-bound boat and detai...</td>\n",
       "      <td>Israeli forces said they took command of the v...</td>\n",
       "      <td>AMMAN, Jordan Israeli forces seized a ship car...</td>\n",
       "      <td>https://www.npr.org/2025/06/09/nx-s1-5427962/i...</td>\n",
       "      <td>foreign aid</td>\n",
       "      <td>2025-06-09 08:44:38+00:00</td>\n",
       "      <td>cecilia.newsapi.csv</td>\n",
       "    </tr>\n",
       "    <tr>\n",
       "      <th>2630</th>\n",
       "      <td>Kenya plans to relocate health data from the U...</td>\n",
       "      <td>Kenya is preparing to move critical health dat...</td>\n",
       "      <td>Kenya is preparing to move critical health dat...</td>\n",
       "      <td>https://techcabal.com/2025/06/02/kenya-health-...</td>\n",
       "      <td>None</td>\n",
       "      <td>2025-06-02 10:53:32+00:00</td>\n",
       "      <td>ruth_news.csv</td>\n",
       "    </tr>\n",
       "    <tr>\n",
       "      <th>1350</th>\n",
       "      <td>Turning used cooking oil into soap in a countr...</td>\n",
       "      <td>A group of young environmentalists in Honduras...</td>\n",
       "      <td>Fritz PinnowReporter, Comayagua, Honduras\\r\\nH...</td>\n",
       "      <td>https://www.bbc.com/news/articles/c9djx7llj44o</td>\n",
       "      <td>NGO funding</td>\n",
       "      <td>2025-06-01 00:27:31+00:00</td>\n",
       "      <td>cecilia.newsapi.csv</td>\n",
       "    </tr>\n",
       "    <tr>\n",
       "      <th>799</th>\n",
       "      <td>Fentanyl deaths among the young are dropping. ...</td>\n",
       "      <td>Fentanyl and other street drugs killed more th...</td>\n",
       "      <td>Justin Carlyle, age 23, photographed on the st...</td>\n",
       "      <td>https://www.npr.org/2025/06/10/1253920671/fent...</td>\n",
       "      <td>funding cuts</td>\n",
       "      <td>2025-06-10 22:41:10+00:00</td>\n",
       "      <td>cecilia.newsapi.csv</td>\n",
       "    </tr>\n",
       "    <tr>\n",
       "      <th>1571</th>\n",
       "      <td>What Trump’s Harvard Visa Restriction Means fo...</td>\n",
       "      <td>The U.S. President has launched his latest att...</td>\n",
       "      <td>President Donald Trump has escalated his stand...</td>\n",
       "      <td>https://time.com/7291333/harvard-university-tr...</td>\n",
       "      <td>foreign aid</td>\n",
       "      <td>2025-06-05 06:30:00+00:00</td>\n",
       "      <td>cecilia.newsapi.csv</td>\n",
       "    </tr>\n",
       "  </tbody>\n",
       "</table>\n",
       "</div>"
      ],
      "text/plain": [
       "                                                  title  \\\n",
       "838   Massive Tech Layoffs May Be the Fault of a 201...   \n",
       "1522       Trump’s Liquidation of U.S Global Leadership   \n",
       "65    MEPs urge Brussels to cut all funding for Buda...   \n",
       "1358  LGBT+ in Hungary: ‘I never went to the Pride M...   \n",
       "2154  6/10/25 ☀️ AM: ... But the reconciliation figh...   \n",
       "694   Israeli forces seize Gaza-bound boat and detai...   \n",
       "2630  Kenya plans to relocate health data from the U...   \n",
       "1350  Turning used cooking oil into soap in a countr...   \n",
       "799   Fentanyl deaths among the young are dropping. ...   \n",
       "1571  What Trump’s Harvard Visa Restriction Means fo...   \n",
       "\n",
       "                                            description  \\\n",
       "838   A new theory of the tech industry's economic w...   \n",
       "1522  Some geopolitical aspects of how Trump's mazim...   \n",
       "65    Members of the European Parliament have urged ...   \n",
       "1358  The attack on democracy in Hungary continues. ...   \n",
       "2154  Punchbowl News:\\n6/10/25 ☀️ AM: … But the reco...   \n",
       "694   Israeli forces said they took command of the v...   \n",
       "2630  Kenya is preparing to move critical health dat...   \n",
       "1350  A group of young environmentalists in Honduras...   \n",
       "799   Fentanyl and other street drugs killed more th...   \n",
       "1571  The U.S. President has launched his latest att...   \n",
       "\n",
       "                                                   text  \\\n",
       "838   The good times in Silicon Valley are overat le...   \n",
       "1522  Yves here, It is striking to see the degree to...   \n",
       "65    Over 20 members of the European Parliament hav...   \n",
       "1358  For many years now, the government of Viktor O...   \n",
       "2154  memeorandum is an auto-generated summary of th...   \n",
       "694   AMMAN, Jordan Israeli forces seized a ship car...   \n",
       "2630  Kenya is preparing to move critical health dat...   \n",
       "1350  Fritz PinnowReporter, Comayagua, Honduras\\r\\nH...   \n",
       "799   Justin Carlyle, age 23, photographed on the st...   \n",
       "1571  President Donald Trump has escalated his stand...   \n",
       "\n",
       "                                                    url        keyword  \\\n",
       "838   https://gizmodo.com/massive-tech-layoffs-may-b...   funding cuts   \n",
       "1522  https://www.nakedcapitalism.com/2025/05/trumps...  USAID funding   \n",
       "65    https://www.rt.com/news/618035-hungary-eu-fund...  usaid funding   \n",
       "1358         https://voxeurop.eu/en/lgbt-hungary-pride/    NGO funding   \n",
       "2154              https://www.memeorandum.com/250610/p9   end of USAID   \n",
       "694   https://www.npr.org/2025/06/09/nx-s1-5427962/i...    foreign aid   \n",
       "2630  https://techcabal.com/2025/06/02/kenya-health-...           None   \n",
       "1350     https://www.bbc.com/news/articles/c9djx7llj44o    NGO funding   \n",
       "799   https://www.npr.org/2025/06/10/1253920671/fent...   funding cuts   \n",
       "1571  https://time.com/7291333/harvard-university-tr...    foreign aid   \n",
       "\n",
       "                 published_date          source_file  \n",
       "838   2025-06-09 20:50:46+00:00  cecilia.newsapi.csv  \n",
       "1522  2025-05-27 07:00:05+00:00  cecilia.newsapi.csv  \n",
       "65    2025-05-23 09:30:13+00:00      Agatha_news.csv  \n",
       "1358  2025-05-30 08:07:08+00:00  cecilia.newsapi.csv  \n",
       "2154  2025-06-10 10:10:02+00:00  cecilia.newsapi.csv  \n",
       "694   2025-06-09 08:44:38+00:00  cecilia.newsapi.csv  \n",
       "2630  2025-06-02 10:53:32+00:00        ruth_news.csv  \n",
       "1350  2025-06-01 00:27:31+00:00  cecilia.newsapi.csv  \n",
       "799   2025-06-10 22:41:10+00:00  cecilia.newsapi.csv  \n",
       "1571  2025-06-05 06:30:00+00:00  cecilia.newsapi.csv  "
      ]
     },
     "execution_count": 16,
     "metadata": {},
     "output_type": "execute_result"
    }
   ],
   "source": [
    "news_combined_df.sample(10)"
   ]
  },
  {
   "cell_type": "code",
   "execution_count": 17,
   "id": "93b5781e",
   "metadata": {},
   "outputs": [
    {
     "data": {
      "text/plain": [
       "title               0\n",
       "description        16\n",
       "text               25\n",
       "url                 2\n",
       "keyword           259\n",
       "published_date     99\n",
       "source_file         0\n",
       "dtype: int64"
      ]
     },
     "execution_count": 17,
     "metadata": {},
     "output_type": "execute_result"
    }
   ],
   "source": [
    "news_combined_df.isna().sum()"
   ]
  },
  {
   "cell_type": "markdown",
   "id": "09724989",
   "metadata": {},
   "source": [
    "### FINAL REDDIT DATA TO BE USED ~ mbego_all_reddit_merged"
   ]
  },
  {
   "cell_type": "code",
   "execution_count": 18,
   "id": "6ca8581b",
   "metadata": {},
   "outputs": [],
   "source": [
    "import pandas as pd\n",
    "import seaborn as sns"
   ]
  },
  {
   "cell_type": "code",
   "execution_count": 19,
   "id": "846c0959",
   "metadata": {},
   "outputs": [
    {
     "data": {
      "text/html": [
       "<div>\n",
       "<style scoped>\n",
       "    .dataframe tbody tr th:only-of-type {\n",
       "        vertical-align: middle;\n",
       "    }\n",
       "\n",
       "    .dataframe tbody tr th {\n",
       "        vertical-align: top;\n",
       "    }\n",
       "\n",
       "    .dataframe thead th {\n",
       "        text-align: right;\n",
       "    }\n",
       "</style>\n",
       "<table border=\"1\" class=\"dataframe\">\n",
       "  <thead>\n",
       "    <tr style=\"text-align: right;\">\n",
       "      <th></th>\n",
       "      <th>title</th>\n",
       "      <th>selftext</th>\n",
       "      <th>subreddit</th>\n",
       "      <th>author</th>\n",
       "      <th>created_utc</th>\n",
       "      <th>created_date</th>\n",
       "      <th>score</th>\n",
       "      <th>num_comments</th>\n",
       "      <th>keyword</th>\n",
       "      <th>search_term</th>\n",
       "      <th>date_posted</th>\n",
       "      <th>upvotes</th>\n",
       "      <th>comments</th>\n",
       "      <th>url</th>\n",
       "      <th>permalink</th>\n",
       "    </tr>\n",
       "  </thead>\n",
       "  <tbody>\n",
       "    <tr>\n",
       "      <th>0</th>\n",
       "      <td>USAID left a month ago, do we have ARVs in Kenya?</td>\n",
       "      <td>Someone on a different group (different websit...</td>\n",
       "      <td>Kenya</td>\n",
       "      <td>muerki</td>\n",
       "      <td>4/15/2025 13:16</td>\n",
       "      <td>NaN</td>\n",
       "      <td>3.0</td>\n",
       "      <td>5.0</td>\n",
       "      <td>usaid kenya</td>\n",
       "      <td>NaN</td>\n",
       "      <td>NaN</td>\n",
       "      <td>NaN</td>\n",
       "      <td>NaN</td>\n",
       "      <td>https://www.reddit.com/r/Kenya/comments/1jzrn2...</td>\n",
       "      <td>NaN</td>\n",
       "    </tr>\n",
       "    <tr>\n",
       "      <th>1</th>\n",
       "      <td>Classism in r/Kenya and r/nairobi</td>\n",
       "      <td>The classism I'm seeing in both subs is a good...</td>\n",
       "      <td>Kenya</td>\n",
       "      <td>Morio_anzenza</td>\n",
       "      <td>4/7/2025 4:21</td>\n",
       "      <td>NaN</td>\n",
       "      <td>169.0</td>\n",
       "      <td>95.0</td>\n",
       "      <td>usaid kenya</td>\n",
       "      <td>NaN</td>\n",
       "      <td>NaN</td>\n",
       "      <td>NaN</td>\n",
       "      <td>NaN</td>\n",
       "      <td>https://www.reddit.com/r/Kenya/comments/1jtcvb...</td>\n",
       "      <td>NaN</td>\n",
       "    </tr>\n",
       "    <tr>\n",
       "      <th>2</th>\n",
       "      <td>EX-USAID people!! Let's talk</td>\n",
       "      <td>Are you still in contact with the organisation...</td>\n",
       "      <td>Kenya</td>\n",
       "      <td>vindtar</td>\n",
       "      <td>4/5/2025 19:09</td>\n",
       "      <td>NaN</td>\n",
       "      <td>2.0</td>\n",
       "      <td>2.0</td>\n",
       "      <td>usaid kenya</td>\n",
       "      <td>NaN</td>\n",
       "      <td>NaN</td>\n",
       "      <td>NaN</td>\n",
       "      <td>NaN</td>\n",
       "      <td>https://www.reddit.com/r/Kenya/comments/1jsb14...</td>\n",
       "      <td>NaN</td>\n",
       "    </tr>\n",
       "    <tr>\n",
       "      <th>3</th>\n",
       "      <td>Why western powers back Israel no matter what ...</td>\n",
       "      <td>I don't care what good book you read, but it's...</td>\n",
       "      <td>Kenya</td>\n",
       "      <td>Gold_Smart</td>\n",
       "      <td>3/25/2025 8:18</td>\n",
       "      <td>NaN</td>\n",
       "      <td>13.0</td>\n",
       "      <td>20.0</td>\n",
       "      <td>usaid kenya</td>\n",
       "      <td>NaN</td>\n",
       "      <td>NaN</td>\n",
       "      <td>NaN</td>\n",
       "      <td>NaN</td>\n",
       "      <td>https://www.reddit.com/r/Kenya/comments/1jjehw...</td>\n",
       "      <td>NaN</td>\n",
       "    </tr>\n",
       "    <tr>\n",
       "      <th>4</th>\n",
       "      <td>Is kenya capable of funding its needs now that...</td>\n",
       "      <td>How is kenya prepared to fill the vacuum of US...</td>\n",
       "      <td>Kenya</td>\n",
       "      <td>westmaxia</td>\n",
       "      <td>3/8/2025 8:08</td>\n",
       "      <td>NaN</td>\n",
       "      <td>1.0</td>\n",
       "      <td>6.0</td>\n",
       "      <td>usaid kenya</td>\n",
       "      <td>NaN</td>\n",
       "      <td>NaN</td>\n",
       "      <td>NaN</td>\n",
       "      <td>NaN</td>\n",
       "      <td>https://www.reddit.com/r/Kenya/comments/1j6cjz...</td>\n",
       "      <td>NaN</td>\n",
       "    </tr>\n",
       "  </tbody>\n",
       "</table>\n",
       "</div>"
      ],
      "text/plain": [
       "                                               title  \\\n",
       "0  USAID left a month ago, do we have ARVs in Kenya?   \n",
       "1                  Classism in r/Kenya and r/nairobi   \n",
       "2                       EX-USAID people!! Let's talk   \n",
       "3  Why western powers back Israel no matter what ...   \n",
       "4  Is kenya capable of funding its needs now that...   \n",
       "\n",
       "                                            selftext subreddit         author  \\\n",
       "0  Someone on a different group (different websit...     Kenya         muerki   \n",
       "1  The classism I'm seeing in both subs is a good...     Kenya  Morio_anzenza   \n",
       "2  Are you still in contact with the organisation...     Kenya        vindtar   \n",
       "3  I don't care what good book you read, but it's...     Kenya     Gold_Smart   \n",
       "4  How is kenya prepared to fill the vacuum of US...     Kenya      westmaxia   \n",
       "\n",
       "       created_utc created_date  score  num_comments      keyword search_term  \\\n",
       "0  4/15/2025 13:16          NaN    3.0           5.0  usaid kenya         NaN   \n",
       "1    4/7/2025 4:21          NaN  169.0          95.0  usaid kenya         NaN   \n",
       "2   4/5/2025 19:09          NaN    2.0           2.0  usaid kenya         NaN   \n",
       "3   3/25/2025 8:18          NaN   13.0          20.0  usaid kenya         NaN   \n",
       "4    3/8/2025 8:08          NaN    1.0           6.0  usaid kenya         NaN   \n",
       "\n",
       "   date_posted  upvotes  comments  \\\n",
       "0          NaN      NaN       NaN   \n",
       "1          NaN      NaN       NaN   \n",
       "2          NaN      NaN       NaN   \n",
       "3          NaN      NaN       NaN   \n",
       "4          NaN      NaN       NaN   \n",
       "\n",
       "                                                 url permalink  \n",
       "0  https://www.reddit.com/r/Kenya/comments/1jzrn2...       NaN  \n",
       "1  https://www.reddit.com/r/Kenya/comments/1jtcvb...       NaN  \n",
       "2  https://www.reddit.com/r/Kenya/comments/1jsb14...       NaN  \n",
       "3  https://www.reddit.com/r/Kenya/comments/1jjehw...       NaN  \n",
       "4  https://www.reddit.com/r/Kenya/comments/1j6cjz...       NaN  "
      ]
     },
     "execution_count": 19,
     "metadata": {},
     "output_type": "execute_result"
    }
   ],
   "source": [
    "reddit_df = pd.read_csv('C:/Users/hp/Desktop/DATA NEXUS PROJECTS/USAID-Kenya-Sentiment-Analysis/data/processed/individual datasets/mbego_all_reddit_merged.csv')\n",
    "reddit_df.head()"
   ]
  },
  {
   "cell_type": "code",
   "execution_count": 20,
   "id": "bb901bb4",
   "metadata": {},
   "outputs": [
    {
     "data": {
      "text/html": [
       "<div>\n",
       "<style scoped>\n",
       "    .dataframe tbody tr th:only-of-type {\n",
       "        vertical-align: middle;\n",
       "    }\n",
       "\n",
       "    .dataframe tbody tr th {\n",
       "        vertical-align: top;\n",
       "    }\n",
       "\n",
       "    .dataframe thead th {\n",
       "        text-align: right;\n",
       "    }\n",
       "</style>\n",
       "<table border=\"1\" class=\"dataframe\">\n",
       "  <thead>\n",
       "    <tr style=\"text-align: right;\">\n",
       "      <th></th>\n",
       "      <th>title</th>\n",
       "      <th>selftext</th>\n",
       "      <th>subreddit</th>\n",
       "      <th>author</th>\n",
       "      <th>created_utc</th>\n",
       "      <th>created_date</th>\n",
       "      <th>score</th>\n",
       "      <th>num_comments</th>\n",
       "      <th>keyword</th>\n",
       "      <th>search_term</th>\n",
       "      <th>date_posted</th>\n",
       "      <th>upvotes</th>\n",
       "      <th>comments</th>\n",
       "      <th>url</th>\n",
       "      <th>permalink</th>\n",
       "    </tr>\n",
       "  </thead>\n",
       "  <tbody>\n",
       "    <tr>\n",
       "      <th>1284</th>\n",
       "      <td>Weekly Sub-Saharan Africa Security Situation a...</td>\n",
       "      <td>#Somalia 🇸🇴\\r\\n#Sudan 🇸🇩\\r\\nDemocratic Republi...</td>\n",
       "      <td>Africa</td>\n",
       "      <td>NaN</td>\n",
       "      <td>4/18/2025 14:09</td>\n",
       "      <td>NaN</td>\n",
       "      <td>3.0</td>\n",
       "      <td>2.0</td>\n",
       "      <td>NaN</td>\n",
       "      <td>NaN</td>\n",
       "      <td>NaN</td>\n",
       "      <td>NaN</td>\n",
       "      <td>NaN</td>\n",
       "      <td>https://open.substack.com/pub/hasretkargin/p/w...</td>\n",
       "      <td>NaN</td>\n",
       "    </tr>\n",
       "    <tr>\n",
       "      <th>1285</th>\n",
       "      <td>No evidence that Burkina Faso paid off all its...</td>\n",
       "      <td>NaN</td>\n",
       "      <td>Africa</td>\n",
       "      <td>NaN</td>\n",
       "      <td>4/18/2025 8:23</td>\n",
       "      <td>NaN</td>\n",
       "      <td>52.0</td>\n",
       "      <td>25.0</td>\n",
       "      <td>NaN</td>\n",
       "      <td>NaN</td>\n",
       "      <td>NaN</td>\n",
       "      <td>NaN</td>\n",
       "      <td>NaN</td>\n",
       "      <td>https://www.reuters.com/fact-check/burkina-fas...</td>\n",
       "      <td>NaN</td>\n",
       "    </tr>\n",
       "    <tr>\n",
       "      <th>1286</th>\n",
       "      <td>Ghana orders foreigners to exit gold market by...</td>\n",
       "      <td>Ghana has ordered foreigners to exit its gold ...</td>\n",
       "      <td>Africa</td>\n",
       "      <td>NaN</td>\n",
       "      <td>4/17/2025 17:59</td>\n",
       "      <td>NaN</td>\n",
       "      <td>101.0</td>\n",
       "      <td>12.0</td>\n",
       "      <td>NaN</td>\n",
       "      <td>NaN</td>\n",
       "      <td>NaN</td>\n",
       "      <td>NaN</td>\n",
       "      <td>NaN</td>\n",
       "      <td>https://eastleighvoice.co.ke/west%20african/13...</td>\n",
       "      <td>NaN</td>\n",
       "    </tr>\n",
       "    <tr>\n",
       "      <th>1287</th>\n",
       "      <td>Unending Frustration Regarding Sudan War.</td>\n",
       "      <td>https://www.reuters.com/world/britain-boosts-a...</td>\n",
       "      <td>Africa</td>\n",
       "      <td>NaN</td>\n",
       "      <td>4/16/2025 19:33</td>\n",
       "      <td>NaN</td>\n",
       "      <td>11.0</td>\n",
       "      <td>8.0</td>\n",
       "      <td>NaN</td>\n",
       "      <td>NaN</td>\n",
       "      <td>NaN</td>\n",
       "      <td>NaN</td>\n",
       "      <td>NaN</td>\n",
       "      <td>https://www.reddit.com/gallery/1k0t8ed</td>\n",
       "      <td>NaN</td>\n",
       "    </tr>\n",
       "    <tr>\n",
       "      <th>1288</th>\n",
       "      <td>Tanzania's Authoritarian Government Has Just B...</td>\n",
       "      <td>Tanzania's main opposition party has been barr...</td>\n",
       "      <td>Africa</td>\n",
       "      <td>NaN</td>\n",
       "      <td>4/14/2025 11:31</td>\n",
       "      <td>NaN</td>\n",
       "      <td>52.0</td>\n",
       "      <td>14.0</td>\n",
       "      <td>NaN</td>\n",
       "      <td>NaN</td>\n",
       "      <td>NaN</td>\n",
       "      <td>NaN</td>\n",
       "      <td>NaN</td>\n",
       "      <td>https://www.reddit.com/r/Africa/comments/1jywl...</td>\n",
       "      <td>NaN</td>\n",
       "    </tr>\n",
       "  </tbody>\n",
       "</table>\n",
       "</div>"
      ],
      "text/plain": [
       "                                                  title  \\\n",
       "1284  Weekly Sub-Saharan Africa Security Situation a...   \n",
       "1285  No evidence that Burkina Faso paid off all its...   \n",
       "1286  Ghana orders foreigners to exit gold market by...   \n",
       "1287          Unending Frustration Regarding Sudan War.   \n",
       "1288  Tanzania's Authoritarian Government Has Just B...   \n",
       "\n",
       "                                               selftext subreddit author  \\\n",
       "1284  #Somalia 🇸🇴\\r\\n#Sudan 🇸🇩\\r\\nDemocratic Republi...    Africa    NaN   \n",
       "1285                                                NaN    Africa    NaN   \n",
       "1286  Ghana has ordered foreigners to exit its gold ...    Africa    NaN   \n",
       "1287  https://www.reuters.com/world/britain-boosts-a...    Africa    NaN   \n",
       "1288  Tanzania's main opposition party has been barr...    Africa    NaN   \n",
       "\n",
       "          created_utc created_date  score  num_comments keyword search_term  \\\n",
       "1284  4/18/2025 14:09          NaN    3.0           2.0     NaN         NaN   \n",
       "1285   4/18/2025 8:23          NaN   52.0          25.0     NaN         NaN   \n",
       "1286  4/17/2025 17:59          NaN  101.0          12.0     NaN         NaN   \n",
       "1287  4/16/2025 19:33          NaN   11.0           8.0     NaN         NaN   \n",
       "1288  4/14/2025 11:31          NaN   52.0          14.0     NaN         NaN   \n",
       "\n",
       "      date_posted  upvotes  comments  \\\n",
       "1284          NaN      NaN       NaN   \n",
       "1285          NaN      NaN       NaN   \n",
       "1286          NaN      NaN       NaN   \n",
       "1287          NaN      NaN       NaN   \n",
       "1288          NaN      NaN       NaN   \n",
       "\n",
       "                                                    url permalink  \n",
       "1284  https://open.substack.com/pub/hasretkargin/p/w...       NaN  \n",
       "1285  https://www.reuters.com/fact-check/burkina-fas...       NaN  \n",
       "1286  https://eastleighvoice.co.ke/west%20african/13...       NaN  \n",
       "1287             https://www.reddit.com/gallery/1k0t8ed       NaN  \n",
       "1288  https://www.reddit.com/r/Africa/comments/1jywl...       NaN  "
      ]
     },
     "execution_count": 20,
     "metadata": {},
     "output_type": "execute_result"
    }
   ],
   "source": [
    "reddit_df.tail()"
   ]
  },
  {
   "cell_type": "code",
   "execution_count": 21,
   "id": "6ad45f63",
   "metadata": {},
   "outputs": [
    {
     "name": "stdout",
     "output_type": "stream",
     "text": [
      "<class 'pandas.core.frame.DataFrame'>\n",
      "RangeIndex: 1289 entries, 0 to 1288\n",
      "Data columns (total 15 columns):\n",
      " #   Column        Non-Null Count  Dtype  \n",
      "---  ------        --------------  -----  \n",
      " 0   title         1289 non-null   object \n",
      " 1   selftext      901 non-null    object \n",
      " 2   subreddit     1289 non-null   object \n",
      " 3   author        466 non-null    object \n",
      " 4   created_utc   1289 non-null   object \n",
      " 5   created_date  150 non-null    object \n",
      " 6   score         1013 non-null   float64\n",
      " 7   num_comments  833 non-null    float64\n",
      " 8   keyword       742 non-null    object \n",
      " 9   search_term   150 non-null    object \n",
      " 10  date_posted   0 non-null      float64\n",
      " 11  upvotes       276 non-null    float64\n",
      " 12  comments      276 non-null    float64\n",
      " 13  url           1289 non-null   object \n",
      " 14  permalink     426 non-null    object \n",
      "dtypes: float64(5), object(10)\n",
      "memory usage: 151.2+ KB\n"
     ]
    }
   ],
   "source": [
    "reddit_df.info()"
   ]
  },
  {
   "cell_type": "code",
   "execution_count": 22,
   "id": "b7fe73d5",
   "metadata": {},
   "outputs": [
    {
     "data": {
      "text/plain": [
       "(1289, 15)"
      ]
     },
     "execution_count": 22,
     "metadata": {},
     "output_type": "execute_result"
    }
   ],
   "source": [
    "reddit_df.shape"
   ]
  },
  {
   "cell_type": "code",
   "execution_count": 23,
   "id": "a727ec60",
   "metadata": {},
   "outputs": [
    {
     "data": {
      "text/plain": [
       "Index(['title', 'selftext', 'subreddit', 'author', 'created_utc',\n",
       "       'created_date', 'score', 'num_comments', 'keyword', 'search_term',\n",
       "       'date_posted', 'upvotes', 'comments', 'url', 'permalink'],\n",
       "      dtype='object')"
      ]
     },
     "execution_count": 23,
     "metadata": {},
     "output_type": "execute_result"
    }
   ],
   "source": [
    "reddit_df.columns"
   ]
  },
  {
   "cell_type": "code",
   "execution_count": 24,
   "id": "30f65492",
   "metadata": {},
   "outputs": [
    {
     "data": {
      "text/plain": [
       "title            object\n",
       "selftext         object\n",
       "subreddit        object\n",
       "author           object\n",
       "created_utc      object\n",
       "created_date     object\n",
       "score           float64\n",
       "num_comments    float64\n",
       "keyword          object\n",
       "search_term      object\n",
       "date_posted     float64\n",
       "upvotes         float64\n",
       "comments        float64\n",
       "url              object\n",
       "permalink        object\n",
       "dtype: object"
      ]
     },
     "execution_count": 24,
     "metadata": {},
     "output_type": "execute_result"
    }
   ],
   "source": [
    "reddit_df.dtypes"
   ]
  },
  {
   "cell_type": "code",
   "execution_count": 25,
   "id": "60c5141b",
   "metadata": {},
   "outputs": [
    {
     "data": {
      "text/plain": [
       "title              0\n",
       "selftext         388\n",
       "subreddit          0\n",
       "author           823\n",
       "created_utc        0\n",
       "created_date    1139\n",
       "score            276\n",
       "num_comments     456\n",
       "keyword          547\n",
       "search_term     1139\n",
       "date_posted     1289\n",
       "upvotes         1013\n",
       "comments        1013\n",
       "url                0\n",
       "permalink        863\n",
       "dtype: int64"
      ]
     },
     "execution_count": 25,
     "metadata": {},
     "output_type": "execute_result"
    }
   ],
   "source": [
    "reddit_df.isna().sum()"
   ]
  },
  {
   "cell_type": "code",
   "execution_count": 26,
   "id": "f73a4f2a",
   "metadata": {},
   "outputs": [
    {
     "data": {
      "text/html": [
       "<div>\n",
       "<style scoped>\n",
       "    .dataframe tbody tr th:only-of-type {\n",
       "        vertical-align: middle;\n",
       "    }\n",
       "\n",
       "    .dataframe tbody tr th {\n",
       "        vertical-align: top;\n",
       "    }\n",
       "\n",
       "    .dataframe thead th {\n",
       "        text-align: right;\n",
       "    }\n",
       "</style>\n",
       "<table border=\"1\" class=\"dataframe\">\n",
       "  <thead>\n",
       "    <tr style=\"text-align: right;\">\n",
       "      <th></th>\n",
       "      <th>score</th>\n",
       "      <th>num_comments</th>\n",
       "      <th>date_posted</th>\n",
       "      <th>upvotes</th>\n",
       "      <th>comments</th>\n",
       "    </tr>\n",
       "  </thead>\n",
       "  <tbody>\n",
       "    <tr>\n",
       "      <th>count</th>\n",
       "      <td>1013.000000</td>\n",
       "      <td>833.000000</td>\n",
       "      <td>0.0</td>\n",
       "      <td>276.000000</td>\n",
       "      <td>276.000000</td>\n",
       "    </tr>\n",
       "    <tr>\n",
       "      <th>mean</th>\n",
       "      <td>344.626851</td>\n",
       "      <td>31.349340</td>\n",
       "      <td>NaN</td>\n",
       "      <td>337.518116</td>\n",
       "      <td>35.905797</td>\n",
       "    </tr>\n",
       "    <tr>\n",
       "      <th>std</th>\n",
       "      <td>3106.309319</td>\n",
       "      <td>68.060435</td>\n",
       "      <td>NaN</td>\n",
       "      <td>1623.914761</td>\n",
       "      <td>73.531775</td>\n",
       "    </tr>\n",
       "    <tr>\n",
       "      <th>min</th>\n",
       "      <td>0.000000</td>\n",
       "      <td>0.000000</td>\n",
       "      <td>NaN</td>\n",
       "      <td>0.000000</td>\n",
       "      <td>0.000000</td>\n",
       "    </tr>\n",
       "    <tr>\n",
       "      <th>25%</th>\n",
       "      <td>3.000000</td>\n",
       "      <td>4.000000</td>\n",
       "      <td>NaN</td>\n",
       "      <td>6.750000</td>\n",
       "      <td>5.000000</td>\n",
       "    </tr>\n",
       "    <tr>\n",
       "      <th>50%</th>\n",
       "      <td>10.000000</td>\n",
       "      <td>9.000000</td>\n",
       "      <td>NaN</td>\n",
       "      <td>43.500000</td>\n",
       "      <td>13.000000</td>\n",
       "    </tr>\n",
       "    <tr>\n",
       "      <th>75%</th>\n",
       "      <td>54.000000</td>\n",
       "      <td>31.000000</td>\n",
       "      <td>NaN</td>\n",
       "      <td>111.250000</td>\n",
       "      <td>31.250000</td>\n",
       "    </tr>\n",
       "    <tr>\n",
       "      <th>max</th>\n",
       "      <td>79088.000000</td>\n",
       "      <td>706.000000</td>\n",
       "      <td>NaN</td>\n",
       "      <td>22208.000000</td>\n",
       "      <td>558.000000</td>\n",
       "    </tr>\n",
       "  </tbody>\n",
       "</table>\n",
       "</div>"
      ],
      "text/plain": [
       "              score  num_comments  date_posted       upvotes    comments\n",
       "count   1013.000000    833.000000          0.0    276.000000  276.000000\n",
       "mean     344.626851     31.349340          NaN    337.518116   35.905797\n",
       "std     3106.309319     68.060435          NaN   1623.914761   73.531775\n",
       "min        0.000000      0.000000          NaN      0.000000    0.000000\n",
       "25%        3.000000      4.000000          NaN      6.750000    5.000000\n",
       "50%       10.000000      9.000000          NaN     43.500000   13.000000\n",
       "75%       54.000000     31.000000          NaN    111.250000   31.250000\n",
       "max    79088.000000    706.000000          NaN  22208.000000  558.000000"
      ]
     },
     "execution_count": 26,
     "metadata": {},
     "output_type": "execute_result"
    }
   ],
   "source": [
    "reddit_df.describe()"
   ]
  },
  {
   "cell_type": "markdown",
   "id": "9dd4cbe8",
   "metadata": {},
   "source": [
    "## Data Cleaning"
   ]
  },
  {
   "cell_type": "markdown",
   "id": "9c842aff",
   "metadata": {},
   "source": [
    "### Dropping Unneccessary Columns"
   ]
  },
  {
   "cell_type": "code",
   "execution_count": 27,
   "id": "9d728b90",
   "metadata": {},
   "outputs": [
    {
     "data": {
      "text/html": [
       "<div>\n",
       "<style scoped>\n",
       "    .dataframe tbody tr th:only-of-type {\n",
       "        vertical-align: middle;\n",
       "    }\n",
       "\n",
       "    .dataframe tbody tr th {\n",
       "        vertical-align: top;\n",
       "    }\n",
       "\n",
       "    .dataframe thead th {\n",
       "        text-align: right;\n",
       "    }\n",
       "</style>\n",
       "<table border=\"1\" class=\"dataframe\">\n",
       "  <thead>\n",
       "    <tr style=\"text-align: right;\">\n",
       "      <th></th>\n",
       "      <th>title</th>\n",
       "      <th>selftext</th>\n",
       "      <th>created_utc</th>\n",
       "      <th>keyword</th>\n",
       "      <th>url</th>\n",
       "    </tr>\n",
       "  </thead>\n",
       "  <tbody>\n",
       "    <tr>\n",
       "      <th>0</th>\n",
       "      <td>USAID left a month ago, do we have ARVs in Kenya?</td>\n",
       "      <td>Someone on a different group (different websit...</td>\n",
       "      <td>4/15/2025 13:16</td>\n",
       "      <td>usaid kenya</td>\n",
       "      <td>https://www.reddit.com/r/Kenya/comments/1jzrn2...</td>\n",
       "    </tr>\n",
       "    <tr>\n",
       "      <th>1</th>\n",
       "      <td>Classism in r/Kenya and r/nairobi</td>\n",
       "      <td>The classism I'm seeing in both subs is a good...</td>\n",
       "      <td>4/7/2025 4:21</td>\n",
       "      <td>usaid kenya</td>\n",
       "      <td>https://www.reddit.com/r/Kenya/comments/1jtcvb...</td>\n",
       "    </tr>\n",
       "    <tr>\n",
       "      <th>2</th>\n",
       "      <td>EX-USAID people!! Let's talk</td>\n",
       "      <td>Are you still in contact with the organisation...</td>\n",
       "      <td>4/5/2025 19:09</td>\n",
       "      <td>usaid kenya</td>\n",
       "      <td>https://www.reddit.com/r/Kenya/comments/1jsb14...</td>\n",
       "    </tr>\n",
       "    <tr>\n",
       "      <th>3</th>\n",
       "      <td>Why western powers back Israel no matter what ...</td>\n",
       "      <td>I don't care what good book you read, but it's...</td>\n",
       "      <td>3/25/2025 8:18</td>\n",
       "      <td>usaid kenya</td>\n",
       "      <td>https://www.reddit.com/r/Kenya/comments/1jjehw...</td>\n",
       "    </tr>\n",
       "    <tr>\n",
       "      <th>4</th>\n",
       "      <td>Is kenya capable of funding its needs now that...</td>\n",
       "      <td>How is kenya prepared to fill the vacuum of US...</td>\n",
       "      <td>3/8/2025 8:08</td>\n",
       "      <td>usaid kenya</td>\n",
       "      <td>https://www.reddit.com/r/Kenya/comments/1j6cjz...</td>\n",
       "    </tr>\n",
       "  </tbody>\n",
       "</table>\n",
       "</div>"
      ],
      "text/plain": [
       "                                               title  \\\n",
       "0  USAID left a month ago, do we have ARVs in Kenya?   \n",
       "1                  Classism in r/Kenya and r/nairobi   \n",
       "2                       EX-USAID people!! Let's talk   \n",
       "3  Why western powers back Israel no matter what ...   \n",
       "4  Is kenya capable of funding its needs now that...   \n",
       "\n",
       "                                            selftext      created_utc  \\\n",
       "0  Someone on a different group (different websit...  4/15/2025 13:16   \n",
       "1  The classism I'm seeing in both subs is a good...    4/7/2025 4:21   \n",
       "2  Are you still in contact with the organisation...   4/5/2025 19:09   \n",
       "3  I don't care what good book you read, but it's...   3/25/2025 8:18   \n",
       "4  How is kenya prepared to fill the vacuum of US...    3/8/2025 8:08   \n",
       "\n",
       "       keyword                                                url  \n",
       "0  usaid kenya  https://www.reddit.com/r/Kenya/comments/1jzrn2...  \n",
       "1  usaid kenya  https://www.reddit.com/r/Kenya/comments/1jtcvb...  \n",
       "2  usaid kenya  https://www.reddit.com/r/Kenya/comments/1jsb14...  \n",
       "3  usaid kenya  https://www.reddit.com/r/Kenya/comments/1jjehw...  \n",
       "4  usaid kenya  https://www.reddit.com/r/Kenya/comments/1j6cjz...  "
      ]
     },
     "execution_count": 27,
     "metadata": {},
     "output_type": "execute_result"
    }
   ],
   "source": [
    "reddit_df.drop(columns=['subreddit', 'author','created_date','score','num_comments','search_term','date_posted','upvotes','comments','permalink'], inplace=True)\n",
    "reddit_df.head()"
   ]
  },
  {
   "cell_type": "code",
   "execution_count": 28,
   "id": "b3a0c1d9",
   "metadata": {},
   "outputs": [
    {
     "data": {
      "text/plain": [
       "Index(['title', 'selftext', 'created_utc', 'keyword', 'url'], dtype='object')"
      ]
     },
     "execution_count": 28,
     "metadata": {},
     "output_type": "execute_result"
    }
   ],
   "source": [
    "reddit_df.columns"
   ]
  },
  {
   "cell_type": "markdown",
   "id": "7d1439e1",
   "metadata": {},
   "source": [
    "### Checking for missing values"
   ]
  },
  {
   "cell_type": "code",
   "execution_count": 29,
   "id": "6bb35394",
   "metadata": {},
   "outputs": [
    {
     "data": {
      "text/plain": [
       "title            0\n",
       "selftext       388\n",
       "created_utc      0\n",
       "keyword        547\n",
       "url              0\n",
       "dtype: int64"
      ]
     },
     "execution_count": 29,
     "metadata": {},
     "output_type": "execute_result"
    }
   ],
   "source": [
    "reddit_df.isna().sum()"
   ]
  },
  {
   "cell_type": "code",
   "execution_count": 30,
   "id": "b079ba9e",
   "metadata": {},
   "outputs": [
    {
     "data": {
      "text/html": [
       "<div>\n",
       "<style scoped>\n",
       "    .dataframe tbody tr th:only-of-type {\n",
       "        vertical-align: middle;\n",
       "    }\n",
       "\n",
       "    .dataframe tbody tr th {\n",
       "        vertical-align: top;\n",
       "    }\n",
       "\n",
       "    .dataframe thead th {\n",
       "        text-align: right;\n",
       "    }\n",
       "</style>\n",
       "<table border=\"1\" class=\"dataframe\">\n",
       "  <thead>\n",
       "    <tr style=\"text-align: right;\">\n",
       "      <th></th>\n",
       "      <th>selftext</th>\n",
       "      <th>title</th>\n",
       "      <th>url</th>\n",
       "    </tr>\n",
       "  </thead>\n",
       "  <tbody>\n",
       "    <tr>\n",
       "      <th>484</th>\n",
       "      <td>I have just watched the MP of Homa Bay defendi...</td>\n",
       "      <td>Ignorance or malice?</td>\n",
       "      <td>https://www.reddit.com/r/Kenya/comments/1inj4k...</td>\n",
       "    </tr>\n",
       "    <tr>\n",
       "      <th>418</th>\n",
       "      <td>NaN</td>\n",
       "      <td>USAID Ukraine office ordered to suspend fundin...</td>\n",
       "      <td>https://unn.ua/en/news/usaid-ukraine-office-or...</td>\n",
       "    </tr>\n",
       "    <tr>\n",
       "      <th>568</th>\n",
       "      <td>Has anyone here gotten any criteria for the fo...</td>\n",
       "      <td>Review statuses?</td>\n",
       "      <td>https://www.reddit.com/r/InternationalDev/comm...</td>\n",
       "    </tr>\n",
       "    <tr>\n",
       "      <th>294</th>\n",
       "      <td>I work for an international company that focus...</td>\n",
       "      <td>Epc projects</td>\n",
       "      <td>https://www.reddit.com/r/Kenya/comments/1ikmwy...</td>\n",
       "    </tr>\n",
       "    <tr>\n",
       "      <th>963</th>\n",
       "      <td>NaN</td>\n",
       "      <td>America's European allies are trying to pry th...</td>\n",
       "      <td>https://apnews.com/article/usaid-trump-foreign...</td>\n",
       "    </tr>\n",
       "    <tr>\n",
       "      <th>443</th>\n",
       "      <td>NaN</td>\n",
       "      <td>Canadian universities report jump in US applic...</td>\n",
       "      <td>https://www.reuters.com/world/americas/canadia...</td>\n",
       "    </tr>\n",
       "    <tr>\n",
       "      <th>468</th>\n",
       "      <td>NaN</td>\n",
       "      <td>Bill Gates 'horrified' by Trump cuts to US aid...</td>\n",
       "      <td>https://www.semafor.com/article/05/08/2025/bil...</td>\n",
       "    </tr>\n",
       "    <tr>\n",
       "      <th>936</th>\n",
       "      <td>At first glance, BRICS, the rise of the AfD, T...</td>\n",
       "      <td>The Israel-Gaza War: A Symptom of a Looming Gl...</td>\n",
       "      <td>https://www.reddit.com/r/Kenya/comments/1iygom...</td>\n",
       "    </tr>\n",
       "    <tr>\n",
       "      <th>570</th>\n",
       "      <td>Finally.</td>\n",
       "      <td>Public Citizen sues the Trump Administration, ...</td>\n",
       "      <td>https://www.citizen.org/news/nonprofits-sue-tr...</td>\n",
       "    </tr>\n",
       "    <tr>\n",
       "      <th>557</th>\n",
       "      <td>Georgetown SFS GHD v. American NRSD - Internat...</td>\n",
       "      <td>Georgetown SFS GHD v. American University NRSD...</td>\n",
       "      <td>https://www.reddit.com/r/InternationalDev/comm...</td>\n",
       "    </tr>\n",
       "  </tbody>\n",
       "</table>\n",
       "</div>"
      ],
      "text/plain": [
       "                                              selftext  \\\n",
       "484  I have just watched the MP of Homa Bay defendi...   \n",
       "418                                                NaN   \n",
       "568  Has anyone here gotten any criteria for the fo...   \n",
       "294  I work for an international company that focus...   \n",
       "963                                                NaN   \n",
       "443                                                NaN   \n",
       "468                                                NaN   \n",
       "936  At first glance, BRICS, the rise of the AfD, T...   \n",
       "570                                           Finally.   \n",
       "557  Georgetown SFS GHD v. American NRSD - Internat...   \n",
       "\n",
       "                                                 title  \\\n",
       "484                               Ignorance or malice?   \n",
       "418  USAID Ukraine office ordered to suspend fundin...   \n",
       "568                                   Review statuses?   \n",
       "294                                       Epc projects   \n",
       "963  America's European allies are trying to pry th...   \n",
       "443  Canadian universities report jump in US applic...   \n",
       "468  Bill Gates 'horrified' by Trump cuts to US aid...   \n",
       "936  The Israel-Gaza War: A Symptom of a Looming Gl...   \n",
       "570  Public Citizen sues the Trump Administration, ...   \n",
       "557  Georgetown SFS GHD v. American University NRSD...   \n",
       "\n",
       "                                                   url  \n",
       "484  https://www.reddit.com/r/Kenya/comments/1inj4k...  \n",
       "418  https://unn.ua/en/news/usaid-ukraine-office-or...  \n",
       "568  https://www.reddit.com/r/InternationalDev/comm...  \n",
       "294  https://www.reddit.com/r/Kenya/comments/1ikmwy...  \n",
       "963  https://apnews.com/article/usaid-trump-foreign...  \n",
       "443  https://www.reuters.com/world/americas/canadia...  \n",
       "468  https://www.semafor.com/article/05/08/2025/bil...  \n",
       "936  https://www.reddit.com/r/Kenya/comments/1iygom...  \n",
       "570  https://www.citizen.org/news/nonprofits-sue-tr...  \n",
       "557  https://www.reddit.com/r/InternationalDev/comm...  "
      ]
     },
     "execution_count": 30,
     "metadata": {},
     "output_type": "execute_result"
    }
   ],
   "source": [
    "reddit_df[['selftext', 'title','url']].sample(10)"
   ]
  },
  {
   "cell_type": "code",
   "execution_count": 31,
   "id": "adc2b2a7",
   "metadata": {},
   "outputs": [
    {
     "data": {
      "text/html": [
       "<div>\n",
       "<style scoped>\n",
       "    .dataframe tbody tr th:only-of-type {\n",
       "        vertical-align: middle;\n",
       "    }\n",
       "\n",
       "    .dataframe tbody tr th {\n",
       "        vertical-align: top;\n",
       "    }\n",
       "\n",
       "    .dataframe thead th {\n",
       "        text-align: right;\n",
       "    }\n",
       "</style>\n",
       "<table border=\"1\" class=\"dataframe\">\n",
       "  <thead>\n",
       "    <tr style=\"text-align: right;\">\n",
       "      <th></th>\n",
       "      <th>post_title</th>\n",
       "      <th>text</th>\n",
       "      <th>published_date</th>\n",
       "      <th>keyword</th>\n",
       "      <th>url</th>\n",
       "    </tr>\n",
       "  </thead>\n",
       "  <tbody>\n",
       "    <tr>\n",
       "      <th>0</th>\n",
       "      <td>USAID left a month ago, do we have ARVs in Kenya?</td>\n",
       "      <td>Someone on a different group (different websit...</td>\n",
       "      <td>4/15/2025 13:16</td>\n",
       "      <td>usaid kenya</td>\n",
       "      <td>https://www.reddit.com/r/Kenya/comments/1jzrn2...</td>\n",
       "    </tr>\n",
       "    <tr>\n",
       "      <th>1</th>\n",
       "      <td>Classism in r/Kenya and r/nairobi</td>\n",
       "      <td>The classism I'm seeing in both subs is a good...</td>\n",
       "      <td>4/7/2025 4:21</td>\n",
       "      <td>usaid kenya</td>\n",
       "      <td>https://www.reddit.com/r/Kenya/comments/1jtcvb...</td>\n",
       "    </tr>\n",
       "    <tr>\n",
       "      <th>2</th>\n",
       "      <td>EX-USAID people!! Let's talk</td>\n",
       "      <td>Are you still in contact with the organisation...</td>\n",
       "      <td>4/5/2025 19:09</td>\n",
       "      <td>usaid kenya</td>\n",
       "      <td>https://www.reddit.com/r/Kenya/comments/1jsb14...</td>\n",
       "    </tr>\n",
       "    <tr>\n",
       "      <th>3</th>\n",
       "      <td>Why western powers back Israel no matter what ...</td>\n",
       "      <td>I don't care what good book you read, but it's...</td>\n",
       "      <td>3/25/2025 8:18</td>\n",
       "      <td>usaid kenya</td>\n",
       "      <td>https://www.reddit.com/r/Kenya/comments/1jjehw...</td>\n",
       "    </tr>\n",
       "    <tr>\n",
       "      <th>4</th>\n",
       "      <td>Is kenya capable of funding its needs now that...</td>\n",
       "      <td>How is kenya prepared to fill the vacuum of US...</td>\n",
       "      <td>3/8/2025 8:08</td>\n",
       "      <td>usaid kenya</td>\n",
       "      <td>https://www.reddit.com/r/Kenya/comments/1j6cjz...</td>\n",
       "    </tr>\n",
       "  </tbody>\n",
       "</table>\n",
       "</div>"
      ],
      "text/plain": [
       "                                          post_title  \\\n",
       "0  USAID left a month ago, do we have ARVs in Kenya?   \n",
       "1                  Classism in r/Kenya and r/nairobi   \n",
       "2                       EX-USAID people!! Let's talk   \n",
       "3  Why western powers back Israel no matter what ...   \n",
       "4  Is kenya capable of funding its needs now that...   \n",
       "\n",
       "                                                text   published_date  \\\n",
       "0  Someone on a different group (different websit...  4/15/2025 13:16   \n",
       "1  The classism I'm seeing in both subs is a good...    4/7/2025 4:21   \n",
       "2  Are you still in contact with the organisation...   4/5/2025 19:09   \n",
       "3  I don't care what good book you read, but it's...   3/25/2025 8:18   \n",
       "4  How is kenya prepared to fill the vacuum of US...    3/8/2025 8:08   \n",
       "\n",
       "       keyword                                                url  \n",
       "0  usaid kenya  https://www.reddit.com/r/Kenya/comments/1jzrn2...  \n",
       "1  usaid kenya  https://www.reddit.com/r/Kenya/comments/1jtcvb...  \n",
       "2  usaid kenya  https://www.reddit.com/r/Kenya/comments/1jsb14...  \n",
       "3  usaid kenya  https://www.reddit.com/r/Kenya/comments/1jjehw...  \n",
       "4  usaid kenya  https://www.reddit.com/r/Kenya/comments/1j6cjz...  "
      ]
     },
     "execution_count": 31,
     "metadata": {},
     "output_type": "execute_result"
    }
   ],
   "source": [
    "reddit_df.rename(columns={'title':'post_title','selftext':'text','created_utc':'published_date'},inplace=True)\n",
    "reddit_df.head()"
   ]
  },
  {
   "cell_type": "markdown",
   "id": "6cb43549",
   "metadata": {},
   "source": [
    "**parse** - analyze and convert a piece of data (like a string) into a different, more useful format.\n",
    "\n",
    "The below code cleans the published_date column in the data. Some dates are written as normal dates (eg \"2025-04-15\") and others are written as numbers (UNIX timestamps). The code checks each value and tries to convert it into a proper date. If it can’t, it leaves it empty. After that, it removes the time part and keeps just the date. This helps make sure all the dates are in the same clean format."
   ]
  },
  {
   "cell_type": "code",
   "execution_count": 32,
   "id": "3b7730f9",
   "metadata": {},
   "outputs": [
    {
     "name": "stdout",
     "output_type": "stream",
     "text": [
      "Unparsed dates: 0\n"
     ]
    },
    {
     "data": {
      "text/html": [
       "<div>\n",
       "<style scoped>\n",
       "    .dataframe tbody tr th:only-of-type {\n",
       "        vertical-align: middle;\n",
       "    }\n",
       "\n",
       "    .dataframe tbody tr th {\n",
       "        vertical-align: top;\n",
       "    }\n",
       "\n",
       "    .dataframe thead th {\n",
       "        text-align: right;\n",
       "    }\n",
       "</style>\n",
       "<table border=\"1\" class=\"dataframe\">\n",
       "  <thead>\n",
       "    <tr style=\"text-align: right;\">\n",
       "      <th></th>\n",
       "      <th>post_title</th>\n",
       "      <th>text</th>\n",
       "      <th>published_date</th>\n",
       "      <th>keyword</th>\n",
       "      <th>url</th>\n",
       "    </tr>\n",
       "  </thead>\n",
       "  <tbody>\n",
       "    <tr>\n",
       "      <th>0</th>\n",
       "      <td>USAID left a month ago, do we have ARVs in Kenya?</td>\n",
       "      <td>Someone on a different group (different websit...</td>\n",
       "      <td>2025-04-15</td>\n",
       "      <td>usaid kenya</td>\n",
       "      <td>https://www.reddit.com/r/Kenya/comments/1jzrn2...</td>\n",
       "    </tr>\n",
       "    <tr>\n",
       "      <th>1</th>\n",
       "      <td>Classism in r/Kenya and r/nairobi</td>\n",
       "      <td>The classism I'm seeing in both subs is a good...</td>\n",
       "      <td>2025-04-07</td>\n",
       "      <td>usaid kenya</td>\n",
       "      <td>https://www.reddit.com/r/Kenya/comments/1jtcvb...</td>\n",
       "    </tr>\n",
       "    <tr>\n",
       "      <th>2</th>\n",
       "      <td>EX-USAID people!! Let's talk</td>\n",
       "      <td>Are you still in contact with the organisation...</td>\n",
       "      <td>2025-04-05</td>\n",
       "      <td>usaid kenya</td>\n",
       "      <td>https://www.reddit.com/r/Kenya/comments/1jsb14...</td>\n",
       "    </tr>\n",
       "    <tr>\n",
       "      <th>3</th>\n",
       "      <td>Why western powers back Israel no matter what ...</td>\n",
       "      <td>I don't care what good book you read, but it's...</td>\n",
       "      <td>2025-03-25</td>\n",
       "      <td>usaid kenya</td>\n",
       "      <td>https://www.reddit.com/r/Kenya/comments/1jjehw...</td>\n",
       "    </tr>\n",
       "    <tr>\n",
       "      <th>4</th>\n",
       "      <td>Is kenya capable of funding its needs now that...</td>\n",
       "      <td>How is kenya prepared to fill the vacuum of US...</td>\n",
       "      <td>2025-03-08</td>\n",
       "      <td>usaid kenya</td>\n",
       "      <td>https://www.reddit.com/r/Kenya/comments/1j6cjz...</td>\n",
       "    </tr>\n",
       "  </tbody>\n",
       "</table>\n",
       "</div>"
      ],
      "text/plain": [
       "                                          post_title  \\\n",
       "0  USAID left a month ago, do we have ARVs in Kenya?   \n",
       "1                  Classism in r/Kenya and r/nairobi   \n",
       "2                       EX-USAID people!! Let's talk   \n",
       "3  Why western powers back Israel no matter what ...   \n",
       "4  Is kenya capable of funding its needs now that...   \n",
       "\n",
       "                                                text published_date  \\\n",
       "0  Someone on a different group (different websit...     2025-04-15   \n",
       "1  The classism I'm seeing in both subs is a good...     2025-04-07   \n",
       "2  Are you still in contact with the organisation...     2025-04-05   \n",
       "3  I don't care what good book you read, but it's...     2025-03-25   \n",
       "4  How is kenya prepared to fill the vacuum of US...     2025-03-08   \n",
       "\n",
       "       keyword                                                url  \n",
       "0  usaid kenya  https://www.reddit.com/r/Kenya/comments/1jzrn2...  \n",
       "1  usaid kenya  https://www.reddit.com/r/Kenya/comments/1jtcvb...  \n",
       "2  usaid kenya  https://www.reddit.com/r/Kenya/comments/1jsb14...  \n",
       "3  usaid kenya  https://www.reddit.com/r/Kenya/comments/1jjehw...  \n",
       "4  usaid kenya  https://www.reddit.com/r/Kenya/comments/1j6cjz...  "
      ]
     },
     "execution_count": 32,
     "metadata": {},
     "output_type": "execute_result"
    }
   ],
   "source": [
    "import pandas as pd\n",
    "\n",
    "# Function to handle both datetime strings and UNIX timestamps\n",
    "def parse_mixed_dates(val):\n",
    "    try:\n",
    "        # Parse as a regular datetime string\n",
    "        return pd.to_datetime(val)\n",
    "    except:\n",
    "        try:\n",
    "            # Parse as a UNIX timestamp\n",
    "            return pd.to_datetime(float(val), unit='s')\n",
    "        except:\n",
    "            return pd.NaT  # Return NaT if all parsing fails\n",
    "\n",
    "# Apply the parsing function\n",
    "reddit_df['published_date'] = reddit_df['published_date'].apply(parse_mixed_dates)\n",
    "\n",
    "# Check how many dates failed to parse\n",
    "print(\"Unparsed dates:\", reddit_df['published_date'].isna().sum())\n",
    "\n",
    "# Extract date only (remove time)\n",
    "reddit_df['published_date'] = reddit_df['published_date'].dt.date\n",
    "reddit_df.head()"
   ]
  },
  {
   "cell_type": "code",
   "execution_count": 33,
   "id": "0f3eebd2",
   "metadata": {},
   "outputs": [
    {
     "data": {
      "text/plain": [
       "0"
      ]
     },
     "execution_count": 33,
     "metadata": {},
     "output_type": "execute_result"
    }
   ],
   "source": [
    "reddit_df['published_date'].isna().sum() #check the missing values in date"
   ]
  },
  {
   "cell_type": "code",
   "execution_count": 34,
   "id": "e5641d8e",
   "metadata": {},
   "outputs": [],
   "source": [
    "reddit_df.dropna(subset=['published_date'], inplace=True) #drop missing values in date"
   ]
  },
  {
   "cell_type": "code",
   "execution_count": 35,
   "id": "d24d8427",
   "metadata": {},
   "outputs": [
    {
     "data": {
      "text/plain": [
       "(1289, 5)"
      ]
     },
     "execution_count": 35,
     "metadata": {},
     "output_type": "execute_result"
    }
   ],
   "source": [
    "reddit_df.shape #check the shape of the dataset"
   ]
  },
  {
   "cell_type": "code",
   "execution_count": 36,
   "id": "8a3cd9dc",
   "metadata": {},
   "outputs": [
    {
     "data": {
      "text/plain": [
       "post_title          0\n",
       "text              388\n",
       "published_date      0\n",
       "keyword           547\n",
       "url                 0\n",
       "dtype: int64"
      ]
     },
     "execution_count": 36,
     "metadata": {},
     "output_type": "execute_result"
    }
   ],
   "source": [
    "reddit_df.isna().sum() #check for missing values"
   ]
  },
  {
   "cell_type": "markdown",
   "id": "e9daac39",
   "metadata": {},
   "source": [
    "### Fill missing values in text with an empty string"
   ]
  },
  {
   "cell_type": "markdown",
   "id": "063ab99e",
   "metadata": {},
   "source": [
    "I filled missing values in text with an empty string because these are likely link posts where the author did not add body text."
   ]
  },
  {
   "cell_type": "code",
   "execution_count": 37,
   "id": "8d73eb67",
   "metadata": {},
   "outputs": [
    {
     "data": {
      "text/plain": [
       "post_title          0\n",
       "text                0\n",
       "published_date      0\n",
       "keyword           547\n",
       "url                 0\n",
       "dtype: int64"
      ]
     },
     "execution_count": 37,
     "metadata": {},
     "output_type": "execute_result"
    }
   ],
   "source": [
    "reddit_df['text'] = reddit_df['text'].fillna('')\n",
    "reddit_df.isna().sum()"
   ]
  },
  {
   "cell_type": "markdown",
   "id": "db683fc5",
   "metadata": {},
   "source": [
    "### Fill missing values in keyword with a placeholder 'Unknown'"
   ]
  },
  {
   "cell_type": "code",
   "execution_count": 38,
   "id": "e127f33e",
   "metadata": {},
   "outputs": [
    {
     "data": {
      "text/plain": [
       "902                      unknown\n",
       "1144                     unknown\n",
       "627     foreign aid, foreign aid\n",
       "896                      unknown\n",
       "96             kenya foreign aid\n",
       "235        development aid kenya\n",
       "1037                     unknown\n",
       "459      usaid kenya funding cut\n",
       "1244                     unknown\n",
       "932                      unknown\n",
       "Name: keyword, dtype: object"
      ]
     },
     "execution_count": 38,
     "metadata": {},
     "output_type": "execute_result"
    }
   ],
   "source": [
    "reddit_df['keyword'] = reddit_df['keyword'].fillna('unknown')\n",
    "reddit_df['keyword'].sample(10)"
   ]
  },
  {
   "cell_type": "code",
   "execution_count": 39,
   "id": "990926c5",
   "metadata": {},
   "outputs": [
    {
     "data": {
      "text/plain": [
       "post_title        0\n",
       "text              0\n",
       "published_date    0\n",
       "keyword           0\n",
       "url               0\n",
       "dtype: int64"
      ]
     },
     "execution_count": 39,
     "metadata": {},
     "output_type": "execute_result"
    }
   ],
   "source": [
    "reddit_df.isna().sum()"
   ]
  },
  {
   "cell_type": "markdown",
   "id": "05af5201",
   "metadata": {},
   "source": [
    "Missing values filled with an empty string and placeholder to maintain the integrity of the data and maintain a good amount of rows"
   ]
  },
  {
   "cell_type": "markdown",
   "id": "3da82a9e",
   "metadata": {},
   "source": [
    "### Check for duplicates "
   ]
  },
  {
   "cell_type": "code",
   "execution_count": 40,
   "id": "58b4495a",
   "metadata": {},
   "outputs": [
    {
     "data": {
      "text/plain": [
       "145"
      ]
     },
     "execution_count": 40,
     "metadata": {},
     "output_type": "execute_result"
    }
   ],
   "source": [
    "reddit_df.duplicated().sum()"
   ]
  },
  {
   "cell_type": "code",
   "execution_count": 41,
   "id": "aa880fcd",
   "metadata": {},
   "outputs": [],
   "source": [
    "reddit_df.drop_duplicates(inplace=True) #drop all duplicates"
   ]
  },
  {
   "cell_type": "code",
   "execution_count": 42,
   "id": "cb61344d",
   "metadata": {},
   "outputs": [
    {
     "data": {
      "text/plain": [
       "0"
      ]
     },
     "execution_count": 42,
     "metadata": {},
     "output_type": "execute_result"
    }
   ],
   "source": [
    "reddit_df.duplicated().sum() #confirm that all duplicates have been dropped"
   ]
  },
  {
   "cell_type": "code",
   "execution_count": 43,
   "id": "ccafd6f5",
   "metadata": {},
   "outputs": [
    {
     "data": {
      "text/plain": [
       "(1144, 5)"
      ]
     },
     "execution_count": 43,
     "metadata": {},
     "output_type": "execute_result"
    }
   ],
   "source": [
    "reddit_df.shape #shape of the new data after cleaning"
   ]
  },
  {
   "cell_type": "code",
   "execution_count": 44,
   "id": "c6db7488",
   "metadata": {},
   "outputs": [
    {
     "data": {
      "text/plain": [
       "874                            Pitching for a writing gig\n",
       "316     Alleged Abduction of Kenyan MP George Koimburi...\n",
       "870     Looking for Entry-Level Opportunities in Procu...\n",
       "1144                               'Misuse' of Billboards\n",
       "903     US strike kills 16 Afghan policemen in Helmand...\n",
       "1212                I don't know how to title this but...\n",
       "1183    Called my ISP and spoke fluent Karen. Now my r...\n",
       "90                       Increase Kenya military spending\n",
       "147                                      Thieves. Rotten.\n",
       "354     Kenya’s Economic Reality: Why Fighting Corrupt...\n",
       "Name: post_title, dtype: object"
      ]
     },
     "execution_count": 44,
     "metadata": {},
     "output_type": "execute_result"
    }
   ],
   "source": [
    "reddit_df['post_title'].sample(10)"
   ]
  },
  {
   "cell_type": "markdown",
   "id": "2fa69b63",
   "metadata": {},
   "source": [
    "## Sentiment Analysis Data Cleaning"
   ]
  },
  {
   "cell_type": "markdown",
   "id": "062b3c66",
   "metadata": {},
   "source": [
    "Creating a new column 'full_text' that combines 'post_title','text' and the empty string '', to help in sentiment analysis"
   ]
  },
  {
   "cell_type": "code",
   "execution_count": 45,
   "id": "fb0b1744",
   "metadata": {},
   "outputs": [
    {
     "data": {
      "text/html": [
       "<div>\n",
       "<style scoped>\n",
       "    .dataframe tbody tr th:only-of-type {\n",
       "        vertical-align: middle;\n",
       "    }\n",
       "\n",
       "    .dataframe tbody tr th {\n",
       "        vertical-align: top;\n",
       "    }\n",
       "\n",
       "    .dataframe thead th {\n",
       "        text-align: right;\n",
       "    }\n",
       "</style>\n",
       "<table border=\"1\" class=\"dataframe\">\n",
       "  <thead>\n",
       "    <tr style=\"text-align: right;\">\n",
       "      <th></th>\n",
       "      <th>post_title</th>\n",
       "      <th>text</th>\n",
       "      <th>published_date</th>\n",
       "      <th>keyword</th>\n",
       "      <th>url</th>\n",
       "      <th>full_text</th>\n",
       "    </tr>\n",
       "  </thead>\n",
       "  <tbody>\n",
       "    <tr>\n",
       "      <th>0</th>\n",
       "      <td>USAID left a month ago, do we have ARVs in Kenya?</td>\n",
       "      <td>Someone on a different group (different websit...</td>\n",
       "      <td>2025-04-15</td>\n",
       "      <td>usaid kenya</td>\n",
       "      <td>https://www.reddit.com/r/Kenya/comments/1jzrn2...</td>\n",
       "      <td>USAID left a month ago, do we have ARVs in Ken...</td>\n",
       "    </tr>\n",
       "    <tr>\n",
       "      <th>1</th>\n",
       "      <td>Classism in r/Kenya and r/nairobi</td>\n",
       "      <td>The classism I'm seeing in both subs is a good...</td>\n",
       "      <td>2025-04-07</td>\n",
       "      <td>usaid kenya</td>\n",
       "      <td>https://www.reddit.com/r/Kenya/comments/1jtcvb...</td>\n",
       "      <td>Classism in r/Kenya and r/nairobi The classism...</td>\n",
       "    </tr>\n",
       "    <tr>\n",
       "      <th>2</th>\n",
       "      <td>EX-USAID people!! Let's talk</td>\n",
       "      <td>Are you still in contact with the organisation...</td>\n",
       "      <td>2025-04-05</td>\n",
       "      <td>usaid kenya</td>\n",
       "      <td>https://www.reddit.com/r/Kenya/comments/1jsb14...</td>\n",
       "      <td>EX-USAID people!! Let's talk Are you still in ...</td>\n",
       "    </tr>\n",
       "    <tr>\n",
       "      <th>3</th>\n",
       "      <td>Why western powers back Israel no matter what ...</td>\n",
       "      <td>I don't care what good book you read, but it's...</td>\n",
       "      <td>2025-03-25</td>\n",
       "      <td>usaid kenya</td>\n",
       "      <td>https://www.reddit.com/r/Kenya/comments/1jjehw...</td>\n",
       "      <td>Why western powers back Israel no matter what ...</td>\n",
       "    </tr>\n",
       "    <tr>\n",
       "      <th>4</th>\n",
       "      <td>Is kenya capable of funding its needs now that...</td>\n",
       "      <td>How is kenya prepared to fill the vacuum of US...</td>\n",
       "      <td>2025-03-08</td>\n",
       "      <td>usaid kenya</td>\n",
       "      <td>https://www.reddit.com/r/Kenya/comments/1j6cjz...</td>\n",
       "      <td>Is kenya capable of funding its needs now that...</td>\n",
       "    </tr>\n",
       "  </tbody>\n",
       "</table>\n",
       "</div>"
      ],
      "text/plain": [
       "                                          post_title  \\\n",
       "0  USAID left a month ago, do we have ARVs in Kenya?   \n",
       "1                  Classism in r/Kenya and r/nairobi   \n",
       "2                       EX-USAID people!! Let's talk   \n",
       "3  Why western powers back Israel no matter what ...   \n",
       "4  Is kenya capable of funding its needs now that...   \n",
       "\n",
       "                                                text published_date  \\\n",
       "0  Someone on a different group (different websit...     2025-04-15   \n",
       "1  The classism I'm seeing in both subs is a good...     2025-04-07   \n",
       "2  Are you still in contact with the organisation...     2025-04-05   \n",
       "3  I don't care what good book you read, but it's...     2025-03-25   \n",
       "4  How is kenya prepared to fill the vacuum of US...     2025-03-08   \n",
       "\n",
       "       keyword                                                url  \\\n",
       "0  usaid kenya  https://www.reddit.com/r/Kenya/comments/1jzrn2...   \n",
       "1  usaid kenya  https://www.reddit.com/r/Kenya/comments/1jtcvb...   \n",
       "2  usaid kenya  https://www.reddit.com/r/Kenya/comments/1jsb14...   \n",
       "3  usaid kenya  https://www.reddit.com/r/Kenya/comments/1jjehw...   \n",
       "4  usaid kenya  https://www.reddit.com/r/Kenya/comments/1j6cjz...   \n",
       "\n",
       "                                           full_text  \n",
       "0  USAID left a month ago, do we have ARVs in Ken...  \n",
       "1  Classism in r/Kenya and r/nairobi The classism...  \n",
       "2  EX-USAID people!! Let's talk Are you still in ...  \n",
       "3  Why western powers back Israel no matter what ...  \n",
       "4  Is kenya capable of funding its needs now that...  "
      ]
     },
     "execution_count": 45,
     "metadata": {},
     "output_type": "execute_result"
    }
   ],
   "source": [
    "reddit_df['full_text'] = reddit_df['post_title'] + ' ' + reddit_df['text']\n",
    "reddit_df.head() #sample top 5 rows after combining the columns"
   ]
  },
  {
   "cell_type": "code",
   "execution_count": 46,
   "id": "2c5747e5",
   "metadata": {},
   "outputs": [
    {
     "data": {
      "text/plain": [
       "0"
      ]
     },
     "execution_count": 46,
     "metadata": {},
     "output_type": "execute_result"
    }
   ],
   "source": [
    "reddit_df['full_text'].isna().sum() #confirm that there are no missing values in the dataset"
   ]
  },
  {
   "cell_type": "markdown",
   "id": "13d63635",
   "metadata": {},
   "source": [
    "### Lowercasing "
   ]
  },
  {
   "cell_type": "markdown",
   "id": "923cf3ef",
   "metadata": {},
   "source": [
    "Converting all text to lowercase"
   ]
  },
  {
   "cell_type": "code",
   "execution_count": 47,
   "id": "cb464d02",
   "metadata": {},
   "outputs": [
    {
     "data": {
      "text/plain": [
       "4       is kenya capable of funding its needs now that...\n",
       "837     alleged abduction of kenyan mp george koimburi...\n",
       "892     does usaid's exit mean it's a free reign for t...\n",
       "398     us congressman scott perry accuses usaid of fu...\n",
       "839     affordable housing gets ksh 95b in development...\n",
       "1242    not just for sierra leone, for all of africa i...\n",
       "813     anyone here with experience in contract farmin...\n",
       "1182    nairobi jobs i just came across this while scr...\n",
       "396     interest post from x what's your take on the n...\n",
       "93      raila's loss and kenya foreign policy in light...\n",
       "Name: full_text, dtype: object"
      ]
     },
     "execution_count": 47,
     "metadata": {},
     "output_type": "execute_result"
    }
   ],
   "source": [
    "reddit_df['full_text'] = reddit_df['full_text'].str.lower()\n",
    "reddit_df['full_text'].sample(10)"
   ]
  },
  {
   "cell_type": "markdown",
   "id": "8bef03f6",
   "metadata": {},
   "source": [
    "### Translate all text to English"
   ]
  },
  {
   "cell_type": "code",
   "execution_count": 48,
   "id": "aee53191",
   "metadata": {},
   "outputs": [
    {
     "name": "stderr",
     "output_type": "stream",
     "text": [
      "\n",
      "[notice] A new release of pip is available: 24.2 -> 25.1.1\n",
      "[notice] To update, run: python.exe -m pip install --upgrade pip\n",
      "ERROR: Invalid requirement: '#detect': Expected package name at the start of dependency specifier\n",
      "    #detect\n",
      "    ^\n"
     ]
    }
   ],
   "source": [
    "!pip install langdetect #detect which language the text are in"
   ]
  },
  {
   "cell_type": "code",
   "execution_count": 49,
   "id": "f6d40439",
   "metadata": {},
   "outputs": [
    {
     "data": {
      "text/plain": [
       "en    1129\n",
       "tl       3\n",
       "sw       3\n",
       "et       2\n",
       "fr       2\n",
       "nl       2\n",
       "sl       1\n",
       "da       1\n",
       "id       1\n",
       "Name: language, dtype: int64"
      ]
     },
     "execution_count": 49,
     "metadata": {},
     "output_type": "execute_result"
    }
   ],
   "source": [
    "from langdetect import detect\n",
    "\n",
    "# Language detection\n",
    "reddit_df['language'] = reddit_df['full_text'].apply(lambda x: detect(x) if pd.notnull(x) else 'unknown')\n",
    "reddit_df['language'].value_counts()"
   ]
  },
  {
   "cell_type": "code",
   "execution_count": 50,
   "id": "f7e3f368",
   "metadata": {},
   "outputs": [
    {
     "name": "stdout",
     "output_type": "stream",
     "text": [
      "     language                                          full_text\n",
      "28         tl  ...na bado mnasema ruto must go bila tangible ...\n",
      "175        tl  ...na bado mnasema ruto must go bila tangible ...\n",
      "236        sl                                design job nairobi \n",
      "273        tl  ...na bado mnasema ruto must go bila tangible ...\n",
      "301        et  just seeing ki, sa, che, ko, la, si...pure tri...\n",
      "634        fr  supreme court rules trump administration must ...\n",
      "638        fr  supreme court denies trump administration requ...\n",
      "661        nl  “independent media” disintegrate as foreign ai...\n",
      "664        da  judge orders us to restore funds for foreign a...\n",
      "852        sw  \"wapi mtoto?\" it was always an escape for me d...\n",
      "853        sw  drunk and orderly it so happened that one time...\n",
      "903        nl  us strike kills 16 afghan policemen in helmand...\n",
      "943        et                            joblessness is looming \n",
      "1100       id  filling kra returns at ksh 35 usitikie kupata ...\n",
      "1143       sw  about my online jobs list series.. waah kujari...\n"
     ]
    }
   ],
   "source": [
    "# View full text rows where the language is not English\n",
    "non_english_df = reddit_df[reddit_df['language'] != 'en']\n",
    "\n",
    "# Display the full_text column of non-English rows\n",
    "print(non_english_df[['language', 'full_text']])\n"
   ]
  },
  {
   "cell_type": "code",
   "execution_count": 51,
   "id": "401e61c9",
   "metadata": {},
   "outputs": [
    {
     "name": "stderr",
     "output_type": "stream",
     "text": [
      "\n",
      "[notice] A new release of pip is available: 24.2 -> 25.1.1\n",
      "[notice] To update, run: python.exe -m pip install --upgrade pip\n",
      "ERROR: Invalid requirement: '#Translates': Expected package name at the start of dependency specifier\n",
      "    #Translates\n",
      "    ^\n"
     ]
    }
   ],
   "source": [
    "! pip install deep-translator #Translates text from one language to another\n"
   ]
  },
  {
   "cell_type": "code",
   "execution_count": 52,
   "id": "372547ff",
   "metadata": {},
   "outputs": [
    {
     "name": "stdout",
     "output_type": "stream",
     "text": [
      "    language                                          full_text  \\\n",
      "28        tl  ...na bado mnasema ruto must go bila tangible ...   \n",
      "175       tl  ...na bado mnasema ruto must go bila tangible ...   \n",
      "236       sl                                design job nairobi    \n",
      "273       tl  ...na bado mnasema ruto must go bila tangible ...   \n",
      "301       et  just seeing ki, sa, che, ko, la, si...pure tri...   \n",
      "\n",
      "                                       translated_text  \n",
      "28   ... and you still say Ruto must go without tan...  \n",
      "175  ... and you still say Ruto must go without tan...  \n",
      "236                                 design job nairobi  \n",
      "273  ... and you still say Ruto must go without tan...  \n",
      "301  just seeing ki, sa, che, ko, la, si ... pure t...  \n"
     ]
    }
   ],
   "source": [
    "from deep_translator import GoogleTranslator\n",
    "\n",
    "# Make a copy of non-English rows\n",
    "non_english_df = reddit_df[reddit_df['language'] != 'en'].copy()\n",
    "\n",
    "# Translate each full_text\n",
    "non_english_df['translated_text'] = non_english_df['full_text'].apply(\n",
    "    lambda text: GoogleTranslator(source='auto', target='en').translate(text)\n",
    ")\n",
    "\n",
    "# Preview translations\n",
    "print(non_english_df[['language', 'full_text', 'translated_text']].head())\n"
   ]
  },
  {
   "cell_type": "markdown",
   "id": "627590ec",
   "metadata": {},
   "source": [
    "From the above preview, shows that the text with both english and swahili was able to be translated as shown in index 28"
   ]
  },
  {
   "cell_type": "code",
   "execution_count": 53,
   "id": "cade2d7a",
   "metadata": {},
   "outputs": [
    {
     "data": {
      "text/plain": [
       "en    1129\n",
       "tl       3\n",
       "sw       3\n",
       "et       2\n",
       "fr       2\n",
       "nl       2\n",
       "sl       1\n",
       "da       1\n",
       "id       1\n",
       "Name: language, dtype: int64"
      ]
     },
     "execution_count": 53,
     "metadata": {},
     "output_type": "execute_result"
    }
   ],
   "source": [
    "reddit_df['language'].value_counts() #check which other languages have been detected"
   ]
  },
  {
   "cell_type": "code",
   "execution_count": 54,
   "id": "cce5719d",
   "metadata": {},
   "outputs": [
    {
     "name": "stdout",
     "output_type": "stream",
     "text": [
      "  language                                          full_text\n",
      "0       en  usaid left a month ago, do we have arvs in ken...\n",
      "1       en  classism in r/kenya and r/nairobi the classism...\n",
      "2       en  ex-usaid people!! let's talk are you still in ...\n",
      "3       en  why western powers back israel no matter what ...\n",
      "4       en  is kenya capable of funding its needs now that...\n"
     ]
    }
   ],
   "source": [
    "# Drop all non-English rows\n",
    "reddit_df = reddit_df[reddit_df['language'] == 'en'].copy()\n",
    "\n",
    "# Reset the index\n",
    "reddit_df.reset_index(drop=True, inplace=True)\n",
    "\n",
    "# Preview the cleaned data\n",
    "print(reddit_df[['language', 'full_text']].head())\n"
   ]
  },
  {
   "cell_type": "code",
   "execution_count": 55,
   "id": "f64b632d",
   "metadata": {},
   "outputs": [
    {
     "data": {
      "text/plain": [
       "en    1129\n",
       "Name: language, dtype: int64"
      ]
     },
     "execution_count": 55,
     "metadata": {},
     "output_type": "execute_result"
    }
   ],
   "source": [
    "reddit_df['language'].value_counts() #confirm that all rows are in English only"
   ]
  },
  {
   "cell_type": "code",
   "execution_count": 56,
   "id": "7b797835",
   "metadata": {},
   "outputs": [
    {
     "data": {
      "text/html": [
       "<div>\n",
       "<style scoped>\n",
       "    .dataframe tbody tr th:only-of-type {\n",
       "        vertical-align: middle;\n",
       "    }\n",
       "\n",
       "    .dataframe tbody tr th {\n",
       "        vertical-align: top;\n",
       "    }\n",
       "\n",
       "    .dataframe thead th {\n",
       "        text-align: right;\n",
       "    }\n",
       "</style>\n",
       "<table border=\"1\" class=\"dataframe\">\n",
       "  <thead>\n",
       "    <tr style=\"text-align: right;\">\n",
       "      <th></th>\n",
       "      <th>post_title</th>\n",
       "      <th>text</th>\n",
       "      <th>published_date</th>\n",
       "      <th>keyword</th>\n",
       "      <th>url</th>\n",
       "      <th>full_text</th>\n",
       "      <th>language</th>\n",
       "    </tr>\n",
       "  </thead>\n",
       "  <tbody>\n",
       "    <tr>\n",
       "      <th>50</th>\n",
       "      <td>Racism - how often do you as a Kenyan feel rac...</td>\n",
       "      <td>I have lived half of my life in Kenya. I've ju...</td>\n",
       "      <td>2025-05-19</td>\n",
       "      <td>kenya foreign aid</td>\n",
       "      <td>https://www.reddit.com/r/Kenya/comments/1kq6n2...</td>\n",
       "      <td>racism - how often do you as a kenyan feel rac...</td>\n",
       "      <td>en</td>\n",
       "    </tr>\n",
       "    <tr>\n",
       "      <th>998</th>\n",
       "      <td>Mental Health Emergency Contacts and Support</td>\n",
       "      <td>Hello [r/Kenya](https://www.reddit.com/r/Kenya...</td>\n",
       "      <td>2025-06-12</td>\n",
       "      <td>unknown</td>\n",
       "      <td>https://www.reddit.com/r/Kenya/comments/1l9xsr...</td>\n",
       "      <td>mental health emergency contacts and support h...</td>\n",
       "      <td>en</td>\n",
       "    </tr>\n",
       "    <tr>\n",
       "      <th>381</th>\n",
       "      <td>Serbia protests Kenya’s recognition of Kosovo,...</td>\n",
       "      <td></td>\n",
       "      <td>2025-03-28</td>\n",
       "      <td>usaid kenya funding cut</td>\n",
       "      <td>https://www.theeastafrican.co.ke/tea/news/east...</td>\n",
       "      <td>serbia protests kenya’s recognition of kosovo,...</td>\n",
       "      <td>en</td>\n",
       "    </tr>\n",
       "    <tr>\n",
       "      <th>512</th>\n",
       "      <td>Order Without America: How the International S...</td>\n",
       "      <td>\\[SS from essay by Ngaire Woods, Professor of ...</td>\n",
       "      <td>2025-04-24</td>\n",
       "      <td>foreign aid, foreign aid</td>\n",
       "      <td>https://www.foreignaffairs.com/united-states/d...</td>\n",
       "      <td>order without america: how the international s...</td>\n",
       "      <td>en</td>\n",
       "    </tr>\n",
       "    <tr>\n",
       "      <th>227</th>\n",
       "      <td>Kenyan Universities Need to Start Teaching Res...</td>\n",
       "      <td>I’ve reviewed a lot of resumes from software d...</td>\n",
       "      <td>2025-05-31</td>\n",
       "      <td>development aid kenya</td>\n",
       "      <td>https://www.reddit.com/r/Kenya/comments/1kzlc7...</td>\n",
       "      <td>kenyan universities need to start teaching res...</td>\n",
       "      <td>en</td>\n",
       "    </tr>\n",
       "    <tr>\n",
       "      <th>1120</th>\n",
       "      <td>Why Are So Many Africans Always Fighting Villa...</td>\n",
       "      <td>Any small thing that happens, village people. ...</td>\n",
       "      <td>2025-04-21</td>\n",
       "      <td>unknown</td>\n",
       "      <td>https://www.reddit.com/r/Africa/comments/1k46p...</td>\n",
       "      <td>why are so many africans always fighting villa...</td>\n",
       "      <td>en</td>\n",
       "    </tr>\n",
       "    <tr>\n",
       "      <th>1124</th>\n",
       "      <td>Weekly Sub-Saharan Africa Security Situation a...</td>\n",
       "      <td>#Somalia 🇸🇴\\r\\n#Sudan 🇸🇩\\r\\nDemocratic Republi...</td>\n",
       "      <td>2025-04-18</td>\n",
       "      <td>unknown</td>\n",
       "      <td>https://open.substack.com/pub/hasretkargin/p/w...</td>\n",
       "      <td>weekly sub-saharan africa security situation a...</td>\n",
       "      <td>en</td>\n",
       "    </tr>\n",
       "    <tr>\n",
       "      <th>1089</th>\n",
       "      <td>US Cuts $50M in Medical Aid to Zambia Over 'Sy...</td>\n",
       "      <td></td>\n",
       "      <td>2025-05-10</td>\n",
       "      <td>unknown</td>\n",
       "      <td>https://www.verity.news/story/2025/us-slashes-...</td>\n",
       "      <td>us cuts $50m in medical aid to zambia over 'sy...</td>\n",
       "      <td>en</td>\n",
       "    </tr>\n",
       "    <tr>\n",
       "      <th>971</th>\n",
       "      <td>I'm I the only one whose dreams and ambitions ...</td>\n",
       "      <td>Honestly, I am tired of myself. Last weekend I...</td>\n",
       "      <td>2025-06-16</td>\n",
       "      <td>unknown</td>\n",
       "      <td>https://www.reddit.com/r/Kenya/comments/1lcjtw...</td>\n",
       "      <td>i'm i the only one whose dreams and ambitions ...</td>\n",
       "      <td>en</td>\n",
       "    </tr>\n",
       "    <tr>\n",
       "      <th>1025</th>\n",
       "      <td>Selective outrage</td>\n",
       "      <td>at least 20 documented cases of deaths in poli...</td>\n",
       "      <td>2025-06-10</td>\n",
       "      <td>unknown</td>\n",
       "      <td>https://www.reddit.com/r/Kenya/comments/1l8a9e...</td>\n",
       "      <td>selective outrage at least 20 documented cases...</td>\n",
       "      <td>en</td>\n",
       "    </tr>\n",
       "  </tbody>\n",
       "</table>\n",
       "</div>"
      ],
      "text/plain": [
       "                                             post_title  \\\n",
       "50    Racism - how often do you as a Kenyan feel rac...   \n",
       "998        Mental Health Emergency Contacts and Support   \n",
       "381   Serbia protests Kenya’s recognition of Kosovo,...   \n",
       "512   Order Without America: How the International S...   \n",
       "227   Kenyan Universities Need to Start Teaching Res...   \n",
       "1120  Why Are So Many Africans Always Fighting Villa...   \n",
       "1124  Weekly Sub-Saharan Africa Security Situation a...   \n",
       "1089  US Cuts $50M in Medical Aid to Zambia Over 'Sy...   \n",
       "971   I'm I the only one whose dreams and ambitions ...   \n",
       "1025                                  Selective outrage   \n",
       "\n",
       "                                                   text published_date  \\\n",
       "50    I have lived half of my life in Kenya. I've ju...     2025-05-19   \n",
       "998   Hello [r/Kenya](https://www.reddit.com/r/Kenya...     2025-06-12   \n",
       "381                                                         2025-03-28   \n",
       "512   \\[SS from essay by Ngaire Woods, Professor of ...     2025-04-24   \n",
       "227   I’ve reviewed a lot of resumes from software d...     2025-05-31   \n",
       "1120  Any small thing that happens, village people. ...     2025-04-21   \n",
       "1124  #Somalia 🇸🇴\\r\\n#Sudan 🇸🇩\\r\\nDemocratic Republi...     2025-04-18   \n",
       "1089                                                        2025-05-10   \n",
       "971   Honestly, I am tired of myself. Last weekend I...     2025-06-16   \n",
       "1025  at least 20 documented cases of deaths in poli...     2025-06-10   \n",
       "\n",
       "                       keyword  \\\n",
       "50           kenya foreign aid   \n",
       "998                    unknown   \n",
       "381    usaid kenya funding cut   \n",
       "512   foreign aid, foreign aid   \n",
       "227      development aid kenya   \n",
       "1120                   unknown   \n",
       "1124                   unknown   \n",
       "1089                   unknown   \n",
       "971                    unknown   \n",
       "1025                   unknown   \n",
       "\n",
       "                                                    url  \\\n",
       "50    https://www.reddit.com/r/Kenya/comments/1kq6n2...   \n",
       "998   https://www.reddit.com/r/Kenya/comments/1l9xsr...   \n",
       "381   https://www.theeastafrican.co.ke/tea/news/east...   \n",
       "512   https://www.foreignaffairs.com/united-states/d...   \n",
       "227   https://www.reddit.com/r/Kenya/comments/1kzlc7...   \n",
       "1120  https://www.reddit.com/r/Africa/comments/1k46p...   \n",
       "1124  https://open.substack.com/pub/hasretkargin/p/w...   \n",
       "1089  https://www.verity.news/story/2025/us-slashes-...   \n",
       "971   https://www.reddit.com/r/Kenya/comments/1lcjtw...   \n",
       "1025  https://www.reddit.com/r/Kenya/comments/1l8a9e...   \n",
       "\n",
       "                                              full_text language  \n",
       "50    racism - how often do you as a kenyan feel rac...       en  \n",
       "998   mental health emergency contacts and support h...       en  \n",
       "381   serbia protests kenya’s recognition of kosovo,...       en  \n",
       "512   order without america: how the international s...       en  \n",
       "227   kenyan universities need to start teaching res...       en  \n",
       "1120  why are so many africans always fighting villa...       en  \n",
       "1124  weekly sub-saharan africa security situation a...       en  \n",
       "1089  us cuts $50m in medical aid to zambia over 'sy...       en  \n",
       "971   i'm i the only one whose dreams and ambitions ...       en  \n",
       "1025  selective outrage at least 20 documented cases...       en  "
      ]
     },
     "execution_count": 56,
     "metadata": {},
     "output_type": "execute_result"
    }
   ],
   "source": [
    "reddit_df.sample(10)"
   ]
  },
  {
   "cell_type": "code",
   "execution_count": 58,
   "id": "cd02bb13",
   "metadata": {},
   "outputs": [
    {
     "data": {
      "text/html": [
       "<div>\n",
       "<style scoped>\n",
       "    .dataframe tbody tr th:only-of-type {\n",
       "        vertical-align: middle;\n",
       "    }\n",
       "\n",
       "    .dataframe tbody tr th {\n",
       "        vertical-align: top;\n",
       "    }\n",
       "\n",
       "    .dataframe thead th {\n",
       "        text-align: right;\n",
       "    }\n",
       "</style>\n",
       "<table border=\"1\" class=\"dataframe\">\n",
       "  <thead>\n",
       "    <tr style=\"text-align: right;\">\n",
       "      <th></th>\n",
       "      <th>post_title</th>\n",
       "      <th>text</th>\n",
       "      <th>published_date</th>\n",
       "      <th>keyword</th>\n",
       "      <th>url</th>\n",
       "      <th>full_text</th>\n",
       "    </tr>\n",
       "  </thead>\n",
       "  <tbody>\n",
       "    <tr>\n",
       "      <th>0</th>\n",
       "      <td>USAID left a month ago, do we have ARVs in Kenya?</td>\n",
       "      <td>Someone on a different group (different websit...</td>\n",
       "      <td>2025-04-15</td>\n",
       "      <td>usaid kenya</td>\n",
       "      <td>https://www.reddit.com/r/Kenya/comments/1jzrn2...</td>\n",
       "      <td>usaid left a month ago, do we have arvs in ken...</td>\n",
       "    </tr>\n",
       "    <tr>\n",
       "      <th>1</th>\n",
       "      <td>Classism in r/Kenya and r/nairobi</td>\n",
       "      <td>The classism I'm seeing in both subs is a good...</td>\n",
       "      <td>2025-04-07</td>\n",
       "      <td>usaid kenya</td>\n",
       "      <td>https://www.reddit.com/r/Kenya/comments/1jtcvb...</td>\n",
       "      <td>classism in r/kenya and r/nairobi the classism...</td>\n",
       "    </tr>\n",
       "    <tr>\n",
       "      <th>2</th>\n",
       "      <td>EX-USAID people!! Let's talk</td>\n",
       "      <td>Are you still in contact with the organisation...</td>\n",
       "      <td>2025-04-05</td>\n",
       "      <td>usaid kenya</td>\n",
       "      <td>https://www.reddit.com/r/Kenya/comments/1jsb14...</td>\n",
       "      <td>ex-usaid people!! let's talk are you still in ...</td>\n",
       "    </tr>\n",
       "    <tr>\n",
       "      <th>3</th>\n",
       "      <td>Why western powers back Israel no matter what ...</td>\n",
       "      <td>I don't care what good book you read, but it's...</td>\n",
       "      <td>2025-03-25</td>\n",
       "      <td>usaid kenya</td>\n",
       "      <td>https://www.reddit.com/r/Kenya/comments/1jjehw...</td>\n",
       "      <td>why western powers back israel no matter what ...</td>\n",
       "    </tr>\n",
       "    <tr>\n",
       "      <th>4</th>\n",
       "      <td>Is kenya capable of funding its needs now that...</td>\n",
       "      <td>How is kenya prepared to fill the vacuum of US...</td>\n",
       "      <td>2025-03-08</td>\n",
       "      <td>usaid kenya</td>\n",
       "      <td>https://www.reddit.com/r/Kenya/comments/1j6cjz...</td>\n",
       "      <td>is kenya capable of funding its needs now that...</td>\n",
       "    </tr>\n",
       "  </tbody>\n",
       "</table>\n",
       "</div>"
      ],
      "text/plain": [
       "                                          post_title  \\\n",
       "0  USAID left a month ago, do we have ARVs in Kenya?   \n",
       "1                  Classism in r/Kenya and r/nairobi   \n",
       "2                       EX-USAID people!! Let's talk   \n",
       "3  Why western powers back Israel no matter what ...   \n",
       "4  Is kenya capable of funding its needs now that...   \n",
       "\n",
       "                                                text published_date  \\\n",
       "0  Someone on a different group (different websit...     2025-04-15   \n",
       "1  The classism I'm seeing in both subs is a good...     2025-04-07   \n",
       "2  Are you still in contact with the organisation...     2025-04-05   \n",
       "3  I don't care what good book you read, but it's...     2025-03-25   \n",
       "4  How is kenya prepared to fill the vacuum of US...     2025-03-08   \n",
       "\n",
       "       keyword                                                url  \\\n",
       "0  usaid kenya  https://www.reddit.com/r/Kenya/comments/1jzrn2...   \n",
       "1  usaid kenya  https://www.reddit.com/r/Kenya/comments/1jtcvb...   \n",
       "2  usaid kenya  https://www.reddit.com/r/Kenya/comments/1jsb14...   \n",
       "3  usaid kenya  https://www.reddit.com/r/Kenya/comments/1jjehw...   \n",
       "4  usaid kenya  https://www.reddit.com/r/Kenya/comments/1j6cjz...   \n",
       "\n",
       "                                           full_text  \n",
       "0  usaid left a month ago, do we have arvs in ken...  \n",
       "1  classism in r/kenya and r/nairobi the classism...  \n",
       "2  ex-usaid people!! let's talk are you still in ...  \n",
       "3  why western powers back israel no matter what ...  \n",
       "4  is kenya capable of funding its needs now that...  "
      ]
     },
     "execution_count": 58,
     "metadata": {},
     "output_type": "execute_result"
    }
   ],
   "source": [
    "reddit_df.drop('language', axis=1, inplace=True) #drop the language column as it is unnecessary now\n",
    "reddit_df.head()"
   ]
  },
  {
   "cell_type": "markdown",
   "id": "b1c50774",
   "metadata": {},
   "source": [
    "### Removing Punctuation Marks"
   ]
  },
  {
   "cell_type": "code",
   "execution_count": null,
   "id": "6c8931ec",
   "metadata": {},
   "outputs": [],
   "source": []
  }
 ],
 "metadata": {
  "kernelspec": {
   "display_name": "Python 3 (ipykernel)",
   "language": "python",
   "name": "python3"
  },
  "language_info": {
   "codemirror_mode": {
    "name": "ipython",
    "version": 3
   },
   "file_extension": ".py",
   "mimetype": "text/x-python",
   "name": "python",
   "nbconvert_exporter": "python",
   "pygments_lexer": "ipython3",
   "version": "3.9.7"
  }
 },
 "nbformat": 4,
 "nbformat_minor": 5
}
