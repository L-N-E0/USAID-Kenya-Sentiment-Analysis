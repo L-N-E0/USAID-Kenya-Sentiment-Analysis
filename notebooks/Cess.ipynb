{
 "cells": [
  {
   "cell_type": "markdown",
   "id": "962045ac",
   "metadata": {},
   "source": [
    "# USAID-Kenya-Sentiment-Analysis"
   ]
  },
  {
   "cell_type": "markdown",
   "id": "6acc0606",
   "metadata": {},
   "source": [
    "#    Merging Reddit CSV Files"
   ]
  },
  {
   "cell_type": "markdown",
   "id": "b99dd2b5",
   "metadata": {},
   "source": [
    "### Import neccessary libraries"
   ]
  },
  {
   "cell_type": "code",
   "execution_count": 1,
   "id": "2605d0a6",
   "metadata": {},
   "outputs": [],
   "source": [
    "import pandas as pd\n",
    "import glob\n",
    "import os\n"
   ]
  },
  {
   "cell_type": "markdown",
   "id": "5e1cd992",
   "metadata": {},
   "source": [
    "### Folder path"
   ]
  },
  {
   "cell_type": "code",
   "execution_count": 2,
   "id": "df600c9e",
   "metadata": {},
   "outputs": [],
   "source": [
    "folder_path = 'C:/Users/hp/Desktop/DATA NEXUS PROJECTS/USAID-Kenya-Sentiment-Analysis/data/raw/reddit_data'\n"
   ]
  },
  {
   "cell_type": "markdown",
   "id": "7fcb97c1",
   "metadata": {},
   "source": [
    "### CSV file paths"
   ]
  },
  {
   "cell_type": "code",
   "execution_count": 3,
   "id": "b50625d4",
   "metadata": {},
   "outputs": [
    {
     "data": {
      "text/plain": [
       "['C:/Users/hp/Desktop/DATA NEXUS PROJECTS/USAID-Kenya-Sentiment-Analysis/data/raw/reddit_data\\\\Agatha_reddit.csv',\n",
       " 'C:/Users/hp/Desktop/DATA NEXUS PROJECTS/USAID-Kenya-Sentiment-Analysis/data/raw/reddit_data\\\\cecilia.redditsubs.csv',\n",
       " 'C:/Users/hp/Desktop/DATA NEXUS PROJECTS/USAID-Kenya-Sentiment-Analysis/data/raw/reddit_data\\\\cecilia.reddit_nbo_ke_africa.csv',\n",
       " 'C:/Users/hp/Desktop/DATA NEXUS PROJECTS/USAID-Kenya-Sentiment-Analysis/data/raw/reddit_data\\\\leo_reddit_posts.csv',\n",
       " 'C:/Users/hp/Desktop/DATA NEXUS PROJECTS/USAID-Kenya-Sentiment-Analysis/data/raw/reddit_data\\\\Mbego_reddit_usaid_kenya.csv',\n",
       " 'C:/Users/hp/Desktop/DATA NEXUS PROJECTS/USAID-Kenya-Sentiment-Analysis/data/raw/reddit_data\\\\Mbego_reddit_usaid_kenya2.csv',\n",
       " 'C:/Users/hp/Desktop/DATA NEXUS PROJECTS/USAID-Kenya-Sentiment-Analysis/data/raw/reddit_data\\\\reddit_usaid_kenya.csv',\n",
       " 'C:/Users/hp/Desktop/DATA NEXUS PROJECTS/USAID-Kenya-Sentiment-Analysis/data/raw/reddit_data\\\\reddit_usaid_sentiment.csv',\n",
       " 'C:/Users/hp/Desktop/DATA NEXUS PROJECTS/USAID-Kenya-Sentiment-Analysis/data/raw/reddit_data\\\\ruth_reddit.csv']"
      ]
     },
     "execution_count": 3,
     "metadata": {},
     "output_type": "execute_result"
    }
   ],
   "source": [
    "csv_files = glob.glob(os.path.join(folder_path, '*.csv'))\n",
    "csv_files"
   ]
  },
  {
   "cell_type": "markdown",
   "id": "c37cff96",
   "metadata": {},
   "source": [
    "### Reading the files and combining them into one dataframe"
   ]
  },
  {
   "cell_type": "code",
   "execution_count": 4,
   "id": "f874996c",
   "metadata": {},
   "outputs": [
    {
     "data": {
      "text/html": [
       "<div>\n",
       "<style scoped>\n",
       "    .dataframe tbody tr th:only-of-type {\n",
       "        vertical-align: middle;\n",
       "    }\n",
       "\n",
       "    .dataframe tbody tr th {\n",
       "        vertical-align: top;\n",
       "    }\n",
       "\n",
       "    .dataframe thead th {\n",
       "        text-align: right;\n",
       "    }\n",
       "</style>\n",
       "<table border=\"1\" class=\"dataframe\">\n",
       "  <thead>\n",
       "    <tr style=\"text-align: right;\">\n",
       "      <th></th>\n",
       "      <th>post_title</th>\n",
       "      <th>text</th>\n",
       "      <th>keyword</th>\n",
       "      <th>published_date</th>\n",
       "      <th>url</th>\n",
       "      <th>source_file</th>\n",
       "    </tr>\n",
       "  </thead>\n",
       "  <tbody>\n",
       "    <tr>\n",
       "      <th>0</th>\n",
       "      <td>USAID left a month ago, do we have ARVs in Kenya?</td>\n",
       "      <td>Someone on a different group (different websit...</td>\n",
       "      <td>usaid kenya</td>\n",
       "      <td>2025-04-15 13:16:53</td>\n",
       "      <td>https://www.reddit.com/r/Kenya/comments/1jzrn2...</td>\n",
       "      <td>Agatha_reddit.csv</td>\n",
       "    </tr>\n",
       "    <tr>\n",
       "      <th>1</th>\n",
       "      <td>Classism in r/Kenya and r/nairobi</td>\n",
       "      <td>The classism I'm seeing in both subs is a good...</td>\n",
       "      <td>usaid kenya</td>\n",
       "      <td>2025-04-07 04:21:12</td>\n",
       "      <td>https://www.reddit.com/r/Kenya/comments/1jtcvb...</td>\n",
       "      <td>Agatha_reddit.csv</td>\n",
       "    </tr>\n",
       "    <tr>\n",
       "      <th>2</th>\n",
       "      <td>EX-USAID people!! Let's talk</td>\n",
       "      <td>Are you still in contact with the organisation...</td>\n",
       "      <td>usaid kenya</td>\n",
       "      <td>2025-04-05 19:09:10</td>\n",
       "      <td>https://www.reddit.com/r/Kenya/comments/1jsb14...</td>\n",
       "      <td>Agatha_reddit.csv</td>\n",
       "    </tr>\n",
       "    <tr>\n",
       "      <th>3</th>\n",
       "      <td>Why western powers back Israel no matter what ...</td>\n",
       "      <td>I don't care what good book you read, but it's...</td>\n",
       "      <td>usaid kenya</td>\n",
       "      <td>2025-03-25 08:18:04</td>\n",
       "      <td>https://www.reddit.com/r/Kenya/comments/1jjehw...</td>\n",
       "      <td>Agatha_reddit.csv</td>\n",
       "    </tr>\n",
       "    <tr>\n",
       "      <th>4</th>\n",
       "      <td>Is kenya capable of funding its needs now that...</td>\n",
       "      <td>How is kenya prepared to fill the vacuum of US...</td>\n",
       "      <td>usaid kenya</td>\n",
       "      <td>2025-03-08 08:08:58</td>\n",
       "      <td>https://www.reddit.com/r/Kenya/comments/1j6cjz...</td>\n",
       "      <td>Agatha_reddit.csv</td>\n",
       "    </tr>\n",
       "  </tbody>\n",
       "</table>\n",
       "</div>"
      ],
      "text/plain": [
       "                                          post_title  \\\n",
       "0  USAID left a month ago, do we have ARVs in Kenya?   \n",
       "1                  Classism in r/Kenya and r/nairobi   \n",
       "2                       EX-USAID people!! Let's talk   \n",
       "3  Why western powers back Israel no matter what ...   \n",
       "4  Is kenya capable of funding its needs now that...   \n",
       "\n",
       "                                                text      keyword  \\\n",
       "0  Someone on a different group (different websit...  usaid kenya   \n",
       "1  The classism I'm seeing in both subs is a good...  usaid kenya   \n",
       "2  Are you still in contact with the organisation...  usaid kenya   \n",
       "3  I don't care what good book you read, but it's...  usaid kenya   \n",
       "4  How is kenya prepared to fill the vacuum of US...  usaid kenya   \n",
       "\n",
       "       published_date                                                url  \\\n",
       "0 2025-04-15 13:16:53  https://www.reddit.com/r/Kenya/comments/1jzrn2...   \n",
       "1 2025-04-07 04:21:12  https://www.reddit.com/r/Kenya/comments/1jtcvb...   \n",
       "2 2025-04-05 19:09:10  https://www.reddit.com/r/Kenya/comments/1jsb14...   \n",
       "3 2025-03-25 08:18:04  https://www.reddit.com/r/Kenya/comments/1jjehw...   \n",
       "4 2025-03-08 08:08:58  https://www.reddit.com/r/Kenya/comments/1j6cjz...   \n",
       "\n",
       "         source_file  \n",
       "0  Agatha_reddit.csv  \n",
       "1  Agatha_reddit.csv  \n",
       "2  Agatha_reddit.csv  \n",
       "3  Agatha_reddit.csv  \n",
       "4  Agatha_reddit.csv  "
      ]
     },
     "execution_count": 4,
     "metadata": {},
     "output_type": "execute_result"
    }
   ],
   "source": [
    "\n",
    "preferred_columns = ['post_title', 'text', 'keyword', 'published_date', 'url']\n",
    "all_dfs = []\n",
    "\n",
    "for file in csv_files:\n",
    "    df = pd.read_csv(file)\n",
    "    \n",
    "    # Rename common column variants\n",
    "    if 'title' in df.columns:\n",
    "        df.rename(columns={'title': 'post_title'}, inplace=True)\n",
    "    if 'selftext' in df.columns and 'text' not in df.columns:\n",
    "        df.rename(columns={'selftext': 'text'}, inplace=True)\n",
    "    if 'date_posted' in df.columns:\n",
    "        df.rename(columns={'date_posted': 'published_date'}, inplace=True)\n",
    "    elif 'created_utc' in df.columns:\n",
    "        df.rename(columns={'created_utc': 'published_date'}, inplace=True)\n",
    "    \n",
    "    # Add missing columns\n",
    "    for col in preferred_columns:\n",
    "        if col not in df.columns:\n",
    "            df[col] = None\n",
    "\n",
    "    # Convert published_date to datetime\n",
    "    df['published_date'] = pd.to_datetime(df['published_date'], errors='coerce')\n",
    "\n",
    "    # Track file source\n",
    "    df['source_file'] = os.path.basename(file)\n",
    "    \n",
    "    # Keep only standardized columns\n",
    "    df = df[preferred_columns + ['source_file']]\n",
    "\n",
    "    all_dfs.append(df)\n",
    "\n",
    "# Combine all\n",
    "combined_df = pd.concat(all_dfs, ignore_index=True)\n",
    "combined_df.head()\n"
   ]
  },
  {
   "cell_type": "code",
   "execution_count": 5,
   "id": "83d5b9f6",
   "metadata": {},
   "outputs": [
    {
     "data": {
      "text/plain": [
       "(1306, 6)"
      ]
     },
     "execution_count": 5,
     "metadata": {},
     "output_type": "execute_result"
    }
   ],
   "source": [
    "combined_df.shape #check the shape of the dataset"
   ]
  },
  {
   "cell_type": "code",
   "execution_count": 6,
   "id": "b896c819",
   "metadata": {},
   "outputs": [
    {
     "data": {
      "text/plain": [
       "post_title          0\n",
       "text              398\n",
       "keyword           564\n",
       "published_date    197\n",
       "url                 0\n",
       "source_file         0\n",
       "dtype: int64"
      ]
     },
     "execution_count": 6,
     "metadata": {},
     "output_type": "execute_result"
    }
   ],
   "source": [
    "combined_df.isna().sum() #check for missing values"
   ]
  },
  {
   "cell_type": "code",
   "execution_count": 7,
   "id": "6cbb0b58",
   "metadata": {},
   "outputs": [
    {
     "data": {
      "text/plain": [
       "Index(['post_title', 'text', 'keyword', 'published_date', 'url',\n",
       "       'source_file'],\n",
       "      dtype='object')"
      ]
     },
     "execution_count": 7,
     "metadata": {},
     "output_type": "execute_result"
    }
   ],
   "source": [
    "combined_df.columns"
   ]
  },
  {
   "cell_type": "code",
   "execution_count": 8,
   "id": "f8a79603",
   "metadata": {},
   "outputs": [
    {
     "data": {
      "text/html": [
       "<div>\n",
       "<style scoped>\n",
       "    .dataframe tbody tr th:only-of-type {\n",
       "        vertical-align: middle;\n",
       "    }\n",
       "\n",
       "    .dataframe tbody tr th {\n",
       "        vertical-align: top;\n",
       "    }\n",
       "\n",
       "    .dataframe thead th {\n",
       "        text-align: right;\n",
       "    }\n",
       "</style>\n",
       "<table border=\"1\" class=\"dataframe\">\n",
       "  <thead>\n",
       "    <tr style=\"text-align: right;\">\n",
       "      <th></th>\n",
       "      <th>post_title</th>\n",
       "      <th>text</th>\n",
       "      <th>keyword</th>\n",
       "      <th>published_date</th>\n",
       "      <th>url</th>\n",
       "      <th>source_file</th>\n",
       "    </tr>\n",
       "  </thead>\n",
       "  <tbody>\n",
       "    <tr>\n",
       "      <th>0</th>\n",
       "      <td>USAID left a month ago, do we have ARVs in Kenya?</td>\n",
       "      <td>Someone on a different group (different websit...</td>\n",
       "      <td>usaid kenya</td>\n",
       "      <td>2025-04-15</td>\n",
       "      <td>https://www.reddit.com/r/Kenya/comments/1jzrn2...</td>\n",
       "      <td>Agatha_reddit.csv</td>\n",
       "    </tr>\n",
       "    <tr>\n",
       "      <th>1</th>\n",
       "      <td>Classism in r/Kenya and r/nairobi</td>\n",
       "      <td>The classism I'm seeing in both subs is a good...</td>\n",
       "      <td>usaid kenya</td>\n",
       "      <td>2025-04-07</td>\n",
       "      <td>https://www.reddit.com/r/Kenya/comments/1jtcvb...</td>\n",
       "      <td>Agatha_reddit.csv</td>\n",
       "    </tr>\n",
       "    <tr>\n",
       "      <th>2</th>\n",
       "      <td>EX-USAID people!! Let's talk</td>\n",
       "      <td>Are you still in contact with the organisation...</td>\n",
       "      <td>usaid kenya</td>\n",
       "      <td>2025-04-05</td>\n",
       "      <td>https://www.reddit.com/r/Kenya/comments/1jsb14...</td>\n",
       "      <td>Agatha_reddit.csv</td>\n",
       "    </tr>\n",
       "    <tr>\n",
       "      <th>3</th>\n",
       "      <td>Why western powers back Israel no matter what ...</td>\n",
       "      <td>I don't care what good book you read, but it's...</td>\n",
       "      <td>usaid kenya</td>\n",
       "      <td>2025-03-25</td>\n",
       "      <td>https://www.reddit.com/r/Kenya/comments/1jjehw...</td>\n",
       "      <td>Agatha_reddit.csv</td>\n",
       "    </tr>\n",
       "    <tr>\n",
       "      <th>4</th>\n",
       "      <td>Is kenya capable of funding its needs now that...</td>\n",
       "      <td>How is kenya prepared to fill the vacuum of US...</td>\n",
       "      <td>usaid kenya</td>\n",
       "      <td>2025-03-08</td>\n",
       "      <td>https://www.reddit.com/r/Kenya/comments/1j6cjz...</td>\n",
       "      <td>Agatha_reddit.csv</td>\n",
       "    </tr>\n",
       "  </tbody>\n",
       "</table>\n",
       "</div>"
      ],
      "text/plain": [
       "                                          post_title  \\\n",
       "0  USAID left a month ago, do we have ARVs in Kenya?   \n",
       "1                  Classism in r/Kenya and r/nairobi   \n",
       "2                       EX-USAID people!! Let's talk   \n",
       "3  Why western powers back Israel no matter what ...   \n",
       "4  Is kenya capable of funding its needs now that...   \n",
       "\n",
       "                                                text      keyword  \\\n",
       "0  Someone on a different group (different websit...  usaid kenya   \n",
       "1  The classism I'm seeing in both subs is a good...  usaid kenya   \n",
       "2  Are you still in contact with the organisation...  usaid kenya   \n",
       "3  I don't care what good book you read, but it's...  usaid kenya   \n",
       "4  How is kenya prepared to fill the vacuum of US...  usaid kenya   \n",
       "\n",
       "  published_date                                                url  \\\n",
       "0     2025-04-15  https://www.reddit.com/r/Kenya/comments/1jzrn2...   \n",
       "1     2025-04-07  https://www.reddit.com/r/Kenya/comments/1jtcvb...   \n",
       "2     2025-04-05  https://www.reddit.com/r/Kenya/comments/1jsb14...   \n",
       "3     2025-03-25  https://www.reddit.com/r/Kenya/comments/1jjehw...   \n",
       "4     2025-03-08  https://www.reddit.com/r/Kenya/comments/1j6cjz...   \n",
       "\n",
       "         source_file  \n",
       "0  Agatha_reddit.csv  \n",
       "1  Agatha_reddit.csv  \n",
       "2  Agatha_reddit.csv  \n",
       "3  Agatha_reddit.csv  \n",
       "4  Agatha_reddit.csv  "
      ]
     },
     "execution_count": 8,
     "metadata": {},
     "output_type": "execute_result"
    }
   ],
   "source": [
    "# Extract date and time\n",
    "combined_df['time'] = combined_df['published_date'].dt.time\n",
    "combined_df['published_date'] = combined_df['published_date'].dt.date\n",
    "\n",
    "#Drop the time column\n",
    "combined_df.drop(columns='time', inplace=True)\n",
    "combined_df.head()"
   ]
  },
  {
   "cell_type": "code",
   "execution_count": 9,
   "id": "203cd407",
   "metadata": {},
   "outputs": [
    {
     "data": {
      "text/html": [
       "<div>\n",
       "<style scoped>\n",
       "    .dataframe tbody tr th:only-of-type {\n",
       "        vertical-align: middle;\n",
       "    }\n",
       "\n",
       "    .dataframe tbody tr th {\n",
       "        vertical-align: top;\n",
       "    }\n",
       "\n",
       "    .dataframe thead th {\n",
       "        text-align: right;\n",
       "    }\n",
       "</style>\n",
       "<table border=\"1\" class=\"dataframe\">\n",
       "  <thead>\n",
       "    <tr style=\"text-align: right;\">\n",
       "      <th></th>\n",
       "      <th>post_title</th>\n",
       "      <th>text</th>\n",
       "      <th>keyword</th>\n",
       "      <th>published_date</th>\n",
       "      <th>url</th>\n",
       "      <th>source_file</th>\n",
       "    </tr>\n",
       "  </thead>\n",
       "  <tbody>\n",
       "    <tr>\n",
       "      <th>381</th>\n",
       "      <td>How to make US foreign aid work for Africa and...</td>\n",
       "      <td>NaN</td>\n",
       "      <td>kenya foreign aid</td>\n",
       "      <td>2025-02-03</td>\n",
       "      <td>https://www.semafor.com/article/02/03/2025/how...</td>\n",
       "      <td>Agatha_reddit.csv</td>\n",
       "    </tr>\n",
       "    <tr>\n",
       "      <th>107</th>\n",
       "      <td>I might be wrong but..</td>\n",
       "      <td>Trump's decision to phase out illegal immigran...</td>\n",
       "      <td>kenya foreign aid</td>\n",
       "      <td>2025-01-24</td>\n",
       "      <td>https://www.reddit.com/r/Kenya/comments/1i95i0...</td>\n",
       "      <td>Agatha_reddit.csv</td>\n",
       "    </tr>\n",
       "    <tr>\n",
       "      <th>847</th>\n",
       "      <td>Why are we playing so safe?</td>\n",
       "      <td>I recently came across a group of guys online ...</td>\n",
       "      <td>None</td>\n",
       "      <td>1970-01-01</td>\n",
       "      <td>https://www.reddit.com/r/Kenya/comments/1jx7it...</td>\n",
       "      <td>leo_reddit_posts.csv</td>\n",
       "    </tr>\n",
       "    <tr>\n",
       "      <th>744</th>\n",
       "      <td>Classism in r/Kenya and r/nairobi</td>\n",
       "      <td>The classism I'm seeing in both subs is a good...</td>\n",
       "      <td>None</td>\n",
       "      <td>1970-01-01</td>\n",
       "      <td>https://www.reddit.com/r/Kenya/comments/1jtcvb...</td>\n",
       "      <td>leo_reddit_posts.csv</td>\n",
       "    </tr>\n",
       "    <tr>\n",
       "      <th>322</th>\n",
       "      <td>Are there Kenyans who are into FIRE (Financial...</td>\n",
       "      <td>FIRE stands for Financial Independence, Retire...</td>\n",
       "      <td>kenya donor funding</td>\n",
       "      <td>2025-05-19</td>\n",
       "      <td>https://www.reddit.com/r/Kenya/comments/1kqdr0...</td>\n",
       "      <td>Agatha_reddit.csv</td>\n",
       "    </tr>\n",
       "    <tr>\n",
       "      <th>401</th>\n",
       "      <td>Kenya proposes to South Africa.... 🇰🇪🇿🇦</td>\n",
       "      <td>In December of 2019, two strangers were among ...</td>\n",
       "      <td>development aid kenya</td>\n",
       "      <td>2025-05-05</td>\n",
       "      <td>https://www.reddit.com/gallery/1kf99fq</td>\n",
       "      <td>Agatha_reddit.csv</td>\n",
       "    </tr>\n",
       "    <tr>\n",
       "      <th>1299</th>\n",
       "      <td>That world happiness survey is complete crap</td>\n",
       "      <td>I usually do not do this, as this does not dir...</td>\n",
       "      <td>None</td>\n",
       "      <td>2025-04-20</td>\n",
       "      <td>https://nypost.com/2017/03/22/that-world-happi...</td>\n",
       "      <td>ruth_reddit.csv</td>\n",
       "    </tr>\n",
       "    <tr>\n",
       "      <th>643</th>\n",
       "      <td>SCOTUS pauses order requiring Trump admin to p...</td>\n",
       "      <td>NaN</td>\n",
       "      <td>foreign aid, foreign aid</td>\n",
       "      <td>2025-02-27</td>\n",
       "      <td>https://www.wusa9.com/article/news/politics/fe...</td>\n",
       "      <td>cecilia.redditsubs.csv</td>\n",
       "    </tr>\n",
       "    <tr>\n",
       "      <th>848</th>\n",
       "      <td>Surviving in the city under the sun</td>\n",
       "      <td>Hi cousins, I’m a Law student from trying to m...</td>\n",
       "      <td>None</td>\n",
       "      <td>1970-01-01</td>\n",
       "      <td>https://www.reddit.com/r/Kenya/comments/1l6fbf...</td>\n",
       "      <td>leo_reddit_posts.csv</td>\n",
       "    </tr>\n",
       "    <tr>\n",
       "      <th>539</th>\n",
       "      <td>Ukraine reels from ‘worst-case scenario’ suspe...</td>\n",
       "      <td>NaN</td>\n",
       "      <td>foreign aid, foreign aid</td>\n",
       "      <td>2025-01-29</td>\n",
       "      <td>https://www.theguardian.com/world/2025/jan/29/...</td>\n",
       "      <td>cecilia.redditsubs.csv</td>\n",
       "    </tr>\n",
       "  </tbody>\n",
       "</table>\n",
       "</div>"
      ],
      "text/plain": [
       "                                             post_title  \\\n",
       "381   How to make US foreign aid work for Africa and...   \n",
       "107                              I might be wrong but..   \n",
       "847                         Why are we playing so safe?   \n",
       "744                   Classism in r/Kenya and r/nairobi   \n",
       "322   Are there Kenyans who are into FIRE (Financial...   \n",
       "401             Kenya proposes to South Africa.... 🇰🇪🇿🇦   \n",
       "1299       That world happiness survey is complete crap   \n",
       "643   SCOTUS pauses order requiring Trump admin to p...   \n",
       "848                 Surviving in the city under the sun   \n",
       "539   Ukraine reels from ‘worst-case scenario’ suspe...   \n",
       "\n",
       "                                                   text  \\\n",
       "381                                                 NaN   \n",
       "107   Trump's decision to phase out illegal immigran...   \n",
       "847   I recently came across a group of guys online ...   \n",
       "744   The classism I'm seeing in both subs is a good...   \n",
       "322   FIRE stands for Financial Independence, Retire...   \n",
       "401   In December of 2019, two strangers were among ...   \n",
       "1299  I usually do not do this, as this does not dir...   \n",
       "643                                                 NaN   \n",
       "848   Hi cousins, I’m a Law student from trying to m...   \n",
       "539                                                 NaN   \n",
       "\n",
       "                       keyword published_date  \\\n",
       "381          kenya foreign aid     2025-02-03   \n",
       "107          kenya foreign aid     2025-01-24   \n",
       "847                       None     1970-01-01   \n",
       "744                       None     1970-01-01   \n",
       "322        kenya donor funding     2025-05-19   \n",
       "401      development aid kenya     2025-05-05   \n",
       "1299                      None     2025-04-20   \n",
       "643   foreign aid, foreign aid     2025-02-27   \n",
       "848                       None     1970-01-01   \n",
       "539   foreign aid, foreign aid     2025-01-29   \n",
       "\n",
       "                                                    url  \\\n",
       "381   https://www.semafor.com/article/02/03/2025/how...   \n",
       "107   https://www.reddit.com/r/Kenya/comments/1i95i0...   \n",
       "847   https://www.reddit.com/r/Kenya/comments/1jx7it...   \n",
       "744   https://www.reddit.com/r/Kenya/comments/1jtcvb...   \n",
       "322   https://www.reddit.com/r/Kenya/comments/1kqdr0...   \n",
       "401              https://www.reddit.com/gallery/1kf99fq   \n",
       "1299  https://nypost.com/2017/03/22/that-world-happi...   \n",
       "643   https://www.wusa9.com/article/news/politics/fe...   \n",
       "848   https://www.reddit.com/r/Kenya/comments/1l6fbf...   \n",
       "539   https://www.theguardian.com/world/2025/jan/29/...   \n",
       "\n",
       "                 source_file  \n",
       "381        Agatha_reddit.csv  \n",
       "107        Agatha_reddit.csv  \n",
       "847     leo_reddit_posts.csv  \n",
       "744     leo_reddit_posts.csv  \n",
       "322        Agatha_reddit.csv  \n",
       "401        Agatha_reddit.csv  \n",
       "1299         ruth_reddit.csv  \n",
       "643   cecilia.redditsubs.csv  \n",
       "848     leo_reddit_posts.csv  \n",
       "539   cecilia.redditsubs.csv  "
      ]
     },
     "execution_count": 9,
     "metadata": {},
     "output_type": "execute_result"
    }
   ],
   "source": [
    "combined_df.sample(10) #random sample of 10 rows"
   ]
  },
  {
   "cell_type": "markdown",
   "id": "9db6c968",
   "metadata": {},
   "source": [
    "### Save the final merged dataframe to csv"
   ]
  },
  {
   "cell_type": "code",
   "execution_count": 10,
   "id": "be3f73dc",
   "metadata": {},
   "outputs": [
    {
     "name": "stdout",
     "output_type": "stream",
     "text": [
      " Results successfully saved to:\n",
      "C:/Users/hp/Desktop/DATA NEXUS PROJECTS/USAID-Kenya-Sentiment-Analysis/data/processed/individual datasets/Cecilia_merged_reddit_dataset.csv\n"
     ]
    }
   ],
   "source": [
    "# Save to CSV \n",
    "if not combined_df.empty:\n",
    "    output_filename = \"C:/Users/hp/Desktop/DATA NEXUS PROJECTS/USAID-Kenya-Sentiment-Analysis/data/processed/individual datasets/Cecilia_merged_reddit_dataset.csv\"\n",
    "    combined_df.to_csv(output_filename, index=False, encoding='utf-8')\n",
    "    print(f\" Results successfully saved to:\\n{output_filename}\")\n",
    "else:\n",
    "    print(\" No data to save. The DataFrame is empty.\")\n"
   ]
  },
  {
   "cell_type": "code",
   "execution_count": null,
   "id": "4313f5e3",
   "metadata": {},
   "outputs": [],
   "source": []
  },
  {
   "cell_type": "markdown",
   "id": "a05bf2ed",
   "metadata": {},
   "source": [
    "# Merging News CSV Files"
   ]
  },
  {
   "cell_type": "markdown",
   "id": "2e616e2e",
   "metadata": {},
   "source": [
    "### Import necessary libraries"
   ]
  },
  {
   "cell_type": "code",
   "execution_count": 11,
   "id": "350238dc",
   "metadata": {},
   "outputs": [],
   "source": [
    "import pandas as pd\n",
    "import glob\n",
    "import os\n"
   ]
  },
  {
   "cell_type": "markdown",
   "id": "a18c8d34",
   "metadata": {},
   "source": [
    "### Folder path"
   ]
  },
  {
   "cell_type": "code",
   "execution_count": 12,
   "id": "f0bc11b4",
   "metadata": {},
   "outputs": [],
   "source": [
    "folder_path = 'C:/Users/hp/Desktop/DATA NEXUS PROJECTS/USAID-Kenya-Sentiment-Analysis/data/raw/news_data'\n"
   ]
  },
  {
   "cell_type": "markdown",
   "id": "0394822b",
   "metadata": {},
   "source": [
    "### CSV file paths"
   ]
  },
  {
   "cell_type": "code",
   "execution_count": 13,
   "id": "015bbad0",
   "metadata": {},
   "outputs": [
    {
     "data": {
      "text/plain": [
       "['C:/Users/hp/Desktop/DATA NEXUS PROJECTS/USAID-Kenya-Sentiment-Analysis/data/raw/news_data\\\\Agatha_news.csv',\n",
       " 'C:/Users/hp/Desktop/DATA NEXUS PROJECTS/USAID-Kenya-Sentiment-Analysis/data/raw/news_data\\\\cecilia.newsapi.csv',\n",
       " 'C:/Users/hp/Desktop/DATA NEXUS PROJECTS/USAID-Kenya-Sentiment-Analysis/data/raw/news_data\\\\leo_newsapi_articles_enriched.csv',\n",
       " 'C:/Users/hp/Desktop/DATA NEXUS PROJECTS/USAID-Kenya-Sentiment-Analysis/data/raw/news_data\\\\Mbego_news_usaid_kenya_fulltext.csv',\n",
       " 'C:/Users/hp/Desktop/DATA NEXUS PROJECTS/USAID-Kenya-Sentiment-Analysis/data/raw/news_data\\\\Mbego_news_usaid_kenya_recent.csv',\n",
       " 'C:/Users/hp/Desktop/DATA NEXUS PROJECTS/USAID-Kenya-Sentiment-Analysis/data/raw/news_data\\\\newsapi_usaid_articles.csv',\n",
       " 'C:/Users/hp/Desktop/DATA NEXUS PROJECTS/USAID-Kenya-Sentiment-Analysis/data/raw/news_data\\\\ruth_news.csv']"
      ]
     },
     "execution_count": 13,
     "metadata": {},
     "output_type": "execute_result"
    }
   ],
   "source": [
    "folder_path = 'C:/Users/hp/Desktop/DATA NEXUS PROJECTS/USAID-Kenya-Sentiment-Analysis/data/raw/news_data'\n",
    "omit_file = os.path.join(folder_path, 'Agatha_news_fulltext.csv')\n",
    "\n",
    "news_csv_files = glob.glob(os.path.join(folder_path, '*.csv'))\n",
    "news_csv_files = [f for f in news_csv_files if os.path.normpath(f) != os.path.normpath(omit_file)]\n",
    "\n",
    "news_csv_files\n"
   ]
  },
  {
   "cell_type": "markdown",
   "id": "74983ad8",
   "metadata": {},
   "source": [
    "### Reading the files and combining them into one dataframe"
   ]
  },
  {
   "cell_type": "code",
   "execution_count": 14,
   "id": "02b6885f",
   "metadata": {},
   "outputs": [
    {
     "name": "stdout",
     "output_type": "stream",
     "text": [
      "NewsAPI data saved to:\n",
      "C:/Users/hp/Desktop/DATA NEXUS PROJECTS/USAID-Kenya-Sentiment-Analysis/data/processed/individual datasets/Cecilia_merged_news_dataset.csv\n"
     ]
    }
   ],
   "source": [
    "import pandas as pd\n",
    "import os\n",
    "\n",
    "news_columns = ['title', 'description', 'text', 'url', 'keyword', 'published_date', 'source_file']\n",
    "all_news_dfs = []\n",
    "\n",
    "for file in news_csv_files:  \n",
    "    df = pd.read_csv(file)\n",
    "\n",
    "    # Rename content to text \n",
    "    if 'content' in df.columns and 'text' not in df.columns:\n",
    "        df.rename(columns={'content': 'text'}, inplace=True)\n",
    "\n",
    "    # Rename publishedAt to published_date\n",
    "    if 'publishedAt' in df.columns:\n",
    "        df.rename(columns={'publishedAt': 'published_date'}, inplace=True)\n",
    "\n",
    "    # Add missing columns\n",
    "    for col in news_columns:\n",
    "        if col not in df.columns:\n",
    "            df[col] = None\n",
    "\n",
    "    # Convert published_date to datetime\n",
    "    df['published_date'] = pd.to_datetime(df['published_date'], errors='coerce')\n",
    "\n",
    "\n",
    "\n",
    "    # source file info\n",
    "    df['source_file'] = os.path.basename(file)\n",
    "\n",
    "    # standardized columns\n",
    "    df = df[news_columns]\n",
    "    all_news_dfs.append(df)\n",
    "\n",
    "# Combine all\n",
    "news_combined_df = pd.concat(all_news_dfs, ignore_index=True)\n",
    "\n",
    "# Save to CSV\n",
    "output_path = \"C:/Users/hp/Desktop/DATA NEXUS PROJECTS/USAID-Kenya-Sentiment-Analysis/data/processed/individual datasets/Cecilia_merged_news_dataset.csv\"\n",
    "if not news_combined_df.empty:\n",
    "    news_combined_df.to_csv(output_path, index=False, encoding='utf-8')\n",
    "    print(f\"NewsAPI data saved to:\\n{output_path}\")\n",
    "else:\n",
    "    print(\"No NewsAPI data to save. DataFrame is empty.\")\n"
   ]
  },
  {
   "cell_type": "code",
   "execution_count": 15,
   "id": "faed2a11",
   "metadata": {},
   "outputs": [
    {
     "data": {
      "text/plain": [
       "(2638, 7)"
      ]
     },
     "execution_count": 15,
     "metadata": {},
     "output_type": "execute_result"
    }
   ],
   "source": [
    "news_combined_df.shape"
   ]
  },
  {
   "cell_type": "code",
   "execution_count": 16,
   "id": "f6465239",
   "metadata": {},
   "outputs": [
    {
     "data": {
      "text/html": [
       "<div>\n",
       "<style scoped>\n",
       "    .dataframe tbody tr th:only-of-type {\n",
       "        vertical-align: middle;\n",
       "    }\n",
       "\n",
       "    .dataframe tbody tr th {\n",
       "        vertical-align: top;\n",
       "    }\n",
       "\n",
       "    .dataframe thead th {\n",
       "        text-align: right;\n",
       "    }\n",
       "</style>\n",
       "<table border=\"1\" class=\"dataframe\">\n",
       "  <thead>\n",
       "    <tr style=\"text-align: right;\">\n",
       "      <th></th>\n",
       "      <th>title</th>\n",
       "      <th>description</th>\n",
       "      <th>text</th>\n",
       "      <th>url</th>\n",
       "      <th>keyword</th>\n",
       "      <th>published_date</th>\n",
       "      <th>source_file</th>\n",
       "    </tr>\n",
       "  </thead>\n",
       "  <tbody>\n",
       "    <tr>\n",
       "      <th>308</th>\n",
       "      <td>Global Times: Readers’ Reflections: China is r...</td>\n",
       "      <td>Global Times highlights China’s Global South t...</td>\n",
       "      <td>Beijing, China, June 04, 2025 (GLOBE NEWSWIRE)...</td>\n",
       "      <td>https://www.globenewswire.com/news-release/202...</td>\n",
       "      <td>development aid kenya</td>\n",
       "      <td>2025-06-04 13:41:00+00:00</td>\n",
       "      <td>Agatha_news.csv</td>\n",
       "    </tr>\n",
       "    <tr>\n",
       "      <th>1244</th>\n",
       "      <td>It's Elon Musk's last official day in DC. Here...</td>\n",
       "      <td>Elon Musk is leaving DC. People across the wor...</td>\n",
       "      <td>President Donald Trump is set to give Elon Mus...</td>\n",
       "      <td>https://www.businessinsider.com/elon-musk-leav...</td>\n",
       "      <td>budget cuts</td>\n",
       "      <td>2025-05-30 15:47:01+00:00</td>\n",
       "      <td>cecilia.newsapi.csv</td>\n",
       "    </tr>\n",
       "    <tr>\n",
       "      <th>937</th>\n",
       "      <td>Debunking Vance, Rubio claim that only 12 cent...</td>\n",
       "      <td>U.S. President Donald Trump's allies often cit...</td>\n",
       "      <td>Claim:\\r\\nPeople in need have received only 12...</td>\n",
       "      <td>https://www.snopes.com//fact-check/vance-rubio...</td>\n",
       "      <td>aid budget</td>\n",
       "      <td>2025-06-11 21:12:00+00:00</td>\n",
       "      <td>cecilia.newsapi.csv</td>\n",
       "    </tr>\n",
       "    <tr>\n",
       "      <th>1323</th>\n",
       "      <td>Taiwan eyeing new INGO center to promote track...</td>\n",
       "      <td>Taiwan's foreign ministry is looking for a loc...</td>\n",
       "      <td>ROC Central News Agency\\r\\n06/03/2025 03:25 PM...</td>\n",
       "      <td>https://www.globalsecurity.org/wmd/library/new...</td>\n",
       "      <td>NGO funding</td>\n",
       "      <td>2025-06-04 07:54:37+00:00</td>\n",
       "      <td>cecilia.newsapi.csv</td>\n",
       "    </tr>\n",
       "    <tr>\n",
       "      <th>1619</th>\n",
       "      <td>UK and allies will sanction far-right Israeli ...</td>\n",
       "      <td>The countries will freeze assets and impose tr...</td>\n",
       "      <td>The United Kingdom and some of its allies will...</td>\n",
       "      <td>https://www.aljazeera.com/news/2025/6/10/uk-an...</td>\n",
       "      <td>foreign aid</td>\n",
       "      <td>2025-06-10 14:56:42+00:00</td>\n",
       "      <td>cecilia.newsapi.csv</td>\n",
       "    </tr>\n",
       "    <tr>\n",
       "      <th>283</th>\n",
       "      <td>Has DOGE really saved the US government $180bn?</td>\n",
       "      <td>Elon Musk first claimed the department would m...</td>\n",
       "      <td>President Donald Trump and adviser Elon Musk c...</td>\n",
       "      <td>https://www.aljazeera.com/news/2025/6/6/has-do...</td>\n",
       "      <td>development aid kenya</td>\n",
       "      <td>2025-06-06 11:21:51+00:00</td>\n",
       "      <td>Agatha_news.csv</td>\n",
       "    </tr>\n",
       "    <tr>\n",
       "      <th>2586</th>\n",
       "      <td>War at the Top</td>\n",
       "      <td>The falling out between Donald Trump and Elon ...</td>\n",
       "      <td>Photograph Source: The White House – Public Do...</td>\n",
       "      <td>https://www.counterpunch.org/2025/06/16/war-at...</td>\n",
       "      <td>None</td>\n",
       "      <td>2025-06-16 05:56:36+00:00</td>\n",
       "      <td>newsapi_usaid_articles.csv</td>\n",
       "    </tr>\n",
       "    <tr>\n",
       "      <th>1600</th>\n",
       "      <td>‘Piracy’: World reacts to Israel’s seizure of ...</td>\n",
       "      <td>Governments and NGOs condemn Israel's intercep...</td>\n",
       "      <td>Israel has intercepted a Gaza-bound aid ship, ...</td>\n",
       "      <td>https://www.aljazeera.com/news/2025/6/9/piracy...</td>\n",
       "      <td>foreign aid</td>\n",
       "      <td>2025-06-09 12:00:22+00:00</td>\n",
       "      <td>cecilia.newsapi.csv</td>\n",
       "    </tr>\n",
       "    <tr>\n",
       "      <th>1034</th>\n",
       "      <td>Between Washington and Beijing</td>\n",
       "      <td>Amid Trump’s tariffs, Africa faces trade disru...</td>\n",
       "      <td>Amid Trump’s tariffs, Africa faces trade disru...</td>\n",
       "      <td>https://africasacountry.com/2025/06/between-wa...</td>\n",
       "      <td>Trump Kenya</td>\n",
       "      <td>2025-06-04 12:14:54+00:00</td>\n",
       "      <td>cecilia.newsapi.csv</td>\n",
       "    </tr>\n",
       "    <tr>\n",
       "      <th>286</th>\n",
       "      <td>AFRICOM asks for help deterring terrorism, aft...</td>\n",
       "      <td>Groups like al-Shabaab see USAID withdrawal as...</td>\n",
       "      <td>Deterring the spread of terrorism in Africa an...</td>\n",
       "      <td>https://www.defenseone.com/threats/2025/05/afr...</td>\n",
       "      <td>development aid kenya</td>\n",
       "      <td>2025-05-29 21:15:17+00:00</td>\n",
       "      <td>Agatha_news.csv</td>\n",
       "    </tr>\n",
       "  </tbody>\n",
       "</table>\n",
       "</div>"
      ],
      "text/plain": [
       "                                                  title  \\\n",
       "308   Global Times: Readers’ Reflections: China is r...   \n",
       "1244  It's Elon Musk's last official day in DC. Here...   \n",
       "937   Debunking Vance, Rubio claim that only 12 cent...   \n",
       "1323  Taiwan eyeing new INGO center to promote track...   \n",
       "1619  UK and allies will sanction far-right Israeli ...   \n",
       "283     Has DOGE really saved the US government $180bn?   \n",
       "2586                                     War at the Top   \n",
       "1600  ‘Piracy’: World reacts to Israel’s seizure of ...   \n",
       "1034                     Between Washington and Beijing   \n",
       "286   AFRICOM asks for help deterring terrorism, aft...   \n",
       "\n",
       "                                            description  \\\n",
       "308   Global Times highlights China’s Global South t...   \n",
       "1244  Elon Musk is leaving DC. People across the wor...   \n",
       "937   U.S. President Donald Trump's allies often cit...   \n",
       "1323  Taiwan's foreign ministry is looking for a loc...   \n",
       "1619  The countries will freeze assets and impose tr...   \n",
       "283   Elon Musk first claimed the department would m...   \n",
       "2586  The falling out between Donald Trump and Elon ...   \n",
       "1600  Governments and NGOs condemn Israel's intercep...   \n",
       "1034  Amid Trump’s tariffs, Africa faces trade disru...   \n",
       "286   Groups like al-Shabaab see USAID withdrawal as...   \n",
       "\n",
       "                                                   text  \\\n",
       "308   Beijing, China, June 04, 2025 (GLOBE NEWSWIRE)...   \n",
       "1244  President Donald Trump is set to give Elon Mus...   \n",
       "937   Claim:\\r\\nPeople in need have received only 12...   \n",
       "1323  ROC Central News Agency\\r\\n06/03/2025 03:25 PM...   \n",
       "1619  The United Kingdom and some of its allies will...   \n",
       "283   President Donald Trump and adviser Elon Musk c...   \n",
       "2586  Photograph Source: The White House – Public Do...   \n",
       "1600  Israel has intercepted a Gaza-bound aid ship, ...   \n",
       "1034  Amid Trump’s tariffs, Africa faces trade disru...   \n",
       "286   Deterring the spread of terrorism in Africa an...   \n",
       "\n",
       "                                                    url  \\\n",
       "308   https://www.globenewswire.com/news-release/202...   \n",
       "1244  https://www.businessinsider.com/elon-musk-leav...   \n",
       "937   https://www.snopes.com//fact-check/vance-rubio...   \n",
       "1323  https://www.globalsecurity.org/wmd/library/new...   \n",
       "1619  https://www.aljazeera.com/news/2025/6/10/uk-an...   \n",
       "283   https://www.aljazeera.com/news/2025/6/6/has-do...   \n",
       "2586  https://www.counterpunch.org/2025/06/16/war-at...   \n",
       "1600  https://www.aljazeera.com/news/2025/6/9/piracy...   \n",
       "1034  https://africasacountry.com/2025/06/between-wa...   \n",
       "286   https://www.defenseone.com/threats/2025/05/afr...   \n",
       "\n",
       "                    keyword             published_date  \\\n",
       "308   development aid kenya  2025-06-04 13:41:00+00:00   \n",
       "1244            budget cuts  2025-05-30 15:47:01+00:00   \n",
       "937              aid budget  2025-06-11 21:12:00+00:00   \n",
       "1323            NGO funding  2025-06-04 07:54:37+00:00   \n",
       "1619            foreign aid  2025-06-10 14:56:42+00:00   \n",
       "283   development aid kenya  2025-06-06 11:21:51+00:00   \n",
       "2586                   None  2025-06-16 05:56:36+00:00   \n",
       "1600            foreign aid  2025-06-09 12:00:22+00:00   \n",
       "1034            Trump Kenya  2025-06-04 12:14:54+00:00   \n",
       "286   development aid kenya  2025-05-29 21:15:17+00:00   \n",
       "\n",
       "                     source_file  \n",
       "308              Agatha_news.csv  \n",
       "1244         cecilia.newsapi.csv  \n",
       "937          cecilia.newsapi.csv  \n",
       "1323         cecilia.newsapi.csv  \n",
       "1619         cecilia.newsapi.csv  \n",
       "283              Agatha_news.csv  \n",
       "2586  newsapi_usaid_articles.csv  \n",
       "1600         cecilia.newsapi.csv  \n",
       "1034         cecilia.newsapi.csv  \n",
       "286              Agatha_news.csv  "
      ]
     },
     "execution_count": 16,
     "metadata": {},
     "output_type": "execute_result"
    }
   ],
   "source": [
    "news_combined_df.sample(10)"
   ]
  },
  {
   "cell_type": "code",
   "execution_count": 17,
   "id": "93b5781e",
   "metadata": {},
   "outputs": [
    {
     "data": {
      "text/plain": [
       "title               0\n",
       "description        16\n",
       "text               25\n",
       "url                 2\n",
       "keyword           259\n",
       "published_date     99\n",
       "source_file         0\n",
       "dtype: int64"
      ]
     },
     "execution_count": 17,
     "metadata": {},
     "output_type": "execute_result"
    }
   ],
   "source": [
    "news_combined_df.isna().sum()"
   ]
  },
  {
   "cell_type": "markdown",
   "id": "09724989",
   "metadata": {},
   "source": [
    "### FINAL REDDIT DATA TO BE USED ~ mbego_all_reddit_merged"
   ]
  },
  {
   "cell_type": "code",
   "execution_count": 18,
   "id": "6ca8581b",
   "metadata": {},
   "outputs": [],
   "source": [
    "import pandas as pd\n",
    "import seaborn as sns"
   ]
  },
  {
   "cell_type": "code",
   "execution_count": 19,
   "id": "846c0959",
   "metadata": {},
   "outputs": [
    {
     "data": {
      "text/html": [
       "<div>\n",
       "<style scoped>\n",
       "    .dataframe tbody tr th:only-of-type {\n",
       "        vertical-align: middle;\n",
       "    }\n",
       "\n",
       "    .dataframe tbody tr th {\n",
       "        vertical-align: top;\n",
       "    }\n",
       "\n",
       "    .dataframe thead th {\n",
       "        text-align: right;\n",
       "    }\n",
       "</style>\n",
       "<table border=\"1\" class=\"dataframe\">\n",
       "  <thead>\n",
       "    <tr style=\"text-align: right;\">\n",
       "      <th></th>\n",
       "      <th>title</th>\n",
       "      <th>selftext</th>\n",
       "      <th>subreddit</th>\n",
       "      <th>author</th>\n",
       "      <th>created_utc</th>\n",
       "      <th>created_date</th>\n",
       "      <th>score</th>\n",
       "      <th>num_comments</th>\n",
       "      <th>keyword</th>\n",
       "      <th>search_term</th>\n",
       "      <th>date_posted</th>\n",
       "      <th>upvotes</th>\n",
       "      <th>comments</th>\n",
       "      <th>url</th>\n",
       "      <th>permalink</th>\n",
       "    </tr>\n",
       "  </thead>\n",
       "  <tbody>\n",
       "    <tr>\n",
       "      <th>0</th>\n",
       "      <td>USAID left a month ago, do we have ARVs in Kenya?</td>\n",
       "      <td>Someone on a different group (different websit...</td>\n",
       "      <td>Kenya</td>\n",
       "      <td>muerki</td>\n",
       "      <td>4/15/2025 13:16</td>\n",
       "      <td>NaN</td>\n",
       "      <td>3.0</td>\n",
       "      <td>5.0</td>\n",
       "      <td>usaid kenya</td>\n",
       "      <td>NaN</td>\n",
       "      <td>NaN</td>\n",
       "      <td>NaN</td>\n",
       "      <td>NaN</td>\n",
       "      <td>https://www.reddit.com/r/Kenya/comments/1jzrn2...</td>\n",
       "      <td>NaN</td>\n",
       "    </tr>\n",
       "    <tr>\n",
       "      <th>1</th>\n",
       "      <td>Classism in r/Kenya and r/nairobi</td>\n",
       "      <td>The classism I'm seeing in both subs is a good...</td>\n",
       "      <td>Kenya</td>\n",
       "      <td>Morio_anzenza</td>\n",
       "      <td>4/7/2025 4:21</td>\n",
       "      <td>NaN</td>\n",
       "      <td>169.0</td>\n",
       "      <td>95.0</td>\n",
       "      <td>usaid kenya</td>\n",
       "      <td>NaN</td>\n",
       "      <td>NaN</td>\n",
       "      <td>NaN</td>\n",
       "      <td>NaN</td>\n",
       "      <td>https://www.reddit.com/r/Kenya/comments/1jtcvb...</td>\n",
       "      <td>NaN</td>\n",
       "    </tr>\n",
       "    <tr>\n",
       "      <th>2</th>\n",
       "      <td>EX-USAID people!! Let's talk</td>\n",
       "      <td>Are you still in contact with the organisation...</td>\n",
       "      <td>Kenya</td>\n",
       "      <td>vindtar</td>\n",
       "      <td>4/5/2025 19:09</td>\n",
       "      <td>NaN</td>\n",
       "      <td>2.0</td>\n",
       "      <td>2.0</td>\n",
       "      <td>usaid kenya</td>\n",
       "      <td>NaN</td>\n",
       "      <td>NaN</td>\n",
       "      <td>NaN</td>\n",
       "      <td>NaN</td>\n",
       "      <td>https://www.reddit.com/r/Kenya/comments/1jsb14...</td>\n",
       "      <td>NaN</td>\n",
       "    </tr>\n",
       "    <tr>\n",
       "      <th>3</th>\n",
       "      <td>Why western powers back Israel no matter what ...</td>\n",
       "      <td>I don't care what good book you read, but it's...</td>\n",
       "      <td>Kenya</td>\n",
       "      <td>Gold_Smart</td>\n",
       "      <td>3/25/2025 8:18</td>\n",
       "      <td>NaN</td>\n",
       "      <td>13.0</td>\n",
       "      <td>20.0</td>\n",
       "      <td>usaid kenya</td>\n",
       "      <td>NaN</td>\n",
       "      <td>NaN</td>\n",
       "      <td>NaN</td>\n",
       "      <td>NaN</td>\n",
       "      <td>https://www.reddit.com/r/Kenya/comments/1jjehw...</td>\n",
       "      <td>NaN</td>\n",
       "    </tr>\n",
       "    <tr>\n",
       "      <th>4</th>\n",
       "      <td>Is kenya capable of funding its needs now that...</td>\n",
       "      <td>How is kenya prepared to fill the vacuum of US...</td>\n",
       "      <td>Kenya</td>\n",
       "      <td>westmaxia</td>\n",
       "      <td>3/8/2025 8:08</td>\n",
       "      <td>NaN</td>\n",
       "      <td>1.0</td>\n",
       "      <td>6.0</td>\n",
       "      <td>usaid kenya</td>\n",
       "      <td>NaN</td>\n",
       "      <td>NaN</td>\n",
       "      <td>NaN</td>\n",
       "      <td>NaN</td>\n",
       "      <td>https://www.reddit.com/r/Kenya/comments/1j6cjz...</td>\n",
       "      <td>NaN</td>\n",
       "    </tr>\n",
       "  </tbody>\n",
       "</table>\n",
       "</div>"
      ],
      "text/plain": [
       "                                               title  \\\n",
       "0  USAID left a month ago, do we have ARVs in Kenya?   \n",
       "1                  Classism in r/Kenya and r/nairobi   \n",
       "2                       EX-USAID people!! Let's talk   \n",
       "3  Why western powers back Israel no matter what ...   \n",
       "4  Is kenya capable of funding its needs now that...   \n",
       "\n",
       "                                            selftext subreddit         author  \\\n",
       "0  Someone on a different group (different websit...     Kenya         muerki   \n",
       "1  The classism I'm seeing in both subs is a good...     Kenya  Morio_anzenza   \n",
       "2  Are you still in contact with the organisation...     Kenya        vindtar   \n",
       "3  I don't care what good book you read, but it's...     Kenya     Gold_Smart   \n",
       "4  How is kenya prepared to fill the vacuum of US...     Kenya      westmaxia   \n",
       "\n",
       "       created_utc created_date  score  num_comments      keyword search_term  \\\n",
       "0  4/15/2025 13:16          NaN    3.0           5.0  usaid kenya         NaN   \n",
       "1    4/7/2025 4:21          NaN  169.0          95.0  usaid kenya         NaN   \n",
       "2   4/5/2025 19:09          NaN    2.0           2.0  usaid kenya         NaN   \n",
       "3   3/25/2025 8:18          NaN   13.0          20.0  usaid kenya         NaN   \n",
       "4    3/8/2025 8:08          NaN    1.0           6.0  usaid kenya         NaN   \n",
       "\n",
       "   date_posted  upvotes  comments  \\\n",
       "0          NaN      NaN       NaN   \n",
       "1          NaN      NaN       NaN   \n",
       "2          NaN      NaN       NaN   \n",
       "3          NaN      NaN       NaN   \n",
       "4          NaN      NaN       NaN   \n",
       "\n",
       "                                                 url permalink  \n",
       "0  https://www.reddit.com/r/Kenya/comments/1jzrn2...       NaN  \n",
       "1  https://www.reddit.com/r/Kenya/comments/1jtcvb...       NaN  \n",
       "2  https://www.reddit.com/r/Kenya/comments/1jsb14...       NaN  \n",
       "3  https://www.reddit.com/r/Kenya/comments/1jjehw...       NaN  \n",
       "4  https://www.reddit.com/r/Kenya/comments/1j6cjz...       NaN  "
      ]
     },
     "execution_count": 19,
     "metadata": {},
     "output_type": "execute_result"
    }
   ],
   "source": [
    "reddit_df = pd.read_csv('C:/Users/hp/Desktop/DATA NEXUS PROJECTS/USAID-Kenya-Sentiment-Analysis/data/processed/individual datasets/mbego_all_reddit_merged.csv')\n",
    "reddit_df.head()"
   ]
  },
  {
   "cell_type": "code",
   "execution_count": 20,
   "id": "bb901bb4",
   "metadata": {},
   "outputs": [
    {
     "data": {
      "text/html": [
       "<div>\n",
       "<style scoped>\n",
       "    .dataframe tbody tr th:only-of-type {\n",
       "        vertical-align: middle;\n",
       "    }\n",
       "\n",
       "    .dataframe tbody tr th {\n",
       "        vertical-align: top;\n",
       "    }\n",
       "\n",
       "    .dataframe thead th {\n",
       "        text-align: right;\n",
       "    }\n",
       "</style>\n",
       "<table border=\"1\" class=\"dataframe\">\n",
       "  <thead>\n",
       "    <tr style=\"text-align: right;\">\n",
       "      <th></th>\n",
       "      <th>title</th>\n",
       "      <th>selftext</th>\n",
       "      <th>subreddit</th>\n",
       "      <th>author</th>\n",
       "      <th>created_utc</th>\n",
       "      <th>created_date</th>\n",
       "      <th>score</th>\n",
       "      <th>num_comments</th>\n",
       "      <th>keyword</th>\n",
       "      <th>search_term</th>\n",
       "      <th>date_posted</th>\n",
       "      <th>upvotes</th>\n",
       "      <th>comments</th>\n",
       "      <th>url</th>\n",
       "      <th>permalink</th>\n",
       "    </tr>\n",
       "  </thead>\n",
       "  <tbody>\n",
       "    <tr>\n",
       "      <th>1284</th>\n",
       "      <td>Weekly Sub-Saharan Africa Security Situation a...</td>\n",
       "      <td>#Somalia 🇸🇴\\r\\n#Sudan 🇸🇩\\r\\nDemocratic Republi...</td>\n",
       "      <td>Africa</td>\n",
       "      <td>NaN</td>\n",
       "      <td>4/18/2025 14:09</td>\n",
       "      <td>NaN</td>\n",
       "      <td>3.0</td>\n",
       "      <td>2.0</td>\n",
       "      <td>NaN</td>\n",
       "      <td>NaN</td>\n",
       "      <td>NaN</td>\n",
       "      <td>NaN</td>\n",
       "      <td>NaN</td>\n",
       "      <td>https://open.substack.com/pub/hasretkargin/p/w...</td>\n",
       "      <td>NaN</td>\n",
       "    </tr>\n",
       "    <tr>\n",
       "      <th>1285</th>\n",
       "      <td>No evidence that Burkina Faso paid off all its...</td>\n",
       "      <td>NaN</td>\n",
       "      <td>Africa</td>\n",
       "      <td>NaN</td>\n",
       "      <td>4/18/2025 8:23</td>\n",
       "      <td>NaN</td>\n",
       "      <td>52.0</td>\n",
       "      <td>25.0</td>\n",
       "      <td>NaN</td>\n",
       "      <td>NaN</td>\n",
       "      <td>NaN</td>\n",
       "      <td>NaN</td>\n",
       "      <td>NaN</td>\n",
       "      <td>https://www.reuters.com/fact-check/burkina-fas...</td>\n",
       "      <td>NaN</td>\n",
       "    </tr>\n",
       "    <tr>\n",
       "      <th>1286</th>\n",
       "      <td>Ghana orders foreigners to exit gold market by...</td>\n",
       "      <td>Ghana has ordered foreigners to exit its gold ...</td>\n",
       "      <td>Africa</td>\n",
       "      <td>NaN</td>\n",
       "      <td>4/17/2025 17:59</td>\n",
       "      <td>NaN</td>\n",
       "      <td>101.0</td>\n",
       "      <td>12.0</td>\n",
       "      <td>NaN</td>\n",
       "      <td>NaN</td>\n",
       "      <td>NaN</td>\n",
       "      <td>NaN</td>\n",
       "      <td>NaN</td>\n",
       "      <td>https://eastleighvoice.co.ke/west%20african/13...</td>\n",
       "      <td>NaN</td>\n",
       "    </tr>\n",
       "    <tr>\n",
       "      <th>1287</th>\n",
       "      <td>Unending Frustration Regarding Sudan War.</td>\n",
       "      <td>https://www.reuters.com/world/britain-boosts-a...</td>\n",
       "      <td>Africa</td>\n",
       "      <td>NaN</td>\n",
       "      <td>4/16/2025 19:33</td>\n",
       "      <td>NaN</td>\n",
       "      <td>11.0</td>\n",
       "      <td>8.0</td>\n",
       "      <td>NaN</td>\n",
       "      <td>NaN</td>\n",
       "      <td>NaN</td>\n",
       "      <td>NaN</td>\n",
       "      <td>NaN</td>\n",
       "      <td>https://www.reddit.com/gallery/1k0t8ed</td>\n",
       "      <td>NaN</td>\n",
       "    </tr>\n",
       "    <tr>\n",
       "      <th>1288</th>\n",
       "      <td>Tanzania's Authoritarian Government Has Just B...</td>\n",
       "      <td>Tanzania's main opposition party has been barr...</td>\n",
       "      <td>Africa</td>\n",
       "      <td>NaN</td>\n",
       "      <td>4/14/2025 11:31</td>\n",
       "      <td>NaN</td>\n",
       "      <td>52.0</td>\n",
       "      <td>14.0</td>\n",
       "      <td>NaN</td>\n",
       "      <td>NaN</td>\n",
       "      <td>NaN</td>\n",
       "      <td>NaN</td>\n",
       "      <td>NaN</td>\n",
       "      <td>https://www.reddit.com/r/Africa/comments/1jywl...</td>\n",
       "      <td>NaN</td>\n",
       "    </tr>\n",
       "  </tbody>\n",
       "</table>\n",
       "</div>"
      ],
      "text/plain": [
       "                                                  title  \\\n",
       "1284  Weekly Sub-Saharan Africa Security Situation a...   \n",
       "1285  No evidence that Burkina Faso paid off all its...   \n",
       "1286  Ghana orders foreigners to exit gold market by...   \n",
       "1287          Unending Frustration Regarding Sudan War.   \n",
       "1288  Tanzania's Authoritarian Government Has Just B...   \n",
       "\n",
       "                                               selftext subreddit author  \\\n",
       "1284  #Somalia 🇸🇴\\r\\n#Sudan 🇸🇩\\r\\nDemocratic Republi...    Africa    NaN   \n",
       "1285                                                NaN    Africa    NaN   \n",
       "1286  Ghana has ordered foreigners to exit its gold ...    Africa    NaN   \n",
       "1287  https://www.reuters.com/world/britain-boosts-a...    Africa    NaN   \n",
       "1288  Tanzania's main opposition party has been barr...    Africa    NaN   \n",
       "\n",
       "          created_utc created_date  score  num_comments keyword search_term  \\\n",
       "1284  4/18/2025 14:09          NaN    3.0           2.0     NaN         NaN   \n",
       "1285   4/18/2025 8:23          NaN   52.0          25.0     NaN         NaN   \n",
       "1286  4/17/2025 17:59          NaN  101.0          12.0     NaN         NaN   \n",
       "1287  4/16/2025 19:33          NaN   11.0           8.0     NaN         NaN   \n",
       "1288  4/14/2025 11:31          NaN   52.0          14.0     NaN         NaN   \n",
       "\n",
       "      date_posted  upvotes  comments  \\\n",
       "1284          NaN      NaN       NaN   \n",
       "1285          NaN      NaN       NaN   \n",
       "1286          NaN      NaN       NaN   \n",
       "1287          NaN      NaN       NaN   \n",
       "1288          NaN      NaN       NaN   \n",
       "\n",
       "                                                    url permalink  \n",
       "1284  https://open.substack.com/pub/hasretkargin/p/w...       NaN  \n",
       "1285  https://www.reuters.com/fact-check/burkina-fas...       NaN  \n",
       "1286  https://eastleighvoice.co.ke/west%20african/13...       NaN  \n",
       "1287             https://www.reddit.com/gallery/1k0t8ed       NaN  \n",
       "1288  https://www.reddit.com/r/Africa/comments/1jywl...       NaN  "
      ]
     },
     "execution_count": 20,
     "metadata": {},
     "output_type": "execute_result"
    }
   ],
   "source": [
    "reddit_df.tail()"
   ]
  },
  {
   "cell_type": "code",
   "execution_count": 21,
   "id": "6ad45f63",
   "metadata": {},
   "outputs": [
    {
     "name": "stdout",
     "output_type": "stream",
     "text": [
      "<class 'pandas.core.frame.DataFrame'>\n",
      "RangeIndex: 1289 entries, 0 to 1288\n",
      "Data columns (total 15 columns):\n",
      " #   Column        Non-Null Count  Dtype  \n",
      "---  ------        --------------  -----  \n",
      " 0   title         1289 non-null   object \n",
      " 1   selftext      901 non-null    object \n",
      " 2   subreddit     1289 non-null   object \n",
      " 3   author        466 non-null    object \n",
      " 4   created_utc   1289 non-null   object \n",
      " 5   created_date  150 non-null    object \n",
      " 6   score         1013 non-null   float64\n",
      " 7   num_comments  833 non-null    float64\n",
      " 8   keyword       742 non-null    object \n",
      " 9   search_term   150 non-null    object \n",
      " 10  date_posted   0 non-null      float64\n",
      " 11  upvotes       276 non-null    float64\n",
      " 12  comments      276 non-null    float64\n",
      " 13  url           1289 non-null   object \n",
      " 14  permalink     426 non-null    object \n",
      "dtypes: float64(5), object(10)\n",
      "memory usage: 151.2+ KB\n"
     ]
    }
   ],
   "source": [
    "reddit_df.info()"
   ]
  },
  {
   "cell_type": "code",
   "execution_count": 22,
   "id": "b7fe73d5",
   "metadata": {},
   "outputs": [
    {
     "data": {
      "text/plain": [
       "(1289, 15)"
      ]
     },
     "execution_count": 22,
     "metadata": {},
     "output_type": "execute_result"
    }
   ],
   "source": [
    "reddit_df.shape"
   ]
  },
  {
   "cell_type": "code",
   "execution_count": 23,
   "id": "a727ec60",
   "metadata": {},
   "outputs": [
    {
     "data": {
      "text/plain": [
       "Index(['title', 'selftext', 'subreddit', 'author', 'created_utc',\n",
       "       'created_date', 'score', 'num_comments', 'keyword', 'search_term',\n",
       "       'date_posted', 'upvotes', 'comments', 'url', 'permalink'],\n",
       "      dtype='object')"
      ]
     },
     "execution_count": 23,
     "metadata": {},
     "output_type": "execute_result"
    }
   ],
   "source": [
    "reddit_df.columns"
   ]
  },
  {
   "cell_type": "code",
   "execution_count": 24,
   "id": "30f65492",
   "metadata": {},
   "outputs": [
    {
     "data": {
      "text/plain": [
       "title            object\n",
       "selftext         object\n",
       "subreddit        object\n",
       "author           object\n",
       "created_utc      object\n",
       "created_date     object\n",
       "score           float64\n",
       "num_comments    float64\n",
       "keyword          object\n",
       "search_term      object\n",
       "date_posted     float64\n",
       "upvotes         float64\n",
       "comments        float64\n",
       "url              object\n",
       "permalink        object\n",
       "dtype: object"
      ]
     },
     "execution_count": 24,
     "metadata": {},
     "output_type": "execute_result"
    }
   ],
   "source": [
    "reddit_df.dtypes"
   ]
  },
  {
   "cell_type": "code",
   "execution_count": 25,
   "id": "60c5141b",
   "metadata": {},
   "outputs": [
    {
     "data": {
      "text/plain": [
       "title              0\n",
       "selftext         388\n",
       "subreddit          0\n",
       "author           823\n",
       "created_utc        0\n",
       "created_date    1139\n",
       "score            276\n",
       "num_comments     456\n",
       "keyword          547\n",
       "search_term     1139\n",
       "date_posted     1289\n",
       "upvotes         1013\n",
       "comments        1013\n",
       "url                0\n",
       "permalink        863\n",
       "dtype: int64"
      ]
     },
     "execution_count": 25,
     "metadata": {},
     "output_type": "execute_result"
    }
   ],
   "source": [
    "reddit_df.isna().sum()"
   ]
  },
  {
   "cell_type": "code",
   "execution_count": 26,
   "id": "f73a4f2a",
   "metadata": {},
   "outputs": [
    {
     "data": {
      "text/html": [
       "<div>\n",
       "<style scoped>\n",
       "    .dataframe tbody tr th:only-of-type {\n",
       "        vertical-align: middle;\n",
       "    }\n",
       "\n",
       "    .dataframe tbody tr th {\n",
       "        vertical-align: top;\n",
       "    }\n",
       "\n",
       "    .dataframe thead th {\n",
       "        text-align: right;\n",
       "    }\n",
       "</style>\n",
       "<table border=\"1\" class=\"dataframe\">\n",
       "  <thead>\n",
       "    <tr style=\"text-align: right;\">\n",
       "      <th></th>\n",
       "      <th>score</th>\n",
       "      <th>num_comments</th>\n",
       "      <th>date_posted</th>\n",
       "      <th>upvotes</th>\n",
       "      <th>comments</th>\n",
       "    </tr>\n",
       "  </thead>\n",
       "  <tbody>\n",
       "    <tr>\n",
       "      <th>count</th>\n",
       "      <td>1013.000000</td>\n",
       "      <td>833.000000</td>\n",
       "      <td>0.0</td>\n",
       "      <td>276.000000</td>\n",
       "      <td>276.000000</td>\n",
       "    </tr>\n",
       "    <tr>\n",
       "      <th>mean</th>\n",
       "      <td>344.626851</td>\n",
       "      <td>31.349340</td>\n",
       "      <td>NaN</td>\n",
       "      <td>337.518116</td>\n",
       "      <td>35.905797</td>\n",
       "    </tr>\n",
       "    <tr>\n",
       "      <th>std</th>\n",
       "      <td>3106.309319</td>\n",
       "      <td>68.060435</td>\n",
       "      <td>NaN</td>\n",
       "      <td>1623.914761</td>\n",
       "      <td>73.531775</td>\n",
       "    </tr>\n",
       "    <tr>\n",
       "      <th>min</th>\n",
       "      <td>0.000000</td>\n",
       "      <td>0.000000</td>\n",
       "      <td>NaN</td>\n",
       "      <td>0.000000</td>\n",
       "      <td>0.000000</td>\n",
       "    </tr>\n",
       "    <tr>\n",
       "      <th>25%</th>\n",
       "      <td>3.000000</td>\n",
       "      <td>4.000000</td>\n",
       "      <td>NaN</td>\n",
       "      <td>6.750000</td>\n",
       "      <td>5.000000</td>\n",
       "    </tr>\n",
       "    <tr>\n",
       "      <th>50%</th>\n",
       "      <td>10.000000</td>\n",
       "      <td>9.000000</td>\n",
       "      <td>NaN</td>\n",
       "      <td>43.500000</td>\n",
       "      <td>13.000000</td>\n",
       "    </tr>\n",
       "    <tr>\n",
       "      <th>75%</th>\n",
       "      <td>54.000000</td>\n",
       "      <td>31.000000</td>\n",
       "      <td>NaN</td>\n",
       "      <td>111.250000</td>\n",
       "      <td>31.250000</td>\n",
       "    </tr>\n",
       "    <tr>\n",
       "      <th>max</th>\n",
       "      <td>79088.000000</td>\n",
       "      <td>706.000000</td>\n",
       "      <td>NaN</td>\n",
       "      <td>22208.000000</td>\n",
       "      <td>558.000000</td>\n",
       "    </tr>\n",
       "  </tbody>\n",
       "</table>\n",
       "</div>"
      ],
      "text/plain": [
       "              score  num_comments  date_posted       upvotes    comments\n",
       "count   1013.000000    833.000000          0.0    276.000000  276.000000\n",
       "mean     344.626851     31.349340          NaN    337.518116   35.905797\n",
       "std     3106.309319     68.060435          NaN   1623.914761   73.531775\n",
       "min        0.000000      0.000000          NaN      0.000000    0.000000\n",
       "25%        3.000000      4.000000          NaN      6.750000    5.000000\n",
       "50%       10.000000      9.000000          NaN     43.500000   13.000000\n",
       "75%       54.000000     31.000000          NaN    111.250000   31.250000\n",
       "max    79088.000000    706.000000          NaN  22208.000000  558.000000"
      ]
     },
     "execution_count": 26,
     "metadata": {},
     "output_type": "execute_result"
    }
   ],
   "source": [
    "reddit_df.describe()"
   ]
  },
  {
   "cell_type": "markdown",
   "id": "9dd4cbe8",
   "metadata": {},
   "source": [
    "## Data Cleaning"
   ]
  },
  {
   "cell_type": "markdown",
   "id": "9c842aff",
   "metadata": {},
   "source": [
    "### Dropping Unneccessary Columns"
   ]
  },
  {
   "cell_type": "code",
   "execution_count": 27,
   "id": "9d728b90",
   "metadata": {},
   "outputs": [
    {
     "data": {
      "text/html": [
       "<div>\n",
       "<style scoped>\n",
       "    .dataframe tbody tr th:only-of-type {\n",
       "        vertical-align: middle;\n",
       "    }\n",
       "\n",
       "    .dataframe tbody tr th {\n",
       "        vertical-align: top;\n",
       "    }\n",
       "\n",
       "    .dataframe thead th {\n",
       "        text-align: right;\n",
       "    }\n",
       "</style>\n",
       "<table border=\"1\" class=\"dataframe\">\n",
       "  <thead>\n",
       "    <tr style=\"text-align: right;\">\n",
       "      <th></th>\n",
       "      <th>title</th>\n",
       "      <th>selftext</th>\n",
       "      <th>created_utc</th>\n",
       "      <th>keyword</th>\n",
       "      <th>url</th>\n",
       "    </tr>\n",
       "  </thead>\n",
       "  <tbody>\n",
       "    <tr>\n",
       "      <th>0</th>\n",
       "      <td>USAID left a month ago, do we have ARVs in Kenya?</td>\n",
       "      <td>Someone on a different group (different websit...</td>\n",
       "      <td>4/15/2025 13:16</td>\n",
       "      <td>usaid kenya</td>\n",
       "      <td>https://www.reddit.com/r/Kenya/comments/1jzrn2...</td>\n",
       "    </tr>\n",
       "    <tr>\n",
       "      <th>1</th>\n",
       "      <td>Classism in r/Kenya and r/nairobi</td>\n",
       "      <td>The classism I'm seeing in both subs is a good...</td>\n",
       "      <td>4/7/2025 4:21</td>\n",
       "      <td>usaid kenya</td>\n",
       "      <td>https://www.reddit.com/r/Kenya/comments/1jtcvb...</td>\n",
       "    </tr>\n",
       "    <tr>\n",
       "      <th>2</th>\n",
       "      <td>EX-USAID people!! Let's talk</td>\n",
       "      <td>Are you still in contact with the organisation...</td>\n",
       "      <td>4/5/2025 19:09</td>\n",
       "      <td>usaid kenya</td>\n",
       "      <td>https://www.reddit.com/r/Kenya/comments/1jsb14...</td>\n",
       "    </tr>\n",
       "    <tr>\n",
       "      <th>3</th>\n",
       "      <td>Why western powers back Israel no matter what ...</td>\n",
       "      <td>I don't care what good book you read, but it's...</td>\n",
       "      <td>3/25/2025 8:18</td>\n",
       "      <td>usaid kenya</td>\n",
       "      <td>https://www.reddit.com/r/Kenya/comments/1jjehw...</td>\n",
       "    </tr>\n",
       "    <tr>\n",
       "      <th>4</th>\n",
       "      <td>Is kenya capable of funding its needs now that...</td>\n",
       "      <td>How is kenya prepared to fill the vacuum of US...</td>\n",
       "      <td>3/8/2025 8:08</td>\n",
       "      <td>usaid kenya</td>\n",
       "      <td>https://www.reddit.com/r/Kenya/comments/1j6cjz...</td>\n",
       "    </tr>\n",
       "  </tbody>\n",
       "</table>\n",
       "</div>"
      ],
      "text/plain": [
       "                                               title  \\\n",
       "0  USAID left a month ago, do we have ARVs in Kenya?   \n",
       "1                  Classism in r/Kenya and r/nairobi   \n",
       "2                       EX-USAID people!! Let's talk   \n",
       "3  Why western powers back Israel no matter what ...   \n",
       "4  Is kenya capable of funding its needs now that...   \n",
       "\n",
       "                                            selftext      created_utc  \\\n",
       "0  Someone on a different group (different websit...  4/15/2025 13:16   \n",
       "1  The classism I'm seeing in both subs is a good...    4/7/2025 4:21   \n",
       "2  Are you still in contact with the organisation...   4/5/2025 19:09   \n",
       "3  I don't care what good book you read, but it's...   3/25/2025 8:18   \n",
       "4  How is kenya prepared to fill the vacuum of US...    3/8/2025 8:08   \n",
       "\n",
       "       keyword                                                url  \n",
       "0  usaid kenya  https://www.reddit.com/r/Kenya/comments/1jzrn2...  \n",
       "1  usaid kenya  https://www.reddit.com/r/Kenya/comments/1jtcvb...  \n",
       "2  usaid kenya  https://www.reddit.com/r/Kenya/comments/1jsb14...  \n",
       "3  usaid kenya  https://www.reddit.com/r/Kenya/comments/1jjehw...  \n",
       "4  usaid kenya  https://www.reddit.com/r/Kenya/comments/1j6cjz...  "
      ]
     },
     "execution_count": 27,
     "metadata": {},
     "output_type": "execute_result"
    }
   ],
   "source": [
    "reddit_df.drop(columns=['subreddit', 'author','created_date','score','num_comments','search_term','date_posted','upvotes','comments','permalink'], inplace=True)\n",
    "reddit_df.head()"
   ]
  },
  {
   "cell_type": "code",
   "execution_count": 28,
   "id": "b3a0c1d9",
   "metadata": {},
   "outputs": [
    {
     "data": {
      "text/plain": [
       "Index(['title', 'selftext', 'created_utc', 'keyword', 'url'], dtype='object')"
      ]
     },
     "execution_count": 28,
     "metadata": {},
     "output_type": "execute_result"
    }
   ],
   "source": [
    "reddit_df.columns"
   ]
  },
  {
   "cell_type": "markdown",
   "id": "7d1439e1",
   "metadata": {},
   "source": [
    "### Checking for missing values"
   ]
  },
  {
   "cell_type": "code",
   "execution_count": 29,
   "id": "6bb35394",
   "metadata": {},
   "outputs": [
    {
     "data": {
      "text/plain": [
       "title            0\n",
       "selftext       388\n",
       "created_utc      0\n",
       "keyword        547\n",
       "url              0\n",
       "dtype: int64"
      ]
     },
     "execution_count": 29,
     "metadata": {},
     "output_type": "execute_result"
    }
   ],
   "source": [
    "reddit_df.isna().sum()"
   ]
  },
  {
   "cell_type": "code",
   "execution_count": 30,
   "id": "b079ba9e",
   "metadata": {},
   "outputs": [
    {
     "data": {
      "text/html": [
       "<div>\n",
       "<style scoped>\n",
       "    .dataframe tbody tr th:only-of-type {\n",
       "        vertical-align: middle;\n",
       "    }\n",
       "\n",
       "    .dataframe tbody tr th {\n",
       "        vertical-align: top;\n",
       "    }\n",
       "\n",
       "    .dataframe thead th {\n",
       "        text-align: right;\n",
       "    }\n",
       "</style>\n",
       "<table border=\"1\" class=\"dataframe\">\n",
       "  <thead>\n",
       "    <tr style=\"text-align: right;\">\n",
       "      <th></th>\n",
       "      <th>selftext</th>\n",
       "      <th>title</th>\n",
       "      <th>url</th>\n",
       "    </tr>\n",
       "  </thead>\n",
       "  <tbody>\n",
       "    <tr>\n",
       "      <th>195</th>\n",
       "      <td>It has come to light that USAID had been fundi...</td>\n",
       "      <td>USAID wasn't worth it.</td>\n",
       "      <td>https://i.redd.it/cxv28znrhohe1.jpeg</td>\n",
       "    </tr>\n",
       "    <tr>\n",
       "      <th>399</th>\n",
       "      <td>What's your take on the new policy by Donald T...</td>\n",
       "      <td>Interest post from X</td>\n",
       "      <td>https://i.redd.it/9y5f6d1s4dfe1.png</td>\n",
       "    </tr>\n",
       "    <tr>\n",
       "      <th>577</th>\n",
       "      <td>How are things going at development banks - es...</td>\n",
       "      <td>Are development banks also affected by the US ...</td>\n",
       "      <td>https://www.reddit.com/r/InternationalDev/comm...</td>\n",
       "    </tr>\n",
       "    <tr>\n",
       "      <th>322</th>\n",
       "      <td>FIRE stands for Financial Independence, Retire...</td>\n",
       "      <td>Are there Kenyans who are into FIRE (Financial...</td>\n",
       "      <td>https://www.reddit.com/r/Kenya/comments/1kqdr0...</td>\n",
       "    </tr>\n",
       "    <tr>\n",
       "      <th>726</th>\n",
       "      <td>Guys with the recent halting of funds for HIV,...</td>\n",
       "      <td>USAID HIV FUND CUTS</td>\n",
       "      <td>https://www.reddit.com/r/Kenya/comments/1j0am0...</td>\n",
       "    </tr>\n",
       "    <tr>\n",
       "      <th>170</th>\n",
       "      <td>(**Update:** He broke up with me so you guys d...</td>\n",
       "      <td>Would you take her back?</td>\n",
       "      <td>https://www.reddit.com/r/Kenya/comments/1ji01m...</td>\n",
       "    </tr>\n",
       "    <tr>\n",
       "      <th>1142</th>\n",
       "      <td>Tenderpreneurship is awful. Governments buildi...</td>\n",
       "      <td>Kenyan politicians build stuff that don’t work</td>\n",
       "      <td>https://www.reddit.com/r/Kenya/comments/1lb7mu...</td>\n",
       "    </tr>\n",
       "    <tr>\n",
       "      <th>1047</th>\n",
       "      <td>NaN</td>\n",
       "      <td>Hong Kong's biggest pro-democracy party moves ...</td>\n",
       "      <td>https://apnews.com/article/hong-kong-china-dem...</td>\n",
       "    </tr>\n",
       "    <tr>\n",
       "      <th>137</th>\n",
       "      <td>My neighbour’s wife was a very big shot in USA...</td>\n",
       "      <td>USAID Repercussions + Economy</td>\n",
       "      <td>https://www.reddit.com/r/Kenya/comments/1kmhn8...</td>\n",
       "    </tr>\n",
       "    <tr>\n",
       "      <th>207</th>\n",
       "      <td>Wagwan wadau!\\r\\n\\r\\nSo I just realized that s...</td>\n",
       "      <td>How do I cut off friends?</td>\n",
       "      <td>https://www.reddit.com/r/Kenya/comments/1i8yu6...</td>\n",
       "    </tr>\n",
       "  </tbody>\n",
       "</table>\n",
       "</div>"
      ],
      "text/plain": [
       "                                               selftext  \\\n",
       "195   It has come to light that USAID had been fundi...   \n",
       "399   What's your take on the new policy by Donald T...   \n",
       "577   How are things going at development banks - es...   \n",
       "322   FIRE stands for Financial Independence, Retire...   \n",
       "726   Guys with the recent halting of funds for HIV,...   \n",
       "170   (**Update:** He broke up with me so you guys d...   \n",
       "1142  Tenderpreneurship is awful. Governments buildi...   \n",
       "1047                                                NaN   \n",
       "137   My neighbour’s wife was a very big shot in USA...   \n",
       "207   Wagwan wadau!\\r\\n\\r\\nSo I just realized that s...   \n",
       "\n",
       "                                                  title  \\\n",
       "195                              USAID wasn't worth it.   \n",
       "399                                Interest post from X   \n",
       "577   Are development banks also affected by the US ...   \n",
       "322   Are there Kenyans who are into FIRE (Financial...   \n",
       "726                                 USAID HIV FUND CUTS   \n",
       "170                            Would you take her back?   \n",
       "1142     Kenyan politicians build stuff that don’t work   \n",
       "1047  Hong Kong's biggest pro-democracy party moves ...   \n",
       "137                       USAID Repercussions + Economy   \n",
       "207                           How do I cut off friends?   \n",
       "\n",
       "                                                    url  \n",
       "195                https://i.redd.it/cxv28znrhohe1.jpeg  \n",
       "399                 https://i.redd.it/9y5f6d1s4dfe1.png  \n",
       "577   https://www.reddit.com/r/InternationalDev/comm...  \n",
       "322   https://www.reddit.com/r/Kenya/comments/1kqdr0...  \n",
       "726   https://www.reddit.com/r/Kenya/comments/1j0am0...  \n",
       "170   https://www.reddit.com/r/Kenya/comments/1ji01m...  \n",
       "1142  https://www.reddit.com/r/Kenya/comments/1lb7mu...  \n",
       "1047  https://apnews.com/article/hong-kong-china-dem...  \n",
       "137   https://www.reddit.com/r/Kenya/comments/1kmhn8...  \n",
       "207   https://www.reddit.com/r/Kenya/comments/1i8yu6...  "
      ]
     },
     "execution_count": 30,
     "metadata": {},
     "output_type": "execute_result"
    }
   ],
   "source": [
    "reddit_df[['selftext', 'title','url']].sample(10)"
   ]
  },
  {
   "cell_type": "code",
   "execution_count": 31,
   "id": "adc2b2a7",
   "metadata": {},
   "outputs": [
    {
     "data": {
      "text/html": [
       "<div>\n",
       "<style scoped>\n",
       "    .dataframe tbody tr th:only-of-type {\n",
       "        vertical-align: middle;\n",
       "    }\n",
       "\n",
       "    .dataframe tbody tr th {\n",
       "        vertical-align: top;\n",
       "    }\n",
       "\n",
       "    .dataframe thead th {\n",
       "        text-align: right;\n",
       "    }\n",
       "</style>\n",
       "<table border=\"1\" class=\"dataframe\">\n",
       "  <thead>\n",
       "    <tr style=\"text-align: right;\">\n",
       "      <th></th>\n",
       "      <th>post_title</th>\n",
       "      <th>text</th>\n",
       "      <th>published_date</th>\n",
       "      <th>keyword</th>\n",
       "      <th>url</th>\n",
       "    </tr>\n",
       "  </thead>\n",
       "  <tbody>\n",
       "    <tr>\n",
       "      <th>0</th>\n",
       "      <td>USAID left a month ago, do we have ARVs in Kenya?</td>\n",
       "      <td>Someone on a different group (different websit...</td>\n",
       "      <td>4/15/2025 13:16</td>\n",
       "      <td>usaid kenya</td>\n",
       "      <td>https://www.reddit.com/r/Kenya/comments/1jzrn2...</td>\n",
       "    </tr>\n",
       "    <tr>\n",
       "      <th>1</th>\n",
       "      <td>Classism in r/Kenya and r/nairobi</td>\n",
       "      <td>The classism I'm seeing in both subs is a good...</td>\n",
       "      <td>4/7/2025 4:21</td>\n",
       "      <td>usaid kenya</td>\n",
       "      <td>https://www.reddit.com/r/Kenya/comments/1jtcvb...</td>\n",
       "    </tr>\n",
       "    <tr>\n",
       "      <th>2</th>\n",
       "      <td>EX-USAID people!! Let's talk</td>\n",
       "      <td>Are you still in contact with the organisation...</td>\n",
       "      <td>4/5/2025 19:09</td>\n",
       "      <td>usaid kenya</td>\n",
       "      <td>https://www.reddit.com/r/Kenya/comments/1jsb14...</td>\n",
       "    </tr>\n",
       "    <tr>\n",
       "      <th>3</th>\n",
       "      <td>Why western powers back Israel no matter what ...</td>\n",
       "      <td>I don't care what good book you read, but it's...</td>\n",
       "      <td>3/25/2025 8:18</td>\n",
       "      <td>usaid kenya</td>\n",
       "      <td>https://www.reddit.com/r/Kenya/comments/1jjehw...</td>\n",
       "    </tr>\n",
       "    <tr>\n",
       "      <th>4</th>\n",
       "      <td>Is kenya capable of funding its needs now that...</td>\n",
       "      <td>How is kenya prepared to fill the vacuum of US...</td>\n",
       "      <td>3/8/2025 8:08</td>\n",
       "      <td>usaid kenya</td>\n",
       "      <td>https://www.reddit.com/r/Kenya/comments/1j6cjz...</td>\n",
       "    </tr>\n",
       "  </tbody>\n",
       "</table>\n",
       "</div>"
      ],
      "text/plain": [
       "                                          post_title  \\\n",
       "0  USAID left a month ago, do we have ARVs in Kenya?   \n",
       "1                  Classism in r/Kenya and r/nairobi   \n",
       "2                       EX-USAID people!! Let's talk   \n",
       "3  Why western powers back Israel no matter what ...   \n",
       "4  Is kenya capable of funding its needs now that...   \n",
       "\n",
       "                                                text   published_date  \\\n",
       "0  Someone on a different group (different websit...  4/15/2025 13:16   \n",
       "1  The classism I'm seeing in both subs is a good...    4/7/2025 4:21   \n",
       "2  Are you still in contact with the organisation...   4/5/2025 19:09   \n",
       "3  I don't care what good book you read, but it's...   3/25/2025 8:18   \n",
       "4  How is kenya prepared to fill the vacuum of US...    3/8/2025 8:08   \n",
       "\n",
       "       keyword                                                url  \n",
       "0  usaid kenya  https://www.reddit.com/r/Kenya/comments/1jzrn2...  \n",
       "1  usaid kenya  https://www.reddit.com/r/Kenya/comments/1jtcvb...  \n",
       "2  usaid kenya  https://www.reddit.com/r/Kenya/comments/1jsb14...  \n",
       "3  usaid kenya  https://www.reddit.com/r/Kenya/comments/1jjehw...  \n",
       "4  usaid kenya  https://www.reddit.com/r/Kenya/comments/1j6cjz...  "
      ]
     },
     "execution_count": 31,
     "metadata": {},
     "output_type": "execute_result"
    }
   ],
   "source": [
    "reddit_df.rename(columns={'title':'post_title','selftext':'text','created_utc':'published_date'},inplace=True)\n",
    "reddit_df.head()"
   ]
  },
  {
   "cell_type": "code",
   "execution_count": 35,
   "id": "66e3a440",
   "metadata": {},
   "outputs": [],
   "source": [
    "# # Convert to datetime if not already\n",
    "# reddit_df['published_date'] = pd.to_datetime(reddit_df['published_date'])\n",
    "\n",
    "# # Extract time and drop it\n",
    "# reddit_df['time'] = reddit_df['published_date'].dt.time\n",
    "# reddit_df['published_date'] = reddit_df['published_date'].dt.date\n",
    "# reddit_df.drop(columns='time', inplace=True)\n"
   ]
  },
  {
   "cell_type": "markdown",
   "id": "e966f063",
   "metadata": {},
   "source": [
    "**parse** - analyze and convert a piece of data (like a string) into a different, more useful format.\n",
    "\n",
    "The below code cleans the published_date column in the data. Some dates are written as normal dates (eg \"2025-04-15\") and others are written as numbers (UNIX timestamps). The code checks each value and tries to convert it into a proper date. If it can’t, it leaves it empty. After that, it removes the time part and keeps just the date. This helps make sure all the dates are in the same clean format."
   ]
  },
  {
   "cell_type": "code",
   "execution_count": 38,
   "id": "1cb7a6a2",
   "metadata": {},
   "outputs": [
    {
     "name": "stdout",
     "output_type": "stream",
     "text": [
      "Unparsed dates: 167\n"
     ]
    },
    {
     "data": {
      "text/html": [
       "<div>\n",
       "<style scoped>\n",
       "    .dataframe tbody tr th:only-of-type {\n",
       "        vertical-align: middle;\n",
       "    }\n",
       "\n",
       "    .dataframe tbody tr th {\n",
       "        vertical-align: top;\n",
       "    }\n",
       "\n",
       "    .dataframe thead th {\n",
       "        text-align: right;\n",
       "    }\n",
       "</style>\n",
       "<table border=\"1\" class=\"dataframe\">\n",
       "  <thead>\n",
       "    <tr style=\"text-align: right;\">\n",
       "      <th></th>\n",
       "      <th>post_title</th>\n",
       "      <th>text</th>\n",
       "      <th>published_date</th>\n",
       "      <th>keyword</th>\n",
       "      <th>url</th>\n",
       "    </tr>\n",
       "  </thead>\n",
       "  <tbody>\n",
       "    <tr>\n",
       "      <th>0</th>\n",
       "      <td>USAID left a month ago, do we have ARVs in Kenya?</td>\n",
       "      <td>Someone on a different group (different websit...</td>\n",
       "      <td>2025-04-15</td>\n",
       "      <td>usaid kenya</td>\n",
       "      <td>https://www.reddit.com/r/Kenya/comments/1jzrn2...</td>\n",
       "    </tr>\n",
       "    <tr>\n",
       "      <th>1</th>\n",
       "      <td>Classism in r/Kenya and r/nairobi</td>\n",
       "      <td>The classism I'm seeing in both subs is a good...</td>\n",
       "      <td>2025-04-07</td>\n",
       "      <td>usaid kenya</td>\n",
       "      <td>https://www.reddit.com/r/Kenya/comments/1jtcvb...</td>\n",
       "    </tr>\n",
       "    <tr>\n",
       "      <th>2</th>\n",
       "      <td>EX-USAID people!! Let's talk</td>\n",
       "      <td>Are you still in contact with the organisation...</td>\n",
       "      <td>2025-04-05</td>\n",
       "      <td>usaid kenya</td>\n",
       "      <td>https://www.reddit.com/r/Kenya/comments/1jsb14...</td>\n",
       "    </tr>\n",
       "    <tr>\n",
       "      <th>3</th>\n",
       "      <td>Why western powers back Israel no matter what ...</td>\n",
       "      <td>I don't care what good book you read, but it's...</td>\n",
       "      <td>2025-03-25</td>\n",
       "      <td>usaid kenya</td>\n",
       "      <td>https://www.reddit.com/r/Kenya/comments/1jjehw...</td>\n",
       "    </tr>\n",
       "    <tr>\n",
       "      <th>4</th>\n",
       "      <td>Is kenya capable of funding its needs now that...</td>\n",
       "      <td>How is kenya prepared to fill the vacuum of US...</td>\n",
       "      <td>2025-03-08</td>\n",
       "      <td>usaid kenya</td>\n",
       "      <td>https://www.reddit.com/r/Kenya/comments/1j6cjz...</td>\n",
       "    </tr>\n",
       "  </tbody>\n",
       "</table>\n",
       "</div>"
      ],
      "text/plain": [
       "                                          post_title  \\\n",
       "0  USAID left a month ago, do we have ARVs in Kenya?   \n",
       "1                  Classism in r/Kenya and r/nairobi   \n",
       "2                       EX-USAID people!! Let's talk   \n",
       "3  Why western powers back Israel no matter what ...   \n",
       "4  Is kenya capable of funding its needs now that...   \n",
       "\n",
       "                                                text published_date  \\\n",
       "0  Someone on a different group (different websit...     2025-04-15   \n",
       "1  The classism I'm seeing in both subs is a good...     2025-04-07   \n",
       "2  Are you still in contact with the organisation...     2025-04-05   \n",
       "3  I don't care what good book you read, but it's...     2025-03-25   \n",
       "4  How is kenya prepared to fill the vacuum of US...     2025-03-08   \n",
       "\n",
       "       keyword                                                url  \n",
       "0  usaid kenya  https://www.reddit.com/r/Kenya/comments/1jzrn2...  \n",
       "1  usaid kenya  https://www.reddit.com/r/Kenya/comments/1jtcvb...  \n",
       "2  usaid kenya  https://www.reddit.com/r/Kenya/comments/1jsb14...  \n",
       "3  usaid kenya  https://www.reddit.com/r/Kenya/comments/1jjehw...  \n",
       "4  usaid kenya  https://www.reddit.com/r/Kenya/comments/1j6cjz...  "
      ]
     },
     "execution_count": 38,
     "metadata": {},
     "output_type": "execute_result"
    }
   ],
   "source": [
    "import pandas as pd\n",
    "\n",
    "# Function to handle both datetime strings and UNIX timestamps\n",
    "def parse_mixed_dates(val):\n",
    "    try:\n",
    "        # Parse as a regular datetime string\n",
    "        return pd.to_datetime(val)\n",
    "    except:\n",
    "        try:\n",
    "            # Parse as a UNIX timestamp\n",
    "            return pd.to_datetime(float(val), unit='s')\n",
    "        except:\n",
    "            return pd.NaT  # Return NaT if all parsing fails\n",
    "\n",
    "# Apply the parsing function\n",
    "reddit_df['published_date'] = reddit_df['published_date'].apply(parse_mixed_dates)\n",
    "\n",
    "# Check how many dates failed to parse\n",
    "print(\"Unparsed dates:\", reddit_df['published_date'].isna().sum())\n",
    "\n",
    "# Extract date only (remove time)\n",
    "reddit_df['published_date'] = reddit_df['published_date'].dt.date\n",
    "reddit_df.head()"
   ]
  },
  {
   "cell_type": "code",
   "execution_count": 39,
   "id": "3b09c273",
   "metadata": {},
   "outputs": [
    {
     "data": {
      "text/plain": [
       "167"
      ]
     },
     "execution_count": 39,
     "metadata": {},
     "output_type": "execute_result"
    }
   ],
   "source": [
    "reddit_df['published_date'].isna().sum() #check the missing values in date"
   ]
  },
  {
   "cell_type": "code",
   "execution_count": 41,
   "id": "241e4f21",
   "metadata": {},
   "outputs": [],
   "source": [
    "reddit_df.dropna(subset=['published_date'], inplace=True) #drop missing values in date"
   ]
  },
  {
   "cell_type": "code",
   "execution_count": 42,
   "id": "ad48c1ce",
   "metadata": {},
   "outputs": [
    {
     "data": {
      "text/plain": [
       "(1122, 5)"
      ]
     },
     "execution_count": 42,
     "metadata": {},
     "output_type": "execute_result"
    }
   ],
   "source": [
    "reddit_df.shape #check the shape of the dataset"
   ]
  },
  {
   "cell_type": "code",
   "execution_count": 43,
   "id": "d5b8a116",
   "metadata": {},
   "outputs": [
    {
     "data": {
      "text/plain": [
       "post_title          0\n",
       "text              380\n",
       "published_date      0\n",
       "keyword           380\n",
       "url                 0\n",
       "dtype: int64"
      ]
     },
     "execution_count": 43,
     "metadata": {},
     "output_type": "execute_result"
    }
   ],
   "source": [
    "reddit_df.isna().sum() #check for missing values"
   ]
  },
  {
   "cell_type": "markdown",
   "id": "0db0e04c",
   "metadata": {},
   "source": [
    "### Fill missing values in text with an empty string"
   ]
  },
  {
   "cell_type": "markdown",
   "id": "821946c5",
   "metadata": {},
   "source": [
    "I filled missing values in text with an empty string because these are likely link posts where the author did not add body text."
   ]
  },
  {
   "cell_type": "code",
   "execution_count": 44,
   "id": "7ff04d8b",
   "metadata": {},
   "outputs": [
    {
     "data": {
      "text/plain": [
       "post_title          0\n",
       "text                0\n",
       "published_date      0\n",
       "keyword           380\n",
       "url                 0\n",
       "dtype: int64"
      ]
     },
     "execution_count": 44,
     "metadata": {},
     "output_type": "execute_result"
    }
   ],
   "source": [
    "reddit_df['text'] = reddit_df['text'].fillna('')\n",
    "reddit_df.isna().sum()"
   ]
  },
  {
   "cell_type": "markdown",
   "id": "bf52c27d",
   "metadata": {},
   "source": [
    "### Fill missing values in keyword with a placeholder 'Unknown'"
   ]
  },
  {
   "cell_type": "code",
   "execution_count": 47,
   "id": "e8c67e4d",
   "metadata": {},
   "outputs": [
    {
     "data": {
      "text/plain": [
       "263       development aid kenya\n",
       "251       development aid kenya\n",
       "168     usaid kenya funding cut\n",
       "38            kenya foreign aid\n",
       "974                     unknown\n",
       "202     usaid kenya funding cut\n",
       "1093                    unknown\n",
       "1231                    unknown\n",
       "411       development aid kenya\n",
       "1134                    unknown\n",
       "Name: keyword, dtype: object"
      ]
     },
     "execution_count": 47,
     "metadata": {},
     "output_type": "execute_result"
    }
   ],
   "source": [
    "reddit_df['keyword'] = reddit_df['keyword'].fillna('unknown')\n",
    "reddit_df['keyword'].sample(10)"
   ]
  },
  {
   "cell_type": "code",
   "execution_count": 48,
   "id": "7e9e8a47",
   "metadata": {},
   "outputs": [
    {
     "data": {
      "text/plain": [
       "post_title        0\n",
       "text              0\n",
       "published_date    0\n",
       "keyword           0\n",
       "url               0\n",
       "dtype: int64"
      ]
     },
     "execution_count": 48,
     "metadata": {},
     "output_type": "execute_result"
    }
   ],
   "source": [
    "reddit_df.isna().sum()"
   ]
  },
  {
   "cell_type": "markdown",
   "id": "c4a084da",
   "metadata": {},
   "source": [
    "Missing values filled with an empty string and placeholder to maintain the integrity of the data and maintain a good amount of rows"
   ]
  },
  {
   "cell_type": "markdown",
   "id": "9df310ee",
   "metadata": {},
   "source": [
    "### Check for duplicates "
   ]
  },
  {
   "cell_type": "code",
   "execution_count": 53,
   "id": "04adf148",
   "metadata": {},
   "outputs": [
    {
     "data": {
      "text/plain": [
       "75"
      ]
     },
     "execution_count": 53,
     "metadata": {},
     "output_type": "execute_result"
    }
   ],
   "source": [
    "reddit_df.duplicated().sum()"
   ]
  },
  {
   "cell_type": "code",
   "execution_count": 57,
   "id": "19cea5a9",
   "metadata": {},
   "outputs": [],
   "source": [
    "reddit_df.drop_duplicates(inplace=True) #drop all duplicates"
   ]
  },
  {
   "cell_type": "code",
   "execution_count": 58,
   "id": "efc147e2",
   "metadata": {},
   "outputs": [
    {
     "data": {
      "text/plain": [
       "0"
      ]
     },
     "execution_count": 58,
     "metadata": {},
     "output_type": "execute_result"
    }
   ],
   "source": [
    "reddit_df.duplicated().sum() #confirm that all duplicates have been dropped"
   ]
  },
  {
   "cell_type": "code",
   "execution_count": 59,
   "id": "13b70ae9",
   "metadata": {},
   "outputs": [
    {
     "data": {
      "text/plain": [
       "(1047, 5)"
      ]
     },
     "execution_count": 59,
     "metadata": {},
     "output_type": "execute_result"
    }
   ],
   "source": [
    "reddit_df.shape #shape of the new data after cleaning"
   ]
  },
  {
   "cell_type": "code",
   "execution_count": null,
   "id": "279a58bb",
   "metadata": {},
   "outputs": [],
   "source": []
  }
 ],
 "metadata": {
  "kernelspec": {
   "display_name": "Python 3 (ipykernel)",
   "language": "python",
   "name": "python3"
  },
  "language_info": {
   "codemirror_mode": {
    "name": "ipython",
    "version": 3
   },
   "file_extension": ".py",
   "mimetype": "text/x-python",
   "name": "python",
   "nbconvert_exporter": "python",
   "pygments_lexer": "ipython3",
   "version": "3.9.7"
  }
 },
 "nbformat": 4,
 "nbformat_minor": 5
}
