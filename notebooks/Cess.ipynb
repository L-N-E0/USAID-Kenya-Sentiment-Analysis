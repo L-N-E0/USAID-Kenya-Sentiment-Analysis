{
 "cells": [
  {
   "cell_type": "markdown",
   "id": "962045ac",
   "metadata": {},
   "source": [
    "# USAID-Kenya-Sentiment-Analysis"
   ]
  },
  {
   "cell_type": "code",
   "execution_count": 1,
   "id": "d54b44fc",
   "metadata": {},
   "outputs": [],
   "source": [
    "# import pandas as pd\n"
   ]
  },
  {
   "cell_type": "code",
   "execution_count": 2,
   "id": "956d9b55",
   "metadata": {},
   "outputs": [],
   "source": [
    "# reddit_df = pd.read_csv('C:/Users/hp/Desktop/DATA NEXUS PROJECTS/USAID-Kenya-Sentiment-Analysis/data/raw/reddit_data/cecilia.redditsubs.csv')\n",
    "# reddit_df.head()"
   ]
  },
  {
   "cell_type": "code",
   "execution_count": 3,
   "id": "0f15ce52",
   "metadata": {},
   "outputs": [],
   "source": [
    "# reddit_df.tail()"
   ]
  },
  {
   "cell_type": "code",
   "execution_count": 4,
   "id": "821fedde",
   "metadata": {},
   "outputs": [],
   "source": [
    "# reddit_df.info()"
   ]
  },
  {
   "cell_type": "code",
   "execution_count": 5,
   "id": "35a594ac",
   "metadata": {},
   "outputs": [],
   "source": [
    "# reddit_df.columns"
   ]
  },
  {
   "cell_type": "markdown",
   "id": "1fb0fece",
   "metadata": {},
   "source": [
    "<!-- **Column description**\n",
    "\n",
    "subreddit: The community name \n",
    "\n",
    "keyword: Topic keywords\n",
    "\n",
    "title: Post title\n",
    "\n",
    "text: Main post content \n",
    "\n",
    "date_posted: When it was posted\n",
    "\n",
    "upvotes: Number of upvotes\n",
    "\n",
    "comments: Number of comments\n",
    "\n",
    "url: Link to external content\n",
    "\n",
    "permalink: Link to the Reddit post -->"
   ]
  },
  {
   "cell_type": "code",
   "execution_count": 6,
   "id": "468714ba",
   "metadata": {},
   "outputs": [],
   "source": [
    "# reddit_df.shape"
   ]
  },
  {
   "cell_type": "code",
   "execution_count": 7,
   "id": "96b6cb5f",
   "metadata": {},
   "outputs": [],
   "source": [
    "# reddit_df['text'].sample(20)"
   ]
  },
  {
   "cell_type": "code",
   "execution_count": 8,
   "id": "e28c4d0c",
   "metadata": {},
   "outputs": [],
   "source": [
    "# example = reddit_df['text'][4]\n",
    "# print(example)"
   ]
  },
  {
   "cell_type": "code",
   "execution_count": 9,
   "id": "84be1972",
   "metadata": {},
   "outputs": [],
   "source": [
    "# #fill in missing text with 'missing' instead of dropping NaN\n",
    "# reddit_df['text'] = reddit_df['text'].fillna('MISSING')\n",
    "# reddit_df['text'].head(40)"
   ]
  },
  {
   "cell_type": "code",
   "execution_count": 10,
   "id": "cb6b3e52",
   "metadata": {},
   "outputs": [],
   "source": [
    "# #check for duplicates\n",
    "# reddit_df.duplicated().value_counts()"
   ]
  },
  {
   "cell_type": "code",
   "execution_count": 11,
   "id": "f1aeae95",
   "metadata": {},
   "outputs": [],
   "source": [
    "# def clean_text(text):\n",
    "#     if not isinstance(text, str):\n",
    "#         return text\n",
    "    \n",
    "#     # Remove extra whitespace\n",
    "#     text = ' '.join(text.split())\n",
    "    \n",
    "#     # Replace line breaks with space\n",
    "#     text = text.replace('\\n', ' ')\n",
    "    \n",
    "#     # Remove special Reddit characters\n",
    "#     text = text.replace('&amp;', '&')\n",
    "#     text = text.replace('&gt;', '>')\n",
    "#     text = text.replace('&lt;', '<')\n",
    "    \n",
    "#     return text.strip()\n",
    "\n",
    "# # Apply to both title and text columns\n",
    "# reddit_df['title'] = reddit_df['title'].apply(clean_text)\n",
    "# reddit_df['text'] = reddit_df['text'].apply(clean_text)"
   ]
  },
  {
   "cell_type": "code",
   "execution_count": 12,
   "id": "327496db",
   "metadata": {},
   "outputs": [],
   "source": [
    "# reddit_df['text'].head(40)"
   ]
  },
  {
   "cell_type": "code",
   "execution_count": 13,
   "id": "b71446c5",
   "metadata": {},
   "outputs": [],
   "source": [
    "# reddit_df['date_posted'] = pd.to_datetime(reddit_df['date_posted'])\n",
    "# reddit_df.head()"
   ]
  },
  {
   "cell_type": "code",
   "execution_count": 14,
   "id": "2f302c1a",
   "metadata": {},
   "outputs": [],
   "source": [
    "# example = reddit_df['text'][4]\n",
    "# print(example)"
   ]
  },
  {
   "cell_type": "code",
   "execution_count": 15,
   "id": "2445a9f7",
   "metadata": {},
   "outputs": [],
   "source": [
    "# import nltk"
   ]
  },
  {
   "cell_type": "code",
   "execution_count": 16,
   "id": "cd2602ec",
   "metadata": {},
   "outputs": [],
   "source": [
    "# reddit_df2 = pd.read_csv('C:/Users/hp/Desktop/DATA NEXUS PROJECTS/USAID-Kenya-Sentiment-Analysis/data/raw/reddit_data/Agatha_reddit.csv')\n",
    "# reddit_df2.head()"
   ]
  },
  {
   "cell_type": "code",
   "execution_count": 17,
   "id": "1b91a200",
   "metadata": {},
   "outputs": [],
   "source": [
    "# reddit_df3 = pd.read_csv('C:/Users/hp/Desktop/DATA NEXUS PROJECTS/USAID-Kenya-Sentiment-Analysis/data/raw/reddit_data/leo_reddit_posts.csv')\n",
    "# reddit_df3.head()"
   ]
  },
  {
   "cell_type": "code",
   "execution_count": 18,
   "id": "d9943d60",
   "metadata": {},
   "outputs": [],
   "source": [
    "# reddit_df4 = pd.read_csv('C:/Users/hp/Desktop/DATA NEXUS PROJECTS/USAID-Kenya-Sentiment-Analysis/data/raw/reddit_data/Mbego_reddit_usaid_kenya2.csv')\n",
    "# reddit_df4.head()"
   ]
  },
  {
   "cell_type": "code",
   "execution_count": 19,
   "id": "46f3d609",
   "metadata": {},
   "outputs": [],
   "source": [
    "# reddit_df3 = pd.read_csv('C:/Users/hp/Desktop/DATA NEXUS PROJECTS/USAID-Kenya-Sentiment-Analysis/data/raw/reddit_data/ruth_reddit.csv')\n",
    "# reddit_df3.head()"
   ]
  },
  {
   "cell_type": "markdown",
   "id": "6acc0606",
   "metadata": {},
   "source": [
    "#    Merging Reddit CSV Files"
   ]
  },
  {
   "cell_type": "markdown",
   "id": "b99dd2b5",
   "metadata": {},
   "source": [
    "### Import neccessary libraries"
   ]
  },
  {
   "cell_type": "code",
   "execution_count": 20,
   "id": "2605d0a6",
   "metadata": {},
   "outputs": [],
   "source": [
    "import pandas as pd\n",
    "import glob\n",
    "import os\n"
   ]
  },
  {
   "cell_type": "markdown",
   "id": "5e1cd992",
   "metadata": {},
   "source": [
    "### Folder path"
   ]
  },
  {
   "cell_type": "code",
   "execution_count": 21,
   "id": "df600c9e",
   "metadata": {},
   "outputs": [],
   "source": [
    "folder_path = 'C:/Users/hp/Desktop/DATA NEXUS PROJECTS/USAID-Kenya-Sentiment-Analysis/data/raw/reddit_data'\n"
   ]
  },
  {
   "cell_type": "markdown",
   "id": "7fcb97c1",
   "metadata": {},
   "source": [
    "### CSV file paths"
   ]
  },
  {
   "cell_type": "code",
   "execution_count": 22,
   "id": "b50625d4",
   "metadata": {},
   "outputs": [
    {
     "data": {
      "text/plain": [
       "['C:/Users/hp/Desktop/DATA NEXUS PROJECTS/USAID-Kenya-Sentiment-Analysis/data/raw/reddit_data\\\\Agatha_reddit.csv',\n",
       " 'C:/Users/hp/Desktop/DATA NEXUS PROJECTS/USAID-Kenya-Sentiment-Analysis/data/raw/reddit_data\\\\cecilia.redditsubs.csv',\n",
       " 'C:/Users/hp/Desktop/DATA NEXUS PROJECTS/USAID-Kenya-Sentiment-Analysis/data/raw/reddit_data\\\\cecilia.reddit_nbo_ke_africa.csv',\n",
       " 'C:/Users/hp/Desktop/DATA NEXUS PROJECTS/USAID-Kenya-Sentiment-Analysis/data/raw/reddit_data\\\\leo_reddit_posts.csv',\n",
       " 'C:/Users/hp/Desktop/DATA NEXUS PROJECTS/USAID-Kenya-Sentiment-Analysis/data/raw/reddit_data\\\\Mbego_reddit_usaid_kenya.csv',\n",
       " 'C:/Users/hp/Desktop/DATA NEXUS PROJECTS/USAID-Kenya-Sentiment-Analysis/data/raw/reddit_data\\\\Mbego_reddit_usaid_kenya2.csv',\n",
       " 'C:/Users/hp/Desktop/DATA NEXUS PROJECTS/USAID-Kenya-Sentiment-Analysis/data/raw/reddit_data\\\\reddit_usaid_kenya.csv',\n",
       " 'C:/Users/hp/Desktop/DATA NEXUS PROJECTS/USAID-Kenya-Sentiment-Analysis/data/raw/reddit_data\\\\reddit_usaid_sentiment.csv',\n",
       " 'C:/Users/hp/Desktop/DATA NEXUS PROJECTS/USAID-Kenya-Sentiment-Analysis/data/raw/reddit_data\\\\ruth_reddit.csv']"
      ]
     },
     "execution_count": 22,
     "metadata": {},
     "output_type": "execute_result"
    }
   ],
   "source": [
    "csv_files = glob.glob(os.path.join(folder_path, '*.csv'))\n",
    "csv_files"
   ]
  },
  {
   "cell_type": "markdown",
   "id": "c37cff96",
   "metadata": {},
   "source": [
    "### Reading the files and combining them into one dataframe"
   ]
  },
  {
   "cell_type": "code",
   "execution_count": 23,
   "id": "f874996c",
   "metadata": {},
   "outputs": [
    {
     "data": {
      "text/html": [
       "<div>\n",
       "<style scoped>\n",
       "    .dataframe tbody tr th:only-of-type {\n",
       "        vertical-align: middle;\n",
       "    }\n",
       "\n",
       "    .dataframe tbody tr th {\n",
       "        vertical-align: top;\n",
       "    }\n",
       "\n",
       "    .dataframe thead th {\n",
       "        text-align: right;\n",
       "    }\n",
       "</style>\n",
       "<table border=\"1\" class=\"dataframe\">\n",
       "  <thead>\n",
       "    <tr style=\"text-align: right;\">\n",
       "      <th></th>\n",
       "      <th>post_title</th>\n",
       "      <th>text</th>\n",
       "      <th>keyword</th>\n",
       "      <th>published_date</th>\n",
       "      <th>url</th>\n",
       "      <th>source_file</th>\n",
       "    </tr>\n",
       "  </thead>\n",
       "  <tbody>\n",
       "    <tr>\n",
       "      <th>0</th>\n",
       "      <td>USAID left a month ago, do we have ARVs in Kenya?</td>\n",
       "      <td>Someone on a different group (different websit...</td>\n",
       "      <td>usaid kenya</td>\n",
       "      <td>2025-04-15 13:16:53</td>\n",
       "      <td>https://www.reddit.com/r/Kenya/comments/1jzrn2...</td>\n",
       "      <td>Agatha_reddit.csv</td>\n",
       "    </tr>\n",
       "    <tr>\n",
       "      <th>1</th>\n",
       "      <td>Classism in r/Kenya and r/nairobi</td>\n",
       "      <td>The classism I'm seeing in both subs is a good...</td>\n",
       "      <td>usaid kenya</td>\n",
       "      <td>2025-04-07 04:21:12</td>\n",
       "      <td>https://www.reddit.com/r/Kenya/comments/1jtcvb...</td>\n",
       "      <td>Agatha_reddit.csv</td>\n",
       "    </tr>\n",
       "    <tr>\n",
       "      <th>2</th>\n",
       "      <td>EX-USAID people!! Let's talk</td>\n",
       "      <td>Are you still in contact with the organisation...</td>\n",
       "      <td>usaid kenya</td>\n",
       "      <td>2025-04-05 19:09:10</td>\n",
       "      <td>https://www.reddit.com/r/Kenya/comments/1jsb14...</td>\n",
       "      <td>Agatha_reddit.csv</td>\n",
       "    </tr>\n",
       "    <tr>\n",
       "      <th>3</th>\n",
       "      <td>Why western powers back Israel no matter what ...</td>\n",
       "      <td>I don't care what good book you read, but it's...</td>\n",
       "      <td>usaid kenya</td>\n",
       "      <td>2025-03-25 08:18:04</td>\n",
       "      <td>https://www.reddit.com/r/Kenya/comments/1jjehw...</td>\n",
       "      <td>Agatha_reddit.csv</td>\n",
       "    </tr>\n",
       "    <tr>\n",
       "      <th>4</th>\n",
       "      <td>Is kenya capable of funding its needs now that...</td>\n",
       "      <td>How is kenya prepared to fill the vacuum of US...</td>\n",
       "      <td>usaid kenya</td>\n",
       "      <td>2025-03-08 08:08:58</td>\n",
       "      <td>https://www.reddit.com/r/Kenya/comments/1j6cjz...</td>\n",
       "      <td>Agatha_reddit.csv</td>\n",
       "    </tr>\n",
       "  </tbody>\n",
       "</table>\n",
       "</div>"
      ],
      "text/plain": [
       "                                          post_title  \\\n",
       "0  USAID left a month ago, do we have ARVs in Kenya?   \n",
       "1                  Classism in r/Kenya and r/nairobi   \n",
       "2                       EX-USAID people!! Let's talk   \n",
       "3  Why western powers back Israel no matter what ...   \n",
       "4  Is kenya capable of funding its needs now that...   \n",
       "\n",
       "                                                text      keyword  \\\n",
       "0  Someone on a different group (different websit...  usaid kenya   \n",
       "1  The classism I'm seeing in both subs is a good...  usaid kenya   \n",
       "2  Are you still in contact with the organisation...  usaid kenya   \n",
       "3  I don't care what good book you read, but it's...  usaid kenya   \n",
       "4  How is kenya prepared to fill the vacuum of US...  usaid kenya   \n",
       "\n",
       "       published_date                                                url  \\\n",
       "0 2025-04-15 13:16:53  https://www.reddit.com/r/Kenya/comments/1jzrn2...   \n",
       "1 2025-04-07 04:21:12  https://www.reddit.com/r/Kenya/comments/1jtcvb...   \n",
       "2 2025-04-05 19:09:10  https://www.reddit.com/r/Kenya/comments/1jsb14...   \n",
       "3 2025-03-25 08:18:04  https://www.reddit.com/r/Kenya/comments/1jjehw...   \n",
       "4 2025-03-08 08:08:58  https://www.reddit.com/r/Kenya/comments/1j6cjz...   \n",
       "\n",
       "         source_file  \n",
       "0  Agatha_reddit.csv  \n",
       "1  Agatha_reddit.csv  \n",
       "2  Agatha_reddit.csv  \n",
       "3  Agatha_reddit.csv  \n",
       "4  Agatha_reddit.csv  "
      ]
     },
     "execution_count": 23,
     "metadata": {},
     "output_type": "execute_result"
    }
   ],
   "source": [
    "\n",
    "preferred_columns = ['post_title', 'text', 'keyword', 'published_date', 'url']\n",
    "all_dfs = []\n",
    "\n",
    "for file in csv_files:\n",
    "    df = pd.read_csv(file)\n",
    "    \n",
    "    # Rename common column variants\n",
    "    if 'title' in df.columns:\n",
    "        df.rename(columns={'title': 'post_title'}, inplace=True)\n",
    "    if 'selftext' in df.columns and 'text' not in df.columns:\n",
    "        df.rename(columns={'selftext': 'text'}, inplace=True)\n",
    "    if 'date_posted' in df.columns:\n",
    "        df.rename(columns={'date_posted': 'published_date'}, inplace=True)\n",
    "    elif 'created_utc' in df.columns:\n",
    "        df.rename(columns={'created_utc': 'published_date'}, inplace=True)\n",
    "    \n",
    "    # Add missing columns\n",
    "    for col in preferred_columns:\n",
    "        if col not in df.columns:\n",
    "            df[col] = None\n",
    "\n",
    "    # Convert published_date to datetime\n",
    "    df['published_date'] = pd.to_datetime(df['published_date'], errors='coerce')\n",
    "\n",
    "    # Track file source\n",
    "    df['source_file'] = os.path.basename(file)\n",
    "    \n",
    "    # Keep only standardized columns\n",
    "    df = df[preferred_columns + ['source_file']]\n",
    "\n",
    "    all_dfs.append(df)\n",
    "\n",
    "# Combine all\n",
    "combined_df = pd.concat(all_dfs, ignore_index=True)\n",
    "combined_df.head()\n"
   ]
  },
  {
   "cell_type": "code",
   "execution_count": 24,
   "id": "83d5b9f6",
   "metadata": {},
   "outputs": [
    {
     "data": {
      "text/plain": [
       "(1306, 6)"
      ]
     },
     "execution_count": 24,
     "metadata": {},
     "output_type": "execute_result"
    }
   ],
   "source": [
    "combined_df.shape #check the shape of the dataset"
   ]
  },
  {
   "cell_type": "code",
   "execution_count": 25,
   "id": "b896c819",
   "metadata": {},
   "outputs": [
    {
     "data": {
      "text/plain": [
       "post_title          0\n",
       "text              398\n",
       "keyword           564\n",
       "published_date    197\n",
       "url                 0\n",
       "source_file         0\n",
       "dtype: int64"
      ]
     },
     "execution_count": 25,
     "metadata": {},
     "output_type": "execute_result"
    }
   ],
   "source": [
    "combined_df.isna().sum() #check for missing values"
   ]
  },
  {
   "cell_type": "code",
   "execution_count": 26,
   "id": "6cbb0b58",
   "metadata": {},
   "outputs": [
    {
     "data": {
      "text/plain": [
       "Index(['post_title', 'text', 'keyword', 'published_date', 'url',\n",
       "       'source_file'],\n",
       "      dtype='object')"
      ]
     },
     "execution_count": 26,
     "metadata": {},
     "output_type": "execute_result"
    }
   ],
   "source": [
    "combined_df.columns"
   ]
  },
  {
   "cell_type": "code",
   "execution_count": 27,
   "id": "f8a79603",
   "metadata": {},
   "outputs": [
    {
     "data": {
      "text/html": [
       "<div>\n",
       "<style scoped>\n",
       "    .dataframe tbody tr th:only-of-type {\n",
       "        vertical-align: middle;\n",
       "    }\n",
       "\n",
       "    .dataframe tbody tr th {\n",
       "        vertical-align: top;\n",
       "    }\n",
       "\n",
       "    .dataframe thead th {\n",
       "        text-align: right;\n",
       "    }\n",
       "</style>\n",
       "<table border=\"1\" class=\"dataframe\">\n",
       "  <thead>\n",
       "    <tr style=\"text-align: right;\">\n",
       "      <th></th>\n",
       "      <th>post_title</th>\n",
       "      <th>text</th>\n",
       "      <th>keyword</th>\n",
       "      <th>published_date</th>\n",
       "      <th>url</th>\n",
       "      <th>source_file</th>\n",
       "    </tr>\n",
       "  </thead>\n",
       "  <tbody>\n",
       "    <tr>\n",
       "      <th>0</th>\n",
       "      <td>USAID left a month ago, do we have ARVs in Kenya?</td>\n",
       "      <td>Someone on a different group (different websit...</td>\n",
       "      <td>usaid kenya</td>\n",
       "      <td>2025-04-15</td>\n",
       "      <td>https://www.reddit.com/r/Kenya/comments/1jzrn2...</td>\n",
       "      <td>Agatha_reddit.csv</td>\n",
       "    </tr>\n",
       "    <tr>\n",
       "      <th>1</th>\n",
       "      <td>Classism in r/Kenya and r/nairobi</td>\n",
       "      <td>The classism I'm seeing in both subs is a good...</td>\n",
       "      <td>usaid kenya</td>\n",
       "      <td>2025-04-07</td>\n",
       "      <td>https://www.reddit.com/r/Kenya/comments/1jtcvb...</td>\n",
       "      <td>Agatha_reddit.csv</td>\n",
       "    </tr>\n",
       "    <tr>\n",
       "      <th>2</th>\n",
       "      <td>EX-USAID people!! Let's talk</td>\n",
       "      <td>Are you still in contact with the organisation...</td>\n",
       "      <td>usaid kenya</td>\n",
       "      <td>2025-04-05</td>\n",
       "      <td>https://www.reddit.com/r/Kenya/comments/1jsb14...</td>\n",
       "      <td>Agatha_reddit.csv</td>\n",
       "    </tr>\n",
       "    <tr>\n",
       "      <th>3</th>\n",
       "      <td>Why western powers back Israel no matter what ...</td>\n",
       "      <td>I don't care what good book you read, but it's...</td>\n",
       "      <td>usaid kenya</td>\n",
       "      <td>2025-03-25</td>\n",
       "      <td>https://www.reddit.com/r/Kenya/comments/1jjehw...</td>\n",
       "      <td>Agatha_reddit.csv</td>\n",
       "    </tr>\n",
       "    <tr>\n",
       "      <th>4</th>\n",
       "      <td>Is kenya capable of funding its needs now that...</td>\n",
       "      <td>How is kenya prepared to fill the vacuum of US...</td>\n",
       "      <td>usaid kenya</td>\n",
       "      <td>2025-03-08</td>\n",
       "      <td>https://www.reddit.com/r/Kenya/comments/1j6cjz...</td>\n",
       "      <td>Agatha_reddit.csv</td>\n",
       "    </tr>\n",
       "  </tbody>\n",
       "</table>\n",
       "</div>"
      ],
      "text/plain": [
       "                                          post_title  \\\n",
       "0  USAID left a month ago, do we have ARVs in Kenya?   \n",
       "1                  Classism in r/Kenya and r/nairobi   \n",
       "2                       EX-USAID people!! Let's talk   \n",
       "3  Why western powers back Israel no matter what ...   \n",
       "4  Is kenya capable of funding its needs now that...   \n",
       "\n",
       "                                                text      keyword  \\\n",
       "0  Someone on a different group (different websit...  usaid kenya   \n",
       "1  The classism I'm seeing in both subs is a good...  usaid kenya   \n",
       "2  Are you still in contact with the organisation...  usaid kenya   \n",
       "3  I don't care what good book you read, but it's...  usaid kenya   \n",
       "4  How is kenya prepared to fill the vacuum of US...  usaid kenya   \n",
       "\n",
       "  published_date                                                url  \\\n",
       "0     2025-04-15  https://www.reddit.com/r/Kenya/comments/1jzrn2...   \n",
       "1     2025-04-07  https://www.reddit.com/r/Kenya/comments/1jtcvb...   \n",
       "2     2025-04-05  https://www.reddit.com/r/Kenya/comments/1jsb14...   \n",
       "3     2025-03-25  https://www.reddit.com/r/Kenya/comments/1jjehw...   \n",
       "4     2025-03-08  https://www.reddit.com/r/Kenya/comments/1j6cjz...   \n",
       "\n",
       "         source_file  \n",
       "0  Agatha_reddit.csv  \n",
       "1  Agatha_reddit.csv  \n",
       "2  Agatha_reddit.csv  \n",
       "3  Agatha_reddit.csv  \n",
       "4  Agatha_reddit.csv  "
      ]
     },
     "execution_count": 27,
     "metadata": {},
     "output_type": "execute_result"
    }
   ],
   "source": [
    "# Extract date and time\n",
    "combined_df['time'] = combined_df['published_date'].dt.time\n",
    "combined_df['published_date'] = combined_df['published_date'].dt.date\n",
    "\n",
    "#Drop the time column\n",
    "combined_df.drop(columns='time', inplace=True)\n",
    "combined_df.head()"
   ]
  },
  {
   "cell_type": "code",
   "execution_count": 28,
   "id": "203cd407",
   "metadata": {},
   "outputs": [
    {
     "data": {
      "text/html": [
       "<div>\n",
       "<style scoped>\n",
       "    .dataframe tbody tr th:only-of-type {\n",
       "        vertical-align: middle;\n",
       "    }\n",
       "\n",
       "    .dataframe tbody tr th {\n",
       "        vertical-align: top;\n",
       "    }\n",
       "\n",
       "    .dataframe thead th {\n",
       "        text-align: right;\n",
       "    }\n",
       "</style>\n",
       "<table border=\"1\" class=\"dataframe\">\n",
       "  <thead>\n",
       "    <tr style=\"text-align: right;\">\n",
       "      <th></th>\n",
       "      <th>post_title</th>\n",
       "      <th>text</th>\n",
       "      <th>keyword</th>\n",
       "      <th>published_date</th>\n",
       "      <th>url</th>\n",
       "      <th>source_file</th>\n",
       "    </tr>\n",
       "  </thead>\n",
       "  <tbody>\n",
       "    <tr>\n",
       "      <th>28</th>\n",
       "      <td>...na bado mnasema Ruto must go bila tangible ...</td>\n",
       "      <td>NaN</td>\n",
       "      <td>usaid budget cut</td>\n",
       "      <td>2025-03-14</td>\n",
       "      <td>https://i.redd.it/3gw4i5o6anoe1.jpeg</td>\n",
       "      <td>Agatha_reddit.csv</td>\n",
       "    </tr>\n",
       "    <tr>\n",
       "      <th>630</th>\n",
       "      <td>US Supreme Court won't let Trump withhold paym...</td>\n",
       "      <td>NaN</td>\n",
       "      <td>foreign aid, foreign aid</td>\n",
       "      <td>2025-03-05</td>\n",
       "      <td>https://www.reuters.com/legal/us-supreme-court...</td>\n",
       "      <td>cecilia.redditsubs.csv</td>\n",
       "    </tr>\n",
       "    <tr>\n",
       "      <th>508</th>\n",
       "      <td>The USAID effect</td>\n",
       "      <td>The whole USAID issue has dealt a big blow to ...</td>\n",
       "      <td>USAID</td>\n",
       "      <td>2025-02-05</td>\n",
       "      <td>https://www.reddit.com/r/nairobi/comments/1iif...</td>\n",
       "      <td>cecilia.redditsubs.csv</td>\n",
       "    </tr>\n",
       "    <tr>\n",
       "      <th>976</th>\n",
       "      <td>Zelenskiy says Chinese citizens working at dro...</td>\n",
       "      <td>NaN</td>\n",
       "      <td>None</td>\n",
       "      <td>NaT</td>\n",
       "      <td>https://www.reuters.com/world/europe/zelenskiy...</td>\n",
       "      <td>Mbego_reddit_usaid_kenya2.csv</td>\n",
       "    </tr>\n",
       "    <tr>\n",
       "      <th>30</th>\n",
       "      <td>Freelance 101 - Kenyan edition</td>\n",
       "      <td>So I thought to make this post to those curiou...</td>\n",
       "      <td>usaid budget cut</td>\n",
       "      <td>2025-02-24</td>\n",
       "      <td>https://www.reddit.com/r/Kenya/comments/1iwy5p...</td>\n",
       "      <td>Agatha_reddit.csv</td>\n",
       "    </tr>\n",
       "    <tr>\n",
       "      <th>622</th>\n",
       "      <td>Trump’s Foreign Aid Freeze Cut Off Funds for S...</td>\n",
       "      <td>NaN</td>\n",
       "      <td>foreign aid, foreign aid</td>\n",
       "      <td>2025-03-10</td>\n",
       "      <td>https://www.motherjones.com/politics/2025/03/t...</td>\n",
       "      <td>cecilia.redditsubs.csv</td>\n",
       "    </tr>\n",
       "    <tr>\n",
       "      <th>1168</th>\n",
       "      <td>Uncomfortable Truths about Ruto.</td>\n",
       "      <td>I've seen an earlier post today criticizes bod...</td>\n",
       "      <td>None</td>\n",
       "      <td>2025-06-13</td>\n",
       "      <td>https://www.reddit.com/r/Kenya/comments/1lafze...</td>\n",
       "      <td>ruth_reddit.csv</td>\n",
       "    </tr>\n",
       "    <tr>\n",
       "      <th>828</th>\n",
       "      <td>Is Data the missing link for Kenya's entrepren...</td>\n",
       "      <td>Africa’s economic future is being redefined by...</td>\n",
       "      <td>None</td>\n",
       "      <td>1970-01-01</td>\n",
       "      <td>https://www.reddit.com/r/Kenya/comments/1jnfss...</td>\n",
       "      <td>leo_reddit_posts.csv</td>\n",
       "    </tr>\n",
       "    <tr>\n",
       "      <th>456</th>\n",
       "      <td>Independent media in Russia, Ukraine lose thei...</td>\n",
       "      <td>NaN</td>\n",
       "      <td>usaid kenya funding cut</td>\n",
       "      <td>2025-02-09</td>\n",
       "      <td>https://www.washingtonpost.com/world/2025/02/0...</td>\n",
       "      <td>Agatha_reddit.csv</td>\n",
       "    </tr>\n",
       "    <tr>\n",
       "      <th>763</th>\n",
       "      <td>Kenyan Startup environment and what can be done</td>\n",
       "      <td>I'm sure most of us are fully aware of the fru...</td>\n",
       "      <td>None</td>\n",
       "      <td>1970-01-01</td>\n",
       "      <td>https://www.reddit.com/r/Kenya/comments/1jtthj...</td>\n",
       "      <td>leo_reddit_posts.csv</td>\n",
       "    </tr>\n",
       "  </tbody>\n",
       "</table>\n",
       "</div>"
      ],
      "text/plain": [
       "                                             post_title  \\\n",
       "28    ...na bado mnasema Ruto must go bila tangible ...   \n",
       "630   US Supreme Court won't let Trump withhold paym...   \n",
       "508                                    The USAID effect   \n",
       "976   Zelenskiy says Chinese citizens working at dro...   \n",
       "30                       Freelance 101 - Kenyan edition   \n",
       "622   Trump’s Foreign Aid Freeze Cut Off Funds for S...   \n",
       "1168                   Uncomfortable Truths about Ruto.   \n",
       "828   Is Data the missing link for Kenya's entrepren...   \n",
       "456   Independent media in Russia, Ukraine lose thei...   \n",
       "763     Kenyan Startup environment and what can be done   \n",
       "\n",
       "                                                   text  \\\n",
       "28                                                  NaN   \n",
       "630                                                 NaN   \n",
       "508   The whole USAID issue has dealt a big blow to ...   \n",
       "976                                                 NaN   \n",
       "30    So I thought to make this post to those curiou...   \n",
       "622                                                 NaN   \n",
       "1168  I've seen an earlier post today criticizes bod...   \n",
       "828   Africa’s economic future is being redefined by...   \n",
       "456                                                 NaN   \n",
       "763   I'm sure most of us are fully aware of the fru...   \n",
       "\n",
       "                       keyword published_date  \\\n",
       "28            usaid budget cut     2025-03-14   \n",
       "630   foreign aid, foreign aid     2025-03-05   \n",
       "508                      USAID     2025-02-05   \n",
       "976                       None            NaT   \n",
       "30            usaid budget cut     2025-02-24   \n",
       "622   foreign aid, foreign aid     2025-03-10   \n",
       "1168                      None     2025-06-13   \n",
       "828                       None     1970-01-01   \n",
       "456    usaid kenya funding cut     2025-02-09   \n",
       "763                       None     1970-01-01   \n",
       "\n",
       "                                                    url  \\\n",
       "28                 https://i.redd.it/3gw4i5o6anoe1.jpeg   \n",
       "630   https://www.reuters.com/legal/us-supreme-court...   \n",
       "508   https://www.reddit.com/r/nairobi/comments/1iif...   \n",
       "976   https://www.reuters.com/world/europe/zelenskiy...   \n",
       "30    https://www.reddit.com/r/Kenya/comments/1iwy5p...   \n",
       "622   https://www.motherjones.com/politics/2025/03/t...   \n",
       "1168  https://www.reddit.com/r/Kenya/comments/1lafze...   \n",
       "828   https://www.reddit.com/r/Kenya/comments/1jnfss...   \n",
       "456   https://www.washingtonpost.com/world/2025/02/0...   \n",
       "763   https://www.reddit.com/r/Kenya/comments/1jtthj...   \n",
       "\n",
       "                        source_file  \n",
       "28                Agatha_reddit.csv  \n",
       "630          cecilia.redditsubs.csv  \n",
       "508          cecilia.redditsubs.csv  \n",
       "976   Mbego_reddit_usaid_kenya2.csv  \n",
       "30                Agatha_reddit.csv  \n",
       "622          cecilia.redditsubs.csv  \n",
       "1168                ruth_reddit.csv  \n",
       "828            leo_reddit_posts.csv  \n",
       "456               Agatha_reddit.csv  \n",
       "763            leo_reddit_posts.csv  "
      ]
     },
     "execution_count": 28,
     "metadata": {},
     "output_type": "execute_result"
    }
   ],
   "source": [
    "combined_df.sample(10) #random sample of 10 rows"
   ]
  },
  {
   "cell_type": "markdown",
   "id": "9db6c968",
   "metadata": {},
   "source": [
    "### Save the final merged dataframe to csv"
   ]
  },
  {
   "cell_type": "code",
   "execution_count": 29,
   "id": "be3f73dc",
   "metadata": {},
   "outputs": [
    {
     "name": "stdout",
     "output_type": "stream",
     "text": [
      " Results successfully saved to:\n",
      "C:/Users/hp/Desktop/DATA NEXUS PROJECTS/USAID-Kenya-Sentiment-Analysis/data/processed/individual datasets/Cecilia_merged_reddit_dataset.csv\n"
     ]
    }
   ],
   "source": [
    "# Save to CSV \n",
    "if not combined_df.empty:\n",
    "    output_filename = \"C:/Users/hp/Desktop/DATA NEXUS PROJECTS/USAID-Kenya-Sentiment-Analysis/data/processed/individual datasets/Cecilia_merged_reddit_dataset.csv\"\n",
    "    combined_df.to_csv(output_filename, index=False, encoding='utf-8')\n",
    "    print(f\" Results successfully saved to:\\n{output_filename}\")\n",
    "else:\n",
    "    print(\" No data to save. The DataFrame is empty.\")\n"
   ]
  },
  {
   "cell_type": "code",
   "execution_count": null,
   "id": "4313f5e3",
   "metadata": {},
   "outputs": [],
   "source": []
  },
  {
   "cell_type": "markdown",
   "id": "a05bf2ed",
   "metadata": {},
   "source": [
    "# Merging News CSV Files"
   ]
  },
  {
   "cell_type": "markdown",
   "id": "2e616e2e",
   "metadata": {},
   "source": [
    "### Import necessary libraries"
   ]
  },
  {
   "cell_type": "code",
   "execution_count": 30,
   "id": "350238dc",
   "metadata": {},
   "outputs": [],
   "source": [
    "import pandas as pd\n",
    "import glob\n",
    "import os\n"
   ]
  },
  {
   "cell_type": "markdown",
   "id": "a18c8d34",
   "metadata": {},
   "source": [
    "### Folder path"
   ]
  },
  {
   "cell_type": "code",
   "execution_count": 31,
   "id": "f0bc11b4",
   "metadata": {},
   "outputs": [],
   "source": [
    "folder_path = 'C:/Users/hp/Desktop/DATA NEXUS PROJECTS/USAID-Kenya-Sentiment-Analysis/data/raw/news_data'\n"
   ]
  },
  {
   "cell_type": "markdown",
   "id": "0394822b",
   "metadata": {},
   "source": [
    "### CSV file paths"
   ]
  },
  {
   "cell_type": "code",
   "execution_count": 32,
   "id": "015bbad0",
   "metadata": {},
   "outputs": [
    {
     "data": {
      "text/plain": [
       "['C:/Users/hp/Desktop/DATA NEXUS PROJECTS/USAID-Kenya-Sentiment-Analysis/data/raw/news_data\\\\Agatha_news.csv',\n",
       " 'C:/Users/hp/Desktop/DATA NEXUS PROJECTS/USAID-Kenya-Sentiment-Analysis/data/raw/news_data\\\\cecilia.newsapi.csv',\n",
       " 'C:/Users/hp/Desktop/DATA NEXUS PROJECTS/USAID-Kenya-Sentiment-Analysis/data/raw/news_data\\\\leo_newsapi_articles_enriched.csv',\n",
       " 'C:/Users/hp/Desktop/DATA NEXUS PROJECTS/USAID-Kenya-Sentiment-Analysis/data/raw/news_data\\\\Mbego_news_usaid_kenya_fulltext.csv',\n",
       " 'C:/Users/hp/Desktop/DATA NEXUS PROJECTS/USAID-Kenya-Sentiment-Analysis/data/raw/news_data\\\\Mbego_news_usaid_kenya_recent.csv',\n",
       " 'C:/Users/hp/Desktop/DATA NEXUS PROJECTS/USAID-Kenya-Sentiment-Analysis/data/raw/news_data\\\\newsapi_usaid_articles.csv',\n",
       " 'C:/Users/hp/Desktop/DATA NEXUS PROJECTS/USAID-Kenya-Sentiment-Analysis/data/raw/news_data\\\\ruth_news.csv']"
      ]
     },
     "execution_count": 32,
     "metadata": {},
     "output_type": "execute_result"
    }
   ],
   "source": [
    "folder_path = 'C:/Users/hp/Desktop/DATA NEXUS PROJECTS/USAID-Kenya-Sentiment-Analysis/data/raw/news_data'\n",
    "omit_file = os.path.join(folder_path, 'Agatha_news_fulltext.csv')\n",
    "\n",
    "news_csv_files = glob.glob(os.path.join(folder_path, '*.csv'))\n",
    "news_csv_files = [f for f in news_csv_files if os.path.normpath(f) != os.path.normpath(omit_file)]\n",
    "\n",
    "news_csv_files\n"
   ]
  },
  {
   "cell_type": "markdown",
   "id": "74983ad8",
   "metadata": {},
   "source": [
    "### Reading the files and combining them into one dataframe"
   ]
  },
  {
   "cell_type": "code",
   "execution_count": 33,
   "id": "02b6885f",
   "metadata": {},
   "outputs": [
    {
     "name": "stdout",
     "output_type": "stream",
     "text": [
      "NewsAPI data saved to:\n",
      "C:/Users/hp/Desktop/DATA NEXUS PROJECTS/USAID-Kenya-Sentiment-Analysis/data/processed/individual datasets/Cecilia_merged_news_dataset.csv\n"
     ]
    }
   ],
   "source": [
    "import pandas as pd\n",
    "import os\n",
    "\n",
    "news_columns = ['title', 'description', 'text', 'url', 'keyword', 'published_date', 'source_file']\n",
    "all_news_dfs = []\n",
    "\n",
    "for file in news_csv_files:  \n",
    "    df = pd.read_csv(file)\n",
    "\n",
    "    # Rename content to text \n",
    "    if 'content' in df.columns and 'text' not in df.columns:\n",
    "        df.rename(columns={'content': 'text'}, inplace=True)\n",
    "\n",
    "    # Rename publishedAt to published_date\n",
    "    if 'publishedAt' in df.columns:\n",
    "        df.rename(columns={'publishedAt': 'published_date'}, inplace=True)\n",
    "\n",
    "    # Add missing columns\n",
    "    for col in news_columns:\n",
    "        if col not in df.columns:\n",
    "            df[col] = None\n",
    "\n",
    "    # Convert published_date to datetime\n",
    "    df['published_date'] = pd.to_datetime(df['published_date'], errors='coerce')\n",
    "\n",
    "#     # Extract time from published_date, then drop it\n",
    "#     df['time'] = df['published_date'].dt.time\n",
    "#     df['published_date'] = df['published_date'].dt.date\n",
    "#     df.drop(columns='time', inplace=True)\n",
    "\n",
    "    # source file info\n",
    "    df['source_file'] = os.path.basename(file)\n",
    "\n",
    "    # standardized columns\n",
    "    df = df[news_columns]\n",
    "    all_news_dfs.append(df)\n",
    "\n",
    "# Combine all\n",
    "news_combined_df = pd.concat(all_news_dfs, ignore_index=True)\n",
    "\n",
    "# Save to CSV\n",
    "output_path = \"C:/Users/hp/Desktop/DATA NEXUS PROJECTS/USAID-Kenya-Sentiment-Analysis/data/processed/individual datasets/Cecilia_merged_news_dataset.csv\"\n",
    "if not news_combined_df.empty:\n",
    "    news_combined_df.to_csv(output_path, index=False, encoding='utf-8')\n",
    "    print(f\"NewsAPI data saved to:\\n{output_path}\")\n",
    "else:\n",
    "    print(\"No NewsAPI data to save. DataFrame is empty.\")\n"
   ]
  },
  {
   "cell_type": "code",
   "execution_count": 34,
   "id": "faed2a11",
   "metadata": {},
   "outputs": [
    {
     "data": {
      "text/plain": [
       "(2638, 7)"
      ]
     },
     "execution_count": 34,
     "metadata": {},
     "output_type": "execute_result"
    }
   ],
   "source": [
    "news_combined_df.shape"
   ]
  },
  {
   "cell_type": "code",
   "execution_count": 35,
   "id": "f6465239",
   "metadata": {},
   "outputs": [
    {
     "data": {
      "text/html": [
       "<div>\n",
       "<style scoped>\n",
       "    .dataframe tbody tr th:only-of-type {\n",
       "        vertical-align: middle;\n",
       "    }\n",
       "\n",
       "    .dataframe tbody tr th {\n",
       "        vertical-align: top;\n",
       "    }\n",
       "\n",
       "    .dataframe thead th {\n",
       "        text-align: right;\n",
       "    }\n",
       "</style>\n",
       "<table border=\"1\" class=\"dataframe\">\n",
       "  <thead>\n",
       "    <tr style=\"text-align: right;\">\n",
       "      <th></th>\n",
       "      <th>title</th>\n",
       "      <th>description</th>\n",
       "      <th>text</th>\n",
       "      <th>url</th>\n",
       "      <th>keyword</th>\n",
       "      <th>published_date</th>\n",
       "      <th>source_file</th>\n",
       "    </tr>\n",
       "  </thead>\n",
       "  <tbody>\n",
       "    <tr>\n",
       "      <th>1386</th>\n",
       "      <td>What We Know About Vance L. Boelter, the FBI-W...</td>\n",
       "      <td>\"Do not approach him. You should consider him ...</td>\n",
       "      <td>The search for Vance Luther Boelter, the FBI-w...</td>\n",
       "      <td>https://time.com/7294374/minnesota-lawmakers-s...</td>\n",
       "      <td>Africa aid</td>\n",
       "      <td>2025-06-15 15:52:19+00:00</td>\n",
       "      <td>cecilia.newsapi.csv</td>\n",
       "    </tr>\n",
       "    <tr>\n",
       "      <th>364</th>\n",
       "      <td>Trump Administration Sends Congress Proposal T...</td>\n",
       "      <td>The Trump administration said that it has sent...</td>\n",
       "      <td>The Trump administration said that it has sent...</td>\n",
       "      <td>http://deadline.com/2025/06/trump-pbs-npr-fund...</td>\n",
       "      <td>foreign aid cut</td>\n",
       "      <td>2025-06-03 20:41:15+00:00</td>\n",
       "      <td>Agatha_news.csv</td>\n",
       "    </tr>\n",
       "    <tr>\n",
       "      <th>698</th>\n",
       "      <td>He led George W. Bush's PEPFAR program to stop...</td>\n",
       "      <td>Dr. Mark Dybul was an architect of PEPFAR, a p...</td>\n",
       "      <td>About two decades ago, Namibia was one of the ...</td>\n",
       "      <td>https://www.npr.org/sections/goats-and-soda/20...</td>\n",
       "      <td>foreign aid</td>\n",
       "      <td>2025-06-06 20:14:17+00:00</td>\n",
       "      <td>cecilia.newsapi.csv</td>\n",
       "    </tr>\n",
       "    <tr>\n",
       "      <th>1545</th>\n",
       "      <td>Philanthropy Must Stand, Deliver, and Listen (...</td>\n",
       "      <td>Any response to this moment must include caref...</td>\n",
       "      <td>If there is one thing that distinguishes the r...</td>\n",
       "      <td>https://ssir.org/articles/entry/philanthropy-m...</td>\n",
       "      <td>USAID funding</td>\n",
       "      <td>2025-06-17 12:00:00+00:00</td>\n",
       "      <td>cecilia.newsapi.csv</td>\n",
       "    </tr>\n",
       "    <tr>\n",
       "      <th>1475</th>\n",
       "      <td>‘Disgusting abomination’: Why is Elon Musk sla...</td>\n",
       "      <td>Musk's criticism underscores the divide among ...</td>\n",
       "      <td>Billionaire Elon Musk has lashed out at United...</td>\n",
       "      <td>https://www.aljazeera.com/news/2025/6/4/disgus...</td>\n",
       "      <td>USAID funding</td>\n",
       "      <td>2025-06-04 12:17:32+00:00</td>\n",
       "      <td>cecilia.newsapi.csv</td>\n",
       "    </tr>\n",
       "    <tr>\n",
       "      <th>592</th>\n",
       "      <td>US aid kept many hungry Somali children alive....</td>\n",
       "      <td>The U.S. Agency for International Development ...</td>\n",
       "      <td>The U.S. Agency for International Development ...</td>\n",
       "      <td>https://www.yahoo.com/news/us-aid-kept-many-hu...</td>\n",
       "      <td>USAID</td>\n",
       "      <td>2025-05-27 03:01:23+00:00</td>\n",
       "      <td>cecilia.newsapi.csv</td>\n",
       "    </tr>\n",
       "    <tr>\n",
       "      <th>2349</th>\n",
       "      <td>Germany Is Using AI to Erase Pro-Palestinian S...</td>\n",
       "      <td>Germany has been one of the worst Western coun...</td>\n",
       "      <td>In mid-February, the United Nations Special Ra...</td>\n",
       "      <td>https://jacobin.com/2025/05/germany-ai-palesti...</td>\n",
       "      <td>NGOs</td>\n",
       "      <td>2025-05-31 07:41:53+00:00</td>\n",
       "      <td>cecilia.newsapi.csv</td>\n",
       "    </tr>\n",
       "    <tr>\n",
       "      <th>983</th>\n",
       "      <td>Most Americans now get their news from social ...</td>\n",
       "      <td>More than one-fifth of news consumers surveyed...</td>\n",
       "      <td>Social media and video platforms have eclipsed...</td>\n",
       "      <td>https://www.aljazeera.com/economy/2025/6/17/mo...</td>\n",
       "      <td>Trump Kenya</td>\n",
       "      <td>2025-06-17 08:12:59+00:00</td>\n",
       "      <td>cecilia.newsapi.csv</td>\n",
       "    </tr>\n",
       "    <tr>\n",
       "      <th>2248</th>\n",
       "      <td>Firms led by US military veterans deliver aid ...</td>\n",
       "      <td>In Gaza and Africa, U.S. contracting firms led...</td>\n",
       "      <td>ON A PLANE OVER UPPER NILE STATE, South Sudan ...</td>\n",
       "      <td>https://abcnews.go.com/International/wireStory...</td>\n",
       "      <td>Trump Cuts Aid To Africa</td>\n",
       "      <td>2025-06-18 05:34:29+00:00</td>\n",
       "      <td>cecilia.newsapi.csv</td>\n",
       "    </tr>\n",
       "    <tr>\n",
       "      <th>1702</th>\n",
       "      <td>Proposed Federal Budget Would Devastate U.S. S...</td>\n",
       "      <td>Scientists are rallying to reverse ruinous pro...</td>\n",
       "      <td>Late last week the Trump Administration releas...</td>\n",
       "      <td>https://www.scientificamerican.com/article/pro...</td>\n",
       "      <td>Trump cuts</td>\n",
       "      <td>2025-06-04 19:30:00+00:00</td>\n",
       "      <td>cecilia.newsapi.csv</td>\n",
       "    </tr>\n",
       "  </tbody>\n",
       "</table>\n",
       "</div>"
      ],
      "text/plain": [
       "                                                  title  \\\n",
       "1386  What We Know About Vance L. Boelter, the FBI-W...   \n",
       "364   Trump Administration Sends Congress Proposal T...   \n",
       "698   He led George W. Bush's PEPFAR program to stop...   \n",
       "1545  Philanthropy Must Stand, Deliver, and Listen (...   \n",
       "1475  ‘Disgusting abomination’: Why is Elon Musk sla...   \n",
       "592   US aid kept many hungry Somali children alive....   \n",
       "2349  Germany Is Using AI to Erase Pro-Palestinian S...   \n",
       "983   Most Americans now get their news from social ...   \n",
       "2248  Firms led by US military veterans deliver aid ...   \n",
       "1702  Proposed Federal Budget Would Devastate U.S. S...   \n",
       "\n",
       "                                            description  \\\n",
       "1386  \"Do not approach him. You should consider him ...   \n",
       "364   The Trump administration said that it has sent...   \n",
       "698   Dr. Mark Dybul was an architect of PEPFAR, a p...   \n",
       "1545  Any response to this moment must include caref...   \n",
       "1475  Musk's criticism underscores the divide among ...   \n",
       "592   The U.S. Agency for International Development ...   \n",
       "2349  Germany has been one of the worst Western coun...   \n",
       "983   More than one-fifth of news consumers surveyed...   \n",
       "2248  In Gaza and Africa, U.S. contracting firms led...   \n",
       "1702  Scientists are rallying to reverse ruinous pro...   \n",
       "\n",
       "                                                   text  \\\n",
       "1386  The search for Vance Luther Boelter, the FBI-w...   \n",
       "364   The Trump administration said that it has sent...   \n",
       "698   About two decades ago, Namibia was one of the ...   \n",
       "1545  If there is one thing that distinguishes the r...   \n",
       "1475  Billionaire Elon Musk has lashed out at United...   \n",
       "592   The U.S. Agency for International Development ...   \n",
       "2349  In mid-February, the United Nations Special Ra...   \n",
       "983   Social media and video platforms have eclipsed...   \n",
       "2248  ON A PLANE OVER UPPER NILE STATE, South Sudan ...   \n",
       "1702  Late last week the Trump Administration releas...   \n",
       "\n",
       "                                                    url  \\\n",
       "1386  https://time.com/7294374/minnesota-lawmakers-s...   \n",
       "364   http://deadline.com/2025/06/trump-pbs-npr-fund...   \n",
       "698   https://www.npr.org/sections/goats-and-soda/20...   \n",
       "1545  https://ssir.org/articles/entry/philanthropy-m...   \n",
       "1475  https://www.aljazeera.com/news/2025/6/4/disgus...   \n",
       "592   https://www.yahoo.com/news/us-aid-kept-many-hu...   \n",
       "2349  https://jacobin.com/2025/05/germany-ai-palesti...   \n",
       "983   https://www.aljazeera.com/economy/2025/6/17/mo...   \n",
       "2248  https://abcnews.go.com/International/wireStory...   \n",
       "1702  https://www.scientificamerican.com/article/pro...   \n",
       "\n",
       "                       keyword             published_date          source_file  \n",
       "1386                Africa aid  2025-06-15 15:52:19+00:00  cecilia.newsapi.csv  \n",
       "364            foreign aid cut  2025-06-03 20:41:15+00:00      Agatha_news.csv  \n",
       "698                foreign aid  2025-06-06 20:14:17+00:00  cecilia.newsapi.csv  \n",
       "1545             USAID funding  2025-06-17 12:00:00+00:00  cecilia.newsapi.csv  \n",
       "1475             USAID funding  2025-06-04 12:17:32+00:00  cecilia.newsapi.csv  \n",
       "592                      USAID  2025-05-27 03:01:23+00:00  cecilia.newsapi.csv  \n",
       "2349                      NGOs  2025-05-31 07:41:53+00:00  cecilia.newsapi.csv  \n",
       "983                Trump Kenya  2025-06-17 08:12:59+00:00  cecilia.newsapi.csv  \n",
       "2248  Trump Cuts Aid To Africa  2025-06-18 05:34:29+00:00  cecilia.newsapi.csv  \n",
       "1702                Trump cuts  2025-06-04 19:30:00+00:00  cecilia.newsapi.csv  "
      ]
     },
     "execution_count": 35,
     "metadata": {},
     "output_type": "execute_result"
    }
   ],
   "source": [
    "news_combined_df.sample(10)"
   ]
  },
  {
   "cell_type": "code",
   "execution_count": 36,
   "id": "93b5781e",
   "metadata": {},
   "outputs": [
    {
     "data": {
      "text/plain": [
       "title               0\n",
       "description        16\n",
       "text               25\n",
       "url                 2\n",
       "keyword           259\n",
       "published_date     99\n",
       "source_file         0\n",
       "dtype: int64"
      ]
     },
     "execution_count": 36,
     "metadata": {},
     "output_type": "execute_result"
    }
   ],
   "source": [
    "news_combined_df.isna().sum()"
   ]
  },
  {
   "cell_type": "code",
   "execution_count": null,
   "id": "ed586089",
   "metadata": {},
   "outputs": [],
   "source": [
    "FINAL REDDIT DATA TO BE USED ~ mbego_all_reddit_merged"
   ]
  }
 ],
 "metadata": {
  "kernelspec": {
   "display_name": "Python 3 (ipykernel)",
   "language": "python",
   "name": "python3"
  },
  "language_info": {
   "codemirror_mode": {
    "name": "ipython",
    "version": 3
   },
   "file_extension": ".py",
   "mimetype": "text/x-python",
   "name": "python",
   "nbconvert_exporter": "python",
   "pygments_lexer": "ipython3",
   "version": "3.9.7"
  }
 },
 "nbformat": 4,
 "nbformat_minor": 5
}
