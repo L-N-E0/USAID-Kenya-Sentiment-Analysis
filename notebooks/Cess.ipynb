{
 "cells": [
  {
   "cell_type": "markdown",
   "id": "962045ac",
   "metadata": {},
   "source": [
    "# USAID-Kenya-Sentiment-Analysis"
   ]
  },
  {
   "cell_type": "code",
   "execution_count": 1,
   "id": "d54b44fc",
   "metadata": {},
   "outputs": [],
   "source": [
    "# import pandas as pd\n"
   ]
  },
  {
   "cell_type": "code",
   "execution_count": 2,
   "id": "956d9b55",
   "metadata": {},
   "outputs": [],
   "source": [
    "# reddit_df = pd.read_csv('C:/Users/hp/Desktop/DATA NEXUS PROJECTS/USAID-Kenya-Sentiment-Analysis/data/raw/reddit_data/cecilia.redditsubs.csv')\n",
    "# reddit_df.head()"
   ]
  },
  {
   "cell_type": "code",
   "execution_count": 3,
   "id": "0f15ce52",
   "metadata": {},
   "outputs": [],
   "source": [
    "# reddit_df.tail()"
   ]
  },
  {
   "cell_type": "code",
   "execution_count": 4,
   "id": "821fedde",
   "metadata": {},
   "outputs": [],
   "source": [
    "# reddit_df.info()"
   ]
  },
  {
   "cell_type": "code",
   "execution_count": 5,
   "id": "35a594ac",
   "metadata": {},
   "outputs": [],
   "source": [
    "# reddit_df.columns"
   ]
  },
  {
   "cell_type": "markdown",
   "id": "1fb0fece",
   "metadata": {},
   "source": [
    "<!-- **Column description**\n",
    "\n",
    "subreddit: The community name \n",
    "\n",
    "keyword: Topic keywords\n",
    "\n",
    "title: Post title\n",
    "\n",
    "text: Main post content \n",
    "\n",
    "date_posted: When it was posted\n",
    "\n",
    "upvotes: Number of upvotes\n",
    "\n",
    "comments: Number of comments\n",
    "\n",
    "url: Link to external content\n",
    "\n",
    "permalink: Link to the Reddit post -->"
   ]
  },
  {
   "cell_type": "code",
   "execution_count": 6,
   "id": "468714ba",
   "metadata": {},
   "outputs": [],
   "source": [
    "# reddit_df.shape"
   ]
  },
  {
   "cell_type": "code",
   "execution_count": 7,
   "id": "96b6cb5f",
   "metadata": {},
   "outputs": [],
   "source": [
    "# reddit_df['text'].sample(20)"
   ]
  },
  {
   "cell_type": "code",
   "execution_count": 8,
   "id": "e28c4d0c",
   "metadata": {},
   "outputs": [],
   "source": [
    "# example = reddit_df['text'][4]\n",
    "# print(example)"
   ]
  },
  {
   "cell_type": "code",
   "execution_count": 9,
   "id": "84be1972",
   "metadata": {},
   "outputs": [],
   "source": [
    "# #fill in missing text with 'missing' instead of dropping NaN\n",
    "# reddit_df['text'] = reddit_df['text'].fillna('MISSING')\n",
    "# reddit_df['text'].head(40)"
   ]
  },
  {
   "cell_type": "code",
   "execution_count": 10,
   "id": "cb6b3e52",
   "metadata": {},
   "outputs": [],
   "source": [
    "# #check for duplicates\n",
    "# reddit_df.duplicated().value_counts()"
   ]
  },
  {
   "cell_type": "code",
   "execution_count": 11,
   "id": "f1aeae95",
   "metadata": {},
   "outputs": [],
   "source": [
    "# def clean_text(text):\n",
    "#     if not isinstance(text, str):\n",
    "#         return text\n",
    "    \n",
    "#     # Remove extra whitespace\n",
    "#     text = ' '.join(text.split())\n",
    "    \n",
    "#     # Replace line breaks with space\n",
    "#     text = text.replace('\\n', ' ')\n",
    "    \n",
    "#     # Remove special Reddit characters\n",
    "#     text = text.replace('&amp;', '&')\n",
    "#     text = text.replace('&gt;', '>')\n",
    "#     text = text.replace('&lt;', '<')\n",
    "    \n",
    "#     return text.strip()\n",
    "\n",
    "# # Apply to both title and text columns\n",
    "# reddit_df['title'] = reddit_df['title'].apply(clean_text)\n",
    "# reddit_df['text'] = reddit_df['text'].apply(clean_text)"
   ]
  },
  {
   "cell_type": "code",
   "execution_count": 12,
   "id": "327496db",
   "metadata": {},
   "outputs": [],
   "source": [
    "# reddit_df['text'].head(40)"
   ]
  },
  {
   "cell_type": "code",
   "execution_count": 13,
   "id": "b71446c5",
   "metadata": {},
   "outputs": [],
   "source": [
    "# reddit_df['date_posted'] = pd.to_datetime(reddit_df['date_posted'])\n",
    "# reddit_df.head()"
   ]
  },
  {
   "cell_type": "code",
   "execution_count": 14,
   "id": "2f302c1a",
   "metadata": {},
   "outputs": [],
   "source": [
    "# example = reddit_df['text'][4]\n",
    "# print(example)"
   ]
  },
  {
   "cell_type": "code",
   "execution_count": 15,
   "id": "2445a9f7",
   "metadata": {},
   "outputs": [],
   "source": [
    "# import nltk"
   ]
  },
  {
   "cell_type": "code",
   "execution_count": 16,
   "id": "cd2602ec",
   "metadata": {},
   "outputs": [],
   "source": [
    "# reddit_df2 = pd.read_csv('C:/Users/hp/Desktop/DATA NEXUS PROJECTS/USAID-Kenya-Sentiment-Analysis/data/raw/reddit_data/Agatha_reddit.csv')\n",
    "# reddit_df2.head()"
   ]
  },
  {
   "cell_type": "code",
   "execution_count": 17,
   "id": "1b91a200",
   "metadata": {},
   "outputs": [],
   "source": [
    "# reddit_df3 = pd.read_csv('C:/Users/hp/Desktop/DATA NEXUS PROJECTS/USAID-Kenya-Sentiment-Analysis/data/raw/reddit_data/leo_reddit_posts.csv')\n",
    "# reddit_df3.head()"
   ]
  },
  {
   "cell_type": "code",
   "execution_count": 18,
   "id": "d9943d60",
   "metadata": {},
   "outputs": [],
   "source": [
    "# reddit_df4 = pd.read_csv('C:/Users/hp/Desktop/DATA NEXUS PROJECTS/USAID-Kenya-Sentiment-Analysis/data/raw/reddit_data/Mbego_reddit_usaid_kenya2.csv')\n",
    "# reddit_df4.head()"
   ]
  },
  {
   "cell_type": "code",
   "execution_count": 19,
   "id": "46f3d609",
   "metadata": {},
   "outputs": [],
   "source": [
    "# reddit_df3 = pd.read_csv('C:/Users/hp/Desktop/DATA NEXUS PROJECTS/USAID-Kenya-Sentiment-Analysis/data/raw/reddit_data/ruth_reddit.csv')\n",
    "# reddit_df3.head()"
   ]
  },
  {
   "cell_type": "markdown",
   "id": "424bc1f8",
   "metadata": {},
   "source": [
    "#    Merging Reddit CSV Files"
   ]
  },
  {
   "cell_type": "markdown",
   "id": "2e4ca7ea",
   "metadata": {},
   "source": [
    "### Import neccessary libraries"
   ]
  },
  {
   "cell_type": "code",
   "execution_count": 20,
   "id": "b63ff450",
   "metadata": {},
   "outputs": [],
   "source": [
    "import pandas as pd\n",
    "import glob\n",
    "import os\n"
   ]
  },
  {
   "cell_type": "markdown",
   "id": "b2bf6fb9",
   "metadata": {},
   "source": [
    "### Folder path"
   ]
  },
  {
   "cell_type": "code",
   "execution_count": 21,
   "id": "5cafb389",
   "metadata": {},
   "outputs": [],
   "source": [
    "folder_path = 'C:/Users/hp/Desktop/DATA NEXUS PROJECTS/USAID-Kenya-Sentiment-Analysis/data/raw/reddit_data'\n"
   ]
  },
  {
   "cell_type": "markdown",
   "id": "b04c2e05",
   "metadata": {},
   "source": [
    "### CSV file paths"
   ]
  },
  {
   "cell_type": "code",
   "execution_count": 22,
   "id": "68ad9347",
   "metadata": {},
   "outputs": [
    {
     "data": {
      "text/plain": [
       "['C:/Users/hp/Desktop/DATA NEXUS PROJECTS/USAID-Kenya-Sentiment-Analysis/data/raw/reddit_data\\\\Agatha_reddit.csv',\n",
       " 'C:/Users/hp/Desktop/DATA NEXUS PROJECTS/USAID-Kenya-Sentiment-Analysis/data/raw/reddit_data\\\\cecilia.redditsubs.csv',\n",
       " 'C:/Users/hp/Desktop/DATA NEXUS PROJECTS/USAID-Kenya-Sentiment-Analysis/data/raw/reddit_data\\\\cecilia.reddit_nbo_ke_africa.csv',\n",
       " 'C:/Users/hp/Desktop/DATA NEXUS PROJECTS/USAID-Kenya-Sentiment-Analysis/data/raw/reddit_data\\\\leo_reddit_posts.csv',\n",
       " 'C:/Users/hp/Desktop/DATA NEXUS PROJECTS/USAID-Kenya-Sentiment-Analysis/data/raw/reddit_data\\\\Mbego_reddit_usaid_kenya.csv',\n",
       " 'C:/Users/hp/Desktop/DATA NEXUS PROJECTS/USAID-Kenya-Sentiment-Analysis/data/raw/reddit_data\\\\Mbego_reddit_usaid_kenya2.csv',\n",
       " 'C:/Users/hp/Desktop/DATA NEXUS PROJECTS/USAID-Kenya-Sentiment-Analysis/data/raw/reddit_data\\\\reddit_usaid_sentiment.csv',\n",
       " 'C:/Users/hp/Desktop/DATA NEXUS PROJECTS/USAID-Kenya-Sentiment-Analysis/data/raw/reddit_data\\\\ruth_reddit.csv']"
      ]
     },
     "execution_count": 22,
     "metadata": {},
     "output_type": "execute_result"
    }
   ],
   "source": [
    "csv_files = glob.glob(os.path.join(folder_path, '*.csv'))\n",
    "csv_files"
   ]
  },
  {
   "cell_type": "markdown",
   "id": "f9267396",
   "metadata": {},
   "source": [
    "### Reading the files and combining them into one dataframe"
   ]
  },
  {
   "cell_type": "code",
   "execution_count": 51,
   "id": "9923bd68",
   "metadata": {},
   "outputs": [
    {
     "data": {
      "text/html": [
       "<div>\n",
       "<style scoped>\n",
       "    .dataframe tbody tr th:only-of-type {\n",
       "        vertical-align: middle;\n",
       "    }\n",
       "\n",
       "    .dataframe tbody tr th {\n",
       "        vertical-align: top;\n",
       "    }\n",
       "\n",
       "    .dataframe thead th {\n",
       "        text-align: right;\n",
       "    }\n",
       "</style>\n",
       "<table border=\"1\" class=\"dataframe\">\n",
       "  <thead>\n",
       "    <tr style=\"text-align: right;\">\n",
       "      <th></th>\n",
       "      <th>post_title</th>\n",
       "      <th>text</th>\n",
       "      <th>keyword</th>\n",
       "      <th>published_date</th>\n",
       "      <th>url</th>\n",
       "      <th>source_file</th>\n",
       "    </tr>\n",
       "  </thead>\n",
       "  <tbody>\n",
       "    <tr>\n",
       "      <th>0</th>\n",
       "      <td>USAID left a month ago, do we have ARVs in Kenya?</td>\n",
       "      <td>Someone on a different group (different websit...</td>\n",
       "      <td>usaid kenya</td>\n",
       "      <td>2025-04-15 13:16:53</td>\n",
       "      <td>https://www.reddit.com/r/Kenya/comments/1jzrn2...</td>\n",
       "      <td>Agatha_reddit.csv</td>\n",
       "    </tr>\n",
       "    <tr>\n",
       "      <th>1</th>\n",
       "      <td>Classism in r/Kenya and r/nairobi</td>\n",
       "      <td>The classism I'm seeing in both subs is a good...</td>\n",
       "      <td>usaid kenya</td>\n",
       "      <td>2025-04-07 04:21:12</td>\n",
       "      <td>https://www.reddit.com/r/Kenya/comments/1jtcvb...</td>\n",
       "      <td>Agatha_reddit.csv</td>\n",
       "    </tr>\n",
       "    <tr>\n",
       "      <th>2</th>\n",
       "      <td>EX-USAID people!! Let's talk</td>\n",
       "      <td>Are you still in contact with the organisation...</td>\n",
       "      <td>usaid kenya</td>\n",
       "      <td>2025-04-05 19:09:10</td>\n",
       "      <td>https://www.reddit.com/r/Kenya/comments/1jsb14...</td>\n",
       "      <td>Agatha_reddit.csv</td>\n",
       "    </tr>\n",
       "    <tr>\n",
       "      <th>3</th>\n",
       "      <td>Why western powers back Israel no matter what ...</td>\n",
       "      <td>I don't care what good book you read, but it's...</td>\n",
       "      <td>usaid kenya</td>\n",
       "      <td>2025-03-25 08:18:04</td>\n",
       "      <td>https://www.reddit.com/r/Kenya/comments/1jjehw...</td>\n",
       "      <td>Agatha_reddit.csv</td>\n",
       "    </tr>\n",
       "    <tr>\n",
       "      <th>4</th>\n",
       "      <td>Is kenya capable of funding its needs now that...</td>\n",
       "      <td>How is kenya prepared to fill the vacuum of US...</td>\n",
       "      <td>usaid kenya</td>\n",
       "      <td>2025-03-08 08:08:58</td>\n",
       "      <td>https://www.reddit.com/r/Kenya/comments/1j6cjz...</td>\n",
       "      <td>Agatha_reddit.csv</td>\n",
       "    </tr>\n",
       "  </tbody>\n",
       "</table>\n",
       "</div>"
      ],
      "text/plain": [
       "                                          post_title  \\\n",
       "0  USAID left a month ago, do we have ARVs in Kenya?   \n",
       "1                  Classism in r/Kenya and r/nairobi   \n",
       "2                       EX-USAID people!! Let's talk   \n",
       "3  Why western powers back Israel no matter what ...   \n",
       "4  Is kenya capable of funding its needs now that...   \n",
       "\n",
       "                                                text      keyword  \\\n",
       "0  Someone on a different group (different websit...  usaid kenya   \n",
       "1  The classism I'm seeing in both subs is a good...  usaid kenya   \n",
       "2  Are you still in contact with the organisation...  usaid kenya   \n",
       "3  I don't care what good book you read, but it's...  usaid kenya   \n",
       "4  How is kenya prepared to fill the vacuum of US...  usaid kenya   \n",
       "\n",
       "       published_date                                                url  \\\n",
       "0 2025-04-15 13:16:53  https://www.reddit.com/r/Kenya/comments/1jzrn2...   \n",
       "1 2025-04-07 04:21:12  https://www.reddit.com/r/Kenya/comments/1jtcvb...   \n",
       "2 2025-04-05 19:09:10  https://www.reddit.com/r/Kenya/comments/1jsb14...   \n",
       "3 2025-03-25 08:18:04  https://www.reddit.com/r/Kenya/comments/1jjehw...   \n",
       "4 2025-03-08 08:08:58  https://www.reddit.com/r/Kenya/comments/1j6cjz...   \n",
       "\n",
       "         source_file  \n",
       "0  Agatha_reddit.csv  \n",
       "1  Agatha_reddit.csv  \n",
       "2  Agatha_reddit.csv  \n",
       "3  Agatha_reddit.csv  \n",
       "4  Agatha_reddit.csv  "
      ]
     },
     "execution_count": 51,
     "metadata": {},
     "output_type": "execute_result"
    }
   ],
   "source": [
    "\n",
    "preferred_columns = ['post_title', 'text', 'keyword', 'published_date', 'url']\n",
    "all_dfs = []\n",
    "\n",
    "for file in csv_files:\n",
    "    df = pd.read_csv(file)\n",
    "    \n",
    "    # Rename common column variants\n",
    "    if 'title' in df.columns:\n",
    "        df.rename(columns={'title': 'post_title'}, inplace=True)\n",
    "    if 'selftext' in df.columns and 'text' not in df.columns:\n",
    "        df.rename(columns={'selftext': 'text'}, inplace=True)\n",
    "    if 'date_posted' in df.columns:\n",
    "        df.rename(columns={'date_posted': 'published_date'}, inplace=True)\n",
    "    elif 'created_utc' in df.columns:\n",
    "        df.rename(columns={'created_utc': 'published_date'}, inplace=True)\n",
    "    \n",
    "    # Add missing columns\n",
    "    for col in preferred_columns:\n",
    "        if col not in df.columns:\n",
    "            df[col] = None\n",
    "\n",
    "    # Convert published_date to datetime\n",
    "    df['published_date'] = pd.to_datetime(df['published_date'], errors='coerce')\n",
    "\n",
    "    # Track file source\n",
    "    df['source_file'] = os.path.basename(file)\n",
    "    \n",
    "    # Keep only standardized columns\n",
    "    df = df[final_columns + ['source_file']]\n",
    "\n",
    "    all_dfs.append(df)\n",
    "\n",
    "# Combine all\n",
    "combined_df = pd.concat(all_dfs, ignore_index=True)\n",
    "combined_df.head()\n"
   ]
  },
  {
   "cell_type": "code",
   "execution_count": 53,
   "id": "9b2bac30",
   "metadata": {},
   "outputs": [
    {
     "data": {
      "text/plain": [
       "(1289, 6)"
      ]
     },
     "execution_count": 53,
     "metadata": {},
     "output_type": "execute_result"
    }
   ],
   "source": [
    "combined_df.shape #check the shape of the dataset"
   ]
  },
  {
   "cell_type": "code",
   "execution_count": 54,
   "id": "5b5cebad",
   "metadata": {},
   "outputs": [
    {
     "data": {
      "text/plain": [
       "post_title          0\n",
       "text              388\n",
       "keyword           547\n",
       "published_date    180\n",
       "url                 0\n",
       "source_file         0\n",
       "dtype: int64"
      ]
     },
     "execution_count": 54,
     "metadata": {},
     "output_type": "execute_result"
    }
   ],
   "source": [
    "combined_df.isna().sum() #check for missing values"
   ]
  },
  {
   "cell_type": "code",
   "execution_count": 56,
   "id": "f3f2fa8e",
   "metadata": {},
   "outputs": [
    {
     "data": {
      "text/plain": [
       "Index(['post_title', 'text', 'keyword', 'published_date', 'url',\n",
       "       'source_file'],\n",
       "      dtype='object')"
      ]
     },
     "execution_count": 56,
     "metadata": {},
     "output_type": "execute_result"
    }
   ],
   "source": [
    "combined_df.columns"
   ]
  },
  {
   "cell_type": "code",
   "execution_count": 57,
   "id": "d02992fe",
   "metadata": {},
   "outputs": [
    {
     "data": {
      "text/html": [
       "<div>\n",
       "<style scoped>\n",
       "    .dataframe tbody tr th:only-of-type {\n",
       "        vertical-align: middle;\n",
       "    }\n",
       "\n",
       "    .dataframe tbody tr th {\n",
       "        vertical-align: top;\n",
       "    }\n",
       "\n",
       "    .dataframe thead th {\n",
       "        text-align: right;\n",
       "    }\n",
       "</style>\n",
       "<table border=\"1\" class=\"dataframe\">\n",
       "  <thead>\n",
       "    <tr style=\"text-align: right;\">\n",
       "      <th></th>\n",
       "      <th>post_title</th>\n",
       "      <th>text</th>\n",
       "      <th>keyword</th>\n",
       "      <th>published_date</th>\n",
       "      <th>url</th>\n",
       "      <th>source_file</th>\n",
       "    </tr>\n",
       "  </thead>\n",
       "  <tbody>\n",
       "    <tr>\n",
       "      <th>0</th>\n",
       "      <td>USAID left a month ago, do we have ARVs in Kenya?</td>\n",
       "      <td>Someone on a different group (different websit...</td>\n",
       "      <td>usaid kenya</td>\n",
       "      <td>2025-04-15</td>\n",
       "      <td>https://www.reddit.com/r/Kenya/comments/1jzrn2...</td>\n",
       "      <td>Agatha_reddit.csv</td>\n",
       "    </tr>\n",
       "    <tr>\n",
       "      <th>1</th>\n",
       "      <td>Classism in r/Kenya and r/nairobi</td>\n",
       "      <td>The classism I'm seeing in both subs is a good...</td>\n",
       "      <td>usaid kenya</td>\n",
       "      <td>2025-04-07</td>\n",
       "      <td>https://www.reddit.com/r/Kenya/comments/1jtcvb...</td>\n",
       "      <td>Agatha_reddit.csv</td>\n",
       "    </tr>\n",
       "    <tr>\n",
       "      <th>2</th>\n",
       "      <td>EX-USAID people!! Let's talk</td>\n",
       "      <td>Are you still in contact with the organisation...</td>\n",
       "      <td>usaid kenya</td>\n",
       "      <td>2025-04-05</td>\n",
       "      <td>https://www.reddit.com/r/Kenya/comments/1jsb14...</td>\n",
       "      <td>Agatha_reddit.csv</td>\n",
       "    </tr>\n",
       "    <tr>\n",
       "      <th>3</th>\n",
       "      <td>Why western powers back Israel no matter what ...</td>\n",
       "      <td>I don't care what good book you read, but it's...</td>\n",
       "      <td>usaid kenya</td>\n",
       "      <td>2025-03-25</td>\n",
       "      <td>https://www.reddit.com/r/Kenya/comments/1jjehw...</td>\n",
       "      <td>Agatha_reddit.csv</td>\n",
       "    </tr>\n",
       "    <tr>\n",
       "      <th>4</th>\n",
       "      <td>Is kenya capable of funding its needs now that...</td>\n",
       "      <td>How is kenya prepared to fill the vacuum of US...</td>\n",
       "      <td>usaid kenya</td>\n",
       "      <td>2025-03-08</td>\n",
       "      <td>https://www.reddit.com/r/Kenya/comments/1j6cjz...</td>\n",
       "      <td>Agatha_reddit.csv</td>\n",
       "    </tr>\n",
       "  </tbody>\n",
       "</table>\n",
       "</div>"
      ],
      "text/plain": [
       "                                          post_title  \\\n",
       "0  USAID left a month ago, do we have ARVs in Kenya?   \n",
       "1                  Classism in r/Kenya and r/nairobi   \n",
       "2                       EX-USAID people!! Let's talk   \n",
       "3  Why western powers back Israel no matter what ...   \n",
       "4  Is kenya capable of funding its needs now that...   \n",
       "\n",
       "                                                text      keyword  \\\n",
       "0  Someone on a different group (different websit...  usaid kenya   \n",
       "1  The classism I'm seeing in both subs is a good...  usaid kenya   \n",
       "2  Are you still in contact with the organisation...  usaid kenya   \n",
       "3  I don't care what good book you read, but it's...  usaid kenya   \n",
       "4  How is kenya prepared to fill the vacuum of US...  usaid kenya   \n",
       "\n",
       "  published_date                                                url  \\\n",
       "0     2025-04-15  https://www.reddit.com/r/Kenya/comments/1jzrn2...   \n",
       "1     2025-04-07  https://www.reddit.com/r/Kenya/comments/1jtcvb...   \n",
       "2     2025-04-05  https://www.reddit.com/r/Kenya/comments/1jsb14...   \n",
       "3     2025-03-25  https://www.reddit.com/r/Kenya/comments/1jjehw...   \n",
       "4     2025-03-08  https://www.reddit.com/r/Kenya/comments/1j6cjz...   \n",
       "\n",
       "         source_file  \n",
       "0  Agatha_reddit.csv  \n",
       "1  Agatha_reddit.csv  \n",
       "2  Agatha_reddit.csv  \n",
       "3  Agatha_reddit.csv  \n",
       "4  Agatha_reddit.csv  "
      ]
     },
     "execution_count": 57,
     "metadata": {},
     "output_type": "execute_result"
    }
   ],
   "source": [
    "# Extract date and time\n",
    "combined_df['time'] = combined_df['published_date'].dt.time\n",
    "combined_df['published_date'] = combined_df['published_date'].dt.date\n",
    "\n",
    "#Drop the time column\n",
    "combined_df.drop(columns='time', inplace=True)\n",
    "combined_df.head()"
   ]
  },
  {
   "cell_type": "code",
   "execution_count": 58,
   "id": "70116b5a",
   "metadata": {},
   "outputs": [
    {
     "data": {
      "text/html": [
       "<div>\n",
       "<style scoped>\n",
       "    .dataframe tbody tr th:only-of-type {\n",
       "        vertical-align: middle;\n",
       "    }\n",
       "\n",
       "    .dataframe tbody tr th {\n",
       "        vertical-align: top;\n",
       "    }\n",
       "\n",
       "    .dataframe thead th {\n",
       "        text-align: right;\n",
       "    }\n",
       "</style>\n",
       "<table border=\"1\" class=\"dataframe\">\n",
       "  <thead>\n",
       "    <tr style=\"text-align: right;\">\n",
       "      <th></th>\n",
       "      <th>post_title</th>\n",
       "      <th>text</th>\n",
       "      <th>keyword</th>\n",
       "      <th>published_date</th>\n",
       "      <th>url</th>\n",
       "      <th>source_file</th>\n",
       "    </tr>\n",
       "  </thead>\n",
       "  <tbody>\n",
       "    <tr>\n",
       "      <th>376</th>\n",
       "      <td>Africa Needs Its Own Research &amp; Innovation. No...</td>\n",
       "      <td>In many African countries, we use almost every...</td>\n",
       "      <td>kenya foreign aid</td>\n",
       "      <td>2025-03-10</td>\n",
       "      <td>https://www.reddit.com/r/Africa/comments/1j85g...</td>\n",
       "      <td>Agatha_reddit.csv</td>\n",
       "    </tr>\n",
       "    <tr>\n",
       "      <th>79</th>\n",
       "      <td>Kenya’s Foreign Policy: Vibes or Strategy?</td>\n",
       "      <td>High folks, long time Reddit lurker over here....</td>\n",
       "      <td>kenya foreign aid</td>\n",
       "      <td>2025-03-25</td>\n",
       "      <td>https://youtu.be/n2vX71nH-8s?si=0h3QIjA_WM5I4k8A</td>\n",
       "      <td>Agatha_reddit.csv</td>\n",
       "    </tr>\n",
       "    <tr>\n",
       "      <th>1223</th>\n",
       "      <td>Weekly Sub-Saharan Africa Security Situation a...</td>\n",
       "      <td>NaN</td>\n",
       "      <td>None</td>\n",
       "      <td>2025-06-06</td>\n",
       "      <td>https://open.substack.com/pub/hasretkargin/p/w...</td>\n",
       "      <td>ruth_reddit.csv</td>\n",
       "    </tr>\n",
       "    <tr>\n",
       "      <th>490</th>\n",
       "      <td>Is kenya capable of funding its needs now that...</td>\n",
       "      <td>How is kenya prepared to fill the vacuum of US...</td>\n",
       "      <td>USAID</td>\n",
       "      <td>2025-03-08</td>\n",
       "      <td>https://www.reddit.com/r/Kenya/comments/1j6cjz...</td>\n",
       "      <td>cecilia.redditsubs.csv</td>\n",
       "    </tr>\n",
       "    <tr>\n",
       "      <th>437</th>\n",
       "      <td>Iran welcomes Trump’s move to cut foreign aid ...</td>\n",
       "      <td>NaN</td>\n",
       "      <td>kenya foreign aid</td>\n",
       "      <td>2025-02-05</td>\n",
       "      <td>https://www.pbs.org/newshour/world/iran-welcom...</td>\n",
       "      <td>Agatha_reddit.csv</td>\n",
       "    </tr>\n",
       "    <tr>\n",
       "      <th>461</th>\n",
       "      <td>Nigerian lawmakers probe USAID-funded non-prof...</td>\n",
       "      <td>NaN</td>\n",
       "      <td>usaid suspended funding</td>\n",
       "      <td>2025-03-19</td>\n",
       "      <td>https://www.reuters.com/world/africa/nigerian-...</td>\n",
       "      <td>Agatha_reddit.csv</td>\n",
       "    </tr>\n",
       "    <tr>\n",
       "      <th>553</th>\n",
       "      <td>The Govt. Appeals Order Preventing Impoundment...</td>\n",
       "      <td>[https://storage.courtlistener.com/recap/gov.u...</td>\n",
       "      <td>foreign aid, foreign aid</td>\n",
       "      <td>2025-04-02</td>\n",
       "      <td>https://www.reddit.com/r/InternationalDev/comm...</td>\n",
       "      <td>cecilia.redditsubs.csv</td>\n",
       "    </tr>\n",
       "    <tr>\n",
       "      <th>88</th>\n",
       "      <td>Kenyan social media app ??</td>\n",
       "      <td>This came to mind this morning in the shower s...</td>\n",
       "      <td>kenya foreign aid</td>\n",
       "      <td>2025-02-24</td>\n",
       "      <td>https://www.reddit.com/r/Kenya/comments/1iwokg...</td>\n",
       "      <td>Agatha_reddit.csv</td>\n",
       "    </tr>\n",
       "    <tr>\n",
       "      <th>752</th>\n",
       "      <td>Foreign aid/Philanthropy</td>\n",
       "      <td>I see the aid or philanthropic activities that...</td>\n",
       "      <td>None</td>\n",
       "      <td>1970-01-01</td>\n",
       "      <td>https://www.reddit.com/r/Kenya/comments/1k91v5...</td>\n",
       "      <td>leo_reddit_posts.csv</td>\n",
       "    </tr>\n",
       "    <tr>\n",
       "      <th>275</th>\n",
       "      <td>Chinese firms are stakeholders in more than a ...</td>\n",
       "      <td>NaN</td>\n",
       "      <td>development aid kenya</td>\n",
       "      <td>2025-03-13</td>\n",
       "      <td>https://i.redd.it/pwb1ngmongoe1.jpeg</td>\n",
       "      <td>Agatha_reddit.csv</td>\n",
       "    </tr>\n",
       "  </tbody>\n",
       "</table>\n",
       "</div>"
      ],
      "text/plain": [
       "                                             post_title  \\\n",
       "376   Africa Needs Its Own Research & Innovation. No...   \n",
       "79           Kenya’s Foreign Policy: Vibes or Strategy?   \n",
       "1223  Weekly Sub-Saharan Africa Security Situation a...   \n",
       "490   Is kenya capable of funding its needs now that...   \n",
       "437   Iran welcomes Trump’s move to cut foreign aid ...   \n",
       "461   Nigerian lawmakers probe USAID-funded non-prof...   \n",
       "553   The Govt. Appeals Order Preventing Impoundment...   \n",
       "88                           Kenyan social media app ??   \n",
       "752                            Foreign aid/Philanthropy   \n",
       "275   Chinese firms are stakeholders in more than a ...   \n",
       "\n",
       "                                                   text  \\\n",
       "376   In many African countries, we use almost every...   \n",
       "79    High folks, long time Reddit lurker over here....   \n",
       "1223                                                NaN   \n",
       "490   How is kenya prepared to fill the vacuum of US...   \n",
       "437                                                 NaN   \n",
       "461                                                 NaN   \n",
       "553   [https://storage.courtlistener.com/recap/gov.u...   \n",
       "88    This came to mind this morning in the shower s...   \n",
       "752   I see the aid or philanthropic activities that...   \n",
       "275                                                 NaN   \n",
       "\n",
       "                       keyword published_date  \\\n",
       "376          kenya foreign aid     2025-03-10   \n",
       "79           kenya foreign aid     2025-03-25   \n",
       "1223                      None     2025-06-06   \n",
       "490                      USAID     2025-03-08   \n",
       "437          kenya foreign aid     2025-02-05   \n",
       "461    usaid suspended funding     2025-03-19   \n",
       "553   foreign aid, foreign aid     2025-04-02   \n",
       "88           kenya foreign aid     2025-02-24   \n",
       "752                       None     1970-01-01   \n",
       "275      development aid kenya     2025-03-13   \n",
       "\n",
       "                                                    url  \\\n",
       "376   https://www.reddit.com/r/Africa/comments/1j85g...   \n",
       "79     https://youtu.be/n2vX71nH-8s?si=0h3QIjA_WM5I4k8A   \n",
       "1223  https://open.substack.com/pub/hasretkargin/p/w...   \n",
       "490   https://www.reddit.com/r/Kenya/comments/1j6cjz...   \n",
       "437   https://www.pbs.org/newshour/world/iran-welcom...   \n",
       "461   https://www.reuters.com/world/africa/nigerian-...   \n",
       "553   https://www.reddit.com/r/InternationalDev/comm...   \n",
       "88    https://www.reddit.com/r/Kenya/comments/1iwokg...   \n",
       "752   https://www.reddit.com/r/Kenya/comments/1k91v5...   \n",
       "275                https://i.redd.it/pwb1ngmongoe1.jpeg   \n",
       "\n",
       "                 source_file  \n",
       "376        Agatha_reddit.csv  \n",
       "79         Agatha_reddit.csv  \n",
       "1223         ruth_reddit.csv  \n",
       "490   cecilia.redditsubs.csv  \n",
       "437        Agatha_reddit.csv  \n",
       "461        Agatha_reddit.csv  \n",
       "553   cecilia.redditsubs.csv  \n",
       "88         Agatha_reddit.csv  \n",
       "752     leo_reddit_posts.csv  \n",
       "275        Agatha_reddit.csv  "
      ]
     },
     "execution_count": 58,
     "metadata": {},
     "output_type": "execute_result"
    }
   ],
   "source": [
    "combined_df.sample(10) #random sample of 10 rows"
   ]
  },
  {
   "cell_type": "markdown",
   "id": "544bb8d6",
   "metadata": {},
   "source": [
    "### Save the final merged dataframe to csv"
   ]
  },
  {
   "cell_type": "code",
   "execution_count": 61,
   "id": "c63387ae",
   "metadata": {},
   "outputs": [
    {
     "name": "stdout",
     "output_type": "stream",
     "text": [
      " Results successfully saved to:\n",
      "C:/Users/hp/Desktop/DATA NEXUS PROJECTS/USAID-Kenya-Sentiment-Analysis/data/processed/Cecilia_merged_reddit_dataset.csv\n"
     ]
    }
   ],
   "source": [
    "# Save to CSV \n",
    "if not combined_df.empty:\n",
    "    output_filename = \"C:/Users/hp/Desktop/DATA NEXUS PROJECTS/USAID-Kenya-Sentiment-Analysis/data/processed/Cecilia_merged_reddit_dataset.csv\"\n",
    "    combined_df.to_csv(output_filename, index=False, encoding='utf-8')\n",
    "    print(f\" Results successfully saved to:\\n{output_filename}\")\n",
    "else:\n",
    "    print(\" No data to save. The DataFrame is empty.\")\n"
   ]
  },
  {
   "cell_type": "code",
   "execution_count": null,
   "id": "d2abe687",
   "metadata": {},
   "outputs": [],
   "source": []
  },
  {
   "cell_type": "markdown",
   "id": "4b3317b7",
   "metadata": {},
   "source": [
    "# Merging News CSV Files"
   ]
  },
  {
   "cell_type": "markdown",
   "id": "b020db05",
   "metadata": {},
   "source": [
    "### Import necessary libraries"
   ]
  },
  {
   "cell_type": "code",
   "execution_count": 62,
   "id": "80e1d23a",
   "metadata": {},
   "outputs": [],
   "source": [
    "import pandas as pd\n",
    "import glob\n",
    "import os\n"
   ]
  },
  {
   "cell_type": "markdown",
   "id": "89394ced",
   "metadata": {},
   "source": [
    "### Folder path"
   ]
  },
  {
   "cell_type": "code",
   "execution_count": 63,
   "id": "ed9cd9e2",
   "metadata": {},
   "outputs": [],
   "source": [
    "folder_path = 'C:/Users/hp/Desktop/DATA NEXUS PROJECTS/USAID-Kenya-Sentiment-Analysis/data/raw/news_data'\n"
   ]
  },
  {
   "cell_type": "markdown",
   "id": "3f34c3da",
   "metadata": {},
   "source": [
    "### CSV file paths"
   ]
  },
  {
   "cell_type": "code",
   "execution_count": 69,
   "id": "d4069b53",
   "metadata": {},
   "outputs": [
    {
     "data": {
      "text/plain": [
       "['C:/Users/hp/Desktop/DATA NEXUS PROJECTS/USAID-Kenya-Sentiment-Analysis/data/raw/news_data\\\\Agatha_news.csv',\n",
       " 'C:/Users/hp/Desktop/DATA NEXUS PROJECTS/USAID-Kenya-Sentiment-Analysis/data/raw/news_data\\\\cecilia.newsapi.csv',\n",
       " 'C:/Users/hp/Desktop/DATA NEXUS PROJECTS/USAID-Kenya-Sentiment-Analysis/data/raw/news_data\\\\leo_newsapi_articles_enriched.csv',\n",
       " 'C:/Users/hp/Desktop/DATA NEXUS PROJECTS/USAID-Kenya-Sentiment-Analysis/data/raw/news_data\\\\Mbego_news_usaid_kenya_fulltext.csv',\n",
       " 'C:/Users/hp/Desktop/DATA NEXUS PROJECTS/USAID-Kenya-Sentiment-Analysis/data/raw/news_data\\\\Mbego_news_usaid_kenya_recent.csv',\n",
       " 'C:/Users/hp/Desktop/DATA NEXUS PROJECTS/USAID-Kenya-Sentiment-Analysis/data/raw/news_data\\\\ruth_news.csv']"
      ]
     },
     "execution_count": 69,
     "metadata": {},
     "output_type": "execute_result"
    }
   ],
   "source": [
    "news_csv_files = glob.glob(os.path.join(folder_path, '*.csv'))\n",
    "news_csv_files"
   ]
  },
  {
   "cell_type": "markdown",
   "id": "81084694",
   "metadata": {},
   "source": [
    "### Reading the files and combining them into one dataframe"
   ]
  },
  {
   "cell_type": "code",
   "execution_count": 92,
   "id": "f6dad8f8",
   "metadata": {},
   "outputs": [
    {
     "name": "stdout",
     "output_type": "stream",
     "text": [
      "NewsAPI data saved to:\n",
      "C:/Users/hp/Desktop/DATA NEXUS PROJECTS/USAID-Kenya-Sentiment-Analysis/data/processed/Cecilia_merged_news_dataset.csv\n"
     ]
    }
   ],
   "source": [
    "import pandas as pd\n",
    "import os\n",
    "\n",
    "news_columns = ['title', 'description', 'text', 'url', 'keyword', 'published_date', 'source_file']\n",
    "all_news_dfs = []\n",
    "\n",
    "for file in news_csv_files:  \n",
    "    df = pd.read_csv(file)\n",
    "\n",
    "    # Rename content to text \n",
    "    if 'content' in df.columns and 'text' not in df.columns:\n",
    "        df.rename(columns={'content': 'text'}, inplace=True)\n",
    "\n",
    "    # Rename publishedAt to published_date\n",
    "    if 'publishedAt' in df.columns:\n",
    "        df.rename(columns={'publishedAt': 'published_date'}, inplace=True)\n",
    "\n",
    "    # Add missing columns\n",
    "    for col in news_columns:\n",
    "        if col not in df.columns:\n",
    "            df[col] = None\n",
    "\n",
    "    # Convert published_date to datetime\n",
    "    df['published_date'] = pd.to_datetime(df['published_date'], errors='coerce')\n",
    "\n",
    "    # Extract time from published_date, then drop it\n",
    "    df['time'] = df['published_date'].dt.time\n",
    "    df['published_date'] = df['published_date'].dt.date\n",
    "    df.drop(columns='time', inplace=True)\n",
    "\n",
    "    # source file info\n",
    "    df['source_file'] = os.path.basename(file)\n",
    "\n",
    "    # standardized columns\n",
    "    df = df[news_columns]\n",
    "    all_news_dfs.append(df)\n",
    "\n",
    "# Combine all\n",
    "news_combined_df = pd.concat(all_news_dfs, ignore_index=True)\n",
    "\n",
    "# Save to CSV\n",
    "output_path = \"C:/Users/hp/Desktop/DATA NEXUS PROJECTS/USAID-Kenya-Sentiment-Analysis/data/processed/Cecilia_merged_news_dataset.csv\"\n",
    "if not news_combined_df.empty:\n",
    "    news_combined_df.to_csv(output_path, index=False, encoding='utf-8')\n",
    "    print(f\"NewsAPI data saved to:\\n{output_path}\")\n",
    "else:\n",
    "    print(\"No NewsAPI data to save. DataFrame is empty.\")\n"
   ]
  },
  {
   "cell_type": "code",
   "execution_count": 89,
   "id": "9dd00759",
   "metadata": {},
   "outputs": [
    {
     "data": {
      "text/plain": [
       "(2549, 7)"
      ]
     },
     "execution_count": 89,
     "metadata": {},
     "output_type": "execute_result"
    }
   ],
   "source": [
    "news_combined_df.shape"
   ]
  },
  {
   "cell_type": "code",
   "execution_count": 91,
   "id": "d52f5487",
   "metadata": {},
   "outputs": [
    {
     "data": {
      "text/html": [
       "<div>\n",
       "<style scoped>\n",
       "    .dataframe tbody tr th:only-of-type {\n",
       "        vertical-align: middle;\n",
       "    }\n",
       "\n",
       "    .dataframe tbody tr th {\n",
       "        vertical-align: top;\n",
       "    }\n",
       "\n",
       "    .dataframe thead th {\n",
       "        text-align: right;\n",
       "    }\n",
       "</style>\n",
       "<table border=\"1\" class=\"dataframe\">\n",
       "  <thead>\n",
       "    <tr style=\"text-align: right;\">\n",
       "      <th></th>\n",
       "      <th>title</th>\n",
       "      <th>description</th>\n",
       "      <th>text</th>\n",
       "      <th>url</th>\n",
       "      <th>keyword</th>\n",
       "      <th>published_date</th>\n",
       "      <th>source_file</th>\n",
       "    </tr>\n",
       "  </thead>\n",
       "  <tbody>\n",
       "    <tr>\n",
       "      <th>1560</th>\n",
       "      <td>He led George W. Bush's PEPFAR program to stop...</td>\n",
       "      <td>Dr. Mark Dybul was an architect of PEPFAR, a p...</td>\n",
       "      <td>About two decades ago, Namibia was one of the ...</td>\n",
       "      <td>https://www.npr.org/sections/goats-and-soda/20...</td>\n",
       "      <td>foreign aid</td>\n",
       "      <td>2025-06-06</td>\n",
       "      <td>cecilia.newsapi.csv</td>\n",
       "    </tr>\n",
       "    <tr>\n",
       "      <th>102</th>\n",
       "      <td>The depths of corruption: GOP blasts Bidenâs...</td>\n",
       "      <td>House Republicans accuse the Biden administrat...</td>\n",
       "      <td>&lt;ul&gt;&lt;li&gt;House Republicans accuse the Biden adm...</td>\n",
       "      <td>https://www.naturalnews.com/2025-06-06-gop-bla...</td>\n",
       "      <td>usaid funding</td>\n",
       "      <td>2025-06-06</td>\n",
       "      <td>Agatha_news.csv</td>\n",
       "    </tr>\n",
       "    <tr>\n",
       "      <th>2264</th>\n",
       "      <td>The D Brief: ARRW is back; Amphib budgets; Put...</td>\n",
       "      <td>NaN</td>\n",
       "      <td>The Air Force is resurrecting its boost-glide ...</td>\n",
       "      <td>https://www.defenseone.com/threats/2025/06/the...</td>\n",
       "      <td>Trump Cuts Aid To Africa</td>\n",
       "      <td>2025-06-06</td>\n",
       "      <td>cecilia.newsapi.csv</td>\n",
       "    </tr>\n",
       "    <tr>\n",
       "      <th>1852</th>\n",
       "      <td>Israeli forces halt Gaza-bound aid boat, detai...</td>\n",
       "      <td>A Gaza-bound aid boat carrying Greta Thunberg ...</td>\n",
       "      <td>A Gaza-bound aid boat carrying Greta Thunberg ...</td>\n",
       "      <td>https://www.cbc.ca/news/world/israel-freedom-f...</td>\n",
       "      <td>aid withdrawal</td>\n",
       "      <td>2025-06-09</td>\n",
       "      <td>cecilia.newsapi.csv</td>\n",
       "    </tr>\n",
       "    <tr>\n",
       "      <th>1750</th>\n",
       "      <td>House Moves To Claw Back Money From Public Bro...</td>\n",
       "      <td>The House is seeking to rescind $9.4 billion i...</td>\n",
       "      <td>People participate in a rally to call on Congr...</td>\n",
       "      <td>https://www.forbes.com/sites/kellyphillipserb/...</td>\n",
       "      <td>USAID money</td>\n",
       "      <td>2025-06-12</td>\n",
       "      <td>cecilia.newsapi.csv</td>\n",
       "    </tr>\n",
       "    <tr>\n",
       "      <th>32</th>\n",
       "      <td>He led George W. Bush's PEPFAR program to stop...</td>\n",
       "      <td>Dr. Mark Dybul was an architect of PEPFAR, a p...</td>\n",
       "      <td>About two decades ago, Namibia was one of the ...</td>\n",
       "      <td>https://www.npr.org/sections/goats-and-soda/20...</td>\n",
       "      <td>usaid funding</td>\n",
       "      <td>2025-06-06</td>\n",
       "      <td>Agatha_news.csv</td>\n",
       "    </tr>\n",
       "    <tr>\n",
       "      <th>1670</th>\n",
       "      <td>He led George W. Bush's PEPFAR program to stop...</td>\n",
       "      <td>Dr. Mark Dybul was an architect of PEPFAR, a p...</td>\n",
       "      <td>About two decades ago, Namibia was one of the ...</td>\n",
       "      <td>https://www.npr.org/sections/goats-and-soda/20...</td>\n",
       "      <td>Trump cuts</td>\n",
       "      <td>2025-06-06</td>\n",
       "      <td>cecilia.newsapi.csv</td>\n",
       "    </tr>\n",
       "    <tr>\n",
       "      <th>2009</th>\n",
       "      <td>Death, Sexual Violence and Human Trafficking: ...</td>\n",
       "      <td>by Brett Murphy and Anna Maria Barry-Jester \\n...</td>\n",
       "      <td>ProPublica is a nonprofit newsroom that invest...</td>\n",
       "      <td>https://www.propublica.org/article/trump-usaid...</td>\n",
       "      <td>State Department cuts</td>\n",
       "      <td>2025-05-28</td>\n",
       "      <td>cecilia.newsapi.csv</td>\n",
       "    </tr>\n",
       "    <tr>\n",
       "      <th>2215</th>\n",
       "      <td>Why are humanitarian crises in African countri...</td>\n",
       "      <td>The latest Most Neglected Crises report on wor...</td>\n",
       "      <td>African countries have again topped the list o...</td>\n",
       "      <td>https://www.aljazeera.com/news/2025/6/3/why-ar...</td>\n",
       "      <td>Trump Cuts Aid To Africa</td>\n",
       "      <td>2025-06-03</td>\n",
       "      <td>cecilia.newsapi.csv</td>\n",
       "    </tr>\n",
       "    <tr>\n",
       "      <th>285</th>\n",
       "      <td>Africa Needs More Renewables, So Why Is It Inv...</td>\n",
       "      <td>Sub-Saharan Africa has an energy funding deficit.</td>\n",
       "      <td>LICHTENBURG, SOUTH AFRICA - MAY 8: A man is se...</td>\n",
       "      <td>https://www.forbes.com/sites/sverrealvik/2025/...</td>\n",
       "      <td>development aid kenya</td>\n",
       "      <td>2025-05-20</td>\n",
       "      <td>Agatha_news.csv</td>\n",
       "    </tr>\n",
       "  </tbody>\n",
       "</table>\n",
       "</div>"
      ],
      "text/plain": [
       "                                                  title  \\\n",
       "1560  He led George W. Bush's PEPFAR program to stop...   \n",
       "102   The depths of corruption: GOP blasts Bidenâs...   \n",
       "2264  The D Brief: ARRW is back; Amphib budgets; Put...   \n",
       "1852  Israeli forces halt Gaza-bound aid boat, detai...   \n",
       "1750  House Moves To Claw Back Money From Public Bro...   \n",
       "32    He led George W. Bush's PEPFAR program to stop...   \n",
       "1670  He led George W. Bush's PEPFAR program to stop...   \n",
       "2009  Death, Sexual Violence and Human Trafficking: ...   \n",
       "2215  Why are humanitarian crises in African countri...   \n",
       "285   Africa Needs More Renewables, So Why Is It Inv...   \n",
       "\n",
       "                                            description  \\\n",
       "1560  Dr. Mark Dybul was an architect of PEPFAR, a p...   \n",
       "102   House Republicans accuse the Biden administrat...   \n",
       "2264                                                NaN   \n",
       "1852  A Gaza-bound aid boat carrying Greta Thunberg ...   \n",
       "1750  The House is seeking to rescind $9.4 billion i...   \n",
       "32    Dr. Mark Dybul was an architect of PEPFAR, a p...   \n",
       "1670  Dr. Mark Dybul was an architect of PEPFAR, a p...   \n",
       "2009  by Brett Murphy and Anna Maria Barry-Jester \\n...   \n",
       "2215  The latest Most Neglected Crises report on wor...   \n",
       "285   Sub-Saharan Africa has an energy funding deficit.   \n",
       "\n",
       "                                                   text  \\\n",
       "1560  About two decades ago, Namibia was one of the ...   \n",
       "102   <ul><li>House Republicans accuse the Biden adm...   \n",
       "2264  The Air Force is resurrecting its boost-glide ...   \n",
       "1852  A Gaza-bound aid boat carrying Greta Thunberg ...   \n",
       "1750  People participate in a rally to call on Congr...   \n",
       "32    About two decades ago, Namibia was one of the ...   \n",
       "1670  About two decades ago, Namibia was one of the ...   \n",
       "2009  ProPublica is a nonprofit newsroom that invest...   \n",
       "2215  African countries have again topped the list o...   \n",
       "285   LICHTENBURG, SOUTH AFRICA - MAY 8: A man is se...   \n",
       "\n",
       "                                                    url  \\\n",
       "1560  https://www.npr.org/sections/goats-and-soda/20...   \n",
       "102   https://www.naturalnews.com/2025-06-06-gop-bla...   \n",
       "2264  https://www.defenseone.com/threats/2025/06/the...   \n",
       "1852  https://www.cbc.ca/news/world/israel-freedom-f...   \n",
       "1750  https://www.forbes.com/sites/kellyphillipserb/...   \n",
       "32    https://www.npr.org/sections/goats-and-soda/20...   \n",
       "1670  https://www.npr.org/sections/goats-and-soda/20...   \n",
       "2009  https://www.propublica.org/article/trump-usaid...   \n",
       "2215  https://www.aljazeera.com/news/2025/6/3/why-ar...   \n",
       "285   https://www.forbes.com/sites/sverrealvik/2025/...   \n",
       "\n",
       "                       keyword published_date          source_file  \n",
       "1560               foreign aid     2025-06-06  cecilia.newsapi.csv  \n",
       "102              usaid funding     2025-06-06      Agatha_news.csv  \n",
       "2264  Trump Cuts Aid To Africa     2025-06-06  cecilia.newsapi.csv  \n",
       "1852            aid withdrawal     2025-06-09  cecilia.newsapi.csv  \n",
       "1750               USAID money     2025-06-12  cecilia.newsapi.csv  \n",
       "32               usaid funding     2025-06-06      Agatha_news.csv  \n",
       "1670                Trump cuts     2025-06-06  cecilia.newsapi.csv  \n",
       "2009     State Department cuts     2025-05-28  cecilia.newsapi.csv  \n",
       "2215  Trump Cuts Aid To Africa     2025-06-03  cecilia.newsapi.csv  \n",
       "285      development aid kenya     2025-05-20      Agatha_news.csv  "
      ]
     },
     "execution_count": 91,
     "metadata": {},
     "output_type": "execute_result"
    }
   ],
   "source": [
    "news_combined_df.sample(10)"
   ]
  },
  {
   "cell_type": "code",
   "execution_count": null,
   "id": "9ea31bde",
   "metadata": {},
   "outputs": [],
   "source": []
  }
 ],
 "metadata": {
  "kernelspec": {
   "display_name": "Python 3 (ipykernel)",
   "language": "python",
   "name": "python3"
  },
  "language_info": {
   "codemirror_mode": {
    "name": "ipython",
    "version": 3
   },
   "file_extension": ".py",
   "mimetype": "text/x-python",
   "name": "python",
   "nbconvert_exporter": "python",
   "pygments_lexer": "ipython3",
   "version": "3.9.7"
  }
 },
 "nbformat": 4,
 "nbformat_minor": 5
}
