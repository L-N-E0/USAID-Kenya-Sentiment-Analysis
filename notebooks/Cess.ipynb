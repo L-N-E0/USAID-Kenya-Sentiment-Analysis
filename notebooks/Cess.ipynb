{
 "cells": [
  {
   "cell_type": "markdown",
   "id": "962045ac",
   "metadata": {},
   "source": [
    "# USAID-Kenya-Sentiment-Analysis"
   ]
  },
  {
   "cell_type": "markdown",
   "id": "6acc0606",
   "metadata": {},
   "source": [
    "#    Merging Reddit CSV Files"
   ]
  },
  {
   "cell_type": "markdown",
   "id": "b99dd2b5",
   "metadata": {},
   "source": [
    "### Import neccessary libraries"
   ]
  },
  {
   "cell_type": "code",
   "execution_count": 1,
   "id": "2605d0a6",
   "metadata": {},
   "outputs": [],
   "source": [
    "import pandas as pd\n",
    "import glob\n",
    "import os\n"
   ]
  },
  {
   "cell_type": "markdown",
   "id": "5e1cd992",
   "metadata": {},
   "source": [
    "### Folder path"
   ]
  },
  {
   "cell_type": "code",
   "execution_count": 2,
   "id": "df600c9e",
   "metadata": {},
   "outputs": [],
   "source": [
    "folder_path = 'C:/Users/hp/Desktop/DATA NEXUS PROJECTS/USAID-Kenya-Sentiment-Analysis/data/raw/reddit_data'\n"
   ]
  },
  {
   "cell_type": "markdown",
   "id": "7fcb97c1",
   "metadata": {},
   "source": [
    "### CSV file paths"
   ]
  },
  {
   "cell_type": "code",
   "execution_count": 3,
   "id": "b50625d4",
   "metadata": {},
   "outputs": [
    {
     "data": {
      "text/plain": [
       "['C:/Users/hp/Desktop/DATA NEXUS PROJECTS/USAID-Kenya-Sentiment-Analysis/data/raw/reddit_data\\\\Agatha_reddit.csv',\n",
       " 'C:/Users/hp/Desktop/DATA NEXUS PROJECTS/USAID-Kenya-Sentiment-Analysis/data/raw/reddit_data\\\\cecilia.redditsubs.csv',\n",
       " 'C:/Users/hp/Desktop/DATA NEXUS PROJECTS/USAID-Kenya-Sentiment-Analysis/data/raw/reddit_data\\\\cecilia.reddit_nbo_ke_africa.csv',\n",
       " 'C:/Users/hp/Desktop/DATA NEXUS PROJECTS/USAID-Kenya-Sentiment-Analysis/data/raw/reddit_data\\\\leo_reddit_posts.csv',\n",
       " 'C:/Users/hp/Desktop/DATA NEXUS PROJECTS/USAID-Kenya-Sentiment-Analysis/data/raw/reddit_data\\\\Mbego_reddit_usaid_kenya.csv',\n",
       " 'C:/Users/hp/Desktop/DATA NEXUS PROJECTS/USAID-Kenya-Sentiment-Analysis/data/raw/reddit_data\\\\Mbego_reddit_usaid_kenya2.csv',\n",
       " 'C:/Users/hp/Desktop/DATA NEXUS PROJECTS/USAID-Kenya-Sentiment-Analysis/data/raw/reddit_data\\\\reddit_usaid_kenya.csv',\n",
       " 'C:/Users/hp/Desktop/DATA NEXUS PROJECTS/USAID-Kenya-Sentiment-Analysis/data/raw/reddit_data\\\\reddit_usaid_sentiment.csv',\n",
       " 'C:/Users/hp/Desktop/DATA NEXUS PROJECTS/USAID-Kenya-Sentiment-Analysis/data/raw/reddit_data\\\\ruth_reddit.csv']"
      ]
     },
     "execution_count": 3,
     "metadata": {},
     "output_type": "execute_result"
    }
   ],
   "source": [
    "csv_files = glob.glob(os.path.join(folder_path, '*.csv'))\n",
    "csv_files"
   ]
  },
  {
   "cell_type": "markdown",
   "id": "c37cff96",
   "metadata": {},
   "source": [
    "### Reading the files and combining them into one dataframe"
   ]
  },
  {
   "cell_type": "code",
   "execution_count": 4,
   "id": "f874996c",
   "metadata": {},
   "outputs": [
    {
     "data": {
      "text/html": [
       "<div>\n",
       "<style scoped>\n",
       "    .dataframe tbody tr th:only-of-type {\n",
       "        vertical-align: middle;\n",
       "    }\n",
       "\n",
       "    .dataframe tbody tr th {\n",
       "        vertical-align: top;\n",
       "    }\n",
       "\n",
       "    .dataframe thead th {\n",
       "        text-align: right;\n",
       "    }\n",
       "</style>\n",
       "<table border=\"1\" class=\"dataframe\">\n",
       "  <thead>\n",
       "    <tr style=\"text-align: right;\">\n",
       "      <th></th>\n",
       "      <th>post_title</th>\n",
       "      <th>text</th>\n",
       "      <th>keyword</th>\n",
       "      <th>published_date</th>\n",
       "      <th>url</th>\n",
       "      <th>source_file</th>\n",
       "    </tr>\n",
       "  </thead>\n",
       "  <tbody>\n",
       "    <tr>\n",
       "      <th>0</th>\n",
       "      <td>USAID left a month ago, do we have ARVs in Kenya?</td>\n",
       "      <td>Someone on a different group (different websit...</td>\n",
       "      <td>usaid kenya</td>\n",
       "      <td>2025-04-15 13:16:53</td>\n",
       "      <td>https://www.reddit.com/r/Kenya/comments/1jzrn2...</td>\n",
       "      <td>Agatha_reddit.csv</td>\n",
       "    </tr>\n",
       "    <tr>\n",
       "      <th>1</th>\n",
       "      <td>Classism in r/Kenya and r/nairobi</td>\n",
       "      <td>The classism I'm seeing in both subs is a good...</td>\n",
       "      <td>usaid kenya</td>\n",
       "      <td>2025-04-07 04:21:12</td>\n",
       "      <td>https://www.reddit.com/r/Kenya/comments/1jtcvb...</td>\n",
       "      <td>Agatha_reddit.csv</td>\n",
       "    </tr>\n",
       "    <tr>\n",
       "      <th>2</th>\n",
       "      <td>EX-USAID people!! Let's talk</td>\n",
       "      <td>Are you still in contact with the organisation...</td>\n",
       "      <td>usaid kenya</td>\n",
       "      <td>2025-04-05 19:09:10</td>\n",
       "      <td>https://www.reddit.com/r/Kenya/comments/1jsb14...</td>\n",
       "      <td>Agatha_reddit.csv</td>\n",
       "    </tr>\n",
       "    <tr>\n",
       "      <th>3</th>\n",
       "      <td>Why western powers back Israel no matter what ...</td>\n",
       "      <td>I don't care what good book you read, but it's...</td>\n",
       "      <td>usaid kenya</td>\n",
       "      <td>2025-03-25 08:18:04</td>\n",
       "      <td>https://www.reddit.com/r/Kenya/comments/1jjehw...</td>\n",
       "      <td>Agatha_reddit.csv</td>\n",
       "    </tr>\n",
       "    <tr>\n",
       "      <th>4</th>\n",
       "      <td>Is kenya capable of funding its needs now that...</td>\n",
       "      <td>How is kenya prepared to fill the vacuum of US...</td>\n",
       "      <td>usaid kenya</td>\n",
       "      <td>2025-03-08 08:08:58</td>\n",
       "      <td>https://www.reddit.com/r/Kenya/comments/1j6cjz...</td>\n",
       "      <td>Agatha_reddit.csv</td>\n",
       "    </tr>\n",
       "  </tbody>\n",
       "</table>\n",
       "</div>"
      ],
      "text/plain": [
       "                                          post_title  \\\n",
       "0  USAID left a month ago, do we have ARVs in Kenya?   \n",
       "1                  Classism in r/Kenya and r/nairobi   \n",
       "2                       EX-USAID people!! Let's talk   \n",
       "3  Why western powers back Israel no matter what ...   \n",
       "4  Is kenya capable of funding its needs now that...   \n",
       "\n",
       "                                                text      keyword  \\\n",
       "0  Someone on a different group (different websit...  usaid kenya   \n",
       "1  The classism I'm seeing in both subs is a good...  usaid kenya   \n",
       "2  Are you still in contact with the organisation...  usaid kenya   \n",
       "3  I don't care what good book you read, but it's...  usaid kenya   \n",
       "4  How is kenya prepared to fill the vacuum of US...  usaid kenya   \n",
       "\n",
       "       published_date                                                url  \\\n",
       "0 2025-04-15 13:16:53  https://www.reddit.com/r/Kenya/comments/1jzrn2...   \n",
       "1 2025-04-07 04:21:12  https://www.reddit.com/r/Kenya/comments/1jtcvb...   \n",
       "2 2025-04-05 19:09:10  https://www.reddit.com/r/Kenya/comments/1jsb14...   \n",
       "3 2025-03-25 08:18:04  https://www.reddit.com/r/Kenya/comments/1jjehw...   \n",
       "4 2025-03-08 08:08:58  https://www.reddit.com/r/Kenya/comments/1j6cjz...   \n",
       "\n",
       "         source_file  \n",
       "0  Agatha_reddit.csv  \n",
       "1  Agatha_reddit.csv  \n",
       "2  Agatha_reddit.csv  \n",
       "3  Agatha_reddit.csv  \n",
       "4  Agatha_reddit.csv  "
      ]
     },
     "execution_count": 4,
     "metadata": {},
     "output_type": "execute_result"
    }
   ],
   "source": [
    "\n",
    "preferred_columns = ['post_title', 'text', 'keyword', 'published_date', 'url']\n",
    "all_dfs = []\n",
    "\n",
    "for file in csv_files:\n",
    "    df = pd.read_csv(file)\n",
    "    \n",
    "    # Rename common column variants\n",
    "    if 'title' in df.columns:\n",
    "        df.rename(columns={'title': 'post_title'}, inplace=True)\n",
    "    if 'selftext' in df.columns and 'text' not in df.columns:\n",
    "        df.rename(columns={'selftext': 'text'}, inplace=True)\n",
    "    if 'date_posted' in df.columns:\n",
    "        df.rename(columns={'date_posted': 'published_date'}, inplace=True)\n",
    "    elif 'created_utc' in df.columns:\n",
    "        df.rename(columns={'created_utc': 'published_date'}, inplace=True)\n",
    "    \n",
    "    # Add missing columns\n",
    "    for col in preferred_columns:\n",
    "        if col not in df.columns:\n",
    "            df[col] = None\n",
    "\n",
    "    # Convert published_date to datetime\n",
    "    df['published_date'] = pd.to_datetime(df['published_date'], errors='coerce')\n",
    "\n",
    "    # Track file source\n",
    "    df['source_file'] = os.path.basename(file)\n",
    "    \n",
    "    # Keep only standardized columns\n",
    "    df = df[preferred_columns + ['source_file']]\n",
    "\n",
    "    all_dfs.append(df)\n",
    "\n",
    "# Combine all\n",
    "combined_df = pd.concat(all_dfs, ignore_index=True)\n",
    "combined_df.head()\n"
   ]
  },
  {
   "cell_type": "code",
   "execution_count": 5,
   "id": "83d5b9f6",
   "metadata": {},
   "outputs": [
    {
     "data": {
      "text/plain": [
       "(1306, 6)"
      ]
     },
     "execution_count": 5,
     "metadata": {},
     "output_type": "execute_result"
    }
   ],
   "source": [
    "combined_df.shape #check the shape of the dataset"
   ]
  },
  {
   "cell_type": "code",
   "execution_count": 6,
   "id": "b896c819",
   "metadata": {},
   "outputs": [
    {
     "data": {
      "text/plain": [
       "post_title          0\n",
       "text              398\n",
       "keyword           564\n",
       "published_date    197\n",
       "url                 0\n",
       "source_file         0\n",
       "dtype: int64"
      ]
     },
     "execution_count": 6,
     "metadata": {},
     "output_type": "execute_result"
    }
   ],
   "source": [
    "combined_df.isna().sum() #check for missing values"
   ]
  },
  {
   "cell_type": "code",
   "execution_count": 7,
   "id": "6cbb0b58",
   "metadata": {},
   "outputs": [
    {
     "data": {
      "text/plain": [
       "Index(['post_title', 'text', 'keyword', 'published_date', 'url',\n",
       "       'source_file'],\n",
       "      dtype='object')"
      ]
     },
     "execution_count": 7,
     "metadata": {},
     "output_type": "execute_result"
    }
   ],
   "source": [
    "combined_df.columns"
   ]
  },
  {
   "cell_type": "code",
   "execution_count": 8,
   "id": "f8a79603",
   "metadata": {},
   "outputs": [
    {
     "data": {
      "text/html": [
       "<div>\n",
       "<style scoped>\n",
       "    .dataframe tbody tr th:only-of-type {\n",
       "        vertical-align: middle;\n",
       "    }\n",
       "\n",
       "    .dataframe tbody tr th {\n",
       "        vertical-align: top;\n",
       "    }\n",
       "\n",
       "    .dataframe thead th {\n",
       "        text-align: right;\n",
       "    }\n",
       "</style>\n",
       "<table border=\"1\" class=\"dataframe\">\n",
       "  <thead>\n",
       "    <tr style=\"text-align: right;\">\n",
       "      <th></th>\n",
       "      <th>post_title</th>\n",
       "      <th>text</th>\n",
       "      <th>keyword</th>\n",
       "      <th>published_date</th>\n",
       "      <th>url</th>\n",
       "      <th>source_file</th>\n",
       "    </tr>\n",
       "  </thead>\n",
       "  <tbody>\n",
       "    <tr>\n",
       "      <th>0</th>\n",
       "      <td>USAID left a month ago, do we have ARVs in Kenya?</td>\n",
       "      <td>Someone on a different group (different websit...</td>\n",
       "      <td>usaid kenya</td>\n",
       "      <td>2025-04-15</td>\n",
       "      <td>https://www.reddit.com/r/Kenya/comments/1jzrn2...</td>\n",
       "      <td>Agatha_reddit.csv</td>\n",
       "    </tr>\n",
       "    <tr>\n",
       "      <th>1</th>\n",
       "      <td>Classism in r/Kenya and r/nairobi</td>\n",
       "      <td>The classism I'm seeing in both subs is a good...</td>\n",
       "      <td>usaid kenya</td>\n",
       "      <td>2025-04-07</td>\n",
       "      <td>https://www.reddit.com/r/Kenya/comments/1jtcvb...</td>\n",
       "      <td>Agatha_reddit.csv</td>\n",
       "    </tr>\n",
       "    <tr>\n",
       "      <th>2</th>\n",
       "      <td>EX-USAID people!! Let's talk</td>\n",
       "      <td>Are you still in contact with the organisation...</td>\n",
       "      <td>usaid kenya</td>\n",
       "      <td>2025-04-05</td>\n",
       "      <td>https://www.reddit.com/r/Kenya/comments/1jsb14...</td>\n",
       "      <td>Agatha_reddit.csv</td>\n",
       "    </tr>\n",
       "    <tr>\n",
       "      <th>3</th>\n",
       "      <td>Why western powers back Israel no matter what ...</td>\n",
       "      <td>I don't care what good book you read, but it's...</td>\n",
       "      <td>usaid kenya</td>\n",
       "      <td>2025-03-25</td>\n",
       "      <td>https://www.reddit.com/r/Kenya/comments/1jjehw...</td>\n",
       "      <td>Agatha_reddit.csv</td>\n",
       "    </tr>\n",
       "    <tr>\n",
       "      <th>4</th>\n",
       "      <td>Is kenya capable of funding its needs now that...</td>\n",
       "      <td>How is kenya prepared to fill the vacuum of US...</td>\n",
       "      <td>usaid kenya</td>\n",
       "      <td>2025-03-08</td>\n",
       "      <td>https://www.reddit.com/r/Kenya/comments/1j6cjz...</td>\n",
       "      <td>Agatha_reddit.csv</td>\n",
       "    </tr>\n",
       "  </tbody>\n",
       "</table>\n",
       "</div>"
      ],
      "text/plain": [
       "                                          post_title  \\\n",
       "0  USAID left a month ago, do we have ARVs in Kenya?   \n",
       "1                  Classism in r/Kenya and r/nairobi   \n",
       "2                       EX-USAID people!! Let's talk   \n",
       "3  Why western powers back Israel no matter what ...   \n",
       "4  Is kenya capable of funding its needs now that...   \n",
       "\n",
       "                                                text      keyword  \\\n",
       "0  Someone on a different group (different websit...  usaid kenya   \n",
       "1  The classism I'm seeing in both subs is a good...  usaid kenya   \n",
       "2  Are you still in contact with the organisation...  usaid kenya   \n",
       "3  I don't care what good book you read, but it's...  usaid kenya   \n",
       "4  How is kenya prepared to fill the vacuum of US...  usaid kenya   \n",
       "\n",
       "  published_date                                                url  \\\n",
       "0     2025-04-15  https://www.reddit.com/r/Kenya/comments/1jzrn2...   \n",
       "1     2025-04-07  https://www.reddit.com/r/Kenya/comments/1jtcvb...   \n",
       "2     2025-04-05  https://www.reddit.com/r/Kenya/comments/1jsb14...   \n",
       "3     2025-03-25  https://www.reddit.com/r/Kenya/comments/1jjehw...   \n",
       "4     2025-03-08  https://www.reddit.com/r/Kenya/comments/1j6cjz...   \n",
       "\n",
       "         source_file  \n",
       "0  Agatha_reddit.csv  \n",
       "1  Agatha_reddit.csv  \n",
       "2  Agatha_reddit.csv  \n",
       "3  Agatha_reddit.csv  \n",
       "4  Agatha_reddit.csv  "
      ]
     },
     "execution_count": 8,
     "metadata": {},
     "output_type": "execute_result"
    }
   ],
   "source": [
    "# Extract date and time\n",
    "combined_df['time'] = combined_df['published_date'].dt.time\n",
    "combined_df['published_date'] = combined_df['published_date'].dt.date\n",
    "\n",
    "#Drop the time column\n",
    "combined_df.drop(columns='time', inplace=True)\n",
    "combined_df.head()"
   ]
  },
  {
   "cell_type": "code",
   "execution_count": 9,
   "id": "203cd407",
   "metadata": {},
   "outputs": [
    {
     "data": {
      "text/html": [
       "<div>\n",
       "<style scoped>\n",
       "    .dataframe tbody tr th:only-of-type {\n",
       "        vertical-align: middle;\n",
       "    }\n",
       "\n",
       "    .dataframe tbody tr th {\n",
       "        vertical-align: top;\n",
       "    }\n",
       "\n",
       "    .dataframe thead th {\n",
       "        text-align: right;\n",
       "    }\n",
       "</style>\n",
       "<table border=\"1\" class=\"dataframe\">\n",
       "  <thead>\n",
       "    <tr style=\"text-align: right;\">\n",
       "      <th></th>\n",
       "      <th>post_title</th>\n",
       "      <th>text</th>\n",
       "      <th>keyword</th>\n",
       "      <th>published_date</th>\n",
       "      <th>url</th>\n",
       "      <th>source_file</th>\n",
       "    </tr>\n",
       "  </thead>\n",
       "  <tbody>\n",
       "    <tr>\n",
       "      <th>785</th>\n",
       "      <td>A Short Story.</td>\n",
       "      <td>In Medicine, there's something called physical...</td>\n",
       "      <td>None</td>\n",
       "      <td>1970-01-01</td>\n",
       "      <td>https://www.reddit.com/r/Kenya/comments/1jqspe...</td>\n",
       "      <td>leo_reddit_posts.csv</td>\n",
       "    </tr>\n",
       "    <tr>\n",
       "      <th>521</th>\n",
       "      <td>Title: I grew up idolizing France. Now I see t...</td>\n",
       "      <td>I want to believe we still have what it takes—...</td>\n",
       "      <td>foreign aid, foreign aid</td>\n",
       "      <td>2025-05-12</td>\n",
       "      <td>https://www.reddit.com/r/Africa/comments/1kknb...</td>\n",
       "      <td>cecilia.redditsubs.csv</td>\n",
       "    </tr>\n",
       "    <tr>\n",
       "      <th>283</th>\n",
       "      <td>Is the Kenyan Digital Nomad Visa Official Yet?</td>\n",
       "      <td>Friends, I've been seeing conflicting informat...</td>\n",
       "      <td>development aid kenya</td>\n",
       "      <td>2025-02-24</td>\n",
       "      <td>https://www.reddit.com/r/Kenya/comments/1iwvya...</td>\n",
       "      <td>Agatha_reddit.csv</td>\n",
       "    </tr>\n",
       "    <tr>\n",
       "      <th>850</th>\n",
       "      <td>Looking for Temporary Market Researchers in Na...</td>\n",
       "      <td>Hey Reddit fam,  \\r\\nIn regard to [this](https...</td>\n",
       "      <td>None</td>\n",
       "      <td>1970-01-01</td>\n",
       "      <td>https://www.reddit.com/r/Kenya/comments/1jv12r...</td>\n",
       "      <td>leo_reddit_posts.csv</td>\n",
       "    </tr>\n",
       "    <tr>\n",
       "      <th>271</th>\n",
       "      <td>🤔 What If Kenya Allowed British Rule Beyond 19...</td>\n",
       "      <td>Hear me out: The white man stayed past 1963. I...</td>\n",
       "      <td>development aid kenya</td>\n",
       "      <td>2025-03-19</td>\n",
       "      <td>https://www.reddit.com/r/Kenya/comments/1jeqhx...</td>\n",
       "      <td>Agatha_reddit.csv</td>\n",
       "    </tr>\n",
       "    <tr>\n",
       "      <th>563</th>\n",
       "      <td>Pete Marocco Returns to Battle in Trump’s War ...</td>\n",
       "      <td>NaN</td>\n",
       "      <td>foreign aid, foreign aid</td>\n",
       "      <td>2025-02-18</td>\n",
       "      <td>https://www.nytimes.com/2025/02/18/us/politics...</td>\n",
       "      <td>cecilia.redditsubs.csv</td>\n",
       "    </tr>\n",
       "    <tr>\n",
       "      <th>770</th>\n",
       "      <td>Government money circlejerk</td>\n",
       "      <td>Government taxes your payslip to build house y...</td>\n",
       "      <td>None</td>\n",
       "      <td>1970-01-01</td>\n",
       "      <td>https://i.redd.it/g2f4uxrslj5f1.jpeg</td>\n",
       "      <td>leo_reddit_posts.csv</td>\n",
       "    </tr>\n",
       "    <tr>\n",
       "      <th>337</th>\n",
       "      <td>Why are we playing so safe?</td>\n",
       "      <td>I recently came across a group of guys online ...</td>\n",
       "      <td>kenya donor funding</td>\n",
       "      <td>2025-04-12</td>\n",
       "      <td>https://www.reddit.com/r/Kenya/comments/1jx7it...</td>\n",
       "      <td>Agatha_reddit.csv</td>\n",
       "    </tr>\n",
       "    <tr>\n",
       "      <th>34</th>\n",
       "      <td>Karibu na mzuri! A day in the life of a job se...</td>\n",
       "      <td>Sijui  niite bahati ama kuponea chupu chupu. N...</td>\n",
       "      <td>usaid budget cut</td>\n",
       "      <td>2025-02-07</td>\n",
       "      <td>https://www.reddit.com/r/Kenya/comments/1ijn7s...</td>\n",
       "      <td>Agatha_reddit.csv</td>\n",
       "    </tr>\n",
       "    <tr>\n",
       "      <th>960</th>\n",
       "      <td>World Health Organization warns of possible tu...</td>\n",
       "      <td>NaN</td>\n",
       "      <td>None</td>\n",
       "      <td>NaT</td>\n",
       "      <td>https://www.nbcnews.com/health/health-news/tub...</td>\n",
       "      <td>Mbego_reddit_usaid_kenya2.csv</td>\n",
       "    </tr>\n",
       "  </tbody>\n",
       "</table>\n",
       "</div>"
      ],
      "text/plain": [
       "                                            post_title  \\\n",
       "785                                     A Short Story.   \n",
       "521  Title: I grew up idolizing France. Now I see t...   \n",
       "283     Is the Kenyan Digital Nomad Visa Official Yet?   \n",
       "850  Looking for Temporary Market Researchers in Na...   \n",
       "271  🤔 What If Kenya Allowed British Rule Beyond 19...   \n",
       "563  Pete Marocco Returns to Battle in Trump’s War ...   \n",
       "770                        Government money circlejerk   \n",
       "337                        Why are we playing so safe?   \n",
       "34   Karibu na mzuri! A day in the life of a job se...   \n",
       "960  World Health Organization warns of possible tu...   \n",
       "\n",
       "                                                  text  \\\n",
       "785  In Medicine, there's something called physical...   \n",
       "521  I want to believe we still have what it takes—...   \n",
       "283  Friends, I've been seeing conflicting informat...   \n",
       "850  Hey Reddit fam,  \\r\\nIn regard to [this](https...   \n",
       "271  Hear me out: The white man stayed past 1963. I...   \n",
       "563                                                NaN   \n",
       "770  Government taxes your payslip to build house y...   \n",
       "337  I recently came across a group of guys online ...   \n",
       "34   Sijui  niite bahati ama kuponea chupu chupu. N...   \n",
       "960                                                NaN   \n",
       "\n",
       "                      keyword published_date  \\\n",
       "785                      None     1970-01-01   \n",
       "521  foreign aid, foreign aid     2025-05-12   \n",
       "283     development aid kenya     2025-02-24   \n",
       "850                      None     1970-01-01   \n",
       "271     development aid kenya     2025-03-19   \n",
       "563  foreign aid, foreign aid     2025-02-18   \n",
       "770                      None     1970-01-01   \n",
       "337       kenya donor funding     2025-04-12   \n",
       "34           usaid budget cut     2025-02-07   \n",
       "960                      None            NaT   \n",
       "\n",
       "                                                   url  \\\n",
       "785  https://www.reddit.com/r/Kenya/comments/1jqspe...   \n",
       "521  https://www.reddit.com/r/Africa/comments/1kknb...   \n",
       "283  https://www.reddit.com/r/Kenya/comments/1iwvya...   \n",
       "850  https://www.reddit.com/r/Kenya/comments/1jv12r...   \n",
       "271  https://www.reddit.com/r/Kenya/comments/1jeqhx...   \n",
       "563  https://www.nytimes.com/2025/02/18/us/politics...   \n",
       "770               https://i.redd.it/g2f4uxrslj5f1.jpeg   \n",
       "337  https://www.reddit.com/r/Kenya/comments/1jx7it...   \n",
       "34   https://www.reddit.com/r/Kenya/comments/1ijn7s...   \n",
       "960  https://www.nbcnews.com/health/health-news/tub...   \n",
       "\n",
       "                       source_file  \n",
       "785           leo_reddit_posts.csv  \n",
       "521         cecilia.redditsubs.csv  \n",
       "283              Agatha_reddit.csv  \n",
       "850           leo_reddit_posts.csv  \n",
       "271              Agatha_reddit.csv  \n",
       "563         cecilia.redditsubs.csv  \n",
       "770           leo_reddit_posts.csv  \n",
       "337              Agatha_reddit.csv  \n",
       "34               Agatha_reddit.csv  \n",
       "960  Mbego_reddit_usaid_kenya2.csv  "
      ]
     },
     "execution_count": 9,
     "metadata": {},
     "output_type": "execute_result"
    }
   ],
   "source": [
    "combined_df.sample(10) #random sample of 10 rows"
   ]
  },
  {
   "cell_type": "markdown",
   "id": "9db6c968",
   "metadata": {},
   "source": [
    "### Save the final merged dataframe to csv"
   ]
  },
  {
   "cell_type": "code",
   "execution_count": 10,
   "id": "be3f73dc",
   "metadata": {},
   "outputs": [
    {
     "name": "stdout",
     "output_type": "stream",
     "text": [
      " Results successfully saved to:\n",
      "C:/Users/hp/Desktop/DATA NEXUS PROJECTS/USAID-Kenya-Sentiment-Analysis/data/processed/individual datasets/Cecilia_merged_reddit_dataset.csv\n"
     ]
    }
   ],
   "source": [
    "# Save to CSV \n",
    "if not combined_df.empty:\n",
    "    output_filename = \"C:/Users/hp/Desktop/DATA NEXUS PROJECTS/USAID-Kenya-Sentiment-Analysis/data/processed/individual datasets/Cecilia_merged_reddit_dataset.csv\"\n",
    "    combined_df.to_csv(output_filename, index=False, encoding='utf-8')\n",
    "    print(f\" Results successfully saved to:\\n{output_filename}\")\n",
    "else:\n",
    "    print(\" No data to save. The DataFrame is empty.\")\n"
   ]
  },
  {
   "cell_type": "code",
   "execution_count": null,
   "id": "4313f5e3",
   "metadata": {},
   "outputs": [],
   "source": []
  },
  {
   "cell_type": "markdown",
   "id": "a05bf2ed",
   "metadata": {},
   "source": [
    "# Merging News CSV Files"
   ]
  },
  {
   "cell_type": "markdown",
   "id": "2e616e2e",
   "metadata": {},
   "source": [
    "### Import necessary libraries"
   ]
  },
  {
   "cell_type": "code",
   "execution_count": 11,
   "id": "350238dc",
   "metadata": {},
   "outputs": [],
   "source": [
    "import pandas as pd\n",
    "import glob\n",
    "import os\n"
   ]
  },
  {
   "cell_type": "markdown",
   "id": "a18c8d34",
   "metadata": {},
   "source": [
    "### Folder path"
   ]
  },
  {
   "cell_type": "code",
   "execution_count": 12,
   "id": "f0bc11b4",
   "metadata": {},
   "outputs": [],
   "source": [
    "folder_path = 'C:/Users/hp/Desktop/DATA NEXUS PROJECTS/USAID-Kenya-Sentiment-Analysis/data/raw/news_data'\n"
   ]
  },
  {
   "cell_type": "markdown",
   "id": "0394822b",
   "metadata": {},
   "source": [
    "### CSV file paths"
   ]
  },
  {
   "cell_type": "code",
   "execution_count": 13,
   "id": "015bbad0",
   "metadata": {},
   "outputs": [
    {
     "data": {
      "text/plain": [
       "['C:/Users/hp/Desktop/DATA NEXUS PROJECTS/USAID-Kenya-Sentiment-Analysis/data/raw/news_data\\\\Agatha_news.csv',\n",
       " 'C:/Users/hp/Desktop/DATA NEXUS PROJECTS/USAID-Kenya-Sentiment-Analysis/data/raw/news_data\\\\cecilia.newsapi.csv',\n",
       " 'C:/Users/hp/Desktop/DATA NEXUS PROJECTS/USAID-Kenya-Sentiment-Analysis/data/raw/news_data\\\\leo_newsapi_articles_enriched.csv',\n",
       " 'C:/Users/hp/Desktop/DATA NEXUS PROJECTS/USAID-Kenya-Sentiment-Analysis/data/raw/news_data\\\\Mbego_news_usaid_kenya_fulltext.csv',\n",
       " 'C:/Users/hp/Desktop/DATA NEXUS PROJECTS/USAID-Kenya-Sentiment-Analysis/data/raw/news_data\\\\Mbego_news_usaid_kenya_recent.csv',\n",
       " 'C:/Users/hp/Desktop/DATA NEXUS PROJECTS/USAID-Kenya-Sentiment-Analysis/data/raw/news_data\\\\newsapi_usaid_articles.csv',\n",
       " 'C:/Users/hp/Desktop/DATA NEXUS PROJECTS/USAID-Kenya-Sentiment-Analysis/data/raw/news_data\\\\ruth_news.csv']"
      ]
     },
     "execution_count": 13,
     "metadata": {},
     "output_type": "execute_result"
    }
   ],
   "source": [
    "folder_path = 'C:/Users/hp/Desktop/DATA NEXUS PROJECTS/USAID-Kenya-Sentiment-Analysis/data/raw/news_data'\n",
    "omit_file = os.path.join(folder_path, 'Agatha_news_fulltext.csv')\n",
    "\n",
    "news_csv_files = glob.glob(os.path.join(folder_path, '*.csv'))\n",
    "news_csv_files = [f for f in news_csv_files if os.path.normpath(f) != os.path.normpath(omit_file)]\n",
    "\n",
    "news_csv_files\n"
   ]
  },
  {
   "cell_type": "markdown",
   "id": "74983ad8",
   "metadata": {},
   "source": [
    "### Reading the files and combining them into one dataframe"
   ]
  },
  {
   "cell_type": "code",
   "execution_count": 14,
   "id": "02b6885f",
   "metadata": {},
   "outputs": [
    {
     "name": "stdout",
     "output_type": "stream",
     "text": [
      "NewsAPI data saved to:\n",
      "C:/Users/hp/Desktop/DATA NEXUS PROJECTS/USAID-Kenya-Sentiment-Analysis/data/processed/individual datasets/Cecilia_merged_news_dataset.csv\n"
     ]
    }
   ],
   "source": [
    "import pandas as pd\n",
    "import os\n",
    "\n",
    "news_columns = ['title', 'description', 'text', 'url', 'keyword', 'published_date', 'source_file']\n",
    "all_news_dfs = []\n",
    "\n",
    "for file in news_csv_files:  \n",
    "    df = pd.read_csv(file)\n",
    "\n",
    "    # Rename content to text \n",
    "    if 'content' in df.columns and 'text' not in df.columns:\n",
    "        df.rename(columns={'content': 'text'}, inplace=True)\n",
    "\n",
    "    # Rename publishedAt to published_date\n",
    "    if 'publishedAt' in df.columns:\n",
    "        df.rename(columns={'publishedAt': 'published_date'}, inplace=True)\n",
    "\n",
    "    # Add missing columns\n",
    "    for col in news_columns:\n",
    "        if col not in df.columns:\n",
    "            df[col] = None\n",
    "\n",
    "    # Convert published_date to datetime\n",
    "    df['published_date'] = pd.to_datetime(df['published_date'], errors='coerce')\n",
    "\n",
    "\n",
    "\n",
    "    # source file info\n",
    "    df['source_file'] = os.path.basename(file)\n",
    "\n",
    "    # standardized columns\n",
    "    df = df[news_columns]\n",
    "    all_news_dfs.append(df)\n",
    "\n",
    "# Combine all\n",
    "news_combined_df = pd.concat(all_news_dfs, ignore_index=True)\n",
    "\n",
    "# Save to CSV\n",
    "output_path = \"C:/Users/hp/Desktop/DATA NEXUS PROJECTS/USAID-Kenya-Sentiment-Analysis/data/processed/individual datasets/Cecilia_merged_news_dataset.csv\"\n",
    "if not news_combined_df.empty:\n",
    "    news_combined_df.to_csv(output_path, index=False, encoding='utf-8')\n",
    "    print(f\"NewsAPI data saved to:\\n{output_path}\")\n",
    "else:\n",
    "    print(\"No NewsAPI data to save. DataFrame is empty.\")\n"
   ]
  },
  {
   "cell_type": "code",
   "execution_count": 15,
   "id": "faed2a11",
   "metadata": {},
   "outputs": [
    {
     "data": {
      "text/plain": [
       "(2638, 7)"
      ]
     },
     "execution_count": 15,
     "metadata": {},
     "output_type": "execute_result"
    }
   ],
   "source": [
    "news_combined_df.shape"
   ]
  },
  {
   "cell_type": "code",
   "execution_count": 16,
   "id": "f6465239",
   "metadata": {},
   "outputs": [
    {
     "data": {
      "text/html": [
       "<div>\n",
       "<style scoped>\n",
       "    .dataframe tbody tr th:only-of-type {\n",
       "        vertical-align: middle;\n",
       "    }\n",
       "\n",
       "    .dataframe tbody tr th {\n",
       "        vertical-align: top;\n",
       "    }\n",
       "\n",
       "    .dataframe thead th {\n",
       "        text-align: right;\n",
       "    }\n",
       "</style>\n",
       "<table border=\"1\" class=\"dataframe\">\n",
       "  <thead>\n",
       "    <tr style=\"text-align: right;\">\n",
       "      <th></th>\n",
       "      <th>title</th>\n",
       "      <th>description</th>\n",
       "      <th>text</th>\n",
       "      <th>url</th>\n",
       "      <th>keyword</th>\n",
       "      <th>published_date</th>\n",
       "      <th>source_file</th>\n",
       "    </tr>\n",
       "  </thead>\n",
       "  <tbody>\n",
       "    <tr>\n",
       "      <th>1759</th>\n",
       "      <td>Trump Team Set To Destroy $12M In USAID Contra...</td>\n",
       "      <td>What rotten human beings these MAGats are. Via...</td>\n",
       "      <td>The mandate that [the USAID negotiator] has be...</td>\n",
       "      <td>https://crooksandliars.com/2025/06/trump-team-...</td>\n",
       "      <td>USAID money</td>\n",
       "      <td>2025-06-08 19:03:49+00:00</td>\n",
       "      <td>cecilia.newsapi.csv</td>\n",
       "    </tr>\n",
       "    <tr>\n",
       "      <th>923</th>\n",
       "      <td>The Surprisingly Radical History of Father’s Day</td>\n",
       "      <td>Father’s Day’s origins as a national holiday a...</td>\n",
       "      <td>Fathers Day can sometimes seem like an afterth...</td>\n",
       "      <td>https://time.com/7293189/fathers-day-radical-h...</td>\n",
       "      <td>aid budget</td>\n",
       "      <td>2025-06-13 11:00:00+00:00</td>\n",
       "      <td>cecilia.newsapi.csv</td>\n",
       "    </tr>\n",
       "    <tr>\n",
       "      <th>417</th>\n",
       "      <td>Government struggles to slash foreign aid spen...</td>\n",
       "      <td>The government is struggling to cut the billio...</td>\n",
       "      <td>The government is struggling to cut the billio...</td>\n",
       "      <td>https://news.sky.com/story/government-struggle...</td>\n",
       "      <td>foreign aid cut</td>\n",
       "      <td>2025-06-07 11:25:00+00:00</td>\n",
       "      <td>Agatha_news.csv</td>\n",
       "    </tr>\n",
       "    <tr>\n",
       "      <th>1485</th>\n",
       "      <td>All the ways the Trump administration is going...</td>\n",
       "      <td>In seeking to reshape elite universities, the ...</td>\n",
       "      <td>A federal judge has once again stepped in to b...</td>\n",
       "      <td>https://www.npr.org/2025/06/10/nx-s1-5424450/w...</td>\n",
       "      <td>USAID funding</td>\n",
       "      <td>2025-06-10 09:00:00+00:00</td>\n",
       "      <td>cecilia.newsapi.csv</td>\n",
       "    </tr>\n",
       "    <tr>\n",
       "      <th>1721</th>\n",
       "      <td>Elon Musk Says Trump’s ‘Big, Beautiful’ Bill ‘...</td>\n",
       "      <td>The billionaire presidential adviser said he w...</td>\n",
       "      <td>Elon Musk, the billionaire tech mogul who had ...</td>\n",
       "      <td>https://time.com/7289045/musk-trump-big-beauti...</td>\n",
       "      <td>Trump cuts</td>\n",
       "      <td>2025-05-28 06:00:00+00:00</td>\n",
       "      <td>cecilia.newsapi.csv</td>\n",
       "    </tr>\n",
       "    <tr>\n",
       "      <th>1372</th>\n",
       "      <td>China is now the biggest debt collector in the...</td>\n",
       "      <td>Developing countries owe billions to China, wh...</td>\n",
       "      <td>China has dramatically curtailed its lending i...</td>\n",
       "      <td>https://www.npr.org/2025/05/28/nx-s1-5413239/c...</td>\n",
       "      <td>Africa aid</td>\n",
       "      <td>2025-05-28 17:23:43+00:00</td>\n",
       "      <td>cecilia.newsapi.csv</td>\n",
       "    </tr>\n",
       "    <tr>\n",
       "      <th>2625</th>\n",
       "      <td>Has DOGE really saved the US government $180bn?</td>\n",
       "      <td>Elon Musk first claimed the department would m...</td>\n",
       "      <td>President Donald Trump and adviser Elon Musk c...</td>\n",
       "      <td>https://www.aljazeera.com/news/2025/6/6/has-do...</td>\n",
       "      <td>None</td>\n",
       "      <td>2025-06-06 11:21:51+00:00</td>\n",
       "      <td>ruth_news.csv</td>\n",
       "    </tr>\n",
       "    <tr>\n",
       "      <th>880</th>\n",
       "      <td>Education Department Budget Request Includes M...</td>\n",
       "      <td>The 2026 budget request for the U.S. Departmen...</td>\n",
       "      <td>Just adding a little flexibility here.\\r\\ngett...</td>\n",
       "      <td>https://www.forbes.com/sites/petergreene/2025/...</td>\n",
       "      <td>funding cuts</td>\n",
       "      <td>2025-05-31 03:27:22+00:00</td>\n",
       "      <td>cecilia.newsapi.csv</td>\n",
       "    </tr>\n",
       "    <tr>\n",
       "      <th>2026</th>\n",
       "      <td>Ethical concerns a barrier to use of AI tools ...</td>\n",
       "      <td>A new report has revealed that fundraisers hav...</td>\n",
       "      <td>A new report has revealed that fundraisers hav...</td>\n",
       "      <td>https://phys.org/news/2025-06-ethical-barrier-...</td>\n",
       "      <td>donors</td>\n",
       "      <td>2025-06-23 15:20:03+00:00</td>\n",
       "      <td>cecilia.newsapi.csv</td>\n",
       "    </tr>\n",
       "    <tr>\n",
       "      <th>1316</th>\n",
       "      <td>The Brief: The real problem with Weber’s anti-...</td>\n",
       "      <td>It's time to rethink the role of “civil societ...</td>\n",
       "      <td>Today's edition is powered by The Internationa...</td>\n",
       "      <td>https://www.euractiv.com/section/politics/opin...</td>\n",
       "      <td>NGO funding</td>\n",
       "      <td>2025-06-19 16:08:20+00:00</td>\n",
       "      <td>cecilia.newsapi.csv</td>\n",
       "    </tr>\n",
       "  </tbody>\n",
       "</table>\n",
       "</div>"
      ],
      "text/plain": [
       "                                                  title  \\\n",
       "1759  Trump Team Set To Destroy $12M In USAID Contra...   \n",
       "923    The Surprisingly Radical History of Father’s Day   \n",
       "417   Government struggles to slash foreign aid spen...   \n",
       "1485  All the ways the Trump administration is going...   \n",
       "1721  Elon Musk Says Trump’s ‘Big, Beautiful’ Bill ‘...   \n",
       "1372  China is now the biggest debt collector in the...   \n",
       "2625    Has DOGE really saved the US government $180bn?   \n",
       "880   Education Department Budget Request Includes M...   \n",
       "2026  Ethical concerns a barrier to use of AI tools ...   \n",
       "1316  The Brief: The real problem with Weber’s anti-...   \n",
       "\n",
       "                                            description  \\\n",
       "1759  What rotten human beings these MAGats are. Via...   \n",
       "923   Father’s Day’s origins as a national holiday a...   \n",
       "417   The government is struggling to cut the billio...   \n",
       "1485  In seeking to reshape elite universities, the ...   \n",
       "1721  The billionaire presidential adviser said he w...   \n",
       "1372  Developing countries owe billions to China, wh...   \n",
       "2625  Elon Musk first claimed the department would m...   \n",
       "880   The 2026 budget request for the U.S. Departmen...   \n",
       "2026  A new report has revealed that fundraisers hav...   \n",
       "1316  It's time to rethink the role of “civil societ...   \n",
       "\n",
       "                                                   text  \\\n",
       "1759  The mandate that [the USAID negotiator] has be...   \n",
       "923   Fathers Day can sometimes seem like an afterth...   \n",
       "417   The government is struggling to cut the billio...   \n",
       "1485  A federal judge has once again stepped in to b...   \n",
       "1721  Elon Musk, the billionaire tech mogul who had ...   \n",
       "1372  China has dramatically curtailed its lending i...   \n",
       "2625  President Donald Trump and adviser Elon Musk c...   \n",
       "880   Just adding a little flexibility here.\\r\\ngett...   \n",
       "2026  A new report has revealed that fundraisers hav...   \n",
       "1316  Today's edition is powered by The Internationa...   \n",
       "\n",
       "                                                    url          keyword  \\\n",
       "1759  https://crooksandliars.com/2025/06/trump-team-...      USAID money   \n",
       "923   https://time.com/7293189/fathers-day-radical-h...       aid budget   \n",
       "417   https://news.sky.com/story/government-struggle...  foreign aid cut   \n",
       "1485  https://www.npr.org/2025/06/10/nx-s1-5424450/w...    USAID funding   \n",
       "1721  https://time.com/7289045/musk-trump-big-beauti...       Trump cuts   \n",
       "1372  https://www.npr.org/2025/05/28/nx-s1-5413239/c...       Africa aid   \n",
       "2625  https://www.aljazeera.com/news/2025/6/6/has-do...             None   \n",
       "880   https://www.forbes.com/sites/petergreene/2025/...     funding cuts   \n",
       "2026  https://phys.org/news/2025-06-ethical-barrier-...           donors   \n",
       "1316  https://www.euractiv.com/section/politics/opin...      NGO funding   \n",
       "\n",
       "                 published_date          source_file  \n",
       "1759  2025-06-08 19:03:49+00:00  cecilia.newsapi.csv  \n",
       "923   2025-06-13 11:00:00+00:00  cecilia.newsapi.csv  \n",
       "417   2025-06-07 11:25:00+00:00      Agatha_news.csv  \n",
       "1485  2025-06-10 09:00:00+00:00  cecilia.newsapi.csv  \n",
       "1721  2025-05-28 06:00:00+00:00  cecilia.newsapi.csv  \n",
       "1372  2025-05-28 17:23:43+00:00  cecilia.newsapi.csv  \n",
       "2625  2025-06-06 11:21:51+00:00        ruth_news.csv  \n",
       "880   2025-05-31 03:27:22+00:00  cecilia.newsapi.csv  \n",
       "2026  2025-06-23 15:20:03+00:00  cecilia.newsapi.csv  \n",
       "1316  2025-06-19 16:08:20+00:00  cecilia.newsapi.csv  "
      ]
     },
     "execution_count": 16,
     "metadata": {},
     "output_type": "execute_result"
    }
   ],
   "source": [
    "news_combined_df.sample(10)"
   ]
  },
  {
   "cell_type": "code",
   "execution_count": 17,
   "id": "93b5781e",
   "metadata": {},
   "outputs": [
    {
     "data": {
      "text/plain": [
       "title               0\n",
       "description        16\n",
       "text               25\n",
       "url                 2\n",
       "keyword           259\n",
       "published_date     99\n",
       "source_file         0\n",
       "dtype: int64"
      ]
     },
     "execution_count": 17,
     "metadata": {},
     "output_type": "execute_result"
    }
   ],
   "source": [
    "news_combined_df.isna().sum()"
   ]
  },
  {
   "cell_type": "markdown",
   "id": "09724989",
   "metadata": {},
   "source": [
    "## FINAL REDDIT DATA TO BE USED ~ mbego_all_reddit_merged"
   ]
  },
  {
   "cell_type": "code",
   "execution_count": 18,
   "id": "6ca8581b",
   "metadata": {},
   "outputs": [],
   "source": [
    "import pandas as pd\n",
    "import seaborn as sns"
   ]
  },
  {
   "cell_type": "code",
   "execution_count": 19,
   "id": "846c0959",
   "metadata": {},
   "outputs": [
    {
     "data": {
      "text/html": [
       "<div>\n",
       "<style scoped>\n",
       "    .dataframe tbody tr th:only-of-type {\n",
       "        vertical-align: middle;\n",
       "    }\n",
       "\n",
       "    .dataframe tbody tr th {\n",
       "        vertical-align: top;\n",
       "    }\n",
       "\n",
       "    .dataframe thead th {\n",
       "        text-align: right;\n",
       "    }\n",
       "</style>\n",
       "<table border=\"1\" class=\"dataframe\">\n",
       "  <thead>\n",
       "    <tr style=\"text-align: right;\">\n",
       "      <th></th>\n",
       "      <th>title</th>\n",
       "      <th>selftext</th>\n",
       "      <th>subreddit</th>\n",
       "      <th>author</th>\n",
       "      <th>created_utc</th>\n",
       "      <th>created_date</th>\n",
       "      <th>score</th>\n",
       "      <th>num_comments</th>\n",
       "      <th>keyword</th>\n",
       "      <th>search_term</th>\n",
       "      <th>date_posted</th>\n",
       "      <th>upvotes</th>\n",
       "      <th>comments</th>\n",
       "      <th>url</th>\n",
       "      <th>permalink</th>\n",
       "    </tr>\n",
       "  </thead>\n",
       "  <tbody>\n",
       "    <tr>\n",
       "      <th>0</th>\n",
       "      <td>USAID left a month ago, do we have ARVs in Kenya?</td>\n",
       "      <td>Someone on a different group (different websit...</td>\n",
       "      <td>Kenya</td>\n",
       "      <td>muerki</td>\n",
       "      <td>4/15/2025 13:16</td>\n",
       "      <td>NaN</td>\n",
       "      <td>3.0</td>\n",
       "      <td>5.0</td>\n",
       "      <td>usaid kenya</td>\n",
       "      <td>NaN</td>\n",
       "      <td>NaN</td>\n",
       "      <td>NaN</td>\n",
       "      <td>NaN</td>\n",
       "      <td>https://www.reddit.com/r/Kenya/comments/1jzrn2...</td>\n",
       "      <td>NaN</td>\n",
       "    </tr>\n",
       "    <tr>\n",
       "      <th>1</th>\n",
       "      <td>Classism in r/Kenya and r/nairobi</td>\n",
       "      <td>The classism I'm seeing in both subs is a good...</td>\n",
       "      <td>Kenya</td>\n",
       "      <td>Morio_anzenza</td>\n",
       "      <td>4/7/2025 4:21</td>\n",
       "      <td>NaN</td>\n",
       "      <td>169.0</td>\n",
       "      <td>95.0</td>\n",
       "      <td>usaid kenya</td>\n",
       "      <td>NaN</td>\n",
       "      <td>NaN</td>\n",
       "      <td>NaN</td>\n",
       "      <td>NaN</td>\n",
       "      <td>https://www.reddit.com/r/Kenya/comments/1jtcvb...</td>\n",
       "      <td>NaN</td>\n",
       "    </tr>\n",
       "    <tr>\n",
       "      <th>2</th>\n",
       "      <td>EX-USAID people!! Let's talk</td>\n",
       "      <td>Are you still in contact with the organisation...</td>\n",
       "      <td>Kenya</td>\n",
       "      <td>vindtar</td>\n",
       "      <td>4/5/2025 19:09</td>\n",
       "      <td>NaN</td>\n",
       "      <td>2.0</td>\n",
       "      <td>2.0</td>\n",
       "      <td>usaid kenya</td>\n",
       "      <td>NaN</td>\n",
       "      <td>NaN</td>\n",
       "      <td>NaN</td>\n",
       "      <td>NaN</td>\n",
       "      <td>https://www.reddit.com/r/Kenya/comments/1jsb14...</td>\n",
       "      <td>NaN</td>\n",
       "    </tr>\n",
       "    <tr>\n",
       "      <th>3</th>\n",
       "      <td>Why western powers back Israel no matter what ...</td>\n",
       "      <td>I don't care what good book you read, but it's...</td>\n",
       "      <td>Kenya</td>\n",
       "      <td>Gold_Smart</td>\n",
       "      <td>3/25/2025 8:18</td>\n",
       "      <td>NaN</td>\n",
       "      <td>13.0</td>\n",
       "      <td>20.0</td>\n",
       "      <td>usaid kenya</td>\n",
       "      <td>NaN</td>\n",
       "      <td>NaN</td>\n",
       "      <td>NaN</td>\n",
       "      <td>NaN</td>\n",
       "      <td>https://www.reddit.com/r/Kenya/comments/1jjehw...</td>\n",
       "      <td>NaN</td>\n",
       "    </tr>\n",
       "    <tr>\n",
       "      <th>4</th>\n",
       "      <td>Is kenya capable of funding its needs now that...</td>\n",
       "      <td>How is kenya prepared to fill the vacuum of US...</td>\n",
       "      <td>Kenya</td>\n",
       "      <td>westmaxia</td>\n",
       "      <td>3/8/2025 8:08</td>\n",
       "      <td>NaN</td>\n",
       "      <td>1.0</td>\n",
       "      <td>6.0</td>\n",
       "      <td>usaid kenya</td>\n",
       "      <td>NaN</td>\n",
       "      <td>NaN</td>\n",
       "      <td>NaN</td>\n",
       "      <td>NaN</td>\n",
       "      <td>https://www.reddit.com/r/Kenya/comments/1j6cjz...</td>\n",
       "      <td>NaN</td>\n",
       "    </tr>\n",
       "  </tbody>\n",
       "</table>\n",
       "</div>"
      ],
      "text/plain": [
       "                                               title  \\\n",
       "0  USAID left a month ago, do we have ARVs in Kenya?   \n",
       "1                  Classism in r/Kenya and r/nairobi   \n",
       "2                       EX-USAID people!! Let's talk   \n",
       "3  Why western powers back Israel no matter what ...   \n",
       "4  Is kenya capable of funding its needs now that...   \n",
       "\n",
       "                                            selftext subreddit         author  \\\n",
       "0  Someone on a different group (different websit...     Kenya         muerki   \n",
       "1  The classism I'm seeing in both subs is a good...     Kenya  Morio_anzenza   \n",
       "2  Are you still in contact with the organisation...     Kenya        vindtar   \n",
       "3  I don't care what good book you read, but it's...     Kenya     Gold_Smart   \n",
       "4  How is kenya prepared to fill the vacuum of US...     Kenya      westmaxia   \n",
       "\n",
       "       created_utc created_date  score  num_comments      keyword search_term  \\\n",
       "0  4/15/2025 13:16          NaN    3.0           5.0  usaid kenya         NaN   \n",
       "1    4/7/2025 4:21          NaN  169.0          95.0  usaid kenya         NaN   \n",
       "2   4/5/2025 19:09          NaN    2.0           2.0  usaid kenya         NaN   \n",
       "3   3/25/2025 8:18          NaN   13.0          20.0  usaid kenya         NaN   \n",
       "4    3/8/2025 8:08          NaN    1.0           6.0  usaid kenya         NaN   \n",
       "\n",
       "   date_posted  upvotes  comments  \\\n",
       "0          NaN      NaN       NaN   \n",
       "1          NaN      NaN       NaN   \n",
       "2          NaN      NaN       NaN   \n",
       "3          NaN      NaN       NaN   \n",
       "4          NaN      NaN       NaN   \n",
       "\n",
       "                                                 url permalink  \n",
       "0  https://www.reddit.com/r/Kenya/comments/1jzrn2...       NaN  \n",
       "1  https://www.reddit.com/r/Kenya/comments/1jtcvb...       NaN  \n",
       "2  https://www.reddit.com/r/Kenya/comments/1jsb14...       NaN  \n",
       "3  https://www.reddit.com/r/Kenya/comments/1jjehw...       NaN  \n",
       "4  https://www.reddit.com/r/Kenya/comments/1j6cjz...       NaN  "
      ]
     },
     "execution_count": 19,
     "metadata": {},
     "output_type": "execute_result"
    }
   ],
   "source": [
    "reddit_df = pd.read_csv('C:/Users/hp/Desktop/USAID backuppp for me/mbego_all_reddit_merged.csv')\n",
    "reddit_df.head()"
   ]
  },
  {
   "cell_type": "code",
   "execution_count": 20,
   "id": "bb901bb4",
   "metadata": {},
   "outputs": [
    {
     "data": {
      "text/html": [
       "<div>\n",
       "<style scoped>\n",
       "    .dataframe tbody tr th:only-of-type {\n",
       "        vertical-align: middle;\n",
       "    }\n",
       "\n",
       "    .dataframe tbody tr th {\n",
       "        vertical-align: top;\n",
       "    }\n",
       "\n",
       "    .dataframe thead th {\n",
       "        text-align: right;\n",
       "    }\n",
       "</style>\n",
       "<table border=\"1\" class=\"dataframe\">\n",
       "  <thead>\n",
       "    <tr style=\"text-align: right;\">\n",
       "      <th></th>\n",
       "      <th>title</th>\n",
       "      <th>selftext</th>\n",
       "      <th>subreddit</th>\n",
       "      <th>author</th>\n",
       "      <th>created_utc</th>\n",
       "      <th>created_date</th>\n",
       "      <th>score</th>\n",
       "      <th>num_comments</th>\n",
       "      <th>keyword</th>\n",
       "      <th>search_term</th>\n",
       "      <th>date_posted</th>\n",
       "      <th>upvotes</th>\n",
       "      <th>comments</th>\n",
       "      <th>url</th>\n",
       "      <th>permalink</th>\n",
       "    </tr>\n",
       "  </thead>\n",
       "  <tbody>\n",
       "    <tr>\n",
       "      <th>1284</th>\n",
       "      <td>Weekly Sub-Saharan Africa Security Situation a...</td>\n",
       "      <td>#Somalia 🇸🇴\\r\\n#Sudan 🇸🇩\\r\\nDemocratic Republi...</td>\n",
       "      <td>Africa</td>\n",
       "      <td>NaN</td>\n",
       "      <td>4/18/2025 14:09</td>\n",
       "      <td>NaN</td>\n",
       "      <td>3.0</td>\n",
       "      <td>2.0</td>\n",
       "      <td>NaN</td>\n",
       "      <td>NaN</td>\n",
       "      <td>NaN</td>\n",
       "      <td>NaN</td>\n",
       "      <td>NaN</td>\n",
       "      <td>https://open.substack.com/pub/hasretkargin/p/w...</td>\n",
       "      <td>NaN</td>\n",
       "    </tr>\n",
       "    <tr>\n",
       "      <th>1285</th>\n",
       "      <td>No evidence that Burkina Faso paid off all its...</td>\n",
       "      <td>NaN</td>\n",
       "      <td>Africa</td>\n",
       "      <td>NaN</td>\n",
       "      <td>4/18/2025 8:23</td>\n",
       "      <td>NaN</td>\n",
       "      <td>52.0</td>\n",
       "      <td>25.0</td>\n",
       "      <td>NaN</td>\n",
       "      <td>NaN</td>\n",
       "      <td>NaN</td>\n",
       "      <td>NaN</td>\n",
       "      <td>NaN</td>\n",
       "      <td>https://www.reuters.com/fact-check/burkina-fas...</td>\n",
       "      <td>NaN</td>\n",
       "    </tr>\n",
       "    <tr>\n",
       "      <th>1286</th>\n",
       "      <td>Ghana orders foreigners to exit gold market by...</td>\n",
       "      <td>Ghana has ordered foreigners to exit its gold ...</td>\n",
       "      <td>Africa</td>\n",
       "      <td>NaN</td>\n",
       "      <td>4/17/2025 17:59</td>\n",
       "      <td>NaN</td>\n",
       "      <td>101.0</td>\n",
       "      <td>12.0</td>\n",
       "      <td>NaN</td>\n",
       "      <td>NaN</td>\n",
       "      <td>NaN</td>\n",
       "      <td>NaN</td>\n",
       "      <td>NaN</td>\n",
       "      <td>https://eastleighvoice.co.ke/west%20african/13...</td>\n",
       "      <td>NaN</td>\n",
       "    </tr>\n",
       "    <tr>\n",
       "      <th>1287</th>\n",
       "      <td>Unending Frustration Regarding Sudan War.</td>\n",
       "      <td>https://www.reuters.com/world/britain-boosts-a...</td>\n",
       "      <td>Africa</td>\n",
       "      <td>NaN</td>\n",
       "      <td>4/16/2025 19:33</td>\n",
       "      <td>NaN</td>\n",
       "      <td>11.0</td>\n",
       "      <td>8.0</td>\n",
       "      <td>NaN</td>\n",
       "      <td>NaN</td>\n",
       "      <td>NaN</td>\n",
       "      <td>NaN</td>\n",
       "      <td>NaN</td>\n",
       "      <td>https://www.reddit.com/gallery/1k0t8ed</td>\n",
       "      <td>NaN</td>\n",
       "    </tr>\n",
       "    <tr>\n",
       "      <th>1288</th>\n",
       "      <td>Tanzania's Authoritarian Government Has Just B...</td>\n",
       "      <td>Tanzania's main opposition party has been barr...</td>\n",
       "      <td>Africa</td>\n",
       "      <td>NaN</td>\n",
       "      <td>4/14/2025 11:31</td>\n",
       "      <td>NaN</td>\n",
       "      <td>52.0</td>\n",
       "      <td>14.0</td>\n",
       "      <td>NaN</td>\n",
       "      <td>NaN</td>\n",
       "      <td>NaN</td>\n",
       "      <td>NaN</td>\n",
       "      <td>NaN</td>\n",
       "      <td>https://www.reddit.com/r/Africa/comments/1jywl...</td>\n",
       "      <td>NaN</td>\n",
       "    </tr>\n",
       "  </tbody>\n",
       "</table>\n",
       "</div>"
      ],
      "text/plain": [
       "                                                  title  \\\n",
       "1284  Weekly Sub-Saharan Africa Security Situation a...   \n",
       "1285  No evidence that Burkina Faso paid off all its...   \n",
       "1286  Ghana orders foreigners to exit gold market by...   \n",
       "1287          Unending Frustration Regarding Sudan War.   \n",
       "1288  Tanzania's Authoritarian Government Has Just B...   \n",
       "\n",
       "                                               selftext subreddit author  \\\n",
       "1284  #Somalia 🇸🇴\\r\\n#Sudan 🇸🇩\\r\\nDemocratic Republi...    Africa    NaN   \n",
       "1285                                                NaN    Africa    NaN   \n",
       "1286  Ghana has ordered foreigners to exit its gold ...    Africa    NaN   \n",
       "1287  https://www.reuters.com/world/britain-boosts-a...    Africa    NaN   \n",
       "1288  Tanzania's main opposition party has been barr...    Africa    NaN   \n",
       "\n",
       "          created_utc created_date  score  num_comments keyword search_term  \\\n",
       "1284  4/18/2025 14:09          NaN    3.0           2.0     NaN         NaN   \n",
       "1285   4/18/2025 8:23          NaN   52.0          25.0     NaN         NaN   \n",
       "1286  4/17/2025 17:59          NaN  101.0          12.0     NaN         NaN   \n",
       "1287  4/16/2025 19:33          NaN   11.0           8.0     NaN         NaN   \n",
       "1288  4/14/2025 11:31          NaN   52.0          14.0     NaN         NaN   \n",
       "\n",
       "      date_posted  upvotes  comments  \\\n",
       "1284          NaN      NaN       NaN   \n",
       "1285          NaN      NaN       NaN   \n",
       "1286          NaN      NaN       NaN   \n",
       "1287          NaN      NaN       NaN   \n",
       "1288          NaN      NaN       NaN   \n",
       "\n",
       "                                                    url permalink  \n",
       "1284  https://open.substack.com/pub/hasretkargin/p/w...       NaN  \n",
       "1285  https://www.reuters.com/fact-check/burkina-fas...       NaN  \n",
       "1286  https://eastleighvoice.co.ke/west%20african/13...       NaN  \n",
       "1287             https://www.reddit.com/gallery/1k0t8ed       NaN  \n",
       "1288  https://www.reddit.com/r/Africa/comments/1jywl...       NaN  "
      ]
     },
     "execution_count": 20,
     "metadata": {},
     "output_type": "execute_result"
    }
   ],
   "source": [
    "reddit_df.tail()"
   ]
  },
  {
   "cell_type": "code",
   "execution_count": 21,
   "id": "6ad45f63",
   "metadata": {},
   "outputs": [
    {
     "name": "stdout",
     "output_type": "stream",
     "text": [
      "<class 'pandas.core.frame.DataFrame'>\n",
      "RangeIndex: 1289 entries, 0 to 1288\n",
      "Data columns (total 15 columns):\n",
      " #   Column        Non-Null Count  Dtype  \n",
      "---  ------        --------------  -----  \n",
      " 0   title         1289 non-null   object \n",
      " 1   selftext      901 non-null    object \n",
      " 2   subreddit     1289 non-null   object \n",
      " 3   author        466 non-null    object \n",
      " 4   created_utc   1289 non-null   object \n",
      " 5   created_date  150 non-null    object \n",
      " 6   score         1013 non-null   float64\n",
      " 7   num_comments  833 non-null    float64\n",
      " 8   keyword       742 non-null    object \n",
      " 9   search_term   150 non-null    object \n",
      " 10  date_posted   0 non-null      float64\n",
      " 11  upvotes       276 non-null    float64\n",
      " 12  comments      276 non-null    float64\n",
      " 13  url           1289 non-null   object \n",
      " 14  permalink     426 non-null    object \n",
      "dtypes: float64(5), object(10)\n",
      "memory usage: 151.2+ KB\n"
     ]
    }
   ],
   "source": [
    "reddit_df.info()"
   ]
  },
  {
   "cell_type": "code",
   "execution_count": 22,
   "id": "b7fe73d5",
   "metadata": {},
   "outputs": [
    {
     "data": {
      "text/plain": [
       "(1289, 15)"
      ]
     },
     "execution_count": 22,
     "metadata": {},
     "output_type": "execute_result"
    }
   ],
   "source": [
    "reddit_df.shape"
   ]
  },
  {
   "cell_type": "code",
   "execution_count": 23,
   "id": "a727ec60",
   "metadata": {},
   "outputs": [
    {
     "data": {
      "text/plain": [
       "Index(['title', 'selftext', 'subreddit', 'author', 'created_utc',\n",
       "       'created_date', 'score', 'num_comments', 'keyword', 'search_term',\n",
       "       'date_posted', 'upvotes', 'comments', 'url', 'permalink'],\n",
       "      dtype='object')"
      ]
     },
     "execution_count": 23,
     "metadata": {},
     "output_type": "execute_result"
    }
   ],
   "source": [
    "reddit_df.columns"
   ]
  },
  {
   "cell_type": "code",
   "execution_count": 24,
   "id": "30f65492",
   "metadata": {},
   "outputs": [
    {
     "data": {
      "text/plain": [
       "title            object\n",
       "selftext         object\n",
       "subreddit        object\n",
       "author           object\n",
       "created_utc      object\n",
       "created_date     object\n",
       "score           float64\n",
       "num_comments    float64\n",
       "keyword          object\n",
       "search_term      object\n",
       "date_posted     float64\n",
       "upvotes         float64\n",
       "comments        float64\n",
       "url              object\n",
       "permalink        object\n",
       "dtype: object"
      ]
     },
     "execution_count": 24,
     "metadata": {},
     "output_type": "execute_result"
    }
   ],
   "source": [
    "reddit_df.dtypes"
   ]
  },
  {
   "cell_type": "code",
   "execution_count": 25,
   "id": "60c5141b",
   "metadata": {},
   "outputs": [
    {
     "data": {
      "text/plain": [
       "title              0\n",
       "selftext         388\n",
       "subreddit          0\n",
       "author           823\n",
       "created_utc        0\n",
       "created_date    1139\n",
       "score            276\n",
       "num_comments     456\n",
       "keyword          547\n",
       "search_term     1139\n",
       "date_posted     1289\n",
       "upvotes         1013\n",
       "comments        1013\n",
       "url                0\n",
       "permalink        863\n",
       "dtype: int64"
      ]
     },
     "execution_count": 25,
     "metadata": {},
     "output_type": "execute_result"
    }
   ],
   "source": [
    "reddit_df.isna().sum()"
   ]
  },
  {
   "cell_type": "code",
   "execution_count": 26,
   "id": "f73a4f2a",
   "metadata": {},
   "outputs": [
    {
     "data": {
      "text/html": [
       "<div>\n",
       "<style scoped>\n",
       "    .dataframe tbody tr th:only-of-type {\n",
       "        vertical-align: middle;\n",
       "    }\n",
       "\n",
       "    .dataframe tbody tr th {\n",
       "        vertical-align: top;\n",
       "    }\n",
       "\n",
       "    .dataframe thead th {\n",
       "        text-align: right;\n",
       "    }\n",
       "</style>\n",
       "<table border=\"1\" class=\"dataframe\">\n",
       "  <thead>\n",
       "    <tr style=\"text-align: right;\">\n",
       "      <th></th>\n",
       "      <th>score</th>\n",
       "      <th>num_comments</th>\n",
       "      <th>date_posted</th>\n",
       "      <th>upvotes</th>\n",
       "      <th>comments</th>\n",
       "    </tr>\n",
       "  </thead>\n",
       "  <tbody>\n",
       "    <tr>\n",
       "      <th>count</th>\n",
       "      <td>1013.000000</td>\n",
       "      <td>833.000000</td>\n",
       "      <td>0.0</td>\n",
       "      <td>276.000000</td>\n",
       "      <td>276.000000</td>\n",
       "    </tr>\n",
       "    <tr>\n",
       "      <th>mean</th>\n",
       "      <td>344.626851</td>\n",
       "      <td>31.349340</td>\n",
       "      <td>NaN</td>\n",
       "      <td>337.518116</td>\n",
       "      <td>35.905797</td>\n",
       "    </tr>\n",
       "    <tr>\n",
       "      <th>std</th>\n",
       "      <td>3106.309319</td>\n",
       "      <td>68.060435</td>\n",
       "      <td>NaN</td>\n",
       "      <td>1623.914761</td>\n",
       "      <td>73.531775</td>\n",
       "    </tr>\n",
       "    <tr>\n",
       "      <th>min</th>\n",
       "      <td>0.000000</td>\n",
       "      <td>0.000000</td>\n",
       "      <td>NaN</td>\n",
       "      <td>0.000000</td>\n",
       "      <td>0.000000</td>\n",
       "    </tr>\n",
       "    <tr>\n",
       "      <th>25%</th>\n",
       "      <td>3.000000</td>\n",
       "      <td>4.000000</td>\n",
       "      <td>NaN</td>\n",
       "      <td>6.750000</td>\n",
       "      <td>5.000000</td>\n",
       "    </tr>\n",
       "    <tr>\n",
       "      <th>50%</th>\n",
       "      <td>10.000000</td>\n",
       "      <td>9.000000</td>\n",
       "      <td>NaN</td>\n",
       "      <td>43.500000</td>\n",
       "      <td>13.000000</td>\n",
       "    </tr>\n",
       "    <tr>\n",
       "      <th>75%</th>\n",
       "      <td>54.000000</td>\n",
       "      <td>31.000000</td>\n",
       "      <td>NaN</td>\n",
       "      <td>111.250000</td>\n",
       "      <td>31.250000</td>\n",
       "    </tr>\n",
       "    <tr>\n",
       "      <th>max</th>\n",
       "      <td>79088.000000</td>\n",
       "      <td>706.000000</td>\n",
       "      <td>NaN</td>\n",
       "      <td>22208.000000</td>\n",
       "      <td>558.000000</td>\n",
       "    </tr>\n",
       "  </tbody>\n",
       "</table>\n",
       "</div>"
      ],
      "text/plain": [
       "              score  num_comments  date_posted       upvotes    comments\n",
       "count   1013.000000    833.000000          0.0    276.000000  276.000000\n",
       "mean     344.626851     31.349340          NaN    337.518116   35.905797\n",
       "std     3106.309319     68.060435          NaN   1623.914761   73.531775\n",
       "min        0.000000      0.000000          NaN      0.000000    0.000000\n",
       "25%        3.000000      4.000000          NaN      6.750000    5.000000\n",
       "50%       10.000000      9.000000          NaN     43.500000   13.000000\n",
       "75%       54.000000     31.000000          NaN    111.250000   31.250000\n",
       "max    79088.000000    706.000000          NaN  22208.000000  558.000000"
      ]
     },
     "execution_count": 26,
     "metadata": {},
     "output_type": "execute_result"
    }
   ],
   "source": [
    "reddit_df.describe()"
   ]
  },
  {
   "cell_type": "markdown",
   "id": "9dd4cbe8",
   "metadata": {},
   "source": [
    "## Data Cleaning"
   ]
  },
  {
   "cell_type": "markdown",
   "id": "9c842aff",
   "metadata": {},
   "source": [
    "### Dropping Unneccessary Columns"
   ]
  },
  {
   "cell_type": "code",
   "execution_count": 27,
   "id": "9d728b90",
   "metadata": {},
   "outputs": [
    {
     "data": {
      "text/html": [
       "<div>\n",
       "<style scoped>\n",
       "    .dataframe tbody tr th:only-of-type {\n",
       "        vertical-align: middle;\n",
       "    }\n",
       "\n",
       "    .dataframe tbody tr th {\n",
       "        vertical-align: top;\n",
       "    }\n",
       "\n",
       "    .dataframe thead th {\n",
       "        text-align: right;\n",
       "    }\n",
       "</style>\n",
       "<table border=\"1\" class=\"dataframe\">\n",
       "  <thead>\n",
       "    <tr style=\"text-align: right;\">\n",
       "      <th></th>\n",
       "      <th>title</th>\n",
       "      <th>selftext</th>\n",
       "      <th>created_utc</th>\n",
       "      <th>keyword</th>\n",
       "      <th>url</th>\n",
       "    </tr>\n",
       "  </thead>\n",
       "  <tbody>\n",
       "    <tr>\n",
       "      <th>0</th>\n",
       "      <td>USAID left a month ago, do we have ARVs in Kenya?</td>\n",
       "      <td>Someone on a different group (different websit...</td>\n",
       "      <td>4/15/2025 13:16</td>\n",
       "      <td>usaid kenya</td>\n",
       "      <td>https://www.reddit.com/r/Kenya/comments/1jzrn2...</td>\n",
       "    </tr>\n",
       "    <tr>\n",
       "      <th>1</th>\n",
       "      <td>Classism in r/Kenya and r/nairobi</td>\n",
       "      <td>The classism I'm seeing in both subs is a good...</td>\n",
       "      <td>4/7/2025 4:21</td>\n",
       "      <td>usaid kenya</td>\n",
       "      <td>https://www.reddit.com/r/Kenya/comments/1jtcvb...</td>\n",
       "    </tr>\n",
       "    <tr>\n",
       "      <th>2</th>\n",
       "      <td>EX-USAID people!! Let's talk</td>\n",
       "      <td>Are you still in contact with the organisation...</td>\n",
       "      <td>4/5/2025 19:09</td>\n",
       "      <td>usaid kenya</td>\n",
       "      <td>https://www.reddit.com/r/Kenya/comments/1jsb14...</td>\n",
       "    </tr>\n",
       "    <tr>\n",
       "      <th>3</th>\n",
       "      <td>Why western powers back Israel no matter what ...</td>\n",
       "      <td>I don't care what good book you read, but it's...</td>\n",
       "      <td>3/25/2025 8:18</td>\n",
       "      <td>usaid kenya</td>\n",
       "      <td>https://www.reddit.com/r/Kenya/comments/1jjehw...</td>\n",
       "    </tr>\n",
       "    <tr>\n",
       "      <th>4</th>\n",
       "      <td>Is kenya capable of funding its needs now that...</td>\n",
       "      <td>How is kenya prepared to fill the vacuum of US...</td>\n",
       "      <td>3/8/2025 8:08</td>\n",
       "      <td>usaid kenya</td>\n",
       "      <td>https://www.reddit.com/r/Kenya/comments/1j6cjz...</td>\n",
       "    </tr>\n",
       "  </tbody>\n",
       "</table>\n",
       "</div>"
      ],
      "text/plain": [
       "                                               title  \\\n",
       "0  USAID left a month ago, do we have ARVs in Kenya?   \n",
       "1                  Classism in r/Kenya and r/nairobi   \n",
       "2                       EX-USAID people!! Let's talk   \n",
       "3  Why western powers back Israel no matter what ...   \n",
       "4  Is kenya capable of funding its needs now that...   \n",
       "\n",
       "                                            selftext      created_utc  \\\n",
       "0  Someone on a different group (different websit...  4/15/2025 13:16   \n",
       "1  The classism I'm seeing in both subs is a good...    4/7/2025 4:21   \n",
       "2  Are you still in contact with the organisation...   4/5/2025 19:09   \n",
       "3  I don't care what good book you read, but it's...   3/25/2025 8:18   \n",
       "4  How is kenya prepared to fill the vacuum of US...    3/8/2025 8:08   \n",
       "\n",
       "       keyword                                                url  \n",
       "0  usaid kenya  https://www.reddit.com/r/Kenya/comments/1jzrn2...  \n",
       "1  usaid kenya  https://www.reddit.com/r/Kenya/comments/1jtcvb...  \n",
       "2  usaid kenya  https://www.reddit.com/r/Kenya/comments/1jsb14...  \n",
       "3  usaid kenya  https://www.reddit.com/r/Kenya/comments/1jjehw...  \n",
       "4  usaid kenya  https://www.reddit.com/r/Kenya/comments/1j6cjz...  "
      ]
     },
     "execution_count": 27,
     "metadata": {},
     "output_type": "execute_result"
    }
   ],
   "source": [
    "reddit_df.drop(columns=['subreddit', 'author','created_date','score','num_comments','search_term','date_posted','upvotes','comments','permalink'], inplace=True)\n",
    "reddit_df.head()"
   ]
  },
  {
   "cell_type": "code",
   "execution_count": 28,
   "id": "b3a0c1d9",
   "metadata": {},
   "outputs": [
    {
     "data": {
      "text/plain": [
       "Index(['title', 'selftext', 'created_utc', 'keyword', 'url'], dtype='object')"
      ]
     },
     "execution_count": 28,
     "metadata": {},
     "output_type": "execute_result"
    }
   ],
   "source": [
    "reddit_df.columns"
   ]
  },
  {
   "cell_type": "markdown",
   "id": "7d1439e1",
   "metadata": {},
   "source": [
    "### Checking for missing values"
   ]
  },
  {
   "cell_type": "code",
   "execution_count": 29,
   "id": "6bb35394",
   "metadata": {},
   "outputs": [
    {
     "data": {
      "text/plain": [
       "title            0\n",
       "selftext       388\n",
       "created_utc      0\n",
       "keyword        547\n",
       "url              0\n",
       "dtype: int64"
      ]
     },
     "execution_count": 29,
     "metadata": {},
     "output_type": "execute_result"
    }
   ],
   "source": [
    "reddit_df.isna().sum()"
   ]
  },
  {
   "cell_type": "code",
   "execution_count": 30,
   "id": "b079ba9e",
   "metadata": {},
   "outputs": [
    {
     "data": {
      "text/html": [
       "<div>\n",
       "<style scoped>\n",
       "    .dataframe tbody tr th:only-of-type {\n",
       "        vertical-align: middle;\n",
       "    }\n",
       "\n",
       "    .dataframe tbody tr th {\n",
       "        vertical-align: top;\n",
       "    }\n",
       "\n",
       "    .dataframe thead th {\n",
       "        text-align: right;\n",
       "    }\n",
       "</style>\n",
       "<table border=\"1\" class=\"dataframe\">\n",
       "  <thead>\n",
       "    <tr style=\"text-align: right;\">\n",
       "      <th></th>\n",
       "      <th>selftext</th>\n",
       "      <th>title</th>\n",
       "      <th>url</th>\n",
       "    </tr>\n",
       "  </thead>\n",
       "  <tbody>\n",
       "    <tr>\n",
       "      <th>575</th>\n",
       "      <td>This is the message we need to get out to ever...</td>\n",
       "      <td>In 2017, 120 former US military leaders sent a...</td>\n",
       "      <td>http://www.usglc.org/downloads/2017/02/FY18_In...</td>\n",
       "    </tr>\n",
       "    <tr>\n",
       "      <th>1048</th>\n",
       "      <td>NaN</td>\n",
       "      <td>Hong Kong's last major pro-democracy party mov...</td>\n",
       "      <td>https://www.reuters.com/world/china/hong-kongs...</td>\n",
       "    </tr>\n",
       "    <tr>\n",
       "      <th>762</th>\n",
       "      <td>CALL ME WHATEVER YOU WANT, BUT HERE'S THE BARE...</td>\n",
       "      <td>Like It or Not, Here's Why Ruto Will Win in 20...</td>\n",
       "      <td>https://www.reddit.com/r/Kenya/comments/1k3ijd...</td>\n",
       "    </tr>\n",
       "    <tr>\n",
       "      <th>11</th>\n",
       "      <td>For the experts in matters economy and finance...</td>\n",
       "      <td>Economy</td>\n",
       "      <td>https://www.reddit.com/r/Kenya/comments/1jsyty...</td>\n",
       "    </tr>\n",
       "    <tr>\n",
       "      <th>386</th>\n",
       "      <td>Since America has decided to go back to being ...</td>\n",
       "      <td>Marshall Plan Equivalent</td>\n",
       "      <td>https://www.reddit.com/r/Africa/comments/1jx7y...</td>\n",
       "    </tr>\n",
       "    <tr>\n",
       "      <th>980</th>\n",
       "      <td>NaN</td>\n",
       "      <td>UK hoping to work with China to counteract Tru...</td>\n",
       "      <td>https://www.theguardian.com/environment/2025/m...</td>\n",
       "    </tr>\n",
       "    <tr>\n",
       "      <th>1090</th>\n",
       "      <td>Kenyans, it’s time to quit Jaba or Khat (Miraa...</td>\n",
       "      <td>Jaba, Khat, Miraa, Muguka, Qat, it’s time to q...</td>\n",
       "      <td>https://www.reddit.com/gallery/1leqfhr</td>\n",
       "    </tr>\n",
       "    <tr>\n",
       "      <th>1235</th>\n",
       "      <td>I’ve been thinking about something deeply pers...</td>\n",
       "      <td>Why are Black boys still being forced to cut t...</td>\n",
       "      <td>https://www.reddit.com/r/Africa/comments/1ksxl...</td>\n",
       "    </tr>\n",
       "    <tr>\n",
       "      <th>655</th>\n",
       "      <td>NaN</td>\n",
       "      <td>Judge again orders US to unfreeze foreign aid,...</td>\n",
       "      <td>https://www.reuters.com/world/us/judge-again-o...</td>\n",
       "    </tr>\n",
       "    <tr>\n",
       "      <th>143</th>\n",
       "      <td>Hi everyone,    \\r\\nI'm a US citizen currently...</td>\n",
       "      <td>Advice Needed: Issue with Scrap Metal Trader i...</td>\n",
       "      <td>https://www.reddit.com/r/Kenya/comments/1kfbkt...</td>\n",
       "    </tr>\n",
       "  </tbody>\n",
       "</table>\n",
       "</div>"
      ],
      "text/plain": [
       "                                               selftext  \\\n",
       "575   This is the message we need to get out to ever...   \n",
       "1048                                                NaN   \n",
       "762   CALL ME WHATEVER YOU WANT, BUT HERE'S THE BARE...   \n",
       "11    For the experts in matters economy and finance...   \n",
       "386   Since America has decided to go back to being ...   \n",
       "980                                                 NaN   \n",
       "1090  Kenyans, it’s time to quit Jaba or Khat (Miraa...   \n",
       "1235  I’ve been thinking about something deeply pers...   \n",
       "655                                                 NaN   \n",
       "143   Hi everyone,    \\r\\nI'm a US citizen currently...   \n",
       "\n",
       "                                                  title  \\\n",
       "575   In 2017, 120 former US military leaders sent a...   \n",
       "1048  Hong Kong's last major pro-democracy party mov...   \n",
       "762   Like It or Not, Here's Why Ruto Will Win in 20...   \n",
       "11                                              Economy   \n",
       "386                            Marshall Plan Equivalent   \n",
       "980   UK hoping to work with China to counteract Tru...   \n",
       "1090  Jaba, Khat, Miraa, Muguka, Qat, it’s time to q...   \n",
       "1235  Why are Black boys still being forced to cut t...   \n",
       "655   Judge again orders US to unfreeze foreign aid,...   \n",
       "143   Advice Needed: Issue with Scrap Metal Trader i...   \n",
       "\n",
       "                                                    url  \n",
       "575   http://www.usglc.org/downloads/2017/02/FY18_In...  \n",
       "1048  https://www.reuters.com/world/china/hong-kongs...  \n",
       "762   https://www.reddit.com/r/Kenya/comments/1k3ijd...  \n",
       "11    https://www.reddit.com/r/Kenya/comments/1jsyty...  \n",
       "386   https://www.reddit.com/r/Africa/comments/1jx7y...  \n",
       "980   https://www.theguardian.com/environment/2025/m...  \n",
       "1090             https://www.reddit.com/gallery/1leqfhr  \n",
       "1235  https://www.reddit.com/r/Africa/comments/1ksxl...  \n",
       "655   https://www.reuters.com/world/us/judge-again-o...  \n",
       "143   https://www.reddit.com/r/Kenya/comments/1kfbkt...  "
      ]
     },
     "execution_count": 30,
     "metadata": {},
     "output_type": "execute_result"
    }
   ],
   "source": [
    "reddit_df[['selftext', 'title','url']].sample(10)"
   ]
  },
  {
   "cell_type": "code",
   "execution_count": 31,
   "id": "adc2b2a7",
   "metadata": {},
   "outputs": [
    {
     "data": {
      "text/html": [
       "<div>\n",
       "<style scoped>\n",
       "    .dataframe tbody tr th:only-of-type {\n",
       "        vertical-align: middle;\n",
       "    }\n",
       "\n",
       "    .dataframe tbody tr th {\n",
       "        vertical-align: top;\n",
       "    }\n",
       "\n",
       "    .dataframe thead th {\n",
       "        text-align: right;\n",
       "    }\n",
       "</style>\n",
       "<table border=\"1\" class=\"dataframe\">\n",
       "  <thead>\n",
       "    <tr style=\"text-align: right;\">\n",
       "      <th></th>\n",
       "      <th>post_title</th>\n",
       "      <th>text</th>\n",
       "      <th>published_date</th>\n",
       "      <th>keyword</th>\n",
       "      <th>url</th>\n",
       "    </tr>\n",
       "  </thead>\n",
       "  <tbody>\n",
       "    <tr>\n",
       "      <th>0</th>\n",
       "      <td>USAID left a month ago, do we have ARVs in Kenya?</td>\n",
       "      <td>Someone on a different group (different websit...</td>\n",
       "      <td>4/15/2025 13:16</td>\n",
       "      <td>usaid kenya</td>\n",
       "      <td>https://www.reddit.com/r/Kenya/comments/1jzrn2...</td>\n",
       "    </tr>\n",
       "    <tr>\n",
       "      <th>1</th>\n",
       "      <td>Classism in r/Kenya and r/nairobi</td>\n",
       "      <td>The classism I'm seeing in both subs is a good...</td>\n",
       "      <td>4/7/2025 4:21</td>\n",
       "      <td>usaid kenya</td>\n",
       "      <td>https://www.reddit.com/r/Kenya/comments/1jtcvb...</td>\n",
       "    </tr>\n",
       "    <tr>\n",
       "      <th>2</th>\n",
       "      <td>EX-USAID people!! Let's talk</td>\n",
       "      <td>Are you still in contact with the organisation...</td>\n",
       "      <td>4/5/2025 19:09</td>\n",
       "      <td>usaid kenya</td>\n",
       "      <td>https://www.reddit.com/r/Kenya/comments/1jsb14...</td>\n",
       "    </tr>\n",
       "    <tr>\n",
       "      <th>3</th>\n",
       "      <td>Why western powers back Israel no matter what ...</td>\n",
       "      <td>I don't care what good book you read, but it's...</td>\n",
       "      <td>3/25/2025 8:18</td>\n",
       "      <td>usaid kenya</td>\n",
       "      <td>https://www.reddit.com/r/Kenya/comments/1jjehw...</td>\n",
       "    </tr>\n",
       "    <tr>\n",
       "      <th>4</th>\n",
       "      <td>Is kenya capable of funding its needs now that...</td>\n",
       "      <td>How is kenya prepared to fill the vacuum of US...</td>\n",
       "      <td>3/8/2025 8:08</td>\n",
       "      <td>usaid kenya</td>\n",
       "      <td>https://www.reddit.com/r/Kenya/comments/1j6cjz...</td>\n",
       "    </tr>\n",
       "  </tbody>\n",
       "</table>\n",
       "</div>"
      ],
      "text/plain": [
       "                                          post_title  \\\n",
       "0  USAID left a month ago, do we have ARVs in Kenya?   \n",
       "1                  Classism in r/Kenya and r/nairobi   \n",
       "2                       EX-USAID people!! Let's talk   \n",
       "3  Why western powers back Israel no matter what ...   \n",
       "4  Is kenya capable of funding its needs now that...   \n",
       "\n",
       "                                                text   published_date  \\\n",
       "0  Someone on a different group (different websit...  4/15/2025 13:16   \n",
       "1  The classism I'm seeing in both subs is a good...    4/7/2025 4:21   \n",
       "2  Are you still in contact with the organisation...   4/5/2025 19:09   \n",
       "3  I don't care what good book you read, but it's...   3/25/2025 8:18   \n",
       "4  How is kenya prepared to fill the vacuum of US...    3/8/2025 8:08   \n",
       "\n",
       "       keyword                                                url  \n",
       "0  usaid kenya  https://www.reddit.com/r/Kenya/comments/1jzrn2...  \n",
       "1  usaid kenya  https://www.reddit.com/r/Kenya/comments/1jtcvb...  \n",
       "2  usaid kenya  https://www.reddit.com/r/Kenya/comments/1jsb14...  \n",
       "3  usaid kenya  https://www.reddit.com/r/Kenya/comments/1jjehw...  \n",
       "4  usaid kenya  https://www.reddit.com/r/Kenya/comments/1j6cjz...  "
      ]
     },
     "execution_count": 31,
     "metadata": {},
     "output_type": "execute_result"
    }
   ],
   "source": [
    "reddit_df.rename(columns={'title':'post_title','selftext':'text','created_utc':'published_date'},inplace=True)\n",
    "reddit_df.head()"
   ]
  },
  {
   "cell_type": "markdown",
   "id": "6cb43549",
   "metadata": {},
   "source": [
    "**parse** - analyze and convert a piece of data (like a string) into a different, more useful format.\n",
    "\n",
    "The below code cleans the published_date column in the data. Some dates are written as normal dates (eg \"2025-04-15\") and others are written as numbers (UNIX timestamps). The code checks each value and tries to convert it into a proper date. If it can’t, it leaves it empty. After that, it removes the time part and keeps just the date. This helps make sure all the dates are in the same clean format."
   ]
  },
  {
   "cell_type": "code",
   "execution_count": 32,
   "id": "3b7730f9",
   "metadata": {},
   "outputs": [
    {
     "name": "stdout",
     "output_type": "stream",
     "text": [
      "Unparsed dates: 0\n"
     ]
    },
    {
     "data": {
      "text/html": [
       "<div>\n",
       "<style scoped>\n",
       "    .dataframe tbody tr th:only-of-type {\n",
       "        vertical-align: middle;\n",
       "    }\n",
       "\n",
       "    .dataframe tbody tr th {\n",
       "        vertical-align: top;\n",
       "    }\n",
       "\n",
       "    .dataframe thead th {\n",
       "        text-align: right;\n",
       "    }\n",
       "</style>\n",
       "<table border=\"1\" class=\"dataframe\">\n",
       "  <thead>\n",
       "    <tr style=\"text-align: right;\">\n",
       "      <th></th>\n",
       "      <th>post_title</th>\n",
       "      <th>text</th>\n",
       "      <th>published_date</th>\n",
       "      <th>keyword</th>\n",
       "      <th>url</th>\n",
       "    </tr>\n",
       "  </thead>\n",
       "  <tbody>\n",
       "    <tr>\n",
       "      <th>0</th>\n",
       "      <td>USAID left a month ago, do we have ARVs in Kenya?</td>\n",
       "      <td>Someone on a different group (different websit...</td>\n",
       "      <td>2025-04-15</td>\n",
       "      <td>usaid kenya</td>\n",
       "      <td>https://www.reddit.com/r/Kenya/comments/1jzrn2...</td>\n",
       "    </tr>\n",
       "    <tr>\n",
       "      <th>1</th>\n",
       "      <td>Classism in r/Kenya and r/nairobi</td>\n",
       "      <td>The classism I'm seeing in both subs is a good...</td>\n",
       "      <td>2025-04-07</td>\n",
       "      <td>usaid kenya</td>\n",
       "      <td>https://www.reddit.com/r/Kenya/comments/1jtcvb...</td>\n",
       "    </tr>\n",
       "    <tr>\n",
       "      <th>2</th>\n",
       "      <td>EX-USAID people!! Let's talk</td>\n",
       "      <td>Are you still in contact with the organisation...</td>\n",
       "      <td>2025-04-05</td>\n",
       "      <td>usaid kenya</td>\n",
       "      <td>https://www.reddit.com/r/Kenya/comments/1jsb14...</td>\n",
       "    </tr>\n",
       "    <tr>\n",
       "      <th>3</th>\n",
       "      <td>Why western powers back Israel no matter what ...</td>\n",
       "      <td>I don't care what good book you read, but it's...</td>\n",
       "      <td>2025-03-25</td>\n",
       "      <td>usaid kenya</td>\n",
       "      <td>https://www.reddit.com/r/Kenya/comments/1jjehw...</td>\n",
       "    </tr>\n",
       "    <tr>\n",
       "      <th>4</th>\n",
       "      <td>Is kenya capable of funding its needs now that...</td>\n",
       "      <td>How is kenya prepared to fill the vacuum of US...</td>\n",
       "      <td>2025-03-08</td>\n",
       "      <td>usaid kenya</td>\n",
       "      <td>https://www.reddit.com/r/Kenya/comments/1j6cjz...</td>\n",
       "    </tr>\n",
       "  </tbody>\n",
       "</table>\n",
       "</div>"
      ],
      "text/plain": [
       "                                          post_title  \\\n",
       "0  USAID left a month ago, do we have ARVs in Kenya?   \n",
       "1                  Classism in r/Kenya and r/nairobi   \n",
       "2                       EX-USAID people!! Let's talk   \n",
       "3  Why western powers back Israel no matter what ...   \n",
       "4  Is kenya capable of funding its needs now that...   \n",
       "\n",
       "                                                text published_date  \\\n",
       "0  Someone on a different group (different websit...     2025-04-15   \n",
       "1  The classism I'm seeing in both subs is a good...     2025-04-07   \n",
       "2  Are you still in contact with the organisation...     2025-04-05   \n",
       "3  I don't care what good book you read, but it's...     2025-03-25   \n",
       "4  How is kenya prepared to fill the vacuum of US...     2025-03-08   \n",
       "\n",
       "       keyword                                                url  \n",
       "0  usaid kenya  https://www.reddit.com/r/Kenya/comments/1jzrn2...  \n",
       "1  usaid kenya  https://www.reddit.com/r/Kenya/comments/1jtcvb...  \n",
       "2  usaid kenya  https://www.reddit.com/r/Kenya/comments/1jsb14...  \n",
       "3  usaid kenya  https://www.reddit.com/r/Kenya/comments/1jjehw...  \n",
       "4  usaid kenya  https://www.reddit.com/r/Kenya/comments/1j6cjz...  "
      ]
     },
     "execution_count": 32,
     "metadata": {},
     "output_type": "execute_result"
    }
   ],
   "source": [
    "import pandas as pd\n",
    "\n",
    "# Function to handle both datetime strings and UNIX timestamps\n",
    "def parse_mixed_dates(val):\n",
    "    try:\n",
    "        # Parse as a regular datetime string\n",
    "        return pd.to_datetime(val)\n",
    "    except:\n",
    "        try:\n",
    "            # Parse as a UNIX timestamp\n",
    "            return pd.to_datetime(float(val), unit='s')\n",
    "        except:\n",
    "            return pd.NaT  # Return NaT if all parsing fails\n",
    "\n",
    "# Apply the parsing function\n",
    "reddit_df['published_date'] = reddit_df['published_date'].apply(parse_mixed_dates)\n",
    "\n",
    "# Check how many dates failed to parse\n",
    "print(\"Unparsed dates:\", reddit_df['published_date'].isna().sum())\n",
    "\n",
    "# Extract date only (remove time)\n",
    "reddit_df['published_date'] = reddit_df['published_date'].dt.date\n",
    "reddit_df.head()"
   ]
  },
  {
   "cell_type": "code",
   "execution_count": 33,
   "id": "0f3eebd2",
   "metadata": {},
   "outputs": [
    {
     "data": {
      "text/plain": [
       "0"
      ]
     },
     "execution_count": 33,
     "metadata": {},
     "output_type": "execute_result"
    }
   ],
   "source": [
    "reddit_df['published_date'].isna().sum() #check the missing values in date"
   ]
  },
  {
   "cell_type": "code",
   "execution_count": 34,
   "id": "e5641d8e",
   "metadata": {},
   "outputs": [],
   "source": [
    "reddit_df.dropna(subset=['published_date'], inplace=True) #drop missing values in date"
   ]
  },
  {
   "cell_type": "code",
   "execution_count": 35,
   "id": "d24d8427",
   "metadata": {},
   "outputs": [
    {
     "data": {
      "text/plain": [
       "(1289, 5)"
      ]
     },
     "execution_count": 35,
     "metadata": {},
     "output_type": "execute_result"
    }
   ],
   "source": [
    "reddit_df.shape #check the shape of the dataset"
   ]
  },
  {
   "cell_type": "code",
   "execution_count": 36,
   "id": "8a3cd9dc",
   "metadata": {},
   "outputs": [
    {
     "data": {
      "text/plain": [
       "post_title          0\n",
       "text              388\n",
       "published_date      0\n",
       "keyword           547\n",
       "url                 0\n",
       "dtype: int64"
      ]
     },
     "execution_count": 36,
     "metadata": {},
     "output_type": "execute_result"
    }
   ],
   "source": [
    "reddit_df.isna().sum() #check for missing values"
   ]
  },
  {
   "cell_type": "markdown",
   "id": "e9daac39",
   "metadata": {},
   "source": [
    "### Fill missing values in text with an empty string"
   ]
  },
  {
   "cell_type": "markdown",
   "id": "063ab99e",
   "metadata": {},
   "source": [
    "I filled missing values in text with an empty string because these are likely link posts where the author did not add body text."
   ]
  },
  {
   "cell_type": "code",
   "execution_count": 37,
   "id": "8d73eb67",
   "metadata": {},
   "outputs": [
    {
     "data": {
      "text/plain": [
       "post_title          0\n",
       "text                0\n",
       "published_date      0\n",
       "keyword           547\n",
       "url                 0\n",
       "dtype: int64"
      ]
     },
     "execution_count": 37,
     "metadata": {},
     "output_type": "execute_result"
    }
   ],
   "source": [
    "reddit_df['text'] = reddit_df['text'].fillna('')\n",
    "reddit_df.isna().sum()"
   ]
  },
  {
   "cell_type": "markdown",
   "id": "db683fc5",
   "metadata": {},
   "source": [
    "### Fill missing values in keyword with a placeholder 'Unknown'"
   ]
  },
  {
   "cell_type": "code",
   "execution_count": 38,
   "id": "e127f33e",
   "metadata": {},
   "outputs": [
    {
     "data": {
      "text/plain": [
       "658     foreign aid, foreign aid\n",
       "1262                     unknown\n",
       "1071                     unknown\n",
       "473                        USAID\n",
       "464      usaid suspended funding\n",
       "744                      unknown\n",
       "508                        USAID\n",
       "169      usaid kenya funding cut\n",
       "529     foreign aid, foreign aid\n",
       "164      usaid kenya funding cut\n",
       "Name: keyword, dtype: object"
      ]
     },
     "execution_count": 38,
     "metadata": {},
     "output_type": "execute_result"
    }
   ],
   "source": [
    "reddit_df['keyword'] = reddit_df['keyword'].fillna('unknown')\n",
    "reddit_df['keyword'].sample(10)"
   ]
  },
  {
   "cell_type": "code",
   "execution_count": 39,
   "id": "990926c5",
   "metadata": {},
   "outputs": [
    {
     "data": {
      "text/plain": [
       "post_title        0\n",
       "text              0\n",
       "published_date    0\n",
       "keyword           0\n",
       "url               0\n",
       "dtype: int64"
      ]
     },
     "execution_count": 39,
     "metadata": {},
     "output_type": "execute_result"
    }
   ],
   "source": [
    "reddit_df.isna().sum()"
   ]
  },
  {
   "cell_type": "markdown",
   "id": "05af5201",
   "metadata": {},
   "source": [
    "Missing values filled with an empty string and placeholder to maintain the integrity of the data and maintain a good amount of rows"
   ]
  },
  {
   "cell_type": "markdown",
   "id": "3da82a9e",
   "metadata": {},
   "source": [
    "### Check for duplicates "
   ]
  },
  {
   "cell_type": "code",
   "execution_count": 40,
   "id": "58b4495a",
   "metadata": {},
   "outputs": [
    {
     "data": {
      "text/plain": [
       "145"
      ]
     },
     "execution_count": 40,
     "metadata": {},
     "output_type": "execute_result"
    }
   ],
   "source": [
    "reddit_df.duplicated().sum()"
   ]
  },
  {
   "cell_type": "code",
   "execution_count": 41,
   "id": "aa880fcd",
   "metadata": {},
   "outputs": [],
   "source": [
    "reddit_df.drop_duplicates(inplace=True) #drop all duplicates"
   ]
  },
  {
   "cell_type": "code",
   "execution_count": 42,
   "id": "cb61344d",
   "metadata": {},
   "outputs": [
    {
     "data": {
      "text/plain": [
       "0"
      ]
     },
     "execution_count": 42,
     "metadata": {},
     "output_type": "execute_result"
    }
   ],
   "source": [
    "reddit_df.duplicated().sum() #confirm that all duplicates have been dropped"
   ]
  },
  {
   "cell_type": "code",
   "execution_count": 43,
   "id": "ccafd6f5",
   "metadata": {},
   "outputs": [
    {
     "data": {
      "text/plain": [
       "(1144, 5)"
      ]
     },
     "execution_count": 43,
     "metadata": {},
     "output_type": "execute_result"
    }
   ],
   "source": [
    "reddit_df.shape #shape of the new data after cleaning"
   ]
  },
  {
   "cell_type": "code",
   "execution_count": 44,
   "id": "c6db7488",
   "metadata": {},
   "outputs": [
    {
     "data": {
      "text/plain": [
       "145     Have the recent world occurrences exposed how ...\n",
       "126     Abortion in Kenya: A Clash of Policies, Cultur...\n",
       "536     Canada calls USAID shutdown a ‘dangerous retre...\n",
       "444     Canadian universities report jump in US applic...\n",
       "49                                           Rugby Jersey\n",
       "1189    Uber drivers rant, not rating anything above 3...\n",
       "857                           Hehehehe the day I ran away\n",
       "365                      Will Mogadishu Collapse in 2025?\n",
       "647     Chief Justice John Roberts pauses order for Tr...\n",
       "1174                                      Kenya's Defense\n",
       "Name: post_title, dtype: object"
      ]
     },
     "execution_count": 44,
     "metadata": {},
     "output_type": "execute_result"
    }
   ],
   "source": [
    "reddit_df['post_title'].sample(10)"
   ]
  },
  {
   "cell_type": "markdown",
   "id": "2fa69b63",
   "metadata": {},
   "source": [
    "## Sentiment Analysis Cleaning"
   ]
  },
  {
   "cell_type": "markdown",
   "id": "062b3c66",
   "metadata": {},
   "source": [
    "Creating a new column 'full_text' that combines 'post_title','text' and the empty string '', to help in sentiment analysis"
   ]
  },
  {
   "cell_type": "code",
   "execution_count": 45,
   "id": "fb0b1744",
   "metadata": {},
   "outputs": [
    {
     "data": {
      "text/html": [
       "<div>\n",
       "<style scoped>\n",
       "    .dataframe tbody tr th:only-of-type {\n",
       "        vertical-align: middle;\n",
       "    }\n",
       "\n",
       "    .dataframe tbody tr th {\n",
       "        vertical-align: top;\n",
       "    }\n",
       "\n",
       "    .dataframe thead th {\n",
       "        text-align: right;\n",
       "    }\n",
       "</style>\n",
       "<table border=\"1\" class=\"dataframe\">\n",
       "  <thead>\n",
       "    <tr style=\"text-align: right;\">\n",
       "      <th></th>\n",
       "      <th>post_title</th>\n",
       "      <th>text</th>\n",
       "      <th>published_date</th>\n",
       "      <th>keyword</th>\n",
       "      <th>url</th>\n",
       "      <th>full_text</th>\n",
       "    </tr>\n",
       "  </thead>\n",
       "  <tbody>\n",
       "    <tr>\n",
       "      <th>0</th>\n",
       "      <td>USAID left a month ago, do we have ARVs in Kenya?</td>\n",
       "      <td>Someone on a different group (different websit...</td>\n",
       "      <td>2025-04-15</td>\n",
       "      <td>usaid kenya</td>\n",
       "      <td>https://www.reddit.com/r/Kenya/comments/1jzrn2...</td>\n",
       "      <td>USAID left a month ago, do we have ARVs in Ken...</td>\n",
       "    </tr>\n",
       "    <tr>\n",
       "      <th>1</th>\n",
       "      <td>Classism in r/Kenya and r/nairobi</td>\n",
       "      <td>The classism I'm seeing in both subs is a good...</td>\n",
       "      <td>2025-04-07</td>\n",
       "      <td>usaid kenya</td>\n",
       "      <td>https://www.reddit.com/r/Kenya/comments/1jtcvb...</td>\n",
       "      <td>Classism in r/Kenya and r/nairobi The classism...</td>\n",
       "    </tr>\n",
       "    <tr>\n",
       "      <th>2</th>\n",
       "      <td>EX-USAID people!! Let's talk</td>\n",
       "      <td>Are you still in contact with the organisation...</td>\n",
       "      <td>2025-04-05</td>\n",
       "      <td>usaid kenya</td>\n",
       "      <td>https://www.reddit.com/r/Kenya/comments/1jsb14...</td>\n",
       "      <td>EX-USAID people!! Let's talk Are you still in ...</td>\n",
       "    </tr>\n",
       "    <tr>\n",
       "      <th>3</th>\n",
       "      <td>Why western powers back Israel no matter what ...</td>\n",
       "      <td>I don't care what good book you read, but it's...</td>\n",
       "      <td>2025-03-25</td>\n",
       "      <td>usaid kenya</td>\n",
       "      <td>https://www.reddit.com/r/Kenya/comments/1jjehw...</td>\n",
       "      <td>Why western powers back Israel no matter what ...</td>\n",
       "    </tr>\n",
       "    <tr>\n",
       "      <th>4</th>\n",
       "      <td>Is kenya capable of funding its needs now that...</td>\n",
       "      <td>How is kenya prepared to fill the vacuum of US...</td>\n",
       "      <td>2025-03-08</td>\n",
       "      <td>usaid kenya</td>\n",
       "      <td>https://www.reddit.com/r/Kenya/comments/1j6cjz...</td>\n",
       "      <td>Is kenya capable of funding its needs now that...</td>\n",
       "    </tr>\n",
       "  </tbody>\n",
       "</table>\n",
       "</div>"
      ],
      "text/plain": [
       "                                          post_title  \\\n",
       "0  USAID left a month ago, do we have ARVs in Kenya?   \n",
       "1                  Classism in r/Kenya and r/nairobi   \n",
       "2                       EX-USAID people!! Let's talk   \n",
       "3  Why western powers back Israel no matter what ...   \n",
       "4  Is kenya capable of funding its needs now that...   \n",
       "\n",
       "                                                text published_date  \\\n",
       "0  Someone on a different group (different websit...     2025-04-15   \n",
       "1  The classism I'm seeing in both subs is a good...     2025-04-07   \n",
       "2  Are you still in contact with the organisation...     2025-04-05   \n",
       "3  I don't care what good book you read, but it's...     2025-03-25   \n",
       "4  How is kenya prepared to fill the vacuum of US...     2025-03-08   \n",
       "\n",
       "       keyword                                                url  \\\n",
       "0  usaid kenya  https://www.reddit.com/r/Kenya/comments/1jzrn2...   \n",
       "1  usaid kenya  https://www.reddit.com/r/Kenya/comments/1jtcvb...   \n",
       "2  usaid kenya  https://www.reddit.com/r/Kenya/comments/1jsb14...   \n",
       "3  usaid kenya  https://www.reddit.com/r/Kenya/comments/1jjehw...   \n",
       "4  usaid kenya  https://www.reddit.com/r/Kenya/comments/1j6cjz...   \n",
       "\n",
       "                                           full_text  \n",
       "0  USAID left a month ago, do we have ARVs in Ken...  \n",
       "1  Classism in r/Kenya and r/nairobi The classism...  \n",
       "2  EX-USAID people!! Let's talk Are you still in ...  \n",
       "3  Why western powers back Israel no matter what ...  \n",
       "4  Is kenya capable of funding its needs now that...  "
      ]
     },
     "execution_count": 45,
     "metadata": {},
     "output_type": "execute_result"
    }
   ],
   "source": [
    "reddit_df['full_text'] = reddit_df['post_title'] + ' ' + reddit_df['text']\n",
    "reddit_df.head() #sample top 5 rows after combining the columns"
   ]
  },
  {
   "cell_type": "code",
   "execution_count": 46,
   "id": "2c5747e5",
   "metadata": {},
   "outputs": [
    {
     "data": {
      "text/plain": [
       "0"
      ]
     },
     "execution_count": 46,
     "metadata": {},
     "output_type": "execute_result"
    }
   ],
   "source": [
    "reddit_df['full_text'].isna().sum() #confirm that there are no missing values in the dataset"
   ]
  },
  {
   "cell_type": "markdown",
   "id": "13d63635",
   "metadata": {},
   "source": [
    "### Lowercasing "
   ]
  },
  {
   "cell_type": "markdown",
   "id": "923cf3ef",
   "metadata": {},
   "source": [
    "Converting all text to lowercase"
   ]
  },
  {
   "cell_type": "code",
   "execution_count": 47,
   "id": "cb464d02",
   "metadata": {},
   "outputs": [
    {
     "data": {
      "text/plain": [
       "70      how do people safely date and meet new people?...\n",
       "256     techies in kenya hey tech nerds,\\r\\n\\r\\ni’m so...\n",
       "52      urgent!! i’m 21f\\r\\n\\r\\nboth my parents are fo...\n",
       "1155    looking to get connections hello fam, it's bee...\n",
       "201     trump/ the republicans are not guessing he is ...\n",
       "276     library reddit just throwing this subreddit ou...\n",
       "280     kenya’s economic reality: why fighting corrupt...\n",
       "463     ukraine secures preliminary deals to replace u...\n",
       "415     nigerian lawmakers probe usaid-funded non-prof...\n",
       "772     remember vision 2030? man, nilikuwa like 10 ye...\n",
       "Name: full_text, dtype: object"
      ]
     },
     "execution_count": 47,
     "metadata": {},
     "output_type": "execute_result"
    }
   ],
   "source": [
    "reddit_df['full_text'] = reddit_df['full_text'].str.lower()\n",
    "reddit_df['full_text'].sample(10)"
   ]
  },
  {
   "cell_type": "markdown",
   "id": "8bef03f6",
   "metadata": {},
   "source": [
    "### Translate all text to English"
   ]
  },
  {
   "cell_type": "code",
   "execution_count": 48,
   "id": "aee53191",
   "metadata": {},
   "outputs": [
    {
     "name": "stderr",
     "output_type": "stream",
     "text": [
      "\n",
      "[notice] A new release of pip is available: 24.2 -> 25.1.1\n",
      "[notice] To update, run: python.exe -m pip install --upgrade pip\n",
      "ERROR: Invalid requirement: '#detect': Expected package name at the start of dependency specifier\n",
      "    #detect\n",
      "    ^\n"
     ]
    }
   ],
   "source": [
    "!pip install langdetect #detect which language the text are in"
   ]
  },
  {
   "cell_type": "code",
   "execution_count": 49,
   "id": "f6d40439",
   "metadata": {},
   "outputs": [
    {
     "data": {
      "text/plain": [
       "en    1127\n",
       "sw       5\n",
       "tl       3\n",
       "et       3\n",
       "fr       2\n",
       "sl       1\n",
       "da       1\n",
       "es       1\n",
       "id       1\n",
       "Name: language, dtype: int64"
      ]
     },
     "execution_count": 49,
     "metadata": {},
     "output_type": "execute_result"
    }
   ],
   "source": [
    "from langdetect import detect\n",
    "\n",
    "# Language detection\n",
    "reddit_df['language'] = reddit_df['full_text'].apply(lambda x: detect(x) if pd.notnull(x) else 'unknown')\n",
    "reddit_df['language'].value_counts()"
   ]
  },
  {
   "cell_type": "code",
   "execution_count": 50,
   "id": "f7e3f368",
   "metadata": {},
   "outputs": [
    {
     "name": "stdout",
     "output_type": "stream",
     "text": [
      "     language                                          full_text\n",
      "28         tl  ...na bado mnasema ruto must go bila tangible ...\n",
      "175        tl  ...na bado mnasema ruto must go bila tangible ...\n",
      "236        sl                                design job nairobi \n",
      "273        tl  ...na bado mnasema ruto must go bila tangible ...\n",
      "301        et  just seeing ki, sa, che, ko, la, si...pure tri...\n",
      "634        fr  supreme court rules trump administration must ...\n",
      "638        fr  supreme court denies trump administration requ...\n",
      "664        da  judge orders us to restore funds for foreign a...\n",
      "852        sw  \"wapi mtoto?\" it was always an escape for me d...\n",
      "853        sw  drunk and orderly it so happened that one time...\n",
      "943        et                            joblessness is looming \n",
      "1054       et  s.korea, us, japan hold 1st trilateral working...\n",
      "1061       es     chaos erupts as caravan reaches mexico border \n",
      "1100       id  filling kra returns at ksh 35 usitikie kupata ...\n",
      "1140       sw  most kenyans fear therapy ukigrow up ulikuwa u...\n",
      "1143       sw  about my online jobs list series.. waah kujari...\n",
      "1193       sw  when fifa, love and nyama collide! ever since ...\n"
     ]
    }
   ],
   "source": [
    "# View full text rows where the language is not English\n",
    "non_english_df = reddit_df[reddit_df['language'] != 'en']\n",
    "\n",
    "# Display the full_text column of non-English rows\n",
    "print(non_english_df[['language', 'full_text']])\n"
   ]
  },
  {
   "cell_type": "code",
   "execution_count": 51,
   "id": "401e61c9",
   "metadata": {},
   "outputs": [
    {
     "name": "stderr",
     "output_type": "stream",
     "text": [
      "\n",
      "[notice] A new release of pip is available: 24.2 -> 25.1.1\n",
      "[notice] To update, run: python.exe -m pip install --upgrade pip\n",
      "ERROR: Invalid requirement: '#Translates': Expected package name at the start of dependency specifier\n",
      "    #Translates\n",
      "    ^\n"
     ]
    }
   ],
   "source": [
    "! pip install deep-translator #Translates text from one language to another\n"
   ]
  },
  {
   "cell_type": "code",
   "execution_count": 52,
   "id": "372547ff",
   "metadata": {},
   "outputs": [
    {
     "name": "stdout",
     "output_type": "stream",
     "text": [
      "    language                                          full_text  \\\n",
      "28        tl  ...na bado mnasema ruto must go bila tangible ...   \n",
      "175       tl  ...na bado mnasema ruto must go bila tangible ...   \n",
      "236       sl                                design job nairobi    \n",
      "273       tl  ...na bado mnasema ruto must go bila tangible ...   \n",
      "301       et  just seeing ki, sa, che, ko, la, si...pure tri...   \n",
      "\n",
      "                                       translated_text  \n",
      "28   ... and you still say Ruto must go without tan...  \n",
      "175  ... and you still say Ruto must go without tan...  \n",
      "236                                 design job nairobi  \n",
      "273  ... and you still say Ruto must go without tan...  \n",
      "301  just seeing ki, sa, che, ko, la, si ... pure t...  \n"
     ]
    }
   ],
   "source": [
    "from deep_translator import GoogleTranslator\n",
    "\n",
    "# Make a copy of non-English rows\n",
    "non_english_df = reddit_df[reddit_df['language'] != 'en'].copy()\n",
    "\n",
    "# Translate each full_text\n",
    "non_english_df['translated_text'] = non_english_df['full_text'].apply(\n",
    "    lambda text: GoogleTranslator(source='auto', target='en').translate(text)\n",
    ")\n",
    "\n",
    "# Preview translations\n",
    "print(non_english_df[['language', 'full_text', 'translated_text']].head())\n"
   ]
  },
  {
   "cell_type": "markdown",
   "id": "627590ec",
   "metadata": {},
   "source": [
    "From the above preview, shows that the text with both english and swahili was able to be translated as shown in index 28"
   ]
  },
  {
   "cell_type": "code",
   "execution_count": 53,
   "id": "cade2d7a",
   "metadata": {},
   "outputs": [
    {
     "data": {
      "text/plain": [
       "en    1127\n",
       "sw       5\n",
       "tl       3\n",
       "et       3\n",
       "fr       2\n",
       "sl       1\n",
       "da       1\n",
       "es       1\n",
       "id       1\n",
       "Name: language, dtype: int64"
      ]
     },
     "execution_count": 53,
     "metadata": {},
     "output_type": "execute_result"
    }
   ],
   "source": [
    "reddit_df['language'].value_counts() #check which other languages have been detected"
   ]
  },
  {
   "cell_type": "code",
   "execution_count": 54,
   "id": "cce5719d",
   "metadata": {},
   "outputs": [
    {
     "name": "stdout",
     "output_type": "stream",
     "text": [
      "  language                                          full_text\n",
      "0       en  usaid left a month ago, do we have arvs in ken...\n",
      "1       en  classism in r/kenya and r/nairobi the classism...\n",
      "2       en  ex-usaid people!! let's talk are you still in ...\n",
      "3       en  why western powers back israel no matter what ...\n",
      "4       en  is kenya capable of funding its needs now that...\n"
     ]
    }
   ],
   "source": [
    "# Drop all non-English rows\n",
    "reddit_df = reddit_df[reddit_df['language'] == 'en'].copy()\n",
    "\n",
    "# Reset the index\n",
    "reddit_df.reset_index(drop=True, inplace=True)\n",
    "\n",
    "# Preview the cleaned data\n",
    "print(reddit_df[['language', 'full_text']].head())\n"
   ]
  },
  {
   "cell_type": "code",
   "execution_count": 55,
   "id": "f64b632d",
   "metadata": {},
   "outputs": [
    {
     "data": {
      "text/plain": [
       "en    1127\n",
       "Name: language, dtype: int64"
      ]
     },
     "execution_count": 55,
     "metadata": {},
     "output_type": "execute_result"
    }
   ],
   "source": [
    "reddit_df['language'].value_counts() #confirm that all rows are in English only"
   ]
  },
  {
   "cell_type": "code",
   "execution_count": 56,
   "id": "7b797835",
   "metadata": {},
   "outputs": [
    {
     "data": {
      "text/html": [
       "<div>\n",
       "<style scoped>\n",
       "    .dataframe tbody tr th:only-of-type {\n",
       "        vertical-align: middle;\n",
       "    }\n",
       "\n",
       "    .dataframe tbody tr th {\n",
       "        vertical-align: top;\n",
       "    }\n",
       "\n",
       "    .dataframe thead th {\n",
       "        text-align: right;\n",
       "    }\n",
       "</style>\n",
       "<table border=\"1\" class=\"dataframe\">\n",
       "  <thead>\n",
       "    <tr style=\"text-align: right;\">\n",
       "      <th></th>\n",
       "      <th>post_title</th>\n",
       "      <th>text</th>\n",
       "      <th>published_date</th>\n",
       "      <th>keyword</th>\n",
       "      <th>url</th>\n",
       "      <th>full_text</th>\n",
       "      <th>language</th>\n",
       "    </tr>\n",
       "  </thead>\n",
       "  <tbody>\n",
       "    <tr>\n",
       "      <th>990</th>\n",
       "      <td>kenyan justice system</td>\n",
       "      <td>Lemme rant manze , this Albert story really br...</td>\n",
       "      <td>2025-06-13</td>\n",
       "      <td>unknown</td>\n",
       "      <td>https://www.reddit.com/r/Kenya/comments/1lakow...</td>\n",
       "      <td>kenyan justice system lemme rant manze , this ...</td>\n",
       "      <td>en</td>\n",
       "    </tr>\n",
       "    <tr>\n",
       "      <th>973</th>\n",
       "      <td>Opportunity in cybersecurity</td>\n",
       "      <td>Last time I asked this nobody responded but I'...</td>\n",
       "      <td>2025-06-15</td>\n",
       "      <td>unknown</td>\n",
       "      <td>https://www.reddit.com/r/Kenya/comments/1lcciu...</td>\n",
       "      <td>opportunity in cybersecurity last time i asked...</td>\n",
       "      <td>en</td>\n",
       "    </tr>\n",
       "    <tr>\n",
       "      <th>729</th>\n",
       "      <td>Kenyan comfort food - ugali, nyama na sukuma w...</td>\n",
       "      <td>\\r\\nI swear anytime anywhere, nyama ugali and ...</td>\n",
       "      <td>2025-05-28</td>\n",
       "      <td>unknown</td>\n",
       "      <td>https://www.reddit.com/r/Kenya/comments/1kxgbt...</td>\n",
       "      <td>kenyan comfort food - ugali, nyama na sukuma w...</td>\n",
       "      <td>en</td>\n",
       "    </tr>\n",
       "    <tr>\n",
       "      <th>105</th>\n",
       "      <td>Interesting report on what's limiting African ...</td>\n",
       "      <td>It points to market frictions; a lack of regio...</td>\n",
       "      <td>2025-01-26</td>\n",
       "      <td>kenya foreign aid</td>\n",
       "      <td>https://www.reddit.com/r/Kenya/comments/1iahzi...</td>\n",
       "      <td>interesting report on what's limiting african ...</td>\n",
       "      <td>en</td>\n",
       "    </tr>\n",
       "    <tr>\n",
       "      <th>18</th>\n",
       "      <td>\"USAID was helping pay nurses' salaries.\"</td>\n",
       "      <td>I have seen this claim being thrown around cas...</td>\n",
       "      <td>2025-02-05</td>\n",
       "      <td>usaid funding</td>\n",
       "      <td>https://www.reddit.com/r/Kenya/comments/1ii7yw...</td>\n",
       "      <td>\"usaid was helping pay nurses' salaries.\" i ha...</td>\n",
       "      <td>en</td>\n",
       "    </tr>\n",
       "    <tr>\n",
       "      <th>833</th>\n",
       "      <td>Remaining USAID staff fired, Trump says Myanma...</td>\n",
       "      <td></td>\n",
       "      <td>2025-03-29</td>\n",
       "      <td>unknown</td>\n",
       "      <td>https://www.reuters.com/world/us/state-departm...</td>\n",
       "      <td>remaining usaid staff fired, trump says myanma...</td>\n",
       "      <td>en</td>\n",
       "    </tr>\n",
       "    <tr>\n",
       "      <th>960</th>\n",
       "      <td>Random Acts of Kindness, kuna conductor wazuri...</td>\n",
       "      <td>Hi cousins, hamjambo jamani! Kabla tuendelee W...</td>\n",
       "      <td>2025-06-17</td>\n",
       "      <td>unknown</td>\n",
       "      <td>https://www.reddit.com/r/Kenya/comments/1ldg5y...</td>\n",
       "      <td>random acts of kindness, kuna conductor wazuri...</td>\n",
       "      <td>en</td>\n",
       "    </tr>\n",
       "    <tr>\n",
       "      <th>31</th>\n",
       "      <td>These seven African countries will be hit the ...</td>\n",
       "      <td></td>\n",
       "      <td>2025-02-12</td>\n",
       "      <td>usaid budget cut</td>\n",
       "      <td>https://www.semafor.com/article/02/12/2025/cou...</td>\n",
       "      <td>these seven african countries will be hit the ...</td>\n",
       "      <td>en</td>\n",
       "    </tr>\n",
       "    <tr>\n",
       "      <th>632</th>\n",
       "      <td>US food purchases for foreign aid halted despi...</td>\n",
       "      <td></td>\n",
       "      <td>2025-02-08</td>\n",
       "      <td>foreign aid, foreign aid</td>\n",
       "      <td>https://www.reuters.com/markets/commodities/us...</td>\n",
       "      <td>us food purchases for foreign aid halted despi...</td>\n",
       "      <td>en</td>\n",
       "    </tr>\n",
       "    <tr>\n",
       "      <th>161</th>\n",
       "      <td>Scammer alert : I hope I am wrong about this</td>\n",
       "      <td>I came across this post on here and I was quit...</td>\n",
       "      <td>2025-04-04</td>\n",
       "      <td>usaid kenya funding cut</td>\n",
       "      <td>https://www.reddit.com/gallery/1jrlxvb</td>\n",
       "      <td>scammer alert : i hope i am wrong about this i...</td>\n",
       "      <td>en</td>\n",
       "    </tr>\n",
       "  </tbody>\n",
       "</table>\n",
       "</div>"
      ],
      "text/plain": [
       "                                            post_title  \\\n",
       "990                              kenyan justice system   \n",
       "973                       Opportunity in cybersecurity   \n",
       "729  Kenyan comfort food - ugali, nyama na sukuma w...   \n",
       "105  Interesting report on what's limiting African ...   \n",
       "18           \"USAID was helping pay nurses' salaries.\"   \n",
       "833  Remaining USAID staff fired, Trump says Myanma...   \n",
       "960  Random Acts of Kindness, kuna conductor wazuri...   \n",
       "31   These seven African countries will be hit the ...   \n",
       "632  US food purchases for foreign aid halted despi...   \n",
       "161       Scammer alert : I hope I am wrong about this   \n",
       "\n",
       "                                                  text published_date  \\\n",
       "990  Lemme rant manze , this Albert story really br...     2025-06-13   \n",
       "973  Last time I asked this nobody responded but I'...     2025-06-15   \n",
       "729  \\r\\nI swear anytime anywhere, nyama ugali and ...     2025-05-28   \n",
       "105  It points to market frictions; a lack of regio...     2025-01-26   \n",
       "18   I have seen this claim being thrown around cas...     2025-02-05   \n",
       "833                                                        2025-03-29   \n",
       "960  Hi cousins, hamjambo jamani! Kabla tuendelee W...     2025-06-17   \n",
       "31                                                         2025-02-12   \n",
       "632                                                        2025-02-08   \n",
       "161  I came across this post on here and I was quit...     2025-04-04   \n",
       "\n",
       "                      keyword  \\\n",
       "990                   unknown   \n",
       "973                   unknown   \n",
       "729                   unknown   \n",
       "105         kenya foreign aid   \n",
       "18              usaid funding   \n",
       "833                   unknown   \n",
       "960                   unknown   \n",
       "31           usaid budget cut   \n",
       "632  foreign aid, foreign aid   \n",
       "161   usaid kenya funding cut   \n",
       "\n",
       "                                                   url  \\\n",
       "990  https://www.reddit.com/r/Kenya/comments/1lakow...   \n",
       "973  https://www.reddit.com/r/Kenya/comments/1lcciu...   \n",
       "729  https://www.reddit.com/r/Kenya/comments/1kxgbt...   \n",
       "105  https://www.reddit.com/r/Kenya/comments/1iahzi...   \n",
       "18   https://www.reddit.com/r/Kenya/comments/1ii7yw...   \n",
       "833  https://www.reuters.com/world/us/state-departm...   \n",
       "960  https://www.reddit.com/r/Kenya/comments/1ldg5y...   \n",
       "31   https://www.semafor.com/article/02/12/2025/cou...   \n",
       "632  https://www.reuters.com/markets/commodities/us...   \n",
       "161             https://www.reddit.com/gallery/1jrlxvb   \n",
       "\n",
       "                                             full_text language  \n",
       "990  kenyan justice system lemme rant manze , this ...       en  \n",
       "973  opportunity in cybersecurity last time i asked...       en  \n",
       "729  kenyan comfort food - ugali, nyama na sukuma w...       en  \n",
       "105  interesting report on what's limiting african ...       en  \n",
       "18   \"usaid was helping pay nurses' salaries.\" i ha...       en  \n",
       "833  remaining usaid staff fired, trump says myanma...       en  \n",
       "960  random acts of kindness, kuna conductor wazuri...       en  \n",
       "31   these seven african countries will be hit the ...       en  \n",
       "632  us food purchases for foreign aid halted despi...       en  \n",
       "161  scammer alert : i hope i am wrong about this i...       en  "
      ]
     },
     "execution_count": 56,
     "metadata": {},
     "output_type": "execute_result"
    }
   ],
   "source": [
    "reddit_df.sample(10)"
   ]
  },
  {
   "cell_type": "code",
   "execution_count": 57,
   "id": "cd02bb13",
   "metadata": {},
   "outputs": [
    {
     "data": {
      "text/html": [
       "<div>\n",
       "<style scoped>\n",
       "    .dataframe tbody tr th:only-of-type {\n",
       "        vertical-align: middle;\n",
       "    }\n",
       "\n",
       "    .dataframe tbody tr th {\n",
       "        vertical-align: top;\n",
       "    }\n",
       "\n",
       "    .dataframe thead th {\n",
       "        text-align: right;\n",
       "    }\n",
       "</style>\n",
       "<table border=\"1\" class=\"dataframe\">\n",
       "  <thead>\n",
       "    <tr style=\"text-align: right;\">\n",
       "      <th></th>\n",
       "      <th>post_title</th>\n",
       "      <th>text</th>\n",
       "      <th>published_date</th>\n",
       "      <th>keyword</th>\n",
       "      <th>url</th>\n",
       "      <th>full_text</th>\n",
       "    </tr>\n",
       "  </thead>\n",
       "  <tbody>\n",
       "    <tr>\n",
       "      <th>0</th>\n",
       "      <td>USAID left a month ago, do we have ARVs in Kenya?</td>\n",
       "      <td>Someone on a different group (different websit...</td>\n",
       "      <td>2025-04-15</td>\n",
       "      <td>usaid kenya</td>\n",
       "      <td>https://www.reddit.com/r/Kenya/comments/1jzrn2...</td>\n",
       "      <td>usaid left a month ago, do we have arvs in ken...</td>\n",
       "    </tr>\n",
       "    <tr>\n",
       "      <th>1</th>\n",
       "      <td>Classism in r/Kenya and r/nairobi</td>\n",
       "      <td>The classism I'm seeing in both subs is a good...</td>\n",
       "      <td>2025-04-07</td>\n",
       "      <td>usaid kenya</td>\n",
       "      <td>https://www.reddit.com/r/Kenya/comments/1jtcvb...</td>\n",
       "      <td>classism in r/kenya and r/nairobi the classism...</td>\n",
       "    </tr>\n",
       "    <tr>\n",
       "      <th>2</th>\n",
       "      <td>EX-USAID people!! Let's talk</td>\n",
       "      <td>Are you still in contact with the organisation...</td>\n",
       "      <td>2025-04-05</td>\n",
       "      <td>usaid kenya</td>\n",
       "      <td>https://www.reddit.com/r/Kenya/comments/1jsb14...</td>\n",
       "      <td>ex-usaid people!! let's talk are you still in ...</td>\n",
       "    </tr>\n",
       "    <tr>\n",
       "      <th>3</th>\n",
       "      <td>Why western powers back Israel no matter what ...</td>\n",
       "      <td>I don't care what good book you read, but it's...</td>\n",
       "      <td>2025-03-25</td>\n",
       "      <td>usaid kenya</td>\n",
       "      <td>https://www.reddit.com/r/Kenya/comments/1jjehw...</td>\n",
       "      <td>why western powers back israel no matter what ...</td>\n",
       "    </tr>\n",
       "    <tr>\n",
       "      <th>4</th>\n",
       "      <td>Is kenya capable of funding its needs now that...</td>\n",
       "      <td>How is kenya prepared to fill the vacuum of US...</td>\n",
       "      <td>2025-03-08</td>\n",
       "      <td>usaid kenya</td>\n",
       "      <td>https://www.reddit.com/r/Kenya/comments/1j6cjz...</td>\n",
       "      <td>is kenya capable of funding its needs now that...</td>\n",
       "    </tr>\n",
       "  </tbody>\n",
       "</table>\n",
       "</div>"
      ],
      "text/plain": [
       "                                          post_title  \\\n",
       "0  USAID left a month ago, do we have ARVs in Kenya?   \n",
       "1                  Classism in r/Kenya and r/nairobi   \n",
       "2                       EX-USAID people!! Let's talk   \n",
       "3  Why western powers back Israel no matter what ...   \n",
       "4  Is kenya capable of funding its needs now that...   \n",
       "\n",
       "                                                text published_date  \\\n",
       "0  Someone on a different group (different websit...     2025-04-15   \n",
       "1  The classism I'm seeing in both subs is a good...     2025-04-07   \n",
       "2  Are you still in contact with the organisation...     2025-04-05   \n",
       "3  I don't care what good book you read, but it's...     2025-03-25   \n",
       "4  How is kenya prepared to fill the vacuum of US...     2025-03-08   \n",
       "\n",
       "       keyword                                                url  \\\n",
       "0  usaid kenya  https://www.reddit.com/r/Kenya/comments/1jzrn2...   \n",
       "1  usaid kenya  https://www.reddit.com/r/Kenya/comments/1jtcvb...   \n",
       "2  usaid kenya  https://www.reddit.com/r/Kenya/comments/1jsb14...   \n",
       "3  usaid kenya  https://www.reddit.com/r/Kenya/comments/1jjehw...   \n",
       "4  usaid kenya  https://www.reddit.com/r/Kenya/comments/1j6cjz...   \n",
       "\n",
       "                                           full_text  \n",
       "0  usaid left a month ago, do we have arvs in ken...  \n",
       "1  classism in r/kenya and r/nairobi the classism...  \n",
       "2  ex-usaid people!! let's talk are you still in ...  \n",
       "3  why western powers back israel no matter what ...  \n",
       "4  is kenya capable of funding its needs now that...  "
      ]
     },
     "execution_count": 57,
     "metadata": {},
     "output_type": "execute_result"
    }
   ],
   "source": [
    "reddit_df.drop('language', axis=1, inplace=True) #drop the language column as it is unnecessary now\n",
    "reddit_df.head()"
   ]
  },
  {
   "cell_type": "code",
   "execution_count": 58,
   "id": "33d8efca",
   "metadata": {},
   "outputs": [
    {
     "data": {
      "text/plain": [
       "(1127, 6)"
      ]
     },
     "execution_count": 58,
     "metadata": {},
     "output_type": "execute_result"
    }
   ],
   "source": [
    "reddit_df.shape"
   ]
  },
  {
   "cell_type": "markdown",
   "id": "b1c50774",
   "metadata": {},
   "source": [
    "### Removing Punctuation Marks"
   ]
  },
  {
   "cell_type": "code",
   "execution_count": 59,
   "id": "6c8931ec",
   "metadata": {},
   "outputs": [
    {
     "data": {
      "text/html": [
       "<div>\n",
       "<style scoped>\n",
       "    .dataframe tbody tr th:only-of-type {\n",
       "        vertical-align: middle;\n",
       "    }\n",
       "\n",
       "    .dataframe tbody tr th {\n",
       "        vertical-align: top;\n",
       "    }\n",
       "\n",
       "    .dataframe thead th {\n",
       "        text-align: right;\n",
       "    }\n",
       "</style>\n",
       "<table border=\"1\" class=\"dataframe\">\n",
       "  <thead>\n",
       "    <tr style=\"text-align: right;\">\n",
       "      <th></th>\n",
       "      <th>post_title</th>\n",
       "      <th>text</th>\n",
       "      <th>published_date</th>\n",
       "      <th>keyword</th>\n",
       "      <th>url</th>\n",
       "      <th>full_text</th>\n",
       "    </tr>\n",
       "  </thead>\n",
       "  <tbody>\n",
       "    <tr>\n",
       "      <th>0</th>\n",
       "      <td>USAID left a month ago, do we have ARVs in Kenya?</td>\n",
       "      <td>Someone on a different group (different websit...</td>\n",
       "      <td>2025-04-15</td>\n",
       "      <td>usaid kenya</td>\n",
       "      <td>https://www.reddit.com/r/Kenya/comments/1jzrn2...</td>\n",
       "      <td>usaid left a month ago do we have arvs in keny...</td>\n",
       "    </tr>\n",
       "    <tr>\n",
       "      <th>1</th>\n",
       "      <td>Classism in r/Kenya and r/nairobi</td>\n",
       "      <td>The classism I'm seeing in both subs is a good...</td>\n",
       "      <td>2025-04-07</td>\n",
       "      <td>usaid kenya</td>\n",
       "      <td>https://www.reddit.com/r/Kenya/comments/1jtcvb...</td>\n",
       "      <td>classism in rkenya and rnairobi the classism i...</td>\n",
       "    </tr>\n",
       "    <tr>\n",
       "      <th>2</th>\n",
       "      <td>EX-USAID people!! Let's talk</td>\n",
       "      <td>Are you still in contact with the organisation...</td>\n",
       "      <td>2025-04-05</td>\n",
       "      <td>usaid kenya</td>\n",
       "      <td>https://www.reddit.com/r/Kenya/comments/1jsb14...</td>\n",
       "      <td>exusaid people lets talk are you still in cont...</td>\n",
       "    </tr>\n",
       "    <tr>\n",
       "      <th>3</th>\n",
       "      <td>Why western powers back Israel no matter what ...</td>\n",
       "      <td>I don't care what good book you read, but it's...</td>\n",
       "      <td>2025-03-25</td>\n",
       "      <td>usaid kenya</td>\n",
       "      <td>https://www.reddit.com/r/Kenya/comments/1jjehw...</td>\n",
       "      <td>why western powers back israel no matter what ...</td>\n",
       "    </tr>\n",
       "    <tr>\n",
       "      <th>4</th>\n",
       "      <td>Is kenya capable of funding its needs now that...</td>\n",
       "      <td>How is kenya prepared to fill the vacuum of US...</td>\n",
       "      <td>2025-03-08</td>\n",
       "      <td>usaid kenya</td>\n",
       "      <td>https://www.reddit.com/r/Kenya/comments/1j6cjz...</td>\n",
       "      <td>is kenya capable of funding its needs now that...</td>\n",
       "    </tr>\n",
       "  </tbody>\n",
       "</table>\n",
       "</div>"
      ],
      "text/plain": [
       "                                          post_title  \\\n",
       "0  USAID left a month ago, do we have ARVs in Kenya?   \n",
       "1                  Classism in r/Kenya and r/nairobi   \n",
       "2                       EX-USAID people!! Let's talk   \n",
       "3  Why western powers back Israel no matter what ...   \n",
       "4  Is kenya capable of funding its needs now that...   \n",
       "\n",
       "                                                text published_date  \\\n",
       "0  Someone on a different group (different websit...     2025-04-15   \n",
       "1  The classism I'm seeing in both subs is a good...     2025-04-07   \n",
       "2  Are you still in contact with the organisation...     2025-04-05   \n",
       "3  I don't care what good book you read, but it's...     2025-03-25   \n",
       "4  How is kenya prepared to fill the vacuum of US...     2025-03-08   \n",
       "\n",
       "       keyword                                                url  \\\n",
       "0  usaid kenya  https://www.reddit.com/r/Kenya/comments/1jzrn2...   \n",
       "1  usaid kenya  https://www.reddit.com/r/Kenya/comments/1jtcvb...   \n",
       "2  usaid kenya  https://www.reddit.com/r/Kenya/comments/1jsb14...   \n",
       "3  usaid kenya  https://www.reddit.com/r/Kenya/comments/1jjehw...   \n",
       "4  usaid kenya  https://www.reddit.com/r/Kenya/comments/1j6cjz...   \n",
       "\n",
       "                                           full_text  \n",
       "0  usaid left a month ago do we have arvs in keny...  \n",
       "1  classism in rkenya and rnairobi the classism i...  \n",
       "2  exusaid people lets talk are you still in cont...  \n",
       "3  why western powers back israel no matter what ...  \n",
       "4  is kenya capable of funding its needs now that...  "
      ]
     },
     "execution_count": 59,
     "metadata": {},
     "output_type": "execute_result"
    }
   ],
   "source": [
    "import re\n",
    "import string\n",
    "\n",
    "# Function to remove punctuation\n",
    "def remove_punctuation(text):\n",
    "    return re.sub(f\"[{re.escape(string.punctuation)}]\", \"\", str(text))\n",
    "\n",
    "# Apply to the 'full_text' column\n",
    "reddit_df['full_text'] = reddit_df['full_text'].apply(remove_punctuation)\n",
    "\n",
    "reddit_df.head()\n"
   ]
  },
  {
   "cell_type": "markdown",
   "id": "f2a768ea",
   "metadata": {},
   "source": [
    "### Removing Stop Words,Emojis,Non-Emoji Symbols and Lemmatization"
   ]
  },
  {
   "cell_type": "code",
   "execution_count": 60,
   "id": "4b2484c6",
   "metadata": {},
   "outputs": [
    {
     "name": "stderr",
     "output_type": "stream",
     "text": [
      "[nltk_data] Downloading package stopwords to\n",
      "[nltk_data]     C:\\Users\\hp\\AppData\\Roaming\\nltk_data...\n",
      "[nltk_data]   Package stopwords is already up-to-date!\n",
      "[nltk_data] Downloading package wordnet to\n",
      "[nltk_data]     C:\\Users\\hp\\AppData\\Roaming\\nltk_data...\n",
      "[nltk_data]   Package wordnet is already up-to-date!\n",
      "[nltk_data] Downloading package omw-1.4 to\n",
      "[nltk_data]     C:\\Users\\hp\\AppData\\Roaming\\nltk_data...\n",
      "[nltk_data]   Package omw-1.4 is already up-to-date!\n"
     ]
    },
    {
     "data": {
      "text/html": [
       "<div>\n",
       "<style scoped>\n",
       "    .dataframe tbody tr th:only-of-type {\n",
       "        vertical-align: middle;\n",
       "    }\n",
       "\n",
       "    .dataframe tbody tr th {\n",
       "        vertical-align: top;\n",
       "    }\n",
       "\n",
       "    .dataframe thead th {\n",
       "        text-align: right;\n",
       "    }\n",
       "</style>\n",
       "<table border=\"1\" class=\"dataframe\">\n",
       "  <thead>\n",
       "    <tr style=\"text-align: right;\">\n",
       "      <th></th>\n",
       "      <th>post_title</th>\n",
       "      <th>text</th>\n",
       "      <th>published_date</th>\n",
       "      <th>keyword</th>\n",
       "      <th>url</th>\n",
       "      <th>full_text</th>\n",
       "      <th>cleaned_text</th>\n",
       "    </tr>\n",
       "  </thead>\n",
       "  <tbody>\n",
       "    <tr>\n",
       "      <th>541</th>\n",
       "      <td>February 5 Foreign Aid Rally in DC - updated w...</td>\n",
       "      <td>https://www.usaidstopwork.com/rallyinformation...</td>\n",
       "      <td>2025-02-04</td>\n",
       "      <td>USAID, foreign aid, foreign aid</td>\n",
       "      <td>https://i.redd.it/8tn24iuit0he1.jpeg</td>\n",
       "      <td>february 5 foreign aid rally in dc  updated wi...</td>\n",
       "      <td>february 5 foreign aid rally dc updated confir...</td>\n",
       "    </tr>\n",
       "    <tr>\n",
       "      <th>1056</th>\n",
       "      <td>Doctors on strike, Ethiopian government on the...</td>\n",
       "      <td>On average, doctors in Ethiopia earn just $80 ...</td>\n",
       "      <td>2025-06-11</td>\n",
       "      <td>unknown</td>\n",
       "      <td>https://continent.substack.com/p/doctors-on-st...</td>\n",
       "      <td>doctors on strike ethiopian government on the ...</td>\n",
       "      <td>doctor strike ethiopian government attack aver...</td>\n",
       "    </tr>\n",
       "    <tr>\n",
       "      <th>1018</th>\n",
       "      <td>Marrying at 72</td>\n",
       "      <td>Someone said their mom got married at 72, i do...</td>\n",
       "      <td>2025-06-11</td>\n",
       "      <td>unknown</td>\n",
       "      <td>https://www.reddit.com/r/Kenya/comments/1l8rbz...</td>\n",
       "      <td>marrying at 72 someone said their mom got marr...</td>\n",
       "      <td>marrying 72 someone said mom got married 72 kn...</td>\n",
       "    </tr>\n",
       "    <tr>\n",
       "      <th>749</th>\n",
       "      <td>The Bare Minimum SGR Experience</td>\n",
       "      <td>As a frequent user of the SGR, it’s hard not t...</td>\n",
       "      <td>2025-04-06</td>\n",
       "      <td>unknown</td>\n",
       "      <td>https://www.reddit.com/r/Kenya/comments/1jt0or...</td>\n",
       "      <td>the bare minimum sgr experience as a frequent ...</td>\n",
       "      <td>bare minimum sgr experience frequent user sgr ...</td>\n",
       "    </tr>\n",
       "    <tr>\n",
       "      <th>234</th>\n",
       "      <td>Racism - how often do you as a Kenyan feel rac...</td>\n",
       "      <td>I have lived half of my life in Kenya. I've ju...</td>\n",
       "      <td>2025-05-19</td>\n",
       "      <td>development aid kenya</td>\n",
       "      <td>https://www.reddit.com/r/Kenya/comments/1kq6n2...</td>\n",
       "      <td>racism  how often do you as a kenyan feel raci...</td>\n",
       "      <td>racism often kenyan feel racially attacked liv...</td>\n",
       "    </tr>\n",
       "    <tr>\n",
       "      <th>907</th>\n",
       "      <td>Cisco Systems, and the U.S. Agency for Interna...</td>\n",
       "      <td></td>\n",
       "      <td>2011-10-14</td>\n",
       "      <td>unknown</td>\n",
       "      <td>http://en.rian.ru/russia/20111014/167702989.html</td>\n",
       "      <td>cisco systems and the us agency for internatio...</td>\n",
       "      <td>cisco system u agency international developmen...</td>\n",
       "    </tr>\n",
       "    <tr>\n",
       "      <th>126</th>\n",
       "      <td>You gotta go!!</td>\n",
       "      <td>This is it. It’s been 6 days since you slept a...</td>\n",
       "      <td>2025-05-25</td>\n",
       "      <td>usaid kenya funding cut</td>\n",
       "      <td>https://www.reddit.com/r/Kenya/comments/1kuwrw...</td>\n",
       "      <td>you gotta go this is it it’s been 6 days since...</td>\n",
       "      <td>gotta go it’s 6 day since slept home work kept...</td>\n",
       "    </tr>\n",
       "    <tr>\n",
       "      <th>122</th>\n",
       "      <td>The Star today</td>\n",
       "      <td>Eh!</td>\n",
       "      <td>2025-05-27</td>\n",
       "      <td>usaid kenya funding cut</td>\n",
       "      <td>https://i.redd.it/j5ws7z3sfa3f1.jpeg</td>\n",
       "      <td>the star today eh</td>\n",
       "      <td>star today eh</td>\n",
       "    </tr>\n",
       "    <tr>\n",
       "      <th>515</th>\n",
       "      <td>State Department issues immediate, widespread ...</td>\n",
       "      <td></td>\n",
       "      <td>2025-01-24</td>\n",
       "      <td>foreign aid, foreign aid</td>\n",
       "      <td>https://www.politico.com/news/2025/01/24/state...</td>\n",
       "      <td>state department issues immediate widespread p...</td>\n",
       "      <td>state department issue immediate widespread pa...</td>\n",
       "    </tr>\n",
       "    <tr>\n",
       "      <th>782</th>\n",
       "      <td>World Health Organization warns of possible tu...</td>\n",
       "      <td></td>\n",
       "      <td>2025-03-16</td>\n",
       "      <td>unknown</td>\n",
       "      <td>https://www.nbcnews.com/health/health-news/tub...</td>\n",
       "      <td>world health organization warns of possible tu...</td>\n",
       "      <td>world health organization warns possible tuber...</td>\n",
       "    </tr>\n",
       "  </tbody>\n",
       "</table>\n",
       "</div>"
      ],
      "text/plain": [
       "                                             post_title  \\\n",
       "541   February 5 Foreign Aid Rally in DC - updated w...   \n",
       "1056  Doctors on strike, Ethiopian government on the...   \n",
       "1018                                     Marrying at 72   \n",
       "749                     The Bare Minimum SGR Experience   \n",
       "234   Racism - how often do you as a Kenyan feel rac...   \n",
       "907   Cisco Systems, and the U.S. Agency for Interna...   \n",
       "126                                      You gotta go!!   \n",
       "122                                      The Star today   \n",
       "515   State Department issues immediate, widespread ...   \n",
       "782   World Health Organization warns of possible tu...   \n",
       "\n",
       "                                                   text published_date  \\\n",
       "541   https://www.usaidstopwork.com/rallyinformation...     2025-02-04   \n",
       "1056  On average, doctors in Ethiopia earn just $80 ...     2025-06-11   \n",
       "1018  Someone said their mom got married at 72, i do...     2025-06-11   \n",
       "749   As a frequent user of the SGR, it’s hard not t...     2025-04-06   \n",
       "234   I have lived half of my life in Kenya. I've ju...     2025-05-19   \n",
       "907                                                         2011-10-14   \n",
       "126   This is it. It’s been 6 days since you slept a...     2025-05-25   \n",
       "122                                                Eh!      2025-05-27   \n",
       "515                                                         2025-01-24   \n",
       "782                                                         2025-03-16   \n",
       "\n",
       "                              keyword  \\\n",
       "541   USAID, foreign aid, foreign aid   \n",
       "1056                          unknown   \n",
       "1018                          unknown   \n",
       "749                           unknown   \n",
       "234             development aid kenya   \n",
       "907                           unknown   \n",
       "126           usaid kenya funding cut   \n",
       "122           usaid kenya funding cut   \n",
       "515          foreign aid, foreign aid   \n",
       "782                           unknown   \n",
       "\n",
       "                                                    url  \\\n",
       "541                https://i.redd.it/8tn24iuit0he1.jpeg   \n",
       "1056  https://continent.substack.com/p/doctors-on-st...   \n",
       "1018  https://www.reddit.com/r/Kenya/comments/1l8rbz...   \n",
       "749   https://www.reddit.com/r/Kenya/comments/1jt0or...   \n",
       "234   https://www.reddit.com/r/Kenya/comments/1kq6n2...   \n",
       "907    http://en.rian.ru/russia/20111014/167702989.html   \n",
       "126   https://www.reddit.com/r/Kenya/comments/1kuwrw...   \n",
       "122                https://i.redd.it/j5ws7z3sfa3f1.jpeg   \n",
       "515   https://www.politico.com/news/2025/01/24/state...   \n",
       "782   https://www.nbcnews.com/health/health-news/tub...   \n",
       "\n",
       "                                              full_text  \\\n",
       "541   february 5 foreign aid rally in dc  updated wi...   \n",
       "1056  doctors on strike ethiopian government on the ...   \n",
       "1018  marrying at 72 someone said their mom got marr...   \n",
       "749   the bare minimum sgr experience as a frequent ...   \n",
       "234   racism  how often do you as a kenyan feel raci...   \n",
       "907   cisco systems and the us agency for internatio...   \n",
       "126   you gotta go this is it it’s been 6 days since...   \n",
       "122                                  the star today eh    \n",
       "515   state department issues immediate widespread p...   \n",
       "782   world health organization warns of possible tu...   \n",
       "\n",
       "                                           cleaned_text  \n",
       "541   february 5 foreign aid rally dc updated confir...  \n",
       "1056  doctor strike ethiopian government attack aver...  \n",
       "1018  marrying 72 someone said mom got married 72 kn...  \n",
       "749   bare minimum sgr experience frequent user sgr ...  \n",
       "234   racism often kenyan feel racially attacked liv...  \n",
       "907   cisco system u agency international developmen...  \n",
       "126   gotta go it’s 6 day since slept home work kept...  \n",
       "122                                       star today eh  \n",
       "515   state department issue immediate widespread pa...  \n",
       "782   world health organization warns possible tuber...  "
      ]
     },
     "execution_count": 60,
     "metadata": {},
     "output_type": "execute_result"
    }
   ],
   "source": [
    "import re\n",
    "import nltk\n",
    "from nltk.corpus import stopwords\n",
    "from nltk.stem import WordNetLemmatizer\n",
    "\n",
    "# Download NLTK data\n",
    "nltk.download('stopwords')\n",
    "nltk.download('wordnet')\n",
    "nltk.download('omw-1.4')\n",
    "\n",
    "# Initialize stopwords and lemmatizer\n",
    "stop_words = set(stopwords.words('english'))\n",
    "lemmatizer = WordNetLemmatizer()\n",
    "\n",
    "# Function to remove emojis, emoticons, and other symbols\n",
    "def remove_emojis_symbols(text):\n",
    "    emoji_pattern = re.compile(\n",
    "        \"[\"\n",
    "        u\"\\U0001F600-\\U0001F64F\"  # emoticons\n",
    "        u\"\\U0001F300-\\U0001F5FF\"  # symbols & pictographs\n",
    "        u\"\\U0001F680-\\U0001F6FF\"  # transport & map symbols\n",
    "        u\"\\U0001F1E0-\\U0001F1FF\"  # flags\n",
    "        u\"\\U00002700-\\U000027BF\"  # dingbats\n",
    "        u\"\\U0001F900-\\U0001F9FF\"  # supplemental symbols and pictographs\n",
    "        u\"\\U0001FA70-\\U0001FAFF\"  # extended pictographic symbols\n",
    "        u\"\\U00002500-\\U00002BEF\"  # misc symbols\n",
    "        u\"\\U0000200D\"             # zero width joiner\n",
    "        u\"\\u2600-\\u26FF\"          # misc symbols\n",
    "        u\"\\u2700-\\u27BF\"\n",
    "        u\"\\uFE0F\"                 # variation selector\n",
    "        u\"\\u3030\"\n",
    "        u\"\\u00A9\"                 # ©\n",
    "        u\"\\u00AE\"                 # ®\n",
    "        u\"\\u2122\"                 # ™\n",
    "        \"]+\", flags=re.UNICODE)\n",
    "    return emoji_pattern.sub(r'', text)\n",
    "\n",
    "# Final cleaning function\n",
    "def clean_text(text):\n",
    "    text = remove_emojis_symbols(text)\n",
    "    words = text.split()\n",
    "    cleaned_words = [lemmatizer.lemmatize(word) for word in words if word not in stop_words]\n",
    "    return ' '.join(cleaned_words)\n",
    "\n",
    "# Apply to reddit_df\n",
    "reddit_df['cleaned_text'] = reddit_df['full_text'].apply(clean_text)\n",
    "\n",
    "# Preview sample\n",
    "reddit_df.sample(10)\n"
   ]
  },
  {
   "cell_type": "code",
   "execution_count": 61,
   "id": "1f21021b",
   "metadata": {},
   "outputs": [
    {
     "data": {
      "text/plain": [
       "'kenya allowed british rule beyond 1963 let’s talk hear white man stayed past 1963 it’s controversial thought begs question—how would kenya look today allowed british govern u year would developed south africa vibrant hong kong can’t help wonder truly ready independence honestly strongly believe weren’t—and maybe still aren’t freedom premature move let brit continue pulling string sake development i’m opening floor debate convince otherwise good people let’s talk kenya history development freedomdebate'"
      ]
     },
     "execution_count": 61,
     "metadata": {},
     "output_type": "execute_result"
    }
   ],
   "source": [
    "reddit_df.iloc[268]['cleaned_text']\n"
   ]
  },
  {
   "cell_type": "code",
   "execution_count": 62,
   "id": "803f5b12",
   "metadata": {},
   "outputs": [
    {
     "data": {
      "text/plain": [
       "'🤔 what if kenya allowed british rule beyond 1963 let’s talk about it hear me out the white man stayed past 1963 it’s a controversial thought but it begs the question—how would kenya look today if we allowed the british to govern us for a few more years would we be as developed as south africa or as vibrant as hong kong  \\r\\n\\r\\ni can’t help but wonder if we were truly ready for independence honestly i strongly believe we weren’t—and maybe still aren’t was freedom a premature move should we have let the brits continue pulling the strings for the sake of development  \\r\\n\\r\\ni’m opening the floor for debate convince me otherwise good people let’s talk 🧐 kenya history development freedomdebate'"
      ]
     },
     "execution_count": 62,
     "metadata": {},
     "output_type": "execute_result"
    }
   ],
   "source": [
    "reddit_df.iloc[268]['full_text']\n"
   ]
  },
  {
   "cell_type": "markdown",
   "id": "0b503440",
   "metadata": {},
   "source": [
    "### Tokenization"
   ]
  },
  {
   "cell_type": "code",
   "execution_count": 63,
   "id": "c68e64de",
   "metadata": {},
   "outputs": [
    {
     "name": "stderr",
     "output_type": "stream",
     "text": [
      "[nltk_data] Downloading package punkt to\n",
      "[nltk_data]     C:\\Users\\hp\\AppData\\Roaming\\nltk_data...\n",
      "[nltk_data]   Package punkt is already up-to-date!\n"
     ]
    },
    {
     "data": {
      "text/html": [
       "<div>\n",
       "<style scoped>\n",
       "    .dataframe tbody tr th:only-of-type {\n",
       "        vertical-align: middle;\n",
       "    }\n",
       "\n",
       "    .dataframe tbody tr th {\n",
       "        vertical-align: top;\n",
       "    }\n",
       "\n",
       "    .dataframe thead th {\n",
       "        text-align: right;\n",
       "    }\n",
       "</style>\n",
       "<table border=\"1\" class=\"dataframe\">\n",
       "  <thead>\n",
       "    <tr style=\"text-align: right;\">\n",
       "      <th></th>\n",
       "      <th>post_title</th>\n",
       "      <th>text</th>\n",
       "      <th>published_date</th>\n",
       "      <th>keyword</th>\n",
       "      <th>url</th>\n",
       "      <th>full_text</th>\n",
       "      <th>cleaned_text</th>\n",
       "      <th>tokens</th>\n",
       "    </tr>\n",
       "  </thead>\n",
       "  <tbody>\n",
       "    <tr>\n",
       "      <th>0</th>\n",
       "      <td>USAID left a month ago, do we have ARVs in Kenya?</td>\n",
       "      <td>Someone on a different group (different websit...</td>\n",
       "      <td>2025-04-15</td>\n",
       "      <td>usaid kenya</td>\n",
       "      <td>https://www.reddit.com/r/Kenya/comments/1jzrn2...</td>\n",
       "      <td>usaid left a month ago do we have arvs in keny...</td>\n",
       "      <td>usaid left month ago arvs kenya someone differ...</td>\n",
       "      <td>[usaid, left, month, ago, arvs, kenya, someone...</td>\n",
       "    </tr>\n",
       "    <tr>\n",
       "      <th>1</th>\n",
       "      <td>Classism in r/Kenya and r/nairobi</td>\n",
       "      <td>The classism I'm seeing in both subs is a good...</td>\n",
       "      <td>2025-04-07</td>\n",
       "      <td>usaid kenya</td>\n",
       "      <td>https://www.reddit.com/r/Kenya/comments/1jtcvb...</td>\n",
       "      <td>classism in rkenya and rnairobi the classism i...</td>\n",
       "      <td>classism rkenya rnairobi classism im seeing su...</td>\n",
       "      <td>[classism, rkenya, rnairobi, classism, im, see...</td>\n",
       "    </tr>\n",
       "    <tr>\n",
       "      <th>2</th>\n",
       "      <td>EX-USAID people!! Let's talk</td>\n",
       "      <td>Are you still in contact with the organisation...</td>\n",
       "      <td>2025-04-05</td>\n",
       "      <td>usaid kenya</td>\n",
       "      <td>https://www.reddit.com/r/Kenya/comments/1jsb14...</td>\n",
       "      <td>exusaid people lets talk are you still in cont...</td>\n",
       "      <td>exusaid people let talk still contact organisa...</td>\n",
       "      <td>[exusaid, people, let, talk, still, contact, o...</td>\n",
       "    </tr>\n",
       "    <tr>\n",
       "      <th>3</th>\n",
       "      <td>Why western powers back Israel no matter what ...</td>\n",
       "      <td>I don't care what good book you read, but it's...</td>\n",
       "      <td>2025-03-25</td>\n",
       "      <td>usaid kenya</td>\n",
       "      <td>https://www.reddit.com/r/Kenya/comments/1jjehw...</td>\n",
       "      <td>why western powers back israel no matter what ...</td>\n",
       "      <td>western power back israel matter kenya avoid u...</td>\n",
       "      <td>[western, power, back, israel, matter, kenya, ...</td>\n",
       "    </tr>\n",
       "    <tr>\n",
       "      <th>4</th>\n",
       "      <td>Is kenya capable of funding its needs now that...</td>\n",
       "      <td>How is kenya prepared to fill the vacuum of US...</td>\n",
       "      <td>2025-03-08</td>\n",
       "      <td>usaid kenya</td>\n",
       "      <td>https://www.reddit.com/r/Kenya/comments/1j6cjz...</td>\n",
       "      <td>is kenya capable of funding its needs now that...</td>\n",
       "      <td>kenya capable funding need usaid disbanded ken...</td>\n",
       "      <td>[kenya, capable, funding, need, usaid, disband...</td>\n",
       "    </tr>\n",
       "  </tbody>\n",
       "</table>\n",
       "</div>"
      ],
      "text/plain": [
       "                                          post_title  \\\n",
       "0  USAID left a month ago, do we have ARVs in Kenya?   \n",
       "1                  Classism in r/Kenya and r/nairobi   \n",
       "2                       EX-USAID people!! Let's talk   \n",
       "3  Why western powers back Israel no matter what ...   \n",
       "4  Is kenya capable of funding its needs now that...   \n",
       "\n",
       "                                                text published_date  \\\n",
       "0  Someone on a different group (different websit...     2025-04-15   \n",
       "1  The classism I'm seeing in both subs is a good...     2025-04-07   \n",
       "2  Are you still in contact with the organisation...     2025-04-05   \n",
       "3  I don't care what good book you read, but it's...     2025-03-25   \n",
       "4  How is kenya prepared to fill the vacuum of US...     2025-03-08   \n",
       "\n",
       "       keyword                                                url  \\\n",
       "0  usaid kenya  https://www.reddit.com/r/Kenya/comments/1jzrn2...   \n",
       "1  usaid kenya  https://www.reddit.com/r/Kenya/comments/1jtcvb...   \n",
       "2  usaid kenya  https://www.reddit.com/r/Kenya/comments/1jsb14...   \n",
       "3  usaid kenya  https://www.reddit.com/r/Kenya/comments/1jjehw...   \n",
       "4  usaid kenya  https://www.reddit.com/r/Kenya/comments/1j6cjz...   \n",
       "\n",
       "                                           full_text  \\\n",
       "0  usaid left a month ago do we have arvs in keny...   \n",
       "1  classism in rkenya and rnairobi the classism i...   \n",
       "2  exusaid people lets talk are you still in cont...   \n",
       "3  why western powers back israel no matter what ...   \n",
       "4  is kenya capable of funding its needs now that...   \n",
       "\n",
       "                                        cleaned_text  \\\n",
       "0  usaid left month ago arvs kenya someone differ...   \n",
       "1  classism rkenya rnairobi classism im seeing su...   \n",
       "2  exusaid people let talk still contact organisa...   \n",
       "3  western power back israel matter kenya avoid u...   \n",
       "4  kenya capable funding need usaid disbanded ken...   \n",
       "\n",
       "                                              tokens  \n",
       "0  [usaid, left, month, ago, arvs, kenya, someone...  \n",
       "1  [classism, rkenya, rnairobi, classism, im, see...  \n",
       "2  [exusaid, people, let, talk, still, contact, o...  \n",
       "3  [western, power, back, israel, matter, kenya, ...  \n",
       "4  [kenya, capable, funding, need, usaid, disband...  "
      ]
     },
     "execution_count": 63,
     "metadata": {},
     "output_type": "execute_result"
    }
   ],
   "source": [
    "import nltk\n",
    "from nltk.tokenize import word_tokenize\n",
    "\n",
    "# Download tokenizer data \n",
    "nltk.download('punkt')\n",
    "\n",
    "#  tokenization function\n",
    "def tokenize_text(text):\n",
    "    return word_tokenize(text)\n",
    "\n",
    "# Apply to cleaned text\n",
    "reddit_df['tokens'] = reddit_df['cleaned_text'].apply(tokenize_text)\n",
    "\n",
    "# display the first 5 rows\n",
    "reddit_df[['cleaned_text', 'tokens']].head()\n",
    "reddit_df.head()"
   ]
  },
  {
   "cell_type": "markdown",
   "id": "5420763f",
   "metadata": {},
   "source": [
    "## FINAL NEWS DATA TO BE USED ~ Cecilia_merged_news_dataset"
   ]
  },
  {
   "cell_type": "code",
   "execution_count": 64,
   "id": "b7f64fa0",
   "metadata": {},
   "outputs": [],
   "source": [
    "import pandas as pd\n",
    "import seaborn as sns"
   ]
  },
  {
   "cell_type": "code",
   "execution_count": 65,
   "id": "b375fb6b",
   "metadata": {},
   "outputs": [
    {
     "data": {
      "text/html": [
       "<div>\n",
       "<style scoped>\n",
       "    .dataframe tbody tr th:only-of-type {\n",
       "        vertical-align: middle;\n",
       "    }\n",
       "\n",
       "    .dataframe tbody tr th {\n",
       "        vertical-align: top;\n",
       "    }\n",
       "\n",
       "    .dataframe thead th {\n",
       "        text-align: right;\n",
       "    }\n",
       "</style>\n",
       "<table border=\"1\" class=\"dataframe\">\n",
       "  <thead>\n",
       "    <tr style=\"text-align: right;\">\n",
       "      <th></th>\n",
       "      <th>title</th>\n",
       "      <th>description</th>\n",
       "      <th>text</th>\n",
       "      <th>url</th>\n",
       "      <th>keyword</th>\n",
       "      <th>published_date</th>\n",
       "      <th>source_file</th>\n",
       "    </tr>\n",
       "  </thead>\n",
       "  <tbody>\n",
       "    <tr>\n",
       "      <th>0</th>\n",
       "      <td>Has DOGE really saved the US government $180bn?</td>\n",
       "      <td>Elon Musk first claimed the department would m...</td>\n",
       "      <td>President Donald Trump and adviser Elon Musk c...</td>\n",
       "      <td>https://www.aljazeera.com/news/2025/6/6/has-do...</td>\n",
       "      <td>usaid kenya</td>\n",
       "      <td>2025-06-06 11:21:51+00:00</td>\n",
       "      <td>Agatha_news.csv</td>\n",
       "    </tr>\n",
       "    <tr>\n",
       "      <th>1</th>\n",
       "      <td>The Life Story of Ecomobilus Technologies Limi...</td>\n",
       "      <td>By Prof Geoffrey Gitau Here is a story showcas...</td>\n",
       "      <td>By Prof Geoffrey Gitau\\r\\nHere is a story show...</td>\n",
       "      <td>https://cleantechnica.com/2025/05/26/the-life-...</td>\n",
       "      <td>usaid kenya</td>\n",
       "      <td>2025-05-26 17:13:41+00:00</td>\n",
       "      <td>Agatha_news.csv</td>\n",
       "    </tr>\n",
       "    <tr>\n",
       "      <th>2</th>\n",
       "      <td>Death, Sexual Violence and Human Trafficking: ...</td>\n",
       "      <td>by Brett Murphy and Anna Maria Barry-Jester \\n...</td>\n",
       "      <td>ProPublica is a nonprofit newsroom that invest...</td>\n",
       "      <td>https://www.propublica.org/article/trump-usaid...</td>\n",
       "      <td>usaid kenya</td>\n",
       "      <td>2025-05-28 18:45:00+00:00</td>\n",
       "      <td>Agatha_news.csv</td>\n",
       "    </tr>\n",
       "    <tr>\n",
       "      <th>3</th>\n",
       "      <td>Congress Should Quickly Approve Trump’s Rescis...</td>\n",
       "      <td>President Donald Trump‘s rescission legislatio...</td>\n",
       "      <td>President Donald Trumps rescission legislation...</td>\n",
       "      <td>https://www.dailysignal.com/2025/06/10/congres...</td>\n",
       "      <td>usaid kenya</td>\n",
       "      <td>2025-06-10 12:00:00+00:00</td>\n",
       "      <td>Agatha_news.csv</td>\n",
       "    </tr>\n",
       "    <tr>\n",
       "      <th>4</th>\n",
       "      <td>Food Safety Depends On Every Link In The Suppl...</td>\n",
       "      <td>Almost 1 in 10 people globally fall ill from c...</td>\n",
       "      <td>Colorful fish and vegetables can be purchased ...</td>\n",
       "      <td>https://www.forbes.com/sites/daniellenierenber...</td>\n",
       "      <td>usaid kenya</td>\n",
       "      <td>2025-06-06 13:55:41+00:00</td>\n",
       "      <td>Agatha_news.csv</td>\n",
       "    </tr>\n",
       "  </tbody>\n",
       "</table>\n",
       "</div>"
      ],
      "text/plain": [
       "                                               title  \\\n",
       "0    Has DOGE really saved the US government $180bn?   \n",
       "1  The Life Story of Ecomobilus Technologies Limi...   \n",
       "2  Death, Sexual Violence and Human Trafficking: ...   \n",
       "3  Congress Should Quickly Approve Trump’s Rescis...   \n",
       "4  Food Safety Depends On Every Link In The Suppl...   \n",
       "\n",
       "                                         description  \\\n",
       "0  Elon Musk first claimed the department would m...   \n",
       "1  By Prof Geoffrey Gitau Here is a story showcas...   \n",
       "2  by Brett Murphy and Anna Maria Barry-Jester \\n...   \n",
       "3  President Donald Trump‘s rescission legislatio...   \n",
       "4  Almost 1 in 10 people globally fall ill from c...   \n",
       "\n",
       "                                                text  \\\n",
       "0  President Donald Trump and adviser Elon Musk c...   \n",
       "1  By Prof Geoffrey Gitau\\r\\nHere is a story show...   \n",
       "2  ProPublica is a nonprofit newsroom that invest...   \n",
       "3  President Donald Trumps rescission legislation...   \n",
       "4  Colorful fish and vegetables can be purchased ...   \n",
       "\n",
       "                                                 url      keyword  \\\n",
       "0  https://www.aljazeera.com/news/2025/6/6/has-do...  usaid kenya   \n",
       "1  https://cleantechnica.com/2025/05/26/the-life-...  usaid kenya   \n",
       "2  https://www.propublica.org/article/trump-usaid...  usaid kenya   \n",
       "3  https://www.dailysignal.com/2025/06/10/congres...  usaid kenya   \n",
       "4  https://www.forbes.com/sites/daniellenierenber...  usaid kenya   \n",
       "\n",
       "              published_date      source_file  \n",
       "0  2025-06-06 11:21:51+00:00  Agatha_news.csv  \n",
       "1  2025-05-26 17:13:41+00:00  Agatha_news.csv  \n",
       "2  2025-05-28 18:45:00+00:00  Agatha_news.csv  \n",
       "3  2025-06-10 12:00:00+00:00  Agatha_news.csv  \n",
       "4  2025-06-06 13:55:41+00:00  Agatha_news.csv  "
      ]
     },
     "execution_count": 65,
     "metadata": {},
     "output_type": "execute_result"
    }
   ],
   "source": [
    "news_df = pd.read_csv('C:/Users/hp/Desktop/DATA NEXUS PROJECTS/USAID-Kenya-Sentiment-Analysis/data/processed/individual datasets/Cecilia_merged_news_dataset.csv')\n",
    "news_df.head()"
   ]
  },
  {
   "cell_type": "code",
   "execution_count": 66,
   "id": "3bc1e075",
   "metadata": {},
   "outputs": [
    {
     "data": {
      "text/html": [
       "<div>\n",
       "<style scoped>\n",
       "    .dataframe tbody tr th:only-of-type {\n",
       "        vertical-align: middle;\n",
       "    }\n",
       "\n",
       "    .dataframe tbody tr th {\n",
       "        vertical-align: top;\n",
       "    }\n",
       "\n",
       "    .dataframe thead th {\n",
       "        text-align: right;\n",
       "    }\n",
       "</style>\n",
       "<table border=\"1\" class=\"dataframe\">\n",
       "  <thead>\n",
       "    <tr style=\"text-align: right;\">\n",
       "      <th></th>\n",
       "      <th>title</th>\n",
       "      <th>description</th>\n",
       "      <th>text</th>\n",
       "      <th>url</th>\n",
       "      <th>keyword</th>\n",
       "      <th>published_date</th>\n",
       "      <th>source_file</th>\n",
       "    </tr>\n",
       "  </thead>\n",
       "  <tbody>\n",
       "    <tr>\n",
       "      <th>2633</th>\n",
       "      <td>Death, Sexual Violence and Human Trafficking: ...</td>\n",
       "      <td>by Brett Murphy and Anna Maria Barry-Jester \\r...</td>\n",
       "      <td>ProPublica is a nonprofit newsroom that invest...</td>\n",
       "      <td>https://www.propublica.org/article/trump-usaid...</td>\n",
       "      <td>NaN</td>\n",
       "      <td>2025-05-28 18:45:00+00:00</td>\n",
       "      <td>ruth_news.csv</td>\n",
       "    </tr>\n",
       "    <tr>\n",
       "      <th>2634</th>\n",
       "      <td>The Life Story of Ecomobilus Technologies Limi...</td>\n",
       "      <td>By Prof Geoffrey Gitau Here is a story showcas...</td>\n",
       "      <td>By Prof Geoffrey Gitau\\r\\nHere is a story show...</td>\n",
       "      <td>https://cleantechnica.com/2025/05/26/the-life-...</td>\n",
       "      <td>NaN</td>\n",
       "      <td>2025-05-26 17:13:41+00:00</td>\n",
       "      <td>ruth_news.csv</td>\n",
       "    </tr>\n",
       "    <tr>\n",
       "      <th>2635</th>\n",
       "      <td>Stakeholders’ perspectives on the status of fa...</td>\n",
       "      <td>Introduction Facility- and community-based dif...</td>\n",
       "      <td>Abstract\\r\\nIntroduction\\r\\nFacility- and comm...</td>\n",
       "      <td>https://journals.plos.org/plosone/article?id=1...</td>\n",
       "      <td>NaN</td>\n",
       "      <td>2025-05-22 14:00:00+00:00</td>\n",
       "      <td>ruth_news.csv</td>\n",
       "    </tr>\n",
       "    <tr>\n",
       "      <th>2636</th>\n",
       "      <td>Africa Needs More Renewables, So Why Is It Inv...</td>\n",
       "      <td>Sub-Saharan Africa has an energy funding deficit.</td>\n",
       "      <td>LICHTENBURG, SOUTH AFRICA - MAY 8: A man is se...</td>\n",
       "      <td>https://www.forbes.com/sites/sverrealvik/2025/...</td>\n",
       "      <td>NaN</td>\n",
       "      <td>2025-05-20 09:57:16+00:00</td>\n",
       "      <td>ruth_news.csv</td>\n",
       "    </tr>\n",
       "    <tr>\n",
       "      <th>2637</th>\n",
       "      <td>May 2025 Updates</td>\n",
       "      <td>Every month we send an email newsletter to our...</td>\n",
       "      <td>Every month we send an email newsletter to our...</td>\n",
       "      <td>https://blog.givewell.org/2025/05/19/may-2025-...</td>\n",
       "      <td>NaN</td>\n",
       "      <td>2025-05-19 19:26:41+00:00</td>\n",
       "      <td>ruth_news.csv</td>\n",
       "    </tr>\n",
       "  </tbody>\n",
       "</table>\n",
       "</div>"
      ],
      "text/plain": [
       "                                                  title  \\\n",
       "2633  Death, Sexual Violence and Human Trafficking: ...   \n",
       "2634  The Life Story of Ecomobilus Technologies Limi...   \n",
       "2635  Stakeholders’ perspectives on the status of fa...   \n",
       "2636  Africa Needs More Renewables, So Why Is It Inv...   \n",
       "2637                                   May 2025 Updates   \n",
       "\n",
       "                                            description  \\\n",
       "2633  by Brett Murphy and Anna Maria Barry-Jester \\r...   \n",
       "2634  By Prof Geoffrey Gitau Here is a story showcas...   \n",
       "2635  Introduction Facility- and community-based dif...   \n",
       "2636  Sub-Saharan Africa has an energy funding deficit.   \n",
       "2637  Every month we send an email newsletter to our...   \n",
       "\n",
       "                                                   text  \\\n",
       "2633  ProPublica is a nonprofit newsroom that invest...   \n",
       "2634  By Prof Geoffrey Gitau\\r\\nHere is a story show...   \n",
       "2635  Abstract\\r\\nIntroduction\\r\\nFacility- and comm...   \n",
       "2636  LICHTENBURG, SOUTH AFRICA - MAY 8: A man is se...   \n",
       "2637  Every month we send an email newsletter to our...   \n",
       "\n",
       "                                                    url keyword  \\\n",
       "2633  https://www.propublica.org/article/trump-usaid...     NaN   \n",
       "2634  https://cleantechnica.com/2025/05/26/the-life-...     NaN   \n",
       "2635  https://journals.plos.org/plosone/article?id=1...     NaN   \n",
       "2636  https://www.forbes.com/sites/sverrealvik/2025/...     NaN   \n",
       "2637  https://blog.givewell.org/2025/05/19/may-2025-...     NaN   \n",
       "\n",
       "                 published_date    source_file  \n",
       "2633  2025-05-28 18:45:00+00:00  ruth_news.csv  \n",
       "2634  2025-05-26 17:13:41+00:00  ruth_news.csv  \n",
       "2635  2025-05-22 14:00:00+00:00  ruth_news.csv  \n",
       "2636  2025-05-20 09:57:16+00:00  ruth_news.csv  \n",
       "2637  2025-05-19 19:26:41+00:00  ruth_news.csv  "
      ]
     },
     "execution_count": 66,
     "metadata": {},
     "output_type": "execute_result"
    }
   ],
   "source": [
    "news_df.tail()"
   ]
  },
  {
   "cell_type": "code",
   "execution_count": 67,
   "id": "6b0abe8d",
   "metadata": {},
   "outputs": [
    {
     "name": "stdout",
     "output_type": "stream",
     "text": [
      "<class 'pandas.core.frame.DataFrame'>\n",
      "RangeIndex: 2638 entries, 0 to 2637\n",
      "Data columns (total 7 columns):\n",
      " #   Column          Non-Null Count  Dtype \n",
      "---  ------          --------------  ----- \n",
      " 0   title           2638 non-null   object\n",
      " 1   description     2622 non-null   object\n",
      " 2   text            2613 non-null   object\n",
      " 3   url             2636 non-null   object\n",
      " 4   keyword         2379 non-null   object\n",
      " 5   published_date  2539 non-null   object\n",
      " 6   source_file     2638 non-null   object\n",
      "dtypes: object(7)\n",
      "memory usage: 144.4+ KB\n"
     ]
    }
   ],
   "source": [
    "news_df.info()"
   ]
  },
  {
   "cell_type": "code",
   "execution_count": 68,
   "id": "2b0bb4b5",
   "metadata": {},
   "outputs": [
    {
     "data": {
      "text/plain": [
       "(2638, 7)"
      ]
     },
     "execution_count": 68,
     "metadata": {},
     "output_type": "execute_result"
    }
   ],
   "source": [
    "news_df.shape"
   ]
  },
  {
   "cell_type": "code",
   "execution_count": 69,
   "id": "741f886d",
   "metadata": {},
   "outputs": [
    {
     "data": {
      "text/plain": [
       "Index(['title', 'description', 'text', 'url', 'keyword', 'published_date',\n",
       "       'source_file'],\n",
       "      dtype='object')"
      ]
     },
     "execution_count": 69,
     "metadata": {},
     "output_type": "execute_result"
    }
   ],
   "source": [
    "news_df.columns"
   ]
  },
  {
   "cell_type": "code",
   "execution_count": 70,
   "id": "5e28a9ee",
   "metadata": {},
   "outputs": [
    {
     "data": {
      "text/plain": [
       "title             object\n",
       "description       object\n",
       "text              object\n",
       "url               object\n",
       "keyword           object\n",
       "published_date    object\n",
       "source_file       object\n",
       "dtype: object"
      ]
     },
     "execution_count": 70,
     "metadata": {},
     "output_type": "execute_result"
    }
   ],
   "source": [
    "news_df.dtypes"
   ]
  },
  {
   "cell_type": "code",
   "execution_count": 71,
   "id": "8d562b52",
   "metadata": {},
   "outputs": [
    {
     "data": {
      "text/plain": [
       "title               0\n",
       "description        16\n",
       "text               25\n",
       "url                 2\n",
       "keyword           259\n",
       "published_date     99\n",
       "source_file         0\n",
       "dtype: int64"
      ]
     },
     "execution_count": 71,
     "metadata": {},
     "output_type": "execute_result"
    }
   ],
   "source": [
    "news_df.isna().sum()"
   ]
  },
  {
   "cell_type": "code",
   "execution_count": 72,
   "id": "4288fc98",
   "metadata": {},
   "outputs": [
    {
     "data": {
      "text/html": [
       "<div>\n",
       "<style scoped>\n",
       "    .dataframe tbody tr th:only-of-type {\n",
       "        vertical-align: middle;\n",
       "    }\n",
       "\n",
       "    .dataframe tbody tr th {\n",
       "        vertical-align: top;\n",
       "    }\n",
       "\n",
       "    .dataframe thead th {\n",
       "        text-align: right;\n",
       "    }\n",
       "</style>\n",
       "<table border=\"1\" class=\"dataframe\">\n",
       "  <thead>\n",
       "    <tr style=\"text-align: right;\">\n",
       "      <th></th>\n",
       "      <th>title</th>\n",
       "      <th>description</th>\n",
       "      <th>text</th>\n",
       "      <th>url</th>\n",
       "      <th>keyword</th>\n",
       "      <th>published_date</th>\n",
       "      <th>source_file</th>\n",
       "    </tr>\n",
       "  </thead>\n",
       "  <tbody>\n",
       "    <tr>\n",
       "      <th>count</th>\n",
       "      <td>2638</td>\n",
       "      <td>2622</td>\n",
       "      <td>2613</td>\n",
       "      <td>2636</td>\n",
       "      <td>2379</td>\n",
       "      <td>2539</td>\n",
       "      <td>2638</td>\n",
       "    </tr>\n",
       "    <tr>\n",
       "      <th>unique</th>\n",
       "      <td>1453</td>\n",
       "      <td>1457</td>\n",
       "      <td>1445</td>\n",
       "      <td>1486</td>\n",
       "      <td>30</td>\n",
       "      <td>1341</td>\n",
       "      <td>7</td>\n",
       "    </tr>\n",
       "    <tr>\n",
       "      <th>top</th>\n",
       "      <td>Death, Sexual Violence and Human Trafficking: ...</td>\n",
       "      <td>Elon Musk first claimed the department would m...</td>\n",
       "      <td>ProPublica is a nonprofit newsroom that invest...</td>\n",
       "      <td>https://www.propublica.org/article/trump-usaid...</td>\n",
       "      <td>foreign aid</td>\n",
       "      <td>2025-05-28 18:45:00+00:00</td>\n",
       "      <td>cecilia.newsapi.csv</td>\n",
       "    </tr>\n",
       "    <tr>\n",
       "      <th>freq</th>\n",
       "      <td>23</td>\n",
       "      <td>22</td>\n",
       "      <td>22</td>\n",
       "      <td>23</td>\n",
       "      <td>196</td>\n",
       "      <td>23</td>\n",
       "      <td>1787</td>\n",
       "    </tr>\n",
       "  </tbody>\n",
       "</table>\n",
       "</div>"
      ],
      "text/plain": [
       "                                                    title  \\\n",
       "count                                                2638   \n",
       "unique                                               1453   \n",
       "top     Death, Sexual Violence and Human Trafficking: ...   \n",
       "freq                                                   23   \n",
       "\n",
       "                                              description  \\\n",
       "count                                                2622   \n",
       "unique                                               1457   \n",
       "top     Elon Musk first claimed the department would m...   \n",
       "freq                                                   22   \n",
       "\n",
       "                                                     text  \\\n",
       "count                                                2613   \n",
       "unique                                               1445   \n",
       "top     ProPublica is a nonprofit newsroom that invest...   \n",
       "freq                                                   22   \n",
       "\n",
       "                                                      url      keyword  \\\n",
       "count                                                2636         2379   \n",
       "unique                                               1486           30   \n",
       "top     https://www.propublica.org/article/trump-usaid...  foreign aid   \n",
       "freq                                                   23          196   \n",
       "\n",
       "                   published_date          source_file  \n",
       "count                        2539                 2638  \n",
       "unique                       1341                    7  \n",
       "top     2025-05-28 18:45:00+00:00  cecilia.newsapi.csv  \n",
       "freq                           23                 1787  "
      ]
     },
     "execution_count": 72,
     "metadata": {},
     "output_type": "execute_result"
    }
   ],
   "source": [
    "news_df.describe()"
   ]
  },
  {
   "cell_type": "markdown",
   "id": "75d6e2a8",
   "metadata": {},
   "source": [
    "## Data Cleaning"
   ]
  },
  {
   "cell_type": "markdown",
   "id": "2e0c0a4a",
   "metadata": {},
   "source": [
    "### Feature Engineering"
   ]
  },
  {
   "cell_type": "markdown",
   "id": "471f62c6",
   "metadata": {},
   "source": [
    "##### Create column 'time' from 'published_date'"
   ]
  },
  {
   "cell_type": "code",
   "execution_count": 73,
   "id": "a0207b92",
   "metadata": {},
   "outputs": [
    {
     "data": {
      "text/html": [
       "<div>\n",
       "<style scoped>\n",
       "    .dataframe tbody tr th:only-of-type {\n",
       "        vertical-align: middle;\n",
       "    }\n",
       "\n",
       "    .dataframe tbody tr th {\n",
       "        vertical-align: top;\n",
       "    }\n",
       "\n",
       "    .dataframe thead th {\n",
       "        text-align: right;\n",
       "    }\n",
       "</style>\n",
       "<table border=\"1\" class=\"dataframe\">\n",
       "  <thead>\n",
       "    <tr style=\"text-align: right;\">\n",
       "      <th></th>\n",
       "      <th>title</th>\n",
       "      <th>description</th>\n",
       "      <th>text</th>\n",
       "      <th>url</th>\n",
       "      <th>keyword</th>\n",
       "      <th>published_date</th>\n",
       "      <th>source_file</th>\n",
       "      <th>time</th>\n",
       "    </tr>\n",
       "  </thead>\n",
       "  <tbody>\n",
       "    <tr>\n",
       "      <th>0</th>\n",
       "      <td>Has DOGE really saved the US government $180bn?</td>\n",
       "      <td>Elon Musk first claimed the department would m...</td>\n",
       "      <td>President Donald Trump and adviser Elon Musk c...</td>\n",
       "      <td>https://www.aljazeera.com/news/2025/6/6/has-do...</td>\n",
       "      <td>usaid kenya</td>\n",
       "      <td>2025-06-06</td>\n",
       "      <td>Agatha_news.csv</td>\n",
       "      <td>11:21:51</td>\n",
       "    </tr>\n",
       "    <tr>\n",
       "      <th>1</th>\n",
       "      <td>The Life Story of Ecomobilus Technologies Limi...</td>\n",
       "      <td>By Prof Geoffrey Gitau Here is a story showcas...</td>\n",
       "      <td>By Prof Geoffrey Gitau\\r\\nHere is a story show...</td>\n",
       "      <td>https://cleantechnica.com/2025/05/26/the-life-...</td>\n",
       "      <td>usaid kenya</td>\n",
       "      <td>2025-05-26</td>\n",
       "      <td>Agatha_news.csv</td>\n",
       "      <td>17:13:41</td>\n",
       "    </tr>\n",
       "    <tr>\n",
       "      <th>2</th>\n",
       "      <td>Death, Sexual Violence and Human Trafficking: ...</td>\n",
       "      <td>by Brett Murphy and Anna Maria Barry-Jester \\n...</td>\n",
       "      <td>ProPublica is a nonprofit newsroom that invest...</td>\n",
       "      <td>https://www.propublica.org/article/trump-usaid...</td>\n",
       "      <td>usaid kenya</td>\n",
       "      <td>2025-05-28</td>\n",
       "      <td>Agatha_news.csv</td>\n",
       "      <td>18:45:00</td>\n",
       "    </tr>\n",
       "    <tr>\n",
       "      <th>3</th>\n",
       "      <td>Congress Should Quickly Approve Trump’s Rescis...</td>\n",
       "      <td>President Donald Trump‘s rescission legislatio...</td>\n",
       "      <td>President Donald Trumps rescission legislation...</td>\n",
       "      <td>https://www.dailysignal.com/2025/06/10/congres...</td>\n",
       "      <td>usaid kenya</td>\n",
       "      <td>2025-06-10</td>\n",
       "      <td>Agatha_news.csv</td>\n",
       "      <td>12:00:00</td>\n",
       "    </tr>\n",
       "    <tr>\n",
       "      <th>4</th>\n",
       "      <td>Food Safety Depends On Every Link In The Suppl...</td>\n",
       "      <td>Almost 1 in 10 people globally fall ill from c...</td>\n",
       "      <td>Colorful fish and vegetables can be purchased ...</td>\n",
       "      <td>https://www.forbes.com/sites/daniellenierenber...</td>\n",
       "      <td>usaid kenya</td>\n",
       "      <td>2025-06-06</td>\n",
       "      <td>Agatha_news.csv</td>\n",
       "      <td>13:55:41</td>\n",
       "    </tr>\n",
       "  </tbody>\n",
       "</table>\n",
       "</div>"
      ],
      "text/plain": [
       "                                               title  \\\n",
       "0    Has DOGE really saved the US government $180bn?   \n",
       "1  The Life Story of Ecomobilus Technologies Limi...   \n",
       "2  Death, Sexual Violence and Human Trafficking: ...   \n",
       "3  Congress Should Quickly Approve Trump’s Rescis...   \n",
       "4  Food Safety Depends On Every Link In The Suppl...   \n",
       "\n",
       "                                         description  \\\n",
       "0  Elon Musk first claimed the department would m...   \n",
       "1  By Prof Geoffrey Gitau Here is a story showcas...   \n",
       "2  by Brett Murphy and Anna Maria Barry-Jester \\n...   \n",
       "3  President Donald Trump‘s rescission legislatio...   \n",
       "4  Almost 1 in 10 people globally fall ill from c...   \n",
       "\n",
       "                                                text  \\\n",
       "0  President Donald Trump and adviser Elon Musk c...   \n",
       "1  By Prof Geoffrey Gitau\\r\\nHere is a story show...   \n",
       "2  ProPublica is a nonprofit newsroom that invest...   \n",
       "3  President Donald Trumps rescission legislation...   \n",
       "4  Colorful fish and vegetables can be purchased ...   \n",
       "\n",
       "                                                 url      keyword  \\\n",
       "0  https://www.aljazeera.com/news/2025/6/6/has-do...  usaid kenya   \n",
       "1  https://cleantechnica.com/2025/05/26/the-life-...  usaid kenya   \n",
       "2  https://www.propublica.org/article/trump-usaid...  usaid kenya   \n",
       "3  https://www.dailysignal.com/2025/06/10/congres...  usaid kenya   \n",
       "4  https://www.forbes.com/sites/daniellenierenber...  usaid kenya   \n",
       "\n",
       "  published_date      source_file      time  \n",
       "0     2025-06-06  Agatha_news.csv  11:21:51  \n",
       "1     2025-05-26  Agatha_news.csv  17:13:41  \n",
       "2     2025-05-28  Agatha_news.csv  18:45:00  \n",
       "3     2025-06-10  Agatha_news.csv  12:00:00  \n",
       "4     2025-06-06  Agatha_news.csv  13:55:41  "
      ]
     },
     "execution_count": 73,
     "metadata": {},
     "output_type": "execute_result"
    }
   ],
   "source": [
    "# Convert published_date to datetime format\n",
    "news_df['published_date'] = pd.to_datetime(news_df['published_date'])\n",
    "\n",
    "# Extract time into a new column 'time'\n",
    "news_df['time'] = news_df['published_date'].dt.time\n",
    "\n",
    "# Keep only the date (drop the time) in published_date\n",
    "news_df['published_date'] = news_df['published_date'].dt.date\n",
    "\n",
    "# Preview\n",
    "news_df.head()\n"
   ]
  },
  {
   "cell_type": "markdown",
   "id": "6c29aff8",
   "metadata": {},
   "source": [
    "### Dropping Unneccessary Columns"
   ]
  },
  {
   "cell_type": "code",
   "execution_count": 74,
   "id": "d08ee5eb",
   "metadata": {},
   "outputs": [
    {
     "data": {
      "text/html": [
       "<div>\n",
       "<style scoped>\n",
       "    .dataframe tbody tr th:only-of-type {\n",
       "        vertical-align: middle;\n",
       "    }\n",
       "\n",
       "    .dataframe tbody tr th {\n",
       "        vertical-align: top;\n",
       "    }\n",
       "\n",
       "    .dataframe thead th {\n",
       "        text-align: right;\n",
       "    }\n",
       "</style>\n",
       "<table border=\"1\" class=\"dataframe\">\n",
       "  <thead>\n",
       "    <tr style=\"text-align: right;\">\n",
       "      <th></th>\n",
       "      <th>title</th>\n",
       "      <th>description</th>\n",
       "      <th>text</th>\n",
       "      <th>url</th>\n",
       "      <th>keyword</th>\n",
       "      <th>published_date</th>\n",
       "    </tr>\n",
       "  </thead>\n",
       "  <tbody>\n",
       "    <tr>\n",
       "      <th>0</th>\n",
       "      <td>Has DOGE really saved the US government $180bn?</td>\n",
       "      <td>Elon Musk first claimed the department would m...</td>\n",
       "      <td>President Donald Trump and adviser Elon Musk c...</td>\n",
       "      <td>https://www.aljazeera.com/news/2025/6/6/has-do...</td>\n",
       "      <td>usaid kenya</td>\n",
       "      <td>2025-06-06</td>\n",
       "    </tr>\n",
       "    <tr>\n",
       "      <th>1</th>\n",
       "      <td>The Life Story of Ecomobilus Technologies Limi...</td>\n",
       "      <td>By Prof Geoffrey Gitau Here is a story showcas...</td>\n",
       "      <td>By Prof Geoffrey Gitau\\r\\nHere is a story show...</td>\n",
       "      <td>https://cleantechnica.com/2025/05/26/the-life-...</td>\n",
       "      <td>usaid kenya</td>\n",
       "      <td>2025-05-26</td>\n",
       "    </tr>\n",
       "    <tr>\n",
       "      <th>2</th>\n",
       "      <td>Death, Sexual Violence and Human Trafficking: ...</td>\n",
       "      <td>by Brett Murphy and Anna Maria Barry-Jester \\n...</td>\n",
       "      <td>ProPublica is a nonprofit newsroom that invest...</td>\n",
       "      <td>https://www.propublica.org/article/trump-usaid...</td>\n",
       "      <td>usaid kenya</td>\n",
       "      <td>2025-05-28</td>\n",
       "    </tr>\n",
       "    <tr>\n",
       "      <th>3</th>\n",
       "      <td>Congress Should Quickly Approve Trump’s Rescis...</td>\n",
       "      <td>President Donald Trump‘s rescission legislatio...</td>\n",
       "      <td>President Donald Trumps rescission legislation...</td>\n",
       "      <td>https://www.dailysignal.com/2025/06/10/congres...</td>\n",
       "      <td>usaid kenya</td>\n",
       "      <td>2025-06-10</td>\n",
       "    </tr>\n",
       "    <tr>\n",
       "      <th>4</th>\n",
       "      <td>Food Safety Depends On Every Link In The Suppl...</td>\n",
       "      <td>Almost 1 in 10 people globally fall ill from c...</td>\n",
       "      <td>Colorful fish and vegetables can be purchased ...</td>\n",
       "      <td>https://www.forbes.com/sites/daniellenierenber...</td>\n",
       "      <td>usaid kenya</td>\n",
       "      <td>2025-06-06</td>\n",
       "    </tr>\n",
       "  </tbody>\n",
       "</table>\n",
       "</div>"
      ],
      "text/plain": [
       "                                               title  \\\n",
       "0    Has DOGE really saved the US government $180bn?   \n",
       "1  The Life Story of Ecomobilus Technologies Limi...   \n",
       "2  Death, Sexual Violence and Human Trafficking: ...   \n",
       "3  Congress Should Quickly Approve Trump’s Rescis...   \n",
       "4  Food Safety Depends On Every Link In The Suppl...   \n",
       "\n",
       "                                         description  \\\n",
       "0  Elon Musk first claimed the department would m...   \n",
       "1  By Prof Geoffrey Gitau Here is a story showcas...   \n",
       "2  by Brett Murphy and Anna Maria Barry-Jester \\n...   \n",
       "3  President Donald Trump‘s rescission legislatio...   \n",
       "4  Almost 1 in 10 people globally fall ill from c...   \n",
       "\n",
       "                                                text  \\\n",
       "0  President Donald Trump and adviser Elon Musk c...   \n",
       "1  By Prof Geoffrey Gitau\\r\\nHere is a story show...   \n",
       "2  ProPublica is a nonprofit newsroom that invest...   \n",
       "3  President Donald Trumps rescission legislation...   \n",
       "4  Colorful fish and vegetables can be purchased ...   \n",
       "\n",
       "                                                 url      keyword  \\\n",
       "0  https://www.aljazeera.com/news/2025/6/6/has-do...  usaid kenya   \n",
       "1  https://cleantechnica.com/2025/05/26/the-life-...  usaid kenya   \n",
       "2  https://www.propublica.org/article/trump-usaid...  usaid kenya   \n",
       "3  https://www.dailysignal.com/2025/06/10/congres...  usaid kenya   \n",
       "4  https://www.forbes.com/sites/daniellenierenber...  usaid kenya   \n",
       "\n",
       "  published_date  \n",
       "0     2025-06-06  \n",
       "1     2025-05-26  \n",
       "2     2025-05-28  \n",
       "3     2025-06-10  \n",
       "4     2025-06-06  "
      ]
     },
     "execution_count": 74,
     "metadata": {},
     "output_type": "execute_result"
    }
   ],
   "source": [
    "news_df.drop(columns=['source_file', 'time'], inplace=True)\n",
    "news_df.head()\n"
   ]
  },
  {
   "cell_type": "markdown",
   "id": "5d5c10e2",
   "metadata": {},
   "source": [
    "### Checking for missing values"
   ]
  },
  {
   "cell_type": "code",
   "execution_count": 75,
   "id": "5b4cabf0",
   "metadata": {},
   "outputs": [
    {
     "data": {
      "text/plain": [
       "title               0\n",
       "description        16\n",
       "text               25\n",
       "url                 2\n",
       "keyword           259\n",
       "published_date     99\n",
       "dtype: int64"
      ]
     },
     "execution_count": 75,
     "metadata": {},
     "output_type": "execute_result"
    }
   ],
   "source": [
    "news_df.isna().sum() #check for missing values"
   ]
  },
  {
   "cell_type": "code",
   "execution_count": 76,
   "id": "03314450",
   "metadata": {},
   "outputs": [],
   "source": [
    "# Fill columns with placeholders and empty string\n",
    "news_df['description'].fillna(' ', inplace=True)\n",
    "news_df['text'].fillna(' ', inplace=True)\n",
    "\n",
    "# Drop rows where url, keyword or published_date is missing\n",
    "news_df.dropna(subset=['url', 'published_date','keyword'], inplace=True)\n"
   ]
  },
  {
   "cell_type": "code",
   "execution_count": 77,
   "id": "e8624e36",
   "metadata": {},
   "outputs": [
    {
     "data": {
      "text/plain": [
       "title             0\n",
       "description       0\n",
       "text              0\n",
       "url               0\n",
       "keyword           0\n",
       "published_date    0\n",
       "dtype: int64"
      ]
     },
     "execution_count": 77,
     "metadata": {},
     "output_type": "execute_result"
    }
   ],
   "source": [
    "news_df.isna().sum() #confirm that there are no more missing values and data has been cleaned well"
   ]
  },
  {
   "cell_type": "code",
   "execution_count": 78,
   "id": "b1ba72ef",
   "metadata": {},
   "outputs": [
    {
     "data": {
      "text/plain": [
       "(2379, 6)"
      ]
     },
     "execution_count": 78,
     "metadata": {},
     "output_type": "execute_result"
    }
   ],
   "source": [
    "news_df.shape #check the shape of the data after dealing with missing values. \n",
    "#there is still a good amount of data left, since only around 300 rows were dropped."
   ]
  },
  {
   "cell_type": "markdown",
   "id": "e9c5e349",
   "metadata": {},
   "source": [
    "### Check for duplicates"
   ]
  },
  {
   "cell_type": "code",
   "execution_count": 79,
   "id": "7afc1af2",
   "metadata": {},
   "outputs": [
    {
     "data": {
      "text/plain": [
       "98"
      ]
     },
     "execution_count": 79,
     "metadata": {},
     "output_type": "execute_result"
    }
   ],
   "source": [
    "news_df.duplicated().sum() #check the number of uplicates in the data"
   ]
  },
  {
   "cell_type": "markdown",
   "id": "55b07b40",
   "metadata": {},
   "source": [
    "#### Drop duplicates"
   ]
  },
  {
   "cell_type": "code",
   "execution_count": 80,
   "id": "6b199730",
   "metadata": {},
   "outputs": [],
   "source": [
    "news_df.drop_duplicates(inplace=True) #drop the duplicates"
   ]
  },
  {
   "cell_type": "code",
   "execution_count": 81,
   "id": "f3a57cee",
   "metadata": {},
   "outputs": [
    {
     "data": {
      "text/plain": [
       "0"
      ]
     },
     "execution_count": 81,
     "metadata": {},
     "output_type": "execute_result"
    }
   ],
   "source": [
    "news_df.duplicated().sum() #confirm that all duplicates have been dropped, and the data is clean"
   ]
  },
  {
   "cell_type": "code",
   "execution_count": 82,
   "id": "ec4fc7ba",
   "metadata": {},
   "outputs": [
    {
     "data": {
      "text/plain": [
       "(2281, 6)"
      ]
     },
     "execution_count": 82,
     "metadata": {},
     "output_type": "execute_result"
    }
   ],
   "source": [
    "news_df.shape #check the new shape of the data"
   ]
  },
  {
   "cell_type": "markdown",
   "id": "71811dcb",
   "metadata": {},
   "source": [
    "## Sentiment Analysis Cleaning"
   ]
  },
  {
   "cell_type": "markdown",
   "id": "d04be4e8",
   "metadata": {},
   "source": [
    "### Feature Engineering"
   ]
  },
  {
   "cell_type": "markdown",
   "id": "3f818da3",
   "metadata": {},
   "source": [
    "Creating a new column 'full_text' byy combining 'title', 'description', 'text' columns and the empty strings used in filling na"
   ]
  },
  {
   "cell_type": "code",
   "execution_count": 83,
   "id": "83972e2c",
   "metadata": {},
   "outputs": [
    {
     "data": {
      "text/plain": [
       "'Food Safety Depends On Every Link In The Supply Chain Almost 1 in 10 people globally fall ill from contaminated food every year. Making our food supply safer for communities depends on everyone.Colorful fish and vegetables can be purchased at a public market.\\r\\ngetty\\r\\nFor communities to be nourished, their food supply must be safe to eat.\\r\\nThis sounds obvious, but its worth repeating, becaus… [+4445 chars]'"
      ]
     },
     "execution_count": 83,
     "metadata": {},
     "output_type": "execute_result"
    }
   ],
   "source": [
    "news_df['full_text'] = news_df['title'] + ' ' + news_df['description'] + news_df['text']\n",
    "news_df.iloc[4]['full_text']  #sample check for row number 5"
   ]
  },
  {
   "cell_type": "markdown",
   "id": "253065b8",
   "metadata": {},
   "source": [
    "### Lowercasing"
   ]
  },
  {
   "cell_type": "markdown",
   "id": "ff1681f5",
   "metadata": {},
   "source": [
    "Converting all text to lowercase"
   ]
  },
  {
   "cell_type": "code",
   "execution_count": 84,
   "id": "4722aa81",
   "metadata": {},
   "outputs": [
    {
     "data": {
      "text/plain": [
       "'food safety depends on every link in the supply chain almost 1 in 10 people globally fall ill from contaminated food every year. making our food supply safer for communities depends on everyone.colorful fish and vegetables can be purchased at a public market.\\r\\ngetty\\r\\nfor communities to be nourished, their food supply must be safe to eat.\\r\\nthis sounds obvious, but its worth repeating, becaus… [+4445 chars]'"
      ]
     },
     "execution_count": 84,
     "metadata": {},
     "output_type": "execute_result"
    }
   ],
   "source": [
    "news_df['full_text'] = news_df['full_text'].str.lower()\n",
    "news_df.iloc[4]['full_text'] #sample check for row number 5 and confirm that all text has been lowercased"
   ]
  },
  {
   "cell_type": "markdown",
   "id": "95a094fc",
   "metadata": {},
   "source": [
    "Cleaning the text and remove \\r\\n, backslashes \\, and any similar unwanted characters"
   ]
  },
  {
   "cell_type": "code",
   "execution_count": 85,
   "id": "cbe7086e",
   "metadata": {},
   "outputs": [],
   "source": [
    "# Remove \\r, \\n, and backslashes from the 'text' column\n",
    "news_df['full_text'] = news_df['full_text'].str.replace(r'\\r', ' ', regex=True)\n",
    "news_df['full_text'] = news_df['full_text'].str.replace(r'\\n', ' ', regex=True)\n",
    "news_df['full_text'] = news_df['full_text'].str.replace(r'\\\\', '', regex=True)\n"
   ]
  },
  {
   "cell_type": "code",
   "execution_count": 86,
   "id": "3a05d3f8",
   "metadata": {},
   "outputs": [
    {
     "data": {
      "text/plain": [
       "'food safety depends on every link in the supply chain almost 1 in 10 people globally fall ill from contaminated food every year. making our food supply safer for communities depends on everyone.colorful fish and vegetables can be purchased at a public market.  getty  for communities to be nourished, their food supply must be safe to eat.  this sounds obvious, but its worth repeating, becaus… [+4445 chars]'"
      ]
     },
     "execution_count": 86,
     "metadata": {},
     "output_type": "execute_result"
    }
   ],
   "source": [
    "news_df.iloc[4]['full_text']"
   ]
  },
  {
   "cell_type": "markdown",
   "id": "2264f8d0",
   "metadata": {},
   "source": [
    "### Translate all text to English"
   ]
  },
  {
   "cell_type": "code",
   "execution_count": 87,
   "id": "d0e2ae5d",
   "metadata": {},
   "outputs": [
    {
     "data": {
      "text/plain": [
       "en    2281\n",
       "Name: language, dtype: int64"
      ]
     },
     "execution_count": 87,
     "metadata": {},
     "output_type": "execute_result"
    }
   ],
   "source": [
    "from langdetect import detect\n",
    "\n",
    "# Language detection, detect what language the 'full_text' is in\n",
    "news_df['language'] = news_df['full_text'].apply(lambda x: detect(x) if pd.notnull(x) else 'unknown')\n",
    "news_df['language'].value_counts() \n",
    "#from the output, all 2281 rows are in English, so there is no need for translation to English"
   ]
  },
  {
   "cell_type": "markdown",
   "id": "17b022ec",
   "metadata": {},
   "source": [
    "### Removing Punctuation Marks"
   ]
  },
  {
   "cell_type": "code",
   "execution_count": 88,
   "id": "01039474",
   "metadata": {},
   "outputs": [
    {
     "data": {
      "text/plain": [
       "'food safety depends on every link in the supply chain almost 1 in 10 people globally fall ill from contaminated food every year making our food supply safer for communities depends on everyonecolorful fish and vegetables can be purchased at a public market  getty  for communities to be nourished their food supply must be safe to eat  this sounds obvious but its worth repeating becaus… 4445 chars'"
      ]
     },
     "execution_count": 88,
     "metadata": {},
     "output_type": "execute_result"
    }
   ],
   "source": [
    "import re\n",
    "import string\n",
    "\n",
    "# Function to remove punctuation\n",
    "def remove_punctuation(text):\n",
    "    return re.sub(f\"[{re.escape(string.punctuation)}]\", \"\", str(text))\n",
    "\n",
    "# Apply to the 'full_text' column\n",
    "news_df['full_text'] = news_df['full_text'].apply(remove_punctuation)\n",
    "\n",
    "news_df.iloc[4]['full_text'] #using column 5 as an example to see whether all punctuation marks have been removed and from my observation, all punctuation marks have been removed\n"
   ]
  },
  {
   "cell_type": "markdown",
   "id": "e59a29dc",
   "metadata": {},
   "source": [
    "### Removing Stop Words,Emojis,Non-Emoji Symbols and Lemmatization"
   ]
  },
  {
   "cell_type": "markdown",
   "id": "008a7e48",
   "metadata": {},
   "source": [
    "Removes emojis and special symbols – Eliminates non-textual elements to reduce noise.\n",
    "\n",
    "Removes stopwords – Discards common words with little meaning to focus on key terms.\n",
    "\n",
    "Lemmatizes words – Converts words to their base forms for standardization.\n"
   ]
  },
  {
   "cell_type": "code",
   "execution_count": 89,
   "id": "09464e32",
   "metadata": {},
   "outputs": [
    {
     "name": "stderr",
     "output_type": "stream",
     "text": [
      "[nltk_data] Downloading package stopwords to\n",
      "[nltk_data]     C:\\Users\\hp\\AppData\\Roaming\\nltk_data...\n",
      "[nltk_data]   Package stopwords is already up-to-date!\n",
      "[nltk_data] Downloading package wordnet to\n",
      "[nltk_data]     C:\\Users\\hp\\AppData\\Roaming\\nltk_data...\n",
      "[nltk_data]   Package wordnet is already up-to-date!\n",
      "[nltk_data] Downloading package omw-1.4 to\n",
      "[nltk_data]     C:\\Users\\hp\\AppData\\Roaming\\nltk_data...\n",
      "[nltk_data]   Package omw-1.4 is already up-to-date!\n"
     ]
    },
    {
     "data": {
      "text/plain": [
       "'food safety depends every link supply chain almost 1 10 people globally fall ill contaminated food every year making food supply safer community depends everyonecolorful fish vegetable purchased public market getty community nourished food supply must safe eat sound obvious worth repeating becaus… 4445 char'"
      ]
     },
     "execution_count": 89,
     "metadata": {},
     "output_type": "execute_result"
    }
   ],
   "source": [
    "import re\n",
    "import nltk\n",
    "from nltk.corpus import stopwords\n",
    "from nltk.stem import WordNetLemmatizer\n",
    "\n",
    "# Download NLTK data\n",
    "nltk.download('stopwords')\n",
    "nltk.download('wordnet')\n",
    "nltk.download('omw-1.4')\n",
    "\n",
    "# Initialize stopwords and lemmatizer\n",
    "stop_words = set(stopwords.words('english'))\n",
    "lemmatizer = WordNetLemmatizer()\n",
    "\n",
    "# Function to remove emojis, emoticons, and other symbols\n",
    "def remove_emojis_symbols(text):\n",
    "    emoji_pattern = re.compile(\n",
    "        \"[\"\n",
    "        u\"\\U0001F600-\\U0001F64F\"  # emoticons\n",
    "        u\"\\U0001F300-\\U0001F5FF\"  # symbols & pictographs\n",
    "        u\"\\U0001F680-\\U0001F6FF\"  # transport & map symbols\n",
    "        u\"\\U0001F1E0-\\U0001F1FF\"  # flags\n",
    "        u\"\\U00002700-\\U000027BF\"  # dingbats\n",
    "        u\"\\U0001F900-\\U0001F9FF\"  # supplemental symbols and pictographs\n",
    "        u\"\\U0001FA70-\\U0001FAFF\"  # extended pictographic symbols\n",
    "        u\"\\U00002500-\\U00002BEF\"  # misc symbols\n",
    "        u\"\\U0000200D\"             # zero width joiner\n",
    "        u\"\\u2600-\\u26FF\"          # misc symbols\n",
    "        u\"\\u2700-\\u27BF\"\n",
    "        u\"\\uFE0F\"                 # variation selector\n",
    "        u\"\\u3030\"\n",
    "        u\"\\u00A9\"                 # ©\n",
    "        u\"\\u00AE\"                 # ®\n",
    "        u\"\\u2122\"                 # ™\n",
    "        \"]+\", flags=re.UNICODE)\n",
    "    return emoji_pattern.sub(r'', text)\n",
    "\n",
    "# Final cleaning function\n",
    "def clean_text(text):\n",
    "    text = remove_emojis_symbols(text)\n",
    "    words = text.split()\n",
    "    cleaned_words = [lemmatizer.lemmatize(word) for word in words if word not in stop_words]\n",
    "    return ' '.join(cleaned_words)\n",
    "\n",
    "# Apply to news_df\n",
    "news_df['cleaned_text'] = news_df['full_text'].apply(clean_text) #Stores cleaned text in a new column – Preserves original data while saving processed output.\n",
    "\n",
    "# Preview sample\n",
    "news_df.iloc[4]['cleaned_text']\n"
   ]
  },
  {
   "cell_type": "markdown",
   "id": "8f5e929a",
   "metadata": {},
   "source": [
    "## Tokenization"
   ]
  },
  {
   "cell_type": "code",
   "execution_count": 90,
   "id": "5a10ba68",
   "metadata": {},
   "outputs": [
    {
     "name": "stderr",
     "output_type": "stream",
     "text": [
      "[nltk_data] Downloading package punkt to\n",
      "[nltk_data]     C:\\Users\\hp\\AppData\\Roaming\\nltk_data...\n",
      "[nltk_data]   Package punkt is already up-to-date!\n"
     ]
    },
    {
     "data": {
      "text/plain": [
       "'may 2025 update every month send email newsletter supporter sharing recent update work publish selected portion newsletter blog make news accessible people visit website key update latest insta…every month send email newsletter supporter sharing recent update work publish selected portion newsletter blog make news accessible people … 3507 char'"
      ]
     },
     "execution_count": 90,
     "metadata": {},
     "output_type": "execute_result"
    }
   ],
   "source": [
    "import nltk\n",
    "from nltk.tokenize import word_tokenize\n",
    "\n",
    "# Download tokenizer data \n",
    "nltk.download('punkt')\n",
    "\n",
    "#  tokenization function\n",
    "def tokenize_text(text):\n",
    "    return word_tokenize(text)\n",
    "\n",
    "# Apply to cleaned text\n",
    "news_df['tokens'] = news_df['cleaned_text'].apply(tokenize_text)\n",
    "\n",
    "# display row number 11\n",
    "news_df[['cleaned_text', 'tokens']].head()\n",
    "news_df.iloc[10]['cleaned_text']"
   ]
  },
  {
   "cell_type": "code",
   "execution_count": 91,
   "id": "456f6268",
   "metadata": {},
   "outputs": [
    {
     "data": {
      "text/plain": [
       "['may',\n",
       " '2025',\n",
       " 'update',\n",
       " 'every',\n",
       " 'month',\n",
       " 'send',\n",
       " 'email',\n",
       " 'newsletter',\n",
       " 'supporter',\n",
       " 'sharing',\n",
       " 'recent',\n",
       " 'update',\n",
       " 'work',\n",
       " 'publish',\n",
       " 'selected',\n",
       " 'portion',\n",
       " 'newsletter',\n",
       " 'blog',\n",
       " 'make',\n",
       " 'news',\n",
       " 'accessible',\n",
       " 'people',\n",
       " 'visit',\n",
       " 'website',\n",
       " 'key',\n",
       " 'update',\n",
       " 'latest',\n",
       " 'insta…every',\n",
       " 'month',\n",
       " 'send',\n",
       " 'email',\n",
       " 'newsletter',\n",
       " 'supporter',\n",
       " 'sharing',\n",
       " 'recent',\n",
       " 'update',\n",
       " 'work',\n",
       " 'publish',\n",
       " 'selected',\n",
       " 'portion',\n",
       " 'newsletter',\n",
       " 'blog',\n",
       " 'make',\n",
       " 'news',\n",
       " 'accessible',\n",
       " 'people',\n",
       " '…',\n",
       " '3507',\n",
       " 'char']"
      ]
     },
     "execution_count": 91,
     "metadata": {},
     "output_type": "execute_result"
    }
   ],
   "source": [
    "news_df.iloc[10]['tokens']"
   ]
  },
  {
   "cell_type": "markdown",
   "id": "c2eb7070",
   "metadata": {},
   "source": [
    "This code below cleans tokens by:\n",
    "\n",
    "Removing numbers and words like 'char'/'chars',\n",
    "\n",
    "Splitting truncated words containing ellipses (e.g., \"insta...every\" → [\"insta\", \"every\"]),\n",
    "\n",
    "Keeping only clean, meaningful tokens while preserving their order, ensuring it remains readable"
   ]
  },
  {
   "cell_type": "code",
   "execution_count": 92,
   "id": "3c8c95cc",
   "metadata": {},
   "outputs": [
    {
     "name": "stdout",
     "output_type": "stream",
     "text": [
      "['may', 'update', 'every', 'month', 'send', 'email', 'newsletter', 'supporter', 'sharing', 'recent', 'update', 'work', 'publish', 'selected', 'portion', 'newsletter', 'blog', 'make', 'news', 'accessible', 'people', 'visit', 'website', 'key', 'update', 'latest', 'insta', 'every', 'month', 'send', 'email', 'newsletter', 'supporter', 'sharing', 'recent', 'update', 'work', 'publish', 'selected', 'portion', 'newsletter', 'blog', 'make', 'news', 'accessible', 'people']\n"
     ]
    }
   ],
   "source": [
    "def clean_tokens(tokens):\n",
    "    \"\"\"Remove unwanted tokens including numbers, 'char(s)', and truncated words\"\"\"\n",
    "    cleaned = []\n",
    "    for token in tokens:\n",
    "        # Skip numbers, 'char'/'chars', and standalone ellipses\n",
    "        if token.isdigit() or token in {'char', 'chars', '…'}:\n",
    "            continue\n",
    "        # Fix words with ellipses (e.g., 'insta…every' → 'insta', 'every')\n",
    "        if '…' in token:\n",
    "            parts = [p for p in token.split('…') if p]\n",
    "            cleaned.extend(parts)\n",
    "        else:\n",
    "            cleaned.append(token)\n",
    "    return cleaned\n",
    "\n",
    "# Apply to tokens\n",
    "news_df['cleaned_tokens'] = news_df['tokens'].apply(clean_tokens)\n",
    "\n",
    "# Preview\n",
    "print(news_df.iloc[10]['cleaned_tokens'])"
   ]
  },
  {
   "cell_type": "markdown",
   "id": "137df6ac",
   "metadata": {},
   "source": [
    "This code below cleans already tokenized text by:\n",
    "\n",
    "Removing numbers and words like 'char'/'chars',\n",
    "\n",
    "Splitting truncated words containing ellipses (e.g., \"insta...every\" → [\"insta\", \"every\"]),\n",
    "\n",
    "Keeping only clean, meaningful tokens while preserving their order, ensuring it remains readable"
   ]
  },
  {
   "cell_type": "code",
   "execution_count": 93,
   "id": "7a72eb00",
   "metadata": {},
   "outputs": [
    {
     "name": "stdout",
     "output_type": "stream",
     "text": [
      "Original: may 2025 updates every month we send an email newsletter to our supporters sharing recent updates from our work we publish selected portions of the newsletter on our blog to make this news more accessible to people who visit our website for key updates from the latest insta…every month we send an email newsletter to our supporters sharing recent updates from our work we publish selected portions of the newsletter on our blog to make this news more accessible to people … 3507 chars\n",
      "Cleaned: may updates every month we send an email newsletter to our supporters sharing recent updates from our work we publish selected portions of the newsletter on our blog to make this news more accessible to people who visit our website for key updates from the latest insta every month we send an email newsletter to our supporters sharing recent updates from our work we publish selected portions of the newsletter on our blog to make this news more accessible to people\n"
     ]
    }
   ],
   "source": [
    "import re\n",
    "\n",
    "def clean_full_text(text):\n",
    "    \"\"\"\n",
    "    Clean raw text by:\n",
    "    1. Removing [NNN chars] or NNN chars patterns\n",
    "    2. Fixing words with ellipses (insta…every → insta every)\n",
    "    3. Removing standalone numbers and 'char'/'chars'\n",
    "    4. Removing standalone ellipses\n",
    "    \"\"\"\n",
    "    # Remove char count patterns\n",
    "    text = re.sub(r\"\\[\\+\\d+\\s*chars\\]|\\d+\\s*chars\", \"\", text)\n",
    "    \n",
    "    # Fix words with ellipses by replacing … with space\n",
    "    text = re.sub(r\"(\\w)…(\\w)\", r\"\\1 \\2\", text)\n",
    "    \n",
    "    # Remove standalone numbers, 'char', 'chars'\n",
    "    text = ' '.join(\n",
    "        word for word in text.split() \n",
    "        if not (word.isdigit() or word in {'char', 'chars'})\n",
    "    )\n",
    "    \n",
    "    # Remove any remaining standalone ellipses\n",
    "    text = text.replace('…', '')\n",
    "    \n",
    "    return text.strip()\n",
    "\n",
    "# Apply to full text column\n",
    "news_df['cleaned_text'] = news_df['full_text'].apply(clean_full_text)\n",
    "\n",
    "# Preview before/after\n",
    "print(\"Original:\", news_df.iloc[10]['full_text'])\n",
    "print(\"Cleaned:\", news_df.iloc[10]['cleaned_text'])"
   ]
  },
  {
   "cell_type": "code",
   "execution_count": 94,
   "id": "3be42757",
   "metadata": {},
   "outputs": [
    {
     "data": {
      "text/html": [
       "<div>\n",
       "<style scoped>\n",
       "    .dataframe tbody tr th:only-of-type {\n",
       "        vertical-align: middle;\n",
       "    }\n",
       "\n",
       "    .dataframe tbody tr th {\n",
       "        vertical-align: top;\n",
       "    }\n",
       "\n",
       "    .dataframe thead th {\n",
       "        text-align: right;\n",
       "    }\n",
       "</style>\n",
       "<table border=\"1\" class=\"dataframe\">\n",
       "  <thead>\n",
       "    <tr style=\"text-align: right;\">\n",
       "      <th></th>\n",
       "      <th>title</th>\n",
       "      <th>description</th>\n",
       "      <th>text</th>\n",
       "      <th>url</th>\n",
       "      <th>keyword</th>\n",
       "      <th>published_date</th>\n",
       "      <th>full_text</th>\n",
       "      <th>language</th>\n",
       "      <th>cleaned_text</th>\n",
       "      <th>tokens</th>\n",
       "      <th>cleaned_tokens</th>\n",
       "    </tr>\n",
       "  </thead>\n",
       "  <tbody>\n",
       "    <tr>\n",
       "      <th>0</th>\n",
       "      <td>Has DOGE really saved the US government $180bn?</td>\n",
       "      <td>Elon Musk first claimed the department would m...</td>\n",
       "      <td>President Donald Trump and adviser Elon Musk c...</td>\n",
       "      <td>https://www.aljazeera.com/news/2025/6/6/has-do...</td>\n",
       "      <td>usaid kenya</td>\n",
       "      <td>2025-06-06</td>\n",
       "      <td>has doge really saved the us government 180bn ...</td>\n",
       "      <td>en</td>\n",
       "      <td>has doge really saved the us government 180bn ...</td>\n",
       "      <td>[doge, really, saved, u, government, 180bn, el...</td>\n",
       "      <td>[doge, really, saved, u, government, 180bn, el...</td>\n",
       "    </tr>\n",
       "    <tr>\n",
       "      <th>1</th>\n",
       "      <td>The Life Story of Ecomobilus Technologies Limi...</td>\n",
       "      <td>By Prof Geoffrey Gitau Here is a story showcas...</td>\n",
       "      <td>By Prof Geoffrey Gitau\\r\\nHere is a story show...</td>\n",
       "      <td>https://cleantechnica.com/2025/05/26/the-life-...</td>\n",
       "      <td>usaid kenya</td>\n",
       "      <td>2025-05-26</td>\n",
       "      <td>the life story of ecomobilus technologies limi...</td>\n",
       "      <td>en</td>\n",
       "      <td>the life story of ecomobilus technologies limi...</td>\n",
       "      <td>[life, story, ecomobilus, technology, limited,...</td>\n",
       "      <td>[life, story, ecomobilus, technology, limited,...</td>\n",
       "    </tr>\n",
       "    <tr>\n",
       "      <th>2</th>\n",
       "      <td>Death, Sexual Violence and Human Trafficking: ...</td>\n",
       "      <td>by Brett Murphy and Anna Maria Barry-Jester \\n...</td>\n",
       "      <td>ProPublica is a nonprofit newsroom that invest...</td>\n",
       "      <td>https://www.propublica.org/article/trump-usaid...</td>\n",
       "      <td>usaid kenya</td>\n",
       "      <td>2025-05-28</td>\n",
       "      <td>death sexual violence and human trafficking fa...</td>\n",
       "      <td>en</td>\n",
       "      <td>death sexual violence and human trafficking fa...</td>\n",
       "      <td>[death, sexual, violence, human, trafficking, ...</td>\n",
       "      <td>[death, sexual, violence, human, trafficking, ...</td>\n",
       "    </tr>\n",
       "    <tr>\n",
       "      <th>3</th>\n",
       "      <td>Congress Should Quickly Approve Trump’s Rescis...</td>\n",
       "      <td>President Donald Trump‘s rescission legislatio...</td>\n",
       "      <td>President Donald Trumps rescission legislation...</td>\n",
       "      <td>https://www.dailysignal.com/2025/06/10/congres...</td>\n",
       "      <td>usaid kenya</td>\n",
       "      <td>2025-06-10</td>\n",
       "      <td>congress should quickly approve trump’s rescis...</td>\n",
       "      <td>en</td>\n",
       "      <td>congress should quickly approve trump’s rescis...</td>\n",
       "      <td>[congress, quickly, approve, trump, ’, s, resc...</td>\n",
       "      <td>[congress, quickly, approve, trump, ’, s, resc...</td>\n",
       "    </tr>\n",
       "    <tr>\n",
       "      <th>4</th>\n",
       "      <td>Food Safety Depends On Every Link In The Suppl...</td>\n",
       "      <td>Almost 1 in 10 people globally fall ill from c...</td>\n",
       "      <td>Colorful fish and vegetables can be purchased ...</td>\n",
       "      <td>https://www.forbes.com/sites/daniellenierenber...</td>\n",
       "      <td>usaid kenya</td>\n",
       "      <td>2025-06-06</td>\n",
       "      <td>food safety depends on every link in the suppl...</td>\n",
       "      <td>en</td>\n",
       "      <td>food safety depends on every link in the suppl...</td>\n",
       "      <td>[food, safety, depends, every, link, supply, c...</td>\n",
       "      <td>[food, safety, depends, every, link, supply, c...</td>\n",
       "    </tr>\n",
       "  </tbody>\n",
       "</table>\n",
       "</div>"
      ],
      "text/plain": [
       "                                               title  \\\n",
       "0    Has DOGE really saved the US government $180bn?   \n",
       "1  The Life Story of Ecomobilus Technologies Limi...   \n",
       "2  Death, Sexual Violence and Human Trafficking: ...   \n",
       "3  Congress Should Quickly Approve Trump’s Rescis...   \n",
       "4  Food Safety Depends On Every Link In The Suppl...   \n",
       "\n",
       "                                         description  \\\n",
       "0  Elon Musk first claimed the department would m...   \n",
       "1  By Prof Geoffrey Gitau Here is a story showcas...   \n",
       "2  by Brett Murphy and Anna Maria Barry-Jester \\n...   \n",
       "3  President Donald Trump‘s rescission legislatio...   \n",
       "4  Almost 1 in 10 people globally fall ill from c...   \n",
       "\n",
       "                                                text  \\\n",
       "0  President Donald Trump and adviser Elon Musk c...   \n",
       "1  By Prof Geoffrey Gitau\\r\\nHere is a story show...   \n",
       "2  ProPublica is a nonprofit newsroom that invest...   \n",
       "3  President Donald Trumps rescission legislation...   \n",
       "4  Colorful fish and vegetables can be purchased ...   \n",
       "\n",
       "                                                 url      keyword  \\\n",
       "0  https://www.aljazeera.com/news/2025/6/6/has-do...  usaid kenya   \n",
       "1  https://cleantechnica.com/2025/05/26/the-life-...  usaid kenya   \n",
       "2  https://www.propublica.org/article/trump-usaid...  usaid kenya   \n",
       "3  https://www.dailysignal.com/2025/06/10/congres...  usaid kenya   \n",
       "4  https://www.forbes.com/sites/daniellenierenber...  usaid kenya   \n",
       "\n",
       "  published_date                                          full_text language  \\\n",
       "0     2025-06-06  has doge really saved the us government 180bn ...       en   \n",
       "1     2025-05-26  the life story of ecomobilus technologies limi...       en   \n",
       "2     2025-05-28  death sexual violence and human trafficking fa...       en   \n",
       "3     2025-06-10  congress should quickly approve trump’s rescis...       en   \n",
       "4     2025-06-06  food safety depends on every link in the suppl...       en   \n",
       "\n",
       "                                        cleaned_text  \\\n",
       "0  has doge really saved the us government 180bn ...   \n",
       "1  the life story of ecomobilus technologies limi...   \n",
       "2  death sexual violence and human trafficking fa...   \n",
       "3  congress should quickly approve trump’s rescis...   \n",
       "4  food safety depends on every link in the suppl...   \n",
       "\n",
       "                                              tokens  \\\n",
       "0  [doge, really, saved, u, government, 180bn, el...   \n",
       "1  [life, story, ecomobilus, technology, limited,...   \n",
       "2  [death, sexual, violence, human, trafficking, ...   \n",
       "3  [congress, quickly, approve, trump, ’, s, resc...   \n",
       "4  [food, safety, depends, every, link, supply, c...   \n",
       "\n",
       "                                      cleaned_tokens  \n",
       "0  [doge, really, saved, u, government, 180bn, el...  \n",
       "1  [life, story, ecomobilus, technology, limited,...  \n",
       "2  [death, sexual, violence, human, trafficking, ...  \n",
       "3  [congress, quickly, approve, trump, ’, s, resc...  \n",
       "4  [food, safety, depends, every, link, supply, c...  "
      ]
     },
     "execution_count": 94,
     "metadata": {},
     "output_type": "execute_result"
    }
   ],
   "source": [
    "news_df.head()"
   ]
  },
  {
   "cell_type": "markdown",
   "id": "b6b94ffa",
   "metadata": {},
   "source": [
    "### Dropping columns ~ language, tokens"
   ]
  },
  {
   "cell_type": "code",
   "execution_count": 95,
   "id": "4a25c7e9",
   "metadata": {},
   "outputs": [
    {
     "data": {
      "text/html": [
       "<div>\n",
       "<style scoped>\n",
       "    .dataframe tbody tr th:only-of-type {\n",
       "        vertical-align: middle;\n",
       "    }\n",
       "\n",
       "    .dataframe tbody tr th {\n",
       "        vertical-align: top;\n",
       "    }\n",
       "\n",
       "    .dataframe thead th {\n",
       "        text-align: right;\n",
       "    }\n",
       "</style>\n",
       "<table border=\"1\" class=\"dataframe\">\n",
       "  <thead>\n",
       "    <tr style=\"text-align: right;\">\n",
       "      <th></th>\n",
       "      <th>title</th>\n",
       "      <th>description</th>\n",
       "      <th>text</th>\n",
       "      <th>url</th>\n",
       "      <th>keyword</th>\n",
       "      <th>published_date</th>\n",
       "      <th>full_text</th>\n",
       "      <th>cleaned_text</th>\n",
       "      <th>cleaned_tokens</th>\n",
       "    </tr>\n",
       "  </thead>\n",
       "  <tbody>\n",
       "    <tr>\n",
       "      <th>0</th>\n",
       "      <td>Has DOGE really saved the US government $180bn?</td>\n",
       "      <td>Elon Musk first claimed the department would m...</td>\n",
       "      <td>President Donald Trump and adviser Elon Musk c...</td>\n",
       "      <td>https://www.aljazeera.com/news/2025/6/6/has-do...</td>\n",
       "      <td>usaid kenya</td>\n",
       "      <td>2025-06-06</td>\n",
       "      <td>has doge really saved the us government 180bn ...</td>\n",
       "      <td>has doge really saved the us government 180bn ...</td>\n",
       "      <td>[doge, really, saved, u, government, 180bn, el...</td>\n",
       "    </tr>\n",
       "    <tr>\n",
       "      <th>1</th>\n",
       "      <td>The Life Story of Ecomobilus Technologies Limi...</td>\n",
       "      <td>By Prof Geoffrey Gitau Here is a story showcas...</td>\n",
       "      <td>By Prof Geoffrey Gitau\\r\\nHere is a story show...</td>\n",
       "      <td>https://cleantechnica.com/2025/05/26/the-life-...</td>\n",
       "      <td>usaid kenya</td>\n",
       "      <td>2025-05-26</td>\n",
       "      <td>the life story of ecomobilus technologies limi...</td>\n",
       "      <td>the life story of ecomobilus technologies limi...</td>\n",
       "      <td>[life, story, ecomobilus, technology, limited,...</td>\n",
       "    </tr>\n",
       "    <tr>\n",
       "      <th>2</th>\n",
       "      <td>Death, Sexual Violence and Human Trafficking: ...</td>\n",
       "      <td>by Brett Murphy and Anna Maria Barry-Jester \\n...</td>\n",
       "      <td>ProPublica is a nonprofit newsroom that invest...</td>\n",
       "      <td>https://www.propublica.org/article/trump-usaid...</td>\n",
       "      <td>usaid kenya</td>\n",
       "      <td>2025-05-28</td>\n",
       "      <td>death sexual violence and human trafficking fa...</td>\n",
       "      <td>death sexual violence and human trafficking fa...</td>\n",
       "      <td>[death, sexual, violence, human, trafficking, ...</td>\n",
       "    </tr>\n",
       "    <tr>\n",
       "      <th>3</th>\n",
       "      <td>Congress Should Quickly Approve Trump’s Rescis...</td>\n",
       "      <td>President Donald Trump‘s rescission legislatio...</td>\n",
       "      <td>President Donald Trumps rescission legislation...</td>\n",
       "      <td>https://www.dailysignal.com/2025/06/10/congres...</td>\n",
       "      <td>usaid kenya</td>\n",
       "      <td>2025-06-10</td>\n",
       "      <td>congress should quickly approve trump’s rescis...</td>\n",
       "      <td>congress should quickly approve trump’s rescis...</td>\n",
       "      <td>[congress, quickly, approve, trump, ’, s, resc...</td>\n",
       "    </tr>\n",
       "    <tr>\n",
       "      <th>4</th>\n",
       "      <td>Food Safety Depends On Every Link In The Suppl...</td>\n",
       "      <td>Almost 1 in 10 people globally fall ill from c...</td>\n",
       "      <td>Colorful fish and vegetables can be purchased ...</td>\n",
       "      <td>https://www.forbes.com/sites/daniellenierenber...</td>\n",
       "      <td>usaid kenya</td>\n",
       "      <td>2025-06-06</td>\n",
       "      <td>food safety depends on every link in the suppl...</td>\n",
       "      <td>food safety depends on every link in the suppl...</td>\n",
       "      <td>[food, safety, depends, every, link, supply, c...</td>\n",
       "    </tr>\n",
       "  </tbody>\n",
       "</table>\n",
       "</div>"
      ],
      "text/plain": [
       "                                               title  \\\n",
       "0    Has DOGE really saved the US government $180bn?   \n",
       "1  The Life Story of Ecomobilus Technologies Limi...   \n",
       "2  Death, Sexual Violence and Human Trafficking: ...   \n",
       "3  Congress Should Quickly Approve Trump’s Rescis...   \n",
       "4  Food Safety Depends On Every Link In The Suppl...   \n",
       "\n",
       "                                         description  \\\n",
       "0  Elon Musk first claimed the department would m...   \n",
       "1  By Prof Geoffrey Gitau Here is a story showcas...   \n",
       "2  by Brett Murphy and Anna Maria Barry-Jester \\n...   \n",
       "3  President Donald Trump‘s rescission legislatio...   \n",
       "4  Almost 1 in 10 people globally fall ill from c...   \n",
       "\n",
       "                                                text  \\\n",
       "0  President Donald Trump and adviser Elon Musk c...   \n",
       "1  By Prof Geoffrey Gitau\\r\\nHere is a story show...   \n",
       "2  ProPublica is a nonprofit newsroom that invest...   \n",
       "3  President Donald Trumps rescission legislation...   \n",
       "4  Colorful fish and vegetables can be purchased ...   \n",
       "\n",
       "                                                 url      keyword  \\\n",
       "0  https://www.aljazeera.com/news/2025/6/6/has-do...  usaid kenya   \n",
       "1  https://cleantechnica.com/2025/05/26/the-life-...  usaid kenya   \n",
       "2  https://www.propublica.org/article/trump-usaid...  usaid kenya   \n",
       "3  https://www.dailysignal.com/2025/06/10/congres...  usaid kenya   \n",
       "4  https://www.forbes.com/sites/daniellenierenber...  usaid kenya   \n",
       "\n",
       "  published_date                                          full_text  \\\n",
       "0     2025-06-06  has doge really saved the us government 180bn ...   \n",
       "1     2025-05-26  the life story of ecomobilus technologies limi...   \n",
       "2     2025-05-28  death sexual violence and human trafficking fa...   \n",
       "3     2025-06-10  congress should quickly approve trump’s rescis...   \n",
       "4     2025-06-06  food safety depends on every link in the suppl...   \n",
       "\n",
       "                                        cleaned_text  \\\n",
       "0  has doge really saved the us government 180bn ...   \n",
       "1  the life story of ecomobilus technologies limi...   \n",
       "2  death sexual violence and human trafficking fa...   \n",
       "3  congress should quickly approve trump’s rescis...   \n",
       "4  food safety depends on every link in the suppl...   \n",
       "\n",
       "                                      cleaned_tokens  \n",
       "0  [doge, really, saved, u, government, 180bn, el...  \n",
       "1  [life, story, ecomobilus, technology, limited,...  \n",
       "2  [death, sexual, violence, human, trafficking, ...  \n",
       "3  [congress, quickly, approve, trump, ’, s, resc...  \n",
       "4  [food, safety, depends, every, link, supply, c...  "
      ]
     },
     "execution_count": 95,
     "metadata": {},
     "output_type": "execute_result"
    }
   ],
   "source": [
    "news_df.drop(columns=['language','tokens'],inplace=True)\n",
    "news_df.head()"
   ]
  },
  {
   "cell_type": "code",
   "execution_count": 96,
   "id": "6d5524d8",
   "metadata": {},
   "outputs": [
    {
     "data": {
      "text/plain": [
       "['may',\n",
       " 'update',\n",
       " 'every',\n",
       " 'month',\n",
       " 'send',\n",
       " 'email',\n",
       " 'newsletter',\n",
       " 'supporter',\n",
       " 'sharing',\n",
       " 'recent',\n",
       " 'update',\n",
       " 'work',\n",
       " 'publish',\n",
       " 'selected',\n",
       " 'portion',\n",
       " 'newsletter',\n",
       " 'blog',\n",
       " 'make',\n",
       " 'news',\n",
       " 'accessible',\n",
       " 'people',\n",
       " 'visit',\n",
       " 'website',\n",
       " 'key',\n",
       " 'update',\n",
       " 'latest',\n",
       " 'insta',\n",
       " 'every',\n",
       " 'month',\n",
       " 'send',\n",
       " 'email',\n",
       " 'newsletter',\n",
       " 'supporter',\n",
       " 'sharing',\n",
       " 'recent',\n",
       " 'update',\n",
       " 'work',\n",
       " 'publish',\n",
       " 'selected',\n",
       " 'portion',\n",
       " 'newsletter',\n",
       " 'blog',\n",
       " 'make',\n",
       " 'news',\n",
       " 'accessible',\n",
       " 'people']"
      ]
     },
     "execution_count": 96,
     "metadata": {},
     "output_type": "execute_result"
    }
   ],
   "source": [
    "news_df.iloc[10]['cleaned_tokens']"
   ]
  },
  {
   "cell_type": "code",
   "execution_count": 97,
   "id": "95f8ccd5",
   "metadata": {},
   "outputs": [
    {
     "data": {
      "text/plain": [
       "(2281, 9)"
      ]
     },
     "execution_count": 97,
     "metadata": {},
     "output_type": "execute_result"
    }
   ],
   "source": [
    "news_df.shape"
   ]
  },
  {
   "cell_type": "markdown",
   "id": "ddf2af03",
   "metadata": {},
   "source": [
    "## Exploratory Data Analysis"
   ]
  },
  {
   "cell_type": "markdown",
   "id": "4efb5933",
   "metadata": {},
   "source": [
    "### 1. Basic Structure & Distribution"
   ]
  },
  {
   "cell_type": "markdown",
   "id": "72c18460",
   "metadata": {},
   "source": [
    "### Count of records per source (Reddit vs News)."
   ]
  },
  {
   "cell_type": "code",
   "execution_count": 98,
   "id": "05151869",
   "metadata": {},
   "outputs": [
    {
     "name": "stdout",
     "output_type": "stream",
     "text": [
      "Reddit records: 1127\n",
      "News records: 2281\n"
     ]
    },
    {
     "data": {
      "image/png": "[encoded data removed]",
      "text/plain": [
       "<Figure size 432x288 with 1 Axes>"
      ]
     },
     "metadata": {
      "needs_background": "light"
     },
     "output_type": "display_data"
    }
   ],
   "source": [
    "import pandas as pd\n",
    "import seaborn as sns\n",
    "import matplotlib.pyplot as plt\n",
    "\n",
    "print(f\"Reddit records: {len(reddit_df)}\")\n",
    "print(f\"News records: {len(news_df)}\")\n",
    "\n",
    "#Plot as bar chart\n",
    "plt.bar(['Reddit', 'News'], [len(reddit_df), len(news_df)])\n",
    "plt.title('Record Count by Source')\n",
    "plt.ylabel('Count')\n",
    "plt.show()"
   ]
  },
  {
   "cell_type": "markdown",
   "id": "d39ebc83",
   "metadata": {},
   "source": [
    "### Posting frequency over time"
   ]
  },
  {
   "cell_type": "code",
   "execution_count": 99,
   "id": "6155924d",
   "metadata": {},
   "outputs": [],
   "source": [
    "#Confirm dates are in datetime format\n",
    "reddit_df['published_date'] = pd.to_datetime(reddit_df['published_date'])\n",
    "news_df['published_date'] = pd.to_datetime(news_df['published_date'])"
   ]
  },
  {
   "cell_type": "code",
   "execution_count": 100,
   "id": "9a91e738",
   "metadata": {},
   "outputs": [],
   "source": [
    "#Add 'source' column to each\n",
    "reddit_df['source'] = 'Reddit'\n",
    "news_df['source'] = 'News'\n"
   ]
  },
  {
   "cell_type": "code",
   "execution_count": 101,
   "id": "469ebc3a",
   "metadata": {},
   "outputs": [],
   "source": [
    "#Combine both datasets\n",
    "import pandas as pd\n",
    "\n",
    "combined_df = pd.concat([reddit_df, news_df], ignore_index=True)\n",
    "\n",
    "# Filter for 2025 data\n",
    "combined_df = combined_df[combined_df['published_date'].dt.year == 2025] #because we are focusing on the year Trump announced the USAID budget cuts\n"
   ]
  },
  {
   "cell_type": "markdown",
   "id": "9074c85b",
   "metadata": {},
   "source": [
    "#### Daily Posting Frequency"
   ]
  },
  {
   "cell_type": "code",
   "execution_count": 102,
   "id": "8cb25e77",
   "metadata": {},
   "outputs": [
    {
     "data": {
      "image/png": "[encoded data removed]",
      "text/plain": [
       "<Figure size 1008x720 with 1 Axes>"
      ]
     },
     "metadata": {
      "needs_background": "light"
     },
     "output_type": "display_data"
    }
   ],
   "source": [
    "import matplotlib.pyplot as plt\n",
    "import matplotlib.dates as mdates\n",
    "\n",
    "# Group by date and source\n",
    "daily_counts = combined_df.groupby(\n",
    "    [combined_df['published_date'].dt.date, 'source']\n",
    ").size().unstack(fill_value=0)\n",
    "\n",
    "# Plot\n",
    "fig, ax = plt.subplots(figsize=(14, 10))\n",
    "lines = daily_counts.plot(kind='line', ax=ax)\n",
    "\n",
    "# Title and labels\n",
    "ax.set_title(' Daily Posting Frequency (2025)')\n",
    "ax.set_xlabel('Month')\n",
    "ax.set_ylabel('Number of Posts')\n",
    "ax.grid(True)\n",
    "ax.legend(title='Source')\n",
    "\n",
    "# Format x-axis to show month names\n",
    "ax.xaxis.set_major_locator(mdates.MonthLocator())\n",
    "ax.xaxis.set_major_formatter(mdates.DateFormatter('%B'))\n",
    "plt.xticks(rotation=45)\n",
    "\n",
    "# Annotate counts\n",
    "for line in lines.get_lines():\n",
    "    data = line.get_xydata()\n",
    "    for x, y in data:\n",
    "        if y > 0:\n",
    "            ax.annotate(\n",
    "                f'{int(y)}',\n",
    "                (x, y),\n",
    "                textcoords=\"offset points\",\n",
    "                xytext=(0, 5),\n",
    "                ha='center',\n",
    "                fontsize=8,\n",
    "                color=line.get_color()\n",
    "            )\n",
    "\n",
    "plt.tight_layout()\n",
    "plt.show()\n"
   ]
  },
  {
   "cell_type": "markdown",
   "id": "a80b16a4",
   "metadata": {},
   "source": [
    "Observations and Insights\n",
    "\n",
    "To be updated here!!!!!!!!!!!!!!!!!!!!!!\n",
    "\n",
    "\n",
    "\n",
    "\n"
   ]
  },
  {
   "cell_type": "markdown",
   "id": "6596b8b6",
   "metadata": {},
   "source": [
    "#### Weekly Posting Fequency"
   ]
  },
  {
   "cell_type": "code",
   "execution_count": 103,
   "id": "a68b49bc",
   "metadata": {},
   "outputs": [
    {
     "data": {
      "image/png": "[encoded data removed]",
      "text/plain": [
       "<Figure size 1008x720 with 1 Axes>"
      ]
     },
     "metadata": {
      "needs_background": "light"
     },
     "output_type": "display_data"
    }
   ],
   "source": [
    "import matplotlib.pyplot as plt\n",
    "import pandas as pd\n",
    "\n",
    "combined_df_2025 = combined_df[combined_df['published_date'].dt.year == 2025].copy()\n",
    "\n",
    "\n",
    "# Get week number and month name\n",
    "combined_df_2025['week_number'] = combined_df_2025['published_date'].dt.isocalendar().week\n",
    "combined_df_2025['month_name'] = combined_df_2025['published_date'].dt.strftime('%b')\n",
    "\n",
    "# Combine month and week number\n",
    "combined_df_2025['month_week_label'] = combined_df_2025['month_name'] + ' - W' + combined_df_2025['week_number'].astype(str)\n",
    "\n",
    "# Group by week and source\n",
    "weekly_counts = combined_df_2025.groupby(['month_week_label', 'source']).size().unstack(fill_value=0)\n",
    "\n",
    "# Sort the index by actual week number\n",
    "combined_df_2025['week_order'] = combined_df_2025['published_date'].dt.isocalendar().week\n",
    "order = combined_df_2025.drop_duplicates('month_week_label').sort_values('week_order')['month_week_label']\n",
    "weekly_counts = weekly_counts.reindex(order)\n",
    "\n",
    "# Plot\n",
    "ax = weekly_counts.plot(kind='bar', figsize=(14, 10))\n",
    "\n",
    "plt.title('Weekly Posting Frequency (2025)')\n",
    "plt.xlabel('Week (Month - Week #)')\n",
    "plt.ylabel('Number of Posts')\n",
    "plt.xticks(rotation=45, ha='right')\n",
    "plt.grid(axis='y')\n",
    "plt.legend(title='Source')\n",
    "plt.tight_layout()\n",
    "\n",
    "# Annotate bars\n",
    "for container in ax.containers:\n",
    "    for bar in container:\n",
    "        height = bar.get_height()\n",
    "        if height > 0:\n",
    "            ax.annotate(f'{int(height)}',\n",
    "                        xy=(bar.get_x() + bar.get_width() / 2, height),\n",
    "                        xytext=(0, 3),\n",
    "                        textcoords='offset points',\n",
    "                        ha='center',\n",
    "                        fontsize=8)\n",
    "\n",
    "plt.show()\n"
   ]
  },
  {
   "cell_type": "markdown",
   "id": "d32f80f3",
   "metadata": {},
   "source": [
    "Observations and Insights\n",
    "\n",
    "To be updated here!!!!!!!!!!!!!!!!!!!!!!\n",
    "\n",
    "\n",
    "\n",
    "\n"
   ]
  },
  {
   "cell_type": "markdown",
   "id": "d4cd5153",
   "metadata": {},
   "source": [
    "#### Monthly Posting Frequency"
   ]
  },
  {
   "cell_type": "code",
   "execution_count": 104,
   "id": "f896e102",
   "metadata": {},
   "outputs": [
    {
     "data": {
      "image/png": "[encoded data removed]",
      "text/plain": [
       "<Figure size 1008x720 with 1 Axes>"
      ]
     },
     "metadata": {
      "needs_background": "light"
     },
     "output_type": "display_data"
    }
   ],
   "source": [
    "import matplotlib.pyplot as plt\n",
    "\n",
    "# Group by month and source\n",
    "monthly_counts = combined_df.groupby(\n",
    "    [combined_df['published_date'].dt.to_period('M'), 'source']\n",
    ").size().unstack(fill_value=0)\n",
    "\n",
    "\n",
    "monthly_counts.index = monthly_counts.index.to_timestamp()\n",
    "\n",
    "# Create plot\n",
    "ax = monthly_counts.plot(kind='bar', figsize=(14, 10))\n",
    "\n",
    "# Format x-axis labels to show month names only\n",
    "ax.set_xticklabels([d.strftime('%B') for d in monthly_counts.index])\n",
    "\n",
    "# Annotate each bar\n",
    "for container in ax.containers:\n",
    "    ax.bar_label(container, \n",
    "                 label_type='edge', \n",
    "                 padding=2,\n",
    "                 fontsize=9,\n",
    "                 color='black',\n",
    "                 labels=[f'{v:,.0f}' if v > 0 else '' for v in container.datavalues])\n",
    "\n",
    "\n",
    "# Plot\n",
    "plt.title('Monthly Posting Frequency (2025)')\n",
    "plt.xlabel('Month')\n",
    "plt.ylabel('Number of Posts')\n",
    "plt.legend(title='Source')\n",
    "plt.xticks(rotation=45)\n",
    "plt.tight_layout()\n",
    "plt.show()\n"
   ]
  },
  {
   "cell_type": "markdown",
   "id": "904c7813",
   "metadata": {},
   "source": [
    "Observations and Insights\n",
    "\n",
    "To be updated here!!!!!!!!!!!!!!!!!!!!!!\n",
    "\n",
    "\n",
    "\n",
    "\n"
   ]
  },
  {
   "cell_type": "markdown",
   "id": "d25456ee",
   "metadata": {},
   "source": [
    "### 2. Text Content Exploration"
   ]
  },
  {
   "cell_type": "markdown",
   "id": "06aa05e6",
   "metadata": {},
   "source": [
    "Unigrams = single-word tokens\n",
    "\n",
    "Bigrams = 2-word tokens\n",
    "\n",
    "Trigrams = 3-word tokens"
   ]
  },
  {
   "cell_type": "markdown",
   "id": "05b5f838",
   "metadata": {},
   "source": [
    "### Most common words and phrases"
   ]
  },
  {
   "cell_type": "code",
   "execution_count": 105,
   "id": "8f9e1917",
   "metadata": {},
   "outputs": [
    {
     "name": "stdout",
     "output_type": "stream",
     "text": [
      "\n",
      "🔹 News Unigrams:\n",
      "[('trump', 1472), ('aid', 749), ('cuts', 706), ('president', 629), ('musk', 625), ('house', 589), ('funding', 531), ('donald', 513), ('elon', 475), ('new', 443)]\n",
      "\n",
      "🔹 News Bigrams:\n",
      "[('elon musk', 406), ('donald trump', 346), ('president donald', 336), ('trump administration', 278), ('foreign aid', 214), ('white house', 212), ('united states', 160), ('donald trumps', 142), ('public broadcasting', 128), ('big beautiful', 121)]\n",
      "\n",
      "🔹 News Trigrams:\n",
      "[('president donald trump', 198), ('president donald trumps', 122), ('department government efficiency', 59), ('agency international development', 48), ('propublica nonprofit newsroom', 47), ('nonprofit newsroom investigates', 47), ('newsroom investigates abuses', 47), ('investigates abuses power', 47), ('abuses power sign', 47), ('receive biggest stories', 47)]\n",
      "\n",
      "🔸 Reddit Unigrams:\n",
      "[('kenya', 840), ('like', 817), ('people', 687), ('country', 491), ('usaid', 461), ('africa', 412), ('foreign', 401), ('kenyan', 397), ('know', 391), ('aid', 377)]\n",
      "\n",
      "🔸 Reddit Bigrams:\n",
      "[('foreign aid', 223), ('south africa', 60), ('dont know', 53), ('african country', 50), ('karibu na', 41), ('feel like', 37), ('baba manner', 37), ('social medium', 34), ('world bank', 33), ('foreign policy', 31)]\n",
      "\n",
      "🔸 Reddit Trigrams:\n",
      "[('karibu na mzuri', 25), ('foreign aid freeze', 20), ('long story short', 15), ('foreign aid cut', 15), ('president william ruto', 13), ('trump foreign aid', 13), ('pesa juzi juzi', 12), ('billion foreign direct', 12), ('foreign direct investment', 12), ('direct investment fdi', 12)]\n"
     ]
    }
   ],
   "source": [
    "from sklearn.feature_extraction.text import CountVectorizer\n",
    "import pandas as pd\n",
    "\n",
    "\n",
    "def get_top_ngrams(corpus, ngram_range=(1, 1), n=None):\n",
    "    vec = CountVectorizer(ngram_range=ngram_range, stop_words='english')\n",
    "    bag_of_words = vec.fit_transform(corpus)\n",
    "    sum_words = bag_of_words.sum(axis=0) \n",
    "    words_freq = [(word, sum_words[0, idx]) for word, idx in vec.vocabulary_.items()]\n",
    "    words_freq = sorted(words_freq, key=lambda x: x[1], reverse=True)\n",
    "    return words_freq[:n]\n",
    "\n",
    "# top 10 for each\n",
    "top_n = 10\n",
    "\n",
    "# News Data\n",
    "print(\"\\n🔹 News Unigrams:\")\n",
    "print(get_top_ngrams(news_df['cleaned_text'], (1,1), top_n))\n",
    "\n",
    "print(\"\\n🔹 News Bigrams:\")\n",
    "print(get_top_ngrams(news_df['cleaned_text'], (2,2), top_n))\n",
    "\n",
    "print(\"\\n🔹 News Trigrams:\")\n",
    "print(get_top_ngrams(news_df['cleaned_text'], (3,3), top_n))\n",
    "\n",
    "# Reddit Data\n",
    "print(\"\\n🔸 Reddit Unigrams:\")\n",
    "print(get_top_ngrams(reddit_df['cleaned_text'], (1,1), top_n))\n",
    "\n",
    "print(\"\\n🔸 Reddit Bigrams:\")\n",
    "print(get_top_ngrams(reddit_df['cleaned_text'], (2,2), top_n))\n",
    "\n",
    "print(\"\\n🔸 Reddit Trigrams:\")\n",
    "print(get_top_ngrams(reddit_df['cleaned_text'], (3,3), top_n))\n"
   ]
  },
  {
   "cell_type": "code",
   "execution_count": 106,
   "id": "f82a87a9",
   "metadata": {},
   "outputs": [
    {
     "name": "stderr",
     "output_type": "stream",
     "text": [
      "WARNING: Ignoring invalid distribution -rkupsafe (c:\\programdata\\anaconda3\\lib\\site-packages)\n",
      "WARNING: Ignoring invalid distribution - (c:\\programdata\\anaconda3\\lib\\site-packages)\n",
      "WARNING: Ignoring invalid distribution -rkupsafe (c:\\programdata\\anaconda3\\lib\\site-packages)\n",
      "WARNING: Ignoring invalid distribution -arkupsafe (c:\\programdata\\anaconda3\\lib\\site-packages)\n",
      "WARNING: Ignoring invalid distribution -cikit-learn (c:\\programdata\\anaconda3\\lib\\site-packages)\n",
      "WARNING: Ignoring invalid distribution -equests (c:\\programdata\\anaconda3\\lib\\site-packages)\n",
      "WARNING: Ignoring invalid distribution -quests (c:\\programdata\\anaconda3\\lib\\site-packages)\n",
      "WARNING: Error parsing dependencies of pyodbc: Invalid version: '4.0.0-unsupported'\n",
      "WARNING: Ignoring invalid distribution -rkupsafe (c:\\programdata\\anaconda3\\lib\\site-packages)\n",
      "WARNING: Ignoring invalid distribution - (c:\\programdata\\anaconda3\\lib\\site-packages)\n",
      "WARNING: Ignoring invalid distribution -rkupsafe (c:\\programdata\\anaconda3\\lib\\site-packages)\n",
      "WARNING: Ignoring invalid distribution -arkupsafe (c:\\programdata\\anaconda3\\lib\\site-packages)\n",
      "WARNING: Ignoring invalid distribution -cikit-learn (c:\\programdata\\anaconda3\\lib\\site-packages)\n",
      "WARNING: Ignoring invalid distribution -equests (c:\\programdata\\anaconda3\\lib\\site-packages)\n",
      "WARNING: Ignoring invalid distribution -quests (c:\\programdata\\anaconda3\\lib\\site-packages)\n",
      "\n",
      "[notice] A new release of pip is available: 24.2 -> 25.1.1\n",
      "[notice] To update, run: python.exe -m pip install --upgrade pip\n",
      "ERROR: Exception:\n",
      "Traceback (most recent call last):\n",
      "  File \"C:\\Users\\hp\\AppData\\Roaming\\Python\\Python39\\site-packages\\pip\\_internal\\cli\\base_command.py\", line 105, in _run_wrapper\n",
      "    status = _inner_run()\n",
      "  File \"C:\\Users\\hp\\AppData\\Roaming\\Python\\Python39\\site-packages\\pip\\_internal\\cli\\base_command.py\", line 96, in _inner_run\n",
      "    return self.run(options, args)\n",
      "  File \"C:\\Users\\hp\\AppData\\Roaming\\Python\\Python39\\site-packages\\pip\\_internal\\cli\\req_command.py\", line 67, in wrapper\n",
      "    return func(self, options, args)\n",
      "  File \"C:\\Users\\hp\\AppData\\Roaming\\Python\\Python39\\site-packages\\pip\\_internal\\commands\\install.py\", line 483, in run\n",
      "    installed_versions[distribution.canonical_name] = distribution.version\n",
      "  File \"C:\\Users\\hp\\AppData\\Roaming\\Python\\Python39\\site-packages\\pip\\_internal\\metadata\\pkg_resources.py\", line 192, in version\n",
      "    return parse_version(self._dist.version)\n",
      "  File \"C:\\Users\\hp\\AppData\\Roaming\\Python\\Python39\\site-packages\\pip\\_vendor\\packaging\\version.py\", line 56, in parse\n",
      "    return Version(version)\n",
      "  File \"C:\\Users\\hp\\AppData\\Roaming\\Python\\Python39\\site-packages\\pip\\_vendor\\packaging\\version.py\", line 202, in __init__\n",
      "    raise InvalidVersion(f\"Invalid version: '{version}'\")\n",
      "pip._vendor.packaging.version.InvalidVersion: Invalid version: '4.0.0-unsupported'\n"
     ]
    },
    {
     "name": "stdout",
     "output_type": "stream",
     "text": [
      "Requirement already satisfied: wordcloud in c:\\programdata\\anaconda3\\lib\\site-packages (1.9.3)\n",
      "Requirement already satisfied: numpy>=1.6.1 in c:\\programdata\\anaconda3\\lib\\site-packages (from wordcloud) (1.20.3)\n",
      "Requirement already satisfied: pillow in c:\\programdata\\anaconda3\\lib\\site-packages (from wordcloud) (8.4.0)\n",
      "Requirement already satisfied: matplotlib in c:\\programdata\\anaconda3\\lib\\site-packages (from wordcloud) (3.4.3)\n",
      "Requirement already satisfied: cycler>=0.10 in c:\\programdata\\anaconda3\\lib\\site-packages (from matplotlib->wordcloud) (0.10.0)\n",
      "Requirement already satisfied: kiwisolver>=1.0.1 in c:\\programdata\\anaconda3\\lib\\site-packages (from matplotlib->wordcloud) (1.3.1)\n",
      "Requirement already satisfied: pyparsing>=2.2.1 in c:\\programdata\\anaconda3\\lib\\site-packages (from matplotlib->wordcloud) (3.0.4)\n",
      "Requirement already satisfied: python-dateutil>=2.7 in c:\\programdata\\anaconda3\\lib\\site-packages (from matplotlib->wordcloud) (2.8.2)\n",
      "Requirement already satisfied: six in c:\\programdata\\anaconda3\\lib\\site-packages (from cycler>=0.10->matplotlib->wordcloud) (1.16.0)\n"
     ]
    }
   ],
   "source": [
    "!pip install wordcloud"
   ]
  },
  {
   "cell_type": "markdown",
   "id": "5009c7bc",
   "metadata": {},
   "source": [
    "### Stopword Frequency"
   ]
  },
  {
   "cell_type": "code",
   "execution_count": 108,
   "id": "bfad22dd",
   "metadata": {},
   "outputs": [
    {
     "name": "stdout",
     "output_type": "stream",
     "text": [
      "News Stopwords:\n",
      "the     8024\n",
      "to      4510\n",
      "of      3704\n",
      "a       3467\n",
      "in      3370\n",
      "and     3149\n",
      "for     1667\n",
      "on      1654\n",
      "is      1593\n",
      "that    1157\n",
      "dtype: int64\n",
      "\n",
      "Reddit Stopwords:\n",
      "like       812\n",
      "get        393\n",
      "would      365\n",
      "also       309\n",
      "could      230\n",
      "since      167\n",
      "however     81\n",
      "ever        80\n",
      "there       80\n",
      "else        52\n",
      "dtype: int64\n"
     ]
    },
    {
     "data": {
      "image/png": "[encoded data removed]",
      "text/plain": [
       "<Figure size 1080x576 with 2 Axes>"
      ]
     },
     "metadata": {
      "needs_background": "light"
     },
     "output_type": "display_data"
    },
    {
     "name": "stdout",
     "output_type": "stream",
     "text": [
      "\n",
      "🧾 News Stopword Ratio: 34.6%\n",
      "🧾 Reddit Stopword Ratio: 2.1%\n"
     ]
    }
   ],
   "source": [
    "import matplotlib.pyplot as plt\n",
    "import numpy as np\n",
    "from collections import Counter\n",
    "from wordcloud import STOPWORDS\n",
    "\n",
    "\n",
    "\n",
    "#  Count stopwords\n",
    "def count_stopwords(text_series):\n",
    "    stopword_list = set(STOPWORDS)\n",
    "    all_words = ' '.join(text_series.dropna()).split()\n",
    "    stopword_counts = Counter(word for word in all_words if word.lower() in stopword_list)\n",
    "    return pd.Series(stopword_counts).sort_values(ascending=False)\n",
    "\n",
    "# Compute stopword ratios\n",
    "def stopword_ratio(text_series):\n",
    "    all_words = ' '.join(text_series.dropna()).split()\n",
    "    total_words = len(all_words)\n",
    "    stopword_count = sum(1 for word in all_words if word.lower() in STOPWORDS)\n",
    "    return 100 * stopword_count / total_words if total_words > 0 else 0\n",
    "\n",
    "# Get counts and ratios\n",
    "news_top_stopwords = count_stopwords(news_df['cleaned_text'])\n",
    "reddit_top_stopwords = count_stopwords(reddit_df['cleaned_text'])\n",
    "\n",
    "news_ratio = stopword_ratio(news_df['cleaned_text'])\n",
    "reddit_ratio = stopword_ratio(reddit_df['cleaned_text'])\n",
    "\n",
    "# Plotting \n",
    "def plot_stopword_comparison(news_stops, reddit_stops, top_n=15):\n",
    "    plt.figure(figsize=(15, 8))\n",
    "    \n",
    "    news_top = news_stops.head(top_n)\n",
    "    reddit_top = reddit_stops.head(top_n)\n",
    "    \n",
    "    ax1 = plt.subplot(1, 2, 1)\n",
    "    ax1.barh(news_top.index[::-1], news_top.values[::-1], color='skyblue')\n",
    "    ax1.set_title('Top News Stopwords', fontsize=14)\n",
    "    ax1.set_xlabel('Frequency')\n",
    "    \n",
    "    ax2 = plt.subplot(1, 2, 2)\n",
    "    ax2.barh(reddit_top.index[::-1], reddit_top.values[::-1], color='salmon')\n",
    "    ax2.set_title('Top Reddit Stopwords', fontsize=14)\n",
    "    ax2.set_xlabel('Frequency')\n",
    "    \n",
    "    plt.tight_layout()\n",
    "    plt.show()\n",
    "\n",
    "#Display\n",
    "print(\"News Stopwords:\")\n",
    "print(news_top_stopwords.head(10))\n",
    "print(\"\\nReddit Stopwords:\")\n",
    "print(reddit_top_stopwords.head(10))\n",
    "\n",
    "plot_stopword_comparison(news_top_stopwords, reddit_top_stopwords)\n",
    "\n",
    "print(f\"\\n News Stopword Ratio: {news_ratio:.1f}%\")\n",
    "print(f\" Reddit Stopword Ratio: {reddit_ratio:.1f}%\")\n"
   ]
  },
  {
   "cell_type": "markdown",
   "id": "68ac183c",
   "metadata": {},
   "source": [
    "News Stopword Ratio: 34.6%\n",
    "    \n",
    "This means that 34.6% of all the words in your news articles are stopwords.\n",
    "\n",
    "Reddit Stopword Ratio: 2.1%\n",
    "    \n",
    "Only 2.1% of words in your Reddit posts/comments are stopwords."
   ]
  },
  {
   "cell_type": "code",
   "execution_count": null,
   "id": "188b9391",
   "metadata": {},
   "outputs": [],
   "source": []
  }
 ],
 "metadata": {
  "kernelspec": {
   "display_name": "Python 3 (ipykernel)",
   "language": "python",
   "name": "python3"
  },
  "language_info": {
   "codemirror_mode": {
    "name": "ipython",
    "version": 3
   },
   "file_extension": ".py",
   "mimetype": "text/x-python",
   "name": "python",
   "nbconvert_exporter": "python",
   "pygments_lexer": "ipython3",
   "version": "3.9.7"
  }
 },
 "nbformat": 4,
 "nbformat_minor": 5
}
