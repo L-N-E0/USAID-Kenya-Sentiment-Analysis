{
 "cells": [
  {
   "cell_type": "markdown",
   "id": "962045ac",
   "metadata": {},
   "source": [
    "# USAID-Kenya-Sentiment-Analysis"
   ]
  },
  {
   "cell_type": "markdown",
   "id": "6acc0606",
   "metadata": {},
   "source": [
    "#    Merging Reddit CSV Files"
   ]
  },
  {
   "cell_type": "markdown",
   "id": "b99dd2b5",
   "metadata": {},
   "source": [
    "### Import neccessary libraries"
   ]
  },
  {
   "cell_type": "code",
   "execution_count": 1,
   "id": "2605d0a6",
   "metadata": {},
   "outputs": [],
   "source": [
    "import pandas as pd\n",
    "import glob\n",
    "import os\n"
   ]
  },
  {
   "cell_type": "markdown",
   "id": "5e1cd992",
   "metadata": {},
   "source": [
    "### Folder path"
   ]
  },
  {
   "cell_type": "code",
   "execution_count": 2,
   "id": "df600c9e",
   "metadata": {},
   "outputs": [],
   "source": [
    "folder_path = 'C:/Users/hp/Desktop/DATA NEXUS PROJECTS/USAID-Kenya-Sentiment-Analysis/data/raw/reddit_data'\n"
   ]
  },
  {
   "cell_type": "markdown",
   "id": "7fcb97c1",
   "metadata": {},
   "source": [
    "### CSV file paths"
   ]
  },
  {
   "cell_type": "code",
   "execution_count": 3,
   "id": "b50625d4",
   "metadata": {},
   "outputs": [
    {
     "data": {
      "text/plain": [
       "['C:/Users/hp/Desktop/DATA NEXUS PROJECTS/USAID-Kenya-Sentiment-Analysis/data/raw/reddit_data\\\\Agatha_reddit.csv',\n",
       " 'C:/Users/hp/Desktop/DATA NEXUS PROJECTS/USAID-Kenya-Sentiment-Analysis/data/raw/reddit_data\\\\cecilia.redditsubs.csv',\n",
       " 'C:/Users/hp/Desktop/DATA NEXUS PROJECTS/USAID-Kenya-Sentiment-Analysis/data/raw/reddit_data\\\\cecilia.reddit_nbo_ke_africa.csv',\n",
       " 'C:/Users/hp/Desktop/DATA NEXUS PROJECTS/USAID-Kenya-Sentiment-Analysis/data/raw/reddit_data\\\\leo_reddit_posts.csv',\n",
       " 'C:/Users/hp/Desktop/DATA NEXUS PROJECTS/USAID-Kenya-Sentiment-Analysis/data/raw/reddit_data\\\\Mbego_reddit_usaid_kenya.csv',\n",
       " 'C:/Users/hp/Desktop/DATA NEXUS PROJECTS/USAID-Kenya-Sentiment-Analysis/data/raw/reddit_data\\\\Mbego_reddit_usaid_kenya2.csv',\n",
       " 'C:/Users/hp/Desktop/DATA NEXUS PROJECTS/USAID-Kenya-Sentiment-Analysis/data/raw/reddit_data\\\\reddit_usaid_kenya.csv',\n",
       " 'C:/Users/hp/Desktop/DATA NEXUS PROJECTS/USAID-Kenya-Sentiment-Analysis/data/raw/reddit_data\\\\reddit_usaid_sentiment.csv',\n",
       " 'C:/Users/hp/Desktop/DATA NEXUS PROJECTS/USAID-Kenya-Sentiment-Analysis/data/raw/reddit_data\\\\ruth_reddit.csv']"
      ]
     },
     "execution_count": 3,
     "metadata": {},
     "output_type": "execute_result"
    }
   ],
   "source": [
    "csv_files = glob.glob(os.path.join(folder_path, '*.csv'))\n",
    "csv_files"
   ]
  },
  {
   "cell_type": "markdown",
   "id": "c37cff96",
   "metadata": {},
   "source": [
    "### Reading the files and combining them into one dataframe"
   ]
  },
  {
   "cell_type": "code",
   "execution_count": 4,
   "id": "f874996c",
   "metadata": {},
   "outputs": [
    {
     "data": {
      "text/html": [
       "<div>\n",
       "<style scoped>\n",
       "    .dataframe tbody tr th:only-of-type {\n",
       "        vertical-align: middle;\n",
       "    }\n",
       "\n",
       "    .dataframe tbody tr th {\n",
       "        vertical-align: top;\n",
       "    }\n",
       "\n",
       "    .dataframe thead th {\n",
       "        text-align: right;\n",
       "    }\n",
       "</style>\n",
       "<table border=\"1\" class=\"dataframe\">\n",
       "  <thead>\n",
       "    <tr style=\"text-align: right;\">\n",
       "      <th></th>\n",
       "      <th>post_title</th>\n",
       "      <th>text</th>\n",
       "      <th>keyword</th>\n",
       "      <th>published_date</th>\n",
       "      <th>url</th>\n",
       "      <th>source_file</th>\n",
       "    </tr>\n",
       "  </thead>\n",
       "  <tbody>\n",
       "    <tr>\n",
       "      <th>0</th>\n",
       "      <td>USAID left a month ago, do we have ARVs in Kenya?</td>\n",
       "      <td>Someone on a different group (different websit...</td>\n",
       "      <td>usaid kenya</td>\n",
       "      <td>2025-04-15 13:16:53</td>\n",
       "      <td>https://www.reddit.com/r/Kenya/comments/1jzrn2...</td>\n",
       "      <td>Agatha_reddit.csv</td>\n",
       "    </tr>\n",
       "    <tr>\n",
       "      <th>1</th>\n",
       "      <td>Classism in r/Kenya and r/nairobi</td>\n",
       "      <td>The classism I'm seeing in both subs is a good...</td>\n",
       "      <td>usaid kenya</td>\n",
       "      <td>2025-04-07 04:21:12</td>\n",
       "      <td>https://www.reddit.com/r/Kenya/comments/1jtcvb...</td>\n",
       "      <td>Agatha_reddit.csv</td>\n",
       "    </tr>\n",
       "    <tr>\n",
       "      <th>2</th>\n",
       "      <td>EX-USAID people!! Let's talk</td>\n",
       "      <td>Are you still in contact with the organisation...</td>\n",
       "      <td>usaid kenya</td>\n",
       "      <td>2025-04-05 19:09:10</td>\n",
       "      <td>https://www.reddit.com/r/Kenya/comments/1jsb14...</td>\n",
       "      <td>Agatha_reddit.csv</td>\n",
       "    </tr>\n",
       "    <tr>\n",
       "      <th>3</th>\n",
       "      <td>Why western powers back Israel no matter what ...</td>\n",
       "      <td>I don't care what good book you read, but it's...</td>\n",
       "      <td>usaid kenya</td>\n",
       "      <td>2025-03-25 08:18:04</td>\n",
       "      <td>https://www.reddit.com/r/Kenya/comments/1jjehw...</td>\n",
       "      <td>Agatha_reddit.csv</td>\n",
       "    </tr>\n",
       "    <tr>\n",
       "      <th>4</th>\n",
       "      <td>Is kenya capable of funding its needs now that...</td>\n",
       "      <td>How is kenya prepared to fill the vacuum of US...</td>\n",
       "      <td>usaid kenya</td>\n",
       "      <td>2025-03-08 08:08:58</td>\n",
       "      <td>https://www.reddit.com/r/Kenya/comments/1j6cjz...</td>\n",
       "      <td>Agatha_reddit.csv</td>\n",
       "    </tr>\n",
       "  </tbody>\n",
       "</table>\n",
       "</div>"
      ],
      "text/plain": [
       "                                          post_title  \\\n",
       "0  USAID left a month ago, do we have ARVs in Kenya?   \n",
       "1                  Classism in r/Kenya and r/nairobi   \n",
       "2                       EX-USAID people!! Let's talk   \n",
       "3  Why western powers back Israel no matter what ...   \n",
       "4  Is kenya capable of funding its needs now that...   \n",
       "\n",
       "                                                text      keyword  \\\n",
       "0  Someone on a different group (different websit...  usaid kenya   \n",
       "1  The classism I'm seeing in both subs is a good...  usaid kenya   \n",
       "2  Are you still in contact with the organisation...  usaid kenya   \n",
       "3  I don't care what good book you read, but it's...  usaid kenya   \n",
       "4  How is kenya prepared to fill the vacuum of US...  usaid kenya   \n",
       "\n",
       "       published_date                                                url  \\\n",
       "0 2025-04-15 13:16:53  https://www.reddit.com/r/Kenya/comments/1jzrn2...   \n",
       "1 2025-04-07 04:21:12  https://www.reddit.com/r/Kenya/comments/1jtcvb...   \n",
       "2 2025-04-05 19:09:10  https://www.reddit.com/r/Kenya/comments/1jsb14...   \n",
       "3 2025-03-25 08:18:04  https://www.reddit.com/r/Kenya/comments/1jjehw...   \n",
       "4 2025-03-08 08:08:58  https://www.reddit.com/r/Kenya/comments/1j6cjz...   \n",
       "\n",
       "         source_file  \n",
       "0  Agatha_reddit.csv  \n",
       "1  Agatha_reddit.csv  \n",
       "2  Agatha_reddit.csv  \n",
       "3  Agatha_reddit.csv  \n",
       "4  Agatha_reddit.csv  "
      ]
     },
     "execution_count": 4,
     "metadata": {},
     "output_type": "execute_result"
    }
   ],
   "source": [
    "\n",
    "preferred_columns = ['post_title', 'text', 'keyword', 'published_date', 'url']\n",
    "all_dfs = []\n",
    "\n",
    "for file in csv_files:\n",
    "    df = pd.read_csv(file)\n",
    "    \n",
    "    # Rename common column variants\n",
    "    if 'title' in df.columns:\n",
    "        df.rename(columns={'title': 'post_title'}, inplace=True)\n",
    "    if 'selftext' in df.columns and 'text' not in df.columns:\n",
    "        df.rename(columns={'selftext': 'text'}, inplace=True)\n",
    "    if 'date_posted' in df.columns:\n",
    "        df.rename(columns={'date_posted': 'published_date'}, inplace=True)\n",
    "    elif 'created_utc' in df.columns:\n",
    "        df.rename(columns={'created_utc': 'published_date'}, inplace=True)\n",
    "    \n",
    "    # Add missing columns\n",
    "    for col in preferred_columns:\n",
    "        if col not in df.columns:\n",
    "            df[col] = None\n",
    "\n",
    "    # Convert published_date to datetime\n",
    "    df['published_date'] = pd.to_datetime(df['published_date'], errors='coerce')\n",
    "\n",
    "    # Track file source\n",
    "    df['source_file'] = os.path.basename(file)\n",
    "    \n",
    "    # Keep only standardized columns\n",
    "    df = df[preferred_columns + ['source_file']]\n",
    "\n",
    "    all_dfs.append(df)\n",
    "\n",
    "# Combine all\n",
    "combined_df = pd.concat(all_dfs, ignore_index=True)\n",
    "combined_df.head()\n"
   ]
  },
  {
   "cell_type": "code",
   "execution_count": 5,
   "id": "83d5b9f6",
   "metadata": {},
   "outputs": [
    {
     "data": {
      "text/plain": [
       "(1306, 6)"
      ]
     },
     "execution_count": 5,
     "metadata": {},
     "output_type": "execute_result"
    }
   ],
   "source": [
    "combined_df.shape #check the shape of the dataset"
   ]
  },
  {
   "cell_type": "code",
   "execution_count": 6,
   "id": "b896c819",
   "metadata": {},
   "outputs": [
    {
     "data": {
      "text/plain": [
       "post_title          0\n",
       "text              398\n",
       "keyword           564\n",
       "published_date    197\n",
       "url                 0\n",
       "source_file         0\n",
       "dtype: int64"
      ]
     },
     "execution_count": 6,
     "metadata": {},
     "output_type": "execute_result"
    }
   ],
   "source": [
    "combined_df.isna().sum() #check for missing values"
   ]
  },
  {
   "cell_type": "code",
   "execution_count": 7,
   "id": "6cbb0b58",
   "metadata": {},
   "outputs": [
    {
     "data": {
      "text/plain": [
       "Index(['post_title', 'text', 'keyword', 'published_date', 'url',\n",
       "       'source_file'],\n",
       "      dtype='object')"
      ]
     },
     "execution_count": 7,
     "metadata": {},
     "output_type": "execute_result"
    }
   ],
   "source": [
    "combined_df.columns"
   ]
  },
  {
   "cell_type": "code",
   "execution_count": 8,
   "id": "f8a79603",
   "metadata": {},
   "outputs": [
    {
     "data": {
      "text/html": [
       "<div>\n",
       "<style scoped>\n",
       "    .dataframe tbody tr th:only-of-type {\n",
       "        vertical-align: middle;\n",
       "    }\n",
       "\n",
       "    .dataframe tbody tr th {\n",
       "        vertical-align: top;\n",
       "    }\n",
       "\n",
       "    .dataframe thead th {\n",
       "        text-align: right;\n",
       "    }\n",
       "</style>\n",
       "<table border=\"1\" class=\"dataframe\">\n",
       "  <thead>\n",
       "    <tr style=\"text-align: right;\">\n",
       "      <th></th>\n",
       "      <th>post_title</th>\n",
       "      <th>text</th>\n",
       "      <th>keyword</th>\n",
       "      <th>published_date</th>\n",
       "      <th>url</th>\n",
       "      <th>source_file</th>\n",
       "    </tr>\n",
       "  </thead>\n",
       "  <tbody>\n",
       "    <tr>\n",
       "      <th>0</th>\n",
       "      <td>USAID left a month ago, do we have ARVs in Kenya?</td>\n",
       "      <td>Someone on a different group (different websit...</td>\n",
       "      <td>usaid kenya</td>\n",
       "      <td>2025-04-15</td>\n",
       "      <td>https://www.reddit.com/r/Kenya/comments/1jzrn2...</td>\n",
       "      <td>Agatha_reddit.csv</td>\n",
       "    </tr>\n",
       "    <tr>\n",
       "      <th>1</th>\n",
       "      <td>Classism in r/Kenya and r/nairobi</td>\n",
       "      <td>The classism I'm seeing in both subs is a good...</td>\n",
       "      <td>usaid kenya</td>\n",
       "      <td>2025-04-07</td>\n",
       "      <td>https://www.reddit.com/r/Kenya/comments/1jtcvb...</td>\n",
       "      <td>Agatha_reddit.csv</td>\n",
       "    </tr>\n",
       "    <tr>\n",
       "      <th>2</th>\n",
       "      <td>EX-USAID people!! Let's talk</td>\n",
       "      <td>Are you still in contact with the organisation...</td>\n",
       "      <td>usaid kenya</td>\n",
       "      <td>2025-04-05</td>\n",
       "      <td>https://www.reddit.com/r/Kenya/comments/1jsb14...</td>\n",
       "      <td>Agatha_reddit.csv</td>\n",
       "    </tr>\n",
       "    <tr>\n",
       "      <th>3</th>\n",
       "      <td>Why western powers back Israel no matter what ...</td>\n",
       "      <td>I don't care what good book you read, but it's...</td>\n",
       "      <td>usaid kenya</td>\n",
       "      <td>2025-03-25</td>\n",
       "      <td>https://www.reddit.com/r/Kenya/comments/1jjehw...</td>\n",
       "      <td>Agatha_reddit.csv</td>\n",
       "    </tr>\n",
       "    <tr>\n",
       "      <th>4</th>\n",
       "      <td>Is kenya capable of funding its needs now that...</td>\n",
       "      <td>How is kenya prepared to fill the vacuum of US...</td>\n",
       "      <td>usaid kenya</td>\n",
       "      <td>2025-03-08</td>\n",
       "      <td>https://www.reddit.com/r/Kenya/comments/1j6cjz...</td>\n",
       "      <td>Agatha_reddit.csv</td>\n",
       "    </tr>\n",
       "  </tbody>\n",
       "</table>\n",
       "</div>"
      ],
      "text/plain": [
       "                                          post_title  \\\n",
       "0  USAID left a month ago, do we have ARVs in Kenya?   \n",
       "1                  Classism in r/Kenya and r/nairobi   \n",
       "2                       EX-USAID people!! Let's talk   \n",
       "3  Why western powers back Israel no matter what ...   \n",
       "4  Is kenya capable of funding its needs now that...   \n",
       "\n",
       "                                                text      keyword  \\\n",
       "0  Someone on a different group (different websit...  usaid kenya   \n",
       "1  The classism I'm seeing in both subs is a good...  usaid kenya   \n",
       "2  Are you still in contact with the organisation...  usaid kenya   \n",
       "3  I don't care what good book you read, but it's...  usaid kenya   \n",
       "4  How is kenya prepared to fill the vacuum of US...  usaid kenya   \n",
       "\n",
       "  published_date                                                url  \\\n",
       "0     2025-04-15  https://www.reddit.com/r/Kenya/comments/1jzrn2...   \n",
       "1     2025-04-07  https://www.reddit.com/r/Kenya/comments/1jtcvb...   \n",
       "2     2025-04-05  https://www.reddit.com/r/Kenya/comments/1jsb14...   \n",
       "3     2025-03-25  https://www.reddit.com/r/Kenya/comments/1jjehw...   \n",
       "4     2025-03-08  https://www.reddit.com/r/Kenya/comments/1j6cjz...   \n",
       "\n",
       "         source_file  \n",
       "0  Agatha_reddit.csv  \n",
       "1  Agatha_reddit.csv  \n",
       "2  Agatha_reddit.csv  \n",
       "3  Agatha_reddit.csv  \n",
       "4  Agatha_reddit.csv  "
      ]
     },
     "execution_count": 8,
     "metadata": {},
     "output_type": "execute_result"
    }
   ],
   "source": [
    "# Extract date and time\n",
    "combined_df['time'] = combined_df['published_date'].dt.time\n",
    "combined_df['published_date'] = combined_df['published_date'].dt.date\n",
    "\n",
    "#Drop the time column\n",
    "combined_df.drop(columns='time', inplace=True)\n",
    "combined_df.head()"
   ]
  },
  {
   "cell_type": "code",
   "execution_count": 9,
   "id": "203cd407",
   "metadata": {},
   "outputs": [
    {
     "data": {
      "text/html": [
       "<div>\n",
       "<style scoped>\n",
       "    .dataframe tbody tr th:only-of-type {\n",
       "        vertical-align: middle;\n",
       "    }\n",
       "\n",
       "    .dataframe tbody tr th {\n",
       "        vertical-align: top;\n",
       "    }\n",
       "\n",
       "    .dataframe thead th {\n",
       "        text-align: right;\n",
       "    }\n",
       "</style>\n",
       "<table border=\"1\" class=\"dataframe\">\n",
       "  <thead>\n",
       "    <tr style=\"text-align: right;\">\n",
       "      <th></th>\n",
       "      <th>post_title</th>\n",
       "      <th>text</th>\n",
       "      <th>keyword</th>\n",
       "      <th>published_date</th>\n",
       "      <th>url</th>\n",
       "      <th>source_file</th>\n",
       "    </tr>\n",
       "  </thead>\n",
       "  <tbody>\n",
       "    <tr>\n",
       "      <th>18</th>\n",
       "      <td>\"USAID was helping pay nurses' salaries.\"</td>\n",
       "      <td>I have seen this claim being thrown around cas...</td>\n",
       "      <td>usaid funding</td>\n",
       "      <td>2025-02-05</td>\n",
       "      <td>https://www.reddit.com/r/Kenya/comments/1ii7yw...</td>\n",
       "      <td>Agatha_reddit.csv</td>\n",
       "    </tr>\n",
       "    <tr>\n",
       "      <th>764</th>\n",
       "      <td>Dear Gentle Readers</td>\n",
       "      <td>Good morning my gentle readers\\r\\n\\r\\nToday I ...</td>\n",
       "      <td>None</td>\n",
       "      <td>1970-01-01</td>\n",
       "      <td>https://www.reddit.com/r/Kenya/comments/1kyxeb...</td>\n",
       "      <td>leo_reddit_posts.csv</td>\n",
       "    </tr>\n",
       "    <tr>\n",
       "      <th>197</th>\n",
       "      <td>Karibu na mzuri! A day in the life of a job se...</td>\n",
       "      <td>Sijui  niite bahati ama kuponea chupu chupu. N...</td>\n",
       "      <td>usaid kenya funding cut</td>\n",
       "      <td>2025-02-07</td>\n",
       "      <td>https://www.reddit.com/r/Kenya/comments/1ijn7s...</td>\n",
       "      <td>Agatha_reddit.csv</td>\n",
       "    </tr>\n",
       "    <tr>\n",
       "      <th>261</th>\n",
       "      <td>Kibaki ALSO failed us</td>\n",
       "      <td>\\r\\nThere is a tendency to over-exaggerate the...</td>\n",
       "      <td>development aid kenya</td>\n",
       "      <td>2025-04-01</td>\n",
       "      <td>https://www.reddit.com/r/Kenya/comments/1jojl2...</td>\n",
       "      <td>Agatha_reddit.csv</td>\n",
       "    </tr>\n",
       "    <tr>\n",
       "      <th>145</th>\n",
       "      <td>Have the recent world occurrences exposed how ...</td>\n",
       "      <td>As a Kenya and Christian, I must say that I ha...</td>\n",
       "      <td>usaid kenya funding cut</td>\n",
       "      <td>2025-04-25</td>\n",
       "      <td>https://www.reddit.com/r/Kenya/comments/1k7rqz...</td>\n",
       "      <td>Agatha_reddit.csv</td>\n",
       "    </tr>\n",
       "    <tr>\n",
       "      <th>1104</th>\n",
       "      <td>Interest post from X</td>\n",
       "      <td>What's your take on the new policy by Donald T...</td>\n",
       "      <td>None</td>\n",
       "      <td>1970-01-01</td>\n",
       "      <td>https://i.redd.it/9y5f6d1s4dfe1.png</td>\n",
       "      <td>reddit_usaid_sentiment.csv</td>\n",
       "    </tr>\n",
       "    <tr>\n",
       "      <th>1231</th>\n",
       "      <td>Where are we with the Africa Continental Free ...</td>\n",
       "      <td>The African Continental Free Trade Area (AfCFT...</td>\n",
       "      <td>None</td>\n",
       "      <td>2025-06-15</td>\n",
       "      <td>https://www.reddit.com/gallery/1lc5gny</td>\n",
       "      <td>ruth_reddit.csv</td>\n",
       "    </tr>\n",
       "    <tr>\n",
       "      <th>1135</th>\n",
       "      <td>Random Acts of Kindness, kuna conductor wazuri...</td>\n",
       "      <td>Hi cousins, hamjambo jamani! Kabla tuendelee W...</td>\n",
       "      <td>None</td>\n",
       "      <td>2025-06-17</td>\n",
       "      <td>https://www.reddit.com/r/Kenya/comments/1ldg5y...</td>\n",
       "      <td>ruth_reddit.csv</td>\n",
       "    </tr>\n",
       "    <tr>\n",
       "      <th>462</th>\n",
       "      <td>Independent media in Russia, Ukraine lose thei...</td>\n",
       "      <td>NaN</td>\n",
       "      <td>usaid suspended funding</td>\n",
       "      <td>2025-02-09</td>\n",
       "      <td>https://www.washingtonpost.com/world/2025/02/0...</td>\n",
       "      <td>Agatha_reddit.csv</td>\n",
       "    </tr>\n",
       "    <tr>\n",
       "      <th>79</th>\n",
       "      <td>Kenya’s Foreign Policy: Vibes or Strategy?</td>\n",
       "      <td>High folks, long time Reddit lurker over here....</td>\n",
       "      <td>kenya foreign aid</td>\n",
       "      <td>2025-03-25</td>\n",
       "      <td>https://youtu.be/n2vX71nH-8s?si=0h3QIjA_WM5I4k8A</td>\n",
       "      <td>Agatha_reddit.csv</td>\n",
       "    </tr>\n",
       "  </tbody>\n",
       "</table>\n",
       "</div>"
      ],
      "text/plain": [
       "                                             post_title  \\\n",
       "18            \"USAID was helping pay nurses' salaries.\"   \n",
       "764                                 Dear Gentle Readers   \n",
       "197   Karibu na mzuri! A day in the life of a job se...   \n",
       "261                               Kibaki ALSO failed us   \n",
       "145   Have the recent world occurrences exposed how ...   \n",
       "1104                               Interest post from X   \n",
       "1231  Where are we with the Africa Continental Free ...   \n",
       "1135  Random Acts of Kindness, kuna conductor wazuri...   \n",
       "462   Independent media in Russia, Ukraine lose thei...   \n",
       "79           Kenya’s Foreign Policy: Vibes or Strategy?   \n",
       "\n",
       "                                                   text  \\\n",
       "18    I have seen this claim being thrown around cas...   \n",
       "764   Good morning my gentle readers\\r\\n\\r\\nToday I ...   \n",
       "197   Sijui  niite bahati ama kuponea chupu chupu. N...   \n",
       "261   \\r\\nThere is a tendency to over-exaggerate the...   \n",
       "145   As a Kenya and Christian, I must say that I ha...   \n",
       "1104  What's your take on the new policy by Donald T...   \n",
       "1231  The African Continental Free Trade Area (AfCFT...   \n",
       "1135  Hi cousins, hamjambo jamani! Kabla tuendelee W...   \n",
       "462                                                 NaN   \n",
       "79    High folks, long time Reddit lurker over here....   \n",
       "\n",
       "                      keyword published_date  \\\n",
       "18              usaid funding     2025-02-05   \n",
       "764                      None     1970-01-01   \n",
       "197   usaid kenya funding cut     2025-02-07   \n",
       "261     development aid kenya     2025-04-01   \n",
       "145   usaid kenya funding cut     2025-04-25   \n",
       "1104                     None     1970-01-01   \n",
       "1231                     None     2025-06-15   \n",
       "1135                     None     2025-06-17   \n",
       "462   usaid suspended funding     2025-02-09   \n",
       "79          kenya foreign aid     2025-03-25   \n",
       "\n",
       "                                                    url  \\\n",
       "18    https://www.reddit.com/r/Kenya/comments/1ii7yw...   \n",
       "764   https://www.reddit.com/r/Kenya/comments/1kyxeb...   \n",
       "197   https://www.reddit.com/r/Kenya/comments/1ijn7s...   \n",
       "261   https://www.reddit.com/r/Kenya/comments/1jojl2...   \n",
       "145   https://www.reddit.com/r/Kenya/comments/1k7rqz...   \n",
       "1104                https://i.redd.it/9y5f6d1s4dfe1.png   \n",
       "1231             https://www.reddit.com/gallery/1lc5gny   \n",
       "1135  https://www.reddit.com/r/Kenya/comments/1ldg5y...   \n",
       "462   https://www.washingtonpost.com/world/2025/02/0...   \n",
       "79     https://youtu.be/n2vX71nH-8s?si=0h3QIjA_WM5I4k8A   \n",
       "\n",
       "                     source_file  \n",
       "18             Agatha_reddit.csv  \n",
       "764         leo_reddit_posts.csv  \n",
       "197            Agatha_reddit.csv  \n",
       "261            Agatha_reddit.csv  \n",
       "145            Agatha_reddit.csv  \n",
       "1104  reddit_usaid_sentiment.csv  \n",
       "1231             ruth_reddit.csv  \n",
       "1135             ruth_reddit.csv  \n",
       "462            Agatha_reddit.csv  \n",
       "79             Agatha_reddit.csv  "
      ]
     },
     "execution_count": 9,
     "metadata": {},
     "output_type": "execute_result"
    }
   ],
   "source": [
    "combined_df.sample(10) #random sample of 10 rows"
   ]
  },
  {
   "cell_type": "markdown",
   "id": "9db6c968",
   "metadata": {},
   "source": [
    "### Save the final merged dataframe to csv"
   ]
  },
  {
   "cell_type": "code",
   "execution_count": 10,
   "id": "be3f73dc",
   "metadata": {},
   "outputs": [
    {
     "name": "stdout",
     "output_type": "stream",
     "text": [
      " Results successfully saved to:\n",
      "C:/Users/hp/Desktop/DATA NEXUS PROJECTS/USAID-Kenya-Sentiment-Analysis/data/processed/individual datasets/Cecilia_merged_reddit_dataset.csv\n"
     ]
    }
   ],
   "source": [
    "# Save to CSV \n",
    "if not combined_df.empty:\n",
    "    output_filename = \"C:/Users/hp/Desktop/DATA NEXUS PROJECTS/USAID-Kenya-Sentiment-Analysis/data/processed/individual datasets/Cecilia_merged_reddit_dataset.csv\"\n",
    "    combined_df.to_csv(output_filename, index=False, encoding='utf-8')\n",
    "    print(f\" Results successfully saved to:\\n{output_filename}\")\n",
    "else:\n",
    "    print(\" No data to save. The DataFrame is empty.\")\n"
   ]
  },
  {
   "cell_type": "code",
   "execution_count": null,
   "id": "4313f5e3",
   "metadata": {},
   "outputs": [],
   "source": []
  },
  {
   "cell_type": "markdown",
   "id": "a05bf2ed",
   "metadata": {},
   "source": [
    "# Merging News CSV Files"
   ]
  },
  {
   "cell_type": "markdown",
   "id": "2e616e2e",
   "metadata": {},
   "source": [
    "### Import necessary libraries"
   ]
  },
  {
   "cell_type": "code",
   "execution_count": 11,
   "id": "350238dc",
   "metadata": {},
   "outputs": [],
   "source": [
    "import pandas as pd\n",
    "import glob\n",
    "import os\n"
   ]
  },
  {
   "cell_type": "markdown",
   "id": "a18c8d34",
   "metadata": {},
   "source": [
    "### Folder path"
   ]
  },
  {
   "cell_type": "code",
   "execution_count": 12,
   "id": "f0bc11b4",
   "metadata": {},
   "outputs": [],
   "source": [
    "folder_path = 'C:/Users/hp/Desktop/DATA NEXUS PROJECTS/USAID-Kenya-Sentiment-Analysis/data/raw/news_data'\n"
   ]
  },
  {
   "cell_type": "markdown",
   "id": "0394822b",
   "metadata": {},
   "source": [
    "### CSV file paths"
   ]
  },
  {
   "cell_type": "code",
   "execution_count": 13,
   "id": "015bbad0",
   "metadata": {},
   "outputs": [
    {
     "data": {
      "text/plain": [
       "['C:/Users/hp/Desktop/DATA NEXUS PROJECTS/USAID-Kenya-Sentiment-Analysis/data/raw/news_data\\\\Agatha_news.csv',\n",
       " 'C:/Users/hp/Desktop/DATA NEXUS PROJECTS/USAID-Kenya-Sentiment-Analysis/data/raw/news_data\\\\cecilia.newsapi.csv',\n",
       " 'C:/Users/hp/Desktop/DATA NEXUS PROJECTS/USAID-Kenya-Sentiment-Analysis/data/raw/news_data\\\\leo_newsapi_articles_enriched.csv',\n",
       " 'C:/Users/hp/Desktop/DATA NEXUS PROJECTS/USAID-Kenya-Sentiment-Analysis/data/raw/news_data\\\\Mbego_news_usaid_kenya_fulltext.csv',\n",
       " 'C:/Users/hp/Desktop/DATA NEXUS PROJECTS/USAID-Kenya-Sentiment-Analysis/data/raw/news_data\\\\Mbego_news_usaid_kenya_recent.csv',\n",
       " 'C:/Users/hp/Desktop/DATA NEXUS PROJECTS/USAID-Kenya-Sentiment-Analysis/data/raw/news_data\\\\newsapi_usaid_articles.csv',\n",
       " 'C:/Users/hp/Desktop/DATA NEXUS PROJECTS/USAID-Kenya-Sentiment-Analysis/data/raw/news_data\\\\ruth_news.csv']"
      ]
     },
     "execution_count": 13,
     "metadata": {},
     "output_type": "execute_result"
    }
   ],
   "source": [
    "folder_path = 'C:/Users/hp/Desktop/DATA NEXUS PROJECTS/USAID-Kenya-Sentiment-Analysis/data/raw/news_data'\n",
    "omit_file = os.path.join(folder_path, 'Agatha_news_fulltext.csv')\n",
    "\n",
    "news_csv_files = glob.glob(os.path.join(folder_path, '*.csv'))\n",
    "news_csv_files = [f for f in news_csv_files if os.path.normpath(f) != os.path.normpath(omit_file)]\n",
    "\n",
    "news_csv_files\n"
   ]
  },
  {
   "cell_type": "markdown",
   "id": "74983ad8",
   "metadata": {},
   "source": [
    "### Reading the files and combining them into one dataframe"
   ]
  },
  {
   "cell_type": "code",
   "execution_count": 14,
   "id": "02b6885f",
   "metadata": {},
   "outputs": [
    {
     "name": "stdout",
     "output_type": "stream",
     "text": [
      "NewsAPI data saved to:\n",
      "C:/Users/hp/Desktop/DATA NEXUS PROJECTS/USAID-Kenya-Sentiment-Analysis/data/processed/individual datasets/Cecilia_merged_news_dataset.csv\n"
     ]
    }
   ],
   "source": [
    "import pandas as pd\n",
    "import os\n",
    "\n",
    "news_columns = ['title', 'description', 'text', 'url', 'keyword', 'published_date', 'source_file']\n",
    "all_news_dfs = []\n",
    "\n",
    "for file in news_csv_files:  \n",
    "    df = pd.read_csv(file)\n",
    "\n",
    "    # Rename content to text \n",
    "    if 'content' in df.columns and 'text' not in df.columns:\n",
    "        df.rename(columns={'content': 'text'}, inplace=True)\n",
    "\n",
    "    # Rename publishedAt to published_date\n",
    "    if 'publishedAt' in df.columns:\n",
    "        df.rename(columns={'publishedAt': 'published_date'}, inplace=True)\n",
    "\n",
    "    # Add missing columns\n",
    "    for col in news_columns:\n",
    "        if col not in df.columns:\n",
    "            df[col] = None\n",
    "\n",
    "    # Convert published_date to datetime\n",
    "    df['published_date'] = pd.to_datetime(df['published_date'], errors='coerce')\n",
    "\n",
    "\n",
    "\n",
    "    # source file info\n",
    "    df['source_file'] = os.path.basename(file)\n",
    "\n",
    "    # standardized columns\n",
    "    df = df[news_columns]\n",
    "    all_news_dfs.append(df)\n",
    "\n",
    "# Combine all\n",
    "news_combined_df = pd.concat(all_news_dfs, ignore_index=True)\n",
    "\n",
    "# Save to CSV\n",
    "output_path = \"C:/Users/hp/Desktop/DATA NEXUS PROJECTS/USAID-Kenya-Sentiment-Analysis/data/processed/individual datasets/Cecilia_merged_news_dataset.csv\"\n",
    "if not news_combined_df.empty:\n",
    "    news_combined_df.to_csv(output_path, index=False, encoding='utf-8')\n",
    "    print(f\"NewsAPI data saved to:\\n{output_path}\")\n",
    "else:\n",
    "    print(\"No NewsAPI data to save. DataFrame is empty.\")\n"
   ]
  },
  {
   "cell_type": "code",
   "execution_count": 15,
   "id": "faed2a11",
   "metadata": {},
   "outputs": [
    {
     "data": {
      "text/plain": [
       "(2638, 7)"
      ]
     },
     "execution_count": 15,
     "metadata": {},
     "output_type": "execute_result"
    }
   ],
   "source": [
    "news_combined_df.shape"
   ]
  },
  {
   "cell_type": "code",
   "execution_count": 16,
   "id": "f6465239",
   "metadata": {},
   "outputs": [
    {
     "data": {
      "text/html": [
       "<div>\n",
       "<style scoped>\n",
       "    .dataframe tbody tr th:only-of-type {\n",
       "        vertical-align: middle;\n",
       "    }\n",
       "\n",
       "    .dataframe tbody tr th {\n",
       "        vertical-align: top;\n",
       "    }\n",
       "\n",
       "    .dataframe thead th {\n",
       "        text-align: right;\n",
       "    }\n",
       "</style>\n",
       "<table border=\"1\" class=\"dataframe\">\n",
       "  <thead>\n",
       "    <tr style=\"text-align: right;\">\n",
       "      <th></th>\n",
       "      <th>title</th>\n",
       "      <th>description</th>\n",
       "      <th>text</th>\n",
       "      <th>url</th>\n",
       "      <th>keyword</th>\n",
       "      <th>published_date</th>\n",
       "      <th>source_file</th>\n",
       "    </tr>\n",
       "  </thead>\n",
       "  <tbody>\n",
       "    <tr>\n",
       "      <th>2543</th>\n",
       "      <td>Elizabeth Warren demands answers over reports ...</td>\n",
       "      <td>Elizabeth Warren demands answers over reports ...</td>\n",
       "      <td>Elizabeth Warren at the US Capitol on 11 Febru...</td>\n",
       "      <td>https://www.newsbreak.com/share/4062317831155-...</td>\n",
       "      <td>None</td>\n",
       "      <td>2025-06-22 14:02:34+00:00</td>\n",
       "      <td>newsapi_usaid_articles.csv</td>\n",
       "    </tr>\n",
       "    <tr>\n",
       "      <th>402</th>\n",
       "      <td>U.S. Will Deeply Cut Military Aid For Ukraine</td>\n",
       "      <td>The United States claims that it will be slash...</td>\n",
       "      <td>The United States claims that it will be slash...</td>\n",
       "      <td>https://www.shtfplan.com/headline-news/u-s-wil...</td>\n",
       "      <td>foreign aid cut</td>\n",
       "      <td>2025-06-11 20:00:06+00:00</td>\n",
       "      <td>Agatha_news.csv</td>\n",
       "    </tr>\n",
       "    <tr>\n",
       "      <th>438</th>\n",
       "      <td>Starving Babies: The Self-Liquidation of U.S. ...</td>\n",
       "      <td>( Tomdispatch.com ) - With the Oval Office loo...</td>\n",
       "      <td>( Tomdispatch.com ) – With the Oval Office loo...</td>\n",
       "      <td>https://www.juancole.com/2025/05/starving-babi...</td>\n",
       "      <td>foreign aid cut</td>\n",
       "      <td>2025-05-26 04:04:16+00:00</td>\n",
       "      <td>Agatha_news.csv</td>\n",
       "    </tr>\n",
       "    <tr>\n",
       "      <th>58</th>\n",
       "      <td>Why Senate Republicans might not let Trump giv...</td>\n",
       "      <td>Trump's effort to codify DOGE cuts to via resc...</td>\n",
       "      <td>Last week, House Republicans narrowly passed P...</td>\n",
       "      <td>https://www.msnbc.com/opinion/msnbc-opinion/tr...</td>\n",
       "      <td>usaid funding</td>\n",
       "      <td>2025-06-16 10:00:00+00:00</td>\n",
       "      <td>Agatha_news.csv</td>\n",
       "    </tr>\n",
       "    <tr>\n",
       "      <th>772</th>\n",
       "      <td>As Ukraine talks flounder, Trump turns to Mide...</td>\n",
       "      <td>As negotiations to end the war in Ukraine stal...</td>\n",
       "      <td>As negotiations to end the war in Ukraine stal...</td>\n",
       "      <td>https://abcnews.go.com/Politics/ukraine-negoti...</td>\n",
       "      <td>foreign aid</td>\n",
       "      <td>2025-05-29 00:07:13+00:00</td>\n",
       "      <td>cecilia.newsapi.csv</td>\n",
       "    </tr>\n",
       "    <tr>\n",
       "      <th>1345</th>\n",
       "      <td>The Censorship-Industrial Complex Has Now Beco...</td>\n",
       "      <td>We have established an autonomous, self-reinfo...</td>\n",
       "      <td>From THE DAILY SCEPTIC\\r\\nby Eugyppius\\r\\nIve ...</td>\n",
       "      <td>https://wattsupwiththat.com/2025/06/18/the-cen...</td>\n",
       "      <td>NGO funding</td>\n",
       "      <td>2025-06-18 09:00:00+00:00</td>\n",
       "      <td>cecilia.newsapi.csv</td>\n",
       "    </tr>\n",
       "    <tr>\n",
       "      <th>1561</th>\n",
       "      <td>North and South Korea are in an underground wa...</td>\n",
       "      <td>The neighbouring countries have long been embr...</td>\n",
       "      <td>Listen to Jean read this article\\r\\nThe border...</td>\n",
       "      <td>https://www.bbc.com/news/articles/c98pnx35xj2o</td>\n",
       "      <td>foreign aid</td>\n",
       "      <td>2025-05-30 23:42:47+00:00</td>\n",
       "      <td>cecilia.newsapi.csv</td>\n",
       "    </tr>\n",
       "    <tr>\n",
       "      <th>554</th>\n",
       "      <td>Geothermal Unicorn Fervo Energy Is Building a ...</td>\n",
       "      <td>Fervo is using technology from the oil and gas...</td>\n",
       "      <td>Between power-hungry AI data centers, domestic...</td>\n",
       "      <td>https://singularityhub.com/2025/06/12/geotherm...</td>\n",
       "      <td>funding reduction kenya</td>\n",
       "      <td>2025-06-12 19:37:53+00:00</td>\n",
       "      <td>Agatha_news.csv</td>\n",
       "    </tr>\n",
       "    <tr>\n",
       "      <th>2346</th>\n",
       "      <td>East Africa’s rulers saw what Gen Z can do – n...</td>\n",
       "      <td>Albert Ojwang’s death in Kenya marks a regiona...</td>\n",
       "      <td>Last Friday, Albert Ojwang, a young blogger in...</td>\n",
       "      <td>https://www.aljazeera.com/opinions/2025/6/11/e...</td>\n",
       "      <td>NGOs</td>\n",
       "      <td>2025-06-11 11:27:19+00:00</td>\n",
       "      <td>cecilia.newsapi.csv</td>\n",
       "    </tr>\n",
       "    <tr>\n",
       "      <th>2478</th>\n",
       "      <td>Has DOGE really saved the US government $180bn?</td>\n",
       "      <td>Elon Musk first claimed the department would m...</td>\n",
       "      <td>None</td>\n",
       "      <td>https://www.aljazeera.com/news/2025/6/6/has-do...</td>\n",
       "      <td>None</td>\n",
       "      <td>2025-06-06 11:21:51+00:00</td>\n",
       "      <td>Mbego_news_usaid_kenya_fulltext.csv</td>\n",
       "    </tr>\n",
       "  </tbody>\n",
       "</table>\n",
       "</div>"
      ],
      "text/plain": [
       "                                                  title  \\\n",
       "2543  Elizabeth Warren demands answers over reports ...   \n",
       "402       U.S. Will Deeply Cut Military Aid For Ukraine   \n",
       "438   Starving Babies: The Self-Liquidation of U.S. ...   \n",
       "58    Why Senate Republicans might not let Trump giv...   \n",
       "772   As Ukraine talks flounder, Trump turns to Mide...   \n",
       "1345  The Censorship-Industrial Complex Has Now Beco...   \n",
       "1561  North and South Korea are in an underground wa...   \n",
       "554   Geothermal Unicorn Fervo Energy Is Building a ...   \n",
       "2346  East Africa’s rulers saw what Gen Z can do – n...   \n",
       "2478    Has DOGE really saved the US government $180bn?   \n",
       "\n",
       "                                            description  \\\n",
       "2543  Elizabeth Warren demands answers over reports ...   \n",
       "402   The United States claims that it will be slash...   \n",
       "438   ( Tomdispatch.com ) - With the Oval Office loo...   \n",
       "58    Trump's effort to codify DOGE cuts to via resc...   \n",
       "772   As negotiations to end the war in Ukraine stal...   \n",
       "1345  We have established an autonomous, self-reinfo...   \n",
       "1561  The neighbouring countries have long been embr...   \n",
       "554   Fervo is using technology from the oil and gas...   \n",
       "2346  Albert Ojwang’s death in Kenya marks a regiona...   \n",
       "2478  Elon Musk first claimed the department would m...   \n",
       "\n",
       "                                                   text  \\\n",
       "2543  Elizabeth Warren at the US Capitol on 11 Febru...   \n",
       "402   The United States claims that it will be slash...   \n",
       "438   ( Tomdispatch.com ) – With the Oval Office loo...   \n",
       "58    Last week, House Republicans narrowly passed P...   \n",
       "772   As negotiations to end the war in Ukraine stal...   \n",
       "1345  From THE DAILY SCEPTIC\\r\\nby Eugyppius\\r\\nIve ...   \n",
       "1561  Listen to Jean read this article\\r\\nThe border...   \n",
       "554   Between power-hungry AI data centers, domestic...   \n",
       "2346  Last Friday, Albert Ojwang, a young blogger in...   \n",
       "2478                                               None   \n",
       "\n",
       "                                                    url  \\\n",
       "2543  https://www.newsbreak.com/share/4062317831155-...   \n",
       "402   https://www.shtfplan.com/headline-news/u-s-wil...   \n",
       "438   https://www.juancole.com/2025/05/starving-babi...   \n",
       "58    https://www.msnbc.com/opinion/msnbc-opinion/tr...   \n",
       "772   https://abcnews.go.com/Politics/ukraine-negoti...   \n",
       "1345  https://wattsupwiththat.com/2025/06/18/the-cen...   \n",
       "1561     https://www.bbc.com/news/articles/c98pnx35xj2o   \n",
       "554   https://singularityhub.com/2025/06/12/geotherm...   \n",
       "2346  https://www.aljazeera.com/opinions/2025/6/11/e...   \n",
       "2478  https://www.aljazeera.com/news/2025/6/6/has-do...   \n",
       "\n",
       "                      keyword             published_date  \\\n",
       "2543                     None  2025-06-22 14:02:34+00:00   \n",
       "402           foreign aid cut  2025-06-11 20:00:06+00:00   \n",
       "438           foreign aid cut  2025-05-26 04:04:16+00:00   \n",
       "58              usaid funding  2025-06-16 10:00:00+00:00   \n",
       "772               foreign aid  2025-05-29 00:07:13+00:00   \n",
       "1345              NGO funding  2025-06-18 09:00:00+00:00   \n",
       "1561              foreign aid  2025-05-30 23:42:47+00:00   \n",
       "554   funding reduction kenya  2025-06-12 19:37:53+00:00   \n",
       "2346                     NGOs  2025-06-11 11:27:19+00:00   \n",
       "2478                     None  2025-06-06 11:21:51+00:00   \n",
       "\n",
       "                              source_file  \n",
       "2543           newsapi_usaid_articles.csv  \n",
       "402                       Agatha_news.csv  \n",
       "438                       Agatha_news.csv  \n",
       "58                        Agatha_news.csv  \n",
       "772                   cecilia.newsapi.csv  \n",
       "1345                  cecilia.newsapi.csv  \n",
       "1561                  cecilia.newsapi.csv  \n",
       "554                       Agatha_news.csv  \n",
       "2346                  cecilia.newsapi.csv  \n",
       "2478  Mbego_news_usaid_kenya_fulltext.csv  "
      ]
     },
     "execution_count": 16,
     "metadata": {},
     "output_type": "execute_result"
    }
   ],
   "source": [
    "news_combined_df.sample(10)"
   ]
  },
  {
   "cell_type": "code",
   "execution_count": 17,
   "id": "93b5781e",
   "metadata": {},
   "outputs": [
    {
     "data": {
      "text/plain": [
       "title               0\n",
       "description        16\n",
       "text               25\n",
       "url                 2\n",
       "keyword           259\n",
       "published_date     99\n",
       "source_file         0\n",
       "dtype: int64"
      ]
     },
     "execution_count": 17,
     "metadata": {},
     "output_type": "execute_result"
    }
   ],
   "source": [
    "news_combined_df.isna().sum()"
   ]
  },
  {
   "cell_type": "markdown",
   "id": "09724989",
   "metadata": {},
   "source": [
    "## FINAL REDDIT DATA TO BE USED ~ mbego_all_reddit_merged"
   ]
  },
  {
   "cell_type": "code",
   "execution_count": 18,
   "id": "6ca8581b",
   "metadata": {},
   "outputs": [],
   "source": [
    "import pandas as pd\n",
    "import seaborn as sns"
   ]
  },
  {
   "cell_type": "code",
   "execution_count": 19,
   "id": "846c0959",
   "metadata": {},
   "outputs": [
    {
     "data": {
      "text/html": [
       "<div>\n",
       "<style scoped>\n",
       "    .dataframe tbody tr th:only-of-type {\n",
       "        vertical-align: middle;\n",
       "    }\n",
       "\n",
       "    .dataframe tbody tr th {\n",
       "        vertical-align: top;\n",
       "    }\n",
       "\n",
       "    .dataframe thead th {\n",
       "        text-align: right;\n",
       "    }\n",
       "</style>\n",
       "<table border=\"1\" class=\"dataframe\">\n",
       "  <thead>\n",
       "    <tr style=\"text-align: right;\">\n",
       "      <th></th>\n",
       "      <th>title</th>\n",
       "      <th>selftext</th>\n",
       "      <th>subreddit</th>\n",
       "      <th>author</th>\n",
       "      <th>created_utc</th>\n",
       "      <th>created_date</th>\n",
       "      <th>score</th>\n",
       "      <th>num_comments</th>\n",
       "      <th>keyword</th>\n",
       "      <th>search_term</th>\n",
       "      <th>date_posted</th>\n",
       "      <th>upvotes</th>\n",
       "      <th>comments</th>\n",
       "      <th>url</th>\n",
       "      <th>permalink</th>\n",
       "    </tr>\n",
       "  </thead>\n",
       "  <tbody>\n",
       "    <tr>\n",
       "      <th>0</th>\n",
       "      <td>USAID left a month ago, do we have ARVs in Kenya?</td>\n",
       "      <td>Someone on a different group (different websit...</td>\n",
       "      <td>Kenya</td>\n",
       "      <td>muerki</td>\n",
       "      <td>4/15/2025 13:16</td>\n",
       "      <td>NaN</td>\n",
       "      <td>3.0</td>\n",
       "      <td>5.0</td>\n",
       "      <td>usaid kenya</td>\n",
       "      <td>NaN</td>\n",
       "      <td>NaN</td>\n",
       "      <td>NaN</td>\n",
       "      <td>NaN</td>\n",
       "      <td>https://www.reddit.com/r/Kenya/comments/1jzrn2...</td>\n",
       "      <td>NaN</td>\n",
       "    </tr>\n",
       "    <tr>\n",
       "      <th>1</th>\n",
       "      <td>Classism in r/Kenya and r/nairobi</td>\n",
       "      <td>The classism I'm seeing in both subs is a good...</td>\n",
       "      <td>Kenya</td>\n",
       "      <td>Morio_anzenza</td>\n",
       "      <td>4/7/2025 4:21</td>\n",
       "      <td>NaN</td>\n",
       "      <td>169.0</td>\n",
       "      <td>95.0</td>\n",
       "      <td>usaid kenya</td>\n",
       "      <td>NaN</td>\n",
       "      <td>NaN</td>\n",
       "      <td>NaN</td>\n",
       "      <td>NaN</td>\n",
       "      <td>https://www.reddit.com/r/Kenya/comments/1jtcvb...</td>\n",
       "      <td>NaN</td>\n",
       "    </tr>\n",
       "    <tr>\n",
       "      <th>2</th>\n",
       "      <td>EX-USAID people!! Let's talk</td>\n",
       "      <td>Are you still in contact with the organisation...</td>\n",
       "      <td>Kenya</td>\n",
       "      <td>vindtar</td>\n",
       "      <td>4/5/2025 19:09</td>\n",
       "      <td>NaN</td>\n",
       "      <td>2.0</td>\n",
       "      <td>2.0</td>\n",
       "      <td>usaid kenya</td>\n",
       "      <td>NaN</td>\n",
       "      <td>NaN</td>\n",
       "      <td>NaN</td>\n",
       "      <td>NaN</td>\n",
       "      <td>https://www.reddit.com/r/Kenya/comments/1jsb14...</td>\n",
       "      <td>NaN</td>\n",
       "    </tr>\n",
       "    <tr>\n",
       "      <th>3</th>\n",
       "      <td>Why western powers back Israel no matter what ...</td>\n",
       "      <td>I don't care what good book you read, but it's...</td>\n",
       "      <td>Kenya</td>\n",
       "      <td>Gold_Smart</td>\n",
       "      <td>3/25/2025 8:18</td>\n",
       "      <td>NaN</td>\n",
       "      <td>13.0</td>\n",
       "      <td>20.0</td>\n",
       "      <td>usaid kenya</td>\n",
       "      <td>NaN</td>\n",
       "      <td>NaN</td>\n",
       "      <td>NaN</td>\n",
       "      <td>NaN</td>\n",
       "      <td>https://www.reddit.com/r/Kenya/comments/1jjehw...</td>\n",
       "      <td>NaN</td>\n",
       "    </tr>\n",
       "    <tr>\n",
       "      <th>4</th>\n",
       "      <td>Is kenya capable of funding its needs now that...</td>\n",
       "      <td>How is kenya prepared to fill the vacuum of US...</td>\n",
       "      <td>Kenya</td>\n",
       "      <td>westmaxia</td>\n",
       "      <td>3/8/2025 8:08</td>\n",
       "      <td>NaN</td>\n",
       "      <td>1.0</td>\n",
       "      <td>6.0</td>\n",
       "      <td>usaid kenya</td>\n",
       "      <td>NaN</td>\n",
       "      <td>NaN</td>\n",
       "      <td>NaN</td>\n",
       "      <td>NaN</td>\n",
       "      <td>https://www.reddit.com/r/Kenya/comments/1j6cjz...</td>\n",
       "      <td>NaN</td>\n",
       "    </tr>\n",
       "  </tbody>\n",
       "</table>\n",
       "</div>"
      ],
      "text/plain": [
       "                                               title  \\\n",
       "0  USAID left a month ago, do we have ARVs in Kenya?   \n",
       "1                  Classism in r/Kenya and r/nairobi   \n",
       "2                       EX-USAID people!! Let's talk   \n",
       "3  Why western powers back Israel no matter what ...   \n",
       "4  Is kenya capable of funding its needs now that...   \n",
       "\n",
       "                                            selftext subreddit         author  \\\n",
       "0  Someone on a different group (different websit...     Kenya         muerki   \n",
       "1  The classism I'm seeing in both subs is a good...     Kenya  Morio_anzenza   \n",
       "2  Are you still in contact with the organisation...     Kenya        vindtar   \n",
       "3  I don't care what good book you read, but it's...     Kenya     Gold_Smart   \n",
       "4  How is kenya prepared to fill the vacuum of US...     Kenya      westmaxia   \n",
       "\n",
       "       created_utc created_date  score  num_comments      keyword search_term  \\\n",
       "0  4/15/2025 13:16          NaN    3.0           5.0  usaid kenya         NaN   \n",
       "1    4/7/2025 4:21          NaN  169.0          95.0  usaid kenya         NaN   \n",
       "2   4/5/2025 19:09          NaN    2.0           2.0  usaid kenya         NaN   \n",
       "3   3/25/2025 8:18          NaN   13.0          20.0  usaid kenya         NaN   \n",
       "4    3/8/2025 8:08          NaN    1.0           6.0  usaid kenya         NaN   \n",
       "\n",
       "   date_posted  upvotes  comments  \\\n",
       "0          NaN      NaN       NaN   \n",
       "1          NaN      NaN       NaN   \n",
       "2          NaN      NaN       NaN   \n",
       "3          NaN      NaN       NaN   \n",
       "4          NaN      NaN       NaN   \n",
       "\n",
       "                                                 url permalink  \n",
       "0  https://www.reddit.com/r/Kenya/comments/1jzrn2...       NaN  \n",
       "1  https://www.reddit.com/r/Kenya/comments/1jtcvb...       NaN  \n",
       "2  https://www.reddit.com/r/Kenya/comments/1jsb14...       NaN  \n",
       "3  https://www.reddit.com/r/Kenya/comments/1jjehw...       NaN  \n",
       "4  https://www.reddit.com/r/Kenya/comments/1j6cjz...       NaN  "
      ]
     },
     "execution_count": 19,
     "metadata": {},
     "output_type": "execute_result"
    }
   ],
   "source": [
    "reddit_df = pd.read_csv('C:/Users/hp/Desktop/USAID backuppp for me/mbego_all_reddit_merged.csv')\n",
    "reddit_df.head()"
   ]
  },
  {
   "cell_type": "code",
   "execution_count": 20,
   "id": "bb901bb4",
   "metadata": {},
   "outputs": [
    {
     "data": {
      "text/html": [
       "<div>\n",
       "<style scoped>\n",
       "    .dataframe tbody tr th:only-of-type {\n",
       "        vertical-align: middle;\n",
       "    }\n",
       "\n",
       "    .dataframe tbody tr th {\n",
       "        vertical-align: top;\n",
       "    }\n",
       "\n",
       "    .dataframe thead th {\n",
       "        text-align: right;\n",
       "    }\n",
       "</style>\n",
       "<table border=\"1\" class=\"dataframe\">\n",
       "  <thead>\n",
       "    <tr style=\"text-align: right;\">\n",
       "      <th></th>\n",
       "      <th>title</th>\n",
       "      <th>selftext</th>\n",
       "      <th>subreddit</th>\n",
       "      <th>author</th>\n",
       "      <th>created_utc</th>\n",
       "      <th>created_date</th>\n",
       "      <th>score</th>\n",
       "      <th>num_comments</th>\n",
       "      <th>keyword</th>\n",
       "      <th>search_term</th>\n",
       "      <th>date_posted</th>\n",
       "      <th>upvotes</th>\n",
       "      <th>comments</th>\n",
       "      <th>url</th>\n",
       "      <th>permalink</th>\n",
       "    </tr>\n",
       "  </thead>\n",
       "  <tbody>\n",
       "    <tr>\n",
       "      <th>1284</th>\n",
       "      <td>Weekly Sub-Saharan Africa Security Situation a...</td>\n",
       "      <td>#Somalia 🇸🇴\\r\\n#Sudan 🇸🇩\\r\\nDemocratic Republi...</td>\n",
       "      <td>Africa</td>\n",
       "      <td>NaN</td>\n",
       "      <td>4/18/2025 14:09</td>\n",
       "      <td>NaN</td>\n",
       "      <td>3.0</td>\n",
       "      <td>2.0</td>\n",
       "      <td>NaN</td>\n",
       "      <td>NaN</td>\n",
       "      <td>NaN</td>\n",
       "      <td>NaN</td>\n",
       "      <td>NaN</td>\n",
       "      <td>https://open.substack.com/pub/hasretkargin/p/w...</td>\n",
       "      <td>NaN</td>\n",
       "    </tr>\n",
       "    <tr>\n",
       "      <th>1285</th>\n",
       "      <td>No evidence that Burkina Faso paid off all its...</td>\n",
       "      <td>NaN</td>\n",
       "      <td>Africa</td>\n",
       "      <td>NaN</td>\n",
       "      <td>4/18/2025 8:23</td>\n",
       "      <td>NaN</td>\n",
       "      <td>52.0</td>\n",
       "      <td>25.0</td>\n",
       "      <td>NaN</td>\n",
       "      <td>NaN</td>\n",
       "      <td>NaN</td>\n",
       "      <td>NaN</td>\n",
       "      <td>NaN</td>\n",
       "      <td>https://www.reuters.com/fact-check/burkina-fas...</td>\n",
       "      <td>NaN</td>\n",
       "    </tr>\n",
       "    <tr>\n",
       "      <th>1286</th>\n",
       "      <td>Ghana orders foreigners to exit gold market by...</td>\n",
       "      <td>Ghana has ordered foreigners to exit its gold ...</td>\n",
       "      <td>Africa</td>\n",
       "      <td>NaN</td>\n",
       "      <td>4/17/2025 17:59</td>\n",
       "      <td>NaN</td>\n",
       "      <td>101.0</td>\n",
       "      <td>12.0</td>\n",
       "      <td>NaN</td>\n",
       "      <td>NaN</td>\n",
       "      <td>NaN</td>\n",
       "      <td>NaN</td>\n",
       "      <td>NaN</td>\n",
       "      <td>https://eastleighvoice.co.ke/west%20african/13...</td>\n",
       "      <td>NaN</td>\n",
       "    </tr>\n",
       "    <tr>\n",
       "      <th>1287</th>\n",
       "      <td>Unending Frustration Regarding Sudan War.</td>\n",
       "      <td>https://www.reuters.com/world/britain-boosts-a...</td>\n",
       "      <td>Africa</td>\n",
       "      <td>NaN</td>\n",
       "      <td>4/16/2025 19:33</td>\n",
       "      <td>NaN</td>\n",
       "      <td>11.0</td>\n",
       "      <td>8.0</td>\n",
       "      <td>NaN</td>\n",
       "      <td>NaN</td>\n",
       "      <td>NaN</td>\n",
       "      <td>NaN</td>\n",
       "      <td>NaN</td>\n",
       "      <td>https://www.reddit.com/gallery/1k0t8ed</td>\n",
       "      <td>NaN</td>\n",
       "    </tr>\n",
       "    <tr>\n",
       "      <th>1288</th>\n",
       "      <td>Tanzania's Authoritarian Government Has Just B...</td>\n",
       "      <td>Tanzania's main opposition party has been barr...</td>\n",
       "      <td>Africa</td>\n",
       "      <td>NaN</td>\n",
       "      <td>4/14/2025 11:31</td>\n",
       "      <td>NaN</td>\n",
       "      <td>52.0</td>\n",
       "      <td>14.0</td>\n",
       "      <td>NaN</td>\n",
       "      <td>NaN</td>\n",
       "      <td>NaN</td>\n",
       "      <td>NaN</td>\n",
       "      <td>NaN</td>\n",
       "      <td>https://www.reddit.com/r/Africa/comments/1jywl...</td>\n",
       "      <td>NaN</td>\n",
       "    </tr>\n",
       "  </tbody>\n",
       "</table>\n",
       "</div>"
      ],
      "text/plain": [
       "                                                  title  \\\n",
       "1284  Weekly Sub-Saharan Africa Security Situation a...   \n",
       "1285  No evidence that Burkina Faso paid off all its...   \n",
       "1286  Ghana orders foreigners to exit gold market by...   \n",
       "1287          Unending Frustration Regarding Sudan War.   \n",
       "1288  Tanzania's Authoritarian Government Has Just B...   \n",
       "\n",
       "                                               selftext subreddit author  \\\n",
       "1284  #Somalia 🇸🇴\\r\\n#Sudan 🇸🇩\\r\\nDemocratic Republi...    Africa    NaN   \n",
       "1285                                                NaN    Africa    NaN   \n",
       "1286  Ghana has ordered foreigners to exit its gold ...    Africa    NaN   \n",
       "1287  https://www.reuters.com/world/britain-boosts-a...    Africa    NaN   \n",
       "1288  Tanzania's main opposition party has been barr...    Africa    NaN   \n",
       "\n",
       "          created_utc created_date  score  num_comments keyword search_term  \\\n",
       "1284  4/18/2025 14:09          NaN    3.0           2.0     NaN         NaN   \n",
       "1285   4/18/2025 8:23          NaN   52.0          25.0     NaN         NaN   \n",
       "1286  4/17/2025 17:59          NaN  101.0          12.0     NaN         NaN   \n",
       "1287  4/16/2025 19:33          NaN   11.0           8.0     NaN         NaN   \n",
       "1288  4/14/2025 11:31          NaN   52.0          14.0     NaN         NaN   \n",
       "\n",
       "      date_posted  upvotes  comments  \\\n",
       "1284          NaN      NaN       NaN   \n",
       "1285          NaN      NaN       NaN   \n",
       "1286          NaN      NaN       NaN   \n",
       "1287          NaN      NaN       NaN   \n",
       "1288          NaN      NaN       NaN   \n",
       "\n",
       "                                                    url permalink  \n",
       "1284  https://open.substack.com/pub/hasretkargin/p/w...       NaN  \n",
       "1285  https://www.reuters.com/fact-check/burkina-fas...       NaN  \n",
       "1286  https://eastleighvoice.co.ke/west%20african/13...       NaN  \n",
       "1287             https://www.reddit.com/gallery/1k0t8ed       NaN  \n",
       "1288  https://www.reddit.com/r/Africa/comments/1jywl...       NaN  "
      ]
     },
     "execution_count": 20,
     "metadata": {},
     "output_type": "execute_result"
    }
   ],
   "source": [
    "reddit_df.tail()"
   ]
  },
  {
   "cell_type": "code",
   "execution_count": 21,
   "id": "6ad45f63",
   "metadata": {},
   "outputs": [
    {
     "name": "stdout",
     "output_type": "stream",
     "text": [
      "<class 'pandas.core.frame.DataFrame'>\n",
      "RangeIndex: 1289 entries, 0 to 1288\n",
      "Data columns (total 15 columns):\n",
      " #   Column        Non-Null Count  Dtype  \n",
      "---  ------        --------------  -----  \n",
      " 0   title         1289 non-null   object \n",
      " 1   selftext      901 non-null    object \n",
      " 2   subreddit     1289 non-null   object \n",
      " 3   author        466 non-null    object \n",
      " 4   created_utc   1289 non-null   object \n",
      " 5   created_date  150 non-null    object \n",
      " 6   score         1013 non-null   float64\n",
      " 7   num_comments  833 non-null    float64\n",
      " 8   keyword       742 non-null    object \n",
      " 9   search_term   150 non-null    object \n",
      " 10  date_posted   0 non-null      float64\n",
      " 11  upvotes       276 non-null    float64\n",
      " 12  comments      276 non-null    float64\n",
      " 13  url           1289 non-null   object \n",
      " 14  permalink     426 non-null    object \n",
      "dtypes: float64(5), object(10)\n",
      "memory usage: 151.2+ KB\n"
     ]
    }
   ],
   "source": [
    "reddit_df.info()"
   ]
  },
  {
   "cell_type": "code",
   "execution_count": 22,
   "id": "b7fe73d5",
   "metadata": {},
   "outputs": [
    {
     "data": {
      "text/plain": [
       "(1289, 15)"
      ]
     },
     "execution_count": 22,
     "metadata": {},
     "output_type": "execute_result"
    }
   ],
   "source": [
    "reddit_df.shape"
   ]
  },
  {
   "cell_type": "code",
   "execution_count": 23,
   "id": "a727ec60",
   "metadata": {},
   "outputs": [
    {
     "data": {
      "text/plain": [
       "Index(['title', 'selftext', 'subreddit', 'author', 'created_utc',\n",
       "       'created_date', 'score', 'num_comments', 'keyword', 'search_term',\n",
       "       'date_posted', 'upvotes', 'comments', 'url', 'permalink'],\n",
       "      dtype='object')"
      ]
     },
     "execution_count": 23,
     "metadata": {},
     "output_type": "execute_result"
    }
   ],
   "source": [
    "reddit_df.columns"
   ]
  },
  {
   "cell_type": "code",
   "execution_count": 24,
   "id": "30f65492",
   "metadata": {},
   "outputs": [
    {
     "data": {
      "text/plain": [
       "title            object\n",
       "selftext         object\n",
       "subreddit        object\n",
       "author           object\n",
       "created_utc      object\n",
       "created_date     object\n",
       "score           float64\n",
       "num_comments    float64\n",
       "keyword          object\n",
       "search_term      object\n",
       "date_posted     float64\n",
       "upvotes         float64\n",
       "comments        float64\n",
       "url              object\n",
       "permalink        object\n",
       "dtype: object"
      ]
     },
     "execution_count": 24,
     "metadata": {},
     "output_type": "execute_result"
    }
   ],
   "source": [
    "reddit_df.dtypes"
   ]
  },
  {
   "cell_type": "code",
   "execution_count": 25,
   "id": "60c5141b",
   "metadata": {},
   "outputs": [
    {
     "data": {
      "text/plain": [
       "title              0\n",
       "selftext         388\n",
       "subreddit          0\n",
       "author           823\n",
       "created_utc        0\n",
       "created_date    1139\n",
       "score            276\n",
       "num_comments     456\n",
       "keyword          547\n",
       "search_term     1139\n",
       "date_posted     1289\n",
       "upvotes         1013\n",
       "comments        1013\n",
       "url                0\n",
       "permalink        863\n",
       "dtype: int64"
      ]
     },
     "execution_count": 25,
     "metadata": {},
     "output_type": "execute_result"
    }
   ],
   "source": [
    "reddit_df.isna().sum()"
   ]
  },
  {
   "cell_type": "code",
   "execution_count": 26,
   "id": "f73a4f2a",
   "metadata": {},
   "outputs": [
    {
     "data": {
      "text/html": [
       "<div>\n",
       "<style scoped>\n",
       "    .dataframe tbody tr th:only-of-type {\n",
       "        vertical-align: middle;\n",
       "    }\n",
       "\n",
       "    .dataframe tbody tr th {\n",
       "        vertical-align: top;\n",
       "    }\n",
       "\n",
       "    .dataframe thead th {\n",
       "        text-align: right;\n",
       "    }\n",
       "</style>\n",
       "<table border=\"1\" class=\"dataframe\">\n",
       "  <thead>\n",
       "    <tr style=\"text-align: right;\">\n",
       "      <th></th>\n",
       "      <th>score</th>\n",
       "      <th>num_comments</th>\n",
       "      <th>date_posted</th>\n",
       "      <th>upvotes</th>\n",
       "      <th>comments</th>\n",
       "    </tr>\n",
       "  </thead>\n",
       "  <tbody>\n",
       "    <tr>\n",
       "      <th>count</th>\n",
       "      <td>1013.000000</td>\n",
       "      <td>833.000000</td>\n",
       "      <td>0.0</td>\n",
       "      <td>276.000000</td>\n",
       "      <td>276.000000</td>\n",
       "    </tr>\n",
       "    <tr>\n",
       "      <th>mean</th>\n",
       "      <td>344.626851</td>\n",
       "      <td>31.349340</td>\n",
       "      <td>NaN</td>\n",
       "      <td>337.518116</td>\n",
       "      <td>35.905797</td>\n",
       "    </tr>\n",
       "    <tr>\n",
       "      <th>std</th>\n",
       "      <td>3106.309319</td>\n",
       "      <td>68.060435</td>\n",
       "      <td>NaN</td>\n",
       "      <td>1623.914761</td>\n",
       "      <td>73.531775</td>\n",
       "    </tr>\n",
       "    <tr>\n",
       "      <th>min</th>\n",
       "      <td>0.000000</td>\n",
       "      <td>0.000000</td>\n",
       "      <td>NaN</td>\n",
       "      <td>0.000000</td>\n",
       "      <td>0.000000</td>\n",
       "    </tr>\n",
       "    <tr>\n",
       "      <th>25%</th>\n",
       "      <td>3.000000</td>\n",
       "      <td>4.000000</td>\n",
       "      <td>NaN</td>\n",
       "      <td>6.750000</td>\n",
       "      <td>5.000000</td>\n",
       "    </tr>\n",
       "    <tr>\n",
       "      <th>50%</th>\n",
       "      <td>10.000000</td>\n",
       "      <td>9.000000</td>\n",
       "      <td>NaN</td>\n",
       "      <td>43.500000</td>\n",
       "      <td>13.000000</td>\n",
       "    </tr>\n",
       "    <tr>\n",
       "      <th>75%</th>\n",
       "      <td>54.000000</td>\n",
       "      <td>31.000000</td>\n",
       "      <td>NaN</td>\n",
       "      <td>111.250000</td>\n",
       "      <td>31.250000</td>\n",
       "    </tr>\n",
       "    <tr>\n",
       "      <th>max</th>\n",
       "      <td>79088.000000</td>\n",
       "      <td>706.000000</td>\n",
       "      <td>NaN</td>\n",
       "      <td>22208.000000</td>\n",
       "      <td>558.000000</td>\n",
       "    </tr>\n",
       "  </tbody>\n",
       "</table>\n",
       "</div>"
      ],
      "text/plain": [
       "              score  num_comments  date_posted       upvotes    comments\n",
       "count   1013.000000    833.000000          0.0    276.000000  276.000000\n",
       "mean     344.626851     31.349340          NaN    337.518116   35.905797\n",
       "std     3106.309319     68.060435          NaN   1623.914761   73.531775\n",
       "min        0.000000      0.000000          NaN      0.000000    0.000000\n",
       "25%        3.000000      4.000000          NaN      6.750000    5.000000\n",
       "50%       10.000000      9.000000          NaN     43.500000   13.000000\n",
       "75%       54.000000     31.000000          NaN    111.250000   31.250000\n",
       "max    79088.000000    706.000000          NaN  22208.000000  558.000000"
      ]
     },
     "execution_count": 26,
     "metadata": {},
     "output_type": "execute_result"
    }
   ],
   "source": [
    "reddit_df.describe()"
   ]
  },
  {
   "cell_type": "markdown",
   "id": "9dd4cbe8",
   "metadata": {},
   "source": [
    "## Data Cleaning"
   ]
  },
  {
   "cell_type": "markdown",
   "id": "9c842aff",
   "metadata": {},
   "source": [
    "### Dropping Unneccessary Columns"
   ]
  },
  {
   "cell_type": "code",
   "execution_count": 27,
   "id": "9d728b90",
   "metadata": {},
   "outputs": [
    {
     "data": {
      "text/html": [
       "<div>\n",
       "<style scoped>\n",
       "    .dataframe tbody tr th:only-of-type {\n",
       "        vertical-align: middle;\n",
       "    }\n",
       "\n",
       "    .dataframe tbody tr th {\n",
       "        vertical-align: top;\n",
       "    }\n",
       "\n",
       "    .dataframe thead th {\n",
       "        text-align: right;\n",
       "    }\n",
       "</style>\n",
       "<table border=\"1\" class=\"dataframe\">\n",
       "  <thead>\n",
       "    <tr style=\"text-align: right;\">\n",
       "      <th></th>\n",
       "      <th>title</th>\n",
       "      <th>selftext</th>\n",
       "      <th>created_utc</th>\n",
       "      <th>keyword</th>\n",
       "      <th>url</th>\n",
       "    </tr>\n",
       "  </thead>\n",
       "  <tbody>\n",
       "    <tr>\n",
       "      <th>0</th>\n",
       "      <td>USAID left a month ago, do we have ARVs in Kenya?</td>\n",
       "      <td>Someone on a different group (different websit...</td>\n",
       "      <td>4/15/2025 13:16</td>\n",
       "      <td>usaid kenya</td>\n",
       "      <td>https://www.reddit.com/r/Kenya/comments/1jzrn2...</td>\n",
       "    </tr>\n",
       "    <tr>\n",
       "      <th>1</th>\n",
       "      <td>Classism in r/Kenya and r/nairobi</td>\n",
       "      <td>The classism I'm seeing in both subs is a good...</td>\n",
       "      <td>4/7/2025 4:21</td>\n",
       "      <td>usaid kenya</td>\n",
       "      <td>https://www.reddit.com/r/Kenya/comments/1jtcvb...</td>\n",
       "    </tr>\n",
       "    <tr>\n",
       "      <th>2</th>\n",
       "      <td>EX-USAID people!! Let's talk</td>\n",
       "      <td>Are you still in contact with the organisation...</td>\n",
       "      <td>4/5/2025 19:09</td>\n",
       "      <td>usaid kenya</td>\n",
       "      <td>https://www.reddit.com/r/Kenya/comments/1jsb14...</td>\n",
       "    </tr>\n",
       "    <tr>\n",
       "      <th>3</th>\n",
       "      <td>Why western powers back Israel no matter what ...</td>\n",
       "      <td>I don't care what good book you read, but it's...</td>\n",
       "      <td>3/25/2025 8:18</td>\n",
       "      <td>usaid kenya</td>\n",
       "      <td>https://www.reddit.com/r/Kenya/comments/1jjehw...</td>\n",
       "    </tr>\n",
       "    <tr>\n",
       "      <th>4</th>\n",
       "      <td>Is kenya capable of funding its needs now that...</td>\n",
       "      <td>How is kenya prepared to fill the vacuum of US...</td>\n",
       "      <td>3/8/2025 8:08</td>\n",
       "      <td>usaid kenya</td>\n",
       "      <td>https://www.reddit.com/r/Kenya/comments/1j6cjz...</td>\n",
       "    </tr>\n",
       "  </tbody>\n",
       "</table>\n",
       "</div>"
      ],
      "text/plain": [
       "                                               title  \\\n",
       "0  USAID left a month ago, do we have ARVs in Kenya?   \n",
       "1                  Classism in r/Kenya and r/nairobi   \n",
       "2                       EX-USAID people!! Let's talk   \n",
       "3  Why western powers back Israel no matter what ...   \n",
       "4  Is kenya capable of funding its needs now that...   \n",
       "\n",
       "                                            selftext      created_utc  \\\n",
       "0  Someone on a different group (different websit...  4/15/2025 13:16   \n",
       "1  The classism I'm seeing in both subs is a good...    4/7/2025 4:21   \n",
       "2  Are you still in contact with the organisation...   4/5/2025 19:09   \n",
       "3  I don't care what good book you read, but it's...   3/25/2025 8:18   \n",
       "4  How is kenya prepared to fill the vacuum of US...    3/8/2025 8:08   \n",
       "\n",
       "       keyword                                                url  \n",
       "0  usaid kenya  https://www.reddit.com/r/Kenya/comments/1jzrn2...  \n",
       "1  usaid kenya  https://www.reddit.com/r/Kenya/comments/1jtcvb...  \n",
       "2  usaid kenya  https://www.reddit.com/r/Kenya/comments/1jsb14...  \n",
       "3  usaid kenya  https://www.reddit.com/r/Kenya/comments/1jjehw...  \n",
       "4  usaid kenya  https://www.reddit.com/r/Kenya/comments/1j6cjz...  "
      ]
     },
     "execution_count": 27,
     "metadata": {},
     "output_type": "execute_result"
    }
   ],
   "source": [
    "reddit_df.drop(columns=['subreddit', 'author','created_date','score','num_comments','search_term','date_posted','upvotes','comments','permalink'], inplace=True)\n",
    "reddit_df.head()"
   ]
  },
  {
   "cell_type": "code",
   "execution_count": 28,
   "id": "b3a0c1d9",
   "metadata": {},
   "outputs": [
    {
     "data": {
      "text/plain": [
       "Index(['title', 'selftext', 'created_utc', 'keyword', 'url'], dtype='object')"
      ]
     },
     "execution_count": 28,
     "metadata": {},
     "output_type": "execute_result"
    }
   ],
   "source": [
    "reddit_df.columns"
   ]
  },
  {
   "cell_type": "markdown",
   "id": "7d1439e1",
   "metadata": {},
   "source": [
    "### Checking for missing values"
   ]
  },
  {
   "cell_type": "code",
   "execution_count": 29,
   "id": "6bb35394",
   "metadata": {},
   "outputs": [
    {
     "data": {
      "text/plain": [
       "title            0\n",
       "selftext       388\n",
       "created_utc      0\n",
       "keyword        547\n",
       "url              0\n",
       "dtype: int64"
      ]
     },
     "execution_count": 29,
     "metadata": {},
     "output_type": "execute_result"
    }
   ],
   "source": [
    "reddit_df.isna().sum()"
   ]
  },
  {
   "cell_type": "code",
   "execution_count": 30,
   "id": "b079ba9e",
   "metadata": {},
   "outputs": [
    {
     "data": {
      "text/html": [
       "<div>\n",
       "<style scoped>\n",
       "    .dataframe tbody tr th:only-of-type {\n",
       "        vertical-align: middle;\n",
       "    }\n",
       "\n",
       "    .dataframe tbody tr th {\n",
       "        vertical-align: top;\n",
       "    }\n",
       "\n",
       "    .dataframe thead th {\n",
       "        text-align: right;\n",
       "    }\n",
       "</style>\n",
       "<table border=\"1\" class=\"dataframe\">\n",
       "  <thead>\n",
       "    <tr style=\"text-align: right;\">\n",
       "      <th></th>\n",
       "      <th>selftext</th>\n",
       "      <th>title</th>\n",
       "      <th>url</th>\n",
       "    </tr>\n",
       "  </thead>\n",
       "  <tbody>\n",
       "    <tr>\n",
       "      <th>578</th>\n",
       "      <td>It seems like no one is suing the Trump admini...</td>\n",
       "      <td>The stop work orders are blatantly illegal. Wh...</td>\n",
       "      <td>https://www.reddit.com/r/InternationalDev/comm...</td>\n",
       "    </tr>\n",
       "    <tr>\n",
       "      <th>1253</th>\n",
       "      <td>Hey all, \\r\\n\\r\\nI’ve been stumbling across sn...</td>\n",
       "      <td>Criticism of Traoré via this sub</td>\n",
       "      <td>https://www.reddit.com/r/Africa/comments/1kgue...</td>\n",
       "    </tr>\n",
       "    <tr>\n",
       "      <th>1052</th>\n",
       "      <td>NaN</td>\n",
       "      <td>Russian ships carrying stolen Ukrainian grains...</td>\n",
       "      <td>https://markets.businessinsider.com/news/commo...</td>\n",
       "    </tr>\n",
       "    <tr>\n",
       "      <th>150</th>\n",
       "      <td>CALL ME WHATEVER YOU WANT, BUT HERE'S THE BARE...</td>\n",
       "      <td>Like It or Not, Here's Why Ruto Will Win in 20...</td>\n",
       "      <td>https://www.reddit.com/r/Kenya/comments/1k3ijd...</td>\n",
       "    </tr>\n",
       "    <tr>\n",
       "      <th>1050</th>\n",
       "      <td>NaN</td>\n",
       "      <td>Foreign aid freeze decimates investigative new...</td>\n",
       "      <td>https://www.icij.org/inside-icij/2025/02/forei...</td>\n",
       "    </tr>\n",
       "    <tr>\n",
       "      <th>1224</th>\n",
       "      <td>NaN</td>\n",
       "      <td>Uganda, South Sudan, and the CAR commit to fun...</td>\n",
       "      <td>https://africa.businessinsider.com/local/lifes...</td>\n",
       "    </tr>\n",
       "    <tr>\n",
       "      <th>564</th>\n",
       "      <td>*However, administration officials “have not o...</td>\n",
       "      <td>WASHINGTON (AP) — A federal judge ordered the ...</td>\n",
       "      <td>https://apnews.com/article/usaid-trump-musk-sh...</td>\n",
       "    </tr>\n",
       "    <tr>\n",
       "      <th>710</th>\n",
       "      <td>NaN</td>\n",
       "      <td>Judge orders temporary end to freeze on foreig...</td>\n",
       "      <td>https://rollcall.com/2025/02/14/judge-orders-t...</td>\n",
       "    </tr>\n",
       "    <tr>\n",
       "      <th>102</th>\n",
       "      <td>I hear Trump is making it tough for foreigners...</td>\n",
       "      <td>Kenyans in diaspora, specifically America.</td>\n",
       "      <td>https://www.reddit.com/r/Kenya/comments/1ig866...</td>\n",
       "    </tr>\n",
       "    <tr>\n",
       "      <th>432</th>\n",
       "      <td>NaN</td>\n",
       "      <td>Norsk Folkehjelp, a major Norwegian aid group ...</td>\n",
       "      <td>https://www.kyivpost.com/post/46955</td>\n",
       "    </tr>\n",
       "  </tbody>\n",
       "</table>\n",
       "</div>"
      ],
      "text/plain": [
       "                                               selftext  \\\n",
       "578   It seems like no one is suing the Trump admini...   \n",
       "1253  Hey all, \\r\\n\\r\\nI’ve been stumbling across sn...   \n",
       "1052                                                NaN   \n",
       "150   CALL ME WHATEVER YOU WANT, BUT HERE'S THE BARE...   \n",
       "1050                                                NaN   \n",
       "1224                                                NaN   \n",
       "564   *However, administration officials “have not o...   \n",
       "710                                                 NaN   \n",
       "102   I hear Trump is making it tough for foreigners...   \n",
       "432                                                 NaN   \n",
       "\n",
       "                                                  title  \\\n",
       "578   The stop work orders are blatantly illegal. Wh...   \n",
       "1253                   Criticism of Traoré via this sub   \n",
       "1052  Russian ships carrying stolen Ukrainian grains...   \n",
       "150   Like It or Not, Here's Why Ruto Will Win in 20...   \n",
       "1050  Foreign aid freeze decimates investigative new...   \n",
       "1224  Uganda, South Sudan, and the CAR commit to fun...   \n",
       "564   WASHINGTON (AP) — A federal judge ordered the ...   \n",
       "710   Judge orders temporary end to freeze on foreig...   \n",
       "102          Kenyans in diaspora, specifically America.   \n",
       "432   Norsk Folkehjelp, a major Norwegian aid group ...   \n",
       "\n",
       "                                                    url  \n",
       "578   https://www.reddit.com/r/InternationalDev/comm...  \n",
       "1253  https://www.reddit.com/r/Africa/comments/1kgue...  \n",
       "1052  https://markets.businessinsider.com/news/commo...  \n",
       "150   https://www.reddit.com/r/Kenya/comments/1k3ijd...  \n",
       "1050  https://www.icij.org/inside-icij/2025/02/forei...  \n",
       "1224  https://africa.businessinsider.com/local/lifes...  \n",
       "564   https://apnews.com/article/usaid-trump-musk-sh...  \n",
       "710   https://rollcall.com/2025/02/14/judge-orders-t...  \n",
       "102   https://www.reddit.com/r/Kenya/comments/1ig866...  \n",
       "432                 https://www.kyivpost.com/post/46955  "
      ]
     },
     "execution_count": 30,
     "metadata": {},
     "output_type": "execute_result"
    }
   ],
   "source": [
    "reddit_df[['selftext', 'title','url']].sample(10)"
   ]
  },
  {
   "cell_type": "code",
   "execution_count": 31,
   "id": "adc2b2a7",
   "metadata": {},
   "outputs": [
    {
     "data": {
      "text/html": [
       "<div>\n",
       "<style scoped>\n",
       "    .dataframe tbody tr th:only-of-type {\n",
       "        vertical-align: middle;\n",
       "    }\n",
       "\n",
       "    .dataframe tbody tr th {\n",
       "        vertical-align: top;\n",
       "    }\n",
       "\n",
       "    .dataframe thead th {\n",
       "        text-align: right;\n",
       "    }\n",
       "</style>\n",
       "<table border=\"1\" class=\"dataframe\">\n",
       "  <thead>\n",
       "    <tr style=\"text-align: right;\">\n",
       "      <th></th>\n",
       "      <th>post_title</th>\n",
       "      <th>text</th>\n",
       "      <th>published_date</th>\n",
       "      <th>keyword</th>\n",
       "      <th>url</th>\n",
       "    </tr>\n",
       "  </thead>\n",
       "  <tbody>\n",
       "    <tr>\n",
       "      <th>0</th>\n",
       "      <td>USAID left a month ago, do we have ARVs in Kenya?</td>\n",
       "      <td>Someone on a different group (different websit...</td>\n",
       "      <td>4/15/2025 13:16</td>\n",
       "      <td>usaid kenya</td>\n",
       "      <td>https://www.reddit.com/r/Kenya/comments/1jzrn2...</td>\n",
       "    </tr>\n",
       "    <tr>\n",
       "      <th>1</th>\n",
       "      <td>Classism in r/Kenya and r/nairobi</td>\n",
       "      <td>The classism I'm seeing in both subs is a good...</td>\n",
       "      <td>4/7/2025 4:21</td>\n",
       "      <td>usaid kenya</td>\n",
       "      <td>https://www.reddit.com/r/Kenya/comments/1jtcvb...</td>\n",
       "    </tr>\n",
       "    <tr>\n",
       "      <th>2</th>\n",
       "      <td>EX-USAID people!! Let's talk</td>\n",
       "      <td>Are you still in contact with the organisation...</td>\n",
       "      <td>4/5/2025 19:09</td>\n",
       "      <td>usaid kenya</td>\n",
       "      <td>https://www.reddit.com/r/Kenya/comments/1jsb14...</td>\n",
       "    </tr>\n",
       "    <tr>\n",
       "      <th>3</th>\n",
       "      <td>Why western powers back Israel no matter what ...</td>\n",
       "      <td>I don't care what good book you read, but it's...</td>\n",
       "      <td>3/25/2025 8:18</td>\n",
       "      <td>usaid kenya</td>\n",
       "      <td>https://www.reddit.com/r/Kenya/comments/1jjehw...</td>\n",
       "    </tr>\n",
       "    <tr>\n",
       "      <th>4</th>\n",
       "      <td>Is kenya capable of funding its needs now that...</td>\n",
       "      <td>How is kenya prepared to fill the vacuum of US...</td>\n",
       "      <td>3/8/2025 8:08</td>\n",
       "      <td>usaid kenya</td>\n",
       "      <td>https://www.reddit.com/r/Kenya/comments/1j6cjz...</td>\n",
       "    </tr>\n",
       "  </tbody>\n",
       "</table>\n",
       "</div>"
      ],
      "text/plain": [
       "                                          post_title  \\\n",
       "0  USAID left a month ago, do we have ARVs in Kenya?   \n",
       "1                  Classism in r/Kenya and r/nairobi   \n",
       "2                       EX-USAID people!! Let's talk   \n",
       "3  Why western powers back Israel no matter what ...   \n",
       "4  Is kenya capable of funding its needs now that...   \n",
       "\n",
       "                                                text   published_date  \\\n",
       "0  Someone on a different group (different websit...  4/15/2025 13:16   \n",
       "1  The classism I'm seeing in both subs is a good...    4/7/2025 4:21   \n",
       "2  Are you still in contact with the organisation...   4/5/2025 19:09   \n",
       "3  I don't care what good book you read, but it's...   3/25/2025 8:18   \n",
       "4  How is kenya prepared to fill the vacuum of US...    3/8/2025 8:08   \n",
       "\n",
       "       keyword                                                url  \n",
       "0  usaid kenya  https://www.reddit.com/r/Kenya/comments/1jzrn2...  \n",
       "1  usaid kenya  https://www.reddit.com/r/Kenya/comments/1jtcvb...  \n",
       "2  usaid kenya  https://www.reddit.com/r/Kenya/comments/1jsb14...  \n",
       "3  usaid kenya  https://www.reddit.com/r/Kenya/comments/1jjehw...  \n",
       "4  usaid kenya  https://www.reddit.com/r/Kenya/comments/1j6cjz...  "
      ]
     },
     "execution_count": 31,
     "metadata": {},
     "output_type": "execute_result"
    }
   ],
   "source": [
    "reddit_df.rename(columns={'title':'post_title','selftext':'text','created_utc':'published_date'},inplace=True)\n",
    "reddit_df.head()"
   ]
  },
  {
   "cell_type": "markdown",
   "id": "6cb43549",
   "metadata": {},
   "source": [
    "**parse** - analyze and convert a piece of data (like a string) into a different, more useful format.\n",
    "\n",
    "The below code cleans the published_date column in the data. Some dates are written as normal dates (eg \"2025-04-15\") and others are written as numbers (UNIX timestamps). The code checks each value and tries to convert it into a proper date. If it can’t, it leaves it empty. After that, it removes the time part and keeps just the date. This helps make sure all the dates are in the same clean format."
   ]
  },
  {
   "cell_type": "code",
   "execution_count": 32,
   "id": "3b7730f9",
   "metadata": {},
   "outputs": [
    {
     "name": "stdout",
     "output_type": "stream",
     "text": [
      "Unparsed dates: 0\n"
     ]
    },
    {
     "data": {
      "text/html": [
       "<div>\n",
       "<style scoped>\n",
       "    .dataframe tbody tr th:only-of-type {\n",
       "        vertical-align: middle;\n",
       "    }\n",
       "\n",
       "    .dataframe tbody tr th {\n",
       "        vertical-align: top;\n",
       "    }\n",
       "\n",
       "    .dataframe thead th {\n",
       "        text-align: right;\n",
       "    }\n",
       "</style>\n",
       "<table border=\"1\" class=\"dataframe\">\n",
       "  <thead>\n",
       "    <tr style=\"text-align: right;\">\n",
       "      <th></th>\n",
       "      <th>post_title</th>\n",
       "      <th>text</th>\n",
       "      <th>published_date</th>\n",
       "      <th>keyword</th>\n",
       "      <th>url</th>\n",
       "    </tr>\n",
       "  </thead>\n",
       "  <tbody>\n",
       "    <tr>\n",
       "      <th>0</th>\n",
       "      <td>USAID left a month ago, do we have ARVs in Kenya?</td>\n",
       "      <td>Someone on a different group (different websit...</td>\n",
       "      <td>2025-04-15</td>\n",
       "      <td>usaid kenya</td>\n",
       "      <td>https://www.reddit.com/r/Kenya/comments/1jzrn2...</td>\n",
       "    </tr>\n",
       "    <tr>\n",
       "      <th>1</th>\n",
       "      <td>Classism in r/Kenya and r/nairobi</td>\n",
       "      <td>The classism I'm seeing in both subs is a good...</td>\n",
       "      <td>2025-04-07</td>\n",
       "      <td>usaid kenya</td>\n",
       "      <td>https://www.reddit.com/r/Kenya/comments/1jtcvb...</td>\n",
       "    </tr>\n",
       "    <tr>\n",
       "      <th>2</th>\n",
       "      <td>EX-USAID people!! Let's talk</td>\n",
       "      <td>Are you still in contact with the organisation...</td>\n",
       "      <td>2025-04-05</td>\n",
       "      <td>usaid kenya</td>\n",
       "      <td>https://www.reddit.com/r/Kenya/comments/1jsb14...</td>\n",
       "    </tr>\n",
       "    <tr>\n",
       "      <th>3</th>\n",
       "      <td>Why western powers back Israel no matter what ...</td>\n",
       "      <td>I don't care what good book you read, but it's...</td>\n",
       "      <td>2025-03-25</td>\n",
       "      <td>usaid kenya</td>\n",
       "      <td>https://www.reddit.com/r/Kenya/comments/1jjehw...</td>\n",
       "    </tr>\n",
       "    <tr>\n",
       "      <th>4</th>\n",
       "      <td>Is kenya capable of funding its needs now that...</td>\n",
       "      <td>How is kenya prepared to fill the vacuum of US...</td>\n",
       "      <td>2025-03-08</td>\n",
       "      <td>usaid kenya</td>\n",
       "      <td>https://www.reddit.com/r/Kenya/comments/1j6cjz...</td>\n",
       "    </tr>\n",
       "  </tbody>\n",
       "</table>\n",
       "</div>"
      ],
      "text/plain": [
       "                                          post_title  \\\n",
       "0  USAID left a month ago, do we have ARVs in Kenya?   \n",
       "1                  Classism in r/Kenya and r/nairobi   \n",
       "2                       EX-USAID people!! Let's talk   \n",
       "3  Why western powers back Israel no matter what ...   \n",
       "4  Is kenya capable of funding its needs now that...   \n",
       "\n",
       "                                                text published_date  \\\n",
       "0  Someone on a different group (different websit...     2025-04-15   \n",
       "1  The classism I'm seeing in both subs is a good...     2025-04-07   \n",
       "2  Are you still in contact with the organisation...     2025-04-05   \n",
       "3  I don't care what good book you read, but it's...     2025-03-25   \n",
       "4  How is kenya prepared to fill the vacuum of US...     2025-03-08   \n",
       "\n",
       "       keyword                                                url  \n",
       "0  usaid kenya  https://www.reddit.com/r/Kenya/comments/1jzrn2...  \n",
       "1  usaid kenya  https://www.reddit.com/r/Kenya/comments/1jtcvb...  \n",
       "2  usaid kenya  https://www.reddit.com/r/Kenya/comments/1jsb14...  \n",
       "3  usaid kenya  https://www.reddit.com/r/Kenya/comments/1jjehw...  \n",
       "4  usaid kenya  https://www.reddit.com/r/Kenya/comments/1j6cjz...  "
      ]
     },
     "execution_count": 32,
     "metadata": {},
     "output_type": "execute_result"
    }
   ],
   "source": [
    "import pandas as pd\n",
    "\n",
    "# Function to handle both datetime strings and UNIX timestamps\n",
    "def parse_mixed_dates(val):\n",
    "    try:\n",
    "        # Parse as a regular datetime string\n",
    "        return pd.to_datetime(val)\n",
    "    except:\n",
    "        try:\n",
    "            # Parse as a UNIX timestamp\n",
    "            return pd.to_datetime(float(val), unit='s')\n",
    "        except:\n",
    "            return pd.NaT  # Return NaT if all parsing fails\n",
    "\n",
    "# Apply the parsing function\n",
    "reddit_df['published_date'] = reddit_df['published_date'].apply(parse_mixed_dates)\n",
    "\n",
    "# Check how many dates failed to parse\n",
    "print(\"Unparsed dates:\", reddit_df['published_date'].isna().sum())\n",
    "\n",
    "# Extract date only (remove time)\n",
    "reddit_df['published_date'] = reddit_df['published_date'].dt.date\n",
    "reddit_df.head()"
   ]
  },
  {
   "cell_type": "code",
   "execution_count": 33,
   "id": "0f3eebd2",
   "metadata": {},
   "outputs": [
    {
     "data": {
      "text/plain": [
       "0"
      ]
     },
     "execution_count": 33,
     "metadata": {},
     "output_type": "execute_result"
    }
   ],
   "source": [
    "reddit_df['published_date'].isna().sum() #check the missing values in date"
   ]
  },
  {
   "cell_type": "code",
   "execution_count": 34,
   "id": "e5641d8e",
   "metadata": {},
   "outputs": [],
   "source": [
    "reddit_df.dropna(subset=['published_date'], inplace=True) #drop missing values in date"
   ]
  },
  {
   "cell_type": "code",
   "execution_count": 35,
   "id": "d24d8427",
   "metadata": {},
   "outputs": [
    {
     "data": {
      "text/plain": [
       "(1289, 5)"
      ]
     },
     "execution_count": 35,
     "metadata": {},
     "output_type": "execute_result"
    }
   ],
   "source": [
    "reddit_df.shape #check the shape of the dataset"
   ]
  },
  {
   "cell_type": "code",
   "execution_count": 36,
   "id": "8a3cd9dc",
   "metadata": {},
   "outputs": [
    {
     "data": {
      "text/plain": [
       "post_title          0\n",
       "text              388\n",
       "published_date      0\n",
       "keyword           547\n",
       "url                 0\n",
       "dtype: int64"
      ]
     },
     "execution_count": 36,
     "metadata": {},
     "output_type": "execute_result"
    }
   ],
   "source": [
    "reddit_df.isna().sum() #check for missing values"
   ]
  },
  {
   "cell_type": "markdown",
   "id": "e9daac39",
   "metadata": {},
   "source": [
    "### Fill missing values in text with an empty string"
   ]
  },
  {
   "cell_type": "markdown",
   "id": "063ab99e",
   "metadata": {},
   "source": [
    "I filled missing values in text with an empty string because these are likely link posts where the author did not add body text."
   ]
  },
  {
   "cell_type": "code",
   "execution_count": 37,
   "id": "8d73eb67",
   "metadata": {},
   "outputs": [
    {
     "data": {
      "text/plain": [
       "post_title          0\n",
       "text                0\n",
       "published_date      0\n",
       "keyword           547\n",
       "url                 0\n",
       "dtype: int64"
      ]
     },
     "execution_count": 37,
     "metadata": {},
     "output_type": "execute_result"
    }
   ],
   "source": [
    "reddit_df['text'] = reddit_df['text'].fillna('')\n",
    "reddit_df.isna().sum()"
   ]
  },
  {
   "cell_type": "markdown",
   "id": "db683fc5",
   "metadata": {},
   "source": [
    "### Fill missing values in keyword with a placeholder 'Unknown'"
   ]
  },
  {
   "cell_type": "code",
   "execution_count": 38,
   "id": "e127f33e",
   "metadata": {},
   "outputs": [
    {
     "data": {
      "text/plain": [
       "608     foreign aid, foreign aid\n",
       "1013                     unknown\n",
       "227        development aid kenya\n",
       "699     foreign aid, foreign aid\n",
       "903                      unknown\n",
       "41             kenya foreign aid\n",
       "271        development aid kenya\n",
       "305        development aid kenya\n",
       "953                      unknown\n",
       "102            kenya foreign aid\n",
       "Name: keyword, dtype: object"
      ]
     },
     "execution_count": 38,
     "metadata": {},
     "output_type": "execute_result"
    }
   ],
   "source": [
    "reddit_df['keyword'] = reddit_df['keyword'].fillna('unknown')\n",
    "reddit_df['keyword'].sample(10)"
   ]
  },
  {
   "cell_type": "code",
   "execution_count": 39,
   "id": "990926c5",
   "metadata": {},
   "outputs": [
    {
     "data": {
      "text/plain": [
       "post_title        0\n",
       "text              0\n",
       "published_date    0\n",
       "keyword           0\n",
       "url               0\n",
       "dtype: int64"
      ]
     },
     "execution_count": 39,
     "metadata": {},
     "output_type": "execute_result"
    }
   ],
   "source": [
    "reddit_df.isna().sum()"
   ]
  },
  {
   "cell_type": "markdown",
   "id": "05af5201",
   "metadata": {},
   "source": [
    "Missing values filled with an empty string and placeholder to maintain the integrity of the data and maintain a good amount of rows"
   ]
  },
  {
   "cell_type": "markdown",
   "id": "3da82a9e",
   "metadata": {},
   "source": [
    "### Check for duplicates "
   ]
  },
  {
   "cell_type": "code",
   "execution_count": 40,
   "id": "58b4495a",
   "metadata": {},
   "outputs": [
    {
     "data": {
      "text/plain": [
       "145"
      ]
     },
     "execution_count": 40,
     "metadata": {},
     "output_type": "execute_result"
    }
   ],
   "source": [
    "reddit_df.duplicated().sum()"
   ]
  },
  {
   "cell_type": "code",
   "execution_count": 41,
   "id": "aa880fcd",
   "metadata": {},
   "outputs": [],
   "source": [
    "reddit_df.drop_duplicates(inplace=True) #drop all duplicates"
   ]
  },
  {
   "cell_type": "code",
   "execution_count": 42,
   "id": "cb61344d",
   "metadata": {},
   "outputs": [
    {
     "data": {
      "text/plain": [
       "0"
      ]
     },
     "execution_count": 42,
     "metadata": {},
     "output_type": "execute_result"
    }
   ],
   "source": [
    "reddit_df.duplicated().sum() #confirm that all duplicates have been dropped"
   ]
  },
  {
   "cell_type": "code",
   "execution_count": 43,
   "id": "ccafd6f5",
   "metadata": {},
   "outputs": [
    {
     "data": {
      "text/plain": [
       "(1144, 5)"
      ]
     },
     "execution_count": 43,
     "metadata": {},
     "output_type": "execute_result"
    }
   ],
   "source": [
    "reddit_df.shape #shape of the new data after cleaning"
   ]
  },
  {
   "cell_type": "code",
   "execution_count": 44,
   "id": "c6db7488",
   "metadata": {},
   "outputs": [
    {
     "data": {
      "text/plain": [
       "640     Supreme Court Rejects Trump on USAID Foreign-A...\n",
       "276                                        Library Reddit\n",
       "341                                                  MEXT\n",
       "926                              USAID online assessment \n",
       "1179      Inquiry - Spotify Family Premium Address Issues\n",
       "1242         Not Just for Sierra Leone, For All of Africa\n",
       "953           Neo-liberalism and The Washington Consensus\n",
       "367                     USAID a Wolf in Sheep’s Clothing?\n",
       "262                             This scamming little sh*t\n",
       "1178                                       Marrying at 72\n",
       "Name: post_title, dtype: object"
      ]
     },
     "execution_count": 44,
     "metadata": {},
     "output_type": "execute_result"
    }
   ],
   "source": [
    "reddit_df['post_title'].sample(10)"
   ]
  },
  {
   "cell_type": "markdown",
   "id": "2fa69b63",
   "metadata": {},
   "source": [
    "## Sentiment Analysis Cleaning"
   ]
  },
  {
   "cell_type": "markdown",
   "id": "062b3c66",
   "metadata": {},
   "source": [
    "Creating a new column 'full_text' that combines 'post_title','text' and the empty string '', to help in sentiment analysis"
   ]
  },
  {
   "cell_type": "code",
   "execution_count": 45,
   "id": "fb0b1744",
   "metadata": {},
   "outputs": [
    {
     "data": {
      "text/html": [
       "<div>\n",
       "<style scoped>\n",
       "    .dataframe tbody tr th:only-of-type {\n",
       "        vertical-align: middle;\n",
       "    }\n",
       "\n",
       "    .dataframe tbody tr th {\n",
       "        vertical-align: top;\n",
       "    }\n",
       "\n",
       "    .dataframe thead th {\n",
       "        text-align: right;\n",
       "    }\n",
       "</style>\n",
       "<table border=\"1\" class=\"dataframe\">\n",
       "  <thead>\n",
       "    <tr style=\"text-align: right;\">\n",
       "      <th></th>\n",
       "      <th>post_title</th>\n",
       "      <th>text</th>\n",
       "      <th>published_date</th>\n",
       "      <th>keyword</th>\n",
       "      <th>url</th>\n",
       "      <th>full_text</th>\n",
       "    </tr>\n",
       "  </thead>\n",
       "  <tbody>\n",
       "    <tr>\n",
       "      <th>0</th>\n",
       "      <td>USAID left a month ago, do we have ARVs in Kenya?</td>\n",
       "      <td>Someone on a different group (different websit...</td>\n",
       "      <td>2025-04-15</td>\n",
       "      <td>usaid kenya</td>\n",
       "      <td>https://www.reddit.com/r/Kenya/comments/1jzrn2...</td>\n",
       "      <td>USAID left a month ago, do we have ARVs in Ken...</td>\n",
       "    </tr>\n",
       "    <tr>\n",
       "      <th>1</th>\n",
       "      <td>Classism in r/Kenya and r/nairobi</td>\n",
       "      <td>The classism I'm seeing in both subs is a good...</td>\n",
       "      <td>2025-04-07</td>\n",
       "      <td>usaid kenya</td>\n",
       "      <td>https://www.reddit.com/r/Kenya/comments/1jtcvb...</td>\n",
       "      <td>Classism in r/Kenya and r/nairobi The classism...</td>\n",
       "    </tr>\n",
       "    <tr>\n",
       "      <th>2</th>\n",
       "      <td>EX-USAID people!! Let's talk</td>\n",
       "      <td>Are you still in contact with the organisation...</td>\n",
       "      <td>2025-04-05</td>\n",
       "      <td>usaid kenya</td>\n",
       "      <td>https://www.reddit.com/r/Kenya/comments/1jsb14...</td>\n",
       "      <td>EX-USAID people!! Let's talk Are you still in ...</td>\n",
       "    </tr>\n",
       "    <tr>\n",
       "      <th>3</th>\n",
       "      <td>Why western powers back Israel no matter what ...</td>\n",
       "      <td>I don't care what good book you read, but it's...</td>\n",
       "      <td>2025-03-25</td>\n",
       "      <td>usaid kenya</td>\n",
       "      <td>https://www.reddit.com/r/Kenya/comments/1jjehw...</td>\n",
       "      <td>Why western powers back Israel no matter what ...</td>\n",
       "    </tr>\n",
       "    <tr>\n",
       "      <th>4</th>\n",
       "      <td>Is kenya capable of funding its needs now that...</td>\n",
       "      <td>How is kenya prepared to fill the vacuum of US...</td>\n",
       "      <td>2025-03-08</td>\n",
       "      <td>usaid kenya</td>\n",
       "      <td>https://www.reddit.com/r/Kenya/comments/1j6cjz...</td>\n",
       "      <td>Is kenya capable of funding its needs now that...</td>\n",
       "    </tr>\n",
       "  </tbody>\n",
       "</table>\n",
       "</div>"
      ],
      "text/plain": [
       "                                          post_title  \\\n",
       "0  USAID left a month ago, do we have ARVs in Kenya?   \n",
       "1                  Classism in r/Kenya and r/nairobi   \n",
       "2                       EX-USAID people!! Let's talk   \n",
       "3  Why western powers back Israel no matter what ...   \n",
       "4  Is kenya capable of funding its needs now that...   \n",
       "\n",
       "                                                text published_date  \\\n",
       "0  Someone on a different group (different websit...     2025-04-15   \n",
       "1  The classism I'm seeing in both subs is a good...     2025-04-07   \n",
       "2  Are you still in contact with the organisation...     2025-04-05   \n",
       "3  I don't care what good book you read, but it's...     2025-03-25   \n",
       "4  How is kenya prepared to fill the vacuum of US...     2025-03-08   \n",
       "\n",
       "       keyword                                                url  \\\n",
       "0  usaid kenya  https://www.reddit.com/r/Kenya/comments/1jzrn2...   \n",
       "1  usaid kenya  https://www.reddit.com/r/Kenya/comments/1jtcvb...   \n",
       "2  usaid kenya  https://www.reddit.com/r/Kenya/comments/1jsb14...   \n",
       "3  usaid kenya  https://www.reddit.com/r/Kenya/comments/1jjehw...   \n",
       "4  usaid kenya  https://www.reddit.com/r/Kenya/comments/1j6cjz...   \n",
       "\n",
       "                                           full_text  \n",
       "0  USAID left a month ago, do we have ARVs in Ken...  \n",
       "1  Classism in r/Kenya and r/nairobi The classism...  \n",
       "2  EX-USAID people!! Let's talk Are you still in ...  \n",
       "3  Why western powers back Israel no matter what ...  \n",
       "4  Is kenya capable of funding its needs now that...  "
      ]
     },
     "execution_count": 45,
     "metadata": {},
     "output_type": "execute_result"
    }
   ],
   "source": [
    "reddit_df['full_text'] = reddit_df['post_title'] + ' ' + reddit_df['text']\n",
    "reddit_df.head() #sample top 5 rows after combining the columns"
   ]
  },
  {
   "cell_type": "code",
   "execution_count": 46,
   "id": "2c5747e5",
   "metadata": {},
   "outputs": [
    {
     "data": {
      "text/plain": [
       "0"
      ]
     },
     "execution_count": 46,
     "metadata": {},
     "output_type": "execute_result"
    }
   ],
   "source": [
    "reddit_df['full_text'].isna().sum() #confirm that there are no missing values in the dataset"
   ]
  },
  {
   "cell_type": "markdown",
   "id": "13d63635",
   "metadata": {},
   "source": [
    "### Lowercasing "
   ]
  },
  {
   "cell_type": "markdown",
   "id": "923cf3ef",
   "metadata": {},
   "source": [
    "Converting all text to lowercase"
   ]
  },
  {
   "cell_type": "code",
   "execution_count": 47,
   "id": "cb464d02",
   "metadata": {},
   "outputs": [
    {
     "data": {
      "text/plain": [
       "389     ethiopia introduces new tax to fill gap after ...\n",
       "1244    niger: increasing number of children killed an...\n",
       "285     ai predicts chaos in kenya hello. i used this ...\n",
       "1115    african self-esteem i didn't know how to term ...\n",
       "13      usaid hiv fund cuts guys with the recent halti...\n",
       "184     honest question: why nations fail? for context...\n",
       "231                           this scamming little shit. \n",
       "1094    system dysfunction kenya suffers from serious ...\n",
       "105     trump's withdrawal of foreign aid has anybody ...\n",
       "60      africa doesn’t lack potential—it lacks a minds...\n",
       "Name: full_text, dtype: object"
      ]
     },
     "execution_count": 47,
     "metadata": {},
     "output_type": "execute_result"
    }
   ],
   "source": [
    "reddit_df['full_text'] = reddit_df['full_text'].str.lower()\n",
    "reddit_df['full_text'].sample(10)"
   ]
  },
  {
   "cell_type": "markdown",
   "id": "8bef03f6",
   "metadata": {},
   "source": [
    "### Translate all text to English"
   ]
  },
  {
   "cell_type": "code",
   "execution_count": 48,
   "id": "aee53191",
   "metadata": {},
   "outputs": [
    {
     "name": "stderr",
     "output_type": "stream",
     "text": [
      "\n",
      "[notice] A new release of pip is available: 24.2 -> 25.1.1\n",
      "[notice] To update, run: python.exe -m pip install --upgrade pip\n",
      "ERROR: Invalid requirement: '#detect': Expected package name at the start of dependency specifier\n",
      "    #detect\n",
      "    ^\n"
     ]
    }
   ],
   "source": [
    "!pip install langdetect #detect which language the text are in"
   ]
  },
  {
   "cell_type": "code",
   "execution_count": 49,
   "id": "f6d40439",
   "metadata": {},
   "outputs": [
    {
     "data": {
      "text/plain": [
       "en    1126\n",
       "sw       4\n",
       "tl       3\n",
       "et       3\n",
       "fr       2\n",
       "sl       1\n",
       "da       1\n",
       "nl       1\n",
       "es       1\n",
       "ca       1\n",
       "id       1\n",
       "Name: language, dtype: int64"
      ]
     },
     "execution_count": 49,
     "metadata": {},
     "output_type": "execute_result"
    }
   ],
   "source": [
    "from langdetect import detect\n",
    "\n",
    "# Language detection\n",
    "reddit_df['language'] = reddit_df['full_text'].apply(lambda x: detect(x) if pd.notnull(x) else 'unknown')\n",
    "reddit_df['language'].value_counts()"
   ]
  },
  {
   "cell_type": "code",
   "execution_count": 50,
   "id": "f7e3f368",
   "metadata": {},
   "outputs": [
    {
     "name": "stdout",
     "output_type": "stream",
     "text": [
      "     language                                          full_text\n",
      "28         tl  ...na bado mnasema ruto must go bila tangible ...\n",
      "175        tl  ...na bado mnasema ruto must go bila tangible ...\n",
      "236        sl                                design job nairobi \n",
      "273        tl  ...na bado mnasema ruto must go bila tangible ...\n",
      "301        et  just seeing ki, sa, che, ko, la, si...pure tri...\n",
      "634        fr  supreme court rules trump administration must ...\n",
      "638        fr  supreme court denies trump administration requ...\n",
      "664        da  judge orders us to restore funds for foreign a...\n",
      "852        sw  \"wapi mtoto?\" it was always an escape for me d...\n",
      "853        sw  drunk and orderly it so happened that one time...\n",
      "903        nl  us strike kills 16 afghan policemen in helmand...\n",
      "943        et                            joblessness is looming \n",
      "1035       es  usaid and dfid join forces to eliminate tracho...\n",
      "1039       ca              us protest at usaid bolivia decision \n",
      "1054       et  s.korea, us, japan hold 1st trilateral working...\n",
      "1100       id  filling kra returns at ksh 35 usitikie kupata ...\n",
      "1140       sw  most kenyans fear therapy ukigrow up ulikuwa u...\n",
      "1143       sw  about my online jobs list series.. waah kujari...\n"
     ]
    }
   ],
   "source": [
    "# View full text rows where the language is not English\n",
    "non_english_df = reddit_df[reddit_df['language'] != 'en']\n",
    "\n",
    "# Display the full_text column of non-English rows\n",
    "print(non_english_df[['language', 'full_text']])\n"
   ]
  },
  {
   "cell_type": "code",
   "execution_count": 51,
   "id": "401e61c9",
   "metadata": {},
   "outputs": [
    {
     "name": "stderr",
     "output_type": "stream",
     "text": [
      "\n",
      "[notice] A new release of pip is available: 24.2 -> 25.1.1\n",
      "[notice] To update, run: python.exe -m pip install --upgrade pip\n",
      "ERROR: Invalid requirement: '#Translates': Expected package name at the start of dependency specifier\n",
      "    #Translates\n",
      "    ^\n"
     ]
    }
   ],
   "source": [
    "! pip install deep-translator #Translates text from one language to another\n"
   ]
  },
  {
   "cell_type": "code",
   "execution_count": 52,
   "id": "372547ff",
   "metadata": {},
   "outputs": [
    {
     "name": "stdout",
     "output_type": "stream",
     "text": [
      "    language                                          full_text  \\\n",
      "28        tl  ...na bado mnasema ruto must go bila tangible ...   \n",
      "175       tl  ...na bado mnasema ruto must go bila tangible ...   \n",
      "236       sl                                design job nairobi    \n",
      "273       tl  ...na bado mnasema ruto must go bila tangible ...   \n",
      "301       et  just seeing ki, sa, che, ko, la, si...pure tri...   \n",
      "\n",
      "                                       translated_text  \n",
      "28   ... and you still say Ruto must go without tan...  \n",
      "175  ... and you still say Ruto must go without tan...  \n",
      "236                                 design job nairobi  \n",
      "273  ... and you still say Ruto must go without tan...  \n",
      "301  just seeing ki, sa, che, ko, la, si ... pure t...  \n"
     ]
    }
   ],
   "source": [
    "from deep_translator import GoogleTranslator\n",
    "\n",
    "# Make a copy of non-English rows\n",
    "non_english_df = reddit_df[reddit_df['language'] != 'en'].copy()\n",
    "\n",
    "# Translate each full_text\n",
    "non_english_df['translated_text'] = non_english_df['full_text'].apply(\n",
    "    lambda text: GoogleTranslator(source='auto', target='en').translate(text)\n",
    ")\n",
    "\n",
    "# Preview translations\n",
    "print(non_english_df[['language', 'full_text', 'translated_text']].head())\n"
   ]
  },
  {
   "cell_type": "markdown",
   "id": "627590ec",
   "metadata": {},
   "source": [
    "From the above preview, shows that the text with both english and swahili was able to be translated as shown in index 28"
   ]
  },
  {
   "cell_type": "code",
   "execution_count": 53,
   "id": "cade2d7a",
   "metadata": {},
   "outputs": [
    {
     "data": {
      "text/plain": [
       "en    1126\n",
       "sw       4\n",
       "tl       3\n",
       "et       3\n",
       "fr       2\n",
       "sl       1\n",
       "da       1\n",
       "nl       1\n",
       "es       1\n",
       "ca       1\n",
       "id       1\n",
       "Name: language, dtype: int64"
      ]
     },
     "execution_count": 53,
     "metadata": {},
     "output_type": "execute_result"
    }
   ],
   "source": [
    "reddit_df['language'].value_counts() #check which other languages have been detected"
   ]
  },
  {
   "cell_type": "code",
   "execution_count": 54,
   "id": "cce5719d",
   "metadata": {},
   "outputs": [
    {
     "name": "stdout",
     "output_type": "stream",
     "text": [
      "  language                                          full_text\n",
      "0       en  usaid left a month ago, do we have arvs in ken...\n",
      "1       en  classism in r/kenya and r/nairobi the classism...\n",
      "2       en  ex-usaid people!! let's talk are you still in ...\n",
      "3       en  why western powers back israel no matter what ...\n",
      "4       en  is kenya capable of funding its needs now that...\n"
     ]
    }
   ],
   "source": [
    "# Drop all non-English rows\n",
    "reddit_df = reddit_df[reddit_df['language'] == 'en'].copy()\n",
    "\n",
    "# Reset the index\n",
    "reddit_df.reset_index(drop=True, inplace=True)\n",
    "\n",
    "# Preview the cleaned data\n",
    "print(reddit_df[['language', 'full_text']].head())\n"
   ]
  },
  {
   "cell_type": "code",
   "execution_count": 55,
   "id": "f64b632d",
   "metadata": {},
   "outputs": [
    {
     "data": {
      "text/plain": [
       "en    1126\n",
       "Name: language, dtype: int64"
      ]
     },
     "execution_count": 55,
     "metadata": {},
     "output_type": "execute_result"
    }
   ],
   "source": [
    "reddit_df['language'].value_counts() #confirm that all rows are in English only"
   ]
  },
  {
   "cell_type": "code",
   "execution_count": 56,
   "id": "7b797835",
   "metadata": {},
   "outputs": [
    {
     "data": {
      "text/html": [
       "<div>\n",
       "<style scoped>\n",
       "    .dataframe tbody tr th:only-of-type {\n",
       "        vertical-align: middle;\n",
       "    }\n",
       "\n",
       "    .dataframe tbody tr th {\n",
       "        vertical-align: top;\n",
       "    }\n",
       "\n",
       "    .dataframe thead th {\n",
       "        text-align: right;\n",
       "    }\n",
       "</style>\n",
       "<table border=\"1\" class=\"dataframe\">\n",
       "  <thead>\n",
       "    <tr style=\"text-align: right;\">\n",
       "      <th></th>\n",
       "      <th>post_title</th>\n",
       "      <th>text</th>\n",
       "      <th>published_date</th>\n",
       "      <th>keyword</th>\n",
       "      <th>url</th>\n",
       "      <th>full_text</th>\n",
       "      <th>language</th>\n",
       "    </tr>\n",
       "  </thead>\n",
       "  <tbody>\n",
       "    <tr>\n",
       "      <th>139</th>\n",
       "      <td>Foreign policy so bad</td>\n",
       "      <td>We are aggressors in the war in Sudan and now ...</td>\n",
       "      <td>2025-05-08</td>\n",
       "      <td>usaid kenya funding cut</td>\n",
       "      <td>https://i.redd.it/ok2sobew8hze1.jpeg</td>\n",
       "      <td>foreign policy so bad we are aggressors in the...</td>\n",
       "      <td>en</td>\n",
       "    </tr>\n",
       "    <tr>\n",
       "      <th>350</th>\n",
       "      <td>Honest question: Why nations fail?</td>\n",
       "      <td>For context, I'm a student at a public univers...</td>\n",
       "      <td>2025-02-27</td>\n",
       "      <td>kenya donor funding</td>\n",
       "      <td>https://www.reddit.com/r/Kenya/comments/1izop2...</td>\n",
       "      <td>honest question: why nations fail? for context...</td>\n",
       "      <td>en</td>\n",
       "    </tr>\n",
       "    <tr>\n",
       "      <th>476</th>\n",
       "      <td>Ignorance or malice?</td>\n",
       "      <td>I have just watched the MP of Homa Bay defendi...</td>\n",
       "      <td>2025-02-12</td>\n",
       "      <td>USAID</td>\n",
       "      <td>https://www.reddit.com/r/Kenya/comments/1inj4k...</td>\n",
       "      <td>ignorance or malice? i have just watched the m...</td>\n",
       "      <td>en</td>\n",
       "    </tr>\n",
       "    <tr>\n",
       "      <th>728</th>\n",
       "      <td>Does Kenya have a shared national identity?</td>\n",
       "      <td>https://preview.redd.it/f68vy6bg2gse1.png?widt...</td>\n",
       "      <td>2025-04-02</td>\n",
       "      <td>unknown</td>\n",
       "      <td>https://www.reddit.com/r/Kenya/comments/1jps62...</td>\n",
       "      <td>does kenya have a shared national identity? ht...</td>\n",
       "      <td>en</td>\n",
       "    </tr>\n",
       "    <tr>\n",
       "      <th>493</th>\n",
       "      <td>So sad😂😬</td>\n",
       "      <td>It just hit me...our brave men and women in un...</td>\n",
       "      <td>2025-01-24</td>\n",
       "      <td>foreign aid, foreign aid</td>\n",
       "      <td>https://www.reddit.com/r/nairobi/comments/1i8z...</td>\n",
       "      <td>so sad😂😬 it just hit me...our brave men and wo...</td>\n",
       "      <td>en</td>\n",
       "    </tr>\n",
       "    <tr>\n",
       "      <th>461</th>\n",
       "      <td>Foreign aid/Philanthropy</td>\n",
       "      <td>I see the aid or philanthropic activities that...</td>\n",
       "      <td>2025-04-27</td>\n",
       "      <td>foreign aid, foreign aid</td>\n",
       "      <td>https://www.reddit.com/r/Kenya/comments/1k91v5...</td>\n",
       "      <td>foreign aid/philanthropy i see the aid or phil...</td>\n",
       "      <td>en</td>\n",
       "    </tr>\n",
       "    <tr>\n",
       "      <th>748</th>\n",
       "      <td>Looking for Temporary Market Researchers in Na...</td>\n",
       "      <td>Hey Reddit fam,  \\r\\nIn regard to [this](https...</td>\n",
       "      <td>2025-04-09</td>\n",
       "      <td>unknown</td>\n",
       "      <td>https://www.reddit.com/r/Kenya/comments/1jv12r...</td>\n",
       "      <td>looking for temporary market researchers in na...</td>\n",
       "      <td>en</td>\n",
       "    </tr>\n",
       "    <tr>\n",
       "      <th>604</th>\n",
       "      <td>DOGE's Foreign Aid Cuts Have Sparked 'Total Ch...</td>\n",
       "      <td></td>\n",
       "      <td>2025-03-04</td>\n",
       "      <td>foreign aid, foreign aid</td>\n",
       "      <td>https://www.wired.com/story/rights-con-taipei-...</td>\n",
       "      <td>doge's foreign aid cuts have sparked 'total ch...</td>\n",
       "      <td>en</td>\n",
       "    </tr>\n",
       "    <tr>\n",
       "      <th>704</th>\n",
       "      <td>Utakufa vibaya wewe</td>\n",
       "      <td>Apparently, our nephew(5M) is a certified spon...</td>\n",
       "      <td>2025-05-24</td>\n",
       "      <td>unknown</td>\n",
       "      <td>https://www.reddit.com/r/Kenya/comments/1kudq8...</td>\n",
       "      <td>utakufa vibaya wewe apparently, our nephew(5m)...</td>\n",
       "      <td>en</td>\n",
       "    </tr>\n",
       "    <tr>\n",
       "      <th>1099</th>\n",
       "      <td>A liberal democracy isn’t the only way</td>\n",
       "      <td>There’s been a lot of talk about whether we (t...</td>\n",
       "      <td>2025-05-02</td>\n",
       "      <td>unknown</td>\n",
       "      <td>https://www.reddit.com/r/Africa/comments/1kda3...</td>\n",
       "      <td>a liberal democracy isn’t the only way there’s...</td>\n",
       "      <td>en</td>\n",
       "    </tr>\n",
       "  </tbody>\n",
       "</table>\n",
       "</div>"
      ],
      "text/plain": [
       "                                             post_title  \\\n",
       "139                               Foreign policy so bad   \n",
       "350                  Honest question: Why nations fail?   \n",
       "476                                Ignorance or malice?   \n",
       "728         Does Kenya have a shared national identity?   \n",
       "493                                            So sad😂😬   \n",
       "461                            Foreign aid/Philanthropy   \n",
       "748   Looking for Temporary Market Researchers in Na...   \n",
       "604   DOGE's Foreign Aid Cuts Have Sparked 'Total Ch...   \n",
       "704                                 Utakufa vibaya wewe   \n",
       "1099             A liberal democracy isn’t the only way   \n",
       "\n",
       "                                                   text published_date  \\\n",
       "139   We are aggressors in the war in Sudan and now ...     2025-05-08   \n",
       "350   For context, I'm a student at a public univers...     2025-02-27   \n",
       "476   I have just watched the MP of Homa Bay defendi...     2025-02-12   \n",
       "728   https://preview.redd.it/f68vy6bg2gse1.png?widt...     2025-04-02   \n",
       "493   It just hit me...our brave men and women in un...     2025-01-24   \n",
       "461   I see the aid or philanthropic activities that...     2025-04-27   \n",
       "748   Hey Reddit fam,  \\r\\nIn regard to [this](https...     2025-04-09   \n",
       "604                                                         2025-03-04   \n",
       "704   Apparently, our nephew(5M) is a certified spon...     2025-05-24   \n",
       "1099  There’s been a lot of talk about whether we (t...     2025-05-02   \n",
       "\n",
       "                       keyword  \\\n",
       "139    usaid kenya funding cut   \n",
       "350        kenya donor funding   \n",
       "476                      USAID   \n",
       "728                    unknown   \n",
       "493   foreign aid, foreign aid   \n",
       "461   foreign aid, foreign aid   \n",
       "748                    unknown   \n",
       "604   foreign aid, foreign aid   \n",
       "704                    unknown   \n",
       "1099                   unknown   \n",
       "\n",
       "                                                    url  \\\n",
       "139                https://i.redd.it/ok2sobew8hze1.jpeg   \n",
       "350   https://www.reddit.com/r/Kenya/comments/1izop2...   \n",
       "476   https://www.reddit.com/r/Kenya/comments/1inj4k...   \n",
       "728   https://www.reddit.com/r/Kenya/comments/1jps62...   \n",
       "493   https://www.reddit.com/r/nairobi/comments/1i8z...   \n",
       "461   https://www.reddit.com/r/Kenya/comments/1k91v5...   \n",
       "748   https://www.reddit.com/r/Kenya/comments/1jv12r...   \n",
       "604   https://www.wired.com/story/rights-con-taipei-...   \n",
       "704   https://www.reddit.com/r/Kenya/comments/1kudq8...   \n",
       "1099  https://www.reddit.com/r/Africa/comments/1kda3...   \n",
       "\n",
       "                                              full_text language  \n",
       "139   foreign policy so bad we are aggressors in the...       en  \n",
       "350   honest question: why nations fail? for context...       en  \n",
       "476   ignorance or malice? i have just watched the m...       en  \n",
       "728   does kenya have a shared national identity? ht...       en  \n",
       "493   so sad😂😬 it just hit me...our brave men and wo...       en  \n",
       "461   foreign aid/philanthropy i see the aid or phil...       en  \n",
       "748   looking for temporary market researchers in na...       en  \n",
       "604   doge's foreign aid cuts have sparked 'total ch...       en  \n",
       "704   utakufa vibaya wewe apparently, our nephew(5m)...       en  \n",
       "1099  a liberal democracy isn’t the only way there’s...       en  "
      ]
     },
     "execution_count": 56,
     "metadata": {},
     "output_type": "execute_result"
    }
   ],
   "source": [
    "reddit_df.sample(10)"
   ]
  },
  {
   "cell_type": "code",
   "execution_count": 57,
   "id": "cd02bb13",
   "metadata": {},
   "outputs": [
    {
     "data": {
      "text/html": [
       "<div>\n",
       "<style scoped>\n",
       "    .dataframe tbody tr th:only-of-type {\n",
       "        vertical-align: middle;\n",
       "    }\n",
       "\n",
       "    .dataframe tbody tr th {\n",
       "        vertical-align: top;\n",
       "    }\n",
       "\n",
       "    .dataframe thead th {\n",
       "        text-align: right;\n",
       "    }\n",
       "</style>\n",
       "<table border=\"1\" class=\"dataframe\">\n",
       "  <thead>\n",
       "    <tr style=\"text-align: right;\">\n",
       "      <th></th>\n",
       "      <th>post_title</th>\n",
       "      <th>text</th>\n",
       "      <th>published_date</th>\n",
       "      <th>keyword</th>\n",
       "      <th>url</th>\n",
       "      <th>full_text</th>\n",
       "    </tr>\n",
       "  </thead>\n",
       "  <tbody>\n",
       "    <tr>\n",
       "      <th>0</th>\n",
       "      <td>USAID left a month ago, do we have ARVs in Kenya?</td>\n",
       "      <td>Someone on a different group (different websit...</td>\n",
       "      <td>2025-04-15</td>\n",
       "      <td>usaid kenya</td>\n",
       "      <td>https://www.reddit.com/r/Kenya/comments/1jzrn2...</td>\n",
       "      <td>usaid left a month ago, do we have arvs in ken...</td>\n",
       "    </tr>\n",
       "    <tr>\n",
       "      <th>1</th>\n",
       "      <td>Classism in r/Kenya and r/nairobi</td>\n",
       "      <td>The classism I'm seeing in both subs is a good...</td>\n",
       "      <td>2025-04-07</td>\n",
       "      <td>usaid kenya</td>\n",
       "      <td>https://www.reddit.com/r/Kenya/comments/1jtcvb...</td>\n",
       "      <td>classism in r/kenya and r/nairobi the classism...</td>\n",
       "    </tr>\n",
       "    <tr>\n",
       "      <th>2</th>\n",
       "      <td>EX-USAID people!! Let's talk</td>\n",
       "      <td>Are you still in contact with the organisation...</td>\n",
       "      <td>2025-04-05</td>\n",
       "      <td>usaid kenya</td>\n",
       "      <td>https://www.reddit.com/r/Kenya/comments/1jsb14...</td>\n",
       "      <td>ex-usaid people!! let's talk are you still in ...</td>\n",
       "    </tr>\n",
       "    <tr>\n",
       "      <th>3</th>\n",
       "      <td>Why western powers back Israel no matter what ...</td>\n",
       "      <td>I don't care what good book you read, but it's...</td>\n",
       "      <td>2025-03-25</td>\n",
       "      <td>usaid kenya</td>\n",
       "      <td>https://www.reddit.com/r/Kenya/comments/1jjehw...</td>\n",
       "      <td>why western powers back israel no matter what ...</td>\n",
       "    </tr>\n",
       "    <tr>\n",
       "      <th>4</th>\n",
       "      <td>Is kenya capable of funding its needs now that...</td>\n",
       "      <td>How is kenya prepared to fill the vacuum of US...</td>\n",
       "      <td>2025-03-08</td>\n",
       "      <td>usaid kenya</td>\n",
       "      <td>https://www.reddit.com/r/Kenya/comments/1j6cjz...</td>\n",
       "      <td>is kenya capable of funding its needs now that...</td>\n",
       "    </tr>\n",
       "  </tbody>\n",
       "</table>\n",
       "</div>"
      ],
      "text/plain": [
       "                                          post_title  \\\n",
       "0  USAID left a month ago, do we have ARVs in Kenya?   \n",
       "1                  Classism in r/Kenya and r/nairobi   \n",
       "2                       EX-USAID people!! Let's talk   \n",
       "3  Why western powers back Israel no matter what ...   \n",
       "4  Is kenya capable of funding its needs now that...   \n",
       "\n",
       "                                                text published_date  \\\n",
       "0  Someone on a different group (different websit...     2025-04-15   \n",
       "1  The classism I'm seeing in both subs is a good...     2025-04-07   \n",
       "2  Are you still in contact with the organisation...     2025-04-05   \n",
       "3  I don't care what good book you read, but it's...     2025-03-25   \n",
       "4  How is kenya prepared to fill the vacuum of US...     2025-03-08   \n",
       "\n",
       "       keyword                                                url  \\\n",
       "0  usaid kenya  https://www.reddit.com/r/Kenya/comments/1jzrn2...   \n",
       "1  usaid kenya  https://www.reddit.com/r/Kenya/comments/1jtcvb...   \n",
       "2  usaid kenya  https://www.reddit.com/r/Kenya/comments/1jsb14...   \n",
       "3  usaid kenya  https://www.reddit.com/r/Kenya/comments/1jjehw...   \n",
       "4  usaid kenya  https://www.reddit.com/r/Kenya/comments/1j6cjz...   \n",
       "\n",
       "                                           full_text  \n",
       "0  usaid left a month ago, do we have arvs in ken...  \n",
       "1  classism in r/kenya and r/nairobi the classism...  \n",
       "2  ex-usaid people!! let's talk are you still in ...  \n",
       "3  why western powers back israel no matter what ...  \n",
       "4  is kenya capable of funding its needs now that...  "
      ]
     },
     "execution_count": 57,
     "metadata": {},
     "output_type": "execute_result"
    }
   ],
   "source": [
    "reddit_df.drop('language', axis=1, inplace=True) #drop the language column as it is unnecessary now\n",
    "reddit_df.head()"
   ]
  },
  {
   "cell_type": "code",
   "execution_count": 58,
   "id": "33d8efca",
   "metadata": {},
   "outputs": [
    {
     "data": {
      "text/plain": [
       "(1126, 6)"
      ]
     },
     "execution_count": 58,
     "metadata": {},
     "output_type": "execute_result"
    }
   ],
   "source": [
    "reddit_df.shape"
   ]
  },
  {
   "cell_type": "markdown",
   "id": "b1c50774",
   "metadata": {},
   "source": [
    "### Removing Punctuation Marks"
   ]
  },
  {
   "cell_type": "code",
   "execution_count": 59,
   "id": "6c8931ec",
   "metadata": {},
   "outputs": [
    {
     "data": {
      "text/html": [
       "<div>\n",
       "<style scoped>\n",
       "    .dataframe tbody tr th:only-of-type {\n",
       "        vertical-align: middle;\n",
       "    }\n",
       "\n",
       "    .dataframe tbody tr th {\n",
       "        vertical-align: top;\n",
       "    }\n",
       "\n",
       "    .dataframe thead th {\n",
       "        text-align: right;\n",
       "    }\n",
       "</style>\n",
       "<table border=\"1\" class=\"dataframe\">\n",
       "  <thead>\n",
       "    <tr style=\"text-align: right;\">\n",
       "      <th></th>\n",
       "      <th>post_title</th>\n",
       "      <th>text</th>\n",
       "      <th>published_date</th>\n",
       "      <th>keyword</th>\n",
       "      <th>url</th>\n",
       "      <th>full_text</th>\n",
       "    </tr>\n",
       "  </thead>\n",
       "  <tbody>\n",
       "    <tr>\n",
       "      <th>0</th>\n",
       "      <td>USAID left a month ago, do we have ARVs in Kenya?</td>\n",
       "      <td>Someone on a different group (different websit...</td>\n",
       "      <td>2025-04-15</td>\n",
       "      <td>usaid kenya</td>\n",
       "      <td>https://www.reddit.com/r/Kenya/comments/1jzrn2...</td>\n",
       "      <td>usaid left a month ago do we have arvs in keny...</td>\n",
       "    </tr>\n",
       "    <tr>\n",
       "      <th>1</th>\n",
       "      <td>Classism in r/Kenya and r/nairobi</td>\n",
       "      <td>The classism I'm seeing in both subs is a good...</td>\n",
       "      <td>2025-04-07</td>\n",
       "      <td>usaid kenya</td>\n",
       "      <td>https://www.reddit.com/r/Kenya/comments/1jtcvb...</td>\n",
       "      <td>classism in rkenya and rnairobi the classism i...</td>\n",
       "    </tr>\n",
       "    <tr>\n",
       "      <th>2</th>\n",
       "      <td>EX-USAID people!! Let's talk</td>\n",
       "      <td>Are you still in contact with the organisation...</td>\n",
       "      <td>2025-04-05</td>\n",
       "      <td>usaid kenya</td>\n",
       "      <td>https://www.reddit.com/r/Kenya/comments/1jsb14...</td>\n",
       "      <td>exusaid people lets talk are you still in cont...</td>\n",
       "    </tr>\n",
       "    <tr>\n",
       "      <th>3</th>\n",
       "      <td>Why western powers back Israel no matter what ...</td>\n",
       "      <td>I don't care what good book you read, but it's...</td>\n",
       "      <td>2025-03-25</td>\n",
       "      <td>usaid kenya</td>\n",
       "      <td>https://www.reddit.com/r/Kenya/comments/1jjehw...</td>\n",
       "      <td>why western powers back israel no matter what ...</td>\n",
       "    </tr>\n",
       "    <tr>\n",
       "      <th>4</th>\n",
       "      <td>Is kenya capable of funding its needs now that...</td>\n",
       "      <td>How is kenya prepared to fill the vacuum of US...</td>\n",
       "      <td>2025-03-08</td>\n",
       "      <td>usaid kenya</td>\n",
       "      <td>https://www.reddit.com/r/Kenya/comments/1j6cjz...</td>\n",
       "      <td>is kenya capable of funding its needs now that...</td>\n",
       "    </tr>\n",
       "  </tbody>\n",
       "</table>\n",
       "</div>"
      ],
      "text/plain": [
       "                                          post_title  \\\n",
       "0  USAID left a month ago, do we have ARVs in Kenya?   \n",
       "1                  Classism in r/Kenya and r/nairobi   \n",
       "2                       EX-USAID people!! Let's talk   \n",
       "3  Why western powers back Israel no matter what ...   \n",
       "4  Is kenya capable of funding its needs now that...   \n",
       "\n",
       "                                                text published_date  \\\n",
       "0  Someone on a different group (different websit...     2025-04-15   \n",
       "1  The classism I'm seeing in both subs is a good...     2025-04-07   \n",
       "2  Are you still in contact with the organisation...     2025-04-05   \n",
       "3  I don't care what good book you read, but it's...     2025-03-25   \n",
       "4  How is kenya prepared to fill the vacuum of US...     2025-03-08   \n",
       "\n",
       "       keyword                                                url  \\\n",
       "0  usaid kenya  https://www.reddit.com/r/Kenya/comments/1jzrn2...   \n",
       "1  usaid kenya  https://www.reddit.com/r/Kenya/comments/1jtcvb...   \n",
       "2  usaid kenya  https://www.reddit.com/r/Kenya/comments/1jsb14...   \n",
       "3  usaid kenya  https://www.reddit.com/r/Kenya/comments/1jjehw...   \n",
       "4  usaid kenya  https://www.reddit.com/r/Kenya/comments/1j6cjz...   \n",
       "\n",
       "                                           full_text  \n",
       "0  usaid left a month ago do we have arvs in keny...  \n",
       "1  classism in rkenya and rnairobi the classism i...  \n",
       "2  exusaid people lets talk are you still in cont...  \n",
       "3  why western powers back israel no matter what ...  \n",
       "4  is kenya capable of funding its needs now that...  "
      ]
     },
     "execution_count": 59,
     "metadata": {},
     "output_type": "execute_result"
    }
   ],
   "source": [
    "import re\n",
    "import string\n",
    "\n",
    "# Function to remove punctuation\n",
    "def remove_punctuation(text):\n",
    "    return re.sub(f\"[{re.escape(string.punctuation)}]\", \"\", str(text))\n",
    "\n",
    "# Apply to the 'full_text' column\n",
    "reddit_df['full_text'] = reddit_df['full_text'].apply(remove_punctuation)\n",
    "\n",
    "reddit_df.head()\n"
   ]
  },
  {
   "cell_type": "markdown",
   "id": "f2a768ea",
   "metadata": {},
   "source": [
    "### Removing Stop Words,Emojis,Non-Emoji Symbols and Lemmatization"
   ]
  },
  {
   "cell_type": "code",
   "execution_count": 60,
   "id": "4b2484c6",
   "metadata": {},
   "outputs": [
    {
     "name": "stderr",
     "output_type": "stream",
     "text": [
      "[nltk_data] Downloading package stopwords to\n",
      "[nltk_data]     C:\\Users\\hp\\AppData\\Roaming\\nltk_data...\n",
      "[nltk_data]   Package stopwords is already up-to-date!\n",
      "[nltk_data] Downloading package wordnet to\n",
      "[nltk_data]     C:\\Users\\hp\\AppData\\Roaming\\nltk_data...\n",
      "[nltk_data]   Package wordnet is already up-to-date!\n",
      "[nltk_data] Downloading package omw-1.4 to\n",
      "[nltk_data]     C:\\Users\\hp\\AppData\\Roaming\\nltk_data...\n",
      "[nltk_data]   Package omw-1.4 is already up-to-date!\n"
     ]
    },
    {
     "data": {
      "text/html": [
       "<div>\n",
       "<style scoped>\n",
       "    .dataframe tbody tr th:only-of-type {\n",
       "        vertical-align: middle;\n",
       "    }\n",
       "\n",
       "    .dataframe tbody tr th {\n",
       "        vertical-align: top;\n",
       "    }\n",
       "\n",
       "    .dataframe thead th {\n",
       "        text-align: right;\n",
       "    }\n",
       "</style>\n",
       "<table border=\"1\" class=\"dataframe\">\n",
       "  <thead>\n",
       "    <tr style=\"text-align: right;\">\n",
       "      <th></th>\n",
       "      <th>post_title</th>\n",
       "      <th>text</th>\n",
       "      <th>published_date</th>\n",
       "      <th>keyword</th>\n",
       "      <th>url</th>\n",
       "      <th>full_text</th>\n",
       "      <th>cleaned_text</th>\n",
       "    </tr>\n",
       "  </thead>\n",
       "  <tbody>\n",
       "    <tr>\n",
       "      <th>849</th>\n",
       "      <td>China warns Hong Kong's last major opposition ...</td>\n",
       "      <td></td>\n",
       "      <td>2025-04-11</td>\n",
       "      <td>unknown</td>\n",
       "      <td>https://www.reuters.com/world/asia-pacific/chi...</td>\n",
       "      <td>china warns hong kongs last major opposition p...</td>\n",
       "      <td>china warns hong kongs last major opposition p...</td>\n",
       "    </tr>\n",
       "    <tr>\n",
       "      <th>491</th>\n",
       "      <td>Foreign Aid = Money Laundering</td>\n",
       "      <td>Never knew a day will come when people will ta...</td>\n",
       "      <td>2025-02-05</td>\n",
       "      <td>USAID, foreign aid, foreign aid</td>\n",
       "      <td>https://www.reddit.com/gallery/1ihzftj</td>\n",
       "      <td>foreign aid  money laundering never knew a day...</td>\n",
       "      <td>foreign aid money laundering never knew day co...</td>\n",
       "    </tr>\n",
       "    <tr>\n",
       "      <th>1102</th>\n",
       "      <td>Will Mogadishu Collapse in 2025?</td>\n",
       "      <td>I genuinely don’t understand how Somalia is st...</td>\n",
       "      <td>2025-04-30</td>\n",
       "      <td>unknown</td>\n",
       "      <td>https://www.reddit.com/gallery/1kbo4x6</td>\n",
       "      <td>will mogadishu collapse in 2025 i genuinely do...</td>\n",
       "      <td>mogadishu collapse 2025 genuinely don’t unders...</td>\n",
       "    </tr>\n",
       "    <tr>\n",
       "      <th>171</th>\n",
       "      <td>Kenya Badly Needs a Department of Government E...</td>\n",
       "      <td>There is so much waste in government. Recently...</td>\n",
       "      <td>2025-03-21</td>\n",
       "      <td>usaid kenya funding cut</td>\n",
       "      <td>https://www.reddit.com/r/Kenya/comments/1jga7v...</td>\n",
       "      <td>kenya badly needs a department of government e...</td>\n",
       "      <td>kenya badly need department government efficie...</td>\n",
       "    </tr>\n",
       "    <tr>\n",
       "      <th>66</th>\n",
       "      <td>Why Kenyan government supporting genocidal mil...</td>\n",
       "      <td>Quotes\\r\\n\\r\\nSupporting sanctioned group accu...</td>\n",
       "      <td>2025-04-14</td>\n",
       "      <td>kenya foreign aid</td>\n",
       "      <td>https://icj-kenya.org/news/joint-statement-ken...</td>\n",
       "      <td>why kenyan government supporting genocidal mil...</td>\n",
       "      <td>kenyan government supporting genocidal militia...</td>\n",
       "    </tr>\n",
       "    <tr>\n",
       "      <th>240</th>\n",
       "      <td>We need to get a President who will make loote...</td>\n",
       "      <td>By Peter Mburu | Monday, May 05, 2025 \\r\\n\\r\\n...</td>\n",
       "      <td>2025-05-06</td>\n",
       "      <td>development aid kenya</td>\n",
       "      <td>https://nation.africa/kenya/business/scandal-o...</td>\n",
       "      <td>we need to get a president who will make loote...</td>\n",
       "      <td>need get president make looter get jailed pete...</td>\n",
       "    </tr>\n",
       "    <tr>\n",
       "      <th>250</th>\n",
       "      <td>Looking for Entry-Level Opportunities in Procu...</td>\n",
       "      <td>Hi everyone,\\r\\n\\r\\nIm a passionate and motiva...</td>\n",
       "      <td>2025-04-17</td>\n",
       "      <td>development aid kenya</td>\n",
       "      <td>https://www.reddit.com/r/Kenya/comments/1k18d0...</td>\n",
       "      <td>looking for entrylevel opportunities in procur...</td>\n",
       "      <td>looking entrylevel opportunity procurement log...</td>\n",
       "    </tr>\n",
       "    <tr>\n",
       "      <th>388</th>\n",
       "      <td>Interest post from X</td>\n",
       "      <td>What's your take on the new policy by Donald T...</td>\n",
       "      <td>2025-01-26</td>\n",
       "      <td>usaid kenya funding cut</td>\n",
       "      <td>https://i.redd.it/9y5f6d1s4dfe1.png</td>\n",
       "      <td>interest post from x whats your take on the ne...</td>\n",
       "      <td>interest post x whats take new policy donald t...</td>\n",
       "    </tr>\n",
       "    <tr>\n",
       "      <th>368</th>\n",
       "      <td>Ex-Belgian Senator Explains Belgian Involvemen...</td>\n",
       "      <td>\"I regret the breakdown of diplomatic relation...</td>\n",
       "      <td>2025-03-19</td>\n",
       "      <td>kenya foreign aid</td>\n",
       "      <td>https://www.reddit.com/r/Africa/comments/1jet0...</td>\n",
       "      <td>exbelgian senator explains belgian involvement...</td>\n",
       "      <td>exbelgian senator explains belgian involvement...</td>\n",
       "    </tr>\n",
       "    <tr>\n",
       "      <th>690</th>\n",
       "      <td>Like It or Not, Here's Why Ruto Will Win in 20...</td>\n",
       "      <td>CALL ME WHATEVER YOU WANT, BUT HERE'S THE BARE...</td>\n",
       "      <td>2025-04-20</td>\n",
       "      <td>unknown</td>\n",
       "      <td>https://www.reddit.com/r/Kenya/comments/1k3ijd...</td>\n",
       "      <td>like it or not heres why ruto will win in 2027...</td>\n",
       "      <td>like here ruto win 2027 historical data politi...</td>\n",
       "    </tr>\n",
       "  </tbody>\n",
       "</table>\n",
       "</div>"
      ],
      "text/plain": [
       "                                             post_title  \\\n",
       "849   China warns Hong Kong's last major opposition ...   \n",
       "491                      Foreign Aid = Money Laundering   \n",
       "1102                   Will Mogadishu Collapse in 2025?   \n",
       "171   Kenya Badly Needs a Department of Government E...   \n",
       "66    Why Kenyan government supporting genocidal mil...   \n",
       "240   We need to get a President who will make loote...   \n",
       "250   Looking for Entry-Level Opportunities in Procu...   \n",
       "388                                Interest post from X   \n",
       "368   Ex-Belgian Senator Explains Belgian Involvemen...   \n",
       "690   Like It or Not, Here's Why Ruto Will Win in 20...   \n",
       "\n",
       "                                                   text published_date  \\\n",
       "849                                                         2025-04-11   \n",
       "491   Never knew a day will come when people will ta...     2025-02-05   \n",
       "1102  I genuinely don’t understand how Somalia is st...     2025-04-30   \n",
       "171   There is so much waste in government. Recently...     2025-03-21   \n",
       "66    Quotes\\r\\n\\r\\nSupporting sanctioned group accu...     2025-04-14   \n",
       "240   By Peter Mburu | Monday, May 05, 2025 \\r\\n\\r\\n...     2025-05-06   \n",
       "250   Hi everyone,\\r\\n\\r\\nIm a passionate and motiva...     2025-04-17   \n",
       "388   What's your take on the new policy by Donald T...     2025-01-26   \n",
       "368   \"I regret the breakdown of diplomatic relation...     2025-03-19   \n",
       "690   CALL ME WHATEVER YOU WANT, BUT HERE'S THE BARE...     2025-04-20   \n",
       "\n",
       "                              keyword  \\\n",
       "849                           unknown   \n",
       "491   USAID, foreign aid, foreign aid   \n",
       "1102                          unknown   \n",
       "171           usaid kenya funding cut   \n",
       "66                  kenya foreign aid   \n",
       "240             development aid kenya   \n",
       "250             development aid kenya   \n",
       "388           usaid kenya funding cut   \n",
       "368                 kenya foreign aid   \n",
       "690                           unknown   \n",
       "\n",
       "                                                    url  \\\n",
       "849   https://www.reuters.com/world/asia-pacific/chi...   \n",
       "491              https://www.reddit.com/gallery/1ihzftj   \n",
       "1102             https://www.reddit.com/gallery/1kbo4x6   \n",
       "171   https://www.reddit.com/r/Kenya/comments/1jga7v...   \n",
       "66    https://icj-kenya.org/news/joint-statement-ken...   \n",
       "240   https://nation.africa/kenya/business/scandal-o...   \n",
       "250   https://www.reddit.com/r/Kenya/comments/1k18d0...   \n",
       "388                 https://i.redd.it/9y5f6d1s4dfe1.png   \n",
       "368   https://www.reddit.com/r/Africa/comments/1jet0...   \n",
       "690   https://www.reddit.com/r/Kenya/comments/1k3ijd...   \n",
       "\n",
       "                                              full_text  \\\n",
       "849   china warns hong kongs last major opposition p...   \n",
       "491   foreign aid  money laundering never knew a day...   \n",
       "1102  will mogadishu collapse in 2025 i genuinely do...   \n",
       "171   kenya badly needs a department of government e...   \n",
       "66    why kenyan government supporting genocidal mil...   \n",
       "240   we need to get a president who will make loote...   \n",
       "250   looking for entrylevel opportunities in procur...   \n",
       "388   interest post from x whats your take on the ne...   \n",
       "368   exbelgian senator explains belgian involvement...   \n",
       "690   like it or not heres why ruto will win in 2027...   \n",
       "\n",
       "                                           cleaned_text  \n",
       "849   china warns hong kongs last major opposition p...  \n",
       "491   foreign aid money laundering never knew day co...  \n",
       "1102  mogadishu collapse 2025 genuinely don’t unders...  \n",
       "171   kenya badly need department government efficie...  \n",
       "66    kenyan government supporting genocidal militia...  \n",
       "240   need get president make looter get jailed pete...  \n",
       "250   looking entrylevel opportunity procurement log...  \n",
       "388   interest post x whats take new policy donald t...  \n",
       "368   exbelgian senator explains belgian involvement...  \n",
       "690   like here ruto win 2027 historical data politi...  "
      ]
     },
     "execution_count": 60,
     "metadata": {},
     "output_type": "execute_result"
    }
   ],
   "source": [
    "import re\n",
    "import nltk\n",
    "from nltk.corpus import stopwords\n",
    "from nltk.stem import WordNetLemmatizer\n",
    "\n",
    "# Download NLTK data\n",
    "nltk.download('stopwords')\n",
    "nltk.download('wordnet')\n",
    "nltk.download('omw-1.4')\n",
    "\n",
    "# Initialize stopwords and lemmatizer\n",
    "stop_words = set(stopwords.words('english'))\n",
    "lemmatizer = WordNetLemmatizer()\n",
    "\n",
    "# Function to remove emojis, emoticons, and other symbols\n",
    "def remove_emojis_symbols(text):\n",
    "    emoji_pattern = re.compile(\n",
    "        \"[\"\n",
    "        u\"\\U0001F600-\\U0001F64F\"  # emoticons\n",
    "        u\"\\U0001F300-\\U0001F5FF\"  # symbols & pictographs\n",
    "        u\"\\U0001F680-\\U0001F6FF\"  # transport & map symbols\n",
    "        u\"\\U0001F1E0-\\U0001F1FF\"  # flags\n",
    "        u\"\\U00002700-\\U000027BF\"  # dingbats\n",
    "        u\"\\U0001F900-\\U0001F9FF\"  # supplemental symbols and pictographs\n",
    "        u\"\\U0001FA70-\\U0001FAFF\"  # extended pictographic symbols\n",
    "        u\"\\U00002500-\\U00002BEF\"  # misc symbols\n",
    "        u\"\\U0000200D\"             # zero width joiner\n",
    "        u\"\\u2600-\\u26FF\"          # misc symbols\n",
    "        u\"\\u2700-\\u27BF\"\n",
    "        u\"\\uFE0F\"                 # variation selector\n",
    "        u\"\\u3030\"\n",
    "        u\"\\u00A9\"                 # ©\n",
    "        u\"\\u00AE\"                 # ®\n",
    "        u\"\\u2122\"                 # ™\n",
    "        \"]+\", flags=re.UNICODE)\n",
    "    return emoji_pattern.sub(r'', text)\n",
    "\n",
    "# Final cleaning function\n",
    "def clean_text(text):\n",
    "    text = remove_emojis_symbols(text)\n",
    "    words = text.split()\n",
    "    cleaned_words = [lemmatizer.lemmatize(word) for word in words if word not in stop_words]\n",
    "    return ' '.join(cleaned_words)\n",
    "\n",
    "# Apply to reddit_df\n",
    "reddit_df['cleaned_text'] = reddit_df['full_text'].apply(clean_text)\n",
    "\n",
    "# Preview sample\n",
    "reddit_df.sample(10)\n"
   ]
  },
  {
   "cell_type": "code",
   "execution_count": 61,
   "id": "1f21021b",
   "metadata": {},
   "outputs": [
    {
     "data": {
      "text/plain": [
       "'kenya allowed british rule beyond 1963 let’s talk hear white man stayed past 1963 it’s controversial thought begs question—how would kenya look today allowed british govern u year would developed south africa vibrant hong kong can’t help wonder truly ready independence honestly strongly believe weren’t—and maybe still aren’t freedom premature move let brit continue pulling string sake development i’m opening floor debate convince otherwise good people let’s talk kenya history development freedomdebate'"
      ]
     },
     "execution_count": 61,
     "metadata": {},
     "output_type": "execute_result"
    }
   ],
   "source": [
    "reddit_df.iloc[268]['cleaned_text']\n"
   ]
  },
  {
   "cell_type": "code",
   "execution_count": 62,
   "id": "803f5b12",
   "metadata": {},
   "outputs": [
    {
     "data": {
      "text/plain": [
       "'🤔 what if kenya allowed british rule beyond 1963 let’s talk about it hear me out the white man stayed past 1963 it’s a controversial thought but it begs the question—how would kenya look today if we allowed the british to govern us for a few more years would we be as developed as south africa or as vibrant as hong kong  \\r\\n\\r\\ni can’t help but wonder if we were truly ready for independence honestly i strongly believe we weren’t—and maybe still aren’t was freedom a premature move should we have let the brits continue pulling the strings for the sake of development  \\r\\n\\r\\ni’m opening the floor for debate convince me otherwise good people let’s talk 🧐 kenya history development freedomdebate'"
      ]
     },
     "execution_count": 62,
     "metadata": {},
     "output_type": "execute_result"
    }
   ],
   "source": [
    "reddit_df.iloc[268]['full_text']\n"
   ]
  },
  {
   "cell_type": "markdown",
   "id": "0b503440",
   "metadata": {},
   "source": [
    "### Tokenization"
   ]
  },
  {
   "cell_type": "code",
   "execution_count": 63,
   "id": "c68e64de",
   "metadata": {},
   "outputs": [
    {
     "name": "stderr",
     "output_type": "stream",
     "text": [
      "[nltk_data] Downloading package punkt to\n",
      "[nltk_data]     C:\\Users\\hp\\AppData\\Roaming\\nltk_data...\n",
      "[nltk_data]   Package punkt is already up-to-date!\n"
     ]
    },
    {
     "data": {
      "text/html": [
       "<div>\n",
       "<style scoped>\n",
       "    .dataframe tbody tr th:only-of-type {\n",
       "        vertical-align: middle;\n",
       "    }\n",
       "\n",
       "    .dataframe tbody tr th {\n",
       "        vertical-align: top;\n",
       "    }\n",
       "\n",
       "    .dataframe thead th {\n",
       "        text-align: right;\n",
       "    }\n",
       "</style>\n",
       "<table border=\"1\" class=\"dataframe\">\n",
       "  <thead>\n",
       "    <tr style=\"text-align: right;\">\n",
       "      <th></th>\n",
       "      <th>post_title</th>\n",
       "      <th>text</th>\n",
       "      <th>published_date</th>\n",
       "      <th>keyword</th>\n",
       "      <th>url</th>\n",
       "      <th>full_text</th>\n",
       "      <th>cleaned_text</th>\n",
       "      <th>tokens</th>\n",
       "    </tr>\n",
       "  </thead>\n",
       "  <tbody>\n",
       "    <tr>\n",
       "      <th>0</th>\n",
       "      <td>USAID left a month ago, do we have ARVs in Kenya?</td>\n",
       "      <td>Someone on a different group (different websit...</td>\n",
       "      <td>2025-04-15</td>\n",
       "      <td>usaid kenya</td>\n",
       "      <td>https://www.reddit.com/r/Kenya/comments/1jzrn2...</td>\n",
       "      <td>usaid left a month ago do we have arvs in keny...</td>\n",
       "      <td>usaid left month ago arvs kenya someone differ...</td>\n",
       "      <td>[usaid, left, month, ago, arvs, kenya, someone...</td>\n",
       "    </tr>\n",
       "    <tr>\n",
       "      <th>1</th>\n",
       "      <td>Classism in r/Kenya and r/nairobi</td>\n",
       "      <td>The classism I'm seeing in both subs is a good...</td>\n",
       "      <td>2025-04-07</td>\n",
       "      <td>usaid kenya</td>\n",
       "      <td>https://www.reddit.com/r/Kenya/comments/1jtcvb...</td>\n",
       "      <td>classism in rkenya and rnairobi the classism i...</td>\n",
       "      <td>classism rkenya rnairobi classism im seeing su...</td>\n",
       "      <td>[classism, rkenya, rnairobi, classism, im, see...</td>\n",
       "    </tr>\n",
       "    <tr>\n",
       "      <th>2</th>\n",
       "      <td>EX-USAID people!! Let's talk</td>\n",
       "      <td>Are you still in contact with the organisation...</td>\n",
       "      <td>2025-04-05</td>\n",
       "      <td>usaid kenya</td>\n",
       "      <td>https://www.reddit.com/r/Kenya/comments/1jsb14...</td>\n",
       "      <td>exusaid people lets talk are you still in cont...</td>\n",
       "      <td>exusaid people let talk still contact organisa...</td>\n",
       "      <td>[exusaid, people, let, talk, still, contact, o...</td>\n",
       "    </tr>\n",
       "    <tr>\n",
       "      <th>3</th>\n",
       "      <td>Why western powers back Israel no matter what ...</td>\n",
       "      <td>I don't care what good book you read, but it's...</td>\n",
       "      <td>2025-03-25</td>\n",
       "      <td>usaid kenya</td>\n",
       "      <td>https://www.reddit.com/r/Kenya/comments/1jjehw...</td>\n",
       "      <td>why western powers back israel no matter what ...</td>\n",
       "      <td>western power back israel matter kenya avoid u...</td>\n",
       "      <td>[western, power, back, israel, matter, kenya, ...</td>\n",
       "    </tr>\n",
       "    <tr>\n",
       "      <th>4</th>\n",
       "      <td>Is kenya capable of funding its needs now that...</td>\n",
       "      <td>How is kenya prepared to fill the vacuum of US...</td>\n",
       "      <td>2025-03-08</td>\n",
       "      <td>usaid kenya</td>\n",
       "      <td>https://www.reddit.com/r/Kenya/comments/1j6cjz...</td>\n",
       "      <td>is kenya capable of funding its needs now that...</td>\n",
       "      <td>kenya capable funding need usaid disbanded ken...</td>\n",
       "      <td>[kenya, capable, funding, need, usaid, disband...</td>\n",
       "    </tr>\n",
       "  </tbody>\n",
       "</table>\n",
       "</div>"
      ],
      "text/plain": [
       "                                          post_title  \\\n",
       "0  USAID left a month ago, do we have ARVs in Kenya?   \n",
       "1                  Classism in r/Kenya and r/nairobi   \n",
       "2                       EX-USAID people!! Let's talk   \n",
       "3  Why western powers back Israel no matter what ...   \n",
       "4  Is kenya capable of funding its needs now that...   \n",
       "\n",
       "                                                text published_date  \\\n",
       "0  Someone on a different group (different websit...     2025-04-15   \n",
       "1  The classism I'm seeing in both subs is a good...     2025-04-07   \n",
       "2  Are you still in contact with the organisation...     2025-04-05   \n",
       "3  I don't care what good book you read, but it's...     2025-03-25   \n",
       "4  How is kenya prepared to fill the vacuum of US...     2025-03-08   \n",
       "\n",
       "       keyword                                                url  \\\n",
       "0  usaid kenya  https://www.reddit.com/r/Kenya/comments/1jzrn2...   \n",
       "1  usaid kenya  https://www.reddit.com/r/Kenya/comments/1jtcvb...   \n",
       "2  usaid kenya  https://www.reddit.com/r/Kenya/comments/1jsb14...   \n",
       "3  usaid kenya  https://www.reddit.com/r/Kenya/comments/1jjehw...   \n",
       "4  usaid kenya  https://www.reddit.com/r/Kenya/comments/1j6cjz...   \n",
       "\n",
       "                                           full_text  \\\n",
       "0  usaid left a month ago do we have arvs in keny...   \n",
       "1  classism in rkenya and rnairobi the classism i...   \n",
       "2  exusaid people lets talk are you still in cont...   \n",
       "3  why western powers back israel no matter what ...   \n",
       "4  is kenya capable of funding its needs now that...   \n",
       "\n",
       "                                        cleaned_text  \\\n",
       "0  usaid left month ago arvs kenya someone differ...   \n",
       "1  classism rkenya rnairobi classism im seeing su...   \n",
       "2  exusaid people let talk still contact organisa...   \n",
       "3  western power back israel matter kenya avoid u...   \n",
       "4  kenya capable funding need usaid disbanded ken...   \n",
       "\n",
       "                                              tokens  \n",
       "0  [usaid, left, month, ago, arvs, kenya, someone...  \n",
       "1  [classism, rkenya, rnairobi, classism, im, see...  \n",
       "2  [exusaid, people, let, talk, still, contact, o...  \n",
       "3  [western, power, back, israel, matter, kenya, ...  \n",
       "4  [kenya, capable, funding, need, usaid, disband...  "
      ]
     },
     "execution_count": 63,
     "metadata": {},
     "output_type": "execute_result"
    }
   ],
   "source": [
    "import nltk\n",
    "from nltk.tokenize import word_tokenize\n",
    "\n",
    "# Download tokenizer data \n",
    "nltk.download('punkt')\n",
    "\n",
    "#  tokenization function\n",
    "def tokenize_text(text):\n",
    "    return word_tokenize(text)\n",
    "\n",
    "# Apply to cleaned text\n",
    "reddit_df['tokens'] = reddit_df['cleaned_text'].apply(tokenize_text)\n",
    "\n",
    "# display the first 5 rows\n",
    "reddit_df[['cleaned_text', 'tokens']].head()\n",
    "reddit_df.head()"
   ]
  },
  {
   "cell_type": "markdown",
   "id": "5420763f",
   "metadata": {},
   "source": [
    "## FINAL NEWS DATA TO BE USED ~ Cecilia_merged_news_dataset"
   ]
  },
  {
   "cell_type": "code",
   "execution_count": 64,
   "id": "b7f64fa0",
   "metadata": {},
   "outputs": [],
   "source": [
    "import pandas as pd\n",
    "import seaborn as sns"
   ]
  },
  {
   "cell_type": "code",
   "execution_count": 65,
   "id": "b375fb6b",
   "metadata": {},
   "outputs": [
    {
     "data": {
      "text/html": [
       "<div>\n",
       "<style scoped>\n",
       "    .dataframe tbody tr th:only-of-type {\n",
       "        vertical-align: middle;\n",
       "    }\n",
       "\n",
       "    .dataframe tbody tr th {\n",
       "        vertical-align: top;\n",
       "    }\n",
       "\n",
       "    .dataframe thead th {\n",
       "        text-align: right;\n",
       "    }\n",
       "</style>\n",
       "<table border=\"1\" class=\"dataframe\">\n",
       "  <thead>\n",
       "    <tr style=\"text-align: right;\">\n",
       "      <th></th>\n",
       "      <th>title</th>\n",
       "      <th>description</th>\n",
       "      <th>text</th>\n",
       "      <th>url</th>\n",
       "      <th>keyword</th>\n",
       "      <th>published_date</th>\n",
       "      <th>source_file</th>\n",
       "    </tr>\n",
       "  </thead>\n",
       "  <tbody>\n",
       "    <tr>\n",
       "      <th>0</th>\n",
       "      <td>Has DOGE really saved the US government $180bn?</td>\n",
       "      <td>Elon Musk first claimed the department would m...</td>\n",
       "      <td>President Donald Trump and adviser Elon Musk c...</td>\n",
       "      <td>https://www.aljazeera.com/news/2025/6/6/has-do...</td>\n",
       "      <td>usaid kenya</td>\n",
       "      <td>2025-06-06 11:21:51+00:00</td>\n",
       "      <td>Agatha_news.csv</td>\n",
       "    </tr>\n",
       "    <tr>\n",
       "      <th>1</th>\n",
       "      <td>The Life Story of Ecomobilus Technologies Limi...</td>\n",
       "      <td>By Prof Geoffrey Gitau Here is a story showcas...</td>\n",
       "      <td>By Prof Geoffrey Gitau\\r\\nHere is a story show...</td>\n",
       "      <td>https://cleantechnica.com/2025/05/26/the-life-...</td>\n",
       "      <td>usaid kenya</td>\n",
       "      <td>2025-05-26 17:13:41+00:00</td>\n",
       "      <td>Agatha_news.csv</td>\n",
       "    </tr>\n",
       "    <tr>\n",
       "      <th>2</th>\n",
       "      <td>Death, Sexual Violence and Human Trafficking: ...</td>\n",
       "      <td>by Brett Murphy and Anna Maria Barry-Jester \\n...</td>\n",
       "      <td>ProPublica is a nonprofit newsroom that invest...</td>\n",
       "      <td>https://www.propublica.org/article/trump-usaid...</td>\n",
       "      <td>usaid kenya</td>\n",
       "      <td>2025-05-28 18:45:00+00:00</td>\n",
       "      <td>Agatha_news.csv</td>\n",
       "    </tr>\n",
       "    <tr>\n",
       "      <th>3</th>\n",
       "      <td>Congress Should Quickly Approve Trump’s Rescis...</td>\n",
       "      <td>President Donald Trump‘s rescission legislatio...</td>\n",
       "      <td>President Donald Trumps rescission legislation...</td>\n",
       "      <td>https://www.dailysignal.com/2025/06/10/congres...</td>\n",
       "      <td>usaid kenya</td>\n",
       "      <td>2025-06-10 12:00:00+00:00</td>\n",
       "      <td>Agatha_news.csv</td>\n",
       "    </tr>\n",
       "    <tr>\n",
       "      <th>4</th>\n",
       "      <td>Food Safety Depends On Every Link In The Suppl...</td>\n",
       "      <td>Almost 1 in 10 people globally fall ill from c...</td>\n",
       "      <td>Colorful fish and vegetables can be purchased ...</td>\n",
       "      <td>https://www.forbes.com/sites/daniellenierenber...</td>\n",
       "      <td>usaid kenya</td>\n",
       "      <td>2025-06-06 13:55:41+00:00</td>\n",
       "      <td>Agatha_news.csv</td>\n",
       "    </tr>\n",
       "  </tbody>\n",
       "</table>\n",
       "</div>"
      ],
      "text/plain": [
       "                                               title  \\\n",
       "0    Has DOGE really saved the US government $180bn?   \n",
       "1  The Life Story of Ecomobilus Technologies Limi...   \n",
       "2  Death, Sexual Violence and Human Trafficking: ...   \n",
       "3  Congress Should Quickly Approve Trump’s Rescis...   \n",
       "4  Food Safety Depends On Every Link In The Suppl...   \n",
       "\n",
       "                                         description  \\\n",
       "0  Elon Musk first claimed the department would m...   \n",
       "1  By Prof Geoffrey Gitau Here is a story showcas...   \n",
       "2  by Brett Murphy and Anna Maria Barry-Jester \\n...   \n",
       "3  President Donald Trump‘s rescission legislatio...   \n",
       "4  Almost 1 in 10 people globally fall ill from c...   \n",
       "\n",
       "                                                text  \\\n",
       "0  President Donald Trump and adviser Elon Musk c...   \n",
       "1  By Prof Geoffrey Gitau\\r\\nHere is a story show...   \n",
       "2  ProPublica is a nonprofit newsroom that invest...   \n",
       "3  President Donald Trumps rescission legislation...   \n",
       "4  Colorful fish and vegetables can be purchased ...   \n",
       "\n",
       "                                                 url      keyword  \\\n",
       "0  https://www.aljazeera.com/news/2025/6/6/has-do...  usaid kenya   \n",
       "1  https://cleantechnica.com/2025/05/26/the-life-...  usaid kenya   \n",
       "2  https://www.propublica.org/article/trump-usaid...  usaid kenya   \n",
       "3  https://www.dailysignal.com/2025/06/10/congres...  usaid kenya   \n",
       "4  https://www.forbes.com/sites/daniellenierenber...  usaid kenya   \n",
       "\n",
       "              published_date      source_file  \n",
       "0  2025-06-06 11:21:51+00:00  Agatha_news.csv  \n",
       "1  2025-05-26 17:13:41+00:00  Agatha_news.csv  \n",
       "2  2025-05-28 18:45:00+00:00  Agatha_news.csv  \n",
       "3  2025-06-10 12:00:00+00:00  Agatha_news.csv  \n",
       "4  2025-06-06 13:55:41+00:00  Agatha_news.csv  "
      ]
     },
     "execution_count": 65,
     "metadata": {},
     "output_type": "execute_result"
    }
   ],
   "source": [
    "news_df = pd.read_csv('C:/Users/hp/Desktop/DATA NEXUS PROJECTS/USAID-Kenya-Sentiment-Analysis/data/processed/individual datasets/Cecilia_merged_news_dataset.csv')\n",
    "news_df.head()"
   ]
  },
  {
   "cell_type": "code",
   "execution_count": 66,
   "id": "3bc1e075",
   "metadata": {},
   "outputs": [
    {
     "data": {
      "text/html": [
       "<div>\n",
       "<style scoped>\n",
       "    .dataframe tbody tr th:only-of-type {\n",
       "        vertical-align: middle;\n",
       "    }\n",
       "\n",
       "    .dataframe tbody tr th {\n",
       "        vertical-align: top;\n",
       "    }\n",
       "\n",
       "    .dataframe thead th {\n",
       "        text-align: right;\n",
       "    }\n",
       "</style>\n",
       "<table border=\"1\" class=\"dataframe\">\n",
       "  <thead>\n",
       "    <tr style=\"text-align: right;\">\n",
       "      <th></th>\n",
       "      <th>title</th>\n",
       "      <th>description</th>\n",
       "      <th>text</th>\n",
       "      <th>url</th>\n",
       "      <th>keyword</th>\n",
       "      <th>published_date</th>\n",
       "      <th>source_file</th>\n",
       "    </tr>\n",
       "  </thead>\n",
       "  <tbody>\n",
       "    <tr>\n",
       "      <th>2633</th>\n",
       "      <td>Death, Sexual Violence and Human Trafficking: ...</td>\n",
       "      <td>by Brett Murphy and Anna Maria Barry-Jester \\r...</td>\n",
       "      <td>ProPublica is a nonprofit newsroom that invest...</td>\n",
       "      <td>https://www.propublica.org/article/trump-usaid...</td>\n",
       "      <td>NaN</td>\n",
       "      <td>2025-05-28 18:45:00+00:00</td>\n",
       "      <td>ruth_news.csv</td>\n",
       "    </tr>\n",
       "    <tr>\n",
       "      <th>2634</th>\n",
       "      <td>The Life Story of Ecomobilus Technologies Limi...</td>\n",
       "      <td>By Prof Geoffrey Gitau Here is a story showcas...</td>\n",
       "      <td>By Prof Geoffrey Gitau\\r\\nHere is a story show...</td>\n",
       "      <td>https://cleantechnica.com/2025/05/26/the-life-...</td>\n",
       "      <td>NaN</td>\n",
       "      <td>2025-05-26 17:13:41+00:00</td>\n",
       "      <td>ruth_news.csv</td>\n",
       "    </tr>\n",
       "    <tr>\n",
       "      <th>2635</th>\n",
       "      <td>Stakeholders’ perspectives on the status of fa...</td>\n",
       "      <td>Introduction Facility- and community-based dif...</td>\n",
       "      <td>Abstract\\r\\nIntroduction\\r\\nFacility- and comm...</td>\n",
       "      <td>https://journals.plos.org/plosone/article?id=1...</td>\n",
       "      <td>NaN</td>\n",
       "      <td>2025-05-22 14:00:00+00:00</td>\n",
       "      <td>ruth_news.csv</td>\n",
       "    </tr>\n",
       "    <tr>\n",
       "      <th>2636</th>\n",
       "      <td>Africa Needs More Renewables, So Why Is It Inv...</td>\n",
       "      <td>Sub-Saharan Africa has an energy funding deficit.</td>\n",
       "      <td>LICHTENBURG, SOUTH AFRICA - MAY 8: A man is se...</td>\n",
       "      <td>https://www.forbes.com/sites/sverrealvik/2025/...</td>\n",
       "      <td>NaN</td>\n",
       "      <td>2025-05-20 09:57:16+00:00</td>\n",
       "      <td>ruth_news.csv</td>\n",
       "    </tr>\n",
       "    <tr>\n",
       "      <th>2637</th>\n",
       "      <td>May 2025 Updates</td>\n",
       "      <td>Every month we send an email newsletter to our...</td>\n",
       "      <td>Every month we send an email newsletter to our...</td>\n",
       "      <td>https://blog.givewell.org/2025/05/19/may-2025-...</td>\n",
       "      <td>NaN</td>\n",
       "      <td>2025-05-19 19:26:41+00:00</td>\n",
       "      <td>ruth_news.csv</td>\n",
       "    </tr>\n",
       "  </tbody>\n",
       "</table>\n",
       "</div>"
      ],
      "text/plain": [
       "                                                  title  \\\n",
       "2633  Death, Sexual Violence and Human Trafficking: ...   \n",
       "2634  The Life Story of Ecomobilus Technologies Limi...   \n",
       "2635  Stakeholders’ perspectives on the status of fa...   \n",
       "2636  Africa Needs More Renewables, So Why Is It Inv...   \n",
       "2637                                   May 2025 Updates   \n",
       "\n",
       "                                            description  \\\n",
       "2633  by Brett Murphy and Anna Maria Barry-Jester \\r...   \n",
       "2634  By Prof Geoffrey Gitau Here is a story showcas...   \n",
       "2635  Introduction Facility- and community-based dif...   \n",
       "2636  Sub-Saharan Africa has an energy funding deficit.   \n",
       "2637  Every month we send an email newsletter to our...   \n",
       "\n",
       "                                                   text  \\\n",
       "2633  ProPublica is a nonprofit newsroom that invest...   \n",
       "2634  By Prof Geoffrey Gitau\\r\\nHere is a story show...   \n",
       "2635  Abstract\\r\\nIntroduction\\r\\nFacility- and comm...   \n",
       "2636  LICHTENBURG, SOUTH AFRICA - MAY 8: A man is se...   \n",
       "2637  Every month we send an email newsletter to our...   \n",
       "\n",
       "                                                    url keyword  \\\n",
       "2633  https://www.propublica.org/article/trump-usaid...     NaN   \n",
       "2634  https://cleantechnica.com/2025/05/26/the-life-...     NaN   \n",
       "2635  https://journals.plos.org/plosone/article?id=1...     NaN   \n",
       "2636  https://www.forbes.com/sites/sverrealvik/2025/...     NaN   \n",
       "2637  https://blog.givewell.org/2025/05/19/may-2025-...     NaN   \n",
       "\n",
       "                 published_date    source_file  \n",
       "2633  2025-05-28 18:45:00+00:00  ruth_news.csv  \n",
       "2634  2025-05-26 17:13:41+00:00  ruth_news.csv  \n",
       "2635  2025-05-22 14:00:00+00:00  ruth_news.csv  \n",
       "2636  2025-05-20 09:57:16+00:00  ruth_news.csv  \n",
       "2637  2025-05-19 19:26:41+00:00  ruth_news.csv  "
      ]
     },
     "execution_count": 66,
     "metadata": {},
     "output_type": "execute_result"
    }
   ],
   "source": [
    "news_df.tail()"
   ]
  },
  {
   "cell_type": "code",
   "execution_count": 67,
   "id": "6b0abe8d",
   "metadata": {},
   "outputs": [
    {
     "name": "stdout",
     "output_type": "stream",
     "text": [
      "<class 'pandas.core.frame.DataFrame'>\n",
      "RangeIndex: 2638 entries, 0 to 2637\n",
      "Data columns (total 7 columns):\n",
      " #   Column          Non-Null Count  Dtype \n",
      "---  ------          --------------  ----- \n",
      " 0   title           2638 non-null   object\n",
      " 1   description     2622 non-null   object\n",
      " 2   text            2613 non-null   object\n",
      " 3   url             2636 non-null   object\n",
      " 4   keyword         2379 non-null   object\n",
      " 5   published_date  2539 non-null   object\n",
      " 6   source_file     2638 non-null   object\n",
      "dtypes: object(7)\n",
      "memory usage: 144.4+ KB\n"
     ]
    }
   ],
   "source": [
    "news_df.info()"
   ]
  },
  {
   "cell_type": "code",
   "execution_count": 68,
   "id": "2b0bb4b5",
   "metadata": {},
   "outputs": [
    {
     "data": {
      "text/plain": [
       "(2638, 7)"
      ]
     },
     "execution_count": 68,
     "metadata": {},
     "output_type": "execute_result"
    }
   ],
   "source": [
    "news_df.shape"
   ]
  },
  {
   "cell_type": "code",
   "execution_count": 69,
   "id": "741f886d",
   "metadata": {},
   "outputs": [
    {
     "data": {
      "text/plain": [
       "Index(['title', 'description', 'text', 'url', 'keyword', 'published_date',\n",
       "       'source_file'],\n",
       "      dtype='object')"
      ]
     },
     "execution_count": 69,
     "metadata": {},
     "output_type": "execute_result"
    }
   ],
   "source": [
    "news_df.columns"
   ]
  },
  {
   "cell_type": "code",
   "execution_count": 70,
   "id": "5e28a9ee",
   "metadata": {},
   "outputs": [
    {
     "data": {
      "text/plain": [
       "title             object\n",
       "description       object\n",
       "text              object\n",
       "url               object\n",
       "keyword           object\n",
       "published_date    object\n",
       "source_file       object\n",
       "dtype: object"
      ]
     },
     "execution_count": 70,
     "metadata": {},
     "output_type": "execute_result"
    }
   ],
   "source": [
    "news_df.dtypes"
   ]
  },
  {
   "cell_type": "code",
   "execution_count": 71,
   "id": "8d562b52",
   "metadata": {},
   "outputs": [
    {
     "data": {
      "text/plain": [
       "title               0\n",
       "description        16\n",
       "text               25\n",
       "url                 2\n",
       "keyword           259\n",
       "published_date     99\n",
       "source_file         0\n",
       "dtype: int64"
      ]
     },
     "execution_count": 71,
     "metadata": {},
     "output_type": "execute_result"
    }
   ],
   "source": [
    "news_df.isna().sum()"
   ]
  },
  {
   "cell_type": "code",
   "execution_count": 72,
   "id": "4288fc98",
   "metadata": {},
   "outputs": [
    {
     "data": {
      "text/html": [
       "<div>\n",
       "<style scoped>\n",
       "    .dataframe tbody tr th:only-of-type {\n",
       "        vertical-align: middle;\n",
       "    }\n",
       "\n",
       "    .dataframe tbody tr th {\n",
       "        vertical-align: top;\n",
       "    }\n",
       "\n",
       "    .dataframe thead th {\n",
       "        text-align: right;\n",
       "    }\n",
       "</style>\n",
       "<table border=\"1\" class=\"dataframe\">\n",
       "  <thead>\n",
       "    <tr style=\"text-align: right;\">\n",
       "      <th></th>\n",
       "      <th>title</th>\n",
       "      <th>description</th>\n",
       "      <th>text</th>\n",
       "      <th>url</th>\n",
       "      <th>keyword</th>\n",
       "      <th>published_date</th>\n",
       "      <th>source_file</th>\n",
       "    </tr>\n",
       "  </thead>\n",
       "  <tbody>\n",
       "    <tr>\n",
       "      <th>count</th>\n",
       "      <td>2638</td>\n",
       "      <td>2622</td>\n",
       "      <td>2613</td>\n",
       "      <td>2636</td>\n",
       "      <td>2379</td>\n",
       "      <td>2539</td>\n",
       "      <td>2638</td>\n",
       "    </tr>\n",
       "    <tr>\n",
       "      <th>unique</th>\n",
       "      <td>1453</td>\n",
       "      <td>1457</td>\n",
       "      <td>1445</td>\n",
       "      <td>1486</td>\n",
       "      <td>30</td>\n",
       "      <td>1341</td>\n",
       "      <td>7</td>\n",
       "    </tr>\n",
       "    <tr>\n",
       "      <th>top</th>\n",
       "      <td>Death, Sexual Violence and Human Trafficking: ...</td>\n",
       "      <td>Elon Musk first claimed the department would m...</td>\n",
       "      <td>ProPublica is a nonprofit newsroom that invest...</td>\n",
       "      <td>https://www.propublica.org/article/trump-usaid...</td>\n",
       "      <td>foreign aid</td>\n",
       "      <td>2025-05-28 18:45:00+00:00</td>\n",
       "      <td>cecilia.newsapi.csv</td>\n",
       "    </tr>\n",
       "    <tr>\n",
       "      <th>freq</th>\n",
       "      <td>23</td>\n",
       "      <td>22</td>\n",
       "      <td>22</td>\n",
       "      <td>23</td>\n",
       "      <td>196</td>\n",
       "      <td>23</td>\n",
       "      <td>1787</td>\n",
       "    </tr>\n",
       "  </tbody>\n",
       "</table>\n",
       "</div>"
      ],
      "text/plain": [
       "                                                    title  \\\n",
       "count                                                2638   \n",
       "unique                                               1453   \n",
       "top     Death, Sexual Violence and Human Trafficking: ...   \n",
       "freq                                                   23   \n",
       "\n",
       "                                              description  \\\n",
       "count                                                2622   \n",
       "unique                                               1457   \n",
       "top     Elon Musk first claimed the department would m...   \n",
       "freq                                                   22   \n",
       "\n",
       "                                                     text  \\\n",
       "count                                                2613   \n",
       "unique                                               1445   \n",
       "top     ProPublica is a nonprofit newsroom that invest...   \n",
       "freq                                                   22   \n",
       "\n",
       "                                                      url      keyword  \\\n",
       "count                                                2636         2379   \n",
       "unique                                               1486           30   \n",
       "top     https://www.propublica.org/article/trump-usaid...  foreign aid   \n",
       "freq                                                   23          196   \n",
       "\n",
       "                   published_date          source_file  \n",
       "count                        2539                 2638  \n",
       "unique                       1341                    7  \n",
       "top     2025-05-28 18:45:00+00:00  cecilia.newsapi.csv  \n",
       "freq                           23                 1787  "
      ]
     },
     "execution_count": 72,
     "metadata": {},
     "output_type": "execute_result"
    }
   ],
   "source": [
    "news_df.describe()"
   ]
  },
  {
   "cell_type": "markdown",
   "id": "75d6e2a8",
   "metadata": {},
   "source": [
    "## Data Cleaning"
   ]
  },
  {
   "cell_type": "markdown",
   "id": "2e0c0a4a",
   "metadata": {},
   "source": [
    "### Feature Engineering"
   ]
  },
  {
   "cell_type": "markdown",
   "id": "471f62c6",
   "metadata": {},
   "source": [
    "##### Create column 'time' from 'published_date'"
   ]
  },
  {
   "cell_type": "code",
   "execution_count": 73,
   "id": "a0207b92",
   "metadata": {},
   "outputs": [
    {
     "data": {
      "text/html": [
       "<div>\n",
       "<style scoped>\n",
       "    .dataframe tbody tr th:only-of-type {\n",
       "        vertical-align: middle;\n",
       "    }\n",
       "\n",
       "    .dataframe tbody tr th {\n",
       "        vertical-align: top;\n",
       "    }\n",
       "\n",
       "    .dataframe thead th {\n",
       "        text-align: right;\n",
       "    }\n",
       "</style>\n",
       "<table border=\"1\" class=\"dataframe\">\n",
       "  <thead>\n",
       "    <tr style=\"text-align: right;\">\n",
       "      <th></th>\n",
       "      <th>title</th>\n",
       "      <th>description</th>\n",
       "      <th>text</th>\n",
       "      <th>url</th>\n",
       "      <th>keyword</th>\n",
       "      <th>published_date</th>\n",
       "      <th>source_file</th>\n",
       "      <th>time</th>\n",
       "    </tr>\n",
       "  </thead>\n",
       "  <tbody>\n",
       "    <tr>\n",
       "      <th>0</th>\n",
       "      <td>Has DOGE really saved the US government $180bn?</td>\n",
       "      <td>Elon Musk first claimed the department would m...</td>\n",
       "      <td>President Donald Trump and adviser Elon Musk c...</td>\n",
       "      <td>https://www.aljazeera.com/news/2025/6/6/has-do...</td>\n",
       "      <td>usaid kenya</td>\n",
       "      <td>2025-06-06</td>\n",
       "      <td>Agatha_news.csv</td>\n",
       "      <td>11:21:51</td>\n",
       "    </tr>\n",
       "    <tr>\n",
       "      <th>1</th>\n",
       "      <td>The Life Story of Ecomobilus Technologies Limi...</td>\n",
       "      <td>By Prof Geoffrey Gitau Here is a story showcas...</td>\n",
       "      <td>By Prof Geoffrey Gitau\\r\\nHere is a story show...</td>\n",
       "      <td>https://cleantechnica.com/2025/05/26/the-life-...</td>\n",
       "      <td>usaid kenya</td>\n",
       "      <td>2025-05-26</td>\n",
       "      <td>Agatha_news.csv</td>\n",
       "      <td>17:13:41</td>\n",
       "    </tr>\n",
       "    <tr>\n",
       "      <th>2</th>\n",
       "      <td>Death, Sexual Violence and Human Trafficking: ...</td>\n",
       "      <td>by Brett Murphy and Anna Maria Barry-Jester \\n...</td>\n",
       "      <td>ProPublica is a nonprofit newsroom that invest...</td>\n",
       "      <td>https://www.propublica.org/article/trump-usaid...</td>\n",
       "      <td>usaid kenya</td>\n",
       "      <td>2025-05-28</td>\n",
       "      <td>Agatha_news.csv</td>\n",
       "      <td>18:45:00</td>\n",
       "    </tr>\n",
       "    <tr>\n",
       "      <th>3</th>\n",
       "      <td>Congress Should Quickly Approve Trump’s Rescis...</td>\n",
       "      <td>President Donald Trump‘s rescission legislatio...</td>\n",
       "      <td>President Donald Trumps rescission legislation...</td>\n",
       "      <td>https://www.dailysignal.com/2025/06/10/congres...</td>\n",
       "      <td>usaid kenya</td>\n",
       "      <td>2025-06-10</td>\n",
       "      <td>Agatha_news.csv</td>\n",
       "      <td>12:00:00</td>\n",
       "    </tr>\n",
       "    <tr>\n",
       "      <th>4</th>\n",
       "      <td>Food Safety Depends On Every Link In The Suppl...</td>\n",
       "      <td>Almost 1 in 10 people globally fall ill from c...</td>\n",
       "      <td>Colorful fish and vegetables can be purchased ...</td>\n",
       "      <td>https://www.forbes.com/sites/daniellenierenber...</td>\n",
       "      <td>usaid kenya</td>\n",
       "      <td>2025-06-06</td>\n",
       "      <td>Agatha_news.csv</td>\n",
       "      <td>13:55:41</td>\n",
       "    </tr>\n",
       "  </tbody>\n",
       "</table>\n",
       "</div>"
      ],
      "text/plain": [
       "                                               title  \\\n",
       "0    Has DOGE really saved the US government $180bn?   \n",
       "1  The Life Story of Ecomobilus Technologies Limi...   \n",
       "2  Death, Sexual Violence and Human Trafficking: ...   \n",
       "3  Congress Should Quickly Approve Trump’s Rescis...   \n",
       "4  Food Safety Depends On Every Link In The Suppl...   \n",
       "\n",
       "                                         description  \\\n",
       "0  Elon Musk first claimed the department would m...   \n",
       "1  By Prof Geoffrey Gitau Here is a story showcas...   \n",
       "2  by Brett Murphy and Anna Maria Barry-Jester \\n...   \n",
       "3  President Donald Trump‘s rescission legislatio...   \n",
       "4  Almost 1 in 10 people globally fall ill from c...   \n",
       "\n",
       "                                                text  \\\n",
       "0  President Donald Trump and adviser Elon Musk c...   \n",
       "1  By Prof Geoffrey Gitau\\r\\nHere is a story show...   \n",
       "2  ProPublica is a nonprofit newsroom that invest...   \n",
       "3  President Donald Trumps rescission legislation...   \n",
       "4  Colorful fish and vegetables can be purchased ...   \n",
       "\n",
       "                                                 url      keyword  \\\n",
       "0  https://www.aljazeera.com/news/2025/6/6/has-do...  usaid kenya   \n",
       "1  https://cleantechnica.com/2025/05/26/the-life-...  usaid kenya   \n",
       "2  https://www.propublica.org/article/trump-usaid...  usaid kenya   \n",
       "3  https://www.dailysignal.com/2025/06/10/congres...  usaid kenya   \n",
       "4  https://www.forbes.com/sites/daniellenierenber...  usaid kenya   \n",
       "\n",
       "  published_date      source_file      time  \n",
       "0     2025-06-06  Agatha_news.csv  11:21:51  \n",
       "1     2025-05-26  Agatha_news.csv  17:13:41  \n",
       "2     2025-05-28  Agatha_news.csv  18:45:00  \n",
       "3     2025-06-10  Agatha_news.csv  12:00:00  \n",
       "4     2025-06-06  Agatha_news.csv  13:55:41  "
      ]
     },
     "execution_count": 73,
     "metadata": {},
     "output_type": "execute_result"
    }
   ],
   "source": [
    "# Convert published_date to datetime format\n",
    "news_df['published_date'] = pd.to_datetime(news_df['published_date'])\n",
    "\n",
    "# Extract time into a new column 'time'\n",
    "news_df['time'] = news_df['published_date'].dt.time\n",
    "\n",
    "# Keep only the date (drop the time) in published_date\n",
    "news_df['published_date'] = news_df['published_date'].dt.date\n",
    "\n",
    "# Preview\n",
    "news_df.head()\n"
   ]
  },
  {
   "cell_type": "markdown",
   "id": "6c29aff8",
   "metadata": {},
   "source": [
    "### Dropping Unneccessary Columns"
   ]
  },
  {
   "cell_type": "code",
   "execution_count": 74,
   "id": "d08ee5eb",
   "metadata": {},
   "outputs": [
    {
     "data": {
      "text/html": [
       "<div>\n",
       "<style scoped>\n",
       "    .dataframe tbody tr th:only-of-type {\n",
       "        vertical-align: middle;\n",
       "    }\n",
       "\n",
       "    .dataframe tbody tr th {\n",
       "        vertical-align: top;\n",
       "    }\n",
       "\n",
       "    .dataframe thead th {\n",
       "        text-align: right;\n",
       "    }\n",
       "</style>\n",
       "<table border=\"1\" class=\"dataframe\">\n",
       "  <thead>\n",
       "    <tr style=\"text-align: right;\">\n",
       "      <th></th>\n",
       "      <th>title</th>\n",
       "      <th>description</th>\n",
       "      <th>text</th>\n",
       "      <th>url</th>\n",
       "      <th>keyword</th>\n",
       "      <th>published_date</th>\n",
       "    </tr>\n",
       "  </thead>\n",
       "  <tbody>\n",
       "    <tr>\n",
       "      <th>0</th>\n",
       "      <td>Has DOGE really saved the US government $180bn?</td>\n",
       "      <td>Elon Musk first claimed the department would m...</td>\n",
       "      <td>President Donald Trump and adviser Elon Musk c...</td>\n",
       "      <td>https://www.aljazeera.com/news/2025/6/6/has-do...</td>\n",
       "      <td>usaid kenya</td>\n",
       "      <td>2025-06-06</td>\n",
       "    </tr>\n",
       "    <tr>\n",
       "      <th>1</th>\n",
       "      <td>The Life Story of Ecomobilus Technologies Limi...</td>\n",
       "      <td>By Prof Geoffrey Gitau Here is a story showcas...</td>\n",
       "      <td>By Prof Geoffrey Gitau\\r\\nHere is a story show...</td>\n",
       "      <td>https://cleantechnica.com/2025/05/26/the-life-...</td>\n",
       "      <td>usaid kenya</td>\n",
       "      <td>2025-05-26</td>\n",
       "    </tr>\n",
       "    <tr>\n",
       "      <th>2</th>\n",
       "      <td>Death, Sexual Violence and Human Trafficking: ...</td>\n",
       "      <td>by Brett Murphy and Anna Maria Barry-Jester \\n...</td>\n",
       "      <td>ProPublica is a nonprofit newsroom that invest...</td>\n",
       "      <td>https://www.propublica.org/article/trump-usaid...</td>\n",
       "      <td>usaid kenya</td>\n",
       "      <td>2025-05-28</td>\n",
       "    </tr>\n",
       "    <tr>\n",
       "      <th>3</th>\n",
       "      <td>Congress Should Quickly Approve Trump’s Rescis...</td>\n",
       "      <td>President Donald Trump‘s rescission legislatio...</td>\n",
       "      <td>President Donald Trumps rescission legislation...</td>\n",
       "      <td>https://www.dailysignal.com/2025/06/10/congres...</td>\n",
       "      <td>usaid kenya</td>\n",
       "      <td>2025-06-10</td>\n",
       "    </tr>\n",
       "    <tr>\n",
       "      <th>4</th>\n",
       "      <td>Food Safety Depends On Every Link In The Suppl...</td>\n",
       "      <td>Almost 1 in 10 people globally fall ill from c...</td>\n",
       "      <td>Colorful fish and vegetables can be purchased ...</td>\n",
       "      <td>https://www.forbes.com/sites/daniellenierenber...</td>\n",
       "      <td>usaid kenya</td>\n",
       "      <td>2025-06-06</td>\n",
       "    </tr>\n",
       "  </tbody>\n",
       "</table>\n",
       "</div>"
      ],
      "text/plain": [
       "                                               title  \\\n",
       "0    Has DOGE really saved the US government $180bn?   \n",
       "1  The Life Story of Ecomobilus Technologies Limi...   \n",
       "2  Death, Sexual Violence and Human Trafficking: ...   \n",
       "3  Congress Should Quickly Approve Trump’s Rescis...   \n",
       "4  Food Safety Depends On Every Link In The Suppl...   \n",
       "\n",
       "                                         description  \\\n",
       "0  Elon Musk first claimed the department would m...   \n",
       "1  By Prof Geoffrey Gitau Here is a story showcas...   \n",
       "2  by Brett Murphy and Anna Maria Barry-Jester \\n...   \n",
       "3  President Donald Trump‘s rescission legislatio...   \n",
       "4  Almost 1 in 10 people globally fall ill from c...   \n",
       "\n",
       "                                                text  \\\n",
       "0  President Donald Trump and adviser Elon Musk c...   \n",
       "1  By Prof Geoffrey Gitau\\r\\nHere is a story show...   \n",
       "2  ProPublica is a nonprofit newsroom that invest...   \n",
       "3  President Donald Trumps rescission legislation...   \n",
       "4  Colorful fish and vegetables can be purchased ...   \n",
       "\n",
       "                                                 url      keyword  \\\n",
       "0  https://www.aljazeera.com/news/2025/6/6/has-do...  usaid kenya   \n",
       "1  https://cleantechnica.com/2025/05/26/the-life-...  usaid kenya   \n",
       "2  https://www.propublica.org/article/trump-usaid...  usaid kenya   \n",
       "3  https://www.dailysignal.com/2025/06/10/congres...  usaid kenya   \n",
       "4  https://www.forbes.com/sites/daniellenierenber...  usaid kenya   \n",
       "\n",
       "  published_date  \n",
       "0     2025-06-06  \n",
       "1     2025-05-26  \n",
       "2     2025-05-28  \n",
       "3     2025-06-10  \n",
       "4     2025-06-06  "
      ]
     },
     "execution_count": 74,
     "metadata": {},
     "output_type": "execute_result"
    }
   ],
   "source": [
    "news_df.drop(columns=['source_file', 'time'], inplace=True)\n",
    "news_df.head()\n"
   ]
  },
  {
   "cell_type": "markdown",
   "id": "5d5c10e2",
   "metadata": {},
   "source": [
    "### Checking for missing values"
   ]
  },
  {
   "cell_type": "code",
   "execution_count": 75,
   "id": "5b4cabf0",
   "metadata": {},
   "outputs": [
    {
     "data": {
      "text/plain": [
       "title               0\n",
       "description        16\n",
       "text               25\n",
       "url                 2\n",
       "keyword           259\n",
       "published_date     99\n",
       "dtype: int64"
      ]
     },
     "execution_count": 75,
     "metadata": {},
     "output_type": "execute_result"
    }
   ],
   "source": [
    "news_df.isna().sum() #check for missing values"
   ]
  },
  {
   "cell_type": "code",
   "execution_count": 76,
   "id": "03314450",
   "metadata": {},
   "outputs": [],
   "source": [
    "# Fill columns with placeholders and empty string\n",
    "news_df['description'].fillna(' ', inplace=True)\n",
    "news_df['text'].fillna(' ', inplace=True)\n",
    "\n",
    "# Drop rows where url, keyword or published_date is missing\n",
    "news_df.dropna(subset=['url', 'published_date','keyword'], inplace=True)\n"
   ]
  },
  {
   "cell_type": "code",
   "execution_count": 77,
   "id": "e8624e36",
   "metadata": {},
   "outputs": [
    {
     "data": {
      "text/plain": [
       "title             0\n",
       "description       0\n",
       "text              0\n",
       "url               0\n",
       "keyword           0\n",
       "published_date    0\n",
       "dtype: int64"
      ]
     },
     "execution_count": 77,
     "metadata": {},
     "output_type": "execute_result"
    }
   ],
   "source": [
    "news_df.isna().sum() #confirm that there are no more missing values and data has been cleaned well"
   ]
  },
  {
   "cell_type": "code",
   "execution_count": 78,
   "id": "b1ba72ef",
   "metadata": {},
   "outputs": [
    {
     "data": {
      "text/plain": [
       "(2379, 6)"
      ]
     },
     "execution_count": 78,
     "metadata": {},
     "output_type": "execute_result"
    }
   ],
   "source": [
    "news_df.shape #check the shape of the data after dealing with missing values. \n",
    "#there is still a good amount of data left, since only around 300 rows were dropped."
   ]
  },
  {
   "cell_type": "markdown",
   "id": "e9c5e349",
   "metadata": {},
   "source": [
    "### Check for duplicates"
   ]
  },
  {
   "cell_type": "code",
   "execution_count": 79,
   "id": "7afc1af2",
   "metadata": {},
   "outputs": [
    {
     "data": {
      "text/plain": [
       "98"
      ]
     },
     "execution_count": 79,
     "metadata": {},
     "output_type": "execute_result"
    }
   ],
   "source": [
    "news_df.duplicated().sum() #check the number of uplicates in the data"
   ]
  },
  {
   "cell_type": "markdown",
   "id": "55b07b40",
   "metadata": {},
   "source": [
    "#### Drop duplicates"
   ]
  },
  {
   "cell_type": "code",
   "execution_count": 80,
   "id": "6b199730",
   "metadata": {},
   "outputs": [],
   "source": [
    "news_df.drop_duplicates(inplace=True) #drop the duplicates"
   ]
  },
  {
   "cell_type": "code",
   "execution_count": 81,
   "id": "f3a57cee",
   "metadata": {},
   "outputs": [
    {
     "data": {
      "text/plain": [
       "0"
      ]
     },
     "execution_count": 81,
     "metadata": {},
     "output_type": "execute_result"
    }
   ],
   "source": [
    "news_df.duplicated().sum() #confirm that all duplicates have been dropped, and the data is clean"
   ]
  },
  {
   "cell_type": "code",
   "execution_count": 82,
   "id": "ec4fc7ba",
   "metadata": {},
   "outputs": [
    {
     "data": {
      "text/plain": [
       "(2281, 6)"
      ]
     },
     "execution_count": 82,
     "metadata": {},
     "output_type": "execute_result"
    }
   ],
   "source": [
    "news_df.shape #check the new shape of the data"
   ]
  },
  {
   "cell_type": "markdown",
   "id": "71811dcb",
   "metadata": {},
   "source": [
    "## Sentiment Analysis Cleaning"
   ]
  },
  {
   "cell_type": "markdown",
   "id": "d04be4e8",
   "metadata": {},
   "source": [
    "### Feature Engineering"
   ]
  },
  {
   "cell_type": "markdown",
   "id": "3f818da3",
   "metadata": {},
   "source": [
    "Creating a new column 'full_text' byy combining 'title', 'description', 'text' columns and the empty strings used in filling na"
   ]
  },
  {
   "cell_type": "code",
   "execution_count": 83,
   "id": "83972e2c",
   "metadata": {},
   "outputs": [
    {
     "data": {
      "text/plain": [
       "'Food Safety Depends On Every Link In The Supply Chain Almost 1 in 10 people globally fall ill from contaminated food every year. Making our food supply safer for communities depends on everyone.Colorful fish and vegetables can be purchased at a public market.\\r\\ngetty\\r\\nFor communities to be nourished, their food supply must be safe to eat.\\r\\nThis sounds obvious, but its worth repeating, becaus… [+4445 chars]'"
      ]
     },
     "execution_count": 83,
     "metadata": {},
     "output_type": "execute_result"
    }
   ],
   "source": [
    "news_df['full_text'] = news_df['title'] + ' ' + news_df['description'] + news_df['text']\n",
    "news_df.iloc[4]['full_text']  #sample check for row number 5"
   ]
  },
  {
   "cell_type": "markdown",
   "id": "253065b8",
   "metadata": {},
   "source": [
    "### Lowercasing"
   ]
  },
  {
   "cell_type": "markdown",
   "id": "ff1681f5",
   "metadata": {},
   "source": [
    "Converting all text to lowercase"
   ]
  },
  {
   "cell_type": "code",
   "execution_count": 84,
   "id": "4722aa81",
   "metadata": {},
   "outputs": [
    {
     "data": {
      "text/plain": [
       "'food safety depends on every link in the supply chain almost 1 in 10 people globally fall ill from contaminated food every year. making our food supply safer for communities depends on everyone.colorful fish and vegetables can be purchased at a public market.\\r\\ngetty\\r\\nfor communities to be nourished, their food supply must be safe to eat.\\r\\nthis sounds obvious, but its worth repeating, becaus… [+4445 chars]'"
      ]
     },
     "execution_count": 84,
     "metadata": {},
     "output_type": "execute_result"
    }
   ],
   "source": [
    "news_df['full_text'] = news_df['full_text'].str.lower()\n",
    "news_df.iloc[4]['full_text'] #sample check for row number 5 and confirm that all text has been lowercased"
   ]
  },
  {
   "cell_type": "markdown",
   "id": "95a094fc",
   "metadata": {},
   "source": [
    "Cleaning the text and remove \\r\\n, backslashes \\, and any similar unwanted characters"
   ]
  },
  {
   "cell_type": "code",
   "execution_count": 85,
   "id": "cbe7086e",
   "metadata": {},
   "outputs": [],
   "source": [
    "# Remove \\r, \\n, and backslashes from the 'text' column\n",
    "news_df['full_text'] = news_df['full_text'].str.replace(r'\\r', ' ', regex=True)\n",
    "news_df['full_text'] = news_df['full_text'].str.replace(r'\\n', ' ', regex=True)\n",
    "news_df['full_text'] = news_df['full_text'].str.replace(r'\\\\', '', regex=True)\n"
   ]
  },
  {
   "cell_type": "code",
   "execution_count": 86,
   "id": "3a05d3f8",
   "metadata": {},
   "outputs": [
    {
     "data": {
      "text/plain": [
       "'food safety depends on every link in the supply chain almost 1 in 10 people globally fall ill from contaminated food every year. making our food supply safer for communities depends on everyone.colorful fish and vegetables can be purchased at a public market.  getty  for communities to be nourished, their food supply must be safe to eat.  this sounds obvious, but its worth repeating, becaus… [+4445 chars]'"
      ]
     },
     "execution_count": 86,
     "metadata": {},
     "output_type": "execute_result"
    }
   ],
   "source": [
    "news_df.iloc[4]['full_text']"
   ]
  },
  {
   "cell_type": "markdown",
   "id": "2264f8d0",
   "metadata": {},
   "source": [
    "### Translate all text to English"
   ]
  },
  {
   "cell_type": "code",
   "execution_count": 87,
   "id": "d0e2ae5d",
   "metadata": {},
   "outputs": [
    {
     "data": {
      "text/plain": [
       "en    2281\n",
       "Name: language, dtype: int64"
      ]
     },
     "execution_count": 87,
     "metadata": {},
     "output_type": "execute_result"
    }
   ],
   "source": [
    "from langdetect import detect\n",
    "\n",
    "# Language detection, detect what language the 'full_text' is in\n",
    "news_df['language'] = news_df['full_text'].apply(lambda x: detect(x) if pd.notnull(x) else 'unknown')\n",
    "news_df['language'].value_counts() \n",
    "#from the output, all 2281 rows are in English, so there is no need for translation to English"
   ]
  },
  {
   "cell_type": "markdown",
   "id": "17b022ec",
   "metadata": {},
   "source": [
    "### Removing Punctuation Marks"
   ]
  },
  {
   "cell_type": "code",
   "execution_count": 88,
   "id": "01039474",
   "metadata": {},
   "outputs": [
    {
     "data": {
      "text/plain": [
       "'food safety depends on every link in the supply chain almost 1 in 10 people globally fall ill from contaminated food every year making our food supply safer for communities depends on everyonecolorful fish and vegetables can be purchased at a public market  getty  for communities to be nourished their food supply must be safe to eat  this sounds obvious but its worth repeating becaus… 4445 chars'"
      ]
     },
     "execution_count": 88,
     "metadata": {},
     "output_type": "execute_result"
    }
   ],
   "source": [
    "import re\n",
    "import string\n",
    "\n",
    "# Function to remove punctuation\n",
    "def remove_punctuation(text):\n",
    "    return re.sub(f\"[{re.escape(string.punctuation)}]\", \"\", str(text))\n",
    "\n",
    "# Apply to the 'full_text' column\n",
    "news_df['full_text'] = news_df['full_text'].apply(remove_punctuation)\n",
    "\n",
    "news_df.iloc[4]['full_text'] #using column 5 as an example to see whether all punctuation marks have been removed and from my observation, all punctuation marks have been removed\n"
   ]
  },
  {
   "cell_type": "markdown",
   "id": "e59a29dc",
   "metadata": {},
   "source": [
    "### Removing Stop Words,Emojis,Non-Emoji Symbols and Lemmatization"
   ]
  },
  {
   "cell_type": "markdown",
   "id": "008a7e48",
   "metadata": {},
   "source": [
    "Removes emojis and special symbols – Eliminates non-textual elements to reduce noise.\n",
    "\n",
    "Removes stopwords – Discards common words with little meaning to focus on key terms.\n",
    "\n",
    "Lemmatizes words – Converts words to their base forms for standardization.\n"
   ]
  },
  {
   "cell_type": "code",
   "execution_count": 89,
   "id": "09464e32",
   "metadata": {},
   "outputs": [
    {
     "name": "stderr",
     "output_type": "stream",
     "text": [
      "[nltk_data] Downloading package stopwords to\n",
      "[nltk_data]     C:\\Users\\hp\\AppData\\Roaming\\nltk_data...\n",
      "[nltk_data]   Package stopwords is already up-to-date!\n",
      "[nltk_data] Downloading package wordnet to\n",
      "[nltk_data]     C:\\Users\\hp\\AppData\\Roaming\\nltk_data...\n",
      "[nltk_data]   Package wordnet is already up-to-date!\n",
      "[nltk_data] Downloading package omw-1.4 to\n",
      "[nltk_data]     C:\\Users\\hp\\AppData\\Roaming\\nltk_data...\n",
      "[nltk_data]   Package omw-1.4 is already up-to-date!\n"
     ]
    },
    {
     "data": {
      "text/plain": [
       "'food safety depends every link supply chain almost 1 10 people globally fall ill contaminated food every year making food supply safer community depends everyonecolorful fish vegetable purchased public market getty community nourished food supply must safe eat sound obvious worth repeating becaus… 4445 char'"
      ]
     },
     "execution_count": 89,
     "metadata": {},
     "output_type": "execute_result"
    }
   ],
   "source": [
    "import re\n",
    "import nltk\n",
    "from nltk.corpus import stopwords\n",
    "from nltk.stem import WordNetLemmatizer\n",
    "\n",
    "# Download NLTK data\n",
    "nltk.download('stopwords')\n",
    "nltk.download('wordnet')\n",
    "nltk.download('omw-1.4')\n",
    "\n",
    "# Initialize stopwords and lemmatizer\n",
    "stop_words = set(stopwords.words('english'))\n",
    "lemmatizer = WordNetLemmatizer()\n",
    "\n",
    "# Function to remove emojis, emoticons, and other symbols\n",
    "def remove_emojis_symbols(text):\n",
    "    emoji_pattern = re.compile(\n",
    "        \"[\"\n",
    "        u\"\\U0001F600-\\U0001F64F\"  # emoticons\n",
    "        u\"\\U0001F300-\\U0001F5FF\"  # symbols & pictographs\n",
    "        u\"\\U0001F680-\\U0001F6FF\"  # transport & map symbols\n",
    "        u\"\\U0001F1E0-\\U0001F1FF\"  # flags\n",
    "        u\"\\U00002700-\\U000027BF\"  # dingbats\n",
    "        u\"\\U0001F900-\\U0001F9FF\"  # supplemental symbols and pictographs\n",
    "        u\"\\U0001FA70-\\U0001FAFF\"  # extended pictographic symbols\n",
    "        u\"\\U00002500-\\U00002BEF\"  # misc symbols\n",
    "        u\"\\U0000200D\"             # zero width joiner\n",
    "        u\"\\u2600-\\u26FF\"          # misc symbols\n",
    "        u\"\\u2700-\\u27BF\"\n",
    "        u\"\\uFE0F\"                 # variation selector\n",
    "        u\"\\u3030\"\n",
    "        u\"\\u00A9\"                 # ©\n",
    "        u\"\\u00AE\"                 # ®\n",
    "        u\"\\u2122\"                 # ™\n",
    "        \"]+\", flags=re.UNICODE)\n",
    "    return emoji_pattern.sub(r'', text)\n",
    "\n",
    "# Final cleaning function\n",
    "def clean_text(text):\n",
    "    text = remove_emojis_symbols(text)\n",
    "    words = text.split()\n",
    "    cleaned_words = [lemmatizer.lemmatize(word) for word in words if word not in stop_words]\n",
    "    return ' '.join(cleaned_words)\n",
    "\n",
    "# Apply to news_df\n",
    "news_df['cleaned_text'] = news_df['full_text'].apply(clean_text) #Stores cleaned text in a new column – Preserves original data while saving processed output.\n",
    "\n",
    "# Preview sample\n",
    "news_df.iloc[4]['cleaned_text']\n"
   ]
  },
  {
   "cell_type": "markdown",
   "id": "8f5e929a",
   "metadata": {},
   "source": [
    "## Tokenization"
   ]
  },
  {
   "cell_type": "code",
   "execution_count": 90,
   "id": "5a10ba68",
   "metadata": {},
   "outputs": [
    {
     "name": "stderr",
     "output_type": "stream",
     "text": [
      "[nltk_data] Downloading package punkt to\n",
      "[nltk_data]     C:\\Users\\hp\\AppData\\Roaming\\nltk_data...\n",
      "[nltk_data]   Package punkt is already up-to-date!\n"
     ]
    },
    {
     "data": {
      "text/plain": [
       "'may 2025 update every month send email newsletter supporter sharing recent update work publish selected portion newsletter blog make news accessible people visit website key update latest insta…every month send email newsletter supporter sharing recent update work publish selected portion newsletter blog make news accessible people … 3507 char'"
      ]
     },
     "execution_count": 90,
     "metadata": {},
     "output_type": "execute_result"
    }
   ],
   "source": [
    "import nltk\n",
    "from nltk.tokenize import word_tokenize\n",
    "\n",
    "# Download tokenizer data \n",
    "nltk.download('punkt')\n",
    "\n",
    "#  tokenization function\n",
    "def tokenize_text(text):\n",
    "    return word_tokenize(text)\n",
    "\n",
    "# Apply to cleaned text\n",
    "news_df['tokens'] = news_df['cleaned_text'].apply(tokenize_text)\n",
    "\n",
    "# display row number 11\n",
    "news_df[['cleaned_text', 'tokens']].head()\n",
    "news_df.iloc[10]['cleaned_text']"
   ]
  },
  {
   "cell_type": "code",
   "execution_count": 91,
   "id": "456f6268",
   "metadata": {},
   "outputs": [
    {
     "data": {
      "text/plain": [
       "['may',\n",
       " '2025',\n",
       " 'update',\n",
       " 'every',\n",
       " 'month',\n",
       " 'send',\n",
       " 'email',\n",
       " 'newsletter',\n",
       " 'supporter',\n",
       " 'sharing',\n",
       " 'recent',\n",
       " 'update',\n",
       " 'work',\n",
       " 'publish',\n",
       " 'selected',\n",
       " 'portion',\n",
       " 'newsletter',\n",
       " 'blog',\n",
       " 'make',\n",
       " 'news',\n",
       " 'accessible',\n",
       " 'people',\n",
       " 'visit',\n",
       " 'website',\n",
       " 'key',\n",
       " 'update',\n",
       " 'latest',\n",
       " 'insta…every',\n",
       " 'month',\n",
       " 'send',\n",
       " 'email',\n",
       " 'newsletter',\n",
       " 'supporter',\n",
       " 'sharing',\n",
       " 'recent',\n",
       " 'update',\n",
       " 'work',\n",
       " 'publish',\n",
       " 'selected',\n",
       " 'portion',\n",
       " 'newsletter',\n",
       " 'blog',\n",
       " 'make',\n",
       " 'news',\n",
       " 'accessible',\n",
       " 'people',\n",
       " '…',\n",
       " '3507',\n",
       " 'char']"
      ]
     },
     "execution_count": 91,
     "metadata": {},
     "output_type": "execute_result"
    }
   ],
   "source": [
    "news_df.iloc[10]['tokens']"
   ]
  },
  {
   "cell_type": "markdown",
   "id": "c2eb7070",
   "metadata": {},
   "source": [
    "This code below cleans tokens by:\n",
    "\n",
    "Removing numbers and words like 'char'/'chars',\n",
    "\n",
    "Splitting truncated words containing ellipses (e.g., \"insta...every\" → [\"insta\", \"every\"]),\n",
    "\n",
    "Keeping only clean, meaningful tokens while preserving their order, ensuring it remains readable"
   ]
  },
  {
   "cell_type": "code",
   "execution_count": 92,
   "id": "3c8c95cc",
   "metadata": {},
   "outputs": [
    {
     "name": "stdout",
     "output_type": "stream",
     "text": [
      "['may', 'update', 'every', 'month', 'send', 'email', 'newsletter', 'supporter', 'sharing', 'recent', 'update', 'work', 'publish', 'selected', 'portion', 'newsletter', 'blog', 'make', 'news', 'accessible', 'people', 'visit', 'website', 'key', 'update', 'latest', 'insta', 'every', 'month', 'send', 'email', 'newsletter', 'supporter', 'sharing', 'recent', 'update', 'work', 'publish', 'selected', 'portion', 'newsletter', 'blog', 'make', 'news', 'accessible', 'people']\n"
     ]
    }
   ],
   "source": [
    "def clean_tokens(tokens):\n",
    "    \"\"\"Remove unwanted tokens including numbers, 'char(s)', and truncated words\"\"\"\n",
    "    cleaned = []\n",
    "    for token in tokens:\n",
    "        # Skip numbers, 'char'/'chars', and standalone ellipses\n",
    "        if token.isdigit() or token in {'char', 'chars', '…'}:\n",
    "            continue\n",
    "        # Fix words with ellipses (e.g., 'insta…every' → 'insta', 'every')\n",
    "        if '…' in token:\n",
    "            parts = [p for p in token.split('…') if p]\n",
    "            cleaned.extend(parts)\n",
    "        else:\n",
    "            cleaned.append(token)\n",
    "    return cleaned\n",
    "\n",
    "# Apply to tokens\n",
    "news_df['cleaned_tokens'] = news_df['tokens'].apply(clean_tokens)\n",
    "\n",
    "# Preview\n",
    "print(news_df.iloc[10]['cleaned_tokens'])"
   ]
  },
  {
   "cell_type": "markdown",
   "id": "137df6ac",
   "metadata": {},
   "source": [
    "This code below cleans already tokenized text by:\n",
    "\n",
    "Removing numbers and words like 'char'/'chars',\n",
    "\n",
    "Splitting truncated words containing ellipses (e.g., \"insta...every\" → [\"insta\", \"every\"]),\n",
    "\n",
    "Keeping only clean, meaningful tokens while preserving their order, ensuring it remains readable"
   ]
  },
  {
   "cell_type": "code",
   "execution_count": 93,
   "id": "7a72eb00",
   "metadata": {},
   "outputs": [
    {
     "name": "stdout",
     "output_type": "stream",
     "text": [
      "Original: may 2025 updates every month we send an email newsletter to our supporters sharing recent updates from our work we publish selected portions of the newsletter on our blog to make this news more accessible to people who visit our website for key updates from the latest insta…every month we send an email newsletter to our supporters sharing recent updates from our work we publish selected portions of the newsletter on our blog to make this news more accessible to people … 3507 chars\n",
      "Cleaned: may updates every month we send an email newsletter to our supporters sharing recent updates from our work we publish selected portions of the newsletter on our blog to make this news more accessible to people who visit our website for key updates from the latest insta every month we send an email newsletter to our supporters sharing recent updates from our work we publish selected portions of the newsletter on our blog to make this news more accessible to people\n"
     ]
    }
   ],
   "source": [
    "import re\n",
    "\n",
    "def clean_full_text(text):\n",
    "    \"\"\"\n",
    "    Clean raw text by:\n",
    "    1. Removing [NNN chars] or NNN chars patterns\n",
    "    2. Fixing words with ellipses (insta…every → insta every)\n",
    "    3. Removing standalone numbers and 'char'/'chars'\n",
    "    4. Removing standalone ellipses\n",
    "    \"\"\"\n",
    "    # Remove char count patterns\n",
    "    text = re.sub(r\"\\[\\+\\d+\\s*chars\\]|\\d+\\s*chars\", \"\", text)\n",
    "    \n",
    "    # Fix words with ellipses by replacing … with space\n",
    "    text = re.sub(r\"(\\w)…(\\w)\", r\"\\1 \\2\", text)\n",
    "    \n",
    "    # Remove standalone numbers, 'char', 'chars'\n",
    "    text = ' '.join(\n",
    "        word for word in text.split() \n",
    "        if not (word.isdigit() or word in {'char', 'chars'})\n",
    "    )\n",
    "    \n",
    "    # Remove any remaining standalone ellipses\n",
    "    text = text.replace('…', '')\n",
    "    \n",
    "    return text.strip()\n",
    "\n",
    "# Apply to full text column\n",
    "news_df['cleaned_text'] = news_df['full_text'].apply(clean_full_text)\n",
    "\n",
    "# Preview before/after\n",
    "print(\"Original:\", news_df.iloc[10]['full_text'])\n",
    "print(\"Cleaned:\", news_df.iloc[10]['cleaned_text'])"
   ]
  },
  {
   "cell_type": "code",
   "execution_count": 94,
   "id": "3be42757",
   "metadata": {},
   "outputs": [
    {
     "data": {
      "text/html": [
       "<div>\n",
       "<style scoped>\n",
       "    .dataframe tbody tr th:only-of-type {\n",
       "        vertical-align: middle;\n",
       "    }\n",
       "\n",
       "    .dataframe tbody tr th {\n",
       "        vertical-align: top;\n",
       "    }\n",
       "\n",
       "    .dataframe thead th {\n",
       "        text-align: right;\n",
       "    }\n",
       "</style>\n",
       "<table border=\"1\" class=\"dataframe\">\n",
       "  <thead>\n",
       "    <tr style=\"text-align: right;\">\n",
       "      <th></th>\n",
       "      <th>title</th>\n",
       "      <th>description</th>\n",
       "      <th>text</th>\n",
       "      <th>url</th>\n",
       "      <th>keyword</th>\n",
       "      <th>published_date</th>\n",
       "      <th>full_text</th>\n",
       "      <th>language</th>\n",
       "      <th>cleaned_text</th>\n",
       "      <th>tokens</th>\n",
       "      <th>cleaned_tokens</th>\n",
       "    </tr>\n",
       "  </thead>\n",
       "  <tbody>\n",
       "    <tr>\n",
       "      <th>0</th>\n",
       "      <td>Has DOGE really saved the US government $180bn?</td>\n",
       "      <td>Elon Musk first claimed the department would m...</td>\n",
       "      <td>President Donald Trump and adviser Elon Musk c...</td>\n",
       "      <td>https://www.aljazeera.com/news/2025/6/6/has-do...</td>\n",
       "      <td>usaid kenya</td>\n",
       "      <td>2025-06-06</td>\n",
       "      <td>has doge really saved the us government 180bn ...</td>\n",
       "      <td>en</td>\n",
       "      <td>has doge really saved the us government 180bn ...</td>\n",
       "      <td>[doge, really, saved, u, government, 180bn, el...</td>\n",
       "      <td>[doge, really, saved, u, government, 180bn, el...</td>\n",
       "    </tr>\n",
       "    <tr>\n",
       "      <th>1</th>\n",
       "      <td>The Life Story of Ecomobilus Technologies Limi...</td>\n",
       "      <td>By Prof Geoffrey Gitau Here is a story showcas...</td>\n",
       "      <td>By Prof Geoffrey Gitau\\r\\nHere is a story show...</td>\n",
       "      <td>https://cleantechnica.com/2025/05/26/the-life-...</td>\n",
       "      <td>usaid kenya</td>\n",
       "      <td>2025-05-26</td>\n",
       "      <td>the life story of ecomobilus technologies limi...</td>\n",
       "      <td>en</td>\n",
       "      <td>the life story of ecomobilus technologies limi...</td>\n",
       "      <td>[life, story, ecomobilus, technology, limited,...</td>\n",
       "      <td>[life, story, ecomobilus, technology, limited,...</td>\n",
       "    </tr>\n",
       "    <tr>\n",
       "      <th>2</th>\n",
       "      <td>Death, Sexual Violence and Human Trafficking: ...</td>\n",
       "      <td>by Brett Murphy and Anna Maria Barry-Jester \\n...</td>\n",
       "      <td>ProPublica is a nonprofit newsroom that invest...</td>\n",
       "      <td>https://www.propublica.org/article/trump-usaid...</td>\n",
       "      <td>usaid kenya</td>\n",
       "      <td>2025-05-28</td>\n",
       "      <td>death sexual violence and human trafficking fa...</td>\n",
       "      <td>en</td>\n",
       "      <td>death sexual violence and human trafficking fa...</td>\n",
       "      <td>[death, sexual, violence, human, trafficking, ...</td>\n",
       "      <td>[death, sexual, violence, human, trafficking, ...</td>\n",
       "    </tr>\n",
       "    <tr>\n",
       "      <th>3</th>\n",
       "      <td>Congress Should Quickly Approve Trump’s Rescis...</td>\n",
       "      <td>President Donald Trump‘s rescission legislatio...</td>\n",
       "      <td>President Donald Trumps rescission legislation...</td>\n",
       "      <td>https://www.dailysignal.com/2025/06/10/congres...</td>\n",
       "      <td>usaid kenya</td>\n",
       "      <td>2025-06-10</td>\n",
       "      <td>congress should quickly approve trump’s rescis...</td>\n",
       "      <td>en</td>\n",
       "      <td>congress should quickly approve trump’s rescis...</td>\n",
       "      <td>[congress, quickly, approve, trump, ’, s, resc...</td>\n",
       "      <td>[congress, quickly, approve, trump, ’, s, resc...</td>\n",
       "    </tr>\n",
       "    <tr>\n",
       "      <th>4</th>\n",
       "      <td>Food Safety Depends On Every Link In The Suppl...</td>\n",
       "      <td>Almost 1 in 10 people globally fall ill from c...</td>\n",
       "      <td>Colorful fish and vegetables can be purchased ...</td>\n",
       "      <td>https://www.forbes.com/sites/daniellenierenber...</td>\n",
       "      <td>usaid kenya</td>\n",
       "      <td>2025-06-06</td>\n",
       "      <td>food safety depends on every link in the suppl...</td>\n",
       "      <td>en</td>\n",
       "      <td>food safety depends on every link in the suppl...</td>\n",
       "      <td>[food, safety, depends, every, link, supply, c...</td>\n",
       "      <td>[food, safety, depends, every, link, supply, c...</td>\n",
       "    </tr>\n",
       "  </tbody>\n",
       "</table>\n",
       "</div>"
      ],
      "text/plain": [
       "                                               title  \\\n",
       "0    Has DOGE really saved the US government $180bn?   \n",
       "1  The Life Story of Ecomobilus Technologies Limi...   \n",
       "2  Death, Sexual Violence and Human Trafficking: ...   \n",
       "3  Congress Should Quickly Approve Trump’s Rescis...   \n",
       "4  Food Safety Depends On Every Link In The Suppl...   \n",
       "\n",
       "                                         description  \\\n",
       "0  Elon Musk first claimed the department would m...   \n",
       "1  By Prof Geoffrey Gitau Here is a story showcas...   \n",
       "2  by Brett Murphy and Anna Maria Barry-Jester \\n...   \n",
       "3  President Donald Trump‘s rescission legislatio...   \n",
       "4  Almost 1 in 10 people globally fall ill from c...   \n",
       "\n",
       "                                                text  \\\n",
       "0  President Donald Trump and adviser Elon Musk c...   \n",
       "1  By Prof Geoffrey Gitau\\r\\nHere is a story show...   \n",
       "2  ProPublica is a nonprofit newsroom that invest...   \n",
       "3  President Donald Trumps rescission legislation...   \n",
       "4  Colorful fish and vegetables can be purchased ...   \n",
       "\n",
       "                                                 url      keyword  \\\n",
       "0  https://www.aljazeera.com/news/2025/6/6/has-do...  usaid kenya   \n",
       "1  https://cleantechnica.com/2025/05/26/the-life-...  usaid kenya   \n",
       "2  https://www.propublica.org/article/trump-usaid...  usaid kenya   \n",
       "3  https://www.dailysignal.com/2025/06/10/congres...  usaid kenya   \n",
       "4  https://www.forbes.com/sites/daniellenierenber...  usaid kenya   \n",
       "\n",
       "  published_date                                          full_text language  \\\n",
       "0     2025-06-06  has doge really saved the us government 180bn ...       en   \n",
       "1     2025-05-26  the life story of ecomobilus technologies limi...       en   \n",
       "2     2025-05-28  death sexual violence and human trafficking fa...       en   \n",
       "3     2025-06-10  congress should quickly approve trump’s rescis...       en   \n",
       "4     2025-06-06  food safety depends on every link in the suppl...       en   \n",
       "\n",
       "                                        cleaned_text  \\\n",
       "0  has doge really saved the us government 180bn ...   \n",
       "1  the life story of ecomobilus technologies limi...   \n",
       "2  death sexual violence and human trafficking fa...   \n",
       "3  congress should quickly approve trump’s rescis...   \n",
       "4  food safety depends on every link in the suppl...   \n",
       "\n",
       "                                              tokens  \\\n",
       "0  [doge, really, saved, u, government, 180bn, el...   \n",
       "1  [life, story, ecomobilus, technology, limited,...   \n",
       "2  [death, sexual, violence, human, trafficking, ...   \n",
       "3  [congress, quickly, approve, trump, ’, s, resc...   \n",
       "4  [food, safety, depends, every, link, supply, c...   \n",
       "\n",
       "                                      cleaned_tokens  \n",
       "0  [doge, really, saved, u, government, 180bn, el...  \n",
       "1  [life, story, ecomobilus, technology, limited,...  \n",
       "2  [death, sexual, violence, human, trafficking, ...  \n",
       "3  [congress, quickly, approve, trump, ’, s, resc...  \n",
       "4  [food, safety, depends, every, link, supply, c...  "
      ]
     },
     "execution_count": 94,
     "metadata": {},
     "output_type": "execute_result"
    }
   ],
   "source": [
    "news_df.head()"
   ]
  },
  {
   "cell_type": "markdown",
   "id": "b6b94ffa",
   "metadata": {},
   "source": [
    "### Dropping columns ~ language, tokens"
   ]
  },
  {
   "cell_type": "code",
   "execution_count": 95,
   "id": "4a25c7e9",
   "metadata": {},
   "outputs": [
    {
     "data": {
      "text/html": [
       "<div>\n",
       "<style scoped>\n",
       "    .dataframe tbody tr th:only-of-type {\n",
       "        vertical-align: middle;\n",
       "    }\n",
       "\n",
       "    .dataframe tbody tr th {\n",
       "        vertical-align: top;\n",
       "    }\n",
       "\n",
       "    .dataframe thead th {\n",
       "        text-align: right;\n",
       "    }\n",
       "</style>\n",
       "<table border=\"1\" class=\"dataframe\">\n",
       "  <thead>\n",
       "    <tr style=\"text-align: right;\">\n",
       "      <th></th>\n",
       "      <th>title</th>\n",
       "      <th>description</th>\n",
       "      <th>text</th>\n",
       "      <th>url</th>\n",
       "      <th>keyword</th>\n",
       "      <th>published_date</th>\n",
       "      <th>full_text</th>\n",
       "      <th>cleaned_text</th>\n",
       "      <th>cleaned_tokens</th>\n",
       "    </tr>\n",
       "  </thead>\n",
       "  <tbody>\n",
       "    <tr>\n",
       "      <th>0</th>\n",
       "      <td>Has DOGE really saved the US government $180bn?</td>\n",
       "      <td>Elon Musk first claimed the department would m...</td>\n",
       "      <td>President Donald Trump and adviser Elon Musk c...</td>\n",
       "      <td>https://www.aljazeera.com/news/2025/6/6/has-do...</td>\n",
       "      <td>usaid kenya</td>\n",
       "      <td>2025-06-06</td>\n",
       "      <td>has doge really saved the us government 180bn ...</td>\n",
       "      <td>has doge really saved the us government 180bn ...</td>\n",
       "      <td>[doge, really, saved, u, government, 180bn, el...</td>\n",
       "    </tr>\n",
       "    <tr>\n",
       "      <th>1</th>\n",
       "      <td>The Life Story of Ecomobilus Technologies Limi...</td>\n",
       "      <td>By Prof Geoffrey Gitau Here is a story showcas...</td>\n",
       "      <td>By Prof Geoffrey Gitau\\r\\nHere is a story show...</td>\n",
       "      <td>https://cleantechnica.com/2025/05/26/the-life-...</td>\n",
       "      <td>usaid kenya</td>\n",
       "      <td>2025-05-26</td>\n",
       "      <td>the life story of ecomobilus technologies limi...</td>\n",
       "      <td>the life story of ecomobilus technologies limi...</td>\n",
       "      <td>[life, story, ecomobilus, technology, limited,...</td>\n",
       "    </tr>\n",
       "    <tr>\n",
       "      <th>2</th>\n",
       "      <td>Death, Sexual Violence and Human Trafficking: ...</td>\n",
       "      <td>by Brett Murphy and Anna Maria Barry-Jester \\n...</td>\n",
       "      <td>ProPublica is a nonprofit newsroom that invest...</td>\n",
       "      <td>https://www.propublica.org/article/trump-usaid...</td>\n",
       "      <td>usaid kenya</td>\n",
       "      <td>2025-05-28</td>\n",
       "      <td>death sexual violence and human trafficking fa...</td>\n",
       "      <td>death sexual violence and human trafficking fa...</td>\n",
       "      <td>[death, sexual, violence, human, trafficking, ...</td>\n",
       "    </tr>\n",
       "    <tr>\n",
       "      <th>3</th>\n",
       "      <td>Congress Should Quickly Approve Trump’s Rescis...</td>\n",
       "      <td>President Donald Trump‘s rescission legislatio...</td>\n",
       "      <td>President Donald Trumps rescission legislation...</td>\n",
       "      <td>https://www.dailysignal.com/2025/06/10/congres...</td>\n",
       "      <td>usaid kenya</td>\n",
       "      <td>2025-06-10</td>\n",
       "      <td>congress should quickly approve trump’s rescis...</td>\n",
       "      <td>congress should quickly approve trump’s rescis...</td>\n",
       "      <td>[congress, quickly, approve, trump, ’, s, resc...</td>\n",
       "    </tr>\n",
       "    <tr>\n",
       "      <th>4</th>\n",
       "      <td>Food Safety Depends On Every Link In The Suppl...</td>\n",
       "      <td>Almost 1 in 10 people globally fall ill from c...</td>\n",
       "      <td>Colorful fish and vegetables can be purchased ...</td>\n",
       "      <td>https://www.forbes.com/sites/daniellenierenber...</td>\n",
       "      <td>usaid kenya</td>\n",
       "      <td>2025-06-06</td>\n",
       "      <td>food safety depends on every link in the suppl...</td>\n",
       "      <td>food safety depends on every link in the suppl...</td>\n",
       "      <td>[food, safety, depends, every, link, supply, c...</td>\n",
       "    </tr>\n",
       "  </tbody>\n",
       "</table>\n",
       "</div>"
      ],
      "text/plain": [
       "                                               title  \\\n",
       "0    Has DOGE really saved the US government $180bn?   \n",
       "1  The Life Story of Ecomobilus Technologies Limi...   \n",
       "2  Death, Sexual Violence and Human Trafficking: ...   \n",
       "3  Congress Should Quickly Approve Trump’s Rescis...   \n",
       "4  Food Safety Depends On Every Link In The Suppl...   \n",
       "\n",
       "                                         description  \\\n",
       "0  Elon Musk first claimed the department would m...   \n",
       "1  By Prof Geoffrey Gitau Here is a story showcas...   \n",
       "2  by Brett Murphy and Anna Maria Barry-Jester \\n...   \n",
       "3  President Donald Trump‘s rescission legislatio...   \n",
       "4  Almost 1 in 10 people globally fall ill from c...   \n",
       "\n",
       "                                                text  \\\n",
       "0  President Donald Trump and adviser Elon Musk c...   \n",
       "1  By Prof Geoffrey Gitau\\r\\nHere is a story show...   \n",
       "2  ProPublica is a nonprofit newsroom that invest...   \n",
       "3  President Donald Trumps rescission legislation...   \n",
       "4  Colorful fish and vegetables can be purchased ...   \n",
       "\n",
       "                                                 url      keyword  \\\n",
       "0  https://www.aljazeera.com/news/2025/6/6/has-do...  usaid kenya   \n",
       "1  https://cleantechnica.com/2025/05/26/the-life-...  usaid kenya   \n",
       "2  https://www.propublica.org/article/trump-usaid...  usaid kenya   \n",
       "3  https://www.dailysignal.com/2025/06/10/congres...  usaid kenya   \n",
       "4  https://www.forbes.com/sites/daniellenierenber...  usaid kenya   \n",
       "\n",
       "  published_date                                          full_text  \\\n",
       "0     2025-06-06  has doge really saved the us government 180bn ...   \n",
       "1     2025-05-26  the life story of ecomobilus technologies limi...   \n",
       "2     2025-05-28  death sexual violence and human trafficking fa...   \n",
       "3     2025-06-10  congress should quickly approve trump’s rescis...   \n",
       "4     2025-06-06  food safety depends on every link in the suppl...   \n",
       "\n",
       "                                        cleaned_text  \\\n",
       "0  has doge really saved the us government 180bn ...   \n",
       "1  the life story of ecomobilus technologies limi...   \n",
       "2  death sexual violence and human trafficking fa...   \n",
       "3  congress should quickly approve trump’s rescis...   \n",
       "4  food safety depends on every link in the suppl...   \n",
       "\n",
       "                                      cleaned_tokens  \n",
       "0  [doge, really, saved, u, government, 180bn, el...  \n",
       "1  [life, story, ecomobilus, technology, limited,...  \n",
       "2  [death, sexual, violence, human, trafficking, ...  \n",
       "3  [congress, quickly, approve, trump, ’, s, resc...  \n",
       "4  [food, safety, depends, every, link, supply, c...  "
      ]
     },
     "execution_count": 95,
     "metadata": {},
     "output_type": "execute_result"
    }
   ],
   "source": [
    "news_df.drop(columns=['language','tokens'],inplace=True)\n",
    "news_df.head()"
   ]
  },
  {
   "cell_type": "code",
   "execution_count": 96,
   "id": "6d5524d8",
   "metadata": {},
   "outputs": [
    {
     "data": {
      "text/plain": [
       "['may',\n",
       " 'update',\n",
       " 'every',\n",
       " 'month',\n",
       " 'send',\n",
       " 'email',\n",
       " 'newsletter',\n",
       " 'supporter',\n",
       " 'sharing',\n",
       " 'recent',\n",
       " 'update',\n",
       " 'work',\n",
       " 'publish',\n",
       " 'selected',\n",
       " 'portion',\n",
       " 'newsletter',\n",
       " 'blog',\n",
       " 'make',\n",
       " 'news',\n",
       " 'accessible',\n",
       " 'people',\n",
       " 'visit',\n",
       " 'website',\n",
       " 'key',\n",
       " 'update',\n",
       " 'latest',\n",
       " 'insta',\n",
       " 'every',\n",
       " 'month',\n",
       " 'send',\n",
       " 'email',\n",
       " 'newsletter',\n",
       " 'supporter',\n",
       " 'sharing',\n",
       " 'recent',\n",
       " 'update',\n",
       " 'work',\n",
       " 'publish',\n",
       " 'selected',\n",
       " 'portion',\n",
       " 'newsletter',\n",
       " 'blog',\n",
       " 'make',\n",
       " 'news',\n",
       " 'accessible',\n",
       " 'people']"
      ]
     },
     "execution_count": 96,
     "metadata": {},
     "output_type": "execute_result"
    }
   ],
   "source": [
    "news_df.iloc[10]['cleaned_tokens']"
   ]
  },
  {
   "cell_type": "code",
   "execution_count": 97,
   "id": "95f8ccd5",
   "metadata": {},
   "outputs": [
    {
     "data": {
      "text/plain": [
       "(2281, 9)"
      ]
     },
     "execution_count": 97,
     "metadata": {},
     "output_type": "execute_result"
    }
   ],
   "source": [
    "news_df.shape"
   ]
  },
  {
   "cell_type": "markdown",
   "id": "ddf2af03",
   "metadata": {},
   "source": [
    "## Exploratory Data Analysis"
   ]
  },
  {
   "cell_type": "markdown",
   "id": "4efb5933",
   "metadata": {},
   "source": [
    "### 1. Basic Structure & Distribution"
   ]
  },
  {
   "cell_type": "markdown",
   "id": "72c18460",
   "metadata": {},
   "source": [
    "### Count of records per source (Reddit vs News)."
   ]
  },
  {
   "cell_type": "code",
   "execution_count": 98,
   "id": "05151869",
   "metadata": {},
   "outputs": [
    {
     "name": "stdout",
     "output_type": "stream",
     "text": [
      "Reddit records: 1126\n",
      "News records: 2281\n"
     ]
    },
    {
     "data": {
      "image/png": "[encoded data removed]",
      "text/plain": [
       "<Figure size 432x288 with 1 Axes>"
      ]
     },
     "metadata": {
      "needs_background": "light"
     },
     "output_type": "display_data"
    }
   ],
   "source": [
    "import pandas as pd\n",
    "import seaborn as sns\n",
    "import matplotlib.pyplot as plt\n",
    "\n",
    "print(f\"Reddit records: {len(reddit_df)}\")\n",
    "print(f\"News records: {len(news_df)}\")\n",
    "\n",
    "#Plot as bar chart\n",
    "plt.bar(['Reddit', 'News'], [len(reddit_df), len(news_df)])\n",
    "plt.title('Record Count by Source')\n",
    "plt.ylabel('Count')\n",
    "plt.show()"
   ]
  },
  {
   "cell_type": "markdown",
   "id": "d39ebc83",
   "metadata": {},
   "source": [
    "### Posting frequency over time"
   ]
  },
  {
   "cell_type": "code",
   "execution_count": 99,
   "id": "6155924d",
   "metadata": {},
   "outputs": [],
   "source": [
    "#Confirm dates are in datetime format\n",
    "reddit_df['published_date'] = pd.to_datetime(reddit_df['published_date'])\n",
    "news_df['published_date'] = pd.to_datetime(news_df['published_date'])"
   ]
  },
  {
   "cell_type": "code",
   "execution_count": 100,
   "id": "9a91e738",
   "metadata": {},
   "outputs": [],
   "source": [
    "#Add 'source' column to each\n",
    "reddit_df['source'] = 'Reddit'\n",
    "news_df['source'] = 'News'\n"
   ]
  },
  {
   "cell_type": "code",
   "execution_count": 101,
   "id": "469ebc3a",
   "metadata": {},
   "outputs": [],
   "source": [
    "#Combine both datasets\n",
    "import pandas as pd\n",
    "\n",
    "combined_df = pd.concat([reddit_df, news_df], ignore_index=True)\n",
    "\n",
    "# Filter for 2025 data\n",
    "combined_df = combined_df[combined_df['published_date'].dt.year == 2025] #because we are focusing on the year Trump announced the USAID budget cuts\n"
   ]
  },
  {
   "cell_type": "markdown",
   "id": "9074c85b",
   "metadata": {},
   "source": [
    "#### Daily Posting Frequency"
   ]
  },
  {
   "cell_type": "code",
   "execution_count": 102,
   "id": "8cb25e77",
   "metadata": {},
   "outputs": [
    {
     "data": {
      "image/png": "[encoded data removed]",
      "text/plain": [
       "<Figure size 1008x720 with 1 Axes>"
      ]
     },
     "metadata": {
      "needs_background": "light"
     },
     "output_type": "display_data"
    }
   ],
   "source": [
    "import matplotlib.pyplot as plt\n",
    "import matplotlib.dates as mdates\n",
    "\n",
    "# Group by date and source\n",
    "daily_counts = combined_df.groupby(\n",
    "    [combined_df['published_date'].dt.date, 'source']\n",
    ").size().unstack(fill_value=0)\n",
    "\n",
    "# Plot\n",
    "fig, ax = plt.subplots(figsize=(14, 10))\n",
    "lines = daily_counts.plot(kind='line', ax=ax)\n",
    "\n",
    "# Title and labels\n",
    "ax.set_title(' Daily Posting Frequency (2025)')\n",
    "ax.set_xlabel('Month')\n",
    "ax.set_ylabel('Number of Posts')\n",
    "ax.grid(True)\n",
    "ax.legend(title='Source')\n",
    "\n",
    "# Format x-axis to show month names\n",
    "ax.xaxis.set_major_locator(mdates.MonthLocator())\n",
    "ax.xaxis.set_major_formatter(mdates.DateFormatter('%B'))\n",
    "plt.xticks(rotation=45)\n",
    "\n",
    "# Annotate counts\n",
    "for line in lines.get_lines():\n",
    "    data = line.get_xydata()\n",
    "    for x, y in data:\n",
    "        if y > 0:\n",
    "            ax.annotate(\n",
    "                f'{int(y)}',\n",
    "                (x, y),\n",
    "                textcoords=\"offset points\",\n",
    "                xytext=(0, 5),\n",
    "                ha='center',\n",
    "                fontsize=8,\n",
    "                color=line.get_color()\n",
    "            )\n",
    "\n",
    "plt.tight_layout()\n",
    "plt.show()\n"
   ]
  },
  {
   "cell_type": "markdown",
   "id": "a80b16a4",
   "metadata": {},
   "source": [
    "Observations and Insights\n",
    "\n",
    "To be updated here!!!!!!!!!!!!!!!!!!!!!!\n",
    "\n",
    "\n",
    "\n",
    "\n"
   ]
  },
  {
   "cell_type": "markdown",
   "id": "6596b8b6",
   "metadata": {},
   "source": [
    "#### Weekly Posting Fequency"
   ]
  },
  {
   "cell_type": "code",
   "execution_count": 104,
   "id": "a68b49bc",
   "metadata": {},
   "outputs": [
    {
     "data": {
      "image/png": "[encoded data removed]",
      "text/plain": [
       "<Figure size 1008x720 with 1 Axes>"
      ]
     },
     "metadata": {
      "needs_background": "light"
     },
     "output_type": "display_data"
    }
   ],
   "source": [
    "import matplotlib.pyplot as plt\n",
    "import pandas as pd\n",
    "\n",
    "combined_df_2025 = combined_df[combined_df['published_date'].dt.year == 2025].copy()\n",
    "\n",
    "\n",
    "# Get week number and month name\n",
    "combined_df_2025['week_number'] = combined_df_2025['published_date'].dt.isocalendar().week\n",
    "combined_df_2025['month_name'] = combined_df_2025['published_date'].dt.strftime('%b')\n",
    "\n",
    "# Combine month and week number\n",
    "combined_df_2025['month_week_label'] = combined_df_2025['month_name'] + ' - W' + combined_df_2025['week_number'].astype(str)\n",
    "\n",
    "# Group by week and source\n",
    "weekly_counts = combined_df_2025.groupby(['month_week_label', 'source']).size().unstack(fill_value=0)\n",
    "\n",
    "# Sort the index by actual week number\n",
    "combined_df_2025['week_order'] = combined_df_2025['published_date'].dt.isocalendar().week\n",
    "order = combined_df_2025.drop_duplicates('month_week_label').sort_values('week_order')['month_week_label']\n",
    "weekly_counts = weekly_counts.reindex(order)\n",
    "\n",
    "# Plot\n",
    "ax = weekly_counts.plot(kind='bar', figsize=(14, 10))\n",
    "\n",
    "plt.title('Weekly Posting Frequency (2025)')\n",
    "plt.xlabel('Week (Month - Week #)')\n",
    "plt.ylabel('Number of Posts')\n",
    "plt.xticks(rotation=45, ha='right')\n",
    "plt.grid(axis='y')\n",
    "plt.legend(title='Source')\n",
    "plt.tight_layout()\n",
    "\n",
    "# Annotate bars\n",
    "for container in ax.containers:\n",
    "    for bar in container:\n",
    "        height = bar.get_height()\n",
    "        if height > 0:\n",
    "            ax.annotate(f'{int(height)}',\n",
    "                        xy=(bar.get_x() + bar.get_width() / 2, height),\n",
    "                        xytext=(0, 3),\n",
    "                        textcoords='offset points',\n",
    "                        ha='center',\n",
    "                        fontsize=8)\n",
    "\n",
    "plt.show()\n"
   ]
  },
  {
   "cell_type": "markdown",
   "id": "d32f80f3",
   "metadata": {},
   "source": [
    "Observations and Insights\n",
    "\n",
    "To be updated here!!!!!!!!!!!!!!!!!!!!!!\n",
    "\n",
    "\n",
    "\n",
    "\n"
   ]
  },
  {
   "cell_type": "markdown",
   "id": "d4cd5153",
   "metadata": {},
   "source": [
    "#### Monthly Posting Frequency"
   ]
  },
  {
   "cell_type": "code",
   "execution_count": 105,
   "id": "f896e102",
   "metadata": {},
   "outputs": [
    {
     "data": {
      "image/png": "[encoded data removed]",
      "text/plain": [
       "<Figure size 1008x720 with 1 Axes>"
      ]
     },
     "metadata": {
      "needs_background": "light"
     },
     "output_type": "display_data"
    }
   ],
   "source": [
    "import matplotlib.pyplot as plt\n",
    "\n",
    "# Group by month and source\n",
    "monthly_counts = combined_df.groupby(\n",
    "    [combined_df['published_date'].dt.to_period('M'), 'source']\n",
    ").size().unstack(fill_value=0)\n",
    "\n",
    "\n",
    "monthly_counts.index = monthly_counts.index.to_timestamp()\n",
    "\n",
    "# Create plot\n",
    "ax = monthly_counts.plot(kind='bar', figsize=(14, 10))\n",
    "\n",
    "# Format x-axis labels to show month names only\n",
    "ax.set_xticklabels([d.strftime('%B') for d in monthly_counts.index])\n",
    "\n",
    "# Annotate each bar\n",
    "for container in ax.containers:\n",
    "    ax.bar_label(container, \n",
    "                 label_type='edge', \n",
    "                 padding=2,\n",
    "                 fontsize=9,\n",
    "                 color='black',\n",
    "                 labels=[f'{v:,.0f}' if v > 0 else '' for v in container.datavalues])\n",
    "\n",
    "\n",
    "# Plot\n",
    "plt.title('Monthly Posting Frequency (2025)')\n",
    "plt.xlabel('Month')\n",
    "plt.ylabel('Number of Posts')\n",
    "plt.legend(title='Source')\n",
    "plt.xticks(rotation=45)\n",
    "plt.tight_layout()\n",
    "plt.show()\n"
   ]
  },
  {
   "cell_type": "markdown",
   "id": "904c7813",
   "metadata": {},
   "source": [
    "Observations and Insights\n",
    "\n",
    "To be updated here!!!!!!!!!!!!!!!!!!!!!!\n",
    "\n",
    "\n",
    "\n",
    "\n"
   ]
  },
  {
   "cell_type": "markdown",
   "id": "d25456ee",
   "metadata": {},
   "source": [
    "### 2. Text Content Exploration"
   ]
  },
  {
   "cell_type": "markdown",
   "id": "06aa05e6",
   "metadata": {},
   "source": [
    "Unigrams = single-word tokens\n",
    "\n",
    "Bigrams = 2-word tokens\n",
    "\n",
    "Trigrams = 3-word tokens"
   ]
  },
  {
   "cell_type": "markdown",
   "id": "05b5f838",
   "metadata": {},
   "source": [
    "### Most common words and phrases"
   ]
  },
  {
   "cell_type": "code",
   "execution_count": 107,
   "id": "8f9e1917",
   "metadata": {},
   "outputs": [
    {
     "name": "stdout",
     "output_type": "stream",
     "text": [
      "\n",
      "🔹 News Unigrams:\n",
      "[('trump', 1472), ('aid', 749), ('cuts', 706), ('president', 629), ('musk', 625), ('house', 589), ('funding', 531), ('donald', 513), ('elon', 475), ('new', 443)]\n",
      "\n",
      "🔹 News Bigrams:\n",
      "[('elon musk', 406), ('donald trump', 346), ('president donald', 336), ('trump administration', 278), ('foreign aid', 214), ('white house', 212), ('united states', 160), ('donald trumps', 142), ('public broadcasting', 128), ('big beautiful', 121)]\n",
      "\n",
      "🔹 News Trigrams:\n",
      "[('president donald trump', 198), ('president donald trumps', 122), ('department government efficiency', 59), ('agency international development', 48), ('propublica nonprofit newsroom', 47), ('nonprofit newsroom investigates', 47), ('newsroom investigates abuses', 47), ('investigates abuses power', 47), ('abuses power sign', 47), ('receive biggest stories', 47)]\n",
      "\n",
      "🔸 Reddit Unigrams:\n",
      "[('kenya', 840), ('like', 818), ('people', 687), ('country', 491), ('usaid', 459), ('africa', 412), ('foreign', 401), ('kenyan', 397), ('know', 391), ('aid', 377)]\n",
      "\n",
      "🔸 Reddit Bigrams:\n",
      "[('foreign aid', 223), ('south africa', 60), ('dont know', 53), ('african country', 50), ('karibu na', 41), ('feel like', 37), ('baba manner', 37), ('social medium', 34), ('world bank', 33), ('foreign policy', 31)]\n",
      "\n",
      "🔸 Reddit Trigrams:\n",
      "[('karibu na mzuri', 25), ('foreign aid freeze', 20), ('long story short', 15), ('foreign aid cut', 15), ('president william ruto', 13), ('trump foreign aid', 13), ('pesa juzi juzi', 12), ('billion foreign direct', 12), ('foreign direct investment', 12), ('direct investment fdi', 12)]\n"
     ]
    }
   ],
   "source": [
    "from sklearn.feature_extraction.text import CountVectorizer\n",
    "import pandas as pd\n",
    "\n",
    "\n",
    "def get_top_ngrams(corpus, ngram_range=(1, 1), n=None):\n",
    "    vec = CountVectorizer(ngram_range=ngram_range, stop_words='english')\n",
    "    bag_of_words = vec.fit_transform(corpus)\n",
    "    sum_words = bag_of_words.sum(axis=0) \n",
    "    words_freq = [(word, sum_words[0, idx]) for word, idx in vec.vocabulary_.items()]\n",
    "    words_freq = sorted(words_freq, key=lambda x: x[1], reverse=True)\n",
    "    return words_freq[:n]\n",
    "\n",
    "# top 10 for each\n",
    "top_n = 10\n",
    "\n",
    "# News Data\n",
    "print(\"\\n🔹 News Unigrams:\")\n",
    "print(get_top_ngrams(news_df['cleaned_text'], (1,1), top_n))\n",
    "\n",
    "print(\"\\n🔹 News Bigrams:\")\n",
    "print(get_top_ngrams(news_df['cleaned_text'], (2,2), top_n))\n",
    "\n",
    "print(\"\\n🔹 News Trigrams:\")\n",
    "print(get_top_ngrams(news_df['cleaned_text'], (3,3), top_n))\n",
    "\n",
    "# Reddit Data\n",
    "print(\"\\n🔸 Reddit Unigrams:\")\n",
    "print(get_top_ngrams(reddit_df['cleaned_text'], (1,1), top_n))\n",
    "\n",
    "print(\"\\n🔸 Reddit Bigrams:\")\n",
    "print(get_top_ngrams(reddit_df['cleaned_text'], (2,2), top_n))\n",
    "\n",
    "print(\"\\n🔸 Reddit Trigrams:\")\n",
    "print(get_top_ngrams(reddit_df['cleaned_text'], (3,3), top_n))\n"
   ]
  },
  {
   "cell_type": "code",
   "execution_count": 117,
   "id": "f82a87a9",
   "metadata": {},
   "outputs": [
    {
     "name": "stdout",
     "output_type": "stream",
     "text": [
      "Requirement already satisfied: wordcloud in c:\\programdata\\anaconda3\\lib\\site-packages (1.9.3)\n",
      "Requirement already satisfied: numpy>=1.6.1 in c:\\programdata\\anaconda3\\lib\\site-packages (from wordcloud) (1.20.3)\n",
      "Requirement already satisfied: pillow in c:\\programdata\\anaconda3\\lib\\site-packages (from wordcloud) (8.4.0)\n",
      "Requirement already satisfied: matplotlib in c:\\programdata\\anaconda3\\lib\\site-packages (from wordcloud) (3.4.3)\n",
      "Requirement already satisfied: cycler>=0.10 in c:\\programdata\\anaconda3\\lib\\site-packages (from matplotlib->wordcloud) (0.10.0)\n",
      "Requirement already satisfied: kiwisolver>=1.0.1 in c:\\programdata\\anaconda3\\lib\\site-packages (from matplotlib->wordcloud) (1.3.1)"
     ]
    },
    {
     "name": "stderr",
     "output_type": "stream",
     "text": [
      "WARNING: Ignoring invalid distribution -rkupsafe (c:\\programdata\\anaconda3\\lib\\site-packages)\n",
      "WARNING: Ignoring invalid distribution - (c:\\programdata\\anaconda3\\lib\\site-packages)\n",
      "WARNING: Ignoring invalid distribution -rkupsafe (c:\\programdata\\anaconda3\\lib\\site-packages)\n",
      "WARNING: Ignoring invalid distribution -arkupsafe (c:\\programdata\\anaconda3\\lib\\site-packages)\n",
      "WARNING: Ignoring invalid distribution -cikit-learn (c:\\programdata\\anaconda3\\lib\\site-packages)\n",
      "WARNING: Ignoring invalid distribution -equests (c:\\programdata\\anaconda3\\lib\\site-packages)\n",
      "WARNING: Ignoring invalid distribution -quests (c:\\programdata\\anaconda3\\lib\\site-packages)\n",
      "WARNING: Error parsing dependencies of pyodbc: Invalid version: '4.0.0-unsupported'\n",
      "WARNING: Ignoring invalid distribution -rkupsafe (c:\\programdata\\anaconda3\\lib\\site-packages)\n",
      "WARNING: Ignoring invalid distribution - (c:\\programdata\\anaconda3\\lib\\site-packages)\n",
      "WARNING: Ignoring invalid distribution -rkupsafe (c:\\programdata\\anaconda3\\lib\\site-packages)\n",
      "WARNING: Ignoring invalid distribution -arkupsafe (c:\\programdata\\anaconda3\\lib\\site-packages)\n"
     ]
    },
    {
     "name": "stdout",
     "output_type": "stream",
     "text": [
      "\n",
      "Requirement already satisfied: pyparsing>=2.2.1 in c:\\programdata\\anaconda3\\lib\\site-packages (from matplotlib->wordcloud) (3.0.4)\n",
      "Requirement already satisfied: python-dateutil>=2.7 in c:\\programdata\\anaconda3\\lib\\site-packages (from matplotlib->wordcloud) (2.8.2)\n",
      "Requirement already satisfied: six in c:\\programdata\\anaconda3\\lib\\site-packages (from cycler>=0.10->matplotlib->wordcloud) (1.16.0)\n"
     ]
    },
    {
     "name": "stderr",
     "output_type": "stream",
     "text": [
      "WARNING: Ignoring invalid distribution -cikit-learn (c:\\programdata\\anaconda3\\lib\\site-packages)\n",
      "WARNING: Ignoring invalid distribution -equests (c:\\programdata\\anaconda3\\lib\\site-packages)\n",
      "WARNING: Ignoring invalid distribution -quests (c:\\programdata\\anaconda3\\lib\\site-packages)\n",
      "\n",
      "[notice] A new release of pip is available: 24.2 -> 25.1.1\n",
      "[notice] To update, run: python.exe -m pip install --upgrade pip\n",
      "ERROR: Exception:\n",
      "Traceback (most recent call last):\n",
      "  File \"C:\\Users\\hp\\AppData\\Roaming\\Python\\Python39\\site-packages\\pip\\_internal\\cli\\base_command.py\", line 105, in _run_wrapper\n",
      "    status = _inner_run()\n",
      "  File \"C:\\Users\\hp\\AppData\\Roaming\\Python\\Python39\\site-packages\\pip\\_internal\\cli\\base_command.py\", line 96, in _inner_run\n",
      "    return self.run(options, args)\n",
      "  File \"C:\\Users\\hp\\AppData\\Roaming\\Python\\Python39\\site-packages\\pip\\_internal\\cli\\req_command.py\", line 67, in wrapper\n",
      "    return func(self, options, args)\n",
      "  File \"C:\\Users\\hp\\AppData\\Roaming\\Python\\Python39\\site-packages\\pip\\_internal\\commands\\install.py\", line 483, in run\n",
      "    installed_versions[distribution.canonical_name] = distribution.version\n",
      "  File \"C:\\Users\\hp\\AppData\\Roaming\\Python\\Python39\\site-packages\\pip\\_internal\\metadata\\pkg_resources.py\", line 192, in version\n",
      "    return parse_version(self._dist.version)\n",
      "  File \"C:\\Users\\hp\\AppData\\Roaming\\Python\\Python39\\site-packages\\pip\\_vendor\\packaging\\version.py\", line 56, in parse\n",
      "    return Version(version)\n",
      "  File \"C:\\Users\\hp\\AppData\\Roaming\\Python\\Python39\\site-packages\\pip\\_vendor\\packaging\\version.py\", line 202, in __init__\n",
      "    raise InvalidVersion(f\"Invalid version: '{version}'\")\n",
      "pip._vendor.packaging.version.InvalidVersion: Invalid version: '4.0.0-unsupported'\n"
     ]
    }
   ],
   "source": [
    "!pip install wordcloud"
   ]
  },
  {
   "cell_type": "markdown",
   "id": "5009c7bc",
   "metadata": {},
   "source": [
    "### Stopword Frequency"
   ]
  },
  {
   "cell_type": "code",
   "execution_count": 128,
   "id": "bfad22dd",
   "metadata": {},
   "outputs": [
    {
     "name": "stdout",
     "output_type": "stream",
     "text": [
      "News Stopwords:\n",
      "the     8024\n",
      "to      4510\n",
      "of      3704\n",
      "a       3467\n",
      "in      3370\n",
      "and     3149\n",
      "for     1667\n",
      "on      1654\n",
      "is      1593\n",
      "that    1157\n",
      "dtype: int64\n",
      "\n",
      "Reddit Stopwords:\n",
      "there    80\n",
      "he       32\n",
      "who      30\n",
      "here     18\n",
      "m        12\n",
      "as        9\n",
      "do        3\n",
      "in        2\n",
      "me        2\n",
      "being     2\n",
      "dtype: int64\n"
     ]
    },
    {
     "data": {
      "image/png": "[encoded data removed]",
      "text/plain": [
       "<Figure size 1080x576 with 2 Axes>"
      ]
     },
     "metadata": {
      "needs_background": "light"
     },
     "output_type": "display_data"
    },
    {
     "name": "stdout",
     "output_type": "stream",
     "text": [
      "News Stopword Ratio: 34.5%\n",
      "Reddit Stopword Ratio: 0.1%\n"
     ]
    }
   ],
   "source": [
    "import matplotlib.pyplot as plt\n",
    "import numpy as np\n",
    "\n",
    "def plot_stopword_comparison(news_stops, reddit_stops, top_n=15):\n",
    "    plt.figure(figsize=(15, 8))\n",
    "    \n",
    "    \n",
    "    news_top = news_stops.head(top_n)\n",
    "    reddit_top = reddit_stops.head(top_n)\n",
    "    \n",
    "    # Create subplots\n",
    "    ax1 = plt.subplot(1, 2, 1)\n",
    "    ax1.barh(news_top.index[::-1], news_top.values[::-1], color='skyblue')\n",
    "    ax1.set_title('Top News Stopwords', fontsize=14)\n",
    "    ax1.set_xlabel('Frequency')\n",
    "    \n",
    "    ax2 = plt.subplot(1, 2, 2)\n",
    "    ax2.barh(reddit_top.index[::-1], reddit_top.values[::-1], color='salmon')\n",
    "    ax2.set_title('Top Reddit Stopwords', fontsize=14)\n",
    "    ax2.set_xlabel('Frequency')\n",
    "    \n",
    "    plt.tight_layout()\n",
    "    plt.show()\n",
    "\n",
    "\n",
    "print(\"News Stopwords:\")\n",
    "print(news_top_stopwords.head(10))\n",
    "print(\"\\nReddit Stopwords:\")\n",
    "print(reddit_top_stopwords.head(10))\n",
    "\n",
    "plot_stopword_comparison(news_top_stopwords, reddit_top_stopwords)\n",
    "\n",
    "\n",
    "print(f\"News Stopword Ratio: {news_ratio:.1f}%\")\n",
    "print(f\"Reddit Stopword Ratio: {reddit_ratio:.1f}%\")\n"
   ]
  },
  {
   "cell_type": "code",
   "execution_count": 122,
   "id": "3c9502f4",
   "metadata": {},
   "outputs": [
    {
     "name": "stdout",
     "output_type": "stream",
     "text": [
      "News Stopword Bigrams:\n",
      "                bigram  count\n",
      "8325   crumbles doing     22\n",
      "10501   doing lasting     22\n",
      "19062     just trying     11\n",
      "19026       just drop     10\n",
      "18338       isnt just     10\n",
      "3885     billion just     10\n",
      "22451      money just      9\n",
      "20477     limits just      8\n",
      "19054  just political      8\n",
      "11786   epidemic just      7\n",
      "\n",
      "Reddit Stopword Bigrams:\n",
      "                bigram  count\n",
      "16591        don know     18\n",
      "61972         ve seen     14\n",
      "61946          ve got      9\n",
      "12544  corruption won      7\n",
      "64298         won fix      7\n",
      "12524  corruption isn      7\n",
      "30884     kenya doesn      6\n",
      "61950        ve heard      6\n",
      "16584    don generate      6\n",
      "16599        don need      6\n"
     ]
    }
   ],
   "source": [
    "def get_stopword_bigrams(text_series, top_n=10):\n",
    "    vectorizer = CountVectorizer(ngram_range=(2,2), stop_words='english')\n",
    "    X = vectorizer.fit_transform(text_series.dropna())\n",
    "    bigrams = vectorizer.get_feature_names_out()\n",
    "    counts = X.sum(axis=0).A1\n",
    "    bigram_df = pd.DataFrame({'bigram': bigrams, 'count': counts})\n",
    "    \n",
    "    # Filter for bigrams containing at least one stopword\n",
    "    stopword_bigrams = bigram_df[bigram_df['bigram'].str.split().apply(\n",
    "        lambda x: any(word in stopwords_set for word in x)\n",
    "    )].sort_values('count', ascending=False).head(top_n)\n",
    "    \n",
    "    return stopword_bigrams\n",
    "\n",
    "news_stopword_bigrams = get_stopword_bigrams(news_df['cleaned_text'])\n",
    "reddit_stopword_bigrams = get_stopword_bigrams(reddit_df['cleaned_text'])\n",
    "\n",
    "print(\"News Stopword Bigrams:\\n\", news_stopword_bigrams)\n",
    "print(\"\\nReddit Stopword Bigrams:\\n\", reddit_stopword_bigrams)"
   ]
  },
  {
   "cell_type": "code",
   "execution_count": 130,
   "id": "13f03c54",
   "metadata": {},
   "outputs": [],
   "source": [
    "# import matplotlib.pyplot as plt\n",
    "# import pandas as pd\n",
    "\n",
    "# # Calculate absolute frequencies and percentages\n",
    "# def analyze_stopwords(df, name):\n",
    "#     total_words = df['cleaned_text'].str.split().explode().count()\n",
    "#     stopwords = df['cleaned_text'].str.split().explode().apply(\n",
    "#         lambda x: x.lower() in stopwords_set).sum()\n",
    "#     return {\n",
    "#         'total_words': total_words,\n",
    "#         'stopword_count': stopwords,\n",
    "#         'stopword_ratio': (stopwords/total_words)*100\n",
    "#     }\n",
    "\n",
    "# news_stats = analyze_stopwords(news_df, \"News\")\n",
    "# reddit_stats = analyze_stopwords(reddit_df, \"Reddit\")\n",
    "\n",
    "# # Create comparison table\n",
    "# comparison = pd.DataFrame([news_stats, reddit_stats], index=['News', 'Reddit'])\n",
    "# print(comparison[['total_words', 'stopword_count', 'stopword_ratio']])"
   ]
  },
  {
   "cell_type": "code",
   "execution_count": null,
   "id": "188b9391",
   "metadata": {},
   "outputs": [],
   "source": []
  }
 ],
 "metadata": {
  "kernelspec": {
   "display_name": "Python 3 (ipykernel)",
   "language": "python",
   "name": "python3"
  },
  "language_info": {
   "codemirror_mode": {
    "name": "ipython",
    "version": 3
   },
   "file_extension": ".py",
   "mimetype": "text/x-python",
   "name": "python",
   "nbconvert_exporter": "python",
   "pygments_lexer": "ipython3",
   "version": "3.9.7"
  }
 },
 "nbformat": 4,
 "nbformat_minor": 5
}
