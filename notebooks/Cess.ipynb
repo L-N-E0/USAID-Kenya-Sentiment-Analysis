{
 "cells": [
  {
   "cell_type": "markdown",
   "id": "962045ac",
   "metadata": {},
   "source": [
    "# USAID-Kenya-Sentiment-Analysis"
   ]
  },
  {
   "cell_type": "code",
   "execution_count": 1,
   "id": "d54b44fc",
   "metadata": {},
   "outputs": [],
   "source": [
    "# import pandas as pd\n"
   ]
  },
  {
   "cell_type": "code",
   "execution_count": 2,
   "id": "956d9b55",
   "metadata": {},
   "outputs": [],
   "source": [
    "# reddit_df = pd.read_csv('C:/Users/hp/Desktop/DATA NEXUS PROJECTS/USAID-Kenya-Sentiment-Analysis/data/raw/reddit_data/cecilia.redditsubs.csv')\n",
    "# reddit_df.head()"
   ]
  },
  {
   "cell_type": "code",
   "execution_count": 3,
   "id": "0f15ce52",
   "metadata": {},
   "outputs": [],
   "source": [
    "# reddit_df.tail()"
   ]
  },
  {
   "cell_type": "code",
   "execution_count": 4,
   "id": "821fedde",
   "metadata": {},
   "outputs": [],
   "source": [
    "# reddit_df.info()"
   ]
  },
  {
   "cell_type": "code",
   "execution_count": 5,
   "id": "35a594ac",
   "metadata": {},
   "outputs": [],
   "source": [
    "# reddit_df.columns"
   ]
  },
  {
   "cell_type": "markdown",
   "id": "1fb0fece",
   "metadata": {},
   "source": [
    "<!-- **Column description**\n",
    "\n",
    "subreddit: The community name \n",
    "\n",
    "keyword: Topic keywords\n",
    "\n",
    "title: Post title\n",
    "\n",
    "text: Main post content \n",
    "\n",
    "date_posted: When it was posted\n",
    "\n",
    "upvotes: Number of upvotes\n",
    "\n",
    "comments: Number of comments\n",
    "\n",
    "url: Link to external content\n",
    "\n",
    "permalink: Link to the Reddit post -->"
   ]
  },
  {
   "cell_type": "code",
   "execution_count": 6,
   "id": "468714ba",
   "metadata": {},
   "outputs": [],
   "source": [
    "# reddit_df.shape"
   ]
  },
  {
   "cell_type": "code",
   "execution_count": 7,
   "id": "96b6cb5f",
   "metadata": {},
   "outputs": [],
   "source": [
    "# reddit_df['text'].sample(20)"
   ]
  },
  {
   "cell_type": "code",
   "execution_count": 8,
   "id": "e28c4d0c",
   "metadata": {},
   "outputs": [],
   "source": [
    "# example = reddit_df['text'][4]\n",
    "# print(example)"
   ]
  },
  {
   "cell_type": "code",
   "execution_count": 9,
   "id": "84be1972",
   "metadata": {},
   "outputs": [],
   "source": [
    "# #fill in missing text with 'missing' instead of dropping NaN\n",
    "# reddit_df['text'] = reddit_df['text'].fillna('MISSING')\n",
    "# reddit_df['text'].head(40)"
   ]
  },
  {
   "cell_type": "code",
   "execution_count": 10,
   "id": "cb6b3e52",
   "metadata": {},
   "outputs": [],
   "source": [
    "# #check for duplicates\n",
    "# reddit_df.duplicated().value_counts()"
   ]
  },
  {
   "cell_type": "code",
   "execution_count": 11,
   "id": "f1aeae95",
   "metadata": {},
   "outputs": [],
   "source": [
    "# def clean_text(text):\n",
    "#     if not isinstance(text, str):\n",
    "#         return text\n",
    "    \n",
    "#     # Remove extra whitespace\n",
    "#     text = ' '.join(text.split())\n",
    "    \n",
    "#     # Replace line breaks with space\n",
    "#     text = text.replace('\\n', ' ')\n",
    "    \n",
    "#     # Remove special Reddit characters\n",
    "#     text = text.replace('&amp;', '&')\n",
    "#     text = text.replace('&gt;', '>')\n",
    "#     text = text.replace('&lt;', '<')\n",
    "    \n",
    "#     return text.strip()\n",
    "\n",
    "# # Apply to both title and text columns\n",
    "# reddit_df['title'] = reddit_df['title'].apply(clean_text)\n",
    "# reddit_df['text'] = reddit_df['text'].apply(clean_text)"
   ]
  },
  {
   "cell_type": "code",
   "execution_count": 12,
   "id": "327496db",
   "metadata": {},
   "outputs": [],
   "source": [
    "# reddit_df['text'].head(40)"
   ]
  },
  {
   "cell_type": "code",
   "execution_count": 13,
   "id": "b71446c5",
   "metadata": {},
   "outputs": [],
   "source": [
    "# reddit_df['date_posted'] = pd.to_datetime(reddit_df['date_posted'])\n",
    "# reddit_df.head()"
   ]
  },
  {
   "cell_type": "code",
   "execution_count": 14,
   "id": "2f302c1a",
   "metadata": {},
   "outputs": [],
   "source": [
    "# example = reddit_df['text'][4]\n",
    "# print(example)"
   ]
  },
  {
   "cell_type": "code",
   "execution_count": 15,
   "id": "2445a9f7",
   "metadata": {},
   "outputs": [],
   "source": [
    "# import nltk"
   ]
  },
  {
   "cell_type": "code",
   "execution_count": 16,
   "id": "cd2602ec",
   "metadata": {},
   "outputs": [],
   "source": [
    "# reddit_df2 = pd.read_csv('C:/Users/hp/Desktop/DATA NEXUS PROJECTS/USAID-Kenya-Sentiment-Analysis/data/raw/reddit_data/Agatha_reddit.csv')\n",
    "# reddit_df2.head()"
   ]
  },
  {
   "cell_type": "code",
   "execution_count": 17,
   "id": "1b91a200",
   "metadata": {},
   "outputs": [],
   "source": [
    "# reddit_df3 = pd.read_csv('C:/Users/hp/Desktop/DATA NEXUS PROJECTS/USAID-Kenya-Sentiment-Analysis/data/raw/reddit_data/leo_reddit_posts.csv')\n",
    "# reddit_df3.head()"
   ]
  },
  {
   "cell_type": "code",
   "execution_count": 18,
   "id": "d9943d60",
   "metadata": {},
   "outputs": [],
   "source": [
    "# reddit_df4 = pd.read_csv('C:/Users/hp/Desktop/DATA NEXUS PROJECTS/USAID-Kenya-Sentiment-Analysis/data/raw/reddit_data/Mbego_reddit_usaid_kenya2.csv')\n",
    "# reddit_df4.head()"
   ]
  },
  {
   "cell_type": "code",
   "execution_count": 19,
   "id": "46f3d609",
   "metadata": {},
   "outputs": [],
   "source": [
    "# reddit_df3 = pd.read_csv('C:/Users/hp/Desktop/DATA NEXUS PROJECTS/USAID-Kenya-Sentiment-Analysis/data/raw/reddit_data/ruth_reddit.csv')\n",
    "# reddit_df3.head()"
   ]
  },
  {
   "cell_type": "markdown",
   "id": "bba900f4",
   "metadata": {},
   "source": [
    "#    Merging Reddit Files"
   ]
  },
  {
   "cell_type": "markdown",
   "id": "baf7b322",
   "metadata": {},
   "source": [
    "### Import neccessary libraries"
   ]
  },
  {
   "cell_type": "code",
   "execution_count": 20,
   "id": "3abdf207",
   "metadata": {},
   "outputs": [],
   "source": [
    "import pandas as pd\n",
    "import glob\n",
    "import os\n"
   ]
  },
  {
   "cell_type": "markdown",
   "id": "0cc0f60d",
   "metadata": {},
   "source": [
    "### Folder path"
   ]
  },
  {
   "cell_type": "code",
   "execution_count": 21,
   "id": "296fdc18",
   "metadata": {},
   "outputs": [],
   "source": [
    "folder_path = 'C:/Users/hp/Desktop/DATA NEXUS PROJECTS/USAID-Kenya-Sentiment-Analysis/data/raw/reddit_data'\n"
   ]
  },
  {
   "cell_type": "markdown",
   "id": "3070f6b5",
   "metadata": {},
   "source": [
    "### CSV file paths"
   ]
  },
  {
   "cell_type": "code",
   "execution_count": 22,
   "id": "b4d37712",
   "metadata": {},
   "outputs": [
    {
     "data": {
      "text/plain": [
       "['C:/Users/hp/Desktop/DATA NEXUS PROJECTS/USAID-Kenya-Sentiment-Analysis/data/raw/reddit_data\\\\Agatha_reddit.csv',\n",
       " 'C:/Users/hp/Desktop/DATA NEXUS PROJECTS/USAID-Kenya-Sentiment-Analysis/data/raw/reddit_data\\\\cecilia.redditsubs.csv',\n",
       " 'C:/Users/hp/Desktop/DATA NEXUS PROJECTS/USAID-Kenya-Sentiment-Analysis/data/raw/reddit_data\\\\cecilia.reddit_nbo_ke_africa.csv',\n",
       " 'C:/Users/hp/Desktop/DATA NEXUS PROJECTS/USAID-Kenya-Sentiment-Analysis/data/raw/reddit_data\\\\leo_reddit_posts.csv',\n",
       " 'C:/Users/hp/Desktop/DATA NEXUS PROJECTS/USAID-Kenya-Sentiment-Analysis/data/raw/reddit_data\\\\Mbego_reddit_usaid_kenya.csv',\n",
       " 'C:/Users/hp/Desktop/DATA NEXUS PROJECTS/USAID-Kenya-Sentiment-Analysis/data/raw/reddit_data\\\\Mbego_reddit_usaid_kenya2.csv',\n",
       " 'C:/Users/hp/Desktop/DATA NEXUS PROJECTS/USAID-Kenya-Sentiment-Analysis/data/raw/reddit_data\\\\reddit_usaid_sentiment.csv',\n",
       " 'C:/Users/hp/Desktop/DATA NEXUS PROJECTS/USAID-Kenya-Sentiment-Analysis/data/raw/reddit_data\\\\ruth_reddit.csv']"
      ]
     },
     "execution_count": 22,
     "metadata": {},
     "output_type": "execute_result"
    }
   ],
   "source": [
    "csv_files = glob.glob(os.path.join(folder_path, '*.csv'))\n",
    "csv_files"
   ]
  },
  {
   "cell_type": "markdown",
   "id": "8e32575e",
   "metadata": {},
   "source": [
    "### Reading the files and combining them into one dataframe"
   ]
  },
  {
   "cell_type": "code",
   "execution_count": 23,
   "id": "3eda41d9",
   "metadata": {},
   "outputs": [
    {
     "data": {
      "text/html": [
       "<div>\n",
       "<style scoped>\n",
       "    .dataframe tbody tr th:only-of-type {\n",
       "        vertical-align: middle;\n",
       "    }\n",
       "\n",
       "    .dataframe tbody tr th {\n",
       "        vertical-align: top;\n",
       "    }\n",
       "\n",
       "    .dataframe thead th {\n",
       "        text-align: right;\n",
       "    }\n",
       "</style>\n",
       "<table border=\"1\" class=\"dataframe\">\n",
       "  <thead>\n",
       "    <tr style=\"text-align: right;\">\n",
       "      <th></th>\n",
       "      <th>title</th>\n",
       "      <th>selftext</th>\n",
       "      <th>subreddit</th>\n",
       "      <th>author</th>\n",
       "      <th>created_utc</th>\n",
       "      <th>url</th>\n",
       "      <th>score</th>\n",
       "      <th>num_comments</th>\n",
       "      <th>keyword</th>\n",
       "      <th>source_file</th>\n",
       "      <th>text</th>\n",
       "      <th>date_posted</th>\n",
       "      <th>upvotes</th>\n",
       "      <th>comments</th>\n",
       "      <th>permalink</th>\n",
       "      <th>search_term</th>\n",
       "      <th>created_date</th>\n",
       "      <th>created</th>\n",
       "      <th>Unnamed: 0</th>\n",
       "    </tr>\n",
       "  </thead>\n",
       "  <tbody>\n",
       "    <tr>\n",
       "      <th>0</th>\n",
       "      <td>USAID left a month ago, do we have ARVs in Kenya?</td>\n",
       "      <td>Someone on a different group (different websit...</td>\n",
       "      <td>Kenya</td>\n",
       "      <td>muerki</td>\n",
       "      <td>2025-04-15 13:16:53</td>\n",
       "      <td>https://www.reddit.com/r/Kenya/comments/1jzrn2...</td>\n",
       "      <td>3.0</td>\n",
       "      <td>5.0</td>\n",
       "      <td>usaid kenya</td>\n",
       "      <td>Agatha_reddit.csv</td>\n",
       "      <td>NaN</td>\n",
       "      <td>NaN</td>\n",
       "      <td>NaN</td>\n",
       "      <td>NaN</td>\n",
       "      <td>NaN</td>\n",
       "      <td>NaN</td>\n",
       "      <td>NaN</td>\n",
       "      <td>NaN</td>\n",
       "      <td>NaN</td>\n",
       "    </tr>\n",
       "    <tr>\n",
       "      <th>1</th>\n",
       "      <td>Classism in r/Kenya and r/nairobi</td>\n",
       "      <td>The classism I'm seeing in both subs is a good...</td>\n",
       "      <td>Kenya</td>\n",
       "      <td>Morio_anzenza</td>\n",
       "      <td>2025-04-07 04:21:12</td>\n",
       "      <td>https://www.reddit.com/r/Kenya/comments/1jtcvb...</td>\n",
       "      <td>169.0</td>\n",
       "      <td>95.0</td>\n",
       "      <td>usaid kenya</td>\n",
       "      <td>Agatha_reddit.csv</td>\n",
       "      <td>NaN</td>\n",
       "      <td>NaN</td>\n",
       "      <td>NaN</td>\n",
       "      <td>NaN</td>\n",
       "      <td>NaN</td>\n",
       "      <td>NaN</td>\n",
       "      <td>NaN</td>\n",
       "      <td>NaN</td>\n",
       "      <td>NaN</td>\n",
       "    </tr>\n",
       "    <tr>\n",
       "      <th>2</th>\n",
       "      <td>EX-USAID people!! Let's talk</td>\n",
       "      <td>Are you still in contact with the organisation...</td>\n",
       "      <td>Kenya</td>\n",
       "      <td>vindtar</td>\n",
       "      <td>2025-04-05 19:09:10</td>\n",
       "      <td>https://www.reddit.com/r/Kenya/comments/1jsb14...</td>\n",
       "      <td>2.0</td>\n",
       "      <td>2.0</td>\n",
       "      <td>usaid kenya</td>\n",
       "      <td>Agatha_reddit.csv</td>\n",
       "      <td>NaN</td>\n",
       "      <td>NaN</td>\n",
       "      <td>NaN</td>\n",
       "      <td>NaN</td>\n",
       "      <td>NaN</td>\n",
       "      <td>NaN</td>\n",
       "      <td>NaN</td>\n",
       "      <td>NaN</td>\n",
       "      <td>NaN</td>\n",
       "    </tr>\n",
       "    <tr>\n",
       "      <th>3</th>\n",
       "      <td>Why western powers back Israel no matter what ...</td>\n",
       "      <td>I don't care what good book you read, but it's...</td>\n",
       "      <td>Kenya</td>\n",
       "      <td>Gold_Smart</td>\n",
       "      <td>2025-03-25 08:18:04</td>\n",
       "      <td>https://www.reddit.com/r/Kenya/comments/1jjehw...</td>\n",
       "      <td>13.0</td>\n",
       "      <td>20.0</td>\n",
       "      <td>usaid kenya</td>\n",
       "      <td>Agatha_reddit.csv</td>\n",
       "      <td>NaN</td>\n",
       "      <td>NaN</td>\n",
       "      <td>NaN</td>\n",
       "      <td>NaN</td>\n",
       "      <td>NaN</td>\n",
       "      <td>NaN</td>\n",
       "      <td>NaN</td>\n",
       "      <td>NaN</td>\n",
       "      <td>NaN</td>\n",
       "    </tr>\n",
       "    <tr>\n",
       "      <th>4</th>\n",
       "      <td>Is kenya capable of funding its needs now that...</td>\n",
       "      <td>How is kenya prepared to fill the vacuum of US...</td>\n",
       "      <td>Kenya</td>\n",
       "      <td>westmaxia</td>\n",
       "      <td>2025-03-08 08:08:58</td>\n",
       "      <td>https://www.reddit.com/r/Kenya/comments/1j6cjz...</td>\n",
       "      <td>1.0</td>\n",
       "      <td>6.0</td>\n",
       "      <td>usaid kenya</td>\n",
       "      <td>Agatha_reddit.csv</td>\n",
       "      <td>NaN</td>\n",
       "      <td>NaN</td>\n",
       "      <td>NaN</td>\n",
       "      <td>NaN</td>\n",
       "      <td>NaN</td>\n",
       "      <td>NaN</td>\n",
       "      <td>NaN</td>\n",
       "      <td>NaN</td>\n",
       "      <td>NaN</td>\n",
       "    </tr>\n",
       "  </tbody>\n",
       "</table>\n",
       "</div>"
      ],
      "text/plain": [
       "                                               title  \\\n",
       "0  USAID left a month ago, do we have ARVs in Kenya?   \n",
       "1                  Classism in r/Kenya and r/nairobi   \n",
       "2                       EX-USAID people!! Let's talk   \n",
       "3  Why western powers back Israel no matter what ...   \n",
       "4  Is kenya capable of funding its needs now that...   \n",
       "\n",
       "                                            selftext subreddit         author  \\\n",
       "0  Someone on a different group (different websit...     Kenya         muerki   \n",
       "1  The classism I'm seeing in both subs is a good...     Kenya  Morio_anzenza   \n",
       "2  Are you still in contact with the organisation...     Kenya        vindtar   \n",
       "3  I don't care what good book you read, but it's...     Kenya     Gold_Smart   \n",
       "4  How is kenya prepared to fill the vacuum of US...     Kenya      westmaxia   \n",
       "\n",
       "           created_utc                                                url  \\\n",
       "0  2025-04-15 13:16:53  https://www.reddit.com/r/Kenya/comments/1jzrn2...   \n",
       "1  2025-04-07 04:21:12  https://www.reddit.com/r/Kenya/comments/1jtcvb...   \n",
       "2  2025-04-05 19:09:10  https://www.reddit.com/r/Kenya/comments/1jsb14...   \n",
       "3  2025-03-25 08:18:04  https://www.reddit.com/r/Kenya/comments/1jjehw...   \n",
       "4  2025-03-08 08:08:58  https://www.reddit.com/r/Kenya/comments/1j6cjz...   \n",
       "\n",
       "   score  num_comments      keyword        source_file text date_posted  \\\n",
       "0    3.0           5.0  usaid kenya  Agatha_reddit.csv  NaN         NaN   \n",
       "1  169.0          95.0  usaid kenya  Agatha_reddit.csv  NaN         NaN   \n",
       "2    2.0           2.0  usaid kenya  Agatha_reddit.csv  NaN         NaN   \n",
       "3   13.0          20.0  usaid kenya  Agatha_reddit.csv  NaN         NaN   \n",
       "4    1.0           6.0  usaid kenya  Agatha_reddit.csv  NaN         NaN   \n",
       "\n",
       "   upvotes  comments permalink search_term created_date created  Unnamed: 0  \n",
       "0      NaN       NaN       NaN         NaN          NaN     NaN         NaN  \n",
       "1      NaN       NaN       NaN         NaN          NaN     NaN         NaN  \n",
       "2      NaN       NaN       NaN         NaN          NaN     NaN         NaN  \n",
       "3      NaN       NaN       NaN         NaN          NaN     NaN         NaN  \n",
       "4      NaN       NaN       NaN         NaN          NaN     NaN         NaN  "
      ]
     },
     "execution_count": 23,
     "metadata": {},
     "output_type": "execute_result"
    }
   ],
   "source": [
    "all_dfs = []\n",
    "\n",
    "for file in csv_files:\n",
    "    df = pd.read_csv(file)\n",
    "    df['source_file'] = os.path.basename(file)  \n",
    "    all_dfs.append(df)\n",
    "\n",
    "combined_df = pd.concat(all_dfs, ignore_index=True)\n",
    "combined_df.head()"
   ]
  },
  {
   "cell_type": "code",
   "execution_count": 24,
   "id": "a49a0217",
   "metadata": {},
   "outputs": [
    {
     "data": {
      "text/plain": [
       "(1289, 19)"
      ]
     },
     "execution_count": 24,
     "metadata": {},
     "output_type": "execute_result"
    }
   ],
   "source": [
    "combined_df.shape #check the shape of the dataset"
   ]
  },
  {
   "cell_type": "code",
   "execution_count": 25,
   "id": "ef2867d1",
   "metadata": {},
   "outputs": [
    {
     "data": {
      "text/plain": [
       "title              0\n",
       "selftext         665\n",
       "subreddit          0\n",
       "author           823\n",
       "created_utc      456\n",
       "url                0\n",
       "score            276\n",
       "num_comments     456\n",
       "keyword          547\n",
       "source_file        0\n",
       "text            1012\n",
       "date_posted     1013\n",
       "upvotes         1013\n",
       "comments        1013\n",
       "permalink        863\n",
       "search_term     1139\n",
       "created_date    1139\n",
       "created         1109\n",
       "Unnamed: 0      1089\n",
       "dtype: int64"
      ]
     },
     "execution_count": 25,
     "metadata": {},
     "output_type": "execute_result"
    }
   ],
   "source": [
    "combined_df.isna().sum() #check for missing values"
   ]
  },
  {
   "cell_type": "code",
   "execution_count": 26,
   "id": "67e86116",
   "metadata": {},
   "outputs": [
    {
     "data": {
      "text/plain": [
       "Index(['title', 'selftext', 'subreddit', 'author', 'created_utc', 'url',\n",
       "       'score', 'num_comments', 'keyword', 'source_file', 'text',\n",
       "       'date_posted', 'upvotes', 'comments', 'permalink', 'search_term',\n",
       "       'created_date', 'created', 'Unnamed: 0'],\n",
       "      dtype='object')"
      ]
     },
     "execution_count": 26,
     "metadata": {},
     "output_type": "execute_result"
    }
   ],
   "source": [
    "combined_df.columns"
   ]
  },
  {
   "cell_type": "code",
   "execution_count": 28,
   "id": "a6ccd0f1",
   "metadata": {},
   "outputs": [
    {
     "data": {
      "text/html": [
       "<div>\n",
       "<style scoped>\n",
       "    .dataframe tbody tr th:only-of-type {\n",
       "        vertical-align: middle;\n",
       "    }\n",
       "\n",
       "    .dataframe tbody tr th {\n",
       "        vertical-align: top;\n",
       "    }\n",
       "\n",
       "    .dataframe thead th {\n",
       "        text-align: right;\n",
       "    }\n",
       "</style>\n",
       "<table border=\"1\" class=\"dataframe\">\n",
       "  <thead>\n",
       "    <tr style=\"text-align: right;\">\n",
       "      <th></th>\n",
       "      <th>post_title</th>\n",
       "      <th>text</th>\n",
       "      <th>keyword</th>\n",
       "      <th>published_date</th>\n",
       "      <th>url</th>\n",
       "    </tr>\n",
       "  </thead>\n",
       "  <tbody>\n",
       "    <tr>\n",
       "      <th>0</th>\n",
       "      <td>USAID left a month ago, do we have ARVs in Kenya?</td>\n",
       "      <td>NaN</td>\n",
       "      <td>usaid kenya</td>\n",
       "      <td>2025-04-15 13:16:53</td>\n",
       "      <td>https://www.reddit.com/r/Kenya/comments/1jzrn2...</td>\n",
       "    </tr>\n",
       "    <tr>\n",
       "      <th>1</th>\n",
       "      <td>Classism in r/Kenya and r/nairobi</td>\n",
       "      <td>NaN</td>\n",
       "      <td>usaid kenya</td>\n",
       "      <td>2025-04-07 04:21:12</td>\n",
       "      <td>https://www.reddit.com/r/Kenya/comments/1jtcvb...</td>\n",
       "    </tr>\n",
       "    <tr>\n",
       "      <th>2</th>\n",
       "      <td>EX-USAID people!! Let's talk</td>\n",
       "      <td>NaN</td>\n",
       "      <td>usaid kenya</td>\n",
       "      <td>2025-04-05 19:09:10</td>\n",
       "      <td>https://www.reddit.com/r/Kenya/comments/1jsb14...</td>\n",
       "    </tr>\n",
       "    <tr>\n",
       "      <th>3</th>\n",
       "      <td>Why western powers back Israel no matter what ...</td>\n",
       "      <td>NaN</td>\n",
       "      <td>usaid kenya</td>\n",
       "      <td>2025-03-25 08:18:04</td>\n",
       "      <td>https://www.reddit.com/r/Kenya/comments/1jjehw...</td>\n",
       "    </tr>\n",
       "    <tr>\n",
       "      <th>4</th>\n",
       "      <td>Is kenya capable of funding its needs now that...</td>\n",
       "      <td>NaN</td>\n",
       "      <td>usaid kenya</td>\n",
       "      <td>2025-03-08 08:08:58</td>\n",
       "      <td>https://www.reddit.com/r/Kenya/comments/1j6cjz...</td>\n",
       "    </tr>\n",
       "  </tbody>\n",
       "</table>\n",
       "</div>"
      ],
      "text/plain": [
       "                                          post_title text      keyword  \\\n",
       "0  USAID left a month ago, do we have ARVs in Kenya?  NaN  usaid kenya   \n",
       "1                  Classism in r/Kenya and r/nairobi  NaN  usaid kenya   \n",
       "2                       EX-USAID people!! Let's talk  NaN  usaid kenya   \n",
       "3  Why western powers back Israel no matter what ...  NaN  usaid kenya   \n",
       "4  Is kenya capable of funding its needs now that...  NaN  usaid kenya   \n",
       "\n",
       "       published_date                                                url  \n",
       "0 2025-04-15 13:16:53  https://www.reddit.com/r/Kenya/comments/1jzrn2...  \n",
       "1 2025-04-07 04:21:12  https://www.reddit.com/r/Kenya/comments/1jtcvb...  \n",
       "2 2025-04-05 19:09:10  https://www.reddit.com/r/Kenya/comments/1jsb14...  \n",
       "3 2025-03-25 08:18:04  https://www.reddit.com/r/Kenya/comments/1jjehw...  \n",
       "4 2025-03-08 08:08:58  https://www.reddit.com/r/Kenya/comments/1j6cjz...  "
      ]
     },
     "execution_count": 28,
     "metadata": {},
     "output_type": "execute_result"
    }
   ],
   "source": [
    "# Drop all columns except the ones required\n",
    "final_df = combined_df[['title', 'text', 'keyword', 'created_utc', 'url']].copy()\n",
    "\n",
    "# Rename columns and convert date\n",
    "final_df.rename(columns={'title': 'post_title', 'created_utc': 'published_date'}, inplace=True)\n",
    "final_df['published_date'] = pd.to_datetime(final_df['published_date'], errors='coerce')\n",
    "\n",
    "# Preview\n",
    "final_df.head()\n"
   ]
  },
  {
   "cell_type": "code",
   "execution_count": 29,
   "id": "0d97b243",
   "metadata": {},
   "outputs": [
    {
     "data": {
      "text/html": [
       "<div>\n",
       "<style scoped>\n",
       "    .dataframe tbody tr th:only-of-type {\n",
       "        vertical-align: middle;\n",
       "    }\n",
       "\n",
       "    .dataframe tbody tr th {\n",
       "        vertical-align: top;\n",
       "    }\n",
       "\n",
       "    .dataframe thead th {\n",
       "        text-align: right;\n",
       "    }\n",
       "</style>\n",
       "<table border=\"1\" class=\"dataframe\">\n",
       "  <thead>\n",
       "    <tr style=\"text-align: right;\">\n",
       "      <th></th>\n",
       "      <th>post_title</th>\n",
       "      <th>text</th>\n",
       "      <th>keyword</th>\n",
       "      <th>published_date</th>\n",
       "      <th>url</th>\n",
       "    </tr>\n",
       "  </thead>\n",
       "  <tbody>\n",
       "    <tr>\n",
       "      <th>398</th>\n",
       "      <td>US Congressman Scott Perry Accuses USAID of Fu...</td>\n",
       "      <td>NaN</td>\n",
       "      <td>usaid suspended funding</td>\n",
       "      <td>2025-02-14 14:20:22.000000000</td>\n",
       "      <td>https://streetsofkante.com/us-congressman-scot...</td>\n",
       "    </tr>\n",
       "    <tr>\n",
       "      <th>1136</th>\n",
       "      <td>Looking for freelance software developers and ...</td>\n",
       "      <td>NaN</td>\n",
       "      <td>NaN</td>\n",
       "      <td>2025-06-15 12:00:34.000000000</td>\n",
       "      <td>https://www.reddit.com/r/Kenya/comments/1lbynn...</td>\n",
       "    </tr>\n",
       "    <tr>\n",
       "      <th>110</th>\n",
       "      <td>Advice for woman considering security guard jo...</td>\n",
       "      <td>NaN</td>\n",
       "      <td>kenya foreign aid</td>\n",
       "      <td>2025-01-22 03:17:58.000000000</td>\n",
       "      <td>https://www.reddit.com/r/Kenya/comments/1i71kd...</td>\n",
       "    </tr>\n",
       "    <tr>\n",
       "      <th>470</th>\n",
       "      <td>USAID left a month ago, do we have ARVs in Kenya?</td>\n",
       "      <td>Someone on a different group (different websit...</td>\n",
       "      <td>USAID</td>\n",
       "      <td>NaT</td>\n",
       "      <td>https://www.reddit.com/r/Kenya/comments/1jzrn2...</td>\n",
       "    </tr>\n",
       "    <tr>\n",
       "      <th>626</th>\n",
       "      <td>Trump’s foreign aid demolition hits major Chri...</td>\n",
       "      <td>NaN</td>\n",
       "      <td>foreign aid, foreign aid</td>\n",
       "      <td>NaT</td>\n",
       "      <td>https://www.washingtonpost.com/national-securi...</td>\n",
       "    </tr>\n",
       "    <tr>\n",
       "      <th>485</th>\n",
       "      <td>USAID Repercussions + Economy</td>\n",
       "      <td>My neighbour’s wife was a very big shot in USA...</td>\n",
       "      <td>USAID, USAID Repercussions</td>\n",
       "      <td>NaT</td>\n",
       "      <td>https://www.reddit.com/r/Kenya/comments/1kmhn8...</td>\n",
       "    </tr>\n",
       "    <tr>\n",
       "      <th>672</th>\n",
       "      <td>Forced leaves start for thousands at USAID und...</td>\n",
       "      <td>NaN</td>\n",
       "      <td>USAID, foreign aid, foreign aid</td>\n",
       "      <td>NaT</td>\n",
       "      <td>https://apnews.com/article/usaid-foreign-aid-t...</td>\n",
       "    </tr>\n",
       "    <tr>\n",
       "      <th>675</th>\n",
       "      <td>How ending foreign aid could damage U.S. natio...</td>\n",
       "      <td>NaN</td>\n",
       "      <td>foreign aid, foreign aid</td>\n",
       "      <td>NaT</td>\n",
       "      <td>https://www.wbur.org/onpoint/2025/02/05/ending...</td>\n",
       "    </tr>\n",
       "    <tr>\n",
       "      <th>1285</th>\n",
       "      <td>No evidence that Burkina Faso paid off all its...</td>\n",
       "      <td>NaN</td>\n",
       "      <td>NaN</td>\n",
       "      <td>2025-04-18 08:23:39.000000000</td>\n",
       "      <td>https://www.reuters.com/fact-check/burkina-fas...</td>\n",
       "    </tr>\n",
       "    <tr>\n",
       "      <th>273</th>\n",
       "      <td>...na bado mnasema Ruto must go bila tangible ...</td>\n",
       "      <td>NaN</td>\n",
       "      <td>development aid kenya</td>\n",
       "      <td>2025-03-14 11:58:48.000000000</td>\n",
       "      <td>https://i.redd.it/3gw4i5o6anoe1.jpeg</td>\n",
       "    </tr>\n",
       "    <tr>\n",
       "      <th>897</th>\n",
       "      <td>Trump's withdrawal of foreign aid</td>\n",
       "      <td>NaN</td>\n",
       "      <td>NaN</td>\n",
       "      <td>NaT</td>\n",
       "      <td>https://www.reddit.com/r/Kenya/comments/1ibx8u...</td>\n",
       "    </tr>\n",
       "    <tr>\n",
       "      <th>76</th>\n",
       "      <td>Kibaki ALSO failed us</td>\n",
       "      <td>NaN</td>\n",
       "      <td>kenya foreign aid</td>\n",
       "      <td>2025-04-01 01:12:42.000000000</td>\n",
       "      <td>https://www.reddit.com/r/Kenya/comments/1jojl2...</td>\n",
       "    </tr>\n",
       "    <tr>\n",
       "      <th>334</th>\n",
       "      <td>Like It or Not, Here's Why Ruto Will Win in 20...</td>\n",
       "      <td>NaN</td>\n",
       "      <td>kenya donor funding</td>\n",
       "      <td>2025-04-20 09:06:35.000000000</td>\n",
       "      <td>https://www.reddit.com/r/Kenya/comments/1k3ijd...</td>\n",
       "    </tr>\n",
       "    <tr>\n",
       "      <th>267</th>\n",
       "      <td>Is Kenya Making Another Misstep?</td>\n",
       "      <td>NaN</td>\n",
       "      <td>development aid kenya</td>\n",
       "      <td>2025-03-21 08:35:05.000000000</td>\n",
       "      <td>https://www.reddit.com/r/Kenya/comments/1jgc5c...</td>\n",
       "    </tr>\n",
       "    <tr>\n",
       "      <th>244</th>\n",
       "      <td>Kenya needs to invest in security</td>\n",
       "      <td>NaN</td>\n",
       "      <td>development aid kenya</td>\n",
       "      <td>2025-05-04 12:25:27.000000000</td>\n",
       "      <td>https://www.reddit.com/r/Kenya/comments/1keilv...</td>\n",
       "    </tr>\n",
       "    <tr>\n",
       "      <th>772</th>\n",
       "      <td>Remember Vision 2030?</td>\n",
       "      <td>Man, nilikuwa like 10 years old when that thin...</td>\n",
       "      <td>NaN</td>\n",
       "      <td>1970-01-01 00:00:01.746904073</td>\n",
       "      <td>https://www.reddit.com/r/Kenya/comments/1kjhsh...</td>\n",
       "    </tr>\n",
       "    <tr>\n",
       "      <th>637</th>\n",
       "      <td>Supreme Court rejects Trump’s request to keep ...</td>\n",
       "      <td>NaN</td>\n",
       "      <td>foreign aid, foreign aid</td>\n",
       "      <td>NaT</td>\n",
       "      <td>https://www.cnn.com/2025/03/05/politics/suprem...</td>\n",
       "    </tr>\n",
       "    <tr>\n",
       "      <th>1190</th>\n",
       "      <td>Good Men</td>\n",
       "      <td>NaN</td>\n",
       "      <td>NaN</td>\n",
       "      <td>2025-06-10 07:46:12.000000000</td>\n",
       "      <td>https://www.reddit.com/r/Kenya/comments/1l7suy...</td>\n",
       "    </tr>\n",
       "    <tr>\n",
       "      <th>905</th>\n",
       "      <td>Because accusations of USAID fraud in Afghan h...</td>\n",
       "      <td>NaN</td>\n",
       "      <td>NaN</td>\n",
       "      <td>NaT</td>\n",
       "      <td>http://www.theatlantic.com/international/archi...</td>\n",
       "    </tr>\n",
       "    <tr>\n",
       "      <th>870</th>\n",
       "      <td>Looking for Entry-Level Opportunities in Procu...</td>\n",
       "      <td>Hi everyone,\\r\\n\\r\\nIm a passionate and motiva...</td>\n",
       "      <td>NaN</td>\n",
       "      <td>1970-01-01 00:00:01.744880936</td>\n",
       "      <td>https://www.reddit.com/r/Kenya/comments/1k18d0...</td>\n",
       "    </tr>\n",
       "  </tbody>\n",
       "</table>\n",
       "</div>"
      ],
      "text/plain": [
       "                                             post_title  \\\n",
       "398   US Congressman Scott Perry Accuses USAID of Fu...   \n",
       "1136  Looking for freelance software developers and ...   \n",
       "110   Advice for woman considering security guard jo...   \n",
       "470   USAID left a month ago, do we have ARVs in Kenya?   \n",
       "626   Trump’s foreign aid demolition hits major Chri...   \n",
       "485                       USAID Repercussions + Economy   \n",
       "672   Forced leaves start for thousands at USAID und...   \n",
       "675   How ending foreign aid could damage U.S. natio...   \n",
       "1285  No evidence that Burkina Faso paid off all its...   \n",
       "273   ...na bado mnasema Ruto must go bila tangible ...   \n",
       "897                   Trump's withdrawal of foreign aid   \n",
       "76                                Kibaki ALSO failed us   \n",
       "334   Like It or Not, Here's Why Ruto Will Win in 20...   \n",
       "267                    Is Kenya Making Another Misstep?   \n",
       "244                   Kenya needs to invest in security   \n",
       "772                               Remember Vision 2030?   \n",
       "637   Supreme Court rejects Trump’s request to keep ...   \n",
       "1190                                           Good Men   \n",
       "905   Because accusations of USAID fraud in Afghan h...   \n",
       "870   Looking for Entry-Level Opportunities in Procu...   \n",
       "\n",
       "                                                   text  \\\n",
       "398                                                 NaN   \n",
       "1136                                                NaN   \n",
       "110                                                 NaN   \n",
       "470   Someone on a different group (different websit...   \n",
       "626                                                 NaN   \n",
       "485   My neighbour’s wife was a very big shot in USA...   \n",
       "672                                                 NaN   \n",
       "675                                                 NaN   \n",
       "1285                                                NaN   \n",
       "273                                                 NaN   \n",
       "897                                                 NaN   \n",
       "76                                                  NaN   \n",
       "334                                                 NaN   \n",
       "267                                                 NaN   \n",
       "244                                                 NaN   \n",
       "772   Man, nilikuwa like 10 years old when that thin...   \n",
       "637                                                 NaN   \n",
       "1190                                                NaN   \n",
       "905                                                 NaN   \n",
       "870   Hi everyone,\\r\\n\\r\\nIm a passionate and motiva...   \n",
       "\n",
       "                              keyword                published_date  \\\n",
       "398           usaid suspended funding 2025-02-14 14:20:22.000000000   \n",
       "1136                              NaN 2025-06-15 12:00:34.000000000   \n",
       "110                 kenya foreign aid 2025-01-22 03:17:58.000000000   \n",
       "470                             USAID                           NaT   \n",
       "626          foreign aid, foreign aid                           NaT   \n",
       "485        USAID, USAID Repercussions                           NaT   \n",
       "672   USAID, foreign aid, foreign aid                           NaT   \n",
       "675          foreign aid, foreign aid                           NaT   \n",
       "1285                              NaN 2025-04-18 08:23:39.000000000   \n",
       "273             development aid kenya 2025-03-14 11:58:48.000000000   \n",
       "897                               NaN                           NaT   \n",
       "76                  kenya foreign aid 2025-04-01 01:12:42.000000000   \n",
       "334               kenya donor funding 2025-04-20 09:06:35.000000000   \n",
       "267             development aid kenya 2025-03-21 08:35:05.000000000   \n",
       "244             development aid kenya 2025-05-04 12:25:27.000000000   \n",
       "772                               NaN 1970-01-01 00:00:01.746904073   \n",
       "637          foreign aid, foreign aid                           NaT   \n",
       "1190                              NaN 2025-06-10 07:46:12.000000000   \n",
       "905                               NaN                           NaT   \n",
       "870                               NaN 1970-01-01 00:00:01.744880936   \n",
       "\n",
       "                                                    url  \n",
       "398   https://streetsofkante.com/us-congressman-scot...  \n",
       "1136  https://www.reddit.com/r/Kenya/comments/1lbynn...  \n",
       "110   https://www.reddit.com/r/Kenya/comments/1i71kd...  \n",
       "470   https://www.reddit.com/r/Kenya/comments/1jzrn2...  \n",
       "626   https://www.washingtonpost.com/national-securi...  \n",
       "485   https://www.reddit.com/r/Kenya/comments/1kmhn8...  \n",
       "672   https://apnews.com/article/usaid-foreign-aid-t...  \n",
       "675   https://www.wbur.org/onpoint/2025/02/05/ending...  \n",
       "1285  https://www.reuters.com/fact-check/burkina-fas...  \n",
       "273                https://i.redd.it/3gw4i5o6anoe1.jpeg  \n",
       "897   https://www.reddit.com/r/Kenya/comments/1ibx8u...  \n",
       "76    https://www.reddit.com/r/Kenya/comments/1jojl2...  \n",
       "334   https://www.reddit.com/r/Kenya/comments/1k3ijd...  \n",
       "267   https://www.reddit.com/r/Kenya/comments/1jgc5c...  \n",
       "244   https://www.reddit.com/r/Kenya/comments/1keilv...  \n",
       "772   https://www.reddit.com/r/Kenya/comments/1kjhsh...  \n",
       "637   https://www.cnn.com/2025/03/05/politics/suprem...  \n",
       "1190  https://www.reddit.com/r/Kenya/comments/1l7suy...  \n",
       "905   http://www.theatlantic.com/international/archi...  \n",
       "870   https://www.reddit.com/r/Kenya/comments/1k18d0...  "
      ]
     },
     "execution_count": 29,
     "metadata": {},
     "output_type": "execute_result"
    }
   ],
   "source": [
    "final_df.sample(20)"
   ]
  },
  {
   "cell_type": "code",
   "execution_count": 30,
   "id": "a897f03f",
   "metadata": {},
   "outputs": [
    {
     "data": {
      "text/plain": [
       "post_title           0\n",
       "text              1012\n",
       "keyword            547\n",
       "published_date     456\n",
       "url                  0\n",
       "dtype: int64"
      ]
     },
     "execution_count": 30,
     "metadata": {},
     "output_type": "execute_result"
    }
   ],
   "source": [
    "final_df.isna().sum() #check for missing values"
   ]
  },
  {
   "cell_type": "code",
   "execution_count": 34,
   "id": "b952f152",
   "metadata": {},
   "outputs": [
    {
     "data": {
      "text/html": [
       "<div>\n",
       "<style scoped>\n",
       "    .dataframe tbody tr th:only-of-type {\n",
       "        vertical-align: middle;\n",
       "    }\n",
       "\n",
       "    .dataframe tbody tr th {\n",
       "        vertical-align: top;\n",
       "    }\n",
       "\n",
       "    .dataframe thead th {\n",
       "        text-align: right;\n",
       "    }\n",
       "</style>\n",
       "<table border=\"1\" class=\"dataframe\">\n",
       "  <thead>\n",
       "    <tr style=\"text-align: right;\">\n",
       "      <th></th>\n",
       "      <th>post_title</th>\n",
       "      <th>text</th>\n",
       "      <th>keyword</th>\n",
       "      <th>published_date</th>\n",
       "      <th>url</th>\n",
       "    </tr>\n",
       "  </thead>\n",
       "  <tbody>\n",
       "    <tr>\n",
       "      <th>0</th>\n",
       "      <td>USAID left a month ago, do we have ARVs in Kenya?</td>\n",
       "      <td>NaN</td>\n",
       "      <td>usaid kenya</td>\n",
       "      <td>2025-04-15</td>\n",
       "      <td>https://www.reddit.com/r/Kenya/comments/1jzrn2...</td>\n",
       "    </tr>\n",
       "    <tr>\n",
       "      <th>1</th>\n",
       "      <td>Classism in r/Kenya and r/nairobi</td>\n",
       "      <td>NaN</td>\n",
       "      <td>usaid kenya</td>\n",
       "      <td>2025-04-07</td>\n",
       "      <td>https://www.reddit.com/r/Kenya/comments/1jtcvb...</td>\n",
       "    </tr>\n",
       "    <tr>\n",
       "      <th>2</th>\n",
       "      <td>EX-USAID people!! Let's talk</td>\n",
       "      <td>NaN</td>\n",
       "      <td>usaid kenya</td>\n",
       "      <td>2025-04-05</td>\n",
       "      <td>https://www.reddit.com/r/Kenya/comments/1jsb14...</td>\n",
       "    </tr>\n",
       "    <tr>\n",
       "      <th>3</th>\n",
       "      <td>Why western powers back Israel no matter what ...</td>\n",
       "      <td>NaN</td>\n",
       "      <td>usaid kenya</td>\n",
       "      <td>2025-03-25</td>\n",
       "      <td>https://www.reddit.com/r/Kenya/comments/1jjehw...</td>\n",
       "    </tr>\n",
       "    <tr>\n",
       "      <th>4</th>\n",
       "      <td>Is kenya capable of funding its needs now that...</td>\n",
       "      <td>NaN</td>\n",
       "      <td>usaid kenya</td>\n",
       "      <td>2025-03-08</td>\n",
       "      <td>https://www.reddit.com/r/Kenya/comments/1j6cjz...</td>\n",
       "    </tr>\n",
       "  </tbody>\n",
       "</table>\n",
       "</div>"
      ],
      "text/plain": [
       "                                          post_title text      keyword  \\\n",
       "0  USAID left a month ago, do we have ARVs in Kenya?  NaN  usaid kenya   \n",
       "1                  Classism in r/Kenya and r/nairobi  NaN  usaid kenya   \n",
       "2                       EX-USAID people!! Let's talk  NaN  usaid kenya   \n",
       "3  Why western powers back Israel no matter what ...  NaN  usaid kenya   \n",
       "4  Is kenya capable of funding its needs now that...  NaN  usaid kenya   \n",
       "\n",
       "  published_date                                                url  \n",
       "0     2025-04-15  https://www.reddit.com/r/Kenya/comments/1jzrn2...  \n",
       "1     2025-04-07  https://www.reddit.com/r/Kenya/comments/1jtcvb...  \n",
       "2     2025-04-05  https://www.reddit.com/r/Kenya/comments/1jsb14...  \n",
       "3     2025-03-25  https://www.reddit.com/r/Kenya/comments/1jjehw...  \n",
       "4     2025-03-08  https://www.reddit.com/r/Kenya/comments/1j6cjz...  "
      ]
     },
     "execution_count": 34,
     "metadata": {},
     "output_type": "execute_result"
    }
   ],
   "source": [
    "#separate the time from date in the published date\n",
    "final_df['published_date'] = pd.to_datetime(final_df['published_date'], errors='coerce')\n",
    "\n",
    "# Extract date and time\n",
    "final_df['time'] = final_df['published_date'].dt.time\n",
    "final_df['published_date'] = final_df['published_date'].dt.date\n",
    "\n",
    "#drop the time column\n",
    "final_df.drop(columns='time', inplace=True)\n",
    "final_df.head()"
   ]
  },
  {
   "cell_type": "code",
   "execution_count": 38,
   "id": "d41e4646",
   "metadata": {},
   "outputs": [
    {
     "data": {
      "text/plain": [
       "(1289, 5)"
      ]
     },
     "execution_count": 38,
     "metadata": {},
     "output_type": "execute_result"
    }
   ],
   "source": [
    "final_df.shape #check the number of rows and columns in the final merged dataset"
   ]
  },
  {
   "cell_type": "markdown",
   "id": "3efb9bae",
   "metadata": {},
   "source": [
    "### Save the final merged dataframe to csv"
   ]
  },
  {
   "cell_type": "code",
   "execution_count": 39,
   "id": "22bce6df",
   "metadata": {},
   "outputs": [
    {
     "name": "stdout",
     "output_type": "stream",
     "text": [
      "Results saved to C:/Users/hp/Desktop/DATA NEXUS PROJECTS/USAID-Kenya-Sentiment-Analysis/data/processed/Cecilia_merged_reddit_dataset.csv\n"
     ]
    }
   ],
   "source": [
    "# Save to CSV \n",
    "if not df.empty:\n",
    "    output_filename = f\"C:/Users/hp/Desktop/DATA NEXUS PROJECTS/USAID-Kenya-Sentiment-Analysis/data/processed/Cecilia_merged_reddit_dataset.csv\"\n",
    "    df.to_csv(output_filename, index=False, encoding='utf-8')\n",
    "    print(f\"Results saved to {output_filename}\")\n",
    "    "
   ]
  },
  {
   "cell_type": "code",
   "execution_count": null,
   "id": "a556d2e0",
   "metadata": {},
   "outputs": [],
   "source": []
  }
 ],
 "metadata": {
  "kernelspec": {
   "display_name": "Python 3 (ipykernel)",
   "language": "python",
   "name": "python3"
  },
  "language_info": {
   "codemirror_mode": {
    "name": "ipython",
    "version": 3
   },
   "file_extension": ".py",
   "mimetype": "text/x-python",
   "name": "python",
   "nbconvert_exporter": "python",
   "pygments_lexer": "ipython3",
   "version": "3.9.7"
  }
 },
 "nbformat": 4,
 "nbformat_minor": 5
}
