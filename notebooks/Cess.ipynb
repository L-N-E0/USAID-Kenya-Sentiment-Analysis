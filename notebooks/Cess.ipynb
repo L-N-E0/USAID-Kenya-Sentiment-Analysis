{
 "cells": [
  {
   "cell_type": "markdown",
   "id": "962045ac",
   "metadata": {},
   "source": [
    "# USAID-Kenya-Sentiment-Analysis"
   ]
  },
  {
   "cell_type": "markdown",
   "id": "6acc0606",
   "metadata": {},
   "source": [
    "#    Merging Reddit CSV Files"
   ]
  },
  {
   "cell_type": "markdown",
   "id": "b99dd2b5",
   "metadata": {},
   "source": [
    "### Import neccessary libraries"
   ]
  },
  {
   "cell_type": "code",
   "execution_count": 1,
   "id": "2605d0a6",
   "metadata": {},
   "outputs": [],
   "source": [
    "import pandas as pd\n",
    "import glob\n",
    "import os\n"
   ]
  },
  {
   "cell_type": "markdown",
   "id": "5e1cd992",
   "metadata": {},
   "source": [
    "### Folder path"
   ]
  },
  {
   "cell_type": "code",
   "execution_count": 2,
   "id": "df600c9e",
   "metadata": {},
   "outputs": [],
   "source": [
    "folder_path = 'C:/Users/hp/Desktop/DATA NEXUS PROJECTS/USAID-Kenya-Sentiment-Analysis/data/raw/reddit_data'\n"
   ]
  },
  {
   "cell_type": "markdown",
   "id": "7fcb97c1",
   "metadata": {},
   "source": [
    "### CSV file paths"
   ]
  },
  {
   "cell_type": "code",
   "execution_count": 3,
   "id": "b50625d4",
   "metadata": {},
   "outputs": [
    {
     "data": {
      "text/plain": [
       "['C:/Users/hp/Desktop/DATA NEXUS PROJECTS/USAID-Kenya-Sentiment-Analysis/data/raw/reddit_data\\\\Agatha_reddit.csv',\n",
       " 'C:/Users/hp/Desktop/DATA NEXUS PROJECTS/USAID-Kenya-Sentiment-Analysis/data/raw/reddit_data\\\\cecilia.redditsubs.csv',\n",
       " 'C:/Users/hp/Desktop/DATA NEXUS PROJECTS/USAID-Kenya-Sentiment-Analysis/data/raw/reddit_data\\\\cecilia.reddit_nbo_ke_africa.csv',\n",
       " 'C:/Users/hp/Desktop/DATA NEXUS PROJECTS/USAID-Kenya-Sentiment-Analysis/data/raw/reddit_data\\\\leo_reddit_posts.csv',\n",
       " 'C:/Users/hp/Desktop/DATA NEXUS PROJECTS/USAID-Kenya-Sentiment-Analysis/data/raw/reddit_data\\\\Mbego_reddit_usaid_kenya.csv',\n",
       " 'C:/Users/hp/Desktop/DATA NEXUS PROJECTS/USAID-Kenya-Sentiment-Analysis/data/raw/reddit_data\\\\Mbego_reddit_usaid_kenya2.csv',\n",
       " 'C:/Users/hp/Desktop/DATA NEXUS PROJECTS/USAID-Kenya-Sentiment-Analysis/data/raw/reddit_data\\\\reddit_usaid_kenya.csv',\n",
       " 'C:/Users/hp/Desktop/DATA NEXUS PROJECTS/USAID-Kenya-Sentiment-Analysis/data/raw/reddit_data\\\\reddit_usaid_sentiment.csv',\n",
       " 'C:/Users/hp/Desktop/DATA NEXUS PROJECTS/USAID-Kenya-Sentiment-Analysis/data/raw/reddit_data\\\\ruth_reddit.csv']"
      ]
     },
     "execution_count": 3,
     "metadata": {},
     "output_type": "execute_result"
    }
   ],
   "source": [
    "csv_files = glob.glob(os.path.join(folder_path, '*.csv'))\n",
    "csv_files"
   ]
  },
  {
   "cell_type": "markdown",
   "id": "c37cff96",
   "metadata": {},
   "source": [
    "### Reading the files and combining them into one dataframe"
   ]
  },
  {
   "cell_type": "code",
   "execution_count": 4,
   "id": "f874996c",
   "metadata": {},
   "outputs": [
    {
     "data": {
      "text/html": [
       "<div>\n",
       "<style scoped>\n",
       "    .dataframe tbody tr th:only-of-type {\n",
       "        vertical-align: middle;\n",
       "    }\n",
       "\n",
       "    .dataframe tbody tr th {\n",
       "        vertical-align: top;\n",
       "    }\n",
       "\n",
       "    .dataframe thead th {\n",
       "        text-align: right;\n",
       "    }\n",
       "</style>\n",
       "<table border=\"1\" class=\"dataframe\">\n",
       "  <thead>\n",
       "    <tr style=\"text-align: right;\">\n",
       "      <th></th>\n",
       "      <th>post_title</th>\n",
       "      <th>text</th>\n",
       "      <th>keyword</th>\n",
       "      <th>published_date</th>\n",
       "      <th>url</th>\n",
       "      <th>source_file</th>\n",
       "    </tr>\n",
       "  </thead>\n",
       "  <tbody>\n",
       "    <tr>\n",
       "      <th>0</th>\n",
       "      <td>USAID left a month ago, do we have ARVs in Kenya?</td>\n",
       "      <td>Someone on a different group (different websit...</td>\n",
       "      <td>usaid kenya</td>\n",
       "      <td>2025-04-15 13:16:53</td>\n",
       "      <td>https://www.reddit.com/r/Kenya/comments/1jzrn2...</td>\n",
       "      <td>Agatha_reddit.csv</td>\n",
       "    </tr>\n",
       "    <tr>\n",
       "      <th>1</th>\n",
       "      <td>Classism in r/Kenya and r/nairobi</td>\n",
       "      <td>The classism I'm seeing in both subs is a good...</td>\n",
       "      <td>usaid kenya</td>\n",
       "      <td>2025-04-07 04:21:12</td>\n",
       "      <td>https://www.reddit.com/r/Kenya/comments/1jtcvb...</td>\n",
       "      <td>Agatha_reddit.csv</td>\n",
       "    </tr>\n",
       "    <tr>\n",
       "      <th>2</th>\n",
       "      <td>EX-USAID people!! Let's talk</td>\n",
       "      <td>Are you still in contact with the organisation...</td>\n",
       "      <td>usaid kenya</td>\n",
       "      <td>2025-04-05 19:09:10</td>\n",
       "      <td>https://www.reddit.com/r/Kenya/comments/1jsb14...</td>\n",
       "      <td>Agatha_reddit.csv</td>\n",
       "    </tr>\n",
       "    <tr>\n",
       "      <th>3</th>\n",
       "      <td>Why western powers back Israel no matter what ...</td>\n",
       "      <td>I don't care what good book you read, but it's...</td>\n",
       "      <td>usaid kenya</td>\n",
       "      <td>2025-03-25 08:18:04</td>\n",
       "      <td>https://www.reddit.com/r/Kenya/comments/1jjehw...</td>\n",
       "      <td>Agatha_reddit.csv</td>\n",
       "    </tr>\n",
       "    <tr>\n",
       "      <th>4</th>\n",
       "      <td>Is kenya capable of funding its needs now that...</td>\n",
       "      <td>How is kenya prepared to fill the vacuum of US...</td>\n",
       "      <td>usaid kenya</td>\n",
       "      <td>2025-03-08 08:08:58</td>\n",
       "      <td>https://www.reddit.com/r/Kenya/comments/1j6cjz...</td>\n",
       "      <td>Agatha_reddit.csv</td>\n",
       "    </tr>\n",
       "  </tbody>\n",
       "</table>\n",
       "</div>"
      ],
      "text/plain": [
       "                                          post_title  \\\n",
       "0  USAID left a month ago, do we have ARVs in Kenya?   \n",
       "1                  Classism in r/Kenya and r/nairobi   \n",
       "2                       EX-USAID people!! Let's talk   \n",
       "3  Why western powers back Israel no matter what ...   \n",
       "4  Is kenya capable of funding its needs now that...   \n",
       "\n",
       "                                                text      keyword  \\\n",
       "0  Someone on a different group (different websit...  usaid kenya   \n",
       "1  The classism I'm seeing in both subs is a good...  usaid kenya   \n",
       "2  Are you still in contact with the organisation...  usaid kenya   \n",
       "3  I don't care what good book you read, but it's...  usaid kenya   \n",
       "4  How is kenya prepared to fill the vacuum of US...  usaid kenya   \n",
       "\n",
       "       published_date                                                url  \\\n",
       "0 2025-04-15 13:16:53  https://www.reddit.com/r/Kenya/comments/1jzrn2...   \n",
       "1 2025-04-07 04:21:12  https://www.reddit.com/r/Kenya/comments/1jtcvb...   \n",
       "2 2025-04-05 19:09:10  https://www.reddit.com/r/Kenya/comments/1jsb14...   \n",
       "3 2025-03-25 08:18:04  https://www.reddit.com/r/Kenya/comments/1jjehw...   \n",
       "4 2025-03-08 08:08:58  https://www.reddit.com/r/Kenya/comments/1j6cjz...   \n",
       "\n",
       "         source_file  \n",
       "0  Agatha_reddit.csv  \n",
       "1  Agatha_reddit.csv  \n",
       "2  Agatha_reddit.csv  \n",
       "3  Agatha_reddit.csv  \n",
       "4  Agatha_reddit.csv  "
      ]
     },
     "execution_count": 4,
     "metadata": {},
     "output_type": "execute_result"
    }
   ],
   "source": [
    "\n",
    "preferred_columns = ['post_title', 'text', 'keyword', 'published_date', 'url']\n",
    "all_dfs = []\n",
    "\n",
    "for file in csv_files:\n",
    "    df = pd.read_csv(file)\n",
    "    \n",
    "    # Rename common column variants\n",
    "    if 'title' in df.columns:\n",
    "        df.rename(columns={'title': 'post_title'}, inplace=True)\n",
    "    if 'selftext' in df.columns and 'text' not in df.columns:\n",
    "        df.rename(columns={'selftext': 'text'}, inplace=True)\n",
    "    if 'date_posted' in df.columns:\n",
    "        df.rename(columns={'date_posted': 'published_date'}, inplace=True)\n",
    "    elif 'created_utc' in df.columns:\n",
    "        df.rename(columns={'created_utc': 'published_date'}, inplace=True)\n",
    "    \n",
    "    # Add missing columns\n",
    "    for col in preferred_columns:\n",
    "        if col not in df.columns:\n",
    "            df[col] = None\n",
    "\n",
    "    # Convert published_date to datetime\n",
    "    df['published_date'] = pd.to_datetime(df['published_date'], errors='coerce')\n",
    "\n",
    "    # Track file source\n",
    "    df['source_file'] = os.path.basename(file)\n",
    "    \n",
    "    # Keep only standardized columns\n",
    "    df = df[preferred_columns + ['source_file']]\n",
    "\n",
    "    all_dfs.append(df)\n",
    "\n",
    "# Combine all\n",
    "combined_df = pd.concat(all_dfs, ignore_index=True)\n",
    "combined_df.head()\n"
   ]
  },
  {
   "cell_type": "code",
   "execution_count": 5,
   "id": "83d5b9f6",
   "metadata": {},
   "outputs": [
    {
     "data": {
      "text/plain": [
       "(1306, 6)"
      ]
     },
     "execution_count": 5,
     "metadata": {},
     "output_type": "execute_result"
    }
   ],
   "source": [
    "combined_df.shape #check the shape of the dataset"
   ]
  },
  {
   "cell_type": "code",
   "execution_count": 6,
   "id": "b896c819",
   "metadata": {},
   "outputs": [
    {
     "data": {
      "text/plain": [
       "post_title          0\n",
       "text              398\n",
       "keyword           564\n",
       "published_date    197\n",
       "url                 0\n",
       "source_file         0\n",
       "dtype: int64"
      ]
     },
     "execution_count": 6,
     "metadata": {},
     "output_type": "execute_result"
    }
   ],
   "source": [
    "combined_df.isna().sum() #check for missing values"
   ]
  },
  {
   "cell_type": "code",
   "execution_count": 7,
   "id": "6cbb0b58",
   "metadata": {},
   "outputs": [
    {
     "data": {
      "text/plain": [
       "Index(['post_title', 'text', 'keyword', 'published_date', 'url',\n",
       "       'source_file'],\n",
       "      dtype='object')"
      ]
     },
     "execution_count": 7,
     "metadata": {},
     "output_type": "execute_result"
    }
   ],
   "source": [
    "combined_df.columns"
   ]
  },
  {
   "cell_type": "code",
   "execution_count": 8,
   "id": "f8a79603",
   "metadata": {},
   "outputs": [
    {
     "data": {
      "text/html": [
       "<div>\n",
       "<style scoped>\n",
       "    .dataframe tbody tr th:only-of-type {\n",
       "        vertical-align: middle;\n",
       "    }\n",
       "\n",
       "    .dataframe tbody tr th {\n",
       "        vertical-align: top;\n",
       "    }\n",
       "\n",
       "    .dataframe thead th {\n",
       "        text-align: right;\n",
       "    }\n",
       "</style>\n",
       "<table border=\"1\" class=\"dataframe\">\n",
       "  <thead>\n",
       "    <tr style=\"text-align: right;\">\n",
       "      <th></th>\n",
       "      <th>post_title</th>\n",
       "      <th>text</th>\n",
       "      <th>keyword</th>\n",
       "      <th>published_date</th>\n",
       "      <th>url</th>\n",
       "      <th>source_file</th>\n",
       "    </tr>\n",
       "  </thead>\n",
       "  <tbody>\n",
       "    <tr>\n",
       "      <th>0</th>\n",
       "      <td>USAID left a month ago, do we have ARVs in Kenya?</td>\n",
       "      <td>Someone on a different group (different websit...</td>\n",
       "      <td>usaid kenya</td>\n",
       "      <td>2025-04-15</td>\n",
       "      <td>https://www.reddit.com/r/Kenya/comments/1jzrn2...</td>\n",
       "      <td>Agatha_reddit.csv</td>\n",
       "    </tr>\n",
       "    <tr>\n",
       "      <th>1</th>\n",
       "      <td>Classism in r/Kenya and r/nairobi</td>\n",
       "      <td>The classism I'm seeing in both subs is a good...</td>\n",
       "      <td>usaid kenya</td>\n",
       "      <td>2025-04-07</td>\n",
       "      <td>https://www.reddit.com/r/Kenya/comments/1jtcvb...</td>\n",
       "      <td>Agatha_reddit.csv</td>\n",
       "    </tr>\n",
       "    <tr>\n",
       "      <th>2</th>\n",
       "      <td>EX-USAID people!! Let's talk</td>\n",
       "      <td>Are you still in contact with the organisation...</td>\n",
       "      <td>usaid kenya</td>\n",
       "      <td>2025-04-05</td>\n",
       "      <td>https://www.reddit.com/r/Kenya/comments/1jsb14...</td>\n",
       "      <td>Agatha_reddit.csv</td>\n",
       "    </tr>\n",
       "    <tr>\n",
       "      <th>3</th>\n",
       "      <td>Why western powers back Israel no matter what ...</td>\n",
       "      <td>I don't care what good book you read, but it's...</td>\n",
       "      <td>usaid kenya</td>\n",
       "      <td>2025-03-25</td>\n",
       "      <td>https://www.reddit.com/r/Kenya/comments/1jjehw...</td>\n",
       "      <td>Agatha_reddit.csv</td>\n",
       "    </tr>\n",
       "    <tr>\n",
       "      <th>4</th>\n",
       "      <td>Is kenya capable of funding its needs now that...</td>\n",
       "      <td>How is kenya prepared to fill the vacuum of US...</td>\n",
       "      <td>usaid kenya</td>\n",
       "      <td>2025-03-08</td>\n",
       "      <td>https://www.reddit.com/r/Kenya/comments/1j6cjz...</td>\n",
       "      <td>Agatha_reddit.csv</td>\n",
       "    </tr>\n",
       "  </tbody>\n",
       "</table>\n",
       "</div>"
      ],
      "text/plain": [
       "                                          post_title  \\\n",
       "0  USAID left a month ago, do we have ARVs in Kenya?   \n",
       "1                  Classism in r/Kenya and r/nairobi   \n",
       "2                       EX-USAID people!! Let's talk   \n",
       "3  Why western powers back Israel no matter what ...   \n",
       "4  Is kenya capable of funding its needs now that...   \n",
       "\n",
       "                                                text      keyword  \\\n",
       "0  Someone on a different group (different websit...  usaid kenya   \n",
       "1  The classism I'm seeing in both subs is a good...  usaid kenya   \n",
       "2  Are you still in contact with the organisation...  usaid kenya   \n",
       "3  I don't care what good book you read, but it's...  usaid kenya   \n",
       "4  How is kenya prepared to fill the vacuum of US...  usaid kenya   \n",
       "\n",
       "  published_date                                                url  \\\n",
       "0     2025-04-15  https://www.reddit.com/r/Kenya/comments/1jzrn2...   \n",
       "1     2025-04-07  https://www.reddit.com/r/Kenya/comments/1jtcvb...   \n",
       "2     2025-04-05  https://www.reddit.com/r/Kenya/comments/1jsb14...   \n",
       "3     2025-03-25  https://www.reddit.com/r/Kenya/comments/1jjehw...   \n",
       "4     2025-03-08  https://www.reddit.com/r/Kenya/comments/1j6cjz...   \n",
       "\n",
       "         source_file  \n",
       "0  Agatha_reddit.csv  \n",
       "1  Agatha_reddit.csv  \n",
       "2  Agatha_reddit.csv  \n",
       "3  Agatha_reddit.csv  \n",
       "4  Agatha_reddit.csv  "
      ]
     },
     "execution_count": 8,
     "metadata": {},
     "output_type": "execute_result"
    }
   ],
   "source": [
    "# Extract date and time\n",
    "combined_df['time'] = combined_df['published_date'].dt.time\n",
    "combined_df['published_date'] = combined_df['published_date'].dt.date\n",
    "\n",
    "#Drop the time column\n",
    "combined_df.drop(columns='time', inplace=True)\n",
    "combined_df.head()"
   ]
  },
  {
   "cell_type": "code",
   "execution_count": 9,
   "id": "203cd407",
   "metadata": {},
   "outputs": [
    {
     "data": {
      "text/html": [
       "<div>\n",
       "<style scoped>\n",
       "    .dataframe tbody tr th:only-of-type {\n",
       "        vertical-align: middle;\n",
       "    }\n",
       "\n",
       "    .dataframe tbody tr th {\n",
       "        vertical-align: top;\n",
       "    }\n",
       "\n",
       "    .dataframe thead th {\n",
       "        text-align: right;\n",
       "    }\n",
       "</style>\n",
       "<table border=\"1\" class=\"dataframe\">\n",
       "  <thead>\n",
       "    <tr style=\"text-align: right;\">\n",
       "      <th></th>\n",
       "      <th>post_title</th>\n",
       "      <th>text</th>\n",
       "      <th>keyword</th>\n",
       "      <th>published_date</th>\n",
       "      <th>url</th>\n",
       "      <th>source_file</th>\n",
       "    </tr>\n",
       "  </thead>\n",
       "  <tbody>\n",
       "    <tr>\n",
       "      <th>617</th>\n",
       "      <td>US to finish $671 million in foreign aid payme...</td>\n",
       "      <td>NaN</td>\n",
       "      <td>foreign aid, foreign aid</td>\n",
       "      <td>2025-03-21</td>\n",
       "      <td>https://www.reuters.com/world/us/us-finish-671...</td>\n",
       "      <td>cecilia.redditsubs.csv</td>\n",
       "    </tr>\n",
       "    <tr>\n",
       "      <th>1015</th>\n",
       "      <td>Senator Bob Corker says, USAID Contracting in ...</td>\n",
       "      <td>NaN</td>\n",
       "      <td>None</td>\n",
       "      <td>NaT</td>\n",
       "      <td>http://sputniknews.com/us/20150117/1017005125....</td>\n",
       "      <td>Mbego_reddit_usaid_kenya2.csv</td>\n",
       "    </tr>\n",
       "    <tr>\n",
       "      <th>1011</th>\n",
       "      <td>USAID Says Building Of 'Cuban Twitter' Was Par...</td>\n",
       "      <td>NaN</td>\n",
       "      <td>None</td>\n",
       "      <td>NaT</td>\n",
       "      <td>http://www.npr.org/blogs/thetwo-way/2014/04/07...</td>\n",
       "      <td>Mbego_reddit_usaid_kenya2.csv</td>\n",
       "    </tr>\n",
       "    <tr>\n",
       "      <th>596</th>\n",
       "      <td>House passes rescission package to claw back $...</td>\n",
       "      <td>NaN</td>\n",
       "      <td>foreign aid, foreign aid</td>\n",
       "      <td>2025-06-12</td>\n",
       "      <td>https://www.cbsnews.com/news/house-vote-rescis...</td>\n",
       "      <td>cecilia.redditsubs.csv</td>\n",
       "    </tr>\n",
       "    <tr>\n",
       "      <th>237</th>\n",
       "      <td>Racism - how often do you as a Kenyan feel rac...</td>\n",
       "      <td>I have lived half of my life in Kenya. I've ju...</td>\n",
       "      <td>development aid kenya</td>\n",
       "      <td>2025-05-19</td>\n",
       "      <td>https://www.reddit.com/r/Kenya/comments/1kq6n2...</td>\n",
       "      <td>Agatha_reddit.csv</td>\n",
       "    </tr>\n",
       "    <tr>\n",
       "      <th>259</th>\n",
       "      <td>Do you think this applies to Kenya? Why or why...</td>\n",
       "      <td>Kenya is the most developed nation in East Afr...</td>\n",
       "      <td>development aid kenya</td>\n",
       "      <td>2025-04-03</td>\n",
       "      <td>https://i.redd.it/05b87nicklse1.jpeg</td>\n",
       "      <td>Agatha_reddit.csv</td>\n",
       "    </tr>\n",
       "    <tr>\n",
       "      <th>1299</th>\n",
       "      <td>That world happiness survey is complete crap</td>\n",
       "      <td>I usually do not do this, as this does not dir...</td>\n",
       "      <td>None</td>\n",
       "      <td>2025-04-20</td>\n",
       "      <td>https://nypost.com/2017/03/22/that-world-happi...</td>\n",
       "      <td>ruth_reddit.csv</td>\n",
       "    </tr>\n",
       "    <tr>\n",
       "      <th>863</th>\n",
       "      <td>Africa’s main problem is being a sellout</td>\n",
       "      <td>Guys hear me out, in all the major historical ...</td>\n",
       "      <td>None</td>\n",
       "      <td>1970-01-01</td>\n",
       "      <td>https://www.reddit.com/r/Kenya/comments/1k5zel...</td>\n",
       "      <td>leo_reddit_posts.csv</td>\n",
       "    </tr>\n",
       "    <tr>\n",
       "      <th>1225</th>\n",
       "      <td>Men’s Mental Health Matters</td>\n",
       "      <td>Male suicide is still one of the most ignored ...</td>\n",
       "      <td>None</td>\n",
       "      <td>2025-06-09</td>\n",
       "      <td>https://www.reddit.com/r/Kenya/comments/1l70xu...</td>\n",
       "      <td>ruth_reddit.csv</td>\n",
       "    </tr>\n",
       "    <tr>\n",
       "      <th>675</th>\n",
       "      <td>How ending foreign aid could damage U.S. natio...</td>\n",
       "      <td>NaN</td>\n",
       "      <td>foreign aid, foreign aid</td>\n",
       "      <td>2025-02-06</td>\n",
       "      <td>https://www.wbur.org/onpoint/2025/02/05/ending...</td>\n",
       "      <td>cecilia.redditsubs.csv</td>\n",
       "    </tr>\n",
       "  </tbody>\n",
       "</table>\n",
       "</div>"
      ],
      "text/plain": [
       "                                             post_title  \\\n",
       "617   US to finish $671 million in foreign aid payme...   \n",
       "1015  Senator Bob Corker says, USAID Contracting in ...   \n",
       "1011  USAID Says Building Of 'Cuban Twitter' Was Par...   \n",
       "596   House passes rescission package to claw back $...   \n",
       "237   Racism - how often do you as a Kenyan feel rac...   \n",
       "259   Do you think this applies to Kenya? Why or why...   \n",
       "1299       That world happiness survey is complete crap   \n",
       "863            Africa’s main problem is being a sellout   \n",
       "1225                        Men’s Mental Health Matters   \n",
       "675   How ending foreign aid could damage U.S. natio...   \n",
       "\n",
       "                                                   text  \\\n",
       "617                                                 NaN   \n",
       "1015                                                NaN   \n",
       "1011                                                NaN   \n",
       "596                                                 NaN   \n",
       "237   I have lived half of my life in Kenya. I've ju...   \n",
       "259   Kenya is the most developed nation in East Afr...   \n",
       "1299  I usually do not do this, as this does not dir...   \n",
       "863   Guys hear me out, in all the major historical ...   \n",
       "1225  Male suicide is still one of the most ignored ...   \n",
       "675                                                 NaN   \n",
       "\n",
       "                       keyword published_date  \\\n",
       "617   foreign aid, foreign aid     2025-03-21   \n",
       "1015                      None            NaT   \n",
       "1011                      None            NaT   \n",
       "596   foreign aid, foreign aid     2025-06-12   \n",
       "237      development aid kenya     2025-05-19   \n",
       "259      development aid kenya     2025-04-03   \n",
       "1299                      None     2025-04-20   \n",
       "863                       None     1970-01-01   \n",
       "1225                      None     2025-06-09   \n",
       "675   foreign aid, foreign aid     2025-02-06   \n",
       "\n",
       "                                                    url  \\\n",
       "617   https://www.reuters.com/world/us/us-finish-671...   \n",
       "1015  http://sputniknews.com/us/20150117/1017005125....   \n",
       "1011  http://www.npr.org/blogs/thetwo-way/2014/04/07...   \n",
       "596   https://www.cbsnews.com/news/house-vote-rescis...   \n",
       "237   https://www.reddit.com/r/Kenya/comments/1kq6n2...   \n",
       "259                https://i.redd.it/05b87nicklse1.jpeg   \n",
       "1299  https://nypost.com/2017/03/22/that-world-happi...   \n",
       "863   https://www.reddit.com/r/Kenya/comments/1k5zel...   \n",
       "1225  https://www.reddit.com/r/Kenya/comments/1l70xu...   \n",
       "675   https://www.wbur.org/onpoint/2025/02/05/ending...   \n",
       "\n",
       "                        source_file  \n",
       "617          cecilia.redditsubs.csv  \n",
       "1015  Mbego_reddit_usaid_kenya2.csv  \n",
       "1011  Mbego_reddit_usaid_kenya2.csv  \n",
       "596          cecilia.redditsubs.csv  \n",
       "237               Agatha_reddit.csv  \n",
       "259               Agatha_reddit.csv  \n",
       "1299                ruth_reddit.csv  \n",
       "863            leo_reddit_posts.csv  \n",
       "1225                ruth_reddit.csv  \n",
       "675          cecilia.redditsubs.csv  "
      ]
     },
     "execution_count": 9,
     "metadata": {},
     "output_type": "execute_result"
    }
   ],
   "source": [
    "combined_df.sample(10) #random sample of 10 rows"
   ]
  },
  {
   "cell_type": "markdown",
   "id": "9db6c968",
   "metadata": {},
   "source": [
    "### Save the final merged dataframe to csv"
   ]
  },
  {
   "cell_type": "code",
   "execution_count": 10,
   "id": "be3f73dc",
   "metadata": {},
   "outputs": [
    {
     "name": "stdout",
     "output_type": "stream",
     "text": [
      " Results successfully saved to:\n",
      "C:/Users/hp/Desktop/DATA NEXUS PROJECTS/USAID-Kenya-Sentiment-Analysis/data/processed/individual datasets/Cecilia_merged_reddit_dataset.csv\n"
     ]
    }
   ],
   "source": [
    "# Save to CSV \n",
    "if not combined_df.empty:\n",
    "    output_filename = \"C:/Users/hp/Desktop/DATA NEXUS PROJECTS/USAID-Kenya-Sentiment-Analysis/data/processed/individual datasets/Cecilia_merged_reddit_dataset.csv\"\n",
    "    combined_df.to_csv(output_filename, index=False, encoding='utf-8')\n",
    "    print(f\" Results successfully saved to:\\n{output_filename}\")\n",
    "else:\n",
    "    print(\" No data to save. The DataFrame is empty.\")\n"
   ]
  },
  {
   "cell_type": "code",
   "execution_count": null,
   "id": "4313f5e3",
   "metadata": {},
   "outputs": [],
   "source": []
  },
  {
   "cell_type": "markdown",
   "id": "a05bf2ed",
   "metadata": {},
   "source": [
    "# Merging News CSV Files"
   ]
  },
  {
   "cell_type": "markdown",
   "id": "2e616e2e",
   "metadata": {},
   "source": [
    "### Import necessary libraries"
   ]
  },
  {
   "cell_type": "code",
   "execution_count": 11,
   "id": "350238dc",
   "metadata": {},
   "outputs": [],
   "source": [
    "import pandas as pd\n",
    "import glob\n",
    "import os\n"
   ]
  },
  {
   "cell_type": "markdown",
   "id": "a18c8d34",
   "metadata": {},
   "source": [
    "### Folder path"
   ]
  },
  {
   "cell_type": "code",
   "execution_count": 12,
   "id": "f0bc11b4",
   "metadata": {},
   "outputs": [],
   "source": [
    "folder_path = 'C:/Users/hp/Desktop/DATA NEXUS PROJECTS/USAID-Kenya-Sentiment-Analysis/data/raw/news_data'\n"
   ]
  },
  {
   "cell_type": "markdown",
   "id": "0394822b",
   "metadata": {},
   "source": [
    "### CSV file paths"
   ]
  },
  {
   "cell_type": "code",
   "execution_count": 13,
   "id": "015bbad0",
   "metadata": {},
   "outputs": [
    {
     "data": {
      "text/plain": [
       "['C:/Users/hp/Desktop/DATA NEXUS PROJECTS/USAID-Kenya-Sentiment-Analysis/data/raw/news_data\\\\Agatha_news.csv',\n",
       " 'C:/Users/hp/Desktop/DATA NEXUS PROJECTS/USAID-Kenya-Sentiment-Analysis/data/raw/news_data\\\\cecilia.newsapi.csv',\n",
       " 'C:/Users/hp/Desktop/DATA NEXUS PROJECTS/USAID-Kenya-Sentiment-Analysis/data/raw/news_data\\\\leo_newsapi_articles_enriched.csv',\n",
       " 'C:/Users/hp/Desktop/DATA NEXUS PROJECTS/USAID-Kenya-Sentiment-Analysis/data/raw/news_data\\\\Mbego_news_usaid_kenya_fulltext.csv',\n",
       " 'C:/Users/hp/Desktop/DATA NEXUS PROJECTS/USAID-Kenya-Sentiment-Analysis/data/raw/news_data\\\\Mbego_news_usaid_kenya_recent.csv',\n",
       " 'C:/Users/hp/Desktop/DATA NEXUS PROJECTS/USAID-Kenya-Sentiment-Analysis/data/raw/news_data\\\\newsapi_usaid_articles.csv',\n",
       " 'C:/Users/hp/Desktop/DATA NEXUS PROJECTS/USAID-Kenya-Sentiment-Analysis/data/raw/news_data\\\\ruth_news.csv']"
      ]
     },
     "execution_count": 13,
     "metadata": {},
     "output_type": "execute_result"
    }
   ],
   "source": [
    "folder_path = 'C:/Users/hp/Desktop/DATA NEXUS PROJECTS/USAID-Kenya-Sentiment-Analysis/data/raw/news_data'\n",
    "omit_file = os.path.join(folder_path, 'Agatha_news_fulltext.csv')\n",
    "\n",
    "news_csv_files = glob.glob(os.path.join(folder_path, '*.csv'))\n",
    "news_csv_files = [f for f in news_csv_files if os.path.normpath(f) != os.path.normpath(omit_file)]\n",
    "\n",
    "news_csv_files\n"
   ]
  },
  {
   "cell_type": "markdown",
   "id": "74983ad8",
   "metadata": {},
   "source": [
    "### Reading the files and combining them into one dataframe"
   ]
  },
  {
   "cell_type": "code",
   "execution_count": 14,
   "id": "02b6885f",
   "metadata": {},
   "outputs": [
    {
     "name": "stdout",
     "output_type": "stream",
     "text": [
      "NewsAPI data saved to:\n",
      "C:/Users/hp/Desktop/DATA NEXUS PROJECTS/USAID-Kenya-Sentiment-Analysis/data/processed/individual datasets/Cecilia_merged_news_dataset.csv\n"
     ]
    }
   ],
   "source": [
    "import pandas as pd\n",
    "import os\n",
    "\n",
    "news_columns = ['title', 'description', 'text', 'url', 'keyword', 'published_date', 'source_file']\n",
    "all_news_dfs = []\n",
    "\n",
    "for file in news_csv_files:  \n",
    "    df = pd.read_csv(file)\n",
    "\n",
    "    # Rename content to text \n",
    "    if 'content' in df.columns and 'text' not in df.columns:\n",
    "        df.rename(columns={'content': 'text'}, inplace=True)\n",
    "\n",
    "    # Rename publishedAt to published_date\n",
    "    if 'publishedAt' in df.columns:\n",
    "        df.rename(columns={'publishedAt': 'published_date'}, inplace=True)\n",
    "\n",
    "    # Add missing columns\n",
    "    for col in news_columns:\n",
    "        if col not in df.columns:\n",
    "            df[col] = None\n",
    "\n",
    "    # Convert published_date to datetime\n",
    "    df['published_date'] = pd.to_datetime(df['published_date'], errors='coerce')\n",
    "\n",
    "\n",
    "\n",
    "    # source file info\n",
    "    df['source_file'] = os.path.basename(file)\n",
    "\n",
    "    # standardized columns\n",
    "    df = df[news_columns]\n",
    "    all_news_dfs.append(df)\n",
    "\n",
    "# Combine all\n",
    "news_combined_df = pd.concat(all_news_dfs, ignore_index=True)\n",
    "\n",
    "# Save to CSV\n",
    "output_path = \"C:/Users/hp/Desktop/DATA NEXUS PROJECTS/USAID-Kenya-Sentiment-Analysis/data/processed/individual datasets/Cecilia_merged_news_dataset.csv\"\n",
    "if not news_combined_df.empty:\n",
    "    news_combined_df.to_csv(output_path, index=False, encoding='utf-8')\n",
    "    print(f\"NewsAPI data saved to:\\n{output_path}\")\n",
    "else:\n",
    "    print(\"No NewsAPI data to save. DataFrame is empty.\")\n"
   ]
  },
  {
   "cell_type": "code",
   "execution_count": 15,
   "id": "faed2a11",
   "metadata": {},
   "outputs": [
    {
     "data": {
      "text/plain": [
       "(2638, 7)"
      ]
     },
     "execution_count": 15,
     "metadata": {},
     "output_type": "execute_result"
    }
   ],
   "source": [
    "news_combined_df.shape"
   ]
  },
  {
   "cell_type": "code",
   "execution_count": 16,
   "id": "f6465239",
   "metadata": {},
   "outputs": [
    {
     "data": {
      "text/html": [
       "<div>\n",
       "<style scoped>\n",
       "    .dataframe tbody tr th:only-of-type {\n",
       "        vertical-align: middle;\n",
       "    }\n",
       "\n",
       "    .dataframe tbody tr th {\n",
       "        vertical-align: top;\n",
       "    }\n",
       "\n",
       "    .dataframe thead th {\n",
       "        text-align: right;\n",
       "    }\n",
       "</style>\n",
       "<table border=\"1\" class=\"dataframe\">\n",
       "  <thead>\n",
       "    <tr style=\"text-align: right;\">\n",
       "      <th></th>\n",
       "      <th>title</th>\n",
       "      <th>description</th>\n",
       "      <th>text</th>\n",
       "      <th>url</th>\n",
       "      <th>keyword</th>\n",
       "      <th>published_date</th>\n",
       "      <th>source_file</th>\n",
       "    </tr>\n",
       "  </thead>\n",
       "  <tbody>\n",
       "    <tr>\n",
       "      <th>1244</th>\n",
       "      <td>It's Elon Musk's last official day in DC. Here...</td>\n",
       "      <td>Elon Musk is leaving DC. People across the wor...</td>\n",
       "      <td>President Donald Trump is set to give Elon Mus...</td>\n",
       "      <td>https://www.businessinsider.com/elon-musk-leav...</td>\n",
       "      <td>budget cuts</td>\n",
       "      <td>2025-05-30 15:47:01+00:00</td>\n",
       "      <td>cecilia.newsapi.csv</td>\n",
       "    </tr>\n",
       "    <tr>\n",
       "      <th>1588</th>\n",
       "      <td>The military's role in LA as protests persist....</td>\n",
       "      <td>A curfew has been enforced in downtown LA as a...</td>\n",
       "      <td>Good morning. You're reading the Up First news...</td>\n",
       "      <td>https://www.npr.org/2025/06/11/g-s1-72078/up-f...</td>\n",
       "      <td>foreign aid</td>\n",
       "      <td>2025-06-11 11:03:43+00:00</td>\n",
       "      <td>cecilia.newsapi.csv</td>\n",
       "    </tr>\n",
       "    <tr>\n",
       "      <th>1031</th>\n",
       "      <td>Cloudy skies can’t dim joy as thousands fill W...</td>\n",
       "      <td>Gray skies and drizzle gave way to sunshine, m...</td>\n",
       "      <td>Gray skies and drizzle gave way to sunshine, m...</td>\n",
       "      <td>https://japantoday.com/category/world/cloudy-s...</td>\n",
       "      <td>Trump Kenya</td>\n",
       "      <td>2025-06-08 02:00:56+00:00</td>\n",
       "      <td>cecilia.newsapi.csv</td>\n",
       "    </tr>\n",
       "    <tr>\n",
       "      <th>1330</th>\n",
       "      <td>Brussels bets on securitisation reboot to boos...</td>\n",
       "      <td>Critics warn the move is unlikely to help plug...</td>\n",
       "      <td>The European Commission proposed sweeping chan...</td>\n",
       "      <td>https://www.euractiv.com/section/economy-jobs/...</td>\n",
       "      <td>NGO funding</td>\n",
       "      <td>2025-06-17 15:20:01+00:00</td>\n",
       "      <td>cecilia.newsapi.csv</td>\n",
       "    </tr>\n",
       "    <tr>\n",
       "      <th>1982</th>\n",
       "      <td>EXCLUSIVE: State Department Rebuts Democrat Cl...</td>\n",
       "      <td>FIRST ON THE DAILY SIGNAL—Congressional Democr...</td>\n",
       "      <td>FIRST ON THE DAILY SIGNALCongressional Democra...</td>\n",
       "      <td>https://www.dailysignal.com/2025/06/11/exclusi...</td>\n",
       "      <td>State Department cuts</td>\n",
       "      <td>2025-06-11 14:00:00+00:00</td>\n",
       "      <td>cecilia.newsapi.csv</td>\n",
       "    </tr>\n",
       "    <tr>\n",
       "      <th>148</th>\n",
       "      <td>Trump-Musk feud escalates: What happened? And ...</td>\n",
       "      <td>Elon Musk suggests Donald Trump should be impe...</td>\n",
       "      <td>Washington, DC The ties between United States ...</td>\n",
       "      <td>https://www.aljazeera.com/news/2025/6/6/trump-...</td>\n",
       "      <td>usaid budget cut</td>\n",
       "      <td>2025-06-06 00:57:34+00:00</td>\n",
       "      <td>Agatha_news.csv</td>\n",
       "    </tr>\n",
       "    <tr>\n",
       "      <th>1307</th>\n",
       "      <td>Beijing-linked entities fund anti-ICE nonprofi...</td>\n",
       "      <td>The Chinese-American Planning Council (CPC), a...</td>\n",
       "      <td>&lt;ul&gt;&lt;li&gt;The Chinese-American Planning Council ...</td>\n",
       "      <td>https://www.naturalnews.com/2025-05-25-china-l...</td>\n",
       "      <td>NGO funding</td>\n",
       "      <td>2025-05-25 06:00:00+00:00</td>\n",
       "      <td>cecilia.newsapi.csv</td>\n",
       "    </tr>\n",
       "    <tr>\n",
       "      <th>926</th>\n",
       "      <td>Trump’s big, beautiful bill, explained in 5 ch...</td>\n",
       "      <td>The fight over President Donald Trump’s so-cal...</td>\n",
       "      <td>President Donald Trump, joined by Speaker of t...</td>\n",
       "      <td>https://www.vox.com/trump-administration/41582...</td>\n",
       "      <td>aid budget</td>\n",
       "      <td>2025-06-06 22:51:42+00:00</td>\n",
       "      <td>cecilia.newsapi.csv</td>\n",
       "    </tr>\n",
       "    <tr>\n",
       "      <th>1319</th>\n",
       "      <td>Cash for sharks: the unintended consequences o...</td>\n",
       "      <td>Listen to conservation scientist Hollie Booth ...</td>\n",
       "      <td>As Jaws marks its 50th anniversary this year, ...</td>\n",
       "      <td>https://theconversation.com/cash-for-sharks-th...</td>\n",
       "      <td>NGO funding</td>\n",
       "      <td>2025-06-12 09:23:44+00:00</td>\n",
       "      <td>cecilia.newsapi.csv</td>\n",
       "    </tr>\n",
       "    <tr>\n",
       "      <th>1998</th>\n",
       "      <td>The billionaire breakup</td>\n",
       "      <td>Plus: Pink slips and red flags.</td>\n",
       "      <td>Good morning, Quartz readers!\\r\\nHeres what yo...</td>\n",
       "      <td>https://qz.com/emails/daily-brief/1851783777/t...</td>\n",
       "      <td>State Department cuts</td>\n",
       "      <td>2025-06-05 22:00:00+00:00</td>\n",
       "      <td>cecilia.newsapi.csv</td>\n",
       "    </tr>\n",
       "  </tbody>\n",
       "</table>\n",
       "</div>"
      ],
      "text/plain": [
       "                                                  title  \\\n",
       "1244  It's Elon Musk's last official day in DC. Here...   \n",
       "1588  The military's role in LA as protests persist....   \n",
       "1031  Cloudy skies can’t dim joy as thousands fill W...   \n",
       "1330  Brussels bets on securitisation reboot to boos...   \n",
       "1982  EXCLUSIVE: State Department Rebuts Democrat Cl...   \n",
       "148   Trump-Musk feud escalates: What happened? And ...   \n",
       "1307  Beijing-linked entities fund anti-ICE nonprofi...   \n",
       "926   Trump’s big, beautiful bill, explained in 5 ch...   \n",
       "1319  Cash for sharks: the unintended consequences o...   \n",
       "1998                            The billionaire breakup   \n",
       "\n",
       "                                            description  \\\n",
       "1244  Elon Musk is leaving DC. People across the wor...   \n",
       "1588  A curfew has been enforced in downtown LA as a...   \n",
       "1031  Gray skies and drizzle gave way to sunshine, m...   \n",
       "1330  Critics warn the move is unlikely to help plug...   \n",
       "1982  FIRST ON THE DAILY SIGNAL—Congressional Democr...   \n",
       "148   Elon Musk suggests Donald Trump should be impe...   \n",
       "1307  The Chinese-American Planning Council (CPC), a...   \n",
       "926   The fight over President Donald Trump’s so-cal...   \n",
       "1319  Listen to conservation scientist Hollie Booth ...   \n",
       "1998                    Plus: Pink slips and red flags.   \n",
       "\n",
       "                                                   text  \\\n",
       "1244  President Donald Trump is set to give Elon Mus...   \n",
       "1588  Good morning. You're reading the Up First news...   \n",
       "1031  Gray skies and drizzle gave way to sunshine, m...   \n",
       "1330  The European Commission proposed sweeping chan...   \n",
       "1982  FIRST ON THE DAILY SIGNALCongressional Democra...   \n",
       "148   Washington, DC The ties between United States ...   \n",
       "1307  <ul><li>The Chinese-American Planning Council ...   \n",
       "926   President Donald Trump, joined by Speaker of t...   \n",
       "1319  As Jaws marks its 50th anniversary this year, ...   \n",
       "1998  Good morning, Quartz readers!\\r\\nHeres what yo...   \n",
       "\n",
       "                                                    url  \\\n",
       "1244  https://www.businessinsider.com/elon-musk-leav...   \n",
       "1588  https://www.npr.org/2025/06/11/g-s1-72078/up-f...   \n",
       "1031  https://japantoday.com/category/world/cloudy-s...   \n",
       "1330  https://www.euractiv.com/section/economy-jobs/...   \n",
       "1982  https://www.dailysignal.com/2025/06/11/exclusi...   \n",
       "148   https://www.aljazeera.com/news/2025/6/6/trump-...   \n",
       "1307  https://www.naturalnews.com/2025-05-25-china-l...   \n",
       "926   https://www.vox.com/trump-administration/41582...   \n",
       "1319  https://theconversation.com/cash-for-sharks-th...   \n",
       "1998  https://qz.com/emails/daily-brief/1851783777/t...   \n",
       "\n",
       "                    keyword             published_date          source_file  \n",
       "1244            budget cuts  2025-05-30 15:47:01+00:00  cecilia.newsapi.csv  \n",
       "1588            foreign aid  2025-06-11 11:03:43+00:00  cecilia.newsapi.csv  \n",
       "1031            Trump Kenya  2025-06-08 02:00:56+00:00  cecilia.newsapi.csv  \n",
       "1330            NGO funding  2025-06-17 15:20:01+00:00  cecilia.newsapi.csv  \n",
       "1982  State Department cuts  2025-06-11 14:00:00+00:00  cecilia.newsapi.csv  \n",
       "148        usaid budget cut  2025-06-06 00:57:34+00:00      Agatha_news.csv  \n",
       "1307            NGO funding  2025-05-25 06:00:00+00:00  cecilia.newsapi.csv  \n",
       "926              aid budget  2025-06-06 22:51:42+00:00  cecilia.newsapi.csv  \n",
       "1319            NGO funding  2025-06-12 09:23:44+00:00  cecilia.newsapi.csv  \n",
       "1998  State Department cuts  2025-06-05 22:00:00+00:00  cecilia.newsapi.csv  "
      ]
     },
     "execution_count": 16,
     "metadata": {},
     "output_type": "execute_result"
    }
   ],
   "source": [
    "news_combined_df.sample(10)"
   ]
  },
  {
   "cell_type": "code",
   "execution_count": 17,
   "id": "93b5781e",
   "metadata": {},
   "outputs": [
    {
     "data": {
      "text/plain": [
       "title               0\n",
       "description        16\n",
       "text               25\n",
       "url                 2\n",
       "keyword           259\n",
       "published_date     99\n",
       "source_file         0\n",
       "dtype: int64"
      ]
     },
     "execution_count": 17,
     "metadata": {},
     "output_type": "execute_result"
    }
   ],
   "source": [
    "news_combined_df.isna().sum()"
   ]
  },
  {
   "cell_type": "markdown",
   "id": "09724989",
   "metadata": {},
   "source": [
    "### FINAL REDDIT DATA TO BE USED ~ mbego_all_reddit_merged"
   ]
  },
  {
   "cell_type": "code",
   "execution_count": 18,
   "id": "6ca8581b",
   "metadata": {},
   "outputs": [],
   "source": [
    "import pandas as pd\n",
    "import seaborn as sns"
   ]
  },
  {
   "cell_type": "code",
   "execution_count": 19,
   "id": "846c0959",
   "metadata": {},
   "outputs": [
    {
     "data": {
      "text/html": [
       "<div>\n",
       "<style scoped>\n",
       "    .dataframe tbody tr th:only-of-type {\n",
       "        vertical-align: middle;\n",
       "    }\n",
       "\n",
       "    .dataframe tbody tr th {\n",
       "        vertical-align: top;\n",
       "    }\n",
       "\n",
       "    .dataframe thead th {\n",
       "        text-align: right;\n",
       "    }\n",
       "</style>\n",
       "<table border=\"1\" class=\"dataframe\">\n",
       "  <thead>\n",
       "    <tr style=\"text-align: right;\">\n",
       "      <th></th>\n",
       "      <th>title</th>\n",
       "      <th>selftext</th>\n",
       "      <th>subreddit</th>\n",
       "      <th>author</th>\n",
       "      <th>created_utc</th>\n",
       "      <th>created_date</th>\n",
       "      <th>score</th>\n",
       "      <th>num_comments</th>\n",
       "      <th>keyword</th>\n",
       "      <th>search_term</th>\n",
       "      <th>date_posted</th>\n",
       "      <th>upvotes</th>\n",
       "      <th>comments</th>\n",
       "      <th>url</th>\n",
       "      <th>permalink</th>\n",
       "    </tr>\n",
       "  </thead>\n",
       "  <tbody>\n",
       "    <tr>\n",
       "      <th>0</th>\n",
       "      <td>USAID left a month ago, do we have ARVs in Kenya?</td>\n",
       "      <td>Someone on a different group (different websit...</td>\n",
       "      <td>Kenya</td>\n",
       "      <td>muerki</td>\n",
       "      <td>4/15/2025 13:16</td>\n",
       "      <td>NaN</td>\n",
       "      <td>3.0</td>\n",
       "      <td>5.0</td>\n",
       "      <td>usaid kenya</td>\n",
       "      <td>NaN</td>\n",
       "      <td>NaN</td>\n",
       "      <td>NaN</td>\n",
       "      <td>NaN</td>\n",
       "      <td>https://www.reddit.com/r/Kenya/comments/1jzrn2...</td>\n",
       "      <td>NaN</td>\n",
       "    </tr>\n",
       "    <tr>\n",
       "      <th>1</th>\n",
       "      <td>Classism in r/Kenya and r/nairobi</td>\n",
       "      <td>The classism I'm seeing in both subs is a good...</td>\n",
       "      <td>Kenya</td>\n",
       "      <td>Morio_anzenza</td>\n",
       "      <td>4/7/2025 4:21</td>\n",
       "      <td>NaN</td>\n",
       "      <td>169.0</td>\n",
       "      <td>95.0</td>\n",
       "      <td>usaid kenya</td>\n",
       "      <td>NaN</td>\n",
       "      <td>NaN</td>\n",
       "      <td>NaN</td>\n",
       "      <td>NaN</td>\n",
       "      <td>https://www.reddit.com/r/Kenya/comments/1jtcvb...</td>\n",
       "      <td>NaN</td>\n",
       "    </tr>\n",
       "    <tr>\n",
       "      <th>2</th>\n",
       "      <td>EX-USAID people!! Let's talk</td>\n",
       "      <td>Are you still in contact with the organisation...</td>\n",
       "      <td>Kenya</td>\n",
       "      <td>vindtar</td>\n",
       "      <td>4/5/2025 19:09</td>\n",
       "      <td>NaN</td>\n",
       "      <td>2.0</td>\n",
       "      <td>2.0</td>\n",
       "      <td>usaid kenya</td>\n",
       "      <td>NaN</td>\n",
       "      <td>NaN</td>\n",
       "      <td>NaN</td>\n",
       "      <td>NaN</td>\n",
       "      <td>https://www.reddit.com/r/Kenya/comments/1jsb14...</td>\n",
       "      <td>NaN</td>\n",
       "    </tr>\n",
       "    <tr>\n",
       "      <th>3</th>\n",
       "      <td>Why western powers back Israel no matter what ...</td>\n",
       "      <td>I don't care what good book you read, but it's...</td>\n",
       "      <td>Kenya</td>\n",
       "      <td>Gold_Smart</td>\n",
       "      <td>3/25/2025 8:18</td>\n",
       "      <td>NaN</td>\n",
       "      <td>13.0</td>\n",
       "      <td>20.0</td>\n",
       "      <td>usaid kenya</td>\n",
       "      <td>NaN</td>\n",
       "      <td>NaN</td>\n",
       "      <td>NaN</td>\n",
       "      <td>NaN</td>\n",
       "      <td>https://www.reddit.com/r/Kenya/comments/1jjehw...</td>\n",
       "      <td>NaN</td>\n",
       "    </tr>\n",
       "    <tr>\n",
       "      <th>4</th>\n",
       "      <td>Is kenya capable of funding its needs now that...</td>\n",
       "      <td>How is kenya prepared to fill the vacuum of US...</td>\n",
       "      <td>Kenya</td>\n",
       "      <td>westmaxia</td>\n",
       "      <td>3/8/2025 8:08</td>\n",
       "      <td>NaN</td>\n",
       "      <td>1.0</td>\n",
       "      <td>6.0</td>\n",
       "      <td>usaid kenya</td>\n",
       "      <td>NaN</td>\n",
       "      <td>NaN</td>\n",
       "      <td>NaN</td>\n",
       "      <td>NaN</td>\n",
       "      <td>https://www.reddit.com/r/Kenya/comments/1j6cjz...</td>\n",
       "      <td>NaN</td>\n",
       "    </tr>\n",
       "  </tbody>\n",
       "</table>\n",
       "</div>"
      ],
      "text/plain": [
       "                                               title  \\\n",
       "0  USAID left a month ago, do we have ARVs in Kenya?   \n",
       "1                  Classism in r/Kenya and r/nairobi   \n",
       "2                       EX-USAID people!! Let's talk   \n",
       "3  Why western powers back Israel no matter what ...   \n",
       "4  Is kenya capable of funding its needs now that...   \n",
       "\n",
       "                                            selftext subreddit         author  \\\n",
       "0  Someone on a different group (different websit...     Kenya         muerki   \n",
       "1  The classism I'm seeing in both subs is a good...     Kenya  Morio_anzenza   \n",
       "2  Are you still in contact with the organisation...     Kenya        vindtar   \n",
       "3  I don't care what good book you read, but it's...     Kenya     Gold_Smart   \n",
       "4  How is kenya prepared to fill the vacuum of US...     Kenya      westmaxia   \n",
       "\n",
       "       created_utc created_date  score  num_comments      keyword search_term  \\\n",
       "0  4/15/2025 13:16          NaN    3.0           5.0  usaid kenya         NaN   \n",
       "1    4/7/2025 4:21          NaN  169.0          95.0  usaid kenya         NaN   \n",
       "2   4/5/2025 19:09          NaN    2.0           2.0  usaid kenya         NaN   \n",
       "3   3/25/2025 8:18          NaN   13.0          20.0  usaid kenya         NaN   \n",
       "4    3/8/2025 8:08          NaN    1.0           6.0  usaid kenya         NaN   \n",
       "\n",
       "   date_posted  upvotes  comments  \\\n",
       "0          NaN      NaN       NaN   \n",
       "1          NaN      NaN       NaN   \n",
       "2          NaN      NaN       NaN   \n",
       "3          NaN      NaN       NaN   \n",
       "4          NaN      NaN       NaN   \n",
       "\n",
       "                                                 url permalink  \n",
       "0  https://www.reddit.com/r/Kenya/comments/1jzrn2...       NaN  \n",
       "1  https://www.reddit.com/r/Kenya/comments/1jtcvb...       NaN  \n",
       "2  https://www.reddit.com/r/Kenya/comments/1jsb14...       NaN  \n",
       "3  https://www.reddit.com/r/Kenya/comments/1jjehw...       NaN  \n",
       "4  https://www.reddit.com/r/Kenya/comments/1j6cjz...       NaN  "
      ]
     },
     "execution_count": 19,
     "metadata": {},
     "output_type": "execute_result"
    }
   ],
   "source": [
    "reddit_df = pd.read_csv('C:/Users/hp/Desktop/USAID backuppp for me/mbego_all_reddit_merged.csv')\n",
    "reddit_df.head()"
   ]
  },
  {
   "cell_type": "code",
   "execution_count": 20,
   "id": "bb901bb4",
   "metadata": {},
   "outputs": [
    {
     "data": {
      "text/html": [
       "<div>\n",
       "<style scoped>\n",
       "    .dataframe tbody tr th:only-of-type {\n",
       "        vertical-align: middle;\n",
       "    }\n",
       "\n",
       "    .dataframe tbody tr th {\n",
       "        vertical-align: top;\n",
       "    }\n",
       "\n",
       "    .dataframe thead th {\n",
       "        text-align: right;\n",
       "    }\n",
       "</style>\n",
       "<table border=\"1\" class=\"dataframe\">\n",
       "  <thead>\n",
       "    <tr style=\"text-align: right;\">\n",
       "      <th></th>\n",
       "      <th>title</th>\n",
       "      <th>selftext</th>\n",
       "      <th>subreddit</th>\n",
       "      <th>author</th>\n",
       "      <th>created_utc</th>\n",
       "      <th>created_date</th>\n",
       "      <th>score</th>\n",
       "      <th>num_comments</th>\n",
       "      <th>keyword</th>\n",
       "      <th>search_term</th>\n",
       "      <th>date_posted</th>\n",
       "      <th>upvotes</th>\n",
       "      <th>comments</th>\n",
       "      <th>url</th>\n",
       "      <th>permalink</th>\n",
       "    </tr>\n",
       "  </thead>\n",
       "  <tbody>\n",
       "    <tr>\n",
       "      <th>1284</th>\n",
       "      <td>Weekly Sub-Saharan Africa Security Situation a...</td>\n",
       "      <td>#Somalia 🇸🇴\\r\\n#Sudan 🇸🇩\\r\\nDemocratic Republi...</td>\n",
       "      <td>Africa</td>\n",
       "      <td>NaN</td>\n",
       "      <td>4/18/2025 14:09</td>\n",
       "      <td>NaN</td>\n",
       "      <td>3.0</td>\n",
       "      <td>2.0</td>\n",
       "      <td>NaN</td>\n",
       "      <td>NaN</td>\n",
       "      <td>NaN</td>\n",
       "      <td>NaN</td>\n",
       "      <td>NaN</td>\n",
       "      <td>https://open.substack.com/pub/hasretkargin/p/w...</td>\n",
       "      <td>NaN</td>\n",
       "    </tr>\n",
       "    <tr>\n",
       "      <th>1285</th>\n",
       "      <td>No evidence that Burkina Faso paid off all its...</td>\n",
       "      <td>NaN</td>\n",
       "      <td>Africa</td>\n",
       "      <td>NaN</td>\n",
       "      <td>4/18/2025 8:23</td>\n",
       "      <td>NaN</td>\n",
       "      <td>52.0</td>\n",
       "      <td>25.0</td>\n",
       "      <td>NaN</td>\n",
       "      <td>NaN</td>\n",
       "      <td>NaN</td>\n",
       "      <td>NaN</td>\n",
       "      <td>NaN</td>\n",
       "      <td>https://www.reuters.com/fact-check/burkina-fas...</td>\n",
       "      <td>NaN</td>\n",
       "    </tr>\n",
       "    <tr>\n",
       "      <th>1286</th>\n",
       "      <td>Ghana orders foreigners to exit gold market by...</td>\n",
       "      <td>Ghana has ordered foreigners to exit its gold ...</td>\n",
       "      <td>Africa</td>\n",
       "      <td>NaN</td>\n",
       "      <td>4/17/2025 17:59</td>\n",
       "      <td>NaN</td>\n",
       "      <td>101.0</td>\n",
       "      <td>12.0</td>\n",
       "      <td>NaN</td>\n",
       "      <td>NaN</td>\n",
       "      <td>NaN</td>\n",
       "      <td>NaN</td>\n",
       "      <td>NaN</td>\n",
       "      <td>https://eastleighvoice.co.ke/west%20african/13...</td>\n",
       "      <td>NaN</td>\n",
       "    </tr>\n",
       "    <tr>\n",
       "      <th>1287</th>\n",
       "      <td>Unending Frustration Regarding Sudan War.</td>\n",
       "      <td>https://www.reuters.com/world/britain-boosts-a...</td>\n",
       "      <td>Africa</td>\n",
       "      <td>NaN</td>\n",
       "      <td>4/16/2025 19:33</td>\n",
       "      <td>NaN</td>\n",
       "      <td>11.0</td>\n",
       "      <td>8.0</td>\n",
       "      <td>NaN</td>\n",
       "      <td>NaN</td>\n",
       "      <td>NaN</td>\n",
       "      <td>NaN</td>\n",
       "      <td>NaN</td>\n",
       "      <td>https://www.reddit.com/gallery/1k0t8ed</td>\n",
       "      <td>NaN</td>\n",
       "    </tr>\n",
       "    <tr>\n",
       "      <th>1288</th>\n",
       "      <td>Tanzania's Authoritarian Government Has Just B...</td>\n",
       "      <td>Tanzania's main opposition party has been barr...</td>\n",
       "      <td>Africa</td>\n",
       "      <td>NaN</td>\n",
       "      <td>4/14/2025 11:31</td>\n",
       "      <td>NaN</td>\n",
       "      <td>52.0</td>\n",
       "      <td>14.0</td>\n",
       "      <td>NaN</td>\n",
       "      <td>NaN</td>\n",
       "      <td>NaN</td>\n",
       "      <td>NaN</td>\n",
       "      <td>NaN</td>\n",
       "      <td>https://www.reddit.com/r/Africa/comments/1jywl...</td>\n",
       "      <td>NaN</td>\n",
       "    </tr>\n",
       "  </tbody>\n",
       "</table>\n",
       "</div>"
      ],
      "text/plain": [
       "                                                  title  \\\n",
       "1284  Weekly Sub-Saharan Africa Security Situation a...   \n",
       "1285  No evidence that Burkina Faso paid off all its...   \n",
       "1286  Ghana orders foreigners to exit gold market by...   \n",
       "1287          Unending Frustration Regarding Sudan War.   \n",
       "1288  Tanzania's Authoritarian Government Has Just B...   \n",
       "\n",
       "                                               selftext subreddit author  \\\n",
       "1284  #Somalia 🇸🇴\\r\\n#Sudan 🇸🇩\\r\\nDemocratic Republi...    Africa    NaN   \n",
       "1285                                                NaN    Africa    NaN   \n",
       "1286  Ghana has ordered foreigners to exit its gold ...    Africa    NaN   \n",
       "1287  https://www.reuters.com/world/britain-boosts-a...    Africa    NaN   \n",
       "1288  Tanzania's main opposition party has been barr...    Africa    NaN   \n",
       "\n",
       "          created_utc created_date  score  num_comments keyword search_term  \\\n",
       "1284  4/18/2025 14:09          NaN    3.0           2.0     NaN         NaN   \n",
       "1285   4/18/2025 8:23          NaN   52.0          25.0     NaN         NaN   \n",
       "1286  4/17/2025 17:59          NaN  101.0          12.0     NaN         NaN   \n",
       "1287  4/16/2025 19:33          NaN   11.0           8.0     NaN         NaN   \n",
       "1288  4/14/2025 11:31          NaN   52.0          14.0     NaN         NaN   \n",
       "\n",
       "      date_posted  upvotes  comments  \\\n",
       "1284          NaN      NaN       NaN   \n",
       "1285          NaN      NaN       NaN   \n",
       "1286          NaN      NaN       NaN   \n",
       "1287          NaN      NaN       NaN   \n",
       "1288          NaN      NaN       NaN   \n",
       "\n",
       "                                                    url permalink  \n",
       "1284  https://open.substack.com/pub/hasretkargin/p/w...       NaN  \n",
       "1285  https://www.reuters.com/fact-check/burkina-fas...       NaN  \n",
       "1286  https://eastleighvoice.co.ke/west%20african/13...       NaN  \n",
       "1287             https://www.reddit.com/gallery/1k0t8ed       NaN  \n",
       "1288  https://www.reddit.com/r/Africa/comments/1jywl...       NaN  "
      ]
     },
     "execution_count": 20,
     "metadata": {},
     "output_type": "execute_result"
    }
   ],
   "source": [
    "reddit_df.tail()"
   ]
  },
  {
   "cell_type": "code",
   "execution_count": 21,
   "id": "6ad45f63",
   "metadata": {},
   "outputs": [
    {
     "name": "stdout",
     "output_type": "stream",
     "text": [
      "<class 'pandas.core.frame.DataFrame'>\n",
      "RangeIndex: 1289 entries, 0 to 1288\n",
      "Data columns (total 15 columns):\n",
      " #   Column        Non-Null Count  Dtype  \n",
      "---  ------        --------------  -----  \n",
      " 0   title         1289 non-null   object \n",
      " 1   selftext      901 non-null    object \n",
      " 2   subreddit     1289 non-null   object \n",
      " 3   author        466 non-null    object \n",
      " 4   created_utc   1289 non-null   object \n",
      " 5   created_date  150 non-null    object \n",
      " 6   score         1013 non-null   float64\n",
      " 7   num_comments  833 non-null    float64\n",
      " 8   keyword       742 non-null    object \n",
      " 9   search_term   150 non-null    object \n",
      " 10  date_posted   0 non-null      float64\n",
      " 11  upvotes       276 non-null    float64\n",
      " 12  comments      276 non-null    float64\n",
      " 13  url           1289 non-null   object \n",
      " 14  permalink     426 non-null    object \n",
      "dtypes: float64(5), object(10)\n",
      "memory usage: 151.2+ KB\n"
     ]
    }
   ],
   "source": [
    "reddit_df.info()"
   ]
  },
  {
   "cell_type": "code",
   "execution_count": 22,
   "id": "b7fe73d5",
   "metadata": {},
   "outputs": [
    {
     "data": {
      "text/plain": [
       "(1289, 15)"
      ]
     },
     "execution_count": 22,
     "metadata": {},
     "output_type": "execute_result"
    }
   ],
   "source": [
    "reddit_df.shape"
   ]
  },
  {
   "cell_type": "code",
   "execution_count": 23,
   "id": "a727ec60",
   "metadata": {},
   "outputs": [
    {
     "data": {
      "text/plain": [
       "Index(['title', 'selftext', 'subreddit', 'author', 'created_utc',\n",
       "       'created_date', 'score', 'num_comments', 'keyword', 'search_term',\n",
       "       'date_posted', 'upvotes', 'comments', 'url', 'permalink'],\n",
       "      dtype='object')"
      ]
     },
     "execution_count": 23,
     "metadata": {},
     "output_type": "execute_result"
    }
   ],
   "source": [
    "reddit_df.columns"
   ]
  },
  {
   "cell_type": "code",
   "execution_count": 24,
   "id": "30f65492",
   "metadata": {},
   "outputs": [
    {
     "data": {
      "text/plain": [
       "title            object\n",
       "selftext         object\n",
       "subreddit        object\n",
       "author           object\n",
       "created_utc      object\n",
       "created_date     object\n",
       "score           float64\n",
       "num_comments    float64\n",
       "keyword          object\n",
       "search_term      object\n",
       "date_posted     float64\n",
       "upvotes         float64\n",
       "comments        float64\n",
       "url              object\n",
       "permalink        object\n",
       "dtype: object"
      ]
     },
     "execution_count": 24,
     "metadata": {},
     "output_type": "execute_result"
    }
   ],
   "source": [
    "reddit_df.dtypes"
   ]
  },
  {
   "cell_type": "code",
   "execution_count": 25,
   "id": "60c5141b",
   "metadata": {},
   "outputs": [
    {
     "data": {
      "text/plain": [
       "title              0\n",
       "selftext         388\n",
       "subreddit          0\n",
       "author           823\n",
       "created_utc        0\n",
       "created_date    1139\n",
       "score            276\n",
       "num_comments     456\n",
       "keyword          547\n",
       "search_term     1139\n",
       "date_posted     1289\n",
       "upvotes         1013\n",
       "comments        1013\n",
       "url                0\n",
       "permalink        863\n",
       "dtype: int64"
      ]
     },
     "execution_count": 25,
     "metadata": {},
     "output_type": "execute_result"
    }
   ],
   "source": [
    "reddit_df.isna().sum()"
   ]
  },
  {
   "cell_type": "code",
   "execution_count": 26,
   "id": "f73a4f2a",
   "metadata": {},
   "outputs": [
    {
     "data": {
      "text/html": [
       "<div>\n",
       "<style scoped>\n",
       "    .dataframe tbody tr th:only-of-type {\n",
       "        vertical-align: middle;\n",
       "    }\n",
       "\n",
       "    .dataframe tbody tr th {\n",
       "        vertical-align: top;\n",
       "    }\n",
       "\n",
       "    .dataframe thead th {\n",
       "        text-align: right;\n",
       "    }\n",
       "</style>\n",
       "<table border=\"1\" class=\"dataframe\">\n",
       "  <thead>\n",
       "    <tr style=\"text-align: right;\">\n",
       "      <th></th>\n",
       "      <th>score</th>\n",
       "      <th>num_comments</th>\n",
       "      <th>date_posted</th>\n",
       "      <th>upvotes</th>\n",
       "      <th>comments</th>\n",
       "    </tr>\n",
       "  </thead>\n",
       "  <tbody>\n",
       "    <tr>\n",
       "      <th>count</th>\n",
       "      <td>1013.000000</td>\n",
       "      <td>833.000000</td>\n",
       "      <td>0.0</td>\n",
       "      <td>276.000000</td>\n",
       "      <td>276.000000</td>\n",
       "    </tr>\n",
       "    <tr>\n",
       "      <th>mean</th>\n",
       "      <td>344.626851</td>\n",
       "      <td>31.349340</td>\n",
       "      <td>NaN</td>\n",
       "      <td>337.518116</td>\n",
       "      <td>35.905797</td>\n",
       "    </tr>\n",
       "    <tr>\n",
       "      <th>std</th>\n",
       "      <td>3106.309319</td>\n",
       "      <td>68.060435</td>\n",
       "      <td>NaN</td>\n",
       "      <td>1623.914761</td>\n",
       "      <td>73.531775</td>\n",
       "    </tr>\n",
       "    <tr>\n",
       "      <th>min</th>\n",
       "      <td>0.000000</td>\n",
       "      <td>0.000000</td>\n",
       "      <td>NaN</td>\n",
       "      <td>0.000000</td>\n",
       "      <td>0.000000</td>\n",
       "    </tr>\n",
       "    <tr>\n",
       "      <th>25%</th>\n",
       "      <td>3.000000</td>\n",
       "      <td>4.000000</td>\n",
       "      <td>NaN</td>\n",
       "      <td>6.750000</td>\n",
       "      <td>5.000000</td>\n",
       "    </tr>\n",
       "    <tr>\n",
       "      <th>50%</th>\n",
       "      <td>10.000000</td>\n",
       "      <td>9.000000</td>\n",
       "      <td>NaN</td>\n",
       "      <td>43.500000</td>\n",
       "      <td>13.000000</td>\n",
       "    </tr>\n",
       "    <tr>\n",
       "      <th>75%</th>\n",
       "      <td>54.000000</td>\n",
       "      <td>31.000000</td>\n",
       "      <td>NaN</td>\n",
       "      <td>111.250000</td>\n",
       "      <td>31.250000</td>\n",
       "    </tr>\n",
       "    <tr>\n",
       "      <th>max</th>\n",
       "      <td>79088.000000</td>\n",
       "      <td>706.000000</td>\n",
       "      <td>NaN</td>\n",
       "      <td>22208.000000</td>\n",
       "      <td>558.000000</td>\n",
       "    </tr>\n",
       "  </tbody>\n",
       "</table>\n",
       "</div>"
      ],
      "text/plain": [
       "              score  num_comments  date_posted       upvotes    comments\n",
       "count   1013.000000    833.000000          0.0    276.000000  276.000000\n",
       "mean     344.626851     31.349340          NaN    337.518116   35.905797\n",
       "std     3106.309319     68.060435          NaN   1623.914761   73.531775\n",
       "min        0.000000      0.000000          NaN      0.000000    0.000000\n",
       "25%        3.000000      4.000000          NaN      6.750000    5.000000\n",
       "50%       10.000000      9.000000          NaN     43.500000   13.000000\n",
       "75%       54.000000     31.000000          NaN    111.250000   31.250000\n",
       "max    79088.000000    706.000000          NaN  22208.000000  558.000000"
      ]
     },
     "execution_count": 26,
     "metadata": {},
     "output_type": "execute_result"
    }
   ],
   "source": [
    "reddit_df.describe()"
   ]
  },
  {
   "cell_type": "markdown",
   "id": "9dd4cbe8",
   "metadata": {},
   "source": [
    "## Data Cleaning"
   ]
  },
  {
   "cell_type": "markdown",
   "id": "9c842aff",
   "metadata": {},
   "source": [
    "### Dropping Unneccessary Columns"
   ]
  },
  {
   "cell_type": "code",
   "execution_count": 27,
   "id": "9d728b90",
   "metadata": {},
   "outputs": [
    {
     "data": {
      "text/html": [
       "<div>\n",
       "<style scoped>\n",
       "    .dataframe tbody tr th:only-of-type {\n",
       "        vertical-align: middle;\n",
       "    }\n",
       "\n",
       "    .dataframe tbody tr th {\n",
       "        vertical-align: top;\n",
       "    }\n",
       "\n",
       "    .dataframe thead th {\n",
       "        text-align: right;\n",
       "    }\n",
       "</style>\n",
       "<table border=\"1\" class=\"dataframe\">\n",
       "  <thead>\n",
       "    <tr style=\"text-align: right;\">\n",
       "      <th></th>\n",
       "      <th>title</th>\n",
       "      <th>selftext</th>\n",
       "      <th>created_utc</th>\n",
       "      <th>keyword</th>\n",
       "      <th>url</th>\n",
       "    </tr>\n",
       "  </thead>\n",
       "  <tbody>\n",
       "    <tr>\n",
       "      <th>0</th>\n",
       "      <td>USAID left a month ago, do we have ARVs in Kenya?</td>\n",
       "      <td>Someone on a different group (different websit...</td>\n",
       "      <td>4/15/2025 13:16</td>\n",
       "      <td>usaid kenya</td>\n",
       "      <td>https://www.reddit.com/r/Kenya/comments/1jzrn2...</td>\n",
       "    </tr>\n",
       "    <tr>\n",
       "      <th>1</th>\n",
       "      <td>Classism in r/Kenya and r/nairobi</td>\n",
       "      <td>The classism I'm seeing in both subs is a good...</td>\n",
       "      <td>4/7/2025 4:21</td>\n",
       "      <td>usaid kenya</td>\n",
       "      <td>https://www.reddit.com/r/Kenya/comments/1jtcvb...</td>\n",
       "    </tr>\n",
       "    <tr>\n",
       "      <th>2</th>\n",
       "      <td>EX-USAID people!! Let's talk</td>\n",
       "      <td>Are you still in contact with the organisation...</td>\n",
       "      <td>4/5/2025 19:09</td>\n",
       "      <td>usaid kenya</td>\n",
       "      <td>https://www.reddit.com/r/Kenya/comments/1jsb14...</td>\n",
       "    </tr>\n",
       "    <tr>\n",
       "      <th>3</th>\n",
       "      <td>Why western powers back Israel no matter what ...</td>\n",
       "      <td>I don't care what good book you read, but it's...</td>\n",
       "      <td>3/25/2025 8:18</td>\n",
       "      <td>usaid kenya</td>\n",
       "      <td>https://www.reddit.com/r/Kenya/comments/1jjehw...</td>\n",
       "    </tr>\n",
       "    <tr>\n",
       "      <th>4</th>\n",
       "      <td>Is kenya capable of funding its needs now that...</td>\n",
       "      <td>How is kenya prepared to fill the vacuum of US...</td>\n",
       "      <td>3/8/2025 8:08</td>\n",
       "      <td>usaid kenya</td>\n",
       "      <td>https://www.reddit.com/r/Kenya/comments/1j6cjz...</td>\n",
       "    </tr>\n",
       "  </tbody>\n",
       "</table>\n",
       "</div>"
      ],
      "text/plain": [
       "                                               title  \\\n",
       "0  USAID left a month ago, do we have ARVs in Kenya?   \n",
       "1                  Classism in r/Kenya and r/nairobi   \n",
       "2                       EX-USAID people!! Let's talk   \n",
       "3  Why western powers back Israel no matter what ...   \n",
       "4  Is kenya capable of funding its needs now that...   \n",
       "\n",
       "                                            selftext      created_utc  \\\n",
       "0  Someone on a different group (different websit...  4/15/2025 13:16   \n",
       "1  The classism I'm seeing in both subs is a good...    4/7/2025 4:21   \n",
       "2  Are you still in contact with the organisation...   4/5/2025 19:09   \n",
       "3  I don't care what good book you read, but it's...   3/25/2025 8:18   \n",
       "4  How is kenya prepared to fill the vacuum of US...    3/8/2025 8:08   \n",
       "\n",
       "       keyword                                                url  \n",
       "0  usaid kenya  https://www.reddit.com/r/Kenya/comments/1jzrn2...  \n",
       "1  usaid kenya  https://www.reddit.com/r/Kenya/comments/1jtcvb...  \n",
       "2  usaid kenya  https://www.reddit.com/r/Kenya/comments/1jsb14...  \n",
       "3  usaid kenya  https://www.reddit.com/r/Kenya/comments/1jjehw...  \n",
       "4  usaid kenya  https://www.reddit.com/r/Kenya/comments/1j6cjz...  "
      ]
     },
     "execution_count": 27,
     "metadata": {},
     "output_type": "execute_result"
    }
   ],
   "source": [
    "reddit_df.drop(columns=['subreddit', 'author','created_date','score','num_comments','search_term','date_posted','upvotes','comments','permalink'], inplace=True)\n",
    "reddit_df.head()"
   ]
  },
  {
   "cell_type": "code",
   "execution_count": 28,
   "id": "b3a0c1d9",
   "metadata": {},
   "outputs": [
    {
     "data": {
      "text/plain": [
       "Index(['title', 'selftext', 'created_utc', 'keyword', 'url'], dtype='object')"
      ]
     },
     "execution_count": 28,
     "metadata": {},
     "output_type": "execute_result"
    }
   ],
   "source": [
    "reddit_df.columns"
   ]
  },
  {
   "cell_type": "markdown",
   "id": "7d1439e1",
   "metadata": {},
   "source": [
    "### Checking for missing values"
   ]
  },
  {
   "cell_type": "code",
   "execution_count": 29,
   "id": "6bb35394",
   "metadata": {},
   "outputs": [
    {
     "data": {
      "text/plain": [
       "title            0\n",
       "selftext       388\n",
       "created_utc      0\n",
       "keyword        547\n",
       "url              0\n",
       "dtype: int64"
      ]
     },
     "execution_count": 29,
     "metadata": {},
     "output_type": "execute_result"
    }
   ],
   "source": [
    "reddit_df.isna().sum()"
   ]
  },
  {
   "cell_type": "code",
   "execution_count": 30,
   "id": "b079ba9e",
   "metadata": {},
   "outputs": [
    {
     "data": {
      "text/html": [
       "<div>\n",
       "<style scoped>\n",
       "    .dataframe tbody tr th:only-of-type {\n",
       "        vertical-align: middle;\n",
       "    }\n",
       "\n",
       "    .dataframe tbody tr th {\n",
       "        vertical-align: top;\n",
       "    }\n",
       "\n",
       "    .dataframe thead th {\n",
       "        text-align: right;\n",
       "    }\n",
       "</style>\n",
       "<table border=\"1\" class=\"dataframe\">\n",
       "  <thead>\n",
       "    <tr style=\"text-align: right;\">\n",
       "      <th></th>\n",
       "      <th>selftext</th>\n",
       "      <th>title</th>\n",
       "      <th>url</th>\n",
       "    </tr>\n",
       "  </thead>\n",
       "  <tbody>\n",
       "    <tr>\n",
       "      <th>330</th>\n",
       "      <td>TL;DR: Kenya's development challenges are deep...</td>\n",
       "      <td>Vietnam gas CEO</td>\n",
       "      <td>https://www.reddit.com/r/Kenya/comments/1k7ego...</td>\n",
       "    </tr>\n",
       "    <tr>\n",
       "      <th>706</th>\n",
       "      <td>Israel has received $310B dollars since its fo...</td>\n",
       "      <td>Why does the US Taxpayer give Israel so much m...</td>\n",
       "      <td>https://www.reddit.com/r/AskConservatives/comm...</td>\n",
       "    </tr>\n",
       "    <tr>\n",
       "      <th>673</th>\n",
       "      <td>NaN</td>\n",
       "      <td>Don’t Gut USAID: Trump Should Refashion the Fo...</td>\n",
       "      <td>https://www.foreignaffairs.com/united-states/a...</td>\n",
       "    </tr>\n",
       "    <tr>\n",
       "      <th>618</th>\n",
       "      <td>NaN</td>\n",
       "      <td>Trump aides circulate plan for complete revamp...</td>\n",
       "      <td>https://www.politico.com/news/2025/03/19/trump...</td>\n",
       "    </tr>\n",
       "    <tr>\n",
       "      <th>1085</th>\n",
       "      <td>NaN</td>\n",
       "      <td>US Congressman Scott Perry Accuses USAID of Fu...</td>\n",
       "      <td>https://streetsofkante.com/us-congressman-scot...</td>\n",
       "    </tr>\n",
       "    <tr>\n",
       "      <th>814</th>\n",
       "      <td>Hey r/kenya,\\r\\n\\r\\nIt’s with a heavy heart th...</td>\n",
       "      <td>Closing My Electronics  Repair Shop in Nairobi...</td>\n",
       "      <td>https://www.reddit.com/r/Kenya/comments/1k4lkw...</td>\n",
       "    </tr>\n",
       "    <tr>\n",
       "      <th>152</th>\n",
       "      <td>Someone on a different group (different websit...</td>\n",
       "      <td>USAID left a month ago, do we have ARVs in Kenya?</td>\n",
       "      <td>https://www.reddit.com/r/Kenya/comments/1jzrn2...</td>\n",
       "    </tr>\n",
       "    <tr>\n",
       "      <th>995</th>\n",
       "      <td>NaN</td>\n",
       "      <td>In a meeting held at the US Consulate in Erbil...</td>\n",
       "      <td>https://www.kurdistan24.net/en/news/d432ab5b-6...</td>\n",
       "    </tr>\n",
       "    <tr>\n",
       "      <th>919</th>\n",
       "      <td>Are you still in contact with the organisation...</td>\n",
       "      <td>EX-USAID people!! Let's talk</td>\n",
       "      <td>https://www.reddit.com/r/Kenya/comments/1jsb14...</td>\n",
       "    </tr>\n",
       "    <tr>\n",
       "      <th>826</th>\n",
       "      <td>I'm sure most of us are fully aware of the fru...</td>\n",
       "      <td>Kenyan Startup environment and what can be done</td>\n",
       "      <td>https://www.reddit.com/r/Kenya/comments/1jtthj...</td>\n",
       "    </tr>\n",
       "  </tbody>\n",
       "</table>\n",
       "</div>"
      ],
      "text/plain": [
       "                                               selftext  \\\n",
       "330   TL;DR: Kenya's development challenges are deep...   \n",
       "706   Israel has received $310B dollars since its fo...   \n",
       "673                                                 NaN   \n",
       "618                                                 NaN   \n",
       "1085                                                NaN   \n",
       "814   Hey r/kenya,\\r\\n\\r\\nIt’s with a heavy heart th...   \n",
       "152   Someone on a different group (different websit...   \n",
       "995                                                 NaN   \n",
       "919   Are you still in contact with the organisation...   \n",
       "826   I'm sure most of us are fully aware of the fru...   \n",
       "\n",
       "                                                  title  \\\n",
       "330                                     Vietnam gas CEO   \n",
       "706   Why does the US Taxpayer give Israel so much m...   \n",
       "673   Don’t Gut USAID: Trump Should Refashion the Fo...   \n",
       "618   Trump aides circulate plan for complete revamp...   \n",
       "1085  US Congressman Scott Perry Accuses USAID of Fu...   \n",
       "814   Closing My Electronics  Repair Shop in Nairobi...   \n",
       "152   USAID left a month ago, do we have ARVs in Kenya?   \n",
       "995   In a meeting held at the US Consulate in Erbil...   \n",
       "919                        EX-USAID people!! Let's talk   \n",
       "826     Kenyan Startup environment and what can be done   \n",
       "\n",
       "                                                    url  \n",
       "330   https://www.reddit.com/r/Kenya/comments/1k7ego...  \n",
       "706   https://www.reddit.com/r/AskConservatives/comm...  \n",
       "673   https://www.foreignaffairs.com/united-states/a...  \n",
       "618   https://www.politico.com/news/2025/03/19/trump...  \n",
       "1085  https://streetsofkante.com/us-congressman-scot...  \n",
       "814   https://www.reddit.com/r/Kenya/comments/1k4lkw...  \n",
       "152   https://www.reddit.com/r/Kenya/comments/1jzrn2...  \n",
       "995   https://www.kurdistan24.net/en/news/d432ab5b-6...  \n",
       "919   https://www.reddit.com/r/Kenya/comments/1jsb14...  \n",
       "826   https://www.reddit.com/r/Kenya/comments/1jtthj...  "
      ]
     },
     "execution_count": 30,
     "metadata": {},
     "output_type": "execute_result"
    }
   ],
   "source": [
    "reddit_df[['selftext', 'title','url']].sample(10)"
   ]
  },
  {
   "cell_type": "code",
   "execution_count": 31,
   "id": "adc2b2a7",
   "metadata": {},
   "outputs": [
    {
     "data": {
      "text/html": [
       "<div>\n",
       "<style scoped>\n",
       "    .dataframe tbody tr th:only-of-type {\n",
       "        vertical-align: middle;\n",
       "    }\n",
       "\n",
       "    .dataframe tbody tr th {\n",
       "        vertical-align: top;\n",
       "    }\n",
       "\n",
       "    .dataframe thead th {\n",
       "        text-align: right;\n",
       "    }\n",
       "</style>\n",
       "<table border=\"1\" class=\"dataframe\">\n",
       "  <thead>\n",
       "    <tr style=\"text-align: right;\">\n",
       "      <th></th>\n",
       "      <th>post_title</th>\n",
       "      <th>text</th>\n",
       "      <th>published_date</th>\n",
       "      <th>keyword</th>\n",
       "      <th>url</th>\n",
       "    </tr>\n",
       "  </thead>\n",
       "  <tbody>\n",
       "    <tr>\n",
       "      <th>0</th>\n",
       "      <td>USAID left a month ago, do we have ARVs in Kenya?</td>\n",
       "      <td>Someone on a different group (different websit...</td>\n",
       "      <td>4/15/2025 13:16</td>\n",
       "      <td>usaid kenya</td>\n",
       "      <td>https://www.reddit.com/r/Kenya/comments/1jzrn2...</td>\n",
       "    </tr>\n",
       "    <tr>\n",
       "      <th>1</th>\n",
       "      <td>Classism in r/Kenya and r/nairobi</td>\n",
       "      <td>The classism I'm seeing in both subs is a good...</td>\n",
       "      <td>4/7/2025 4:21</td>\n",
       "      <td>usaid kenya</td>\n",
       "      <td>https://www.reddit.com/r/Kenya/comments/1jtcvb...</td>\n",
       "    </tr>\n",
       "    <tr>\n",
       "      <th>2</th>\n",
       "      <td>EX-USAID people!! Let's talk</td>\n",
       "      <td>Are you still in contact with the organisation...</td>\n",
       "      <td>4/5/2025 19:09</td>\n",
       "      <td>usaid kenya</td>\n",
       "      <td>https://www.reddit.com/r/Kenya/comments/1jsb14...</td>\n",
       "    </tr>\n",
       "    <tr>\n",
       "      <th>3</th>\n",
       "      <td>Why western powers back Israel no matter what ...</td>\n",
       "      <td>I don't care what good book you read, but it's...</td>\n",
       "      <td>3/25/2025 8:18</td>\n",
       "      <td>usaid kenya</td>\n",
       "      <td>https://www.reddit.com/r/Kenya/comments/1jjehw...</td>\n",
       "    </tr>\n",
       "    <tr>\n",
       "      <th>4</th>\n",
       "      <td>Is kenya capable of funding its needs now that...</td>\n",
       "      <td>How is kenya prepared to fill the vacuum of US...</td>\n",
       "      <td>3/8/2025 8:08</td>\n",
       "      <td>usaid kenya</td>\n",
       "      <td>https://www.reddit.com/r/Kenya/comments/1j6cjz...</td>\n",
       "    </tr>\n",
       "  </tbody>\n",
       "</table>\n",
       "</div>"
      ],
      "text/plain": [
       "                                          post_title  \\\n",
       "0  USAID left a month ago, do we have ARVs in Kenya?   \n",
       "1                  Classism in r/Kenya and r/nairobi   \n",
       "2                       EX-USAID people!! Let's talk   \n",
       "3  Why western powers back Israel no matter what ...   \n",
       "4  Is kenya capable of funding its needs now that...   \n",
       "\n",
       "                                                text   published_date  \\\n",
       "0  Someone on a different group (different websit...  4/15/2025 13:16   \n",
       "1  The classism I'm seeing in both subs is a good...    4/7/2025 4:21   \n",
       "2  Are you still in contact with the organisation...   4/5/2025 19:09   \n",
       "3  I don't care what good book you read, but it's...   3/25/2025 8:18   \n",
       "4  How is kenya prepared to fill the vacuum of US...    3/8/2025 8:08   \n",
       "\n",
       "       keyword                                                url  \n",
       "0  usaid kenya  https://www.reddit.com/r/Kenya/comments/1jzrn2...  \n",
       "1  usaid kenya  https://www.reddit.com/r/Kenya/comments/1jtcvb...  \n",
       "2  usaid kenya  https://www.reddit.com/r/Kenya/comments/1jsb14...  \n",
       "3  usaid kenya  https://www.reddit.com/r/Kenya/comments/1jjehw...  \n",
       "4  usaid kenya  https://www.reddit.com/r/Kenya/comments/1j6cjz...  "
      ]
     },
     "execution_count": 31,
     "metadata": {},
     "output_type": "execute_result"
    }
   ],
   "source": [
    "reddit_df.rename(columns={'title':'post_title','selftext':'text','created_utc':'published_date'},inplace=True)\n",
    "reddit_df.head()"
   ]
  },
  {
   "cell_type": "markdown",
   "id": "6cb43549",
   "metadata": {},
   "source": [
    "**parse** - analyze and convert a piece of data (like a string) into a different, more useful format.\n",
    "\n",
    "The below code cleans the published_date column in the data. Some dates are written as normal dates (eg \"2025-04-15\") and others are written as numbers (UNIX timestamps). The code checks each value and tries to convert it into a proper date. If it can’t, it leaves it empty. After that, it removes the time part and keeps just the date. This helps make sure all the dates are in the same clean format."
   ]
  },
  {
   "cell_type": "code",
   "execution_count": 32,
   "id": "3b7730f9",
   "metadata": {},
   "outputs": [
    {
     "name": "stdout",
     "output_type": "stream",
     "text": [
      "Unparsed dates: 0\n"
     ]
    },
    {
     "data": {
      "text/html": [
       "<div>\n",
       "<style scoped>\n",
       "    .dataframe tbody tr th:only-of-type {\n",
       "        vertical-align: middle;\n",
       "    }\n",
       "\n",
       "    .dataframe tbody tr th {\n",
       "        vertical-align: top;\n",
       "    }\n",
       "\n",
       "    .dataframe thead th {\n",
       "        text-align: right;\n",
       "    }\n",
       "</style>\n",
       "<table border=\"1\" class=\"dataframe\">\n",
       "  <thead>\n",
       "    <tr style=\"text-align: right;\">\n",
       "      <th></th>\n",
       "      <th>post_title</th>\n",
       "      <th>text</th>\n",
       "      <th>published_date</th>\n",
       "      <th>keyword</th>\n",
       "      <th>url</th>\n",
       "    </tr>\n",
       "  </thead>\n",
       "  <tbody>\n",
       "    <tr>\n",
       "      <th>0</th>\n",
       "      <td>USAID left a month ago, do we have ARVs in Kenya?</td>\n",
       "      <td>Someone on a different group (different websit...</td>\n",
       "      <td>2025-04-15</td>\n",
       "      <td>usaid kenya</td>\n",
       "      <td>https://www.reddit.com/r/Kenya/comments/1jzrn2...</td>\n",
       "    </tr>\n",
       "    <tr>\n",
       "      <th>1</th>\n",
       "      <td>Classism in r/Kenya and r/nairobi</td>\n",
       "      <td>The classism I'm seeing in both subs is a good...</td>\n",
       "      <td>2025-04-07</td>\n",
       "      <td>usaid kenya</td>\n",
       "      <td>https://www.reddit.com/r/Kenya/comments/1jtcvb...</td>\n",
       "    </tr>\n",
       "    <tr>\n",
       "      <th>2</th>\n",
       "      <td>EX-USAID people!! Let's talk</td>\n",
       "      <td>Are you still in contact with the organisation...</td>\n",
       "      <td>2025-04-05</td>\n",
       "      <td>usaid kenya</td>\n",
       "      <td>https://www.reddit.com/r/Kenya/comments/1jsb14...</td>\n",
       "    </tr>\n",
       "    <tr>\n",
       "      <th>3</th>\n",
       "      <td>Why western powers back Israel no matter what ...</td>\n",
       "      <td>I don't care what good book you read, but it's...</td>\n",
       "      <td>2025-03-25</td>\n",
       "      <td>usaid kenya</td>\n",
       "      <td>https://www.reddit.com/r/Kenya/comments/1jjehw...</td>\n",
       "    </tr>\n",
       "    <tr>\n",
       "      <th>4</th>\n",
       "      <td>Is kenya capable of funding its needs now that...</td>\n",
       "      <td>How is kenya prepared to fill the vacuum of US...</td>\n",
       "      <td>2025-03-08</td>\n",
       "      <td>usaid kenya</td>\n",
       "      <td>https://www.reddit.com/r/Kenya/comments/1j6cjz...</td>\n",
       "    </tr>\n",
       "  </tbody>\n",
       "</table>\n",
       "</div>"
      ],
      "text/plain": [
       "                                          post_title  \\\n",
       "0  USAID left a month ago, do we have ARVs in Kenya?   \n",
       "1                  Classism in r/Kenya and r/nairobi   \n",
       "2                       EX-USAID people!! Let's talk   \n",
       "3  Why western powers back Israel no matter what ...   \n",
       "4  Is kenya capable of funding its needs now that...   \n",
       "\n",
       "                                                text published_date  \\\n",
       "0  Someone on a different group (different websit...     2025-04-15   \n",
       "1  The classism I'm seeing in both subs is a good...     2025-04-07   \n",
       "2  Are you still in contact with the organisation...     2025-04-05   \n",
       "3  I don't care what good book you read, but it's...     2025-03-25   \n",
       "4  How is kenya prepared to fill the vacuum of US...     2025-03-08   \n",
       "\n",
       "       keyword                                                url  \n",
       "0  usaid kenya  https://www.reddit.com/r/Kenya/comments/1jzrn2...  \n",
       "1  usaid kenya  https://www.reddit.com/r/Kenya/comments/1jtcvb...  \n",
       "2  usaid kenya  https://www.reddit.com/r/Kenya/comments/1jsb14...  \n",
       "3  usaid kenya  https://www.reddit.com/r/Kenya/comments/1jjehw...  \n",
       "4  usaid kenya  https://www.reddit.com/r/Kenya/comments/1j6cjz...  "
      ]
     },
     "execution_count": 32,
     "metadata": {},
     "output_type": "execute_result"
    }
   ],
   "source": [
    "import pandas as pd\n",
    "\n",
    "# Function to handle both datetime strings and UNIX timestamps\n",
    "def parse_mixed_dates(val):\n",
    "    try:\n",
    "        # Parse as a regular datetime string\n",
    "        return pd.to_datetime(val)\n",
    "    except:\n",
    "        try:\n",
    "            # Parse as a UNIX timestamp\n",
    "            return pd.to_datetime(float(val), unit='s')\n",
    "        except:\n",
    "            return pd.NaT  # Return NaT if all parsing fails\n",
    "\n",
    "# Apply the parsing function\n",
    "reddit_df['published_date'] = reddit_df['published_date'].apply(parse_mixed_dates)\n",
    "\n",
    "# Check how many dates failed to parse\n",
    "print(\"Unparsed dates:\", reddit_df['published_date'].isna().sum())\n",
    "\n",
    "# Extract date only (remove time)\n",
    "reddit_df['published_date'] = reddit_df['published_date'].dt.date\n",
    "reddit_df.head()"
   ]
  },
  {
   "cell_type": "code",
   "execution_count": 33,
   "id": "0f3eebd2",
   "metadata": {},
   "outputs": [
    {
     "data": {
      "text/plain": [
       "0"
      ]
     },
     "execution_count": 33,
     "metadata": {},
     "output_type": "execute_result"
    }
   ],
   "source": [
    "reddit_df['published_date'].isna().sum() #check the missing values in date"
   ]
  },
  {
   "cell_type": "code",
   "execution_count": 34,
   "id": "e5641d8e",
   "metadata": {},
   "outputs": [],
   "source": [
    "reddit_df.dropna(subset=['published_date'], inplace=True) #drop missing values in date"
   ]
  },
  {
   "cell_type": "code",
   "execution_count": 35,
   "id": "d24d8427",
   "metadata": {},
   "outputs": [
    {
     "data": {
      "text/plain": [
       "(1289, 5)"
      ]
     },
     "execution_count": 35,
     "metadata": {},
     "output_type": "execute_result"
    }
   ],
   "source": [
    "reddit_df.shape #check the shape of the dataset"
   ]
  },
  {
   "cell_type": "code",
   "execution_count": 36,
   "id": "8a3cd9dc",
   "metadata": {},
   "outputs": [
    {
     "data": {
      "text/plain": [
       "post_title          0\n",
       "text              388\n",
       "published_date      0\n",
       "keyword           547\n",
       "url                 0\n",
       "dtype: int64"
      ]
     },
     "execution_count": 36,
     "metadata": {},
     "output_type": "execute_result"
    }
   ],
   "source": [
    "reddit_df.isna().sum() #check for missing values"
   ]
  },
  {
   "cell_type": "markdown",
   "id": "e9daac39",
   "metadata": {},
   "source": [
    "### Fill missing values in text with an empty string"
   ]
  },
  {
   "cell_type": "markdown",
   "id": "063ab99e",
   "metadata": {},
   "source": [
    "I filled missing values in text with an empty string because these are likely link posts where the author did not add body text."
   ]
  },
  {
   "cell_type": "code",
   "execution_count": 37,
   "id": "8d73eb67",
   "metadata": {},
   "outputs": [
    {
     "data": {
      "text/plain": [
       "post_title          0\n",
       "text                0\n",
       "published_date      0\n",
       "keyword           547\n",
       "url                 0\n",
       "dtype: int64"
      ]
     },
     "execution_count": 37,
     "metadata": {},
     "output_type": "execute_result"
    }
   ],
   "source": [
    "reddit_df['text'] = reddit_df['text'].fillna('')\n",
    "reddit_df.isna().sum()"
   ]
  },
  {
   "cell_type": "markdown",
   "id": "db683fc5",
   "metadata": {},
   "source": [
    "### Fill missing values in keyword with a placeholder 'Unknown'"
   ]
  },
  {
   "cell_type": "code",
   "execution_count": 38,
   "id": "e127f33e",
   "metadata": {},
   "outputs": [
    {
     "data": {
      "text/plain": [
       "858                      unknown\n",
       "368             usaid budget cut\n",
       "1203                     unknown\n",
       "1071                     unknown\n",
       "750                      unknown\n",
       "507                        USAID\n",
       "578     foreign aid, foreign aid\n",
       "537     foreign aid, foreign aid\n",
       "1189                     unknown\n",
       "1241                     unknown\n",
       "Name: keyword, dtype: object"
      ]
     },
     "execution_count": 38,
     "metadata": {},
     "output_type": "execute_result"
    }
   ],
   "source": [
    "reddit_df['keyword'] = reddit_df['keyword'].fillna('unknown')\n",
    "reddit_df['keyword'].sample(10)"
   ]
  },
  {
   "cell_type": "code",
   "execution_count": 39,
   "id": "990926c5",
   "metadata": {},
   "outputs": [
    {
     "data": {
      "text/plain": [
       "post_title        0\n",
       "text              0\n",
       "published_date    0\n",
       "keyword           0\n",
       "url               0\n",
       "dtype: int64"
      ]
     },
     "execution_count": 39,
     "metadata": {},
     "output_type": "execute_result"
    }
   ],
   "source": [
    "reddit_df.isna().sum()"
   ]
  },
  {
   "cell_type": "markdown",
   "id": "05af5201",
   "metadata": {},
   "source": [
    "Missing values filled with an empty string and placeholder to maintain the integrity of the data and maintain a good amount of rows"
   ]
  },
  {
   "cell_type": "markdown",
   "id": "3da82a9e",
   "metadata": {},
   "source": [
    "### Check for duplicates "
   ]
  },
  {
   "cell_type": "code",
   "execution_count": 40,
   "id": "58b4495a",
   "metadata": {},
   "outputs": [
    {
     "data": {
      "text/plain": [
       "145"
      ]
     },
     "execution_count": 40,
     "metadata": {},
     "output_type": "execute_result"
    }
   ],
   "source": [
    "reddit_df.duplicated().sum()"
   ]
  },
  {
   "cell_type": "code",
   "execution_count": 41,
   "id": "aa880fcd",
   "metadata": {},
   "outputs": [],
   "source": [
    "reddit_df.drop_duplicates(inplace=True) #drop all duplicates"
   ]
  },
  {
   "cell_type": "code",
   "execution_count": 42,
   "id": "cb61344d",
   "metadata": {},
   "outputs": [
    {
     "data": {
      "text/plain": [
       "0"
      ]
     },
     "execution_count": 42,
     "metadata": {},
     "output_type": "execute_result"
    }
   ],
   "source": [
    "reddit_df.duplicated().sum() #confirm that all duplicates have been dropped"
   ]
  },
  {
   "cell_type": "code",
   "execution_count": 43,
   "id": "ccafd6f5",
   "metadata": {},
   "outputs": [
    {
     "data": {
      "text/plain": [
       "(1144, 5)"
      ]
     },
     "execution_count": 43,
     "metadata": {},
     "output_type": "execute_result"
    }
   ],
   "source": [
    "reddit_df.shape #shape of the new data after cleaning"
   ]
  },
  {
   "cell_type": "code",
   "execution_count": 44,
   "id": "c6db7488",
   "metadata": {},
   "outputs": [
    {
     "data": {
      "text/plain": [
       "993     No alternative but to disband Hong Kong’s Demo...\n",
       "1262               A liberal democracy isn’t the only way\n",
       "1136    Looking for freelance software developers and ...\n",
       "421     World Health Organization warns of possible tu...\n",
       "674             What the data says about U.S. foreign aid\n",
       "552     According to a White House insider via Politic...\n",
       "911     Saw almost an entire department in a hospital ...\n",
       "984     China warns Hong Kong's last major opposition ...\n",
       "1113                               \"Wapi hawa wanafunzi?\"\n",
       "581               Message from Ken Jackson to USAID staff\n",
       "Name: post_title, dtype: object"
      ]
     },
     "execution_count": 44,
     "metadata": {},
     "output_type": "execute_result"
    }
   ],
   "source": [
    "reddit_df['post_title'].sample(10)"
   ]
  },
  {
   "cell_type": "markdown",
   "id": "2fa69b63",
   "metadata": {},
   "source": [
    "## Sentiment Analysis Data Cleaning"
   ]
  },
  {
   "cell_type": "markdown",
   "id": "062b3c66",
   "metadata": {},
   "source": [
    "Creating a new column 'full_text' that combines 'post_title','text' and the empty string '', to help in sentiment analysis"
   ]
  },
  {
   "cell_type": "code",
   "execution_count": 45,
   "id": "fb0b1744",
   "metadata": {},
   "outputs": [
    {
     "data": {
      "text/html": [
       "<div>\n",
       "<style scoped>\n",
       "    .dataframe tbody tr th:only-of-type {\n",
       "        vertical-align: middle;\n",
       "    }\n",
       "\n",
       "    .dataframe tbody tr th {\n",
       "        vertical-align: top;\n",
       "    }\n",
       "\n",
       "    .dataframe thead th {\n",
       "        text-align: right;\n",
       "    }\n",
       "</style>\n",
       "<table border=\"1\" class=\"dataframe\">\n",
       "  <thead>\n",
       "    <tr style=\"text-align: right;\">\n",
       "      <th></th>\n",
       "      <th>post_title</th>\n",
       "      <th>text</th>\n",
       "      <th>published_date</th>\n",
       "      <th>keyword</th>\n",
       "      <th>url</th>\n",
       "      <th>full_text</th>\n",
       "    </tr>\n",
       "  </thead>\n",
       "  <tbody>\n",
       "    <tr>\n",
       "      <th>0</th>\n",
       "      <td>USAID left a month ago, do we have ARVs in Kenya?</td>\n",
       "      <td>Someone on a different group (different websit...</td>\n",
       "      <td>2025-04-15</td>\n",
       "      <td>usaid kenya</td>\n",
       "      <td>https://www.reddit.com/r/Kenya/comments/1jzrn2...</td>\n",
       "      <td>USAID left a month ago, do we have ARVs in Ken...</td>\n",
       "    </tr>\n",
       "    <tr>\n",
       "      <th>1</th>\n",
       "      <td>Classism in r/Kenya and r/nairobi</td>\n",
       "      <td>The classism I'm seeing in both subs is a good...</td>\n",
       "      <td>2025-04-07</td>\n",
       "      <td>usaid kenya</td>\n",
       "      <td>https://www.reddit.com/r/Kenya/comments/1jtcvb...</td>\n",
       "      <td>Classism in r/Kenya and r/nairobi The classism...</td>\n",
       "    </tr>\n",
       "    <tr>\n",
       "      <th>2</th>\n",
       "      <td>EX-USAID people!! Let's talk</td>\n",
       "      <td>Are you still in contact with the organisation...</td>\n",
       "      <td>2025-04-05</td>\n",
       "      <td>usaid kenya</td>\n",
       "      <td>https://www.reddit.com/r/Kenya/comments/1jsb14...</td>\n",
       "      <td>EX-USAID people!! Let's talk Are you still in ...</td>\n",
       "    </tr>\n",
       "    <tr>\n",
       "      <th>3</th>\n",
       "      <td>Why western powers back Israel no matter what ...</td>\n",
       "      <td>I don't care what good book you read, but it's...</td>\n",
       "      <td>2025-03-25</td>\n",
       "      <td>usaid kenya</td>\n",
       "      <td>https://www.reddit.com/r/Kenya/comments/1jjehw...</td>\n",
       "      <td>Why western powers back Israel no matter what ...</td>\n",
       "    </tr>\n",
       "    <tr>\n",
       "      <th>4</th>\n",
       "      <td>Is kenya capable of funding its needs now that...</td>\n",
       "      <td>How is kenya prepared to fill the vacuum of US...</td>\n",
       "      <td>2025-03-08</td>\n",
       "      <td>usaid kenya</td>\n",
       "      <td>https://www.reddit.com/r/Kenya/comments/1j6cjz...</td>\n",
       "      <td>Is kenya capable of funding its needs now that...</td>\n",
       "    </tr>\n",
       "  </tbody>\n",
       "</table>\n",
       "</div>"
      ],
      "text/plain": [
       "                                          post_title  \\\n",
       "0  USAID left a month ago, do we have ARVs in Kenya?   \n",
       "1                  Classism in r/Kenya and r/nairobi   \n",
       "2                       EX-USAID people!! Let's talk   \n",
       "3  Why western powers back Israel no matter what ...   \n",
       "4  Is kenya capable of funding its needs now that...   \n",
       "\n",
       "                                                text published_date  \\\n",
       "0  Someone on a different group (different websit...     2025-04-15   \n",
       "1  The classism I'm seeing in both subs is a good...     2025-04-07   \n",
       "2  Are you still in contact with the organisation...     2025-04-05   \n",
       "3  I don't care what good book you read, but it's...     2025-03-25   \n",
       "4  How is kenya prepared to fill the vacuum of US...     2025-03-08   \n",
       "\n",
       "       keyword                                                url  \\\n",
       "0  usaid kenya  https://www.reddit.com/r/Kenya/comments/1jzrn2...   \n",
       "1  usaid kenya  https://www.reddit.com/r/Kenya/comments/1jtcvb...   \n",
       "2  usaid kenya  https://www.reddit.com/r/Kenya/comments/1jsb14...   \n",
       "3  usaid kenya  https://www.reddit.com/r/Kenya/comments/1jjehw...   \n",
       "4  usaid kenya  https://www.reddit.com/r/Kenya/comments/1j6cjz...   \n",
       "\n",
       "                                           full_text  \n",
       "0  USAID left a month ago, do we have ARVs in Ken...  \n",
       "1  Classism in r/Kenya and r/nairobi The classism...  \n",
       "2  EX-USAID people!! Let's talk Are you still in ...  \n",
       "3  Why western powers back Israel no matter what ...  \n",
       "4  Is kenya capable of funding its needs now that...  "
      ]
     },
     "execution_count": 45,
     "metadata": {},
     "output_type": "execute_result"
    }
   ],
   "source": [
    "reddit_df['full_text'] = reddit_df['post_title'] + ' ' + reddit_df['text']\n",
    "reddit_df.head() #sample top 5 rows after combining the columns"
   ]
  },
  {
   "cell_type": "code",
   "execution_count": 46,
   "id": "2c5747e5",
   "metadata": {},
   "outputs": [
    {
     "data": {
      "text/plain": [
       "0"
      ]
     },
     "execution_count": 46,
     "metadata": {},
     "output_type": "execute_result"
    }
   ],
   "source": [
    "reddit_df['full_text'].isna().sum() #confirm that there are no missing values in the dataset"
   ]
  },
  {
   "cell_type": "markdown",
   "id": "13d63635",
   "metadata": {},
   "source": [
    "### Lowercasing "
   ]
  },
  {
   "cell_type": "markdown",
   "id": "923cf3ef",
   "metadata": {},
   "source": [
    "Converting all text to lowercase"
   ]
  },
  {
   "cell_type": "code",
   "execution_count": 47,
   "id": "cb464d02",
   "metadata": {},
   "outputs": [
    {
     "data": {
      "text/plain": [
       "597    house approves trump’s request to cut funding ...\n",
       "484    ignorance or malice? i have just watched the m...\n",
       "315                                  the star today eh! \n",
       "956    canada calls usaid shutdown a ‘dangerous retre...\n",
       "465    trump says he could withhold aid from jordan a...\n",
       "430    geneva plans to pay ngo wages after us foreign...\n",
       "578    the stop work orders are blatantly illegal. wh...\n",
       "395    trump to cut off funding for south africa over...\n",
       "227    kenyans in diaspora i have recently been diggi...\n",
       "212    economy for the experts in matters economy and...\n",
       "Name: full_text, dtype: object"
      ]
     },
     "execution_count": 47,
     "metadata": {},
     "output_type": "execute_result"
    }
   ],
   "source": [
    "reddit_df['full_text'] = reddit_df['full_text'].str.lower()\n",
    "reddit_df['full_text'].sample(10)"
   ]
  },
  {
   "cell_type": "markdown",
   "id": "8bef03f6",
   "metadata": {},
   "source": [
    "### Translate all text to English"
   ]
  },
  {
   "cell_type": "code",
   "execution_count": 48,
   "id": "aee53191",
   "metadata": {},
   "outputs": [
    {
     "name": "stderr",
     "output_type": "stream",
     "text": [
      "\n",
      "[notice] A new release of pip is available: 24.2 -> 25.1.1\n",
      "[notice] To update, run: python.exe -m pip install --upgrade pip\n",
      "ERROR: Invalid requirement: '#detect': Expected package name at the start of dependency specifier\n",
      "    #detect\n",
      "    ^\n"
     ]
    }
   ],
   "source": [
    "!pip install langdetect #detect which language the text are in"
   ]
  },
  {
   "cell_type": "code",
   "execution_count": 49,
   "id": "f6d40439",
   "metadata": {},
   "outputs": [
    {
     "data": {
      "text/plain": [
       "en    1128\n",
       "tl       3\n",
       "et       2\n",
       "fr       2\n",
       "sw       2\n",
       "ca       2\n",
       "sl       1\n",
       "da       1\n",
       "nl       1\n",
       "es       1\n",
       "id       1\n",
       "Name: language, dtype: int64"
      ]
     },
     "execution_count": 49,
     "metadata": {},
     "output_type": "execute_result"
    }
   ],
   "source": [
    "from langdetect import detect\n",
    "\n",
    "# Language detection\n",
    "reddit_df['language'] = reddit_df['full_text'].apply(lambda x: detect(x) if pd.notnull(x) else 'unknown')\n",
    "reddit_df['language'].value_counts()"
   ]
  },
  {
   "cell_type": "code",
   "execution_count": 50,
   "id": "f7e3f368",
   "metadata": {},
   "outputs": [
    {
     "name": "stdout",
     "output_type": "stream",
     "text": [
      "     language                                          full_text\n",
      "28         tl  ...na bado mnasema ruto must go bila tangible ...\n",
      "175        tl  ...na bado mnasema ruto must go bila tangible ...\n",
      "236        sl                                design job nairobi \n",
      "273        tl  ...na bado mnasema ruto must go bila tangible ...\n",
      "301        et  just seeing ki, sa, che, ko, la, si...pure tri...\n",
      "634        fr  supreme court rules trump administration must ...\n",
      "638        fr  supreme court denies trump administration requ...\n",
      "664        da  judge orders us to restore funds for foreign a...\n",
      "853        sw  drunk and orderly it so happened that one time...\n",
      "903        nl  us strike kills 16 afghan policemen in helmand...\n",
      "943        et                            joblessness is looming \n",
      "1036       ca  russia expels usaid for 'political meddling' -...\n",
      "1039       ca              us protest at usaid bolivia decision \n",
      "1061       es     chaos erupts as caravan reaches mexico border \n",
      "1100       id  filling kra returns at ksh 35 usitikie kupata ...\n",
      "1143       sw  about my online jobs list series.. waah kujari...\n"
     ]
    }
   ],
   "source": [
    "# View full text rows where the language is not English\n",
    "non_english_df = reddit_df[reddit_df['language'] != 'en']\n",
    "\n",
    "# Display the full_text column of non-English rows\n",
    "print(non_english_df[['language', 'full_text']])\n"
   ]
  },
  {
   "cell_type": "code",
   "execution_count": 51,
   "id": "401e61c9",
   "metadata": {},
   "outputs": [
    {
     "name": "stderr",
     "output_type": "stream",
     "text": [
      "\n",
      "[notice] A new release of pip is available: 24.2 -> 25.1.1\n",
      "[notice] To update, run: python.exe -m pip install --upgrade pip\n",
      "ERROR: Invalid requirement: '#Translates': Expected package name at the start of dependency specifier\n",
      "    #Translates\n",
      "    ^\n"
     ]
    }
   ],
   "source": [
    "! pip install deep-translator #Translates text from one language to another\n"
   ]
  },
  {
   "cell_type": "code",
   "execution_count": 52,
   "id": "372547ff",
   "metadata": {},
   "outputs": [
    {
     "name": "stdout",
     "output_type": "stream",
     "text": [
      "    language                                          full_text  \\\n",
      "28        tl  ...na bado mnasema ruto must go bila tangible ...   \n",
      "175       tl  ...na bado mnasema ruto must go bila tangible ...   \n",
      "236       sl                                design job nairobi    \n",
      "273       tl  ...na bado mnasema ruto must go bila tangible ...   \n",
      "301       et  just seeing ki, sa, che, ko, la, si...pure tri...   \n",
      "\n",
      "                                       translated_text  \n",
      "28   ... and you still say Ruto must go without tan...  \n",
      "175  ... and you still say Ruto must go without tan...  \n",
      "236                                 design job nairobi  \n",
      "273  ... and you still say Ruto must go without tan...  \n",
      "301  just seeing ki, sa, che, ko, la, si ... pure t...  \n"
     ]
    }
   ],
   "source": [
    "from deep_translator import GoogleTranslator\n",
    "\n",
    "# Make a copy of non-English rows\n",
    "non_english_df = reddit_df[reddit_df['language'] != 'en'].copy()\n",
    "\n",
    "# Translate each full_text\n",
    "non_english_df['translated_text'] = non_english_df['full_text'].apply(\n",
    "    lambda text: GoogleTranslator(source='auto', target='en').translate(text)\n",
    ")\n",
    "\n",
    "# Preview translations\n",
    "print(non_english_df[['language', 'full_text', 'translated_text']].head())\n"
   ]
  },
  {
   "cell_type": "markdown",
   "id": "627590ec",
   "metadata": {},
   "source": [
    "From the above preview, shows that the text with both english and swahili was able to be translated as shown in index 28"
   ]
  },
  {
   "cell_type": "code",
   "execution_count": 53,
   "id": "cade2d7a",
   "metadata": {},
   "outputs": [
    {
     "data": {
      "text/plain": [
       "en    1128\n",
       "tl       3\n",
       "et       2\n",
       "fr       2\n",
       "sw       2\n",
       "ca       2\n",
       "sl       1\n",
       "da       1\n",
       "nl       1\n",
       "es       1\n",
       "id       1\n",
       "Name: language, dtype: int64"
      ]
     },
     "execution_count": 53,
     "metadata": {},
     "output_type": "execute_result"
    }
   ],
   "source": [
    "reddit_df['language'].value_counts() #check which other languages have been detected"
   ]
  },
  {
   "cell_type": "code",
   "execution_count": 54,
   "id": "cce5719d",
   "metadata": {},
   "outputs": [
    {
     "name": "stdout",
     "output_type": "stream",
     "text": [
      "  language                                          full_text\n",
      "0       en  usaid left a month ago, do we have arvs in ken...\n",
      "1       en  classism in r/kenya and r/nairobi the classism...\n",
      "2       en  ex-usaid people!! let's talk are you still in ...\n",
      "3       en  why western powers back israel no matter what ...\n",
      "4       en  is kenya capable of funding its needs now that...\n"
     ]
    }
   ],
   "source": [
    "# Drop all non-English rows\n",
    "reddit_df = reddit_df[reddit_df['language'] == 'en'].copy()\n",
    "\n",
    "# Reset the index\n",
    "reddit_df.reset_index(drop=True, inplace=True)\n",
    "\n",
    "# Preview the cleaned data\n",
    "print(reddit_df[['language', 'full_text']].head())\n"
   ]
  },
  {
   "cell_type": "code",
   "execution_count": 55,
   "id": "f64b632d",
   "metadata": {},
   "outputs": [
    {
     "data": {
      "text/plain": [
       "en    1128\n",
       "Name: language, dtype: int64"
      ]
     },
     "execution_count": 55,
     "metadata": {},
     "output_type": "execute_result"
    }
   ],
   "source": [
    "reddit_df['language'].value_counts() #confirm that all rows are in English only"
   ]
  },
  {
   "cell_type": "code",
   "execution_count": 56,
   "id": "7b797835",
   "metadata": {},
   "outputs": [
    {
     "data": {
      "text/html": [
       "<div>\n",
       "<style scoped>\n",
       "    .dataframe tbody tr th:only-of-type {\n",
       "        vertical-align: middle;\n",
       "    }\n",
       "\n",
       "    .dataframe tbody tr th {\n",
       "        vertical-align: top;\n",
       "    }\n",
       "\n",
       "    .dataframe thead th {\n",
       "        text-align: right;\n",
       "    }\n",
       "</style>\n",
       "<table border=\"1\" class=\"dataframe\">\n",
       "  <thead>\n",
       "    <tr style=\"text-align: right;\">\n",
       "      <th></th>\n",
       "      <th>post_title</th>\n",
       "      <th>text</th>\n",
       "      <th>published_date</th>\n",
       "      <th>keyword</th>\n",
       "      <th>url</th>\n",
       "      <th>full_text</th>\n",
       "      <th>language</th>\n",
       "    </tr>\n",
       "  </thead>\n",
       "  <tbody>\n",
       "    <tr>\n",
       "      <th>1062</th>\n",
       "      <td>Weekly Sub-Saharan Africa Security Situation a...</td>\n",
       "      <td></td>\n",
       "      <td>2025-06-06</td>\n",
       "      <td>unknown</td>\n",
       "      <td>https://open.substack.com/pub/hasretkargin/p/w...</td>\n",
       "      <td>weekly sub-saharan africa security situation a...</td>\n",
       "      <td>en</td>\n",
       "    </tr>\n",
       "    <tr>\n",
       "      <th>529</th>\n",
       "      <td>Trump and Musk refusing to pay USAID's bills t...</td>\n",
       "      <td></td>\n",
       "      <td>2025-03-02</td>\n",
       "      <td>USAID, foreign aid, foreign aid</td>\n",
       "      <td>https://www.msnbc.com/opinion/msnbc-opinion/do...</td>\n",
       "      <td>trump and musk refusing to pay usaid's bills t...</td>\n",
       "      <td>en</td>\n",
       "    </tr>\n",
       "    <tr>\n",
       "      <th>870</th>\n",
       "      <td>Cambodian PM calls US democracy 'bloody and br...</td>\n",
       "      <td></td>\n",
       "      <td>2017-08-25</td>\n",
       "      <td>unknown</td>\n",
       "      <td>https://www.rt.com/news/400811-cambodia-us-ngo...</td>\n",
       "      <td>cambodian pm calls us democracy 'bloody and br...</td>\n",
       "      <td>en</td>\n",
       "    </tr>\n",
       "    <tr>\n",
       "      <th>1054</th>\n",
       "      <td>At least 100 people killed in gunmen attack in...</td>\n",
       "      <td>* At least 100 people have been killed in a no...</td>\n",
       "      <td>2025-06-15</td>\n",
       "      <td>unknown</td>\n",
       "      <td>https://www.aljazeera.com/news/2025/6/14/at-le...</td>\n",
       "      <td>at least 100 people killed in gunmen attack in...</td>\n",
       "      <td>en</td>\n",
       "    </tr>\n",
       "    <tr>\n",
       "      <th>268</th>\n",
       "      <td>🤔 What If Kenya Allowed British Rule Beyond 19...</td>\n",
       "      <td>Hear me out: The white man stayed past 1963. I...</td>\n",
       "      <td>2025-03-19</td>\n",
       "      <td>development aid kenya</td>\n",
       "      <td>https://www.reddit.com/r/Kenya/comments/1jeqhx...</td>\n",
       "      <td>🤔 what if kenya allowed british rule beyond 19...</td>\n",
       "      <td>en</td>\n",
       "    </tr>\n",
       "    <tr>\n",
       "      <th>256</th>\n",
       "      <td>Do you think this applies to Kenya? Why or why...</td>\n",
       "      <td>Kenya is the most developed nation in East Afr...</td>\n",
       "      <td>2025-04-03</td>\n",
       "      <td>development aid kenya</td>\n",
       "      <td>https://i.redd.it/05b87nicklse1.jpeg</td>\n",
       "      <td>do you think this applies to kenya? why or why...</td>\n",
       "      <td>en</td>\n",
       "    </tr>\n",
       "    <tr>\n",
       "      <th>484</th>\n",
       "      <td>Meanwhile... Africans continue to celebrate Tr...</td>\n",
       "      <td>You can't make these stuff up!</td>\n",
       "      <td>2025-01-21</td>\n",
       "      <td>foreign aid, foreign aid</td>\n",
       "      <td>https://www.reddit.com/r/Kenya/comments/1i6g3b...</td>\n",
       "      <td>meanwhile... africans continue to celebrate tr...</td>\n",
       "      <td>en</td>\n",
       "    </tr>\n",
       "    <tr>\n",
       "      <th>975</th>\n",
       "      <td>I hope you see this, shit hurts and I'm missin...</td>\n",
       "      <td>My heart is fr breaking waah. Why is this one ...</td>\n",
       "      <td>2025-06-15</td>\n",
       "      <td>unknown</td>\n",
       "      <td>https://www.reddit.com/r/Kenya/comments/1lc1bh...</td>\n",
       "      <td>i hope you see this, shit hurts and i'm missin...</td>\n",
       "      <td>en</td>\n",
       "    </tr>\n",
       "    <tr>\n",
       "      <th>429</th>\n",
       "      <td>Iran welcomes Trump’s move to cut foreign aid ...</td>\n",
       "      <td></td>\n",
       "      <td>2025-02-05</td>\n",
       "      <td>kenya foreign aid</td>\n",
       "      <td>https://www.pbs.org/newshour/world/iran-welcom...</td>\n",
       "      <td>iran welcomes trump’s move to cut foreign aid ...</td>\n",
       "      <td>en</td>\n",
       "    </tr>\n",
       "    <tr>\n",
       "      <th>323</th>\n",
       "      <td>New to Trading with Old Mutual (Kenya) – Best ...</td>\n",
       "      <td>Hey fellow traders! I just opened an Old Mutua...</td>\n",
       "      <td>2025-04-29</td>\n",
       "      <td>kenya donor funding</td>\n",
       "      <td>https://www.reddit.com/r/Kenya/comments/1kar8p...</td>\n",
       "      <td>new to trading with old mutual (kenya) – best ...</td>\n",
       "      <td>en</td>\n",
       "    </tr>\n",
       "  </tbody>\n",
       "</table>\n",
       "</div>"
      ],
      "text/plain": [
       "                                             post_title  \\\n",
       "1062  Weekly Sub-Saharan Africa Security Situation a...   \n",
       "529   Trump and Musk refusing to pay USAID's bills t...   \n",
       "870   Cambodian PM calls US democracy 'bloody and br...   \n",
       "1054  At least 100 people killed in gunmen attack in...   \n",
       "268   🤔 What If Kenya Allowed British Rule Beyond 19...   \n",
       "256   Do you think this applies to Kenya? Why or why...   \n",
       "484   Meanwhile... Africans continue to celebrate Tr...   \n",
       "975   I hope you see this, shit hurts and I'm missin...   \n",
       "429   Iran welcomes Trump’s move to cut foreign aid ...   \n",
       "323   New to Trading with Old Mutual (Kenya) – Best ...   \n",
       "\n",
       "                                                   text published_date  \\\n",
       "1062                                                        2025-06-06   \n",
       "529                                                         2025-03-02   \n",
       "870                                                         2017-08-25   \n",
       "1054  * At least 100 people have been killed in a no...     2025-06-15   \n",
       "268   Hear me out: The white man stayed past 1963. I...     2025-03-19   \n",
       "256   Kenya is the most developed nation in East Afr...     2025-04-03   \n",
       "484                     You can't make these stuff up!      2025-01-21   \n",
       "975   My heart is fr breaking waah. Why is this one ...     2025-06-15   \n",
       "429                                                         2025-02-05   \n",
       "323   Hey fellow traders! I just opened an Old Mutua...     2025-04-29   \n",
       "\n",
       "                              keyword  \\\n",
       "1062                          unknown   \n",
       "529   USAID, foreign aid, foreign aid   \n",
       "870                           unknown   \n",
       "1054                          unknown   \n",
       "268             development aid kenya   \n",
       "256             development aid kenya   \n",
       "484          foreign aid, foreign aid   \n",
       "975                           unknown   \n",
       "429                 kenya foreign aid   \n",
       "323               kenya donor funding   \n",
       "\n",
       "                                                    url  \\\n",
       "1062  https://open.substack.com/pub/hasretkargin/p/w...   \n",
       "529   https://www.msnbc.com/opinion/msnbc-opinion/do...   \n",
       "870   https://www.rt.com/news/400811-cambodia-us-ngo...   \n",
       "1054  https://www.aljazeera.com/news/2025/6/14/at-le...   \n",
       "268   https://www.reddit.com/r/Kenya/comments/1jeqhx...   \n",
       "256                https://i.redd.it/05b87nicklse1.jpeg   \n",
       "484   https://www.reddit.com/r/Kenya/comments/1i6g3b...   \n",
       "975   https://www.reddit.com/r/Kenya/comments/1lc1bh...   \n",
       "429   https://www.pbs.org/newshour/world/iran-welcom...   \n",
       "323   https://www.reddit.com/r/Kenya/comments/1kar8p...   \n",
       "\n",
       "                                              full_text language  \n",
       "1062  weekly sub-saharan africa security situation a...       en  \n",
       "529   trump and musk refusing to pay usaid's bills t...       en  \n",
       "870   cambodian pm calls us democracy 'bloody and br...       en  \n",
       "1054  at least 100 people killed in gunmen attack in...       en  \n",
       "268   🤔 what if kenya allowed british rule beyond 19...       en  \n",
       "256   do you think this applies to kenya? why or why...       en  \n",
       "484   meanwhile... africans continue to celebrate tr...       en  \n",
       "975   i hope you see this, shit hurts and i'm missin...       en  \n",
       "429   iran welcomes trump’s move to cut foreign aid ...       en  \n",
       "323   new to trading with old mutual (kenya) – best ...       en  "
      ]
     },
     "execution_count": 56,
     "metadata": {},
     "output_type": "execute_result"
    }
   ],
   "source": [
    "reddit_df.sample(10)"
   ]
  },
  {
   "cell_type": "code",
   "execution_count": 57,
   "id": "cd02bb13",
   "metadata": {},
   "outputs": [
    {
     "data": {
      "text/html": [
       "<div>\n",
       "<style scoped>\n",
       "    .dataframe tbody tr th:only-of-type {\n",
       "        vertical-align: middle;\n",
       "    }\n",
       "\n",
       "    .dataframe tbody tr th {\n",
       "        vertical-align: top;\n",
       "    }\n",
       "\n",
       "    .dataframe thead th {\n",
       "        text-align: right;\n",
       "    }\n",
       "</style>\n",
       "<table border=\"1\" class=\"dataframe\">\n",
       "  <thead>\n",
       "    <tr style=\"text-align: right;\">\n",
       "      <th></th>\n",
       "      <th>post_title</th>\n",
       "      <th>text</th>\n",
       "      <th>published_date</th>\n",
       "      <th>keyword</th>\n",
       "      <th>url</th>\n",
       "      <th>full_text</th>\n",
       "    </tr>\n",
       "  </thead>\n",
       "  <tbody>\n",
       "    <tr>\n",
       "      <th>0</th>\n",
       "      <td>USAID left a month ago, do we have ARVs in Kenya?</td>\n",
       "      <td>Someone on a different group (different websit...</td>\n",
       "      <td>2025-04-15</td>\n",
       "      <td>usaid kenya</td>\n",
       "      <td>https://www.reddit.com/r/Kenya/comments/1jzrn2...</td>\n",
       "      <td>usaid left a month ago, do we have arvs in ken...</td>\n",
       "    </tr>\n",
       "    <tr>\n",
       "      <th>1</th>\n",
       "      <td>Classism in r/Kenya and r/nairobi</td>\n",
       "      <td>The classism I'm seeing in both subs is a good...</td>\n",
       "      <td>2025-04-07</td>\n",
       "      <td>usaid kenya</td>\n",
       "      <td>https://www.reddit.com/r/Kenya/comments/1jtcvb...</td>\n",
       "      <td>classism in r/kenya and r/nairobi the classism...</td>\n",
       "    </tr>\n",
       "    <tr>\n",
       "      <th>2</th>\n",
       "      <td>EX-USAID people!! Let's talk</td>\n",
       "      <td>Are you still in contact with the organisation...</td>\n",
       "      <td>2025-04-05</td>\n",
       "      <td>usaid kenya</td>\n",
       "      <td>https://www.reddit.com/r/Kenya/comments/1jsb14...</td>\n",
       "      <td>ex-usaid people!! let's talk are you still in ...</td>\n",
       "    </tr>\n",
       "    <tr>\n",
       "      <th>3</th>\n",
       "      <td>Why western powers back Israel no matter what ...</td>\n",
       "      <td>I don't care what good book you read, but it's...</td>\n",
       "      <td>2025-03-25</td>\n",
       "      <td>usaid kenya</td>\n",
       "      <td>https://www.reddit.com/r/Kenya/comments/1jjehw...</td>\n",
       "      <td>why western powers back israel no matter what ...</td>\n",
       "    </tr>\n",
       "    <tr>\n",
       "      <th>4</th>\n",
       "      <td>Is kenya capable of funding its needs now that...</td>\n",
       "      <td>How is kenya prepared to fill the vacuum of US...</td>\n",
       "      <td>2025-03-08</td>\n",
       "      <td>usaid kenya</td>\n",
       "      <td>https://www.reddit.com/r/Kenya/comments/1j6cjz...</td>\n",
       "      <td>is kenya capable of funding its needs now that...</td>\n",
       "    </tr>\n",
       "  </tbody>\n",
       "</table>\n",
       "</div>"
      ],
      "text/plain": [
       "                                          post_title  \\\n",
       "0  USAID left a month ago, do we have ARVs in Kenya?   \n",
       "1                  Classism in r/Kenya and r/nairobi   \n",
       "2                       EX-USAID people!! Let's talk   \n",
       "3  Why western powers back Israel no matter what ...   \n",
       "4  Is kenya capable of funding its needs now that...   \n",
       "\n",
       "                                                text published_date  \\\n",
       "0  Someone on a different group (different websit...     2025-04-15   \n",
       "1  The classism I'm seeing in both subs is a good...     2025-04-07   \n",
       "2  Are you still in contact with the organisation...     2025-04-05   \n",
       "3  I don't care what good book you read, but it's...     2025-03-25   \n",
       "4  How is kenya prepared to fill the vacuum of US...     2025-03-08   \n",
       "\n",
       "       keyword                                                url  \\\n",
       "0  usaid kenya  https://www.reddit.com/r/Kenya/comments/1jzrn2...   \n",
       "1  usaid kenya  https://www.reddit.com/r/Kenya/comments/1jtcvb...   \n",
       "2  usaid kenya  https://www.reddit.com/r/Kenya/comments/1jsb14...   \n",
       "3  usaid kenya  https://www.reddit.com/r/Kenya/comments/1jjehw...   \n",
       "4  usaid kenya  https://www.reddit.com/r/Kenya/comments/1j6cjz...   \n",
       "\n",
       "                                           full_text  \n",
       "0  usaid left a month ago, do we have arvs in ken...  \n",
       "1  classism in r/kenya and r/nairobi the classism...  \n",
       "2  ex-usaid people!! let's talk are you still in ...  \n",
       "3  why western powers back israel no matter what ...  \n",
       "4  is kenya capable of funding its needs now that...  "
      ]
     },
     "execution_count": 57,
     "metadata": {},
     "output_type": "execute_result"
    }
   ],
   "source": [
    "reddit_df.drop('language', axis=1, inplace=True) #drop the language column as it is unnecessary now\n",
    "reddit_df.head()"
   ]
  },
  {
   "cell_type": "code",
   "execution_count": 59,
   "id": "33d8efca",
   "metadata": {},
   "outputs": [
    {
     "data": {
      "text/plain": [
       "(1128, 6)"
      ]
     },
     "execution_count": 59,
     "metadata": {},
     "output_type": "execute_result"
    }
   ],
   "source": [
    "reddit_df.shape"
   ]
  },
  {
   "cell_type": "markdown",
   "id": "b1c50774",
   "metadata": {},
   "source": [
    "### Removing Punctuation Marks"
   ]
  },
  {
   "cell_type": "code",
   "execution_count": 58,
   "id": "6c8931ec",
   "metadata": {},
   "outputs": [
    {
     "data": {
      "text/html": [
       "<div>\n",
       "<style scoped>\n",
       "    .dataframe tbody tr th:only-of-type {\n",
       "        vertical-align: middle;\n",
       "    }\n",
       "\n",
       "    .dataframe tbody tr th {\n",
       "        vertical-align: top;\n",
       "    }\n",
       "\n",
       "    .dataframe thead th {\n",
       "        text-align: right;\n",
       "    }\n",
       "</style>\n",
       "<table border=\"1\" class=\"dataframe\">\n",
       "  <thead>\n",
       "    <tr style=\"text-align: right;\">\n",
       "      <th></th>\n",
       "      <th>post_title</th>\n",
       "      <th>text</th>\n",
       "      <th>published_date</th>\n",
       "      <th>keyword</th>\n",
       "      <th>url</th>\n",
       "      <th>full_text</th>\n",
       "    </tr>\n",
       "  </thead>\n",
       "  <tbody>\n",
       "    <tr>\n",
       "      <th>0</th>\n",
       "      <td>USAID left a month ago, do we have ARVs in Kenya?</td>\n",
       "      <td>Someone on a different group (different websit...</td>\n",
       "      <td>2025-04-15</td>\n",
       "      <td>usaid kenya</td>\n",
       "      <td>https://www.reddit.com/r/Kenya/comments/1jzrn2...</td>\n",
       "      <td>usaid left a month ago do we have arvs in keny...</td>\n",
       "    </tr>\n",
       "    <tr>\n",
       "      <th>1</th>\n",
       "      <td>Classism in r/Kenya and r/nairobi</td>\n",
       "      <td>The classism I'm seeing in both subs is a good...</td>\n",
       "      <td>2025-04-07</td>\n",
       "      <td>usaid kenya</td>\n",
       "      <td>https://www.reddit.com/r/Kenya/comments/1jtcvb...</td>\n",
       "      <td>classism in rkenya and rnairobi the classism i...</td>\n",
       "    </tr>\n",
       "    <tr>\n",
       "      <th>2</th>\n",
       "      <td>EX-USAID people!! Let's talk</td>\n",
       "      <td>Are you still in contact with the organisation...</td>\n",
       "      <td>2025-04-05</td>\n",
       "      <td>usaid kenya</td>\n",
       "      <td>https://www.reddit.com/r/Kenya/comments/1jsb14...</td>\n",
       "      <td>exusaid people lets talk are you still in cont...</td>\n",
       "    </tr>\n",
       "    <tr>\n",
       "      <th>3</th>\n",
       "      <td>Why western powers back Israel no matter what ...</td>\n",
       "      <td>I don't care what good book you read, but it's...</td>\n",
       "      <td>2025-03-25</td>\n",
       "      <td>usaid kenya</td>\n",
       "      <td>https://www.reddit.com/r/Kenya/comments/1jjehw...</td>\n",
       "      <td>why western powers back israel no matter what ...</td>\n",
       "    </tr>\n",
       "    <tr>\n",
       "      <th>4</th>\n",
       "      <td>Is kenya capable of funding its needs now that...</td>\n",
       "      <td>How is kenya prepared to fill the vacuum of US...</td>\n",
       "      <td>2025-03-08</td>\n",
       "      <td>usaid kenya</td>\n",
       "      <td>https://www.reddit.com/r/Kenya/comments/1j6cjz...</td>\n",
       "      <td>is kenya capable of funding its needs now that...</td>\n",
       "    </tr>\n",
       "  </tbody>\n",
       "</table>\n",
       "</div>"
      ],
      "text/plain": [
       "                                          post_title  \\\n",
       "0  USAID left a month ago, do we have ARVs in Kenya?   \n",
       "1                  Classism in r/Kenya and r/nairobi   \n",
       "2                       EX-USAID people!! Let's talk   \n",
       "3  Why western powers back Israel no matter what ...   \n",
       "4  Is kenya capable of funding its needs now that...   \n",
       "\n",
       "                                                text published_date  \\\n",
       "0  Someone on a different group (different websit...     2025-04-15   \n",
       "1  The classism I'm seeing in both subs is a good...     2025-04-07   \n",
       "2  Are you still in contact with the organisation...     2025-04-05   \n",
       "3  I don't care what good book you read, but it's...     2025-03-25   \n",
       "4  How is kenya prepared to fill the vacuum of US...     2025-03-08   \n",
       "\n",
       "       keyword                                                url  \\\n",
       "0  usaid kenya  https://www.reddit.com/r/Kenya/comments/1jzrn2...   \n",
       "1  usaid kenya  https://www.reddit.com/r/Kenya/comments/1jtcvb...   \n",
       "2  usaid kenya  https://www.reddit.com/r/Kenya/comments/1jsb14...   \n",
       "3  usaid kenya  https://www.reddit.com/r/Kenya/comments/1jjehw...   \n",
       "4  usaid kenya  https://www.reddit.com/r/Kenya/comments/1j6cjz...   \n",
       "\n",
       "                                           full_text  \n",
       "0  usaid left a month ago do we have arvs in keny...  \n",
       "1  classism in rkenya and rnairobi the classism i...  \n",
       "2  exusaid people lets talk are you still in cont...  \n",
       "3  why western powers back israel no matter what ...  \n",
       "4  is kenya capable of funding its needs now that...  "
      ]
     },
     "execution_count": 58,
     "metadata": {},
     "output_type": "execute_result"
    }
   ],
   "source": [
    "import re\n",
    "import string\n",
    "\n",
    "# Function to remove punctuation\n",
    "def remove_punctuation(text):\n",
    "    return re.sub(f\"[{re.escape(string.punctuation)}]\", \"\", str(text))\n",
    "\n",
    "# Apply to the 'full_text' column\n",
    "reddit_df['full_text'] = reddit_df['full_text'].apply(remove_punctuation)\n",
    "\n",
    "reddit_df.head()\n"
   ]
  },
  {
   "cell_type": "markdown",
   "id": "f2a768ea",
   "metadata": {},
   "source": [
    "### Removing Stop Words,Emojis,Non-Emoji Symbols and Lemmatization"
   ]
  },
  {
   "cell_type": "code",
   "execution_count": 65,
   "id": "4b2484c6",
   "metadata": {},
   "outputs": [
    {
     "name": "stderr",
     "output_type": "stream",
     "text": [
      "[nltk_data] Downloading package stopwords to\n",
      "[nltk_data]     C:\\Users\\hp\\AppData\\Roaming\\nltk_data...\n",
      "[nltk_data]   Package stopwords is already up-to-date!\n",
      "[nltk_data] Downloading package wordnet to\n",
      "[nltk_data]     C:\\Users\\hp\\AppData\\Roaming\\nltk_data...\n",
      "[nltk_data]   Package wordnet is already up-to-date!\n",
      "[nltk_data] Downloading package omw-1.4 to\n",
      "[nltk_data]     C:\\Users\\hp\\AppData\\Roaming\\nltk_data...\n",
      "[nltk_data]   Package omw-1.4 is already up-to-date!\n"
     ]
    },
    {
     "data": {
      "text/html": [
       "<div>\n",
       "<style scoped>\n",
       "    .dataframe tbody tr th:only-of-type {\n",
       "        vertical-align: middle;\n",
       "    }\n",
       "\n",
       "    .dataframe tbody tr th {\n",
       "        vertical-align: top;\n",
       "    }\n",
       "\n",
       "    .dataframe thead th {\n",
       "        text-align: right;\n",
       "    }\n",
       "</style>\n",
       "<table border=\"1\" class=\"dataframe\">\n",
       "  <thead>\n",
       "    <tr style=\"text-align: right;\">\n",
       "      <th></th>\n",
       "      <th>post_title</th>\n",
       "      <th>text</th>\n",
       "      <th>published_date</th>\n",
       "      <th>keyword</th>\n",
       "      <th>url</th>\n",
       "      <th>full_text</th>\n",
       "      <th>cleaned_text</th>\n",
       "    </tr>\n",
       "  </thead>\n",
       "  <tbody>\n",
       "    <tr>\n",
       "      <th>279</th>\n",
       "      <td>Is the Kenyan Digital Nomad Visa Official Yet?</td>\n",
       "      <td>Friends, I've been seeing conflicting informat...</td>\n",
       "      <td>2025-02-24</td>\n",
       "      <td>development aid kenya</td>\n",
       "      <td>https://www.reddit.com/r/Kenya/comments/1iwvya...</td>\n",
       "      <td>is the kenyan digital nomad visa official yet ...</td>\n",
       "      <td>kenyan digital nomad visa official yet friend ...</td>\n",
       "    </tr>\n",
       "    <tr>\n",
       "      <th>418</th>\n",
       "      <td>As Trump guts foreign aid, China and others le...</td>\n",
       "      <td></td>\n",
       "      <td>2025-03-31</td>\n",
       "      <td>kenya foreign aid</td>\n",
       "      <td>https://www.nbcnews.com/news/world/myanmar-ear...</td>\n",
       "      <td>as trump guts foreign aid china and others lea...</td>\n",
       "      <td>trump gut foreign aid china others lead myanma...</td>\n",
       "    </tr>\n",
       "    <tr>\n",
       "      <th>631</th>\n",
       "      <td>US foreign aid funded legal advice for trans a...</td>\n",
       "      <td></td>\n",
       "      <td>2025-02-10</td>\n",
       "      <td>foreign aid, foreign aid</td>\n",
       "      <td>https://www.telegraph.co.uk/us/politics/2025/0...</td>\n",
       "      <td>us foreign aid funded legal advice for trans a...</td>\n",
       "      <td>u foreign aid funded legal advice trans asylum...</td>\n",
       "    </tr>\n",
       "    <tr>\n",
       "      <th>648</th>\n",
       "      <td>Guards at Islamic State camp left unpaid after...</td>\n",
       "      <td></td>\n",
       "      <td>2025-01-29</td>\n",
       "      <td>foreign aid, foreign aid</td>\n",
       "      <td>https://www.telegraph.co.uk/world-news/2025/01...</td>\n",
       "      <td>guards at islamic state camp left unpaid after...</td>\n",
       "      <td>guard islamic state camp left unpaid trump for...</td>\n",
       "    </tr>\n",
       "    <tr>\n",
       "      <th>999</th>\n",
       "      <td>From debugging stress to catching vibes at the...</td>\n",
       "      <td>So today I was deep in code, chasing a stubbor...</td>\n",
       "      <td>2025-06-12</td>\n",
       "      <td>unknown</td>\n",
       "      <td>https://www.reddit.com/r/Kenya/comments/1l9s1m...</td>\n",
       "      <td>from debugging stress to catching vibes at the...</td>\n",
       "      <td>debugging stress catching vibe swamp life plan...</td>\n",
       "    </tr>\n",
       "    <tr>\n",
       "      <th>721</th>\n",
       "      <td>Not all skin folks are kin folks: Black Americ...</td>\n",
       "      <td>\\r\\nThis is an example of one of the many blac...</td>\n",
       "      <td>2025-04-30</td>\n",
       "      <td>unknown</td>\n",
       "      <td>https://i.redd.it/hf94fjtmdzxe1.png</td>\n",
       "      <td>not all skin folks are kin folks black america...</td>\n",
       "      <td>skin folk kin folk black american state operat...</td>\n",
       "    </tr>\n",
       "    <tr>\n",
       "      <th>813</th>\n",
       "      <td>Ignorance or malice?</td>\n",
       "      <td>I have just watched the MP of Homa Bay defendi...</td>\n",
       "      <td>2025-02-12</td>\n",
       "      <td>unknown</td>\n",
       "      <td>https://www.reddit.com/r/Kenya/comments/1inj4k...</td>\n",
       "      <td>ignorance or malice i have just watched the mp...</td>\n",
       "      <td>ignorance malice watched mp homa bay defending...</td>\n",
       "    </tr>\n",
       "    <tr>\n",
       "      <th>605</th>\n",
       "      <td>Chief Justice John Roberts pauses order for Tr...</td>\n",
       "      <td></td>\n",
       "      <td>2025-02-27</td>\n",
       "      <td>foreign aid, foreign aid</td>\n",
       "      <td>https://edition.cnn.com/2025/02/26/politics/su...</td>\n",
       "      <td>chief justice john roberts pauses order for tr...</td>\n",
       "      <td>chief justice john robert pause order trump ad...</td>\n",
       "    </tr>\n",
       "    <tr>\n",
       "      <th>771</th>\n",
       "      <td>Is it time to come to countenance that grass i...</td>\n",
       "      <td>\\r\\n\\r\\nThe Kenyan government has been lying ...</td>\n",
       "      <td>2025-05-16</td>\n",
       "      <td>unknown</td>\n",
       "      <td>https://www.reddit.com/r/Kenya/comments/1knxk0...</td>\n",
       "      <td>is it time to come to countenance that grass i...</td>\n",
       "      <td>time come countenance grass isn’t greener side...</td>\n",
       "    </tr>\n",
       "    <tr>\n",
       "      <th>90</th>\n",
       "      <td>The disease that's likely to kill you</td>\n",
       "      <td></td>\n",
       "      <td>2025-02-19</td>\n",
       "      <td>kenya foreign aid</td>\n",
       "      <td>https://i.redd.it/xxoeuq65c1ke1.jpeg</td>\n",
       "      <td>the disease thats likely to kill you</td>\n",
       "      <td>disease thats likely kill</td>\n",
       "    </tr>\n",
       "  </tbody>\n",
       "</table>\n",
       "</div>"
      ],
      "text/plain": [
       "                                            post_title  \\\n",
       "279     Is the Kenyan Digital Nomad Visa Official Yet?   \n",
       "418  As Trump guts foreign aid, China and others le...   \n",
       "631  US foreign aid funded legal advice for trans a...   \n",
       "648  Guards at Islamic State camp left unpaid after...   \n",
       "999  From debugging stress to catching vibes at the...   \n",
       "721  Not all skin folks are kin folks: Black Americ...   \n",
       "813                               Ignorance or malice?   \n",
       "605  Chief Justice John Roberts pauses order for Tr...   \n",
       "771  Is it time to come to countenance that grass i...   \n",
       "90               The disease that's likely to kill you   \n",
       "\n",
       "                                                  text published_date  \\\n",
       "279  Friends, I've been seeing conflicting informat...     2025-02-24   \n",
       "418                                                        2025-03-31   \n",
       "631                                                        2025-02-10   \n",
       "648                                                        2025-01-29   \n",
       "999  So today I was deep in code, chasing a stubbor...     2025-06-12   \n",
       "721  \\r\\nThis is an example of one of the many blac...     2025-04-30   \n",
       "813  I have just watched the MP of Homa Bay defendi...     2025-02-12   \n",
       "605                                                        2025-02-27   \n",
       "771   \\r\\n\\r\\nThe Kenyan government has been lying ...     2025-05-16   \n",
       "90                                                         2025-02-19   \n",
       "\n",
       "                      keyword  \\\n",
       "279     development aid kenya   \n",
       "418         kenya foreign aid   \n",
       "631  foreign aid, foreign aid   \n",
       "648  foreign aid, foreign aid   \n",
       "999                   unknown   \n",
       "721                   unknown   \n",
       "813                   unknown   \n",
       "605  foreign aid, foreign aid   \n",
       "771                   unknown   \n",
       "90          kenya foreign aid   \n",
       "\n",
       "                                                   url  \\\n",
       "279  https://www.reddit.com/r/Kenya/comments/1iwvya...   \n",
       "418  https://www.nbcnews.com/news/world/myanmar-ear...   \n",
       "631  https://www.telegraph.co.uk/us/politics/2025/0...   \n",
       "648  https://www.telegraph.co.uk/world-news/2025/01...   \n",
       "999  https://www.reddit.com/r/Kenya/comments/1l9s1m...   \n",
       "721                https://i.redd.it/hf94fjtmdzxe1.png   \n",
       "813  https://www.reddit.com/r/Kenya/comments/1inj4k...   \n",
       "605  https://edition.cnn.com/2025/02/26/politics/su...   \n",
       "771  https://www.reddit.com/r/Kenya/comments/1knxk0...   \n",
       "90                https://i.redd.it/xxoeuq65c1ke1.jpeg   \n",
       "\n",
       "                                             full_text  \\\n",
       "279  is the kenyan digital nomad visa official yet ...   \n",
       "418  as trump guts foreign aid china and others lea...   \n",
       "631  us foreign aid funded legal advice for trans a...   \n",
       "648  guards at islamic state camp left unpaid after...   \n",
       "999  from debugging stress to catching vibes at the...   \n",
       "721  not all skin folks are kin folks black america...   \n",
       "813  ignorance or malice i have just watched the mp...   \n",
       "605  chief justice john roberts pauses order for tr...   \n",
       "771  is it time to come to countenance that grass i...   \n",
       "90               the disease thats likely to kill you    \n",
       "\n",
       "                                          cleaned_text  \n",
       "279  kenyan digital nomad visa official yet friend ...  \n",
       "418  trump gut foreign aid china others lead myanma...  \n",
       "631  u foreign aid funded legal advice trans asylum...  \n",
       "648  guard islamic state camp left unpaid trump for...  \n",
       "999  debugging stress catching vibe swamp life plan...  \n",
       "721  skin folk kin folk black american state operat...  \n",
       "813  ignorance malice watched mp homa bay defending...  \n",
       "605  chief justice john robert pause order trump ad...  \n",
       "771  time come countenance grass isn’t greener side...  \n",
       "90                           disease thats likely kill  "
      ]
     },
     "execution_count": 65,
     "metadata": {},
     "output_type": "execute_result"
    }
   ],
   "source": [
    "import re\n",
    "import nltk\n",
    "from nltk.corpus import stopwords\n",
    "from nltk.stem import WordNetLemmatizer\n",
    "\n",
    "# Download NLTK data\n",
    "nltk.download('stopwords')\n",
    "nltk.download('wordnet')\n",
    "nltk.download('omw-1.4')\n",
    "\n",
    "# Initialize stopwords and lemmatizer\n",
    "stop_words = set(stopwords.words('english'))\n",
    "lemmatizer = WordNetLemmatizer()\n",
    "\n",
    "# Function to remove emojis, emoticons, and other symbols\n",
    "def remove_emojis_symbols(text):\n",
    "    emoji_pattern = re.compile(\n",
    "        \"[\"\n",
    "        u\"\\U0001F600-\\U0001F64F\"  # emoticons\n",
    "        u\"\\U0001F300-\\U0001F5FF\"  # symbols & pictographs\n",
    "        u\"\\U0001F680-\\U0001F6FF\"  # transport & map symbols\n",
    "        u\"\\U0001F1E0-\\U0001F1FF\"  # flags\n",
    "        u\"\\U00002700-\\U000027BF\"  # dingbats\n",
    "        u\"\\U0001F900-\\U0001F9FF\"  # supplemental symbols and pictographs\n",
    "        u\"\\U0001FA70-\\U0001FAFF\"  # extended pictographic symbols\n",
    "        u\"\\U00002500-\\U00002BEF\"  # misc symbols\n",
    "        u\"\\U0000200D\"             # zero width joiner\n",
    "        u\"\\u2600-\\u26FF\"          # misc symbols\n",
    "        u\"\\u2700-\\u27BF\"\n",
    "        u\"\\uFE0F\"                 # variation selector\n",
    "        u\"\\u3030\"\n",
    "        u\"\\u00A9\"                 # ©\n",
    "        u\"\\u00AE\"                 # ®\n",
    "        u\"\\u2122\"                 # ™\n",
    "        \"]+\", flags=re.UNICODE)\n",
    "    return emoji_pattern.sub(r'', text)\n",
    "\n",
    "# Final cleaning function\n",
    "def clean_text(text):\n",
    "    text = remove_emojis_symbols(text)\n",
    "    words = text.split()\n",
    "    cleaned_words = [lemmatizer.lemmatize(word) for word in words if word not in stop_words]\n",
    "    return ' '.join(cleaned_words)\n",
    "\n",
    "# Apply to reddit_df\n",
    "reddit_df['cleaned_text'] = reddit_df['full_text'].apply(clean_text)\n",
    "\n",
    "# Preview sample\n",
    "reddit_df.sample(10)\n"
   ]
  },
  {
   "cell_type": "code",
   "execution_count": 66,
   "id": "1f21021b",
   "metadata": {},
   "outputs": [
    {
     "data": {
      "text/plain": [
       "'kenya allowed british rule beyond 1963 let’s talk hear white man stayed past 1963 it’s controversial thought begs question—how would kenya look today allowed british govern u year would developed south africa vibrant hong kong can’t help wonder truly ready independence honestly strongly believe weren’t—and maybe still aren’t freedom premature move let brit continue pulling string sake development i’m opening floor debate convince otherwise good people let’s talk kenya history development freedomdebate'"
      ]
     },
     "execution_count": 66,
     "metadata": {},
     "output_type": "execute_result"
    }
   ],
   "source": [
    "reddit_df.iloc[268]['cleaned_text']\n"
   ]
  },
  {
   "cell_type": "code",
   "execution_count": 68,
   "id": "803f5b12",
   "metadata": {},
   "outputs": [
    {
     "data": {
      "text/plain": [
       "'🤔 what if kenya allowed british rule beyond 1963 let’s talk about it hear me out the white man stayed past 1963 it’s a controversial thought but it begs the question—how would kenya look today if we allowed the british to govern us for a few more years would we be as developed as south africa or as vibrant as hong kong  \\r\\n\\r\\ni can’t help but wonder if we were truly ready for independence honestly i strongly believe we weren’t—and maybe still aren’t was freedom a premature move should we have let the brits continue pulling the strings for the sake of development  \\r\\n\\r\\ni’m opening the floor for debate convince me otherwise good people let’s talk 🧐 kenya history development freedomdebate'"
      ]
     },
     "execution_count": 68,
     "metadata": {},
     "output_type": "execute_result"
    }
   ],
   "source": [
    "reddit_df.iloc[268]['full_text']\n"
   ]
  },
  {
   "cell_type": "code",
   "execution_count": null,
   "id": "df8a1507",
   "metadata": {},
   "outputs": [],
   "source": []
  }
 ],
 "metadata": {
  "kernelspec": {
   "display_name": "Python 3 (ipykernel)",
   "language": "python",
   "name": "python3"
  },
  "language_info": {
   "codemirror_mode": {
    "name": "ipython",
    "version": 3
   },
   "file_extension": ".py",
   "mimetype": "text/x-python",
   "name": "python",
   "nbconvert_exporter": "python",
   "pygments_lexer": "ipython3",
   "version": "3.9.7"
  }
 },
 "nbformat": 4,
 "nbformat_minor": 5
}
