{
 "cells": [
  {
   "cell_type": "markdown",
   "id": "962045ac",
   "metadata": {},
   "source": [
    "# USAID-Kenya-Sentiment-Analysis"
   ]
  },
  {
   "cell_type": "markdown",
   "id": "6acc0606",
   "metadata": {},
   "source": [
    "#    Merging Reddit CSV Files"
   ]
  },
  {
   "cell_type": "markdown",
   "id": "b99dd2b5",
   "metadata": {},
   "source": [
    "### Import neccessary libraries"
   ]
  },
  {
   "cell_type": "code",
   "execution_count": 1,
   "id": "2605d0a6",
   "metadata": {},
   "outputs": [],
   "source": [
    "import pandas as pd\n",
    "import glob\n",
    "import os\n"
   ]
  },
  {
   "cell_type": "markdown",
   "id": "5e1cd992",
   "metadata": {},
   "source": [
    "### Folder path"
   ]
  },
  {
   "cell_type": "code",
   "execution_count": 2,
   "id": "df600c9e",
   "metadata": {},
   "outputs": [],
   "source": [
    "folder_path = 'C:/Users/hp/Desktop/DATA NEXUS PROJECTS/USAID-Kenya-Sentiment-Analysis/data/raw/reddit_data'\n"
   ]
  },
  {
   "cell_type": "markdown",
   "id": "7fcb97c1",
   "metadata": {},
   "source": [
    "### CSV file paths"
   ]
  },
  {
   "cell_type": "code",
   "execution_count": 3,
   "id": "b50625d4",
   "metadata": {},
   "outputs": [
    {
     "data": {
      "text/plain": [
       "['C:/Users/hp/Desktop/DATA NEXUS PROJECTS/USAID-Kenya-Sentiment-Analysis/data/raw/reddit_data\\\\Agatha_reddit.csv',\n",
       " 'C:/Users/hp/Desktop/DATA NEXUS PROJECTS/USAID-Kenya-Sentiment-Analysis/data/raw/reddit_data\\\\cecilia.redditsubs.csv',\n",
       " 'C:/Users/hp/Desktop/DATA NEXUS PROJECTS/USAID-Kenya-Sentiment-Analysis/data/raw/reddit_data\\\\cecilia.reddit_nbo_ke_africa.csv',\n",
       " 'C:/Users/hp/Desktop/DATA NEXUS PROJECTS/USAID-Kenya-Sentiment-Analysis/data/raw/reddit_data\\\\leo_reddit_posts.csv',\n",
       " 'C:/Users/hp/Desktop/DATA NEXUS PROJECTS/USAID-Kenya-Sentiment-Analysis/data/raw/reddit_data\\\\Mbego_reddit_usaid_kenya.csv',\n",
       " 'C:/Users/hp/Desktop/DATA NEXUS PROJECTS/USAID-Kenya-Sentiment-Analysis/data/raw/reddit_data\\\\Mbego_reddit_usaid_kenya2.csv',\n",
       " 'C:/Users/hp/Desktop/DATA NEXUS PROJECTS/USAID-Kenya-Sentiment-Analysis/data/raw/reddit_data\\\\reddit_usaid_kenya.csv',\n",
       " 'C:/Users/hp/Desktop/DATA NEXUS PROJECTS/USAID-Kenya-Sentiment-Analysis/data/raw/reddit_data\\\\reddit_usaid_sentiment.csv',\n",
       " 'C:/Users/hp/Desktop/DATA NEXUS PROJECTS/USAID-Kenya-Sentiment-Analysis/data/raw/reddit_data\\\\ruth_reddit.csv']"
      ]
     },
     "execution_count": 3,
     "metadata": {},
     "output_type": "execute_result"
    }
   ],
   "source": [
    "csv_files = glob.glob(os.path.join(folder_path, '*.csv'))\n",
    "csv_files"
   ]
  },
  {
   "cell_type": "markdown",
   "id": "c37cff96",
   "metadata": {},
   "source": [
    "### Reading the files and combining them into one dataframe"
   ]
  },
  {
   "cell_type": "code",
   "execution_count": 4,
   "id": "f874996c",
   "metadata": {},
   "outputs": [
    {
     "data": {
      "text/html": [
       "<div>\n",
       "<style scoped>\n",
       "    .dataframe tbody tr th:only-of-type {\n",
       "        vertical-align: middle;\n",
       "    }\n",
       "\n",
       "    .dataframe tbody tr th {\n",
       "        vertical-align: top;\n",
       "    }\n",
       "\n",
       "    .dataframe thead th {\n",
       "        text-align: right;\n",
       "    }\n",
       "</style>\n",
       "<table border=\"1\" class=\"dataframe\">\n",
       "  <thead>\n",
       "    <tr style=\"text-align: right;\">\n",
       "      <th></th>\n",
       "      <th>post_title</th>\n",
       "      <th>text</th>\n",
       "      <th>keyword</th>\n",
       "      <th>published_date</th>\n",
       "      <th>url</th>\n",
       "      <th>source_file</th>\n",
       "    </tr>\n",
       "  </thead>\n",
       "  <tbody>\n",
       "    <tr>\n",
       "      <th>0</th>\n",
       "      <td>USAID left a month ago, do we have ARVs in Kenya?</td>\n",
       "      <td>Someone on a different group (different websit...</td>\n",
       "      <td>usaid kenya</td>\n",
       "      <td>2025-04-15 13:16:53</td>\n",
       "      <td>https://www.reddit.com/r/Kenya/comments/1jzrn2...</td>\n",
       "      <td>Agatha_reddit.csv</td>\n",
       "    </tr>\n",
       "    <tr>\n",
       "      <th>1</th>\n",
       "      <td>Classism in r/Kenya and r/nairobi</td>\n",
       "      <td>The classism I'm seeing in both subs is a good...</td>\n",
       "      <td>usaid kenya</td>\n",
       "      <td>2025-04-07 04:21:12</td>\n",
       "      <td>https://www.reddit.com/r/Kenya/comments/1jtcvb...</td>\n",
       "      <td>Agatha_reddit.csv</td>\n",
       "    </tr>\n",
       "    <tr>\n",
       "      <th>2</th>\n",
       "      <td>EX-USAID people!! Let's talk</td>\n",
       "      <td>Are you still in contact with the organisation...</td>\n",
       "      <td>usaid kenya</td>\n",
       "      <td>2025-04-05 19:09:10</td>\n",
       "      <td>https://www.reddit.com/r/Kenya/comments/1jsb14...</td>\n",
       "      <td>Agatha_reddit.csv</td>\n",
       "    </tr>\n",
       "    <tr>\n",
       "      <th>3</th>\n",
       "      <td>Why western powers back Israel no matter what ...</td>\n",
       "      <td>I don't care what good book you read, but it's...</td>\n",
       "      <td>usaid kenya</td>\n",
       "      <td>2025-03-25 08:18:04</td>\n",
       "      <td>https://www.reddit.com/r/Kenya/comments/1jjehw...</td>\n",
       "      <td>Agatha_reddit.csv</td>\n",
       "    </tr>\n",
       "    <tr>\n",
       "      <th>4</th>\n",
       "      <td>Is kenya capable of funding its needs now that...</td>\n",
       "      <td>How is kenya prepared to fill the vacuum of US...</td>\n",
       "      <td>usaid kenya</td>\n",
       "      <td>2025-03-08 08:08:58</td>\n",
       "      <td>https://www.reddit.com/r/Kenya/comments/1j6cjz...</td>\n",
       "      <td>Agatha_reddit.csv</td>\n",
       "    </tr>\n",
       "  </tbody>\n",
       "</table>\n",
       "</div>"
      ],
      "text/plain": [
       "                                          post_title  \\\n",
       "0  USAID left a month ago, do we have ARVs in Kenya?   \n",
       "1                  Classism in r/Kenya and r/nairobi   \n",
       "2                       EX-USAID people!! Let's talk   \n",
       "3  Why western powers back Israel no matter what ...   \n",
       "4  Is kenya capable of funding its needs now that...   \n",
       "\n",
       "                                                text      keyword  \\\n",
       "0  Someone on a different group (different websit...  usaid kenya   \n",
       "1  The classism I'm seeing in both subs is a good...  usaid kenya   \n",
       "2  Are you still in contact with the organisation...  usaid kenya   \n",
       "3  I don't care what good book you read, but it's...  usaid kenya   \n",
       "4  How is kenya prepared to fill the vacuum of US...  usaid kenya   \n",
       "\n",
       "       published_date                                                url  \\\n",
       "0 2025-04-15 13:16:53  https://www.reddit.com/r/Kenya/comments/1jzrn2...   \n",
       "1 2025-04-07 04:21:12  https://www.reddit.com/r/Kenya/comments/1jtcvb...   \n",
       "2 2025-04-05 19:09:10  https://www.reddit.com/r/Kenya/comments/1jsb14...   \n",
       "3 2025-03-25 08:18:04  https://www.reddit.com/r/Kenya/comments/1jjehw...   \n",
       "4 2025-03-08 08:08:58  https://www.reddit.com/r/Kenya/comments/1j6cjz...   \n",
       "\n",
       "         source_file  \n",
       "0  Agatha_reddit.csv  \n",
       "1  Agatha_reddit.csv  \n",
       "2  Agatha_reddit.csv  \n",
       "3  Agatha_reddit.csv  \n",
       "4  Agatha_reddit.csv  "
      ]
     },
     "execution_count": 4,
     "metadata": {},
     "output_type": "execute_result"
    }
   ],
   "source": [
    "\n",
    "preferred_columns = ['post_title', 'text', 'keyword', 'published_date', 'url']\n",
    "all_dfs = []\n",
    "\n",
    "for file in csv_files:\n",
    "    df = pd.read_csv(file)\n",
    "    \n",
    "    # Rename common column variants\n",
    "    if 'title' in df.columns:\n",
    "        df.rename(columns={'title': 'post_title'}, inplace=True)\n",
    "    if 'selftext' in df.columns and 'text' not in df.columns:\n",
    "        df.rename(columns={'selftext': 'text'}, inplace=True)\n",
    "    if 'date_posted' in df.columns:\n",
    "        df.rename(columns={'date_posted': 'published_date'}, inplace=True)\n",
    "    elif 'created_utc' in df.columns:\n",
    "        df.rename(columns={'created_utc': 'published_date'}, inplace=True)\n",
    "    \n",
    "    # Add missing columns\n",
    "    for col in preferred_columns:\n",
    "        if col not in df.columns:\n",
    "            df[col] = None\n",
    "\n",
    "    # Convert published_date to datetime\n",
    "    df['published_date'] = pd.to_datetime(df['published_date'], errors='coerce')\n",
    "\n",
    "    # Track file source\n",
    "    df['source_file'] = os.path.basename(file)\n",
    "    \n",
    "    # Keep only standardized columns\n",
    "    df = df[preferred_columns + ['source_file']]\n",
    "\n",
    "    all_dfs.append(df)\n",
    "\n",
    "# Combine all\n",
    "combined_df = pd.concat(all_dfs, ignore_index=True)\n",
    "combined_df.head()\n"
   ]
  },
  {
   "cell_type": "code",
   "execution_count": 5,
   "id": "83d5b9f6",
   "metadata": {},
   "outputs": [
    {
     "data": {
      "text/plain": [
       "(1306, 6)"
      ]
     },
     "execution_count": 5,
     "metadata": {},
     "output_type": "execute_result"
    }
   ],
   "source": [
    "combined_df.shape #check the shape of the dataset"
   ]
  },
  {
   "cell_type": "code",
   "execution_count": 6,
   "id": "b896c819",
   "metadata": {},
   "outputs": [
    {
     "data": {
      "text/plain": [
       "post_title          0\n",
       "text              398\n",
       "keyword           564\n",
       "published_date    197\n",
       "url                 0\n",
       "source_file         0\n",
       "dtype: int64"
      ]
     },
     "execution_count": 6,
     "metadata": {},
     "output_type": "execute_result"
    }
   ],
   "source": [
    "combined_df.isna().sum() #check for missing values"
   ]
  },
  {
   "cell_type": "code",
   "execution_count": 7,
   "id": "6cbb0b58",
   "metadata": {},
   "outputs": [
    {
     "data": {
      "text/plain": [
       "Index(['post_title', 'text', 'keyword', 'published_date', 'url',\n",
       "       'source_file'],\n",
       "      dtype='object')"
      ]
     },
     "execution_count": 7,
     "metadata": {},
     "output_type": "execute_result"
    }
   ],
   "source": [
    "combined_df.columns"
   ]
  },
  {
   "cell_type": "code",
   "execution_count": 8,
   "id": "f8a79603",
   "metadata": {},
   "outputs": [
    {
     "data": {
      "text/html": [
       "<div>\n",
       "<style scoped>\n",
       "    .dataframe tbody tr th:only-of-type {\n",
       "        vertical-align: middle;\n",
       "    }\n",
       "\n",
       "    .dataframe tbody tr th {\n",
       "        vertical-align: top;\n",
       "    }\n",
       "\n",
       "    .dataframe thead th {\n",
       "        text-align: right;\n",
       "    }\n",
       "</style>\n",
       "<table border=\"1\" class=\"dataframe\">\n",
       "  <thead>\n",
       "    <tr style=\"text-align: right;\">\n",
       "      <th></th>\n",
       "      <th>post_title</th>\n",
       "      <th>text</th>\n",
       "      <th>keyword</th>\n",
       "      <th>published_date</th>\n",
       "      <th>url</th>\n",
       "      <th>source_file</th>\n",
       "    </tr>\n",
       "  </thead>\n",
       "  <tbody>\n",
       "    <tr>\n",
       "      <th>0</th>\n",
       "      <td>USAID left a month ago, do we have ARVs in Kenya?</td>\n",
       "      <td>Someone on a different group (different websit...</td>\n",
       "      <td>usaid kenya</td>\n",
       "      <td>2025-04-15</td>\n",
       "      <td>https://www.reddit.com/r/Kenya/comments/1jzrn2...</td>\n",
       "      <td>Agatha_reddit.csv</td>\n",
       "    </tr>\n",
       "    <tr>\n",
       "      <th>1</th>\n",
       "      <td>Classism in r/Kenya and r/nairobi</td>\n",
       "      <td>The classism I'm seeing in both subs is a good...</td>\n",
       "      <td>usaid kenya</td>\n",
       "      <td>2025-04-07</td>\n",
       "      <td>https://www.reddit.com/r/Kenya/comments/1jtcvb...</td>\n",
       "      <td>Agatha_reddit.csv</td>\n",
       "    </tr>\n",
       "    <tr>\n",
       "      <th>2</th>\n",
       "      <td>EX-USAID people!! Let's talk</td>\n",
       "      <td>Are you still in contact with the organisation...</td>\n",
       "      <td>usaid kenya</td>\n",
       "      <td>2025-04-05</td>\n",
       "      <td>https://www.reddit.com/r/Kenya/comments/1jsb14...</td>\n",
       "      <td>Agatha_reddit.csv</td>\n",
       "    </tr>\n",
       "    <tr>\n",
       "      <th>3</th>\n",
       "      <td>Why western powers back Israel no matter what ...</td>\n",
       "      <td>I don't care what good book you read, but it's...</td>\n",
       "      <td>usaid kenya</td>\n",
       "      <td>2025-03-25</td>\n",
       "      <td>https://www.reddit.com/r/Kenya/comments/1jjehw...</td>\n",
       "      <td>Agatha_reddit.csv</td>\n",
       "    </tr>\n",
       "    <tr>\n",
       "      <th>4</th>\n",
       "      <td>Is kenya capable of funding its needs now that...</td>\n",
       "      <td>How is kenya prepared to fill the vacuum of US...</td>\n",
       "      <td>usaid kenya</td>\n",
       "      <td>2025-03-08</td>\n",
       "      <td>https://www.reddit.com/r/Kenya/comments/1j6cjz...</td>\n",
       "      <td>Agatha_reddit.csv</td>\n",
       "    </tr>\n",
       "  </tbody>\n",
       "</table>\n",
       "</div>"
      ],
      "text/plain": [
       "                                          post_title  \\\n",
       "0  USAID left a month ago, do we have ARVs in Kenya?   \n",
       "1                  Classism in r/Kenya and r/nairobi   \n",
       "2                       EX-USAID people!! Let's talk   \n",
       "3  Why western powers back Israel no matter what ...   \n",
       "4  Is kenya capable of funding its needs now that...   \n",
       "\n",
       "                                                text      keyword  \\\n",
       "0  Someone on a different group (different websit...  usaid kenya   \n",
       "1  The classism I'm seeing in both subs is a good...  usaid kenya   \n",
       "2  Are you still in contact with the organisation...  usaid kenya   \n",
       "3  I don't care what good book you read, but it's...  usaid kenya   \n",
       "4  How is kenya prepared to fill the vacuum of US...  usaid kenya   \n",
       "\n",
       "  published_date                                                url  \\\n",
       "0     2025-04-15  https://www.reddit.com/r/Kenya/comments/1jzrn2...   \n",
       "1     2025-04-07  https://www.reddit.com/r/Kenya/comments/1jtcvb...   \n",
       "2     2025-04-05  https://www.reddit.com/r/Kenya/comments/1jsb14...   \n",
       "3     2025-03-25  https://www.reddit.com/r/Kenya/comments/1jjehw...   \n",
       "4     2025-03-08  https://www.reddit.com/r/Kenya/comments/1j6cjz...   \n",
       "\n",
       "         source_file  \n",
       "0  Agatha_reddit.csv  \n",
       "1  Agatha_reddit.csv  \n",
       "2  Agatha_reddit.csv  \n",
       "3  Agatha_reddit.csv  \n",
       "4  Agatha_reddit.csv  "
      ]
     },
     "execution_count": 8,
     "metadata": {},
     "output_type": "execute_result"
    }
   ],
   "source": [
    "# Extract date and time\n",
    "combined_df['time'] = combined_df['published_date'].dt.time\n",
    "combined_df['published_date'] = combined_df['published_date'].dt.date\n",
    "\n",
    "#Drop the time column\n",
    "combined_df.drop(columns='time', inplace=True)\n",
    "combined_df.head()"
   ]
  },
  {
   "cell_type": "code",
   "execution_count": 9,
   "id": "203cd407",
   "metadata": {},
   "outputs": [
    {
     "data": {
      "text/html": [
       "<div>\n",
       "<style scoped>\n",
       "    .dataframe tbody tr th:only-of-type {\n",
       "        vertical-align: middle;\n",
       "    }\n",
       "\n",
       "    .dataframe tbody tr th {\n",
       "        vertical-align: top;\n",
       "    }\n",
       "\n",
       "    .dataframe thead th {\n",
       "        text-align: right;\n",
       "    }\n",
       "</style>\n",
       "<table border=\"1\" class=\"dataframe\">\n",
       "  <thead>\n",
       "    <tr style=\"text-align: right;\">\n",
       "      <th></th>\n",
       "      <th>post_title</th>\n",
       "      <th>text</th>\n",
       "      <th>keyword</th>\n",
       "      <th>published_date</th>\n",
       "      <th>url</th>\n",
       "      <th>source_file</th>\n",
       "    </tr>\n",
       "  </thead>\n",
       "  <tbody>\n",
       "    <tr>\n",
       "      <th>165</th>\n",
       "      <td>Tech Startups</td>\n",
       "      <td>We all saw that Maas post (Mzungu as a Service...</td>\n",
       "      <td>usaid kenya funding cut</td>\n",
       "      <td>2025-03-28</td>\n",
       "      <td>https://www.reddit.com/r/Kenya/comments/1jlt9j...</td>\n",
       "      <td>Agatha_reddit.csv</td>\n",
       "    </tr>\n",
       "    <tr>\n",
       "      <th>1052</th>\n",
       "      <td>Russian ships carrying stolen Ukrainian grains...</td>\n",
       "      <td>NaN</td>\n",
       "      <td>None</td>\n",
       "      <td>NaT</td>\n",
       "      <td>https://markets.businessinsider.com/news/commo...</td>\n",
       "      <td>Mbego_reddit_usaid_kenya2.csv</td>\n",
       "    </tr>\n",
       "    <tr>\n",
       "      <th>352</th>\n",
       "      <td>UAE purchase/lease of galana kulalu</td>\n",
       "      <td>This article paints a rosy picture but isn't t...</td>\n",
       "      <td>kenya donor funding</td>\n",
       "      <td>2025-03-06</td>\n",
       "      <td>https://www.reddit.com/r/Kenya/comments/1j4v1q...</td>\n",
       "      <td>Agatha_reddit.csv</td>\n",
       "    </tr>\n",
       "    <tr>\n",
       "      <th>452</th>\n",
       "      <td>Funding cut for team tracking Ukrainian abduct...</td>\n",
       "      <td>NaN</td>\n",
       "      <td>usaid kenya funding cut</td>\n",
       "      <td>2025-03-15</td>\n",
       "      <td>https://www.pravda.com.ua/eng/news/2025/03/15/...</td>\n",
       "      <td>Agatha_reddit.csv</td>\n",
       "    </tr>\n",
       "    <tr>\n",
       "      <th>391</th>\n",
       "      <td>Why?</td>\n",
       "      <td>\\r\\n\\r\\n\\r\\n\\r\\n\\r\\nWhy???\\r\\n\\r\\nhttps://www....</td>\n",
       "      <td>usaid kenya funding cut</td>\n",
       "      <td>2025-03-14</td>\n",
       "      <td>https://www.reddit.com/gallery/1jbgdq7</td>\n",
       "      <td>Agatha_reddit.csv</td>\n",
       "    </tr>\n",
       "    <tr>\n",
       "      <th>1090</th>\n",
       "      <td>USAID HIV FUND CUTS</td>\n",
       "      <td>Guys with the recent halting of funds for HIV,...</td>\n",
       "      <td>None</td>\n",
       "      <td>1970-01-01</td>\n",
       "      <td>https://www.reddit.com/r/Kenya/comments/1j0am0...</td>\n",
       "      <td>reddit_usaid_sentiment.csv</td>\n",
       "    </tr>\n",
       "    <tr>\n",
       "      <th>358</th>\n",
       "      <td>Advice for every kenyan who works for an NGO (...</td>\n",
       "      <td>I hate to be the bearer of bad news but the re...</td>\n",
       "      <td>kenya donor funding</td>\n",
       "      <td>2025-02-06</td>\n",
       "      <td>https://www.reddit.com/r/Kenya/comments/1iiyyk...</td>\n",
       "      <td>Agatha_reddit.csv</td>\n",
       "    </tr>\n",
       "    <tr>\n",
       "      <th>747</th>\n",
       "      <td>USAID Repercussions + Economy</td>\n",
       "      <td>My neighbour’s wife was a very big shot in USA...</td>\n",
       "      <td>None</td>\n",
       "      <td>1970-01-01</td>\n",
       "      <td>https://www.reddit.com/r/Kenya/comments/1kmhn8...</td>\n",
       "      <td>leo_reddit_posts.csv</td>\n",
       "    </tr>\n",
       "    <tr>\n",
       "      <th>1096</th>\n",
       "      <td>Economy</td>\n",
       "      <td>For the experts in matters economy and finance...</td>\n",
       "      <td>None</td>\n",
       "      <td>1970-01-01</td>\n",
       "      <td>https://www.reddit.com/r/Kenya/comments/1jsyty...</td>\n",
       "      <td>reddit_usaid_sentiment.csv</td>\n",
       "    </tr>\n",
       "    <tr>\n",
       "      <th>738</th>\n",
       "      <td>My experience with the USAID Money.</td>\n",
       "      <td>The list of companies who've been getting mone...</td>\n",
       "      <td>USAID, USAID money, donors, NGOs</td>\n",
       "      <td>2025-02-08</td>\n",
       "      <td>https://www.reddit.com/r/nairobi/comments/1ikl...</td>\n",
       "      <td>cecilia.reddit_nbo_ke_africa.csv</td>\n",
       "    </tr>\n",
       "  </tbody>\n",
       "</table>\n",
       "</div>"
      ],
      "text/plain": [
       "                                             post_title  \\\n",
       "165                                       Tech Startups   \n",
       "1052  Russian ships carrying stolen Ukrainian grains...   \n",
       "352                 UAE purchase/lease of galana kulalu   \n",
       "452   Funding cut for team tracking Ukrainian abduct...   \n",
       "391                                                Why?   \n",
       "1090                                USAID HIV FUND CUTS   \n",
       "358   Advice for every kenyan who works for an NGO (...   \n",
       "747                       USAID Repercussions + Economy   \n",
       "1096                                            Economy   \n",
       "738                 My experience with the USAID Money.   \n",
       "\n",
       "                                                   text  \\\n",
       "165   We all saw that Maas post (Mzungu as a Service...   \n",
       "1052                                                NaN   \n",
       "352   This article paints a rosy picture but isn't t...   \n",
       "452                                                 NaN   \n",
       "391   \\r\\n\\r\\n\\r\\n\\r\\n\\r\\nWhy???\\r\\n\\r\\nhttps://www....   \n",
       "1090  Guys with the recent halting of funds for HIV,...   \n",
       "358   I hate to be the bearer of bad news but the re...   \n",
       "747   My neighbour’s wife was a very big shot in USA...   \n",
       "1096  For the experts in matters economy and finance...   \n",
       "738   The list of companies who've been getting mone...   \n",
       "\n",
       "                               keyword published_date  \\\n",
       "165            usaid kenya funding cut     2025-03-28   \n",
       "1052                              None            NaT   \n",
       "352                kenya donor funding     2025-03-06   \n",
       "452            usaid kenya funding cut     2025-03-15   \n",
       "391            usaid kenya funding cut     2025-03-14   \n",
       "1090                              None     1970-01-01   \n",
       "358                kenya donor funding     2025-02-06   \n",
       "747                               None     1970-01-01   \n",
       "1096                              None     1970-01-01   \n",
       "738   USAID, USAID money, donors, NGOs     2025-02-08   \n",
       "\n",
       "                                                    url  \\\n",
       "165   https://www.reddit.com/r/Kenya/comments/1jlt9j...   \n",
       "1052  https://markets.businessinsider.com/news/commo...   \n",
       "352   https://www.reddit.com/r/Kenya/comments/1j4v1q...   \n",
       "452   https://www.pravda.com.ua/eng/news/2025/03/15/...   \n",
       "391              https://www.reddit.com/gallery/1jbgdq7   \n",
       "1090  https://www.reddit.com/r/Kenya/comments/1j0am0...   \n",
       "358   https://www.reddit.com/r/Kenya/comments/1iiyyk...   \n",
       "747   https://www.reddit.com/r/Kenya/comments/1kmhn8...   \n",
       "1096  https://www.reddit.com/r/Kenya/comments/1jsyty...   \n",
       "738   https://www.reddit.com/r/nairobi/comments/1ikl...   \n",
       "\n",
       "                           source_file  \n",
       "165                  Agatha_reddit.csv  \n",
       "1052     Mbego_reddit_usaid_kenya2.csv  \n",
       "352                  Agatha_reddit.csv  \n",
       "452                  Agatha_reddit.csv  \n",
       "391                  Agatha_reddit.csv  \n",
       "1090        reddit_usaid_sentiment.csv  \n",
       "358                  Agatha_reddit.csv  \n",
       "747               leo_reddit_posts.csv  \n",
       "1096        reddit_usaid_sentiment.csv  \n",
       "738   cecilia.reddit_nbo_ke_africa.csv  "
      ]
     },
     "execution_count": 9,
     "metadata": {},
     "output_type": "execute_result"
    }
   ],
   "source": [
    "combined_df.sample(10) #random sample of 10 rows"
   ]
  },
  {
   "cell_type": "markdown",
   "id": "9db6c968",
   "metadata": {},
   "source": [
    "### Save the final merged dataframe to csv"
   ]
  },
  {
   "cell_type": "code",
   "execution_count": 10,
   "id": "be3f73dc",
   "metadata": {},
   "outputs": [
    {
     "name": "stdout",
     "output_type": "stream",
     "text": [
      " Results successfully saved to:\n",
      "C:/Users/hp/Desktop/DATA NEXUS PROJECTS/USAID-Kenya-Sentiment-Analysis/data/processed/individual datasets/Cecilia_merged_reddit_dataset.csv\n"
     ]
    }
   ],
   "source": [
    "# Save to CSV \n",
    "if not combined_df.empty:\n",
    "    output_filename = \"C:/Users/hp/Desktop/DATA NEXUS PROJECTS/USAID-Kenya-Sentiment-Analysis/data/processed/individual datasets/Cecilia_merged_reddit_dataset.csv\"\n",
    "    combined_df.to_csv(output_filename, index=False, encoding='utf-8')\n",
    "    print(f\" Results successfully saved to:\\n{output_filename}\")\n",
    "else:\n",
    "    print(\" No data to save. The DataFrame is empty.\")\n"
   ]
  },
  {
   "cell_type": "code",
   "execution_count": null,
   "id": "4313f5e3",
   "metadata": {},
   "outputs": [],
   "source": []
  },
  {
   "cell_type": "markdown",
   "id": "a05bf2ed",
   "metadata": {},
   "source": [
    "# Merging News CSV Files"
   ]
  },
  {
   "cell_type": "markdown",
   "id": "2e616e2e",
   "metadata": {},
   "source": [
    "### Import necessary libraries"
   ]
  },
  {
   "cell_type": "code",
   "execution_count": 11,
   "id": "350238dc",
   "metadata": {},
   "outputs": [],
   "source": [
    "import pandas as pd\n",
    "import glob\n",
    "import os\n"
   ]
  },
  {
   "cell_type": "markdown",
   "id": "a18c8d34",
   "metadata": {},
   "source": [
    "### Folder path"
   ]
  },
  {
   "cell_type": "code",
   "execution_count": 12,
   "id": "f0bc11b4",
   "metadata": {},
   "outputs": [],
   "source": [
    "folder_path = 'C:/Users/hp/Desktop/DATA NEXUS PROJECTS/USAID-Kenya-Sentiment-Analysis/data/raw/news_data'\n"
   ]
  },
  {
   "cell_type": "markdown",
   "id": "0394822b",
   "metadata": {},
   "source": [
    "### CSV file paths"
   ]
  },
  {
   "cell_type": "code",
   "execution_count": 13,
   "id": "015bbad0",
   "metadata": {},
   "outputs": [
    {
     "data": {
      "text/plain": [
       "['C:/Users/hp/Desktop/DATA NEXUS PROJECTS/USAID-Kenya-Sentiment-Analysis/data/raw/news_data\\\\Agatha_news.csv',\n",
       " 'C:/Users/hp/Desktop/DATA NEXUS PROJECTS/USAID-Kenya-Sentiment-Analysis/data/raw/news_data\\\\cecilia.newsapi.csv',\n",
       " 'C:/Users/hp/Desktop/DATA NEXUS PROJECTS/USAID-Kenya-Sentiment-Analysis/data/raw/news_data\\\\leo_newsapi_articles_enriched.csv',\n",
       " 'C:/Users/hp/Desktop/DATA NEXUS PROJECTS/USAID-Kenya-Sentiment-Analysis/data/raw/news_data\\\\Mbego_news_usaid_kenya_fulltext.csv',\n",
       " 'C:/Users/hp/Desktop/DATA NEXUS PROJECTS/USAID-Kenya-Sentiment-Analysis/data/raw/news_data\\\\Mbego_news_usaid_kenya_recent.csv',\n",
       " 'C:/Users/hp/Desktop/DATA NEXUS PROJECTS/USAID-Kenya-Sentiment-Analysis/data/raw/news_data\\\\newsapi_usaid_articles.csv',\n",
       " 'C:/Users/hp/Desktop/DATA NEXUS PROJECTS/USAID-Kenya-Sentiment-Analysis/data/raw/news_data\\\\ruth_news.csv']"
      ]
     },
     "execution_count": 13,
     "metadata": {},
     "output_type": "execute_result"
    }
   ],
   "source": [
    "folder_path = 'C:/Users/hp/Desktop/DATA NEXUS PROJECTS/USAID-Kenya-Sentiment-Analysis/data/raw/news_data'\n",
    "omit_file = os.path.join(folder_path, 'Agatha_news_fulltext.csv')\n",
    "\n",
    "news_csv_files = glob.glob(os.path.join(folder_path, '*.csv'))\n",
    "news_csv_files = [f for f in news_csv_files if os.path.normpath(f) != os.path.normpath(omit_file)]\n",
    "\n",
    "news_csv_files\n"
   ]
  },
  {
   "cell_type": "markdown",
   "id": "74983ad8",
   "metadata": {},
   "source": [
    "### Reading the files and combining them into one dataframe"
   ]
  },
  {
   "cell_type": "code",
   "execution_count": 14,
   "id": "02b6885f",
   "metadata": {},
   "outputs": [
    {
     "name": "stdout",
     "output_type": "stream",
     "text": [
      "NewsAPI data saved to:\n",
      "C:/Users/hp/Desktop/DATA NEXUS PROJECTS/USAID-Kenya-Sentiment-Analysis/data/processed/individual datasets/Cecilia_merged_news_dataset.csv\n"
     ]
    }
   ],
   "source": [
    "import pandas as pd\n",
    "import os\n",
    "\n",
    "news_columns = ['title', 'description', 'text', 'url', 'keyword', 'published_date', 'source_file']\n",
    "all_news_dfs = []\n",
    "\n",
    "for file in news_csv_files:  \n",
    "    df = pd.read_csv(file)\n",
    "\n",
    "    # Rename content to text \n",
    "    if 'content' in df.columns and 'text' not in df.columns:\n",
    "        df.rename(columns={'content': 'text'}, inplace=True)\n",
    "\n",
    "    # Rename publishedAt to published_date\n",
    "    if 'publishedAt' in df.columns:\n",
    "        df.rename(columns={'publishedAt': 'published_date'}, inplace=True)\n",
    "\n",
    "    # Add missing columns\n",
    "    for col in news_columns:\n",
    "        if col not in df.columns:\n",
    "            df[col] = None\n",
    "\n",
    "    # Convert published_date to datetime\n",
    "    df['published_date'] = pd.to_datetime(df['published_date'], errors='coerce')\n",
    "\n",
    "\n",
    "\n",
    "    # source file info\n",
    "    df['source_file'] = os.path.basename(file)\n",
    "\n",
    "    # standardized columns\n",
    "    df = df[news_columns]\n",
    "    all_news_dfs.append(df)\n",
    "\n",
    "# Combine all\n",
    "news_combined_df = pd.concat(all_news_dfs, ignore_index=True)\n",
    "\n",
    "# Save to CSV\n",
    "output_path = \"C:/Users/hp/Desktop/DATA NEXUS PROJECTS/USAID-Kenya-Sentiment-Analysis/data/processed/individual datasets/Cecilia_merged_news_dataset.csv\"\n",
    "if not news_combined_df.empty:\n",
    "    news_combined_df.to_csv(output_path, index=False, encoding='utf-8')\n",
    "    print(f\"NewsAPI data saved to:\\n{output_path}\")\n",
    "else:\n",
    "    print(\"No NewsAPI data to save. DataFrame is empty.\")\n"
   ]
  },
  {
   "cell_type": "code",
   "execution_count": 15,
   "id": "faed2a11",
   "metadata": {},
   "outputs": [
    {
     "data": {
      "text/plain": [
       "(2638, 7)"
      ]
     },
     "execution_count": 15,
     "metadata": {},
     "output_type": "execute_result"
    }
   ],
   "source": [
    "news_combined_df.shape"
   ]
  },
  {
   "cell_type": "code",
   "execution_count": 16,
   "id": "f6465239",
   "metadata": {},
   "outputs": [
    {
     "data": {
      "text/html": [
       "<div>\n",
       "<style scoped>\n",
       "    .dataframe tbody tr th:only-of-type {\n",
       "        vertical-align: middle;\n",
       "    }\n",
       "\n",
       "    .dataframe tbody tr th {\n",
       "        vertical-align: top;\n",
       "    }\n",
       "\n",
       "    .dataframe thead th {\n",
       "        text-align: right;\n",
       "    }\n",
       "</style>\n",
       "<table border=\"1\" class=\"dataframe\">\n",
       "  <thead>\n",
       "    <tr style=\"text-align: right;\">\n",
       "      <th></th>\n",
       "      <th>title</th>\n",
       "      <th>description</th>\n",
       "      <th>text</th>\n",
       "      <th>url</th>\n",
       "      <th>keyword</th>\n",
       "      <th>published_date</th>\n",
       "      <th>source_file</th>\n",
       "    </tr>\n",
       "  </thead>\n",
       "  <tbody>\n",
       "    <tr>\n",
       "      <th>2543</th>\n",
       "      <td>Elizabeth Warren demands answers over reports ...</td>\n",
       "      <td>Elizabeth Warren demands answers over reports ...</td>\n",
       "      <td>Elizabeth Warren at the US Capitol on 11 Febru...</td>\n",
       "      <td>https://www.newsbreak.com/share/4062317831155-...</td>\n",
       "      <td>None</td>\n",
       "      <td>2025-06-22 14:02:34+00:00</td>\n",
       "      <td>newsapi_usaid_articles.csv</td>\n",
       "    </tr>\n",
       "    <tr>\n",
       "      <th>1923</th>\n",
       "      <td>US vetoes Security Council resolution demandin...</td>\n",
       "      <td>A draft resolution calling for an immediate an...</td>\n",
       "      <td>By Vibhu Mishra4 June 2025 - A draft resolutio...</td>\n",
       "      <td>https://www.globalsecurity.org/military/librar...</td>\n",
       "      <td>aid withdrawal</td>\n",
       "      <td>2025-06-05 07:30:42+00:00</td>\n",
       "      <td>cecilia.newsapi.csv</td>\n",
       "    </tr>\n",
       "    <tr>\n",
       "      <th>648</th>\n",
       "      <td>Trump Administration Sends $9.4 Billion Rescis...</td>\n",
       "      <td>The Trump administration sent a $9.4 billion r...</td>\n",
       "      <td>The Trump administration sent a $9.4 billion r...</td>\n",
       "      <td>https://www.breitbart.com/politics/2025/06/03/...</td>\n",
       "      <td>USAID</td>\n",
       "      <td>2025-06-04 03:18:10+00:00</td>\n",
       "      <td>cecilia.newsapi.csv</td>\n",
       "    </tr>\n",
       "    <tr>\n",
       "      <th>971</th>\n",
       "      <td>House GOP Passes DOGE Cuts by a Whisker After ...</td>\n",
       "      <td>The House Republicans successfully passed a re...</td>\n",
       "      <td>The House Republicans successfully passed a re...</td>\n",
       "      <td>https://www.dailysignal.com/2025/06/12/house-g...</td>\n",
       "      <td>aid budget</td>\n",
       "      <td>2025-06-12 20:01:08+00:00</td>\n",
       "      <td>cecilia.newsapi.csv</td>\n",
       "    </tr>\n",
       "    <tr>\n",
       "      <th>2348</th>\n",
       "      <td>Charlize Theron's Andy Fights Quynh in a 500 Y...</td>\n",
       "      <td>Netflix has released a new clip from the upcom...</td>\n",
       "      <td>Netflix has released a new clip from the upcom...</td>\n",
       "      <td>https://geektyrant.com/news/charlize-therons-a...</td>\n",
       "      <td>NGOs</td>\n",
       "      <td>2025-06-09 21:00:00+00:00</td>\n",
       "      <td>cecilia.newsapi.csv</td>\n",
       "    </tr>\n",
       "    <tr>\n",
       "      <th>396</th>\n",
       "      <td>Trump’s Liquidation of U.S Global Leadership</td>\n",
       "      <td>Some geopolitical aspects of how Trump's mazim...</td>\n",
       "      <td>Yves here, It is striking to see the degree to...</td>\n",
       "      <td>https://www.nakedcapitalism.com/2025/05/trumps...</td>\n",
       "      <td>foreign aid cut</td>\n",
       "      <td>2025-05-27 07:00:05+00:00</td>\n",
       "      <td>Agatha_news.csv</td>\n",
       "    </tr>\n",
       "    <tr>\n",
       "      <th>2373</th>\n",
       "      <td>In Europe, the ground is being prepared for an...</td>\n",
       "      <td>The genocide denial and Holocaust revisionism ...</td>\n",
       "      <td>On April 15, Austrian Nobel laureate Peter Han...</td>\n",
       "      <td>https://www.aljazeera.com/opinions/2025/6/14/i...</td>\n",
       "      <td>NGOs</td>\n",
       "      <td>2025-06-14 13:08:28+00:00</td>\n",
       "      <td>cecilia.newsapi.csv</td>\n",
       "    </tr>\n",
       "    <tr>\n",
       "      <th>1052</th>\n",
       "      <td>Congress Should Quickly Approve Trump’s Rescis...</td>\n",
       "      <td>President Donald Trump‘s rescission legislatio...</td>\n",
       "      <td>President Donald Trumps rescission legislation...</td>\n",
       "      <td>https://www.dailysignal.com/2025/06/10/congres...</td>\n",
       "      <td>USAID Kenya</td>\n",
       "      <td>2025-06-10 12:00:00+00:00</td>\n",
       "      <td>cecilia.newsapi.csv</td>\n",
       "    </tr>\n",
       "    <tr>\n",
       "      <th>900</th>\n",
       "      <td>Trump Is Trying To Defund An Agency That Saves...</td>\n",
       "      <td>The White House wants to slash the $85 million...</td>\n",
       "      <td>President Trump isn't just trying to get rid o...</td>\n",
       "      <td>https://www.forbes.com/sites/thomasbrewster/20...</td>\n",
       "      <td>aid budget</td>\n",
       "      <td>2025-06-13 18:05:21+00:00</td>\n",
       "      <td>cecilia.newsapi.csv</td>\n",
       "    </tr>\n",
       "    <tr>\n",
       "      <th>301</th>\n",
       "      <td>Bill Gates to give most of $200 billion fund t...</td>\n",
       "      <td>Bill Gates has urged African leaders to join h...</td>\n",
       "      <td>US billionaire Bill Gates on Tuesday announced...</td>\n",
       "      <td>https://www.dw.com/en/bill-gates-to-give-most-...</td>\n",
       "      <td>development aid kenya</td>\n",
       "      <td>2025-06-03 07:09:00+00:00</td>\n",
       "      <td>Agatha_news.csv</td>\n",
       "    </tr>\n",
       "  </tbody>\n",
       "</table>\n",
       "</div>"
      ],
      "text/plain": [
       "                                                  title  \\\n",
       "2543  Elizabeth Warren demands answers over reports ...   \n",
       "1923  US vetoes Security Council resolution demandin...   \n",
       "648   Trump Administration Sends $9.4 Billion Rescis...   \n",
       "971   House GOP Passes DOGE Cuts by a Whisker After ...   \n",
       "2348  Charlize Theron's Andy Fights Quynh in a 500 Y...   \n",
       "396        Trump’s Liquidation of U.S Global Leadership   \n",
       "2373  In Europe, the ground is being prepared for an...   \n",
       "1052  Congress Should Quickly Approve Trump’s Rescis...   \n",
       "900   Trump Is Trying To Defund An Agency That Saves...   \n",
       "301   Bill Gates to give most of $200 billion fund t...   \n",
       "\n",
       "                                            description  \\\n",
       "2543  Elizabeth Warren demands answers over reports ...   \n",
       "1923  A draft resolution calling for an immediate an...   \n",
       "648   The Trump administration sent a $9.4 billion r...   \n",
       "971   The House Republicans successfully passed a re...   \n",
       "2348  Netflix has released a new clip from the upcom...   \n",
       "396   Some geopolitical aspects of how Trump's mazim...   \n",
       "2373  The genocide denial and Holocaust revisionism ...   \n",
       "1052  President Donald Trump‘s rescission legislatio...   \n",
       "900   The White House wants to slash the $85 million...   \n",
       "301   Bill Gates has urged African leaders to join h...   \n",
       "\n",
       "                                                   text  \\\n",
       "2543  Elizabeth Warren at the US Capitol on 11 Febru...   \n",
       "1923  By Vibhu Mishra4 June 2025 - A draft resolutio...   \n",
       "648   The Trump administration sent a $9.4 billion r...   \n",
       "971   The House Republicans successfully passed a re...   \n",
       "2348  Netflix has released a new clip from the upcom...   \n",
       "396   Yves here, It is striking to see the degree to...   \n",
       "2373  On April 15, Austrian Nobel laureate Peter Han...   \n",
       "1052  President Donald Trumps rescission legislation...   \n",
       "900   President Trump isn't just trying to get rid o...   \n",
       "301   US billionaire Bill Gates on Tuesday announced...   \n",
       "\n",
       "                                                    url  \\\n",
       "2543  https://www.newsbreak.com/share/4062317831155-...   \n",
       "1923  https://www.globalsecurity.org/military/librar...   \n",
       "648   https://www.breitbart.com/politics/2025/06/03/...   \n",
       "971   https://www.dailysignal.com/2025/06/12/house-g...   \n",
       "2348  https://geektyrant.com/news/charlize-therons-a...   \n",
       "396   https://www.nakedcapitalism.com/2025/05/trumps...   \n",
       "2373  https://www.aljazeera.com/opinions/2025/6/14/i...   \n",
       "1052  https://www.dailysignal.com/2025/06/10/congres...   \n",
       "900   https://www.forbes.com/sites/thomasbrewster/20...   \n",
       "301   https://www.dw.com/en/bill-gates-to-give-most-...   \n",
       "\n",
       "                    keyword             published_date  \\\n",
       "2543                   None  2025-06-22 14:02:34+00:00   \n",
       "1923         aid withdrawal  2025-06-05 07:30:42+00:00   \n",
       "648                   USAID  2025-06-04 03:18:10+00:00   \n",
       "971              aid budget  2025-06-12 20:01:08+00:00   \n",
       "2348                   NGOs  2025-06-09 21:00:00+00:00   \n",
       "396         foreign aid cut  2025-05-27 07:00:05+00:00   \n",
       "2373                   NGOs  2025-06-14 13:08:28+00:00   \n",
       "1052            USAID Kenya  2025-06-10 12:00:00+00:00   \n",
       "900              aid budget  2025-06-13 18:05:21+00:00   \n",
       "301   development aid kenya  2025-06-03 07:09:00+00:00   \n",
       "\n",
       "                     source_file  \n",
       "2543  newsapi_usaid_articles.csv  \n",
       "1923         cecilia.newsapi.csv  \n",
       "648          cecilia.newsapi.csv  \n",
       "971          cecilia.newsapi.csv  \n",
       "2348         cecilia.newsapi.csv  \n",
       "396              Agatha_news.csv  \n",
       "2373         cecilia.newsapi.csv  \n",
       "1052         cecilia.newsapi.csv  \n",
       "900          cecilia.newsapi.csv  \n",
       "301              Agatha_news.csv  "
      ]
     },
     "execution_count": 16,
     "metadata": {},
     "output_type": "execute_result"
    }
   ],
   "source": [
    "news_combined_df.sample(10)"
   ]
  },
  {
   "cell_type": "code",
   "execution_count": 17,
   "id": "93b5781e",
   "metadata": {},
   "outputs": [
    {
     "data": {
      "text/plain": [
       "title               0\n",
       "description        16\n",
       "text               25\n",
       "url                 2\n",
       "keyword           259\n",
       "published_date     99\n",
       "source_file         0\n",
       "dtype: int64"
      ]
     },
     "execution_count": 17,
     "metadata": {},
     "output_type": "execute_result"
    }
   ],
   "source": [
    "news_combined_df.isna().sum()"
   ]
  },
  {
   "cell_type": "markdown",
   "id": "09724989",
   "metadata": {},
   "source": [
    "## FINAL REDDIT DATA TO BE USED ~ mbego_all_reddit_merged"
   ]
  },
  {
   "cell_type": "code",
   "execution_count": 18,
   "id": "6ca8581b",
   "metadata": {},
   "outputs": [],
   "source": [
    "import pandas as pd\n",
    "import seaborn as sns"
   ]
  },
  {
   "cell_type": "code",
   "execution_count": 19,
   "id": "846c0959",
   "metadata": {},
   "outputs": [
    {
     "data": {
      "text/html": [
       "<div>\n",
       "<style scoped>\n",
       "    .dataframe tbody tr th:only-of-type {\n",
       "        vertical-align: middle;\n",
       "    }\n",
       "\n",
       "    .dataframe tbody tr th {\n",
       "        vertical-align: top;\n",
       "    }\n",
       "\n",
       "    .dataframe thead th {\n",
       "        text-align: right;\n",
       "    }\n",
       "</style>\n",
       "<table border=\"1\" class=\"dataframe\">\n",
       "  <thead>\n",
       "    <tr style=\"text-align: right;\">\n",
       "      <th></th>\n",
       "      <th>title</th>\n",
       "      <th>selftext</th>\n",
       "      <th>subreddit</th>\n",
       "      <th>author</th>\n",
       "      <th>created_utc</th>\n",
       "      <th>created_date</th>\n",
       "      <th>score</th>\n",
       "      <th>num_comments</th>\n",
       "      <th>keyword</th>\n",
       "      <th>search_term</th>\n",
       "      <th>date_posted</th>\n",
       "      <th>upvotes</th>\n",
       "      <th>comments</th>\n",
       "      <th>url</th>\n",
       "      <th>permalink</th>\n",
       "    </tr>\n",
       "  </thead>\n",
       "  <tbody>\n",
       "    <tr>\n",
       "      <th>0</th>\n",
       "      <td>USAID left a month ago, do we have ARVs in Kenya?</td>\n",
       "      <td>Someone on a different group (different websit...</td>\n",
       "      <td>Kenya</td>\n",
       "      <td>muerki</td>\n",
       "      <td>4/15/2025 13:16</td>\n",
       "      <td>NaN</td>\n",
       "      <td>3.0</td>\n",
       "      <td>5.0</td>\n",
       "      <td>usaid kenya</td>\n",
       "      <td>NaN</td>\n",
       "      <td>NaN</td>\n",
       "      <td>NaN</td>\n",
       "      <td>NaN</td>\n",
       "      <td>https://www.reddit.com/r/Kenya/comments/1jzrn2...</td>\n",
       "      <td>NaN</td>\n",
       "    </tr>\n",
       "    <tr>\n",
       "      <th>1</th>\n",
       "      <td>Classism in r/Kenya and r/nairobi</td>\n",
       "      <td>The classism I'm seeing in both subs is a good...</td>\n",
       "      <td>Kenya</td>\n",
       "      <td>Morio_anzenza</td>\n",
       "      <td>4/7/2025 4:21</td>\n",
       "      <td>NaN</td>\n",
       "      <td>169.0</td>\n",
       "      <td>95.0</td>\n",
       "      <td>usaid kenya</td>\n",
       "      <td>NaN</td>\n",
       "      <td>NaN</td>\n",
       "      <td>NaN</td>\n",
       "      <td>NaN</td>\n",
       "      <td>https://www.reddit.com/r/Kenya/comments/1jtcvb...</td>\n",
       "      <td>NaN</td>\n",
       "    </tr>\n",
       "    <tr>\n",
       "      <th>2</th>\n",
       "      <td>EX-USAID people!! Let's talk</td>\n",
       "      <td>Are you still in contact with the organisation...</td>\n",
       "      <td>Kenya</td>\n",
       "      <td>vindtar</td>\n",
       "      <td>4/5/2025 19:09</td>\n",
       "      <td>NaN</td>\n",
       "      <td>2.0</td>\n",
       "      <td>2.0</td>\n",
       "      <td>usaid kenya</td>\n",
       "      <td>NaN</td>\n",
       "      <td>NaN</td>\n",
       "      <td>NaN</td>\n",
       "      <td>NaN</td>\n",
       "      <td>https://www.reddit.com/r/Kenya/comments/1jsb14...</td>\n",
       "      <td>NaN</td>\n",
       "    </tr>\n",
       "    <tr>\n",
       "      <th>3</th>\n",
       "      <td>Why western powers back Israel no matter what ...</td>\n",
       "      <td>I don't care what good book you read, but it's...</td>\n",
       "      <td>Kenya</td>\n",
       "      <td>Gold_Smart</td>\n",
       "      <td>3/25/2025 8:18</td>\n",
       "      <td>NaN</td>\n",
       "      <td>13.0</td>\n",
       "      <td>20.0</td>\n",
       "      <td>usaid kenya</td>\n",
       "      <td>NaN</td>\n",
       "      <td>NaN</td>\n",
       "      <td>NaN</td>\n",
       "      <td>NaN</td>\n",
       "      <td>https://www.reddit.com/r/Kenya/comments/1jjehw...</td>\n",
       "      <td>NaN</td>\n",
       "    </tr>\n",
       "    <tr>\n",
       "      <th>4</th>\n",
       "      <td>Is kenya capable of funding its needs now that...</td>\n",
       "      <td>How is kenya prepared to fill the vacuum of US...</td>\n",
       "      <td>Kenya</td>\n",
       "      <td>westmaxia</td>\n",
       "      <td>3/8/2025 8:08</td>\n",
       "      <td>NaN</td>\n",
       "      <td>1.0</td>\n",
       "      <td>6.0</td>\n",
       "      <td>usaid kenya</td>\n",
       "      <td>NaN</td>\n",
       "      <td>NaN</td>\n",
       "      <td>NaN</td>\n",
       "      <td>NaN</td>\n",
       "      <td>https://www.reddit.com/r/Kenya/comments/1j6cjz...</td>\n",
       "      <td>NaN</td>\n",
       "    </tr>\n",
       "  </tbody>\n",
       "</table>\n",
       "</div>"
      ],
      "text/plain": [
       "                                               title  \\\n",
       "0  USAID left a month ago, do we have ARVs in Kenya?   \n",
       "1                  Classism in r/Kenya and r/nairobi   \n",
       "2                       EX-USAID people!! Let's talk   \n",
       "3  Why western powers back Israel no matter what ...   \n",
       "4  Is kenya capable of funding its needs now that...   \n",
       "\n",
       "                                            selftext subreddit         author  \\\n",
       "0  Someone on a different group (different websit...     Kenya         muerki   \n",
       "1  The classism I'm seeing in both subs is a good...     Kenya  Morio_anzenza   \n",
       "2  Are you still in contact with the organisation...     Kenya        vindtar   \n",
       "3  I don't care what good book you read, but it's...     Kenya     Gold_Smart   \n",
       "4  How is kenya prepared to fill the vacuum of US...     Kenya      westmaxia   \n",
       "\n",
       "       created_utc created_date  score  num_comments      keyword search_term  \\\n",
       "0  4/15/2025 13:16          NaN    3.0           5.0  usaid kenya         NaN   \n",
       "1    4/7/2025 4:21          NaN  169.0          95.0  usaid kenya         NaN   \n",
       "2   4/5/2025 19:09          NaN    2.0           2.0  usaid kenya         NaN   \n",
       "3   3/25/2025 8:18          NaN   13.0          20.0  usaid kenya         NaN   \n",
       "4    3/8/2025 8:08          NaN    1.0           6.0  usaid kenya         NaN   \n",
       "\n",
       "   date_posted  upvotes  comments  \\\n",
       "0          NaN      NaN       NaN   \n",
       "1          NaN      NaN       NaN   \n",
       "2          NaN      NaN       NaN   \n",
       "3          NaN      NaN       NaN   \n",
       "4          NaN      NaN       NaN   \n",
       "\n",
       "                                                 url permalink  \n",
       "0  https://www.reddit.com/r/Kenya/comments/1jzrn2...       NaN  \n",
       "1  https://www.reddit.com/r/Kenya/comments/1jtcvb...       NaN  \n",
       "2  https://www.reddit.com/r/Kenya/comments/1jsb14...       NaN  \n",
       "3  https://www.reddit.com/r/Kenya/comments/1jjehw...       NaN  \n",
       "4  https://www.reddit.com/r/Kenya/comments/1j6cjz...       NaN  "
      ]
     },
     "execution_count": 19,
     "metadata": {},
     "output_type": "execute_result"
    }
   ],
   "source": [
    "reddit_df = pd.read_csv('C:/Users/hp/Desktop/USAID backuppp for me/mbego_all_reddit_merged.csv')\n",
    "reddit_df.head()"
   ]
  },
  {
   "cell_type": "code",
   "execution_count": 20,
   "id": "bb901bb4",
   "metadata": {},
   "outputs": [
    {
     "data": {
      "text/html": [
       "<div>\n",
       "<style scoped>\n",
       "    .dataframe tbody tr th:only-of-type {\n",
       "        vertical-align: middle;\n",
       "    }\n",
       "\n",
       "    .dataframe tbody tr th {\n",
       "        vertical-align: top;\n",
       "    }\n",
       "\n",
       "    .dataframe thead th {\n",
       "        text-align: right;\n",
       "    }\n",
       "</style>\n",
       "<table border=\"1\" class=\"dataframe\">\n",
       "  <thead>\n",
       "    <tr style=\"text-align: right;\">\n",
       "      <th></th>\n",
       "      <th>title</th>\n",
       "      <th>selftext</th>\n",
       "      <th>subreddit</th>\n",
       "      <th>author</th>\n",
       "      <th>created_utc</th>\n",
       "      <th>created_date</th>\n",
       "      <th>score</th>\n",
       "      <th>num_comments</th>\n",
       "      <th>keyword</th>\n",
       "      <th>search_term</th>\n",
       "      <th>date_posted</th>\n",
       "      <th>upvotes</th>\n",
       "      <th>comments</th>\n",
       "      <th>url</th>\n",
       "      <th>permalink</th>\n",
       "    </tr>\n",
       "  </thead>\n",
       "  <tbody>\n",
       "    <tr>\n",
       "      <th>1284</th>\n",
       "      <td>Weekly Sub-Saharan Africa Security Situation a...</td>\n",
       "      <td>#Somalia 🇸🇴\\r\\n#Sudan 🇸🇩\\r\\nDemocratic Republi...</td>\n",
       "      <td>Africa</td>\n",
       "      <td>NaN</td>\n",
       "      <td>4/18/2025 14:09</td>\n",
       "      <td>NaN</td>\n",
       "      <td>3.0</td>\n",
       "      <td>2.0</td>\n",
       "      <td>NaN</td>\n",
       "      <td>NaN</td>\n",
       "      <td>NaN</td>\n",
       "      <td>NaN</td>\n",
       "      <td>NaN</td>\n",
       "      <td>https://open.substack.com/pub/hasretkargin/p/w...</td>\n",
       "      <td>NaN</td>\n",
       "    </tr>\n",
       "    <tr>\n",
       "      <th>1285</th>\n",
       "      <td>No evidence that Burkina Faso paid off all its...</td>\n",
       "      <td>NaN</td>\n",
       "      <td>Africa</td>\n",
       "      <td>NaN</td>\n",
       "      <td>4/18/2025 8:23</td>\n",
       "      <td>NaN</td>\n",
       "      <td>52.0</td>\n",
       "      <td>25.0</td>\n",
       "      <td>NaN</td>\n",
       "      <td>NaN</td>\n",
       "      <td>NaN</td>\n",
       "      <td>NaN</td>\n",
       "      <td>NaN</td>\n",
       "      <td>https://www.reuters.com/fact-check/burkina-fas...</td>\n",
       "      <td>NaN</td>\n",
       "    </tr>\n",
       "    <tr>\n",
       "      <th>1286</th>\n",
       "      <td>Ghana orders foreigners to exit gold market by...</td>\n",
       "      <td>Ghana has ordered foreigners to exit its gold ...</td>\n",
       "      <td>Africa</td>\n",
       "      <td>NaN</td>\n",
       "      <td>4/17/2025 17:59</td>\n",
       "      <td>NaN</td>\n",
       "      <td>101.0</td>\n",
       "      <td>12.0</td>\n",
       "      <td>NaN</td>\n",
       "      <td>NaN</td>\n",
       "      <td>NaN</td>\n",
       "      <td>NaN</td>\n",
       "      <td>NaN</td>\n",
       "      <td>https://eastleighvoice.co.ke/west%20african/13...</td>\n",
       "      <td>NaN</td>\n",
       "    </tr>\n",
       "    <tr>\n",
       "      <th>1287</th>\n",
       "      <td>Unending Frustration Regarding Sudan War.</td>\n",
       "      <td>https://www.reuters.com/world/britain-boosts-a...</td>\n",
       "      <td>Africa</td>\n",
       "      <td>NaN</td>\n",
       "      <td>4/16/2025 19:33</td>\n",
       "      <td>NaN</td>\n",
       "      <td>11.0</td>\n",
       "      <td>8.0</td>\n",
       "      <td>NaN</td>\n",
       "      <td>NaN</td>\n",
       "      <td>NaN</td>\n",
       "      <td>NaN</td>\n",
       "      <td>NaN</td>\n",
       "      <td>https://www.reddit.com/gallery/1k0t8ed</td>\n",
       "      <td>NaN</td>\n",
       "    </tr>\n",
       "    <tr>\n",
       "      <th>1288</th>\n",
       "      <td>Tanzania's Authoritarian Government Has Just B...</td>\n",
       "      <td>Tanzania's main opposition party has been barr...</td>\n",
       "      <td>Africa</td>\n",
       "      <td>NaN</td>\n",
       "      <td>4/14/2025 11:31</td>\n",
       "      <td>NaN</td>\n",
       "      <td>52.0</td>\n",
       "      <td>14.0</td>\n",
       "      <td>NaN</td>\n",
       "      <td>NaN</td>\n",
       "      <td>NaN</td>\n",
       "      <td>NaN</td>\n",
       "      <td>NaN</td>\n",
       "      <td>https://www.reddit.com/r/Africa/comments/1jywl...</td>\n",
       "      <td>NaN</td>\n",
       "    </tr>\n",
       "  </tbody>\n",
       "</table>\n",
       "</div>"
      ],
      "text/plain": [
       "                                                  title  \\\n",
       "1284  Weekly Sub-Saharan Africa Security Situation a...   \n",
       "1285  No evidence that Burkina Faso paid off all its...   \n",
       "1286  Ghana orders foreigners to exit gold market by...   \n",
       "1287          Unending Frustration Regarding Sudan War.   \n",
       "1288  Tanzania's Authoritarian Government Has Just B...   \n",
       "\n",
       "                                               selftext subreddit author  \\\n",
       "1284  #Somalia 🇸🇴\\r\\n#Sudan 🇸🇩\\r\\nDemocratic Republi...    Africa    NaN   \n",
       "1285                                                NaN    Africa    NaN   \n",
       "1286  Ghana has ordered foreigners to exit its gold ...    Africa    NaN   \n",
       "1287  https://www.reuters.com/world/britain-boosts-a...    Africa    NaN   \n",
       "1288  Tanzania's main opposition party has been barr...    Africa    NaN   \n",
       "\n",
       "          created_utc created_date  score  num_comments keyword search_term  \\\n",
       "1284  4/18/2025 14:09          NaN    3.0           2.0     NaN         NaN   \n",
       "1285   4/18/2025 8:23          NaN   52.0          25.0     NaN         NaN   \n",
       "1286  4/17/2025 17:59          NaN  101.0          12.0     NaN         NaN   \n",
       "1287  4/16/2025 19:33          NaN   11.0           8.0     NaN         NaN   \n",
       "1288  4/14/2025 11:31          NaN   52.0          14.0     NaN         NaN   \n",
       "\n",
       "      date_posted  upvotes  comments  \\\n",
       "1284          NaN      NaN       NaN   \n",
       "1285          NaN      NaN       NaN   \n",
       "1286          NaN      NaN       NaN   \n",
       "1287          NaN      NaN       NaN   \n",
       "1288          NaN      NaN       NaN   \n",
       "\n",
       "                                                    url permalink  \n",
       "1284  https://open.substack.com/pub/hasretkargin/p/w...       NaN  \n",
       "1285  https://www.reuters.com/fact-check/burkina-fas...       NaN  \n",
       "1286  https://eastleighvoice.co.ke/west%20african/13...       NaN  \n",
       "1287             https://www.reddit.com/gallery/1k0t8ed       NaN  \n",
       "1288  https://www.reddit.com/r/Africa/comments/1jywl...       NaN  "
      ]
     },
     "execution_count": 20,
     "metadata": {},
     "output_type": "execute_result"
    }
   ],
   "source": [
    "reddit_df.tail()"
   ]
  },
  {
   "cell_type": "code",
   "execution_count": 21,
   "id": "6ad45f63",
   "metadata": {},
   "outputs": [
    {
     "name": "stdout",
     "output_type": "stream",
     "text": [
      "<class 'pandas.core.frame.DataFrame'>\n",
      "RangeIndex: 1289 entries, 0 to 1288\n",
      "Data columns (total 15 columns):\n",
      " #   Column        Non-Null Count  Dtype  \n",
      "---  ------        --------------  -----  \n",
      " 0   title         1289 non-null   object \n",
      " 1   selftext      901 non-null    object \n",
      " 2   subreddit     1289 non-null   object \n",
      " 3   author        466 non-null    object \n",
      " 4   created_utc   1289 non-null   object \n",
      " 5   created_date  150 non-null    object \n",
      " 6   score         1013 non-null   float64\n",
      " 7   num_comments  833 non-null    float64\n",
      " 8   keyword       742 non-null    object \n",
      " 9   search_term   150 non-null    object \n",
      " 10  date_posted   0 non-null      float64\n",
      " 11  upvotes       276 non-null    float64\n",
      " 12  comments      276 non-null    float64\n",
      " 13  url           1289 non-null   object \n",
      " 14  permalink     426 non-null    object \n",
      "dtypes: float64(5), object(10)\n",
      "memory usage: 151.2+ KB\n"
     ]
    }
   ],
   "source": [
    "reddit_df.info()"
   ]
  },
  {
   "cell_type": "code",
   "execution_count": 22,
   "id": "b7fe73d5",
   "metadata": {},
   "outputs": [
    {
     "data": {
      "text/plain": [
       "(1289, 15)"
      ]
     },
     "execution_count": 22,
     "metadata": {},
     "output_type": "execute_result"
    }
   ],
   "source": [
    "reddit_df.shape"
   ]
  },
  {
   "cell_type": "code",
   "execution_count": 23,
   "id": "a727ec60",
   "metadata": {},
   "outputs": [
    {
     "data": {
      "text/plain": [
       "Index(['title', 'selftext', 'subreddit', 'author', 'created_utc',\n",
       "       'created_date', 'score', 'num_comments', 'keyword', 'search_term',\n",
       "       'date_posted', 'upvotes', 'comments', 'url', 'permalink'],\n",
       "      dtype='object')"
      ]
     },
     "execution_count": 23,
     "metadata": {},
     "output_type": "execute_result"
    }
   ],
   "source": [
    "reddit_df.columns"
   ]
  },
  {
   "cell_type": "code",
   "execution_count": 24,
   "id": "30f65492",
   "metadata": {},
   "outputs": [
    {
     "data": {
      "text/plain": [
       "title            object\n",
       "selftext         object\n",
       "subreddit        object\n",
       "author           object\n",
       "created_utc      object\n",
       "created_date     object\n",
       "score           float64\n",
       "num_comments    float64\n",
       "keyword          object\n",
       "search_term      object\n",
       "date_posted     float64\n",
       "upvotes         float64\n",
       "comments        float64\n",
       "url              object\n",
       "permalink        object\n",
       "dtype: object"
      ]
     },
     "execution_count": 24,
     "metadata": {},
     "output_type": "execute_result"
    }
   ],
   "source": [
    "reddit_df.dtypes"
   ]
  },
  {
   "cell_type": "code",
   "execution_count": 25,
   "id": "60c5141b",
   "metadata": {},
   "outputs": [
    {
     "data": {
      "text/plain": [
       "title              0\n",
       "selftext         388\n",
       "subreddit          0\n",
       "author           823\n",
       "created_utc        0\n",
       "created_date    1139\n",
       "score            276\n",
       "num_comments     456\n",
       "keyword          547\n",
       "search_term     1139\n",
       "date_posted     1289\n",
       "upvotes         1013\n",
       "comments        1013\n",
       "url                0\n",
       "permalink        863\n",
       "dtype: int64"
      ]
     },
     "execution_count": 25,
     "metadata": {},
     "output_type": "execute_result"
    }
   ],
   "source": [
    "reddit_df.isna().sum()"
   ]
  },
  {
   "cell_type": "code",
   "execution_count": 26,
   "id": "f73a4f2a",
   "metadata": {},
   "outputs": [
    {
     "data": {
      "text/html": [
       "<div>\n",
       "<style scoped>\n",
       "    .dataframe tbody tr th:only-of-type {\n",
       "        vertical-align: middle;\n",
       "    }\n",
       "\n",
       "    .dataframe tbody tr th {\n",
       "        vertical-align: top;\n",
       "    }\n",
       "\n",
       "    .dataframe thead th {\n",
       "        text-align: right;\n",
       "    }\n",
       "</style>\n",
       "<table border=\"1\" class=\"dataframe\">\n",
       "  <thead>\n",
       "    <tr style=\"text-align: right;\">\n",
       "      <th></th>\n",
       "      <th>score</th>\n",
       "      <th>num_comments</th>\n",
       "      <th>date_posted</th>\n",
       "      <th>upvotes</th>\n",
       "      <th>comments</th>\n",
       "    </tr>\n",
       "  </thead>\n",
       "  <tbody>\n",
       "    <tr>\n",
       "      <th>count</th>\n",
       "      <td>1013.000000</td>\n",
       "      <td>833.000000</td>\n",
       "      <td>0.0</td>\n",
       "      <td>276.000000</td>\n",
       "      <td>276.000000</td>\n",
       "    </tr>\n",
       "    <tr>\n",
       "      <th>mean</th>\n",
       "      <td>344.626851</td>\n",
       "      <td>31.349340</td>\n",
       "      <td>NaN</td>\n",
       "      <td>337.518116</td>\n",
       "      <td>35.905797</td>\n",
       "    </tr>\n",
       "    <tr>\n",
       "      <th>std</th>\n",
       "      <td>3106.309319</td>\n",
       "      <td>68.060435</td>\n",
       "      <td>NaN</td>\n",
       "      <td>1623.914761</td>\n",
       "      <td>73.531775</td>\n",
       "    </tr>\n",
       "    <tr>\n",
       "      <th>min</th>\n",
       "      <td>0.000000</td>\n",
       "      <td>0.000000</td>\n",
       "      <td>NaN</td>\n",
       "      <td>0.000000</td>\n",
       "      <td>0.000000</td>\n",
       "    </tr>\n",
       "    <tr>\n",
       "      <th>25%</th>\n",
       "      <td>3.000000</td>\n",
       "      <td>4.000000</td>\n",
       "      <td>NaN</td>\n",
       "      <td>6.750000</td>\n",
       "      <td>5.000000</td>\n",
       "    </tr>\n",
       "    <tr>\n",
       "      <th>50%</th>\n",
       "      <td>10.000000</td>\n",
       "      <td>9.000000</td>\n",
       "      <td>NaN</td>\n",
       "      <td>43.500000</td>\n",
       "      <td>13.000000</td>\n",
       "    </tr>\n",
       "    <tr>\n",
       "      <th>75%</th>\n",
       "      <td>54.000000</td>\n",
       "      <td>31.000000</td>\n",
       "      <td>NaN</td>\n",
       "      <td>111.250000</td>\n",
       "      <td>31.250000</td>\n",
       "    </tr>\n",
       "    <tr>\n",
       "      <th>max</th>\n",
       "      <td>79088.000000</td>\n",
       "      <td>706.000000</td>\n",
       "      <td>NaN</td>\n",
       "      <td>22208.000000</td>\n",
       "      <td>558.000000</td>\n",
       "    </tr>\n",
       "  </tbody>\n",
       "</table>\n",
       "</div>"
      ],
      "text/plain": [
       "              score  num_comments  date_posted       upvotes    comments\n",
       "count   1013.000000    833.000000          0.0    276.000000  276.000000\n",
       "mean     344.626851     31.349340          NaN    337.518116   35.905797\n",
       "std     3106.309319     68.060435          NaN   1623.914761   73.531775\n",
       "min        0.000000      0.000000          NaN      0.000000    0.000000\n",
       "25%        3.000000      4.000000          NaN      6.750000    5.000000\n",
       "50%       10.000000      9.000000          NaN     43.500000   13.000000\n",
       "75%       54.000000     31.000000          NaN    111.250000   31.250000\n",
       "max    79088.000000    706.000000          NaN  22208.000000  558.000000"
      ]
     },
     "execution_count": 26,
     "metadata": {},
     "output_type": "execute_result"
    }
   ],
   "source": [
    "reddit_df.describe()"
   ]
  },
  {
   "cell_type": "markdown",
   "id": "9dd4cbe8",
   "metadata": {},
   "source": [
    "## Data Cleaning"
   ]
  },
  {
   "cell_type": "markdown",
   "id": "9c842aff",
   "metadata": {},
   "source": [
    "### Dropping Unneccessary Columns"
   ]
  },
  {
   "cell_type": "code",
   "execution_count": 27,
   "id": "9d728b90",
   "metadata": {},
   "outputs": [
    {
     "data": {
      "text/html": [
       "<div>\n",
       "<style scoped>\n",
       "    .dataframe tbody tr th:only-of-type {\n",
       "        vertical-align: middle;\n",
       "    }\n",
       "\n",
       "    .dataframe tbody tr th {\n",
       "        vertical-align: top;\n",
       "    }\n",
       "\n",
       "    .dataframe thead th {\n",
       "        text-align: right;\n",
       "    }\n",
       "</style>\n",
       "<table border=\"1\" class=\"dataframe\">\n",
       "  <thead>\n",
       "    <tr style=\"text-align: right;\">\n",
       "      <th></th>\n",
       "      <th>title</th>\n",
       "      <th>selftext</th>\n",
       "      <th>created_utc</th>\n",
       "      <th>keyword</th>\n",
       "      <th>url</th>\n",
       "    </tr>\n",
       "  </thead>\n",
       "  <tbody>\n",
       "    <tr>\n",
       "      <th>0</th>\n",
       "      <td>USAID left a month ago, do we have ARVs in Kenya?</td>\n",
       "      <td>Someone on a different group (different websit...</td>\n",
       "      <td>4/15/2025 13:16</td>\n",
       "      <td>usaid kenya</td>\n",
       "      <td>https://www.reddit.com/r/Kenya/comments/1jzrn2...</td>\n",
       "    </tr>\n",
       "    <tr>\n",
       "      <th>1</th>\n",
       "      <td>Classism in r/Kenya and r/nairobi</td>\n",
       "      <td>The classism I'm seeing in both subs is a good...</td>\n",
       "      <td>4/7/2025 4:21</td>\n",
       "      <td>usaid kenya</td>\n",
       "      <td>https://www.reddit.com/r/Kenya/comments/1jtcvb...</td>\n",
       "    </tr>\n",
       "    <tr>\n",
       "      <th>2</th>\n",
       "      <td>EX-USAID people!! Let's talk</td>\n",
       "      <td>Are you still in contact with the organisation...</td>\n",
       "      <td>4/5/2025 19:09</td>\n",
       "      <td>usaid kenya</td>\n",
       "      <td>https://www.reddit.com/r/Kenya/comments/1jsb14...</td>\n",
       "    </tr>\n",
       "    <tr>\n",
       "      <th>3</th>\n",
       "      <td>Why western powers back Israel no matter what ...</td>\n",
       "      <td>I don't care what good book you read, but it's...</td>\n",
       "      <td>3/25/2025 8:18</td>\n",
       "      <td>usaid kenya</td>\n",
       "      <td>https://www.reddit.com/r/Kenya/comments/1jjehw...</td>\n",
       "    </tr>\n",
       "    <tr>\n",
       "      <th>4</th>\n",
       "      <td>Is kenya capable of funding its needs now that...</td>\n",
       "      <td>How is kenya prepared to fill the vacuum of US...</td>\n",
       "      <td>3/8/2025 8:08</td>\n",
       "      <td>usaid kenya</td>\n",
       "      <td>https://www.reddit.com/r/Kenya/comments/1j6cjz...</td>\n",
       "    </tr>\n",
       "  </tbody>\n",
       "</table>\n",
       "</div>"
      ],
      "text/plain": [
       "                                               title  \\\n",
       "0  USAID left a month ago, do we have ARVs in Kenya?   \n",
       "1                  Classism in r/Kenya and r/nairobi   \n",
       "2                       EX-USAID people!! Let's talk   \n",
       "3  Why western powers back Israel no matter what ...   \n",
       "4  Is kenya capable of funding its needs now that...   \n",
       "\n",
       "                                            selftext      created_utc  \\\n",
       "0  Someone on a different group (different websit...  4/15/2025 13:16   \n",
       "1  The classism I'm seeing in both subs is a good...    4/7/2025 4:21   \n",
       "2  Are you still in contact with the organisation...   4/5/2025 19:09   \n",
       "3  I don't care what good book you read, but it's...   3/25/2025 8:18   \n",
       "4  How is kenya prepared to fill the vacuum of US...    3/8/2025 8:08   \n",
       "\n",
       "       keyword                                                url  \n",
       "0  usaid kenya  https://www.reddit.com/r/Kenya/comments/1jzrn2...  \n",
       "1  usaid kenya  https://www.reddit.com/r/Kenya/comments/1jtcvb...  \n",
       "2  usaid kenya  https://www.reddit.com/r/Kenya/comments/1jsb14...  \n",
       "3  usaid kenya  https://www.reddit.com/r/Kenya/comments/1jjehw...  \n",
       "4  usaid kenya  https://www.reddit.com/r/Kenya/comments/1j6cjz...  "
      ]
     },
     "execution_count": 27,
     "metadata": {},
     "output_type": "execute_result"
    }
   ],
   "source": [
    "reddit_df.drop(columns=['subreddit', 'author','created_date','score','num_comments','search_term','date_posted','upvotes','comments','permalink'], inplace=True)\n",
    "reddit_df.head()"
   ]
  },
  {
   "cell_type": "code",
   "execution_count": 28,
   "id": "b3a0c1d9",
   "metadata": {},
   "outputs": [
    {
     "data": {
      "text/plain": [
       "Index(['title', 'selftext', 'created_utc', 'keyword', 'url'], dtype='object')"
      ]
     },
     "execution_count": 28,
     "metadata": {},
     "output_type": "execute_result"
    }
   ],
   "source": [
    "reddit_df.columns"
   ]
  },
  {
   "cell_type": "markdown",
   "id": "7d1439e1",
   "metadata": {},
   "source": [
    "### Checking for missing values"
   ]
  },
  {
   "cell_type": "code",
   "execution_count": 29,
   "id": "6bb35394",
   "metadata": {},
   "outputs": [
    {
     "data": {
      "text/plain": [
       "title            0\n",
       "selftext       388\n",
       "created_utc      0\n",
       "keyword        547\n",
       "url              0\n",
       "dtype: int64"
      ]
     },
     "execution_count": 29,
     "metadata": {},
     "output_type": "execute_result"
    }
   ],
   "source": [
    "reddit_df.isna().sum()"
   ]
  },
  {
   "cell_type": "code",
   "execution_count": 30,
   "id": "b079ba9e",
   "metadata": {},
   "outputs": [
    {
     "data": {
      "text/html": [
       "<div>\n",
       "<style scoped>\n",
       "    .dataframe tbody tr th:only-of-type {\n",
       "        vertical-align: middle;\n",
       "    }\n",
       "\n",
       "    .dataframe tbody tr th {\n",
       "        vertical-align: top;\n",
       "    }\n",
       "\n",
       "    .dataframe thead th {\n",
       "        text-align: right;\n",
       "    }\n",
       "</style>\n",
       "<table border=\"1\" class=\"dataframe\">\n",
       "  <thead>\n",
       "    <tr style=\"text-align: right;\">\n",
       "      <th></th>\n",
       "      <th>selftext</th>\n",
       "      <th>title</th>\n",
       "      <th>url</th>\n",
       "    </tr>\n",
       "  </thead>\n",
       "  <tbody>\n",
       "    <tr>\n",
       "      <th>164</th>\n",
       "      <td>In reference to this context 👇😂https://www.red...</td>\n",
       "      <td>Ghosting</td>\n",
       "      <td>https://www.reddit.com/r/Kenya/comments/1jr25y...</td>\n",
       "    </tr>\n",
       "    <tr>\n",
       "      <th>1071</th>\n",
       "      <td>NaN</td>\n",
       "      <td>China investigates Canadian couple suspected o...</td>\n",
       "      <td>http://www.cnn.com/2014/08/05/world/asia/china...</td>\n",
       "    </tr>\n",
       "    <tr>\n",
       "      <th>1047</th>\n",
       "      <td>NaN</td>\n",
       "      <td>Hong Kong's biggest pro-democracy party moves ...</td>\n",
       "      <td>https://apnews.com/article/hong-kong-china-dem...</td>\n",
       "    </tr>\n",
       "    <tr>\n",
       "      <th>1064</th>\n",
       "      <td>NaN</td>\n",
       "      <td>US government provides $173m Bangladesh to cou...</td>\n",
       "      <td>https://thewonderweb.org/us-government-provide...</td>\n",
       "    </tr>\n",
       "    <tr>\n",
       "      <th>742</th>\n",
       "      <td>My neighbour’s wife was a very big shot in USA...</td>\n",
       "      <td>USAID Repercussions + Economy</td>\n",
       "      <td>https://www.reddit.com/r/Kenya/comments/1kmhn8...</td>\n",
       "    </tr>\n",
       "    <tr>\n",
       "      <th>201</th>\n",
       "      <td>Project 2025 is a political plan developed by ...</td>\n",
       "      <td>Trump/ The Republicans are not guessing he is ...</td>\n",
       "      <td>https://www.reddit.com/r/Kenya/comments/1ii5ve...</td>\n",
       "    </tr>\n",
       "    <tr>\n",
       "      <th>500</th>\n",
       "      <td>NaN</td>\n",
       "      <td>How to make US foreign aid work for Africa and...</td>\n",
       "      <td>https://www.semafor.com/article/02/03/2025/how...</td>\n",
       "    </tr>\n",
       "    <tr>\n",
       "      <th>383</th>\n",
       "      <td>What's your take on the new policy by Donald T...</td>\n",
       "      <td>Interest post from X</td>\n",
       "      <td>https://i.redd.it/9y5f6d1s4dfe1.png</td>\n",
       "    </tr>\n",
       "    <tr>\n",
       "      <th>796</th>\n",
       "      <td>I missed the damn SGR train from Nairobi to Vo...</td>\n",
       "      <td>Missed the SGR... Ended Up Discovering the Rea...</td>\n",
       "      <td>https://www.reddit.com/r/Kenya/comments/1kc5lp...</td>\n",
       "    </tr>\n",
       "    <tr>\n",
       "      <th>1145</th>\n",
       "      <td>If you've watched several of the biggest court...</td>\n",
       "      <td>You Cannot Give Up</td>\n",
       "      <td>https://www.reddit.com/r/Kenya/comments/1lb18c...</td>\n",
       "    </tr>\n",
       "  </tbody>\n",
       "</table>\n",
       "</div>"
      ],
      "text/plain": [
       "                                               selftext  \\\n",
       "164   In reference to this context 👇😂https://www.red...   \n",
       "1071                                                NaN   \n",
       "1047                                                NaN   \n",
       "1064                                                NaN   \n",
       "742   My neighbour’s wife was a very big shot in USA...   \n",
       "201   Project 2025 is a political plan developed by ...   \n",
       "500                                                 NaN   \n",
       "383   What's your take on the new policy by Donald T...   \n",
       "796   I missed the damn SGR train from Nairobi to Vo...   \n",
       "1145  If you've watched several of the biggest court...   \n",
       "\n",
       "                                                  title  \\\n",
       "164                                            Ghosting   \n",
       "1071  China investigates Canadian couple suspected o...   \n",
       "1047  Hong Kong's biggest pro-democracy party moves ...   \n",
       "1064  US government provides $173m Bangladesh to cou...   \n",
       "742                       USAID Repercussions + Economy   \n",
       "201   Trump/ The Republicans are not guessing he is ...   \n",
       "500   How to make US foreign aid work for Africa and...   \n",
       "383                                Interest post from X   \n",
       "796   Missed the SGR... Ended Up Discovering the Rea...   \n",
       "1145                                 You Cannot Give Up   \n",
       "\n",
       "                                                    url  \n",
       "164   https://www.reddit.com/r/Kenya/comments/1jr25y...  \n",
       "1071  http://www.cnn.com/2014/08/05/world/asia/china...  \n",
       "1047  https://apnews.com/article/hong-kong-china-dem...  \n",
       "1064  https://thewonderweb.org/us-government-provide...  \n",
       "742   https://www.reddit.com/r/Kenya/comments/1kmhn8...  \n",
       "201   https://www.reddit.com/r/Kenya/comments/1ii5ve...  \n",
       "500   https://www.semafor.com/article/02/03/2025/how...  \n",
       "383                 https://i.redd.it/9y5f6d1s4dfe1.png  \n",
       "796   https://www.reddit.com/r/Kenya/comments/1kc5lp...  \n",
       "1145  https://www.reddit.com/r/Kenya/comments/1lb18c...  "
      ]
     },
     "execution_count": 30,
     "metadata": {},
     "output_type": "execute_result"
    }
   ],
   "source": [
    "reddit_df[['selftext', 'title','url']].sample(10)"
   ]
  },
  {
   "cell_type": "code",
   "execution_count": 31,
   "id": "adc2b2a7",
   "metadata": {},
   "outputs": [
    {
     "data": {
      "text/html": [
       "<div>\n",
       "<style scoped>\n",
       "    .dataframe tbody tr th:only-of-type {\n",
       "        vertical-align: middle;\n",
       "    }\n",
       "\n",
       "    .dataframe tbody tr th {\n",
       "        vertical-align: top;\n",
       "    }\n",
       "\n",
       "    .dataframe thead th {\n",
       "        text-align: right;\n",
       "    }\n",
       "</style>\n",
       "<table border=\"1\" class=\"dataframe\">\n",
       "  <thead>\n",
       "    <tr style=\"text-align: right;\">\n",
       "      <th></th>\n",
       "      <th>post_title</th>\n",
       "      <th>text</th>\n",
       "      <th>published_date</th>\n",
       "      <th>keyword</th>\n",
       "      <th>url</th>\n",
       "    </tr>\n",
       "  </thead>\n",
       "  <tbody>\n",
       "    <tr>\n",
       "      <th>0</th>\n",
       "      <td>USAID left a month ago, do we have ARVs in Kenya?</td>\n",
       "      <td>Someone on a different group (different websit...</td>\n",
       "      <td>4/15/2025 13:16</td>\n",
       "      <td>usaid kenya</td>\n",
       "      <td>https://www.reddit.com/r/Kenya/comments/1jzrn2...</td>\n",
       "    </tr>\n",
       "    <tr>\n",
       "      <th>1</th>\n",
       "      <td>Classism in r/Kenya and r/nairobi</td>\n",
       "      <td>The classism I'm seeing in both subs is a good...</td>\n",
       "      <td>4/7/2025 4:21</td>\n",
       "      <td>usaid kenya</td>\n",
       "      <td>https://www.reddit.com/r/Kenya/comments/1jtcvb...</td>\n",
       "    </tr>\n",
       "    <tr>\n",
       "      <th>2</th>\n",
       "      <td>EX-USAID people!! Let's talk</td>\n",
       "      <td>Are you still in contact with the organisation...</td>\n",
       "      <td>4/5/2025 19:09</td>\n",
       "      <td>usaid kenya</td>\n",
       "      <td>https://www.reddit.com/r/Kenya/comments/1jsb14...</td>\n",
       "    </tr>\n",
       "    <tr>\n",
       "      <th>3</th>\n",
       "      <td>Why western powers back Israel no matter what ...</td>\n",
       "      <td>I don't care what good book you read, but it's...</td>\n",
       "      <td>3/25/2025 8:18</td>\n",
       "      <td>usaid kenya</td>\n",
       "      <td>https://www.reddit.com/r/Kenya/comments/1jjehw...</td>\n",
       "    </tr>\n",
       "    <tr>\n",
       "      <th>4</th>\n",
       "      <td>Is kenya capable of funding its needs now that...</td>\n",
       "      <td>How is kenya prepared to fill the vacuum of US...</td>\n",
       "      <td>3/8/2025 8:08</td>\n",
       "      <td>usaid kenya</td>\n",
       "      <td>https://www.reddit.com/r/Kenya/comments/1j6cjz...</td>\n",
       "    </tr>\n",
       "  </tbody>\n",
       "</table>\n",
       "</div>"
      ],
      "text/plain": [
       "                                          post_title  \\\n",
       "0  USAID left a month ago, do we have ARVs in Kenya?   \n",
       "1                  Classism in r/Kenya and r/nairobi   \n",
       "2                       EX-USAID people!! Let's talk   \n",
       "3  Why western powers back Israel no matter what ...   \n",
       "4  Is kenya capable of funding its needs now that...   \n",
       "\n",
       "                                                text   published_date  \\\n",
       "0  Someone on a different group (different websit...  4/15/2025 13:16   \n",
       "1  The classism I'm seeing in both subs is a good...    4/7/2025 4:21   \n",
       "2  Are you still in contact with the organisation...   4/5/2025 19:09   \n",
       "3  I don't care what good book you read, but it's...   3/25/2025 8:18   \n",
       "4  How is kenya prepared to fill the vacuum of US...    3/8/2025 8:08   \n",
       "\n",
       "       keyword                                                url  \n",
       "0  usaid kenya  https://www.reddit.com/r/Kenya/comments/1jzrn2...  \n",
       "1  usaid kenya  https://www.reddit.com/r/Kenya/comments/1jtcvb...  \n",
       "2  usaid kenya  https://www.reddit.com/r/Kenya/comments/1jsb14...  \n",
       "3  usaid kenya  https://www.reddit.com/r/Kenya/comments/1jjehw...  \n",
       "4  usaid kenya  https://www.reddit.com/r/Kenya/comments/1j6cjz...  "
      ]
     },
     "execution_count": 31,
     "metadata": {},
     "output_type": "execute_result"
    }
   ],
   "source": [
    "reddit_df.rename(columns={'title':'post_title','selftext':'text','created_utc':'published_date'},inplace=True)\n",
    "reddit_df.head()"
   ]
  },
  {
   "cell_type": "markdown",
   "id": "6cb43549",
   "metadata": {},
   "source": [
    "**parse** - analyze and convert a piece of data (like a string) into a different, more useful format.\n",
    "\n",
    "The below code cleans the published_date column in the data. Some dates are written as normal dates (eg \"2025-04-15\") and others are written as numbers (UNIX timestamps). The code checks each value and tries to convert it into a proper date. If it can’t, it leaves it empty. After that, it removes the time part and keeps just the date. This helps make sure all the dates are in the same clean format."
   ]
  },
  {
   "cell_type": "code",
   "execution_count": 32,
   "id": "3b7730f9",
   "metadata": {},
   "outputs": [
    {
     "name": "stdout",
     "output_type": "stream",
     "text": [
      "Unparsed dates: 0\n"
     ]
    },
    {
     "data": {
      "text/html": [
       "<div>\n",
       "<style scoped>\n",
       "    .dataframe tbody tr th:only-of-type {\n",
       "        vertical-align: middle;\n",
       "    }\n",
       "\n",
       "    .dataframe tbody tr th {\n",
       "        vertical-align: top;\n",
       "    }\n",
       "\n",
       "    .dataframe thead th {\n",
       "        text-align: right;\n",
       "    }\n",
       "</style>\n",
       "<table border=\"1\" class=\"dataframe\">\n",
       "  <thead>\n",
       "    <tr style=\"text-align: right;\">\n",
       "      <th></th>\n",
       "      <th>post_title</th>\n",
       "      <th>text</th>\n",
       "      <th>published_date</th>\n",
       "      <th>keyword</th>\n",
       "      <th>url</th>\n",
       "    </tr>\n",
       "  </thead>\n",
       "  <tbody>\n",
       "    <tr>\n",
       "      <th>0</th>\n",
       "      <td>USAID left a month ago, do we have ARVs in Kenya?</td>\n",
       "      <td>Someone on a different group (different websit...</td>\n",
       "      <td>2025-04-15</td>\n",
       "      <td>usaid kenya</td>\n",
       "      <td>https://www.reddit.com/r/Kenya/comments/1jzrn2...</td>\n",
       "    </tr>\n",
       "    <tr>\n",
       "      <th>1</th>\n",
       "      <td>Classism in r/Kenya and r/nairobi</td>\n",
       "      <td>The classism I'm seeing in both subs is a good...</td>\n",
       "      <td>2025-04-07</td>\n",
       "      <td>usaid kenya</td>\n",
       "      <td>https://www.reddit.com/r/Kenya/comments/1jtcvb...</td>\n",
       "    </tr>\n",
       "    <tr>\n",
       "      <th>2</th>\n",
       "      <td>EX-USAID people!! Let's talk</td>\n",
       "      <td>Are you still in contact with the organisation...</td>\n",
       "      <td>2025-04-05</td>\n",
       "      <td>usaid kenya</td>\n",
       "      <td>https://www.reddit.com/r/Kenya/comments/1jsb14...</td>\n",
       "    </tr>\n",
       "    <tr>\n",
       "      <th>3</th>\n",
       "      <td>Why western powers back Israel no matter what ...</td>\n",
       "      <td>I don't care what good book you read, but it's...</td>\n",
       "      <td>2025-03-25</td>\n",
       "      <td>usaid kenya</td>\n",
       "      <td>https://www.reddit.com/r/Kenya/comments/1jjehw...</td>\n",
       "    </tr>\n",
       "    <tr>\n",
       "      <th>4</th>\n",
       "      <td>Is kenya capable of funding its needs now that...</td>\n",
       "      <td>How is kenya prepared to fill the vacuum of US...</td>\n",
       "      <td>2025-03-08</td>\n",
       "      <td>usaid kenya</td>\n",
       "      <td>https://www.reddit.com/r/Kenya/comments/1j6cjz...</td>\n",
       "    </tr>\n",
       "  </tbody>\n",
       "</table>\n",
       "</div>"
      ],
      "text/plain": [
       "                                          post_title  \\\n",
       "0  USAID left a month ago, do we have ARVs in Kenya?   \n",
       "1                  Classism in r/Kenya and r/nairobi   \n",
       "2                       EX-USAID people!! Let's talk   \n",
       "3  Why western powers back Israel no matter what ...   \n",
       "4  Is kenya capable of funding its needs now that...   \n",
       "\n",
       "                                                text published_date  \\\n",
       "0  Someone on a different group (different websit...     2025-04-15   \n",
       "1  The classism I'm seeing in both subs is a good...     2025-04-07   \n",
       "2  Are you still in contact with the organisation...     2025-04-05   \n",
       "3  I don't care what good book you read, but it's...     2025-03-25   \n",
       "4  How is kenya prepared to fill the vacuum of US...     2025-03-08   \n",
       "\n",
       "       keyword                                                url  \n",
       "0  usaid kenya  https://www.reddit.com/r/Kenya/comments/1jzrn2...  \n",
       "1  usaid kenya  https://www.reddit.com/r/Kenya/comments/1jtcvb...  \n",
       "2  usaid kenya  https://www.reddit.com/r/Kenya/comments/1jsb14...  \n",
       "3  usaid kenya  https://www.reddit.com/r/Kenya/comments/1jjehw...  \n",
       "4  usaid kenya  https://www.reddit.com/r/Kenya/comments/1j6cjz...  "
      ]
     },
     "execution_count": 32,
     "metadata": {},
     "output_type": "execute_result"
    }
   ],
   "source": [
    "import pandas as pd\n",
    "\n",
    "# Function to handle both datetime strings and UNIX timestamps\n",
    "def parse_mixed_dates(val):\n",
    "    try:\n",
    "        # Parse as a regular datetime string\n",
    "        return pd.to_datetime(val)\n",
    "    except:\n",
    "        try:\n",
    "            # Parse as a UNIX timestamp\n",
    "            return pd.to_datetime(float(val), unit='s')\n",
    "        except:\n",
    "            return pd.NaT  # Return NaT if all parsing fails\n",
    "\n",
    "# Apply the parsing function\n",
    "reddit_df['published_date'] = reddit_df['published_date'].apply(parse_mixed_dates)\n",
    "\n",
    "# Check how many dates failed to parse\n",
    "print(\"Unparsed dates:\", reddit_df['published_date'].isna().sum())\n",
    "\n",
    "# Extract date only (remove time)\n",
    "reddit_df['published_date'] = reddit_df['published_date'].dt.date\n",
    "reddit_df.head()"
   ]
  },
  {
   "cell_type": "code",
   "execution_count": 33,
   "id": "0f3eebd2",
   "metadata": {},
   "outputs": [
    {
     "data": {
      "text/plain": [
       "0"
      ]
     },
     "execution_count": 33,
     "metadata": {},
     "output_type": "execute_result"
    }
   ],
   "source": [
    "reddit_df['published_date'].isna().sum() #check the missing values in date"
   ]
  },
  {
   "cell_type": "code",
   "execution_count": 34,
   "id": "e5641d8e",
   "metadata": {},
   "outputs": [],
   "source": [
    "reddit_df.dropna(subset=['published_date'], inplace=True) #drop missing values in date"
   ]
  },
  {
   "cell_type": "code",
   "execution_count": 35,
   "id": "d24d8427",
   "metadata": {},
   "outputs": [
    {
     "data": {
      "text/plain": [
       "(1289, 5)"
      ]
     },
     "execution_count": 35,
     "metadata": {},
     "output_type": "execute_result"
    }
   ],
   "source": [
    "reddit_df.shape #check the shape of the dataset"
   ]
  },
  {
   "cell_type": "code",
   "execution_count": 36,
   "id": "8a3cd9dc",
   "metadata": {},
   "outputs": [
    {
     "data": {
      "text/plain": [
       "post_title          0\n",
       "text              388\n",
       "published_date      0\n",
       "keyword           547\n",
       "url                 0\n",
       "dtype: int64"
      ]
     },
     "execution_count": 36,
     "metadata": {},
     "output_type": "execute_result"
    }
   ],
   "source": [
    "reddit_df.isna().sum() #check for missing values"
   ]
  },
  {
   "cell_type": "markdown",
   "id": "e9daac39",
   "metadata": {},
   "source": [
    "### Fill missing values in text with an empty string"
   ]
  },
  {
   "cell_type": "markdown",
   "id": "063ab99e",
   "metadata": {},
   "source": [
    "I filled missing values in text with an empty string because these are likely link posts where the author did not add body text."
   ]
  },
  {
   "cell_type": "code",
   "execution_count": 37,
   "id": "8d73eb67",
   "metadata": {},
   "outputs": [
    {
     "data": {
      "text/plain": [
       "post_title          0\n",
       "text                0\n",
       "published_date      0\n",
       "keyword           547\n",
       "url                 0\n",
       "dtype: int64"
      ]
     },
     "execution_count": 37,
     "metadata": {},
     "output_type": "execute_result"
    }
   ],
   "source": [
    "reddit_df['text'] = reddit_df['text'].fillna('')\n",
    "reddit_df.isna().sum()"
   ]
  },
  {
   "cell_type": "markdown",
   "id": "db683fc5",
   "metadata": {},
   "source": [
    "### Fill missing values in keyword with a placeholder 'Unknown'"
   ]
  },
  {
   "cell_type": "code",
   "execution_count": 38,
   "id": "e127f33e",
   "metadata": {},
   "outputs": [
    {
     "data": {
      "text/plain": [
       "323          kenya donor funding\n",
       "32              usaid budget cut\n",
       "329          kenya donor funding\n",
       "869                      unknown\n",
       "1100                     unknown\n",
       "948                      unknown\n",
       "527     foreign aid, foreign aid\n",
       "1230                     unknown\n",
       "1139                     unknown\n",
       "487                        USAID\n",
       "Name: keyword, dtype: object"
      ]
     },
     "execution_count": 38,
     "metadata": {},
     "output_type": "execute_result"
    }
   ],
   "source": [
    "reddit_df['keyword'] = reddit_df['keyword'].fillna('unknown')\n",
    "reddit_df['keyword'].sample(10)"
   ]
  },
  {
   "cell_type": "code",
   "execution_count": 39,
   "id": "990926c5",
   "metadata": {},
   "outputs": [
    {
     "data": {
      "text/plain": [
       "post_title        0\n",
       "text              0\n",
       "published_date    0\n",
       "keyword           0\n",
       "url               0\n",
       "dtype: int64"
      ]
     },
     "execution_count": 39,
     "metadata": {},
     "output_type": "execute_result"
    }
   ],
   "source": [
    "reddit_df.isna().sum()"
   ]
  },
  {
   "cell_type": "markdown",
   "id": "05af5201",
   "metadata": {},
   "source": [
    "Missing values filled with an empty string and placeholder to maintain the integrity of the data and maintain a good amount of rows"
   ]
  },
  {
   "cell_type": "markdown",
   "id": "3da82a9e",
   "metadata": {},
   "source": [
    "### Check for duplicates "
   ]
  },
  {
   "cell_type": "code",
   "execution_count": 40,
   "id": "58b4495a",
   "metadata": {},
   "outputs": [
    {
     "data": {
      "text/plain": [
       "145"
      ]
     },
     "execution_count": 40,
     "metadata": {},
     "output_type": "execute_result"
    }
   ],
   "source": [
    "reddit_df.duplicated().sum()"
   ]
  },
  {
   "cell_type": "code",
   "execution_count": 41,
   "id": "aa880fcd",
   "metadata": {},
   "outputs": [],
   "source": [
    "reddit_df.drop_duplicates(inplace=True) #drop all duplicates"
   ]
  },
  {
   "cell_type": "code",
   "execution_count": 42,
   "id": "cb61344d",
   "metadata": {},
   "outputs": [
    {
     "data": {
      "text/plain": [
       "0"
      ]
     },
     "execution_count": 42,
     "metadata": {},
     "output_type": "execute_result"
    }
   ],
   "source": [
    "reddit_df.duplicated().sum() #confirm that all duplicates have been dropped"
   ]
  },
  {
   "cell_type": "code",
   "execution_count": 43,
   "id": "ccafd6f5",
   "metadata": {},
   "outputs": [
    {
     "data": {
      "text/plain": [
       "(1144, 5)"
      ]
     },
     "execution_count": 43,
     "metadata": {},
     "output_type": "execute_result"
    }
   ],
   "source": [
    "reddit_df.shape #shape of the new data after cleaning"
   ]
  },
  {
   "cell_type": "code",
   "execution_count": 44,
   "id": "c6db7488",
   "metadata": {},
   "outputs": [
    {
     "data": {
      "text/plain": [
       "409     ‘What a project, what a challenge!’: Africa’s ...\n",
       "258      The Deplorable State of Web Development in Kenya\n",
       "59                             Kenya Isn’t That Bad… Ama?\n",
       "223                         Conspiracy theorists assemble\n",
       "640     Supreme Court Rejects Trump on USAID Foreign-A...\n",
       "1041    USAID work halted in Russia, dealing blow to O...\n",
       "1215    At least 100 people killed in gunmen attack in...\n",
       "207                             How do I cut off friends?\n",
       "1129    I'm I the only one whose dreams and ambitions ...\n",
       "918     Musk Vs USaid (Battle of the wealthiest man vs...\n",
       "Name: post_title, dtype: object"
      ]
     },
     "execution_count": 44,
     "metadata": {},
     "output_type": "execute_result"
    }
   ],
   "source": [
    "reddit_df['post_title'].sample(10)"
   ]
  },
  {
   "cell_type": "markdown",
   "id": "2fa69b63",
   "metadata": {},
   "source": [
    "## Sentiment Analysis Cleaning"
   ]
  },
  {
   "cell_type": "markdown",
   "id": "062b3c66",
   "metadata": {},
   "source": [
    "Creating a new column 'full_text' that combines 'post_title','text' and the empty string '', to help in sentiment analysis"
   ]
  },
  {
   "cell_type": "code",
   "execution_count": 45,
   "id": "fb0b1744",
   "metadata": {},
   "outputs": [
    {
     "data": {
      "text/html": [
       "<div>\n",
       "<style scoped>\n",
       "    .dataframe tbody tr th:only-of-type {\n",
       "        vertical-align: middle;\n",
       "    }\n",
       "\n",
       "    .dataframe tbody tr th {\n",
       "        vertical-align: top;\n",
       "    }\n",
       "\n",
       "    .dataframe thead th {\n",
       "        text-align: right;\n",
       "    }\n",
       "</style>\n",
       "<table border=\"1\" class=\"dataframe\">\n",
       "  <thead>\n",
       "    <tr style=\"text-align: right;\">\n",
       "      <th></th>\n",
       "      <th>post_title</th>\n",
       "      <th>text</th>\n",
       "      <th>published_date</th>\n",
       "      <th>keyword</th>\n",
       "      <th>url</th>\n",
       "      <th>full_text</th>\n",
       "    </tr>\n",
       "  </thead>\n",
       "  <tbody>\n",
       "    <tr>\n",
       "      <th>0</th>\n",
       "      <td>USAID left a month ago, do we have ARVs in Kenya?</td>\n",
       "      <td>Someone on a different group (different websit...</td>\n",
       "      <td>2025-04-15</td>\n",
       "      <td>usaid kenya</td>\n",
       "      <td>https://www.reddit.com/r/Kenya/comments/1jzrn2...</td>\n",
       "      <td>USAID left a month ago, do we have ARVs in Ken...</td>\n",
       "    </tr>\n",
       "    <tr>\n",
       "      <th>1</th>\n",
       "      <td>Classism in r/Kenya and r/nairobi</td>\n",
       "      <td>The classism I'm seeing in both subs is a good...</td>\n",
       "      <td>2025-04-07</td>\n",
       "      <td>usaid kenya</td>\n",
       "      <td>https://www.reddit.com/r/Kenya/comments/1jtcvb...</td>\n",
       "      <td>Classism in r/Kenya and r/nairobi The classism...</td>\n",
       "    </tr>\n",
       "    <tr>\n",
       "      <th>2</th>\n",
       "      <td>EX-USAID people!! Let's talk</td>\n",
       "      <td>Are you still in contact with the organisation...</td>\n",
       "      <td>2025-04-05</td>\n",
       "      <td>usaid kenya</td>\n",
       "      <td>https://www.reddit.com/r/Kenya/comments/1jsb14...</td>\n",
       "      <td>EX-USAID people!! Let's talk Are you still in ...</td>\n",
       "    </tr>\n",
       "    <tr>\n",
       "      <th>3</th>\n",
       "      <td>Why western powers back Israel no matter what ...</td>\n",
       "      <td>I don't care what good book you read, but it's...</td>\n",
       "      <td>2025-03-25</td>\n",
       "      <td>usaid kenya</td>\n",
       "      <td>https://www.reddit.com/r/Kenya/comments/1jjehw...</td>\n",
       "      <td>Why western powers back Israel no matter what ...</td>\n",
       "    </tr>\n",
       "    <tr>\n",
       "      <th>4</th>\n",
       "      <td>Is kenya capable of funding its needs now that...</td>\n",
       "      <td>How is kenya prepared to fill the vacuum of US...</td>\n",
       "      <td>2025-03-08</td>\n",
       "      <td>usaid kenya</td>\n",
       "      <td>https://www.reddit.com/r/Kenya/comments/1j6cjz...</td>\n",
       "      <td>Is kenya capable of funding its needs now that...</td>\n",
       "    </tr>\n",
       "  </tbody>\n",
       "</table>\n",
       "</div>"
      ],
      "text/plain": [
       "                                          post_title  \\\n",
       "0  USAID left a month ago, do we have ARVs in Kenya?   \n",
       "1                  Classism in r/Kenya and r/nairobi   \n",
       "2                       EX-USAID people!! Let's talk   \n",
       "3  Why western powers back Israel no matter what ...   \n",
       "4  Is kenya capable of funding its needs now that...   \n",
       "\n",
       "                                                text published_date  \\\n",
       "0  Someone on a different group (different websit...     2025-04-15   \n",
       "1  The classism I'm seeing in both subs is a good...     2025-04-07   \n",
       "2  Are you still in contact with the organisation...     2025-04-05   \n",
       "3  I don't care what good book you read, but it's...     2025-03-25   \n",
       "4  How is kenya prepared to fill the vacuum of US...     2025-03-08   \n",
       "\n",
       "       keyword                                                url  \\\n",
       "0  usaid kenya  https://www.reddit.com/r/Kenya/comments/1jzrn2...   \n",
       "1  usaid kenya  https://www.reddit.com/r/Kenya/comments/1jtcvb...   \n",
       "2  usaid kenya  https://www.reddit.com/r/Kenya/comments/1jsb14...   \n",
       "3  usaid kenya  https://www.reddit.com/r/Kenya/comments/1jjehw...   \n",
       "4  usaid kenya  https://www.reddit.com/r/Kenya/comments/1j6cjz...   \n",
       "\n",
       "                                           full_text  \n",
       "0  USAID left a month ago, do we have ARVs in Ken...  \n",
       "1  Classism in r/Kenya and r/nairobi The classism...  \n",
       "2  EX-USAID people!! Let's talk Are you still in ...  \n",
       "3  Why western powers back Israel no matter what ...  \n",
       "4  Is kenya capable of funding its needs now that...  "
      ]
     },
     "execution_count": 45,
     "metadata": {},
     "output_type": "execute_result"
    }
   ],
   "source": [
    "reddit_df['full_text'] = reddit_df['post_title'] + ' ' + reddit_df['text']\n",
    "reddit_df.head() #sample top 5 rows after combining the columns"
   ]
  },
  {
   "cell_type": "code",
   "execution_count": 46,
   "id": "2c5747e5",
   "metadata": {},
   "outputs": [
    {
     "data": {
      "text/plain": [
       "0"
      ]
     },
     "execution_count": 46,
     "metadata": {},
     "output_type": "execute_result"
    }
   ],
   "source": [
    "reddit_df['full_text'].isna().sum() #confirm that there are no missing values in the dataset"
   ]
  },
  {
   "cell_type": "markdown",
   "id": "13d63635",
   "metadata": {},
   "source": [
    "### Lowercasing "
   ]
  },
  {
   "cell_type": "markdown",
   "id": "923cf3ef",
   "metadata": {},
   "source": [
    "Converting all text to lowercase"
   ]
  },
  {
   "cell_type": "code",
   "execution_count": 47,
   "id": "cb464d02",
   "metadata": {},
   "outputs": [
    {
     "data": {
      "text/plain": [
       "453     rohingya refugees in bangladesh brace for upco...\n",
       "796     missed the sgr... ended up discovering the rea...\n",
       "655     judge again orders us to unfreeze foreign aid,...\n",
       "625     how foreign aid cuts are setting the stage for...\n",
       "1237    defiant tanzanian opposition leader tundu liss...\n",
       "866     starting a tech business here in kenya- which ...\n",
       "574     accurate statistics the usual figure that i ha...\n",
       "107     i might be wrong but.. trump's decision to pha...\n",
       "215     usaid hiv fund cuts guys with the recent halti...\n",
       "804     tech bros & sis! what’s the best path now? mor...\n",
       "Name: full_text, dtype: object"
      ]
     },
     "execution_count": 47,
     "metadata": {},
     "output_type": "execute_result"
    }
   ],
   "source": [
    "reddit_df['full_text'] = reddit_df['full_text'].str.lower()\n",
    "reddit_df['full_text'].sample(10)"
   ]
  },
  {
   "cell_type": "markdown",
   "id": "8bef03f6",
   "metadata": {},
   "source": [
    "### Translate all text to English"
   ]
  },
  {
   "cell_type": "code",
   "execution_count": 48,
   "id": "aee53191",
   "metadata": {},
   "outputs": [
    {
     "name": "stderr",
     "output_type": "stream",
     "text": [
      "\n",
      "[notice] A new release of pip is available: 24.2 -> 25.1.1\n",
      "[notice] To update, run: python.exe -m pip install --upgrade pip\n",
      "ERROR: Invalid requirement: '#detect': Expected package name at the start of dependency specifier\n",
      "    #detect\n",
      "    ^\n"
     ]
    }
   ],
   "source": [
    "!pip install langdetect #detect which language the text are in"
   ]
  },
  {
   "cell_type": "code",
   "execution_count": 49,
   "id": "f6d40439",
   "metadata": {},
   "outputs": [
    {
     "data": {
      "text/plain": [
       "en    1125\n",
       "sw       5\n",
       "tl       3\n",
       "et       2\n",
       "id       2\n",
       "fr       2\n",
       "sl       1\n",
       "da       1\n",
       "nl       1\n",
       "ca       1\n",
       "es       1\n",
       "Name: language, dtype: int64"
      ]
     },
     "execution_count": 49,
     "metadata": {},
     "output_type": "execute_result"
    }
   ],
   "source": [
    "from langdetect import detect\n",
    "\n",
    "# Language detection\n",
    "reddit_df['language'] = reddit_df['full_text'].apply(lambda x: detect(x) if pd.notnull(x) else 'unknown')\n",
    "reddit_df['language'].value_counts()"
   ]
  },
  {
   "cell_type": "code",
   "execution_count": 50,
   "id": "f7e3f368",
   "metadata": {},
   "outputs": [
    {
     "name": "stdout",
     "output_type": "stream",
     "text": [
      "     language                                          full_text\n",
      "28         tl  ...na bado mnasema ruto must go bila tangible ...\n",
      "175        tl  ...na bado mnasema ruto must go bila tangible ...\n",
      "236        sl                                design job nairobi \n",
      "273        tl  ...na bado mnasema ruto must go bila tangible ...\n",
      "301        et  just seeing ki, sa, che, ko, la, si...pure tri...\n",
      "372        id  does kenya have a shared national identity? i ...\n",
      "634        fr  supreme court rules trump administration must ...\n",
      "638        fr  supreme court denies trump administration requ...\n",
      "664        da  judge orders us to restore funds for foreign a...\n",
      "852        sw  \"wapi mtoto?\" it was always an escape for me d...\n",
      "853        sw  drunk and orderly it so happened that one time...\n",
      "903        nl  us strike kills 16 afghan policemen in helmand...\n",
      "943        et                            joblessness is looming \n",
      "1036       ca  russia expels usaid for 'political meddling' -...\n",
      "1061       es     chaos erupts as caravan reaches mexico border \n",
      "1100       id  filling kra returns at ksh 35 usitikie kupata ...\n",
      "1140       sw  most kenyans fear therapy ukigrow up ulikuwa u...\n",
      "1143       sw  about my online jobs list series.. waah kujari...\n",
      "1193       sw  when fifa, love and nyama collide! ever since ...\n"
     ]
    }
   ],
   "source": [
    "# View full text rows where the language is not English\n",
    "non_english_df = reddit_df[reddit_df['language'] != 'en']\n",
    "\n",
    "# Display the full_text column of non-English rows\n",
    "print(non_english_df[['language', 'full_text']])\n"
   ]
  },
  {
   "cell_type": "code",
   "execution_count": 51,
   "id": "401e61c9",
   "metadata": {},
   "outputs": [
    {
     "name": "stderr",
     "output_type": "stream",
     "text": [
      "\n",
      "[notice] A new release of pip is available: 24.2 -> 25.1.1\n",
      "[notice] To update, run: python.exe -m pip install --upgrade pip\n",
      "ERROR: Invalid requirement: '#Translates': Expected package name at the start of dependency specifier\n",
      "    #Translates\n",
      "    ^\n"
     ]
    }
   ],
   "source": [
    "! pip install deep-translator #Translates text from one language to another\n"
   ]
  },
  {
   "cell_type": "code",
   "execution_count": 52,
   "id": "372547ff",
   "metadata": {},
   "outputs": [
    {
     "name": "stdout",
     "output_type": "stream",
     "text": [
      "    language                                          full_text  \\\n",
      "28        tl  ...na bado mnasema ruto must go bila tangible ...   \n",
      "175       tl  ...na bado mnasema ruto must go bila tangible ...   \n",
      "236       sl                                design job nairobi    \n",
      "273       tl  ...na bado mnasema ruto must go bila tangible ...   \n",
      "301       et  just seeing ki, sa, che, ko, la, si...pure tri...   \n",
      "\n",
      "                                       translated_text  \n",
      "28   ... and you still say Ruto must go without tan...  \n",
      "175  ... and you still say Ruto must go without tan...  \n",
      "236                                 design job nairobi  \n",
      "273  ... and you still say Ruto must go without tan...  \n",
      "301  just seeing ki, sa, che, ko, la, si ... pure t...  \n"
     ]
    }
   ],
   "source": [
    "from deep_translator import GoogleTranslator\n",
    "\n",
    "# Make a copy of non-English rows\n",
    "non_english_df = reddit_df[reddit_df['language'] != 'en'].copy()\n",
    "\n",
    "# Translate each full_text\n",
    "non_english_df['translated_text'] = non_english_df['full_text'].apply(\n",
    "    lambda text: GoogleTranslator(source='auto', target='en').translate(text)\n",
    ")\n",
    "\n",
    "# Preview translations\n",
    "print(non_english_df[['language', 'full_text', 'translated_text']].head())\n"
   ]
  },
  {
   "cell_type": "markdown",
   "id": "627590ec",
   "metadata": {},
   "source": [
    "From the above preview, shows that the text with both english and swahili was able to be translated as shown in index 28"
   ]
  },
  {
   "cell_type": "code",
   "execution_count": 53,
   "id": "cade2d7a",
   "metadata": {},
   "outputs": [
    {
     "data": {
      "text/plain": [
       "en    1125\n",
       "sw       5\n",
       "tl       3\n",
       "et       2\n",
       "id       2\n",
       "fr       2\n",
       "sl       1\n",
       "da       1\n",
       "nl       1\n",
       "ca       1\n",
       "es       1\n",
       "Name: language, dtype: int64"
      ]
     },
     "execution_count": 53,
     "metadata": {},
     "output_type": "execute_result"
    }
   ],
   "source": [
    "reddit_df['language'].value_counts() #check which other languages have been detected"
   ]
  },
  {
   "cell_type": "code",
   "execution_count": 54,
   "id": "cce5719d",
   "metadata": {},
   "outputs": [
    {
     "name": "stdout",
     "output_type": "stream",
     "text": [
      "  language                                          full_text\n",
      "0       en  usaid left a month ago, do we have arvs in ken...\n",
      "1       en  classism in r/kenya and r/nairobi the classism...\n",
      "2       en  ex-usaid people!! let's talk are you still in ...\n",
      "3       en  why western powers back israel no matter what ...\n",
      "4       en  is kenya capable of funding its needs now that...\n"
     ]
    }
   ],
   "source": [
    "# Drop all non-English rows\n",
    "reddit_df = reddit_df[reddit_df['language'] == 'en'].copy()\n",
    "\n",
    "# Reset the index\n",
    "reddit_df.reset_index(drop=True, inplace=True)\n",
    "\n",
    "# Preview the cleaned data\n",
    "print(reddit_df[['language', 'full_text']].head())\n"
   ]
  },
  {
   "cell_type": "code",
   "execution_count": 55,
   "id": "f64b632d",
   "metadata": {},
   "outputs": [
    {
     "data": {
      "text/plain": [
       "en    1125\n",
       "Name: language, dtype: int64"
      ]
     },
     "execution_count": 55,
     "metadata": {},
     "output_type": "execute_result"
    }
   ],
   "source": [
    "reddit_df['language'].value_counts() #confirm that all rows are in English only"
   ]
  },
  {
   "cell_type": "code",
   "execution_count": 56,
   "id": "7b797835",
   "metadata": {},
   "outputs": [
    {
     "data": {
      "text/html": [
       "<div>\n",
       "<style scoped>\n",
       "    .dataframe tbody tr th:only-of-type {\n",
       "        vertical-align: middle;\n",
       "    }\n",
       "\n",
       "    .dataframe tbody tr th {\n",
       "        vertical-align: top;\n",
       "    }\n",
       "\n",
       "    .dataframe thead th {\n",
       "        text-align: right;\n",
       "    }\n",
       "</style>\n",
       "<table border=\"1\" class=\"dataframe\">\n",
       "  <thead>\n",
       "    <tr style=\"text-align: right;\">\n",
       "      <th></th>\n",
       "      <th>post_title</th>\n",
       "      <th>text</th>\n",
       "      <th>published_date</th>\n",
       "      <th>keyword</th>\n",
       "      <th>url</th>\n",
       "      <th>full_text</th>\n",
       "      <th>language</th>\n",
       "    </tr>\n",
       "  </thead>\n",
       "  <tbody>\n",
       "    <tr>\n",
       "      <th>961</th>\n",
       "      <td>Family Curse?</td>\n",
       "      <td>I''ll try to keep this as simple as possible.\\...</td>\n",
       "      <td>2025-06-17</td>\n",
       "      <td>unknown</td>\n",
       "      <td>https://www.reddit.com/r/Kenya/comments/1ldecs...</td>\n",
       "      <td>family curse? i''ll try to keep this as simple...</td>\n",
       "      <td>en</td>\n",
       "    </tr>\n",
       "    <tr>\n",
       "      <th>599</th>\n",
       "      <td>Divided Supreme Court says judge can force Tru...</td>\n",
       "      <td></td>\n",
       "      <td>2025-03-05</td>\n",
       "      <td>foreign aid, foreign aid</td>\n",
       "      <td>https://www.washingtonpost.com/politics/2025/0...</td>\n",
       "      <td>divided supreme court says judge can force tru...</td>\n",
       "      <td>en</td>\n",
       "    </tr>\n",
       "    <tr>\n",
       "      <th>159</th>\n",
       "      <td>EX-USAID people!! Let's talk</td>\n",
       "      <td>Are you still in contact with the organisation...</td>\n",
       "      <td>2025-04-05</td>\n",
       "      <td>usaid kenya funding cut</td>\n",
       "      <td>https://www.reddit.com/r/Kenya/comments/1jsb14...</td>\n",
       "      <td>ex-usaid people!! let's talk are you still in ...</td>\n",
       "      <td>en</td>\n",
       "    </tr>\n",
       "    <tr>\n",
       "      <th>463</th>\n",
       "      <td>Economy</td>\n",
       "      <td>For the experts in matters economy and finance...</td>\n",
       "      <td>2025-04-06</td>\n",
       "      <td>USAID</td>\n",
       "      <td>https://www.reddit.com/r/Kenya/comments/1jsyty...</td>\n",
       "      <td>economy for the experts in matters economy and...</td>\n",
       "      <td>en</td>\n",
       "    </tr>\n",
       "    <tr>\n",
       "      <th>78</th>\n",
       "      <td>Kenya’s Foreign Policy: Vibes or Strategy?</td>\n",
       "      <td>High folks, long time Reddit lurker over here....</td>\n",
       "      <td>2025-03-25</td>\n",
       "      <td>kenya foreign aid</td>\n",
       "      <td>https://youtu.be/n2vX71nH-8s?si=0h3QIjA_WM5I4k8A</td>\n",
       "      <td>kenya’s foreign policy: vibes or strategy? hig...</td>\n",
       "      <td>en</td>\n",
       "    </tr>\n",
       "    <tr>\n",
       "      <th>603</th>\n",
       "      <td>DOGE's Foreign Aid Cuts Have Sparked 'Total Ch...</td>\n",
       "      <td></td>\n",
       "      <td>2025-03-04</td>\n",
       "      <td>foreign aid, foreign aid</td>\n",
       "      <td>https://www.wired.com/story/rights-con-taipei-...</td>\n",
       "      <td>doge's foreign aid cuts have sparked 'total ch...</td>\n",
       "      <td>en</td>\n",
       "    </tr>\n",
       "    <tr>\n",
       "      <th>333</th>\n",
       "      <td>Sign the Petition to Declare Femicide a Crime ...</td>\n",
       "      <td>Why this petition matters\\r\\n\\r\\n\\r\\nStarted b...</td>\n",
       "      <td>2025-04-10</td>\n",
       "      <td>kenya donor funding</td>\n",
       "      <td>https://chng.it/4L2zDbNGMR</td>\n",
       "      <td>sign the petition to declare femicide a crime ...</td>\n",
       "      <td>en</td>\n",
       "    </tr>\n",
       "    <tr>\n",
       "      <th>232</th>\n",
       "      <td>Our education system</td>\n",
       "      <td>I saw this post on X and it has left me thinki...</td>\n",
       "      <td>2025-05-22</td>\n",
       "      <td>development aid kenya</td>\n",
       "      <td>https://i.redd.it/avdn059x6d2f1.png</td>\n",
       "      <td>our education system i saw this post on x and ...</td>\n",
       "      <td>en</td>\n",
       "    </tr>\n",
       "    <tr>\n",
       "      <th>1016</th>\n",
       "      <td>Marrying at 72</td>\n",
       "      <td>Someone said their mom got married at 72, i do...</td>\n",
       "      <td>2025-06-11</td>\n",
       "      <td>unknown</td>\n",
       "      <td>https://www.reddit.com/r/Kenya/comments/1l8rbz...</td>\n",
       "      <td>marrying at 72 someone said their mom got marr...</td>\n",
       "      <td>en</td>\n",
       "    </tr>\n",
       "    <tr>\n",
       "      <th>1095</th>\n",
       "      <td>Ugandan Judge sentenced to over six years for ...</td>\n",
       "      <td>Lydia Mugambe, 50, has been sentenced to six y...</td>\n",
       "      <td>2025-05-03</td>\n",
       "      <td>unknown</td>\n",
       "      <td>https://www.cps.gov.uk/cps/news/ugandan-judge-...</td>\n",
       "      <td>ugandan judge sentenced to over six years for ...</td>\n",
       "      <td>en</td>\n",
       "    </tr>\n",
       "  </tbody>\n",
       "</table>\n",
       "</div>"
      ],
      "text/plain": [
       "                                             post_title  \\\n",
       "961                                       Family Curse?   \n",
       "599   Divided Supreme Court says judge can force Tru...   \n",
       "159                        EX-USAID people!! Let's talk   \n",
       "463                                             Economy   \n",
       "78           Kenya’s Foreign Policy: Vibes or Strategy?   \n",
       "603   DOGE's Foreign Aid Cuts Have Sparked 'Total Ch...   \n",
       "333   Sign the Petition to Declare Femicide a Crime ...   \n",
       "232                                Our education system   \n",
       "1016                                     Marrying at 72   \n",
       "1095  Ugandan Judge sentenced to over six years for ...   \n",
       "\n",
       "                                                   text published_date  \\\n",
       "961   I''ll try to keep this as simple as possible.\\...     2025-06-17   \n",
       "599                                                         2025-03-05   \n",
       "159   Are you still in contact with the organisation...     2025-04-05   \n",
       "463   For the experts in matters economy and finance...     2025-04-06   \n",
       "78    High folks, long time Reddit lurker over here....     2025-03-25   \n",
       "603                                                         2025-03-04   \n",
       "333   Why this petition matters\\r\\n\\r\\n\\r\\nStarted b...     2025-04-10   \n",
       "232   I saw this post on X and it has left me thinki...     2025-05-22   \n",
       "1016  Someone said their mom got married at 72, i do...     2025-06-11   \n",
       "1095  Lydia Mugambe, 50, has been sentenced to six y...     2025-05-03   \n",
       "\n",
       "                       keyword  \\\n",
       "961                    unknown   \n",
       "599   foreign aid, foreign aid   \n",
       "159    usaid kenya funding cut   \n",
       "463                      USAID   \n",
       "78           kenya foreign aid   \n",
       "603   foreign aid, foreign aid   \n",
       "333        kenya donor funding   \n",
       "232      development aid kenya   \n",
       "1016                   unknown   \n",
       "1095                   unknown   \n",
       "\n",
       "                                                    url  \\\n",
       "961   https://www.reddit.com/r/Kenya/comments/1ldecs...   \n",
       "599   https://www.washingtonpost.com/politics/2025/0...   \n",
       "159   https://www.reddit.com/r/Kenya/comments/1jsb14...   \n",
       "463   https://www.reddit.com/r/Kenya/comments/1jsyty...   \n",
       "78     https://youtu.be/n2vX71nH-8s?si=0h3QIjA_WM5I4k8A   \n",
       "603   https://www.wired.com/story/rights-con-taipei-...   \n",
       "333                          https://chng.it/4L2zDbNGMR   \n",
       "232                 https://i.redd.it/avdn059x6d2f1.png   \n",
       "1016  https://www.reddit.com/r/Kenya/comments/1l8rbz...   \n",
       "1095  https://www.cps.gov.uk/cps/news/ugandan-judge-...   \n",
       "\n",
       "                                              full_text language  \n",
       "961   family curse? i''ll try to keep this as simple...       en  \n",
       "599   divided supreme court says judge can force tru...       en  \n",
       "159   ex-usaid people!! let's talk are you still in ...       en  \n",
       "463   economy for the experts in matters economy and...       en  \n",
       "78    kenya’s foreign policy: vibes or strategy? hig...       en  \n",
       "603   doge's foreign aid cuts have sparked 'total ch...       en  \n",
       "333   sign the petition to declare femicide a crime ...       en  \n",
       "232   our education system i saw this post on x and ...       en  \n",
       "1016  marrying at 72 someone said their mom got marr...       en  \n",
       "1095  ugandan judge sentenced to over six years for ...       en  "
      ]
     },
     "execution_count": 56,
     "metadata": {},
     "output_type": "execute_result"
    }
   ],
   "source": [
    "reddit_df.sample(10)"
   ]
  },
  {
   "cell_type": "code",
   "execution_count": 57,
   "id": "cd02bb13",
   "metadata": {},
   "outputs": [
    {
     "data": {
      "text/html": [
       "<div>\n",
       "<style scoped>\n",
       "    .dataframe tbody tr th:only-of-type {\n",
       "        vertical-align: middle;\n",
       "    }\n",
       "\n",
       "    .dataframe tbody tr th {\n",
       "        vertical-align: top;\n",
       "    }\n",
       "\n",
       "    .dataframe thead th {\n",
       "        text-align: right;\n",
       "    }\n",
       "</style>\n",
       "<table border=\"1\" class=\"dataframe\">\n",
       "  <thead>\n",
       "    <tr style=\"text-align: right;\">\n",
       "      <th></th>\n",
       "      <th>post_title</th>\n",
       "      <th>text</th>\n",
       "      <th>published_date</th>\n",
       "      <th>keyword</th>\n",
       "      <th>url</th>\n",
       "      <th>full_text</th>\n",
       "    </tr>\n",
       "  </thead>\n",
       "  <tbody>\n",
       "    <tr>\n",
       "      <th>0</th>\n",
       "      <td>USAID left a month ago, do we have ARVs in Kenya?</td>\n",
       "      <td>Someone on a different group (different websit...</td>\n",
       "      <td>2025-04-15</td>\n",
       "      <td>usaid kenya</td>\n",
       "      <td>https://www.reddit.com/r/Kenya/comments/1jzrn2...</td>\n",
       "      <td>usaid left a month ago, do we have arvs in ken...</td>\n",
       "    </tr>\n",
       "    <tr>\n",
       "      <th>1</th>\n",
       "      <td>Classism in r/Kenya and r/nairobi</td>\n",
       "      <td>The classism I'm seeing in both subs is a good...</td>\n",
       "      <td>2025-04-07</td>\n",
       "      <td>usaid kenya</td>\n",
       "      <td>https://www.reddit.com/r/Kenya/comments/1jtcvb...</td>\n",
       "      <td>classism in r/kenya and r/nairobi the classism...</td>\n",
       "    </tr>\n",
       "    <tr>\n",
       "      <th>2</th>\n",
       "      <td>EX-USAID people!! Let's talk</td>\n",
       "      <td>Are you still in contact with the organisation...</td>\n",
       "      <td>2025-04-05</td>\n",
       "      <td>usaid kenya</td>\n",
       "      <td>https://www.reddit.com/r/Kenya/comments/1jsb14...</td>\n",
       "      <td>ex-usaid people!! let's talk are you still in ...</td>\n",
       "    </tr>\n",
       "    <tr>\n",
       "      <th>3</th>\n",
       "      <td>Why western powers back Israel no matter what ...</td>\n",
       "      <td>I don't care what good book you read, but it's...</td>\n",
       "      <td>2025-03-25</td>\n",
       "      <td>usaid kenya</td>\n",
       "      <td>https://www.reddit.com/r/Kenya/comments/1jjehw...</td>\n",
       "      <td>why western powers back israel no matter what ...</td>\n",
       "    </tr>\n",
       "    <tr>\n",
       "      <th>4</th>\n",
       "      <td>Is kenya capable of funding its needs now that...</td>\n",
       "      <td>How is kenya prepared to fill the vacuum of US...</td>\n",
       "      <td>2025-03-08</td>\n",
       "      <td>usaid kenya</td>\n",
       "      <td>https://www.reddit.com/r/Kenya/comments/1j6cjz...</td>\n",
       "      <td>is kenya capable of funding its needs now that...</td>\n",
       "    </tr>\n",
       "  </tbody>\n",
       "</table>\n",
       "</div>"
      ],
      "text/plain": [
       "                                          post_title  \\\n",
       "0  USAID left a month ago, do we have ARVs in Kenya?   \n",
       "1                  Classism in r/Kenya and r/nairobi   \n",
       "2                       EX-USAID people!! Let's talk   \n",
       "3  Why western powers back Israel no matter what ...   \n",
       "4  Is kenya capable of funding its needs now that...   \n",
       "\n",
       "                                                text published_date  \\\n",
       "0  Someone on a different group (different websit...     2025-04-15   \n",
       "1  The classism I'm seeing in both subs is a good...     2025-04-07   \n",
       "2  Are you still in contact with the organisation...     2025-04-05   \n",
       "3  I don't care what good book you read, but it's...     2025-03-25   \n",
       "4  How is kenya prepared to fill the vacuum of US...     2025-03-08   \n",
       "\n",
       "       keyword                                                url  \\\n",
       "0  usaid kenya  https://www.reddit.com/r/Kenya/comments/1jzrn2...   \n",
       "1  usaid kenya  https://www.reddit.com/r/Kenya/comments/1jtcvb...   \n",
       "2  usaid kenya  https://www.reddit.com/r/Kenya/comments/1jsb14...   \n",
       "3  usaid kenya  https://www.reddit.com/r/Kenya/comments/1jjehw...   \n",
       "4  usaid kenya  https://www.reddit.com/r/Kenya/comments/1j6cjz...   \n",
       "\n",
       "                                           full_text  \n",
       "0  usaid left a month ago, do we have arvs in ken...  \n",
       "1  classism in r/kenya and r/nairobi the classism...  \n",
       "2  ex-usaid people!! let's talk are you still in ...  \n",
       "3  why western powers back israel no matter what ...  \n",
       "4  is kenya capable of funding its needs now that...  "
      ]
     },
     "execution_count": 57,
     "metadata": {},
     "output_type": "execute_result"
    }
   ],
   "source": [
    "reddit_df.drop('language', axis=1, inplace=True) #drop the language column as it is unnecessary now\n",
    "reddit_df.head()"
   ]
  },
  {
   "cell_type": "code",
   "execution_count": 58,
   "id": "33d8efca",
   "metadata": {},
   "outputs": [
    {
     "data": {
      "text/plain": [
       "(1125, 6)"
      ]
     },
     "execution_count": 58,
     "metadata": {},
     "output_type": "execute_result"
    }
   ],
   "source": [
    "reddit_df.shape"
   ]
  },
  {
   "cell_type": "markdown",
   "id": "b1c50774",
   "metadata": {},
   "source": [
    "### Removing Punctuation Marks"
   ]
  },
  {
   "cell_type": "code",
   "execution_count": 59,
   "id": "6c8931ec",
   "metadata": {},
   "outputs": [
    {
     "data": {
      "text/html": [
       "<div>\n",
       "<style scoped>\n",
       "    .dataframe tbody tr th:only-of-type {\n",
       "        vertical-align: middle;\n",
       "    }\n",
       "\n",
       "    .dataframe tbody tr th {\n",
       "        vertical-align: top;\n",
       "    }\n",
       "\n",
       "    .dataframe thead th {\n",
       "        text-align: right;\n",
       "    }\n",
       "</style>\n",
       "<table border=\"1\" class=\"dataframe\">\n",
       "  <thead>\n",
       "    <tr style=\"text-align: right;\">\n",
       "      <th></th>\n",
       "      <th>post_title</th>\n",
       "      <th>text</th>\n",
       "      <th>published_date</th>\n",
       "      <th>keyword</th>\n",
       "      <th>url</th>\n",
       "      <th>full_text</th>\n",
       "    </tr>\n",
       "  </thead>\n",
       "  <tbody>\n",
       "    <tr>\n",
       "      <th>0</th>\n",
       "      <td>USAID left a month ago, do we have ARVs in Kenya?</td>\n",
       "      <td>Someone on a different group (different websit...</td>\n",
       "      <td>2025-04-15</td>\n",
       "      <td>usaid kenya</td>\n",
       "      <td>https://www.reddit.com/r/Kenya/comments/1jzrn2...</td>\n",
       "      <td>usaid left a month ago do we have arvs in keny...</td>\n",
       "    </tr>\n",
       "    <tr>\n",
       "      <th>1</th>\n",
       "      <td>Classism in r/Kenya and r/nairobi</td>\n",
       "      <td>The classism I'm seeing in both subs is a good...</td>\n",
       "      <td>2025-04-07</td>\n",
       "      <td>usaid kenya</td>\n",
       "      <td>https://www.reddit.com/r/Kenya/comments/1jtcvb...</td>\n",
       "      <td>classism in rkenya and rnairobi the classism i...</td>\n",
       "    </tr>\n",
       "    <tr>\n",
       "      <th>2</th>\n",
       "      <td>EX-USAID people!! Let's talk</td>\n",
       "      <td>Are you still in contact with the organisation...</td>\n",
       "      <td>2025-04-05</td>\n",
       "      <td>usaid kenya</td>\n",
       "      <td>https://www.reddit.com/r/Kenya/comments/1jsb14...</td>\n",
       "      <td>exusaid people lets talk are you still in cont...</td>\n",
       "    </tr>\n",
       "    <tr>\n",
       "      <th>3</th>\n",
       "      <td>Why western powers back Israel no matter what ...</td>\n",
       "      <td>I don't care what good book you read, but it's...</td>\n",
       "      <td>2025-03-25</td>\n",
       "      <td>usaid kenya</td>\n",
       "      <td>https://www.reddit.com/r/Kenya/comments/1jjehw...</td>\n",
       "      <td>why western powers back israel no matter what ...</td>\n",
       "    </tr>\n",
       "    <tr>\n",
       "      <th>4</th>\n",
       "      <td>Is kenya capable of funding its needs now that...</td>\n",
       "      <td>How is kenya prepared to fill the vacuum of US...</td>\n",
       "      <td>2025-03-08</td>\n",
       "      <td>usaid kenya</td>\n",
       "      <td>https://www.reddit.com/r/Kenya/comments/1j6cjz...</td>\n",
       "      <td>is kenya capable of funding its needs now that...</td>\n",
       "    </tr>\n",
       "  </tbody>\n",
       "</table>\n",
       "</div>"
      ],
      "text/plain": [
       "                                          post_title  \\\n",
       "0  USAID left a month ago, do we have ARVs in Kenya?   \n",
       "1                  Classism in r/Kenya and r/nairobi   \n",
       "2                       EX-USAID people!! Let's talk   \n",
       "3  Why western powers back Israel no matter what ...   \n",
       "4  Is kenya capable of funding its needs now that...   \n",
       "\n",
       "                                                text published_date  \\\n",
       "0  Someone on a different group (different websit...     2025-04-15   \n",
       "1  The classism I'm seeing in both subs is a good...     2025-04-07   \n",
       "2  Are you still in contact with the organisation...     2025-04-05   \n",
       "3  I don't care what good book you read, but it's...     2025-03-25   \n",
       "4  How is kenya prepared to fill the vacuum of US...     2025-03-08   \n",
       "\n",
       "       keyword                                                url  \\\n",
       "0  usaid kenya  https://www.reddit.com/r/Kenya/comments/1jzrn2...   \n",
       "1  usaid kenya  https://www.reddit.com/r/Kenya/comments/1jtcvb...   \n",
       "2  usaid kenya  https://www.reddit.com/r/Kenya/comments/1jsb14...   \n",
       "3  usaid kenya  https://www.reddit.com/r/Kenya/comments/1jjehw...   \n",
       "4  usaid kenya  https://www.reddit.com/r/Kenya/comments/1j6cjz...   \n",
       "\n",
       "                                           full_text  \n",
       "0  usaid left a month ago do we have arvs in keny...  \n",
       "1  classism in rkenya and rnairobi the classism i...  \n",
       "2  exusaid people lets talk are you still in cont...  \n",
       "3  why western powers back israel no matter what ...  \n",
       "4  is kenya capable of funding its needs now that...  "
      ]
     },
     "execution_count": 59,
     "metadata": {},
     "output_type": "execute_result"
    }
   ],
   "source": [
    "import re\n",
    "import string\n",
    "\n",
    "# Function to remove punctuation\n",
    "def remove_punctuation(text):\n",
    "    return re.sub(f\"[{re.escape(string.punctuation)}]\", \"\", str(text))\n",
    "\n",
    "# Apply to the 'full_text' column\n",
    "reddit_df['full_text'] = reddit_df['full_text'].apply(remove_punctuation)\n",
    "\n",
    "reddit_df.head()\n"
   ]
  },
  {
   "cell_type": "markdown",
   "id": "f2a768ea",
   "metadata": {},
   "source": [
    "### Removing Stop Words,Emojis,Non-Emoji Symbols and Lemmatization"
   ]
  },
  {
   "cell_type": "code",
   "execution_count": 60,
   "id": "4b2484c6",
   "metadata": {},
   "outputs": [
    {
     "name": "stderr",
     "output_type": "stream",
     "text": [
      "[nltk_data] Downloading package stopwords to\n",
      "[nltk_data]     C:\\Users\\hp\\AppData\\Roaming\\nltk_data...\n",
      "[nltk_data]   Package stopwords is already up-to-date!\n",
      "[nltk_data] Downloading package wordnet to\n",
      "[nltk_data]     C:\\Users\\hp\\AppData\\Roaming\\nltk_data...\n",
      "[nltk_data]   Package wordnet is already up-to-date!\n",
      "[nltk_data] Downloading package omw-1.4 to\n",
      "[nltk_data]     C:\\Users\\hp\\AppData\\Roaming\\nltk_data...\n",
      "[nltk_data]   Package omw-1.4 is already up-to-date!\n"
     ]
    },
    {
     "data": {
      "text/html": [
       "<div>\n",
       "<style scoped>\n",
       "    .dataframe tbody tr th:only-of-type {\n",
       "        vertical-align: middle;\n",
       "    }\n",
       "\n",
       "    .dataframe tbody tr th {\n",
       "        vertical-align: top;\n",
       "    }\n",
       "\n",
       "    .dataframe thead th {\n",
       "        text-align: right;\n",
       "    }\n",
       "</style>\n",
       "<table border=\"1\" class=\"dataframe\">\n",
       "  <thead>\n",
       "    <tr style=\"text-align: right;\">\n",
       "      <th></th>\n",
       "      <th>post_title</th>\n",
       "      <th>text</th>\n",
       "      <th>published_date</th>\n",
       "      <th>keyword</th>\n",
       "      <th>url</th>\n",
       "      <th>full_text</th>\n",
       "      <th>cleaned_text</th>\n",
       "    </tr>\n",
       "  </thead>\n",
       "  <tbody>\n",
       "    <tr>\n",
       "      <th>637</th>\n",
       "      <td>Foreign Aid Freeze Leaves Millions Without H.I...</td>\n",
       "      <td></td>\n",
       "      <td>2025-02-06</td>\n",
       "      <td>foreign aid, foreign aid</td>\n",
       "      <td>https://www.nytimes.com/2025/02/05/health/trum...</td>\n",
       "      <td>foreign aid freeze leaves millions without hiv...</td>\n",
       "      <td>foreign aid freeze leaf million without hiv tr...</td>\n",
       "    </tr>\n",
       "    <tr>\n",
       "      <th>277</th>\n",
       "      <td>Unpopular opinion</td>\n",
       "      <td>Kenya will never become truly wealthy by relyi...</td>\n",
       "      <td>2025-02-25</td>\n",
       "      <td>development aid kenya</td>\n",
       "      <td>https://www.reddit.com/r/Kenya/comments/1ixyio...</td>\n",
       "      <td>unpopular opinion kenya will never become trul...</td>\n",
       "      <td>unpopular opinion kenya never become truly wea...</td>\n",
       "    </tr>\n",
       "    <tr>\n",
       "      <th>58</th>\n",
       "      <td>Kenya Isn’t That Bad… Ama?</td>\n",
       "      <td>So I have this friend who lives in Europe. Sin...</td>\n",
       "      <td>2025-04-25</td>\n",
       "      <td>kenya foreign aid</td>\n",
       "      <td>https://www.reddit.com/r/Kenya/comments/1k7s8a...</td>\n",
       "      <td>kenya isn’t that bad… ama so i have this frien...</td>\n",
       "      <td>kenya isn’t bad… ama friend life europe since ...</td>\n",
       "    </tr>\n",
       "    <tr>\n",
       "      <th>364</th>\n",
       "      <td>Title: I grew up idolizing France. Now I see t...</td>\n",
       "      <td>I want to believe we still have what it takes—...</td>\n",
       "      <td>2025-05-12</td>\n",
       "      <td>kenya foreign aid</td>\n",
       "      <td>https://www.reddit.com/r/Africa/comments/1kknb...</td>\n",
       "      <td>title i grew up idolizing france now i see the...</td>\n",
       "      <td>title grew idolizing france see whole system w...</td>\n",
       "    </tr>\n",
       "    <tr>\n",
       "      <th>223</th>\n",
       "      <td>Thinking of Importing from Alibaba to Kenya? H...</td>\n",
       "      <td>If you’re new to importing from Alibaba to Ken...</td>\n",
       "      <td>2025-06-09</td>\n",
       "      <td>development aid kenya</td>\n",
       "      <td>https://www.reddit.com/r/Kenya/comments/1l7f9r...</td>\n",
       "      <td>thinking of importing from alibaba to kenya he...</td>\n",
       "      <td>thinking importing alibaba kenya here’s beginn...</td>\n",
       "    </tr>\n",
       "    <tr>\n",
       "      <th>383</th>\n",
       "      <td>Why?</td>\n",
       "      <td>\\r\\n\\r\\n\\r\\n\\r\\n\\r\\nWhy???\\r\\n\\r\\nhttps://www....</td>\n",
       "      <td>2025-03-14</td>\n",
       "      <td>usaid kenya funding cut</td>\n",
       "      <td>https://www.reddit.com/gallery/1jbgdq7</td>\n",
       "      <td>why \\r\\n\\r\\n\\r\\n\\r\\n\\r\\nwhy\\r\\n\\r\\nhttpswwwbbc...</td>\n",
       "      <td>httpswwwbbccomnewsarticlesckg815277g5oamp make...</td>\n",
       "    </tr>\n",
       "    <tr>\n",
       "      <th>749</th>\n",
       "      <td>Is this a general erosion in culture? Or is it...</td>\n",
       "      <td>Firstly, Happy mother's day to all the mums ho...</td>\n",
       "      <td>2025-05-11</td>\n",
       "      <td>unknown</td>\n",
       "      <td>https://www.reddit.com/r/Kenya/comments/1kjxv8...</td>\n",
       "      <td>is this a general erosion in culture or is it ...</td>\n",
       "      <td>general erosion culture moral decay firstly ha...</td>\n",
       "    </tr>\n",
       "    <tr>\n",
       "      <th>682</th>\n",
       "      <td>Kenyan Startup environment and what can be done</td>\n",
       "      <td>I'm sure most of us are fully aware of the fru...</td>\n",
       "      <td>2025-04-07</td>\n",
       "      <td>unknown</td>\n",
       "      <td>https://www.reddit.com/r/Kenya/comments/1jtthj...</td>\n",
       "      <td>kenyan startup environment and what can be don...</td>\n",
       "      <td>kenyan startup environment done im sure u full...</td>\n",
       "    </tr>\n",
       "    <tr>\n",
       "      <th>649</th>\n",
       "      <td>Stop-Work Order on US Foreign Aid Puts China F...</td>\n",
       "      <td></td>\n",
       "      <td>2025-01-27</td>\n",
       "      <td>foreign aid, foreign aid</td>\n",
       "      <td>https://www.justsecurity.org/106876/us-foreign...</td>\n",
       "      <td>stopwork order on us foreign aid puts china fi...</td>\n",
       "      <td>stopwork order u foreign aid put china first a...</td>\n",
       "    </tr>\n",
       "    <tr>\n",
       "      <th>728</th>\n",
       "      <td>Kenyan comfort food - ugali, nyama na sukuma w...</td>\n",
       "      <td>\\r\\nI swear anytime anywhere, nyama ugali and ...</td>\n",
       "      <td>2025-05-28</td>\n",
       "      <td>unknown</td>\n",
       "      <td>https://www.reddit.com/r/Kenya/comments/1kxgbt...</td>\n",
       "      <td>kenyan comfort food  ugali nyama na sukuma wik...</td>\n",
       "      <td>kenyan comfort food ugali nyama na sukuma wiki...</td>\n",
       "    </tr>\n",
       "  </tbody>\n",
       "</table>\n",
       "</div>"
      ],
      "text/plain": [
       "                                            post_title  \\\n",
       "637  Foreign Aid Freeze Leaves Millions Without H.I...   \n",
       "277                                  Unpopular opinion   \n",
       "58                          Kenya Isn’t That Bad… Ama?   \n",
       "364  Title: I grew up idolizing France. Now I see t...   \n",
       "223  Thinking of Importing from Alibaba to Kenya? H...   \n",
       "383                                               Why?   \n",
       "749  Is this a general erosion in culture? Or is it...   \n",
       "682    Kenyan Startup environment and what can be done   \n",
       "649  Stop-Work Order on US Foreign Aid Puts China F...   \n",
       "728  Kenyan comfort food - ugali, nyama na sukuma w...   \n",
       "\n",
       "                                                  text published_date  \\\n",
       "637                                                        2025-02-06   \n",
       "277  Kenya will never become truly wealthy by relyi...     2025-02-25   \n",
       "58   So I have this friend who lives in Europe. Sin...     2025-04-25   \n",
       "364  I want to believe we still have what it takes—...     2025-05-12   \n",
       "223  If you’re new to importing from Alibaba to Ken...     2025-06-09   \n",
       "383  \\r\\n\\r\\n\\r\\n\\r\\n\\r\\nWhy???\\r\\n\\r\\nhttps://www....     2025-03-14   \n",
       "749  Firstly, Happy mother's day to all the mums ho...     2025-05-11   \n",
       "682  I'm sure most of us are fully aware of the fru...     2025-04-07   \n",
       "649                                                        2025-01-27   \n",
       "728  \\r\\nI swear anytime anywhere, nyama ugali and ...     2025-05-28   \n",
       "\n",
       "                      keyword  \\\n",
       "637  foreign aid, foreign aid   \n",
       "277     development aid kenya   \n",
       "58          kenya foreign aid   \n",
       "364         kenya foreign aid   \n",
       "223     development aid kenya   \n",
       "383   usaid kenya funding cut   \n",
       "749                   unknown   \n",
       "682                   unknown   \n",
       "649  foreign aid, foreign aid   \n",
       "728                   unknown   \n",
       "\n",
       "                                                   url  \\\n",
       "637  https://www.nytimes.com/2025/02/05/health/trum...   \n",
       "277  https://www.reddit.com/r/Kenya/comments/1ixyio...   \n",
       "58   https://www.reddit.com/r/Kenya/comments/1k7s8a...   \n",
       "364  https://www.reddit.com/r/Africa/comments/1kknb...   \n",
       "223  https://www.reddit.com/r/Kenya/comments/1l7f9r...   \n",
       "383             https://www.reddit.com/gallery/1jbgdq7   \n",
       "749  https://www.reddit.com/r/Kenya/comments/1kjxv8...   \n",
       "682  https://www.reddit.com/r/Kenya/comments/1jtthj...   \n",
       "649  https://www.justsecurity.org/106876/us-foreign...   \n",
       "728  https://www.reddit.com/r/Kenya/comments/1kxgbt...   \n",
       "\n",
       "                                             full_text  \\\n",
       "637  foreign aid freeze leaves millions without hiv...   \n",
       "277  unpopular opinion kenya will never become trul...   \n",
       "58   kenya isn’t that bad… ama so i have this frien...   \n",
       "364  title i grew up idolizing france now i see the...   \n",
       "223  thinking of importing from alibaba to kenya he...   \n",
       "383  why \\r\\n\\r\\n\\r\\n\\r\\n\\r\\nwhy\\r\\n\\r\\nhttpswwwbbc...   \n",
       "749  is this a general erosion in culture or is it ...   \n",
       "682  kenyan startup environment and what can be don...   \n",
       "649  stopwork order on us foreign aid puts china fi...   \n",
       "728  kenyan comfort food  ugali nyama na sukuma wik...   \n",
       "\n",
       "                                          cleaned_text  \n",
       "637  foreign aid freeze leaf million without hiv tr...  \n",
       "277  unpopular opinion kenya never become truly wea...  \n",
       "58   kenya isn’t bad… ama friend life europe since ...  \n",
       "364  title grew idolizing france see whole system w...  \n",
       "223  thinking importing alibaba kenya here’s beginn...  \n",
       "383  httpswwwbbccomnewsarticlesckg815277g5oamp make...  \n",
       "749  general erosion culture moral decay firstly ha...  \n",
       "682  kenyan startup environment done im sure u full...  \n",
       "649  stopwork order u foreign aid put china first a...  \n",
       "728  kenyan comfort food ugali nyama na sukuma wiki...  "
      ]
     },
     "execution_count": 60,
     "metadata": {},
     "output_type": "execute_result"
    }
   ],
   "source": [
    "import re\n",
    "import nltk\n",
    "from nltk.corpus import stopwords\n",
    "from nltk.stem import WordNetLemmatizer\n",
    "\n",
    "# Download NLTK data\n",
    "nltk.download('stopwords')\n",
    "nltk.download('wordnet')\n",
    "nltk.download('omw-1.4')\n",
    "\n",
    "# Initialize stopwords and lemmatizer\n",
    "stop_words = set(stopwords.words('english'))\n",
    "lemmatizer = WordNetLemmatizer()\n",
    "\n",
    "# Function to remove emojis, emoticons, and other symbols\n",
    "def remove_emojis_symbols(text):\n",
    "    emoji_pattern = re.compile(\n",
    "        \"[\"\n",
    "        u\"\\U0001F600-\\U0001F64F\"  # emoticons\n",
    "        u\"\\U0001F300-\\U0001F5FF\"  # symbols & pictographs\n",
    "        u\"\\U0001F680-\\U0001F6FF\"  # transport & map symbols\n",
    "        u\"\\U0001F1E0-\\U0001F1FF\"  # flags\n",
    "        u\"\\U00002700-\\U000027BF\"  # dingbats\n",
    "        u\"\\U0001F900-\\U0001F9FF\"  # supplemental symbols and pictographs\n",
    "        u\"\\U0001FA70-\\U0001FAFF\"  # extended pictographic symbols\n",
    "        u\"\\U00002500-\\U00002BEF\"  # misc symbols\n",
    "        u\"\\U0000200D\"             # zero width joiner\n",
    "        u\"\\u2600-\\u26FF\"          # misc symbols\n",
    "        u\"\\u2700-\\u27BF\"\n",
    "        u\"\\uFE0F\"                 # variation selector\n",
    "        u\"\\u3030\"\n",
    "        u\"\\u00A9\"                 # ©\n",
    "        u\"\\u00AE\"                 # ®\n",
    "        u\"\\u2122\"                 # ™\n",
    "        \"]+\", flags=re.UNICODE)\n",
    "    return emoji_pattern.sub(r'', text)\n",
    "\n",
    "# Final cleaning function\n",
    "def clean_text(text):\n",
    "    text = remove_emojis_symbols(text)\n",
    "    words = text.split()\n",
    "    cleaned_words = [lemmatizer.lemmatize(word) for word in words if word not in stop_words]\n",
    "    return ' '.join(cleaned_words)\n",
    "\n",
    "# Apply to reddit_df\n",
    "reddit_df['cleaned_text'] = reddit_df['full_text'].apply(clean_text)\n",
    "\n",
    "# Preview sample\n",
    "reddit_df.sample(10)\n"
   ]
  },
  {
   "cell_type": "code",
   "execution_count": 61,
   "id": "1f21021b",
   "metadata": {},
   "outputs": [
    {
     "data": {
      "text/plain": [
       "'kenya allowed british rule beyond 1963 let’s talk hear white man stayed past 1963 it’s controversial thought begs question—how would kenya look today allowed british govern u year would developed south africa vibrant hong kong can’t help wonder truly ready independence honestly strongly believe weren’t—and maybe still aren’t freedom premature move let brit continue pulling string sake development i’m opening floor debate convince otherwise good people let’s talk kenya history development freedomdebate'"
      ]
     },
     "execution_count": 61,
     "metadata": {},
     "output_type": "execute_result"
    }
   ],
   "source": [
    "reddit_df.iloc[268]['cleaned_text']\n"
   ]
  },
  {
   "cell_type": "code",
   "execution_count": 62,
   "id": "803f5b12",
   "metadata": {},
   "outputs": [
    {
     "data": {
      "text/plain": [
       "'🤔 what if kenya allowed british rule beyond 1963 let’s talk about it hear me out the white man stayed past 1963 it’s a controversial thought but it begs the question—how would kenya look today if we allowed the british to govern us for a few more years would we be as developed as south africa or as vibrant as hong kong  \\r\\n\\r\\ni can’t help but wonder if we were truly ready for independence honestly i strongly believe we weren’t—and maybe still aren’t was freedom a premature move should we have let the brits continue pulling the strings for the sake of development  \\r\\n\\r\\ni’m opening the floor for debate convince me otherwise good people let’s talk 🧐 kenya history development freedomdebate'"
      ]
     },
     "execution_count": 62,
     "metadata": {},
     "output_type": "execute_result"
    }
   ],
   "source": [
    "reddit_df.iloc[268]['full_text']\n"
   ]
  },
  {
   "cell_type": "markdown",
   "id": "0b503440",
   "metadata": {},
   "source": [
    "### Tokenization"
   ]
  },
  {
   "cell_type": "code",
   "execution_count": 63,
   "id": "c68e64de",
   "metadata": {},
   "outputs": [
    {
     "name": "stderr",
     "output_type": "stream",
     "text": [
      "[nltk_data] Downloading package punkt to\n",
      "[nltk_data]     C:\\Users\\hp\\AppData\\Roaming\\nltk_data...\n",
      "[nltk_data]   Package punkt is already up-to-date!\n"
     ]
    },
    {
     "data": {
      "text/html": [
       "<div>\n",
       "<style scoped>\n",
       "    .dataframe tbody tr th:only-of-type {\n",
       "        vertical-align: middle;\n",
       "    }\n",
       "\n",
       "    .dataframe tbody tr th {\n",
       "        vertical-align: top;\n",
       "    }\n",
       "\n",
       "    .dataframe thead th {\n",
       "        text-align: right;\n",
       "    }\n",
       "</style>\n",
       "<table border=\"1\" class=\"dataframe\">\n",
       "  <thead>\n",
       "    <tr style=\"text-align: right;\">\n",
       "      <th></th>\n",
       "      <th>post_title</th>\n",
       "      <th>text</th>\n",
       "      <th>published_date</th>\n",
       "      <th>keyword</th>\n",
       "      <th>url</th>\n",
       "      <th>full_text</th>\n",
       "      <th>cleaned_text</th>\n",
       "      <th>tokens</th>\n",
       "    </tr>\n",
       "  </thead>\n",
       "  <tbody>\n",
       "    <tr>\n",
       "      <th>0</th>\n",
       "      <td>USAID left a month ago, do we have ARVs in Kenya?</td>\n",
       "      <td>Someone on a different group (different websit...</td>\n",
       "      <td>2025-04-15</td>\n",
       "      <td>usaid kenya</td>\n",
       "      <td>https://www.reddit.com/r/Kenya/comments/1jzrn2...</td>\n",
       "      <td>usaid left a month ago do we have arvs in keny...</td>\n",
       "      <td>usaid left month ago arvs kenya someone differ...</td>\n",
       "      <td>[usaid, left, month, ago, arvs, kenya, someone...</td>\n",
       "    </tr>\n",
       "    <tr>\n",
       "      <th>1</th>\n",
       "      <td>Classism in r/Kenya and r/nairobi</td>\n",
       "      <td>The classism I'm seeing in both subs is a good...</td>\n",
       "      <td>2025-04-07</td>\n",
       "      <td>usaid kenya</td>\n",
       "      <td>https://www.reddit.com/r/Kenya/comments/1jtcvb...</td>\n",
       "      <td>classism in rkenya and rnairobi the classism i...</td>\n",
       "      <td>classism rkenya rnairobi classism im seeing su...</td>\n",
       "      <td>[classism, rkenya, rnairobi, classism, im, see...</td>\n",
       "    </tr>\n",
       "    <tr>\n",
       "      <th>2</th>\n",
       "      <td>EX-USAID people!! Let's talk</td>\n",
       "      <td>Are you still in contact with the organisation...</td>\n",
       "      <td>2025-04-05</td>\n",
       "      <td>usaid kenya</td>\n",
       "      <td>https://www.reddit.com/r/Kenya/comments/1jsb14...</td>\n",
       "      <td>exusaid people lets talk are you still in cont...</td>\n",
       "      <td>exusaid people let talk still contact organisa...</td>\n",
       "      <td>[exusaid, people, let, talk, still, contact, o...</td>\n",
       "    </tr>\n",
       "    <tr>\n",
       "      <th>3</th>\n",
       "      <td>Why western powers back Israel no matter what ...</td>\n",
       "      <td>I don't care what good book you read, but it's...</td>\n",
       "      <td>2025-03-25</td>\n",
       "      <td>usaid kenya</td>\n",
       "      <td>https://www.reddit.com/r/Kenya/comments/1jjehw...</td>\n",
       "      <td>why western powers back israel no matter what ...</td>\n",
       "      <td>western power back israel matter kenya avoid u...</td>\n",
       "      <td>[western, power, back, israel, matter, kenya, ...</td>\n",
       "    </tr>\n",
       "    <tr>\n",
       "      <th>4</th>\n",
       "      <td>Is kenya capable of funding its needs now that...</td>\n",
       "      <td>How is kenya prepared to fill the vacuum of US...</td>\n",
       "      <td>2025-03-08</td>\n",
       "      <td>usaid kenya</td>\n",
       "      <td>https://www.reddit.com/r/Kenya/comments/1j6cjz...</td>\n",
       "      <td>is kenya capable of funding its needs now that...</td>\n",
       "      <td>kenya capable funding need usaid disbanded ken...</td>\n",
       "      <td>[kenya, capable, funding, need, usaid, disband...</td>\n",
       "    </tr>\n",
       "  </tbody>\n",
       "</table>\n",
       "</div>"
      ],
      "text/plain": [
       "                                          post_title  \\\n",
       "0  USAID left a month ago, do we have ARVs in Kenya?   \n",
       "1                  Classism in r/Kenya and r/nairobi   \n",
       "2                       EX-USAID people!! Let's talk   \n",
       "3  Why western powers back Israel no matter what ...   \n",
       "4  Is kenya capable of funding its needs now that...   \n",
       "\n",
       "                                                text published_date  \\\n",
       "0  Someone on a different group (different websit...     2025-04-15   \n",
       "1  The classism I'm seeing in both subs is a good...     2025-04-07   \n",
       "2  Are you still in contact with the organisation...     2025-04-05   \n",
       "3  I don't care what good book you read, but it's...     2025-03-25   \n",
       "4  How is kenya prepared to fill the vacuum of US...     2025-03-08   \n",
       "\n",
       "       keyword                                                url  \\\n",
       "0  usaid kenya  https://www.reddit.com/r/Kenya/comments/1jzrn2...   \n",
       "1  usaid kenya  https://www.reddit.com/r/Kenya/comments/1jtcvb...   \n",
       "2  usaid kenya  https://www.reddit.com/r/Kenya/comments/1jsb14...   \n",
       "3  usaid kenya  https://www.reddit.com/r/Kenya/comments/1jjehw...   \n",
       "4  usaid kenya  https://www.reddit.com/r/Kenya/comments/1j6cjz...   \n",
       "\n",
       "                                           full_text  \\\n",
       "0  usaid left a month ago do we have arvs in keny...   \n",
       "1  classism in rkenya and rnairobi the classism i...   \n",
       "2  exusaid people lets talk are you still in cont...   \n",
       "3  why western powers back israel no matter what ...   \n",
       "4  is kenya capable of funding its needs now that...   \n",
       "\n",
       "                                        cleaned_text  \\\n",
       "0  usaid left month ago arvs kenya someone differ...   \n",
       "1  classism rkenya rnairobi classism im seeing su...   \n",
       "2  exusaid people let talk still contact organisa...   \n",
       "3  western power back israel matter kenya avoid u...   \n",
       "4  kenya capable funding need usaid disbanded ken...   \n",
       "\n",
       "                                              tokens  \n",
       "0  [usaid, left, month, ago, arvs, kenya, someone...  \n",
       "1  [classism, rkenya, rnairobi, classism, im, see...  \n",
       "2  [exusaid, people, let, talk, still, contact, o...  \n",
       "3  [western, power, back, israel, matter, kenya, ...  \n",
       "4  [kenya, capable, funding, need, usaid, disband...  "
      ]
     },
     "execution_count": 63,
     "metadata": {},
     "output_type": "execute_result"
    }
   ],
   "source": [
    "import nltk\n",
    "from nltk.tokenize import word_tokenize\n",
    "\n",
    "# Download tokenizer data \n",
    "nltk.download('punkt')\n",
    "\n",
    "#  tokenization function\n",
    "def tokenize_text(text):\n",
    "    return word_tokenize(text)\n",
    "\n",
    "# Apply to cleaned text\n",
    "reddit_df['tokens'] = reddit_df['cleaned_text'].apply(tokenize_text)\n",
    "\n",
    "# display the first 5 rows\n",
    "reddit_df[['cleaned_text', 'tokens']].head()\n",
    "reddit_df.head()"
   ]
  },
  {
   "cell_type": "markdown",
   "id": "5420763f",
   "metadata": {},
   "source": [
    "## FINAL NEWS DATA TO BE USED ~ Cecilia_merged_news_dataset"
   ]
  },
  {
   "cell_type": "code",
   "execution_count": 64,
   "id": "b7f64fa0",
   "metadata": {},
   "outputs": [],
   "source": [
    "import pandas as pd\n",
    "import seaborn as sns"
   ]
  },
  {
   "cell_type": "code",
   "execution_count": 65,
   "id": "b375fb6b",
   "metadata": {},
   "outputs": [
    {
     "data": {
      "text/html": [
       "<div>\n",
       "<style scoped>\n",
       "    .dataframe tbody tr th:only-of-type {\n",
       "        vertical-align: middle;\n",
       "    }\n",
       "\n",
       "    .dataframe tbody tr th {\n",
       "        vertical-align: top;\n",
       "    }\n",
       "\n",
       "    .dataframe thead th {\n",
       "        text-align: right;\n",
       "    }\n",
       "</style>\n",
       "<table border=\"1\" class=\"dataframe\">\n",
       "  <thead>\n",
       "    <tr style=\"text-align: right;\">\n",
       "      <th></th>\n",
       "      <th>title</th>\n",
       "      <th>description</th>\n",
       "      <th>text</th>\n",
       "      <th>url</th>\n",
       "      <th>keyword</th>\n",
       "      <th>published_date</th>\n",
       "      <th>source_file</th>\n",
       "    </tr>\n",
       "  </thead>\n",
       "  <tbody>\n",
       "    <tr>\n",
       "      <th>0</th>\n",
       "      <td>Has DOGE really saved the US government $180bn?</td>\n",
       "      <td>Elon Musk first claimed the department would m...</td>\n",
       "      <td>President Donald Trump and adviser Elon Musk c...</td>\n",
       "      <td>https://www.aljazeera.com/news/2025/6/6/has-do...</td>\n",
       "      <td>usaid kenya</td>\n",
       "      <td>2025-06-06 11:21:51+00:00</td>\n",
       "      <td>Agatha_news.csv</td>\n",
       "    </tr>\n",
       "    <tr>\n",
       "      <th>1</th>\n",
       "      <td>The Life Story of Ecomobilus Technologies Limi...</td>\n",
       "      <td>By Prof Geoffrey Gitau Here is a story showcas...</td>\n",
       "      <td>By Prof Geoffrey Gitau\\r\\nHere is a story show...</td>\n",
       "      <td>https://cleantechnica.com/2025/05/26/the-life-...</td>\n",
       "      <td>usaid kenya</td>\n",
       "      <td>2025-05-26 17:13:41+00:00</td>\n",
       "      <td>Agatha_news.csv</td>\n",
       "    </tr>\n",
       "    <tr>\n",
       "      <th>2</th>\n",
       "      <td>Death, Sexual Violence and Human Trafficking: ...</td>\n",
       "      <td>by Brett Murphy and Anna Maria Barry-Jester \\n...</td>\n",
       "      <td>ProPublica is a nonprofit newsroom that invest...</td>\n",
       "      <td>https://www.propublica.org/article/trump-usaid...</td>\n",
       "      <td>usaid kenya</td>\n",
       "      <td>2025-05-28 18:45:00+00:00</td>\n",
       "      <td>Agatha_news.csv</td>\n",
       "    </tr>\n",
       "    <tr>\n",
       "      <th>3</th>\n",
       "      <td>Congress Should Quickly Approve Trump’s Rescis...</td>\n",
       "      <td>President Donald Trump‘s rescission legislatio...</td>\n",
       "      <td>President Donald Trumps rescission legislation...</td>\n",
       "      <td>https://www.dailysignal.com/2025/06/10/congres...</td>\n",
       "      <td>usaid kenya</td>\n",
       "      <td>2025-06-10 12:00:00+00:00</td>\n",
       "      <td>Agatha_news.csv</td>\n",
       "    </tr>\n",
       "    <tr>\n",
       "      <th>4</th>\n",
       "      <td>Food Safety Depends On Every Link In The Suppl...</td>\n",
       "      <td>Almost 1 in 10 people globally fall ill from c...</td>\n",
       "      <td>Colorful fish and vegetables can be purchased ...</td>\n",
       "      <td>https://www.forbes.com/sites/daniellenierenber...</td>\n",
       "      <td>usaid kenya</td>\n",
       "      <td>2025-06-06 13:55:41+00:00</td>\n",
       "      <td>Agatha_news.csv</td>\n",
       "    </tr>\n",
       "  </tbody>\n",
       "</table>\n",
       "</div>"
      ],
      "text/plain": [
       "                                               title  \\\n",
       "0    Has DOGE really saved the US government $180bn?   \n",
       "1  The Life Story of Ecomobilus Technologies Limi...   \n",
       "2  Death, Sexual Violence and Human Trafficking: ...   \n",
       "3  Congress Should Quickly Approve Trump’s Rescis...   \n",
       "4  Food Safety Depends On Every Link In The Suppl...   \n",
       "\n",
       "                                         description  \\\n",
       "0  Elon Musk first claimed the department would m...   \n",
       "1  By Prof Geoffrey Gitau Here is a story showcas...   \n",
       "2  by Brett Murphy and Anna Maria Barry-Jester \\n...   \n",
       "3  President Donald Trump‘s rescission legislatio...   \n",
       "4  Almost 1 in 10 people globally fall ill from c...   \n",
       "\n",
       "                                                text  \\\n",
       "0  President Donald Trump and adviser Elon Musk c...   \n",
       "1  By Prof Geoffrey Gitau\\r\\nHere is a story show...   \n",
       "2  ProPublica is a nonprofit newsroom that invest...   \n",
       "3  President Donald Trumps rescission legislation...   \n",
       "4  Colorful fish and vegetables can be purchased ...   \n",
       "\n",
       "                                                 url      keyword  \\\n",
       "0  https://www.aljazeera.com/news/2025/6/6/has-do...  usaid kenya   \n",
       "1  https://cleantechnica.com/2025/05/26/the-life-...  usaid kenya   \n",
       "2  https://www.propublica.org/article/trump-usaid...  usaid kenya   \n",
       "3  https://www.dailysignal.com/2025/06/10/congres...  usaid kenya   \n",
       "4  https://www.forbes.com/sites/daniellenierenber...  usaid kenya   \n",
       "\n",
       "              published_date      source_file  \n",
       "0  2025-06-06 11:21:51+00:00  Agatha_news.csv  \n",
       "1  2025-05-26 17:13:41+00:00  Agatha_news.csv  \n",
       "2  2025-05-28 18:45:00+00:00  Agatha_news.csv  \n",
       "3  2025-06-10 12:00:00+00:00  Agatha_news.csv  \n",
       "4  2025-06-06 13:55:41+00:00  Agatha_news.csv  "
      ]
     },
     "execution_count": 65,
     "metadata": {},
     "output_type": "execute_result"
    }
   ],
   "source": [
    "news_df = pd.read_csv('C:/Users/hp/Desktop/DATA NEXUS PROJECTS/USAID-Kenya-Sentiment-Analysis/data/processed/individual datasets/Cecilia_merged_news_dataset.csv')\n",
    "news_df.head()"
   ]
  },
  {
   "cell_type": "code",
   "execution_count": 66,
   "id": "3bc1e075",
   "metadata": {},
   "outputs": [
    {
     "data": {
      "text/html": [
       "<div>\n",
       "<style scoped>\n",
       "    .dataframe tbody tr th:only-of-type {\n",
       "        vertical-align: middle;\n",
       "    }\n",
       "\n",
       "    .dataframe tbody tr th {\n",
       "        vertical-align: top;\n",
       "    }\n",
       "\n",
       "    .dataframe thead th {\n",
       "        text-align: right;\n",
       "    }\n",
       "</style>\n",
       "<table border=\"1\" class=\"dataframe\">\n",
       "  <thead>\n",
       "    <tr style=\"text-align: right;\">\n",
       "      <th></th>\n",
       "      <th>title</th>\n",
       "      <th>description</th>\n",
       "      <th>text</th>\n",
       "      <th>url</th>\n",
       "      <th>keyword</th>\n",
       "      <th>published_date</th>\n",
       "      <th>source_file</th>\n",
       "    </tr>\n",
       "  </thead>\n",
       "  <tbody>\n",
       "    <tr>\n",
       "      <th>2633</th>\n",
       "      <td>Death, Sexual Violence and Human Trafficking: ...</td>\n",
       "      <td>by Brett Murphy and Anna Maria Barry-Jester \\r...</td>\n",
       "      <td>ProPublica is a nonprofit newsroom that invest...</td>\n",
       "      <td>https://www.propublica.org/article/trump-usaid...</td>\n",
       "      <td>NaN</td>\n",
       "      <td>2025-05-28 18:45:00+00:00</td>\n",
       "      <td>ruth_news.csv</td>\n",
       "    </tr>\n",
       "    <tr>\n",
       "      <th>2634</th>\n",
       "      <td>The Life Story of Ecomobilus Technologies Limi...</td>\n",
       "      <td>By Prof Geoffrey Gitau Here is a story showcas...</td>\n",
       "      <td>By Prof Geoffrey Gitau\\r\\nHere is a story show...</td>\n",
       "      <td>https://cleantechnica.com/2025/05/26/the-life-...</td>\n",
       "      <td>NaN</td>\n",
       "      <td>2025-05-26 17:13:41+00:00</td>\n",
       "      <td>ruth_news.csv</td>\n",
       "    </tr>\n",
       "    <tr>\n",
       "      <th>2635</th>\n",
       "      <td>Stakeholders’ perspectives on the status of fa...</td>\n",
       "      <td>Introduction Facility- and community-based dif...</td>\n",
       "      <td>Abstract\\r\\nIntroduction\\r\\nFacility- and comm...</td>\n",
       "      <td>https://journals.plos.org/plosone/article?id=1...</td>\n",
       "      <td>NaN</td>\n",
       "      <td>2025-05-22 14:00:00+00:00</td>\n",
       "      <td>ruth_news.csv</td>\n",
       "    </tr>\n",
       "    <tr>\n",
       "      <th>2636</th>\n",
       "      <td>Africa Needs More Renewables, So Why Is It Inv...</td>\n",
       "      <td>Sub-Saharan Africa has an energy funding deficit.</td>\n",
       "      <td>LICHTENBURG, SOUTH AFRICA - MAY 8: A man is se...</td>\n",
       "      <td>https://www.forbes.com/sites/sverrealvik/2025/...</td>\n",
       "      <td>NaN</td>\n",
       "      <td>2025-05-20 09:57:16+00:00</td>\n",
       "      <td>ruth_news.csv</td>\n",
       "    </tr>\n",
       "    <tr>\n",
       "      <th>2637</th>\n",
       "      <td>May 2025 Updates</td>\n",
       "      <td>Every month we send an email newsletter to our...</td>\n",
       "      <td>Every month we send an email newsletter to our...</td>\n",
       "      <td>https://blog.givewell.org/2025/05/19/may-2025-...</td>\n",
       "      <td>NaN</td>\n",
       "      <td>2025-05-19 19:26:41+00:00</td>\n",
       "      <td>ruth_news.csv</td>\n",
       "    </tr>\n",
       "  </tbody>\n",
       "</table>\n",
       "</div>"
      ],
      "text/plain": [
       "                                                  title  \\\n",
       "2633  Death, Sexual Violence and Human Trafficking: ...   \n",
       "2634  The Life Story of Ecomobilus Technologies Limi...   \n",
       "2635  Stakeholders’ perspectives on the status of fa...   \n",
       "2636  Africa Needs More Renewables, So Why Is It Inv...   \n",
       "2637                                   May 2025 Updates   \n",
       "\n",
       "                                            description  \\\n",
       "2633  by Brett Murphy and Anna Maria Barry-Jester \\r...   \n",
       "2634  By Prof Geoffrey Gitau Here is a story showcas...   \n",
       "2635  Introduction Facility- and community-based dif...   \n",
       "2636  Sub-Saharan Africa has an energy funding deficit.   \n",
       "2637  Every month we send an email newsletter to our...   \n",
       "\n",
       "                                                   text  \\\n",
       "2633  ProPublica is a nonprofit newsroom that invest...   \n",
       "2634  By Prof Geoffrey Gitau\\r\\nHere is a story show...   \n",
       "2635  Abstract\\r\\nIntroduction\\r\\nFacility- and comm...   \n",
       "2636  LICHTENBURG, SOUTH AFRICA - MAY 8: A man is se...   \n",
       "2637  Every month we send an email newsletter to our...   \n",
       "\n",
       "                                                    url keyword  \\\n",
       "2633  https://www.propublica.org/article/trump-usaid...     NaN   \n",
       "2634  https://cleantechnica.com/2025/05/26/the-life-...     NaN   \n",
       "2635  https://journals.plos.org/plosone/article?id=1...     NaN   \n",
       "2636  https://www.forbes.com/sites/sverrealvik/2025/...     NaN   \n",
       "2637  https://blog.givewell.org/2025/05/19/may-2025-...     NaN   \n",
       "\n",
       "                 published_date    source_file  \n",
       "2633  2025-05-28 18:45:00+00:00  ruth_news.csv  \n",
       "2634  2025-05-26 17:13:41+00:00  ruth_news.csv  \n",
       "2635  2025-05-22 14:00:00+00:00  ruth_news.csv  \n",
       "2636  2025-05-20 09:57:16+00:00  ruth_news.csv  \n",
       "2637  2025-05-19 19:26:41+00:00  ruth_news.csv  "
      ]
     },
     "execution_count": 66,
     "metadata": {},
     "output_type": "execute_result"
    }
   ],
   "source": [
    "news_df.tail()"
   ]
  },
  {
   "cell_type": "code",
   "execution_count": 67,
   "id": "6b0abe8d",
   "metadata": {},
   "outputs": [
    {
     "name": "stdout",
     "output_type": "stream",
     "text": [
      "<class 'pandas.core.frame.DataFrame'>\n",
      "RangeIndex: 2638 entries, 0 to 2637\n",
      "Data columns (total 7 columns):\n",
      " #   Column          Non-Null Count  Dtype \n",
      "---  ------          --------------  ----- \n",
      " 0   title           2638 non-null   object\n",
      " 1   description     2622 non-null   object\n",
      " 2   text            2613 non-null   object\n",
      " 3   url             2636 non-null   object\n",
      " 4   keyword         2379 non-null   object\n",
      " 5   published_date  2539 non-null   object\n",
      " 6   source_file     2638 non-null   object\n",
      "dtypes: object(7)\n",
      "memory usage: 144.4+ KB\n"
     ]
    }
   ],
   "source": [
    "news_df.info()"
   ]
  },
  {
   "cell_type": "code",
   "execution_count": 68,
   "id": "2b0bb4b5",
   "metadata": {},
   "outputs": [
    {
     "data": {
      "text/plain": [
       "(2638, 7)"
      ]
     },
     "execution_count": 68,
     "metadata": {},
     "output_type": "execute_result"
    }
   ],
   "source": [
    "news_df.shape"
   ]
  },
  {
   "cell_type": "code",
   "execution_count": 69,
   "id": "741f886d",
   "metadata": {},
   "outputs": [
    {
     "data": {
      "text/plain": [
       "Index(['title', 'description', 'text', 'url', 'keyword', 'published_date',\n",
       "       'source_file'],\n",
       "      dtype='object')"
      ]
     },
     "execution_count": 69,
     "metadata": {},
     "output_type": "execute_result"
    }
   ],
   "source": [
    "news_df.columns"
   ]
  },
  {
   "cell_type": "code",
   "execution_count": 70,
   "id": "5e28a9ee",
   "metadata": {},
   "outputs": [
    {
     "data": {
      "text/plain": [
       "title             object\n",
       "description       object\n",
       "text              object\n",
       "url               object\n",
       "keyword           object\n",
       "published_date    object\n",
       "source_file       object\n",
       "dtype: object"
      ]
     },
     "execution_count": 70,
     "metadata": {},
     "output_type": "execute_result"
    }
   ],
   "source": [
    "news_df.dtypes"
   ]
  },
  {
   "cell_type": "code",
   "execution_count": 71,
   "id": "8d562b52",
   "metadata": {},
   "outputs": [
    {
     "data": {
      "text/plain": [
       "title               0\n",
       "description        16\n",
       "text               25\n",
       "url                 2\n",
       "keyword           259\n",
       "published_date     99\n",
       "source_file         0\n",
       "dtype: int64"
      ]
     },
     "execution_count": 71,
     "metadata": {},
     "output_type": "execute_result"
    }
   ],
   "source": [
    "news_df.isna().sum()"
   ]
  },
  {
   "cell_type": "code",
   "execution_count": 72,
   "id": "4288fc98",
   "metadata": {},
   "outputs": [
    {
     "data": {
      "text/html": [
       "<div>\n",
       "<style scoped>\n",
       "    .dataframe tbody tr th:only-of-type {\n",
       "        vertical-align: middle;\n",
       "    }\n",
       "\n",
       "    .dataframe tbody tr th {\n",
       "        vertical-align: top;\n",
       "    }\n",
       "\n",
       "    .dataframe thead th {\n",
       "        text-align: right;\n",
       "    }\n",
       "</style>\n",
       "<table border=\"1\" class=\"dataframe\">\n",
       "  <thead>\n",
       "    <tr style=\"text-align: right;\">\n",
       "      <th></th>\n",
       "      <th>title</th>\n",
       "      <th>description</th>\n",
       "      <th>text</th>\n",
       "      <th>url</th>\n",
       "      <th>keyword</th>\n",
       "      <th>published_date</th>\n",
       "      <th>source_file</th>\n",
       "    </tr>\n",
       "  </thead>\n",
       "  <tbody>\n",
       "    <tr>\n",
       "      <th>count</th>\n",
       "      <td>2638</td>\n",
       "      <td>2622</td>\n",
       "      <td>2613</td>\n",
       "      <td>2636</td>\n",
       "      <td>2379</td>\n",
       "      <td>2539</td>\n",
       "      <td>2638</td>\n",
       "    </tr>\n",
       "    <tr>\n",
       "      <th>unique</th>\n",
       "      <td>1453</td>\n",
       "      <td>1457</td>\n",
       "      <td>1445</td>\n",
       "      <td>1486</td>\n",
       "      <td>30</td>\n",
       "      <td>1341</td>\n",
       "      <td>7</td>\n",
       "    </tr>\n",
       "    <tr>\n",
       "      <th>top</th>\n",
       "      <td>Death, Sexual Violence and Human Trafficking: ...</td>\n",
       "      <td>Elon Musk first claimed the department would m...</td>\n",
       "      <td>ProPublica is a nonprofit newsroom that invest...</td>\n",
       "      <td>https://www.propublica.org/article/trump-usaid...</td>\n",
       "      <td>foreign aid</td>\n",
       "      <td>2025-05-28 18:45:00+00:00</td>\n",
       "      <td>cecilia.newsapi.csv</td>\n",
       "    </tr>\n",
       "    <tr>\n",
       "      <th>freq</th>\n",
       "      <td>23</td>\n",
       "      <td>22</td>\n",
       "      <td>22</td>\n",
       "      <td>23</td>\n",
       "      <td>196</td>\n",
       "      <td>23</td>\n",
       "      <td>1787</td>\n",
       "    </tr>\n",
       "  </tbody>\n",
       "</table>\n",
       "</div>"
      ],
      "text/plain": [
       "                                                    title  \\\n",
       "count                                                2638   \n",
       "unique                                               1453   \n",
       "top     Death, Sexual Violence and Human Trafficking: ...   \n",
       "freq                                                   23   \n",
       "\n",
       "                                              description  \\\n",
       "count                                                2622   \n",
       "unique                                               1457   \n",
       "top     Elon Musk first claimed the department would m...   \n",
       "freq                                                   22   \n",
       "\n",
       "                                                     text  \\\n",
       "count                                                2613   \n",
       "unique                                               1445   \n",
       "top     ProPublica is a nonprofit newsroom that invest...   \n",
       "freq                                                   22   \n",
       "\n",
       "                                                      url      keyword  \\\n",
       "count                                                2636         2379   \n",
       "unique                                               1486           30   \n",
       "top     https://www.propublica.org/article/trump-usaid...  foreign aid   \n",
       "freq                                                   23          196   \n",
       "\n",
       "                   published_date          source_file  \n",
       "count                        2539                 2638  \n",
       "unique                       1341                    7  \n",
       "top     2025-05-28 18:45:00+00:00  cecilia.newsapi.csv  \n",
       "freq                           23                 1787  "
      ]
     },
     "execution_count": 72,
     "metadata": {},
     "output_type": "execute_result"
    }
   ],
   "source": [
    "news_df.describe()"
   ]
  },
  {
   "cell_type": "markdown",
   "id": "75d6e2a8",
   "metadata": {},
   "source": [
    "## Data Cleaning"
   ]
  },
  {
   "cell_type": "markdown",
   "id": "2e0c0a4a",
   "metadata": {},
   "source": [
    "### Feature Engineering"
   ]
  },
  {
   "cell_type": "markdown",
   "id": "471f62c6",
   "metadata": {},
   "source": [
    "##### Create column 'time' from 'published_date'"
   ]
  },
  {
   "cell_type": "code",
   "execution_count": 73,
   "id": "a0207b92",
   "metadata": {},
   "outputs": [
    {
     "data": {
      "text/html": [
       "<div>\n",
       "<style scoped>\n",
       "    .dataframe tbody tr th:only-of-type {\n",
       "        vertical-align: middle;\n",
       "    }\n",
       "\n",
       "    .dataframe tbody tr th {\n",
       "        vertical-align: top;\n",
       "    }\n",
       "\n",
       "    .dataframe thead th {\n",
       "        text-align: right;\n",
       "    }\n",
       "</style>\n",
       "<table border=\"1\" class=\"dataframe\">\n",
       "  <thead>\n",
       "    <tr style=\"text-align: right;\">\n",
       "      <th></th>\n",
       "      <th>title</th>\n",
       "      <th>description</th>\n",
       "      <th>text</th>\n",
       "      <th>url</th>\n",
       "      <th>keyword</th>\n",
       "      <th>published_date</th>\n",
       "      <th>source_file</th>\n",
       "      <th>time</th>\n",
       "    </tr>\n",
       "  </thead>\n",
       "  <tbody>\n",
       "    <tr>\n",
       "      <th>0</th>\n",
       "      <td>Has DOGE really saved the US government $180bn?</td>\n",
       "      <td>Elon Musk first claimed the department would m...</td>\n",
       "      <td>President Donald Trump and adviser Elon Musk c...</td>\n",
       "      <td>https://www.aljazeera.com/news/2025/6/6/has-do...</td>\n",
       "      <td>usaid kenya</td>\n",
       "      <td>2025-06-06</td>\n",
       "      <td>Agatha_news.csv</td>\n",
       "      <td>11:21:51</td>\n",
       "    </tr>\n",
       "    <tr>\n",
       "      <th>1</th>\n",
       "      <td>The Life Story of Ecomobilus Technologies Limi...</td>\n",
       "      <td>By Prof Geoffrey Gitau Here is a story showcas...</td>\n",
       "      <td>By Prof Geoffrey Gitau\\r\\nHere is a story show...</td>\n",
       "      <td>https://cleantechnica.com/2025/05/26/the-life-...</td>\n",
       "      <td>usaid kenya</td>\n",
       "      <td>2025-05-26</td>\n",
       "      <td>Agatha_news.csv</td>\n",
       "      <td>17:13:41</td>\n",
       "    </tr>\n",
       "    <tr>\n",
       "      <th>2</th>\n",
       "      <td>Death, Sexual Violence and Human Trafficking: ...</td>\n",
       "      <td>by Brett Murphy and Anna Maria Barry-Jester \\n...</td>\n",
       "      <td>ProPublica is a nonprofit newsroom that invest...</td>\n",
       "      <td>https://www.propublica.org/article/trump-usaid...</td>\n",
       "      <td>usaid kenya</td>\n",
       "      <td>2025-05-28</td>\n",
       "      <td>Agatha_news.csv</td>\n",
       "      <td>18:45:00</td>\n",
       "    </tr>\n",
       "    <tr>\n",
       "      <th>3</th>\n",
       "      <td>Congress Should Quickly Approve Trump’s Rescis...</td>\n",
       "      <td>President Donald Trump‘s rescission legislatio...</td>\n",
       "      <td>President Donald Trumps rescission legislation...</td>\n",
       "      <td>https://www.dailysignal.com/2025/06/10/congres...</td>\n",
       "      <td>usaid kenya</td>\n",
       "      <td>2025-06-10</td>\n",
       "      <td>Agatha_news.csv</td>\n",
       "      <td>12:00:00</td>\n",
       "    </tr>\n",
       "    <tr>\n",
       "      <th>4</th>\n",
       "      <td>Food Safety Depends On Every Link In The Suppl...</td>\n",
       "      <td>Almost 1 in 10 people globally fall ill from c...</td>\n",
       "      <td>Colorful fish and vegetables can be purchased ...</td>\n",
       "      <td>https://www.forbes.com/sites/daniellenierenber...</td>\n",
       "      <td>usaid kenya</td>\n",
       "      <td>2025-06-06</td>\n",
       "      <td>Agatha_news.csv</td>\n",
       "      <td>13:55:41</td>\n",
       "    </tr>\n",
       "  </tbody>\n",
       "</table>\n",
       "</div>"
      ],
      "text/plain": [
       "                                               title  \\\n",
       "0    Has DOGE really saved the US government $180bn?   \n",
       "1  The Life Story of Ecomobilus Technologies Limi...   \n",
       "2  Death, Sexual Violence and Human Trafficking: ...   \n",
       "3  Congress Should Quickly Approve Trump’s Rescis...   \n",
       "4  Food Safety Depends On Every Link In The Suppl...   \n",
       "\n",
       "                                         description  \\\n",
       "0  Elon Musk first claimed the department would m...   \n",
       "1  By Prof Geoffrey Gitau Here is a story showcas...   \n",
       "2  by Brett Murphy and Anna Maria Barry-Jester \\n...   \n",
       "3  President Donald Trump‘s rescission legislatio...   \n",
       "4  Almost 1 in 10 people globally fall ill from c...   \n",
       "\n",
       "                                                text  \\\n",
       "0  President Donald Trump and adviser Elon Musk c...   \n",
       "1  By Prof Geoffrey Gitau\\r\\nHere is a story show...   \n",
       "2  ProPublica is a nonprofit newsroom that invest...   \n",
       "3  President Donald Trumps rescission legislation...   \n",
       "4  Colorful fish and vegetables can be purchased ...   \n",
       "\n",
       "                                                 url      keyword  \\\n",
       "0  https://www.aljazeera.com/news/2025/6/6/has-do...  usaid kenya   \n",
       "1  https://cleantechnica.com/2025/05/26/the-life-...  usaid kenya   \n",
       "2  https://www.propublica.org/article/trump-usaid...  usaid kenya   \n",
       "3  https://www.dailysignal.com/2025/06/10/congres...  usaid kenya   \n",
       "4  https://www.forbes.com/sites/daniellenierenber...  usaid kenya   \n",
       "\n",
       "  published_date      source_file      time  \n",
       "0     2025-06-06  Agatha_news.csv  11:21:51  \n",
       "1     2025-05-26  Agatha_news.csv  17:13:41  \n",
       "2     2025-05-28  Agatha_news.csv  18:45:00  \n",
       "3     2025-06-10  Agatha_news.csv  12:00:00  \n",
       "4     2025-06-06  Agatha_news.csv  13:55:41  "
      ]
     },
     "execution_count": 73,
     "metadata": {},
     "output_type": "execute_result"
    }
   ],
   "source": [
    "# Convert published_date to datetime format\n",
    "news_df['published_date'] = pd.to_datetime(news_df['published_date'])\n",
    "\n",
    "# Extract time into a new column 'time'\n",
    "news_df['time'] = news_df['published_date'].dt.time\n",
    "\n",
    "# Keep only the date (drop the time) in published_date\n",
    "news_df['published_date'] = news_df['published_date'].dt.date\n",
    "\n",
    "# Preview\n",
    "news_df.head()\n"
   ]
  },
  {
   "cell_type": "markdown",
   "id": "6c29aff8",
   "metadata": {},
   "source": [
    "### Dropping Unneccessary Columns"
   ]
  },
  {
   "cell_type": "code",
   "execution_count": 74,
   "id": "d08ee5eb",
   "metadata": {},
   "outputs": [
    {
     "data": {
      "text/html": [
       "<div>\n",
       "<style scoped>\n",
       "    .dataframe tbody tr th:only-of-type {\n",
       "        vertical-align: middle;\n",
       "    }\n",
       "\n",
       "    .dataframe tbody tr th {\n",
       "        vertical-align: top;\n",
       "    }\n",
       "\n",
       "    .dataframe thead th {\n",
       "        text-align: right;\n",
       "    }\n",
       "</style>\n",
       "<table border=\"1\" class=\"dataframe\">\n",
       "  <thead>\n",
       "    <tr style=\"text-align: right;\">\n",
       "      <th></th>\n",
       "      <th>title</th>\n",
       "      <th>description</th>\n",
       "      <th>text</th>\n",
       "      <th>url</th>\n",
       "      <th>keyword</th>\n",
       "      <th>published_date</th>\n",
       "    </tr>\n",
       "  </thead>\n",
       "  <tbody>\n",
       "    <tr>\n",
       "      <th>0</th>\n",
       "      <td>Has DOGE really saved the US government $180bn?</td>\n",
       "      <td>Elon Musk first claimed the department would m...</td>\n",
       "      <td>President Donald Trump and adviser Elon Musk c...</td>\n",
       "      <td>https://www.aljazeera.com/news/2025/6/6/has-do...</td>\n",
       "      <td>usaid kenya</td>\n",
       "      <td>2025-06-06</td>\n",
       "    </tr>\n",
       "    <tr>\n",
       "      <th>1</th>\n",
       "      <td>The Life Story of Ecomobilus Technologies Limi...</td>\n",
       "      <td>By Prof Geoffrey Gitau Here is a story showcas...</td>\n",
       "      <td>By Prof Geoffrey Gitau\\r\\nHere is a story show...</td>\n",
       "      <td>https://cleantechnica.com/2025/05/26/the-life-...</td>\n",
       "      <td>usaid kenya</td>\n",
       "      <td>2025-05-26</td>\n",
       "    </tr>\n",
       "    <tr>\n",
       "      <th>2</th>\n",
       "      <td>Death, Sexual Violence and Human Trafficking: ...</td>\n",
       "      <td>by Brett Murphy and Anna Maria Barry-Jester \\n...</td>\n",
       "      <td>ProPublica is a nonprofit newsroom that invest...</td>\n",
       "      <td>https://www.propublica.org/article/trump-usaid...</td>\n",
       "      <td>usaid kenya</td>\n",
       "      <td>2025-05-28</td>\n",
       "    </tr>\n",
       "    <tr>\n",
       "      <th>3</th>\n",
       "      <td>Congress Should Quickly Approve Trump’s Rescis...</td>\n",
       "      <td>President Donald Trump‘s rescission legislatio...</td>\n",
       "      <td>President Donald Trumps rescission legislation...</td>\n",
       "      <td>https://www.dailysignal.com/2025/06/10/congres...</td>\n",
       "      <td>usaid kenya</td>\n",
       "      <td>2025-06-10</td>\n",
       "    </tr>\n",
       "    <tr>\n",
       "      <th>4</th>\n",
       "      <td>Food Safety Depends On Every Link In The Suppl...</td>\n",
       "      <td>Almost 1 in 10 people globally fall ill from c...</td>\n",
       "      <td>Colorful fish and vegetables can be purchased ...</td>\n",
       "      <td>https://www.forbes.com/sites/daniellenierenber...</td>\n",
       "      <td>usaid kenya</td>\n",
       "      <td>2025-06-06</td>\n",
       "    </tr>\n",
       "  </tbody>\n",
       "</table>\n",
       "</div>"
      ],
      "text/plain": [
       "                                               title  \\\n",
       "0    Has DOGE really saved the US government $180bn?   \n",
       "1  The Life Story of Ecomobilus Technologies Limi...   \n",
       "2  Death, Sexual Violence and Human Trafficking: ...   \n",
       "3  Congress Should Quickly Approve Trump’s Rescis...   \n",
       "4  Food Safety Depends On Every Link In The Suppl...   \n",
       "\n",
       "                                         description  \\\n",
       "0  Elon Musk first claimed the department would m...   \n",
       "1  By Prof Geoffrey Gitau Here is a story showcas...   \n",
       "2  by Brett Murphy and Anna Maria Barry-Jester \\n...   \n",
       "3  President Donald Trump‘s rescission legislatio...   \n",
       "4  Almost 1 in 10 people globally fall ill from c...   \n",
       "\n",
       "                                                text  \\\n",
       "0  President Donald Trump and adviser Elon Musk c...   \n",
       "1  By Prof Geoffrey Gitau\\r\\nHere is a story show...   \n",
       "2  ProPublica is a nonprofit newsroom that invest...   \n",
       "3  President Donald Trumps rescission legislation...   \n",
       "4  Colorful fish and vegetables can be purchased ...   \n",
       "\n",
       "                                                 url      keyword  \\\n",
       "0  https://www.aljazeera.com/news/2025/6/6/has-do...  usaid kenya   \n",
       "1  https://cleantechnica.com/2025/05/26/the-life-...  usaid kenya   \n",
       "2  https://www.propublica.org/article/trump-usaid...  usaid kenya   \n",
       "3  https://www.dailysignal.com/2025/06/10/congres...  usaid kenya   \n",
       "4  https://www.forbes.com/sites/daniellenierenber...  usaid kenya   \n",
       "\n",
       "  published_date  \n",
       "0     2025-06-06  \n",
       "1     2025-05-26  \n",
       "2     2025-05-28  \n",
       "3     2025-06-10  \n",
       "4     2025-06-06  "
      ]
     },
     "execution_count": 74,
     "metadata": {},
     "output_type": "execute_result"
    }
   ],
   "source": [
    "news_df.drop(columns=['source_file', 'time'], inplace=True)\n",
    "news_df.head()\n"
   ]
  },
  {
   "cell_type": "markdown",
   "id": "f1357cca",
   "metadata": {},
   "source": [
    "### Checking for missing values"
   ]
  },
  {
   "cell_type": "code",
   "execution_count": 75,
   "id": "899c5fdc",
   "metadata": {},
   "outputs": [
    {
     "data": {
      "text/plain": [
       "title               0\n",
       "description        16\n",
       "text               25\n",
       "url                 2\n",
       "keyword           259\n",
       "published_date     99\n",
       "dtype: int64"
      ]
     },
     "execution_count": 75,
     "metadata": {},
     "output_type": "execute_result"
    }
   ],
   "source": [
    "news_df.isna().sum() #check for missing values"
   ]
  },
  {
   "cell_type": "code",
   "execution_count": 76,
   "id": "d628d612",
   "metadata": {},
   "outputs": [],
   "source": [
    "# Fill columns with placeholders and empty string\n",
    "news_df['description'].fillna(' ', inplace=True)\n",
    "news_df['text'].fillna(' ', inplace=True)\n",
    "\n",
    "# Drop rows where url, keyword or published_date is missing\n",
    "news_df.dropna(subset=['url', 'published_date','keyword'], inplace=True)\n"
   ]
  },
  {
   "cell_type": "code",
   "execution_count": 77,
   "id": "31237697",
   "metadata": {},
   "outputs": [
    {
     "data": {
      "text/plain": [
       "title             0\n",
       "description       0\n",
       "text              0\n",
       "url               0\n",
       "keyword           0\n",
       "published_date    0\n",
       "dtype: int64"
      ]
     },
     "execution_count": 77,
     "metadata": {},
     "output_type": "execute_result"
    }
   ],
   "source": [
    "news_df.isna().sum() #confirm that there are no more missing values and data has been cleaned well"
   ]
  },
  {
   "cell_type": "code",
   "execution_count": 78,
   "id": "64217185",
   "metadata": {},
   "outputs": [
    {
     "data": {
      "text/plain": [
       "(2379, 6)"
      ]
     },
     "execution_count": 78,
     "metadata": {},
     "output_type": "execute_result"
    }
   ],
   "source": [
    "news_df.shape #check the shape of the data after dealing with missing values. \n",
    "#there is still a good amount of data left, since only around 300 rows were dropped."
   ]
  },
  {
   "cell_type": "markdown",
   "id": "ed02dc83",
   "metadata": {},
   "source": [
    "### Check for duplicates"
   ]
  },
  {
   "cell_type": "code",
   "execution_count": 79,
   "id": "9a51b2d6",
   "metadata": {},
   "outputs": [
    {
     "data": {
      "text/plain": [
       "98"
      ]
     },
     "execution_count": 79,
     "metadata": {},
     "output_type": "execute_result"
    }
   ],
   "source": [
    "news_df.duplicated().sum() #check the number of uplicates in the data"
   ]
  },
  {
   "cell_type": "markdown",
   "id": "4135a724",
   "metadata": {},
   "source": [
    "#### Drop duplicates"
   ]
  },
  {
   "cell_type": "code",
   "execution_count": 80,
   "id": "112624cd",
   "metadata": {},
   "outputs": [],
   "source": [
    "news_df.drop_duplicates(inplace=True) #drop the duplicates"
   ]
  },
  {
   "cell_type": "code",
   "execution_count": 81,
   "id": "d7399d25",
   "metadata": {},
   "outputs": [
    {
     "data": {
      "text/plain": [
       "0"
      ]
     },
     "execution_count": 81,
     "metadata": {},
     "output_type": "execute_result"
    }
   ],
   "source": [
    "news_df.duplicated().sum() #confirm that all duplicates have been dropped, and the data is clean"
   ]
  },
  {
   "cell_type": "code",
   "execution_count": 82,
   "id": "d5901477",
   "metadata": {},
   "outputs": [
    {
     "data": {
      "text/plain": [
       "(2281, 6)"
      ]
     },
     "execution_count": 82,
     "metadata": {},
     "output_type": "execute_result"
    }
   ],
   "source": [
    "news_df.shape #check the new shape of the data"
   ]
  },
  {
   "cell_type": "markdown",
   "id": "4f2e9f71",
   "metadata": {},
   "source": [
    "## Sentiment Analysis Cleaning"
   ]
  },
  {
   "cell_type": "markdown",
   "id": "cb710e10",
   "metadata": {},
   "source": [
    "### Feature Engineering"
   ]
  },
  {
   "cell_type": "markdown",
   "id": "524e255e",
   "metadata": {},
   "source": [
    "Creating a new column 'full_text' byy combining 'title', 'description', 'text' columns and the empty strings used in filling na"
   ]
  },
  {
   "cell_type": "code",
   "execution_count": 83,
   "id": "db110b45",
   "metadata": {},
   "outputs": [
    {
     "data": {
      "text/plain": [
       "'Food Safety Depends On Every Link In The Supply Chain Almost 1 in 10 people globally fall ill from contaminated food every year. Making our food supply safer for communities depends on everyone.Colorful fish and vegetables can be purchased at a public market.\\r\\ngetty\\r\\nFor communities to be nourished, their food supply must be safe to eat.\\r\\nThis sounds obvious, but its worth repeating, becaus… [+4445 chars]'"
      ]
     },
     "execution_count": 83,
     "metadata": {},
     "output_type": "execute_result"
    }
   ],
   "source": [
    "news_df['full_text'] = news_df['title'] + ' ' + news_df['description'] + news_df['text']\n",
    "news_df.iloc[4]['full_text']  #sample check for row number 5"
   ]
  },
  {
   "cell_type": "markdown",
   "id": "e9cf127c",
   "metadata": {},
   "source": [
    "### Lowercasing"
   ]
  },
  {
   "cell_type": "markdown",
   "id": "ae1d4f39",
   "metadata": {},
   "source": [
    "Converting all text to lowercase"
   ]
  },
  {
   "cell_type": "code",
   "execution_count": 84,
   "id": "86c97dbd",
   "metadata": {},
   "outputs": [
    {
     "data": {
      "text/plain": [
       "'food safety depends on every link in the supply chain almost 1 in 10 people globally fall ill from contaminated food every year. making our food supply safer for communities depends on everyone.colorful fish and vegetables can be purchased at a public market.\\r\\ngetty\\r\\nfor communities to be nourished, their food supply must be safe to eat.\\r\\nthis sounds obvious, but its worth repeating, becaus… [+4445 chars]'"
      ]
     },
     "execution_count": 84,
     "metadata": {},
     "output_type": "execute_result"
    }
   ],
   "source": [
    "news_df['full_text'] = news_df['full_text'].str.lower()\n",
    "news_df.iloc[4]['full_text'] #sample check for row number 5 and confirm that all text has been lowercased"
   ]
  },
  {
   "attachments": {},
   "cell_type": "markdown",
   "id": "9eaf02d2",
   "metadata": {},
   "source": [
    "Cleaning the text and remove \\r\\n, backslashes \\, and any similar unwanted characters"
   ]
  },
  {
   "cell_type": "code",
   "execution_count": 85,
   "id": "e22a7944",
   "metadata": {},
   "outputs": [],
   "source": [
    "# Remove \\r, \\n, and backslashes from the 'text' column\n",
    "news_df['full_text'] = news_df['full_text'].str.replace(r'\\r', ' ', regex=True)\n",
    "news_df['full_text'] = news_df['full_text'].str.replace(r'\\n', ' ', regex=True)\n",
    "news_df['full_text'] = news_df['full_text'].str.replace(r'\\\\', '', regex=True)\n"
   ]
  },
  {
   "cell_type": "code",
   "execution_count": 86,
   "id": "096462eb",
   "metadata": {},
   "outputs": [
    {
     "data": {
      "text/plain": [
       "'food safety depends on every link in the supply chain almost 1 in 10 people globally fall ill from contaminated food every year. making our food supply safer for communities depends on everyone.colorful fish and vegetables can be purchased at a public market.  getty  for communities to be nourished, their food supply must be safe to eat.  this sounds obvious, but its worth repeating, becaus… [+4445 chars]'"
      ]
     },
     "execution_count": 86,
     "metadata": {},
     "output_type": "execute_result"
    }
   ],
   "source": [
    "news_df.iloc[4]['full_text']"
   ]
  },
  {
   "cell_type": "markdown",
   "id": "079b59f4",
   "metadata": {},
   "source": [
    "### Translate all text to English"
   ]
  },
  {
   "cell_type": "code",
   "execution_count": 87,
   "id": "98ede0eb",
   "metadata": {},
   "outputs": [
    {
     "data": {
      "text/plain": [
       "en    2281\n",
       "Name: language, dtype: int64"
      ]
     },
     "execution_count": 87,
     "metadata": {},
     "output_type": "execute_result"
    }
   ],
   "source": [
    "from langdetect import detect\n",
    "\n",
    "# Language detection, detect what language the 'full_text' is in\n",
    "news_df['language'] = news_df['full_text'].apply(lambda x: detect(x) if pd.notnull(x) else 'unknown')\n",
    "news_df['language'].value_counts() \n",
    "#from the output, all 2281 rows are in English, so there is no need for translation to English"
   ]
  },
  {
   "cell_type": "markdown",
   "id": "b14354fd",
   "metadata": {},
   "source": [
    "### Removing Punctuation Marks"
   ]
  },
  {
   "cell_type": "code",
   "execution_count": 88,
   "id": "de29db28",
   "metadata": {},
   "outputs": [
    {
     "data": {
      "text/plain": [
       "'food safety depends on every link in the supply chain almost 1 in 10 people globally fall ill from contaminated food every year making our food supply safer for communities depends on everyonecolorful fish and vegetables can be purchased at a public market  getty  for communities to be nourished their food supply must be safe to eat  this sounds obvious but its worth repeating becaus… 4445 chars'"
      ]
     },
     "execution_count": 88,
     "metadata": {},
     "output_type": "execute_result"
    }
   ],
   "source": [
    "import re\n",
    "import string\n",
    "\n",
    "# Function to remove punctuation\n",
    "def remove_punctuation(text):\n",
    "    return re.sub(f\"[{re.escape(string.punctuation)}]\", \"\", str(text))\n",
    "\n",
    "# Apply to the 'full_text' column\n",
    "news_df['full_text'] = news_df['full_text'].apply(remove_punctuation)\n",
    "\n",
    "news_df.iloc[4]['full_text'] #using column 5 as an example to see whether all punctuation marks have been removed and from my observation, all punctuation marks have been removed\n"
   ]
  },
  {
   "cell_type": "markdown",
   "id": "ed8f38da",
   "metadata": {},
   "source": [
    "### Removing Stop Words,Emojis,Non-Emoji Symbols and Lemmatization"
   ]
  },
  {
   "cell_type": "markdown",
   "id": "a3bfc983",
   "metadata": {},
   "source": [
    "Removes emojis and special symbols – Eliminates non-textual elements to reduce noise.\n",
    "\n",
    "Removes stopwords – Discards common words with little meaning to focus on key terms.\n",
    "\n",
    "Lemmatizes words – Converts words to their base forms for standardization.\n"
   ]
  },
  {
   "cell_type": "code",
   "execution_count": 89,
   "id": "4bce94dd",
   "metadata": {},
   "outputs": [
    {
     "name": "stderr",
     "output_type": "stream",
     "text": [
      "[nltk_data] Downloading package stopwords to\n",
      "[nltk_data]     C:\\Users\\hp\\AppData\\Roaming\\nltk_data...\n",
      "[nltk_data]   Package stopwords is already up-to-date!\n",
      "[nltk_data] Downloading package wordnet to\n",
      "[nltk_data]     C:\\Users\\hp\\AppData\\Roaming\\nltk_data...\n",
      "[nltk_data]   Package wordnet is already up-to-date!\n",
      "[nltk_data] Downloading package omw-1.4 to\n",
      "[nltk_data]     C:\\Users\\hp\\AppData\\Roaming\\nltk_data...\n",
      "[nltk_data]   Package omw-1.4 is already up-to-date!\n"
     ]
    },
    {
     "data": {
      "text/plain": [
       "'food safety depends every link supply chain almost 1 10 people globally fall ill contaminated food every year making food supply safer community depends everyonecolorful fish vegetable purchased public market getty community nourished food supply must safe eat sound obvious worth repeating becaus… 4445 char'"
      ]
     },
     "execution_count": 89,
     "metadata": {},
     "output_type": "execute_result"
    }
   ],
   "source": [
    "import re\n",
    "import nltk\n",
    "from nltk.corpus import stopwords\n",
    "from nltk.stem import WordNetLemmatizer\n",
    "\n",
    "# Download NLTK data\n",
    "nltk.download('stopwords')\n",
    "nltk.download('wordnet')\n",
    "nltk.download('omw-1.4')\n",
    "\n",
    "# Initialize stopwords and lemmatizer\n",
    "stop_words = set(stopwords.words('english'))\n",
    "lemmatizer = WordNetLemmatizer()\n",
    "\n",
    "# Function to remove emojis, emoticons, and other symbols\n",
    "def remove_emojis_symbols(text):\n",
    "    emoji_pattern = re.compile(\n",
    "        \"[\"\n",
    "        u\"\\U0001F600-\\U0001F64F\"  # emoticons\n",
    "        u\"\\U0001F300-\\U0001F5FF\"  # symbols & pictographs\n",
    "        u\"\\U0001F680-\\U0001F6FF\"  # transport & map symbols\n",
    "        u\"\\U0001F1E0-\\U0001F1FF\"  # flags\n",
    "        u\"\\U00002700-\\U000027BF\"  # dingbats\n",
    "        u\"\\U0001F900-\\U0001F9FF\"  # supplemental symbols and pictographs\n",
    "        u\"\\U0001FA70-\\U0001FAFF\"  # extended pictographic symbols\n",
    "        u\"\\U00002500-\\U00002BEF\"  # misc symbols\n",
    "        u\"\\U0000200D\"             # zero width joiner\n",
    "        u\"\\u2600-\\u26FF\"          # misc symbols\n",
    "        u\"\\u2700-\\u27BF\"\n",
    "        u\"\\uFE0F\"                 # variation selector\n",
    "        u\"\\u3030\"\n",
    "        u\"\\u00A9\"                 # ©\n",
    "        u\"\\u00AE\"                 # ®\n",
    "        u\"\\u2122\"                 # ™\n",
    "        \"]+\", flags=re.UNICODE)\n",
    "    return emoji_pattern.sub(r'', text)\n",
    "\n",
    "# Final cleaning function\n",
    "def clean_text(text):\n",
    "    text = remove_emojis_symbols(text)\n",
    "    words = text.split()\n",
    "    cleaned_words = [lemmatizer.lemmatize(word) for word in words if word not in stop_words]\n",
    "    return ' '.join(cleaned_words)\n",
    "\n",
    "# Apply to news_df\n",
    "news_df['cleaned_text'] = news_df['full_text'].apply(clean_text) #Stores cleaned text in a new column – Preserves original data while saving processed output.\n",
    "\n",
    "# Preview sample\n",
    "news_df.iloc[4]['cleaned_text']\n"
   ]
  },
  {
   "cell_type": "markdown",
   "id": "dd97f21f",
   "metadata": {},
   "source": [
    "## Tokenization"
   ]
  },
  {
   "cell_type": "code",
   "execution_count": 90,
   "id": "a78d7fd1",
   "metadata": {},
   "outputs": [
    {
     "name": "stderr",
     "output_type": "stream",
     "text": [
      "[nltk_data] Downloading package punkt to\n",
      "[nltk_data]     C:\\Users\\hp\\AppData\\Roaming\\nltk_data...\n",
      "[nltk_data]   Package punkt is already up-to-date!\n"
     ]
    },
    {
     "data": {
      "text/plain": [
       "'may 2025 update every month send email newsletter supporter sharing recent update work publish selected portion newsletter blog make news accessible people visit website key update latest insta…every month send email newsletter supporter sharing recent update work publish selected portion newsletter blog make news accessible people … 3507 char'"
      ]
     },
     "execution_count": 90,
     "metadata": {},
     "output_type": "execute_result"
    }
   ],
   "source": [
    "import nltk\n",
    "from nltk.tokenize import word_tokenize\n",
    "\n",
    "# Download tokenizer data \n",
    "nltk.download('punkt')\n",
    "\n",
    "#  tokenization function\n",
    "def tokenize_text(text):\n",
    "    return word_tokenize(text)\n",
    "\n",
    "# Apply to cleaned text\n",
    "news_df['tokens'] = news_df['cleaned_text'].apply(tokenize_text)\n",
    "\n",
    "# display row number 11\n",
    "news_df[['cleaned_text', 'tokens']].head()\n",
    "news_df.iloc[10]['cleaned_text']"
   ]
  },
  {
   "cell_type": "code",
   "execution_count": 91,
   "id": "a3777c5a",
   "metadata": {},
   "outputs": [
    {
     "data": {
      "text/plain": [
       "['may',\n",
       " '2025',\n",
       " 'update',\n",
       " 'every',\n",
       " 'month',\n",
       " 'send',\n",
       " 'email',\n",
       " 'newsletter',\n",
       " 'supporter',\n",
       " 'sharing',\n",
       " 'recent',\n",
       " 'update',\n",
       " 'work',\n",
       " 'publish',\n",
       " 'selected',\n",
       " 'portion',\n",
       " 'newsletter',\n",
       " 'blog',\n",
       " 'make',\n",
       " 'news',\n",
       " 'accessible',\n",
       " 'people',\n",
       " 'visit',\n",
       " 'website',\n",
       " 'key',\n",
       " 'update',\n",
       " 'latest',\n",
       " 'insta…every',\n",
       " 'month',\n",
       " 'send',\n",
       " 'email',\n",
       " 'newsletter',\n",
       " 'supporter',\n",
       " 'sharing',\n",
       " 'recent',\n",
       " 'update',\n",
       " 'work',\n",
       " 'publish',\n",
       " 'selected',\n",
       " 'portion',\n",
       " 'newsletter',\n",
       " 'blog',\n",
       " 'make',\n",
       " 'news',\n",
       " 'accessible',\n",
       " 'people',\n",
       " '…',\n",
       " '3507',\n",
       " 'char']"
      ]
     },
     "execution_count": 91,
     "metadata": {},
     "output_type": "execute_result"
    }
   ],
   "source": [
    "news_df.iloc[10]['tokens']"
   ]
  },
  {
   "cell_type": "markdown",
   "id": "b34478e4",
   "metadata": {},
   "source": [
    "This code below cleans tokens by:\n",
    "\n",
    "Removing numbers and words like 'char'/'chars',\n",
    "\n",
    "Splitting truncated words containing ellipses (e.g., \"insta...every\" → [\"insta\", \"every\"]),\n",
    "\n",
    "Keeping only clean, meaningful tokens while preserving their order, ensuring it remains readable"
   ]
  },
  {
   "cell_type": "code",
   "execution_count": 92,
   "id": "00da44b5",
   "metadata": {},
   "outputs": [
    {
     "name": "stdout",
     "output_type": "stream",
     "text": [
      "['may', 'update', 'every', 'month', 'send', 'email', 'newsletter', 'supporter', 'sharing', 'recent', 'update', 'work', 'publish', 'selected', 'portion', 'newsletter', 'blog', 'make', 'news', 'accessible', 'people', 'visit', 'website', 'key', 'update', 'latest', 'insta', 'every', 'month', 'send', 'email', 'newsletter', 'supporter', 'sharing', 'recent', 'update', 'work', 'publish', 'selected', 'portion', 'newsletter', 'blog', 'make', 'news', 'accessible', 'people']\n"
     ]
    }
   ],
   "source": [
    "def clean_tokens(tokens):\n",
    "    \"\"\"Remove unwanted tokens including numbers, 'char(s)', and truncated words\"\"\"\n",
    "    cleaned = []\n",
    "    for token in tokens:\n",
    "        # Skip numbers, 'char'/'chars', and standalone ellipses\n",
    "        if token.isdigit() or token in {'char', 'chars', '…'}:\n",
    "            continue\n",
    "        # Fix words with ellipses (e.g., 'insta…every' → 'insta', 'every')\n",
    "        if '…' in token:\n",
    "            parts = [p for p in token.split('…') if p]\n",
    "            cleaned.extend(parts)\n",
    "        else:\n",
    "            cleaned.append(token)\n",
    "    return cleaned\n",
    "\n",
    "# Apply to tokens\n",
    "news_df['cleaned_tokens'] = news_df['tokens'].apply(clean_tokens)\n",
    "\n",
    "# Preview\n",
    "print(news_df.iloc[10]['cleaned_tokens'])"
   ]
  },
  {
   "cell_type": "markdown",
   "id": "a8f1e308",
   "metadata": {},
   "source": [
    "This code below cleans already tokenized text by:\n",
    "\n",
    "Removing numbers and words like 'char'/'chars',\n",
    "\n",
    "Splitting truncated words containing ellipses (e.g., \"insta...every\" → [\"insta\", \"every\"]),\n",
    "\n",
    "Keeping only clean, meaningful tokens while preserving their order, ensuring it remains readable"
   ]
  },
  {
   "cell_type": "code",
   "execution_count": 93,
   "id": "f2470d2a",
   "metadata": {},
   "outputs": [
    {
     "name": "stdout",
     "output_type": "stream",
     "text": [
      "Original: may 2025 updates every month we send an email newsletter to our supporters sharing recent updates from our work we publish selected portions of the newsletter on our blog to make this news more accessible to people who visit our website for key updates from the latest insta…every month we send an email newsletter to our supporters sharing recent updates from our work we publish selected portions of the newsletter on our blog to make this news more accessible to people … 3507 chars\n",
      "Cleaned: may updates every month we send an email newsletter to our supporters sharing recent updates from our work we publish selected portions of the newsletter on our blog to make this news more accessible to people who visit our website for key updates from the latest insta every month we send an email newsletter to our supporters sharing recent updates from our work we publish selected portions of the newsletter on our blog to make this news more accessible to people\n"
     ]
    }
   ],
   "source": [
    "import re\n",
    "\n",
    "def clean_full_text(text):\n",
    "    \"\"\"\n",
    "    Clean raw text by:\n",
    "    1. Removing [NNN chars] or NNN chars patterns\n",
    "    2. Fixing words with ellipses (insta…every → insta every)\n",
    "    3. Removing standalone numbers and 'char'/'chars'\n",
    "    4. Removing standalone ellipses\n",
    "    \"\"\"\n",
    "    # Remove char count patterns\n",
    "    text = re.sub(r\"\\[\\+\\d+\\s*chars\\]|\\d+\\s*chars\", \"\", text)\n",
    "    \n",
    "    # Fix words with ellipses by replacing … with space\n",
    "    text = re.sub(r\"(\\w)…(\\w)\", r\"\\1 \\2\", text)\n",
    "    \n",
    "    # Remove standalone numbers, 'char', 'chars'\n",
    "    text = ' '.join(\n",
    "        word for word in text.split() \n",
    "        if not (word.isdigit() or word in {'char', 'chars'})\n",
    "    )\n",
    "    \n",
    "    # Remove any remaining standalone ellipses\n",
    "    text = text.replace('…', '')\n",
    "    \n",
    "    return text.strip()\n",
    "\n",
    "# Apply to full text column\n",
    "news_df['cleaned_text'] = news_df['full_text'].apply(clean_full_text)\n",
    "\n",
    "# Preview before/after\n",
    "print(\"Original:\", news_df.iloc[10]['full_text'])\n",
    "print(\"Cleaned:\", news_df.iloc[10]['cleaned_text'])"
   ]
  },
  {
   "cell_type": "code",
   "execution_count": 94,
   "id": "061cdfa2",
   "metadata": {},
   "outputs": [
    {
     "data": {
      "text/html": [
       "<div>\n",
       "<style scoped>\n",
       "    .dataframe tbody tr th:only-of-type {\n",
       "        vertical-align: middle;\n",
       "    }\n",
       "\n",
       "    .dataframe tbody tr th {\n",
       "        vertical-align: top;\n",
       "    }\n",
       "\n",
       "    .dataframe thead th {\n",
       "        text-align: right;\n",
       "    }\n",
       "</style>\n",
       "<table border=\"1\" class=\"dataframe\">\n",
       "  <thead>\n",
       "    <tr style=\"text-align: right;\">\n",
       "      <th></th>\n",
       "      <th>title</th>\n",
       "      <th>description</th>\n",
       "      <th>text</th>\n",
       "      <th>url</th>\n",
       "      <th>keyword</th>\n",
       "      <th>published_date</th>\n",
       "      <th>full_text</th>\n",
       "      <th>language</th>\n",
       "      <th>cleaned_text</th>\n",
       "      <th>tokens</th>\n",
       "      <th>cleaned_tokens</th>\n",
       "    </tr>\n",
       "  </thead>\n",
       "  <tbody>\n",
       "    <tr>\n",
       "      <th>0</th>\n",
       "      <td>Has DOGE really saved the US government $180bn?</td>\n",
       "      <td>Elon Musk first claimed the department would m...</td>\n",
       "      <td>President Donald Trump and adviser Elon Musk c...</td>\n",
       "      <td>https://www.aljazeera.com/news/2025/6/6/has-do...</td>\n",
       "      <td>usaid kenya</td>\n",
       "      <td>2025-06-06</td>\n",
       "      <td>has doge really saved the us government 180bn ...</td>\n",
       "      <td>en</td>\n",
       "      <td>has doge really saved the us government 180bn ...</td>\n",
       "      <td>[doge, really, saved, u, government, 180bn, el...</td>\n",
       "      <td>[doge, really, saved, u, government, 180bn, el...</td>\n",
       "    </tr>\n",
       "    <tr>\n",
       "      <th>1</th>\n",
       "      <td>The Life Story of Ecomobilus Technologies Limi...</td>\n",
       "      <td>By Prof Geoffrey Gitau Here is a story showcas...</td>\n",
       "      <td>By Prof Geoffrey Gitau\\r\\nHere is a story show...</td>\n",
       "      <td>https://cleantechnica.com/2025/05/26/the-life-...</td>\n",
       "      <td>usaid kenya</td>\n",
       "      <td>2025-05-26</td>\n",
       "      <td>the life story of ecomobilus technologies limi...</td>\n",
       "      <td>en</td>\n",
       "      <td>the life story of ecomobilus technologies limi...</td>\n",
       "      <td>[life, story, ecomobilus, technology, limited,...</td>\n",
       "      <td>[life, story, ecomobilus, technology, limited,...</td>\n",
       "    </tr>\n",
       "    <tr>\n",
       "      <th>2</th>\n",
       "      <td>Death, Sexual Violence and Human Trafficking: ...</td>\n",
       "      <td>by Brett Murphy and Anna Maria Barry-Jester \\n...</td>\n",
       "      <td>ProPublica is a nonprofit newsroom that invest...</td>\n",
       "      <td>https://www.propublica.org/article/trump-usaid...</td>\n",
       "      <td>usaid kenya</td>\n",
       "      <td>2025-05-28</td>\n",
       "      <td>death sexual violence and human trafficking fa...</td>\n",
       "      <td>en</td>\n",
       "      <td>death sexual violence and human trafficking fa...</td>\n",
       "      <td>[death, sexual, violence, human, trafficking, ...</td>\n",
       "      <td>[death, sexual, violence, human, trafficking, ...</td>\n",
       "    </tr>\n",
       "    <tr>\n",
       "      <th>3</th>\n",
       "      <td>Congress Should Quickly Approve Trump’s Rescis...</td>\n",
       "      <td>President Donald Trump‘s rescission legislatio...</td>\n",
       "      <td>President Donald Trumps rescission legislation...</td>\n",
       "      <td>https://www.dailysignal.com/2025/06/10/congres...</td>\n",
       "      <td>usaid kenya</td>\n",
       "      <td>2025-06-10</td>\n",
       "      <td>congress should quickly approve trump’s rescis...</td>\n",
       "      <td>en</td>\n",
       "      <td>congress should quickly approve trump’s rescis...</td>\n",
       "      <td>[congress, quickly, approve, trump, ’, s, resc...</td>\n",
       "      <td>[congress, quickly, approve, trump, ’, s, resc...</td>\n",
       "    </tr>\n",
       "    <tr>\n",
       "      <th>4</th>\n",
       "      <td>Food Safety Depends On Every Link In The Suppl...</td>\n",
       "      <td>Almost 1 in 10 people globally fall ill from c...</td>\n",
       "      <td>Colorful fish and vegetables can be purchased ...</td>\n",
       "      <td>https://www.forbes.com/sites/daniellenierenber...</td>\n",
       "      <td>usaid kenya</td>\n",
       "      <td>2025-06-06</td>\n",
       "      <td>food safety depends on every link in the suppl...</td>\n",
       "      <td>en</td>\n",
       "      <td>food safety depends on every link in the suppl...</td>\n",
       "      <td>[food, safety, depends, every, link, supply, c...</td>\n",
       "      <td>[food, safety, depends, every, link, supply, c...</td>\n",
       "    </tr>\n",
       "  </tbody>\n",
       "</table>\n",
       "</div>"
      ],
      "text/plain": [
       "                                               title  \\\n",
       "0    Has DOGE really saved the US government $180bn?   \n",
       "1  The Life Story of Ecomobilus Technologies Limi...   \n",
       "2  Death, Sexual Violence and Human Trafficking: ...   \n",
       "3  Congress Should Quickly Approve Trump’s Rescis...   \n",
       "4  Food Safety Depends On Every Link In The Suppl...   \n",
       "\n",
       "                                         description  \\\n",
       "0  Elon Musk first claimed the department would m...   \n",
       "1  By Prof Geoffrey Gitau Here is a story showcas...   \n",
       "2  by Brett Murphy and Anna Maria Barry-Jester \\n...   \n",
       "3  President Donald Trump‘s rescission legislatio...   \n",
       "4  Almost 1 in 10 people globally fall ill from c...   \n",
       "\n",
       "                                                text  \\\n",
       "0  President Donald Trump and adviser Elon Musk c...   \n",
       "1  By Prof Geoffrey Gitau\\r\\nHere is a story show...   \n",
       "2  ProPublica is a nonprofit newsroom that invest...   \n",
       "3  President Donald Trumps rescission legislation...   \n",
       "4  Colorful fish and vegetables can be purchased ...   \n",
       "\n",
       "                                                 url      keyword  \\\n",
       "0  https://www.aljazeera.com/news/2025/6/6/has-do...  usaid kenya   \n",
       "1  https://cleantechnica.com/2025/05/26/the-life-...  usaid kenya   \n",
       "2  https://www.propublica.org/article/trump-usaid...  usaid kenya   \n",
       "3  https://www.dailysignal.com/2025/06/10/congres...  usaid kenya   \n",
       "4  https://www.forbes.com/sites/daniellenierenber...  usaid kenya   \n",
       "\n",
       "  published_date                                          full_text language  \\\n",
       "0     2025-06-06  has doge really saved the us government 180bn ...       en   \n",
       "1     2025-05-26  the life story of ecomobilus technologies limi...       en   \n",
       "2     2025-05-28  death sexual violence and human trafficking fa...       en   \n",
       "3     2025-06-10  congress should quickly approve trump’s rescis...       en   \n",
       "4     2025-06-06  food safety depends on every link in the suppl...       en   \n",
       "\n",
       "                                        cleaned_text  \\\n",
       "0  has doge really saved the us government 180bn ...   \n",
       "1  the life story of ecomobilus technologies limi...   \n",
       "2  death sexual violence and human trafficking fa...   \n",
       "3  congress should quickly approve trump’s rescis...   \n",
       "4  food safety depends on every link in the suppl...   \n",
       "\n",
       "                                              tokens  \\\n",
       "0  [doge, really, saved, u, government, 180bn, el...   \n",
       "1  [life, story, ecomobilus, technology, limited,...   \n",
       "2  [death, sexual, violence, human, trafficking, ...   \n",
       "3  [congress, quickly, approve, trump, ’, s, resc...   \n",
       "4  [food, safety, depends, every, link, supply, c...   \n",
       "\n",
       "                                      cleaned_tokens  \n",
       "0  [doge, really, saved, u, government, 180bn, el...  \n",
       "1  [life, story, ecomobilus, technology, limited,...  \n",
       "2  [death, sexual, violence, human, trafficking, ...  \n",
       "3  [congress, quickly, approve, trump, ’, s, resc...  \n",
       "4  [food, safety, depends, every, link, supply, c...  "
      ]
     },
     "execution_count": 94,
     "metadata": {},
     "output_type": "execute_result"
    }
   ],
   "source": [
    "news_df.head()"
   ]
  },
  {
   "cell_type": "markdown",
   "id": "75d100a2",
   "metadata": {},
   "source": [
    "### Dropping columns ~ language, tokens"
   ]
  },
  {
   "cell_type": "code",
   "execution_count": 95,
   "id": "48473e8f",
   "metadata": {},
   "outputs": [
    {
     "data": {
      "text/html": [
       "<div>\n",
       "<style scoped>\n",
       "    .dataframe tbody tr th:only-of-type {\n",
       "        vertical-align: middle;\n",
       "    }\n",
       "\n",
       "    .dataframe tbody tr th {\n",
       "        vertical-align: top;\n",
       "    }\n",
       "\n",
       "    .dataframe thead th {\n",
       "        text-align: right;\n",
       "    }\n",
       "</style>\n",
       "<table border=\"1\" class=\"dataframe\">\n",
       "  <thead>\n",
       "    <tr style=\"text-align: right;\">\n",
       "      <th></th>\n",
       "      <th>title</th>\n",
       "      <th>description</th>\n",
       "      <th>text</th>\n",
       "      <th>url</th>\n",
       "      <th>keyword</th>\n",
       "      <th>published_date</th>\n",
       "      <th>full_text</th>\n",
       "      <th>cleaned_text</th>\n",
       "      <th>cleaned_tokens</th>\n",
       "    </tr>\n",
       "  </thead>\n",
       "  <tbody>\n",
       "    <tr>\n",
       "      <th>0</th>\n",
       "      <td>Has DOGE really saved the US government $180bn?</td>\n",
       "      <td>Elon Musk first claimed the department would m...</td>\n",
       "      <td>President Donald Trump and adviser Elon Musk c...</td>\n",
       "      <td>https://www.aljazeera.com/news/2025/6/6/has-do...</td>\n",
       "      <td>usaid kenya</td>\n",
       "      <td>2025-06-06</td>\n",
       "      <td>has doge really saved the us government 180bn ...</td>\n",
       "      <td>has doge really saved the us government 180bn ...</td>\n",
       "      <td>[doge, really, saved, u, government, 180bn, el...</td>\n",
       "    </tr>\n",
       "    <tr>\n",
       "      <th>1</th>\n",
       "      <td>The Life Story of Ecomobilus Technologies Limi...</td>\n",
       "      <td>By Prof Geoffrey Gitau Here is a story showcas...</td>\n",
       "      <td>By Prof Geoffrey Gitau\\r\\nHere is a story show...</td>\n",
       "      <td>https://cleantechnica.com/2025/05/26/the-life-...</td>\n",
       "      <td>usaid kenya</td>\n",
       "      <td>2025-05-26</td>\n",
       "      <td>the life story of ecomobilus technologies limi...</td>\n",
       "      <td>the life story of ecomobilus technologies limi...</td>\n",
       "      <td>[life, story, ecomobilus, technology, limited,...</td>\n",
       "    </tr>\n",
       "    <tr>\n",
       "      <th>2</th>\n",
       "      <td>Death, Sexual Violence and Human Trafficking: ...</td>\n",
       "      <td>by Brett Murphy and Anna Maria Barry-Jester \\n...</td>\n",
       "      <td>ProPublica is a nonprofit newsroom that invest...</td>\n",
       "      <td>https://www.propublica.org/article/trump-usaid...</td>\n",
       "      <td>usaid kenya</td>\n",
       "      <td>2025-05-28</td>\n",
       "      <td>death sexual violence and human trafficking fa...</td>\n",
       "      <td>death sexual violence and human trafficking fa...</td>\n",
       "      <td>[death, sexual, violence, human, trafficking, ...</td>\n",
       "    </tr>\n",
       "    <tr>\n",
       "      <th>3</th>\n",
       "      <td>Congress Should Quickly Approve Trump’s Rescis...</td>\n",
       "      <td>President Donald Trump‘s rescission legislatio...</td>\n",
       "      <td>President Donald Trumps rescission legislation...</td>\n",
       "      <td>https://www.dailysignal.com/2025/06/10/congres...</td>\n",
       "      <td>usaid kenya</td>\n",
       "      <td>2025-06-10</td>\n",
       "      <td>congress should quickly approve trump’s rescis...</td>\n",
       "      <td>congress should quickly approve trump’s rescis...</td>\n",
       "      <td>[congress, quickly, approve, trump, ’, s, resc...</td>\n",
       "    </tr>\n",
       "    <tr>\n",
       "      <th>4</th>\n",
       "      <td>Food Safety Depends On Every Link In The Suppl...</td>\n",
       "      <td>Almost 1 in 10 people globally fall ill from c...</td>\n",
       "      <td>Colorful fish and vegetables can be purchased ...</td>\n",
       "      <td>https://www.forbes.com/sites/daniellenierenber...</td>\n",
       "      <td>usaid kenya</td>\n",
       "      <td>2025-06-06</td>\n",
       "      <td>food safety depends on every link in the suppl...</td>\n",
       "      <td>food safety depends on every link in the suppl...</td>\n",
       "      <td>[food, safety, depends, every, link, supply, c...</td>\n",
       "    </tr>\n",
       "  </tbody>\n",
       "</table>\n",
       "</div>"
      ],
      "text/plain": [
       "                                               title  \\\n",
       "0    Has DOGE really saved the US government $180bn?   \n",
       "1  The Life Story of Ecomobilus Technologies Limi...   \n",
       "2  Death, Sexual Violence and Human Trafficking: ...   \n",
       "3  Congress Should Quickly Approve Trump’s Rescis...   \n",
       "4  Food Safety Depends On Every Link In The Suppl...   \n",
       "\n",
       "                                         description  \\\n",
       "0  Elon Musk first claimed the department would m...   \n",
       "1  By Prof Geoffrey Gitau Here is a story showcas...   \n",
       "2  by Brett Murphy and Anna Maria Barry-Jester \\n...   \n",
       "3  President Donald Trump‘s rescission legislatio...   \n",
       "4  Almost 1 in 10 people globally fall ill from c...   \n",
       "\n",
       "                                                text  \\\n",
       "0  President Donald Trump and adviser Elon Musk c...   \n",
       "1  By Prof Geoffrey Gitau\\r\\nHere is a story show...   \n",
       "2  ProPublica is a nonprofit newsroom that invest...   \n",
       "3  President Donald Trumps rescission legislation...   \n",
       "4  Colorful fish and vegetables can be purchased ...   \n",
       "\n",
       "                                                 url      keyword  \\\n",
       "0  https://www.aljazeera.com/news/2025/6/6/has-do...  usaid kenya   \n",
       "1  https://cleantechnica.com/2025/05/26/the-life-...  usaid kenya   \n",
       "2  https://www.propublica.org/article/trump-usaid...  usaid kenya   \n",
       "3  https://www.dailysignal.com/2025/06/10/congres...  usaid kenya   \n",
       "4  https://www.forbes.com/sites/daniellenierenber...  usaid kenya   \n",
       "\n",
       "  published_date                                          full_text  \\\n",
       "0     2025-06-06  has doge really saved the us government 180bn ...   \n",
       "1     2025-05-26  the life story of ecomobilus technologies limi...   \n",
       "2     2025-05-28  death sexual violence and human trafficking fa...   \n",
       "3     2025-06-10  congress should quickly approve trump’s rescis...   \n",
       "4     2025-06-06  food safety depends on every link in the suppl...   \n",
       "\n",
       "                                        cleaned_text  \\\n",
       "0  has doge really saved the us government 180bn ...   \n",
       "1  the life story of ecomobilus technologies limi...   \n",
       "2  death sexual violence and human trafficking fa...   \n",
       "3  congress should quickly approve trump’s rescis...   \n",
       "4  food safety depends on every link in the suppl...   \n",
       "\n",
       "                                      cleaned_tokens  \n",
       "0  [doge, really, saved, u, government, 180bn, el...  \n",
       "1  [life, story, ecomobilus, technology, limited,...  \n",
       "2  [death, sexual, violence, human, trafficking, ...  \n",
       "3  [congress, quickly, approve, trump, ’, s, resc...  \n",
       "4  [food, safety, depends, every, link, supply, c...  "
      ]
     },
     "execution_count": 95,
     "metadata": {},
     "output_type": "execute_result"
    }
   ],
   "source": [
    "news_df.drop(columns=['language','tokens'],inplace=True)\n",
    "news_df.head()"
   ]
  },
  {
   "cell_type": "code",
   "execution_count": 96,
   "id": "52abf814",
   "metadata": {},
   "outputs": [
    {
     "data": {
      "text/plain": [
       "['may',\n",
       " 'update',\n",
       " 'every',\n",
       " 'month',\n",
       " 'send',\n",
       " 'email',\n",
       " 'newsletter',\n",
       " 'supporter',\n",
       " 'sharing',\n",
       " 'recent',\n",
       " 'update',\n",
       " 'work',\n",
       " 'publish',\n",
       " 'selected',\n",
       " 'portion',\n",
       " 'newsletter',\n",
       " 'blog',\n",
       " 'make',\n",
       " 'news',\n",
       " 'accessible',\n",
       " 'people',\n",
       " 'visit',\n",
       " 'website',\n",
       " 'key',\n",
       " 'update',\n",
       " 'latest',\n",
       " 'insta',\n",
       " 'every',\n",
       " 'month',\n",
       " 'send',\n",
       " 'email',\n",
       " 'newsletter',\n",
       " 'supporter',\n",
       " 'sharing',\n",
       " 'recent',\n",
       " 'update',\n",
       " 'work',\n",
       " 'publish',\n",
       " 'selected',\n",
       " 'portion',\n",
       " 'newsletter',\n",
       " 'blog',\n",
       " 'make',\n",
       " 'news',\n",
       " 'accessible',\n",
       " 'people']"
      ]
     },
     "execution_count": 96,
     "metadata": {},
     "output_type": "execute_result"
    }
   ],
   "source": [
    "news_df.iloc[10]['cleaned_tokens']"
   ]
  },
  {
   "cell_type": "code",
   "execution_count": 97,
   "id": "439a6fce",
   "metadata": {},
   "outputs": [
    {
     "data": {
      "text/plain": [
       "(2281, 9)"
      ]
     },
     "execution_count": 97,
     "metadata": {},
     "output_type": "execute_result"
    }
   ],
   "source": [
    "news_df.shape"
   ]
  },
  {
   "cell_type": "markdown",
   "id": "122d69d8",
   "metadata": {},
   "source": [
    "## Exploratory Data Analysis"
   ]
  },
  {
   "cell_type": "code",
   "execution_count": null,
   "id": "81a37812",
   "metadata": {},
   "outputs": [],
   "source": []
  }
 ],
 "metadata": {
  "kernelspec": {
   "display_name": "Python 3 (ipykernel)",
   "language": "python",
   "name": "python3"
  },
  "language_info": {
   "codemirror_mode": {
    "name": "ipython",
    "version": 3
   },
   "file_extension": ".py",
   "mimetype": "text/x-python",
   "name": "python",
   "nbconvert_exporter": "python",
   "pygments_lexer": "ipython3",
   "version": "3.9.7"
  }
 },
 "nbformat": 4,
 "nbformat_minor": 5
}
