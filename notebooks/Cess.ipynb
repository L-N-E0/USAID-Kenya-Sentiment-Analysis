{
 "cells": [
  {
   "cell_type": "markdown",
   "id": "962045ac",
   "metadata": {},
   "source": [
    "# USAID-Kenya-Sentiment-Analysis"
   ]
  },
  {
   "cell_type": "code",
   "execution_count": 1,
   "id": "d54b44fc",
   "metadata": {},
   "outputs": [],
   "source": [
    "import pandas as pd\n"
   ]
  },
  {
   "cell_type": "markdown",
   "id": "df9da475",
   "metadata": {},
   "source": [
    "## Reading CSV Files"
   ]
  },
  {
   "cell_type": "markdown",
   "id": "dbe52f37",
   "metadata": {},
   "source": [
    "### Reddit CSV Files"
   ]
  },
  {
   "cell_type": "code",
   "execution_count": 2,
   "id": "956d9b55",
   "metadata": {},
   "outputs": [
    {
     "data": {
      "text/html": [
       "<div>\n",
       "<style scoped>\n",
       "    .dataframe tbody tr th:only-of-type {\n",
       "        vertical-align: middle;\n",
       "    }\n",
       "\n",
       "    .dataframe tbody tr th {\n",
       "        vertical-align: top;\n",
       "    }\n",
       "\n",
       "    .dataframe thead th {\n",
       "        text-align: right;\n",
       "    }\n",
       "</style>\n",
       "<table border=\"1\" class=\"dataframe\">\n",
       "  <thead>\n",
       "    <tr style=\"text-align: right;\">\n",
       "      <th></th>\n",
       "      <th>subreddit</th>\n",
       "      <th>keyword</th>\n",
       "      <th>title</th>\n",
       "      <th>text</th>\n",
       "      <th>date_posted</th>\n",
       "      <th>upvotes</th>\n",
       "      <th>comments</th>\n",
       "      <th>url</th>\n",
       "      <th>permalink</th>\n",
       "    </tr>\n",
       "  </thead>\n",
       "  <tbody>\n",
       "    <tr>\n",
       "      <th>0</th>\n",
       "      <td>Kenya</td>\n",
       "      <td>donors</td>\n",
       "      <td>Dear Gentle Readers</td>\n",
       "      <td>Good morning my gentle readers\\n\\nToday I have...</td>\n",
       "      <td>2025-05-30</td>\n",
       "      <td>61</td>\n",
       "      <td>74</td>\n",
       "      <td>https://www.reddit.com/r/Kenya/comments/1kyxeb...</td>\n",
       "      <td>https://reddit.com/r/Kenya/comments/1kyxebr/de...</td>\n",
       "    </tr>\n",
       "    <tr>\n",
       "      <th>1</th>\n",
       "      <td>Kenya</td>\n",
       "      <td>USAID, USAID Repercussions</td>\n",
       "      <td>USAID Repercussions + Economy</td>\n",
       "      <td>My neighbour’s wife was a very big shot in USA...</td>\n",
       "      <td>2025-05-14</td>\n",
       "      <td>14</td>\n",
       "      <td>33</td>\n",
       "      <td>https://www.reddit.com/r/Kenya/comments/1kmhn8...</td>\n",
       "      <td>https://reddit.com/r/Kenya/comments/1kmhn87/us...</td>\n",
       "    </tr>\n",
       "    <tr>\n",
       "      <th>2</th>\n",
       "      <td>Kenya</td>\n",
       "      <td>Trump cuts</td>\n",
       "      <td>Bill Gates 'horrified' by Trump cuts to US aid...</td>\n",
       "      <td>NaN</td>\n",
       "      <td>2025-05-08</td>\n",
       "      <td>1</td>\n",
       "      <td>1</td>\n",
       "      <td>https://www.semafor.com/article/05/08/2025/bil...</td>\n",
       "      <td>https://reddit.com/r/Kenya/comments/1khpakg/bi...</td>\n",
       "    </tr>\n",
       "    <tr>\n",
       "      <th>3</th>\n",
       "      <td>Kenya</td>\n",
       "      <td>foreign aid, foreign aid</td>\n",
       "      <td>Foreign aid/Philanthropy</td>\n",
       "      <td>I see the aid or philanthropic activities that...</td>\n",
       "      <td>2025-04-27</td>\n",
       "      <td>1</td>\n",
       "      <td>0</td>\n",
       "      <td>https://www.reddit.com/r/Kenya/comments/1k91v5...</td>\n",
       "      <td>https://reddit.com/r/Kenya/comments/1k91v58/fo...</td>\n",
       "    </tr>\n",
       "    <tr>\n",
       "      <th>4</th>\n",
       "      <td>Kenya</td>\n",
       "      <td>USAID</td>\n",
       "      <td>USAID left a month ago, do we have ARVs in Kenya?</td>\n",
       "      <td>Someone on a different group (different websit...</td>\n",
       "      <td>2025-04-15</td>\n",
       "      <td>3</td>\n",
       "      <td>5</td>\n",
       "      <td>https://www.reddit.com/r/Kenya/comments/1jzrn2...</td>\n",
       "      <td>https://reddit.com/r/Kenya/comments/1jzrn2s/us...</td>\n",
       "    </tr>\n",
       "  </tbody>\n",
       "</table>\n",
       "</div>"
      ],
      "text/plain": [
       "  subreddit                     keyword  \\\n",
       "0     Kenya                      donors   \n",
       "1     Kenya  USAID, USAID Repercussions   \n",
       "2     Kenya                  Trump cuts   \n",
       "3     Kenya    foreign aid, foreign aid   \n",
       "4     Kenya                       USAID   \n",
       "\n",
       "                                               title  \\\n",
       "0                                Dear Gentle Readers   \n",
       "1                      USAID Repercussions + Economy   \n",
       "2  Bill Gates 'horrified' by Trump cuts to US aid...   \n",
       "3                           Foreign aid/Philanthropy   \n",
       "4  USAID left a month ago, do we have ARVs in Kenya?   \n",
       "\n",
       "                                                text date_posted  upvotes  \\\n",
       "0  Good morning my gentle readers\\n\\nToday I have...  2025-05-30       61   \n",
       "1  My neighbour’s wife was a very big shot in USA...  2025-05-14       14   \n",
       "2                                                NaN  2025-05-08        1   \n",
       "3  I see the aid or philanthropic activities that...  2025-04-27        1   \n",
       "4  Someone on a different group (different websit...  2025-04-15        3   \n",
       "\n",
       "   comments                                                url  \\\n",
       "0        74  https://www.reddit.com/r/Kenya/comments/1kyxeb...   \n",
       "1        33  https://www.reddit.com/r/Kenya/comments/1kmhn8...   \n",
       "2         1  https://www.semafor.com/article/05/08/2025/bil...   \n",
       "3         0  https://www.reddit.com/r/Kenya/comments/1k91v5...   \n",
       "4         5  https://www.reddit.com/r/Kenya/comments/1jzrn2...   \n",
       "\n",
       "                                           permalink  \n",
       "0  https://reddit.com/r/Kenya/comments/1kyxebr/de...  \n",
       "1  https://reddit.com/r/Kenya/comments/1kmhn87/us...  \n",
       "2  https://reddit.com/r/Kenya/comments/1khpakg/bi...  \n",
       "3  https://reddit.com/r/Kenya/comments/1k91v58/fo...  \n",
       "4  https://reddit.com/r/Kenya/comments/1jzrn2s/us...  "
      ]
     },
     "execution_count": 2,
     "metadata": {},
     "output_type": "execute_result"
    }
   ],
   "source": [
    "reddit_df = pd.read_csv('C:/Users/hp/Desktop/DATA NEXUS PROJECTS/USAID-Kenya-Sentiment-Analysis/data/raw/reddit_data/cecilia.redditsubs.csv')\n",
    "reddit_df.head()"
   ]
  },
  {
   "cell_type": "code",
   "execution_count": 3,
   "id": "0f15ce52",
   "metadata": {},
   "outputs": [
    {
     "data": {
      "text/html": [
       "<div>\n",
       "<style scoped>\n",
       "    .dataframe tbody tr th:only-of-type {\n",
       "        vertical-align: middle;\n",
       "    }\n",
       "\n",
       "    .dataframe tbody tr th {\n",
       "        vertical-align: top;\n",
       "    }\n",
       "\n",
       "    .dataframe thead th {\n",
       "        text-align: right;\n",
       "    }\n",
       "</style>\n",
       "<table border=\"1\" class=\"dataframe\">\n",
       "  <thead>\n",
       "    <tr style=\"text-align: right;\">\n",
       "      <th></th>\n",
       "      <th>subreddit</th>\n",
       "      <th>keyword</th>\n",
       "      <th>title</th>\n",
       "      <th>text</th>\n",
       "      <th>date_posted</th>\n",
       "      <th>upvotes</th>\n",
       "      <th>comments</th>\n",
       "      <th>url</th>\n",
       "      <th>permalink</th>\n",
       "    </tr>\n",
       "  </thead>\n",
       "  <tbody>\n",
       "    <tr>\n",
       "      <th>242</th>\n",
       "      <td>news</td>\n",
       "      <td>foreign aid, foreign aid</td>\n",
       "      <td>Supreme Court rejects Trump’s request to keep ...</td>\n",
       "      <td>NaN</td>\n",
       "      <td>2025-03-05</td>\n",
       "      <td>22208</td>\n",
       "      <td>542</td>\n",
       "      <td>https://www.cnn.com/2025/03/05/politics/suprem...</td>\n",
       "      <td>https://reddit.com/r/news/comments/1j44611/sup...</td>\n",
       "    </tr>\n",
       "    <tr>\n",
       "      <th>243</th>\n",
       "      <td>news</td>\n",
       "      <td>foreign aid, foreign aid</td>\n",
       "      <td>US Supreme Court allows Trump's freeze of fore...</td>\n",
       "      <td>NaN</td>\n",
       "      <td>2025-02-27</td>\n",
       "      <td>414</td>\n",
       "      <td>50</td>\n",
       "      <td>https://www.reuters.com/legal/trump-administra...</td>\n",
       "      <td>https://reddit.com/r/news/comments/1izqtc5/us_...</td>\n",
       "    </tr>\n",
       "    <tr>\n",
       "      <th>244</th>\n",
       "      <td>news</td>\n",
       "      <td>foreign aid, foreign aid</td>\n",
       "      <td>Judge orders temporary end to freeze on foreig...</td>\n",
       "      <td>NaN</td>\n",
       "      <td>2025-02-15</td>\n",
       "      <td>840</td>\n",
       "      <td>20</td>\n",
       "      <td>https://rollcall.com/2025/02/14/judge-orders-t...</td>\n",
       "      <td>https://reddit.com/r/news/comments/1ipupxx/jud...</td>\n",
       "    </tr>\n",
       "    <tr>\n",
       "      <th>245</th>\n",
       "      <td>news</td>\n",
       "      <td>foreign aid, foreign aid</td>\n",
       "      <td>Judge orders Trump administration to temporari...</td>\n",
       "      <td>NaN</td>\n",
       "      <td>2025-02-14</td>\n",
       "      <td>1043</td>\n",
       "      <td>64</td>\n",
       "      <td>https://www.nbcnews.com/politics/politics-news...</td>\n",
       "      <td>https://reddit.com/r/news/comments/1ip2bkq/jud...</td>\n",
       "    </tr>\n",
       "    <tr>\n",
       "      <th>246</th>\n",
       "      <td>news</td>\n",
       "      <td>foreign aid, foreign aid</td>\n",
       "      <td>Health Programs Shutter Around the World After...</td>\n",
       "      <td>NaN</td>\n",
       "      <td>2025-02-02</td>\n",
       "      <td>2445</td>\n",
       "      <td>130</td>\n",
       "      <td>https://www.nytimes.com/2025/02/01/health/trum...</td>\n",
       "      <td>https://reddit.com/r/news/comments/1ifo6sz/hea...</td>\n",
       "    </tr>\n",
       "  </tbody>\n",
       "</table>\n",
       "</div>"
      ],
      "text/plain": [
       "    subreddit                   keyword  \\\n",
       "242      news  foreign aid, foreign aid   \n",
       "243      news  foreign aid, foreign aid   \n",
       "244      news  foreign aid, foreign aid   \n",
       "245      news  foreign aid, foreign aid   \n",
       "246      news  foreign aid, foreign aid   \n",
       "\n",
       "                                                 title text date_posted  \\\n",
       "242  Supreme Court rejects Trump’s request to keep ...  NaN  2025-03-05   \n",
       "243  US Supreme Court allows Trump's freeze of fore...  NaN  2025-02-27   \n",
       "244  Judge orders temporary end to freeze on foreig...  NaN  2025-02-15   \n",
       "245  Judge orders Trump administration to temporari...  NaN  2025-02-14   \n",
       "246  Health Programs Shutter Around the World After...  NaN  2025-02-02   \n",
       "\n",
       "     upvotes  comments                                                url  \\\n",
       "242    22208       542  https://www.cnn.com/2025/03/05/politics/suprem...   \n",
       "243      414        50  https://www.reuters.com/legal/trump-administra...   \n",
       "244      840        20  https://rollcall.com/2025/02/14/judge-orders-t...   \n",
       "245     1043        64  https://www.nbcnews.com/politics/politics-news...   \n",
       "246     2445       130  https://www.nytimes.com/2025/02/01/health/trum...   \n",
       "\n",
       "                                             permalink  \n",
       "242  https://reddit.com/r/news/comments/1j44611/sup...  \n",
       "243  https://reddit.com/r/news/comments/1izqtc5/us_...  \n",
       "244  https://reddit.com/r/news/comments/1ipupxx/jud...  \n",
       "245  https://reddit.com/r/news/comments/1ip2bkq/jud...  \n",
       "246  https://reddit.com/r/news/comments/1ifo6sz/hea...  "
      ]
     },
     "execution_count": 3,
     "metadata": {},
     "output_type": "execute_result"
    }
   ],
   "source": [
    "reddit_df.tail()"
   ]
  },
  {
   "cell_type": "code",
   "execution_count": 4,
   "id": "821fedde",
   "metadata": {},
   "outputs": [
    {
     "name": "stdout",
     "output_type": "stream",
     "text": [
      "<class 'pandas.core.frame.DataFrame'>\n",
      "RangeIndex: 247 entries, 0 to 246\n",
      "Data columns (total 9 columns):\n",
      " #   Column       Non-Null Count  Dtype \n",
      "---  ------       --------------  ----- \n",
      " 0   subreddit    247 non-null    object\n",
      " 1   keyword      247 non-null    object\n",
      " 2   title        247 non-null    object\n",
      " 3   text         107 non-null    object\n",
      " 4   date_posted  247 non-null    object\n",
      " 5   upvotes      247 non-null    int64 \n",
      " 6   comments     247 non-null    int64 \n",
      " 7   url          247 non-null    object\n",
      " 8   permalink    247 non-null    object\n",
      "dtypes: int64(2), object(7)\n",
      "memory usage: 17.5+ KB\n"
     ]
    }
   ],
   "source": [
    "reddit_df.info()"
   ]
  },
  {
   "cell_type": "code",
   "execution_count": 5,
   "id": "35a594ac",
   "metadata": {},
   "outputs": [
    {
     "data": {
      "text/plain": [
       "Index(['subreddit', 'keyword', 'title', 'text', 'date_posted', 'upvotes',\n",
       "       'comments', 'url', 'permalink'],\n",
       "      dtype='object')"
      ]
     },
     "execution_count": 5,
     "metadata": {},
     "output_type": "execute_result"
    }
   ],
   "source": [
    "reddit_df.columns"
   ]
  },
  {
   "cell_type": "markdown",
   "id": "1fb0fece",
   "metadata": {},
   "source": [
    "**Column description**\n",
    "\n",
    "subreddit: The community name \n",
    "\n",
    "keyword: Topic keywords\n",
    "\n",
    "title: Post title\n",
    "\n",
    "text: Main post content \n",
    "\n",
    "date_posted: When it was posted\n",
    "\n",
    "upvotes: Number of upvotes\n",
    "\n",
    "comments: Number of comments\n",
    "\n",
    "url: Link to external content\n",
    "\n",
    "permalink: Link to the Reddit post"
   ]
  },
  {
   "cell_type": "code",
   "execution_count": 6,
   "id": "468714ba",
   "metadata": {},
   "outputs": [
    {
     "data": {
      "text/plain": [
       "(247, 9)"
      ]
     },
     "execution_count": 6,
     "metadata": {},
     "output_type": "execute_result"
    }
   ],
   "source": [
    "reddit_df.shape"
   ]
  },
  {
   "cell_type": "markdown",
   "id": "38448264",
   "metadata": {},
   "source": [
    "#### Data Cleaning"
   ]
  },
  {
   "cell_type": "code",
   "execution_count": 7,
   "id": "96b6cb5f",
   "metadata": {},
   "outputs": [
    {
     "data": {
      "text/plain": [
       "31     \\nThere is a tendency to over-exaggerate the p...\n",
       "235                                                  NaN\n",
       "129                                                  NaN\n",
       "159                                                  NaN\n",
       "155                                                  NaN\n",
       "112    It seems like no one is suing the Trump admini...\n",
       "80     Some USAID-funded DIV firms in Kenya also on t...\n",
       "126                                                  NaN\n",
       "134                                                  NaN\n",
       "203                                                  NaN\n",
       "132                                                  NaN\n",
       "30     I see the aid or philanthropic activities that...\n",
       "121                                                  NaN\n",
       "16     With the recent USAID cuts, I knew we  might g...\n",
       "125                                                  NaN\n",
       "59                                                   NaN\n",
       "100    Hi, I hope it's okay to post this here. I made...\n",
       "69                                                   NaN\n",
       "238    I’m curious, because on one hand, this faction...\n",
       "213                                                  NaN\n",
       "Name: text, dtype: object"
      ]
     },
     "execution_count": 7,
     "metadata": {},
     "output_type": "execute_result"
    }
   ],
   "source": [
    "reddit_df['text'].sample(20)"
   ]
  },
  {
   "cell_type": "code",
   "execution_count": 8,
   "id": "e28c4d0c",
   "metadata": {},
   "outputs": [
    {
     "name": "stdout",
     "output_type": "stream",
     "text": [
      "My neighbour’s wife was a very big shot in USAID and has now lost her job. Children have been removed from big private school. Husband is a big guy at PWC. Lifestyle changes are occurring rapidly as her income has vanished. Thousands of her USAID coworkers were sent home with no salaries. \n",
      "\n",
      "USAID Vendors, contractors, non-profits that received funding from them have all been left in a lurch. Sasa machozi zimeanza. \n",
      "\n",
      "Next is empty apartments around “high class” areas.\n",
      "\n",
      "UN is laying people off left right and center.\n",
      "\n",
      "Additionally, public assistance programs in the Europe and America are being slashed so remittances by a certain sector are falling.\n",
      "\n",
      "If you think things are hard, ngojeni mpaka December. A lot of your highlife hotspots are about to close. A lot of these restaurants are about to close. \n",
      "\n",
      "Crime shall return so please rudini mashambani mulime.\n",
      "\n",
      "Avoid Mombasa, Lamu and malls.\n",
      "\n",
      "\n",
      "\n"
     ]
    }
   ],
   "source": [
    "example = reddit_df['text'][1]\n",
    "print(example)"
   ]
  },
  {
   "cell_type": "code",
   "execution_count": 9,
   "id": "84be1972",
   "metadata": {},
   "outputs": [
    {
     "data": {
      "text/plain": [
       "0     Good morning my gentle readers\\n\\nToday I have...\n",
       "1     My neighbour’s wife was a very big shot in USA...\n",
       "2                                               MISSING\n",
       "3     I see the aid or philanthropic activities that...\n",
       "4     Someone on a different group (different websit...\n",
       "5     The classism I'm seeing in both subs is a good...\n",
       "6     For the experts in matters economy and finance...\n",
       "7     Are you still in contact with the organisation...\n",
       "8     \\nThere is a tendency to over-exaggerate the p...\n",
       "9     Africa’s economic future is being redefined by...\n",
       "10    I don't care what good book you read, but it's...\n",
       "11    There's this video on YouTube https://youtu.be...\n",
       "12    How is kenya prepared to fill the vacuum of US...\n",
       "13    Guys with the recent halting of funds for HIV,...\n",
       "14    At first glance, BRICS, the rise of the AfD, T...\n",
       "15    Hi, I have been thinking how are the guys that...\n",
       "16    With the recent USAID cuts, I knew we  might g...\n",
       "17                                              MISSING\n",
       "18    I have just watched the MP of Homa Bay defendi...\n",
       "19    My neighbour’s wife was a very big shot in USA...\n",
       "20    Someone on a different group (different websit...\n",
       "21    The classism I'm seeing in both subs is a good...\n",
       "22    Are you still in contact with the organisation...\n",
       "23    I don't care what good book you read, but it's...\n",
       "24    How is kenya prepared to fill the vacuum of US...\n",
       "25    I have just watched the MP of Homa Bay defendi...\n",
       "26    many people don't know how USAID made many Ken...\n",
       "27    Sijui  niite bahati ama kuponea chupu chupu. N...\n",
       "28                                              MISSING\n",
       "29    I have seen this claim being thrown around cas...\n",
       "30    I see the aid or philanthropic activities that...\n",
       "31    \\nThere is a tendency to over-exaggerate the p...\n",
       "32    Africa’s economic future is being redefined by...\n",
       "33    Sijui  niite bahati ama kuponea chupu chupu. N...\n",
       "34                                              MISSING\n",
       "35    Has anybody here been affected by this? \\nI kn...\n",
       "36    What is the point of being an independent nati...\n",
       "37                      You can't make these stuff up! \n",
       "38    I was talking to my South Sudanese friend yest...\n",
       "39    Let's face it, since last year August; a lot o...\n",
       "Name: text, dtype: object"
      ]
     },
     "execution_count": 9,
     "metadata": {},
     "output_type": "execute_result"
    }
   ],
   "source": [
    "#fill in missing text with 'missing' instead of dropping NaN\n",
    "reddit_df['text'] = reddit_df['text'].fillna('MISSING')\n",
    "reddit_df['text'].head(40)"
   ]
  },
  {
   "cell_type": "code",
   "execution_count": 10,
   "id": "cb6b3e52",
   "metadata": {},
   "outputs": [
    {
     "data": {
      "text/plain": [
       "False    232\n",
       "True      15\n",
       "dtype: int64"
      ]
     },
     "execution_count": 10,
     "metadata": {},
     "output_type": "execute_result"
    }
   ],
   "source": [
    "#check for duplicates\n",
    "reddit_df.duplicated().value_counts()"
   ]
  },
  {
   "cell_type": "markdown",
   "id": "bf429dda",
   "metadata": {},
   "source": [
    "#### Cleaning text"
   ]
  },
  {
   "cell_type": "code",
   "execution_count": 11,
   "id": "f1aeae95",
   "metadata": {},
   "outputs": [],
   "source": [
    "def clean_text(text):\n",
    "    if not isinstance(text, str):\n",
    "        return text\n",
    "    \n",
    "    # Remove extra whitespace\n",
    "    text = ' '.join(text.split())\n",
    "    \n",
    "    # Replace line breaks with space\n",
    "    text = text.replace('\\n', ' ')\n",
    "    \n",
    "    # Remove special Reddit characters\n",
    "    text = text.replace('&amp;', '&')\n",
    "    text = text.replace('&gt;', '>')\n",
    "    text = text.replace('&lt;', '<')\n",
    "    \n",
    "    return text.strip()\n",
    "\n",
    "# Apply to both title and text columns\n",
    "reddit_df['title'] = reddit_df['title'].apply(clean_text)\n",
    "reddit_df['text'] = reddit_df['text'].apply(clean_text)"
   ]
  },
  {
   "cell_type": "code",
   "execution_count": 12,
   "id": "327496db",
   "metadata": {},
   "outputs": [
    {
     "data": {
      "text/plain": [
       "0     Good morning my gentle readers Today I have a ...\n",
       "1     My neighbour’s wife was a very big shot in USA...\n",
       "2                                               MISSING\n",
       "3     I see the aid or philanthropic activities that...\n",
       "4     Someone on a different group (different websit...\n",
       "5     The classism I'm seeing in both subs is a good...\n",
       "6     For the experts in matters economy and finance...\n",
       "7     Are you still in contact with the organisation...\n",
       "8     There is a tendency to over-exaggerate the pre...\n",
       "9     Africa’s economic future is being redefined by...\n",
       "10    I don't care what good book you read, but it's...\n",
       "11    There's this video on YouTube https://youtu.be...\n",
       "12    How is kenya prepared to fill the vacuum of US...\n",
       "13    Guys with the recent halting of funds for HIV,...\n",
       "14    At first glance, BRICS, the rise of the AfD, T...\n",
       "15    Hi, I have been thinking how are the guys that...\n",
       "16    With the recent USAID cuts, I knew we might ge...\n",
       "17                                              MISSING\n",
       "18    I have just watched the MP of Homa Bay defendi...\n",
       "19    My neighbour’s wife was a very big shot in USA...\n",
       "20    Someone on a different group (different websit...\n",
       "21    The classism I'm seeing in both subs is a good...\n",
       "22    Are you still in contact with the organisation...\n",
       "23    I don't care what good book you read, but it's...\n",
       "24    How is kenya prepared to fill the vacuum of US...\n",
       "25    I have just watched the MP of Homa Bay defendi...\n",
       "26    many people don't know how USAID made many Ken...\n",
       "27    Sijui niite bahati ama kuponea chupu chupu. Ni...\n",
       "28                                              MISSING\n",
       "29    I have seen this claim being thrown around cas...\n",
       "30    I see the aid or philanthropic activities that...\n",
       "31    There is a tendency to over-exaggerate the pre...\n",
       "32    Africa’s economic future is being redefined by...\n",
       "33    Sijui niite bahati ama kuponea chupu chupu. Ni...\n",
       "34                                              MISSING\n",
       "35    Has anybody here been affected by this? I know...\n",
       "36    What is the point of being an independent nati...\n",
       "37                       You can't make these stuff up!\n",
       "38    I was talking to my South Sudanese friend yest...\n",
       "39    Let's face it, since last year August; a lot o...\n",
       "Name: text, dtype: object"
      ]
     },
     "execution_count": 12,
     "metadata": {},
     "output_type": "execute_result"
    }
   ],
   "source": [
    "reddit_df['text'].head(40)"
   ]
  },
  {
   "cell_type": "code",
   "execution_count": 13,
   "id": "b71446c5",
   "metadata": {},
   "outputs": [
    {
     "data": {
      "text/html": [
       "<div>\n",
       "<style scoped>\n",
       "    .dataframe tbody tr th:only-of-type {\n",
       "        vertical-align: middle;\n",
       "    }\n",
       "\n",
       "    .dataframe tbody tr th {\n",
       "        vertical-align: top;\n",
       "    }\n",
       "\n",
       "    .dataframe thead th {\n",
       "        text-align: right;\n",
       "    }\n",
       "</style>\n",
       "<table border=\"1\" class=\"dataframe\">\n",
       "  <thead>\n",
       "    <tr style=\"text-align: right;\">\n",
       "      <th></th>\n",
       "      <th>subreddit</th>\n",
       "      <th>keyword</th>\n",
       "      <th>title</th>\n",
       "      <th>text</th>\n",
       "      <th>date_posted</th>\n",
       "      <th>upvotes</th>\n",
       "      <th>comments</th>\n",
       "      <th>url</th>\n",
       "      <th>permalink</th>\n",
       "    </tr>\n",
       "  </thead>\n",
       "  <tbody>\n",
       "    <tr>\n",
       "      <th>0</th>\n",
       "      <td>Kenya</td>\n",
       "      <td>donors</td>\n",
       "      <td>Dear Gentle Readers</td>\n",
       "      <td>Good morning my gentle readers Today I have a ...</td>\n",
       "      <td>2025-05-30</td>\n",
       "      <td>61</td>\n",
       "      <td>74</td>\n",
       "      <td>https://www.reddit.com/r/Kenya/comments/1kyxeb...</td>\n",
       "      <td>https://reddit.com/r/Kenya/comments/1kyxebr/de...</td>\n",
       "    </tr>\n",
       "    <tr>\n",
       "      <th>1</th>\n",
       "      <td>Kenya</td>\n",
       "      <td>USAID, USAID Repercussions</td>\n",
       "      <td>USAID Repercussions + Economy</td>\n",
       "      <td>My neighbour’s wife was a very big shot in USA...</td>\n",
       "      <td>2025-05-14</td>\n",
       "      <td>14</td>\n",
       "      <td>33</td>\n",
       "      <td>https://www.reddit.com/r/Kenya/comments/1kmhn8...</td>\n",
       "      <td>https://reddit.com/r/Kenya/comments/1kmhn87/us...</td>\n",
       "    </tr>\n",
       "    <tr>\n",
       "      <th>2</th>\n",
       "      <td>Kenya</td>\n",
       "      <td>Trump cuts</td>\n",
       "      <td>Bill Gates 'horrified' by Trump cuts to US aid...</td>\n",
       "      <td>MISSING</td>\n",
       "      <td>2025-05-08</td>\n",
       "      <td>1</td>\n",
       "      <td>1</td>\n",
       "      <td>https://www.semafor.com/article/05/08/2025/bil...</td>\n",
       "      <td>https://reddit.com/r/Kenya/comments/1khpakg/bi...</td>\n",
       "    </tr>\n",
       "    <tr>\n",
       "      <th>3</th>\n",
       "      <td>Kenya</td>\n",
       "      <td>foreign aid, foreign aid</td>\n",
       "      <td>Foreign aid/Philanthropy</td>\n",
       "      <td>I see the aid or philanthropic activities that...</td>\n",
       "      <td>2025-04-27</td>\n",
       "      <td>1</td>\n",
       "      <td>0</td>\n",
       "      <td>https://www.reddit.com/r/Kenya/comments/1k91v5...</td>\n",
       "      <td>https://reddit.com/r/Kenya/comments/1k91v58/fo...</td>\n",
       "    </tr>\n",
       "    <tr>\n",
       "      <th>4</th>\n",
       "      <td>Kenya</td>\n",
       "      <td>USAID</td>\n",
       "      <td>USAID left a month ago, do we have ARVs in Kenya?</td>\n",
       "      <td>Someone on a different group (different websit...</td>\n",
       "      <td>2025-04-15</td>\n",
       "      <td>3</td>\n",
       "      <td>5</td>\n",
       "      <td>https://www.reddit.com/r/Kenya/comments/1jzrn2...</td>\n",
       "      <td>https://reddit.com/r/Kenya/comments/1jzrn2s/us...</td>\n",
       "    </tr>\n",
       "  </tbody>\n",
       "</table>\n",
       "</div>"
      ],
      "text/plain": [
       "  subreddit                     keyword  \\\n",
       "0     Kenya                      donors   \n",
       "1     Kenya  USAID, USAID Repercussions   \n",
       "2     Kenya                  Trump cuts   \n",
       "3     Kenya    foreign aid, foreign aid   \n",
       "4     Kenya                       USAID   \n",
       "\n",
       "                                               title  \\\n",
       "0                                Dear Gentle Readers   \n",
       "1                      USAID Repercussions + Economy   \n",
       "2  Bill Gates 'horrified' by Trump cuts to US aid...   \n",
       "3                           Foreign aid/Philanthropy   \n",
       "4  USAID left a month ago, do we have ARVs in Kenya?   \n",
       "\n",
       "                                                text date_posted  upvotes  \\\n",
       "0  Good morning my gentle readers Today I have a ...  2025-05-30       61   \n",
       "1  My neighbour’s wife was a very big shot in USA...  2025-05-14       14   \n",
       "2                                            MISSING  2025-05-08        1   \n",
       "3  I see the aid or philanthropic activities that...  2025-04-27        1   \n",
       "4  Someone on a different group (different websit...  2025-04-15        3   \n",
       "\n",
       "   comments                                                url  \\\n",
       "0        74  https://www.reddit.com/r/Kenya/comments/1kyxeb...   \n",
       "1        33  https://www.reddit.com/r/Kenya/comments/1kmhn8...   \n",
       "2         1  https://www.semafor.com/article/05/08/2025/bil...   \n",
       "3         0  https://www.reddit.com/r/Kenya/comments/1k91v5...   \n",
       "4         5  https://www.reddit.com/r/Kenya/comments/1jzrn2...   \n",
       "\n",
       "                                           permalink  \n",
       "0  https://reddit.com/r/Kenya/comments/1kyxebr/de...  \n",
       "1  https://reddit.com/r/Kenya/comments/1kmhn87/us...  \n",
       "2  https://reddit.com/r/Kenya/comments/1khpakg/bi...  \n",
       "3  https://reddit.com/r/Kenya/comments/1k91v58/fo...  \n",
       "4  https://reddit.com/r/Kenya/comments/1jzrn2s/us...  "
      ]
     },
     "execution_count": 13,
     "metadata": {},
     "output_type": "execute_result"
    }
   ],
   "source": [
    "reddit_df['date_posted'] = pd.to_datetime(reddit_df['date_posted'])\n",
    "reddit_df.head()"
   ]
  },
  {
   "cell_type": "code",
   "execution_count": 14,
   "id": "2f302c1a",
   "metadata": {},
   "outputs": [
    {
     "name": "stdout",
     "output_type": "stream",
     "text": [
      "My neighbour’s wife was a very big shot in USAID and has now lost her job. Children have been removed from big private school. Husband is a big guy at PWC. Lifestyle changes are occurring rapidly as her income has vanished. Thousands of her USAID coworkers were sent home with no salaries. USAID Vendors, contractors, non-profits that received funding from them have all been left in a lurch. Sasa machozi zimeanza. Next is empty apartments around “high class” areas. UN is laying people off left right and center. Additionally, public assistance programs in the Europe and America are being slashed so remittances by a certain sector are falling. If you think things are hard, ngojeni mpaka December. A lot of your highlife hotspots are about to close. A lot of these restaurants are about to close. Crime shall return so please rudini mashambani mulime. Avoid Mombasa, Lamu and malls.\n"
     ]
    }
   ],
   "source": [
    "example = reddit_df['text'][1]\n",
    "print(example)"
   ]
  },
  {
   "cell_type": "code",
   "execution_count": 15,
   "id": "2445a9f7",
   "metadata": {},
   "outputs": [],
   "source": [
    "import nltk"
   ]
  },
  {
   "cell_type": "code",
   "execution_count": null,
   "id": "cd2602ec",
   "metadata": {},
   "outputs": [],
   "source": []
  }
 ],
 "metadata": {
  "kernelspec": {
   "display_name": "Python 3 (ipykernel)",
   "language": "python",
   "name": "python3"
  },
  "language_info": {
   "codemirror_mode": {
    "name": "ipython",
    "version": 3
   },
   "file_extension": ".py",
   "mimetype": "text/x-python",
   "name": "python",
   "nbconvert_exporter": "python",
   "pygments_lexer": "ipython3",
   "version": "3.9.7"
  }
 },
 "nbformat": 4,
 "nbformat_minor": 5
}
