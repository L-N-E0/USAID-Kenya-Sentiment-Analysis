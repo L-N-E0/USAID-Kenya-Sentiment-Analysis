{
 "cells": [
  {
   "cell_type": "markdown",
   "id": "178349ba",
   "metadata": {},
   "source": [
    "## Twitter data"
   ]
  },
  {
   "cell_type": "code",
   "execution_count": 5,
   "id": "0b3df6c3",
   "metadata": {},
   "outputs": [],
   "source": [
    "# import snscrape.modules.twitter as sntwitter\n",
    "# import pandas as pd\n",
    "# from datetime import datetime\n"
   ]
  },
  {
   "cell_type": "markdown",
   "id": "cb023c7c",
   "metadata": {},
   "source": [
    "## Reddit data"
   ]
  },
  {
   "cell_type": "code",
   "execution_count": 12,
   "id": "ad78476f",
   "metadata": {},
   "outputs": [],
   "source": [
    "# import praw\n",
    "# import pandas as pd\n",
    "\n",
    "# reddit = praw.Reddit(\n",
    "#     client_id=\"q26srqfC_tsuXW4rmWd6Vw\",\n",
    "#     client_secret=\"NKagGi5OYL0YwhvDQ6d8fYWW1jEjLA\",\n",
    "#     username=\"Last-Breath4290\",\n",
    "#     password=\"32547123@Simba@\",\n",
    "#     user_agent=\"usaid-sentiment-analysis by u/Last-Breath4290\"\n",
    "# )\n",
    "\n",
    "# print(\"Logged in as:\", reddit.user.me())\n"
   ]
  }
 ],
 "metadata": {
  "kernelspec": {
   "display_name": "base",
   "language": "python",
   "name": "python3"
  },
  "language_info": {
   "codemirror_mode": {
    "name": "ipython",
    "version": 3
   },
   "file_extension": ".py",
   "mimetype": "text/x-python",
   "name": "python",
   "nbconvert_exporter": "python",
   "pygments_lexer": "ipython3",
   "version": "3.12.7"
  }
 },
 "nbformat": 4,
 "nbformat_minor": 5
}
